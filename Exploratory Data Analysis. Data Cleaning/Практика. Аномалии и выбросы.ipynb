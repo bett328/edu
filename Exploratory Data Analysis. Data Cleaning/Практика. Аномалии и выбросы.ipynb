{
 "cells": [
  {
   "cell_type": "markdown",
   "id": "09a9af24",
   "metadata": {
    "id": "09a9af24",
    "pycharm": {
     "name": "#%% md\n"
    }
   },
   "source": [
    "# Аномалии и выбросы. Практическая работа"
   ]
  },
  {
   "cell_type": "markdown",
   "id": "462864db",
   "metadata": {
    "ExecuteTime": {
     "end_time": "2022-01-30T20:34:53.684146Z",
     "start_time": "2022-01-30T20:34:53.641740Z"
    },
    "id": "462864db",
    "pycharm": {
     "name": "#%% md\n"
    }
   },
   "source": [
    "### Задача. Исследование выбросов с использованием правила трёх сигм\n",
    "\n",
    "1. Загрузите датасет из `test_outliers.csv` и выведите первые пять записей.\n",
    "\n"
   ]
  },
  {
   "cell_type": "code",
   "execution_count": 1,
   "id": "0de3b626",
   "metadata": {
    "id": "0de3b626",
    "pycharm": {
     "name": "#%%\n"
    }
   },
   "outputs": [],
   "source": [
    "import pandas as pd"
   ]
  },
  {
   "cell_type": "code",
   "execution_count": 4,
   "outputs": [
    {
     "data": {
      "text/plain": "       value\n0      -71.0\n1      141.0\n2      104.0\n3      116.0\n4      214.0\n...      ...\n10995  164.0\n10996   84.0\n10997   91.0\n10998 -231.0\n10999 -171.0\n\n[11000 rows x 1 columns]",
      "text/html": "<div>\n<style scoped>\n    .dataframe tbody tr th:only-of-type {\n        vertical-align: middle;\n    }\n\n    .dataframe tbody tr th {\n        vertical-align: top;\n    }\n\n    .dataframe thead th {\n        text-align: right;\n    }\n</style>\n<table border=\"1\" class=\"dataframe\">\n  <thead>\n    <tr style=\"text-align: right;\">\n      <th></th>\n      <th>value</th>\n    </tr>\n  </thead>\n  <tbody>\n    <tr>\n      <th>0</th>\n      <td>-71.0</td>\n    </tr>\n    <tr>\n      <th>1</th>\n      <td>141.0</td>\n    </tr>\n    <tr>\n      <th>2</th>\n      <td>104.0</td>\n    </tr>\n    <tr>\n      <th>3</th>\n      <td>116.0</td>\n    </tr>\n    <tr>\n      <th>4</th>\n      <td>214.0</td>\n    </tr>\n    <tr>\n      <th>...</th>\n      <td>...</td>\n    </tr>\n    <tr>\n      <th>10995</th>\n      <td>164.0</td>\n    </tr>\n    <tr>\n      <th>10996</th>\n      <td>84.0</td>\n    </tr>\n    <tr>\n      <th>10997</th>\n      <td>91.0</td>\n    </tr>\n    <tr>\n      <th>10998</th>\n      <td>-231.0</td>\n    </tr>\n    <tr>\n      <th>10999</th>\n      <td>-171.0</td>\n    </tr>\n  </tbody>\n</table>\n<p>11000 rows × 1 columns</p>\n</div>"
     },
     "execution_count": 4,
     "metadata": {},
     "output_type": "execute_result"
    }
   ],
   "source": [
    "df = pd.read_csv('test_outliers.csv', sep=',')\n",
    "df"
   ],
   "metadata": {
    "collapsed": false,
    "pycharm": {
     "name": "#%%\n"
    }
   }
  },
  {
   "cell_type": "markdown",
   "id": "fadcffa0",
   "metadata": {
    "id": "fadcffa0",
    "pycharm": {
     "name": "#%% md\n"
    }
   },
   "source": [
    "2. Выведите описательные статистики для признака `value`.\n"
   ]
  },
  {
   "cell_type": "code",
   "execution_count": 8,
   "id": "65adcd53",
   "metadata": {
    "ExecuteTime": {
     "end_time": "2022-01-30T20:37:32.872075Z",
     "start_time": "2022-01-30T20:37:32.867549Z"
    },
    "id": "65adcd53",
    "pycharm": {
     "name": "#%%\n"
    }
   },
   "outputs": [
    {
     "data": {
      "text/plain": "count    11000.000000\nmean        66.669455\nstd        235.722382\nmin       -439.000000\n25%        -62.000000\n50%         11.000000\n75%         93.000000\nmax        800.000000\nName: value, dtype: float64"
     },
     "execution_count": 8,
     "metadata": {},
     "output_type": "execute_result"
    }
   ],
   "source": [
    "df.value.describe()"
   ]
  },
  {
   "cell_type": "markdown",
   "id": "604ccf74",
   "metadata": {
    "id": "604ccf74",
    "pycharm": {
     "name": "#%% md\n"
    }
   },
   "source": [
    "3. Выведите границы для нормальных значений признака, используя правило трёх сигм. Напишите функцию `calculate_outliers_3sigma` для расчёта границ самостоятельно. Посмотрите, входят ли минимальное и максимальное значения в интервал между полученными границами.\n"
   ]
  },
  {
   "cell_type": "code",
   "execution_count": 50,
   "id": "d6e8d428",
   "metadata": {
    "id": "d6e8d428",
    "pycharm": {
     "name": "#%%\n"
    }
   },
   "outputs": [
    {
     "data": {
      "text/plain": "(-640.4976903233797, 773.8365994142888)"
     },
     "execution_count": 50,
     "metadata": {},
     "output_type": "execute_result"
    }
   ],
   "source": [
    "def calculate_outliers_3sigma(df):\n",
    "    low_boundary = float(df.mean() - 3 * df.std())\n",
    "    high_boundary = float(df.mean() + 3 * df.std())\n",
    "    boundaries = (low_boundary, high_boundary)\n",
    "\n",
    "    return boundaries\n",
    "\n",
    "boundaries = calculate_outliers_3sigma(df.value)\n",
    "boundaries"
   ]
  },
  {
   "cell_type": "markdown",
   "id": "6ce54244",
   "metadata": {
    "id": "6ce54244",
    "pycharm": {
     "name": "#%% md\n"
    }
   },
   "source": [
    "4. Посчитайте и выведите количество выбросов в признаке."
   ]
  },
  {
   "cell_type": "code",
   "execution_count": 49,
   "id": "ccd33c76",
   "metadata": {
    "id": "ccd33c76",
    "pycharm": {
     "name": "#%%\n"
    }
   },
   "outputs": [
    {
     "name": "stdout",
     "output_type": "stream",
     "text": [
      "Количество выбросов: 226\n"
     ]
    }
   ],
   "source": [
    "is_outliers = (df['value'] < boundaries[0]) | (df['value'] > boundaries[1])\n",
    "print(\"Количество выбросов:\", is_outlier.sum())"
   ]
  },
  {
   "cell_type": "markdown",
   "metadata": {
    "id": "8fd01ee3",
    "pycharm": {
     "name": "#%% md\n"
    }
   },
   "source": [
    "|"
   ],
   "id": "8fd01ee3"
  },
  {
   "cell_type": "markdown",
   "metadata": {
    "id": "0c1e9979",
    "pycharm": {
     "name": "#%% md\n"
    }
   },
   "source": [
    "|"
   ],
   "id": "0c1e9979"
  },
  {
   "cell_type": "markdown",
   "metadata": {
    "id": "a13d13fe",
    "pycharm": {
     "name": "#%% md\n"
    }
   },
   "source": [
    "|"
   ],
   "id": "a13d13fe"
  },
  {
   "cell_type": "markdown",
   "metadata": {
    "id": "8c6885b8",
    "pycharm": {
     "name": "#%% md\n"
    }
   },
   "source": [
    "|"
   ],
   "id": "8c6885b8"
  },
  {
   "cell_type": "markdown",
   "metadata": {
    "id": "5f3348cd",
    "pycharm": {
     "name": "#%% md\n"
    }
   },
   "source": [
    "|"
   ],
   "id": "5f3348cd"
  },
  {
   "cell_type": "markdown",
   "metadata": {
    "id": "373ff286",
    "pycharm": {
     "name": "#%% md\n"
    }
   },
   "source": [
    "|"
   ],
   "id": "373ff286"
  },
  {
   "cell_type": "markdown",
   "metadata": {
    "id": "560dba2c",
    "pycharm": {
     "name": "#%% md\n"
    }
   },
   "source": [
    "|"
   ],
   "id": "560dba2c"
  },
  {
   "cell_type": "markdown",
   "metadata": {
    "id": "6c177fc8",
    "pycharm": {
     "name": "#%% md\n"
    }
   },
   "source": [
    "|"
   ],
   "id": "6c177fc8"
  },
  {
   "cell_type": "markdown",
   "metadata": {
    "id": "257957de",
    "pycharm": {
     "name": "#%% md\n"
    }
   },
   "source": [
    "|"
   ],
   "id": "257957de"
  },
  {
   "cell_type": "markdown",
   "metadata": {
    "id": "68936b5e",
    "pycharm": {
     "name": "#%% md\n"
    }
   },
   "source": [
    "|"
   ],
   "id": "68936b5e"
  },
  {
   "cell_type": "markdown",
   "metadata": {
    "id": "56a858fb",
    "pycharm": {
     "name": "#%% md\n"
    }
   },
   "source": [
    "|"
   ],
   "id": "56a858fb"
  },
  {
   "cell_type": "markdown",
   "metadata": {
    "id": "b276de09",
    "pycharm": {
     "name": "#%% md\n"
    }
   },
   "source": [
    "|"
   ],
   "id": "b276de09"
  },
  {
   "cell_type": "markdown",
   "metadata": {
    "id": "af8ecbeb",
    "pycharm": {
     "name": "#%% md\n"
    }
   },
   "source": [
    "|"
   ],
   "id": "af8ecbeb"
  },
  {
   "cell_type": "markdown",
   "metadata": {
    "id": "4aa0ea8b",
    "pycharm": {
     "name": "#%% md\n"
    }
   },
   "source": [
    "|"
   ],
   "id": "4aa0ea8b"
  },
  {
   "cell_type": "markdown",
   "metadata": {
    "id": "6979f442",
    "pycharm": {
     "name": "#%% md\n"
    }
   },
   "source": [
    "|"
   ],
   "id": "6979f442"
  },
  {
   "cell_type": "markdown",
   "metadata": {
    "id": "4d6ecee1",
    "pycharm": {
     "name": "#%% md\n"
    }
   },
   "source": [
    "|"
   ],
   "id": "4d6ecee1"
  },
  {
   "cell_type": "markdown",
   "metadata": {
    "id": "e26fa275",
    "pycharm": {
     "name": "#%% md\n"
    }
   },
   "source": [
    "|"
   ],
   "id": "e26fa275"
  },
  {
   "cell_type": "markdown",
   "metadata": {
    "id": "e3baf5ae",
    "pycharm": {
     "name": "#%% md\n"
    }
   },
   "source": [
    "|"
   ],
   "id": "e3baf5ae"
  },
  {
   "cell_type": "markdown",
   "metadata": {
    "id": "2a061fe6",
    "pycharm": {
     "name": "#%% md\n"
    }
   },
   "source": [
    "**Ответы для самостоятельной проверки**"
   ],
   "id": "2a061fe6"
  },
  {
   "cell_type": "code",
   "execution_count": null,
   "id": "fd0db051",
   "metadata": {
    "ExecuteTime": {
     "end_time": "2022-01-30T20:37:31.205098Z",
     "start_time": "2022-01-30T20:37:31.182298Z"
    },
    "id": "fd0db051",
    "outputId": "78d8589b-bbfc-40f4-a620-35785cc79d59",
    "pycharm": {
     "name": "#%%\n"
    }
   },
   "outputs": [
    {
     "data": {
      "text/html": [
       "<div>\n",
       "<style scoped>\n",
       "    .dataframe tbody tr th:only-of-type {\n",
       "        vertical-align: middle;\n",
       "    }\n",
       "\n",
       "    .dataframe tbody tr th {\n",
       "        vertical-align: top;\n",
       "    }\n",
       "\n",
       "    .dataframe thead th {\n",
       "        text-align: right;\n",
       "    }\n",
       "</style>\n",
       "<table border=\"1\" class=\"dataframe\">\n",
       "  <thead>\n",
       "    <tr style=\"text-align: right;\">\n",
       "      <th></th>\n",
       "      <th>value</th>\n",
       "    </tr>\n",
       "  </thead>\n",
       "  <tbody>\n",
       "    <tr>\n",
       "      <th>0</th>\n",
       "      <td>-71.0</td>\n",
       "    </tr>\n",
       "    <tr>\n",
       "      <th>1</th>\n",
       "      <td>141.0</td>\n",
       "    </tr>\n",
       "    <tr>\n",
       "      <th>2</th>\n",
       "      <td>104.0</td>\n",
       "    </tr>\n",
       "    <tr>\n",
       "      <th>3</th>\n",
       "      <td>116.0</td>\n",
       "    </tr>\n",
       "    <tr>\n",
       "      <th>4</th>\n",
       "      <td>214.0</td>\n",
       "    </tr>\n",
       "  </tbody>\n",
       "</table>\n",
       "</div>"
      ],
      "text/plain": [
       "   value\n",
       "0  -71.0\n",
       "1  141.0\n",
       "2  104.0\n",
       "3  116.0\n",
       "4  214.0"
      ]
     },
     "execution_count": 97,
     "metadata": {},
     "output_type": "execute_result"
    }
   ],
   "source": [
    "# 1\n",
    "\n",
    "df_test = pd.read_csv('data/test_outliers.csv')\n",
    "df_test.head()"
   ]
  },
  {
   "cell_type": "code",
   "execution_count": null,
   "metadata": {
    "ExecuteTime": {
     "end_time": "2022-01-30T20:37:33.290180Z",
     "start_time": "2022-01-30T20:37:33.263020Z"
    },
    "outputId": "568bf01f-c8d1-408d-cc87-b7a9413cb919",
    "id": "3xzh41WnRKXz",
    "pycharm": {
     "name": "#%%\n"
    }
   },
   "outputs": [
    {
     "data": {
      "text/plain": [
       "count    11000.000000\n",
       "mean        66.669455\n",
       "std        235.722382\n",
       "min       -439.000000\n",
       "25%        -62.000000\n",
       "50%         11.000000\n",
       "75%         93.000000\n",
       "max        800.000000\n",
       "Name: value, dtype: float64"
      ]
     },
     "execution_count": 99,
     "metadata": {},
     "output_type": "execute_result"
    }
   ],
   "source": [
    "# 2\n",
    "\n",
    "df_test['value'].describe()"
   ],
   "id": "3xzh41WnRKXz"
  },
  {
   "cell_type": "code",
   "execution_count": null,
   "metadata": {
    "ExecuteTime": {
     "end_time": "2022-01-30T20:46:47.006284Z",
     "start_time": "2022-01-30T20:46:46.989083Z"
    },
    "outputId": "a65fabea-1d77-4ee2-f73e-6d9cc4cc78f1",
    "id": "bxUzcI1BRMMG",
    "pycharm": {
     "name": "#%%\n"
    }
   },
   "outputs": [
    {
     "name": "stdout",
     "output_type": "stream",
     "text": [
      "Границы для нормальных значений года выпуска, используя правило 3х сигм: (-640.4976903233794, 773.8365994142885)\n"
     ]
    }
   ],
   "source": [
    "# 3\n",
    "\n",
    "def calculate_outliers_3sigma(data):\n",
    "    low = data.mean() - 3 * data.std()\n",
    "    high = data.mean() + 3 * data.std()\n",
    "    boundaries = (low, high)\n",
    "    \n",
    "    return boundaries\n",
    "\n",
    "boundaries = calculate_outliers_3sigma(df.value)\n",
    "\n",
    "print(\"Границы для нормальных значений года выпуска, используя правило 3х сигм:\", boundaries)"
   ],
   "id": "bxUzcI1BRMMG"
  },
  {
   "cell_type": "code",
   "execution_count": null,
   "metadata": {
    "ExecuteTime": {
     "end_time": "2022-01-30T20:48:28.106688Z",
     "start_time": "2022-01-30T20:48:28.053942Z"
    },
    "outputId": "5bd2575b-6ed8-4dc6-afe9-2926f0fd893d",
    "id": "GaTBA9ZeROqE",
    "pycharm": {
     "name": "#%%\n"
    }
   },
   "outputs": [
    {
     "name": "stdout",
     "output_type": "stream",
     "text": [
      "Количество выбросов: 226\n"
     ]
    }
   ],
   "source": [
    "# 4\n",
    "\n",
    "is_outlier = (df_test['value'] < boundaries[0]) | (df_test['value'] > boundaries[1]) \n",
    "print(\"Количество выбросов:\", is_outlier.sum()) "
   ],
   "id": "GaTBA9ZeROqE"
  }
 ],
 "metadata": {
  "kernelspec": {
   "display_name": "Python 3",
   "language": "python",
   "name": "python3"
  },
  "language_info": {
   "codemirror_mode": {
    "name": "ipython",
    "version": 3
   },
   "file_extension": ".py",
   "mimetype": "text/x-python",
   "name": "python",
   "nbconvert_exporter": "python",
   "pygments_lexer": "ipython3",
   "version": "3.8.8"
  },
  "toc": {
   "base_numbering": 1,
   "nav_menu": {},
   "number_sections": true,
   "sideBar": true,
   "skip_h1_title": false,
   "title_cell": "Table of Contents",
   "title_sidebar": "Contents",
   "toc_cell": false,
   "toc_position": {},
   "toc_section_display": true,
   "toc_window_display": false
  },
  "colab": {
   "name": "18.4_Практика.ipynb",
   "provenance": [],
   "collapsed_sections": []
  }
 },
 "nbformat": 4,
 "nbformat_minor": 5
}