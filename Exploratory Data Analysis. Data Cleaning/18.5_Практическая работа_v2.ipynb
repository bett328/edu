{
 "cells": [
  {
   "cell_type": "markdown",
   "id": "09a9af24",
   "metadata": {
    "id": "09a9af24",
    "pycharm": {
     "name": "#%% md\n"
    }
   },
   "source": [
    "# Разведочный анализ данных: Data Cleaning. Практическая работа"
   ]
  },
  {
   "cell_type": "markdown",
   "id": "7d354813",
   "metadata": {
    "id": "7d354813",
    "pycharm": {
     "name": "#%% md\n"
    }
   },
   "source": [
    "## Цели практической работы\n",
    "* Потренироваться выявлять и заполнять пропущенные значения в данных.\n",
    "* Потренироваться преобразовывать типы данных.\n",
    "* Потренироваться выявлять и обрабатывать аномальные значения в данных.\n",
    "* Подготовить датафрейм к этапу генерации признаков.\n",
    "\n"
   ]
  },
  {
   "cell_type": "markdown",
   "id": "fa433432",
   "metadata": {
    "id": "fa433432",
    "pycharm": {
     "name": "#%% md\n"
    }
   },
   "source": [
    "## Задача\n",
    "\n",
    "В этой практической работе вы продолжите исследовать и готовить данные для этапа моделирования: заполнять пропущенные значения в некоторых переменных, изменять типы данных и обрабатывать выбросы.\n",
    "\n",
    "Напомним, что вы работаете с небольшой выборкой из коллекции подержанных автомобилей, выставленных на продажу в Соединённых Штатах. На этих данных вы построите первую модель классификации, определяющую категорию цены подержанного автомобиля в зависимости от характеристик транспортного средства.\n",
    "\n",
    "## Описание датасета:\n",
    "- `id`: идентификатор записи;\n",
    "- `url`: URL записи о продаже;\n",
    "- `region`: регион;\n",
    "- `region_url`: URL региона;\n",
    "- `price`: стоимость;\n",
    "- `year`: год выпуска;\n",
    "- `manufacturer`: производитель;\n",
    "- `model`: модель;\n",
    "- `condition`: состояние;\n",
    "- `cylinders`: количество цилиндров;\n",
    "- `fuel`: тип топлива;\n",
    "- `odometer`: количество пройденных миль;\n",
    "- `title_status`: статус;\n",
    "- `transmission`: коробка передач;\n",
    "- `VIN`: идентификационный номер;\n",
    "- `drive`: тип привода;\n",
    "- `size`: размер;\n",
    "- `type`: кузов;\n",
    "- `paint_color`: цвет;\n",
    "- `image_url`: URL изображения;\n",
    "- `description`: указанное описание;\n",
    "- `county`: страна;\n",
    "- `state`: штат;\n",
    "- `lat`: широта;\n",
    "- `long`: долгота;\n",
    "- `posting_date`: дата размещения объявления о продаже;\n",
    "- `price_category`: категория цены.\n"
   ]
  },
  {
   "cell_type": "markdown",
   "id": "a2bd5ce3",
   "metadata": {
    "id": "a2bd5ce3",
    "pycharm": {
     "name": "#%% md\n"
    }
   },
   "source": [
    "## Что входит в практическую работу\n",
    "1. Загрузить датасет и ознакомиться с ним.\n",
    "2. Исследовать переменные датасета на наличие пропусков.\n",
    "3. Обработать пропуски в зависимости от типа переменной.\n",
    "4. Изменить типы данных.\n",
    "5. Исследовать данные на аномальные значения и скорректировать выбросы."
   ]
  },
  {
   "cell_type": "markdown",
   "id": "9320387e",
   "metadata": {
    "id": "9320387e",
    "pycharm": {
     "name": "#%% md\n"
    }
   },
   "source": [
    "## Что оценивается\n",
    "- Программа выдаёт верный ответ на заданном наборе данных.\n",
    "- Описаны причины выбранного решения, если требуется.\n",
    "- Код читабелен: переменным даны осмысленные названия, отступы и правила расстановки пробелов соблюдены.\n",
    "- Репозиторий проекта содержит осмысленные коммиты с конкретными реализованными фичами, ветки названы согласно назначению, лишние файлы не хранятся в репозитории.\n",
    "- В репозитории проекта соблюдена иерархия директорий согласно списку модулей и содержащихся в них видеоматериалов.\n",
    "- Репозиторий проекта содержит файлы с данными, полученными в результате выполнения практической работы.\n",
    "\n",
    "\n"
   ]
  },
  {
   "cell_type": "markdown",
   "id": "fe2c1c43",
   "metadata": {
    "id": "fe2c1c43",
    "pycharm": {
     "name": "#%% md\n"
    }
   },
   "source": [
    "## Как отправить работу на проверку\n",
    "Сдайте практическую работу этого модуля через систему контроля версий Git сервиса Skillbox GitLab. После загрузки работы на проверку напишите об этом в личном кабинете своему куратору."
   ]
  },
  {
   "cell_type": "markdown",
   "id": "e572b1e8",
   "metadata": {
    "id": "e572b1e8",
    "pycharm": {
     "name": "#%% md\n"
    }
   },
   "source": [
    "## Обязательные задачи"
   ]
  },
  {
   "cell_type": "code",
   "execution_count": 129,
   "id": "f8b7e7f2",
   "metadata": {
    "ExecuteTime": {
     "end_time": "2022-01-27T23:32:05.731039Z",
     "start_time": "2022-01-27T23:32:05.727108Z"
    },
    "id": "f8b7e7f2",
    "pycharm": {
     "name": "#%%\n"
    }
   },
   "outputs": [],
   "source": [
    "# Импортируйте необходимые библиотеки\n",
    "import pandas as pd\n",
    "import missingno as msno"
   ]
  },
  {
   "cell_type": "markdown",
   "id": "9e9007d5",
   "metadata": {
    "ExecuteTime": {
     "end_time": "2022-01-28T23:12:51.463454Z",
     "start_time": "2022-01-28T23:12:51.458075Z"
    },
    "id": "9e9007d5",
    "pycharm": {
     "name": "#%% md\n"
    }
   },
   "source": [
    "### Задача 1. Загрузка датасета и ознакомление с количеством пропущенных значений\n",
    "\n",
    "1. Загрузите датасет из `data/df_out.csv` и выведите первые пять записей.\n",
    "\n"
   ]
  },
  {
   "cell_type": "code",
   "execution_count": 130,
   "id": "13da54e4",
   "metadata": {
    "ExecuteTime": {
     "end_time": "2022-01-28T23:13:27.330926Z",
     "start_time": "2022-01-28T23:13:27.327741Z"
    },
    "id": "13da54e4",
    "pycharm": {
     "name": "#%%\n"
    }
   },
   "outputs": [
    {
     "data": {
      "text/plain": "           id                                                url  \\\n0  7308295377  https://chattanooga.craigslist.org/ctd/d/chatt...   \n1  7316380095  https://newjersey.craigslist.org/ctd/d/carlsta...   \n2  7313733749  https://reno.craigslist.org/ctd/d/atlanta-2017...   \n3  7308210929  https://fayetteville.craigslist.org/ctd/d/rale...   \n4  7316474668  https://newyork.craigslist.org/lgi/cto/d/baldw...   \n\n          region                           region_url  price    year  \\\n0    chattanooga   https://chattanooga.craigslist.org  54990  2020.0   \n1   north jersey     https://newjersey.craigslist.org  16942  2016.0   \n2   reno / tahoe          https://reno.craigslist.org  35590  2017.0   \n3   fayetteville  https://fayetteville.craigslist.org  14500  2013.0   \n4  new york city       https://newyork.craigslist.org  21800  2021.0   \n\n  manufacturer                   model    fuel  odometer title_status  \\\n0          ram  2500 crew cab big horn  diesel     27442        clean   \n1         ford    explorer 4wd 4dr xlt     NaN     60023        clean   \n2   volkswagen        golf r hatchback     gas     14048        clean   \n3       toyota                    rav4     gas    117291        clean   \n4       nissan                  altima     gas      8000        clean   \n\n  transmission                                          image_url  \\\n0        other  https://images.craigslist.org/00N0N_1xMPvfxRAI...   \n1    automatic  https://images.craigslist.org/00x0x_26jl9F0cnL...   \n2        other  https://images.craigslist.org/00y0y_eeZjWeiSfb...   \n3    automatic  https://images.craigslist.org/00606_iGe5iXidib...   \n4    automatic  https://images.craigslist.org/00V0V_3pSOiPZ3Sd...   \n\n                                         description state        lat  \\\n0  Carvana is the safer way to buy a car During t...    tn  35.060000   \n1  ***Call Us for more information at: 201-635-14...    nj  40.821805   \n2  Carvana is the safer way to buy a car During t...    ca  33.779214   \n3  2013 Toyota RAV4 XLE 4dr SUV     Offered by: R...    nc  35.715954   \n4  2021 Nissan Altima Sv with Only 8 K Miles Titl...    ny  40.654800   \n\n        long              posting_date price_category  \\\n0 -85.250000  2021-04-17T12:30:50-0400           high   \n1 -74.061962  2021-05-03T15:40:21-0400         medium   \n2 -84.411811  2021-04-28T03:52:20-0700           high   \n3 -78.655304  2021-04-17T10:08:57-0400         medium   \n4 -73.609700  2021-05-03T18:32:06-0400         medium   \n\n                        date  \n0  2021-04-17 16:30:50+00:00  \n1  2021-05-03 19:40:21+00:00  \n2  2021-04-28 10:52:20+00:00  \n3  2021-04-17 14:08:57+00:00  \n4  2021-05-03 22:32:06+00:00  ",
      "text/html": "<div>\n<style scoped>\n    .dataframe tbody tr th:only-of-type {\n        vertical-align: middle;\n    }\n\n    .dataframe tbody tr th {\n        vertical-align: top;\n    }\n\n    .dataframe thead th {\n        text-align: right;\n    }\n</style>\n<table border=\"1\" class=\"dataframe\">\n  <thead>\n    <tr style=\"text-align: right;\">\n      <th></th>\n      <th>id</th>\n      <th>url</th>\n      <th>region</th>\n      <th>region_url</th>\n      <th>price</th>\n      <th>year</th>\n      <th>manufacturer</th>\n      <th>model</th>\n      <th>fuel</th>\n      <th>odometer</th>\n      <th>title_status</th>\n      <th>transmission</th>\n      <th>image_url</th>\n      <th>description</th>\n      <th>state</th>\n      <th>lat</th>\n      <th>long</th>\n      <th>posting_date</th>\n      <th>price_category</th>\n      <th>date</th>\n    </tr>\n  </thead>\n  <tbody>\n    <tr>\n      <th>0</th>\n      <td>7308295377</td>\n      <td>https://chattanooga.craigslist.org/ctd/d/chatt...</td>\n      <td>chattanooga</td>\n      <td>https://chattanooga.craigslist.org</td>\n      <td>54990</td>\n      <td>2020.0</td>\n      <td>ram</td>\n      <td>2500 crew cab big horn</td>\n      <td>diesel</td>\n      <td>27442</td>\n      <td>clean</td>\n      <td>other</td>\n      <td>https://images.craigslist.org/00N0N_1xMPvfxRAI...</td>\n      <td>Carvana is the safer way to buy a car During t...</td>\n      <td>tn</td>\n      <td>35.060000</td>\n      <td>-85.250000</td>\n      <td>2021-04-17T12:30:50-0400</td>\n      <td>high</td>\n      <td>2021-04-17 16:30:50+00:00</td>\n    </tr>\n    <tr>\n      <th>1</th>\n      <td>7316380095</td>\n      <td>https://newjersey.craigslist.org/ctd/d/carlsta...</td>\n      <td>north jersey</td>\n      <td>https://newjersey.craigslist.org</td>\n      <td>16942</td>\n      <td>2016.0</td>\n      <td>ford</td>\n      <td>explorer 4wd 4dr xlt</td>\n      <td>NaN</td>\n      <td>60023</td>\n      <td>clean</td>\n      <td>automatic</td>\n      <td>https://images.craigslist.org/00x0x_26jl9F0cnL...</td>\n      <td>***Call Us for more information at: 201-635-14...</td>\n      <td>nj</td>\n      <td>40.821805</td>\n      <td>-74.061962</td>\n      <td>2021-05-03T15:40:21-0400</td>\n      <td>medium</td>\n      <td>2021-05-03 19:40:21+00:00</td>\n    </tr>\n    <tr>\n      <th>2</th>\n      <td>7313733749</td>\n      <td>https://reno.craigslist.org/ctd/d/atlanta-2017...</td>\n      <td>reno / tahoe</td>\n      <td>https://reno.craigslist.org</td>\n      <td>35590</td>\n      <td>2017.0</td>\n      <td>volkswagen</td>\n      <td>golf r hatchback</td>\n      <td>gas</td>\n      <td>14048</td>\n      <td>clean</td>\n      <td>other</td>\n      <td>https://images.craigslist.org/00y0y_eeZjWeiSfb...</td>\n      <td>Carvana is the safer way to buy a car During t...</td>\n      <td>ca</td>\n      <td>33.779214</td>\n      <td>-84.411811</td>\n      <td>2021-04-28T03:52:20-0700</td>\n      <td>high</td>\n      <td>2021-04-28 10:52:20+00:00</td>\n    </tr>\n    <tr>\n      <th>3</th>\n      <td>7308210929</td>\n      <td>https://fayetteville.craigslist.org/ctd/d/rale...</td>\n      <td>fayetteville</td>\n      <td>https://fayetteville.craigslist.org</td>\n      <td>14500</td>\n      <td>2013.0</td>\n      <td>toyota</td>\n      <td>rav4</td>\n      <td>gas</td>\n      <td>117291</td>\n      <td>clean</td>\n      <td>automatic</td>\n      <td>https://images.craigslist.org/00606_iGe5iXidib...</td>\n      <td>2013 Toyota RAV4 XLE 4dr SUV     Offered by: R...</td>\n      <td>nc</td>\n      <td>35.715954</td>\n      <td>-78.655304</td>\n      <td>2021-04-17T10:08:57-0400</td>\n      <td>medium</td>\n      <td>2021-04-17 14:08:57+00:00</td>\n    </tr>\n    <tr>\n      <th>4</th>\n      <td>7316474668</td>\n      <td>https://newyork.craigslist.org/lgi/cto/d/baldw...</td>\n      <td>new york city</td>\n      <td>https://newyork.craigslist.org</td>\n      <td>21800</td>\n      <td>2021.0</td>\n      <td>nissan</td>\n      <td>altima</td>\n      <td>gas</td>\n      <td>8000</td>\n      <td>clean</td>\n      <td>automatic</td>\n      <td>https://images.craigslist.org/00V0V_3pSOiPZ3Sd...</td>\n      <td>2021 Nissan Altima Sv with Only 8 K Miles Titl...</td>\n      <td>ny</td>\n      <td>40.654800</td>\n      <td>-73.609700</td>\n      <td>2021-05-03T18:32:06-0400</td>\n      <td>medium</td>\n      <td>2021-05-03 22:32:06+00:00</td>\n    </tr>\n  </tbody>\n</table>\n</div>"
     },
     "execution_count": 130,
     "metadata": {},
     "output_type": "execute_result"
    }
   ],
   "source": [
    "# Ваш код здесь\n",
    "df_out = pd.read_csv('df_out.csv', sep=',')\n",
    "df_out.head()"
   ]
  },
  {
   "cell_type": "markdown",
   "id": "d629aed5",
   "metadata": {
    "ExecuteTime": {
     "end_time": "2022-01-29T23:13:02.420132Z",
     "start_time": "2022-01-29T23:13:02.380497Z"
    },
    "id": "d629aed5",
    "pycharm": {
     "name": "#%% md\n"
    }
   },
   "source": [
    "2. Выведите информацию о датафрейме и обратите внимание на оставшиеся незаполненные значения.\n"
   ]
  },
  {
   "cell_type": "code",
   "execution_count": 131,
   "id": "4e2fe561",
   "metadata": {
    "ExecuteTime": {
     "end_time": "2022-01-29T23:18:30.950823Z",
     "start_time": "2022-01-29T23:18:30.945640Z"
    },
    "id": "4e2fe561",
    "pycharm": {
     "name": "#%%\n"
    }
   },
   "outputs": [
    {
     "data": {
      "text/plain": "                 id         price         year      odometer          lat  \\\ncount  1.000000e+04  1.000000e+04  9964.000000   10000.00000  9902.000000   \nmean   7.311541e+09  2.067842e+04  2010.927941   93324.13400    38.594142   \nstd    4.477653e+06  1.246230e+05     9.672040   63181.17499     5.844895   \nmin    7.208550e+09  5.000000e+02  1915.000000       0.00000   -67.144243   \n25%    7.308189e+09  7.900000e+03  2008.000000   39147.25000    34.830368   \n50%    7.312757e+09  1.574950e+04  2013.000000   89000.00000    39.298522   \n75%    7.315274e+09  2.799000e+04  2017.000000  136875.00000    42.428070   \nmax    7.317090e+09  1.234568e+07  2022.000000  283466.00000    64.947500   \n\n              long  \ncount  9902.000000  \nmean    -94.165877  \nstd      18.128504  \nmin    -158.069300  \n25%    -110.322086  \n50%     -88.000050  \n75%     -80.830000  \nmax     173.885502  ",
      "text/html": "<div>\n<style scoped>\n    .dataframe tbody tr th:only-of-type {\n        vertical-align: middle;\n    }\n\n    .dataframe tbody tr th {\n        vertical-align: top;\n    }\n\n    .dataframe thead th {\n        text-align: right;\n    }\n</style>\n<table border=\"1\" class=\"dataframe\">\n  <thead>\n    <tr style=\"text-align: right;\">\n      <th></th>\n      <th>id</th>\n      <th>price</th>\n      <th>year</th>\n      <th>odometer</th>\n      <th>lat</th>\n      <th>long</th>\n    </tr>\n  </thead>\n  <tbody>\n    <tr>\n      <th>count</th>\n      <td>1.000000e+04</td>\n      <td>1.000000e+04</td>\n      <td>9964.000000</td>\n      <td>10000.00000</td>\n      <td>9902.000000</td>\n      <td>9902.000000</td>\n    </tr>\n    <tr>\n      <th>mean</th>\n      <td>7.311541e+09</td>\n      <td>2.067842e+04</td>\n      <td>2010.927941</td>\n      <td>93324.13400</td>\n      <td>38.594142</td>\n      <td>-94.165877</td>\n    </tr>\n    <tr>\n      <th>std</th>\n      <td>4.477653e+06</td>\n      <td>1.246230e+05</td>\n      <td>9.672040</td>\n      <td>63181.17499</td>\n      <td>5.844895</td>\n      <td>18.128504</td>\n    </tr>\n    <tr>\n      <th>min</th>\n      <td>7.208550e+09</td>\n      <td>5.000000e+02</td>\n      <td>1915.000000</td>\n      <td>0.00000</td>\n      <td>-67.144243</td>\n      <td>-158.069300</td>\n    </tr>\n    <tr>\n      <th>25%</th>\n      <td>7.308189e+09</td>\n      <td>7.900000e+03</td>\n      <td>2008.000000</td>\n      <td>39147.25000</td>\n      <td>34.830368</td>\n      <td>-110.322086</td>\n    </tr>\n    <tr>\n      <th>50%</th>\n      <td>7.312757e+09</td>\n      <td>1.574950e+04</td>\n      <td>2013.000000</td>\n      <td>89000.00000</td>\n      <td>39.298522</td>\n      <td>-88.000050</td>\n    </tr>\n    <tr>\n      <th>75%</th>\n      <td>7.315274e+09</td>\n      <td>2.799000e+04</td>\n      <td>2017.000000</td>\n      <td>136875.00000</td>\n      <td>42.428070</td>\n      <td>-80.830000</td>\n    </tr>\n    <tr>\n      <th>max</th>\n      <td>7.317090e+09</td>\n      <td>1.234568e+07</td>\n      <td>2022.000000</td>\n      <td>283466.00000</td>\n      <td>64.947500</td>\n      <td>173.885502</td>\n    </tr>\n  </tbody>\n</table>\n</div>"
     },
     "execution_count": 131,
     "metadata": {},
     "output_type": "execute_result"
    }
   ],
   "source": [
    "# Ваш код здесь\n",
    "df_out.describe()"
   ]
  },
  {
   "cell_type": "code",
   "execution_count": 132,
   "outputs": [
    {
     "data": {
      "text/plain": "<Axes: >"
     },
     "execution_count": 132,
     "metadata": {},
     "output_type": "execute_result"
    },
    {
     "data": {
      "text/plain": "<Figure size 2500x1000 with 2 Axes>",
      "image/png": "[encoded data removed]"
     },
     "metadata": {},
     "output_type": "display_data"
    }
   ],
   "source": [
    "msno.matrix(df_out)"
   ],
   "metadata": {
    "collapsed": false,
    "pycharm": {
     "name": "#%%\n"
    }
   }
  },
  {
   "cell_type": "markdown",
   "id": "cda8be60",
   "metadata": {
    "id": "cda8be60",
    "pycharm": {
     "name": "#%% md\n"
    }
   },
   "source": [
    "3. Выведите количество полностью заполненных объектов и их процент из всей выборки. Воспользуйтесь материалами из видео.\n"
   ]
  },
  {
   "cell_type": "code",
   "execution_count": 133,
   "id": "c891d00d",
   "metadata": {
    "ExecuteTime": {
     "end_time": "2022-01-29T23:18:38.209381Z",
     "start_time": "2022-01-29T23:18:38.206248Z"
    },
    "id": "c891d00d",
    "pycharm": {
     "name": "#%%\n"
    }
   },
   "outputs": [
    {
     "name": "stdout",
     "output_type": "stream",
     "text": [
      "Количество полностью заполненных объектов: 9507\n",
      "Процент полностью заполненных объектов от всей выборки: 95.07\n"
     ]
    }
   ],
   "source": [
    "# Ваш код здесь\n",
    "def print_full_rows(data):\n",
    "    print('Количество полностью заполненных объектов:', len(df_out.dropna()))\n",
    "    print('Процент полностью заполненных объектов от всей выборки:', len(df_out.dropna()) / len(df_out) * 100)\n",
    "\n",
    "print_full_rows(df_out)"
   ]
  },
  {
   "cell_type": "markdown",
   "id": "c86d53f3",
   "metadata": {
    "id": "c86d53f3",
    "pycharm": {
     "name": "#%% md\n"
    }
   },
   "source": [
    "4. Сохраните в переменную и выведите процент пропущенных значений для каждого признака, отсортируйте признаки по убыванию процента пропущенных значений. Воспользуйтесь материалами из видео и не забудьте передать верный параметр сортировки.\n"
   ]
  },
  {
   "cell_type": "code",
   "execution_count": 134,
   "id": "28407af8",
   "metadata": {
    "id": "28407af8",
    "pycharm": {
     "name": "#%%\n"
    }
   },
   "outputs": [
    {
     "name": "stdout",
     "output_type": "stream",
     "text": [
      "Процент пропущенных значений для каждого признака:\n"
     ]
    },
    {
     "data": {
      "text/plain": "title_status      1.66\nmodel             1.28\nlat               0.98\nlong              0.98\nfuel              0.63\ntransmission      0.45\nyear              0.36\ndescription       0.02\ndate              0.02\nposting_date      0.02\nimage_url         0.02\nid                0.00\nregion_url        0.00\nregion            0.00\nurl               0.00\nprice             0.00\nodometer          0.00\nmanufacturer      0.00\nstate             0.00\nprice_category    0.00\ndtype: float64"
     },
     "execution_count": 134,
     "metadata": {},
     "output_type": "execute_result"
    }
   ],
   "source": [
    "# Ваш код здесь\n",
    "missing_values = (df_out.isna().sum() / len(df_out) * 100).sort_values(ascending=False)\n",
    "print('Процент пропущенных значений для каждого признака:')\n",
    "missing_values"
   ]
  },
  {
   "cell_type": "markdown",
   "id": "4ccc59b6",
   "metadata": {
    "id": "4ccc59b6",
    "pycharm": {
     "name": "#%% md\n"
    }
   },
   "source": [
    "5. Выведите список всех признаков, в которых имеются пропущенные значения. Воспользуйтесь результатом вывода предыдущего задания, чтобы отсортировать признаки, подходящие под условие."
   ]
  },
  {
   "cell_type": "code",
   "execution_count": 135,
   "id": "129e697e",
   "metadata": {
    "ExecuteTime": {
     "end_time": "2022-01-29T23:20:06.563386Z",
     "start_time": "2022-01-29T23:20:06.559721Z"
    },
    "id": "129e697e",
    "pycharm": {
     "name": "#%%\n"
    }
   },
   "outputs": [
    {
     "data": {
      "text/plain": "['title_status',\n 'model',\n 'lat',\n 'long',\n 'fuel',\n 'transmission',\n 'year',\n 'description',\n 'date',\n 'posting_date',\n 'image_url']"
     },
     "execution_count": 135,
     "metadata": {},
     "output_type": "execute_result"
    }
   ],
   "source": [
    "# Ваш код здесь\n",
    "missing_columns = missing_values[missing_values.values > 0].index.tolist()\n",
    "missing_columns"
   ]
  },
  {
   "cell_type": "markdown",
   "id": "d36a4f67",
   "metadata": {
    "id": "d36a4f67",
    "pycharm": {
     "name": "#%% md\n"
    }
   },
   "source": [
    "### Задача 2. Обработка пропусков в годе выпуска автомобиля\n",
    "\n",
    "1. Выведите количество значений для года выпуска автомобиля, включая пропущенные значения.\n"
   ]
  },
  {
   "cell_type": "code",
   "execution_count": 136,
   "id": "60f89e21",
   "metadata": {
    "ExecuteTime": {
     "end_time": "2022-01-29T00:04:53.648430Z",
     "start_time": "2022-01-29T00:04:53.630774Z"
    },
    "id": "60f89e21",
    "pycharm": {
     "name": "#%%\n"
    }
   },
   "outputs": [
    {
     "data": {
      "text/plain": "year\n2018.0    810\n2017.0    809\n2016.0    745\n2013.0    699\n2015.0    668\n         ... \n1940.0      1\n1950.0      1\n1960.0      1\n1923.0      1\n1938.0      1\nName: count, Length: 90, dtype: int64"
     },
     "execution_count": 136,
     "metadata": {},
     "output_type": "execute_result"
    }
   ],
   "source": [
    "# Ваш код здесь\n",
    "df_out.year.value_counts(dropna=False)"
   ]
  },
  {
   "cell_type": "markdown",
   "id": "6e474f07",
   "metadata": {
    "id": "6e474f07",
    "pycharm": {
     "name": "#%% md\n"
    }
   },
   "source": [
    "2. Выведите количество пропущенных значений в годе выпуска автомобиля.\n",
    "\n"
   ]
  },
  {
   "cell_type": "code",
   "execution_count": 137,
   "id": "f16d4a12",
   "metadata": {
    "id": "f16d4a12",
    "pycharm": {
     "name": "#%%\n"
    }
   },
   "outputs": [
    {
     "name": "stdout",
     "output_type": "stream",
     "text": [
      "36\n"
     ]
    }
   ],
   "source": [
    "# Ваш код здесь\n",
    "print(df_out.year.isna().sum())"
   ]
  },
  {
   "cell_type": "markdown",
   "id": "9a02ee9b",
   "metadata": {
    "id": "9a02ee9b",
    "pycharm": {
     "name": "#%% md\n"
    }
   },
   "source": [
    "3. Выведите описательные статистики для года выпуска автомобиля.\n"
   ]
  },
  {
   "cell_type": "code",
   "execution_count": 138,
   "id": "f9977f8d",
   "metadata": {
    "ExecuteTime": {
     "end_time": "2022-01-29T00:04:54.784838Z",
     "start_time": "2022-01-29T00:04:54.779823Z"
    },
    "id": "f9977f8d",
    "pycharm": {
     "name": "#%%\n"
    }
   },
   "outputs": [
    {
     "data": {
      "text/plain": "count    9964.000000\nmean     2010.927941\nstd         9.672040\nmin      1915.000000\n25%      2008.000000\n50%      2013.000000\n75%      2017.000000\nmax      2022.000000\nName: year, dtype: float64"
     },
     "execution_count": 138,
     "metadata": {},
     "output_type": "execute_result"
    }
   ],
   "source": [
    "# Ваш код здесь\n",
    "df_out.year.describe()"
   ]
  },
  {
   "cell_type": "markdown",
   "id": "c95c1002",
   "metadata": {
    "id": "c95c1002",
    "pycharm": {
     "name": "#%% md\n"
    }
   },
   "source": [
    "4. Выведите записи, в которых год выпуска автомобиля не заполнен. Посмотрите на данные и подумайте, какую стратегию обработки значений можно применить.\n"
   ]
  },
  {
   "cell_type": "code",
   "execution_count": 139,
   "id": "98c9ea05",
   "metadata": {
    "id": "98c9ea05",
    "pycharm": {
     "name": "#%%\n"
    }
   },
   "outputs": [
    {
     "data": {
      "text/plain": "              id                                                url  \\\n344   7304102133  https://wenatchee.craigslist.org/ctd/d/wenatch...   \n420   7316337069  https://lasvegas.craigslist.org/ctd/d/scottsda...   \n425   7315662117  https://westslope.craigslist.org/ctd/d/denver-...   \n702   7316199009  https://nashville.craigslist.org/ctd/d/nashvil...   \n893   7316840794  https://denver.craigslist.org/ctd/d/american-f...   \n906   7311915616  https://westslope.craigslist.org/ctd/d/denver-...   \n1005  7306735187  https://westslope.craigslist.org/ctd/d/denver-...   \n1217  7309954650  https://gainesville.craigslist.org/ctd/d/gaine...   \n1319  7313865045  https://westslope.craigslist.org/ctd/d/denver-...   \n1845  7303344554  https://daytona.craigslist.org/ctd/d/new-smyrn...   \n2292  7311762820  https://huntsville.craigslist.org/ctd/d/new-ca...   \n2504  7315662074  https://santafe.craigslist.org/ctd/d/denver-20...   \n2629  7314588156  https://inlandempire.craigslist.org/ctd/d/hesp...   \n2819  7310250813  https://omaha.craigslist.org/ctd/d/council-blu...   \n2959  7306678710  https://gainesville.craigslist.org/ctd/d/gaine...   \n3294  7316562384  https://honolulu.craigslist.org/oah/ctd/d/hono...   \n3509  7307209305  https://northmiss.craigslist.org/ctd/d/vicksbu...   \n3521  7304711487  https://westslope.craigslist.org/ctd/d/denver-...   \n3671  7309869204  https://scottsbluff.craigslist.org/ctd/d/denve...   \n4220  7304693422  https://shreveport.craigslist.org/ctd/d/vicksb...   \n6120  7310371320  https://westslope.craigslist.org/ctd/d/denver-...   \n6196  7309904568  https://omaha.craigslist.org/ctd/d/omaha-2020-...   \n6323  7315207437  https://huntsville.craigslist.org/ctd/d/new-ca...   \n6728  7315259025  https://nh.craigslist.org/cto/d/manchester-201...   \n7200  7310924082  https://omaha.craigslist.org/ctd/d/omaha-2018-...   \n7652  7316247218  https://lasvegas.craigslist.org/ctd/d/scottsda...   \n7815  7314898718  https://gainesville.craigslist.org/ctd/d/gaine...   \n7819  7314454466  https://billings.craigslist.org/ctd/d/denver-2...   \n8527  7310829676  https://tucson.craigslist.org/ctd/d/tempe-2020...   \n8805  7316852999  https://memphis.craigslist.org/ctd/d/memphis-2...   \n9330  7316270709  https://denver.craigslist.org/ctd/d/denver-201...   \n9388  7208549803  https://bellingham.craigslist.org/ctd/d/bellin...   \n9549  7312938642  https://lasvegas.craigslist.org/ctd/d/scottsda...   \n9723  7309216259  https://omaha.craigslist.org/ctd/d/omaha-2019-...   \n9849  7316246632  https://sanantonio.craigslist.org/ctd/d/scotts...   \n9953  7314033574  https://inlandempire.craigslist.org/ctd/d/scot...   \n\n                       region                           region_url  price  \\\n344                 wenatchee     https://wenatchee.craigslist.org  35880   \n420                 las vegas      https://lasvegas.craigslist.org  84995   \n425             western slope     https://westslope.craigslist.org  43900   \n702                 nashville     https://nashville.craigslist.org  28498   \n893                    denver        https://denver.craigslist.org  60900   \n906             western slope     https://westslope.craigslist.org  67900   \n1005            western slope     https://westslope.craigslist.org  38900   \n1217              gainesville   https://gainesville.craigslist.org  24975   \n1319            western slope     https://westslope.craigslist.org  47900   \n1845            daytona beach       https://daytona.craigslist.org  35850   \n2292     huntsville / decatur    https://huntsville.craigslist.org  29875   \n2504          santa fe / taos       https://santafe.craigslist.org  43900   \n2629            inland empire  https://inlandempire.craigslist.org   2599   \n2819   omaha / council bluffs         https://omaha.craigslist.org  28995   \n2959              gainesville   https://gainesville.craigslist.org  26975   \n3294                   hawaii      https://honolulu.craigslist.org  37500   \n3509        north mississippi     https://northmiss.craigslist.org  64900   \n3521            western slope     https://westslope.craigslist.org  67900   \n3671  scottsbluff / panhandle   https://scottsbluff.craigslist.org  48900   \n4220               shreveport    https://shreveport.craigslist.org  53700   \n6120            western slope     https://westslope.craigslist.org  49900   \n6196   omaha / council bluffs         https://omaha.craigslist.org  25399   \n6323     huntsville / decatur    https://huntsville.craigslist.org  35495   \n6728            new hampshire            https://nh.craigslist.org   3750   \n7200   omaha / council bluffs         https://omaha.craigslist.org  12995   \n7652                las vegas      https://lasvegas.craigslist.org  69995   \n7815              gainesville   https://gainesville.craigslist.org  38975   \n7819                 billings      https://billings.craigslist.org  49900   \n8527                   tucson        https://tucson.craigslist.org  83877   \n8805                  memphis       https://memphis.craigslist.org  19979   \n9330                   denver        https://denver.craigslist.org  49900   \n9388               bellingham    https://bellingham.craigslist.org  11999   \n9549                las vegas      https://lasvegas.craigslist.org  67995   \n9723   omaha / council bluffs         https://omaha.craigslist.org  29995   \n9849              san antonio    https://sanantonio.craigslist.org  49995   \n9953            inland empire  https://inlandempire.craigslist.org  54995   \n\n      year manufacturer                 model    fuel  odometer title_status  \\\n344    NaN        other                   500     gas     13508        clean   \n420    NaN        other  Super Duty F-350 SRW  diesel      1268        clean   \n425    NaN        other         Grand Caravan     NaN        21        clean   \n702    NaN        other   olet Silverado 1500     NaN     59246          NaN   \n893    NaN        other                 F-150     gas      6110        clean   \n906    NaN        other               Odyssey     gas        21        clean   \n1005   NaN        other         Grand Caravan     NaN        21        clean   \n1217   NaN        other                  CR-V     gas     44128        clean   \n1319   NaN        other              a Sienna     gas     43701        clean   \n1845   NaN        other     Transit Cargo Van     gas       567        clean   \n2292   NaN        other               a Camry     gas     46947        clean   \n2504   NaN        other         Grand Caravan     NaN        21        clean   \n2629   NaN        other           olet Impala   other         1        clean   \n2819   NaN        other                 cadia     gas      3851          NaN   \n2959   NaN        other              n Maxima     gas     28367        clean   \n3294   NaN        other        Grand Cherokee     NaN     26608        clean   \n3509   NaN        other                   500  diesel     12338          NaN   \n3521   NaN        other               Odyssey     gas        21        clean   \n3671   NaN        other         Grand Caravan     NaN        19        clean   \n4220   NaN        other            ierra 1500     gas     35676          NaN   \n6120   NaN        other               Enclave     gas     10345        clean   \n6196   NaN        other              Envision     NaN      8492      rebuilt   \n6323   NaN        other                Series     gas     14000        clean   \n6728   NaN        other                   NaN     NaN     95674          NaN   \n7200   NaN        other             u Impreza     gas     16740      rebuilt   \n7652   NaN        other                 F-150     gas       412        clean   \n7815   NaN        other                   500     gas     28689        clean   \n7819   NaN        other              a Sienna     gas     34294        clean   \n8527   NaN        other          ierra 2500HD  diesel     25363          NaN   \n8805   NaN        other                  CX-5     gas     17183        clean   \n9330   NaN        other              a Sienna     gas     34294        clean   \n9388   NaN        other                   NaN     NaN     95674          NaN   \n9549   NaN        other   olet Silverado 1500     gas      7511        clean   \n9723   NaN        other               Enclave     gas      1036      rebuilt   \n9849   NaN        other                   500     gas     19078        clean   \n9953   NaN        other                 F-150     gas       180        clean   \n\n     transmission                                          image_url  \\\n344     automatic  https://images.craigslist.org/00J0J_6IMoEUzIIM...   \n420     automatic  https://images.craigslist.org/00x0x_iQCC0Ef28S...   \n425     automatic  https://images.craigslist.org/00f0f_7AwipNocNH...   \n702     automatic  https://images.craigslist.org/00T0T_dZ7nOXskCS...   \n893     automatic  https://images.craigslist.org/01616_bpzSdSRTbx...   \n906     automatic  https://images.craigslist.org/00404_erlbeKWEkn...   \n1005    automatic  https://images.craigslist.org/00F0F_3T6FM0XMZW...   \n1217    automatic  https://images.craigslist.org/00000_2TUtAgLlCR...   \n1319    automatic  https://images.craigslist.org/00o0o_8XYp4Zygdj...   \n1845    automatic  https://images.craigslist.org/00a0a_d4XVrHnlxl...   \n2292    automatic  https://images.craigslist.org/01313_9nQ5n8dbnZ...   \n2504    automatic  https://images.craigslist.org/00f0f_7AwipNocNH...   \n2629        other  https://images.craigslist.org/00P0P_dKsEWbujM0...   \n2819    automatic  https://images.craigslist.org/00j0j_6hfE9qI1CV...   \n2959    automatic  https://images.craigslist.org/01010_4uw9b06xiS...   \n3294    automatic  https://images.craigslist.org/01111_h3zrI9JPSH...   \n3509    automatic  https://images.craigslist.org/00E0E_hZTYK06AGo...   \n3521    automatic  https://images.craigslist.org/00404_erlbeKWEkn...   \n3671    automatic  https://images.craigslist.org/00V0V_72KAx8GRuN...   \n4220    automatic  https://images.craigslist.org/00O0O_cpIkn2jwHN...   \n6120    automatic  https://images.craigslist.org/00M0M_sPt1lwAVRY...   \n6196    automatic  https://images.craigslist.org/01515_geiPTG1MZG...   \n6323    automatic  https://images.craigslist.org/01212_85QVVsEWjT...   \n6728          NaN                                                NaN   \n7200    automatic  https://images.craigslist.org/01212_dEfENLNXWW...   \n7652    automatic  https://images.craigslist.org/00n0n_kNzqmJoY2a...   \n7815    automatic  https://images.craigslist.org/00e0e_3SqmUoLwUf...   \n7819    automatic  https://images.craigslist.org/00707_lMMxHyLoAR...   \n8527    automatic  https://images.craigslist.org/00A0A_nd5C1ILCvJ...   \n8805    automatic  https://images.craigslist.org/00x0x_1sp7mb28W4...   \n9330    automatic  https://images.craigslist.org/00707_lMMxHyLoAR...   \n9388          NaN                                                NaN   \n9549    automatic  https://images.craigslist.org/00M0M_74pDndl5gQ...   \n9723    automatic  https://images.craigslist.org/01010_1PAwiL9HwM...   \n9849    automatic  https://images.craigslist.org/00p0p_lva0tqTnF1...   \n9953    automatic  https://images.craigslist.org/00d0d_92wTNhRT7B...   \n\n                                            description state        lat  \\\n344   2019 *Ram* *1500* Big Horn/Lone Star 4x2 Quad ...    wa  47.434493   \n420   2020 *Ford* *Super Duty F-350 SRW* 1K MILES. B...    nv  33.458277   \n425   2019 *Dodge* *Grand Caravan* SE - $43,900Call ...    co  39.674406   \n702   2019 *Chevrolet* *Silverado 1500* 2019 CHEVROL...    tn  36.138022   \n893   2020 *Ford* *F-150* PLATINUM FX4 Truck - $60,9...    co  40.362248   \n906   2020 *Honda* *Odyssey* EX-L w/Navi/RES Automat...    co  39.674406   \n1005  2019 *Dodge* *Grand Caravan* SE - $38,900Call ...    co  39.674406   \n1217  2019 *Honda* *CR-V* EX 2WD SUV - $24,975Call o...    fl  29.676827   \n1319  2018 *Toyota* *Sienna* LE Automatic Access Sea...    co  39.674406   \n1845  2020 *Ford* *Transit Cargo Van* T-250 148\" WB*...    fl  29.046240   \n2292  2019 *Toyota* *Camry* XSE Automatic Sedan - $2...    al  33.669601   \n2504  2019 *Dodge* *Grand Caravan* SE - $43,900Call ...    nm  39.674406   \n2629  Chevrolet Impala  * AUCTION PRICES TO THE PUBL...    ca  34.451930   \n2819  2019 *GMC* *Acadia* AWD 4dr SLT w/SLT-1 SUV - ...    ia  41.229172   \n2959  2018 *Nissan* *Maxima* SR 3.5L Midnight Editio...    fl  29.676827   \n3294  2018 *Jeep* *Grand Cherokee* High Altitude 4x2...    hi  21.318059   \n3509  2020 *Ram* *3500* RAM 3500 DUALLY 4X4 CUMMINS ...    ms  32.332046   \n3521  2020 *Honda* *Odyssey* EX-L w/Navi/RES Automat...    co  39.674406   \n3671  2019 *Dodge* *Grand Caravan* SE Plus Wagon - $...    ne  39.674406   \n4220  2020 *GMC* *Sierra 1500* SIERRA 1500 AT4 4X4 5...    la  32.332046   \n6120  2018 *Buick* *Enclave* FWD 4dr Essence SUV - $...    co  39.674406   \n6196  2020 *Buick* *Envision* AWD 4dr Essence SUV - ...    ia  41.207382   \n6323  2020 *BMW* *3 Series* 330i Sedan - $35,495Call...    al  33.669601   \n6728                                                NaN    nh        NaN   \n7200  2018 *Subaru* *Impreza* 2.0i 4-door CVT Sedan ...    ia  41.207382   \n7652  2021 *Ford* *F-150* NEW 2021 FORD F150 SUPERCR...    nv  33.458277   \n7815  2019 *Ram* *2500* Tradesman 4x2 Crew Cab 8' Bo...    fl  29.676827   \n7819  2019 *Toyota* *Sienna* LE Automatic Access Sea...    mt  39.674406   \n8527  2020 *GMC* *Sierra 2500HD* LIFTED - AT4 Editio...    az  33.437098   \n8805  2019 *Mazda* *CX-5* Sport FWD SUV - $19,979Cal...    tn  35.191437   \n9330  2019 *Toyota* *Sienna* LE Automatic Access Sea...    co  39.674406   \n9388                                                NaN    wa        NaN   \n9549  2020 *Chevrolet* *Silverado 1500* 6.2L HIGH CO...    nv  33.458277   \n9723  2019 *Buick* *Enclave* AWD 4dr Essence SUV - $...    ia  41.207382   \n9849  2019 *Ram* *1500* LIFTED 2019 RAM 1500 WITH BU...    tx  33.458277   \n9953  2020 *Ford* *F-150* 180 MILES. LIFTED FORD F15...    ca  33.458277   \n\n            long              posting_date price_category  \\\n344  -120.320759  2021-04-09T06:31:03-0700           high   \n420  -111.925970  2021-05-03T11:31:39-0700           high   \n425  -104.998604  2021-05-02T01:11:33-0600           high   \n702   -86.732261  2021-05-03T10:00:40-0500           high   \n893  -111.785947  2021-05-04T12:11:22-0600           high   \n906  -104.998604  2021-04-24T10:41:06-0600           high   \n1005 -104.998604  2021-04-14T10:51:36-0600           high   \n1217  -82.319202  2021-04-20T14:46:55-0400           high   \n1319 -104.998604  2021-04-28T10:12:14-0600           high   \n1845  -80.934561  2021-04-07T17:10:06-0400           high   \n2292  -86.817617  2021-04-24T04:50:56-0500           high   \n2504 -104.998604  2021-05-02T01:10:47-0600           high   \n2629 -117.287060  2021-04-29T16:19:54-0700            low   \n2819  -95.852118  2021-04-21T07:21:00-0500           high   \n2959  -82.319202  2021-04-14T11:25:14-0400           high   \n3294 -157.865187  2021-05-03T16:10:46-1000           high   \n3509  -90.857163  2021-04-15T10:45:56-0500           high   \n3521 -104.998604  2021-04-10T10:12:15-0600           high   \n3671 -104.998604  2021-04-20T10:41:16-0600           high   \n4220  -90.857163  2021-04-10T10:44:02-0500           high   \n6120 -104.998604  2021-04-21T10:12:30-0600           high   \n6196  -96.023096  2021-04-20T12:31:36-0500           high   \n6323  -86.817617  2021-05-01T04:50:32-0500           high   \n6728         NaN                       NaN            low   \n7200  -96.023096  2021-04-22T12:20:37-0500         medium   \n7652 -111.925970  2021-05-03T09:15:32-0700           high   \n7815  -82.319202  2021-04-30T13:32:48-0400           high   \n7819 -104.998604  2021-04-29T13:00:48-0600           high   \n8527 -111.925724  2021-04-22T07:50:52-0700           high   \n8805  -89.894973  2021-05-04T13:30:34-0500         medium   \n9330 -104.998604  2021-05-03T10:50:33-0600           high   \n9388         NaN                       NaN         medium   \n9549 -111.925970  2021-04-26T11:30:40-0700           high   \n9723  -96.023096  2021-04-19T09:30:41-0500           high   \n9849 -111.925970  2021-05-03T11:14:44-0500           high   \n9953 -111.925970  2021-04-28T13:51:27-0700           high   \n\n                           date  \n344   2021-04-09 13:31:03+00:00  \n420   2021-05-03 18:31:39+00:00  \n425   2021-05-02 07:11:33+00:00  \n702   2021-05-03 15:00:40+00:00  \n893   2021-05-04 18:11:22+00:00  \n906   2021-04-24 16:41:06+00:00  \n1005  2021-04-14 16:51:36+00:00  \n1217  2021-04-20 18:46:55+00:00  \n1319  2021-04-28 16:12:14+00:00  \n1845  2021-04-07 21:10:06+00:00  \n2292  2021-04-24 09:50:56+00:00  \n2504  2021-05-02 07:10:47+00:00  \n2629  2021-04-29 23:19:54+00:00  \n2819  2021-04-21 12:21:00+00:00  \n2959  2021-04-14 15:25:14+00:00  \n3294  2021-05-04 02:10:46+00:00  \n3509  2021-04-15 15:45:56+00:00  \n3521  2021-04-10 16:12:15+00:00  \n3671  2021-04-20 16:41:16+00:00  \n4220  2021-04-10 15:44:02+00:00  \n6120  2021-04-21 16:12:30+00:00  \n6196  2021-04-20 17:31:36+00:00  \n6323  2021-05-01 09:50:32+00:00  \n6728                        NaN  \n7200  2021-04-22 17:20:37+00:00  \n7652  2021-05-03 16:15:32+00:00  \n7815  2021-04-30 17:32:48+00:00  \n7819  2021-04-29 19:00:48+00:00  \n8527  2021-04-22 14:50:52+00:00  \n8805  2021-05-04 18:30:34+00:00  \n9330  2021-05-03 16:50:33+00:00  \n9388                        NaN  \n9549  2021-04-26 18:30:40+00:00  \n9723  2021-04-19 14:30:41+00:00  \n9849  2021-05-03 16:14:44+00:00  \n9953  2021-04-28 20:51:27+00:00  ",
      "text/html": "<div>\n<style scoped>\n    .dataframe tbody tr th:only-of-type {\n        vertical-align: middle;\n    }\n\n    .dataframe tbody tr th {\n        vertical-align: top;\n    }\n\n    .dataframe thead th {\n        text-align: right;\n    }\n</style>\n<table border=\"1\" class=\"dataframe\">\n  <thead>\n    <tr style=\"text-align: right;\">\n      <th></th>\n      <th>id</th>\n      <th>url</th>\n      <th>region</th>\n      <th>region_url</th>\n      <th>price</th>\n      <th>year</th>\n      <th>manufacturer</th>\n      <th>model</th>\n      <th>fuel</th>\n      <th>odometer</th>\n      <th>title_status</th>\n      <th>transmission</th>\n      <th>image_url</th>\n      <th>description</th>\n      <th>state</th>\n      <th>lat</th>\n      <th>long</th>\n      <th>posting_date</th>\n      <th>price_category</th>\n      <th>date</th>\n    </tr>\n  </thead>\n  <tbody>\n    <tr>\n      <th>344</th>\n      <td>7304102133</td>\n      <td>https://wenatchee.craigslist.org/ctd/d/wenatch...</td>\n      <td>wenatchee</td>\n      <td>https://wenatchee.craigslist.org</td>\n      <td>35880</td>\n      <td>NaN</td>\n      <td>other</td>\n      <td>500</td>\n      <td>gas</td>\n      <td>13508</td>\n      <td>clean</td>\n      <td>automatic</td>\n      <td>https://images.craigslist.org/00J0J_6IMoEUzIIM...</td>\n      <td>2019 *Ram* *1500* Big Horn/Lone Star 4x2 Quad ...</td>\n      <td>wa</td>\n      <td>47.434493</td>\n      <td>-120.320759</td>\n      <td>2021-04-09T06:31:03-0700</td>\n      <td>high</td>\n      <td>2021-04-09 13:31:03+00:00</td>\n    </tr>\n    <tr>\n      <th>420</th>\n      <td>7316337069</td>\n      <td>https://lasvegas.craigslist.org/ctd/d/scottsda...</td>\n      <td>las vegas</td>\n      <td>https://lasvegas.craigslist.org</td>\n      <td>84995</td>\n      <td>NaN</td>\n      <td>other</td>\n      <td>Super Duty F-350 SRW</td>\n      <td>diesel</td>\n      <td>1268</td>\n      <td>clean</td>\n      <td>automatic</td>\n      <td>https://images.craigslist.org/00x0x_iQCC0Ef28S...</td>\n      <td>2020 *Ford* *Super Duty F-350 SRW* 1K MILES. B...</td>\n      <td>nv</td>\n      <td>33.458277</td>\n      <td>-111.925970</td>\n      <td>2021-05-03T11:31:39-0700</td>\n      <td>high</td>\n      <td>2021-05-03 18:31:39+00:00</td>\n    </tr>\n    <tr>\n      <th>425</th>\n      <td>7315662117</td>\n      <td>https://westslope.craigslist.org/ctd/d/denver-...</td>\n      <td>western slope</td>\n      <td>https://westslope.craigslist.org</td>\n      <td>43900</td>\n      <td>NaN</td>\n      <td>other</td>\n      <td>Grand Caravan</td>\n      <td>NaN</td>\n      <td>21</td>\n      <td>clean</td>\n      <td>automatic</td>\n      <td>https://images.craigslist.org/00f0f_7AwipNocNH...</td>\n      <td>2019 *Dodge* *Grand Caravan* SE - $43,900Call ...</td>\n      <td>co</td>\n      <td>39.674406</td>\n      <td>-104.998604</td>\n      <td>2021-05-02T01:11:33-0600</td>\n      <td>high</td>\n      <td>2021-05-02 07:11:33+00:00</td>\n    </tr>\n    <tr>\n      <th>702</th>\n      <td>7316199009</td>\n      <td>https://nashville.craigslist.org/ctd/d/nashvil...</td>\n      <td>nashville</td>\n      <td>https://nashville.craigslist.org</td>\n      <td>28498</td>\n      <td>NaN</td>\n      <td>other</td>\n      <td>olet Silverado 1500</td>\n      <td>NaN</td>\n      <td>59246</td>\n      <td>NaN</td>\n      <td>automatic</td>\n      <td>https://images.craigslist.org/00T0T_dZ7nOXskCS...</td>\n      <td>2019 *Chevrolet* *Silverado 1500* 2019 CHEVROL...</td>\n      <td>tn</td>\n      <td>36.138022</td>\n      <td>-86.732261</td>\n      <td>2021-05-03T10:00:40-0500</td>\n      <td>high</td>\n      <td>2021-05-03 15:00:40+00:00</td>\n    </tr>\n    <tr>\n      <th>893</th>\n      <td>7316840794</td>\n      <td>https://denver.craigslist.org/ctd/d/american-f...</td>\n      <td>denver</td>\n      <td>https://denver.craigslist.org</td>\n      <td>60900</td>\n      <td>NaN</td>\n      <td>other</td>\n      <td>F-150</td>\n      <td>gas</td>\n      <td>6110</td>\n      <td>clean</td>\n      <td>automatic</td>\n      <td>https://images.craigslist.org/01616_bpzSdSRTbx...</td>\n      <td>2020 *Ford* *F-150* PLATINUM FX4 Truck - $60,9...</td>\n      <td>co</td>\n      <td>40.362248</td>\n      <td>-111.785947</td>\n      <td>2021-05-04T12:11:22-0600</td>\n      <td>high</td>\n      <td>2021-05-04 18:11:22+00:00</td>\n    </tr>\n    <tr>\n      <th>906</th>\n      <td>7311915616</td>\n      <td>https://westslope.craigslist.org/ctd/d/denver-...</td>\n      <td>western slope</td>\n      <td>https://westslope.craigslist.org</td>\n      <td>67900</td>\n      <td>NaN</td>\n      <td>other</td>\n      <td>Odyssey</td>\n      <td>gas</td>\n      <td>21</td>\n      <td>clean</td>\n      <td>automatic</td>\n      <td>https://images.craigslist.org/00404_erlbeKWEkn...</td>\n      <td>2020 *Honda* *Odyssey* EX-L w/Navi/RES Automat...</td>\n      <td>co</td>\n      <td>39.674406</td>\n      <td>-104.998604</td>\n      <td>2021-04-24T10:41:06-0600</td>\n      <td>high</td>\n      <td>2021-04-24 16:41:06+00:00</td>\n    </tr>\n    <tr>\n      <th>1005</th>\n      <td>7306735187</td>\n      <td>https://westslope.craigslist.org/ctd/d/denver-...</td>\n      <td>western slope</td>\n      <td>https://westslope.craigslist.org</td>\n      <td>38900</td>\n      <td>NaN</td>\n      <td>other</td>\n      <td>Grand Caravan</td>\n      <td>NaN</td>\n      <td>21</td>\n      <td>clean</td>\n      <td>automatic</td>\n      <td>https://images.craigslist.org/00F0F_3T6FM0XMZW...</td>\n      <td>2019 *Dodge* *Grand Caravan* SE - $38,900Call ...</td>\n      <td>co</td>\n      <td>39.674406</td>\n      <td>-104.998604</td>\n      <td>2021-04-14T10:51:36-0600</td>\n      <td>high</td>\n      <td>2021-04-14 16:51:36+00:00</td>\n    </tr>\n    <tr>\n      <th>1217</th>\n      <td>7309954650</td>\n      <td>https://gainesville.craigslist.org/ctd/d/gaine...</td>\n      <td>gainesville</td>\n      <td>https://gainesville.craigslist.org</td>\n      <td>24975</td>\n      <td>NaN</td>\n      <td>other</td>\n      <td>CR-V</td>\n      <td>gas</td>\n      <td>44128</td>\n      <td>clean</td>\n      <td>automatic</td>\n      <td>https://images.craigslist.org/00000_2TUtAgLlCR...</td>\n      <td>2019 *Honda* *CR-V* EX 2WD SUV - $24,975Call o...</td>\n      <td>fl</td>\n      <td>29.676827</td>\n      <td>-82.319202</td>\n      <td>2021-04-20T14:46:55-0400</td>\n      <td>high</td>\n      <td>2021-04-20 18:46:55+00:00</td>\n    </tr>\n    <tr>\n      <th>1319</th>\n      <td>7313865045</td>\n      <td>https://westslope.craigslist.org/ctd/d/denver-...</td>\n      <td>western slope</td>\n      <td>https://westslope.craigslist.org</td>\n      <td>47900</td>\n      <td>NaN</td>\n      <td>other</td>\n      <td>a Sienna</td>\n      <td>gas</td>\n      <td>43701</td>\n      <td>clean</td>\n      <td>automatic</td>\n      <td>https://images.craigslist.org/00o0o_8XYp4Zygdj...</td>\n      <td>2018 *Toyota* *Sienna* LE Automatic Access Sea...</td>\n      <td>co</td>\n      <td>39.674406</td>\n      <td>-104.998604</td>\n      <td>2021-04-28T10:12:14-0600</td>\n      <td>high</td>\n      <td>2021-04-28 16:12:14+00:00</td>\n    </tr>\n    <tr>\n      <th>1845</th>\n      <td>7303344554</td>\n      <td>https://daytona.craigslist.org/ctd/d/new-smyrn...</td>\n      <td>daytona beach</td>\n      <td>https://daytona.craigslist.org</td>\n      <td>35850</td>\n      <td>NaN</td>\n      <td>other</td>\n      <td>Transit Cargo Van</td>\n      <td>gas</td>\n      <td>567</td>\n      <td>clean</td>\n      <td>automatic</td>\n      <td>https://images.craigslist.org/00a0a_d4XVrHnlxl...</td>\n      <td>2020 *Ford* *Transit Cargo Van* T-250 148\" WB*...</td>\n      <td>fl</td>\n      <td>29.046240</td>\n      <td>-80.934561</td>\n      <td>2021-04-07T17:10:06-0400</td>\n      <td>high</td>\n      <td>2021-04-07 21:10:06+00:00</td>\n    </tr>\n    <tr>\n      <th>2292</th>\n      <td>7311762820</td>\n      <td>https://huntsville.craigslist.org/ctd/d/new-ca...</td>\n      <td>huntsville / decatur</td>\n      <td>https://huntsville.craigslist.org</td>\n      <td>29875</td>\n      <td>NaN</td>\n      <td>other</td>\n      <td>a Camry</td>\n      <td>gas</td>\n      <td>46947</td>\n      <td>clean</td>\n      <td>automatic</td>\n      <td>https://images.craigslist.org/01313_9nQ5n8dbnZ...</td>\n      <td>2019 *Toyota* *Camry* XSE Automatic Sedan - $2...</td>\n      <td>al</td>\n      <td>33.669601</td>\n      <td>-86.817617</td>\n      <td>2021-04-24T04:50:56-0500</td>\n      <td>high</td>\n      <td>2021-04-24 09:50:56+00:00</td>\n    </tr>\n    <tr>\n      <th>2504</th>\n      <td>7315662074</td>\n      <td>https://santafe.craigslist.org/ctd/d/denver-20...</td>\n      <td>santa fe / taos</td>\n      <td>https://santafe.craigslist.org</td>\n      <td>43900</td>\n      <td>NaN</td>\n      <td>other</td>\n      <td>Grand Caravan</td>\n      <td>NaN</td>\n      <td>21</td>\n      <td>clean</td>\n      <td>automatic</td>\n      <td>https://images.craigslist.org/00f0f_7AwipNocNH...</td>\n      <td>2019 *Dodge* *Grand Caravan* SE - $43,900Call ...</td>\n      <td>nm</td>\n      <td>39.674406</td>\n      <td>-104.998604</td>\n      <td>2021-05-02T01:10:47-0600</td>\n      <td>high</td>\n      <td>2021-05-02 07:10:47+00:00</td>\n    </tr>\n    <tr>\n      <th>2629</th>\n      <td>7314588156</td>\n      <td>https://inlandempire.craigslist.org/ctd/d/hesp...</td>\n      <td>inland empire</td>\n      <td>https://inlandempire.craigslist.org</td>\n      <td>2599</td>\n      <td>NaN</td>\n      <td>other</td>\n      <td>olet Impala</td>\n      <td>other</td>\n      <td>1</td>\n      <td>clean</td>\n      <td>other</td>\n      <td>https://images.craigslist.org/00P0P_dKsEWbujM0...</td>\n      <td>Chevrolet Impala  * AUCTION PRICES TO THE PUBL...</td>\n      <td>ca</td>\n      <td>34.451930</td>\n      <td>-117.287060</td>\n      <td>2021-04-29T16:19:54-0700</td>\n      <td>low</td>\n      <td>2021-04-29 23:19:54+00:00</td>\n    </tr>\n    <tr>\n      <th>2819</th>\n      <td>7310250813</td>\n      <td>https://omaha.craigslist.org/ctd/d/council-blu...</td>\n      <td>omaha / council bluffs</td>\n      <td>https://omaha.craigslist.org</td>\n      <td>28995</td>\n      <td>NaN</td>\n      <td>other</td>\n      <td>cadia</td>\n      <td>gas</td>\n      <td>3851</td>\n      <td>NaN</td>\n      <td>automatic</td>\n      <td>https://images.craigslist.org/00j0j_6hfE9qI1CV...</td>\n      <td>2019 *GMC* *Acadia* AWD 4dr SLT w/SLT-1 SUV - ...</td>\n      <td>ia</td>\n      <td>41.229172</td>\n      <td>-95.852118</td>\n      <td>2021-04-21T07:21:00-0500</td>\n      <td>high</td>\n      <td>2021-04-21 12:21:00+00:00</td>\n    </tr>\n    <tr>\n      <th>2959</th>\n      <td>7306678710</td>\n      <td>https://gainesville.craigslist.org/ctd/d/gaine...</td>\n      <td>gainesville</td>\n      <td>https://gainesville.craigslist.org</td>\n      <td>26975</td>\n      <td>NaN</td>\n      <td>other</td>\n      <td>n Maxima</td>\n      <td>gas</td>\n      <td>28367</td>\n      <td>clean</td>\n      <td>automatic</td>\n      <td>https://images.craigslist.org/01010_4uw9b06xiS...</td>\n      <td>2018 *Nissan* *Maxima* SR 3.5L Midnight Editio...</td>\n      <td>fl</td>\n      <td>29.676827</td>\n      <td>-82.319202</td>\n      <td>2021-04-14T11:25:14-0400</td>\n      <td>high</td>\n      <td>2021-04-14 15:25:14+00:00</td>\n    </tr>\n    <tr>\n      <th>3294</th>\n      <td>7316562384</td>\n      <td>https://honolulu.craigslist.org/oah/ctd/d/hono...</td>\n      <td>hawaii</td>\n      <td>https://honolulu.craigslist.org</td>\n      <td>37500</td>\n      <td>NaN</td>\n      <td>other</td>\n      <td>Grand Cherokee</td>\n      <td>NaN</td>\n      <td>26608</td>\n      <td>clean</td>\n      <td>automatic</td>\n      <td>https://images.craigslist.org/01111_h3zrI9JPSH...</td>\n      <td>2018 *Jeep* *Grand Cherokee* High Altitude 4x2...</td>\n      <td>hi</td>\n      <td>21.318059</td>\n      <td>-157.865187</td>\n      <td>2021-05-03T16:10:46-1000</td>\n      <td>high</td>\n      <td>2021-05-04 02:10:46+00:00</td>\n    </tr>\n    <tr>\n      <th>3509</th>\n      <td>7307209305</td>\n      <td>https://northmiss.craigslist.org/ctd/d/vicksbu...</td>\n      <td>north mississippi</td>\n      <td>https://northmiss.craigslist.org</td>\n      <td>64900</td>\n      <td>NaN</td>\n      <td>other</td>\n      <td>500</td>\n      <td>diesel</td>\n      <td>12338</td>\n      <td>NaN</td>\n      <td>automatic</td>\n      <td>https://images.craigslist.org/00E0E_hZTYK06AGo...</td>\n      <td>2020 *Ram* *3500* RAM 3500 DUALLY 4X4 CUMMINS ...</td>\n      <td>ms</td>\n      <td>32.332046</td>\n      <td>-90.857163</td>\n      <td>2021-04-15T10:45:56-0500</td>\n      <td>high</td>\n      <td>2021-04-15 15:45:56+00:00</td>\n    </tr>\n    <tr>\n      <th>3521</th>\n      <td>7304711487</td>\n      <td>https://westslope.craigslist.org/ctd/d/denver-...</td>\n      <td>western slope</td>\n      <td>https://westslope.craigslist.org</td>\n      <td>67900</td>\n      <td>NaN</td>\n      <td>other</td>\n      <td>Odyssey</td>\n      <td>gas</td>\n      <td>21</td>\n      <td>clean</td>\n      <td>automatic</td>\n      <td>https://images.craigslist.org/00404_erlbeKWEkn...</td>\n      <td>2020 *Honda* *Odyssey* EX-L w/Navi/RES Automat...</td>\n      <td>co</td>\n      <td>39.674406</td>\n      <td>-104.998604</td>\n      <td>2021-04-10T10:12:15-0600</td>\n      <td>high</td>\n      <td>2021-04-10 16:12:15+00:00</td>\n    </tr>\n    <tr>\n      <th>3671</th>\n      <td>7309869204</td>\n      <td>https://scottsbluff.craigslist.org/ctd/d/denve...</td>\n      <td>scottsbluff / panhandle</td>\n      <td>https://scottsbluff.craigslist.org</td>\n      <td>48900</td>\n      <td>NaN</td>\n      <td>other</td>\n      <td>Grand Caravan</td>\n      <td>NaN</td>\n      <td>19</td>\n      <td>clean</td>\n      <td>automatic</td>\n      <td>https://images.craigslist.org/00V0V_72KAx8GRuN...</td>\n      <td>2019 *Dodge* *Grand Caravan* SE Plus Wagon - $...</td>\n      <td>ne</td>\n      <td>39.674406</td>\n      <td>-104.998604</td>\n      <td>2021-04-20T10:41:16-0600</td>\n      <td>high</td>\n      <td>2021-04-20 16:41:16+00:00</td>\n    </tr>\n    <tr>\n      <th>4220</th>\n      <td>7304693422</td>\n      <td>https://shreveport.craigslist.org/ctd/d/vicksb...</td>\n      <td>shreveport</td>\n      <td>https://shreveport.craigslist.org</td>\n      <td>53700</td>\n      <td>NaN</td>\n      <td>other</td>\n      <td>ierra 1500</td>\n      <td>gas</td>\n      <td>35676</td>\n      <td>NaN</td>\n      <td>automatic</td>\n      <td>https://images.craigslist.org/00O0O_cpIkn2jwHN...</td>\n      <td>2020 *GMC* *Sierra 1500* SIERRA 1500 AT4 4X4 5...</td>\n      <td>la</td>\n      <td>32.332046</td>\n      <td>-90.857163</td>\n      <td>2021-04-10T10:44:02-0500</td>\n      <td>high</td>\n      <td>2021-04-10 15:44:02+00:00</td>\n    </tr>\n    <tr>\n      <th>6120</th>\n      <td>7310371320</td>\n      <td>https://westslope.craigslist.org/ctd/d/denver-...</td>\n      <td>western slope</td>\n      <td>https://westslope.craigslist.org</td>\n      <td>49900</td>\n      <td>NaN</td>\n      <td>other</td>\n      <td>Enclave</td>\n      <td>gas</td>\n      <td>10345</td>\n      <td>clean</td>\n      <td>automatic</td>\n      <td>https://images.craigslist.org/00M0M_sPt1lwAVRY...</td>\n      <td>2018 *Buick* *Enclave* FWD 4dr Essence SUV - $...</td>\n      <td>co</td>\n      <td>39.674406</td>\n      <td>-104.998604</td>\n      <td>2021-04-21T10:12:30-0600</td>\n      <td>high</td>\n      <td>2021-04-21 16:12:30+00:00</td>\n    </tr>\n    <tr>\n      <th>6196</th>\n      <td>7309904568</td>\n      <td>https://omaha.craigslist.org/ctd/d/omaha-2020-...</td>\n      <td>omaha / council bluffs</td>\n      <td>https://omaha.craigslist.org</td>\n      <td>25399</td>\n      <td>NaN</td>\n      <td>other</td>\n      <td>Envision</td>\n      <td>NaN</td>\n      <td>8492</td>\n      <td>rebuilt</td>\n      <td>automatic</td>\n      <td>https://images.craigslist.org/01515_geiPTG1MZG...</td>\n      <td>2020 *Buick* *Envision* AWD 4dr Essence SUV - ...</td>\n      <td>ia</td>\n      <td>41.207382</td>\n      <td>-96.023096</td>\n      <td>2021-04-20T12:31:36-0500</td>\n      <td>high</td>\n      <td>2021-04-20 17:31:36+00:00</td>\n    </tr>\n    <tr>\n      <th>6323</th>\n      <td>7315207437</td>\n      <td>https://huntsville.craigslist.org/ctd/d/new-ca...</td>\n      <td>huntsville / decatur</td>\n      <td>https://huntsville.craigslist.org</td>\n      <td>35495</td>\n      <td>NaN</td>\n      <td>other</td>\n      <td>Series</td>\n      <td>gas</td>\n      <td>14000</td>\n      <td>clean</td>\n      <td>automatic</td>\n      <td>https://images.craigslist.org/01212_85QVVsEWjT...</td>\n      <td>2020 *BMW* *3 Series* 330i Sedan - $35,495Call...</td>\n      <td>al</td>\n      <td>33.669601</td>\n      <td>-86.817617</td>\n      <td>2021-05-01T04:50:32-0500</td>\n      <td>high</td>\n      <td>2021-05-01 09:50:32+00:00</td>\n    </tr>\n    <tr>\n      <th>6728</th>\n      <td>7315259025</td>\n      <td>https://nh.craigslist.org/cto/d/manchester-201...</td>\n      <td>new hampshire</td>\n      <td>https://nh.craigslist.org</td>\n      <td>3750</td>\n      <td>NaN</td>\n      <td>other</td>\n      <td>NaN</td>\n      <td>NaN</td>\n      <td>95674</td>\n      <td>NaN</td>\n      <td>NaN</td>\n      <td>NaN</td>\n      <td>NaN</td>\n      <td>nh</td>\n      <td>NaN</td>\n      <td>NaN</td>\n      <td>NaN</td>\n      <td>low</td>\n      <td>NaN</td>\n    </tr>\n    <tr>\n      <th>7200</th>\n      <td>7310924082</td>\n      <td>https://omaha.craigslist.org/ctd/d/omaha-2018-...</td>\n      <td>omaha / council bluffs</td>\n      <td>https://omaha.craigslist.org</td>\n      <td>12995</td>\n      <td>NaN</td>\n      <td>other</td>\n      <td>u Impreza</td>\n      <td>gas</td>\n      <td>16740</td>\n      <td>rebuilt</td>\n      <td>automatic</td>\n      <td>https://images.craigslist.org/01212_dEfENLNXWW...</td>\n      <td>2018 *Subaru* *Impreza* 2.0i 4-door CVT Sedan ...</td>\n      <td>ia</td>\n      <td>41.207382</td>\n      <td>-96.023096</td>\n      <td>2021-04-22T12:20:37-0500</td>\n      <td>medium</td>\n      <td>2021-04-22 17:20:37+00:00</td>\n    </tr>\n    <tr>\n      <th>7652</th>\n      <td>7316247218</td>\n      <td>https://lasvegas.craigslist.org/ctd/d/scottsda...</td>\n      <td>las vegas</td>\n      <td>https://lasvegas.craigslist.org</td>\n      <td>69995</td>\n      <td>NaN</td>\n      <td>other</td>\n      <td>F-150</td>\n      <td>gas</td>\n      <td>412</td>\n      <td>clean</td>\n      <td>automatic</td>\n      <td>https://images.craigslist.org/00n0n_kNzqmJoY2a...</td>\n      <td>2021 *Ford* *F-150* NEW 2021 FORD F150 SUPERCR...</td>\n      <td>nv</td>\n      <td>33.458277</td>\n      <td>-111.925970</td>\n      <td>2021-05-03T09:15:32-0700</td>\n      <td>high</td>\n      <td>2021-05-03 16:15:32+00:00</td>\n    </tr>\n    <tr>\n      <th>7815</th>\n      <td>7314898718</td>\n      <td>https://gainesville.craigslist.org/ctd/d/gaine...</td>\n      <td>gainesville</td>\n      <td>https://gainesville.craigslist.org</td>\n      <td>38975</td>\n      <td>NaN</td>\n      <td>other</td>\n      <td>500</td>\n      <td>gas</td>\n      <td>28689</td>\n      <td>clean</td>\n      <td>automatic</td>\n      <td>https://images.craigslist.org/00e0e_3SqmUoLwUf...</td>\n      <td>2019 *Ram* *2500* Tradesman 4x2 Crew Cab 8' Bo...</td>\n      <td>fl</td>\n      <td>29.676827</td>\n      <td>-82.319202</td>\n      <td>2021-04-30T13:32:48-0400</td>\n      <td>high</td>\n      <td>2021-04-30 17:32:48+00:00</td>\n    </tr>\n    <tr>\n      <th>7819</th>\n      <td>7314454466</td>\n      <td>https://billings.craigslist.org/ctd/d/denver-2...</td>\n      <td>billings</td>\n      <td>https://billings.craigslist.org</td>\n      <td>49900</td>\n      <td>NaN</td>\n      <td>other</td>\n      <td>a Sienna</td>\n      <td>gas</td>\n      <td>34294</td>\n      <td>clean</td>\n      <td>automatic</td>\n      <td>https://images.craigslist.org/00707_lMMxHyLoAR...</td>\n      <td>2019 *Toyota* *Sienna* LE Automatic Access Sea...</td>\n      <td>mt</td>\n      <td>39.674406</td>\n      <td>-104.998604</td>\n      <td>2021-04-29T13:00:48-0600</td>\n      <td>high</td>\n      <td>2021-04-29 19:00:48+00:00</td>\n    </tr>\n    <tr>\n      <th>8527</th>\n      <td>7310829676</td>\n      <td>https://tucson.craigslist.org/ctd/d/tempe-2020...</td>\n      <td>tucson</td>\n      <td>https://tucson.craigslist.org</td>\n      <td>83877</td>\n      <td>NaN</td>\n      <td>other</td>\n      <td>ierra 2500HD</td>\n      <td>diesel</td>\n      <td>25363</td>\n      <td>NaN</td>\n      <td>automatic</td>\n      <td>https://images.craigslist.org/00A0A_nd5C1ILCvJ...</td>\n      <td>2020 *GMC* *Sierra 2500HD* LIFTED - AT4 Editio...</td>\n      <td>az</td>\n      <td>33.437098</td>\n      <td>-111.925724</td>\n      <td>2021-04-22T07:50:52-0700</td>\n      <td>high</td>\n      <td>2021-04-22 14:50:52+00:00</td>\n    </tr>\n    <tr>\n      <th>8805</th>\n      <td>7316852999</td>\n      <td>https://memphis.craigslist.org/ctd/d/memphis-2...</td>\n      <td>memphis</td>\n      <td>https://memphis.craigslist.org</td>\n      <td>19979</td>\n      <td>NaN</td>\n      <td>other</td>\n      <td>CX-5</td>\n      <td>gas</td>\n      <td>17183</td>\n      <td>clean</td>\n      <td>automatic</td>\n      <td>https://images.craigslist.org/00x0x_1sp7mb28W4...</td>\n      <td>2019 *Mazda* *CX-5* Sport FWD SUV - $19,979Cal...</td>\n      <td>tn</td>\n      <td>35.191437</td>\n      <td>-89.894973</td>\n      <td>2021-05-04T13:30:34-0500</td>\n      <td>medium</td>\n      <td>2021-05-04 18:30:34+00:00</td>\n    </tr>\n    <tr>\n      <th>9330</th>\n      <td>7316270709</td>\n      <td>https://denver.craigslist.org/ctd/d/denver-201...</td>\n      <td>denver</td>\n      <td>https://denver.craigslist.org</td>\n      <td>49900</td>\n      <td>NaN</td>\n      <td>other</td>\n      <td>a Sienna</td>\n      <td>gas</td>\n      <td>34294</td>\n      <td>clean</td>\n      <td>automatic</td>\n      <td>https://images.craigslist.org/00707_lMMxHyLoAR...</td>\n      <td>2019 *Toyota* *Sienna* LE Automatic Access Sea...</td>\n      <td>co</td>\n      <td>39.674406</td>\n      <td>-104.998604</td>\n      <td>2021-05-03T10:50:33-0600</td>\n      <td>high</td>\n      <td>2021-05-03 16:50:33+00:00</td>\n    </tr>\n    <tr>\n      <th>9388</th>\n      <td>7208549803</td>\n      <td>https://bellingham.craigslist.org/ctd/d/bellin...</td>\n      <td>bellingham</td>\n      <td>https://bellingham.craigslist.org</td>\n      <td>11999</td>\n      <td>NaN</td>\n      <td>other</td>\n      <td>NaN</td>\n      <td>NaN</td>\n      <td>95674</td>\n      <td>NaN</td>\n      <td>NaN</td>\n      <td>NaN</td>\n      <td>NaN</td>\n      <td>wa</td>\n      <td>NaN</td>\n      <td>NaN</td>\n      <td>NaN</td>\n      <td>medium</td>\n      <td>NaN</td>\n    </tr>\n    <tr>\n      <th>9549</th>\n      <td>7312938642</td>\n      <td>https://lasvegas.craigslist.org/ctd/d/scottsda...</td>\n      <td>las vegas</td>\n      <td>https://lasvegas.craigslist.org</td>\n      <td>67995</td>\n      <td>NaN</td>\n      <td>other</td>\n      <td>olet Silverado 1500</td>\n      <td>gas</td>\n      <td>7511</td>\n      <td>clean</td>\n      <td>automatic</td>\n      <td>https://images.craigslist.org/00M0M_74pDndl5gQ...</td>\n      <td>2020 *Chevrolet* *Silverado 1500* 6.2L HIGH CO...</td>\n      <td>nv</td>\n      <td>33.458277</td>\n      <td>-111.925970</td>\n      <td>2021-04-26T11:30:40-0700</td>\n      <td>high</td>\n      <td>2021-04-26 18:30:40+00:00</td>\n    </tr>\n    <tr>\n      <th>9723</th>\n      <td>7309216259</td>\n      <td>https://omaha.craigslist.org/ctd/d/omaha-2019-...</td>\n      <td>omaha / council bluffs</td>\n      <td>https://omaha.craigslist.org</td>\n      <td>29995</td>\n      <td>NaN</td>\n      <td>other</td>\n      <td>Enclave</td>\n      <td>gas</td>\n      <td>1036</td>\n      <td>rebuilt</td>\n      <td>automatic</td>\n      <td>https://images.craigslist.org/01010_1PAwiL9HwM...</td>\n      <td>2019 *Buick* *Enclave* AWD 4dr Essence SUV - $...</td>\n      <td>ia</td>\n      <td>41.207382</td>\n      <td>-96.023096</td>\n      <td>2021-04-19T09:30:41-0500</td>\n      <td>high</td>\n      <td>2021-04-19 14:30:41+00:00</td>\n    </tr>\n    <tr>\n      <th>9849</th>\n      <td>7316246632</td>\n      <td>https://sanantonio.craigslist.org/ctd/d/scotts...</td>\n      <td>san antonio</td>\n      <td>https://sanantonio.craigslist.org</td>\n      <td>49995</td>\n      <td>NaN</td>\n      <td>other</td>\n      <td>500</td>\n      <td>gas</td>\n      <td>19078</td>\n      <td>clean</td>\n      <td>automatic</td>\n      <td>https://images.craigslist.org/00p0p_lva0tqTnF1...</td>\n      <td>2019 *Ram* *1500* LIFTED 2019 RAM 1500 WITH BU...</td>\n      <td>tx</td>\n      <td>33.458277</td>\n      <td>-111.925970</td>\n      <td>2021-05-03T11:14:44-0500</td>\n      <td>high</td>\n      <td>2021-05-03 16:14:44+00:00</td>\n    </tr>\n    <tr>\n      <th>9953</th>\n      <td>7314033574</td>\n      <td>https://inlandempire.craigslist.org/ctd/d/scot...</td>\n      <td>inland empire</td>\n      <td>https://inlandempire.craigslist.org</td>\n      <td>54995</td>\n      <td>NaN</td>\n      <td>other</td>\n      <td>F-150</td>\n      <td>gas</td>\n      <td>180</td>\n      <td>clean</td>\n      <td>automatic</td>\n      <td>https://images.craigslist.org/00d0d_92wTNhRT7B...</td>\n      <td>2020 *Ford* *F-150* 180 MILES. LIFTED FORD F15...</td>\n      <td>ca</td>\n      <td>33.458277</td>\n      <td>-111.925970</td>\n      <td>2021-04-28T13:51:27-0700</td>\n      <td>high</td>\n      <td>2021-04-28 20:51:27+00:00</td>\n    </tr>\n  </tbody>\n</table>\n</div>"
     },
     "execution_count": 139,
     "metadata": {},
     "output_type": "execute_result"
    }
   ],
   "source": [
    "# Ваш код здесь\n",
    "df_out[df_out.year.isna()]"
   ]
  },
  {
   "cell_type": "markdown",
   "id": "5f4826d1",
   "metadata": {
    "id": "5f4826d1",
    "pycharm": {
     "name": "#%% md\n"
    }
   },
   "source": [
    "5. Обработайте пропуски, удалив записи, в которых год выпуска автомобиля не заполнен, и сохраните обновлённый датафрейм, а затем выведите его размерность.\n"
   ]
  },
  {
   "cell_type": "code",
   "execution_count": 140,
   "id": "ec1eab4f",
   "metadata": {
    "ExecuteTime": {
     "end_time": "2022-01-29T00:18:02.409949Z",
     "start_time": "2022-01-29T00:18:02.404640Z"
    },
    "id": "ec1eab4f",
    "pycharm": {
     "name": "#%%\n"
    }
   },
   "outputs": [
    {
     "data": {
      "text/plain": "              id                                                url  \\\n0     7308295377  https://chattanooga.craigslist.org/ctd/d/chatt...   \n1     7316380095  https://newjersey.craigslist.org/ctd/d/carlsta...   \n2     7313733749  https://reno.craigslist.org/ctd/d/atlanta-2017...   \n3     7308210929  https://fayetteville.craigslist.org/ctd/d/rale...   \n4     7316474668  https://newyork.craigslist.org/lgi/cto/d/baldw...   \n...          ...                                                ...   \n9995  7304876387  https://chautauqua.craigslist.org/ctd/d/falcon...   \n9996  7316152972  https://binghamton.craigslist.org/ctd/d/roches...   \n9997  7310993818  https://salem.craigslist.org/ctd/d/salem-2011-...   \n9998  7306637427  https://madison.craigslist.org/ctd/d/madison-2...   \n9999  7311960763  https://norfolk.craigslist.org/ctd/d/chesapeak...   \n\n                       region                           region_url  price  \\\n0                 chattanooga   https://chattanooga.craigslist.org  54990   \n1                north jersey     https://newjersey.craigslist.org  16942   \n2                reno / tahoe          https://reno.craigslist.org  35590   \n3                fayetteville  https://fayetteville.craigslist.org  14500   \n4               new york city       https://newyork.craigslist.org  21800   \n...                       ...                                  ...    ...   \n9995               chautauqua    https://chautauqua.craigslist.org   4495   \n9996               binghamton    https://binghamton.craigslist.org  14495   \n9997                    salem         https://salem.craigslist.org   8995   \n9998                  madison       https://madison.craigslist.org  31900   \n9999  norfolk / hampton roads       https://norfolk.craigslist.org  31990   \n\n        year manufacturer                      model    fuel  odometer  \\\n0     2020.0          ram     2500 crew cab big horn  diesel     27442   \n1     2016.0         ford       explorer 4wd 4dr xlt     NaN     60023   \n2     2017.0   volkswagen           golf r hatchback     gas     14048   \n3     2013.0       toyota                       rav4     gas    117291   \n4     2021.0       nissan                     altima     gas      8000   \n...      ...          ...                        ...     ...       ...   \n9995  2002.0       toyota                       rav4     gas    150000   \n9996  2008.0         jeep                   wrangler     gas    113573   \n9997  2011.0         audi  a3 2.0t premium plus pzev     gas    150184   \n9998  2015.0      porsche                    cayenne  hybrid     61943   \n9999  2017.0          ram     1500 crew cab big horn     gas     35921   \n\n     title_status transmission  \\\n0           clean        other   \n1           clean    automatic   \n2           clean        other   \n3           clean    automatic   \n4           clean    automatic   \n...           ...          ...   \n9995        clean    automatic   \n9996        clean        other   \n9997        clean    automatic   \n9998        clean    automatic   \n9999        clean        other   \n\n                                              image_url  \\\n0     https://images.craigslist.org/00N0N_1xMPvfxRAI...   \n1     https://images.craigslist.org/00x0x_26jl9F0cnL...   \n2     https://images.craigslist.org/00y0y_eeZjWeiSfb...   \n3     https://images.craigslist.org/00606_iGe5iXidib...   \n4     https://images.craigslist.org/00V0V_3pSOiPZ3Sd...   \n...                                                 ...   \n9995  https://images.craigslist.org/00n0n_aaEBqmzz5Z...   \n9996  https://images.craigslist.org/00000_9ZNVdXaiei...   \n9997  https://images.craigslist.org/00X0X_k5JiZDDyqM...   \n9998  https://images.craigslist.org/00O0O_gBihGEQxYT...   \n9999  https://images.craigslist.org/00c0c_4rTlvLXy36...   \n\n                                            description state        lat  \\\n0     Carvana is the safer way to buy a car During t...    tn  35.060000   \n1     ***Call Us for more information at: 201-635-14...    nj  40.821805   \n2     Carvana is the safer way to buy a car During t...    ca  33.779214   \n3     2013 Toyota RAV4 XLE 4dr SUV     Offered by: R...    nc  35.715954   \n4     2021 Nissan Altima Sv with Only 8 K Miles Titl...    ny  40.654800   \n...                                                 ...   ...        ...   \n9995  Transmission:Automatic Exterior Color:WHITE In...    ny  42.123900   \n9996  2008 Jeep Wrangler X  Offered by: R&L Auto -- ...    ny  43.216990   \n9997  2011 Audi A3 2.0T Premium Plus PZEV Wagon2011 ...    or  44.925908   \n9998  2015 Porsche Cayenne AWD 4dr S E-Hybrid - $31,...    wi  43.029559   \n9999  Carvana is the safer way to buy a car During t...    va  36.670000   \n\n            long              posting_date price_category  \\\n0     -85.250000  2021-04-17T12:30:50-0400           high   \n1     -74.061962  2021-05-03T15:40:21-0400         medium   \n2     -84.411811  2021-04-28T03:52:20-0700           high   \n3     -78.655304  2021-04-17T10:08:57-0400         medium   \n4     -73.609700  2021-05-03T18:32:06-0400         medium   \n...          ...                       ...            ...   \n9995  -79.189500  2021-04-10T16:33:57-0400            low   \n9996  -77.755610  2021-05-03T09:36:30-0400         medium   \n9997 -122.982753  2021-04-22T12:14:01-0700            low   \n9998  -89.397796  2021-04-14T09:14:42-0500           high   \n9999  -76.300000  2021-04-24T13:50:49-0400           high   \n\n                           date  \n0     2021-04-17 16:30:50+00:00  \n1     2021-05-03 19:40:21+00:00  \n2     2021-04-28 10:52:20+00:00  \n3     2021-04-17 14:08:57+00:00  \n4     2021-05-03 22:32:06+00:00  \n...                         ...  \n9995  2021-04-10 20:33:57+00:00  \n9996  2021-05-03 13:36:30+00:00  \n9997  2021-04-22 19:14:01+00:00  \n9998  2021-04-14 14:14:42+00:00  \n9999  2021-04-24 17:50:49+00:00  \n\n[9964 rows x 20 columns]",
      "text/html": "<div>\n<style scoped>\n    .dataframe tbody tr th:only-of-type {\n        vertical-align: middle;\n    }\n\n    .dataframe tbody tr th {\n        vertical-align: top;\n    }\n\n    .dataframe thead th {\n        text-align: right;\n    }\n</style>\n<table border=\"1\" class=\"dataframe\">\n  <thead>\n    <tr style=\"text-align: right;\">\n      <th></th>\n      <th>id</th>\n      <th>url</th>\n      <th>region</th>\n      <th>region_url</th>\n      <th>price</th>\n      <th>year</th>\n      <th>manufacturer</th>\n      <th>model</th>\n      <th>fuel</th>\n      <th>odometer</th>\n      <th>title_status</th>\n      <th>transmission</th>\n      <th>image_url</th>\n      <th>description</th>\n      <th>state</th>\n      <th>lat</th>\n      <th>long</th>\n      <th>posting_date</th>\n      <th>price_category</th>\n      <th>date</th>\n    </tr>\n  </thead>\n  <tbody>\n    <tr>\n      <th>0</th>\n      <td>7308295377</td>\n      <td>https://chattanooga.craigslist.org/ctd/d/chatt...</td>\n      <td>chattanooga</td>\n      <td>https://chattanooga.craigslist.org</td>\n      <td>54990</td>\n      <td>2020.0</td>\n      <td>ram</td>\n      <td>2500 crew cab big horn</td>\n      <td>diesel</td>\n      <td>27442</td>\n      <td>clean</td>\n      <td>other</td>\n      <td>https://images.craigslist.org/00N0N_1xMPvfxRAI...</td>\n      <td>Carvana is the safer way to buy a car During t...</td>\n      <td>tn</td>\n      <td>35.060000</td>\n      <td>-85.250000</td>\n      <td>2021-04-17T12:30:50-0400</td>\n      <td>high</td>\n      <td>2021-04-17 16:30:50+00:00</td>\n    </tr>\n    <tr>\n      <th>1</th>\n      <td>7316380095</td>\n      <td>https://newjersey.craigslist.org/ctd/d/carlsta...</td>\n      <td>north jersey</td>\n      <td>https://newjersey.craigslist.org</td>\n      <td>16942</td>\n      <td>2016.0</td>\n      <td>ford</td>\n      <td>explorer 4wd 4dr xlt</td>\n      <td>NaN</td>\n      <td>60023</td>\n      <td>clean</td>\n      <td>automatic</td>\n      <td>https://images.craigslist.org/00x0x_26jl9F0cnL...</td>\n      <td>***Call Us for more information at: 201-635-14...</td>\n      <td>nj</td>\n      <td>40.821805</td>\n      <td>-74.061962</td>\n      <td>2021-05-03T15:40:21-0400</td>\n      <td>medium</td>\n      <td>2021-05-03 19:40:21+00:00</td>\n    </tr>\n    <tr>\n      <th>2</th>\n      <td>7313733749</td>\n      <td>https://reno.craigslist.org/ctd/d/atlanta-2017...</td>\n      <td>reno / tahoe</td>\n      <td>https://reno.craigslist.org</td>\n      <td>35590</td>\n      <td>2017.0</td>\n      <td>volkswagen</td>\n      <td>golf r hatchback</td>\n      <td>gas</td>\n      <td>14048</td>\n      <td>clean</td>\n      <td>other</td>\n      <td>https://images.craigslist.org/00y0y_eeZjWeiSfb...</td>\n      <td>Carvana is the safer way to buy a car During t...</td>\n      <td>ca</td>\n      <td>33.779214</td>\n      <td>-84.411811</td>\n      <td>2021-04-28T03:52:20-0700</td>\n      <td>high</td>\n      <td>2021-04-28 10:52:20+00:00</td>\n    </tr>\n    <tr>\n      <th>3</th>\n      <td>7308210929</td>\n      <td>https://fayetteville.craigslist.org/ctd/d/rale...</td>\n      <td>fayetteville</td>\n      <td>https://fayetteville.craigslist.org</td>\n      <td>14500</td>\n      <td>2013.0</td>\n      <td>toyota</td>\n      <td>rav4</td>\n      <td>gas</td>\n      <td>117291</td>\n      <td>clean</td>\n      <td>automatic</td>\n      <td>https://images.craigslist.org/00606_iGe5iXidib...</td>\n      <td>2013 Toyota RAV4 XLE 4dr SUV     Offered by: R...</td>\n      <td>nc</td>\n      <td>35.715954</td>\n      <td>-78.655304</td>\n      <td>2021-04-17T10:08:57-0400</td>\n      <td>medium</td>\n      <td>2021-04-17 14:08:57+00:00</td>\n    </tr>\n    <tr>\n      <th>4</th>\n      <td>7316474668</td>\n      <td>https://newyork.craigslist.org/lgi/cto/d/baldw...</td>\n      <td>new york city</td>\n      <td>https://newyork.craigslist.org</td>\n      <td>21800</td>\n      <td>2021.0</td>\n      <td>nissan</td>\n      <td>altima</td>\n      <td>gas</td>\n      <td>8000</td>\n      <td>clean</td>\n      <td>automatic</td>\n      <td>https://images.craigslist.org/00V0V_3pSOiPZ3Sd...</td>\n      <td>2021 Nissan Altima Sv with Only 8 K Miles Titl...</td>\n      <td>ny</td>\n      <td>40.654800</td>\n      <td>-73.609700</td>\n      <td>2021-05-03T18:32:06-0400</td>\n      <td>medium</td>\n      <td>2021-05-03 22:32:06+00:00</td>\n    </tr>\n    <tr>\n      <th>...</th>\n      <td>...</td>\n      <td>...</td>\n      <td>...</td>\n      <td>...</td>\n      <td>...</td>\n      <td>...</td>\n      <td>...</td>\n      <td>...</td>\n      <td>...</td>\n      <td>...</td>\n      <td>...</td>\n      <td>...</td>\n      <td>...</td>\n      <td>...</td>\n      <td>...</td>\n      <td>...</td>\n      <td>...</td>\n      <td>...</td>\n      <td>...</td>\n      <td>...</td>\n    </tr>\n    <tr>\n      <th>9995</th>\n      <td>7304876387</td>\n      <td>https://chautauqua.craigslist.org/ctd/d/falcon...</td>\n      <td>chautauqua</td>\n      <td>https://chautauqua.craigslist.org</td>\n      <td>4495</td>\n      <td>2002.0</td>\n      <td>toyota</td>\n      <td>rav4</td>\n      <td>gas</td>\n      <td>150000</td>\n      <td>clean</td>\n      <td>automatic</td>\n      <td>https://images.craigslist.org/00n0n_aaEBqmzz5Z...</td>\n      <td>Transmission:Automatic Exterior Color:WHITE In...</td>\n      <td>ny</td>\n      <td>42.123900</td>\n      <td>-79.189500</td>\n      <td>2021-04-10T16:33:57-0400</td>\n      <td>low</td>\n      <td>2021-04-10 20:33:57+00:00</td>\n    </tr>\n    <tr>\n      <th>9996</th>\n      <td>7316152972</td>\n      <td>https://binghamton.craigslist.org/ctd/d/roches...</td>\n      <td>binghamton</td>\n      <td>https://binghamton.craigslist.org</td>\n      <td>14495</td>\n      <td>2008.0</td>\n      <td>jeep</td>\n      <td>wrangler</td>\n      <td>gas</td>\n      <td>113573</td>\n      <td>clean</td>\n      <td>other</td>\n      <td>https://images.craigslist.org/00000_9ZNVdXaiei...</td>\n      <td>2008 Jeep Wrangler X  Offered by: R&amp;L Auto -- ...</td>\n      <td>ny</td>\n      <td>43.216990</td>\n      <td>-77.755610</td>\n      <td>2021-05-03T09:36:30-0400</td>\n      <td>medium</td>\n      <td>2021-05-03 13:36:30+00:00</td>\n    </tr>\n    <tr>\n      <th>9997</th>\n      <td>7310993818</td>\n      <td>https://salem.craigslist.org/ctd/d/salem-2011-...</td>\n      <td>salem</td>\n      <td>https://salem.craigslist.org</td>\n      <td>8995</td>\n      <td>2011.0</td>\n      <td>audi</td>\n      <td>a3 2.0t premium plus pzev</td>\n      <td>gas</td>\n      <td>150184</td>\n      <td>clean</td>\n      <td>automatic</td>\n      <td>https://images.craigslist.org/00X0X_k5JiZDDyqM...</td>\n      <td>2011 Audi A3 2.0T Premium Plus PZEV Wagon2011 ...</td>\n      <td>or</td>\n      <td>44.925908</td>\n      <td>-122.982753</td>\n      <td>2021-04-22T12:14:01-0700</td>\n      <td>low</td>\n      <td>2021-04-22 19:14:01+00:00</td>\n    </tr>\n    <tr>\n      <th>9998</th>\n      <td>7306637427</td>\n      <td>https://madison.craigslist.org/ctd/d/madison-2...</td>\n      <td>madison</td>\n      <td>https://madison.craigslist.org</td>\n      <td>31900</td>\n      <td>2015.0</td>\n      <td>porsche</td>\n      <td>cayenne</td>\n      <td>hybrid</td>\n      <td>61943</td>\n      <td>clean</td>\n      <td>automatic</td>\n      <td>https://images.craigslist.org/00O0O_gBihGEQxYT...</td>\n      <td>2015 Porsche Cayenne AWD 4dr S E-Hybrid - $31,...</td>\n      <td>wi</td>\n      <td>43.029559</td>\n      <td>-89.397796</td>\n      <td>2021-04-14T09:14:42-0500</td>\n      <td>high</td>\n      <td>2021-04-14 14:14:42+00:00</td>\n    </tr>\n    <tr>\n      <th>9999</th>\n      <td>7311960763</td>\n      <td>https://norfolk.craigslist.org/ctd/d/chesapeak...</td>\n      <td>norfolk / hampton roads</td>\n      <td>https://norfolk.craigslist.org</td>\n      <td>31990</td>\n      <td>2017.0</td>\n      <td>ram</td>\n      <td>1500 crew cab big horn</td>\n      <td>gas</td>\n      <td>35921</td>\n      <td>clean</td>\n      <td>other</td>\n      <td>https://images.craigslist.org/00c0c_4rTlvLXy36...</td>\n      <td>Carvana is the safer way to buy a car During t...</td>\n      <td>va</td>\n      <td>36.670000</td>\n      <td>-76.300000</td>\n      <td>2021-04-24T13:50:49-0400</td>\n      <td>high</td>\n      <td>2021-04-24 17:50:49+00:00</td>\n    </tr>\n  </tbody>\n</table>\n<p>9964 rows × 20 columns</p>\n</div>"
     },
     "execution_count": 140,
     "metadata": {},
     "output_type": "execute_result"
    }
   ],
   "source": [
    "# Ваш код здесь\n",
    "df_out = df_out[df_out.year.notna()]\n",
    "df_out"
   ]
  },
  {
   "cell_type": "markdown",
   "id": "96242d8b",
   "metadata": {
    "id": "96242d8b",
    "pycharm": {
     "name": "#%% md\n"
    }
   },
   "source": [
    "6. Выведите количество пропущенных значений в годе выпуска автомобиля для обновлённого датафрейма."
   ]
  },
  {
   "cell_type": "code",
   "execution_count": 176,
   "id": "b7105ead",
   "metadata": {
    "id": "b7105ead",
    "pycharm": {
     "name": "#%%\n"
    }
   },
   "outputs": [
    {
     "name": "stdout",
     "output_type": "stream",
     "text": [
      "Количество пропущенных значений в year: 0\n"
     ]
    }
   ],
   "source": [
    "print(\"Количество пропущенных значений в year:\", df_out.year.isna().sum())  # Допишите код"
   ]
  },
  {
   "cell_type": "markdown",
   "id": "8f2f4996",
   "metadata": {
    "id": "8f2f4996",
    "pycharm": {
     "name": "#%% md\n"
    }
   },
   "source": [
    "### Задача 3. Обработка пропусков в типе топлива\n",
    "\n",
    "1. Выведите количество значений для типа топлива, включая пропущенные значения. Обратите внимание на количество пропущенных значений.\n",
    "\n",
    "\n"
   ]
  },
  {
   "cell_type": "code",
   "execution_count": 177,
   "id": "33a21fd9",
   "metadata": {
    "id": "33a21fd9",
    "pycharm": {
     "name": "#%%\n"
    }
   },
   "outputs": [
    {
     "data": {
      "text/plain": "fuel\ngas         8379\nother        729\ndiesel       650\nhybrid       108\nNaN           54\nelectric      44\nName: count, dtype: int64"
     },
     "execution_count": 177,
     "metadata": {},
     "output_type": "execute_result"
    }
   ],
   "source": [
    "# Ваш код здесь\n",
    "df_out.fuel.value_counts(dropna=False)"
   ]
  },
  {
   "cell_type": "markdown",
   "id": "b996ea4e",
   "metadata": {
    "id": "b996ea4e",
    "pycharm": {
     "name": "#%% md\n"
    }
   },
   "source": [
    "2. Выведите описательные статистики для типа топлива.\n"
   ]
  },
  {
   "cell_type": "code",
   "execution_count": 178,
   "id": "4d5f188c",
   "metadata": {
    "ExecuteTime": {
     "end_time": "2022-01-29T00:29:32.254957Z",
     "start_time": "2022-01-29T00:29:32.251802Z"
    },
    "id": "4d5f188c",
    "pycharm": {
     "name": "#%%\n"
    }
   },
   "outputs": [
    {
     "data": {
      "text/plain": "count     9910\nunique       5\ntop        gas\nfreq      8379\nName: fuel, dtype: object"
     },
     "execution_count": 178,
     "metadata": {},
     "output_type": "execute_result"
    }
   ],
   "source": [
    "# Ваш код здесь\n",
    "df_out.fuel.describe()"
   ]
  },
  {
   "cell_type": "markdown",
   "id": "b2aab1bc",
   "metadata": {
    "id": "b2aab1bc",
    "pycharm": {
     "name": "#%% md\n"
    }
   },
   "source": [
    "3. Выведите записи, в которых тип топлива не заполнен. Посмотрите на данные и подумайте, какую стратегию обработки значений можно применить.\n"
   ]
  },
  {
   "cell_type": "code",
   "execution_count": 179,
   "id": "67f0feee",
   "metadata": {
    "ExecuteTime": {
     "end_time": "2022-01-29T23:37:31.879221Z",
     "start_time": "2022-01-29T23:37:31.875360Z"
    },
    "id": "67f0feee",
    "pycharm": {
     "name": "#%%\n"
    }
   },
   "outputs": [
    {
     "data": {
      "text/plain": "              id                                                url  \\\n1     7316380095  https://newjersey.craigslist.org/ctd/d/carlsta...   \n32    7309910590  https://eugene.craigslist.org/ctd/d/eugene-200...   \n78    7314559074  https://eugene.craigslist.org/ctd/d/eugene-200...   \n275   7315141987  https://honolulu.craigslist.org/oah/ctd/d/fort...   \n471   7316807613  https://eugene.craigslist.org/ctd/d/eugene-200...   \n1009  7314561306  https://cnj.craigslist.org/ctd/d/parlin-2000-c...   \n1279  7310297136  https://westernmass.craigslist.org/ctd/d/johns...   \n1318  7310414739  https://nwct.craigslist.org/ctd/d/melville-200...   \n1686  7316342709  https://newjersey.craigslist.org/ctd/d/carlsta...   \n1847  7315151536  https://honolulu.craigslist.org/oah/ctd/d/fort...   \n1970  7316383024  https://newjersey.craigslist.org/ctd/d/carlsta...   \n2034  7314304193  https://sanantonio.craigslist.org/ctd/d/san-an...   \n2129  7302733118  https://harrisburg.craigslist.org/ctd/d/brockp...   \n2367  7314161453  https://honolulu.craigslist.org/oah/ctd/d/hono...   \n2711  7309203638  https://wenatchee.craigslist.org/ctd/d/wenatch...   \n2806  7315330404  https://washingtondc.craigslist.org/nva/ctd/d/...   \n2840  7313525045  https://cnj.craigslist.org/ctd/d/parlin-2019-n...   \n2896  7310562680  https://newjersey.craigslist.org/ctd/d/parlin-...   \n2937  7309460386  https://cincinnati.craigslist.org/ctd/d/camp-d...   \n2975  7314857030  https://westslope.craigslist.org/ctd/d/grand-j...   \n3103  7314544641  https://cnj.craigslist.org/ctd/d/parlin-2017-d...   \n3216  7304158723  https://bham.craigslist.org/ctd/d/new-castle-2...   \n3228  7309551647  https://westslope.craigslist.org/ctd/d/grand-j...   \n3379  7304419189  https://cincinnati.craigslist.org/ctd/d/camp-d...   \n3691  7310520763  https://westslope.craigslist.org/ctd/d/grand-j...   \n3754  7308856751  https://eugene.craigslist.org/ctd/d/eugene-200...   \n3814  7314143519  https://boise.craigslist.org/ctd/d/nampa-1971-...   \n3834  7311269192  https://omaha.craigslist.org/ctd/d/council-blu...   \n4998  7311631527  https://nashville.craigslist.org/ctd/d/nashvil...   \n5245  7312115428  https://eugene.craigslist.org/ctd/d/eugene-201...   \n5260  7307388962  https://medford.craigslist.org/ctd/d/medford-2...   \n5577  7314750640  https://syracuse.craigslist.org/ctd/d/johnstow...   \n5811  7314282600  https://washingtondc.craigslist.org/nva/ctd/d/...   \n5891  7310526453  https://westslope.craigslist.org/ctd/d/grand-j...   \n5948  7316686098  https://cnj.craigslist.org/ctd/d/hillside-2019...   \n6060  7310551940  https://cincinnati.craigslist.org/ctd/d/camp-d...   \n6142  7314719321  https://kpr.craigslist.org/ctd/d/yakima-2020-n...   \n6162  7316456657  https://westslope.craigslist.org/ctd/d/grand-j...   \n6172  7305971655  https://lancaster.craigslist.org/ctd/d/brockpo...   \n6304  7304094040  https://elpaso.craigslist.org/ctd/d/johnstown-...   \n6572  7314261064  https://omaha.craigslist.org/ctd/d/council-blu...   \n6627  7315111002  https://honolulu.craigslist.org/oah/ctd/d/fort...   \n6817  7310860252  https://charlotte.craigslist.org/ctd/d/greensb...   \n6922  7310766348  https://greensboro.craigslist.org/ctd/d/high-p...   \n6967  7305911263  https://sarasota.craigslist.org/ctd/d/bradento...   \n7481  7313584978  https://cnj.craigslist.org/ctd/d/parlin-2019-h...   \n8067  7310526393  https://newjersey.craigslist.org/ctd/d/parlin-...   \n8269  7314112375  https://westslope.craigslist.org/ctd/d/grand-j...   \n8307  7308149122  https://harrisburg.craigslist.org/ctd/d/sunbur...   \n8773  7313576130  https://cnj.craigslist.org/ctd/d/parlin-2012-j...   \n9446  7309365699  https://fortmyers.craigslist.org/chl/ctd/d/bra...   \n9636  7313475467  https://eugene.craigslist.org/ctd/d/eugene-201...   \n9805  7313949726  https://harrisburg.craigslist.org/ctd/d/brockp...   \n9815  7314349617  https://eugene.craigslist.org/ctd/d/eugene-200...   \n\n                        region                           region_url  price  \\\n1                 north jersey     https://newjersey.craigslist.org  16942   \n32                      eugene        https://eugene.craigslist.org   4977   \n78                      eugene        https://eugene.craigslist.org  27977   \n275                     hawaii      https://honolulu.craigslist.org  29888   \n471                     eugene        https://eugene.craigslist.org  13436   \n1009                central NJ           https://cnj.craigslist.org   5894   \n1279     western massachusetts   https://westernmass.craigslist.org   6000   \n1318              northwest CT          https://nwct.craigslist.org  11995   \n1686              north jersey     https://newjersey.craigslist.org  19942   \n1847                    hawaii      https://honolulu.craigslist.org  29988   \n1970              north jersey     https://newjersey.craigslist.org  10742   \n2034               san antonio    https://sanantonio.craigslist.org  16995   \n2129                harrisburg    https://harrisburg.craigslist.org  14700   \n2367                    hawaii      https://honolulu.craigslist.org  18000   \n2711                 wenatchee     https://wenatchee.craigslist.org  32880   \n2806            washington, DC  https://washingtondc.craigslist.org  16995   \n2840                central NJ           https://cnj.craigslist.org  15887   \n2896              north jersey     https://newjersey.craigslist.org  23717   \n2937                cincinnati    https://cincinnati.craigslist.org   9995   \n2975             western slope     https://westslope.craigslist.org   9493   \n3103                central NJ           https://cnj.craigslist.org  15000   \n3216                birmingham          https://bham.craigslist.org  26500   \n3228             western slope     https://westslope.craigslist.org  18499   \n3379                cincinnati    https://cincinnati.craigslist.org   9700   \n3691             western slope     https://westslope.craigslist.org   2450   \n3754                    eugene        https://eugene.craigslist.org  26900   \n3814                     boise         https://boise.craigslist.org  10395   \n3834    omaha / council bluffs         https://omaha.craigslist.org   9995   \n4998                 nashville     https://nashville.craigslist.org  12995   \n5245                    eugene        https://eugene.craigslist.org   9828   \n5260           medford-ashland       https://medford.craigslist.org  14984   \n5577                  syracuse      https://syracuse.craigslist.org   5595   \n5811            washington, DC  https://washingtondc.craigslist.org  18595   \n5891             western slope     https://westslope.craigslist.org   1750   \n5948                central NJ           https://cnj.craigslist.org  28900   \n6060                cincinnati    https://cincinnati.craigslist.org  58500   \n6142  kennewick-pasco-richland           https://kpr.craigslist.org  16999   \n6162             western slope     https://westslope.craigslist.org   9788   \n6172                 lancaster     https://lancaster.craigslist.org   7600   \n6304                   el paso        https://elpaso.craigslist.org   8500   \n6572    omaha / council bluffs         https://omaha.craigslist.org  13995   \n6627                    hawaii      https://honolulu.craigslist.org  12900   \n6817                 charlotte     https://charlotte.craigslist.org   6998   \n6922                greensboro    https://greensboro.craigslist.org   3999   \n6967        sarasota-bradenton      https://sarasota.craigslist.org   7777   \n7481                central NJ           https://cnj.craigslist.org  15886   \n8067              north jersey     https://newjersey.craigslist.org  19787   \n8269             western slope     https://westslope.craigslist.org   9995   \n8307                harrisburg    https://harrisburg.craigslist.org  49995   \n8773                central NJ           https://cnj.craigslist.org  23500   \n9446     ft myers / SW florida     https://fortmyers.craigslist.org  14997   \n9636                    eugene        https://eugene.craigslist.org   9979   \n9805                harrisburg    https://harrisburg.craigslist.org   8900   \n9815                    eugene        https://eugene.craigslist.org  11976   \n\n        year manufacturer                                      model fuel  \\\n1     2016.0         ford                       explorer 4wd 4dr xlt  NaN   \n32    2001.0       toyota     camry solara 2dr cpe se v6 auto (natl)  NaN   \n78    2009.0         ford          f-150 4wd supercrew 145\" platinum  NaN   \n275   2019.0       nissan              frontier crew cab 4x2 sv auto  NaN   \n471   2006.0    chevrolet    silverado 1500 ext cab 143.5\" wb 4wd ls  NaN   \n1009  2000.0    chevrolet                    s-10 ext cab 123\" wb ls  NaN   \n1279  2008.0        other                                      IC IC  NaN   \n1318  2007.0          gmc               c-7500 multiple uses perfect  NaN   \n1686  2017.0          ram  promaster cargo van 1500 low roof 118\" wb  NaN   \n1847  2019.0       toyota           sienna le fwd 8-passenger (natl)  NaN   \n1970  2016.0   volkswagen       passat 4dr sdn 1.8t auto r-line pzev  NaN   \n2034  2018.0   mitsubishi                 outlander sport es 2.0 cvt  NaN   \n2129  2016.0         ford                                     fusion  NaN   \n2367  2017.0        dodge                                    journey  NaN   \n2711  2017.0         ford                                      f-150  NaN   \n2806  2012.0     cadillac                    escalade awd 4dr luxury  NaN   \n2840  2019.0       nissan                         altima 2.5 s sedan  NaN   \n2896  2018.0   alfa-romeo                          romeo stelvio awd  NaN   \n2937  2014.0    chevrolet                     cruze 4dr sdn auto 1lt  NaN   \n2975  2013.0        honda                      civic sdn 4dr auto lx  NaN   \n3103  2017.0        dodge                     grand caravan se wagon  NaN   \n3216  2014.0          gmc                                sierra 1500  NaN   \n3228  2016.0         jeep                 renegade 4wd 4dr trailhawk  NaN   \n3379  2011.0       toyota              corolla 4dr sdn auto s (natl)  NaN   \n3691  2005.0     infiniti                 g35 sedan g35 4dr sdn auto  NaN   \n3754  2006.0          ram            2500 4dr quad cab 160.5 4wd slt  NaN   \n3814  1971.0        other               American LaFrance Fire Truck  NaN   \n3834  2016.0         ford                                      focus  NaN   \n4998  2014.0         jeep                                   cherokee  NaN   \n5245  2010.0   volkswagen                         tiguan fwd 4dr sel  NaN   \n5260  2010.0         ford                                 expedition  NaN   \n5577  2011.0          gmc                                  starcraft  NaN   \n5811  2015.0        honda                  odyssey 5dr touring elite  NaN   \n5891  2003.0       nissan                  xterra 4dr xe 2wd v6 auto  NaN   \n5948  2019.0        honda                              cr-v ex-l awd  NaN   \n6060  2019.0    chevrolet   silverado 2500hd 4wd crew cab 153.7\" ltz  NaN   \n6142  2020.0       nissan                                   versa sv  NaN   \n6162  2013.0      hyundai           sonata 4dr sdn 2.4l auto limited  NaN   \n6172  2012.0         jeep                                    patriot  NaN   \n6304  2010.0        other                           INTERNATIONAL IC  NaN   \n6572  2016.0         ford                                     taurus  NaN   \n6627  2013.0        honda                    civic sdn 4dr auto ex-l  NaN   \n6817  2008.0        honda                                  civic cpe  NaN   \n6922  2001.0        honda                                      civic  NaN   \n6967  2014.0     chrysler                             town & country  NaN   \n7481  2019.0      hyundai                           elantra sel auto  NaN   \n8067  2018.0         ford                               edge sel awd  NaN   \n8269  2013.0         ford                      fusion 4dr sdn se fwd  NaN   \n8307  2015.0        dodge          challenger hellcat 6-speed manual  NaN   \n8773  2012.0         jeep          wrangler unlimited 4wd 4dr sahara  NaN   \n9446  2010.0         ford                                      e-350  NaN   \n9636  2012.0    chevrolet                   equinox awd 4dr lt w/1lt  NaN   \n9805  2012.0        honda                                     accord  NaN   \n9815  2008.0        acura                                mdx 4wd 4dr  NaN   \n\n      odometer title_status transmission  \\\n1        60023        clean    automatic   \n32      193242        clean    automatic   \n78       79522        clean    automatic   \n275      10679        clean    automatic   \n471     172700        clean    automatic   \n1009     78740        clean    automatic   \n1279         0          NaN    automatic   \n1318     50098        clean    automatic   \n1686     88836        clean    automatic   \n1847     18762        clean    automatic   \n1970     54477        clean    automatic   \n2034     25655        clean    automatic   \n2129     95674          NaN          NaN   \n2367     30273        clean    automatic   \n2711     70927        clean    automatic   \n2806    153932        clean    automatic   \n2840     42683        clean    automatic   \n2896     55645        clean    automatic   \n2937     80859        clean    automatic   \n2975    140793        clean    automatic   \n3103     29982        clean    automatic   \n3216    162934        clean    automatic   \n3228     75314        clean    automatic   \n3379    126872        clean    automatic   \n3691    140782        clean    automatic   \n3754    177001        clean       manual   \n3814     78974        clean          NaN   \n3834     38505          NaN    automatic   \n4998    103028          NaN    automatic   \n5245    121515        clean    automatic   \n5260    128975          NaN          NaN   \n5577         0          NaN    automatic   \n5811    107176        clean    automatic   \n5891    201570        clean    automatic   \n5948     15392        clean    automatic   \n6060     50930        clean    automatic   \n6142     24140          NaN        other   \n6162    117773        clean    automatic   \n6172     95674          NaN          NaN   \n6304    134385          NaN    automatic   \n6572     49020          NaN    automatic   \n6627     68522        clean    automatic   \n6817     95674          NaN          NaN   \n6922     95674          NaN          NaN   \n6967    137312        clean    automatic   \n7481      8266        clean    automatic   \n8067     89484        clean    automatic   \n8269    111576        clean    automatic   \n8307      4697        clean       manual   \n8773    105927        clean    automatic   \n9446    153120        clean       manual   \n9636    165554        clean    automatic   \n9805     95674          NaN          NaN   \n9815    156801        clean    automatic   \n\n                                              image_url  \\\n1     https://images.craigslist.org/00x0x_26jl9F0cnL...   \n32    https://images.craigslist.org/00F0F_ebtJlxCQjv...   \n78    https://images.craigslist.org/00L0L_khoMmqXaSJ...   \n275   https://images.craigslist.org/00F0F_d9wEXQuSyu...   \n471   https://images.craigslist.org/00l0l_35tV0gQdD8...   \n1009  https://images.craigslist.org/00O0O_8vd70bT1rY...   \n1279  https://images.craigslist.org/00404_cBFpBKbfr2...   \n1318  https://images.craigslist.org/00T0T_jvsOAKSGAr...   \n1686  https://images.craigslist.org/00707_6ZlIIpYmGf...   \n1847  https://images.craigslist.org/00R0R_dO0gtiRwLa...   \n1970  https://images.craigslist.org/00f0f_7yS2mCosQE...   \n2034  https://images.craigslist.org/00D0D_gChRpTglWZ...   \n2129  https://images.craigslist.org/00O0O_fkFRDDi4yq...   \n2367  https://images.craigslist.org/00404_aEGhCFEEz3...   \n2711  https://images.craigslist.org/00404_82ntZ72mES...   \n2806  https://images.craigslist.org/00101_ks8k5Dx5M2...   \n2840  https://images.craigslist.org/01616_3tegH6j52E...   \n2896  https://images.craigslist.org/01111_euhp0VXlye...   \n2937  https://images.craigslist.org/00606_boG5lumdt0...   \n2975  https://images.craigslist.org/00X0X_3CTPHZ93GI...   \n3103  https://images.craigslist.org/00X0X_dbn3lTfaSy...   \n3216  https://images.craigslist.org/00a0a_j5GjqgsLVW...   \n3228  https://images.craigslist.org/00W0W_5sXgFdHJO9...   \n3379  https://images.craigslist.org/00y0y_kSkbjQHfGP...   \n3691  https://images.craigslist.org/00g0g_4Ljc5MYi8r...   \n3754  https://images.craigslist.org/00Y0Y_vNEe5hSHH9...   \n3814  https://images.craigslist.org/00909_aLVPntLOWj...   \n3834  https://images.craigslist.org/00o0o_jpNzU8uGRA...   \n4998  https://images.craigslist.org/00x0x_hptQ5xMo66...   \n5245  https://images.craigslist.org/00f0f_6z7FlCkp2G...   \n5260  https://images.craigslist.org/00B0B_aSYu1CvWOQ...   \n5577  https://images.craigslist.org/00a0a_c2wkMhtR81...   \n5811  https://images.craigslist.org/00r0r_6a7U1DBrVv...   \n5891  https://images.craigslist.org/00U0U_8aitnvaflm...   \n5948  https://images.craigslist.org/00707_YP0z08DLmH...   \n6060  https://images.craigslist.org/01010_ldls5xr3zz...   \n6142  https://images.craigslist.org/01313_kxS9Hqa3vo...   \n6162  https://images.craigslist.org/00h0h_i7XoHUvw0i...   \n6172  https://images.craigslist.org/00909_hw8K8SHtsk...   \n6304  https://images.craigslist.org/00n0n_eGFH9KY70W...   \n6572  https://images.craigslist.org/00L0L_hO1So9ovo1...   \n6627  https://images.craigslist.org/00e0e_5IiDyEzZOh...   \n6817  https://images.craigslist.org/00l0l_3evmKC5YBJ...   \n6922  https://images.craigslist.org/01212_hrL1gYZLbs...   \n6967  https://images.craigslist.org/00C0C_lj51oOvup7...   \n7481  https://images.craigslist.org/01717_fuY1H8n1EO...   \n8067  https://images.craigslist.org/00E0E_lXtpLTQwuT...   \n8269  https://images.craigslist.org/00z0z_fFpkeQ8fzr...   \n8307  https://images.craigslist.org/00D0D_cjooG7lIJu...   \n8773  https://images.craigslist.org/00u0u_erwAahcIeQ...   \n9446  https://images.craigslist.org/00606_hQvq6K6D4p...   \n9636  https://images.craigslist.org/00q0q_haS6HKqYq4...   \n9805  https://images.craigslist.org/01212_dsfYRNhxfd...   \n9815  https://images.craigslist.org/00K0K_8iyrQ1sWEh...   \n\n                                            description state        lat  \\\n1     ***Call Us for more information at: 201-635-14...    nj  40.821805   \n32    ***Call Us for more information at: 541-228-94...    or  44.076513   \n78    ***Call Us for more information at: 541-228-94...    or  44.076513   \n275   ***Call Us for more information at: 877-262-34...    hi  21.344376   \n471   ***Call Us for more information at: 541-228-94...    or  44.076513   \n1009  ***Call Us for more information at: 732-316-55...    nj  40.468650   \n1279  2008 *IC* *IC* CE300 - $6,000Call Us Today! 85...    ma  43.008105   \n1318  2007 *GMC* *C-7500 MULTIPLE USES PERFECT* FOR ...    ct  40.681179   \n1686  ***Call Us for more information at: 201-635-14...    nj  40.821805   \n1847  ***Call Us for more information at: 877-262-34...    hi  21.344376   \n1970  ***Call Us for more information at: 201-635-14...    nj  40.821805   \n2034  2018 Mitsubishi Outlander Sport ES 2.0 CVT    ...    tx  29.529409   \n2129  Car Starz Call Sales at 717-401-4221 2016 Ford...    pa  41.261540   \n2367  2017 *Dodge* *Journey* SXT FWD SUV - $18,000Ca...    hi  21.318059   \n2711  2017 *Ford* *F-150* XLT Truck - $32,880Call or...    wa  47.434493   \n2806  2012 Cadillac Escalade AWD 4dr Luxury        C...    dc  38.884033   \n2840  ***Call Us for more information at: 732-316-55...    nj  40.468650   \n2896  ***Call Us for more information at: 732-316-55...    nj  40.468650   \n2937  ***Call Us for more information at: 513-453-41...    oh  39.171991   \n2975  ***Call Us for more information at: 855-975-45...    co  39.081944   \n3103  ***Call Us for more information at: 732-316-55...    nj  40.468650   \n3216  2014 *GMC* *Sierra 1500* 4WD Crew Cab 143.5\" S...    al  33.669601   \n3228  ***Call Us for more information at: 855-975-45...    co  39.081944   \n3379  ***Call Us for more information at: 513-453-41...    oh  39.171991   \n3691  ***Call Us for more information at: 855-975-45...    co  39.081944   \n3754  ***Call Us for more information at: 541-228-94...    or  44.076513   \n3814  1971 American LaFrance Fire Truck   - $10,395....    id  43.593700   \n3834  2016 *Ford* *Focus* 4dr Sedan Titanium - $9,99...    ia  41.229172   \n4998  VIN: 1C4PJMAB1EW106979Year: 2014Make: JEEPMode...    tn  36.235220   \n5245  ***Call Us for more information at: 541-228-94...    or  44.076513   \n5260  2010 Ford Expedition Eddie Bauer Sport Utility...    or  42.329925   \n5577  2011 *GMC* *STARCRAFT* QUEST DRW - $5,595Call ...    ny  43.008105   \n5811  2015 Honda Odyssey 5dr Touring Elite        Ca...    dc  38.884033   \n5891  ***Call Us for more information at: 855-975-45...    co  39.081944   \n5948  ***Call Us for more information at: 973-354-52...    nj  40.697349   \n6060  ***Call Us for more information at: 513-453-41...    oh  39.171991   \n6142  2020 Nissan Versa SV - $16,999 \\tOne Stop \\t17...    wa  46.585652   \n6162  ***Call Us for more information at: 855-975-45...    co  39.081944   \n6172  Car Starz Call Sales at 717-401-4221 2012 Jeep...    pa  41.261540   \n6304  2010 *INTERNATIONAL* *IC* CE300 - $8,500Call U...    tx  43.008105   \n6572  2016 *Ford* *Taurus* 4dr Sedan Limited AWD - $...    ia  41.229172   \n6627  ***Call Us for more information at: 877-262-34...    hi  21.344376   \n6817  2008 Honda Civic Cpe 2dr Auto EX-L  Oak Ridge ...    nc  36.129540   \n6922  Vann York Bargain Cars Call Sales at336-628-88...    nc  35.942696   \n6967  2014 *Chrysler* *Town & Country* 4dr Wagon Tou...    fl  27.473591   \n7481  ***Call Us for more information at: 732-316-55...    nj  40.468650   \n8067  ***Call Us for more information at: 732-316-55...    nj  40.468650   \n8269  ***Call Us for more information at: 855-975-45...    co  39.081944   \n8307  2015 Dodge Challenger Hellcat 6-Speed Manual -...    pa  40.859162   \n8773  ***Call Us for more information at: 732-316-55...    nj  40.468650   \n9446  2010 *Ford* *E-350* 12 Passenger Van - $14,997...    fl  27.479823   \n9636  ***Call Us for more information at: 541-228-94...    or  44.076513   \n9805  Car Starz Call Sales at 717-401-4221 2012 Hond...    pa  41.261540   \n9815  ***Call Us for more information at: 541-228-94...    or  44.076513   \n\n            long              posting_date price_category  \\\n1     -74.061962  2021-05-03T15:40:21-0400         medium   \n32   -123.150156  2021-04-20T10:40:15-0700            low   \n78   -123.150156  2021-04-29T15:15:30-0700           high   \n275  -157.896975  2021-04-30T15:50:19-1000           high   \n471  -123.150156  2021-05-04T10:20:19-0700         medium   \n1009  -74.296990  2021-04-29T18:20:19-0400            low   \n1279  -74.352011  2021-04-21T10:11:05-0400            low   \n1318  -73.430488  2021-04-21T13:18:41-0400         medium   \n1686  -74.061962  2021-05-03T14:40:24-0400         medium   \n1847 -157.896975  2021-04-30T16:25:22-1000           high   \n1970  -74.061962  2021-05-03T15:45:18-0400         medium   \n2034  -98.496166  2021-04-29T09:45:30-0500         medium   \n2129  -78.704520  2021-04-06T14:39:29-0400         medium   \n2367 -157.865187  2021-04-28T16:00:34-1000         medium   \n2711 -120.320759  2021-04-19T07:10:47-0700           high   \n2806  -77.097657  2021-05-01T12:01:27-0400         medium   \n2840  -74.296990  2021-04-27T16:35:24-0400         medium   \n2896  -74.296990  2021-04-21T17:25:32-0400           high   \n2937  -84.271999  2021-04-19T16:20:13-0400         medium   \n2975 -108.588542  2021-04-30T10:25:28-0600            low   \n3103  -74.296990  2021-04-29T17:45:45-0400         medium   \n3216  -86.817617  2021-04-09T10:11:24-0500           high   \n3228 -108.588542  2021-04-19T17:05:21-0600         medium   \n3379  -84.271999  2021-04-09T18:15:24-0400         medium   \n3691 -108.588542  2021-04-21T14:10:26-0600            low   \n3754 -123.150156  2021-04-18T11:35:16-0700           high   \n3814 -116.536000  2021-04-28T19:02:38-0600         medium   \n3834  -95.852118  2021-04-23T07:20:53-0500         medium   \n4998  -86.758300  2021-04-23T18:01:00-0500         medium   \n5245 -123.150156  2021-04-24T15:30:11-0700         medium   \n5260 -122.875811  2021-04-15T13:28:27-0700         medium   \n5577  -74.352011  2021-04-30T09:11:31-0400            low   \n5811  -77.097657  2021-04-29T10:02:00-0400         medium   \n5891 -108.588542  2021-04-21T14:20:28-0600            low   \n5948  -74.219903  2021-05-04T10:01:53-0400           high   \n6060  -84.271999  2021-04-21T17:05:31-0400           high   \n6142 -120.478580  2021-04-30T04:13:41-0700         medium   \n6162 -108.588542  2021-05-03T15:55:22-0600         medium   \n6172  -78.704520  2021-04-12T21:08:22-0400            low   \n6304  -74.352011  2021-04-09T07:12:52-0600            low   \n6572  -95.852118  2021-04-29T08:12:45-0500         medium   \n6627 -157.896975  2021-04-30T14:15:25-1000         medium   \n6817  -79.957520  2021-04-22T11:41:26-0400            low   \n6922  -80.034679  2021-04-22T08:29:39-0400            low   \n6967  -82.570679  2021-04-12T18:43:37-0400            low   \n7481  -74.296990  2021-04-27T18:35:21-0400         medium   \n8067  -74.296990  2021-04-21T16:20:20-0400         medium   \n8269 -108.588542  2021-04-28T17:40:29-0600         medium   \n8307  -76.773484  2021-04-17T07:07:17-0400           high   \n8773  -74.296990  2021-04-27T18:15:18-0400           high   \n9446  -82.571497  2021-04-19T14:01:14-0400         medium   \n9636 -123.150156  2021-04-27T12:10:24-0700         medium   \n9805  -78.704520  2021-04-28T14:25:32-0400            low   \n9815 -123.150156  2021-04-29T09:05:16-0700         medium   \n\n                           date  \n1     2021-05-03 19:40:21+00:00  \n32    2021-04-20 17:40:15+00:00  \n78    2021-04-29 22:15:30+00:00  \n275   2021-05-01 01:50:19+00:00  \n471   2021-05-04 17:20:19+00:00  \n1009  2021-04-29 22:20:19+00:00  \n1279  2021-04-21 14:11:05+00:00  \n1318  2021-04-21 17:18:41+00:00  \n1686  2021-05-03 18:40:24+00:00  \n1847  2021-05-01 02:25:22+00:00  \n1970  2021-05-03 19:45:18+00:00  \n2034  2021-04-29 14:45:30+00:00  \n2129  2021-04-06 18:39:29+00:00  \n2367  2021-04-29 02:00:34+00:00  \n2711  2021-04-19 14:10:47+00:00  \n2806  2021-05-01 16:01:27+00:00  \n2840  2021-04-27 20:35:24+00:00  \n2896  2021-04-21 21:25:32+00:00  \n2937  2021-04-19 20:20:13+00:00  \n2975  2021-04-30 16:25:28+00:00  \n3103  2021-04-29 21:45:45+00:00  \n3216  2021-04-09 15:11:24+00:00  \n3228  2021-04-19 23:05:21+00:00  \n3379  2021-04-09 22:15:24+00:00  \n3691  2021-04-21 20:10:26+00:00  \n3754  2021-04-18 18:35:16+00:00  \n3814  2021-04-29 01:02:38+00:00  \n3834  2021-04-23 12:20:53+00:00  \n4998  2021-04-23 23:01:00+00:00  \n5245  2021-04-24 22:30:11+00:00  \n5260  2021-04-15 20:28:27+00:00  \n5577  2021-04-30 13:11:31+00:00  \n5811  2021-04-29 14:02:00+00:00  \n5891  2021-04-21 20:20:28+00:00  \n5948  2021-05-04 14:01:53+00:00  \n6060  2021-04-21 21:05:31+00:00  \n6142  2021-04-30 11:13:41+00:00  \n6162  2021-05-03 21:55:22+00:00  \n6172  2021-04-13 01:08:22+00:00  \n6304  2021-04-09 13:12:52+00:00  \n6572  2021-04-29 13:12:45+00:00  \n6627  2021-05-01 00:15:25+00:00  \n6817  2021-04-22 15:41:26+00:00  \n6922  2021-04-22 12:29:39+00:00  \n6967  2021-04-12 22:43:37+00:00  \n7481  2021-04-27 22:35:21+00:00  \n8067  2021-04-21 20:20:20+00:00  \n8269  2021-04-28 23:40:29+00:00  \n8307  2021-04-17 11:07:17+00:00  \n8773  2021-04-27 22:15:18+00:00  \n9446  2021-04-19 18:01:14+00:00  \n9636  2021-04-27 19:10:24+00:00  \n9805  2021-04-28 18:25:32+00:00  \n9815  2021-04-29 16:05:16+00:00  ",
      "text/html": "<div>\n<style scoped>\n    .dataframe tbody tr th:only-of-type {\n        vertical-align: middle;\n    }\n\n    .dataframe tbody tr th {\n        vertical-align: top;\n    }\n\n    .dataframe thead th {\n        text-align: right;\n    }\n</style>\n<table border=\"1\" class=\"dataframe\">\n  <thead>\n    <tr style=\"text-align: right;\">\n      <th></th>\n      <th>id</th>\n      <th>url</th>\n      <th>region</th>\n      <th>region_url</th>\n      <th>price</th>\n      <th>year</th>\n      <th>manufacturer</th>\n      <th>model</th>\n      <th>fuel</th>\n      <th>odometer</th>\n      <th>title_status</th>\n      <th>transmission</th>\n      <th>image_url</th>\n      <th>description</th>\n      <th>state</th>\n      <th>lat</th>\n      <th>long</th>\n      <th>posting_date</th>\n      <th>price_category</th>\n      <th>date</th>\n    </tr>\n  </thead>\n  <tbody>\n    <tr>\n      <th>1</th>\n      <td>7316380095</td>\n      <td>https://newjersey.craigslist.org/ctd/d/carlsta...</td>\n      <td>north jersey</td>\n      <td>https://newjersey.craigslist.org</td>\n      <td>16942</td>\n      <td>2016.0</td>\n      <td>ford</td>\n      <td>explorer 4wd 4dr xlt</td>\n      <td>NaN</td>\n      <td>60023</td>\n      <td>clean</td>\n      <td>automatic</td>\n      <td>https://images.craigslist.org/00x0x_26jl9F0cnL...</td>\n      <td>***Call Us for more information at: 201-635-14...</td>\n      <td>nj</td>\n      <td>40.821805</td>\n      <td>-74.061962</td>\n      <td>2021-05-03T15:40:21-0400</td>\n      <td>medium</td>\n      <td>2021-05-03 19:40:21+00:00</td>\n    </tr>\n    <tr>\n      <th>32</th>\n      <td>7309910590</td>\n      <td>https://eugene.craigslist.org/ctd/d/eugene-200...</td>\n      <td>eugene</td>\n      <td>https://eugene.craigslist.org</td>\n      <td>4977</td>\n      <td>2001.0</td>\n      <td>toyota</td>\n      <td>camry solara 2dr cpe se v6 auto (natl)</td>\n      <td>NaN</td>\n      <td>193242</td>\n      <td>clean</td>\n      <td>automatic</td>\n      <td>https://images.craigslist.org/00F0F_ebtJlxCQjv...</td>\n      <td>***Call Us for more information at: 541-228-94...</td>\n      <td>or</td>\n      <td>44.076513</td>\n      <td>-123.150156</td>\n      <td>2021-04-20T10:40:15-0700</td>\n      <td>low</td>\n      <td>2021-04-20 17:40:15+00:00</td>\n    </tr>\n    <tr>\n      <th>78</th>\n      <td>7314559074</td>\n      <td>https://eugene.craigslist.org/ctd/d/eugene-200...</td>\n      <td>eugene</td>\n      <td>https://eugene.craigslist.org</td>\n      <td>27977</td>\n      <td>2009.0</td>\n      <td>ford</td>\n      <td>f-150 4wd supercrew 145\" platinum</td>\n      <td>NaN</td>\n      <td>79522</td>\n      <td>clean</td>\n      <td>automatic</td>\n      <td>https://images.craigslist.org/00L0L_khoMmqXaSJ...</td>\n      <td>***Call Us for more information at: 541-228-94...</td>\n      <td>or</td>\n      <td>44.076513</td>\n      <td>-123.150156</td>\n      <td>2021-04-29T15:15:30-0700</td>\n      <td>high</td>\n      <td>2021-04-29 22:15:30+00:00</td>\n    </tr>\n    <tr>\n      <th>275</th>\n      <td>7315141987</td>\n      <td>https://honolulu.craigslist.org/oah/ctd/d/fort...</td>\n      <td>hawaii</td>\n      <td>https://honolulu.craigslist.org</td>\n      <td>29888</td>\n      <td>2019.0</td>\n      <td>nissan</td>\n      <td>frontier crew cab 4x2 sv auto</td>\n      <td>NaN</td>\n      <td>10679</td>\n      <td>clean</td>\n      <td>automatic</td>\n      <td>https://images.craigslist.org/00F0F_d9wEXQuSyu...</td>\n      <td>***Call Us for more information at: 877-262-34...</td>\n      <td>hi</td>\n      <td>21.344376</td>\n      <td>-157.896975</td>\n      <td>2021-04-30T15:50:19-1000</td>\n      <td>high</td>\n      <td>2021-05-01 01:50:19+00:00</td>\n    </tr>\n    <tr>\n      <th>471</th>\n      <td>7316807613</td>\n      <td>https://eugene.craigslist.org/ctd/d/eugene-200...</td>\n      <td>eugene</td>\n      <td>https://eugene.craigslist.org</td>\n      <td>13436</td>\n      <td>2006.0</td>\n      <td>chevrolet</td>\n      <td>silverado 1500 ext cab 143.5\" wb 4wd ls</td>\n      <td>NaN</td>\n      <td>172700</td>\n      <td>clean</td>\n      <td>automatic</td>\n      <td>https://images.craigslist.org/00l0l_35tV0gQdD8...</td>\n      <td>***Call Us for more information at: 541-228-94...</td>\n      <td>or</td>\n      <td>44.076513</td>\n      <td>-123.150156</td>\n      <td>2021-05-04T10:20:19-0700</td>\n      <td>medium</td>\n      <td>2021-05-04 17:20:19+00:00</td>\n    </tr>\n    <tr>\n      <th>1009</th>\n      <td>7314561306</td>\n      <td>https://cnj.craigslist.org/ctd/d/parlin-2000-c...</td>\n      <td>central NJ</td>\n      <td>https://cnj.craigslist.org</td>\n      <td>5894</td>\n      <td>2000.0</td>\n      <td>chevrolet</td>\n      <td>s-10 ext cab 123\" wb ls</td>\n      <td>NaN</td>\n      <td>78740</td>\n      <td>clean</td>\n      <td>automatic</td>\n      <td>https://images.craigslist.org/00O0O_8vd70bT1rY...</td>\n      <td>***Call Us for more information at: 732-316-55...</td>\n      <td>nj</td>\n      <td>40.468650</td>\n      <td>-74.296990</td>\n      <td>2021-04-29T18:20:19-0400</td>\n      <td>low</td>\n      <td>2021-04-29 22:20:19+00:00</td>\n    </tr>\n    <tr>\n      <th>1279</th>\n      <td>7310297136</td>\n      <td>https://westernmass.craigslist.org/ctd/d/johns...</td>\n      <td>western massachusetts</td>\n      <td>https://westernmass.craigslist.org</td>\n      <td>6000</td>\n      <td>2008.0</td>\n      <td>other</td>\n      <td>IC IC</td>\n      <td>NaN</td>\n      <td>0</td>\n      <td>NaN</td>\n      <td>automatic</td>\n      <td>https://images.craigslist.org/00404_cBFpBKbfr2...</td>\n      <td>2008 *IC* *IC* CE300 - $6,000Call Us Today! 85...</td>\n      <td>ma</td>\n      <td>43.008105</td>\n      <td>-74.352011</td>\n      <td>2021-04-21T10:11:05-0400</td>\n      <td>low</td>\n      <td>2021-04-21 14:11:05+00:00</td>\n    </tr>\n    <tr>\n      <th>1318</th>\n      <td>7310414739</td>\n      <td>https://nwct.craigslist.org/ctd/d/melville-200...</td>\n      <td>northwest CT</td>\n      <td>https://nwct.craigslist.org</td>\n      <td>11995</td>\n      <td>2007.0</td>\n      <td>gmc</td>\n      <td>c-7500 multiple uses perfect</td>\n      <td>NaN</td>\n      <td>50098</td>\n      <td>clean</td>\n      <td>automatic</td>\n      <td>https://images.craigslist.org/00T0T_jvsOAKSGAr...</td>\n      <td>2007 *GMC* *C-7500 MULTIPLE USES PERFECT* FOR ...</td>\n      <td>ct</td>\n      <td>40.681179</td>\n      <td>-73.430488</td>\n      <td>2021-04-21T13:18:41-0400</td>\n      <td>medium</td>\n      <td>2021-04-21 17:18:41+00:00</td>\n    </tr>\n    <tr>\n      <th>1686</th>\n      <td>7316342709</td>\n      <td>https://newjersey.craigslist.org/ctd/d/carlsta...</td>\n      <td>north jersey</td>\n      <td>https://newjersey.craigslist.org</td>\n      <td>19942</td>\n      <td>2017.0</td>\n      <td>ram</td>\n      <td>promaster cargo van 1500 low roof 118\" wb</td>\n      <td>NaN</td>\n      <td>88836</td>\n      <td>clean</td>\n      <td>automatic</td>\n      <td>https://images.craigslist.org/00707_6ZlIIpYmGf...</td>\n      <td>***Call Us for more information at: 201-635-14...</td>\n      <td>nj</td>\n      <td>40.821805</td>\n      <td>-74.061962</td>\n      <td>2021-05-03T14:40:24-0400</td>\n      <td>medium</td>\n      <td>2021-05-03 18:40:24+00:00</td>\n    </tr>\n    <tr>\n      <th>1847</th>\n      <td>7315151536</td>\n      <td>https://honolulu.craigslist.org/oah/ctd/d/fort...</td>\n      <td>hawaii</td>\n      <td>https://honolulu.craigslist.org</td>\n      <td>29988</td>\n      <td>2019.0</td>\n      <td>toyota</td>\n      <td>sienna le fwd 8-passenger (natl)</td>\n      <td>NaN</td>\n      <td>18762</td>\n      <td>clean</td>\n      <td>automatic</td>\n      <td>https://images.craigslist.org/00R0R_dO0gtiRwLa...</td>\n      <td>***Call Us for more information at: 877-262-34...</td>\n      <td>hi</td>\n      <td>21.344376</td>\n      <td>-157.896975</td>\n      <td>2021-04-30T16:25:22-1000</td>\n      <td>high</td>\n      <td>2021-05-01 02:25:22+00:00</td>\n    </tr>\n    <tr>\n      <th>1970</th>\n      <td>7316383024</td>\n      <td>https://newjersey.craigslist.org/ctd/d/carlsta...</td>\n      <td>north jersey</td>\n      <td>https://newjersey.craigslist.org</td>\n      <td>10742</td>\n      <td>2016.0</td>\n      <td>volkswagen</td>\n      <td>passat 4dr sdn 1.8t auto r-line pzev</td>\n      <td>NaN</td>\n      <td>54477</td>\n      <td>clean</td>\n      <td>automatic</td>\n      <td>https://images.craigslist.org/00f0f_7yS2mCosQE...</td>\n      <td>***Call Us for more information at: 201-635-14...</td>\n      <td>nj</td>\n      <td>40.821805</td>\n      <td>-74.061962</td>\n      <td>2021-05-03T15:45:18-0400</td>\n      <td>medium</td>\n      <td>2021-05-03 19:45:18+00:00</td>\n    </tr>\n    <tr>\n      <th>2034</th>\n      <td>7314304193</td>\n      <td>https://sanantonio.craigslist.org/ctd/d/san-an...</td>\n      <td>san antonio</td>\n      <td>https://sanantonio.craigslist.org</td>\n      <td>16995</td>\n      <td>2018.0</td>\n      <td>mitsubishi</td>\n      <td>outlander sport es 2.0 cvt</td>\n      <td>NaN</td>\n      <td>25655</td>\n      <td>clean</td>\n      <td>automatic</td>\n      <td>https://images.craigslist.org/00D0D_gChRpTglWZ...</td>\n      <td>2018 Mitsubishi Outlander Sport ES 2.0 CVT    ...</td>\n      <td>tx</td>\n      <td>29.529409</td>\n      <td>-98.496166</td>\n      <td>2021-04-29T09:45:30-0500</td>\n      <td>medium</td>\n      <td>2021-04-29 14:45:30+00:00</td>\n    </tr>\n    <tr>\n      <th>2129</th>\n      <td>7302733118</td>\n      <td>https://harrisburg.craigslist.org/ctd/d/brockp...</td>\n      <td>harrisburg</td>\n      <td>https://harrisburg.craigslist.org</td>\n      <td>14700</td>\n      <td>2016.0</td>\n      <td>ford</td>\n      <td>fusion</td>\n      <td>NaN</td>\n      <td>95674</td>\n      <td>NaN</td>\n      <td>NaN</td>\n      <td>https://images.craigslist.org/00O0O_fkFRDDi4yq...</td>\n      <td>Car Starz Call Sales at 717-401-4221 2016 Ford...</td>\n      <td>pa</td>\n      <td>41.261540</td>\n      <td>-78.704520</td>\n      <td>2021-04-06T14:39:29-0400</td>\n      <td>medium</td>\n      <td>2021-04-06 18:39:29+00:00</td>\n    </tr>\n    <tr>\n      <th>2367</th>\n      <td>7314161453</td>\n      <td>https://honolulu.craigslist.org/oah/ctd/d/hono...</td>\n      <td>hawaii</td>\n      <td>https://honolulu.craigslist.org</td>\n      <td>18000</td>\n      <td>2017.0</td>\n      <td>dodge</td>\n      <td>journey</td>\n      <td>NaN</td>\n      <td>30273</td>\n      <td>clean</td>\n      <td>automatic</td>\n      <td>https://images.craigslist.org/00404_aEGhCFEEz3...</td>\n      <td>2017 *Dodge* *Journey* SXT FWD SUV - $18,000Ca...</td>\n      <td>hi</td>\n      <td>21.318059</td>\n      <td>-157.865187</td>\n      <td>2021-04-28T16:00:34-1000</td>\n      <td>medium</td>\n      <td>2021-04-29 02:00:34+00:00</td>\n    </tr>\n    <tr>\n      <th>2711</th>\n      <td>7309203638</td>\n      <td>https://wenatchee.craigslist.org/ctd/d/wenatch...</td>\n      <td>wenatchee</td>\n      <td>https://wenatchee.craigslist.org</td>\n      <td>32880</td>\n      <td>2017.0</td>\n      <td>ford</td>\n      <td>f-150</td>\n      <td>NaN</td>\n      <td>70927</td>\n      <td>clean</td>\n      <td>automatic</td>\n      <td>https://images.craigslist.org/00404_82ntZ72mES...</td>\n      <td>2017 *Ford* *F-150* XLT Truck - $32,880Call or...</td>\n      <td>wa</td>\n      <td>47.434493</td>\n      <td>-120.320759</td>\n      <td>2021-04-19T07:10:47-0700</td>\n      <td>high</td>\n      <td>2021-04-19 14:10:47+00:00</td>\n    </tr>\n    <tr>\n      <th>2806</th>\n      <td>7315330404</td>\n      <td>https://washingtondc.craigslist.org/nva/ctd/d/...</td>\n      <td>washington, DC</td>\n      <td>https://washingtondc.craigslist.org</td>\n      <td>16995</td>\n      <td>2012.0</td>\n      <td>cadillac</td>\n      <td>escalade awd 4dr luxury</td>\n      <td>NaN</td>\n      <td>153932</td>\n      <td>clean</td>\n      <td>automatic</td>\n      <td>https://images.craigslist.org/00101_ks8k5Dx5M2...</td>\n      <td>2012 Cadillac Escalade AWD 4dr Luxury        C...</td>\n      <td>dc</td>\n      <td>38.884033</td>\n      <td>-77.097657</td>\n      <td>2021-05-01T12:01:27-0400</td>\n      <td>medium</td>\n      <td>2021-05-01 16:01:27+00:00</td>\n    </tr>\n    <tr>\n      <th>2840</th>\n      <td>7313525045</td>\n      <td>https://cnj.craigslist.org/ctd/d/parlin-2019-n...</td>\n      <td>central NJ</td>\n      <td>https://cnj.craigslist.org</td>\n      <td>15887</td>\n      <td>2019.0</td>\n      <td>nissan</td>\n      <td>altima 2.5 s sedan</td>\n      <td>NaN</td>\n      <td>42683</td>\n      <td>clean</td>\n      <td>automatic</td>\n      <td>https://images.craigslist.org/01616_3tegH6j52E...</td>\n      <td>***Call Us for more information at: 732-316-55...</td>\n      <td>nj</td>\n      <td>40.468650</td>\n      <td>-74.296990</td>\n      <td>2021-04-27T16:35:24-0400</td>\n      <td>medium</td>\n      <td>2021-04-27 20:35:24+00:00</td>\n    </tr>\n    <tr>\n      <th>2896</th>\n      <td>7310562680</td>\n      <td>https://newjersey.craigslist.org/ctd/d/parlin-...</td>\n      <td>north jersey</td>\n      <td>https://newjersey.craigslist.org</td>\n      <td>23717</td>\n      <td>2018.0</td>\n      <td>alfa-romeo</td>\n      <td>romeo stelvio awd</td>\n      <td>NaN</td>\n      <td>55645</td>\n      <td>clean</td>\n      <td>automatic</td>\n      <td>https://images.craigslist.org/01111_euhp0VXlye...</td>\n      <td>***Call Us for more information at: 732-316-55...</td>\n      <td>nj</td>\n      <td>40.468650</td>\n      <td>-74.296990</td>\n      <td>2021-04-21T17:25:32-0400</td>\n      <td>high</td>\n      <td>2021-04-21 21:25:32+00:00</td>\n    </tr>\n    <tr>\n      <th>2937</th>\n      <td>7309460386</td>\n      <td>https://cincinnati.craigslist.org/ctd/d/camp-d...</td>\n      <td>cincinnati</td>\n      <td>https://cincinnati.craigslist.org</td>\n      <td>9995</td>\n      <td>2014.0</td>\n      <td>chevrolet</td>\n      <td>cruze 4dr sdn auto 1lt</td>\n      <td>NaN</td>\n      <td>80859</td>\n      <td>clean</td>\n      <td>automatic</td>\n      <td>https://images.craigslist.org/00606_boG5lumdt0...</td>\n      <td>***Call Us for more information at: 513-453-41...</td>\n      <td>oh</td>\n      <td>39.171991</td>\n      <td>-84.271999</td>\n      <td>2021-04-19T16:20:13-0400</td>\n      <td>medium</td>\n      <td>2021-04-19 20:20:13+00:00</td>\n    </tr>\n    <tr>\n      <th>2975</th>\n      <td>7314857030</td>\n      <td>https://westslope.craigslist.org/ctd/d/grand-j...</td>\n      <td>western slope</td>\n      <td>https://westslope.craigslist.org</td>\n      <td>9493</td>\n      <td>2013.0</td>\n      <td>honda</td>\n      <td>civic sdn 4dr auto lx</td>\n      <td>NaN</td>\n      <td>140793</td>\n      <td>clean</td>\n      <td>automatic</td>\n      <td>https://images.craigslist.org/00X0X_3CTPHZ93GI...</td>\n      <td>***Call Us for more information at: 855-975-45...</td>\n      <td>co</td>\n      <td>39.081944</td>\n      <td>-108.588542</td>\n      <td>2021-04-30T10:25:28-0600</td>\n      <td>low</td>\n      <td>2021-04-30 16:25:28+00:00</td>\n    </tr>\n    <tr>\n      <th>3103</th>\n      <td>7314544641</td>\n      <td>https://cnj.craigslist.org/ctd/d/parlin-2017-d...</td>\n      <td>central NJ</td>\n      <td>https://cnj.craigslist.org</td>\n      <td>15000</td>\n      <td>2017.0</td>\n      <td>dodge</td>\n      <td>grand caravan se wagon</td>\n      <td>NaN</td>\n      <td>29982</td>\n      <td>clean</td>\n      <td>automatic</td>\n      <td>https://images.craigslist.org/00X0X_dbn3lTfaSy...</td>\n      <td>***Call Us for more information at: 732-316-55...</td>\n      <td>nj</td>\n      <td>40.468650</td>\n      <td>-74.296990</td>\n      <td>2021-04-29T17:45:45-0400</td>\n      <td>medium</td>\n      <td>2021-04-29 21:45:45+00:00</td>\n    </tr>\n    <tr>\n      <th>3216</th>\n      <td>7304158723</td>\n      <td>https://bham.craigslist.org/ctd/d/new-castle-2...</td>\n      <td>birmingham</td>\n      <td>https://bham.craigslist.org</td>\n      <td>26500</td>\n      <td>2014.0</td>\n      <td>gmc</td>\n      <td>sierra 1500</td>\n      <td>NaN</td>\n      <td>162934</td>\n      <td>clean</td>\n      <td>automatic</td>\n      <td>https://images.craigslist.org/00a0a_j5GjqgsLVW...</td>\n      <td>2014 *GMC* *Sierra 1500* 4WD Crew Cab 143.5\" S...</td>\n      <td>al</td>\n      <td>33.669601</td>\n      <td>-86.817617</td>\n      <td>2021-04-09T10:11:24-0500</td>\n      <td>high</td>\n      <td>2021-04-09 15:11:24+00:00</td>\n    </tr>\n    <tr>\n      <th>3228</th>\n      <td>7309551647</td>\n      <td>https://westslope.craigslist.org/ctd/d/grand-j...</td>\n      <td>western slope</td>\n      <td>https://westslope.craigslist.org</td>\n      <td>18499</td>\n      <td>2016.0</td>\n      <td>jeep</td>\n      <td>renegade 4wd 4dr trailhawk</td>\n      <td>NaN</td>\n      <td>75314</td>\n      <td>clean</td>\n      <td>automatic</td>\n      <td>https://images.craigslist.org/00W0W_5sXgFdHJO9...</td>\n      <td>***Call Us for more information at: 855-975-45...</td>\n      <td>co</td>\n      <td>39.081944</td>\n      <td>-108.588542</td>\n      <td>2021-04-19T17:05:21-0600</td>\n      <td>medium</td>\n      <td>2021-04-19 23:05:21+00:00</td>\n    </tr>\n    <tr>\n      <th>3379</th>\n      <td>7304419189</td>\n      <td>https://cincinnati.craigslist.org/ctd/d/camp-d...</td>\n      <td>cincinnati</td>\n      <td>https://cincinnati.craigslist.org</td>\n      <td>9700</td>\n      <td>2011.0</td>\n      <td>toyota</td>\n      <td>corolla 4dr sdn auto s (natl)</td>\n      <td>NaN</td>\n      <td>126872</td>\n      <td>clean</td>\n      <td>automatic</td>\n      <td>https://images.craigslist.org/00y0y_kSkbjQHfGP...</td>\n      <td>***Call Us for more information at: 513-453-41...</td>\n      <td>oh</td>\n      <td>39.171991</td>\n      <td>-84.271999</td>\n      <td>2021-04-09T18:15:24-0400</td>\n      <td>medium</td>\n      <td>2021-04-09 22:15:24+00:00</td>\n    </tr>\n    <tr>\n      <th>3691</th>\n      <td>7310520763</td>\n      <td>https://westslope.craigslist.org/ctd/d/grand-j...</td>\n      <td>western slope</td>\n      <td>https://westslope.craigslist.org</td>\n      <td>2450</td>\n      <td>2005.0</td>\n      <td>infiniti</td>\n      <td>g35 sedan g35 4dr sdn auto</td>\n      <td>NaN</td>\n      <td>140782</td>\n      <td>clean</td>\n      <td>automatic</td>\n      <td>https://images.craigslist.org/00g0g_4Ljc5MYi8r...</td>\n      <td>***Call Us for more information at: 855-975-45...</td>\n      <td>co</td>\n      <td>39.081944</td>\n      <td>-108.588542</td>\n      <td>2021-04-21T14:10:26-0600</td>\n      <td>low</td>\n      <td>2021-04-21 20:10:26+00:00</td>\n    </tr>\n    <tr>\n      <th>3754</th>\n      <td>7308856751</td>\n      <td>https://eugene.craigslist.org/ctd/d/eugene-200...</td>\n      <td>eugene</td>\n      <td>https://eugene.craigslist.org</td>\n      <td>26900</td>\n      <td>2006.0</td>\n      <td>ram</td>\n      <td>2500 4dr quad cab 160.5 4wd slt</td>\n      <td>NaN</td>\n      <td>177001</td>\n      <td>clean</td>\n      <td>manual</td>\n      <td>https://images.craigslist.org/00Y0Y_vNEe5hSHH9...</td>\n      <td>***Call Us for more information at: 541-228-94...</td>\n      <td>or</td>\n      <td>44.076513</td>\n      <td>-123.150156</td>\n      <td>2021-04-18T11:35:16-0700</td>\n      <td>high</td>\n      <td>2021-04-18 18:35:16+00:00</td>\n    </tr>\n    <tr>\n      <th>3814</th>\n      <td>7314143519</td>\n      <td>https://boise.craigslist.org/ctd/d/nampa-1971-...</td>\n      <td>boise</td>\n      <td>https://boise.craigslist.org</td>\n      <td>10395</td>\n      <td>1971.0</td>\n      <td>other</td>\n      <td>American LaFrance Fire Truck</td>\n      <td>NaN</td>\n      <td>78974</td>\n      <td>clean</td>\n      <td>NaN</td>\n      <td>https://images.craigslist.org/00909_aLVPntLOWj...</td>\n      <td>1971 American LaFrance Fire Truck   - $10,395....</td>\n      <td>id</td>\n      <td>43.593700</td>\n      <td>-116.536000</td>\n      <td>2021-04-28T19:02:38-0600</td>\n      <td>medium</td>\n      <td>2021-04-29 01:02:38+00:00</td>\n    </tr>\n    <tr>\n      <th>3834</th>\n      <td>7311269192</td>\n      <td>https://omaha.craigslist.org/ctd/d/council-blu...</td>\n      <td>omaha / council bluffs</td>\n      <td>https://omaha.craigslist.org</td>\n      <td>9995</td>\n      <td>2016.0</td>\n      <td>ford</td>\n      <td>focus</td>\n      <td>NaN</td>\n      <td>38505</td>\n      <td>NaN</td>\n      <td>automatic</td>\n      <td>https://images.craigslist.org/00o0o_jpNzU8uGRA...</td>\n      <td>2016 *Ford* *Focus* 4dr Sedan Titanium - $9,99...</td>\n      <td>ia</td>\n      <td>41.229172</td>\n      <td>-95.852118</td>\n      <td>2021-04-23T07:20:53-0500</td>\n      <td>medium</td>\n      <td>2021-04-23 12:20:53+00:00</td>\n    </tr>\n    <tr>\n      <th>4998</th>\n      <td>7311631527</td>\n      <td>https://nashville.craigslist.org/ctd/d/nashvil...</td>\n      <td>nashville</td>\n      <td>https://nashville.craigslist.org</td>\n      <td>12995</td>\n      <td>2014.0</td>\n      <td>jeep</td>\n      <td>cherokee</td>\n      <td>NaN</td>\n      <td>103028</td>\n      <td>NaN</td>\n      <td>automatic</td>\n      <td>https://images.craigslist.org/00x0x_hptQ5xMo66...</td>\n      <td>VIN: 1C4PJMAB1EW106979Year: 2014Make: JEEPMode...</td>\n      <td>tn</td>\n      <td>36.235220</td>\n      <td>-86.758300</td>\n      <td>2021-04-23T18:01:00-0500</td>\n      <td>medium</td>\n      <td>2021-04-23 23:01:00+00:00</td>\n    </tr>\n    <tr>\n      <th>5245</th>\n      <td>7312115428</td>\n      <td>https://eugene.craigslist.org/ctd/d/eugene-201...</td>\n      <td>eugene</td>\n      <td>https://eugene.craigslist.org</td>\n      <td>9828</td>\n      <td>2010.0</td>\n      <td>volkswagen</td>\n      <td>tiguan fwd 4dr sel</td>\n      <td>NaN</td>\n      <td>121515</td>\n      <td>clean</td>\n      <td>automatic</td>\n      <td>https://images.craigslist.org/00f0f_6z7FlCkp2G...</td>\n      <td>***Call Us for more information at: 541-228-94...</td>\n      <td>or</td>\n      <td>44.076513</td>\n      <td>-123.150156</td>\n      <td>2021-04-24T15:30:11-0700</td>\n      <td>medium</td>\n      <td>2021-04-24 22:30:11+00:00</td>\n    </tr>\n    <tr>\n      <th>5260</th>\n      <td>7307388962</td>\n      <td>https://medford.craigslist.org/ctd/d/medford-2...</td>\n      <td>medford-ashland</td>\n      <td>https://medford.craigslist.org</td>\n      <td>14984</td>\n      <td>2010.0</td>\n      <td>ford</td>\n      <td>expedition</td>\n      <td>NaN</td>\n      <td>128975</td>\n      <td>NaN</td>\n      <td>NaN</td>\n      <td>https://images.craigslist.org/00B0B_aSYu1CvWOQ...</td>\n      <td>2010 Ford Expedition Eddie Bauer Sport Utility...</td>\n      <td>or</td>\n      <td>42.329925</td>\n      <td>-122.875811</td>\n      <td>2021-04-15T13:28:27-0700</td>\n      <td>medium</td>\n      <td>2021-04-15 20:28:27+00:00</td>\n    </tr>\n    <tr>\n      <th>5577</th>\n      <td>7314750640</td>\n      <td>https://syracuse.craigslist.org/ctd/d/johnstow...</td>\n      <td>syracuse</td>\n      <td>https://syracuse.craigslist.org</td>\n      <td>5595</td>\n      <td>2011.0</td>\n      <td>gmc</td>\n      <td>starcraft</td>\n      <td>NaN</td>\n      <td>0</td>\n      <td>NaN</td>\n      <td>automatic</td>\n      <td>https://images.craigslist.org/00a0a_c2wkMhtR81...</td>\n      <td>2011 *GMC* *STARCRAFT* QUEST DRW - $5,595Call ...</td>\n      <td>ny</td>\n      <td>43.008105</td>\n      <td>-74.352011</td>\n      <td>2021-04-30T09:11:31-0400</td>\n      <td>low</td>\n      <td>2021-04-30 13:11:31+00:00</td>\n    </tr>\n    <tr>\n      <th>5811</th>\n      <td>7314282600</td>\n      <td>https://washingtondc.craigslist.org/nva/ctd/d/...</td>\n      <td>washington, DC</td>\n      <td>https://washingtondc.craigslist.org</td>\n      <td>18595</td>\n      <td>2015.0</td>\n      <td>honda</td>\n      <td>odyssey 5dr touring elite</td>\n      <td>NaN</td>\n      <td>107176</td>\n      <td>clean</td>\n      <td>automatic</td>\n      <td>https://images.craigslist.org/00r0r_6a7U1DBrVv...</td>\n      <td>2015 Honda Odyssey 5dr Touring Elite        Ca...</td>\n      <td>dc</td>\n      <td>38.884033</td>\n      <td>-77.097657</td>\n      <td>2021-04-29T10:02:00-0400</td>\n      <td>medium</td>\n      <td>2021-04-29 14:02:00+00:00</td>\n    </tr>\n    <tr>\n      <th>5891</th>\n      <td>7310526453</td>\n      <td>https://westslope.craigslist.org/ctd/d/grand-j...</td>\n      <td>western slope</td>\n      <td>https://westslope.craigslist.org</td>\n      <td>1750</td>\n      <td>2003.0</td>\n      <td>nissan</td>\n      <td>xterra 4dr xe 2wd v6 auto</td>\n      <td>NaN</td>\n      <td>201570</td>\n      <td>clean</td>\n      <td>automatic</td>\n      <td>https://images.craigslist.org/00U0U_8aitnvaflm...</td>\n      <td>***Call Us for more information at: 855-975-45...</td>\n      <td>co</td>\n      <td>39.081944</td>\n      <td>-108.588542</td>\n      <td>2021-04-21T14:20:28-0600</td>\n      <td>low</td>\n      <td>2021-04-21 20:20:28+00:00</td>\n    </tr>\n    <tr>\n      <th>5948</th>\n      <td>7316686098</td>\n      <td>https://cnj.craigslist.org/ctd/d/hillside-2019...</td>\n      <td>central NJ</td>\n      <td>https://cnj.craigslist.org</td>\n      <td>28900</td>\n      <td>2019.0</td>\n      <td>honda</td>\n      <td>cr-v ex-l awd</td>\n      <td>NaN</td>\n      <td>15392</td>\n      <td>clean</td>\n      <td>automatic</td>\n      <td>https://images.craigslist.org/00707_YP0z08DLmH...</td>\n      <td>***Call Us for more information at: 973-354-52...</td>\n      <td>nj</td>\n      <td>40.697349</td>\n      <td>-74.219903</td>\n      <td>2021-05-04T10:01:53-0400</td>\n      <td>high</td>\n      <td>2021-05-04 14:01:53+00:00</td>\n    </tr>\n    <tr>\n      <th>6060</th>\n      <td>7310551940</td>\n      <td>https://cincinnati.craigslist.org/ctd/d/camp-d...</td>\n      <td>cincinnati</td>\n      <td>https://cincinnati.craigslist.org</td>\n      <td>58500</td>\n      <td>2019.0</td>\n      <td>chevrolet</td>\n      <td>silverado 2500hd 4wd crew cab 153.7\" ltz</td>\n      <td>NaN</td>\n      <td>50930</td>\n      <td>clean</td>\n      <td>automatic</td>\n      <td>https://images.craigslist.org/01010_ldls5xr3zz...</td>\n      <td>***Call Us for more information at: 513-453-41...</td>\n      <td>oh</td>\n      <td>39.171991</td>\n      <td>-84.271999</td>\n      <td>2021-04-21T17:05:31-0400</td>\n      <td>high</td>\n      <td>2021-04-21 21:05:31+00:00</td>\n    </tr>\n    <tr>\n      <th>6142</th>\n      <td>7314719321</td>\n      <td>https://kpr.craigslist.org/ctd/d/yakima-2020-n...</td>\n      <td>kennewick-pasco-richland</td>\n      <td>https://kpr.craigslist.org</td>\n      <td>16999</td>\n      <td>2020.0</td>\n      <td>nissan</td>\n      <td>versa sv</td>\n      <td>NaN</td>\n      <td>24140</td>\n      <td>NaN</td>\n      <td>other</td>\n      <td>https://images.craigslist.org/01313_kxS9Hqa3vo...</td>\n      <td>2020 Nissan Versa SV - $16,999 \\tOne Stop \\t17...</td>\n      <td>wa</td>\n      <td>46.585652</td>\n      <td>-120.478580</td>\n      <td>2021-04-30T04:13:41-0700</td>\n      <td>medium</td>\n      <td>2021-04-30 11:13:41+00:00</td>\n    </tr>\n    <tr>\n      <th>6162</th>\n      <td>7316456657</td>\n      <td>https://westslope.craigslist.org/ctd/d/grand-j...</td>\n      <td>western slope</td>\n      <td>https://westslope.craigslist.org</td>\n      <td>9788</td>\n      <td>2013.0</td>\n      <td>hyundai</td>\n      <td>sonata 4dr sdn 2.4l auto limited</td>\n      <td>NaN</td>\n      <td>117773</td>\n      <td>clean</td>\n      <td>automatic</td>\n      <td>https://images.craigslist.org/00h0h_i7XoHUvw0i...</td>\n      <td>***Call Us for more information at: 855-975-45...</td>\n      <td>co</td>\n      <td>39.081944</td>\n      <td>-108.588542</td>\n      <td>2021-05-03T15:55:22-0600</td>\n      <td>medium</td>\n      <td>2021-05-03 21:55:22+00:00</td>\n    </tr>\n    <tr>\n      <th>6172</th>\n      <td>7305971655</td>\n      <td>https://lancaster.craigslist.org/ctd/d/brockpo...</td>\n      <td>lancaster</td>\n      <td>https://lancaster.craigslist.org</td>\n      <td>7600</td>\n      <td>2012.0</td>\n      <td>jeep</td>\n      <td>patriot</td>\n      <td>NaN</td>\n      <td>95674</td>\n      <td>NaN</td>\n      <td>NaN</td>\n      <td>https://images.craigslist.org/00909_hw8K8SHtsk...</td>\n      <td>Car Starz Call Sales at 717-401-4221 2012 Jeep...</td>\n      <td>pa</td>\n      <td>41.261540</td>\n      <td>-78.704520</td>\n      <td>2021-04-12T21:08:22-0400</td>\n      <td>low</td>\n      <td>2021-04-13 01:08:22+00:00</td>\n    </tr>\n    <tr>\n      <th>6304</th>\n      <td>7304094040</td>\n      <td>https://elpaso.craigslist.org/ctd/d/johnstown-...</td>\n      <td>el paso</td>\n      <td>https://elpaso.craigslist.org</td>\n      <td>8500</td>\n      <td>2010.0</td>\n      <td>other</td>\n      <td>INTERNATIONAL IC</td>\n      <td>NaN</td>\n      <td>134385</td>\n      <td>NaN</td>\n      <td>automatic</td>\n      <td>https://images.craigslist.org/00n0n_eGFH9KY70W...</td>\n      <td>2010 *INTERNATIONAL* *IC* CE300 - $8,500Call U...</td>\n      <td>tx</td>\n      <td>43.008105</td>\n      <td>-74.352011</td>\n      <td>2021-04-09T07:12:52-0600</td>\n      <td>low</td>\n      <td>2021-04-09 13:12:52+00:00</td>\n    </tr>\n    <tr>\n      <th>6572</th>\n      <td>7314261064</td>\n      <td>https://omaha.craigslist.org/ctd/d/council-blu...</td>\n      <td>omaha / council bluffs</td>\n      <td>https://omaha.craigslist.org</td>\n      <td>13995</td>\n      <td>2016.0</td>\n      <td>ford</td>\n      <td>taurus</td>\n      <td>NaN</td>\n      <td>49020</td>\n      <td>NaN</td>\n      <td>automatic</td>\n      <td>https://images.craigslist.org/00L0L_hO1So9ovo1...</td>\n      <td>2016 *Ford* *Taurus* 4dr Sedan Limited AWD - $...</td>\n      <td>ia</td>\n      <td>41.229172</td>\n      <td>-95.852118</td>\n      <td>2021-04-29T08:12:45-0500</td>\n      <td>medium</td>\n      <td>2021-04-29 13:12:45+00:00</td>\n    </tr>\n    <tr>\n      <th>6627</th>\n      <td>7315111002</td>\n      <td>https://honolulu.craigslist.org/oah/ctd/d/fort...</td>\n      <td>hawaii</td>\n      <td>https://honolulu.craigslist.org</td>\n      <td>12900</td>\n      <td>2013.0</td>\n      <td>honda</td>\n      <td>civic sdn 4dr auto ex-l</td>\n      <td>NaN</td>\n      <td>68522</td>\n      <td>clean</td>\n      <td>automatic</td>\n      <td>https://images.craigslist.org/00e0e_5IiDyEzZOh...</td>\n      <td>***Call Us for more information at: 877-262-34...</td>\n      <td>hi</td>\n      <td>21.344376</td>\n      <td>-157.896975</td>\n      <td>2021-04-30T14:15:25-1000</td>\n      <td>medium</td>\n      <td>2021-05-01 00:15:25+00:00</td>\n    </tr>\n    <tr>\n      <th>6817</th>\n      <td>7310860252</td>\n      <td>https://charlotte.craigslist.org/ctd/d/greensb...</td>\n      <td>charlotte</td>\n      <td>https://charlotte.craigslist.org</td>\n      <td>6998</td>\n      <td>2008.0</td>\n      <td>honda</td>\n      <td>civic cpe</td>\n      <td>NaN</td>\n      <td>95674</td>\n      <td>NaN</td>\n      <td>NaN</td>\n      <td>https://images.craigslist.org/00l0l_3evmKC5YBJ...</td>\n      <td>2008 Honda Civic Cpe 2dr Auto EX-L  Oak Ridge ...</td>\n      <td>nc</td>\n      <td>36.129540</td>\n      <td>-79.957520</td>\n      <td>2021-04-22T11:41:26-0400</td>\n      <td>low</td>\n      <td>2021-04-22 15:41:26+00:00</td>\n    </tr>\n    <tr>\n      <th>6922</th>\n      <td>7310766348</td>\n      <td>https://greensboro.craigslist.org/ctd/d/high-p...</td>\n      <td>greensboro</td>\n      <td>https://greensboro.craigslist.org</td>\n      <td>3999</td>\n      <td>2001.0</td>\n      <td>honda</td>\n      <td>civic</td>\n      <td>NaN</td>\n      <td>95674</td>\n      <td>NaN</td>\n      <td>NaN</td>\n      <td>https://images.craigslist.org/01212_hrL1gYZLbs...</td>\n      <td>Vann York Bargain Cars Call Sales at336-628-88...</td>\n      <td>nc</td>\n      <td>35.942696</td>\n      <td>-80.034679</td>\n      <td>2021-04-22T08:29:39-0400</td>\n      <td>low</td>\n      <td>2021-04-22 12:29:39+00:00</td>\n    </tr>\n    <tr>\n      <th>6967</th>\n      <td>7305911263</td>\n      <td>https://sarasota.craigslist.org/ctd/d/bradento...</td>\n      <td>sarasota-bradenton</td>\n      <td>https://sarasota.craigslist.org</td>\n      <td>7777</td>\n      <td>2014.0</td>\n      <td>chrysler</td>\n      <td>town &amp; country</td>\n      <td>NaN</td>\n      <td>137312</td>\n      <td>clean</td>\n      <td>automatic</td>\n      <td>https://images.craigslist.org/00C0C_lj51oOvup7...</td>\n      <td>2014 *Chrysler* *Town &amp; Country* 4dr Wagon Tou...</td>\n      <td>fl</td>\n      <td>27.473591</td>\n      <td>-82.570679</td>\n      <td>2021-04-12T18:43:37-0400</td>\n      <td>low</td>\n      <td>2021-04-12 22:43:37+00:00</td>\n    </tr>\n    <tr>\n      <th>7481</th>\n      <td>7313584978</td>\n      <td>https://cnj.craigslist.org/ctd/d/parlin-2019-h...</td>\n      <td>central NJ</td>\n      <td>https://cnj.craigslist.org</td>\n      <td>15886</td>\n      <td>2019.0</td>\n      <td>hyundai</td>\n      <td>elantra sel auto</td>\n      <td>NaN</td>\n      <td>8266</td>\n      <td>clean</td>\n      <td>automatic</td>\n      <td>https://images.craigslist.org/01717_fuY1H8n1EO...</td>\n      <td>***Call Us for more information at: 732-316-55...</td>\n      <td>nj</td>\n      <td>40.468650</td>\n      <td>-74.296990</td>\n      <td>2021-04-27T18:35:21-0400</td>\n      <td>medium</td>\n      <td>2021-04-27 22:35:21+00:00</td>\n    </tr>\n    <tr>\n      <th>8067</th>\n      <td>7310526393</td>\n      <td>https://newjersey.craigslist.org/ctd/d/parlin-...</td>\n      <td>north jersey</td>\n      <td>https://newjersey.craigslist.org</td>\n      <td>19787</td>\n      <td>2018.0</td>\n      <td>ford</td>\n      <td>edge sel awd</td>\n      <td>NaN</td>\n      <td>89484</td>\n      <td>clean</td>\n      <td>automatic</td>\n      <td>https://images.craigslist.org/00E0E_lXtpLTQwuT...</td>\n      <td>***Call Us for more information at: 732-316-55...</td>\n      <td>nj</td>\n      <td>40.468650</td>\n      <td>-74.296990</td>\n      <td>2021-04-21T16:20:20-0400</td>\n      <td>medium</td>\n      <td>2021-04-21 20:20:20+00:00</td>\n    </tr>\n    <tr>\n      <th>8269</th>\n      <td>7314112375</td>\n      <td>https://westslope.craigslist.org/ctd/d/grand-j...</td>\n      <td>western slope</td>\n      <td>https://westslope.craigslist.org</td>\n      <td>9995</td>\n      <td>2013.0</td>\n      <td>ford</td>\n      <td>fusion 4dr sdn se fwd</td>\n      <td>NaN</td>\n      <td>111576</td>\n      <td>clean</td>\n      <td>automatic</td>\n      <td>https://images.craigslist.org/00z0z_fFpkeQ8fzr...</td>\n      <td>***Call Us for more information at: 855-975-45...</td>\n      <td>co</td>\n      <td>39.081944</td>\n      <td>-108.588542</td>\n      <td>2021-04-28T17:40:29-0600</td>\n      <td>medium</td>\n      <td>2021-04-28 23:40:29+00:00</td>\n    </tr>\n    <tr>\n      <th>8307</th>\n      <td>7308149122</td>\n      <td>https://harrisburg.craigslist.org/ctd/d/sunbur...</td>\n      <td>harrisburg</td>\n      <td>https://harrisburg.craigslist.org</td>\n      <td>49995</td>\n      <td>2015.0</td>\n      <td>dodge</td>\n      <td>challenger hellcat 6-speed manual</td>\n      <td>NaN</td>\n      <td>4697</td>\n      <td>clean</td>\n      <td>manual</td>\n      <td>https://images.craigslist.org/00D0D_cjooG7lIJu...</td>\n      <td>2015 Dodge Challenger Hellcat 6-Speed Manual -...</td>\n      <td>pa</td>\n      <td>40.859162</td>\n      <td>-76.773484</td>\n      <td>2021-04-17T07:07:17-0400</td>\n      <td>high</td>\n      <td>2021-04-17 11:07:17+00:00</td>\n    </tr>\n    <tr>\n      <th>8773</th>\n      <td>7313576130</td>\n      <td>https://cnj.craigslist.org/ctd/d/parlin-2012-j...</td>\n      <td>central NJ</td>\n      <td>https://cnj.craigslist.org</td>\n      <td>23500</td>\n      <td>2012.0</td>\n      <td>jeep</td>\n      <td>wrangler unlimited 4wd 4dr sahara</td>\n      <td>NaN</td>\n      <td>105927</td>\n      <td>clean</td>\n      <td>automatic</td>\n      <td>https://images.craigslist.org/00u0u_erwAahcIeQ...</td>\n      <td>***Call Us for more information at: 732-316-55...</td>\n      <td>nj</td>\n      <td>40.468650</td>\n      <td>-74.296990</td>\n      <td>2021-04-27T18:15:18-0400</td>\n      <td>high</td>\n      <td>2021-04-27 22:15:18+00:00</td>\n    </tr>\n    <tr>\n      <th>9446</th>\n      <td>7309365699</td>\n      <td>https://fortmyers.craigslist.org/chl/ctd/d/bra...</td>\n      <td>ft myers / SW florida</td>\n      <td>https://fortmyers.craigslist.org</td>\n      <td>14997</td>\n      <td>2010.0</td>\n      <td>ford</td>\n      <td>e-350</td>\n      <td>NaN</td>\n      <td>153120</td>\n      <td>clean</td>\n      <td>manual</td>\n      <td>https://images.craigslist.org/00606_hQvq6K6D4p...</td>\n      <td>2010 *Ford* *E-350* 12 Passenger Van - $14,997...</td>\n      <td>fl</td>\n      <td>27.479823</td>\n      <td>-82.571497</td>\n      <td>2021-04-19T14:01:14-0400</td>\n      <td>medium</td>\n      <td>2021-04-19 18:01:14+00:00</td>\n    </tr>\n    <tr>\n      <th>9636</th>\n      <td>7313475467</td>\n      <td>https://eugene.craigslist.org/ctd/d/eugene-201...</td>\n      <td>eugene</td>\n      <td>https://eugene.craigslist.org</td>\n      <td>9979</td>\n      <td>2012.0</td>\n      <td>chevrolet</td>\n      <td>equinox awd 4dr lt w/1lt</td>\n      <td>NaN</td>\n      <td>165554</td>\n      <td>clean</td>\n      <td>automatic</td>\n      <td>https://images.craigslist.org/00q0q_haS6HKqYq4...</td>\n      <td>***Call Us for more information at: 541-228-94...</td>\n      <td>or</td>\n      <td>44.076513</td>\n      <td>-123.150156</td>\n      <td>2021-04-27T12:10:24-0700</td>\n      <td>medium</td>\n      <td>2021-04-27 19:10:24+00:00</td>\n    </tr>\n    <tr>\n      <th>9805</th>\n      <td>7313949726</td>\n      <td>https://harrisburg.craigslist.org/ctd/d/brockp...</td>\n      <td>harrisburg</td>\n      <td>https://harrisburg.craigslist.org</td>\n      <td>8900</td>\n      <td>2012.0</td>\n      <td>honda</td>\n      <td>accord</td>\n      <td>NaN</td>\n      <td>95674</td>\n      <td>NaN</td>\n      <td>NaN</td>\n      <td>https://images.craigslist.org/01212_dsfYRNhxfd...</td>\n      <td>Car Starz Call Sales at 717-401-4221 2012 Hond...</td>\n      <td>pa</td>\n      <td>41.261540</td>\n      <td>-78.704520</td>\n      <td>2021-04-28T14:25:32-0400</td>\n      <td>low</td>\n      <td>2021-04-28 18:25:32+00:00</td>\n    </tr>\n    <tr>\n      <th>9815</th>\n      <td>7314349617</td>\n      <td>https://eugene.craigslist.org/ctd/d/eugene-200...</td>\n      <td>eugene</td>\n      <td>https://eugene.craigslist.org</td>\n      <td>11976</td>\n      <td>2008.0</td>\n      <td>acura</td>\n      <td>mdx 4wd 4dr</td>\n      <td>NaN</td>\n      <td>156801</td>\n      <td>clean</td>\n      <td>automatic</td>\n      <td>https://images.craigslist.org/00K0K_8iyrQ1sWEh...</td>\n      <td>***Call Us for more information at: 541-228-94...</td>\n      <td>or</td>\n      <td>44.076513</td>\n      <td>-123.150156</td>\n      <td>2021-04-29T09:05:16-0700</td>\n      <td>medium</td>\n      <td>2021-04-29 16:05:16+00:00</td>\n    </tr>\n  </tbody>\n</table>\n</div>"
     },
     "execution_count": 179,
     "metadata": {},
     "output_type": "execute_result"
    }
   ],
   "source": [
    "# Ваш код здесь\n",
    "df_out[df_out.fuel.isna()]"
   ]
  },
  {
   "cell_type": "markdown",
   "id": "7b69102c",
   "metadata": {
    "id": "7b69102c",
    "pycharm": {
     "name": "#%% md\n"
    }
   },
   "source": [
    "4. Обработайте пропуски, заполнив незаполненные значения типа топлива значением `other`, и сохраните изменения. Обратите внимание, что мы заполняем пропуски не самым популярным значением в выборке.\n"
   ]
  },
  {
   "cell_type": "code",
   "execution_count": 181,
   "id": "c3bd2437",
   "metadata": {
    "id": "c3bd2437",
    "pycharm": {
     "name": "#%%\n"
    }
   },
   "outputs": [],
   "source": [
    "# Ваш код здесь\n",
    "df_out.fuel = df_out.fuel.fillna('other')"
   ]
  },
  {
   "cell_type": "markdown",
   "id": "3cb6701f",
   "metadata": {
    "id": "3cb6701f",
    "pycharm": {
     "name": "#%% md\n"
    }
   },
   "source": [
    "5. Выведите для обновлённого датафрейма количество пропущенных значений для типа топлива."
   ]
  },
  {
   "cell_type": "code",
   "execution_count": 182,
   "id": "94a068c8",
   "metadata": {
    "ExecuteTime": {
     "end_time": "2022-01-29T23:41:38.917684Z",
     "start_time": "2022-01-29T23:41:38.912363Z"
    },
    "id": "94a068c8",
    "outputId": "1749a195-25a2-4e4b-f75b-dff9ffb22334",
    "pycharm": {
     "name": "#%%\n"
    }
   },
   "outputs": [
    {
     "name": "stdout",
     "output_type": "stream",
     "text": [
      "Количество пропущенных значений в fuel: 0\n"
     ]
    }
   ],
   "source": [
    "print(\"Количество пропущенных значений в fuel:\", df_out.fuel.isna().sum())  # Допишите код"
   ]
  },
  {
   "cell_type": "markdown",
   "id": "3a5a3b5a",
   "metadata": {
    "ExecuteTime": {
     "end_time": "2022-01-29T00:21:16.896209Z",
     "start_time": "2022-01-29T00:21:16.888894Z"
    },
    "id": "3a5a3b5a",
    "pycharm": {
     "name": "#%% md\n"
    }
   },
   "source": [
    "### Задача 4. Обработка пропусков в модели автомобиля\n",
    "\n",
    "1. Выведите количество значений для модели автомобиля, включая пропущенные значения. Обратите внимание на количество пропущенных значений.\n",
    "\n"
   ]
  },
  {
   "cell_type": "code",
   "execution_count": 183,
   "id": "08a6f7d6",
   "metadata": {
    "ExecuteTime": {
     "end_time": "2022-01-29T15:57:41.691082Z",
     "start_time": "2022-01-29T15:57:41.675965Z"
    },
    "id": "08a6f7d6",
    "pycharm": {
     "name": "#%%\n"
    }
   },
   "outputs": [
    {
     "data": {
      "text/plain": "model\nf-150                  151\nNaN                    126\nsilverado 1500         110\n1500                   100\ncamry                   77\n                      ... \nSuzuki Grand Vitara      1\npaceman                  1\n750i / alpina b7         1\nforester xs awd          1\ndurangon r/t             1\nName: count, Length: 3447, dtype: int64"
     },
     "execution_count": 183,
     "metadata": {},
     "output_type": "execute_result"
    }
   ],
   "source": [
    "# Ваш код здесь\n",
    "df_out.model.value_counts(dropna=False)"
   ]
  },
  {
   "cell_type": "markdown",
   "id": "e2b04990",
   "metadata": {
    "id": "e2b04990",
    "pycharm": {
     "name": "#%% md\n"
    }
   },
   "source": [
    "2. Выведите описательные статистики для модели автомобиля.\n"
   ]
  },
  {
   "cell_type": "code",
   "execution_count": 184,
   "id": "cce6d25a",
   "metadata": {
    "id": "cce6d25a",
    "pycharm": {
     "name": "#%%\n"
    }
   },
   "outputs": [
    {
     "data": {
      "text/plain": "count      9838\nunique     3446\ntop       f-150\nfreq        151\nName: model, dtype: object"
     },
     "execution_count": 184,
     "metadata": {},
     "output_type": "execute_result"
    }
   ],
   "source": [
    "# Ваш код здесь\n",
    "df_out.model.describe()"
   ]
  },
  {
   "cell_type": "markdown",
   "id": "960533a8",
   "metadata": {
    "id": "960533a8",
    "pycharm": {
     "name": "#%% md\n"
    }
   },
   "source": [
    "3. Выведите записи, в которых модель автомобиля не заполнена. Посмотрите на данные и подумайте, какую стратегию обработки значений можно применить.\n"
   ]
  },
  {
   "cell_type": "code",
   "execution_count": 185,
   "id": "b7bb7387",
   "metadata": {
    "id": "b7bb7387",
    "pycharm": {
     "name": "#%%\n"
    }
   },
   "outputs": [
    {
     "data": {
      "text/plain": "              id                                                url  \\\n67    7316913641  https://ventura.craigslist.org/cto/d/camarillo...   \n142   7316550853  https://chicago.craigslist.org/chc/cto/d/midlo...   \n151   7303575863  https://worcester.craigslist.org/ctd/d/fitchbu...   \n200   7315267860  https://gainesville.craigslist.org/ctd/d/kissi...   \n251   7316024407  https://reading.craigslist.org/ctd/d/paterson-...   \n...          ...                                                ...   \n9564  7314341390  https://desmoines.craigslist.org/cto/d/urbanda...   \n9616  7304358131  https://vermont.craigslist.org/ctd/d/salem-201...   \n9670  7309686008  https://louisville.craigslist.org/cto/d/radcli...   \n9926  7316447901  https://tulsa.craigslist.org/cto/d/tulsa-2017-...   \n9972  7316458200  https://portland.craigslist.org/mlt/cto/d/port...   \n\n                      region                          region_url  price  \\\n67            ventura county      https://ventura.craigslist.org   3000   \n142                  chicago      https://chicago.craigslist.org   3000   \n151   worcester / central MA    https://worcester.craigslist.org   7800   \n200              gainesville  https://gainesville.craigslist.org  19200   \n251                  reading      https://reading.craigslist.org  18695   \n...                      ...                                 ...    ...   \n9564              des moines    https://desmoines.craigslist.org   8000   \n9616                 vermont      https://vermont.craigslist.org  19944   \n9670              louisville   https://louisville.craigslist.org   1600   \n9926                   tulsa        https://tulsa.craigslist.org  65000   \n9972                portland     https://portland.craigslist.org  18500   \n\n        year manufacturer model    fuel  odometer title_status transmission  \\\n67    2005.0        rover   NaN     gas    165206        clean    automatic   \n142   2006.0         jeep   NaN     gas    132000        clean    automatic   \n151   2007.0          gmc   NaN     gas    190000        clean    automatic   \n200   2012.0          ram   NaN     gas    121371        clean    automatic   \n251   2007.0          ram   NaN  diesel    220019        clean    automatic   \n...      ...          ...   ...     ...       ...          ...          ...   \n9564  2007.0       toyota   NaN     gas     85285        clean    automatic   \n9616  2012.0          ram   NaN     gas     73082        clean    automatic   \n9670  2005.0          gmc   NaN     gas     52536        clean    automatic   \n9926  2017.0        rover   NaN     gas     47000        clean    automatic   \n9972  1972.0    chevrolet   NaN     gas     75000        clean    automatic   \n\n                                              image_url  \\\n67    https://images.craigslist.org/00S0S_b3yx6L4N2S...   \n142   https://images.craigslist.org/01111_kNv3EKjH4H...   \n151   https://images.craigslist.org/00f0f_iWjiToqea2...   \n200   https://images.craigslist.org/00W0W_hHV4D0Po0G...   \n251   https://images.craigslist.org/00n0n_jgq4eOvH7I...   \n...                                                 ...   \n9564  https://images.craigslist.org/00K0K_aMoJgOIueB...   \n9616  https://images.craigslist.org/00A0A_bfCaGJ20IX...   \n9670  https://images.craigslist.org/01111_99unV6cYER...   \n9926  https://images.craigslist.org/00s0s_iGpmplDL99...   \n9972  https://images.craigslist.org/00x0x_7FqS8iHJst...   \n\n                                            description state        lat  \\\n67    2005 Range Rover HSE  Changed Oil and now engi...    ca  34.219565   \n142   SUPER CLEAN 2006 JEEP LIBEERY RANAGADE  4X4  O...    il  41.618957   \n151   2007 gmc with plow leather loaded nice truck r...    ma  42.579600   \n200   2012 RAM 1500 Laramie Crew Cab 2WD     Offered...    fl  28.329026   \n251   2007 Dodge Ram 2500 SLT 4x4 Quad Cab Cummins D...    pa  40.894535   \n...                                                 ...   ...        ...   \n9564  Toyota has been owned by non smoker with no pe...    ia  41.629500   \n9616  2012 RAM 1500 4WD REGULAR CAB SHORT BED 5.7 HE...    vt  42.788204   \n9670  GMC Savana PRO AWD cargo van has been driven l...    ky  37.858900   \n9926  2017 Range Rover HSE, supercharged V8, silver ...    ok  36.126200   \n9972  1972 classic Chevrolet pick up custom  deluxe ...    or  45.494960   \n\n            long              posting_date price_category  \\\n67   -119.001986  2021-05-04T13:11:15-0700            low   \n142   -87.726334  2021-05-03T20:33:40-0500            low   \n151   -71.803100  2021-04-08T09:10:07-0400            low   \n200   -81.404237  2021-05-01T10:05:17-0400         medium   \n251   -74.152367  2021-05-02T21:06:09-0400         medium   \n...          ...                       ...            ...   \n9564  -93.723000  2021-04-29T10:50:54-0500            low   \n9616  -71.233728  2021-04-09T16:24:23-0400         medium   \n9670  -86.006900  2021-04-20T04:48:30-0400            low   \n9926  -95.940800  2021-05-03T16:37:36-0500           high   \n9972 -122.666988  2021-05-03T14:58:34-0700         medium   \n\n                           date  \n67    2021-05-04 20:11:15+00:00  \n142   2021-05-04 01:33:40+00:00  \n151   2021-04-08 13:10:07+00:00  \n200   2021-05-01 14:05:17+00:00  \n251   2021-05-03 01:06:09+00:00  \n...                         ...  \n9564  2021-04-29 15:50:54+00:00  \n9616  2021-04-09 20:24:23+00:00  \n9670  2021-04-20 08:48:30+00:00  \n9926  2021-05-03 21:37:36+00:00  \n9972  2021-05-03 21:58:34+00:00  \n\n[126 rows x 20 columns]",
      "text/html": "<div>\n<style scoped>\n    .dataframe tbody tr th:only-of-type {\n        vertical-align: middle;\n    }\n\n    .dataframe tbody tr th {\n        vertical-align: top;\n    }\n\n    .dataframe thead th {\n        text-align: right;\n    }\n</style>\n<table border=\"1\" class=\"dataframe\">\n  <thead>\n    <tr style=\"text-align: right;\">\n      <th></th>\n      <th>id</th>\n      <th>url</th>\n      <th>region</th>\n      <th>region_url</th>\n      <th>price</th>\n      <th>year</th>\n      <th>manufacturer</th>\n      <th>model</th>\n      <th>fuel</th>\n      <th>odometer</th>\n      <th>title_status</th>\n      <th>transmission</th>\n      <th>image_url</th>\n      <th>description</th>\n      <th>state</th>\n      <th>lat</th>\n      <th>long</th>\n      <th>posting_date</th>\n      <th>price_category</th>\n      <th>date</th>\n    </tr>\n  </thead>\n  <tbody>\n    <tr>\n      <th>67</th>\n      <td>7316913641</td>\n      <td>https://ventura.craigslist.org/cto/d/camarillo...</td>\n      <td>ventura county</td>\n      <td>https://ventura.craigslist.org</td>\n      <td>3000</td>\n      <td>2005.0</td>\n      <td>rover</td>\n      <td>NaN</td>\n      <td>gas</td>\n      <td>165206</td>\n      <td>clean</td>\n      <td>automatic</td>\n      <td>https://images.craigslist.org/00S0S_b3yx6L4N2S...</td>\n      <td>2005 Range Rover HSE  Changed Oil and now engi...</td>\n      <td>ca</td>\n      <td>34.219565</td>\n      <td>-119.001986</td>\n      <td>2021-05-04T13:11:15-0700</td>\n      <td>low</td>\n      <td>2021-05-04 20:11:15+00:00</td>\n    </tr>\n    <tr>\n      <th>142</th>\n      <td>7316550853</td>\n      <td>https://chicago.craigslist.org/chc/cto/d/midlo...</td>\n      <td>chicago</td>\n      <td>https://chicago.craigslist.org</td>\n      <td>3000</td>\n      <td>2006.0</td>\n      <td>jeep</td>\n      <td>NaN</td>\n      <td>gas</td>\n      <td>132000</td>\n      <td>clean</td>\n      <td>automatic</td>\n      <td>https://images.craigslist.org/01111_kNv3EKjH4H...</td>\n      <td>SUPER CLEAN 2006 JEEP LIBEERY RANAGADE  4X4  O...</td>\n      <td>il</td>\n      <td>41.618957</td>\n      <td>-87.726334</td>\n      <td>2021-05-03T20:33:40-0500</td>\n      <td>low</td>\n      <td>2021-05-04 01:33:40+00:00</td>\n    </tr>\n    <tr>\n      <th>151</th>\n      <td>7303575863</td>\n      <td>https://worcester.craigslist.org/ctd/d/fitchbu...</td>\n      <td>worcester / central MA</td>\n      <td>https://worcester.craigslist.org</td>\n      <td>7800</td>\n      <td>2007.0</td>\n      <td>gmc</td>\n      <td>NaN</td>\n      <td>gas</td>\n      <td>190000</td>\n      <td>clean</td>\n      <td>automatic</td>\n      <td>https://images.craigslist.org/00f0f_iWjiToqea2...</td>\n      <td>2007 gmc with plow leather loaded nice truck r...</td>\n      <td>ma</td>\n      <td>42.579600</td>\n      <td>-71.803100</td>\n      <td>2021-04-08T09:10:07-0400</td>\n      <td>low</td>\n      <td>2021-04-08 13:10:07+00:00</td>\n    </tr>\n    <tr>\n      <th>200</th>\n      <td>7315267860</td>\n      <td>https://gainesville.craigslist.org/ctd/d/kissi...</td>\n      <td>gainesville</td>\n      <td>https://gainesville.craigslist.org</td>\n      <td>19200</td>\n      <td>2012.0</td>\n      <td>ram</td>\n      <td>NaN</td>\n      <td>gas</td>\n      <td>121371</td>\n      <td>clean</td>\n      <td>automatic</td>\n      <td>https://images.craigslist.org/00W0W_hHV4D0Po0G...</td>\n      <td>2012 RAM 1500 Laramie Crew Cab 2WD     Offered...</td>\n      <td>fl</td>\n      <td>28.329026</td>\n      <td>-81.404237</td>\n      <td>2021-05-01T10:05:17-0400</td>\n      <td>medium</td>\n      <td>2021-05-01 14:05:17+00:00</td>\n    </tr>\n    <tr>\n      <th>251</th>\n      <td>7316024407</td>\n      <td>https://reading.craigslist.org/ctd/d/paterson-...</td>\n      <td>reading</td>\n      <td>https://reading.craigslist.org</td>\n      <td>18695</td>\n      <td>2007.0</td>\n      <td>ram</td>\n      <td>NaN</td>\n      <td>diesel</td>\n      <td>220019</td>\n      <td>clean</td>\n      <td>automatic</td>\n      <td>https://images.craigslist.org/00n0n_jgq4eOvH7I...</td>\n      <td>2007 Dodge Ram 2500 SLT 4x4 Quad Cab Cummins D...</td>\n      <td>pa</td>\n      <td>40.894535</td>\n      <td>-74.152367</td>\n      <td>2021-05-02T21:06:09-0400</td>\n      <td>medium</td>\n      <td>2021-05-03 01:06:09+00:00</td>\n    </tr>\n    <tr>\n      <th>...</th>\n      <td>...</td>\n      <td>...</td>\n      <td>...</td>\n      <td>...</td>\n      <td>...</td>\n      <td>...</td>\n      <td>...</td>\n      <td>...</td>\n      <td>...</td>\n      <td>...</td>\n      <td>...</td>\n      <td>...</td>\n      <td>...</td>\n      <td>...</td>\n      <td>...</td>\n      <td>...</td>\n      <td>...</td>\n      <td>...</td>\n      <td>...</td>\n      <td>...</td>\n    </tr>\n    <tr>\n      <th>9564</th>\n      <td>7314341390</td>\n      <td>https://desmoines.craigslist.org/cto/d/urbanda...</td>\n      <td>des moines</td>\n      <td>https://desmoines.craigslist.org</td>\n      <td>8000</td>\n      <td>2007.0</td>\n      <td>toyota</td>\n      <td>NaN</td>\n      <td>gas</td>\n      <td>85285</td>\n      <td>clean</td>\n      <td>automatic</td>\n      <td>https://images.craigslist.org/00K0K_aMoJgOIueB...</td>\n      <td>Toyota has been owned by non smoker with no pe...</td>\n      <td>ia</td>\n      <td>41.629500</td>\n      <td>-93.723000</td>\n      <td>2021-04-29T10:50:54-0500</td>\n      <td>low</td>\n      <td>2021-04-29 15:50:54+00:00</td>\n    </tr>\n    <tr>\n      <th>9616</th>\n      <td>7304358131</td>\n      <td>https://vermont.craigslist.org/ctd/d/salem-201...</td>\n      <td>vermont</td>\n      <td>https://vermont.craigslist.org</td>\n      <td>19944</td>\n      <td>2012.0</td>\n      <td>ram</td>\n      <td>NaN</td>\n      <td>gas</td>\n      <td>73082</td>\n      <td>clean</td>\n      <td>automatic</td>\n      <td>https://images.craigslist.org/00A0A_bfCaGJ20IX...</td>\n      <td>2012 RAM 1500 4WD REGULAR CAB SHORT BED 5.7 HE...</td>\n      <td>vt</td>\n      <td>42.788204</td>\n      <td>-71.233728</td>\n      <td>2021-04-09T16:24:23-0400</td>\n      <td>medium</td>\n      <td>2021-04-09 20:24:23+00:00</td>\n    </tr>\n    <tr>\n      <th>9670</th>\n      <td>7309686008</td>\n      <td>https://louisville.craigslist.org/cto/d/radcli...</td>\n      <td>louisville</td>\n      <td>https://louisville.craigslist.org</td>\n      <td>1600</td>\n      <td>2005.0</td>\n      <td>gmc</td>\n      <td>NaN</td>\n      <td>gas</td>\n      <td>52536</td>\n      <td>clean</td>\n      <td>automatic</td>\n      <td>https://images.craigslist.org/01111_99unV6cYER...</td>\n      <td>GMC Savana PRO AWD cargo van has been driven l...</td>\n      <td>ky</td>\n      <td>37.858900</td>\n      <td>-86.006900</td>\n      <td>2021-04-20T04:48:30-0400</td>\n      <td>low</td>\n      <td>2021-04-20 08:48:30+00:00</td>\n    </tr>\n    <tr>\n      <th>9926</th>\n      <td>7316447901</td>\n      <td>https://tulsa.craigslist.org/cto/d/tulsa-2017-...</td>\n      <td>tulsa</td>\n      <td>https://tulsa.craigslist.org</td>\n      <td>65000</td>\n      <td>2017.0</td>\n      <td>rover</td>\n      <td>NaN</td>\n      <td>gas</td>\n      <td>47000</td>\n      <td>clean</td>\n      <td>automatic</td>\n      <td>https://images.craigslist.org/00s0s_iGpmplDL99...</td>\n      <td>2017 Range Rover HSE, supercharged V8, silver ...</td>\n      <td>ok</td>\n      <td>36.126200</td>\n      <td>-95.940800</td>\n      <td>2021-05-03T16:37:36-0500</td>\n      <td>high</td>\n      <td>2021-05-03 21:37:36+00:00</td>\n    </tr>\n    <tr>\n      <th>9972</th>\n      <td>7316458200</td>\n      <td>https://portland.craigslist.org/mlt/cto/d/port...</td>\n      <td>portland</td>\n      <td>https://portland.craigslist.org</td>\n      <td>18500</td>\n      <td>1972.0</td>\n      <td>chevrolet</td>\n      <td>NaN</td>\n      <td>gas</td>\n      <td>75000</td>\n      <td>clean</td>\n      <td>automatic</td>\n      <td>https://images.craigslist.org/00x0x_7FqS8iHJst...</td>\n      <td>1972 classic Chevrolet pick up custom  deluxe ...</td>\n      <td>or</td>\n      <td>45.494960</td>\n      <td>-122.666988</td>\n      <td>2021-05-03T14:58:34-0700</td>\n      <td>medium</td>\n      <td>2021-05-03 21:58:34+00:00</td>\n    </tr>\n  </tbody>\n</table>\n<p>126 rows × 20 columns</p>\n</div>"
     },
     "execution_count": 185,
     "metadata": {},
     "output_type": "execute_result"
    }
   ],
   "source": [
    "# Ваш код здесь\n",
    "df_out[df_out.model.isna()]"
   ]
  },
  {
   "cell_type": "markdown",
   "id": "c74dbec2",
   "metadata": {
    "id": "c74dbec2",
    "pycharm": {
     "name": "#%% md\n"
    }
   },
   "source": [
    "4. Если подробнее изучить значения описания автомобиля, то, возможно, модель автомобиля получится восстановить из описания. Сейчас обработайте пропуски, заполнив незаполненные значения модели автомобиля значением `other`, и сохраните изменения. Обратите внимание, что мы в очередной раз заполняем пропуски не самым популярным значением в выборке.\n"
   ]
  },
  {
   "cell_type": "code",
   "execution_count": 186,
   "id": "4f910cd1",
   "metadata": {
    "id": "4f910cd1",
    "pycharm": {
     "name": "#%%\n"
    }
   },
   "outputs": [],
   "source": [
    "# Ваш код здесь\n",
    "df_out.model = df_out.model.fillna('other')"
   ]
  },
  {
   "cell_type": "markdown",
   "id": "ca268e24",
   "metadata": {
    "id": "ca268e24",
    "pycharm": {
     "name": "#%% md\n"
    }
   },
   "source": [
    "5. Выведите для обновлённого датафрейма количество пропущенных значений для модели автомобиля."
   ]
  },
  {
   "cell_type": "code",
   "execution_count": 187,
   "id": "2ca76c69",
   "metadata": {
    "id": "2ca76c69",
    "pycharm": {
     "name": "#%%\n"
    }
   },
   "outputs": [
    {
     "name": "stdout",
     "output_type": "stream",
     "text": [
      "Количество пропущенных значений в model: 0\n"
     ]
    }
   ],
   "source": [
    "print(\"Количество пропущенных значений в model:\", df_out.model.isna().sum())  # Допишите код"
   ]
  },
  {
   "cell_type": "markdown",
   "id": "7b18d51a",
   "metadata": {
    "ExecuteTime": {
     "end_time": "2022-01-29T23:59:37.851299Z",
     "start_time": "2022-01-29T23:59:37.835225Z"
    },
    "id": "7b18d51a",
    "pycharm": {
     "name": "#%% md\n"
    }
   },
   "source": [
    "### Задача 5. Обработка пропусков в статусе автомобиля\n",
    "\n",
    "1. Выведите количество значений для статуса автомобиля, включая пропущенные значения. Обратите внимание на количество пропущенных значений.\n"
   ]
  },
  {
   "cell_type": "code",
   "execution_count": 188,
   "id": "0e35ec5d",
   "metadata": {
    "id": "0e35ec5d",
    "pycharm": {
     "name": "#%%\n"
    }
   },
   "outputs": [
    {
     "data": {
      "text/plain": "title_status\nclean         9492\nrebuilt        168\nNaN            159\nsalvage         92\nlien            35\nmissing         16\nparts only       2\nName: count, dtype: int64"
     },
     "execution_count": 188,
     "metadata": {},
     "output_type": "execute_result"
    }
   ],
   "source": [
    "# Ваш код здесь\n",
    "df_out.title_status.value_counts(dropna=False)"
   ]
  },
  {
   "cell_type": "markdown",
   "id": "cb04e35d",
   "metadata": {
    "id": "cb04e35d",
    "pycharm": {
     "name": "#%% md\n"
    }
   },
   "source": [
    "2. Выведите описательные статистики для модели автомобиля.\n",
    "\n"
   ]
  },
  {
   "cell_type": "code",
   "execution_count": 189,
   "id": "f1b5bdaf",
   "metadata": {
    "id": "f1b5bdaf",
    "pycharm": {
     "name": "#%%\n"
    }
   },
   "outputs": [
    {
     "data": {
      "text/plain": "count      9805\nunique        6\ntop       clean\nfreq       9492\nName: title_status, dtype: object"
     },
     "execution_count": 189,
     "metadata": {},
     "output_type": "execute_result"
    }
   ],
   "source": [
    "# Ваш код здесь\n",
    "df_out.title_status.describe()"
   ]
  },
  {
   "cell_type": "markdown",
   "id": "ae924298",
   "metadata": {
    "id": "ae924298",
    "pycharm": {
     "name": "#%% md\n"
    }
   },
   "source": [
    "3. Выведите записи, в которых статус автомобиля не заполнен. Посмотрите на данные и подумайте, какую стратегию обработки значений можно применить.\n"
   ]
  },
  {
   "cell_type": "code",
   "execution_count": 190,
   "id": "45d70a32",
   "metadata": {
    "ExecuteTime": {
     "end_time": "2022-01-30T00:01:43.737968Z",
     "start_time": "2022-01-30T00:01:43.735051Z"
    },
    "id": "45d70a32",
    "pycharm": {
     "name": "#%%\n"
    }
   },
   "outputs": [
    {
     "data": {
      "text/plain": "              id                                                url  \\\n11    7316540706  https://cincinnati.craigslist.org/ctd/d/fairfi...   \n187   7313570594  https://orangecounty.craigslist.org/ctd/d/coro...   \n245   7315211652  https://ocala.craigslist.org/ctd/d/riverview-2...   \n286   7306702976  https://toledo.craigslist.org/ctd/d/chelsea-73...   \n312   7307609203  https://roseburg.craigslist.org/ctd/d/eugene-2...   \n...          ...                                                ...   \n9740  7301707830  https://tricities.craigslist.org/ctd/d/bristol...   \n9805  7313949726  https://harrisburg.craigslist.org/ctd/d/brockp...   \n9840  7314987181  https://nashville.craigslist.org/ctd/d/nashvil...   \n9856  7309717260  https://savannah.craigslist.org/ctd/d/jacksonv...   \n9981  7315557731  https://minneapolis.craigslist.org/csw/ctd/d/d...   \n\n                     region                           region_url  price  \\\n11               cincinnati    https://cincinnati.craigslist.org   4995   \n187           orange county  https://orangecounty.craigslist.org  17900   \n245                   ocala         https://ocala.craigslist.org  40990   \n286                  toledo        https://toledo.craigslist.org   4592   \n312                roseburg      https://roseburg.craigslist.org  18450   \n...                     ...                                  ...    ...   \n9740             tri-cities     https://tricities.craigslist.org   8995   \n9805             harrisburg    https://harrisburg.craigslist.org   8900   \n9840              nashville     https://nashville.craigslist.org  20900   \n9856  savannah / hinesville      https://savannah.craigslist.org  11495   \n9981  minneapolis / st paul   https://minneapolis.craigslist.org  38943   \n\n        year manufacturer                    model    fuel  odometer  \\\n11    2012.0         fiat                  500 pop     gas     59242   \n187   2013.0          ram  1500 tradesman quad cab     gas    145499   \n245   2019.0       toyota               sienna xle     gas      3700   \n286   2003.0    chevrolet           avalanche 1500     gas    268691   \n312   2017.0         ford                  mustang     gas     66049   \n...      ...          ...                      ...     ...       ...   \n9740  2013.0        honda                  odyssey     gas    203112   \n9805  2012.0        honda                   accord   other     95674   \n9840  2014.0        lexus                   rx 350     gas     70800   \n9856  2006.0        lexus                   gx 470     gas    242000   \n9981  2008.0         ford   f750 super duty - 55ft  diesel     81214   \n\n     title_status transmission  \\\n11            NaN       manual   \n187           NaN    automatic   \n245           NaN    automatic   \n286           NaN    automatic   \n312           NaN    automatic   \n...           ...          ...   \n9740          NaN    automatic   \n9805          NaN          NaN   \n9840          NaN    automatic   \n9856          NaN    automatic   \n9981          NaN    automatic   \n\n                                              image_url  \\\n11    https://images.craigslist.org/00Z0Z_jbUmVcYlwR...   \n187   https://images.craigslist.org/00H0H_1JFMPCYyW8...   \n245   https://images.craigslist.org/01111_grKNF8GrXz...   \n286   https://images.craigslist.org/00808_1IOMJuA4GL...   \n312   https://images.craigslist.org/00505_4apF36sLbP...   \n...                                                 ...   \n9740  https://images.craigslist.org/00u0u_bawW7HN8xW...   \n9805  https://images.craigslist.org/01212_dsfYRNhxfd...   \n9840  https://images.craigslist.org/00Q0Q_cGablAkoYV...   \n9856  https://images.craigslist.org/00s0s_8xg4gw6aAg...   \n9981  https://images.craigslist.org/00y0y_5jr8fQlu7e...   \n\n                                            description state        lat  \\\n11    2012 Fiat 500 Pop FOR ONLY $102/mo!59,242 mi. ...    oh  39.297045   \n187   2013 Ram 1500 Tradesman Quad Cab PRICED TO SEL...    ca  33.873436   \n245   2019 Toyota Sienna - Wheelchair Accessible Han...    fl  27.849760   \n286   $73/mo - 2003 Chevrolet Avalanche 1500 BaseCre...    oh  42.300673   \n312   2017 Ford MUSTANG - $18,450 \\tMayberry Motors ...    or  44.058499   \n...                                                 ...   ...        ...   \n9740  2013 *Honda* *Odyssey* 5dr EX Van FWD - $8,995...    tn  36.541821   \n9805  Car Starz Call Sales at 717-401-4221 2012 Hond...    pa  41.261540   \n9840  2014 *Lexus* *RX 350* 2014 LEXUS RX 350 SUV 1-...    tn  36.138022   \n9856  2006 *Lexus* *GX 470* 4dr SUV 4WD - $11,495By ...    ga  30.513566   \n9981  2008 Ford F750 F 750 F-750 Super Duty 55ft 55 ...    mn  45.082884   \n\n            long              posting_date price_category  \\\n11    -84.563243  2021-05-03T21:03:32-0400            low   \n187  -117.542806  2021-04-27T15:03:47-0700         medium   \n245   -82.364950  2021-05-01T06:35:56-0400           high   \n286   -84.024108  2021-04-14T12:03:01-0400            low   \n312  -123.106176  2021-04-16T04:06:29-0700         medium   \n...          ...                       ...            ...   \n9740  -82.234645  2021-04-04T13:12:27-0400            low   \n9805  -78.704520  2021-04-28T14:25:32-0400            low   \n9840  -86.732261  2021-04-30T15:00:48-0500         medium   \n9856  -81.621875  2021-04-20T08:01:49-0400         medium   \n9981  -94.334760  2021-05-01T18:03:06-0500           high   \n\n                           date  \n11    2021-05-04 01:03:32+00:00  \n187   2021-04-27 22:03:47+00:00  \n245   2021-05-01 10:35:56+00:00  \n286   2021-04-14 16:03:01+00:00  \n312   2021-04-16 11:06:29+00:00  \n...                         ...  \n9740  2021-04-04 17:12:27+00:00  \n9805  2021-04-28 18:25:32+00:00  \n9840  2021-04-30 20:00:48+00:00  \n9856  2021-04-20 12:01:49+00:00  \n9981  2021-05-01 23:03:06+00:00  \n\n[159 rows x 20 columns]",
      "text/html": "<div>\n<style scoped>\n    .dataframe tbody tr th:only-of-type {\n        vertical-align: middle;\n    }\n\n    .dataframe tbody tr th {\n        vertical-align: top;\n    }\n\n    .dataframe thead th {\n        text-align: right;\n    }\n</style>\n<table border=\"1\" class=\"dataframe\">\n  <thead>\n    <tr style=\"text-align: right;\">\n      <th></th>\n      <th>id</th>\n      <th>url</th>\n      <th>region</th>\n      <th>region_url</th>\n      <th>price</th>\n      <th>year</th>\n      <th>manufacturer</th>\n      <th>model</th>\n      <th>fuel</th>\n      <th>odometer</th>\n      <th>title_status</th>\n      <th>transmission</th>\n      <th>image_url</th>\n      <th>description</th>\n      <th>state</th>\n      <th>lat</th>\n      <th>long</th>\n      <th>posting_date</th>\n      <th>price_category</th>\n      <th>date</th>\n    </tr>\n  </thead>\n  <tbody>\n    <tr>\n      <th>11</th>\n      <td>7316540706</td>\n      <td>https://cincinnati.craigslist.org/ctd/d/fairfi...</td>\n      <td>cincinnati</td>\n      <td>https://cincinnati.craigslist.org</td>\n      <td>4995</td>\n      <td>2012.0</td>\n      <td>fiat</td>\n      <td>500 pop</td>\n      <td>gas</td>\n      <td>59242</td>\n      <td>NaN</td>\n      <td>manual</td>\n      <td>https://images.craigslist.org/00Z0Z_jbUmVcYlwR...</td>\n      <td>2012 Fiat 500 Pop FOR ONLY $102/mo!59,242 mi. ...</td>\n      <td>oh</td>\n      <td>39.297045</td>\n      <td>-84.563243</td>\n      <td>2021-05-03T21:03:32-0400</td>\n      <td>low</td>\n      <td>2021-05-04 01:03:32+00:00</td>\n    </tr>\n    <tr>\n      <th>187</th>\n      <td>7313570594</td>\n      <td>https://orangecounty.craigslist.org/ctd/d/coro...</td>\n      <td>orange county</td>\n      <td>https://orangecounty.craigslist.org</td>\n      <td>17900</td>\n      <td>2013.0</td>\n      <td>ram</td>\n      <td>1500 tradesman quad cab</td>\n      <td>gas</td>\n      <td>145499</td>\n      <td>NaN</td>\n      <td>automatic</td>\n      <td>https://images.craigslist.org/00H0H_1JFMPCYyW8...</td>\n      <td>2013 Ram 1500 Tradesman Quad Cab PRICED TO SEL...</td>\n      <td>ca</td>\n      <td>33.873436</td>\n      <td>-117.542806</td>\n      <td>2021-04-27T15:03:47-0700</td>\n      <td>medium</td>\n      <td>2021-04-27 22:03:47+00:00</td>\n    </tr>\n    <tr>\n      <th>245</th>\n      <td>7315211652</td>\n      <td>https://ocala.craigslist.org/ctd/d/riverview-2...</td>\n      <td>ocala</td>\n      <td>https://ocala.craigslist.org</td>\n      <td>40990</td>\n      <td>2019.0</td>\n      <td>toyota</td>\n      <td>sienna xle</td>\n      <td>gas</td>\n      <td>3700</td>\n      <td>NaN</td>\n      <td>automatic</td>\n      <td>https://images.craigslist.org/01111_grKNF8GrXz...</td>\n      <td>2019 Toyota Sienna - Wheelchair Accessible Han...</td>\n      <td>fl</td>\n      <td>27.849760</td>\n      <td>-82.364950</td>\n      <td>2021-05-01T06:35:56-0400</td>\n      <td>high</td>\n      <td>2021-05-01 10:35:56+00:00</td>\n    </tr>\n    <tr>\n      <th>286</th>\n      <td>7306702976</td>\n      <td>https://toledo.craigslist.org/ctd/d/chelsea-73...</td>\n      <td>toledo</td>\n      <td>https://toledo.craigslist.org</td>\n      <td>4592</td>\n      <td>2003.0</td>\n      <td>chevrolet</td>\n      <td>avalanche 1500</td>\n      <td>gas</td>\n      <td>268691</td>\n      <td>NaN</td>\n      <td>automatic</td>\n      <td>https://images.craigslist.org/00808_1IOMJuA4GL...</td>\n      <td>$73/mo - 2003 Chevrolet Avalanche 1500 BaseCre...</td>\n      <td>oh</td>\n      <td>42.300673</td>\n      <td>-84.024108</td>\n      <td>2021-04-14T12:03:01-0400</td>\n      <td>low</td>\n      <td>2021-04-14 16:03:01+00:00</td>\n    </tr>\n    <tr>\n      <th>312</th>\n      <td>7307609203</td>\n      <td>https://roseburg.craigslist.org/ctd/d/eugene-2...</td>\n      <td>roseburg</td>\n      <td>https://roseburg.craigslist.org</td>\n      <td>18450</td>\n      <td>2017.0</td>\n      <td>ford</td>\n      <td>mustang</td>\n      <td>gas</td>\n      <td>66049</td>\n      <td>NaN</td>\n      <td>automatic</td>\n      <td>https://images.craigslist.org/00505_4apF36sLbP...</td>\n      <td>2017 Ford MUSTANG - $18,450 \\tMayberry Motors ...</td>\n      <td>or</td>\n      <td>44.058499</td>\n      <td>-123.106176</td>\n      <td>2021-04-16T04:06:29-0700</td>\n      <td>medium</td>\n      <td>2021-04-16 11:06:29+00:00</td>\n    </tr>\n    <tr>\n      <th>...</th>\n      <td>...</td>\n      <td>...</td>\n      <td>...</td>\n      <td>...</td>\n      <td>...</td>\n      <td>...</td>\n      <td>...</td>\n      <td>...</td>\n      <td>...</td>\n      <td>...</td>\n      <td>...</td>\n      <td>...</td>\n      <td>...</td>\n      <td>...</td>\n      <td>...</td>\n      <td>...</td>\n      <td>...</td>\n      <td>...</td>\n      <td>...</td>\n      <td>...</td>\n    </tr>\n    <tr>\n      <th>9740</th>\n      <td>7301707830</td>\n      <td>https://tricities.craigslist.org/ctd/d/bristol...</td>\n      <td>tri-cities</td>\n      <td>https://tricities.craigslist.org</td>\n      <td>8995</td>\n      <td>2013.0</td>\n      <td>honda</td>\n      <td>odyssey</td>\n      <td>gas</td>\n      <td>203112</td>\n      <td>NaN</td>\n      <td>automatic</td>\n      <td>https://images.craigslist.org/00u0u_bawW7HN8xW...</td>\n      <td>2013 *Honda* *Odyssey* 5dr EX Van FWD - $8,995...</td>\n      <td>tn</td>\n      <td>36.541821</td>\n      <td>-82.234645</td>\n      <td>2021-04-04T13:12:27-0400</td>\n      <td>low</td>\n      <td>2021-04-04 17:12:27+00:00</td>\n    </tr>\n    <tr>\n      <th>9805</th>\n      <td>7313949726</td>\n      <td>https://harrisburg.craigslist.org/ctd/d/brockp...</td>\n      <td>harrisburg</td>\n      <td>https://harrisburg.craigslist.org</td>\n      <td>8900</td>\n      <td>2012.0</td>\n      <td>honda</td>\n      <td>accord</td>\n      <td>other</td>\n      <td>95674</td>\n      <td>NaN</td>\n      <td>NaN</td>\n      <td>https://images.craigslist.org/01212_dsfYRNhxfd...</td>\n      <td>Car Starz Call Sales at 717-401-4221 2012 Hond...</td>\n      <td>pa</td>\n      <td>41.261540</td>\n      <td>-78.704520</td>\n      <td>2021-04-28T14:25:32-0400</td>\n      <td>low</td>\n      <td>2021-04-28 18:25:32+00:00</td>\n    </tr>\n    <tr>\n      <th>9840</th>\n      <td>7314987181</td>\n      <td>https://nashville.craigslist.org/ctd/d/nashvil...</td>\n      <td>nashville</td>\n      <td>https://nashville.craigslist.org</td>\n      <td>20900</td>\n      <td>2014.0</td>\n      <td>lexus</td>\n      <td>rx 350</td>\n      <td>gas</td>\n      <td>70800</td>\n      <td>NaN</td>\n      <td>automatic</td>\n      <td>https://images.craigslist.org/00Q0Q_cGablAkoYV...</td>\n      <td>2014 *Lexus* *RX 350* 2014 LEXUS RX 350 SUV 1-...</td>\n      <td>tn</td>\n      <td>36.138022</td>\n      <td>-86.732261</td>\n      <td>2021-04-30T15:00:48-0500</td>\n      <td>medium</td>\n      <td>2021-04-30 20:00:48+00:00</td>\n    </tr>\n    <tr>\n      <th>9856</th>\n      <td>7309717260</td>\n      <td>https://savannah.craigslist.org/ctd/d/jacksonv...</td>\n      <td>savannah / hinesville</td>\n      <td>https://savannah.craigslist.org</td>\n      <td>11495</td>\n      <td>2006.0</td>\n      <td>lexus</td>\n      <td>gx 470</td>\n      <td>gas</td>\n      <td>242000</td>\n      <td>NaN</td>\n      <td>automatic</td>\n      <td>https://images.craigslist.org/00s0s_8xg4gw6aAg...</td>\n      <td>2006 *Lexus* *GX 470* 4dr SUV 4WD - $11,495By ...</td>\n      <td>ga</td>\n      <td>30.513566</td>\n      <td>-81.621875</td>\n      <td>2021-04-20T08:01:49-0400</td>\n      <td>medium</td>\n      <td>2021-04-20 12:01:49+00:00</td>\n    </tr>\n    <tr>\n      <th>9981</th>\n      <td>7315557731</td>\n      <td>https://minneapolis.craigslist.org/csw/ctd/d/d...</td>\n      <td>minneapolis / st paul</td>\n      <td>https://minneapolis.craigslist.org</td>\n      <td>38943</td>\n      <td>2008.0</td>\n      <td>ford</td>\n      <td>f750 super duty - 55ft</td>\n      <td>diesel</td>\n      <td>81214</td>\n      <td>NaN</td>\n      <td>automatic</td>\n      <td>https://images.craigslist.org/00y0y_5jr8fQlu7e...</td>\n      <td>2008 Ford F750 F 750 F-750 Super Duty 55ft 55 ...</td>\n      <td>mn</td>\n      <td>45.082884</td>\n      <td>-94.334760</td>\n      <td>2021-05-01T18:03:06-0500</td>\n      <td>high</td>\n      <td>2021-05-01 23:03:06+00:00</td>\n    </tr>\n  </tbody>\n</table>\n<p>159 rows × 20 columns</p>\n</div>"
     },
     "execution_count": 190,
     "metadata": {},
     "output_type": "execute_result"
    }
   ],
   "source": [
    "# Ваш код здесь\n",
    "df_out[df_out.title_status.isna()]"
   ]
  },
  {
   "cell_type": "markdown",
   "id": "d36289b1",
   "metadata": {
    "id": "d36289b1",
    "pycharm": {
     "name": "#%% md\n"
    }
   },
   "source": [
    "4. Обработайте пропуски, заполнив незаполненные значения статуса автомобиля самым популярным значением, и сохраните изменения. Самое популярное значение передайте не в виде строки, а получите моду.\n"
   ]
  },
  {
   "cell_type": "code",
   "execution_count": 193,
   "id": "10883943",
   "metadata": {
    "id": "10883943",
    "pycharm": {
     "name": "#%%\n"
    }
   },
   "outputs": [],
   "source": [
    "# Ваш код здесь\n",
    "df_out.title_status = df_out.title_status.fillna(df_out.title_status.mode()[0])"
   ]
  },
  {
   "cell_type": "markdown",
   "id": "939969e6",
   "metadata": {
    "id": "939969e6",
    "pycharm": {
     "name": "#%% md\n"
    }
   },
   "source": [
    "5. Выведите для обновлённого датафрейма количество пропущенных значений для статуса автомобиля.\n"
   ]
  },
  {
   "cell_type": "code",
   "execution_count": 194,
   "id": "c3139354",
   "metadata": {
    "id": "c3139354",
    "pycharm": {
     "name": "#%%\n"
    }
   },
   "outputs": [
    {
     "name": "stdout",
     "output_type": "stream",
     "text": [
      "Количество пропущенных значений в title_status: 0\n"
     ]
    }
   ],
   "source": [
    "print(\"Количество пропущенных значений в title_status:\", df_out.title_status.isna().sum())# Допишите код"
   ]
  },
  {
   "cell_type": "markdown",
   "id": "b9ed8462",
   "metadata": {
    "id": "b9ed8462",
    "pycharm": {
     "name": "#%% md\n"
    }
   },
   "source": [
    "6. Ещё раз выведите количество полностью заполненных объектов и их процент из всей выборки. После обработки всех пропусков можно переходить к следующему этапу."
   ]
  },
  {
   "cell_type": "code",
   "execution_count": 195,
   "id": "6fedeb3c",
   "metadata": {
    "id": "6fedeb3c",
    "pycharm": {
     "name": "#%%\n"
    }
   },
   "outputs": [
    {
     "name": "stdout",
     "output_type": "stream",
     "text": [
      "Количество полностью заполненных объектов: 9825\n",
      "Процент полностью заполненных объектов от всей выборки: 98.60497792051385\n"
     ]
    }
   ],
   "source": [
    "# Ваш код здесь\n",
    "print_full_rows(df_out)"
   ]
  },
  {
   "cell_type": "markdown",
   "id": "407df76a",
   "metadata": {
    "ExecuteTime": {
     "end_time": "2022-01-30T00:13:50.405251Z",
     "start_time": "2022-01-30T00:13:50.398978Z"
    },
    "id": "407df76a",
    "pycharm": {
     "name": "#%% md\n"
    }
   },
   "source": [
    "### Задача 6. Преобразование типа данных в годе выпуска автомобиля\n",
    "1.  Выведите информацию о датафрейме и обратите внимание на типы данных.\n"
   ]
  },
  {
   "cell_type": "code",
   "execution_count": 198,
   "id": "f3d4d751",
   "metadata": {
    "id": "f3d4d751",
    "pycharm": {
     "name": "#%%\n"
    }
   },
   "outputs": [
    {
     "name": "stdout",
     "output_type": "stream",
     "text": [
      "<class 'pandas.core.frame.DataFrame'>\n",
      "Index: 9964 entries, 0 to 9999\n",
      "Data columns (total 20 columns):\n",
      " #   Column          Non-Null Count  Dtype  \n",
      "---  ------          --------------  -----  \n",
      " 0   id              9964 non-null   int64  \n",
      " 1   url             9964 non-null   object \n",
      " 2   region          9964 non-null   object \n",
      " 3   region_url      9964 non-null   object \n",
      " 4   price           9964 non-null   int64  \n",
      " 5   year            9964 non-null   float64\n",
      " 6   manufacturer    9964 non-null   object \n",
      " 7   model           9964 non-null   object \n",
      " 8   fuel            9964 non-null   object \n",
      " 9   odometer        9964 non-null   int64  \n",
      " 10  title_status    9964 non-null   object \n",
      " 11  transmission    9921 non-null   object \n",
      " 12  image_url       9964 non-null   object \n",
      " 13  description     9964 non-null   object \n",
      " 14  state           9964 non-null   object \n",
      " 15  lat             9868 non-null   float64\n",
      " 16  long            9868 non-null   float64\n",
      " 17  posting_date    9964 non-null   object \n",
      " 18  price_category  9964 non-null   object \n",
      " 19  date            9964 non-null   object \n",
      "dtypes: float64(3), int64(3), object(14)\n",
      "memory usage: 1.6+ MB\n"
     ]
    }
   ],
   "source": [
    "# Ваш код здесь\n",
    "df_out.info()"
   ]
  },
  {
   "cell_type": "markdown",
   "id": "71561e8d",
   "metadata": {
    "id": "71561e8d",
    "pycharm": {
     "name": "#%% md\n"
    }
   },
   "source": [
    "2. Выведите описательные статистики для года выпуска автомобиля. Обратите внимание на тип данных.\n",
    "\n"
   ]
  },
  {
   "cell_type": "code",
   "execution_count": 199,
   "id": "29919539",
   "metadata": {
    "id": "29919539",
    "pycharm": {
     "name": "#%%\n"
    }
   },
   "outputs": [
    {
     "name": "stdout",
     "output_type": "stream",
     "text": [
      "<class 'pandas.core.series.Series'>\n",
      "Index: 9964 entries, 0 to 9999\n",
      "Series name: year\n",
      "Non-Null Count  Dtype  \n",
      "--------------  -----  \n",
      "9964 non-null   float64\n",
      "dtypes: float64(1)\n",
      "memory usage: 155.7 KB\n"
     ]
    }
   ],
   "source": [
    "# Ваш код здесь\n",
    "df_out.year.info()"
   ]
  },
  {
   "cell_type": "markdown",
   "id": "1efd4a88",
   "metadata": {
    "id": "1efd4a88",
    "pycharm": {
     "name": "#%% md\n"
    }
   },
   "source": [
    "3. Измените тип данных для года выпуска на более подходящий целочисленный тип и выведите получившийся тип данных только для года выпуска."
   ]
  },
  {
   "cell_type": "code",
   "execution_count": 200,
   "id": "edf757e9",
   "metadata": {
    "id": "edf757e9",
    "pycharm": {
     "name": "#%%\n"
    }
   },
   "outputs": [
    {
     "name": "stdout",
     "output_type": "stream",
     "text": [
      "<class 'pandas.core.series.Series'>\n",
      "Index: 9964 entries, 0 to 9999\n",
      "Series name: year\n",
      "Non-Null Count  Dtype\n",
      "--------------  -----\n",
      "9964 non-null   int64\n",
      "dtypes: int64(1)\n",
      "memory usage: 155.7 KB\n"
     ]
    }
   ],
   "source": [
    "# Ваш код здесь\n",
    "df_out.year = df_out.year.astype(int)\n",
    "df_out.year.info()"
   ]
  },
  {
   "cell_type": "markdown",
   "id": "7c27a6d1",
   "metadata": {
    "id": "7c27a6d1",
    "pycharm": {
     "name": "#%% md\n"
    }
   },
   "source": [
    "### Задача 7. Преобразование типа данных в категориальных переменных\n",
    "\n",
    "1. Выведите тип данных для типа топлива автомобиля.\n"
   ]
  },
  {
   "cell_type": "code",
   "execution_count": 203,
   "id": "1eb44d15",
   "metadata": {
    "id": "1eb44d15",
    "pycharm": {
     "name": "#%%\n"
    }
   },
   "outputs": [
    {
     "name": "stdout",
     "output_type": "stream",
     "text": [
      "object\n"
     ]
    }
   ],
   "source": [
    "# Ваш код здесь\n",
    "print(df_out.fuel.dtype)"
   ]
  },
  {
   "cell_type": "markdown",
   "id": "a6b63b6b",
   "metadata": {
    "id": "a6b63b6b",
    "pycharm": {
     "name": "#%% md\n"
    }
   },
   "source": [
    "2. Категориальным переменным можно задавать специальный тип данных `category`. Подробнее об этом можно прочитать в [документации](https://pandas.pydata.org/pandas-docs/stable/user_guide/categorical.html). Укажите для типа топлива тип данных `category`, сохраните изменения в переменную `series` и выведите её.\n"
   ]
  },
  {
   "cell_type": "code",
   "execution_count": 206,
   "id": "c5d4ba82",
   "metadata": {
    "id": "c5d4ba82",
    "pycharm": {
     "name": "#%%\n"
    }
   },
   "outputs": [
    {
     "name": "stdout",
     "output_type": "stream",
     "text": [
      "category\n"
     ]
    }
   ],
   "source": [
    "# Ваш код здесь\n",
    "series = df_out.fuel.astype(\"category\")"
   ]
  },
  {
   "cell_type": "markdown",
   "id": "18649b60",
   "metadata": {
    "id": "18649b60",
    "pycharm": {
     "name": "#%% md\n"
    }
   },
   "source": [
    "3. Выведите тип данных для серии. Обратите внимание на структуру вывода."
   ]
  },
  {
   "cell_type": "code",
   "execution_count": 208,
   "id": "2c6ccc89",
   "metadata": {
    "id": "2c6ccc89",
    "pycharm": {
     "name": "#%%\n"
    }
   },
   "outputs": [
    {
     "data": {
      "text/plain": "CategoricalDtype(categories=['diesel', 'electric', 'gas', 'hybrid', 'other'], ordered=False, categories_dtype=object)"
     },
     "execution_count": 208,
     "metadata": {},
     "output_type": "execute_result"
    }
   ],
   "source": [
    "# Ваш код здесь\n",
    "series.dtype"
   ]
  },
  {
   "cell_type": "markdown",
   "id": "7785ab5a",
   "metadata": {
    "id": "7785ab5a",
    "pycharm": {
     "name": "#%% md\n"
    }
   },
   "source": [
    "4. Выведите первые две категории, используя вывод типа данных выше."
   ]
  },
  {
   "cell_type": "code",
   "execution_count": 210,
   "id": "1dbe47fa",
   "metadata": {
    "ExecuteTime": {
     "end_time": "2022-01-30T00:38:20.120004Z",
     "start_time": "2022-01-30T00:38:20.116934Z"
    },
    "id": "1dbe47fa",
    "pycharm": {
     "name": "#%%\n"
    }
   },
   "outputs": [
    {
     "data": {
      "text/plain": "Index(['diesel', 'electric'], dtype='object')"
     },
     "execution_count": 210,
     "metadata": {},
     "output_type": "execute_result"
    }
   ],
   "source": [
    "# Ваш код здесь\n",
    "series.dtype.categories[:2]"
   ]
  },
  {
   "cell_type": "markdown",
   "id": "7ca0b6ac",
   "metadata": {
    "ExecuteTime": {
     "end_time": "2022-01-30T00:39:15.501238Z",
     "start_time": "2022-01-30T00:39:15.492712Z"
    },
    "id": "7ca0b6ac",
    "pycharm": {
     "name": "#%% md\n"
    }
   },
   "source": [
    "### Задача 8. Выбросы в годе выпуска\n",
    "\n",
    "1. Выведите описательные статистики для года выпуска автомобиля. Обратите внимание на пограничные значения, на квартили.\n",
    "\n"
   ]
  },
  {
   "cell_type": "code",
   "execution_count": 211,
   "id": "4eb87cc4",
   "metadata": {
    "id": "4eb87cc4",
    "pycharm": {
     "name": "#%%\n"
    }
   },
   "outputs": [
    {
     "data": {
      "text/plain": "count    9964.000000\nmean     2010.927941\nstd         9.672040\nmin      1915.000000\n25%      2008.000000\n50%      2013.000000\n75%      2017.000000\nmax      2022.000000\nName: year, dtype: float64"
     },
     "execution_count": 211,
     "metadata": {},
     "output_type": "execute_result"
    }
   ],
   "source": [
    "# Ваш код здесь\n",
    "df_out.year.describe()"
   ]
  },
  {
   "cell_type": "markdown",
   "id": "ea7d4621",
   "metadata": {
    "id": "ea7d4621",
    "pycharm": {
     "name": "#%% md\n"
    }
   },
   "source": [
    "2. Выведите границы для нормальных значений года выпуска, используя интерквартильный размах. Воспользуйтесь материалами из видео. Посмотрите, входят ли минимальное и максимальное значения в интервал между полученными границами.\n"
   ]
  },
  {
   "cell_type": "code",
   "execution_count": 219,
   "id": "5332e1b7",
   "metadata": {
    "ExecuteTime": {
     "end_time": "2022-01-30T19:40:37.156318Z",
     "start_time": "2022-01-30T19:40:37.148044Z"
    },
    "id": "5332e1b7",
    "pycharm": {
     "name": "#%%\n"
    }
   },
   "outputs": [
    {
     "data": {
      "text/plain": "(1994.5, 2030.5)"
     },
     "execution_count": 219,
     "metadata": {},
     "output_type": "execute_result"
    }
   ],
   "source": [
    "# Ваш код здесь\n",
    "def calculate_outliers(data):\n",
    "    q25 = int(data.quantile(0.25))\n",
    "    q75 = int(data.quantile(0.75))\n",
    "    iqr = q75 - q25\n",
    "    boundaries = (q25 - 1.5 * iqr, q75 + 1.5 * iqr)\n",
    "\n",
    "    return boundaries\n",
    "\n",
    "boundaries = calculate_outliers(df_out.year)\n",
    "boundaries"
   ]
  },
  {
   "cell_type": "markdown",
   "id": "35061225",
   "metadata": {
    "id": "35061225",
    "pycharm": {
     "name": "#%% md\n"
    }
   },
   "source": [
    "3. Посчитайте и выведите количество выбросов в годе выпуска автомобиля.\n"
   ]
  },
  {
   "cell_type": "code",
   "execution_count": 224,
   "id": "0e994229",
   "metadata": {
    "ExecuteTime": {
     "end_time": "2022-01-30T19:49:50.433110Z",
     "start_time": "2022-01-30T19:49:50.429087Z"
    },
    "id": "0e994229",
    "pycharm": {
     "name": "#%%\n"
    }
   },
   "outputs": [
    {
     "name": "stdout",
     "output_type": "stream",
     "text": [
      "394\n"
     ]
    }
   ],
   "source": [
    "# Ваш код здесь\n",
    "is_outliers = (df_out.year < boundaries[0]) | (df_out.year > boundaries[1])\n",
    "print(is_outliers.sum())"
   ]
  },
  {
   "cell_type": "markdown",
   "id": "bdd795fd",
   "metadata": {
    "id": "bdd795fd",
    "pycharm": {
     "name": "#%% md\n"
    }
   },
   "source": [
    "4. Посчитайте и выведите долю выбросов в годе выпуска автомобиля.\n"
   ]
  },
  {
   "cell_type": "code",
   "execution_count": 227,
   "id": "88ed9939",
   "metadata": {
    "ExecuteTime": {
     "end_time": "2022-01-30T19:53:31.931143Z",
     "start_time": "2022-01-30T19:53:31.919541Z"
    },
    "id": "88ed9939",
    "pycharm": {
     "name": "#%%\n"
    }
   },
   "outputs": [
    {
     "name": "stdout",
     "output_type": "stream",
     "text": [
      "0.039542352468887994\n"
     ]
    }
   ],
   "source": [
    "# Ваш код здесь\n",
    "print(is_outliers.sum() / len(df_out))"
   ]
  },
  {
   "cell_type": "markdown",
   "id": "766d5606",
   "metadata": {
    "id": "766d5606",
    "pycharm": {
     "name": "#%% md\n"
    }
   },
   "source": [
    "5. Выведите записи, в которых год выпуска попадает в выбросы. Посмотрите на данные и подумайте, могут ли эти выбросы описывать особые значения категории цены или других признаков или действительно являются выбросами.\n"
   ]
  },
  {
   "cell_type": "code",
   "execution_count": 239,
   "id": "f4c0956d",
   "metadata": {
    "ExecuteTime": {
     "end_time": "2022-01-30T20:02:12.952212Z",
     "start_time": "2022-01-30T20:02:12.947496Z"
    },
    "id": "f4c0956d",
    "pycharm": {
     "name": "#%%\n"
    }
   },
   "outputs": [
    {
     "data": {
      "text/plain": "              id                                                url  \\\n401   7308847796  https://billings.craigslist.org/cto/d/columbus...   \n6342  7314390836  https://kansascity.craigslist.org/ctd/d/odessa...   \n5014  7313024973  https://prescott.craigslist.org/cto/d/cottonwo...   \n6329  7316455114  https://tucson.craigslist.org/cto/d/tucson-192...   \n6476  7312752494  https://rochester.craigslist.org/cto/d/hilton-...   \n...          ...                                                ...   \n8784  7315071161  https://omaha.craigslist.org/ctd/d/blair-1994-...   \n9013  7316875336  https://cleveland.craigslist.org/cto/d/solon-1...   \n8460  7315131826  https://lasvegas.craigslist.org/ctd/d/henderso...   \n9921  7311566144  https://chico.craigslist.org/cto/d/chico-1994-...   \n13    7317089086  https://seattle.craigslist.org/see/ctd/d/portl...   \n\n                      region                         region_url  price  year  \\\n401                 billings    https://billings.craigslist.org   5000  1915   \n6342         kansas city, MO  https://kansascity.craigslist.org  14950  1923   \n5014                prescott    https://prescott.craigslist.org  18500  1927   \n6329                  tucson      https://tucson.craigslist.org   7800  1928   \n6476               rochester   https://rochester.craigslist.org  45000  1928   \n...                      ...                                ...    ...   ...   \n8784  omaha / council bluffs       https://omaha.craigslist.org   3250  1994   \n9013               cleveland   https://cleveland.craigslist.org   2500  1994   \n8460               las vegas    https://lasvegas.craigslist.org  42980  1994   \n9921                   chico       https://chico.craigslist.org  16000  1994   \n13            seattle-tacoma     https://seattle.craigslist.org  14995  1994   \n\n     manufacturer                                              model fuel  \\\n401          ford                                            model t  gas   \n6342         ford                                           t-bucket  gas   \n5014    chevrolet                                              coupe  gas   \n6329        other                                       1928 Crysler  gas   \n6476         ford                                        sport coupe  gas   \n...           ...                                                ...  ...   \n8784        other                           oldsmobile cutlass ciera  gas   \n9013         ford                                         mustang gt  gas   \n8460        other                                    Bentley Turbo R  gas   \n9921         ford                                               f250  gas   \n13           ford  e-series van universal by glaval designer luxu...  gas   \n\n      odometer title_status transmission  \\\n401      12345        clean       manual   \n6342     15000        clean    automatic   \n5014       100        clean       manual   \n6329       100        clean    automatic   \n6476      2520        clean    automatic   \n...        ...          ...          ...   \n8784     58000        clean    automatic   \n9013     94686        clean        other   \n8460     56411        clean    automatic   \n9921     32500        clean    automatic   \n13      156925        clean    automatic   \n\n                                              image_url  \\\n401   https://images.craigslist.org/01616_88aseKpgub...   \n6342  https://images.craigslist.org/00E0E_kfyzxZlR3y...   \n5014  https://images.craigslist.org/00r0r_j4bp7r0piT...   \n6329  https://images.craigslist.org/00B0B_1FiYNYzHas...   \n6476  https://images.craigslist.org/00q0q_gUJUnEwtJi...   \n...                                                 ...   \n8784  https://images.craigslist.org/00000_gf5I6DGkgX...   \n9013  https://images.craigslist.org/00X0X_hNm8WxJY4R...   \n8460  https://images.craigslist.org/00L0L_4zNUr29hb2...   \n9921  https://images.craigslist.org/01010_343KkgTaHo...   \n13    https://images.craigslist.org/00r0r_13JUlXZOMl...   \n\n                                            description state        lat  \\\n401   Things included New Rootlieb front and rear fe...    mt  45.626200   \n6342  1923 T bucket 550ci 700Hp BBC World product he...    ks  38.982900   \n5014  1927 Chevy Capitol A Coupe, all original, 2nd ...    az  34.571326   \n6329  Here for sale is a nice Rat Rod, the body is a...    az  32.188659   \n6476  This 1928 Ford Model A Sport Coupe, was a 2008...    ny  43.273081   \n...                                                 ...   ...        ...   \n8784  Make: Oldsmobile Model: Cutlass Ciera Model Ye...    ia  41.545400   \n9013  A laser red 1994 Mustang GT vert with no engin...    oh  41.386600   \n8460  1994 BENTLEY TURBO RPrice: $42,980.00Basic Inf...    nv  36.063910   \n9921  Up for sale is this 32,000 original mile Ford ...    ca  39.745800   \n13    Priced to Sell: $14,9951994 Ford E-Series Van ...    wa  45.391373   \n\n            long              posting_date price_category  \\\n401  -109.257100  2021-04-18T12:20:03-0600            low   \n6342  -93.975700  2021-04-29T12:12:18-0500         medium   \n5014 -112.104943  2021-04-26T13:52:28-0700         medium   \n6329 -110.769482  2021-05-03T14:52:05-0700            low   \n6476  -77.795563  2021-04-26T09:39:22-0400           high   \n...          ...                       ...            ...   \n8784  -96.161700  2021-04-30T17:40:12-0500            low   \n9013  -81.442100  2021-05-04T15:06:57-0400            low   \n8460 -115.021630  2021-04-30T18:16:07-0700           high   \n9921 -121.844400  2021-04-23T13:51:20-0700         medium   \n13   -122.613533  2021-05-04T20:22:11-0700         medium   \n\n                           date  \n401   2021-04-18 18:20:03+00:00  \n6342  2021-04-29 17:12:18+00:00  \n5014  2021-04-26 20:52:28+00:00  \n6329  2021-05-03 21:52:05+00:00  \n6476  2021-04-26 13:39:22+00:00  \n...                         ...  \n8784  2021-04-30 22:40:12+00:00  \n9013  2021-05-04 19:06:57+00:00  \n8460  2021-05-01 01:16:07+00:00  \n9921  2021-04-23 20:51:20+00:00  \n13    2021-05-05 03:22:11+00:00  \n\n[394 rows x 20 columns]",
      "text/html": "<div>\n<style scoped>\n    .dataframe tbody tr th:only-of-type {\n        vertical-align: middle;\n    }\n\n    .dataframe tbody tr th {\n        vertical-align: top;\n    }\n\n    .dataframe thead th {\n        text-align: right;\n    }\n</style>\n<table border=\"1\" class=\"dataframe\">\n  <thead>\n    <tr style=\"text-align: right;\">\n      <th></th>\n      <th>id</th>\n      <th>url</th>\n      <th>region</th>\n      <th>region_url</th>\n      <th>price</th>\n      <th>year</th>\n      <th>manufacturer</th>\n      <th>model</th>\n      <th>fuel</th>\n      <th>odometer</th>\n      <th>title_status</th>\n      <th>transmission</th>\n      <th>image_url</th>\n      <th>description</th>\n      <th>state</th>\n      <th>lat</th>\n      <th>long</th>\n      <th>posting_date</th>\n      <th>price_category</th>\n      <th>date</th>\n    </tr>\n  </thead>\n  <tbody>\n    <tr>\n      <th>401</th>\n      <td>7308847796</td>\n      <td>https://billings.craigslist.org/cto/d/columbus...</td>\n      <td>billings</td>\n      <td>https://billings.craigslist.org</td>\n      <td>5000</td>\n      <td>1915</td>\n      <td>ford</td>\n      <td>model t</td>\n      <td>gas</td>\n      <td>12345</td>\n      <td>clean</td>\n      <td>manual</td>\n      <td>https://images.craigslist.org/01616_88aseKpgub...</td>\n      <td>Things included New Rootlieb front and rear fe...</td>\n      <td>mt</td>\n      <td>45.626200</td>\n      <td>-109.257100</td>\n      <td>2021-04-18T12:20:03-0600</td>\n      <td>low</td>\n      <td>2021-04-18 18:20:03+00:00</td>\n    </tr>\n    <tr>\n      <th>6342</th>\n      <td>7314390836</td>\n      <td>https://kansascity.craigslist.org/ctd/d/odessa...</td>\n      <td>kansas city, MO</td>\n      <td>https://kansascity.craigslist.org</td>\n      <td>14950</td>\n      <td>1923</td>\n      <td>ford</td>\n      <td>t-bucket</td>\n      <td>gas</td>\n      <td>15000</td>\n      <td>clean</td>\n      <td>automatic</td>\n      <td>https://images.craigslist.org/00E0E_kfyzxZlR3y...</td>\n      <td>1923 T bucket 550ci 700Hp BBC World product he...</td>\n      <td>ks</td>\n      <td>38.982900</td>\n      <td>-93.975700</td>\n      <td>2021-04-29T12:12:18-0500</td>\n      <td>medium</td>\n      <td>2021-04-29 17:12:18+00:00</td>\n    </tr>\n    <tr>\n      <th>5014</th>\n      <td>7313024973</td>\n      <td>https://prescott.craigslist.org/cto/d/cottonwo...</td>\n      <td>prescott</td>\n      <td>https://prescott.craigslist.org</td>\n      <td>18500</td>\n      <td>1927</td>\n      <td>chevrolet</td>\n      <td>coupe</td>\n      <td>gas</td>\n      <td>100</td>\n      <td>clean</td>\n      <td>manual</td>\n      <td>https://images.craigslist.org/00r0r_j4bp7r0piT...</td>\n      <td>1927 Chevy Capitol A Coupe, all original, 2nd ...</td>\n      <td>az</td>\n      <td>34.571326</td>\n      <td>-112.104943</td>\n      <td>2021-04-26T13:52:28-0700</td>\n      <td>medium</td>\n      <td>2021-04-26 20:52:28+00:00</td>\n    </tr>\n    <tr>\n      <th>6329</th>\n      <td>7316455114</td>\n      <td>https://tucson.craigslist.org/cto/d/tucson-192...</td>\n      <td>tucson</td>\n      <td>https://tucson.craigslist.org</td>\n      <td>7800</td>\n      <td>1928</td>\n      <td>other</td>\n      <td>1928 Crysler</td>\n      <td>gas</td>\n      <td>100</td>\n      <td>clean</td>\n      <td>automatic</td>\n      <td>https://images.craigslist.org/00B0B_1FiYNYzHas...</td>\n      <td>Here for sale is a nice Rat Rod, the body is a...</td>\n      <td>az</td>\n      <td>32.188659</td>\n      <td>-110.769482</td>\n      <td>2021-05-03T14:52:05-0700</td>\n      <td>low</td>\n      <td>2021-05-03 21:52:05+00:00</td>\n    </tr>\n    <tr>\n      <th>6476</th>\n      <td>7312752494</td>\n      <td>https://rochester.craigslist.org/cto/d/hilton-...</td>\n      <td>rochester</td>\n      <td>https://rochester.craigslist.org</td>\n      <td>45000</td>\n      <td>1928</td>\n      <td>ford</td>\n      <td>sport coupe</td>\n      <td>gas</td>\n      <td>2520</td>\n      <td>clean</td>\n      <td>automatic</td>\n      <td>https://images.craigslist.org/00q0q_gUJUnEwtJi...</td>\n      <td>This 1928 Ford Model A Sport Coupe, was a 2008...</td>\n      <td>ny</td>\n      <td>43.273081</td>\n      <td>-77.795563</td>\n      <td>2021-04-26T09:39:22-0400</td>\n      <td>high</td>\n      <td>2021-04-26 13:39:22+00:00</td>\n    </tr>\n    <tr>\n      <th>...</th>\n      <td>...</td>\n      <td>...</td>\n      <td>...</td>\n      <td>...</td>\n      <td>...</td>\n      <td>...</td>\n      <td>...</td>\n      <td>...</td>\n      <td>...</td>\n      <td>...</td>\n      <td>...</td>\n      <td>...</td>\n      <td>...</td>\n      <td>...</td>\n      <td>...</td>\n      <td>...</td>\n      <td>...</td>\n      <td>...</td>\n      <td>...</td>\n      <td>...</td>\n    </tr>\n    <tr>\n      <th>8784</th>\n      <td>7315071161</td>\n      <td>https://omaha.craigslist.org/ctd/d/blair-1994-...</td>\n      <td>omaha / council bluffs</td>\n      <td>https://omaha.craigslist.org</td>\n      <td>3250</td>\n      <td>1994</td>\n      <td>other</td>\n      <td>oldsmobile cutlass ciera</td>\n      <td>gas</td>\n      <td>58000</td>\n      <td>clean</td>\n      <td>automatic</td>\n      <td>https://images.craigslist.org/00000_gf5I6DGkgX...</td>\n      <td>Make: Oldsmobile Model: Cutlass Ciera Model Ye...</td>\n      <td>ia</td>\n      <td>41.545400</td>\n      <td>-96.161700</td>\n      <td>2021-04-30T17:40:12-0500</td>\n      <td>low</td>\n      <td>2021-04-30 22:40:12+00:00</td>\n    </tr>\n    <tr>\n      <th>9013</th>\n      <td>7316875336</td>\n      <td>https://cleveland.craigslist.org/cto/d/solon-1...</td>\n      <td>cleveland</td>\n      <td>https://cleveland.craigslist.org</td>\n      <td>2500</td>\n      <td>1994</td>\n      <td>ford</td>\n      <td>mustang gt</td>\n      <td>gas</td>\n      <td>94686</td>\n      <td>clean</td>\n      <td>other</td>\n      <td>https://images.craigslist.org/00X0X_hNm8WxJY4R...</td>\n      <td>A laser red 1994 Mustang GT vert with no engin...</td>\n      <td>oh</td>\n      <td>41.386600</td>\n      <td>-81.442100</td>\n      <td>2021-05-04T15:06:57-0400</td>\n      <td>low</td>\n      <td>2021-05-04 19:06:57+00:00</td>\n    </tr>\n    <tr>\n      <th>8460</th>\n      <td>7315131826</td>\n      <td>https://lasvegas.craigslist.org/ctd/d/henderso...</td>\n      <td>las vegas</td>\n      <td>https://lasvegas.craigslist.org</td>\n      <td>42980</td>\n      <td>1994</td>\n      <td>other</td>\n      <td>Bentley Turbo R</td>\n      <td>gas</td>\n      <td>56411</td>\n      <td>clean</td>\n      <td>automatic</td>\n      <td>https://images.craigslist.org/00L0L_4zNUr29hb2...</td>\n      <td>1994 BENTLEY TURBO RPrice: $42,980.00Basic Inf...</td>\n      <td>nv</td>\n      <td>36.063910</td>\n      <td>-115.021630</td>\n      <td>2021-04-30T18:16:07-0700</td>\n      <td>high</td>\n      <td>2021-05-01 01:16:07+00:00</td>\n    </tr>\n    <tr>\n      <th>9921</th>\n      <td>7311566144</td>\n      <td>https://chico.craigslist.org/cto/d/chico-1994-...</td>\n      <td>chico</td>\n      <td>https://chico.craigslist.org</td>\n      <td>16000</td>\n      <td>1994</td>\n      <td>ford</td>\n      <td>f250</td>\n      <td>gas</td>\n      <td>32500</td>\n      <td>clean</td>\n      <td>automatic</td>\n      <td>https://images.craigslist.org/01010_343KkgTaHo...</td>\n      <td>Up for sale is this 32,000 original mile Ford ...</td>\n      <td>ca</td>\n      <td>39.745800</td>\n      <td>-121.844400</td>\n      <td>2021-04-23T13:51:20-0700</td>\n      <td>medium</td>\n      <td>2021-04-23 20:51:20+00:00</td>\n    </tr>\n    <tr>\n      <th>13</th>\n      <td>7317089086</td>\n      <td>https://seattle.craigslist.org/see/ctd/d/portl...</td>\n      <td>seattle-tacoma</td>\n      <td>https://seattle.craigslist.org</td>\n      <td>14995</td>\n      <td>1994</td>\n      <td>ford</td>\n      <td>e-series van universal by glaval designer luxu...</td>\n      <td>gas</td>\n      <td>156925</td>\n      <td>clean</td>\n      <td>automatic</td>\n      <td>https://images.craigslist.org/00r0r_13JUlXZOMl...</td>\n      <td>Priced to Sell: $14,9951994 Ford E-Series Van ...</td>\n      <td>wa</td>\n      <td>45.391373</td>\n      <td>-122.613533</td>\n      <td>2021-05-04T20:22:11-0700</td>\n      <td>medium</td>\n      <td>2021-05-05 03:22:11+00:00</td>\n    </tr>\n  </tbody>\n</table>\n<p>394 rows × 20 columns</p>\n</div>"
     },
     "execution_count": 239,
     "metadata": {},
     "output_type": "execute_result"
    }
   ],
   "source": [
    "# Ваш код здесь\n",
    "df_out[is_outliers].sort_values('year', ascending=True)"
   ]
  },
  {
   "cell_type": "markdown",
   "id": "0ba3cb06",
   "metadata": {
    "id": "0ba3cb06",
    "pycharm": {
     "name": "#%% md\n"
    }
   },
   "source": [
    "6. Выведите количество значений для категории цены для записей, в которых год выпуска автомобиля является выбросом. Описывают ли аномальные значения года выпуска какое-либо из значений цены автомобиля лучше, чем остальные?\n"
   ]
  },
  {
   "cell_type": "code",
   "execution_count": 241,
   "id": "b08f5fbf",
   "metadata": {
    "id": "b08f5fbf",
    "pycharm": {
     "name": "#%%\n"
    }
   },
   "outputs": [
    {
     "data": {
      "text/plain": "price_category\nlow       181\nmedium    135\nhigh       78\nName: count, dtype: int64"
     },
     "execution_count": 241,
     "metadata": {},
     "output_type": "execute_result"
    }
   ],
   "source": [
    "# Ваш код здесь\n",
    "df_out[is_outliers].value_counts('price_category')"
   ]
  },
  {
   "cell_type": "markdown",
   "id": "d8ff39fb",
   "metadata": {
    "id": "d8ff39fb",
    "pycharm": {
     "name": "#%% md\n"
    }
   },
   "source": [
    "7. Так как выбросы в годе выпуска находятся среди минимальных значений, заполните те значения, которые являются выбросами, значением нижней границы. Не забудьте учесть, что год должен быть целочисленным значением, входящим в границы нормальных значений.\n"
   ]
  },
  {
   "cell_type": "code",
   "execution_count": 244,
   "id": "ee5b1f54",
   "metadata": {
    "id": "ee5b1f54",
    "pycharm": {
     "name": "#%%\n"
    }
   },
   "outputs": [],
   "source": [
    "# Ваш код здесь\n",
    "df_out.loc[is_outliers, 'year'] = int(boundaries[0])"
   ]
  },
  {
   "cell_type": "markdown",
   "id": "37f3e174",
   "metadata": {
    "id": "37f3e174",
    "pycharm": {
     "name": "#%% md\n"
    }
   },
   "source": [
    "8. Выведите ещё раз описательные статистики для года выпуска автомобиля, чтобы проверить, что теперь все значения года входят в границы нормальных значений."
   ]
  },
  {
   "cell_type": "code",
   "execution_count": 245,
   "id": "8298942d",
   "metadata": {
    "id": "8298942d",
    "pycharm": {
     "name": "#%%\n"
    }
   },
   "outputs": [
    {
     "data": {
      "text/plain": "count    9964.000000\nmean     2011.669410\nstd         6.516981\nmin      1994.000000\n25%      2008.000000\n50%      2013.000000\n75%      2017.000000\nmax      2022.000000\nName: year, dtype: float64"
     },
     "execution_count": 245,
     "metadata": {},
     "output_type": "execute_result"
    }
   ],
   "source": [
    "# Ваш код здесь\n",
    "df_out.year.describe()"
   ]
  },
  {
   "cell_type": "markdown",
   "id": "bc20060a",
   "metadata": {
    "id": "bc20060a",
    "pycharm": {
     "name": "#%% md\n"
    }
   },
   "source": [
    "## Дополнительные задачи"
   ]
  },
  {
   "cell_type": "markdown",
   "id": "c487f4c6",
   "metadata": {
    "id": "c487f4c6",
    "pycharm": {
     "name": "#%% md\n"
    }
   },
   "source": [
    "### Задача 9. Загрузка датафрейма с параметрами преобразования\n",
    "\n",
    "Некоторые преобразования признаков можно сделать ещё в момент загрузки датафрейма из файла.\n",
    "\n",
    "1. Прочитайте в новый датафрейм файл `data/vehicles_dataset.csv`, выбрав только нужные колонки и применив приведение типов данных. Обратитесь к [документации](https://pandas.pydata.org/docs/reference/api/pandas.read_csv.html), чтобы узнать, за что отвечают параметры `usecols`,  `parse_dates` и `dtype`.\n",
    "\n",
    "\n",
    "Датафрейм должен содержать:\n",
    "- колонки `price`, `year`, `posting_date`;\n",
    "- `posting_date` в datatime-формате;\n",
    "- `price` в вещественном формате;\n",
    "- `year` в целочисленном формате.\n",
    "\n",
    "Возможно, вы столкнётесь с ошибкой при считывании года в виде целого числа. Подробнее о том, как бороться с этой ошибкой, можно узнать в документации по `обнуляемому целочисленному типу данных`:\n",
    "- https://pandas.pydata.org/pandas-docs/stable/user_guide/integer_na.html\n",
    "\n",
    "*Подсказка:* Pandas может представлять целочисленные данные с возможными отсутствующими значениями, используя [arrays.IntegerArray](https://pandas.pydata.org/pandas-docs/stable/reference/api/pandas.arrays.IntegerArray.html#pandas.arrays.IntegerArray) или его псевдонимы, которые вы сможете найти в документации."
   ]
  },
  {
   "cell_type": "code",
   "execution_count": 248,
   "id": "82f71c41",
   "metadata": {
    "id": "82f71c41",
    "pycharm": {
     "name": "#%%\n"
    }
   },
   "outputs": [
    {
     "data": {
      "text/plain": "         price  year              posting_date\n0      54990.0  2020 2021-04-17 16:30:50+00:00\n1      16942.0  2016 2021-05-03 19:40:21+00:00\n2      35590.0  2017 2021-04-28 10:52:20+00:00\n3      14500.0  2013 2021-04-17 14:08:57+00:00\n4      21800.0  2021 2021-05-03 22:32:06+00:00\n...        ...   ...                       ...\n10045   4495.0  2002 2021-04-10 20:33:57+00:00\n10046  14495.0  2008 2021-05-03 13:36:30+00:00\n10047   8995.0  2011 2021-04-22 19:14:01+00:00\n10048  31900.0  2015 2021-04-14 14:14:42+00:00\n10049  31990.0  2017 2021-04-24 17:50:49+00:00\n\n[10050 rows x 3 columns]",
      "text/html": "<div>\n<style scoped>\n    .dataframe tbody tr th:only-of-type {\n        vertical-align: middle;\n    }\n\n    .dataframe tbody tr th {\n        vertical-align: top;\n    }\n\n    .dataframe thead th {\n        text-align: right;\n    }\n</style>\n<table border=\"1\" class=\"dataframe\">\n  <thead>\n    <tr style=\"text-align: right;\">\n      <th></th>\n      <th>price</th>\n      <th>year</th>\n      <th>posting_date</th>\n    </tr>\n  </thead>\n  <tbody>\n    <tr>\n      <th>0</th>\n      <td>54990.0</td>\n      <td>2020</td>\n      <td>2021-04-17 16:30:50+00:00</td>\n    </tr>\n    <tr>\n      <th>1</th>\n      <td>16942.0</td>\n      <td>2016</td>\n      <td>2021-05-03 19:40:21+00:00</td>\n    </tr>\n    <tr>\n      <th>2</th>\n      <td>35590.0</td>\n      <td>2017</td>\n      <td>2021-04-28 10:52:20+00:00</td>\n    </tr>\n    <tr>\n      <th>3</th>\n      <td>14500.0</td>\n      <td>2013</td>\n      <td>2021-04-17 14:08:57+00:00</td>\n    </tr>\n    <tr>\n      <th>4</th>\n      <td>21800.0</td>\n      <td>2021</td>\n      <td>2021-05-03 22:32:06+00:00</td>\n    </tr>\n    <tr>\n      <th>...</th>\n      <td>...</td>\n      <td>...</td>\n      <td>...</td>\n    </tr>\n    <tr>\n      <th>10045</th>\n      <td>4495.0</td>\n      <td>2002</td>\n      <td>2021-04-10 20:33:57+00:00</td>\n    </tr>\n    <tr>\n      <th>10046</th>\n      <td>14495.0</td>\n      <td>2008</td>\n      <td>2021-05-03 13:36:30+00:00</td>\n    </tr>\n    <tr>\n      <th>10047</th>\n      <td>8995.0</td>\n      <td>2011</td>\n      <td>2021-04-22 19:14:01+00:00</td>\n    </tr>\n    <tr>\n      <th>10048</th>\n      <td>31900.0</td>\n      <td>2015</td>\n      <td>2021-04-14 14:14:42+00:00</td>\n    </tr>\n    <tr>\n      <th>10049</th>\n      <td>31990.0</td>\n      <td>2017</td>\n      <td>2021-04-24 17:50:49+00:00</td>\n    </tr>\n  </tbody>\n</table>\n<p>10050 rows × 3 columns</p>\n</div>"
     },
     "execution_count": 248,
     "metadata": {},
     "output_type": "execute_result"
    }
   ],
   "source": [
    "# Ваш код здесь\n",
    "selected_columns = ['price', 'year', 'posting_date']\n",
    "\n",
    "dtype = {'price':float, 'year':'Int64'}\n",
    "\n",
    "df_vehicles = pd.read_csv('vehicles_dataset (1).csv', usecols=selected_columns, dtype=dtype)\n",
    "df_vehicles.posting_date = pd.to_datetime(df_vehicles.posting_date, utc=True)\n",
    "df_vehicles"
   ]
  },
  {
   "cell_type": "markdown",
   "id": "505694a3",
   "metadata": {
    "ExecuteTime": {
     "end_time": "2022-01-30T21:11:12.586710Z",
     "start_time": "2022-01-30T21:11:12.579544Z"
    },
    "id": "505694a3",
    "pycharm": {
     "name": "#%% md\n"
    }
   },
   "source": [
    "2. Выведите информацию о датафрейме, чтобы убедиться, что признаки при загрузке преобразовались верно.\n"
   ]
  },
  {
   "cell_type": "code",
   "execution_count": 249,
   "id": "e7c59b87",
   "metadata": {
    "id": "e7c59b87",
    "pycharm": {
     "name": "#%%\n"
    }
   },
   "outputs": [
    {
     "name": "stdout",
     "output_type": "stream",
     "text": [
      "<class 'pandas.core.frame.DataFrame'>\n",
      "RangeIndex: 10050 entries, 0 to 10049\n",
      "Data columns (total 3 columns):\n",
      " #   Column        Non-Null Count  Dtype              \n",
      "---  ------        --------------  -----              \n",
      " 0   price         10050 non-null  float64            \n",
      " 1   year          10014 non-null  Int64              \n",
      " 2   posting_date  10048 non-null  datetime64[ns, UTC]\n",
      "dtypes: Int64(1), datetime64[ns, UTC](1), float64(1)\n",
      "memory usage: 245.5 KB\n"
     ]
    }
   ],
   "source": [
    "# Ваш код здесь\n",
    "df_vehicles.info()"
   ]
  },
  {
   "cell_type": "markdown",
   "id": "2e41b4f8",
   "metadata": {
    "id": "2e41b4f8",
    "pycharm": {
     "name": "#%% md\n"
    }
   },
   "source": [
    "3. Для первой записи в датафрейме извлеките из `posting_date` и выведите номер месяца.\n"
   ]
  },
  {
   "cell_type": "code",
   "execution_count": 250,
   "id": "17ea2615",
   "metadata": {
    "id": "17ea2615",
    "pycharm": {
     "name": "#%%\n"
    }
   },
   "outputs": [
    {
     "data": {
      "text/plain": "4"
     },
     "execution_count": 250,
     "metadata": {},
     "output_type": "execute_result"
    }
   ],
   "source": [
    "# Ваш код здесь\n",
    "df_vehicles.posting_date[0].month"
   ]
  },
  {
   "cell_type": "code",
   "execution_count": 175,
   "id": "b98f60ca",
   "metadata": {
    "pycharm": {
     "name": "#%%\n"
    }
   },
   "outputs": [],
   "source": []
  }
 ],
 "metadata": {
  "colab": {
   "collapsed_sections": [],
   "provenance": []
  },
  "kernelspec": {
   "display_name": "Python 3 (ipykernel)",
   "language": "python",
   "name": "python3"
  },
  "language_info": {
   "codemirror_mode": {
    "name": "ipython",
    "version": 3
   },
   "file_extension": ".py",
   "mimetype": "text/x-python",
   "name": "python",
   "nbconvert_exporter": "python",
   "pygments_lexer": "ipython3",
   "version": "3.10.9"
  },
  "toc": {
   "base_numbering": 1,
   "nav_menu": {},
   "number_sections": true,
   "sideBar": true,
   "skip_h1_title": false,
   "title_cell": "Table of Contents",
   "title_sidebar": "Contents",
   "toc_cell": false,
   "toc_position": {},
   "toc_section_display": true,
   "toc_window_display": false
  }
 },
 "nbformat": 4,
 "nbformat_minor": 5
}