{
 "cells": [
  {
   "cell_type": "markdown",
   "id": "20d02d60",
   "metadata": {
    "id": "20d02d60",
    "pycharm": {
     "name": "#%% md\n"
    }
   },
   "source": [
    "# Feature Engineering. Практическая работа"
   ]
  },
  {
   "cell_type": "markdown",
   "id": "zy6qaMPhyAZd",
   "metadata": {
    "id": "zy6qaMPhyAZd",
    "pycharm": {
     "name": "#%% md\n"
    }
   },
   "source": [
    "Сдаётся на проверку."
   ]
  },
  {
   "cell_type": "markdown",
   "id": "df9d0fa3",
   "metadata": {
    "id": "df9d0fa3",
    "pycharm": {
     "name": "#%% md\n"
    }
   },
   "source": [
    "## Цели практической работы\n",
    "\n",
    "Научиться: \n",
    "\n",
    "*   генерировать новые признаки; \n",
    "*   нормализовать и кодировать данные с помощью lambda-функций и библиотеки scikit-learn.\n"
   ]
  },
  {
   "cell_type": "markdown",
   "id": "c4a1bdf2",
   "metadata": {
    "id": "c4a1bdf2",
    "pycharm": {
     "name": "#%% md\n"
    }
   },
   "source": [
    "## Что входит в практическую работу\n",
    "\n",
    "1. Построить признаки из строк.\n",
    "2. Преобразовать категориальные переменные.\n",
    "3. Стандартизировать данные.\n",
    "4. Использовать MinMaxScaler для нормализации данных.\n",
    "5. Создать признаки на основе дат.\n",
    "6. Сохранить датафрейм для этапа моделирования."
   ]
  },
  {
   "cell_type": "markdown",
   "id": "cefde751",
   "metadata": {
    "id": "cefde751",
    "pycharm": {
     "name": "#%% md\n"
    }
   },
   "source": [
    "## Что оценивается\n",
    "- Программа выдаёт верный ответ на заданном наборе данных.\n",
    "- Описаны причины выбранного решения, если требуется.\n",
    "- Код читабелен: переменным даны осмысленные названия, соблюдены отступы и правила расстановки пробелов.\n",
    "- При построении графиков название и оси подписаны, выведена легенда, если требуется. \n",
    "- Репозиторий проекта содержит осмысленные коммиты, содержащие конкретные реализованные фичи, ветки названы согласно назначению, лишние файлы не хранятся в репозитории.\n",
    "- В репозитории проекта соблюдена иерархия директорий согласно списку модулей и содержащихся в них тем.\n",
    "- Репозиторий проекта содержит файлы с данными, полученными в результате выполнения практической работы.\n"
   ]
  },
  {
   "cell_type": "markdown",
   "id": "d8cc2cfd",
   "metadata": {
    "id": "d8cc2cfd",
    "pycharm": {
     "name": "#%% md\n"
    }
   },
   "source": [
    "## Как отправить работу на проверку\n",
    "Сдайте практическую работу этого модуля через систему контроля версий Git сервиса Skillbox GitLab. После загрузки работы на проверку напишите об этом в личном кабинете своему проверяющему куратору.\n"
   ]
  },
  {
   "cell_type": "markdown",
   "id": "3092d4ea",
   "metadata": {
    "id": "3092d4ea",
    "pycharm": {
     "name": "#%% md\n"
    }
   },
   "source": [
    "## Задача\n",
    "\n",
    "Мы продолжим исследовать и готовить данные для этапа моделирования.\n",
    "\n",
    "Вам предстоит работать с небольшой выборкой из коллекции подержанных автомобилей, выставленных на продажу в Соединённых Штатах, представленной в файле `data/vehicles_dataset_upd.csv`. На этих данных вы построите первую модель классификации, определяющую категорию цены подержанного автомобиля в зависимости от характеристик транспортного средства.\n",
    "\n",
    "В этой практической работе вы продолжите генерировать дополнительные признаки и завершите подготовку датасета для этапа моделирования.\n",
    "\n",
    "## Описание датасета:\n",
    "- `id`— идентификатор записи;\n",
    "- `url`— URL-записи о продаже;\n",
    "- `region`— регион;\n",
    "- `region_url`— URL региона;\n",
    "- `price`— стоимость;\n",
    "- `year`— год выпуска;\n",
    "- `manufacturer`— производитель;\n",
    "- `model`— модель;\n",
    "- `condition`— состояние;\n",
    "- `cylinders`— количество цилиндров;\n",
    "- `fuel`— тип топлива;\n",
    "- `odometer`— количество пройденных миль;\n",
    "- `title_status`— статус;\n",
    "- `transmission`— коробка передач;\n",
    "- `VIN`— идентификационный номер;\n",
    "- `drive`— тип привода;\n",
    "- `size`— размер;\n",
    "- `type`— кузов;\n",
    "- `paint_color`— цвет;\n",
    "- `image_url`— URL изображения;\n",
    "- `description`— указанное описание;\n",
    "- `county`— страна;\n",
    "- `state`— штат;\n",
    "- `lat`— широта;\n",
    "- `long`— долгота;\n",
    "- `posting_date`— дата размещения объявления о продаже;\n",
    "- `price_category`— категория цены.\n"
   ]
  },
  {
   "cell_type": "code",
   "execution_count": 138,
   "id": "859c4d2b",
   "metadata": {
    "ExecuteTime": {
     "end_time": "2022-02-23T19:39:15.915860Z",
     "start_time": "2022-02-23T19:39:15.902436Z"
    },
    "id": "859c4d2b",
    "pycharm": {
     "name": "#%%\n"
    }
   },
   "outputs": [],
   "source": [
    "# Импортируйте необходимые библиотеки\n",
    "import pandas as pd\n",
    "import matplotlib.pyplot as plt\n",
    "from sklearn.preprocessing import OneHotEncoder\n",
    "from sklearn.preprocessing import StandardScaler\n",
    "from sklearn.preprocessing import MinMaxScaler"
   ]
  },
  {
   "cell_type": "markdown",
   "id": "a98b05f6",
   "metadata": {
    "id": "a98b05f6",
    "pycharm": {
     "name": "#%% md\n"
    }
   },
   "source": [
    "### Задача 1. Построение признаков из строк\n",
    "\n",
    "1. Загрузите датасет из `data/vehicles_dataset_upd6.csv`, выведите первые пять записей и список колонок."
   ]
  },
  {
   "cell_type": "code",
   "execution_count": 139,
   "id": "d536ad11",
   "metadata": {
    "ExecuteTime": {
     "end_time": "2022-03-15T22:40:23.588946Z",
     "start_time": "2022-03-15T22:40:23.585461Z"
    },
    "id": "d536ad11",
    "pycharm": {
     "name": "#%%\n"
    }
   },
   "outputs": [
    {
     "data": {
      "text/plain": "           id                                                url  \\\n0  7308295377  https://chattanooga.craigslist.org/ctd/d/chatt...   \n1  7316380095  https://newjersey.craigslist.org/ctd/d/carlsta...   \n2  7313733749  https://reno.craigslist.org/ctd/d/atlanta-2017...   \n3  7308210929  https://fayetteville.craigslist.org/ctd/d/rale...   \n4  7303797340  https://knoxville.craigslist.org/ctd/d/knoxvil...   \n\n         region                           region_url  price  year  \\\n0   chattanooga   https://chattanooga.craigslist.org  54990  2020   \n1  north jersey     https://newjersey.craigslist.org  16942  2016   \n2  reno / tahoe          https://reno.craigslist.org  35590  2017   \n3  fayetteville  https://fayetteville.craigslist.org  14500  2013   \n4     knoxville     https://knoxville.craigslist.org  14590  2012   \n\n  manufacturer                   model    fuel  odometer  ... is_jeep  \\\n0          ram  2500 crew cab big horn  diesel     27442  ...       0   \n1         ford    explorer 4wd 4dr xlt   other     60023  ...       0   \n2   volkswagen        golf r hatchback     gas     14048  ...       0   \n3       toyota                    rav4     gas    117291  ...       0   \n4          bmw  1 series 128i coupe 2d   other     80465  ...       0   \n\n  is_honda is_nissan x0_diesel x0_electric  x0_gas  x0_hybrid x0_other  \\\n0        0         0       1.0         0.0     0.0        0.0      0.0   \n1        0         0       0.0         0.0     0.0        0.0      1.0   \n2        0         0       0.0         0.0     1.0        0.0      0.0   \n3        0         0       0.0         0.0     1.0        0.0      0.0   \n4        0         0       0.0         0.0     0.0        0.0      1.0   \n\n  std_scaled_odometer std_scaled_price  \n0           -1.079390         2.958509  \n1           -0.560115        -0.085826  \n2           -1.292863         1.406256  \n3            0.352621        -0.281218  \n4           -0.234311        -0.274017  \n\n[5 rows x 45 columns]",
      "text/html": "<div>\n<style scoped>\n    .dataframe tbody tr th:only-of-type {\n        vertical-align: middle;\n    }\n\n    .dataframe tbody tr th {\n        vertical-align: top;\n    }\n\n    .dataframe thead th {\n        text-align: right;\n    }\n</style>\n<table border=\"1\" class=\"dataframe\">\n  <thead>\n    <tr style=\"text-align: right;\">\n      <th></th>\n      <th>id</th>\n      <th>url</th>\n      <th>region</th>\n      <th>region_url</th>\n      <th>price</th>\n      <th>year</th>\n      <th>manufacturer</th>\n      <th>model</th>\n      <th>fuel</th>\n      <th>odometer</th>\n      <th>...</th>\n      <th>is_jeep</th>\n      <th>is_honda</th>\n      <th>is_nissan</th>\n      <th>x0_diesel</th>\n      <th>x0_electric</th>\n      <th>x0_gas</th>\n      <th>x0_hybrid</th>\n      <th>x0_other</th>\n      <th>std_scaled_odometer</th>\n      <th>std_scaled_price</th>\n    </tr>\n  </thead>\n  <tbody>\n    <tr>\n      <th>0</th>\n      <td>7308295377</td>\n      <td>https://chattanooga.craigslist.org/ctd/d/chatt...</td>\n      <td>chattanooga</td>\n      <td>https://chattanooga.craigslist.org</td>\n      <td>54990</td>\n      <td>2020</td>\n      <td>ram</td>\n      <td>2500 crew cab big horn</td>\n      <td>diesel</td>\n      <td>27442</td>\n      <td>...</td>\n      <td>0</td>\n      <td>0</td>\n      <td>0</td>\n      <td>1.0</td>\n      <td>0.0</td>\n      <td>0.0</td>\n      <td>0.0</td>\n      <td>0.0</td>\n      <td>-1.079390</td>\n      <td>2.958509</td>\n    </tr>\n    <tr>\n      <th>1</th>\n      <td>7316380095</td>\n      <td>https://newjersey.craigslist.org/ctd/d/carlsta...</td>\n      <td>north jersey</td>\n      <td>https://newjersey.craigslist.org</td>\n      <td>16942</td>\n      <td>2016</td>\n      <td>ford</td>\n      <td>explorer 4wd 4dr xlt</td>\n      <td>other</td>\n      <td>60023</td>\n      <td>...</td>\n      <td>0</td>\n      <td>0</td>\n      <td>0</td>\n      <td>0.0</td>\n      <td>0.0</td>\n      <td>0.0</td>\n      <td>0.0</td>\n      <td>1.0</td>\n      <td>-0.560115</td>\n      <td>-0.085826</td>\n    </tr>\n    <tr>\n      <th>2</th>\n      <td>7313733749</td>\n      <td>https://reno.craigslist.org/ctd/d/atlanta-2017...</td>\n      <td>reno / tahoe</td>\n      <td>https://reno.craigslist.org</td>\n      <td>35590</td>\n      <td>2017</td>\n      <td>volkswagen</td>\n      <td>golf r hatchback</td>\n      <td>gas</td>\n      <td>14048</td>\n      <td>...</td>\n      <td>0</td>\n      <td>0</td>\n      <td>0</td>\n      <td>0.0</td>\n      <td>0.0</td>\n      <td>1.0</td>\n      <td>0.0</td>\n      <td>0.0</td>\n      <td>-1.292863</td>\n      <td>1.406256</td>\n    </tr>\n    <tr>\n      <th>3</th>\n      <td>7308210929</td>\n      <td>https://fayetteville.craigslist.org/ctd/d/rale...</td>\n      <td>fayetteville</td>\n      <td>https://fayetteville.craigslist.org</td>\n      <td>14500</td>\n      <td>2013</td>\n      <td>toyota</td>\n      <td>rav4</td>\n      <td>gas</td>\n      <td>117291</td>\n      <td>...</td>\n      <td>0</td>\n      <td>0</td>\n      <td>0</td>\n      <td>0.0</td>\n      <td>0.0</td>\n      <td>1.0</td>\n      <td>0.0</td>\n      <td>0.0</td>\n      <td>0.352621</td>\n      <td>-0.281218</td>\n    </tr>\n    <tr>\n      <th>4</th>\n      <td>7303797340</td>\n      <td>https://knoxville.craigslist.org/ctd/d/knoxvil...</td>\n      <td>knoxville</td>\n      <td>https://knoxville.craigslist.org</td>\n      <td>14590</td>\n      <td>2012</td>\n      <td>bmw</td>\n      <td>1 series 128i coupe 2d</td>\n      <td>other</td>\n      <td>80465</td>\n      <td>...</td>\n      <td>0</td>\n      <td>0</td>\n      <td>0</td>\n      <td>0.0</td>\n      <td>0.0</td>\n      <td>0.0</td>\n      <td>0.0</td>\n      <td>1.0</td>\n      <td>-0.234311</td>\n      <td>-0.274017</td>\n    </tr>\n  </tbody>\n</table>\n<p>5 rows × 45 columns</p>\n</div>"
     },
     "execution_count": 139,
     "metadata": {},
     "output_type": "execute_result"
    }
   ],
   "source": [
    "# Ваш код здесь\n",
    "df = pd.read_csv('data/vehicles_dataset_upd6.csv')\n",
    "df.head(5)"
   ]
  },
  {
   "cell_type": "code",
   "execution_count": 140,
   "outputs": [
    {
     "data": {
      "text/plain": "Index(['id', 'url', 'region', 'region_url', 'price', 'year', 'manufacturer',\n       'model', 'fuel', 'odometer', 'title_status', 'transmission',\n       'image_url', 'description', 'state', 'lat', 'long', 'posting_date',\n       'price_category', 'date', 'odometer_km', 'odometer/price', 'region_new',\n       'region_corrected', 'manufacturer_model', 'desc_len', 'model_in_desc',\n       'price_k$', 'age_category', 'model_len', 'model_word_count', 'is_audi',\n       'is_ford', 'is_chevrolet', 'is_toyota', 'is_jeep', 'is_honda',\n       'is_nissan', 'x0_diesel', 'x0_electric', 'x0_gas', 'x0_hybrid',\n       'x0_other', 'std_scaled_odometer', 'std_scaled_price'],\n      dtype='object')"
     },
     "execution_count": 140,
     "metadata": {},
     "output_type": "execute_result"
    }
   ],
   "source": [
    "df.columns"
   ],
   "metadata": {
    "collapsed": false,
    "pycharm": {
     "name": "#%%\n"
    }
   }
  },
  {
   "cell_type": "markdown",
   "id": "c46630e3",
   "metadata": {
    "id": "c46630e3",
    "pycharm": {
     "name": "#%% md\n"
    }
   },
   "source": [
    "2. Выведите список значений и количество уникальных значений для модели автомобиля."
   ]
  },
  {
   "cell_type": "code",
   "execution_count": 141,
   "id": "12c123d6",
   "metadata": {
    "ExecuteTime": {
     "end_time": "2022-03-15T22:40:29.330321Z",
     "start_time": "2022-03-15T22:40:29.326988Z"
    },
    "id": "12c123d6",
    "pycharm": {
     "name": "#%%\n"
    }
   },
   "outputs": [
    {
     "data": {
      "text/plain": "array(['2500 crew cab big horn', 'explorer 4wd 4dr xlt',\n       'golf r hatchback', ..., 'gs350', '1988 Nisan',\n       'a3 2.0t premium plus pzev'], dtype=object)"
     },
     "execution_count": 141,
     "metadata": {},
     "output_type": "execute_result"
    }
   ],
   "source": [
    "# Ваш код здесь\n",
    "df.model.unique()"
   ]
  },
  {
   "cell_type": "code",
   "execution_count": 142,
   "id": "94f26471",
   "metadata": {
    "pycharm": {
     "name": "#%%\n"
    }
   },
   "outputs": [
    {
     "data": {
      "text/plain": "3341"
     },
     "execution_count": 142,
     "metadata": {},
     "output_type": "execute_result"
    }
   ],
   "source": [
    "df.model.nunique()"
   ]
  },
  {
   "cell_type": "markdown",
   "id": "bcf1904b",
   "metadata": {
    "id": "bcf1904b",
    "pycharm": {
     "name": "#%% md\n"
    }
   },
   "source": [
    "3. Количество уникальных значений велико. Попробуем их сократить, оставив только первое слово в наименовании модели. С помощью lambda-функции и преобразования над строками создайте новый признак `short_model`, содержащий только первое слово из наименования модели, выведите его и количество получившихся уникальных значений."
   ]
  },
  {
   "cell_type": "code",
   "execution_count": 143,
   "id": "6de1d535",
   "metadata": {
    "ExecuteTime": {
     "end_time": "2022-03-15T22:40:30.465505Z",
     "start_time": "2022-03-15T22:40:30.460032Z"
    },
    "id": "6de1d535",
    "pycharm": {
     "name": "#%%\n"
    }
   },
   "outputs": [
    {
     "data": {
      "text/plain": "0           2500\n1       explorer\n2           golf\n3           rav4\n4              1\n          ...   \n9614        rav4\n9615    wrangler\n9616          a3\n9617     cayenne\n9618        1500\nName: short_model, Length: 9619, dtype: object"
     },
     "execution_count": 143,
     "metadata": {},
     "output_type": "execute_result"
    }
   ],
   "source": [
    "# Ваш код здесь\n",
    "df['short_model'] = df.model.apply(lambda x: x.split()[0])\n",
    "df['short_model']"
   ]
  },
  {
   "cell_type": "code",
   "execution_count": 144,
   "id": "f9bc82e6",
   "metadata": {
    "pycharm": {
     "name": "#%%\n"
    }
   },
   "outputs": [
    {
     "data": {
      "text/plain": "943"
     },
     "execution_count": 144,
     "metadata": {},
     "output_type": "execute_result"
    }
   ],
   "source": [
    "df['short_model'].nunique()"
   ]
  },
  {
   "cell_type": "code",
   "execution_count": 145,
   "id": "11ea6e17",
   "metadata": {
    "pycharm": {
     "name": "#%%\n"
    }
   },
   "outputs": [
    {
     "data": {
      "text/plain": "array(['2500', 'explorer', 'golf', 'rav4', '1', 'fusion', 'accord',\n       'charger', 'altima', 'galant', '500', 'town', 'e-series', 'g.',\n       'silverado', 'mustang', 'maxima', 'civic', 'vue', 'tahoe', 'f-350',\n       'f150', 'clubman', 'xts', '3500', 'rogue', 'compass', 'camry',\n       'renegade', 'forte5', 'f-150', 'wrangler', 'mazda3', '535i',\n       'park', 'focus', 'gx', 'titan', 'corolla', 'colorado', 'tiguan',\n       'impreza', 'jetta', 'super', 'q5', 'es', 'lx450', 'pilot',\n       'Diahatsu', 'other', 'sequoia', '1500', 'tucson', 'sierra',\n       'grand', 'nautilus', 'elantra', 'x1', 'camaro', 'benz', 'tacoma',\n       'tsx', 'sebring', 'yukon', 'cooper', 'enclave', 'x4', 'sequioa',\n       'xc90', 'is300', 'f350', 'romeo', 'ranger', 'spark', '7',\n       'express', 'q7', 'tribute', 'xv', 'impala', 'c300', 'frontier',\n       'fit', 'cc', 'transit', 'outback', 'passat', '350z', 'optima',\n       'c10', 'expedition', 'pathfinder', 'challenger', '200', 'taurus',\n       'evoque', 'x3', 'arcadia', 'cr-v', 'xt6', 'sante', 'versa', 'e150',\n       'equinox', 'sonata', 'soul', 'regal', 'Scion', 'lucerne', 'f250',\n       'odyssey', 's60', 'cruze', 'mkx', 'sienna', '914', '300c',\n       'crosstrek', 'Voltswagon', 'a6', '550i', 'sport', 'mazda6',\n       'sorento', 'malibu', 'THOMAS', 'c-class', 'patriot', 'fj',\n       'trailblazer', 'c-max', '370z', 'mx-5', 'sl-class', 'e250',\n       'f-250', 'cc4500', '328i', 'm', 'nx', 'escape', 'Emergency',\n       'corvette', 'liberty', 'vibe', 'edge', 'model', 'chysler', 's5',\n       'legacy', 'v6', 'dts', 'navigator', 'crv', 'rdx', 'avalanche',\n       's10', 'Genesis', 'suzuki', 'neon', 'cougar', 'stinger', 'boxster',\n       'suburban', 'forte', 'verano', 'prius', 'ridgeline', 'promaster',\n       '5', 'xt4', 'wrx', 'mkz', 'cts-v', 'traverse', 'journey',\n       'caprice', 'rx', 'avenger', '2002', 'limousine', 'eurovan', 'srx',\n       'caravan', 'c70', 'cherokee', 'rivera', 'tl', '3.2', 'sentra',\n       'g37', 'k10', 'mdx', 'rx8', 'cayenne', 'x5', '3', 'tundra',\n       'highlander', 'santa', 'yaris', 'econoline', 'qx50', 'aura',\n       'outlander', 'dakota', 'isuzu', 'discovery', 'eos', 'pickup',\n       'gti', 'cadenza', 'genesis', 'a5', 'Chevey', '6', 'qx60', 'flex',\n       'mariner', 'durango', 'macan', 'cx-9', 'armada', 'lacrosse', 'Hot',\n       'Champion', 'a4', 'f450', 'gt-r', 'cvr', 'land', 'envision', 'g6',\n       '750xi', 'solara', 'f700', 'eqinox', 'g4500', 'continental',\n       'cx-5', 'eclipse', 'HINO', 'envoy', 'e-class', 'mazda2', 'q60',\n       'venza', 'trax', 'ss', 'f550', 'f-pace', 'terrain', 'quest',\n       'dump', 'fiesta', 'ats', 'rx7', 'scion', '2018', 'e350', 'hyndai',\n       'avalon', 'brz', '1954', 'accent', 'acadia', '4runner', 'all',\n       'xt5', 'a3', 'v60', '4500', '500l', 'bronco', 'Plymouth',\n       'Maserati', 'tlx', 'sts', '300zx', '86', '300', '4', 'cj5',\n       'eldorado', 'cj8', 'Hummer', 'hhr', 'g', 'panamera', 'lx', 'city',\n       'commander', 'e46', 'mercedes-amg', 'ram1500', 'sable', 'sonoma',\n       'certified', 'sedona', 'deville', 'sonic', 'five', 'dart', '1999',\n       'seirra', 'cobalt', 'e-250', 'm3', 'thunderbird', 'hardtop',\n       'GRAND', 'c', 'blue', 'veloster', 'm-class', 'e-pace', 'qx80',\n       'encore', 'cts', 'truck', 's90', 'f-250sd', '240', 'nv200', 'pt',\n       'forester', 'windstar', 'miata', 's320', 'FORD*', 'bel', 'rainier',\n       'i-miev', 'hse', 's-10', 'escalade', 'ion', 'deluxe',\n       'international', 'ls', 'aveo', '535xi', 'murano', 'pick', 'rl',\n       'gto', 'nv2500', 'clk-class', 'ct5', '3-series', 'Isuzu', 'b2200',\n       '3i', 'xe', 'caliber', '323i', 'rsx', '545i', 'pacifica',\n       'jeepster', 'svx', 'captiva', 'f', 's8', 'sprinter', 'plymouth',\n       'xterra', 'f650', 'lifted', 'Lotus', 'IC', 's7', 'Sea', 'SCION',\n       'atlas', 'srx~awesome', 'c-7500', 'lesabre', 'INTERNATIONAL',\n       'International', 'quattro', 'kicks', 'juke', 'savana', 's2000',\n       'beetle', 'gladiator', 'ilx', 'willys', 'new', 'g35x', 'q70',\n       '1978', 'c-hr', 'srx4', 'mpv', 'Flexible', 'bonanza', 'gle',\n       'c8500', 'cx9', 'is', 'utility', 'freestyle', '300-series',\n       'magnum', 'blazer', '325i', 'hummer', 'g37s', '280zx', 'q50',\n       'excursion', 'mountaineer', '2007', 'Janesville', 'gls', 'xk8',\n       'f-450', 'sportage', 'xj', 'FORD/RANGER', 'freightliner',\n       'uplander', '5500', 'passport', 'vandura', 'Isizu', 'metris',\n       'FordE350', 'cavalier', 'nv', 'coupe', 'mkc', 'b2300', 'pontaic',\n       'v90', 'gmc/chev', 'jouney', 'i3', 'countryman', 'E46',\n       'glk-class', 'Saab', 'x6', 'g35', 'rio', 'fiero', 'fuso', 'f-550',\n       'grumman', 'Suzuki', 'cx-7', 'fleetwood', 'a7', 'Comanche', '2',\n       'Xx', 'mirage', 'r32', 'ml350', 'canyon', 'Pierce', 'rebel', 'lr2',\n       's500', '350', 'roadster', 'aspen', 'nv2500hd', 'tudor', 'bus',\n       'GEHL', 'leaf', 'ml', 'gx470', 'ioniq', '750i', 'mazda5',\n       'PROGRAMS', 'a3,', '2500hd', '2009', 'qx70', 'triumph', '440xi',\n       'x-3', '330xi', 'milan', 'crew', 'q3', 'davidson', 'sedan',\n       'Acuarea', 'Frtlner', 'cabrio', 'astra', 'MERCUTY', 'f-450sd',\n       'Jayco', '944', '325ci', 'nitro', 'element', '540i', 's-class',\n       'Chevorlet', 'studebaker', 'colbalt', 'stratus', 'Jauguar', 's',\n       '328ci', 'mark', 'gs', 'arteon', 'S60', 'baja', 's4', 'Thomas',\n       'xf', 'xc40', 'glc', 'ASC', 'cl-class', 'cabellero', 'matrix',\n       'sl55', 'Sterling', '124', 'echo', 'thomas', 'range', 'jx35',\n       'BUY', 'm35', 'glc-class', 'tribeca', 'vtx1300c', 'xc60', 'is250',\n       'deisel', '328', 'azera', 'insight', 'm35s', 'chevelle',\n       '4-runner', '3500hd', 'century', '911', 'glk350', 'cc300', 'z',\n       's70', 'ecosport', 'g8', 'es300', 'hiace', 'niro', 'jimmy',\n       'panel', 'qx56', 'g30', 'Minin', 'isf', 'volt', 'i30', 'slc',\n       'ct6', 'defender', '525i', 'soul+', 'sc300', 'e-golf', '3100',\n       'cts4', '528i', 'mazda6i', 'e-150', 'sky', 'Nascar', 'sorrento',\n       'sierra1500', '430i', 'gl450', 'MITUSBISHI', 'xj8', 'tt', 'e-350',\n       'c4500', 'supra', 'e', 'x-type', 'saab', 'gl-class', 'nx300',\n       'Freightliner', 'e450', 'putback', 'riviera', 'venture',\n       'step-van', 'rat', 'gt', 's40', '530i', 'cj2a', 'mallinia',\n       'American', 'touareg', 'spectra', 'oldsmobile', 's3', 'classuc',\n       'sle', 'slk', 'maximum', '1972', 'belair', 'rouge', '5500hd',\n       '318i', 's430', 'astro', 'f100', 'HUMMER', 's6', 'phaeton', '320i',\n       'classic', 'trans', '530', 'Studebaker', 'tracker', 'AM', 'ascent',\n       'crown', 'veracruz', 'PLYMOUTH', 'lancer', 'ct4', 'van', '5th',\n       'gx460', 'gla-class', 'firebird', 'FRRV', 'mercades', 'tercel',\n       '2008', '210', 'rx350', 'fx35', 'allroad', 'g37x', 'cube', 'rondo',\n       'gla', 'gmt-400', 'k900', 'GULF', 'b-series', 'paceman', '928',\n       '650i', 'capri', '328xi', 'conquest', 'fj40', '1968', 'gs430',\n       'escort', 'cla', 'escape-se,', 'z4', 'Town', 'marineer,premier',\n       'xc', 'crosstour', 'routan', 'i35', '2000', 'oddyssey', 'monte',\n       'blackwood', 'freestar', 'f750', 'hr-v', 't-350', 'GMC,',\n       'montero', 'landcruiser', 'legend', '750', 'c/k', '4x4', '325xi',\n       'cx-3', 'high', 'MASERATI', 'aviator', 'denali', 'QX', 'seville',\n       'w350', 'zx2', 'amc', 'sl2', 'ACURA*', 'e-450', 'newport',\n       'falcon', 'f50', 'maserati', 'Comet', 'rabbit', 'c30', 'corsair',\n       '335xi', 'Triumph', 'Gx', 'reatta', 'avanger', 'kodiak', 'clarity',\n       'starcraft', 'caravan/grand', 'prizm', 'cmax', 'v50', 'z3',\n       'OLDSMOBILE', 'crz', 'f-type', 'convertible', 'solstice', 'velar',\n       'g5', '2016', 'c5500', 'f-350sd', 'cascada', 'rav', 'roadmaster',\n       '645ci', 'mg', 'cx7', 'c250', 'ml500', 'lightning', '335i', 'rx-8',\n       'shelby', 'ramcharger', 'lemans', 'MGB', 'nv1500', 'ct', 'sc',\n       '380sl', 'k20', 'f1', '3-window', 'k30', 'mks', 't', 'bolt',\n       'zephyr', 'country', '1928', 'f-100', 't-bucket', 'srx-v6',\n       '163869', 'autobiography', '500c', '-benz', 'rc', 'camary',\n       'Peterbilt', 'el', 'elcamino', '2012', 'a-class', 'smart', 'glk',\n       'Eagle', 'rx400h', 'xc70', '2017', 'F250', 'slk-class', 'comet',\n       'replica', 'clk350', 'Blue', 'es330', 'ux', 'e320', '528xi',\n       'concorde', '650xi', 'D7FH173552', '500x', 'F-250', 'suv', 'md-x',\n       'clk', 'Hobda', 'rs', 'GMX', 'fleetmaster', 'b-class', 'ssr',\n       'rx300', 'MV-1', 'protege', 'fx45', 'gr', 'duramax', 'gle-class',\n       'thing', 'k5', 'vnl', 'CLICK', 'vanagon', 'CHEVORLET', '135i',\n       'f600', 'thrift', 'tc5500', 'bug', 'GCM', 'cayman', '328d', 'cj-5',\n       'lr3', 's/w', 'es350', 'ALL', 'f-750', 'tarsus', 'allante', '1966',\n       '198.5', 'm5', 'c-10', 'Kaiser', '325is', 'JM1BK32F871604924',\n       'a8', 'endeavor', 'Buicks', 'MERDECES', 'crossfire', 'DODGE1500',\n       'dealer*', '330i', 'b2600i', 'voyager', 'gl', 'c60', 'l300',\n       'telluride', 'camero', '640', 'r-class', 'grandville', 'sl550',\n       'cla-class', 'mr2', 'foxbody', 'cls-class', 'am', '435i', 'fe',\n       'villager', 'd50', 'caddilac', 'f-650', 'rx330', 'prelude', 'c280',\n       'Bentley', 'tractor', '50', 'fords', 'c6500', 'cls550', 'sc2',\n       '1994', '5-series', 'diesel', 'ghia', '300s', 'skylark', 'chryler',\n       'hardbody', 'school', 'EASY', 'lr4', 'g-class', 'rlx', 'Hino',\n       'g20', 'sl500', 'f450sd', 'xj-series', '1960s', 'hearse', '1988',\n       'cj7', 'mkt', '1951', 'ltd', '2006', 'slt', 'aztek', 'x2', 'C',\n       'optimia', 'e500', 'outlook', 'cargo', '1977', 'torrent',\n       'ram2500', 'SL', '2015', '128i', 'long', 'nova', 'bonneville',\n       'AMC', 'gmce', '428', 'chevorlet', 'l', 'rendezvous',\n       'FREIGHTLINER', 'durangon', 'gs350'], dtype=object)"
     },
     "execution_count": 145,
     "metadata": {},
     "output_type": "execute_result"
    }
   ],
   "source": [
    "df['short_model'].unique()"
   ]
  },
  {
   "cell_type": "markdown",
   "id": "f8266e27",
   "metadata": {
    "ExecuteTime": {
     "end_time": "2022-01-28T23:12:51.463454Z",
     "start_time": "2022-01-28T23:12:51.458075Z"
    },
    "id": "f8266e27",
    "pycharm": {
     "name": "#%% md\n"
    }
   },
   "source": [
    "### Задача 2. Преобразование категориальных переменных\n",
    "\n",
    "1. Для категориальных переменных `short_model`, `transmission`, `region`, `manufacturer`, `state`, `title_status`, `age_category` распечатайте наименование категории и количество уникальных значений в ней.\n"
   ]
  },
  {
   "cell_type": "code",
   "execution_count": 146,
   "id": "a839bd7c",
   "metadata": {
    "ExecuteTime": {
     "end_time": "2022-03-15T22:40:31.559424Z",
     "start_time": "2022-03-15T22:40:31.552170Z"
    },
    "id": "a839bd7c",
    "pycharm": {
     "name": "#%%\n"
    }
   },
   "outputs": [
    {
     "data": {
      "text/plain": "short_model     943\ntransmission      3\nregion          393\nmanufacturer     40\nstate            51\ntitle_status      6\nage_category      3\ndtype: int64"
     },
     "execution_count": 146,
     "metadata": {},
     "output_type": "execute_result"
    }
   ],
   "source": [
    "# Ваш код здесь\n",
    "df[['short_model', 'transmission', 'region', 'manufacturer','state', 'title_status', 'age_category']].nunique()"
   ]
  },
  {
   "cell_type": "markdown",
   "id": "6d22ddcd",
   "metadata": {
    "id": "6d22ddcd",
    "pycharm": {
     "name": "#%% md\n"
    }
   },
   "source": [
    "2. Создайте датафрейм `data`, содержащий только выбранные категориальные переменные."
   ]
  },
  {
   "cell_type": "code",
   "execution_count": 147,
   "id": "c6fb4d53",
   "metadata": {
    "ExecuteTime": {
     "end_time": "2022-03-15T22:40:32.233510Z",
     "start_time": "2022-03-15T22:40:32.226777Z"
    },
    "id": "c6fb4d53",
    "pycharm": {
     "name": "#%%\n"
    }
   },
   "outputs": [
    {
     "data": {
      "text/plain": "     short_model transmission                   region manufacturer state  \\\n0           2500        other              chattanooga          ram    tn   \n1       explorer    automatic             north jersey         ford    nj   \n2           golf        other             reno / tahoe   volkswagen    ca   \n3           rav4    automatic             fayetteville       toyota    nc   \n4              1        other                knoxville          bmw    tn   \n...          ...          ...                      ...          ...   ...   \n9614        rav4    automatic               chautauqua       toyota    ny   \n9615    wrangler        other               binghamton         jeep    ny   \n9616          a3    automatic                    salem         audi    or   \n9617     cayenne    automatic                  madison      porsche    wi   \n9618        1500        other  norfolk / hampton roads          ram    va   \n\n     title_status age_category  \n0           clean          new  \n1           clean          new  \n2           clean          new  \n3           clean      average  \n4           clean      average  \n...           ...          ...  \n9614        clean          old  \n9615        clean      average  \n9616        clean      average  \n9617        clean          new  \n9618        clean          new  \n\n[9619 rows x 7 columns]",
      "text/html": "<div>\n<style scoped>\n    .dataframe tbody tr th:only-of-type {\n        vertical-align: middle;\n    }\n\n    .dataframe tbody tr th {\n        vertical-align: top;\n    }\n\n    .dataframe thead th {\n        text-align: right;\n    }\n</style>\n<table border=\"1\" class=\"dataframe\">\n  <thead>\n    <tr style=\"text-align: right;\">\n      <th></th>\n      <th>short_model</th>\n      <th>transmission</th>\n      <th>region</th>\n      <th>manufacturer</th>\n      <th>state</th>\n      <th>title_status</th>\n      <th>age_category</th>\n    </tr>\n  </thead>\n  <tbody>\n    <tr>\n      <th>0</th>\n      <td>2500</td>\n      <td>other</td>\n      <td>chattanooga</td>\n      <td>ram</td>\n      <td>tn</td>\n      <td>clean</td>\n      <td>new</td>\n    </tr>\n    <tr>\n      <th>1</th>\n      <td>explorer</td>\n      <td>automatic</td>\n      <td>north jersey</td>\n      <td>ford</td>\n      <td>nj</td>\n      <td>clean</td>\n      <td>new</td>\n    </tr>\n    <tr>\n      <th>2</th>\n      <td>golf</td>\n      <td>other</td>\n      <td>reno / tahoe</td>\n      <td>volkswagen</td>\n      <td>ca</td>\n      <td>clean</td>\n      <td>new</td>\n    </tr>\n    <tr>\n      <th>3</th>\n      <td>rav4</td>\n      <td>automatic</td>\n      <td>fayetteville</td>\n      <td>toyota</td>\n      <td>nc</td>\n      <td>clean</td>\n      <td>average</td>\n    </tr>\n    <tr>\n      <th>4</th>\n      <td>1</td>\n      <td>other</td>\n      <td>knoxville</td>\n      <td>bmw</td>\n      <td>tn</td>\n      <td>clean</td>\n      <td>average</td>\n    </tr>\n    <tr>\n      <th>...</th>\n      <td>...</td>\n      <td>...</td>\n      <td>...</td>\n      <td>...</td>\n      <td>...</td>\n      <td>...</td>\n      <td>...</td>\n    </tr>\n    <tr>\n      <th>9614</th>\n      <td>rav4</td>\n      <td>automatic</td>\n      <td>chautauqua</td>\n      <td>toyota</td>\n      <td>ny</td>\n      <td>clean</td>\n      <td>old</td>\n    </tr>\n    <tr>\n      <th>9615</th>\n      <td>wrangler</td>\n      <td>other</td>\n      <td>binghamton</td>\n      <td>jeep</td>\n      <td>ny</td>\n      <td>clean</td>\n      <td>average</td>\n    </tr>\n    <tr>\n      <th>9616</th>\n      <td>a3</td>\n      <td>automatic</td>\n      <td>salem</td>\n      <td>audi</td>\n      <td>or</td>\n      <td>clean</td>\n      <td>average</td>\n    </tr>\n    <tr>\n      <th>9617</th>\n      <td>cayenne</td>\n      <td>automatic</td>\n      <td>madison</td>\n      <td>porsche</td>\n      <td>wi</td>\n      <td>clean</td>\n      <td>new</td>\n    </tr>\n    <tr>\n      <th>9618</th>\n      <td>1500</td>\n      <td>other</td>\n      <td>norfolk / hampton roads</td>\n      <td>ram</td>\n      <td>va</td>\n      <td>clean</td>\n      <td>new</td>\n    </tr>\n  </tbody>\n</table>\n<p>9619 rows × 7 columns</p>\n</div>"
     },
     "execution_count": 147,
     "metadata": {},
     "output_type": "execute_result"
    }
   ],
   "source": [
    "# Ваш код здесь\n",
    "data = df[['short_model', 'transmission', 'region', 'manufacturer','state', 'title_status', 'age_category']]\n",
    "data"
   ]
  },
  {
   "cell_type": "markdown",
   "id": "cac34814",
   "metadata": {
    "id": "cac34814",
    "pycharm": {
     "name": "#%% md\n"
    }
   },
   "source": [
    "3. Создайте объект класса OneHotEncoder, который будет отвечать за преобразование. Уточните, что на выходе должна быть неразреженная матрица."
   ]
  },
  {
   "cell_type": "code",
   "execution_count": 148,
   "id": "5c64ca58",
   "metadata": {
    "ExecuteTime": {
     "end_time": "2022-03-15T22:40:33.034009Z",
     "start_time": "2022-03-15T22:40:33.028764Z"
    },
    "id": "5c64ca58",
    "pycharm": {
     "name": "#%%\n"
    }
   },
   "outputs": [
    {
     "data": {
      "text/plain": "OneHotEncoder(sparse_output=False)",
      "text/html": "<style>#sk-container-id-9 {\n  /* Definition of color scheme common for light and dark mode */\n  --sklearn-color-text: black;\n  --sklearn-color-line: gray;\n  /* Definition of color scheme for unfitted estimators */\n  --sklearn-color-unfitted-level-0: #fff5e6;\n  --sklearn-color-unfitted-level-1: #f6e4d2;\n  --sklearn-color-unfitted-level-2: #ffe0b3;\n  --sklearn-color-unfitted-level-3: chocolate;\n  /* Definition of color scheme for fitted estimators */\n  --sklearn-color-fitted-level-0: #f0f8ff;\n  --sklearn-color-fitted-level-1: #d4ebff;\n  --sklearn-color-fitted-level-2: #b3dbfd;\n  --sklearn-color-fitted-level-3: cornflowerblue;\n\n  /* Specific color for light theme */\n  --sklearn-color-text-on-default-background: var(--sg-text-color, var(--theme-code-foreground, var(--jp-content-font-color1, black)));\n  --sklearn-color-background: var(--sg-background-color, var(--theme-background, var(--jp-layout-color0, white)));\n  --sklearn-color-border-box: var(--sg-text-color, var(--theme-code-foreground, var(--jp-content-font-color1, black)));\n  --sklearn-color-icon: #696969;\n\n  @media (prefers-color-scheme: dark) {\n    /* Redefinition of color scheme for dark theme */\n    --sklearn-color-text-on-default-background: var(--sg-text-color, var(--theme-code-foreground, var(--jp-content-font-color1, white)));\n    --sklearn-color-background: var(--sg-background-color, var(--theme-background, var(--jp-layout-color0, #111)));\n    --sklearn-color-border-box: var(--sg-text-color, var(--theme-code-foreground, var(--jp-content-font-color1, white)));\n    --sklearn-color-icon: #878787;\n  }\n}\n\n#sk-container-id-9 {\n  color: var(--sklearn-color-text);\n}\n\n#sk-container-id-9 pre {\n  padding: 0;\n}\n\n#sk-container-id-9 input.sk-hidden--visually {\n  border: 0;\n  clip: rect(1px 1px 1px 1px);\n  clip: rect(1px, 1px, 1px, 1px);\n  height: 1px;\n  margin: -1px;\n  overflow: hidden;\n  padding: 0;\n  position: absolute;\n  width: 1px;\n}\n\n#sk-container-id-9 div.sk-dashed-wrapped {\n  border: 1px dashed var(--sklearn-color-line);\n  margin: 0 0.4em 0.5em 0.4em;\n  box-sizing: border-box;\n  padding-bottom: 0.4em;\n  background-color: var(--sklearn-color-background);\n}\n\n#sk-container-id-9 div.sk-container {\n  /* jupyter's `normalize.less` sets `[hidden] { display: none; }`\n     but bootstrap.min.css set `[hidden] { display: none !important; }`\n     so we also need the `!important` here to be able to override the\n     default hidden behavior on the sphinx rendered scikit-learn.org.\n     See: https://github.com/scikit-learn/scikit-learn/issues/21755 */\n  display: inline-block !important;\n  position: relative;\n}\n\n#sk-container-id-9 div.sk-text-repr-fallback {\n  display: none;\n}\n\ndiv.sk-parallel-item,\ndiv.sk-serial,\ndiv.sk-item {\n  /* draw centered vertical line to link estimators */\n  background-image: linear-gradient(var(--sklearn-color-text-on-default-background), var(--sklearn-color-text-on-default-background));\n  background-size: 2px 100%;\n  background-repeat: no-repeat;\n  background-position: center center;\n}\n\n/* Parallel-specific style estimator block */\n\n#sk-container-id-9 div.sk-parallel-item::after {\n  content: \"\";\n  width: 100%;\n  border-bottom: 2px solid var(--sklearn-color-text-on-default-background);\n  flex-grow: 1;\n}\n\n#sk-container-id-9 div.sk-parallel {\n  display: flex;\n  align-items: stretch;\n  justify-content: center;\n  background-color: var(--sklearn-color-background);\n  position: relative;\n}\n\n#sk-container-id-9 div.sk-parallel-item {\n  display: flex;\n  flex-direction: column;\n}\n\n#sk-container-id-9 div.sk-parallel-item:first-child::after {\n  align-self: flex-end;\n  width: 50%;\n}\n\n#sk-container-id-9 div.sk-parallel-item:last-child::after {\n  align-self: flex-start;\n  width: 50%;\n}\n\n#sk-container-id-9 div.sk-parallel-item:only-child::after {\n  width: 0;\n}\n\n/* Serial-specific style estimator block */\n\n#sk-container-id-9 div.sk-serial {\n  display: flex;\n  flex-direction: column;\n  align-items: center;\n  background-color: var(--sklearn-color-background);\n  padding-right: 1em;\n  padding-left: 1em;\n}\n\n\n/* Toggleable style: style used for estimator/Pipeline/ColumnTransformer box that is\nclickable and can be expanded/collapsed.\n- Pipeline and ColumnTransformer use this feature and define the default style\n- Estimators will overwrite some part of the style using the `sk-estimator` class\n*/\n\n/* Pipeline and ColumnTransformer style (default) */\n\n#sk-container-id-9 div.sk-toggleable {\n  /* Default theme specific background. It is overwritten whether we have a\n  specific estimator or a Pipeline/ColumnTransformer */\n  background-color: var(--sklearn-color-background);\n}\n\n/* Toggleable label */\n#sk-container-id-9 label.sk-toggleable__label {\n  cursor: pointer;\n  display: block;\n  width: 100%;\n  margin-bottom: 0;\n  padding: 0.5em;\n  box-sizing: border-box;\n  text-align: center;\n}\n\n#sk-container-id-9 label.sk-toggleable__label-arrow:before {\n  /* Arrow on the left of the label */\n  content: \"▸\";\n  float: left;\n  margin-right: 0.25em;\n  color: var(--sklearn-color-icon);\n}\n\n#sk-container-id-9 label.sk-toggleable__label-arrow:hover:before {\n  color: var(--sklearn-color-text);\n}\n\n/* Toggleable content - dropdown */\n\n#sk-container-id-9 div.sk-toggleable__content {\n  max-height: 0;\n  max-width: 0;\n  overflow: hidden;\n  text-align: left;\n  /* unfitted */\n  background-color: var(--sklearn-color-unfitted-level-0);\n}\n\n#sk-container-id-9 div.sk-toggleable__content.fitted {\n  /* fitted */\n  background-color: var(--sklearn-color-fitted-level-0);\n}\n\n#sk-container-id-9 div.sk-toggleable__content pre {\n  margin: 0.2em;\n  border-radius: 0.25em;\n  color: var(--sklearn-color-text);\n  /* unfitted */\n  background-color: var(--sklearn-color-unfitted-level-0);\n}\n\n#sk-container-id-9 div.sk-toggleable__content.fitted pre {\n  /* unfitted */\n  background-color: var(--sklearn-color-fitted-level-0);\n}\n\n#sk-container-id-9 input.sk-toggleable__control:checked~div.sk-toggleable__content {\n  /* Expand drop-down */\n  max-height: 200px;\n  max-width: 100%;\n  overflow: auto;\n}\n\n#sk-container-id-9 input.sk-toggleable__control:checked~label.sk-toggleable__label-arrow:before {\n  content: \"▾\";\n}\n\n/* Pipeline/ColumnTransformer-specific style */\n\n#sk-container-id-9 div.sk-label input.sk-toggleable__control:checked~label.sk-toggleable__label {\n  color: var(--sklearn-color-text);\n  background-color: var(--sklearn-color-unfitted-level-2);\n}\n\n#sk-container-id-9 div.sk-label.fitted input.sk-toggleable__control:checked~label.sk-toggleable__label {\n  background-color: var(--sklearn-color-fitted-level-2);\n}\n\n/* Estimator-specific style */\n\n/* Colorize estimator box */\n#sk-container-id-9 div.sk-estimator input.sk-toggleable__control:checked~label.sk-toggleable__label {\n  /* unfitted */\n  background-color: var(--sklearn-color-unfitted-level-2);\n}\n\n#sk-container-id-9 div.sk-estimator.fitted input.sk-toggleable__control:checked~label.sk-toggleable__label {\n  /* fitted */\n  background-color: var(--sklearn-color-fitted-level-2);\n}\n\n#sk-container-id-9 div.sk-label label.sk-toggleable__label,\n#sk-container-id-9 div.sk-label label {\n  /* The background is the default theme color */\n  color: var(--sklearn-color-text-on-default-background);\n}\n\n/* On hover, darken the color of the background */\n#sk-container-id-9 div.sk-label:hover label.sk-toggleable__label {\n  color: var(--sklearn-color-text);\n  background-color: var(--sklearn-color-unfitted-level-2);\n}\n\n/* Label box, darken color on hover, fitted */\n#sk-container-id-9 div.sk-label.fitted:hover label.sk-toggleable__label.fitted {\n  color: var(--sklearn-color-text);\n  background-color: var(--sklearn-color-fitted-level-2);\n}\n\n/* Estimator label */\n\n#sk-container-id-9 div.sk-label label {\n  font-family: monospace;\n  font-weight: bold;\n  display: inline-block;\n  line-height: 1.2em;\n}\n\n#sk-container-id-9 div.sk-label-container {\n  text-align: center;\n}\n\n/* Estimator-specific */\n#sk-container-id-9 div.sk-estimator {\n  font-family: monospace;\n  border: 1px dotted var(--sklearn-color-border-box);\n  border-radius: 0.25em;\n  box-sizing: border-box;\n  margin-bottom: 0.5em;\n  /* unfitted */\n  background-color: var(--sklearn-color-unfitted-level-0);\n}\n\n#sk-container-id-9 div.sk-estimator.fitted {\n  /* fitted */\n  background-color: var(--sklearn-color-fitted-level-0);\n}\n\n/* on hover */\n#sk-container-id-9 div.sk-estimator:hover {\n  /* unfitted */\n  background-color: var(--sklearn-color-unfitted-level-2);\n}\n\n#sk-container-id-9 div.sk-estimator.fitted:hover {\n  /* fitted */\n  background-color: var(--sklearn-color-fitted-level-2);\n}\n\n/* Specification for estimator info (e.g. \"i\" and \"?\") */\n\n/* Common style for \"i\" and \"?\" */\n\n.sk-estimator-doc-link,\na:link.sk-estimator-doc-link,\na:visited.sk-estimator-doc-link {\n  float: right;\n  font-size: smaller;\n  line-height: 1em;\n  font-family: monospace;\n  background-color: var(--sklearn-color-background);\n  border-radius: 1em;\n  height: 1em;\n  width: 1em;\n  text-decoration: none !important;\n  margin-left: 1ex;\n  /* unfitted */\n  border: var(--sklearn-color-unfitted-level-1) 1pt solid;\n  color: var(--sklearn-color-unfitted-level-1);\n}\n\n.sk-estimator-doc-link.fitted,\na:link.sk-estimator-doc-link.fitted,\na:visited.sk-estimator-doc-link.fitted {\n  /* fitted */\n  border: var(--sklearn-color-fitted-level-1) 1pt solid;\n  color: var(--sklearn-color-fitted-level-1);\n}\n\n/* On hover */\ndiv.sk-estimator:hover .sk-estimator-doc-link:hover,\n.sk-estimator-doc-link:hover,\ndiv.sk-label-container:hover .sk-estimator-doc-link:hover,\n.sk-estimator-doc-link:hover {\n  /* unfitted */\n  background-color: var(--sklearn-color-unfitted-level-3);\n  color: var(--sklearn-color-background);\n  text-decoration: none;\n}\n\ndiv.sk-estimator.fitted:hover .sk-estimator-doc-link.fitted:hover,\n.sk-estimator-doc-link.fitted:hover,\ndiv.sk-label-container:hover .sk-estimator-doc-link.fitted:hover,\n.sk-estimator-doc-link.fitted:hover {\n  /* fitted */\n  background-color: var(--sklearn-color-fitted-level-3);\n  color: var(--sklearn-color-background);\n  text-decoration: none;\n}\n\n/* Span, style for the box shown on hovering the info icon */\n.sk-estimator-doc-link span {\n  display: none;\n  z-index: 9999;\n  position: relative;\n  font-weight: normal;\n  right: .2ex;\n  padding: .5ex;\n  margin: .5ex;\n  width: min-content;\n  min-width: 20ex;\n  max-width: 50ex;\n  color: var(--sklearn-color-text);\n  box-shadow: 2pt 2pt 4pt #999;\n  /* unfitted */\n  background: var(--sklearn-color-unfitted-level-0);\n  border: .5pt solid var(--sklearn-color-unfitted-level-3);\n}\n\n.sk-estimator-doc-link.fitted span {\n  /* fitted */\n  background: var(--sklearn-color-fitted-level-0);\n  border: var(--sklearn-color-fitted-level-3);\n}\n\n.sk-estimator-doc-link:hover span {\n  display: block;\n}\n\n/* \"?\"-specific style due to the `<a>` HTML tag */\n\n#sk-container-id-9 a.estimator_doc_link {\n  float: right;\n  font-size: 1rem;\n  line-height: 1em;\n  font-family: monospace;\n  background-color: var(--sklearn-color-background);\n  border-radius: 1rem;\n  height: 1rem;\n  width: 1rem;\n  text-decoration: none;\n  /* unfitted */\n  color: var(--sklearn-color-unfitted-level-1);\n  border: var(--sklearn-color-unfitted-level-1) 1pt solid;\n}\n\n#sk-container-id-9 a.estimator_doc_link.fitted {\n  /* fitted */\n  border: var(--sklearn-color-fitted-level-1) 1pt solid;\n  color: var(--sklearn-color-fitted-level-1);\n}\n\n/* On hover */\n#sk-container-id-9 a.estimator_doc_link:hover {\n  /* unfitted */\n  background-color: var(--sklearn-color-unfitted-level-3);\n  color: var(--sklearn-color-background);\n  text-decoration: none;\n}\n\n#sk-container-id-9 a.estimator_doc_link.fitted:hover {\n  /* fitted */\n  background-color: var(--sklearn-color-fitted-level-3);\n}\n</style><div id=\"sk-container-id-9\" class=\"sk-top-container\"><div class=\"sk-text-repr-fallback\"><pre>OneHotEncoder(sparse_output=False)</pre><b>In a Jupyter environment, please rerun this cell to show the HTML representation or trust the notebook. <br />On GitHub, the HTML representation is unable to render, please try loading this page with nbviewer.org.</b></div><div class=\"sk-container\" hidden><div class=\"sk-item\"><div class=\"sk-estimator  sk-toggleable\"><input class=\"sk-toggleable__control sk-hidden--visually\" id=\"sk-estimator-id-9\" type=\"checkbox\" checked><label for=\"sk-estimator-id-9\" class=\"sk-toggleable__label  sk-toggleable__label-arrow \">&nbsp;&nbsp;OneHotEncoder<a class=\"sk-estimator-doc-link \" rel=\"noreferrer\" target=\"_blank\" href=\"https://scikit-learn.org/1.5/modules/generated/sklearn.preprocessing.OneHotEncoder.html\">?<span>Documentation for OneHotEncoder</span></a><span class=\"sk-estimator-doc-link \">i<span>Not fitted</span></span></label><div class=\"sk-toggleable__content \"><pre>OneHotEncoder(sparse_output=False)</pre></div> </div></div></div></div>"
     },
     "execution_count": 148,
     "metadata": {},
     "output_type": "execute_result"
    }
   ],
   "source": [
    "# Ваш код здесь\n",
    "ohe = OneHotEncoder(sparse_output=False)\n",
    "ohe"
   ]
  },
  {
   "cell_type": "markdown",
   "id": "26a44ecc",
   "metadata": {
    "id": "26a44ecc",
    "pycharm": {
     "name": "#%% md\n"
    }
   },
   "source": [
    "4. Идентифицируйте параметры преобразования на датафрейме с категориальными переменными."
   ]
  },
  {
   "cell_type": "code",
   "execution_count": 149,
   "id": "295f2ffc",
   "metadata": {
    "ExecuteTime": {
     "end_time": "2022-03-15T22:40:33.874311Z",
     "start_time": "2022-03-15T22:40:33.871463Z"
    },
    "id": "295f2ffc",
    "pycharm": {
     "name": "#%%\n"
    }
   },
   "outputs": [
    {
     "data": {
      "text/plain": "OneHotEncoder(sparse_output=False)",
      "text/html": "<style>#sk-container-id-10 {\n  /* Definition of color scheme common for light and dark mode */\n  --sklearn-color-text: black;\n  --sklearn-color-line: gray;\n  /* Definition of color scheme for unfitted estimators */\n  --sklearn-color-unfitted-level-0: #fff5e6;\n  --sklearn-color-unfitted-level-1: #f6e4d2;\n  --sklearn-color-unfitted-level-2: #ffe0b3;\n  --sklearn-color-unfitted-level-3: chocolate;\n  /* Definition of color scheme for fitted estimators */\n  --sklearn-color-fitted-level-0: #f0f8ff;\n  --sklearn-color-fitted-level-1: #d4ebff;\n  --sklearn-color-fitted-level-2: #b3dbfd;\n  --sklearn-color-fitted-level-3: cornflowerblue;\n\n  /* Specific color for light theme */\n  --sklearn-color-text-on-default-background: var(--sg-text-color, var(--theme-code-foreground, var(--jp-content-font-color1, black)));\n  --sklearn-color-background: var(--sg-background-color, var(--theme-background, var(--jp-layout-color0, white)));\n  --sklearn-color-border-box: var(--sg-text-color, var(--theme-code-foreground, var(--jp-content-font-color1, black)));\n  --sklearn-color-icon: #696969;\n\n  @media (prefers-color-scheme: dark) {\n    /* Redefinition of color scheme for dark theme */\n    --sklearn-color-text-on-default-background: var(--sg-text-color, var(--theme-code-foreground, var(--jp-content-font-color1, white)));\n    --sklearn-color-background: var(--sg-background-color, var(--theme-background, var(--jp-layout-color0, #111)));\n    --sklearn-color-border-box: var(--sg-text-color, var(--theme-code-foreground, var(--jp-content-font-color1, white)));\n    --sklearn-color-icon: #878787;\n  }\n}\n\n#sk-container-id-10 {\n  color: var(--sklearn-color-text);\n}\n\n#sk-container-id-10 pre {\n  padding: 0;\n}\n\n#sk-container-id-10 input.sk-hidden--visually {\n  border: 0;\n  clip: rect(1px 1px 1px 1px);\n  clip: rect(1px, 1px, 1px, 1px);\n  height: 1px;\n  margin: -1px;\n  overflow: hidden;\n  padding: 0;\n  position: absolute;\n  width: 1px;\n}\n\n#sk-container-id-10 div.sk-dashed-wrapped {\n  border: 1px dashed var(--sklearn-color-line);\n  margin: 0 0.4em 0.5em 0.4em;\n  box-sizing: border-box;\n  padding-bottom: 0.4em;\n  background-color: var(--sklearn-color-background);\n}\n\n#sk-container-id-10 div.sk-container {\n  /* jupyter's `normalize.less` sets `[hidden] { display: none; }`\n     but bootstrap.min.css set `[hidden] { display: none !important; }`\n     so we also need the `!important` here to be able to override the\n     default hidden behavior on the sphinx rendered scikit-learn.org.\n     See: https://github.com/scikit-learn/scikit-learn/issues/21755 */\n  display: inline-block !important;\n  position: relative;\n}\n\n#sk-container-id-10 div.sk-text-repr-fallback {\n  display: none;\n}\n\ndiv.sk-parallel-item,\ndiv.sk-serial,\ndiv.sk-item {\n  /* draw centered vertical line to link estimators */\n  background-image: linear-gradient(var(--sklearn-color-text-on-default-background), var(--sklearn-color-text-on-default-background));\n  background-size: 2px 100%;\n  background-repeat: no-repeat;\n  background-position: center center;\n}\n\n/* Parallel-specific style estimator block */\n\n#sk-container-id-10 div.sk-parallel-item::after {\n  content: \"\";\n  width: 100%;\n  border-bottom: 2px solid var(--sklearn-color-text-on-default-background);\n  flex-grow: 1;\n}\n\n#sk-container-id-10 div.sk-parallel {\n  display: flex;\n  align-items: stretch;\n  justify-content: center;\n  background-color: var(--sklearn-color-background);\n  position: relative;\n}\n\n#sk-container-id-10 div.sk-parallel-item {\n  display: flex;\n  flex-direction: column;\n}\n\n#sk-container-id-10 div.sk-parallel-item:first-child::after {\n  align-self: flex-end;\n  width: 50%;\n}\n\n#sk-container-id-10 div.sk-parallel-item:last-child::after {\n  align-self: flex-start;\n  width: 50%;\n}\n\n#sk-container-id-10 div.sk-parallel-item:only-child::after {\n  width: 0;\n}\n\n/* Serial-specific style estimator block */\n\n#sk-container-id-10 div.sk-serial {\n  display: flex;\n  flex-direction: column;\n  align-items: center;\n  background-color: var(--sklearn-color-background);\n  padding-right: 1em;\n  padding-left: 1em;\n}\n\n\n/* Toggleable style: style used for estimator/Pipeline/ColumnTransformer box that is\nclickable and can be expanded/collapsed.\n- Pipeline and ColumnTransformer use this feature and define the default style\n- Estimators will overwrite some part of the style using the `sk-estimator` class\n*/\n\n/* Pipeline and ColumnTransformer style (default) */\n\n#sk-container-id-10 div.sk-toggleable {\n  /* Default theme specific background. It is overwritten whether we have a\n  specific estimator or a Pipeline/ColumnTransformer */\n  background-color: var(--sklearn-color-background);\n}\n\n/* Toggleable label */\n#sk-container-id-10 label.sk-toggleable__label {\n  cursor: pointer;\n  display: block;\n  width: 100%;\n  margin-bottom: 0;\n  padding: 0.5em;\n  box-sizing: border-box;\n  text-align: center;\n}\n\n#sk-container-id-10 label.sk-toggleable__label-arrow:before {\n  /* Arrow on the left of the label */\n  content: \"▸\";\n  float: left;\n  margin-right: 0.25em;\n  color: var(--sklearn-color-icon);\n}\n\n#sk-container-id-10 label.sk-toggleable__label-arrow:hover:before {\n  color: var(--sklearn-color-text);\n}\n\n/* Toggleable content - dropdown */\n\n#sk-container-id-10 div.sk-toggleable__content {\n  max-height: 0;\n  max-width: 0;\n  overflow: hidden;\n  text-align: left;\n  /* unfitted */\n  background-color: var(--sklearn-color-unfitted-level-0);\n}\n\n#sk-container-id-10 div.sk-toggleable__content.fitted {\n  /* fitted */\n  background-color: var(--sklearn-color-fitted-level-0);\n}\n\n#sk-container-id-10 div.sk-toggleable__content pre {\n  margin: 0.2em;\n  border-radius: 0.25em;\n  color: var(--sklearn-color-text);\n  /* unfitted */\n  background-color: var(--sklearn-color-unfitted-level-0);\n}\n\n#sk-container-id-10 div.sk-toggleable__content.fitted pre {\n  /* unfitted */\n  background-color: var(--sklearn-color-fitted-level-0);\n}\n\n#sk-container-id-10 input.sk-toggleable__control:checked~div.sk-toggleable__content {\n  /* Expand drop-down */\n  max-height: 200px;\n  max-width: 100%;\n  overflow: auto;\n}\n\n#sk-container-id-10 input.sk-toggleable__control:checked~label.sk-toggleable__label-arrow:before {\n  content: \"▾\";\n}\n\n/* Pipeline/ColumnTransformer-specific style */\n\n#sk-container-id-10 div.sk-label input.sk-toggleable__control:checked~label.sk-toggleable__label {\n  color: var(--sklearn-color-text);\n  background-color: var(--sklearn-color-unfitted-level-2);\n}\n\n#sk-container-id-10 div.sk-label.fitted input.sk-toggleable__control:checked~label.sk-toggleable__label {\n  background-color: var(--sklearn-color-fitted-level-2);\n}\n\n/* Estimator-specific style */\n\n/* Colorize estimator box */\n#sk-container-id-10 div.sk-estimator input.sk-toggleable__control:checked~label.sk-toggleable__label {\n  /* unfitted */\n  background-color: var(--sklearn-color-unfitted-level-2);\n}\n\n#sk-container-id-10 div.sk-estimator.fitted input.sk-toggleable__control:checked~label.sk-toggleable__label {\n  /* fitted */\n  background-color: var(--sklearn-color-fitted-level-2);\n}\n\n#sk-container-id-10 div.sk-label label.sk-toggleable__label,\n#sk-container-id-10 div.sk-label label {\n  /* The background is the default theme color */\n  color: var(--sklearn-color-text-on-default-background);\n}\n\n/* On hover, darken the color of the background */\n#sk-container-id-10 div.sk-label:hover label.sk-toggleable__label {\n  color: var(--sklearn-color-text);\n  background-color: var(--sklearn-color-unfitted-level-2);\n}\n\n/* Label box, darken color on hover, fitted */\n#sk-container-id-10 div.sk-label.fitted:hover label.sk-toggleable__label.fitted {\n  color: var(--sklearn-color-text);\n  background-color: var(--sklearn-color-fitted-level-2);\n}\n\n/* Estimator label */\n\n#sk-container-id-10 div.sk-label label {\n  font-family: monospace;\n  font-weight: bold;\n  display: inline-block;\n  line-height: 1.2em;\n}\n\n#sk-container-id-10 div.sk-label-container {\n  text-align: center;\n}\n\n/* Estimator-specific */\n#sk-container-id-10 div.sk-estimator {\n  font-family: monospace;\n  border: 1px dotted var(--sklearn-color-border-box);\n  border-radius: 0.25em;\n  box-sizing: border-box;\n  margin-bottom: 0.5em;\n  /* unfitted */\n  background-color: var(--sklearn-color-unfitted-level-0);\n}\n\n#sk-container-id-10 div.sk-estimator.fitted {\n  /* fitted */\n  background-color: var(--sklearn-color-fitted-level-0);\n}\n\n/* on hover */\n#sk-container-id-10 div.sk-estimator:hover {\n  /* unfitted */\n  background-color: var(--sklearn-color-unfitted-level-2);\n}\n\n#sk-container-id-10 div.sk-estimator.fitted:hover {\n  /* fitted */\n  background-color: var(--sklearn-color-fitted-level-2);\n}\n\n/* Specification for estimator info (e.g. \"i\" and \"?\") */\n\n/* Common style for \"i\" and \"?\" */\n\n.sk-estimator-doc-link,\na:link.sk-estimator-doc-link,\na:visited.sk-estimator-doc-link {\n  float: right;\n  font-size: smaller;\n  line-height: 1em;\n  font-family: monospace;\n  background-color: var(--sklearn-color-background);\n  border-radius: 1em;\n  height: 1em;\n  width: 1em;\n  text-decoration: none !important;\n  margin-left: 1ex;\n  /* unfitted */\n  border: var(--sklearn-color-unfitted-level-1) 1pt solid;\n  color: var(--sklearn-color-unfitted-level-1);\n}\n\n.sk-estimator-doc-link.fitted,\na:link.sk-estimator-doc-link.fitted,\na:visited.sk-estimator-doc-link.fitted {\n  /* fitted */\n  border: var(--sklearn-color-fitted-level-1) 1pt solid;\n  color: var(--sklearn-color-fitted-level-1);\n}\n\n/* On hover */\ndiv.sk-estimator:hover .sk-estimator-doc-link:hover,\n.sk-estimator-doc-link:hover,\ndiv.sk-label-container:hover .sk-estimator-doc-link:hover,\n.sk-estimator-doc-link:hover {\n  /* unfitted */\n  background-color: var(--sklearn-color-unfitted-level-3);\n  color: var(--sklearn-color-background);\n  text-decoration: none;\n}\n\ndiv.sk-estimator.fitted:hover .sk-estimator-doc-link.fitted:hover,\n.sk-estimator-doc-link.fitted:hover,\ndiv.sk-label-container:hover .sk-estimator-doc-link.fitted:hover,\n.sk-estimator-doc-link.fitted:hover {\n  /* fitted */\n  background-color: var(--sklearn-color-fitted-level-3);\n  color: var(--sklearn-color-background);\n  text-decoration: none;\n}\n\n/* Span, style for the box shown on hovering the info icon */\n.sk-estimator-doc-link span {\n  display: none;\n  z-index: 9999;\n  position: relative;\n  font-weight: normal;\n  right: .2ex;\n  padding: .5ex;\n  margin: .5ex;\n  width: min-content;\n  min-width: 20ex;\n  max-width: 50ex;\n  color: var(--sklearn-color-text);\n  box-shadow: 2pt 2pt 4pt #999;\n  /* unfitted */\n  background: var(--sklearn-color-unfitted-level-0);\n  border: .5pt solid var(--sklearn-color-unfitted-level-3);\n}\n\n.sk-estimator-doc-link.fitted span {\n  /* fitted */\n  background: var(--sklearn-color-fitted-level-0);\n  border: var(--sklearn-color-fitted-level-3);\n}\n\n.sk-estimator-doc-link:hover span {\n  display: block;\n}\n\n/* \"?\"-specific style due to the `<a>` HTML tag */\n\n#sk-container-id-10 a.estimator_doc_link {\n  float: right;\n  font-size: 1rem;\n  line-height: 1em;\n  font-family: monospace;\n  background-color: var(--sklearn-color-background);\n  border-radius: 1rem;\n  height: 1rem;\n  width: 1rem;\n  text-decoration: none;\n  /* unfitted */\n  color: var(--sklearn-color-unfitted-level-1);\n  border: var(--sklearn-color-unfitted-level-1) 1pt solid;\n}\n\n#sk-container-id-10 a.estimator_doc_link.fitted {\n  /* fitted */\n  border: var(--sklearn-color-fitted-level-1) 1pt solid;\n  color: var(--sklearn-color-fitted-level-1);\n}\n\n/* On hover */\n#sk-container-id-10 a.estimator_doc_link:hover {\n  /* unfitted */\n  background-color: var(--sklearn-color-unfitted-level-3);\n  color: var(--sklearn-color-background);\n  text-decoration: none;\n}\n\n#sk-container-id-10 a.estimator_doc_link.fitted:hover {\n  /* fitted */\n  background-color: var(--sklearn-color-fitted-level-3);\n}\n</style><div id=\"sk-container-id-10\" class=\"sk-top-container\"><div class=\"sk-text-repr-fallback\"><pre>OneHotEncoder(sparse_output=False)</pre><b>In a Jupyter environment, please rerun this cell to show the HTML representation or trust the notebook. <br />On GitHub, the HTML representation is unable to render, please try loading this page with nbviewer.org.</b></div><div class=\"sk-container\" hidden><div class=\"sk-item\"><div class=\"sk-estimator fitted sk-toggleable\"><input class=\"sk-toggleable__control sk-hidden--visually\" id=\"sk-estimator-id-10\" type=\"checkbox\" checked><label for=\"sk-estimator-id-10\" class=\"sk-toggleable__label fitted sk-toggleable__label-arrow fitted\">&nbsp;&nbsp;OneHotEncoder<a class=\"sk-estimator-doc-link fitted\" rel=\"noreferrer\" target=\"_blank\" href=\"https://scikit-learn.org/1.5/modules/generated/sklearn.preprocessing.OneHotEncoder.html\">?<span>Documentation for OneHotEncoder</span></a><span class=\"sk-estimator-doc-link fitted\">i<span>Fitted</span></span></label><div class=\"sk-toggleable__content fitted\"><pre>OneHotEncoder(sparse_output=False)</pre></div> </div></div></div></div>"
     },
     "execution_count": 149,
     "metadata": {},
     "output_type": "execute_result"
    }
   ],
   "source": [
    "# Ваш код здесь\n",
    "ohe.fit(data)"
   ]
  },
  {
   "cell_type": "markdown",
   "id": "e5504b8d",
   "metadata": {
    "id": "e5504b8d",
    "pycharm": {
     "name": "#%% md\n"
    }
   },
   "source": [
    "5. Примените преобразование для датафрейма с категориальными переменными и сохраните в новую переменную, распечатайте получившуюся матрицу и её размерность."
   ]
  },
  {
   "cell_type": "code",
   "execution_count": 150,
   "id": "10d8356c",
   "metadata": {
    "ExecuteTime": {
     "end_time": "2022-03-15T22:40:34.519702Z",
     "start_time": "2022-03-15T22:40:34.516796Z"
    },
    "id": "10d8356c",
    "pycharm": {
     "name": "#%%\n"
    }
   },
   "outputs": [
    {
     "data": {
      "text/plain": "array([[0., 0., 0., ..., 0., 1., 0.],\n       [0., 0., 0., ..., 0., 1., 0.],\n       [0., 0., 0., ..., 0., 1., 0.],\n       ...,\n       [0., 0., 0., ..., 1., 0., 0.],\n       [0., 0., 0., ..., 0., 1., 0.],\n       [0., 0., 0., ..., 0., 1., 0.]])"
     },
     "execution_count": 150,
     "metadata": {},
     "output_type": "execute_result"
    }
   ],
   "source": [
    "# Ваш код здесь\n",
    "ohe_transformed = ohe.transform(data)\n",
    "ohe_transformed"
   ]
  },
  {
   "cell_type": "code",
   "execution_count": 151,
   "id": "2ee15923",
   "metadata": {
    "pycharm": {
     "name": "#%%\n"
    }
   },
   "outputs": [
    {
     "data": {
      "text/plain": "(9619, 1439)"
     },
     "execution_count": 151,
     "metadata": {},
     "output_type": "execute_result"
    }
   ],
   "source": [
    "ohe_transformed.shape"
   ]
  },
  {
   "cell_type": "markdown",
   "id": "490cf3fa",
   "metadata": {
    "id": "490cf3fa",
    "pycharm": {
     "name": "#%% md\n"
    }
   },
   "source": [
    "6. Выведите новые наименования признаков с помощью метода `get_feature_names_out`."
   ]
  },
  {
   "cell_type": "code",
   "execution_count": 152,
   "id": "a5ee48ea",
   "metadata": {
    "ExecuteTime": {
     "end_time": "2022-03-15T22:40:35.296004Z",
     "start_time": "2022-03-15T22:40:35.291879Z"
    },
    "id": "a5ee48ea",
    "pycharm": {
     "name": "#%%\n"
    }
   },
   "outputs": [
    {
     "data": {
      "text/plain": "array(['short_model_-benz', 'short_model_1', 'short_model_124', ...,\n       'age_category_average', 'age_category_new', 'age_category_old'],\n      dtype=object)"
     },
     "execution_count": 152,
     "metadata": {},
     "output_type": "execute_result"
    }
   ],
   "source": [
    "# Ваш код здесь\n",
    "ohe.get_feature_names_out()"
   ]
  },
  {
   "cell_type": "markdown",
   "id": "115aed73",
   "metadata": {
    "id": "115aed73",
    "pycharm": {
     "name": "#%% md\n"
    }
   },
   "source": [
    "7. Добавьте в исходный датафрейм получившиеся новые признаки, выведите первые пять записей датафрейма и список колонок."
   ]
  },
  {
   "cell_type": "code",
   "execution_count": 153,
   "id": "0062ac07",
   "metadata": {
    "ExecuteTime": {
     "end_time": "2022-03-15T22:40:35.978083Z",
     "start_time": "2022-03-15T22:40:35.970249Z"
    },
    "id": "0062ac07",
    "pycharm": {
     "name": "#%%\n"
    }
   },
   "outputs": [
    {
     "name": "stderr",
     "output_type": "stream",
     "text": [
      "C:\\Users\\Professional\\AppData\\Local\\Temp\\ipykernel_7676\\2220107148.py:2: PerformanceWarning: DataFrame is highly fragmented.  This is usually the result of calling `frame.insert` many times, which has poor performance.  Consider joining all columns at once using pd.concat(axis=1) instead. To get a de-fragmented frame, use `newframe = frame.copy()`\n",
      "  df[ohe.get_feature_names_out()] = ohe_transformed\n",
      "C:\\Users\\Professional\\AppData\\Local\\Temp\\ipykernel_7676\\2220107148.py:2: PerformanceWarning: DataFrame is highly fragmented.  This is usually the result of calling `frame.insert` many times, which has poor performance.  Consider joining all columns at once using pd.concat(axis=1) instead. To get a de-fragmented frame, use `newframe = frame.copy()`\n",
      "  df[ohe.get_feature_names_out()] = ohe_transformed\n",
      "C:\\Users\\Professional\\AppData\\Local\\Temp\\ipykernel_7676\\2220107148.py:2: PerformanceWarning: DataFrame is highly fragmented.  This is usually the result of calling `frame.insert` many times, which has poor performance.  Consider joining all columns at once using pd.concat(axis=1) instead. To get a de-fragmented frame, use `newframe = frame.copy()`\n",
      "  df[ohe.get_feature_names_out()] = ohe_transformed\n",
      "C:\\Users\\Professional\\AppData\\Local\\Temp\\ipykernel_7676\\2220107148.py:2: PerformanceWarning: DataFrame is highly fragmented.  This is usually the result of calling `frame.insert` many times, which has poor performance.  Consider joining all columns at once using pd.concat(axis=1) instead. To get a de-fragmented frame, use `newframe = frame.copy()`\n",
      "  df[ohe.get_feature_names_out()] = ohe_transformed\n",
      "C:\\Users\\Professional\\AppData\\Local\\Temp\\ipykernel_7676\\2220107148.py:2: PerformanceWarning: DataFrame is highly fragmented.  This is usually the result of calling `frame.insert` many times, which has poor performance.  Consider joining all columns at once using pd.concat(axis=1) instead. To get a de-fragmented frame, use `newframe = frame.copy()`\n",
      "  df[ohe.get_feature_names_out()] = ohe_transformed\n",
      "C:\\Users\\Professional\\AppData\\Local\\Temp\\ipykernel_7676\\2220107148.py:2: PerformanceWarning: DataFrame is highly fragmented.  This is usually the result of calling `frame.insert` many times, which has poor performance.  Consider joining all columns at once using pd.concat(axis=1) instead. To get a de-fragmented frame, use `newframe = frame.copy()`\n",
      "  df[ohe.get_feature_names_out()] = ohe_transformed\n",
      "C:\\Users\\Professional\\AppData\\Local\\Temp\\ipykernel_7676\\2220107148.py:2: PerformanceWarning: DataFrame is highly fragmented.  This is usually the result of calling `frame.insert` many times, which has poor performance.  Consider joining all columns at once using pd.concat(axis=1) instead. To get a de-fragmented frame, use `newframe = frame.copy()`\n",
      "  df[ohe.get_feature_names_out()] = ohe_transformed\n",
      "C:\\Users\\Professional\\AppData\\Local\\Temp\\ipykernel_7676\\2220107148.py:2: PerformanceWarning: DataFrame is highly fragmented.  This is usually the result of calling `frame.insert` many times, which has poor performance.  Consider joining all columns at once using pd.concat(axis=1) instead. To get a de-fragmented frame, use `newframe = frame.copy()`\n",
      "  df[ohe.get_feature_names_out()] = ohe_transformed\n",
      "C:\\Users\\Professional\\AppData\\Local\\Temp\\ipykernel_7676\\2220107148.py:2: PerformanceWarning: DataFrame is highly fragmented.  This is usually the result of calling `frame.insert` many times, which has poor performance.  Consider joining all columns at once using pd.concat(axis=1) instead. To get a de-fragmented frame, use `newframe = frame.copy()`\n",
      "  df[ohe.get_feature_names_out()] = ohe_transformed\n",
      "C:\\Users\\Professional\\AppData\\Local\\Temp\\ipykernel_7676\\2220107148.py:2: PerformanceWarning: DataFrame is highly fragmented.  This is usually the result of calling `frame.insert` many times, which has poor performance.  Consider joining all columns at once using pd.concat(axis=1) instead. To get a de-fragmented frame, use `newframe = frame.copy()`\n",
      "  df[ohe.get_feature_names_out()] = ohe_transformed\n",
      "C:\\Users\\Professional\\AppData\\Local\\Temp\\ipykernel_7676\\2220107148.py:2: PerformanceWarning: DataFrame is highly fragmented.  This is usually the result of calling `frame.insert` many times, which has poor performance.  Consider joining all columns at once using pd.concat(axis=1) instead. To get a de-fragmented frame, use `newframe = frame.copy()`\n",
      "  df[ohe.get_feature_names_out()] = ohe_transformed\n",
      "C:\\Users\\Professional\\AppData\\Local\\Temp\\ipykernel_7676\\2220107148.py:2: PerformanceWarning: DataFrame is highly fragmented.  This is usually the result of calling `frame.insert` many times, which has poor performance.  Consider joining all columns at once using pd.concat(axis=1) instead. To get a de-fragmented frame, use `newframe = frame.copy()`\n",
      "  df[ohe.get_feature_names_out()] = ohe_transformed\n",
      "C:\\Users\\Professional\\AppData\\Local\\Temp\\ipykernel_7676\\2220107148.py:2: PerformanceWarning: DataFrame is highly fragmented.  This is usually the result of calling `frame.insert` many times, which has poor performance.  Consider joining all columns at once using pd.concat(axis=1) instead. To get a de-fragmented frame, use `newframe = frame.copy()`\n",
      "  df[ohe.get_feature_names_out()] = ohe_transformed\n",
      "C:\\Users\\Professional\\AppData\\Local\\Temp\\ipykernel_7676\\2220107148.py:2: PerformanceWarning: DataFrame is highly fragmented.  This is usually the result of calling `frame.insert` many times, which has poor performance.  Consider joining all columns at once using pd.concat(axis=1) instead. To get a de-fragmented frame, use `newframe = frame.copy()`\n",
      "  df[ohe.get_feature_names_out()] = ohe_transformed\n",
      "C:\\Users\\Professional\\AppData\\Local\\Temp\\ipykernel_7676\\2220107148.py:2: PerformanceWarning: DataFrame is highly fragmented.  This is usually the result of calling `frame.insert` many times, which has poor performance.  Consider joining all columns at once using pd.concat(axis=1) instead. To get a de-fragmented frame, use `newframe = frame.copy()`\n",
      "  df[ohe.get_feature_names_out()] = ohe_transformed\n",
      "C:\\Users\\Professional\\AppData\\Local\\Temp\\ipykernel_7676\\2220107148.py:2: PerformanceWarning: DataFrame is highly fragmented.  This is usually the result of calling `frame.insert` many times, which has poor performance.  Consider joining all columns at once using pd.concat(axis=1) instead. To get a de-fragmented frame, use `newframe = frame.copy()`\n",
      "  df[ohe.get_feature_names_out()] = ohe_transformed\n",
      "C:\\Users\\Professional\\AppData\\Local\\Temp\\ipykernel_7676\\2220107148.py:2: PerformanceWarning: DataFrame is highly fragmented.  This is usually the result of calling `frame.insert` many times, which has poor performance.  Consider joining all columns at once using pd.concat(axis=1) instead. To get a de-fragmented frame, use `newframe = frame.copy()`\n",
      "  df[ohe.get_feature_names_out()] = ohe_transformed\n",
      "C:\\Users\\Professional\\AppData\\Local\\Temp\\ipykernel_7676\\2220107148.py:2: PerformanceWarning: DataFrame is highly fragmented.  This is usually the result of calling `frame.insert` many times, which has poor performance.  Consider joining all columns at once using pd.concat(axis=1) instead. To get a de-fragmented frame, use `newframe = frame.copy()`\n",
      "  df[ohe.get_feature_names_out()] = ohe_transformed\n",
      "C:\\Users\\Professional\\AppData\\Local\\Temp\\ipykernel_7676\\2220107148.py:2: PerformanceWarning: DataFrame is highly fragmented.  This is usually the result of calling `frame.insert` many times, which has poor performance.  Consider joining all columns at once using pd.concat(axis=1) instead. To get a de-fragmented frame, use `newframe = frame.copy()`\n",
      "  df[ohe.get_feature_names_out()] = ohe_transformed\n",
      "C:\\Users\\Professional\\AppData\\Local\\Temp\\ipykernel_7676\\2220107148.py:2: PerformanceWarning: DataFrame is highly fragmented.  This is usually the result of calling `frame.insert` many times, which has poor performance.  Consider joining all columns at once using pd.concat(axis=1) instead. To get a de-fragmented frame, use `newframe = frame.copy()`\n",
      "  df[ohe.get_feature_names_out()] = ohe_transformed\n",
      "C:\\Users\\Professional\\AppData\\Local\\Temp\\ipykernel_7676\\2220107148.py:2: PerformanceWarning: DataFrame is highly fragmented.  This is usually the result of calling `frame.insert` many times, which has poor performance.  Consider joining all columns at once using pd.concat(axis=1) instead. To get a de-fragmented frame, use `newframe = frame.copy()`\n",
      "  df[ohe.get_feature_names_out()] = ohe_transformed\n",
      "C:\\Users\\Professional\\AppData\\Local\\Temp\\ipykernel_7676\\2220107148.py:2: PerformanceWarning: DataFrame is highly fragmented.  This is usually the result of calling `frame.insert` many times, which has poor performance.  Consider joining all columns at once using pd.concat(axis=1) instead. To get a de-fragmented frame, use `newframe = frame.copy()`\n",
      "  df[ohe.get_feature_names_out()] = ohe_transformed\n",
      "C:\\Users\\Professional\\AppData\\Local\\Temp\\ipykernel_7676\\2220107148.py:2: PerformanceWarning: DataFrame is highly fragmented.  This is usually the result of calling `frame.insert` many times, which has poor performance.  Consider joining all columns at once using pd.concat(axis=1) instead. To get a de-fragmented frame, use `newframe = frame.copy()`\n",
      "  df[ohe.get_feature_names_out()] = ohe_transformed\n",
      "C:\\Users\\Professional\\AppData\\Local\\Temp\\ipykernel_7676\\2220107148.py:2: PerformanceWarning: DataFrame is highly fragmented.  This is usually the result of calling `frame.insert` many times, which has poor performance.  Consider joining all columns at once using pd.concat(axis=1) instead. To get a de-fragmented frame, use `newframe = frame.copy()`\n",
      "  df[ohe.get_feature_names_out()] = ohe_transformed\n",
      "C:\\Users\\Professional\\AppData\\Local\\Temp\\ipykernel_7676\\2220107148.py:2: PerformanceWarning: DataFrame is highly fragmented.  This is usually the result of calling `frame.insert` many times, which has poor performance.  Consider joining all columns at once using pd.concat(axis=1) instead. To get a de-fragmented frame, use `newframe = frame.copy()`\n",
      "  df[ohe.get_feature_names_out()] = ohe_transformed\n",
      "C:\\Users\\Professional\\AppData\\Local\\Temp\\ipykernel_7676\\2220107148.py:2: PerformanceWarning: DataFrame is highly fragmented.  This is usually the result of calling `frame.insert` many times, which has poor performance.  Consider joining all columns at once using pd.concat(axis=1) instead. To get a de-fragmented frame, use `newframe = frame.copy()`\n",
      "  df[ohe.get_feature_names_out()] = ohe_transformed\n",
      "C:\\Users\\Professional\\AppData\\Local\\Temp\\ipykernel_7676\\2220107148.py:2: PerformanceWarning: DataFrame is highly fragmented.  This is usually the result of calling `frame.insert` many times, which has poor performance.  Consider joining all columns at once using pd.concat(axis=1) instead. To get a de-fragmented frame, use `newframe = frame.copy()`\n",
      "  df[ohe.get_feature_names_out()] = ohe_transformed\n",
      "C:\\Users\\Professional\\AppData\\Local\\Temp\\ipykernel_7676\\2220107148.py:2: PerformanceWarning: DataFrame is highly fragmented.  This is usually the result of calling `frame.insert` many times, which has poor performance.  Consider joining all columns at once using pd.concat(axis=1) instead. To get a de-fragmented frame, use `newframe = frame.copy()`\n",
      "  df[ohe.get_feature_names_out()] = ohe_transformed\n",
      "C:\\Users\\Professional\\AppData\\Local\\Temp\\ipykernel_7676\\2220107148.py:2: PerformanceWarning: DataFrame is highly fragmented.  This is usually the result of calling `frame.insert` many times, which has poor performance.  Consider joining all columns at once using pd.concat(axis=1) instead. To get a de-fragmented frame, use `newframe = frame.copy()`\n",
      "  df[ohe.get_feature_names_out()] = ohe_transformed\n",
      "C:\\Users\\Professional\\AppData\\Local\\Temp\\ipykernel_7676\\2220107148.py:2: PerformanceWarning: DataFrame is highly fragmented.  This is usually the result of calling `frame.insert` many times, which has poor performance.  Consider joining all columns at once using pd.concat(axis=1) instead. To get a de-fragmented frame, use `newframe = frame.copy()`\n",
      "  df[ohe.get_feature_names_out()] = ohe_transformed\n",
      "C:\\Users\\Professional\\AppData\\Local\\Temp\\ipykernel_7676\\2220107148.py:2: PerformanceWarning: DataFrame is highly fragmented.  This is usually the result of calling `frame.insert` many times, which has poor performance.  Consider joining all columns at once using pd.concat(axis=1) instead. To get a de-fragmented frame, use `newframe = frame.copy()`\n",
      "  df[ohe.get_feature_names_out()] = ohe_transformed\n",
      "C:\\Users\\Professional\\AppData\\Local\\Temp\\ipykernel_7676\\2220107148.py:2: PerformanceWarning: DataFrame is highly fragmented.  This is usually the result of calling `frame.insert` many times, which has poor performance.  Consider joining all columns at once using pd.concat(axis=1) instead. To get a de-fragmented frame, use `newframe = frame.copy()`\n",
      "  df[ohe.get_feature_names_out()] = ohe_transformed\n",
      "C:\\Users\\Professional\\AppData\\Local\\Temp\\ipykernel_7676\\2220107148.py:2: PerformanceWarning: DataFrame is highly fragmented.  This is usually the result of calling `frame.insert` many times, which has poor performance.  Consider joining all columns at once using pd.concat(axis=1) instead. To get a de-fragmented frame, use `newframe = frame.copy()`\n",
      "  df[ohe.get_feature_names_out()] = ohe_transformed\n",
      "C:\\Users\\Professional\\AppData\\Local\\Temp\\ipykernel_7676\\2220107148.py:2: PerformanceWarning: DataFrame is highly fragmented.  This is usually the result of calling `frame.insert` many times, which has poor performance.  Consider joining all columns at once using pd.concat(axis=1) instead. To get a de-fragmented frame, use `newframe = frame.copy()`\n",
      "  df[ohe.get_feature_names_out()] = ohe_transformed\n",
      "C:\\Users\\Professional\\AppData\\Local\\Temp\\ipykernel_7676\\2220107148.py:2: PerformanceWarning: DataFrame is highly fragmented.  This is usually the result of calling `frame.insert` many times, which has poor performance.  Consider joining all columns at once using pd.concat(axis=1) instead. To get a de-fragmented frame, use `newframe = frame.copy()`\n",
      "  df[ohe.get_feature_names_out()] = ohe_transformed\n",
      "C:\\Users\\Professional\\AppData\\Local\\Temp\\ipykernel_7676\\2220107148.py:2: PerformanceWarning: DataFrame is highly fragmented.  This is usually the result of calling `frame.insert` many times, which has poor performance.  Consider joining all columns at once using pd.concat(axis=1) instead. To get a de-fragmented frame, use `newframe = frame.copy()`\n",
      "  df[ohe.get_feature_names_out()] = ohe_transformed\n",
      "C:\\Users\\Professional\\AppData\\Local\\Temp\\ipykernel_7676\\2220107148.py:2: PerformanceWarning: DataFrame is highly fragmented.  This is usually the result of calling `frame.insert` many times, which has poor performance.  Consider joining all columns at once using pd.concat(axis=1) instead. To get a de-fragmented frame, use `newframe = frame.copy()`\n",
      "  df[ohe.get_feature_names_out()] = ohe_transformed\n",
      "C:\\Users\\Professional\\AppData\\Local\\Temp\\ipykernel_7676\\2220107148.py:2: PerformanceWarning: DataFrame is highly fragmented.  This is usually the result of calling `frame.insert` many times, which has poor performance.  Consider joining all columns at once using pd.concat(axis=1) instead. To get a de-fragmented frame, use `newframe = frame.copy()`\n",
      "  df[ohe.get_feature_names_out()] = ohe_transformed\n",
      "C:\\Users\\Professional\\AppData\\Local\\Temp\\ipykernel_7676\\2220107148.py:2: PerformanceWarning: DataFrame is highly fragmented.  This is usually the result of calling `frame.insert` many times, which has poor performance.  Consider joining all columns at once using pd.concat(axis=1) instead. To get a de-fragmented frame, use `newframe = frame.copy()`\n",
      "  df[ohe.get_feature_names_out()] = ohe_transformed\n",
      "C:\\Users\\Professional\\AppData\\Local\\Temp\\ipykernel_7676\\2220107148.py:2: PerformanceWarning: DataFrame is highly fragmented.  This is usually the result of calling `frame.insert` many times, which has poor performance.  Consider joining all columns at once using pd.concat(axis=1) instead. To get a de-fragmented frame, use `newframe = frame.copy()`\n",
      "  df[ohe.get_feature_names_out()] = ohe_transformed\n",
      "C:\\Users\\Professional\\AppData\\Local\\Temp\\ipykernel_7676\\2220107148.py:2: PerformanceWarning: DataFrame is highly fragmented.  This is usually the result of calling `frame.insert` many times, which has poor performance.  Consider joining all columns at once using pd.concat(axis=1) instead. To get a de-fragmented frame, use `newframe = frame.copy()`\n",
      "  df[ohe.get_feature_names_out()] = ohe_transformed\n",
      "C:\\Users\\Professional\\AppData\\Local\\Temp\\ipykernel_7676\\2220107148.py:2: PerformanceWarning: DataFrame is highly fragmented.  This is usually the result of calling `frame.insert` many times, which has poor performance.  Consider joining all columns at once using pd.concat(axis=1) instead. To get a de-fragmented frame, use `newframe = frame.copy()`\n",
      "  df[ohe.get_feature_names_out()] = ohe_transformed\n",
      "C:\\Users\\Professional\\AppData\\Local\\Temp\\ipykernel_7676\\2220107148.py:2: PerformanceWarning: DataFrame is highly fragmented.  This is usually the result of calling `frame.insert` many times, which has poor performance.  Consider joining all columns at once using pd.concat(axis=1) instead. To get a de-fragmented frame, use `newframe = frame.copy()`\n",
      "  df[ohe.get_feature_names_out()] = ohe_transformed\n",
      "C:\\Users\\Professional\\AppData\\Local\\Temp\\ipykernel_7676\\2220107148.py:2: PerformanceWarning: DataFrame is highly fragmented.  This is usually the result of calling `frame.insert` many times, which has poor performance.  Consider joining all columns at once using pd.concat(axis=1) instead. To get a de-fragmented frame, use `newframe = frame.copy()`\n",
      "  df[ohe.get_feature_names_out()] = ohe_transformed\n",
      "C:\\Users\\Professional\\AppData\\Local\\Temp\\ipykernel_7676\\2220107148.py:2: PerformanceWarning: DataFrame is highly fragmented.  This is usually the result of calling `frame.insert` many times, which has poor performance.  Consider joining all columns at once using pd.concat(axis=1) instead. To get a de-fragmented frame, use `newframe = frame.copy()`\n",
      "  df[ohe.get_feature_names_out()] = ohe_transformed\n",
      "C:\\Users\\Professional\\AppData\\Local\\Temp\\ipykernel_7676\\2220107148.py:2: PerformanceWarning: DataFrame is highly fragmented.  This is usually the result of calling `frame.insert` many times, which has poor performance.  Consider joining all columns at once using pd.concat(axis=1) instead. To get a de-fragmented frame, use `newframe = frame.copy()`\n",
      "  df[ohe.get_feature_names_out()] = ohe_transformed\n",
      "C:\\Users\\Professional\\AppData\\Local\\Temp\\ipykernel_7676\\2220107148.py:2: PerformanceWarning: DataFrame is highly fragmented.  This is usually the result of calling `frame.insert` many times, which has poor performance.  Consider joining all columns at once using pd.concat(axis=1) instead. To get a de-fragmented frame, use `newframe = frame.copy()`\n",
      "  df[ohe.get_feature_names_out()] = ohe_transformed\n",
      "C:\\Users\\Professional\\AppData\\Local\\Temp\\ipykernel_7676\\2220107148.py:2: PerformanceWarning: DataFrame is highly fragmented.  This is usually the result of calling `frame.insert` many times, which has poor performance.  Consider joining all columns at once using pd.concat(axis=1) instead. To get a de-fragmented frame, use `newframe = frame.copy()`\n",
      "  df[ohe.get_feature_names_out()] = ohe_transformed\n",
      "C:\\Users\\Professional\\AppData\\Local\\Temp\\ipykernel_7676\\2220107148.py:2: PerformanceWarning: DataFrame is highly fragmented.  This is usually the result of calling `frame.insert` many times, which has poor performance.  Consider joining all columns at once using pd.concat(axis=1) instead. To get a de-fragmented frame, use `newframe = frame.copy()`\n",
      "  df[ohe.get_feature_names_out()] = ohe_transformed\n",
      "C:\\Users\\Professional\\AppData\\Local\\Temp\\ipykernel_7676\\2220107148.py:2: PerformanceWarning: DataFrame is highly fragmented.  This is usually the result of calling `frame.insert` many times, which has poor performance.  Consider joining all columns at once using pd.concat(axis=1) instead. To get a de-fragmented frame, use `newframe = frame.copy()`\n",
      "  df[ohe.get_feature_names_out()] = ohe_transformed\n",
      "C:\\Users\\Professional\\AppData\\Local\\Temp\\ipykernel_7676\\2220107148.py:2: PerformanceWarning: DataFrame is highly fragmented.  This is usually the result of calling `frame.insert` many times, which has poor performance.  Consider joining all columns at once using pd.concat(axis=1) instead. To get a de-fragmented frame, use `newframe = frame.copy()`\n",
      "  df[ohe.get_feature_names_out()] = ohe_transformed\n",
      "C:\\Users\\Professional\\AppData\\Local\\Temp\\ipykernel_7676\\2220107148.py:2: PerformanceWarning: DataFrame is highly fragmented.  This is usually the result of calling `frame.insert` many times, which has poor performance.  Consider joining all columns at once using pd.concat(axis=1) instead. To get a de-fragmented frame, use `newframe = frame.copy()`\n",
      "  df[ohe.get_feature_names_out()] = ohe_transformed\n",
      "C:\\Users\\Professional\\AppData\\Local\\Temp\\ipykernel_7676\\2220107148.py:2: PerformanceWarning: DataFrame is highly fragmented.  This is usually the result of calling `frame.insert` many times, which has poor performance.  Consider joining all columns at once using pd.concat(axis=1) instead. To get a de-fragmented frame, use `newframe = frame.copy()`\n",
      "  df[ohe.get_feature_names_out()] = ohe_transformed\n",
      "C:\\Users\\Professional\\AppData\\Local\\Temp\\ipykernel_7676\\2220107148.py:2: PerformanceWarning: DataFrame is highly fragmented.  This is usually the result of calling `frame.insert` many times, which has poor performance.  Consider joining all columns at once using pd.concat(axis=1) instead. To get a de-fragmented frame, use `newframe = frame.copy()`\n",
      "  df[ohe.get_feature_names_out()] = ohe_transformed\n",
      "C:\\Users\\Professional\\AppData\\Local\\Temp\\ipykernel_7676\\2220107148.py:2: PerformanceWarning: DataFrame is highly fragmented.  This is usually the result of calling `frame.insert` many times, which has poor performance.  Consider joining all columns at once using pd.concat(axis=1) instead. To get a de-fragmented frame, use `newframe = frame.copy()`\n",
      "  df[ohe.get_feature_names_out()] = ohe_transformed\n",
      "C:\\Users\\Professional\\AppData\\Local\\Temp\\ipykernel_7676\\2220107148.py:2: PerformanceWarning: DataFrame is highly fragmented.  This is usually the result of calling `frame.insert` many times, which has poor performance.  Consider joining all columns at once using pd.concat(axis=1) instead. To get a de-fragmented frame, use `newframe = frame.copy()`\n",
      "  df[ohe.get_feature_names_out()] = ohe_transformed\n",
      "C:\\Users\\Professional\\AppData\\Local\\Temp\\ipykernel_7676\\2220107148.py:2: PerformanceWarning: DataFrame is highly fragmented.  This is usually the result of calling `frame.insert` many times, which has poor performance.  Consider joining all columns at once using pd.concat(axis=1) instead. To get a de-fragmented frame, use `newframe = frame.copy()`\n",
      "  df[ohe.get_feature_names_out()] = ohe_transformed\n",
      "C:\\Users\\Professional\\AppData\\Local\\Temp\\ipykernel_7676\\2220107148.py:2: PerformanceWarning: DataFrame is highly fragmented.  This is usually the result of calling `frame.insert` many times, which has poor performance.  Consider joining all columns at once using pd.concat(axis=1) instead. To get a de-fragmented frame, use `newframe = frame.copy()`\n",
      "  df[ohe.get_feature_names_out()] = ohe_transformed\n",
      "C:\\Users\\Professional\\AppData\\Local\\Temp\\ipykernel_7676\\2220107148.py:2: PerformanceWarning: DataFrame is highly fragmented.  This is usually the result of calling `frame.insert` many times, which has poor performance.  Consider joining all columns at once using pd.concat(axis=1) instead. To get a de-fragmented frame, use `newframe = frame.copy()`\n",
      "  df[ohe.get_feature_names_out()] = ohe_transformed\n",
      "C:\\Users\\Professional\\AppData\\Local\\Temp\\ipykernel_7676\\2220107148.py:2: PerformanceWarning: DataFrame is highly fragmented.  This is usually the result of calling `frame.insert` many times, which has poor performance.  Consider joining all columns at once using pd.concat(axis=1) instead. To get a de-fragmented frame, use `newframe = frame.copy()`\n",
      "  df[ohe.get_feature_names_out()] = ohe_transformed\n",
      "C:\\Users\\Professional\\AppData\\Local\\Temp\\ipykernel_7676\\2220107148.py:2: PerformanceWarning: DataFrame is highly fragmented.  This is usually the result of calling `frame.insert` many times, which has poor performance.  Consider joining all columns at once using pd.concat(axis=1) instead. To get a de-fragmented frame, use `newframe = frame.copy()`\n",
      "  df[ohe.get_feature_names_out()] = ohe_transformed\n",
      "C:\\Users\\Professional\\AppData\\Local\\Temp\\ipykernel_7676\\2220107148.py:2: PerformanceWarning: DataFrame is highly fragmented.  This is usually the result of calling `frame.insert` many times, which has poor performance.  Consider joining all columns at once using pd.concat(axis=1) instead. To get a de-fragmented frame, use `newframe = frame.copy()`\n",
      "  df[ohe.get_feature_names_out()] = ohe_transformed\n",
      "C:\\Users\\Professional\\AppData\\Local\\Temp\\ipykernel_7676\\2220107148.py:2: PerformanceWarning: DataFrame is highly fragmented.  This is usually the result of calling `frame.insert` many times, which has poor performance.  Consider joining all columns at once using pd.concat(axis=1) instead. To get a de-fragmented frame, use `newframe = frame.copy()`\n",
      "  df[ohe.get_feature_names_out()] = ohe_transformed\n",
      "C:\\Users\\Professional\\AppData\\Local\\Temp\\ipykernel_7676\\2220107148.py:2: PerformanceWarning: DataFrame is highly fragmented.  This is usually the result of calling `frame.insert` many times, which has poor performance.  Consider joining all columns at once using pd.concat(axis=1) instead. To get a de-fragmented frame, use `newframe = frame.copy()`\n",
      "  df[ohe.get_feature_names_out()] = ohe_transformed\n",
      "C:\\Users\\Professional\\AppData\\Local\\Temp\\ipykernel_7676\\2220107148.py:2: PerformanceWarning: DataFrame is highly fragmented.  This is usually the result of calling `frame.insert` many times, which has poor performance.  Consider joining all columns at once using pd.concat(axis=1) instead. To get a de-fragmented frame, use `newframe = frame.copy()`\n",
      "  df[ohe.get_feature_names_out()] = ohe_transformed\n",
      "C:\\Users\\Professional\\AppData\\Local\\Temp\\ipykernel_7676\\2220107148.py:2: PerformanceWarning: DataFrame is highly fragmented.  This is usually the result of calling `frame.insert` many times, which has poor performance.  Consider joining all columns at once using pd.concat(axis=1) instead. To get a de-fragmented frame, use `newframe = frame.copy()`\n",
      "  df[ohe.get_feature_names_out()] = ohe_transformed\n",
      "C:\\Users\\Professional\\AppData\\Local\\Temp\\ipykernel_7676\\2220107148.py:2: PerformanceWarning: DataFrame is highly fragmented.  This is usually the result of calling `frame.insert` many times, which has poor performance.  Consider joining all columns at once using pd.concat(axis=1) instead. To get a de-fragmented frame, use `newframe = frame.copy()`\n",
      "  df[ohe.get_feature_names_out()] = ohe_transformed\n",
      "C:\\Users\\Professional\\AppData\\Local\\Temp\\ipykernel_7676\\2220107148.py:2: PerformanceWarning: DataFrame is highly fragmented.  This is usually the result of calling `frame.insert` many times, which has poor performance.  Consider joining all columns at once using pd.concat(axis=1) instead. To get a de-fragmented frame, use `newframe = frame.copy()`\n",
      "  df[ohe.get_feature_names_out()] = ohe_transformed\n",
      "C:\\Users\\Professional\\AppData\\Local\\Temp\\ipykernel_7676\\2220107148.py:2: PerformanceWarning: DataFrame is highly fragmented.  This is usually the result of calling `frame.insert` many times, which has poor performance.  Consider joining all columns at once using pd.concat(axis=1) instead. To get a de-fragmented frame, use `newframe = frame.copy()`\n",
      "  df[ohe.get_feature_names_out()] = ohe_transformed\n",
      "C:\\Users\\Professional\\AppData\\Local\\Temp\\ipykernel_7676\\2220107148.py:2: PerformanceWarning: DataFrame is highly fragmented.  This is usually the result of calling `frame.insert` many times, which has poor performance.  Consider joining all columns at once using pd.concat(axis=1) instead. To get a de-fragmented frame, use `newframe = frame.copy()`\n",
      "  df[ohe.get_feature_names_out()] = ohe_transformed\n",
      "C:\\Users\\Professional\\AppData\\Local\\Temp\\ipykernel_7676\\2220107148.py:2: PerformanceWarning: DataFrame is highly fragmented.  This is usually the result of calling `frame.insert` many times, which has poor performance.  Consider joining all columns at once using pd.concat(axis=1) instead. To get a de-fragmented frame, use `newframe = frame.copy()`\n",
      "  df[ohe.get_feature_names_out()] = ohe_transformed\n",
      "C:\\Users\\Professional\\AppData\\Local\\Temp\\ipykernel_7676\\2220107148.py:2: PerformanceWarning: DataFrame is highly fragmented.  This is usually the result of calling `frame.insert` many times, which has poor performance.  Consider joining all columns at once using pd.concat(axis=1) instead. To get a de-fragmented frame, use `newframe = frame.copy()`\n",
      "  df[ohe.get_feature_names_out()] = ohe_transformed\n",
      "C:\\Users\\Professional\\AppData\\Local\\Temp\\ipykernel_7676\\2220107148.py:2: PerformanceWarning: DataFrame is highly fragmented.  This is usually the result of calling `frame.insert` many times, which has poor performance.  Consider joining all columns at once using pd.concat(axis=1) instead. To get a de-fragmented frame, use `newframe = frame.copy()`\n",
      "  df[ohe.get_feature_names_out()] = ohe_transformed\n",
      "C:\\Users\\Professional\\AppData\\Local\\Temp\\ipykernel_7676\\2220107148.py:2: PerformanceWarning: DataFrame is highly fragmented.  This is usually the result of calling `frame.insert` many times, which has poor performance.  Consider joining all columns at once using pd.concat(axis=1) instead. To get a de-fragmented frame, use `newframe = frame.copy()`\n",
      "  df[ohe.get_feature_names_out()] = ohe_transformed\n",
      "C:\\Users\\Professional\\AppData\\Local\\Temp\\ipykernel_7676\\2220107148.py:2: PerformanceWarning: DataFrame is highly fragmented.  This is usually the result of calling `frame.insert` many times, which has poor performance.  Consider joining all columns at once using pd.concat(axis=1) instead. To get a de-fragmented frame, use `newframe = frame.copy()`\n",
      "  df[ohe.get_feature_names_out()] = ohe_transformed\n",
      "C:\\Users\\Professional\\AppData\\Local\\Temp\\ipykernel_7676\\2220107148.py:2: PerformanceWarning: DataFrame is highly fragmented.  This is usually the result of calling `frame.insert` many times, which has poor performance.  Consider joining all columns at once using pd.concat(axis=1) instead. To get a de-fragmented frame, use `newframe = frame.copy()`\n",
      "  df[ohe.get_feature_names_out()] = ohe_transformed\n",
      "C:\\Users\\Professional\\AppData\\Local\\Temp\\ipykernel_7676\\2220107148.py:2: PerformanceWarning: DataFrame is highly fragmented.  This is usually the result of calling `frame.insert` many times, which has poor performance.  Consider joining all columns at once using pd.concat(axis=1) instead. To get a de-fragmented frame, use `newframe = frame.copy()`\n",
      "  df[ohe.get_feature_names_out()] = ohe_transformed\n",
      "C:\\Users\\Professional\\AppData\\Local\\Temp\\ipykernel_7676\\2220107148.py:2: PerformanceWarning: DataFrame is highly fragmented.  This is usually the result of calling `frame.insert` many times, which has poor performance.  Consider joining all columns at once using pd.concat(axis=1) instead. To get a de-fragmented frame, use `newframe = frame.copy()`\n",
      "  df[ohe.get_feature_names_out()] = ohe_transformed\n",
      "C:\\Users\\Professional\\AppData\\Local\\Temp\\ipykernel_7676\\2220107148.py:2: PerformanceWarning: DataFrame is highly fragmented.  This is usually the result of calling `frame.insert` many times, which has poor performance.  Consider joining all columns at once using pd.concat(axis=1) instead. To get a de-fragmented frame, use `newframe = frame.copy()`\n",
      "  df[ohe.get_feature_names_out()] = ohe_transformed\n",
      "C:\\Users\\Professional\\AppData\\Local\\Temp\\ipykernel_7676\\2220107148.py:2: PerformanceWarning: DataFrame is highly fragmented.  This is usually the result of calling `frame.insert` many times, which has poor performance.  Consider joining all columns at once using pd.concat(axis=1) instead. To get a de-fragmented frame, use `newframe = frame.copy()`\n",
      "  df[ohe.get_feature_names_out()] = ohe_transformed\n",
      "C:\\Users\\Professional\\AppData\\Local\\Temp\\ipykernel_7676\\2220107148.py:2: PerformanceWarning: DataFrame is highly fragmented.  This is usually the result of calling `frame.insert` many times, which has poor performance.  Consider joining all columns at once using pd.concat(axis=1) instead. To get a de-fragmented frame, use `newframe = frame.copy()`\n",
      "  df[ohe.get_feature_names_out()] = ohe_transformed\n",
      "C:\\Users\\Professional\\AppData\\Local\\Temp\\ipykernel_7676\\2220107148.py:2: PerformanceWarning: DataFrame is highly fragmented.  This is usually the result of calling `frame.insert` many times, which has poor performance.  Consider joining all columns at once using pd.concat(axis=1) instead. To get a de-fragmented frame, use `newframe = frame.copy()`\n",
      "  df[ohe.get_feature_names_out()] = ohe_transformed\n",
      "C:\\Users\\Professional\\AppData\\Local\\Temp\\ipykernel_7676\\2220107148.py:2: PerformanceWarning: DataFrame is highly fragmented.  This is usually the result of calling `frame.insert` many times, which has poor performance.  Consider joining all columns at once using pd.concat(axis=1) instead. To get a de-fragmented frame, use `newframe = frame.copy()`\n",
      "  df[ohe.get_feature_names_out()] = ohe_transformed\n",
      "C:\\Users\\Professional\\AppData\\Local\\Temp\\ipykernel_7676\\2220107148.py:2: PerformanceWarning: DataFrame is highly fragmented.  This is usually the result of calling `frame.insert` many times, which has poor performance.  Consider joining all columns at once using pd.concat(axis=1) instead. To get a de-fragmented frame, use `newframe = frame.copy()`\n",
      "  df[ohe.get_feature_names_out()] = ohe_transformed\n",
      "C:\\Users\\Professional\\AppData\\Local\\Temp\\ipykernel_7676\\2220107148.py:2: PerformanceWarning: DataFrame is highly fragmented.  This is usually the result of calling `frame.insert` many times, which has poor performance.  Consider joining all columns at once using pd.concat(axis=1) instead. To get a de-fragmented frame, use `newframe = frame.copy()`\n",
      "  df[ohe.get_feature_names_out()] = ohe_transformed\n",
      "C:\\Users\\Professional\\AppData\\Local\\Temp\\ipykernel_7676\\2220107148.py:2: PerformanceWarning: DataFrame is highly fragmented.  This is usually the result of calling `frame.insert` many times, which has poor performance.  Consider joining all columns at once using pd.concat(axis=1) instead. To get a de-fragmented frame, use `newframe = frame.copy()`\n",
      "  df[ohe.get_feature_names_out()] = ohe_transformed\n",
      "C:\\Users\\Professional\\AppData\\Local\\Temp\\ipykernel_7676\\2220107148.py:2: PerformanceWarning: DataFrame is highly fragmented.  This is usually the result of calling `frame.insert` many times, which has poor performance.  Consider joining all columns at once using pd.concat(axis=1) instead. To get a de-fragmented frame, use `newframe = frame.copy()`\n",
      "  df[ohe.get_feature_names_out()] = ohe_transformed\n",
      "C:\\Users\\Professional\\AppData\\Local\\Temp\\ipykernel_7676\\2220107148.py:2: PerformanceWarning: DataFrame is highly fragmented.  This is usually the result of calling `frame.insert` many times, which has poor performance.  Consider joining all columns at once using pd.concat(axis=1) instead. To get a de-fragmented frame, use `newframe = frame.copy()`\n",
      "  df[ohe.get_feature_names_out()] = ohe_transformed\n",
      "C:\\Users\\Professional\\AppData\\Local\\Temp\\ipykernel_7676\\2220107148.py:2: PerformanceWarning: DataFrame is highly fragmented.  This is usually the result of calling `frame.insert` many times, which has poor performance.  Consider joining all columns at once using pd.concat(axis=1) instead. To get a de-fragmented frame, use `newframe = frame.copy()`\n",
      "  df[ohe.get_feature_names_out()] = ohe_transformed\n",
      "C:\\Users\\Professional\\AppData\\Local\\Temp\\ipykernel_7676\\2220107148.py:2: PerformanceWarning: DataFrame is highly fragmented.  This is usually the result of calling `frame.insert` many times, which has poor performance.  Consider joining all columns at once using pd.concat(axis=1) instead. To get a de-fragmented frame, use `newframe = frame.copy()`\n",
      "  df[ohe.get_feature_names_out()] = ohe_transformed\n",
      "C:\\Users\\Professional\\AppData\\Local\\Temp\\ipykernel_7676\\2220107148.py:2: PerformanceWarning: DataFrame is highly fragmented.  This is usually the result of calling `frame.insert` many times, which has poor performance.  Consider joining all columns at once using pd.concat(axis=1) instead. To get a de-fragmented frame, use `newframe = frame.copy()`\n",
      "  df[ohe.get_feature_names_out()] = ohe_transformed\n",
      "C:\\Users\\Professional\\AppData\\Local\\Temp\\ipykernel_7676\\2220107148.py:2: PerformanceWarning: DataFrame is highly fragmented.  This is usually the result of calling `frame.insert` many times, which has poor performance.  Consider joining all columns at once using pd.concat(axis=1) instead. To get a de-fragmented frame, use `newframe = frame.copy()`\n",
      "  df[ohe.get_feature_names_out()] = ohe_transformed\n",
      "C:\\Users\\Professional\\AppData\\Local\\Temp\\ipykernel_7676\\2220107148.py:2: PerformanceWarning: DataFrame is highly fragmented.  This is usually the result of calling `frame.insert` many times, which has poor performance.  Consider joining all columns at once using pd.concat(axis=1) instead. To get a de-fragmented frame, use `newframe = frame.copy()`\n",
      "  df[ohe.get_feature_names_out()] = ohe_transformed\n",
      "C:\\Users\\Professional\\AppData\\Local\\Temp\\ipykernel_7676\\2220107148.py:2: PerformanceWarning: DataFrame is highly fragmented.  This is usually the result of calling `frame.insert` many times, which has poor performance.  Consider joining all columns at once using pd.concat(axis=1) instead. To get a de-fragmented frame, use `newframe = frame.copy()`\n",
      "  df[ohe.get_feature_names_out()] = ohe_transformed\n",
      "C:\\Users\\Professional\\AppData\\Local\\Temp\\ipykernel_7676\\2220107148.py:2: PerformanceWarning: DataFrame is highly fragmented.  This is usually the result of calling `frame.insert` many times, which has poor performance.  Consider joining all columns at once using pd.concat(axis=1) instead. To get a de-fragmented frame, use `newframe = frame.copy()`\n",
      "  df[ohe.get_feature_names_out()] = ohe_transformed\n",
      "C:\\Users\\Professional\\AppData\\Local\\Temp\\ipykernel_7676\\2220107148.py:2: PerformanceWarning: DataFrame is highly fragmented.  This is usually the result of calling `frame.insert` many times, which has poor performance.  Consider joining all columns at once using pd.concat(axis=1) instead. To get a de-fragmented frame, use `newframe = frame.copy()`\n",
      "  df[ohe.get_feature_names_out()] = ohe_transformed\n",
      "C:\\Users\\Professional\\AppData\\Local\\Temp\\ipykernel_7676\\2220107148.py:2: PerformanceWarning: DataFrame is highly fragmented.  This is usually the result of calling `frame.insert` many times, which has poor performance.  Consider joining all columns at once using pd.concat(axis=1) instead. To get a de-fragmented frame, use `newframe = frame.copy()`\n",
      "  df[ohe.get_feature_names_out()] = ohe_transformed\n",
      "C:\\Users\\Professional\\AppData\\Local\\Temp\\ipykernel_7676\\2220107148.py:2: PerformanceWarning: DataFrame is highly fragmented.  This is usually the result of calling `frame.insert` many times, which has poor performance.  Consider joining all columns at once using pd.concat(axis=1) instead. To get a de-fragmented frame, use `newframe = frame.copy()`\n",
      "  df[ohe.get_feature_names_out()] = ohe_transformed\n",
      "C:\\Users\\Professional\\AppData\\Local\\Temp\\ipykernel_7676\\2220107148.py:2: PerformanceWarning: DataFrame is highly fragmented.  This is usually the result of calling `frame.insert` many times, which has poor performance.  Consider joining all columns at once using pd.concat(axis=1) instead. To get a de-fragmented frame, use `newframe = frame.copy()`\n",
      "  df[ohe.get_feature_names_out()] = ohe_transformed\n",
      "C:\\Users\\Professional\\AppData\\Local\\Temp\\ipykernel_7676\\2220107148.py:2: PerformanceWarning: DataFrame is highly fragmented.  This is usually the result of calling `frame.insert` many times, which has poor performance.  Consider joining all columns at once using pd.concat(axis=1) instead. To get a de-fragmented frame, use `newframe = frame.copy()`\n",
      "  df[ohe.get_feature_names_out()] = ohe_transformed\n",
      "C:\\Users\\Professional\\AppData\\Local\\Temp\\ipykernel_7676\\2220107148.py:2: PerformanceWarning: DataFrame is highly fragmented.  This is usually the result of calling `frame.insert` many times, which has poor performance.  Consider joining all columns at once using pd.concat(axis=1) instead. To get a de-fragmented frame, use `newframe = frame.copy()`\n",
      "  df[ohe.get_feature_names_out()] = ohe_transformed\n",
      "C:\\Users\\Professional\\AppData\\Local\\Temp\\ipykernel_7676\\2220107148.py:2: PerformanceWarning: DataFrame is highly fragmented.  This is usually the result of calling `frame.insert` many times, which has poor performance.  Consider joining all columns at once using pd.concat(axis=1) instead. To get a de-fragmented frame, use `newframe = frame.copy()`\n",
      "  df[ohe.get_feature_names_out()] = ohe_transformed\n",
      "C:\\Users\\Professional\\AppData\\Local\\Temp\\ipykernel_7676\\2220107148.py:2: PerformanceWarning: DataFrame is highly fragmented.  This is usually the result of calling `frame.insert` many times, which has poor performance.  Consider joining all columns at once using pd.concat(axis=1) instead. To get a de-fragmented frame, use `newframe = frame.copy()`\n",
      "  df[ohe.get_feature_names_out()] = ohe_transformed\n",
      "C:\\Users\\Professional\\AppData\\Local\\Temp\\ipykernel_7676\\2220107148.py:2: PerformanceWarning: DataFrame is highly fragmented.  This is usually the result of calling `frame.insert` many times, which has poor performance.  Consider joining all columns at once using pd.concat(axis=1) instead. To get a de-fragmented frame, use `newframe = frame.copy()`\n",
      "  df[ohe.get_feature_names_out()] = ohe_transformed\n",
      "C:\\Users\\Professional\\AppData\\Local\\Temp\\ipykernel_7676\\2220107148.py:2: PerformanceWarning: DataFrame is highly fragmented.  This is usually the result of calling `frame.insert` many times, which has poor performance.  Consider joining all columns at once using pd.concat(axis=1) instead. To get a de-fragmented frame, use `newframe = frame.copy()`\n",
      "  df[ohe.get_feature_names_out()] = ohe_transformed\n",
      "C:\\Users\\Professional\\AppData\\Local\\Temp\\ipykernel_7676\\2220107148.py:2: PerformanceWarning: DataFrame is highly fragmented.  This is usually the result of calling `frame.insert` many times, which has poor performance.  Consider joining all columns at once using pd.concat(axis=1) instead. To get a de-fragmented frame, use `newframe = frame.copy()`\n",
      "  df[ohe.get_feature_names_out()] = ohe_transformed\n",
      "C:\\Users\\Professional\\AppData\\Local\\Temp\\ipykernel_7676\\2220107148.py:2: PerformanceWarning: DataFrame is highly fragmented.  This is usually the result of calling `frame.insert` many times, which has poor performance.  Consider joining all columns at once using pd.concat(axis=1) instead. To get a de-fragmented frame, use `newframe = frame.copy()`\n",
      "  df[ohe.get_feature_names_out()] = ohe_transformed\n",
      "C:\\Users\\Professional\\AppData\\Local\\Temp\\ipykernel_7676\\2220107148.py:2: PerformanceWarning: DataFrame is highly fragmented.  This is usually the result of calling `frame.insert` many times, which has poor performance.  Consider joining all columns at once using pd.concat(axis=1) instead. To get a de-fragmented frame, use `newframe = frame.copy()`\n",
      "  df[ohe.get_feature_names_out()] = ohe_transformed\n",
      "C:\\Users\\Professional\\AppData\\Local\\Temp\\ipykernel_7676\\2220107148.py:2: PerformanceWarning: DataFrame is highly fragmented.  This is usually the result of calling `frame.insert` many times, which has poor performance.  Consider joining all columns at once using pd.concat(axis=1) instead. To get a de-fragmented frame, use `newframe = frame.copy()`\n",
      "  df[ohe.get_feature_names_out()] = ohe_transformed\n",
      "C:\\Users\\Professional\\AppData\\Local\\Temp\\ipykernel_7676\\2220107148.py:2: PerformanceWarning: DataFrame is highly fragmented.  This is usually the result of calling `frame.insert` many times, which has poor performance.  Consider joining all columns at once using pd.concat(axis=1) instead. To get a de-fragmented frame, use `newframe = frame.copy()`\n",
      "  df[ohe.get_feature_names_out()] = ohe_transformed\n",
      "C:\\Users\\Professional\\AppData\\Local\\Temp\\ipykernel_7676\\2220107148.py:2: PerformanceWarning: DataFrame is highly fragmented.  This is usually the result of calling `frame.insert` many times, which has poor performance.  Consider joining all columns at once using pd.concat(axis=1) instead. To get a de-fragmented frame, use `newframe = frame.copy()`\n",
      "  df[ohe.get_feature_names_out()] = ohe_transformed\n",
      "C:\\Users\\Professional\\AppData\\Local\\Temp\\ipykernel_7676\\2220107148.py:2: PerformanceWarning: DataFrame is highly fragmented.  This is usually the result of calling `frame.insert` many times, which has poor performance.  Consider joining all columns at once using pd.concat(axis=1) instead. To get a de-fragmented frame, use `newframe = frame.copy()`\n",
      "  df[ohe.get_feature_names_out()] = ohe_transformed\n",
      "C:\\Users\\Professional\\AppData\\Local\\Temp\\ipykernel_7676\\2220107148.py:2: PerformanceWarning: DataFrame is highly fragmented.  This is usually the result of calling `frame.insert` many times, which has poor performance.  Consider joining all columns at once using pd.concat(axis=1) instead. To get a de-fragmented frame, use `newframe = frame.copy()`\n",
      "  df[ohe.get_feature_names_out()] = ohe_transformed\n",
      "C:\\Users\\Professional\\AppData\\Local\\Temp\\ipykernel_7676\\2220107148.py:2: PerformanceWarning: DataFrame is highly fragmented.  This is usually the result of calling `frame.insert` many times, which has poor performance.  Consider joining all columns at once using pd.concat(axis=1) instead. To get a de-fragmented frame, use `newframe = frame.copy()`\n",
      "  df[ohe.get_feature_names_out()] = ohe_transformed\n",
      "C:\\Users\\Professional\\AppData\\Local\\Temp\\ipykernel_7676\\2220107148.py:2: PerformanceWarning: DataFrame is highly fragmented.  This is usually the result of calling `frame.insert` many times, which has poor performance.  Consider joining all columns at once using pd.concat(axis=1) instead. To get a de-fragmented frame, use `newframe = frame.copy()`\n",
      "  df[ohe.get_feature_names_out()] = ohe_transformed\n",
      "C:\\Users\\Professional\\AppData\\Local\\Temp\\ipykernel_7676\\2220107148.py:2: PerformanceWarning: DataFrame is highly fragmented.  This is usually the result of calling `frame.insert` many times, which has poor performance.  Consider joining all columns at once using pd.concat(axis=1) instead. To get a de-fragmented frame, use `newframe = frame.copy()`\n",
      "  df[ohe.get_feature_names_out()] = ohe_transformed\n",
      "C:\\Users\\Professional\\AppData\\Local\\Temp\\ipykernel_7676\\2220107148.py:2: PerformanceWarning: DataFrame is highly fragmented.  This is usually the result of calling `frame.insert` many times, which has poor performance.  Consider joining all columns at once using pd.concat(axis=1) instead. To get a de-fragmented frame, use `newframe = frame.copy()`\n",
      "  df[ohe.get_feature_names_out()] = ohe_transformed\n",
      "C:\\Users\\Professional\\AppData\\Local\\Temp\\ipykernel_7676\\2220107148.py:2: PerformanceWarning: DataFrame is highly fragmented.  This is usually the result of calling `frame.insert` many times, which has poor performance.  Consider joining all columns at once using pd.concat(axis=1) instead. To get a de-fragmented frame, use `newframe = frame.copy()`\n",
      "  df[ohe.get_feature_names_out()] = ohe_transformed\n",
      "C:\\Users\\Professional\\AppData\\Local\\Temp\\ipykernel_7676\\2220107148.py:2: PerformanceWarning: DataFrame is highly fragmented.  This is usually the result of calling `frame.insert` many times, which has poor performance.  Consider joining all columns at once using pd.concat(axis=1) instead. To get a de-fragmented frame, use `newframe = frame.copy()`\n",
      "  df[ohe.get_feature_names_out()] = ohe_transformed\n",
      "C:\\Users\\Professional\\AppData\\Local\\Temp\\ipykernel_7676\\2220107148.py:2: PerformanceWarning: DataFrame is highly fragmented.  This is usually the result of calling `frame.insert` many times, which has poor performance.  Consider joining all columns at once using pd.concat(axis=1) instead. To get a de-fragmented frame, use `newframe = frame.copy()`\n",
      "  df[ohe.get_feature_names_out()] = ohe_transformed\n",
      "C:\\Users\\Professional\\AppData\\Local\\Temp\\ipykernel_7676\\2220107148.py:2: PerformanceWarning: DataFrame is highly fragmented.  This is usually the result of calling `frame.insert` many times, which has poor performance.  Consider joining all columns at once using pd.concat(axis=1) instead. To get a de-fragmented frame, use `newframe = frame.copy()`\n",
      "  df[ohe.get_feature_names_out()] = ohe_transformed\n",
      "C:\\Users\\Professional\\AppData\\Local\\Temp\\ipykernel_7676\\2220107148.py:2: PerformanceWarning: DataFrame is highly fragmented.  This is usually the result of calling `frame.insert` many times, which has poor performance.  Consider joining all columns at once using pd.concat(axis=1) instead. To get a de-fragmented frame, use `newframe = frame.copy()`\n",
      "  df[ohe.get_feature_names_out()] = ohe_transformed\n",
      "C:\\Users\\Professional\\AppData\\Local\\Temp\\ipykernel_7676\\2220107148.py:2: PerformanceWarning: DataFrame is highly fragmented.  This is usually the result of calling `frame.insert` many times, which has poor performance.  Consider joining all columns at once using pd.concat(axis=1) instead. To get a de-fragmented frame, use `newframe = frame.copy()`\n",
      "  df[ohe.get_feature_names_out()] = ohe_transformed\n",
      "C:\\Users\\Professional\\AppData\\Local\\Temp\\ipykernel_7676\\2220107148.py:2: PerformanceWarning: DataFrame is highly fragmented.  This is usually the result of calling `frame.insert` many times, which has poor performance.  Consider joining all columns at once using pd.concat(axis=1) instead. To get a de-fragmented frame, use `newframe = frame.copy()`\n",
      "  df[ohe.get_feature_names_out()] = ohe_transformed\n",
      "C:\\Users\\Professional\\AppData\\Local\\Temp\\ipykernel_7676\\2220107148.py:2: PerformanceWarning: DataFrame is highly fragmented.  This is usually the result of calling `frame.insert` many times, which has poor performance.  Consider joining all columns at once using pd.concat(axis=1) instead. To get a de-fragmented frame, use `newframe = frame.copy()`\n",
      "  df[ohe.get_feature_names_out()] = ohe_transformed\n",
      "C:\\Users\\Professional\\AppData\\Local\\Temp\\ipykernel_7676\\2220107148.py:2: PerformanceWarning: DataFrame is highly fragmented.  This is usually the result of calling `frame.insert` many times, which has poor performance.  Consider joining all columns at once using pd.concat(axis=1) instead. To get a de-fragmented frame, use `newframe = frame.copy()`\n",
      "  df[ohe.get_feature_names_out()] = ohe_transformed\n",
      "C:\\Users\\Professional\\AppData\\Local\\Temp\\ipykernel_7676\\2220107148.py:2: PerformanceWarning: DataFrame is highly fragmented.  This is usually the result of calling `frame.insert` many times, which has poor performance.  Consider joining all columns at once using pd.concat(axis=1) instead. To get a de-fragmented frame, use `newframe = frame.copy()`\n",
      "  df[ohe.get_feature_names_out()] = ohe_transformed\n",
      "C:\\Users\\Professional\\AppData\\Local\\Temp\\ipykernel_7676\\2220107148.py:2: PerformanceWarning: DataFrame is highly fragmented.  This is usually the result of calling `frame.insert` many times, which has poor performance.  Consider joining all columns at once using pd.concat(axis=1) instead. To get a de-fragmented frame, use `newframe = frame.copy()`\n",
      "  df[ohe.get_feature_names_out()] = ohe_transformed\n",
      "C:\\Users\\Professional\\AppData\\Local\\Temp\\ipykernel_7676\\2220107148.py:2: PerformanceWarning: DataFrame is highly fragmented.  This is usually the result of calling `frame.insert` many times, which has poor performance.  Consider joining all columns at once using pd.concat(axis=1) instead. To get a de-fragmented frame, use `newframe = frame.copy()`\n",
      "  df[ohe.get_feature_names_out()] = ohe_transformed\n",
      "C:\\Users\\Professional\\AppData\\Local\\Temp\\ipykernel_7676\\2220107148.py:2: PerformanceWarning: DataFrame is highly fragmented.  This is usually the result of calling `frame.insert` many times, which has poor performance.  Consider joining all columns at once using pd.concat(axis=1) instead. To get a de-fragmented frame, use `newframe = frame.copy()`\n",
      "  df[ohe.get_feature_names_out()] = ohe_transformed\n",
      "C:\\Users\\Professional\\AppData\\Local\\Temp\\ipykernel_7676\\2220107148.py:2: PerformanceWarning: DataFrame is highly fragmented.  This is usually the result of calling `frame.insert` many times, which has poor performance.  Consider joining all columns at once using pd.concat(axis=1) instead. To get a de-fragmented frame, use `newframe = frame.copy()`\n",
      "  df[ohe.get_feature_names_out()] = ohe_transformed\n",
      "C:\\Users\\Professional\\AppData\\Local\\Temp\\ipykernel_7676\\2220107148.py:2: PerformanceWarning: DataFrame is highly fragmented.  This is usually the result of calling `frame.insert` many times, which has poor performance.  Consider joining all columns at once using pd.concat(axis=1) instead. To get a de-fragmented frame, use `newframe = frame.copy()`\n",
      "  df[ohe.get_feature_names_out()] = ohe_transformed\n",
      "C:\\Users\\Professional\\AppData\\Local\\Temp\\ipykernel_7676\\2220107148.py:2: PerformanceWarning: DataFrame is highly fragmented.  This is usually the result of calling `frame.insert` many times, which has poor performance.  Consider joining all columns at once using pd.concat(axis=1) instead. To get a de-fragmented frame, use `newframe = frame.copy()`\n",
      "  df[ohe.get_feature_names_out()] = ohe_transformed\n",
      "C:\\Users\\Professional\\AppData\\Local\\Temp\\ipykernel_7676\\2220107148.py:2: PerformanceWarning: DataFrame is highly fragmented.  This is usually the result of calling `frame.insert` many times, which has poor performance.  Consider joining all columns at once using pd.concat(axis=1) instead. To get a de-fragmented frame, use `newframe = frame.copy()`\n",
      "  df[ohe.get_feature_names_out()] = ohe_transformed\n",
      "C:\\Users\\Professional\\AppData\\Local\\Temp\\ipykernel_7676\\2220107148.py:2: PerformanceWarning: DataFrame is highly fragmented.  This is usually the result of calling `frame.insert` many times, which has poor performance.  Consider joining all columns at once using pd.concat(axis=1) instead. To get a de-fragmented frame, use `newframe = frame.copy()`\n",
      "  df[ohe.get_feature_names_out()] = ohe_transformed\n",
      "C:\\Users\\Professional\\AppData\\Local\\Temp\\ipykernel_7676\\2220107148.py:2: PerformanceWarning: DataFrame is highly fragmented.  This is usually the result of calling `frame.insert` many times, which has poor performance.  Consider joining all columns at once using pd.concat(axis=1) instead. To get a de-fragmented frame, use `newframe = frame.copy()`\n",
      "  df[ohe.get_feature_names_out()] = ohe_transformed\n",
      "C:\\Users\\Professional\\AppData\\Local\\Temp\\ipykernel_7676\\2220107148.py:2: PerformanceWarning: DataFrame is highly fragmented.  This is usually the result of calling `frame.insert` many times, which has poor performance.  Consider joining all columns at once using pd.concat(axis=1) instead. To get a de-fragmented frame, use `newframe = frame.copy()`\n",
      "  df[ohe.get_feature_names_out()] = ohe_transformed\n",
      "C:\\Users\\Professional\\AppData\\Local\\Temp\\ipykernel_7676\\2220107148.py:2: PerformanceWarning: DataFrame is highly fragmented.  This is usually the result of calling `frame.insert` many times, which has poor performance.  Consider joining all columns at once using pd.concat(axis=1) instead. To get a de-fragmented frame, use `newframe = frame.copy()`\n",
      "  df[ohe.get_feature_names_out()] = ohe_transformed\n",
      "C:\\Users\\Professional\\AppData\\Local\\Temp\\ipykernel_7676\\2220107148.py:2: PerformanceWarning: DataFrame is highly fragmented.  This is usually the result of calling `frame.insert` many times, which has poor performance.  Consider joining all columns at once using pd.concat(axis=1) instead. To get a de-fragmented frame, use `newframe = frame.copy()`\n",
      "  df[ohe.get_feature_names_out()] = ohe_transformed\n",
      "C:\\Users\\Professional\\AppData\\Local\\Temp\\ipykernel_7676\\2220107148.py:2: PerformanceWarning: DataFrame is highly fragmented.  This is usually the result of calling `frame.insert` many times, which has poor performance.  Consider joining all columns at once using pd.concat(axis=1) instead. To get a de-fragmented frame, use `newframe = frame.copy()`\n",
      "  df[ohe.get_feature_names_out()] = ohe_transformed\n",
      "C:\\Users\\Professional\\AppData\\Local\\Temp\\ipykernel_7676\\2220107148.py:2: PerformanceWarning: DataFrame is highly fragmented.  This is usually the result of calling `frame.insert` many times, which has poor performance.  Consider joining all columns at once using pd.concat(axis=1) instead. To get a de-fragmented frame, use `newframe = frame.copy()`\n",
      "  df[ohe.get_feature_names_out()] = ohe_transformed\n",
      "C:\\Users\\Professional\\AppData\\Local\\Temp\\ipykernel_7676\\2220107148.py:2: PerformanceWarning: DataFrame is highly fragmented.  This is usually the result of calling `frame.insert` many times, which has poor performance.  Consider joining all columns at once using pd.concat(axis=1) instead. To get a de-fragmented frame, use `newframe = frame.copy()`\n",
      "  df[ohe.get_feature_names_out()] = ohe_transformed\n",
      "C:\\Users\\Professional\\AppData\\Local\\Temp\\ipykernel_7676\\2220107148.py:2: PerformanceWarning: DataFrame is highly fragmented.  This is usually the result of calling `frame.insert` many times, which has poor performance.  Consider joining all columns at once using pd.concat(axis=1) instead. To get a de-fragmented frame, use `newframe = frame.copy()`\n",
      "  df[ohe.get_feature_names_out()] = ohe_transformed\n",
      "C:\\Users\\Professional\\AppData\\Local\\Temp\\ipykernel_7676\\2220107148.py:2: PerformanceWarning: DataFrame is highly fragmented.  This is usually the result of calling `frame.insert` many times, which has poor performance.  Consider joining all columns at once using pd.concat(axis=1) instead. To get a de-fragmented frame, use `newframe = frame.copy()`\n",
      "  df[ohe.get_feature_names_out()] = ohe_transformed\n",
      "C:\\Users\\Professional\\AppData\\Local\\Temp\\ipykernel_7676\\2220107148.py:2: PerformanceWarning: DataFrame is highly fragmented.  This is usually the result of calling `frame.insert` many times, which has poor performance.  Consider joining all columns at once using pd.concat(axis=1) instead. To get a de-fragmented frame, use `newframe = frame.copy()`\n",
      "  df[ohe.get_feature_names_out()] = ohe_transformed\n",
      "C:\\Users\\Professional\\AppData\\Local\\Temp\\ipykernel_7676\\2220107148.py:2: PerformanceWarning: DataFrame is highly fragmented.  This is usually the result of calling `frame.insert` many times, which has poor performance.  Consider joining all columns at once using pd.concat(axis=1) instead. To get a de-fragmented frame, use `newframe = frame.copy()`\n",
      "  df[ohe.get_feature_names_out()] = ohe_transformed\n",
      "C:\\Users\\Professional\\AppData\\Local\\Temp\\ipykernel_7676\\2220107148.py:2: PerformanceWarning: DataFrame is highly fragmented.  This is usually the result of calling `frame.insert` many times, which has poor performance.  Consider joining all columns at once using pd.concat(axis=1) instead. To get a de-fragmented frame, use `newframe = frame.copy()`\n",
      "  df[ohe.get_feature_names_out()] = ohe_transformed\n",
      "C:\\Users\\Professional\\AppData\\Local\\Temp\\ipykernel_7676\\2220107148.py:2: PerformanceWarning: DataFrame is highly fragmented.  This is usually the result of calling `frame.insert` many times, which has poor performance.  Consider joining all columns at once using pd.concat(axis=1) instead. To get a de-fragmented frame, use `newframe = frame.copy()`\n",
      "  df[ohe.get_feature_names_out()] = ohe_transformed\n",
      "C:\\Users\\Professional\\AppData\\Local\\Temp\\ipykernel_7676\\2220107148.py:2: PerformanceWarning: DataFrame is highly fragmented.  This is usually the result of calling `frame.insert` many times, which has poor performance.  Consider joining all columns at once using pd.concat(axis=1) instead. To get a de-fragmented frame, use `newframe = frame.copy()`\n",
      "  df[ohe.get_feature_names_out()] = ohe_transformed\n",
      "C:\\Users\\Professional\\AppData\\Local\\Temp\\ipykernel_7676\\2220107148.py:2: PerformanceWarning: DataFrame is highly fragmented.  This is usually the result of calling `frame.insert` many times, which has poor performance.  Consider joining all columns at once using pd.concat(axis=1) instead. To get a de-fragmented frame, use `newframe = frame.copy()`\n",
      "  df[ohe.get_feature_names_out()] = ohe_transformed\n",
      "C:\\Users\\Professional\\AppData\\Local\\Temp\\ipykernel_7676\\2220107148.py:2: PerformanceWarning: DataFrame is highly fragmented.  This is usually the result of calling `frame.insert` many times, which has poor performance.  Consider joining all columns at once using pd.concat(axis=1) instead. To get a de-fragmented frame, use `newframe = frame.copy()`\n",
      "  df[ohe.get_feature_names_out()] = ohe_transformed\n",
      "C:\\Users\\Professional\\AppData\\Local\\Temp\\ipykernel_7676\\2220107148.py:2: PerformanceWarning: DataFrame is highly fragmented.  This is usually the result of calling `frame.insert` many times, which has poor performance.  Consider joining all columns at once using pd.concat(axis=1) instead. To get a de-fragmented frame, use `newframe = frame.copy()`\n",
      "  df[ohe.get_feature_names_out()] = ohe_transformed\n",
      "C:\\Users\\Professional\\AppData\\Local\\Temp\\ipykernel_7676\\2220107148.py:2: PerformanceWarning: DataFrame is highly fragmented.  This is usually the result of calling `frame.insert` many times, which has poor performance.  Consider joining all columns at once using pd.concat(axis=1) instead. To get a de-fragmented frame, use `newframe = frame.copy()`\n",
      "  df[ohe.get_feature_names_out()] = ohe_transformed\n",
      "C:\\Users\\Professional\\AppData\\Local\\Temp\\ipykernel_7676\\2220107148.py:2: PerformanceWarning: DataFrame is highly fragmented.  This is usually the result of calling `frame.insert` many times, which has poor performance.  Consider joining all columns at once using pd.concat(axis=1) instead. To get a de-fragmented frame, use `newframe = frame.copy()`\n",
      "  df[ohe.get_feature_names_out()] = ohe_transformed\n",
      "C:\\Users\\Professional\\AppData\\Local\\Temp\\ipykernel_7676\\2220107148.py:2: PerformanceWarning: DataFrame is highly fragmented.  This is usually the result of calling `frame.insert` many times, which has poor performance.  Consider joining all columns at once using pd.concat(axis=1) instead. To get a de-fragmented frame, use `newframe = frame.copy()`\n",
      "  df[ohe.get_feature_names_out()] = ohe_transformed\n",
      "C:\\Users\\Professional\\AppData\\Local\\Temp\\ipykernel_7676\\2220107148.py:2: PerformanceWarning: DataFrame is highly fragmented.  This is usually the result of calling `frame.insert` many times, which has poor performance.  Consider joining all columns at once using pd.concat(axis=1) instead. To get a de-fragmented frame, use `newframe = frame.copy()`\n",
      "  df[ohe.get_feature_names_out()] = ohe_transformed\n",
      "C:\\Users\\Professional\\AppData\\Local\\Temp\\ipykernel_7676\\2220107148.py:2: PerformanceWarning: DataFrame is highly fragmented.  This is usually the result of calling `frame.insert` many times, which has poor performance.  Consider joining all columns at once using pd.concat(axis=1) instead. To get a de-fragmented frame, use `newframe = frame.copy()`\n",
      "  df[ohe.get_feature_names_out()] = ohe_transformed\n",
      "C:\\Users\\Professional\\AppData\\Local\\Temp\\ipykernel_7676\\2220107148.py:2: PerformanceWarning: DataFrame is highly fragmented.  This is usually the result of calling `frame.insert` many times, which has poor performance.  Consider joining all columns at once using pd.concat(axis=1) instead. To get a de-fragmented frame, use `newframe = frame.copy()`\n",
      "  df[ohe.get_feature_names_out()] = ohe_transformed\n",
      "C:\\Users\\Professional\\AppData\\Local\\Temp\\ipykernel_7676\\2220107148.py:2: PerformanceWarning: DataFrame is highly fragmented.  This is usually the result of calling `frame.insert` many times, which has poor performance.  Consider joining all columns at once using pd.concat(axis=1) instead. To get a de-fragmented frame, use `newframe = frame.copy()`\n",
      "  df[ohe.get_feature_names_out()] = ohe_transformed\n",
      "C:\\Users\\Professional\\AppData\\Local\\Temp\\ipykernel_7676\\2220107148.py:2: PerformanceWarning: DataFrame is highly fragmented.  This is usually the result of calling `frame.insert` many times, which has poor performance.  Consider joining all columns at once using pd.concat(axis=1) instead. To get a de-fragmented frame, use `newframe = frame.copy()`\n",
      "  df[ohe.get_feature_names_out()] = ohe_transformed\n",
      "C:\\Users\\Professional\\AppData\\Local\\Temp\\ipykernel_7676\\2220107148.py:2: PerformanceWarning: DataFrame is highly fragmented.  This is usually the result of calling `frame.insert` many times, which has poor performance.  Consider joining all columns at once using pd.concat(axis=1) instead. To get a de-fragmented frame, use `newframe = frame.copy()`\n",
      "  df[ohe.get_feature_names_out()] = ohe_transformed\n",
      "C:\\Users\\Professional\\AppData\\Local\\Temp\\ipykernel_7676\\2220107148.py:2: PerformanceWarning: DataFrame is highly fragmented.  This is usually the result of calling `frame.insert` many times, which has poor performance.  Consider joining all columns at once using pd.concat(axis=1) instead. To get a de-fragmented frame, use `newframe = frame.copy()`\n",
      "  df[ohe.get_feature_names_out()] = ohe_transformed\n",
      "C:\\Users\\Professional\\AppData\\Local\\Temp\\ipykernel_7676\\2220107148.py:2: PerformanceWarning: DataFrame is highly fragmented.  This is usually the result of calling `frame.insert` many times, which has poor performance.  Consider joining all columns at once using pd.concat(axis=1) instead. To get a de-fragmented frame, use `newframe = frame.copy()`\n",
      "  df[ohe.get_feature_names_out()] = ohe_transformed\n",
      "C:\\Users\\Professional\\AppData\\Local\\Temp\\ipykernel_7676\\2220107148.py:2: PerformanceWarning: DataFrame is highly fragmented.  This is usually the result of calling `frame.insert` many times, which has poor performance.  Consider joining all columns at once using pd.concat(axis=1) instead. To get a de-fragmented frame, use `newframe = frame.copy()`\n",
      "  df[ohe.get_feature_names_out()] = ohe_transformed\n",
      "C:\\Users\\Professional\\AppData\\Local\\Temp\\ipykernel_7676\\2220107148.py:2: PerformanceWarning: DataFrame is highly fragmented.  This is usually the result of calling `frame.insert` many times, which has poor performance.  Consider joining all columns at once using pd.concat(axis=1) instead. To get a de-fragmented frame, use `newframe = frame.copy()`\n",
      "  df[ohe.get_feature_names_out()] = ohe_transformed\n",
      "C:\\Users\\Professional\\AppData\\Local\\Temp\\ipykernel_7676\\2220107148.py:2: PerformanceWarning: DataFrame is highly fragmented.  This is usually the result of calling `frame.insert` many times, which has poor performance.  Consider joining all columns at once using pd.concat(axis=1) instead. To get a de-fragmented frame, use `newframe = frame.copy()`\n",
      "  df[ohe.get_feature_names_out()] = ohe_transformed\n",
      "C:\\Users\\Professional\\AppData\\Local\\Temp\\ipykernel_7676\\2220107148.py:2: PerformanceWarning: DataFrame is highly fragmented.  This is usually the result of calling `frame.insert` many times, which has poor performance.  Consider joining all columns at once using pd.concat(axis=1) instead. To get a de-fragmented frame, use `newframe = frame.copy()`\n",
      "  df[ohe.get_feature_names_out()] = ohe_transformed\n",
      "C:\\Users\\Professional\\AppData\\Local\\Temp\\ipykernel_7676\\2220107148.py:2: PerformanceWarning: DataFrame is highly fragmented.  This is usually the result of calling `frame.insert` many times, which has poor performance.  Consider joining all columns at once using pd.concat(axis=1) instead. To get a de-fragmented frame, use `newframe = frame.copy()`\n",
      "  df[ohe.get_feature_names_out()] = ohe_transformed\n",
      "C:\\Users\\Professional\\AppData\\Local\\Temp\\ipykernel_7676\\2220107148.py:2: PerformanceWarning: DataFrame is highly fragmented.  This is usually the result of calling `frame.insert` many times, which has poor performance.  Consider joining all columns at once using pd.concat(axis=1) instead. To get a de-fragmented frame, use `newframe = frame.copy()`\n",
      "  df[ohe.get_feature_names_out()] = ohe_transformed\n",
      "C:\\Users\\Professional\\AppData\\Local\\Temp\\ipykernel_7676\\2220107148.py:2: PerformanceWarning: DataFrame is highly fragmented.  This is usually the result of calling `frame.insert` many times, which has poor performance.  Consider joining all columns at once using pd.concat(axis=1) instead. To get a de-fragmented frame, use `newframe = frame.copy()`\n",
      "  df[ohe.get_feature_names_out()] = ohe_transformed\n",
      "C:\\Users\\Professional\\AppData\\Local\\Temp\\ipykernel_7676\\2220107148.py:2: PerformanceWarning: DataFrame is highly fragmented.  This is usually the result of calling `frame.insert` many times, which has poor performance.  Consider joining all columns at once using pd.concat(axis=1) instead. To get a de-fragmented frame, use `newframe = frame.copy()`\n",
      "  df[ohe.get_feature_names_out()] = ohe_transformed\n",
      "C:\\Users\\Professional\\AppData\\Local\\Temp\\ipykernel_7676\\2220107148.py:2: PerformanceWarning: DataFrame is highly fragmented.  This is usually the result of calling `frame.insert` many times, which has poor performance.  Consider joining all columns at once using pd.concat(axis=1) instead. To get a de-fragmented frame, use `newframe = frame.copy()`\n",
      "  df[ohe.get_feature_names_out()] = ohe_transformed\n",
      "C:\\Users\\Professional\\AppData\\Local\\Temp\\ipykernel_7676\\2220107148.py:2: PerformanceWarning: DataFrame is highly fragmented.  This is usually the result of calling `frame.insert` many times, which has poor performance.  Consider joining all columns at once using pd.concat(axis=1) instead. To get a de-fragmented frame, use `newframe = frame.copy()`\n",
      "  df[ohe.get_feature_names_out()] = ohe_transformed\n",
      "C:\\Users\\Professional\\AppData\\Local\\Temp\\ipykernel_7676\\2220107148.py:2: PerformanceWarning: DataFrame is highly fragmented.  This is usually the result of calling `frame.insert` many times, which has poor performance.  Consider joining all columns at once using pd.concat(axis=1) instead. To get a de-fragmented frame, use `newframe = frame.copy()`\n",
      "  df[ohe.get_feature_names_out()] = ohe_transformed\n",
      "C:\\Users\\Professional\\AppData\\Local\\Temp\\ipykernel_7676\\2220107148.py:2: PerformanceWarning: DataFrame is highly fragmented.  This is usually the result of calling `frame.insert` many times, which has poor performance.  Consider joining all columns at once using pd.concat(axis=1) instead. To get a de-fragmented frame, use `newframe = frame.copy()`\n",
      "  df[ohe.get_feature_names_out()] = ohe_transformed\n",
      "C:\\Users\\Professional\\AppData\\Local\\Temp\\ipykernel_7676\\2220107148.py:2: PerformanceWarning: DataFrame is highly fragmented.  This is usually the result of calling `frame.insert` many times, which has poor performance.  Consider joining all columns at once using pd.concat(axis=1) instead. To get a de-fragmented frame, use `newframe = frame.copy()`\n",
      "  df[ohe.get_feature_names_out()] = ohe_transformed\n",
      "C:\\Users\\Professional\\AppData\\Local\\Temp\\ipykernel_7676\\2220107148.py:2: PerformanceWarning: DataFrame is highly fragmented.  This is usually the result of calling `frame.insert` many times, which has poor performance.  Consider joining all columns at once using pd.concat(axis=1) instead. To get a de-fragmented frame, use `newframe = frame.copy()`\n",
      "  df[ohe.get_feature_names_out()] = ohe_transformed\n",
      "C:\\Users\\Professional\\AppData\\Local\\Temp\\ipykernel_7676\\2220107148.py:2: PerformanceWarning: DataFrame is highly fragmented.  This is usually the result of calling `frame.insert` many times, which has poor performance.  Consider joining all columns at once using pd.concat(axis=1) instead. To get a de-fragmented frame, use `newframe = frame.copy()`\n",
      "  df[ohe.get_feature_names_out()] = ohe_transformed\n",
      "C:\\Users\\Professional\\AppData\\Local\\Temp\\ipykernel_7676\\2220107148.py:2: PerformanceWarning: DataFrame is highly fragmented.  This is usually the result of calling `frame.insert` many times, which has poor performance.  Consider joining all columns at once using pd.concat(axis=1) instead. To get a de-fragmented frame, use `newframe = frame.copy()`\n",
      "  df[ohe.get_feature_names_out()] = ohe_transformed\n",
      "C:\\Users\\Professional\\AppData\\Local\\Temp\\ipykernel_7676\\2220107148.py:2: PerformanceWarning: DataFrame is highly fragmented.  This is usually the result of calling `frame.insert` many times, which has poor performance.  Consider joining all columns at once using pd.concat(axis=1) instead. To get a de-fragmented frame, use `newframe = frame.copy()`\n",
      "  df[ohe.get_feature_names_out()] = ohe_transformed\n",
      "C:\\Users\\Professional\\AppData\\Local\\Temp\\ipykernel_7676\\2220107148.py:2: PerformanceWarning: DataFrame is highly fragmented.  This is usually the result of calling `frame.insert` many times, which has poor performance.  Consider joining all columns at once using pd.concat(axis=1) instead. To get a de-fragmented frame, use `newframe = frame.copy()`\n",
      "  df[ohe.get_feature_names_out()] = ohe_transformed\n",
      "C:\\Users\\Professional\\AppData\\Local\\Temp\\ipykernel_7676\\2220107148.py:2: PerformanceWarning: DataFrame is highly fragmented.  This is usually the result of calling `frame.insert` many times, which has poor performance.  Consider joining all columns at once using pd.concat(axis=1) instead. To get a de-fragmented frame, use `newframe = frame.copy()`\n",
      "  df[ohe.get_feature_names_out()] = ohe_transformed\n",
      "C:\\Users\\Professional\\AppData\\Local\\Temp\\ipykernel_7676\\2220107148.py:2: PerformanceWarning: DataFrame is highly fragmented.  This is usually the result of calling `frame.insert` many times, which has poor performance.  Consider joining all columns at once using pd.concat(axis=1) instead. To get a de-fragmented frame, use `newframe = frame.copy()`\n",
      "  df[ohe.get_feature_names_out()] = ohe_transformed\n",
      "C:\\Users\\Professional\\AppData\\Local\\Temp\\ipykernel_7676\\2220107148.py:2: PerformanceWarning: DataFrame is highly fragmented.  This is usually the result of calling `frame.insert` many times, which has poor performance.  Consider joining all columns at once using pd.concat(axis=1) instead. To get a de-fragmented frame, use `newframe = frame.copy()`\n",
      "  df[ohe.get_feature_names_out()] = ohe_transformed\n",
      "C:\\Users\\Professional\\AppData\\Local\\Temp\\ipykernel_7676\\2220107148.py:2: PerformanceWarning: DataFrame is highly fragmented.  This is usually the result of calling `frame.insert` many times, which has poor performance.  Consider joining all columns at once using pd.concat(axis=1) instead. To get a de-fragmented frame, use `newframe = frame.copy()`\n",
      "  df[ohe.get_feature_names_out()] = ohe_transformed\n",
      "C:\\Users\\Professional\\AppData\\Local\\Temp\\ipykernel_7676\\2220107148.py:2: PerformanceWarning: DataFrame is highly fragmented.  This is usually the result of calling `frame.insert` many times, which has poor performance.  Consider joining all columns at once using pd.concat(axis=1) instead. To get a de-fragmented frame, use `newframe = frame.copy()`\n",
      "  df[ohe.get_feature_names_out()] = ohe_transformed\n",
      "C:\\Users\\Professional\\AppData\\Local\\Temp\\ipykernel_7676\\2220107148.py:2: PerformanceWarning: DataFrame is highly fragmented.  This is usually the result of calling `frame.insert` many times, which has poor performance.  Consider joining all columns at once using pd.concat(axis=1) instead. To get a de-fragmented frame, use `newframe = frame.copy()`\n",
      "  df[ohe.get_feature_names_out()] = ohe_transformed\n",
      "C:\\Users\\Professional\\AppData\\Local\\Temp\\ipykernel_7676\\2220107148.py:2: PerformanceWarning: DataFrame is highly fragmented.  This is usually the result of calling `frame.insert` many times, which has poor performance.  Consider joining all columns at once using pd.concat(axis=1) instead. To get a de-fragmented frame, use `newframe = frame.copy()`\n",
      "  df[ohe.get_feature_names_out()] = ohe_transformed\n",
      "C:\\Users\\Professional\\AppData\\Local\\Temp\\ipykernel_7676\\2220107148.py:2: PerformanceWarning: DataFrame is highly fragmented.  This is usually the result of calling `frame.insert` many times, which has poor performance.  Consider joining all columns at once using pd.concat(axis=1) instead. To get a de-fragmented frame, use `newframe = frame.copy()`\n",
      "  df[ohe.get_feature_names_out()] = ohe_transformed\n",
      "C:\\Users\\Professional\\AppData\\Local\\Temp\\ipykernel_7676\\2220107148.py:2: PerformanceWarning: DataFrame is highly fragmented.  This is usually the result of calling `frame.insert` many times, which has poor performance.  Consider joining all columns at once using pd.concat(axis=1) instead. To get a de-fragmented frame, use `newframe = frame.copy()`\n",
      "  df[ohe.get_feature_names_out()] = ohe_transformed\n",
      "C:\\Users\\Professional\\AppData\\Local\\Temp\\ipykernel_7676\\2220107148.py:2: PerformanceWarning: DataFrame is highly fragmented.  This is usually the result of calling `frame.insert` many times, which has poor performance.  Consider joining all columns at once using pd.concat(axis=1) instead. To get a de-fragmented frame, use `newframe = frame.copy()`\n",
      "  df[ohe.get_feature_names_out()] = ohe_transformed\n",
      "C:\\Users\\Professional\\AppData\\Local\\Temp\\ipykernel_7676\\2220107148.py:2: PerformanceWarning: DataFrame is highly fragmented.  This is usually the result of calling `frame.insert` many times, which has poor performance.  Consider joining all columns at once using pd.concat(axis=1) instead. To get a de-fragmented frame, use `newframe = frame.copy()`\n",
      "  df[ohe.get_feature_names_out()] = ohe_transformed\n",
      "C:\\Users\\Professional\\AppData\\Local\\Temp\\ipykernel_7676\\2220107148.py:2: PerformanceWarning: DataFrame is highly fragmented.  This is usually the result of calling `frame.insert` many times, which has poor performance.  Consider joining all columns at once using pd.concat(axis=1) instead. To get a de-fragmented frame, use `newframe = frame.copy()`\n",
      "  df[ohe.get_feature_names_out()] = ohe_transformed\n",
      "C:\\Users\\Professional\\AppData\\Local\\Temp\\ipykernel_7676\\2220107148.py:2: PerformanceWarning: DataFrame is highly fragmented.  This is usually the result of calling `frame.insert` many times, which has poor performance.  Consider joining all columns at once using pd.concat(axis=1) instead. To get a de-fragmented frame, use `newframe = frame.copy()`\n",
      "  df[ohe.get_feature_names_out()] = ohe_transformed\n",
      "C:\\Users\\Professional\\AppData\\Local\\Temp\\ipykernel_7676\\2220107148.py:2: PerformanceWarning: DataFrame is highly fragmented.  This is usually the result of calling `frame.insert` many times, which has poor performance.  Consider joining all columns at once using pd.concat(axis=1) instead. To get a de-fragmented frame, use `newframe = frame.copy()`\n",
      "  df[ohe.get_feature_names_out()] = ohe_transformed\n",
      "C:\\Users\\Professional\\AppData\\Local\\Temp\\ipykernel_7676\\2220107148.py:2: PerformanceWarning: DataFrame is highly fragmented.  This is usually the result of calling `frame.insert` many times, which has poor performance.  Consider joining all columns at once using pd.concat(axis=1) instead. To get a de-fragmented frame, use `newframe = frame.copy()`\n",
      "  df[ohe.get_feature_names_out()] = ohe_transformed\n",
      "C:\\Users\\Professional\\AppData\\Local\\Temp\\ipykernel_7676\\2220107148.py:2: PerformanceWarning: DataFrame is highly fragmented.  This is usually the result of calling `frame.insert` many times, which has poor performance.  Consider joining all columns at once using pd.concat(axis=1) instead. To get a de-fragmented frame, use `newframe = frame.copy()`\n",
      "  df[ohe.get_feature_names_out()] = ohe_transformed\n",
      "C:\\Users\\Professional\\AppData\\Local\\Temp\\ipykernel_7676\\2220107148.py:2: PerformanceWarning: DataFrame is highly fragmented.  This is usually the result of calling `frame.insert` many times, which has poor performance.  Consider joining all columns at once using pd.concat(axis=1) instead. To get a de-fragmented frame, use `newframe = frame.copy()`\n",
      "  df[ohe.get_feature_names_out()] = ohe_transformed\n",
      "C:\\Users\\Professional\\AppData\\Local\\Temp\\ipykernel_7676\\2220107148.py:2: PerformanceWarning: DataFrame is highly fragmented.  This is usually the result of calling `frame.insert` many times, which has poor performance.  Consider joining all columns at once using pd.concat(axis=1) instead. To get a de-fragmented frame, use `newframe = frame.copy()`\n",
      "  df[ohe.get_feature_names_out()] = ohe_transformed\n",
      "C:\\Users\\Professional\\AppData\\Local\\Temp\\ipykernel_7676\\2220107148.py:2: PerformanceWarning: DataFrame is highly fragmented.  This is usually the result of calling `frame.insert` many times, which has poor performance.  Consider joining all columns at once using pd.concat(axis=1) instead. To get a de-fragmented frame, use `newframe = frame.copy()`\n",
      "  df[ohe.get_feature_names_out()] = ohe_transformed\n",
      "C:\\Users\\Professional\\AppData\\Local\\Temp\\ipykernel_7676\\2220107148.py:2: PerformanceWarning: DataFrame is highly fragmented.  This is usually the result of calling `frame.insert` many times, which has poor performance.  Consider joining all columns at once using pd.concat(axis=1) instead. To get a de-fragmented frame, use `newframe = frame.copy()`\n",
      "  df[ohe.get_feature_names_out()] = ohe_transformed\n",
      "C:\\Users\\Professional\\AppData\\Local\\Temp\\ipykernel_7676\\2220107148.py:2: PerformanceWarning: DataFrame is highly fragmented.  This is usually the result of calling `frame.insert` many times, which has poor performance.  Consider joining all columns at once using pd.concat(axis=1) instead. To get a de-fragmented frame, use `newframe = frame.copy()`\n",
      "  df[ohe.get_feature_names_out()] = ohe_transformed\n",
      "C:\\Users\\Professional\\AppData\\Local\\Temp\\ipykernel_7676\\2220107148.py:2: PerformanceWarning: DataFrame is highly fragmented.  This is usually the result of calling `frame.insert` many times, which has poor performance.  Consider joining all columns at once using pd.concat(axis=1) instead. To get a de-fragmented frame, use `newframe = frame.copy()`\n",
      "  df[ohe.get_feature_names_out()] = ohe_transformed\n",
      "C:\\Users\\Professional\\AppData\\Local\\Temp\\ipykernel_7676\\2220107148.py:2: PerformanceWarning: DataFrame is highly fragmented.  This is usually the result of calling `frame.insert` many times, which has poor performance.  Consider joining all columns at once using pd.concat(axis=1) instead. To get a de-fragmented frame, use `newframe = frame.copy()`\n",
      "  df[ohe.get_feature_names_out()] = ohe_transformed\n",
      "C:\\Users\\Professional\\AppData\\Local\\Temp\\ipykernel_7676\\2220107148.py:2: PerformanceWarning: DataFrame is highly fragmented.  This is usually the result of calling `frame.insert` many times, which has poor performance.  Consider joining all columns at once using pd.concat(axis=1) instead. To get a de-fragmented frame, use `newframe = frame.copy()`\n",
      "  df[ohe.get_feature_names_out()] = ohe_transformed\n",
      "C:\\Users\\Professional\\AppData\\Local\\Temp\\ipykernel_7676\\2220107148.py:2: PerformanceWarning: DataFrame is highly fragmented.  This is usually the result of calling `frame.insert` many times, which has poor performance.  Consider joining all columns at once using pd.concat(axis=1) instead. To get a de-fragmented frame, use `newframe = frame.copy()`\n",
      "  df[ohe.get_feature_names_out()] = ohe_transformed\n",
      "C:\\Users\\Professional\\AppData\\Local\\Temp\\ipykernel_7676\\2220107148.py:2: PerformanceWarning: DataFrame is highly fragmented.  This is usually the result of calling `frame.insert` many times, which has poor performance.  Consider joining all columns at once using pd.concat(axis=1) instead. To get a de-fragmented frame, use `newframe = frame.copy()`\n",
      "  df[ohe.get_feature_names_out()] = ohe_transformed\n",
      "C:\\Users\\Professional\\AppData\\Local\\Temp\\ipykernel_7676\\2220107148.py:2: PerformanceWarning: DataFrame is highly fragmented.  This is usually the result of calling `frame.insert` many times, which has poor performance.  Consider joining all columns at once using pd.concat(axis=1) instead. To get a de-fragmented frame, use `newframe = frame.copy()`\n",
      "  df[ohe.get_feature_names_out()] = ohe_transformed\n",
      "C:\\Users\\Professional\\AppData\\Local\\Temp\\ipykernel_7676\\2220107148.py:2: PerformanceWarning: DataFrame is highly fragmented.  This is usually the result of calling `frame.insert` many times, which has poor performance.  Consider joining all columns at once using pd.concat(axis=1) instead. To get a de-fragmented frame, use `newframe = frame.copy()`\n",
      "  df[ohe.get_feature_names_out()] = ohe_transformed\n",
      "C:\\Users\\Professional\\AppData\\Local\\Temp\\ipykernel_7676\\2220107148.py:2: PerformanceWarning: DataFrame is highly fragmented.  This is usually the result of calling `frame.insert` many times, which has poor performance.  Consider joining all columns at once using pd.concat(axis=1) instead. To get a de-fragmented frame, use `newframe = frame.copy()`\n",
      "  df[ohe.get_feature_names_out()] = ohe_transformed\n",
      "C:\\Users\\Professional\\AppData\\Local\\Temp\\ipykernel_7676\\2220107148.py:2: PerformanceWarning: DataFrame is highly fragmented.  This is usually the result of calling `frame.insert` many times, which has poor performance.  Consider joining all columns at once using pd.concat(axis=1) instead. To get a de-fragmented frame, use `newframe = frame.copy()`\n",
      "  df[ohe.get_feature_names_out()] = ohe_transformed\n",
      "C:\\Users\\Professional\\AppData\\Local\\Temp\\ipykernel_7676\\2220107148.py:2: PerformanceWarning: DataFrame is highly fragmented.  This is usually the result of calling `frame.insert` many times, which has poor performance.  Consider joining all columns at once using pd.concat(axis=1) instead. To get a de-fragmented frame, use `newframe = frame.copy()`\n",
      "  df[ohe.get_feature_names_out()] = ohe_transformed\n",
      "C:\\Users\\Professional\\AppData\\Local\\Temp\\ipykernel_7676\\2220107148.py:2: PerformanceWarning: DataFrame is highly fragmented.  This is usually the result of calling `frame.insert` many times, which has poor performance.  Consider joining all columns at once using pd.concat(axis=1) instead. To get a de-fragmented frame, use `newframe = frame.copy()`\n",
      "  df[ohe.get_feature_names_out()] = ohe_transformed\n",
      "C:\\Users\\Professional\\AppData\\Local\\Temp\\ipykernel_7676\\2220107148.py:2: PerformanceWarning: DataFrame is highly fragmented.  This is usually the result of calling `frame.insert` many times, which has poor performance.  Consider joining all columns at once using pd.concat(axis=1) instead. To get a de-fragmented frame, use `newframe = frame.copy()`\n",
      "  df[ohe.get_feature_names_out()] = ohe_transformed\n",
      "C:\\Users\\Professional\\AppData\\Local\\Temp\\ipykernel_7676\\2220107148.py:2: PerformanceWarning: DataFrame is highly fragmented.  This is usually the result of calling `frame.insert` many times, which has poor performance.  Consider joining all columns at once using pd.concat(axis=1) instead. To get a de-fragmented frame, use `newframe = frame.copy()`\n",
      "  df[ohe.get_feature_names_out()] = ohe_transformed\n",
      "C:\\Users\\Professional\\AppData\\Local\\Temp\\ipykernel_7676\\2220107148.py:2: PerformanceWarning: DataFrame is highly fragmented.  This is usually the result of calling `frame.insert` many times, which has poor performance.  Consider joining all columns at once using pd.concat(axis=1) instead. To get a de-fragmented frame, use `newframe = frame.copy()`\n",
      "  df[ohe.get_feature_names_out()] = ohe_transformed\n",
      "C:\\Users\\Professional\\AppData\\Local\\Temp\\ipykernel_7676\\2220107148.py:2: PerformanceWarning: DataFrame is highly fragmented.  This is usually the result of calling `frame.insert` many times, which has poor performance.  Consider joining all columns at once using pd.concat(axis=1) instead. To get a de-fragmented frame, use `newframe = frame.copy()`\n",
      "  df[ohe.get_feature_names_out()] = ohe_transformed\n",
      "C:\\Users\\Professional\\AppData\\Local\\Temp\\ipykernel_7676\\2220107148.py:2: PerformanceWarning: DataFrame is highly fragmented.  This is usually the result of calling `frame.insert` many times, which has poor performance.  Consider joining all columns at once using pd.concat(axis=1) instead. To get a de-fragmented frame, use `newframe = frame.copy()`\n",
      "  df[ohe.get_feature_names_out()] = ohe_transformed\n",
      "C:\\Users\\Professional\\AppData\\Local\\Temp\\ipykernel_7676\\2220107148.py:2: PerformanceWarning: DataFrame is highly fragmented.  This is usually the result of calling `frame.insert` many times, which has poor performance.  Consider joining all columns at once using pd.concat(axis=1) instead. To get a de-fragmented frame, use `newframe = frame.copy()`\n",
      "  df[ohe.get_feature_names_out()] = ohe_transformed\n",
      "C:\\Users\\Professional\\AppData\\Local\\Temp\\ipykernel_7676\\2220107148.py:2: PerformanceWarning: DataFrame is highly fragmented.  This is usually the result of calling `frame.insert` many times, which has poor performance.  Consider joining all columns at once using pd.concat(axis=1) instead. To get a de-fragmented frame, use `newframe = frame.copy()`\n",
      "  df[ohe.get_feature_names_out()] = ohe_transformed\n",
      "C:\\Users\\Professional\\AppData\\Local\\Temp\\ipykernel_7676\\2220107148.py:2: PerformanceWarning: DataFrame is highly fragmented.  This is usually the result of calling `frame.insert` many times, which has poor performance.  Consider joining all columns at once using pd.concat(axis=1) instead. To get a de-fragmented frame, use `newframe = frame.copy()`\n",
      "  df[ohe.get_feature_names_out()] = ohe_transformed\n",
      "C:\\Users\\Professional\\AppData\\Local\\Temp\\ipykernel_7676\\2220107148.py:2: PerformanceWarning: DataFrame is highly fragmented.  This is usually the result of calling `frame.insert` many times, which has poor performance.  Consider joining all columns at once using pd.concat(axis=1) instead. To get a de-fragmented frame, use `newframe = frame.copy()`\n",
      "  df[ohe.get_feature_names_out()] = ohe_transformed\n",
      "C:\\Users\\Professional\\AppData\\Local\\Temp\\ipykernel_7676\\2220107148.py:2: PerformanceWarning: DataFrame is highly fragmented.  This is usually the result of calling `frame.insert` many times, which has poor performance.  Consider joining all columns at once using pd.concat(axis=1) instead. To get a de-fragmented frame, use `newframe = frame.copy()`\n",
      "  df[ohe.get_feature_names_out()] = ohe_transformed\n",
      "C:\\Users\\Professional\\AppData\\Local\\Temp\\ipykernel_7676\\2220107148.py:2: PerformanceWarning: DataFrame is highly fragmented.  This is usually the result of calling `frame.insert` many times, which has poor performance.  Consider joining all columns at once using pd.concat(axis=1) instead. To get a de-fragmented frame, use `newframe = frame.copy()`\n",
      "  df[ohe.get_feature_names_out()] = ohe_transformed\n",
      "C:\\Users\\Professional\\AppData\\Local\\Temp\\ipykernel_7676\\2220107148.py:2: PerformanceWarning: DataFrame is highly fragmented.  This is usually the result of calling `frame.insert` many times, which has poor performance.  Consider joining all columns at once using pd.concat(axis=1) instead. To get a de-fragmented frame, use `newframe = frame.copy()`\n",
      "  df[ohe.get_feature_names_out()] = ohe_transformed\n",
      "C:\\Users\\Professional\\AppData\\Local\\Temp\\ipykernel_7676\\2220107148.py:2: PerformanceWarning: DataFrame is highly fragmented.  This is usually the result of calling `frame.insert` many times, which has poor performance.  Consider joining all columns at once using pd.concat(axis=1) instead. To get a de-fragmented frame, use `newframe = frame.copy()`\n",
      "  df[ohe.get_feature_names_out()] = ohe_transformed\n",
      "C:\\Users\\Professional\\AppData\\Local\\Temp\\ipykernel_7676\\2220107148.py:2: PerformanceWarning: DataFrame is highly fragmented.  This is usually the result of calling `frame.insert` many times, which has poor performance.  Consider joining all columns at once using pd.concat(axis=1) instead. To get a de-fragmented frame, use `newframe = frame.copy()`\n",
      "  df[ohe.get_feature_names_out()] = ohe_transformed\n",
      "C:\\Users\\Professional\\AppData\\Local\\Temp\\ipykernel_7676\\2220107148.py:2: PerformanceWarning: DataFrame is highly fragmented.  This is usually the result of calling `frame.insert` many times, which has poor performance.  Consider joining all columns at once using pd.concat(axis=1) instead. To get a de-fragmented frame, use `newframe = frame.copy()`\n",
      "  df[ohe.get_feature_names_out()] = ohe_transformed\n",
      "C:\\Users\\Professional\\AppData\\Local\\Temp\\ipykernel_7676\\2220107148.py:2: PerformanceWarning: DataFrame is highly fragmented.  This is usually the result of calling `frame.insert` many times, which has poor performance.  Consider joining all columns at once using pd.concat(axis=1) instead. To get a de-fragmented frame, use `newframe = frame.copy()`\n",
      "  df[ohe.get_feature_names_out()] = ohe_transformed\n",
      "C:\\Users\\Professional\\AppData\\Local\\Temp\\ipykernel_7676\\2220107148.py:2: PerformanceWarning: DataFrame is highly fragmented.  This is usually the result of calling `frame.insert` many times, which has poor performance.  Consider joining all columns at once using pd.concat(axis=1) instead. To get a de-fragmented frame, use `newframe = frame.copy()`\n",
      "  df[ohe.get_feature_names_out()] = ohe_transformed\n",
      "C:\\Users\\Professional\\AppData\\Local\\Temp\\ipykernel_7676\\2220107148.py:2: PerformanceWarning: DataFrame is highly fragmented.  This is usually the result of calling `frame.insert` many times, which has poor performance.  Consider joining all columns at once using pd.concat(axis=1) instead. To get a de-fragmented frame, use `newframe = frame.copy()`\n",
      "  df[ohe.get_feature_names_out()] = ohe_transformed\n",
      "C:\\Users\\Professional\\AppData\\Local\\Temp\\ipykernel_7676\\2220107148.py:2: PerformanceWarning: DataFrame is highly fragmented.  This is usually the result of calling `frame.insert` many times, which has poor performance.  Consider joining all columns at once using pd.concat(axis=1) instead. To get a de-fragmented frame, use `newframe = frame.copy()`\n",
      "  df[ohe.get_feature_names_out()] = ohe_transformed\n",
      "C:\\Users\\Professional\\AppData\\Local\\Temp\\ipykernel_7676\\2220107148.py:2: PerformanceWarning: DataFrame is highly fragmented.  This is usually the result of calling `frame.insert` many times, which has poor performance.  Consider joining all columns at once using pd.concat(axis=1) instead. To get a de-fragmented frame, use `newframe = frame.copy()`\n",
      "  df[ohe.get_feature_names_out()] = ohe_transformed\n",
      "C:\\Users\\Professional\\AppData\\Local\\Temp\\ipykernel_7676\\2220107148.py:2: PerformanceWarning: DataFrame is highly fragmented.  This is usually the result of calling `frame.insert` many times, which has poor performance.  Consider joining all columns at once using pd.concat(axis=1) instead. To get a de-fragmented frame, use `newframe = frame.copy()`\n",
      "  df[ohe.get_feature_names_out()] = ohe_transformed\n",
      "C:\\Users\\Professional\\AppData\\Local\\Temp\\ipykernel_7676\\2220107148.py:2: PerformanceWarning: DataFrame is highly fragmented.  This is usually the result of calling `frame.insert` many times, which has poor performance.  Consider joining all columns at once using pd.concat(axis=1) instead. To get a de-fragmented frame, use `newframe = frame.copy()`\n",
      "  df[ohe.get_feature_names_out()] = ohe_transformed\n",
      "C:\\Users\\Professional\\AppData\\Local\\Temp\\ipykernel_7676\\2220107148.py:2: PerformanceWarning: DataFrame is highly fragmented.  This is usually the result of calling `frame.insert` many times, which has poor performance.  Consider joining all columns at once using pd.concat(axis=1) instead. To get a de-fragmented frame, use `newframe = frame.copy()`\n",
      "  df[ohe.get_feature_names_out()] = ohe_transformed\n",
      "C:\\Users\\Professional\\AppData\\Local\\Temp\\ipykernel_7676\\2220107148.py:2: PerformanceWarning: DataFrame is highly fragmented.  This is usually the result of calling `frame.insert` many times, which has poor performance.  Consider joining all columns at once using pd.concat(axis=1) instead. To get a de-fragmented frame, use `newframe = frame.copy()`\n",
      "  df[ohe.get_feature_names_out()] = ohe_transformed\n",
      "C:\\Users\\Professional\\AppData\\Local\\Temp\\ipykernel_7676\\2220107148.py:2: PerformanceWarning: DataFrame is highly fragmented.  This is usually the result of calling `frame.insert` many times, which has poor performance.  Consider joining all columns at once using pd.concat(axis=1) instead. To get a de-fragmented frame, use `newframe = frame.copy()`\n",
      "  df[ohe.get_feature_names_out()] = ohe_transformed\n",
      "C:\\Users\\Professional\\AppData\\Local\\Temp\\ipykernel_7676\\2220107148.py:2: PerformanceWarning: DataFrame is highly fragmented.  This is usually the result of calling `frame.insert` many times, which has poor performance.  Consider joining all columns at once using pd.concat(axis=1) instead. To get a de-fragmented frame, use `newframe = frame.copy()`\n",
      "  df[ohe.get_feature_names_out()] = ohe_transformed\n",
      "C:\\Users\\Professional\\AppData\\Local\\Temp\\ipykernel_7676\\2220107148.py:2: PerformanceWarning: DataFrame is highly fragmented.  This is usually the result of calling `frame.insert` many times, which has poor performance.  Consider joining all columns at once using pd.concat(axis=1) instead. To get a de-fragmented frame, use `newframe = frame.copy()`\n",
      "  df[ohe.get_feature_names_out()] = ohe_transformed\n",
      "C:\\Users\\Professional\\AppData\\Local\\Temp\\ipykernel_7676\\2220107148.py:2: PerformanceWarning: DataFrame is highly fragmented.  This is usually the result of calling `frame.insert` many times, which has poor performance.  Consider joining all columns at once using pd.concat(axis=1) instead. To get a de-fragmented frame, use `newframe = frame.copy()`\n",
      "  df[ohe.get_feature_names_out()] = ohe_transformed\n",
      "C:\\Users\\Professional\\AppData\\Local\\Temp\\ipykernel_7676\\2220107148.py:2: PerformanceWarning: DataFrame is highly fragmented.  This is usually the result of calling `frame.insert` many times, which has poor performance.  Consider joining all columns at once using pd.concat(axis=1) instead. To get a de-fragmented frame, use `newframe = frame.copy()`\n",
      "  df[ohe.get_feature_names_out()] = ohe_transformed\n",
      "C:\\Users\\Professional\\AppData\\Local\\Temp\\ipykernel_7676\\2220107148.py:2: PerformanceWarning: DataFrame is highly fragmented.  This is usually the result of calling `frame.insert` many times, which has poor performance.  Consider joining all columns at once using pd.concat(axis=1) instead. To get a de-fragmented frame, use `newframe = frame.copy()`\n",
      "  df[ohe.get_feature_names_out()] = ohe_transformed\n",
      "C:\\Users\\Professional\\AppData\\Local\\Temp\\ipykernel_7676\\2220107148.py:2: PerformanceWarning: DataFrame is highly fragmented.  This is usually the result of calling `frame.insert` many times, which has poor performance.  Consider joining all columns at once using pd.concat(axis=1) instead. To get a de-fragmented frame, use `newframe = frame.copy()`\n",
      "  df[ohe.get_feature_names_out()] = ohe_transformed\n",
      "C:\\Users\\Professional\\AppData\\Local\\Temp\\ipykernel_7676\\2220107148.py:2: PerformanceWarning: DataFrame is highly fragmented.  This is usually the result of calling `frame.insert` many times, which has poor performance.  Consider joining all columns at once using pd.concat(axis=1) instead. To get a de-fragmented frame, use `newframe = frame.copy()`\n",
      "  df[ohe.get_feature_names_out()] = ohe_transformed\n",
      "C:\\Users\\Professional\\AppData\\Local\\Temp\\ipykernel_7676\\2220107148.py:2: PerformanceWarning: DataFrame is highly fragmented.  This is usually the result of calling `frame.insert` many times, which has poor performance.  Consider joining all columns at once using pd.concat(axis=1) instead. To get a de-fragmented frame, use `newframe = frame.copy()`\n",
      "  df[ohe.get_feature_names_out()] = ohe_transformed\n",
      "C:\\Users\\Professional\\AppData\\Local\\Temp\\ipykernel_7676\\2220107148.py:2: PerformanceWarning: DataFrame is highly fragmented.  This is usually the result of calling `frame.insert` many times, which has poor performance.  Consider joining all columns at once using pd.concat(axis=1) instead. To get a de-fragmented frame, use `newframe = frame.copy()`\n",
      "  df[ohe.get_feature_names_out()] = ohe_transformed\n",
      "C:\\Users\\Professional\\AppData\\Local\\Temp\\ipykernel_7676\\2220107148.py:2: PerformanceWarning: DataFrame is highly fragmented.  This is usually the result of calling `frame.insert` many times, which has poor performance.  Consider joining all columns at once using pd.concat(axis=1) instead. To get a de-fragmented frame, use `newframe = frame.copy()`\n",
      "  df[ohe.get_feature_names_out()] = ohe_transformed\n",
      "C:\\Users\\Professional\\AppData\\Local\\Temp\\ipykernel_7676\\2220107148.py:2: PerformanceWarning: DataFrame is highly fragmented.  This is usually the result of calling `frame.insert` many times, which has poor performance.  Consider joining all columns at once using pd.concat(axis=1) instead. To get a de-fragmented frame, use `newframe = frame.copy()`\n",
      "  df[ohe.get_feature_names_out()] = ohe_transformed\n",
      "C:\\Users\\Professional\\AppData\\Local\\Temp\\ipykernel_7676\\2220107148.py:2: PerformanceWarning: DataFrame is highly fragmented.  This is usually the result of calling `frame.insert` many times, which has poor performance.  Consider joining all columns at once using pd.concat(axis=1) instead. To get a de-fragmented frame, use `newframe = frame.copy()`\n",
      "  df[ohe.get_feature_names_out()] = ohe_transformed\n",
      "C:\\Users\\Professional\\AppData\\Local\\Temp\\ipykernel_7676\\2220107148.py:2: PerformanceWarning: DataFrame is highly fragmented.  This is usually the result of calling `frame.insert` many times, which has poor performance.  Consider joining all columns at once using pd.concat(axis=1) instead. To get a de-fragmented frame, use `newframe = frame.copy()`\n",
      "  df[ohe.get_feature_names_out()] = ohe_transformed\n",
      "C:\\Users\\Professional\\AppData\\Local\\Temp\\ipykernel_7676\\2220107148.py:2: PerformanceWarning: DataFrame is highly fragmented.  This is usually the result of calling `frame.insert` many times, which has poor performance.  Consider joining all columns at once using pd.concat(axis=1) instead. To get a de-fragmented frame, use `newframe = frame.copy()`\n",
      "  df[ohe.get_feature_names_out()] = ohe_transformed\n",
      "C:\\Users\\Professional\\AppData\\Local\\Temp\\ipykernel_7676\\2220107148.py:2: PerformanceWarning: DataFrame is highly fragmented.  This is usually the result of calling `frame.insert` many times, which has poor performance.  Consider joining all columns at once using pd.concat(axis=1) instead. To get a de-fragmented frame, use `newframe = frame.copy()`\n",
      "  df[ohe.get_feature_names_out()] = ohe_transformed\n",
      "C:\\Users\\Professional\\AppData\\Local\\Temp\\ipykernel_7676\\2220107148.py:2: PerformanceWarning: DataFrame is highly fragmented.  This is usually the result of calling `frame.insert` many times, which has poor performance.  Consider joining all columns at once using pd.concat(axis=1) instead. To get a de-fragmented frame, use `newframe = frame.copy()`\n",
      "  df[ohe.get_feature_names_out()] = ohe_transformed\n",
      "C:\\Users\\Professional\\AppData\\Local\\Temp\\ipykernel_7676\\2220107148.py:2: PerformanceWarning: DataFrame is highly fragmented.  This is usually the result of calling `frame.insert` many times, which has poor performance.  Consider joining all columns at once using pd.concat(axis=1) instead. To get a de-fragmented frame, use `newframe = frame.copy()`\n",
      "  df[ohe.get_feature_names_out()] = ohe_transformed\n",
      "C:\\Users\\Professional\\AppData\\Local\\Temp\\ipykernel_7676\\2220107148.py:2: PerformanceWarning: DataFrame is highly fragmented.  This is usually the result of calling `frame.insert` many times, which has poor performance.  Consider joining all columns at once using pd.concat(axis=1) instead. To get a de-fragmented frame, use `newframe = frame.copy()`\n",
      "  df[ohe.get_feature_names_out()] = ohe_transformed\n",
      "C:\\Users\\Professional\\AppData\\Local\\Temp\\ipykernel_7676\\2220107148.py:2: PerformanceWarning: DataFrame is highly fragmented.  This is usually the result of calling `frame.insert` many times, which has poor performance.  Consider joining all columns at once using pd.concat(axis=1) instead. To get a de-fragmented frame, use `newframe = frame.copy()`\n",
      "  df[ohe.get_feature_names_out()] = ohe_transformed\n",
      "C:\\Users\\Professional\\AppData\\Local\\Temp\\ipykernel_7676\\2220107148.py:2: PerformanceWarning: DataFrame is highly fragmented.  This is usually the result of calling `frame.insert` many times, which has poor performance.  Consider joining all columns at once using pd.concat(axis=1) instead. To get a de-fragmented frame, use `newframe = frame.copy()`\n",
      "  df[ohe.get_feature_names_out()] = ohe_transformed\n",
      "C:\\Users\\Professional\\AppData\\Local\\Temp\\ipykernel_7676\\2220107148.py:2: PerformanceWarning: DataFrame is highly fragmented.  This is usually the result of calling `frame.insert` many times, which has poor performance.  Consider joining all columns at once using pd.concat(axis=1) instead. To get a de-fragmented frame, use `newframe = frame.copy()`\n",
      "  df[ohe.get_feature_names_out()] = ohe_transformed\n",
      "C:\\Users\\Professional\\AppData\\Local\\Temp\\ipykernel_7676\\2220107148.py:2: PerformanceWarning: DataFrame is highly fragmented.  This is usually the result of calling `frame.insert` many times, which has poor performance.  Consider joining all columns at once using pd.concat(axis=1) instead. To get a de-fragmented frame, use `newframe = frame.copy()`\n",
      "  df[ohe.get_feature_names_out()] = ohe_transformed\n",
      "C:\\Users\\Professional\\AppData\\Local\\Temp\\ipykernel_7676\\2220107148.py:2: PerformanceWarning: DataFrame is highly fragmented.  This is usually the result of calling `frame.insert` many times, which has poor performance.  Consider joining all columns at once using pd.concat(axis=1) instead. To get a de-fragmented frame, use `newframe = frame.copy()`\n",
      "  df[ohe.get_feature_names_out()] = ohe_transformed\n",
      "C:\\Users\\Professional\\AppData\\Local\\Temp\\ipykernel_7676\\2220107148.py:2: PerformanceWarning: DataFrame is highly fragmented.  This is usually the result of calling `frame.insert` many times, which has poor performance.  Consider joining all columns at once using pd.concat(axis=1) instead. To get a de-fragmented frame, use `newframe = frame.copy()`\n",
      "  df[ohe.get_feature_names_out()] = ohe_transformed\n",
      "C:\\Users\\Professional\\AppData\\Local\\Temp\\ipykernel_7676\\2220107148.py:2: PerformanceWarning: DataFrame is highly fragmented.  This is usually the result of calling `frame.insert` many times, which has poor performance.  Consider joining all columns at once using pd.concat(axis=1) instead. To get a de-fragmented frame, use `newframe = frame.copy()`\n",
      "  df[ohe.get_feature_names_out()] = ohe_transformed\n",
      "C:\\Users\\Professional\\AppData\\Local\\Temp\\ipykernel_7676\\2220107148.py:2: PerformanceWarning: DataFrame is highly fragmented.  This is usually the result of calling `frame.insert` many times, which has poor performance.  Consider joining all columns at once using pd.concat(axis=1) instead. To get a de-fragmented frame, use `newframe = frame.copy()`\n",
      "  df[ohe.get_feature_names_out()] = ohe_transformed\n",
      "C:\\Users\\Professional\\AppData\\Local\\Temp\\ipykernel_7676\\2220107148.py:2: PerformanceWarning: DataFrame is highly fragmented.  This is usually the result of calling `frame.insert` many times, which has poor performance.  Consider joining all columns at once using pd.concat(axis=1) instead. To get a de-fragmented frame, use `newframe = frame.copy()`\n",
      "  df[ohe.get_feature_names_out()] = ohe_transformed\n",
      "C:\\Users\\Professional\\AppData\\Local\\Temp\\ipykernel_7676\\2220107148.py:2: PerformanceWarning: DataFrame is highly fragmented.  This is usually the result of calling `frame.insert` many times, which has poor performance.  Consider joining all columns at once using pd.concat(axis=1) instead. To get a de-fragmented frame, use `newframe = frame.copy()`\n",
      "  df[ohe.get_feature_names_out()] = ohe_transformed\n",
      "C:\\Users\\Professional\\AppData\\Local\\Temp\\ipykernel_7676\\2220107148.py:2: PerformanceWarning: DataFrame is highly fragmented.  This is usually the result of calling `frame.insert` many times, which has poor performance.  Consider joining all columns at once using pd.concat(axis=1) instead. To get a de-fragmented frame, use `newframe = frame.copy()`\n",
      "  df[ohe.get_feature_names_out()] = ohe_transformed\n",
      "C:\\Users\\Professional\\AppData\\Local\\Temp\\ipykernel_7676\\2220107148.py:2: PerformanceWarning: DataFrame is highly fragmented.  This is usually the result of calling `frame.insert` many times, which has poor performance.  Consider joining all columns at once using pd.concat(axis=1) instead. To get a de-fragmented frame, use `newframe = frame.copy()`\n",
      "  df[ohe.get_feature_names_out()] = ohe_transformed\n",
      "C:\\Users\\Professional\\AppData\\Local\\Temp\\ipykernel_7676\\2220107148.py:2: PerformanceWarning: DataFrame is highly fragmented.  This is usually the result of calling `frame.insert` many times, which has poor performance.  Consider joining all columns at once using pd.concat(axis=1) instead. To get a de-fragmented frame, use `newframe = frame.copy()`\n",
      "  df[ohe.get_feature_names_out()] = ohe_transformed\n",
      "C:\\Users\\Professional\\AppData\\Local\\Temp\\ipykernel_7676\\2220107148.py:2: PerformanceWarning: DataFrame is highly fragmented.  This is usually the result of calling `frame.insert` many times, which has poor performance.  Consider joining all columns at once using pd.concat(axis=1) instead. To get a de-fragmented frame, use `newframe = frame.copy()`\n",
      "  df[ohe.get_feature_names_out()] = ohe_transformed\n",
      "C:\\Users\\Professional\\AppData\\Local\\Temp\\ipykernel_7676\\2220107148.py:2: PerformanceWarning: DataFrame is highly fragmented.  This is usually the result of calling `frame.insert` many times, which has poor performance.  Consider joining all columns at once using pd.concat(axis=1) instead. To get a de-fragmented frame, use `newframe = frame.copy()`\n",
      "  df[ohe.get_feature_names_out()] = ohe_transformed\n",
      "C:\\Users\\Professional\\AppData\\Local\\Temp\\ipykernel_7676\\2220107148.py:2: PerformanceWarning: DataFrame is highly fragmented.  This is usually the result of calling `frame.insert` many times, which has poor performance.  Consider joining all columns at once using pd.concat(axis=1) instead. To get a de-fragmented frame, use `newframe = frame.copy()`\n",
      "  df[ohe.get_feature_names_out()] = ohe_transformed\n",
      "C:\\Users\\Professional\\AppData\\Local\\Temp\\ipykernel_7676\\2220107148.py:2: PerformanceWarning: DataFrame is highly fragmented.  This is usually the result of calling `frame.insert` many times, which has poor performance.  Consider joining all columns at once using pd.concat(axis=1) instead. To get a de-fragmented frame, use `newframe = frame.copy()`\n",
      "  df[ohe.get_feature_names_out()] = ohe_transformed\n",
      "C:\\Users\\Professional\\AppData\\Local\\Temp\\ipykernel_7676\\2220107148.py:2: PerformanceWarning: DataFrame is highly fragmented.  This is usually the result of calling `frame.insert` many times, which has poor performance.  Consider joining all columns at once using pd.concat(axis=1) instead. To get a de-fragmented frame, use `newframe = frame.copy()`\n",
      "  df[ohe.get_feature_names_out()] = ohe_transformed\n",
      "C:\\Users\\Professional\\AppData\\Local\\Temp\\ipykernel_7676\\2220107148.py:2: PerformanceWarning: DataFrame is highly fragmented.  This is usually the result of calling `frame.insert` many times, which has poor performance.  Consider joining all columns at once using pd.concat(axis=1) instead. To get a de-fragmented frame, use `newframe = frame.copy()`\n",
      "  df[ohe.get_feature_names_out()] = ohe_transformed\n",
      "C:\\Users\\Professional\\AppData\\Local\\Temp\\ipykernel_7676\\2220107148.py:2: PerformanceWarning: DataFrame is highly fragmented.  This is usually the result of calling `frame.insert` many times, which has poor performance.  Consider joining all columns at once using pd.concat(axis=1) instead. To get a de-fragmented frame, use `newframe = frame.copy()`\n",
      "  df[ohe.get_feature_names_out()] = ohe_transformed\n",
      "C:\\Users\\Professional\\AppData\\Local\\Temp\\ipykernel_7676\\2220107148.py:2: PerformanceWarning: DataFrame is highly fragmented.  This is usually the result of calling `frame.insert` many times, which has poor performance.  Consider joining all columns at once using pd.concat(axis=1) instead. To get a de-fragmented frame, use `newframe = frame.copy()`\n",
      "  df[ohe.get_feature_names_out()] = ohe_transformed\n",
      "C:\\Users\\Professional\\AppData\\Local\\Temp\\ipykernel_7676\\2220107148.py:2: PerformanceWarning: DataFrame is highly fragmented.  This is usually the result of calling `frame.insert` many times, which has poor performance.  Consider joining all columns at once using pd.concat(axis=1) instead. To get a de-fragmented frame, use `newframe = frame.copy()`\n",
      "  df[ohe.get_feature_names_out()] = ohe_transformed\n",
      "C:\\Users\\Professional\\AppData\\Local\\Temp\\ipykernel_7676\\2220107148.py:2: PerformanceWarning: DataFrame is highly fragmented.  This is usually the result of calling `frame.insert` many times, which has poor performance.  Consider joining all columns at once using pd.concat(axis=1) instead. To get a de-fragmented frame, use `newframe = frame.copy()`\n",
      "  df[ohe.get_feature_names_out()] = ohe_transformed\n",
      "C:\\Users\\Professional\\AppData\\Local\\Temp\\ipykernel_7676\\2220107148.py:2: PerformanceWarning: DataFrame is highly fragmented.  This is usually the result of calling `frame.insert` many times, which has poor performance.  Consider joining all columns at once using pd.concat(axis=1) instead. To get a de-fragmented frame, use `newframe = frame.copy()`\n",
      "  df[ohe.get_feature_names_out()] = ohe_transformed\n",
      "C:\\Users\\Professional\\AppData\\Local\\Temp\\ipykernel_7676\\2220107148.py:2: PerformanceWarning: DataFrame is highly fragmented.  This is usually the result of calling `frame.insert` many times, which has poor performance.  Consider joining all columns at once using pd.concat(axis=1) instead. To get a de-fragmented frame, use `newframe = frame.copy()`\n",
      "  df[ohe.get_feature_names_out()] = ohe_transformed\n",
      "C:\\Users\\Professional\\AppData\\Local\\Temp\\ipykernel_7676\\2220107148.py:2: PerformanceWarning: DataFrame is highly fragmented.  This is usually the result of calling `frame.insert` many times, which has poor performance.  Consider joining all columns at once using pd.concat(axis=1) instead. To get a de-fragmented frame, use `newframe = frame.copy()`\n",
      "  df[ohe.get_feature_names_out()] = ohe_transformed\n",
      "C:\\Users\\Professional\\AppData\\Local\\Temp\\ipykernel_7676\\2220107148.py:2: PerformanceWarning: DataFrame is highly fragmented.  This is usually the result of calling `frame.insert` many times, which has poor performance.  Consider joining all columns at once using pd.concat(axis=1) instead. To get a de-fragmented frame, use `newframe = frame.copy()`\n",
      "  df[ohe.get_feature_names_out()] = ohe_transformed\n",
      "C:\\Users\\Professional\\AppData\\Local\\Temp\\ipykernel_7676\\2220107148.py:2: PerformanceWarning: DataFrame is highly fragmented.  This is usually the result of calling `frame.insert` many times, which has poor performance.  Consider joining all columns at once using pd.concat(axis=1) instead. To get a de-fragmented frame, use `newframe = frame.copy()`\n",
      "  df[ohe.get_feature_names_out()] = ohe_transformed\n",
      "C:\\Users\\Professional\\AppData\\Local\\Temp\\ipykernel_7676\\2220107148.py:2: PerformanceWarning: DataFrame is highly fragmented.  This is usually the result of calling `frame.insert` many times, which has poor performance.  Consider joining all columns at once using pd.concat(axis=1) instead. To get a de-fragmented frame, use `newframe = frame.copy()`\n",
      "  df[ohe.get_feature_names_out()] = ohe_transformed\n",
      "C:\\Users\\Professional\\AppData\\Local\\Temp\\ipykernel_7676\\2220107148.py:2: PerformanceWarning: DataFrame is highly fragmented.  This is usually the result of calling `frame.insert` many times, which has poor performance.  Consider joining all columns at once using pd.concat(axis=1) instead. To get a de-fragmented frame, use `newframe = frame.copy()`\n",
      "  df[ohe.get_feature_names_out()] = ohe_transformed\n",
      "C:\\Users\\Professional\\AppData\\Local\\Temp\\ipykernel_7676\\2220107148.py:2: PerformanceWarning: DataFrame is highly fragmented.  This is usually the result of calling `frame.insert` many times, which has poor performance.  Consider joining all columns at once using pd.concat(axis=1) instead. To get a de-fragmented frame, use `newframe = frame.copy()`\n",
      "  df[ohe.get_feature_names_out()] = ohe_transformed\n",
      "C:\\Users\\Professional\\AppData\\Local\\Temp\\ipykernel_7676\\2220107148.py:2: PerformanceWarning: DataFrame is highly fragmented.  This is usually the result of calling `frame.insert` many times, which has poor performance.  Consider joining all columns at once using pd.concat(axis=1) instead. To get a de-fragmented frame, use `newframe = frame.copy()`\n",
      "  df[ohe.get_feature_names_out()] = ohe_transformed\n",
      "C:\\Users\\Professional\\AppData\\Local\\Temp\\ipykernel_7676\\2220107148.py:2: PerformanceWarning: DataFrame is highly fragmented.  This is usually the result of calling `frame.insert` many times, which has poor performance.  Consider joining all columns at once using pd.concat(axis=1) instead. To get a de-fragmented frame, use `newframe = frame.copy()`\n",
      "  df[ohe.get_feature_names_out()] = ohe_transformed\n",
      "C:\\Users\\Professional\\AppData\\Local\\Temp\\ipykernel_7676\\2220107148.py:2: PerformanceWarning: DataFrame is highly fragmented.  This is usually the result of calling `frame.insert` many times, which has poor performance.  Consider joining all columns at once using pd.concat(axis=1) instead. To get a de-fragmented frame, use `newframe = frame.copy()`\n",
      "  df[ohe.get_feature_names_out()] = ohe_transformed\n",
      "C:\\Users\\Professional\\AppData\\Local\\Temp\\ipykernel_7676\\2220107148.py:2: PerformanceWarning: DataFrame is highly fragmented.  This is usually the result of calling `frame.insert` many times, which has poor performance.  Consider joining all columns at once using pd.concat(axis=1) instead. To get a de-fragmented frame, use `newframe = frame.copy()`\n",
      "  df[ohe.get_feature_names_out()] = ohe_transformed\n",
      "C:\\Users\\Professional\\AppData\\Local\\Temp\\ipykernel_7676\\2220107148.py:2: PerformanceWarning: DataFrame is highly fragmented.  This is usually the result of calling `frame.insert` many times, which has poor performance.  Consider joining all columns at once using pd.concat(axis=1) instead. To get a de-fragmented frame, use `newframe = frame.copy()`\n",
      "  df[ohe.get_feature_names_out()] = ohe_transformed\n",
      "C:\\Users\\Professional\\AppData\\Local\\Temp\\ipykernel_7676\\2220107148.py:2: PerformanceWarning: DataFrame is highly fragmented.  This is usually the result of calling `frame.insert` many times, which has poor performance.  Consider joining all columns at once using pd.concat(axis=1) instead. To get a de-fragmented frame, use `newframe = frame.copy()`\n",
      "  df[ohe.get_feature_names_out()] = ohe_transformed\n",
      "C:\\Users\\Professional\\AppData\\Local\\Temp\\ipykernel_7676\\2220107148.py:2: PerformanceWarning: DataFrame is highly fragmented.  This is usually the result of calling `frame.insert` many times, which has poor performance.  Consider joining all columns at once using pd.concat(axis=1) instead. To get a de-fragmented frame, use `newframe = frame.copy()`\n",
      "  df[ohe.get_feature_names_out()] = ohe_transformed\n",
      "C:\\Users\\Professional\\AppData\\Local\\Temp\\ipykernel_7676\\2220107148.py:2: PerformanceWarning: DataFrame is highly fragmented.  This is usually the result of calling `frame.insert` many times, which has poor performance.  Consider joining all columns at once using pd.concat(axis=1) instead. To get a de-fragmented frame, use `newframe = frame.copy()`\n",
      "  df[ohe.get_feature_names_out()] = ohe_transformed\n",
      "C:\\Users\\Professional\\AppData\\Local\\Temp\\ipykernel_7676\\2220107148.py:2: PerformanceWarning: DataFrame is highly fragmented.  This is usually the result of calling `frame.insert` many times, which has poor performance.  Consider joining all columns at once using pd.concat(axis=1) instead. To get a de-fragmented frame, use `newframe = frame.copy()`\n",
      "  df[ohe.get_feature_names_out()] = ohe_transformed\n",
      "C:\\Users\\Professional\\AppData\\Local\\Temp\\ipykernel_7676\\2220107148.py:2: PerformanceWarning: DataFrame is highly fragmented.  This is usually the result of calling `frame.insert` many times, which has poor performance.  Consider joining all columns at once using pd.concat(axis=1) instead. To get a de-fragmented frame, use `newframe = frame.copy()`\n",
      "  df[ohe.get_feature_names_out()] = ohe_transformed\n",
      "C:\\Users\\Professional\\AppData\\Local\\Temp\\ipykernel_7676\\2220107148.py:2: PerformanceWarning: DataFrame is highly fragmented.  This is usually the result of calling `frame.insert` many times, which has poor performance.  Consider joining all columns at once using pd.concat(axis=1) instead. To get a de-fragmented frame, use `newframe = frame.copy()`\n",
      "  df[ohe.get_feature_names_out()] = ohe_transformed\n",
      "C:\\Users\\Professional\\AppData\\Local\\Temp\\ipykernel_7676\\2220107148.py:2: PerformanceWarning: DataFrame is highly fragmented.  This is usually the result of calling `frame.insert` many times, which has poor performance.  Consider joining all columns at once using pd.concat(axis=1) instead. To get a de-fragmented frame, use `newframe = frame.copy()`\n",
      "  df[ohe.get_feature_names_out()] = ohe_transformed\n",
      "C:\\Users\\Professional\\AppData\\Local\\Temp\\ipykernel_7676\\2220107148.py:2: PerformanceWarning: DataFrame is highly fragmented.  This is usually the result of calling `frame.insert` many times, which has poor performance.  Consider joining all columns at once using pd.concat(axis=1) instead. To get a de-fragmented frame, use `newframe = frame.copy()`\n",
      "  df[ohe.get_feature_names_out()] = ohe_transformed\n",
      "C:\\Users\\Professional\\AppData\\Local\\Temp\\ipykernel_7676\\2220107148.py:2: PerformanceWarning: DataFrame is highly fragmented.  This is usually the result of calling `frame.insert` many times, which has poor performance.  Consider joining all columns at once using pd.concat(axis=1) instead. To get a de-fragmented frame, use `newframe = frame.copy()`\n",
      "  df[ohe.get_feature_names_out()] = ohe_transformed\n",
      "C:\\Users\\Professional\\AppData\\Local\\Temp\\ipykernel_7676\\2220107148.py:2: PerformanceWarning: DataFrame is highly fragmented.  This is usually the result of calling `frame.insert` many times, which has poor performance.  Consider joining all columns at once using pd.concat(axis=1) instead. To get a de-fragmented frame, use `newframe = frame.copy()`\n",
      "  df[ohe.get_feature_names_out()] = ohe_transformed\n",
      "C:\\Users\\Professional\\AppData\\Local\\Temp\\ipykernel_7676\\2220107148.py:2: PerformanceWarning: DataFrame is highly fragmented.  This is usually the result of calling `frame.insert` many times, which has poor performance.  Consider joining all columns at once using pd.concat(axis=1) instead. To get a de-fragmented frame, use `newframe = frame.copy()`\n",
      "  df[ohe.get_feature_names_out()] = ohe_transformed\n",
      "C:\\Users\\Professional\\AppData\\Local\\Temp\\ipykernel_7676\\2220107148.py:2: PerformanceWarning: DataFrame is highly fragmented.  This is usually the result of calling `frame.insert` many times, which has poor performance.  Consider joining all columns at once using pd.concat(axis=1) instead. To get a de-fragmented frame, use `newframe = frame.copy()`\n",
      "  df[ohe.get_feature_names_out()] = ohe_transformed\n",
      "C:\\Users\\Professional\\AppData\\Local\\Temp\\ipykernel_7676\\2220107148.py:2: PerformanceWarning: DataFrame is highly fragmented.  This is usually the result of calling `frame.insert` many times, which has poor performance.  Consider joining all columns at once using pd.concat(axis=1) instead. To get a de-fragmented frame, use `newframe = frame.copy()`\n",
      "  df[ohe.get_feature_names_out()] = ohe_transformed\n",
      "C:\\Users\\Professional\\AppData\\Local\\Temp\\ipykernel_7676\\2220107148.py:2: PerformanceWarning: DataFrame is highly fragmented.  This is usually the result of calling `frame.insert` many times, which has poor performance.  Consider joining all columns at once using pd.concat(axis=1) instead. To get a de-fragmented frame, use `newframe = frame.copy()`\n",
      "  df[ohe.get_feature_names_out()] = ohe_transformed\n",
      "C:\\Users\\Professional\\AppData\\Local\\Temp\\ipykernel_7676\\2220107148.py:2: PerformanceWarning: DataFrame is highly fragmented.  This is usually the result of calling `frame.insert` many times, which has poor performance.  Consider joining all columns at once using pd.concat(axis=1) instead. To get a de-fragmented frame, use `newframe = frame.copy()`\n",
      "  df[ohe.get_feature_names_out()] = ohe_transformed\n",
      "C:\\Users\\Professional\\AppData\\Local\\Temp\\ipykernel_7676\\2220107148.py:2: PerformanceWarning: DataFrame is highly fragmented.  This is usually the result of calling `frame.insert` many times, which has poor performance.  Consider joining all columns at once using pd.concat(axis=1) instead. To get a de-fragmented frame, use `newframe = frame.copy()`\n",
      "  df[ohe.get_feature_names_out()] = ohe_transformed\n",
      "C:\\Users\\Professional\\AppData\\Local\\Temp\\ipykernel_7676\\2220107148.py:2: PerformanceWarning: DataFrame is highly fragmented.  This is usually the result of calling `frame.insert` many times, which has poor performance.  Consider joining all columns at once using pd.concat(axis=1) instead. To get a de-fragmented frame, use `newframe = frame.copy()`\n",
      "  df[ohe.get_feature_names_out()] = ohe_transformed\n",
      "C:\\Users\\Professional\\AppData\\Local\\Temp\\ipykernel_7676\\2220107148.py:2: PerformanceWarning: DataFrame is highly fragmented.  This is usually the result of calling `frame.insert` many times, which has poor performance.  Consider joining all columns at once using pd.concat(axis=1) instead. To get a de-fragmented frame, use `newframe = frame.copy()`\n",
      "  df[ohe.get_feature_names_out()] = ohe_transformed\n",
      "C:\\Users\\Professional\\AppData\\Local\\Temp\\ipykernel_7676\\2220107148.py:2: PerformanceWarning: DataFrame is highly fragmented.  This is usually the result of calling `frame.insert` many times, which has poor performance.  Consider joining all columns at once using pd.concat(axis=1) instead. To get a de-fragmented frame, use `newframe = frame.copy()`\n",
      "  df[ohe.get_feature_names_out()] = ohe_transformed\n",
      "C:\\Users\\Professional\\AppData\\Local\\Temp\\ipykernel_7676\\2220107148.py:2: PerformanceWarning: DataFrame is highly fragmented.  This is usually the result of calling `frame.insert` many times, which has poor performance.  Consider joining all columns at once using pd.concat(axis=1) instead. To get a de-fragmented frame, use `newframe = frame.copy()`\n",
      "  df[ohe.get_feature_names_out()] = ohe_transformed\n",
      "C:\\Users\\Professional\\AppData\\Local\\Temp\\ipykernel_7676\\2220107148.py:2: PerformanceWarning: DataFrame is highly fragmented.  This is usually the result of calling `frame.insert` many times, which has poor performance.  Consider joining all columns at once using pd.concat(axis=1) instead. To get a de-fragmented frame, use `newframe = frame.copy()`\n",
      "  df[ohe.get_feature_names_out()] = ohe_transformed\n",
      "C:\\Users\\Professional\\AppData\\Local\\Temp\\ipykernel_7676\\2220107148.py:2: PerformanceWarning: DataFrame is highly fragmented.  This is usually the result of calling `frame.insert` many times, which has poor performance.  Consider joining all columns at once using pd.concat(axis=1) instead. To get a de-fragmented frame, use `newframe = frame.copy()`\n",
      "  df[ohe.get_feature_names_out()] = ohe_transformed\n",
      "C:\\Users\\Professional\\AppData\\Local\\Temp\\ipykernel_7676\\2220107148.py:2: PerformanceWarning: DataFrame is highly fragmented.  This is usually the result of calling `frame.insert` many times, which has poor performance.  Consider joining all columns at once using pd.concat(axis=1) instead. To get a de-fragmented frame, use `newframe = frame.copy()`\n",
      "  df[ohe.get_feature_names_out()] = ohe_transformed\n",
      "C:\\Users\\Professional\\AppData\\Local\\Temp\\ipykernel_7676\\2220107148.py:2: PerformanceWarning: DataFrame is highly fragmented.  This is usually the result of calling `frame.insert` many times, which has poor performance.  Consider joining all columns at once using pd.concat(axis=1) instead. To get a de-fragmented frame, use `newframe = frame.copy()`\n",
      "  df[ohe.get_feature_names_out()] = ohe_transformed\n",
      "C:\\Users\\Professional\\AppData\\Local\\Temp\\ipykernel_7676\\2220107148.py:2: PerformanceWarning: DataFrame is highly fragmented.  This is usually the result of calling `frame.insert` many times, which has poor performance.  Consider joining all columns at once using pd.concat(axis=1) instead. To get a de-fragmented frame, use `newframe = frame.copy()`\n",
      "  df[ohe.get_feature_names_out()] = ohe_transformed\n",
      "C:\\Users\\Professional\\AppData\\Local\\Temp\\ipykernel_7676\\2220107148.py:2: PerformanceWarning: DataFrame is highly fragmented.  This is usually the result of calling `frame.insert` many times, which has poor performance.  Consider joining all columns at once using pd.concat(axis=1) instead. To get a de-fragmented frame, use `newframe = frame.copy()`\n",
      "  df[ohe.get_feature_names_out()] = ohe_transformed\n",
      "C:\\Users\\Professional\\AppData\\Local\\Temp\\ipykernel_7676\\2220107148.py:2: PerformanceWarning: DataFrame is highly fragmented.  This is usually the result of calling `frame.insert` many times, which has poor performance.  Consider joining all columns at once using pd.concat(axis=1) instead. To get a de-fragmented frame, use `newframe = frame.copy()`\n",
      "  df[ohe.get_feature_names_out()] = ohe_transformed\n",
      "C:\\Users\\Professional\\AppData\\Local\\Temp\\ipykernel_7676\\2220107148.py:2: PerformanceWarning: DataFrame is highly fragmented.  This is usually the result of calling `frame.insert` many times, which has poor performance.  Consider joining all columns at once using pd.concat(axis=1) instead. To get a de-fragmented frame, use `newframe = frame.copy()`\n",
      "  df[ohe.get_feature_names_out()] = ohe_transformed\n",
      "C:\\Users\\Professional\\AppData\\Local\\Temp\\ipykernel_7676\\2220107148.py:2: PerformanceWarning: DataFrame is highly fragmented.  This is usually the result of calling `frame.insert` many times, which has poor performance.  Consider joining all columns at once using pd.concat(axis=1) instead. To get a de-fragmented frame, use `newframe = frame.copy()`\n",
      "  df[ohe.get_feature_names_out()] = ohe_transformed\n",
      "C:\\Users\\Professional\\AppData\\Local\\Temp\\ipykernel_7676\\2220107148.py:2: PerformanceWarning: DataFrame is highly fragmented.  This is usually the result of calling `frame.insert` many times, which has poor performance.  Consider joining all columns at once using pd.concat(axis=1) instead. To get a de-fragmented frame, use `newframe = frame.copy()`\n",
      "  df[ohe.get_feature_names_out()] = ohe_transformed\n",
      "C:\\Users\\Professional\\AppData\\Local\\Temp\\ipykernel_7676\\2220107148.py:2: PerformanceWarning: DataFrame is highly fragmented.  This is usually the result of calling `frame.insert` many times, which has poor performance.  Consider joining all columns at once using pd.concat(axis=1) instead. To get a de-fragmented frame, use `newframe = frame.copy()`\n",
      "  df[ohe.get_feature_names_out()] = ohe_transformed\n",
      "C:\\Users\\Professional\\AppData\\Local\\Temp\\ipykernel_7676\\2220107148.py:2: PerformanceWarning: DataFrame is highly fragmented.  This is usually the result of calling `frame.insert` many times, which has poor performance.  Consider joining all columns at once using pd.concat(axis=1) instead. To get a de-fragmented frame, use `newframe = frame.copy()`\n",
      "  df[ohe.get_feature_names_out()] = ohe_transformed\n",
      "C:\\Users\\Professional\\AppData\\Local\\Temp\\ipykernel_7676\\2220107148.py:2: PerformanceWarning: DataFrame is highly fragmented.  This is usually the result of calling `frame.insert` many times, which has poor performance.  Consider joining all columns at once using pd.concat(axis=1) instead. To get a de-fragmented frame, use `newframe = frame.copy()`\n",
      "  df[ohe.get_feature_names_out()] = ohe_transformed\n",
      "C:\\Users\\Professional\\AppData\\Local\\Temp\\ipykernel_7676\\2220107148.py:2: PerformanceWarning: DataFrame is highly fragmented.  This is usually the result of calling `frame.insert` many times, which has poor performance.  Consider joining all columns at once using pd.concat(axis=1) instead. To get a de-fragmented frame, use `newframe = frame.copy()`\n",
      "  df[ohe.get_feature_names_out()] = ohe_transformed\n",
      "C:\\Users\\Professional\\AppData\\Local\\Temp\\ipykernel_7676\\2220107148.py:2: PerformanceWarning: DataFrame is highly fragmented.  This is usually the result of calling `frame.insert` many times, which has poor performance.  Consider joining all columns at once using pd.concat(axis=1) instead. To get a de-fragmented frame, use `newframe = frame.copy()`\n",
      "  df[ohe.get_feature_names_out()] = ohe_transformed\n",
      "C:\\Users\\Professional\\AppData\\Local\\Temp\\ipykernel_7676\\2220107148.py:2: PerformanceWarning: DataFrame is highly fragmented.  This is usually the result of calling `frame.insert` many times, which has poor performance.  Consider joining all columns at once using pd.concat(axis=1) instead. To get a de-fragmented frame, use `newframe = frame.copy()`\n",
      "  df[ohe.get_feature_names_out()] = ohe_transformed\n",
      "C:\\Users\\Professional\\AppData\\Local\\Temp\\ipykernel_7676\\2220107148.py:2: PerformanceWarning: DataFrame is highly fragmented.  This is usually the result of calling `frame.insert` many times, which has poor performance.  Consider joining all columns at once using pd.concat(axis=1) instead. To get a de-fragmented frame, use `newframe = frame.copy()`\n",
      "  df[ohe.get_feature_names_out()] = ohe_transformed\n",
      "C:\\Users\\Professional\\AppData\\Local\\Temp\\ipykernel_7676\\2220107148.py:2: PerformanceWarning: DataFrame is highly fragmented.  This is usually the result of calling `frame.insert` many times, which has poor performance.  Consider joining all columns at once using pd.concat(axis=1) instead. To get a de-fragmented frame, use `newframe = frame.copy()`\n",
      "  df[ohe.get_feature_names_out()] = ohe_transformed\n",
      "C:\\Users\\Professional\\AppData\\Local\\Temp\\ipykernel_7676\\2220107148.py:2: PerformanceWarning: DataFrame is highly fragmented.  This is usually the result of calling `frame.insert` many times, which has poor performance.  Consider joining all columns at once using pd.concat(axis=1) instead. To get a de-fragmented frame, use `newframe = frame.copy()`\n",
      "  df[ohe.get_feature_names_out()] = ohe_transformed\n",
      "C:\\Users\\Professional\\AppData\\Local\\Temp\\ipykernel_7676\\2220107148.py:2: PerformanceWarning: DataFrame is highly fragmented.  This is usually the result of calling `frame.insert` many times, which has poor performance.  Consider joining all columns at once using pd.concat(axis=1) instead. To get a de-fragmented frame, use `newframe = frame.copy()`\n",
      "  df[ohe.get_feature_names_out()] = ohe_transformed\n",
      "C:\\Users\\Professional\\AppData\\Local\\Temp\\ipykernel_7676\\2220107148.py:2: PerformanceWarning: DataFrame is highly fragmented.  This is usually the result of calling `frame.insert` many times, which has poor performance.  Consider joining all columns at once using pd.concat(axis=1) instead. To get a de-fragmented frame, use `newframe = frame.copy()`\n",
      "  df[ohe.get_feature_names_out()] = ohe_transformed\n",
      "C:\\Users\\Professional\\AppData\\Local\\Temp\\ipykernel_7676\\2220107148.py:2: PerformanceWarning: DataFrame is highly fragmented.  This is usually the result of calling `frame.insert` many times, which has poor performance.  Consider joining all columns at once using pd.concat(axis=1) instead. To get a de-fragmented frame, use `newframe = frame.copy()`\n",
      "  df[ohe.get_feature_names_out()] = ohe_transformed\n",
      "C:\\Users\\Professional\\AppData\\Local\\Temp\\ipykernel_7676\\2220107148.py:2: PerformanceWarning: DataFrame is highly fragmented.  This is usually the result of calling `frame.insert` many times, which has poor performance.  Consider joining all columns at once using pd.concat(axis=1) instead. To get a de-fragmented frame, use `newframe = frame.copy()`\n",
      "  df[ohe.get_feature_names_out()] = ohe_transformed\n",
      "C:\\Users\\Professional\\AppData\\Local\\Temp\\ipykernel_7676\\2220107148.py:2: PerformanceWarning: DataFrame is highly fragmented.  This is usually the result of calling `frame.insert` many times, which has poor performance.  Consider joining all columns at once using pd.concat(axis=1) instead. To get a de-fragmented frame, use `newframe = frame.copy()`\n",
      "  df[ohe.get_feature_names_out()] = ohe_transformed\n",
      "C:\\Users\\Professional\\AppData\\Local\\Temp\\ipykernel_7676\\2220107148.py:2: PerformanceWarning: DataFrame is highly fragmented.  This is usually the result of calling `frame.insert` many times, which has poor performance.  Consider joining all columns at once using pd.concat(axis=1) instead. To get a de-fragmented frame, use `newframe = frame.copy()`\n",
      "  df[ohe.get_feature_names_out()] = ohe_transformed\n",
      "C:\\Users\\Professional\\AppData\\Local\\Temp\\ipykernel_7676\\2220107148.py:2: PerformanceWarning: DataFrame is highly fragmented.  This is usually the result of calling `frame.insert` many times, which has poor performance.  Consider joining all columns at once using pd.concat(axis=1) instead. To get a de-fragmented frame, use `newframe = frame.copy()`\n",
      "  df[ohe.get_feature_names_out()] = ohe_transformed\n",
      "C:\\Users\\Professional\\AppData\\Local\\Temp\\ipykernel_7676\\2220107148.py:2: PerformanceWarning: DataFrame is highly fragmented.  This is usually the result of calling `frame.insert` many times, which has poor performance.  Consider joining all columns at once using pd.concat(axis=1) instead. To get a de-fragmented frame, use `newframe = frame.copy()`\n",
      "  df[ohe.get_feature_names_out()] = ohe_transformed\n",
      "C:\\Users\\Professional\\AppData\\Local\\Temp\\ipykernel_7676\\2220107148.py:2: PerformanceWarning: DataFrame is highly fragmented.  This is usually the result of calling `frame.insert` many times, which has poor performance.  Consider joining all columns at once using pd.concat(axis=1) instead. To get a de-fragmented frame, use `newframe = frame.copy()`\n",
      "  df[ohe.get_feature_names_out()] = ohe_transformed\n",
      "C:\\Users\\Professional\\AppData\\Local\\Temp\\ipykernel_7676\\2220107148.py:2: PerformanceWarning: DataFrame is highly fragmented.  This is usually the result of calling `frame.insert` many times, which has poor performance.  Consider joining all columns at once using pd.concat(axis=1) instead. To get a de-fragmented frame, use `newframe = frame.copy()`\n",
      "  df[ohe.get_feature_names_out()] = ohe_transformed\n",
      "C:\\Users\\Professional\\AppData\\Local\\Temp\\ipykernel_7676\\2220107148.py:2: PerformanceWarning: DataFrame is highly fragmented.  This is usually the result of calling `frame.insert` many times, which has poor performance.  Consider joining all columns at once using pd.concat(axis=1) instead. To get a de-fragmented frame, use `newframe = frame.copy()`\n",
      "  df[ohe.get_feature_names_out()] = ohe_transformed\n",
      "C:\\Users\\Professional\\AppData\\Local\\Temp\\ipykernel_7676\\2220107148.py:2: PerformanceWarning: DataFrame is highly fragmented.  This is usually the result of calling `frame.insert` many times, which has poor performance.  Consider joining all columns at once using pd.concat(axis=1) instead. To get a de-fragmented frame, use `newframe = frame.copy()`\n",
      "  df[ohe.get_feature_names_out()] = ohe_transformed\n",
      "C:\\Users\\Professional\\AppData\\Local\\Temp\\ipykernel_7676\\2220107148.py:2: PerformanceWarning: DataFrame is highly fragmented.  This is usually the result of calling `frame.insert` many times, which has poor performance.  Consider joining all columns at once using pd.concat(axis=1) instead. To get a de-fragmented frame, use `newframe = frame.copy()`\n",
      "  df[ohe.get_feature_names_out()] = ohe_transformed\n",
      "C:\\Users\\Professional\\AppData\\Local\\Temp\\ipykernel_7676\\2220107148.py:2: PerformanceWarning: DataFrame is highly fragmented.  This is usually the result of calling `frame.insert` many times, which has poor performance.  Consider joining all columns at once using pd.concat(axis=1) instead. To get a de-fragmented frame, use `newframe = frame.copy()`\n",
      "  df[ohe.get_feature_names_out()] = ohe_transformed\n",
      "C:\\Users\\Professional\\AppData\\Local\\Temp\\ipykernel_7676\\2220107148.py:2: PerformanceWarning: DataFrame is highly fragmented.  This is usually the result of calling `frame.insert` many times, which has poor performance.  Consider joining all columns at once using pd.concat(axis=1) instead. To get a de-fragmented frame, use `newframe = frame.copy()`\n",
      "  df[ohe.get_feature_names_out()] = ohe_transformed\n",
      "C:\\Users\\Professional\\AppData\\Local\\Temp\\ipykernel_7676\\2220107148.py:2: PerformanceWarning: DataFrame is highly fragmented.  This is usually the result of calling `frame.insert` many times, which has poor performance.  Consider joining all columns at once using pd.concat(axis=1) instead. To get a de-fragmented frame, use `newframe = frame.copy()`\n",
      "  df[ohe.get_feature_names_out()] = ohe_transformed\n",
      "C:\\Users\\Professional\\AppData\\Local\\Temp\\ipykernel_7676\\2220107148.py:2: PerformanceWarning: DataFrame is highly fragmented.  This is usually the result of calling `frame.insert` many times, which has poor performance.  Consider joining all columns at once using pd.concat(axis=1) instead. To get a de-fragmented frame, use `newframe = frame.copy()`\n",
      "  df[ohe.get_feature_names_out()] = ohe_transformed\n",
      "C:\\Users\\Professional\\AppData\\Local\\Temp\\ipykernel_7676\\2220107148.py:2: PerformanceWarning: DataFrame is highly fragmented.  This is usually the result of calling `frame.insert` many times, which has poor performance.  Consider joining all columns at once using pd.concat(axis=1) instead. To get a de-fragmented frame, use `newframe = frame.copy()`\n",
      "  df[ohe.get_feature_names_out()] = ohe_transformed\n",
      "C:\\Users\\Professional\\AppData\\Local\\Temp\\ipykernel_7676\\2220107148.py:2: PerformanceWarning: DataFrame is highly fragmented.  This is usually the result of calling `frame.insert` many times, which has poor performance.  Consider joining all columns at once using pd.concat(axis=1) instead. To get a de-fragmented frame, use `newframe = frame.copy()`\n",
      "  df[ohe.get_feature_names_out()] = ohe_transformed\n",
      "C:\\Users\\Professional\\AppData\\Local\\Temp\\ipykernel_7676\\2220107148.py:2: PerformanceWarning: DataFrame is highly fragmented.  This is usually the result of calling `frame.insert` many times, which has poor performance.  Consider joining all columns at once using pd.concat(axis=1) instead. To get a de-fragmented frame, use `newframe = frame.copy()`\n",
      "  df[ohe.get_feature_names_out()] = ohe_transformed\n",
      "C:\\Users\\Professional\\AppData\\Local\\Temp\\ipykernel_7676\\2220107148.py:2: PerformanceWarning: DataFrame is highly fragmented.  This is usually the result of calling `frame.insert` many times, which has poor performance.  Consider joining all columns at once using pd.concat(axis=1) instead. To get a de-fragmented frame, use `newframe = frame.copy()`\n",
      "  df[ohe.get_feature_names_out()] = ohe_transformed\n",
      "C:\\Users\\Professional\\AppData\\Local\\Temp\\ipykernel_7676\\2220107148.py:2: PerformanceWarning: DataFrame is highly fragmented.  This is usually the result of calling `frame.insert` many times, which has poor performance.  Consider joining all columns at once using pd.concat(axis=1) instead. To get a de-fragmented frame, use `newframe = frame.copy()`\n",
      "  df[ohe.get_feature_names_out()] = ohe_transformed\n",
      "C:\\Users\\Professional\\AppData\\Local\\Temp\\ipykernel_7676\\2220107148.py:2: PerformanceWarning: DataFrame is highly fragmented.  This is usually the result of calling `frame.insert` many times, which has poor performance.  Consider joining all columns at once using pd.concat(axis=1) instead. To get a de-fragmented frame, use `newframe = frame.copy()`\n",
      "  df[ohe.get_feature_names_out()] = ohe_transformed\n",
      "C:\\Users\\Professional\\AppData\\Local\\Temp\\ipykernel_7676\\2220107148.py:2: PerformanceWarning: DataFrame is highly fragmented.  This is usually the result of calling `frame.insert` many times, which has poor performance.  Consider joining all columns at once using pd.concat(axis=1) instead. To get a de-fragmented frame, use `newframe = frame.copy()`\n",
      "  df[ohe.get_feature_names_out()] = ohe_transformed\n",
      "C:\\Users\\Professional\\AppData\\Local\\Temp\\ipykernel_7676\\2220107148.py:2: PerformanceWarning: DataFrame is highly fragmented.  This is usually the result of calling `frame.insert` many times, which has poor performance.  Consider joining all columns at once using pd.concat(axis=1) instead. To get a de-fragmented frame, use `newframe = frame.copy()`\n",
      "  df[ohe.get_feature_names_out()] = ohe_transformed\n",
      "C:\\Users\\Professional\\AppData\\Local\\Temp\\ipykernel_7676\\2220107148.py:2: PerformanceWarning: DataFrame is highly fragmented.  This is usually the result of calling `frame.insert` many times, which has poor performance.  Consider joining all columns at once using pd.concat(axis=1) instead. To get a de-fragmented frame, use `newframe = frame.copy()`\n",
      "  df[ohe.get_feature_names_out()] = ohe_transformed\n",
      "C:\\Users\\Professional\\AppData\\Local\\Temp\\ipykernel_7676\\2220107148.py:2: PerformanceWarning: DataFrame is highly fragmented.  This is usually the result of calling `frame.insert` many times, which has poor performance.  Consider joining all columns at once using pd.concat(axis=1) instead. To get a de-fragmented frame, use `newframe = frame.copy()`\n",
      "  df[ohe.get_feature_names_out()] = ohe_transformed\n",
      "C:\\Users\\Professional\\AppData\\Local\\Temp\\ipykernel_7676\\2220107148.py:2: PerformanceWarning: DataFrame is highly fragmented.  This is usually the result of calling `frame.insert` many times, which has poor performance.  Consider joining all columns at once using pd.concat(axis=1) instead. To get a de-fragmented frame, use `newframe = frame.copy()`\n",
      "  df[ohe.get_feature_names_out()] = ohe_transformed\n",
      "C:\\Users\\Professional\\AppData\\Local\\Temp\\ipykernel_7676\\2220107148.py:2: PerformanceWarning: DataFrame is highly fragmented.  This is usually the result of calling `frame.insert` many times, which has poor performance.  Consider joining all columns at once using pd.concat(axis=1) instead. To get a de-fragmented frame, use `newframe = frame.copy()`\n",
      "  df[ohe.get_feature_names_out()] = ohe_transformed\n",
      "C:\\Users\\Professional\\AppData\\Local\\Temp\\ipykernel_7676\\2220107148.py:2: PerformanceWarning: DataFrame is highly fragmented.  This is usually the result of calling `frame.insert` many times, which has poor performance.  Consider joining all columns at once using pd.concat(axis=1) instead. To get a de-fragmented frame, use `newframe = frame.copy()`\n",
      "  df[ohe.get_feature_names_out()] = ohe_transformed\n",
      "C:\\Users\\Professional\\AppData\\Local\\Temp\\ipykernel_7676\\2220107148.py:2: PerformanceWarning: DataFrame is highly fragmented.  This is usually the result of calling `frame.insert` many times, which has poor performance.  Consider joining all columns at once using pd.concat(axis=1) instead. To get a de-fragmented frame, use `newframe = frame.copy()`\n",
      "  df[ohe.get_feature_names_out()] = ohe_transformed\n",
      "C:\\Users\\Professional\\AppData\\Local\\Temp\\ipykernel_7676\\2220107148.py:2: PerformanceWarning: DataFrame is highly fragmented.  This is usually the result of calling `frame.insert` many times, which has poor performance.  Consider joining all columns at once using pd.concat(axis=1) instead. To get a de-fragmented frame, use `newframe = frame.copy()`\n",
      "  df[ohe.get_feature_names_out()] = ohe_transformed\n",
      "C:\\Users\\Professional\\AppData\\Local\\Temp\\ipykernel_7676\\2220107148.py:2: PerformanceWarning: DataFrame is highly fragmented.  This is usually the result of calling `frame.insert` many times, which has poor performance.  Consider joining all columns at once using pd.concat(axis=1) instead. To get a de-fragmented frame, use `newframe = frame.copy()`\n",
      "  df[ohe.get_feature_names_out()] = ohe_transformed\n",
      "C:\\Users\\Professional\\AppData\\Local\\Temp\\ipykernel_7676\\2220107148.py:2: PerformanceWarning: DataFrame is highly fragmented.  This is usually the result of calling `frame.insert` many times, which has poor performance.  Consider joining all columns at once using pd.concat(axis=1) instead. To get a de-fragmented frame, use `newframe = frame.copy()`\n",
      "  df[ohe.get_feature_names_out()] = ohe_transformed\n",
      "C:\\Users\\Professional\\AppData\\Local\\Temp\\ipykernel_7676\\2220107148.py:2: PerformanceWarning: DataFrame is highly fragmented.  This is usually the result of calling `frame.insert` many times, which has poor performance.  Consider joining all columns at once using pd.concat(axis=1) instead. To get a de-fragmented frame, use `newframe = frame.copy()`\n",
      "  df[ohe.get_feature_names_out()] = ohe_transformed\n",
      "C:\\Users\\Professional\\AppData\\Local\\Temp\\ipykernel_7676\\2220107148.py:2: PerformanceWarning: DataFrame is highly fragmented.  This is usually the result of calling `frame.insert` many times, which has poor performance.  Consider joining all columns at once using pd.concat(axis=1) instead. To get a de-fragmented frame, use `newframe = frame.copy()`\n",
      "  df[ohe.get_feature_names_out()] = ohe_transformed\n",
      "C:\\Users\\Professional\\AppData\\Local\\Temp\\ipykernel_7676\\2220107148.py:2: PerformanceWarning: DataFrame is highly fragmented.  This is usually the result of calling `frame.insert` many times, which has poor performance.  Consider joining all columns at once using pd.concat(axis=1) instead. To get a de-fragmented frame, use `newframe = frame.copy()`\n",
      "  df[ohe.get_feature_names_out()] = ohe_transformed\n",
      "C:\\Users\\Professional\\AppData\\Local\\Temp\\ipykernel_7676\\2220107148.py:2: PerformanceWarning: DataFrame is highly fragmented.  This is usually the result of calling `frame.insert` many times, which has poor performance.  Consider joining all columns at once using pd.concat(axis=1) instead. To get a de-fragmented frame, use `newframe = frame.copy()`\n",
      "  df[ohe.get_feature_names_out()] = ohe_transformed\n",
      "C:\\Users\\Professional\\AppData\\Local\\Temp\\ipykernel_7676\\2220107148.py:2: PerformanceWarning: DataFrame is highly fragmented.  This is usually the result of calling `frame.insert` many times, which has poor performance.  Consider joining all columns at once using pd.concat(axis=1) instead. To get a de-fragmented frame, use `newframe = frame.copy()`\n",
      "  df[ohe.get_feature_names_out()] = ohe_transformed\n",
      "C:\\Users\\Professional\\AppData\\Local\\Temp\\ipykernel_7676\\2220107148.py:2: PerformanceWarning: DataFrame is highly fragmented.  This is usually the result of calling `frame.insert` many times, which has poor performance.  Consider joining all columns at once using pd.concat(axis=1) instead. To get a de-fragmented frame, use `newframe = frame.copy()`\n",
      "  df[ohe.get_feature_names_out()] = ohe_transformed\n",
      "C:\\Users\\Professional\\AppData\\Local\\Temp\\ipykernel_7676\\2220107148.py:2: PerformanceWarning: DataFrame is highly fragmented.  This is usually the result of calling `frame.insert` many times, which has poor performance.  Consider joining all columns at once using pd.concat(axis=1) instead. To get a de-fragmented frame, use `newframe = frame.copy()`\n",
      "  df[ohe.get_feature_names_out()] = ohe_transformed\n",
      "C:\\Users\\Professional\\AppData\\Local\\Temp\\ipykernel_7676\\2220107148.py:2: PerformanceWarning: DataFrame is highly fragmented.  This is usually the result of calling `frame.insert` many times, which has poor performance.  Consider joining all columns at once using pd.concat(axis=1) instead. To get a de-fragmented frame, use `newframe = frame.copy()`\n",
      "  df[ohe.get_feature_names_out()] = ohe_transformed\n",
      "C:\\Users\\Professional\\AppData\\Local\\Temp\\ipykernel_7676\\2220107148.py:2: PerformanceWarning: DataFrame is highly fragmented.  This is usually the result of calling `frame.insert` many times, which has poor performance.  Consider joining all columns at once using pd.concat(axis=1) instead. To get a de-fragmented frame, use `newframe = frame.copy()`\n",
      "  df[ohe.get_feature_names_out()] = ohe_transformed\n",
      "C:\\Users\\Professional\\AppData\\Local\\Temp\\ipykernel_7676\\2220107148.py:2: PerformanceWarning: DataFrame is highly fragmented.  This is usually the result of calling `frame.insert` many times, which has poor performance.  Consider joining all columns at once using pd.concat(axis=1) instead. To get a de-fragmented frame, use `newframe = frame.copy()`\n",
      "  df[ohe.get_feature_names_out()] = ohe_transformed\n",
      "C:\\Users\\Professional\\AppData\\Local\\Temp\\ipykernel_7676\\2220107148.py:2: PerformanceWarning: DataFrame is highly fragmented.  This is usually the result of calling `frame.insert` many times, which has poor performance.  Consider joining all columns at once using pd.concat(axis=1) instead. To get a de-fragmented frame, use `newframe = frame.copy()`\n",
      "  df[ohe.get_feature_names_out()] = ohe_transformed\n",
      "C:\\Users\\Professional\\AppData\\Local\\Temp\\ipykernel_7676\\2220107148.py:2: PerformanceWarning: DataFrame is highly fragmented.  This is usually the result of calling `frame.insert` many times, which has poor performance.  Consider joining all columns at once using pd.concat(axis=1) instead. To get a de-fragmented frame, use `newframe = frame.copy()`\n",
      "  df[ohe.get_feature_names_out()] = ohe_transformed\n",
      "C:\\Users\\Professional\\AppData\\Local\\Temp\\ipykernel_7676\\2220107148.py:2: PerformanceWarning: DataFrame is highly fragmented.  This is usually the result of calling `frame.insert` many times, which has poor performance.  Consider joining all columns at once using pd.concat(axis=1) instead. To get a de-fragmented frame, use `newframe = frame.copy()`\n",
      "  df[ohe.get_feature_names_out()] = ohe_transformed\n",
      "C:\\Users\\Professional\\AppData\\Local\\Temp\\ipykernel_7676\\2220107148.py:2: PerformanceWarning: DataFrame is highly fragmented.  This is usually the result of calling `frame.insert` many times, which has poor performance.  Consider joining all columns at once using pd.concat(axis=1) instead. To get a de-fragmented frame, use `newframe = frame.copy()`\n",
      "  df[ohe.get_feature_names_out()] = ohe_transformed\n",
      "C:\\Users\\Professional\\AppData\\Local\\Temp\\ipykernel_7676\\2220107148.py:2: PerformanceWarning: DataFrame is highly fragmented.  This is usually the result of calling `frame.insert` many times, which has poor performance.  Consider joining all columns at once using pd.concat(axis=1) instead. To get a de-fragmented frame, use `newframe = frame.copy()`\n",
      "  df[ohe.get_feature_names_out()] = ohe_transformed\n",
      "C:\\Users\\Professional\\AppData\\Local\\Temp\\ipykernel_7676\\2220107148.py:2: PerformanceWarning: DataFrame is highly fragmented.  This is usually the result of calling `frame.insert` many times, which has poor performance.  Consider joining all columns at once using pd.concat(axis=1) instead. To get a de-fragmented frame, use `newframe = frame.copy()`\n",
      "  df[ohe.get_feature_names_out()] = ohe_transformed\n",
      "C:\\Users\\Professional\\AppData\\Local\\Temp\\ipykernel_7676\\2220107148.py:2: PerformanceWarning: DataFrame is highly fragmented.  This is usually the result of calling `frame.insert` many times, which has poor performance.  Consider joining all columns at once using pd.concat(axis=1) instead. To get a de-fragmented frame, use `newframe = frame.copy()`\n",
      "  df[ohe.get_feature_names_out()] = ohe_transformed\n",
      "C:\\Users\\Professional\\AppData\\Local\\Temp\\ipykernel_7676\\2220107148.py:2: PerformanceWarning: DataFrame is highly fragmented.  This is usually the result of calling `frame.insert` many times, which has poor performance.  Consider joining all columns at once using pd.concat(axis=1) instead. To get a de-fragmented frame, use `newframe = frame.copy()`\n",
      "  df[ohe.get_feature_names_out()] = ohe_transformed\n",
      "C:\\Users\\Professional\\AppData\\Local\\Temp\\ipykernel_7676\\2220107148.py:2: PerformanceWarning: DataFrame is highly fragmented.  This is usually the result of calling `frame.insert` many times, which has poor performance.  Consider joining all columns at once using pd.concat(axis=1) instead. To get a de-fragmented frame, use `newframe = frame.copy()`\n",
      "  df[ohe.get_feature_names_out()] = ohe_transformed\n",
      "C:\\Users\\Professional\\AppData\\Local\\Temp\\ipykernel_7676\\2220107148.py:2: PerformanceWarning: DataFrame is highly fragmented.  This is usually the result of calling `frame.insert` many times, which has poor performance.  Consider joining all columns at once using pd.concat(axis=1) instead. To get a de-fragmented frame, use `newframe = frame.copy()`\n",
      "  df[ohe.get_feature_names_out()] = ohe_transformed\n",
      "C:\\Users\\Professional\\AppData\\Local\\Temp\\ipykernel_7676\\2220107148.py:2: PerformanceWarning: DataFrame is highly fragmented.  This is usually the result of calling `frame.insert` many times, which has poor performance.  Consider joining all columns at once using pd.concat(axis=1) instead. To get a de-fragmented frame, use `newframe = frame.copy()`\n",
      "  df[ohe.get_feature_names_out()] = ohe_transformed\n",
      "C:\\Users\\Professional\\AppData\\Local\\Temp\\ipykernel_7676\\2220107148.py:2: PerformanceWarning: DataFrame is highly fragmented.  This is usually the result of calling `frame.insert` many times, which has poor performance.  Consider joining all columns at once using pd.concat(axis=1) instead. To get a de-fragmented frame, use `newframe = frame.copy()`\n",
      "  df[ohe.get_feature_names_out()] = ohe_transformed\n",
      "C:\\Users\\Professional\\AppData\\Local\\Temp\\ipykernel_7676\\2220107148.py:2: PerformanceWarning: DataFrame is highly fragmented.  This is usually the result of calling `frame.insert` many times, which has poor performance.  Consider joining all columns at once using pd.concat(axis=1) instead. To get a de-fragmented frame, use `newframe = frame.copy()`\n",
      "  df[ohe.get_feature_names_out()] = ohe_transformed\n",
      "C:\\Users\\Professional\\AppData\\Local\\Temp\\ipykernel_7676\\2220107148.py:2: PerformanceWarning: DataFrame is highly fragmented.  This is usually the result of calling `frame.insert` many times, which has poor performance.  Consider joining all columns at once using pd.concat(axis=1) instead. To get a de-fragmented frame, use `newframe = frame.copy()`\n",
      "  df[ohe.get_feature_names_out()] = ohe_transformed\n",
      "C:\\Users\\Professional\\AppData\\Local\\Temp\\ipykernel_7676\\2220107148.py:2: PerformanceWarning: DataFrame is highly fragmented.  This is usually the result of calling `frame.insert` many times, which has poor performance.  Consider joining all columns at once using pd.concat(axis=1) instead. To get a de-fragmented frame, use `newframe = frame.copy()`\n",
      "  df[ohe.get_feature_names_out()] = ohe_transformed\n",
      "C:\\Users\\Professional\\AppData\\Local\\Temp\\ipykernel_7676\\2220107148.py:2: PerformanceWarning: DataFrame is highly fragmented.  This is usually the result of calling `frame.insert` many times, which has poor performance.  Consider joining all columns at once using pd.concat(axis=1) instead. To get a de-fragmented frame, use `newframe = frame.copy()`\n",
      "  df[ohe.get_feature_names_out()] = ohe_transformed\n",
      "C:\\Users\\Professional\\AppData\\Local\\Temp\\ipykernel_7676\\2220107148.py:2: PerformanceWarning: DataFrame is highly fragmented.  This is usually the result of calling `frame.insert` many times, which has poor performance.  Consider joining all columns at once using pd.concat(axis=1) instead. To get a de-fragmented frame, use `newframe = frame.copy()`\n",
      "  df[ohe.get_feature_names_out()] = ohe_transformed\n",
      "C:\\Users\\Professional\\AppData\\Local\\Temp\\ipykernel_7676\\2220107148.py:2: PerformanceWarning: DataFrame is highly fragmented.  This is usually the result of calling `frame.insert` many times, which has poor performance.  Consider joining all columns at once using pd.concat(axis=1) instead. To get a de-fragmented frame, use `newframe = frame.copy()`\n",
      "  df[ohe.get_feature_names_out()] = ohe_transformed\n",
      "C:\\Users\\Professional\\AppData\\Local\\Temp\\ipykernel_7676\\2220107148.py:2: PerformanceWarning: DataFrame is highly fragmented.  This is usually the result of calling `frame.insert` many times, which has poor performance.  Consider joining all columns at once using pd.concat(axis=1) instead. To get a de-fragmented frame, use `newframe = frame.copy()`\n",
      "  df[ohe.get_feature_names_out()] = ohe_transformed\n",
      "C:\\Users\\Professional\\AppData\\Local\\Temp\\ipykernel_7676\\2220107148.py:2: PerformanceWarning: DataFrame is highly fragmented.  This is usually the result of calling `frame.insert` many times, which has poor performance.  Consider joining all columns at once using pd.concat(axis=1) instead. To get a de-fragmented frame, use `newframe = frame.copy()`\n",
      "  df[ohe.get_feature_names_out()] = ohe_transformed\n",
      "C:\\Users\\Professional\\AppData\\Local\\Temp\\ipykernel_7676\\2220107148.py:2: PerformanceWarning: DataFrame is highly fragmented.  This is usually the result of calling `frame.insert` many times, which has poor performance.  Consider joining all columns at once using pd.concat(axis=1) instead. To get a de-fragmented frame, use `newframe = frame.copy()`\n",
      "  df[ohe.get_feature_names_out()] = ohe_transformed\n",
      "C:\\Users\\Professional\\AppData\\Local\\Temp\\ipykernel_7676\\2220107148.py:2: PerformanceWarning: DataFrame is highly fragmented.  This is usually the result of calling `frame.insert` many times, which has poor performance.  Consider joining all columns at once using pd.concat(axis=1) instead. To get a de-fragmented frame, use `newframe = frame.copy()`\n",
      "  df[ohe.get_feature_names_out()] = ohe_transformed\n",
      "C:\\Users\\Professional\\AppData\\Local\\Temp\\ipykernel_7676\\2220107148.py:2: PerformanceWarning: DataFrame is highly fragmented.  This is usually the result of calling `frame.insert` many times, which has poor performance.  Consider joining all columns at once using pd.concat(axis=1) instead. To get a de-fragmented frame, use `newframe = frame.copy()`\n",
      "  df[ohe.get_feature_names_out()] = ohe_transformed\n",
      "C:\\Users\\Professional\\AppData\\Local\\Temp\\ipykernel_7676\\2220107148.py:2: PerformanceWarning: DataFrame is highly fragmented.  This is usually the result of calling `frame.insert` many times, which has poor performance.  Consider joining all columns at once using pd.concat(axis=1) instead. To get a de-fragmented frame, use `newframe = frame.copy()`\n",
      "  df[ohe.get_feature_names_out()] = ohe_transformed\n",
      "C:\\Users\\Professional\\AppData\\Local\\Temp\\ipykernel_7676\\2220107148.py:2: PerformanceWarning: DataFrame is highly fragmented.  This is usually the result of calling `frame.insert` many times, which has poor performance.  Consider joining all columns at once using pd.concat(axis=1) instead. To get a de-fragmented frame, use `newframe = frame.copy()`\n",
      "  df[ohe.get_feature_names_out()] = ohe_transformed\n",
      "C:\\Users\\Professional\\AppData\\Local\\Temp\\ipykernel_7676\\2220107148.py:2: PerformanceWarning: DataFrame is highly fragmented.  This is usually the result of calling `frame.insert` many times, which has poor performance.  Consider joining all columns at once using pd.concat(axis=1) instead. To get a de-fragmented frame, use `newframe = frame.copy()`\n",
      "  df[ohe.get_feature_names_out()] = ohe_transformed\n",
      "C:\\Users\\Professional\\AppData\\Local\\Temp\\ipykernel_7676\\2220107148.py:2: PerformanceWarning: DataFrame is highly fragmented.  This is usually the result of calling `frame.insert` many times, which has poor performance.  Consider joining all columns at once using pd.concat(axis=1) instead. To get a de-fragmented frame, use `newframe = frame.copy()`\n",
      "  df[ohe.get_feature_names_out()] = ohe_transformed\n",
      "C:\\Users\\Professional\\AppData\\Local\\Temp\\ipykernel_7676\\2220107148.py:2: PerformanceWarning: DataFrame is highly fragmented.  This is usually the result of calling `frame.insert` many times, which has poor performance.  Consider joining all columns at once using pd.concat(axis=1) instead. To get a de-fragmented frame, use `newframe = frame.copy()`\n",
      "  df[ohe.get_feature_names_out()] = ohe_transformed\n",
      "C:\\Users\\Professional\\AppData\\Local\\Temp\\ipykernel_7676\\2220107148.py:2: PerformanceWarning: DataFrame is highly fragmented.  This is usually the result of calling `frame.insert` many times, which has poor performance.  Consider joining all columns at once using pd.concat(axis=1) instead. To get a de-fragmented frame, use `newframe = frame.copy()`\n",
      "  df[ohe.get_feature_names_out()] = ohe_transformed\n",
      "C:\\Users\\Professional\\AppData\\Local\\Temp\\ipykernel_7676\\2220107148.py:2: PerformanceWarning: DataFrame is highly fragmented.  This is usually the result of calling `frame.insert` many times, which has poor performance.  Consider joining all columns at once using pd.concat(axis=1) instead. To get a de-fragmented frame, use `newframe = frame.copy()`\n",
      "  df[ohe.get_feature_names_out()] = ohe_transformed\n",
      "C:\\Users\\Professional\\AppData\\Local\\Temp\\ipykernel_7676\\2220107148.py:2: PerformanceWarning: DataFrame is highly fragmented.  This is usually the result of calling `frame.insert` many times, which has poor performance.  Consider joining all columns at once using pd.concat(axis=1) instead. To get a de-fragmented frame, use `newframe = frame.copy()`\n",
      "  df[ohe.get_feature_names_out()] = ohe_transformed\n",
      "C:\\Users\\Professional\\AppData\\Local\\Temp\\ipykernel_7676\\2220107148.py:2: PerformanceWarning: DataFrame is highly fragmented.  This is usually the result of calling `frame.insert` many times, which has poor performance.  Consider joining all columns at once using pd.concat(axis=1) instead. To get a de-fragmented frame, use `newframe = frame.copy()`\n",
      "  df[ohe.get_feature_names_out()] = ohe_transformed\n",
      "C:\\Users\\Professional\\AppData\\Local\\Temp\\ipykernel_7676\\2220107148.py:2: PerformanceWarning: DataFrame is highly fragmented.  This is usually the result of calling `frame.insert` many times, which has poor performance.  Consider joining all columns at once using pd.concat(axis=1) instead. To get a de-fragmented frame, use `newframe = frame.copy()`\n",
      "  df[ohe.get_feature_names_out()] = ohe_transformed\n",
      "C:\\Users\\Professional\\AppData\\Local\\Temp\\ipykernel_7676\\2220107148.py:2: PerformanceWarning: DataFrame is highly fragmented.  This is usually the result of calling `frame.insert` many times, which has poor performance.  Consider joining all columns at once using pd.concat(axis=1) instead. To get a de-fragmented frame, use `newframe = frame.copy()`\n",
      "  df[ohe.get_feature_names_out()] = ohe_transformed\n",
      "C:\\Users\\Professional\\AppData\\Local\\Temp\\ipykernel_7676\\2220107148.py:2: PerformanceWarning: DataFrame is highly fragmented.  This is usually the result of calling `frame.insert` many times, which has poor performance.  Consider joining all columns at once using pd.concat(axis=1) instead. To get a de-fragmented frame, use `newframe = frame.copy()`\n",
      "  df[ohe.get_feature_names_out()] = ohe_transformed\n",
      "C:\\Users\\Professional\\AppData\\Local\\Temp\\ipykernel_7676\\2220107148.py:2: PerformanceWarning: DataFrame is highly fragmented.  This is usually the result of calling `frame.insert` many times, which has poor performance.  Consider joining all columns at once using pd.concat(axis=1) instead. To get a de-fragmented frame, use `newframe = frame.copy()`\n",
      "  df[ohe.get_feature_names_out()] = ohe_transformed\n",
      "C:\\Users\\Professional\\AppData\\Local\\Temp\\ipykernel_7676\\2220107148.py:2: PerformanceWarning: DataFrame is highly fragmented.  This is usually the result of calling `frame.insert` many times, which has poor performance.  Consider joining all columns at once using pd.concat(axis=1) instead. To get a de-fragmented frame, use `newframe = frame.copy()`\n",
      "  df[ohe.get_feature_names_out()] = ohe_transformed\n",
      "C:\\Users\\Professional\\AppData\\Local\\Temp\\ipykernel_7676\\2220107148.py:2: PerformanceWarning: DataFrame is highly fragmented.  This is usually the result of calling `frame.insert` many times, which has poor performance.  Consider joining all columns at once using pd.concat(axis=1) instead. To get a de-fragmented frame, use `newframe = frame.copy()`\n",
      "  df[ohe.get_feature_names_out()] = ohe_transformed\n",
      "C:\\Users\\Professional\\AppData\\Local\\Temp\\ipykernel_7676\\2220107148.py:2: PerformanceWarning: DataFrame is highly fragmented.  This is usually the result of calling `frame.insert` many times, which has poor performance.  Consider joining all columns at once using pd.concat(axis=1) instead. To get a de-fragmented frame, use `newframe = frame.copy()`\n",
      "  df[ohe.get_feature_names_out()] = ohe_transformed\n",
      "C:\\Users\\Professional\\AppData\\Local\\Temp\\ipykernel_7676\\2220107148.py:2: PerformanceWarning: DataFrame is highly fragmented.  This is usually the result of calling `frame.insert` many times, which has poor performance.  Consider joining all columns at once using pd.concat(axis=1) instead. To get a de-fragmented frame, use `newframe = frame.copy()`\n",
      "  df[ohe.get_feature_names_out()] = ohe_transformed\n",
      "C:\\Users\\Professional\\AppData\\Local\\Temp\\ipykernel_7676\\2220107148.py:2: PerformanceWarning: DataFrame is highly fragmented.  This is usually the result of calling `frame.insert` many times, which has poor performance.  Consider joining all columns at once using pd.concat(axis=1) instead. To get a de-fragmented frame, use `newframe = frame.copy()`\n",
      "  df[ohe.get_feature_names_out()] = ohe_transformed\n",
      "C:\\Users\\Professional\\AppData\\Local\\Temp\\ipykernel_7676\\2220107148.py:2: PerformanceWarning: DataFrame is highly fragmented.  This is usually the result of calling `frame.insert` many times, which has poor performance.  Consider joining all columns at once using pd.concat(axis=1) instead. To get a de-fragmented frame, use `newframe = frame.copy()`\n",
      "  df[ohe.get_feature_names_out()] = ohe_transformed\n",
      "C:\\Users\\Professional\\AppData\\Local\\Temp\\ipykernel_7676\\2220107148.py:2: PerformanceWarning: DataFrame is highly fragmented.  This is usually the result of calling `frame.insert` many times, which has poor performance.  Consider joining all columns at once using pd.concat(axis=1) instead. To get a de-fragmented frame, use `newframe = frame.copy()`\n",
      "  df[ohe.get_feature_names_out()] = ohe_transformed\n",
      "C:\\Users\\Professional\\AppData\\Local\\Temp\\ipykernel_7676\\2220107148.py:2: PerformanceWarning: DataFrame is highly fragmented.  This is usually the result of calling `frame.insert` many times, which has poor performance.  Consider joining all columns at once using pd.concat(axis=1) instead. To get a de-fragmented frame, use `newframe = frame.copy()`\n",
      "  df[ohe.get_feature_names_out()] = ohe_transformed\n",
      "C:\\Users\\Professional\\AppData\\Local\\Temp\\ipykernel_7676\\2220107148.py:2: PerformanceWarning: DataFrame is highly fragmented.  This is usually the result of calling `frame.insert` many times, which has poor performance.  Consider joining all columns at once using pd.concat(axis=1) instead. To get a de-fragmented frame, use `newframe = frame.copy()`\n",
      "  df[ohe.get_feature_names_out()] = ohe_transformed\n",
      "C:\\Users\\Professional\\AppData\\Local\\Temp\\ipykernel_7676\\2220107148.py:2: PerformanceWarning: DataFrame is highly fragmented.  This is usually the result of calling `frame.insert` many times, which has poor performance.  Consider joining all columns at once using pd.concat(axis=1) instead. To get a de-fragmented frame, use `newframe = frame.copy()`\n",
      "  df[ohe.get_feature_names_out()] = ohe_transformed\n",
      "C:\\Users\\Professional\\AppData\\Local\\Temp\\ipykernel_7676\\2220107148.py:2: PerformanceWarning: DataFrame is highly fragmented.  This is usually the result of calling `frame.insert` many times, which has poor performance.  Consider joining all columns at once using pd.concat(axis=1) instead. To get a de-fragmented frame, use `newframe = frame.copy()`\n",
      "  df[ohe.get_feature_names_out()] = ohe_transformed\n",
      "C:\\Users\\Professional\\AppData\\Local\\Temp\\ipykernel_7676\\2220107148.py:2: PerformanceWarning: DataFrame is highly fragmented.  This is usually the result of calling `frame.insert` many times, which has poor performance.  Consider joining all columns at once using pd.concat(axis=1) instead. To get a de-fragmented frame, use `newframe = frame.copy()`\n",
      "  df[ohe.get_feature_names_out()] = ohe_transformed\n",
      "C:\\Users\\Professional\\AppData\\Local\\Temp\\ipykernel_7676\\2220107148.py:2: PerformanceWarning: DataFrame is highly fragmented.  This is usually the result of calling `frame.insert` many times, which has poor performance.  Consider joining all columns at once using pd.concat(axis=1) instead. To get a de-fragmented frame, use `newframe = frame.copy()`\n",
      "  df[ohe.get_feature_names_out()] = ohe_transformed\n",
      "C:\\Users\\Professional\\AppData\\Local\\Temp\\ipykernel_7676\\2220107148.py:2: PerformanceWarning: DataFrame is highly fragmented.  This is usually the result of calling `frame.insert` many times, which has poor performance.  Consider joining all columns at once using pd.concat(axis=1) instead. To get a de-fragmented frame, use `newframe = frame.copy()`\n",
      "  df[ohe.get_feature_names_out()] = ohe_transformed\n",
      "C:\\Users\\Professional\\AppData\\Local\\Temp\\ipykernel_7676\\2220107148.py:2: PerformanceWarning: DataFrame is highly fragmented.  This is usually the result of calling `frame.insert` many times, which has poor performance.  Consider joining all columns at once using pd.concat(axis=1) instead. To get a de-fragmented frame, use `newframe = frame.copy()`\n",
      "  df[ohe.get_feature_names_out()] = ohe_transformed\n",
      "C:\\Users\\Professional\\AppData\\Local\\Temp\\ipykernel_7676\\2220107148.py:2: PerformanceWarning: DataFrame is highly fragmented.  This is usually the result of calling `frame.insert` many times, which has poor performance.  Consider joining all columns at once using pd.concat(axis=1) instead. To get a de-fragmented frame, use `newframe = frame.copy()`\n",
      "  df[ohe.get_feature_names_out()] = ohe_transformed\n",
      "C:\\Users\\Professional\\AppData\\Local\\Temp\\ipykernel_7676\\2220107148.py:2: PerformanceWarning: DataFrame is highly fragmented.  This is usually the result of calling `frame.insert` many times, which has poor performance.  Consider joining all columns at once using pd.concat(axis=1) instead. To get a de-fragmented frame, use `newframe = frame.copy()`\n",
      "  df[ohe.get_feature_names_out()] = ohe_transformed\n",
      "C:\\Users\\Professional\\AppData\\Local\\Temp\\ipykernel_7676\\2220107148.py:2: PerformanceWarning: DataFrame is highly fragmented.  This is usually the result of calling `frame.insert` many times, which has poor performance.  Consider joining all columns at once using pd.concat(axis=1) instead. To get a de-fragmented frame, use `newframe = frame.copy()`\n",
      "  df[ohe.get_feature_names_out()] = ohe_transformed\n",
      "C:\\Users\\Professional\\AppData\\Local\\Temp\\ipykernel_7676\\2220107148.py:2: PerformanceWarning: DataFrame is highly fragmented.  This is usually the result of calling `frame.insert` many times, which has poor performance.  Consider joining all columns at once using pd.concat(axis=1) instead. To get a de-fragmented frame, use `newframe = frame.copy()`\n",
      "  df[ohe.get_feature_names_out()] = ohe_transformed\n",
      "C:\\Users\\Professional\\AppData\\Local\\Temp\\ipykernel_7676\\2220107148.py:2: PerformanceWarning: DataFrame is highly fragmented.  This is usually the result of calling `frame.insert` many times, which has poor performance.  Consider joining all columns at once using pd.concat(axis=1) instead. To get a de-fragmented frame, use `newframe = frame.copy()`\n",
      "  df[ohe.get_feature_names_out()] = ohe_transformed\n",
      "C:\\Users\\Professional\\AppData\\Local\\Temp\\ipykernel_7676\\2220107148.py:2: PerformanceWarning: DataFrame is highly fragmented.  This is usually the result of calling `frame.insert` many times, which has poor performance.  Consider joining all columns at once using pd.concat(axis=1) instead. To get a de-fragmented frame, use `newframe = frame.copy()`\n",
      "  df[ohe.get_feature_names_out()] = ohe_transformed\n",
      "C:\\Users\\Professional\\AppData\\Local\\Temp\\ipykernel_7676\\2220107148.py:2: PerformanceWarning: DataFrame is highly fragmented.  This is usually the result of calling `frame.insert` many times, which has poor performance.  Consider joining all columns at once using pd.concat(axis=1) instead. To get a de-fragmented frame, use `newframe = frame.copy()`\n",
      "  df[ohe.get_feature_names_out()] = ohe_transformed\n",
      "C:\\Users\\Professional\\AppData\\Local\\Temp\\ipykernel_7676\\2220107148.py:2: PerformanceWarning: DataFrame is highly fragmented.  This is usually the result of calling `frame.insert` many times, which has poor performance.  Consider joining all columns at once using pd.concat(axis=1) instead. To get a de-fragmented frame, use `newframe = frame.copy()`\n",
      "  df[ohe.get_feature_names_out()] = ohe_transformed\n",
      "C:\\Users\\Professional\\AppData\\Local\\Temp\\ipykernel_7676\\2220107148.py:2: PerformanceWarning: DataFrame is highly fragmented.  This is usually the result of calling `frame.insert` many times, which has poor performance.  Consider joining all columns at once using pd.concat(axis=1) instead. To get a de-fragmented frame, use `newframe = frame.copy()`\n",
      "  df[ohe.get_feature_names_out()] = ohe_transformed\n",
      "C:\\Users\\Professional\\AppData\\Local\\Temp\\ipykernel_7676\\2220107148.py:2: PerformanceWarning: DataFrame is highly fragmented.  This is usually the result of calling `frame.insert` many times, which has poor performance.  Consider joining all columns at once using pd.concat(axis=1) instead. To get a de-fragmented frame, use `newframe = frame.copy()`\n",
      "  df[ohe.get_feature_names_out()] = ohe_transformed\n",
      "C:\\Users\\Professional\\AppData\\Local\\Temp\\ipykernel_7676\\2220107148.py:2: PerformanceWarning: DataFrame is highly fragmented.  This is usually the result of calling `frame.insert` many times, which has poor performance.  Consider joining all columns at once using pd.concat(axis=1) instead. To get a de-fragmented frame, use `newframe = frame.copy()`\n",
      "  df[ohe.get_feature_names_out()] = ohe_transformed\n",
      "C:\\Users\\Professional\\AppData\\Local\\Temp\\ipykernel_7676\\2220107148.py:2: PerformanceWarning: DataFrame is highly fragmented.  This is usually the result of calling `frame.insert` many times, which has poor performance.  Consider joining all columns at once using pd.concat(axis=1) instead. To get a de-fragmented frame, use `newframe = frame.copy()`\n",
      "  df[ohe.get_feature_names_out()] = ohe_transformed\n",
      "C:\\Users\\Professional\\AppData\\Local\\Temp\\ipykernel_7676\\2220107148.py:2: PerformanceWarning: DataFrame is highly fragmented.  This is usually the result of calling `frame.insert` many times, which has poor performance.  Consider joining all columns at once using pd.concat(axis=1) instead. To get a de-fragmented frame, use `newframe = frame.copy()`\n",
      "  df[ohe.get_feature_names_out()] = ohe_transformed\n",
      "C:\\Users\\Professional\\AppData\\Local\\Temp\\ipykernel_7676\\2220107148.py:2: PerformanceWarning: DataFrame is highly fragmented.  This is usually the result of calling `frame.insert` many times, which has poor performance.  Consider joining all columns at once using pd.concat(axis=1) instead. To get a de-fragmented frame, use `newframe = frame.copy()`\n",
      "  df[ohe.get_feature_names_out()] = ohe_transformed\n",
      "C:\\Users\\Professional\\AppData\\Local\\Temp\\ipykernel_7676\\2220107148.py:2: PerformanceWarning: DataFrame is highly fragmented.  This is usually the result of calling `frame.insert` many times, which has poor performance.  Consider joining all columns at once using pd.concat(axis=1) instead. To get a de-fragmented frame, use `newframe = frame.copy()`\n",
      "  df[ohe.get_feature_names_out()] = ohe_transformed\n",
      "C:\\Users\\Professional\\AppData\\Local\\Temp\\ipykernel_7676\\2220107148.py:2: PerformanceWarning: DataFrame is highly fragmented.  This is usually the result of calling `frame.insert` many times, which has poor performance.  Consider joining all columns at once using pd.concat(axis=1) instead. To get a de-fragmented frame, use `newframe = frame.copy()`\n",
      "  df[ohe.get_feature_names_out()] = ohe_transformed\n",
      "C:\\Users\\Professional\\AppData\\Local\\Temp\\ipykernel_7676\\2220107148.py:2: PerformanceWarning: DataFrame is highly fragmented.  This is usually the result of calling `frame.insert` many times, which has poor performance.  Consider joining all columns at once using pd.concat(axis=1) instead. To get a de-fragmented frame, use `newframe = frame.copy()`\n",
      "  df[ohe.get_feature_names_out()] = ohe_transformed\n",
      "C:\\Users\\Professional\\AppData\\Local\\Temp\\ipykernel_7676\\2220107148.py:2: PerformanceWarning: DataFrame is highly fragmented.  This is usually the result of calling `frame.insert` many times, which has poor performance.  Consider joining all columns at once using pd.concat(axis=1) instead. To get a de-fragmented frame, use `newframe = frame.copy()`\n",
      "  df[ohe.get_feature_names_out()] = ohe_transformed\n",
      "C:\\Users\\Professional\\AppData\\Local\\Temp\\ipykernel_7676\\2220107148.py:2: PerformanceWarning: DataFrame is highly fragmented.  This is usually the result of calling `frame.insert` many times, which has poor performance.  Consider joining all columns at once using pd.concat(axis=1) instead. To get a de-fragmented frame, use `newframe = frame.copy()`\n",
      "  df[ohe.get_feature_names_out()] = ohe_transformed\n",
      "C:\\Users\\Professional\\AppData\\Local\\Temp\\ipykernel_7676\\2220107148.py:2: PerformanceWarning: DataFrame is highly fragmented.  This is usually the result of calling `frame.insert` many times, which has poor performance.  Consider joining all columns at once using pd.concat(axis=1) instead. To get a de-fragmented frame, use `newframe = frame.copy()`\n",
      "  df[ohe.get_feature_names_out()] = ohe_transformed\n",
      "C:\\Users\\Professional\\AppData\\Local\\Temp\\ipykernel_7676\\2220107148.py:2: PerformanceWarning: DataFrame is highly fragmented.  This is usually the result of calling `frame.insert` many times, which has poor performance.  Consider joining all columns at once using pd.concat(axis=1) instead. To get a de-fragmented frame, use `newframe = frame.copy()`\n",
      "  df[ohe.get_feature_names_out()] = ohe_transformed\n",
      "C:\\Users\\Professional\\AppData\\Local\\Temp\\ipykernel_7676\\2220107148.py:2: PerformanceWarning: DataFrame is highly fragmented.  This is usually the result of calling `frame.insert` many times, which has poor performance.  Consider joining all columns at once using pd.concat(axis=1) instead. To get a de-fragmented frame, use `newframe = frame.copy()`\n",
      "  df[ohe.get_feature_names_out()] = ohe_transformed\n",
      "C:\\Users\\Professional\\AppData\\Local\\Temp\\ipykernel_7676\\2220107148.py:2: PerformanceWarning: DataFrame is highly fragmented.  This is usually the result of calling `frame.insert` many times, which has poor performance.  Consider joining all columns at once using pd.concat(axis=1) instead. To get a de-fragmented frame, use `newframe = frame.copy()`\n",
      "  df[ohe.get_feature_names_out()] = ohe_transformed\n",
      "C:\\Users\\Professional\\AppData\\Local\\Temp\\ipykernel_7676\\2220107148.py:2: PerformanceWarning: DataFrame is highly fragmented.  This is usually the result of calling `frame.insert` many times, which has poor performance.  Consider joining all columns at once using pd.concat(axis=1) instead. To get a de-fragmented frame, use `newframe = frame.copy()`\n",
      "  df[ohe.get_feature_names_out()] = ohe_transformed\n",
      "C:\\Users\\Professional\\AppData\\Local\\Temp\\ipykernel_7676\\2220107148.py:2: PerformanceWarning: DataFrame is highly fragmented.  This is usually the result of calling `frame.insert` many times, which has poor performance.  Consider joining all columns at once using pd.concat(axis=1) instead. To get a de-fragmented frame, use `newframe = frame.copy()`\n",
      "  df[ohe.get_feature_names_out()] = ohe_transformed\n",
      "C:\\Users\\Professional\\AppData\\Local\\Temp\\ipykernel_7676\\2220107148.py:2: PerformanceWarning: DataFrame is highly fragmented.  This is usually the result of calling `frame.insert` many times, which has poor performance.  Consider joining all columns at once using pd.concat(axis=1) instead. To get a de-fragmented frame, use `newframe = frame.copy()`\n",
      "  df[ohe.get_feature_names_out()] = ohe_transformed\n",
      "C:\\Users\\Professional\\AppData\\Local\\Temp\\ipykernel_7676\\2220107148.py:2: PerformanceWarning: DataFrame is highly fragmented.  This is usually the result of calling `frame.insert` many times, which has poor performance.  Consider joining all columns at once using pd.concat(axis=1) instead. To get a de-fragmented frame, use `newframe = frame.copy()`\n",
      "  df[ohe.get_feature_names_out()] = ohe_transformed\n",
      "C:\\Users\\Professional\\AppData\\Local\\Temp\\ipykernel_7676\\2220107148.py:2: PerformanceWarning: DataFrame is highly fragmented.  This is usually the result of calling `frame.insert` many times, which has poor performance.  Consider joining all columns at once using pd.concat(axis=1) instead. To get a de-fragmented frame, use `newframe = frame.copy()`\n",
      "  df[ohe.get_feature_names_out()] = ohe_transformed\n",
      "C:\\Users\\Professional\\AppData\\Local\\Temp\\ipykernel_7676\\2220107148.py:2: PerformanceWarning: DataFrame is highly fragmented.  This is usually the result of calling `frame.insert` many times, which has poor performance.  Consider joining all columns at once using pd.concat(axis=1) instead. To get a de-fragmented frame, use `newframe = frame.copy()`\n",
      "  df[ohe.get_feature_names_out()] = ohe_transformed\n",
      "C:\\Users\\Professional\\AppData\\Local\\Temp\\ipykernel_7676\\2220107148.py:2: PerformanceWarning: DataFrame is highly fragmented.  This is usually the result of calling `frame.insert` many times, which has poor performance.  Consider joining all columns at once using pd.concat(axis=1) instead. To get a de-fragmented frame, use `newframe = frame.copy()`\n",
      "  df[ohe.get_feature_names_out()] = ohe_transformed\n",
      "C:\\Users\\Professional\\AppData\\Local\\Temp\\ipykernel_7676\\2220107148.py:2: PerformanceWarning: DataFrame is highly fragmented.  This is usually the result of calling `frame.insert` many times, which has poor performance.  Consider joining all columns at once using pd.concat(axis=1) instead. To get a de-fragmented frame, use `newframe = frame.copy()`\n",
      "  df[ohe.get_feature_names_out()] = ohe_transformed\n",
      "C:\\Users\\Professional\\AppData\\Local\\Temp\\ipykernel_7676\\2220107148.py:2: PerformanceWarning: DataFrame is highly fragmented.  This is usually the result of calling `frame.insert` many times, which has poor performance.  Consider joining all columns at once using pd.concat(axis=1) instead. To get a de-fragmented frame, use `newframe = frame.copy()`\n",
      "  df[ohe.get_feature_names_out()] = ohe_transformed\n",
      "C:\\Users\\Professional\\AppData\\Local\\Temp\\ipykernel_7676\\2220107148.py:2: PerformanceWarning: DataFrame is highly fragmented.  This is usually the result of calling `frame.insert` many times, which has poor performance.  Consider joining all columns at once using pd.concat(axis=1) instead. To get a de-fragmented frame, use `newframe = frame.copy()`\n",
      "  df[ohe.get_feature_names_out()] = ohe_transformed\n",
      "C:\\Users\\Professional\\AppData\\Local\\Temp\\ipykernel_7676\\2220107148.py:2: PerformanceWarning: DataFrame is highly fragmented.  This is usually the result of calling `frame.insert` many times, which has poor performance.  Consider joining all columns at once using pd.concat(axis=1) instead. To get a de-fragmented frame, use `newframe = frame.copy()`\n",
      "  df[ohe.get_feature_names_out()] = ohe_transformed\n",
      "C:\\Users\\Professional\\AppData\\Local\\Temp\\ipykernel_7676\\2220107148.py:2: PerformanceWarning: DataFrame is highly fragmented.  This is usually the result of calling `frame.insert` many times, which has poor performance.  Consider joining all columns at once using pd.concat(axis=1) instead. To get a de-fragmented frame, use `newframe = frame.copy()`\n",
      "  df[ohe.get_feature_names_out()] = ohe_transformed\n",
      "C:\\Users\\Professional\\AppData\\Local\\Temp\\ipykernel_7676\\2220107148.py:2: PerformanceWarning: DataFrame is highly fragmented.  This is usually the result of calling `frame.insert` many times, which has poor performance.  Consider joining all columns at once using pd.concat(axis=1) instead. To get a de-fragmented frame, use `newframe = frame.copy()`\n",
      "  df[ohe.get_feature_names_out()] = ohe_transformed\n",
      "C:\\Users\\Professional\\AppData\\Local\\Temp\\ipykernel_7676\\2220107148.py:2: PerformanceWarning: DataFrame is highly fragmented.  This is usually the result of calling `frame.insert` many times, which has poor performance.  Consider joining all columns at once using pd.concat(axis=1) instead. To get a de-fragmented frame, use `newframe = frame.copy()`\n",
      "  df[ohe.get_feature_names_out()] = ohe_transformed\n",
      "C:\\Users\\Professional\\AppData\\Local\\Temp\\ipykernel_7676\\2220107148.py:2: PerformanceWarning: DataFrame is highly fragmented.  This is usually the result of calling `frame.insert` many times, which has poor performance.  Consider joining all columns at once using pd.concat(axis=1) instead. To get a de-fragmented frame, use `newframe = frame.copy()`\n",
      "  df[ohe.get_feature_names_out()] = ohe_transformed\n",
      "C:\\Users\\Professional\\AppData\\Local\\Temp\\ipykernel_7676\\2220107148.py:2: PerformanceWarning: DataFrame is highly fragmented.  This is usually the result of calling `frame.insert` many times, which has poor performance.  Consider joining all columns at once using pd.concat(axis=1) instead. To get a de-fragmented frame, use `newframe = frame.copy()`\n",
      "  df[ohe.get_feature_names_out()] = ohe_transformed\n",
      "C:\\Users\\Professional\\AppData\\Local\\Temp\\ipykernel_7676\\2220107148.py:2: PerformanceWarning: DataFrame is highly fragmented.  This is usually the result of calling `frame.insert` many times, which has poor performance.  Consider joining all columns at once using pd.concat(axis=1) instead. To get a de-fragmented frame, use `newframe = frame.copy()`\n",
      "  df[ohe.get_feature_names_out()] = ohe_transformed\n",
      "C:\\Users\\Professional\\AppData\\Local\\Temp\\ipykernel_7676\\2220107148.py:2: PerformanceWarning: DataFrame is highly fragmented.  This is usually the result of calling `frame.insert` many times, which has poor performance.  Consider joining all columns at once using pd.concat(axis=1) instead. To get a de-fragmented frame, use `newframe = frame.copy()`\n",
      "  df[ohe.get_feature_names_out()] = ohe_transformed\n",
      "C:\\Users\\Professional\\AppData\\Local\\Temp\\ipykernel_7676\\2220107148.py:2: PerformanceWarning: DataFrame is highly fragmented.  This is usually the result of calling `frame.insert` many times, which has poor performance.  Consider joining all columns at once using pd.concat(axis=1) instead. To get a de-fragmented frame, use `newframe = frame.copy()`\n",
      "  df[ohe.get_feature_names_out()] = ohe_transformed\n",
      "C:\\Users\\Professional\\AppData\\Local\\Temp\\ipykernel_7676\\2220107148.py:2: PerformanceWarning: DataFrame is highly fragmented.  This is usually the result of calling `frame.insert` many times, which has poor performance.  Consider joining all columns at once using pd.concat(axis=1) instead. To get a de-fragmented frame, use `newframe = frame.copy()`\n",
      "  df[ohe.get_feature_names_out()] = ohe_transformed\n",
      "C:\\Users\\Professional\\AppData\\Local\\Temp\\ipykernel_7676\\2220107148.py:2: PerformanceWarning: DataFrame is highly fragmented.  This is usually the result of calling `frame.insert` many times, which has poor performance.  Consider joining all columns at once using pd.concat(axis=1) instead. To get a de-fragmented frame, use `newframe = frame.copy()`\n",
      "  df[ohe.get_feature_names_out()] = ohe_transformed\n",
      "C:\\Users\\Professional\\AppData\\Local\\Temp\\ipykernel_7676\\2220107148.py:2: PerformanceWarning: DataFrame is highly fragmented.  This is usually the result of calling `frame.insert` many times, which has poor performance.  Consider joining all columns at once using pd.concat(axis=1) instead. To get a de-fragmented frame, use `newframe = frame.copy()`\n",
      "  df[ohe.get_feature_names_out()] = ohe_transformed\n",
      "C:\\Users\\Professional\\AppData\\Local\\Temp\\ipykernel_7676\\2220107148.py:2: PerformanceWarning: DataFrame is highly fragmented.  This is usually the result of calling `frame.insert` many times, which has poor performance.  Consider joining all columns at once using pd.concat(axis=1) instead. To get a de-fragmented frame, use `newframe = frame.copy()`\n",
      "  df[ohe.get_feature_names_out()] = ohe_transformed\n",
      "C:\\Users\\Professional\\AppData\\Local\\Temp\\ipykernel_7676\\2220107148.py:2: PerformanceWarning: DataFrame is highly fragmented.  This is usually the result of calling `frame.insert` many times, which has poor performance.  Consider joining all columns at once using pd.concat(axis=1) instead. To get a de-fragmented frame, use `newframe = frame.copy()`\n",
      "  df[ohe.get_feature_names_out()] = ohe_transformed\n",
      "C:\\Users\\Professional\\AppData\\Local\\Temp\\ipykernel_7676\\2220107148.py:2: PerformanceWarning: DataFrame is highly fragmented.  This is usually the result of calling `frame.insert` many times, which has poor performance.  Consider joining all columns at once using pd.concat(axis=1) instead. To get a de-fragmented frame, use `newframe = frame.copy()`\n",
      "  df[ohe.get_feature_names_out()] = ohe_transformed\n",
      "C:\\Users\\Professional\\AppData\\Local\\Temp\\ipykernel_7676\\2220107148.py:2: PerformanceWarning: DataFrame is highly fragmented.  This is usually the result of calling `frame.insert` many times, which has poor performance.  Consider joining all columns at once using pd.concat(axis=1) instead. To get a de-fragmented frame, use `newframe = frame.copy()`\n",
      "  df[ohe.get_feature_names_out()] = ohe_transformed\n",
      "C:\\Users\\Professional\\AppData\\Local\\Temp\\ipykernel_7676\\2220107148.py:2: PerformanceWarning: DataFrame is highly fragmented.  This is usually the result of calling `frame.insert` many times, which has poor performance.  Consider joining all columns at once using pd.concat(axis=1) instead. To get a de-fragmented frame, use `newframe = frame.copy()`\n",
      "  df[ohe.get_feature_names_out()] = ohe_transformed\n",
      "C:\\Users\\Professional\\AppData\\Local\\Temp\\ipykernel_7676\\2220107148.py:2: PerformanceWarning: DataFrame is highly fragmented.  This is usually the result of calling `frame.insert` many times, which has poor performance.  Consider joining all columns at once using pd.concat(axis=1) instead. To get a de-fragmented frame, use `newframe = frame.copy()`\n",
      "  df[ohe.get_feature_names_out()] = ohe_transformed\n",
      "C:\\Users\\Professional\\AppData\\Local\\Temp\\ipykernel_7676\\2220107148.py:2: PerformanceWarning: DataFrame is highly fragmented.  This is usually the result of calling `frame.insert` many times, which has poor performance.  Consider joining all columns at once using pd.concat(axis=1) instead. To get a de-fragmented frame, use `newframe = frame.copy()`\n",
      "  df[ohe.get_feature_names_out()] = ohe_transformed\n",
      "C:\\Users\\Professional\\AppData\\Local\\Temp\\ipykernel_7676\\2220107148.py:2: PerformanceWarning: DataFrame is highly fragmented.  This is usually the result of calling `frame.insert` many times, which has poor performance.  Consider joining all columns at once using pd.concat(axis=1) instead. To get a de-fragmented frame, use `newframe = frame.copy()`\n",
      "  df[ohe.get_feature_names_out()] = ohe_transformed\n",
      "C:\\Users\\Professional\\AppData\\Local\\Temp\\ipykernel_7676\\2220107148.py:2: PerformanceWarning: DataFrame is highly fragmented.  This is usually the result of calling `frame.insert` many times, which has poor performance.  Consider joining all columns at once using pd.concat(axis=1) instead. To get a de-fragmented frame, use `newframe = frame.copy()`\n",
      "  df[ohe.get_feature_names_out()] = ohe_transformed\n",
      "C:\\Users\\Professional\\AppData\\Local\\Temp\\ipykernel_7676\\2220107148.py:2: PerformanceWarning: DataFrame is highly fragmented.  This is usually the result of calling `frame.insert` many times, which has poor performance.  Consider joining all columns at once using pd.concat(axis=1) instead. To get a de-fragmented frame, use `newframe = frame.copy()`\n",
      "  df[ohe.get_feature_names_out()] = ohe_transformed\n",
      "C:\\Users\\Professional\\AppData\\Local\\Temp\\ipykernel_7676\\2220107148.py:2: PerformanceWarning: DataFrame is highly fragmented.  This is usually the result of calling `frame.insert` many times, which has poor performance.  Consider joining all columns at once using pd.concat(axis=1) instead. To get a de-fragmented frame, use `newframe = frame.copy()`\n",
      "  df[ohe.get_feature_names_out()] = ohe_transformed\n",
      "C:\\Users\\Professional\\AppData\\Local\\Temp\\ipykernel_7676\\2220107148.py:2: PerformanceWarning: DataFrame is highly fragmented.  This is usually the result of calling `frame.insert` many times, which has poor performance.  Consider joining all columns at once using pd.concat(axis=1) instead. To get a de-fragmented frame, use `newframe = frame.copy()`\n",
      "  df[ohe.get_feature_names_out()] = ohe_transformed\n",
      "C:\\Users\\Professional\\AppData\\Local\\Temp\\ipykernel_7676\\2220107148.py:2: PerformanceWarning: DataFrame is highly fragmented.  This is usually the result of calling `frame.insert` many times, which has poor performance.  Consider joining all columns at once using pd.concat(axis=1) instead. To get a de-fragmented frame, use `newframe = frame.copy()`\n",
      "  df[ohe.get_feature_names_out()] = ohe_transformed\n",
      "C:\\Users\\Professional\\AppData\\Local\\Temp\\ipykernel_7676\\2220107148.py:2: PerformanceWarning: DataFrame is highly fragmented.  This is usually the result of calling `frame.insert` many times, which has poor performance.  Consider joining all columns at once using pd.concat(axis=1) instead. To get a de-fragmented frame, use `newframe = frame.copy()`\n",
      "  df[ohe.get_feature_names_out()] = ohe_transformed\n",
      "C:\\Users\\Professional\\AppData\\Local\\Temp\\ipykernel_7676\\2220107148.py:2: PerformanceWarning: DataFrame is highly fragmented.  This is usually the result of calling `frame.insert` many times, which has poor performance.  Consider joining all columns at once using pd.concat(axis=1) instead. To get a de-fragmented frame, use `newframe = frame.copy()`\n",
      "  df[ohe.get_feature_names_out()] = ohe_transformed\n",
      "C:\\Users\\Professional\\AppData\\Local\\Temp\\ipykernel_7676\\2220107148.py:2: PerformanceWarning: DataFrame is highly fragmented.  This is usually the result of calling `frame.insert` many times, which has poor performance.  Consider joining all columns at once using pd.concat(axis=1) instead. To get a de-fragmented frame, use `newframe = frame.copy()`\n",
      "  df[ohe.get_feature_names_out()] = ohe_transformed\n",
      "C:\\Users\\Professional\\AppData\\Local\\Temp\\ipykernel_7676\\2220107148.py:2: PerformanceWarning: DataFrame is highly fragmented.  This is usually the result of calling `frame.insert` many times, which has poor performance.  Consider joining all columns at once using pd.concat(axis=1) instead. To get a de-fragmented frame, use `newframe = frame.copy()`\n",
      "  df[ohe.get_feature_names_out()] = ohe_transformed\n",
      "C:\\Users\\Professional\\AppData\\Local\\Temp\\ipykernel_7676\\2220107148.py:2: PerformanceWarning: DataFrame is highly fragmented.  This is usually the result of calling `frame.insert` many times, which has poor performance.  Consider joining all columns at once using pd.concat(axis=1) instead. To get a de-fragmented frame, use `newframe = frame.copy()`\n",
      "  df[ohe.get_feature_names_out()] = ohe_transformed\n",
      "C:\\Users\\Professional\\AppData\\Local\\Temp\\ipykernel_7676\\2220107148.py:2: PerformanceWarning: DataFrame is highly fragmented.  This is usually the result of calling `frame.insert` many times, which has poor performance.  Consider joining all columns at once using pd.concat(axis=1) instead. To get a de-fragmented frame, use `newframe = frame.copy()`\n",
      "  df[ohe.get_feature_names_out()] = ohe_transformed\n",
      "C:\\Users\\Professional\\AppData\\Local\\Temp\\ipykernel_7676\\2220107148.py:2: PerformanceWarning: DataFrame is highly fragmented.  This is usually the result of calling `frame.insert` many times, which has poor performance.  Consider joining all columns at once using pd.concat(axis=1) instead. To get a de-fragmented frame, use `newframe = frame.copy()`\n",
      "  df[ohe.get_feature_names_out()] = ohe_transformed\n",
      "C:\\Users\\Professional\\AppData\\Local\\Temp\\ipykernel_7676\\2220107148.py:2: PerformanceWarning: DataFrame is highly fragmented.  This is usually the result of calling `frame.insert` many times, which has poor performance.  Consider joining all columns at once using pd.concat(axis=1) instead. To get a de-fragmented frame, use `newframe = frame.copy()`\n",
      "  df[ohe.get_feature_names_out()] = ohe_transformed\n",
      "C:\\Users\\Professional\\AppData\\Local\\Temp\\ipykernel_7676\\2220107148.py:2: PerformanceWarning: DataFrame is highly fragmented.  This is usually the result of calling `frame.insert` many times, which has poor performance.  Consider joining all columns at once using pd.concat(axis=1) instead. To get a de-fragmented frame, use `newframe = frame.copy()`\n",
      "  df[ohe.get_feature_names_out()] = ohe_transformed\n",
      "C:\\Users\\Professional\\AppData\\Local\\Temp\\ipykernel_7676\\2220107148.py:2: PerformanceWarning: DataFrame is highly fragmented.  This is usually the result of calling `frame.insert` many times, which has poor performance.  Consider joining all columns at once using pd.concat(axis=1) instead. To get a de-fragmented frame, use `newframe = frame.copy()`\n",
      "  df[ohe.get_feature_names_out()] = ohe_transformed\n",
      "C:\\Users\\Professional\\AppData\\Local\\Temp\\ipykernel_7676\\2220107148.py:2: PerformanceWarning: DataFrame is highly fragmented.  This is usually the result of calling `frame.insert` many times, which has poor performance.  Consider joining all columns at once using pd.concat(axis=1) instead. To get a de-fragmented frame, use `newframe = frame.copy()`\n",
      "  df[ohe.get_feature_names_out()] = ohe_transformed\n",
      "C:\\Users\\Professional\\AppData\\Local\\Temp\\ipykernel_7676\\2220107148.py:2: PerformanceWarning: DataFrame is highly fragmented.  This is usually the result of calling `frame.insert` many times, which has poor performance.  Consider joining all columns at once using pd.concat(axis=1) instead. To get a de-fragmented frame, use `newframe = frame.copy()`\n",
      "  df[ohe.get_feature_names_out()] = ohe_transformed\n",
      "C:\\Users\\Professional\\AppData\\Local\\Temp\\ipykernel_7676\\2220107148.py:2: PerformanceWarning: DataFrame is highly fragmented.  This is usually the result of calling `frame.insert` many times, which has poor performance.  Consider joining all columns at once using pd.concat(axis=1) instead. To get a de-fragmented frame, use `newframe = frame.copy()`\n",
      "  df[ohe.get_feature_names_out()] = ohe_transformed\n",
      "C:\\Users\\Professional\\AppData\\Local\\Temp\\ipykernel_7676\\2220107148.py:2: PerformanceWarning: DataFrame is highly fragmented.  This is usually the result of calling `frame.insert` many times, which has poor performance.  Consider joining all columns at once using pd.concat(axis=1) instead. To get a de-fragmented frame, use `newframe = frame.copy()`\n",
      "  df[ohe.get_feature_names_out()] = ohe_transformed\n",
      "C:\\Users\\Professional\\AppData\\Local\\Temp\\ipykernel_7676\\2220107148.py:2: PerformanceWarning: DataFrame is highly fragmented.  This is usually the result of calling `frame.insert` many times, which has poor performance.  Consider joining all columns at once using pd.concat(axis=1) instead. To get a de-fragmented frame, use `newframe = frame.copy()`\n",
      "  df[ohe.get_feature_names_out()] = ohe_transformed\n",
      "C:\\Users\\Professional\\AppData\\Local\\Temp\\ipykernel_7676\\2220107148.py:2: PerformanceWarning: DataFrame is highly fragmented.  This is usually the result of calling `frame.insert` many times, which has poor performance.  Consider joining all columns at once using pd.concat(axis=1) instead. To get a de-fragmented frame, use `newframe = frame.copy()`\n",
      "  df[ohe.get_feature_names_out()] = ohe_transformed\n",
      "C:\\Users\\Professional\\AppData\\Local\\Temp\\ipykernel_7676\\2220107148.py:2: PerformanceWarning: DataFrame is highly fragmented.  This is usually the result of calling `frame.insert` many times, which has poor performance.  Consider joining all columns at once using pd.concat(axis=1) instead. To get a de-fragmented frame, use `newframe = frame.copy()`\n",
      "  df[ohe.get_feature_names_out()] = ohe_transformed\n",
      "C:\\Users\\Professional\\AppData\\Local\\Temp\\ipykernel_7676\\2220107148.py:2: PerformanceWarning: DataFrame is highly fragmented.  This is usually the result of calling `frame.insert` many times, which has poor performance.  Consider joining all columns at once using pd.concat(axis=1) instead. To get a de-fragmented frame, use `newframe = frame.copy()`\n",
      "  df[ohe.get_feature_names_out()] = ohe_transformed\n",
      "C:\\Users\\Professional\\AppData\\Local\\Temp\\ipykernel_7676\\2220107148.py:2: PerformanceWarning: DataFrame is highly fragmented.  This is usually the result of calling `frame.insert` many times, which has poor performance.  Consider joining all columns at once using pd.concat(axis=1) instead. To get a de-fragmented frame, use `newframe = frame.copy()`\n",
      "  df[ohe.get_feature_names_out()] = ohe_transformed\n",
      "C:\\Users\\Professional\\AppData\\Local\\Temp\\ipykernel_7676\\2220107148.py:2: PerformanceWarning: DataFrame is highly fragmented.  This is usually the result of calling `frame.insert` many times, which has poor performance.  Consider joining all columns at once using pd.concat(axis=1) instead. To get a de-fragmented frame, use `newframe = frame.copy()`\n",
      "  df[ohe.get_feature_names_out()] = ohe_transformed\n",
      "C:\\Users\\Professional\\AppData\\Local\\Temp\\ipykernel_7676\\2220107148.py:2: PerformanceWarning: DataFrame is highly fragmented.  This is usually the result of calling `frame.insert` many times, which has poor performance.  Consider joining all columns at once using pd.concat(axis=1) instead. To get a de-fragmented frame, use `newframe = frame.copy()`\n",
      "  df[ohe.get_feature_names_out()] = ohe_transformed\n",
      "C:\\Users\\Professional\\AppData\\Local\\Temp\\ipykernel_7676\\2220107148.py:2: PerformanceWarning: DataFrame is highly fragmented.  This is usually the result of calling `frame.insert` many times, which has poor performance.  Consider joining all columns at once using pd.concat(axis=1) instead. To get a de-fragmented frame, use `newframe = frame.copy()`\n",
      "  df[ohe.get_feature_names_out()] = ohe_transformed\n",
      "C:\\Users\\Professional\\AppData\\Local\\Temp\\ipykernel_7676\\2220107148.py:2: PerformanceWarning: DataFrame is highly fragmented.  This is usually the result of calling `frame.insert` many times, which has poor performance.  Consider joining all columns at once using pd.concat(axis=1) instead. To get a de-fragmented frame, use `newframe = frame.copy()`\n",
      "  df[ohe.get_feature_names_out()] = ohe_transformed\n",
      "C:\\Users\\Professional\\AppData\\Local\\Temp\\ipykernel_7676\\2220107148.py:2: PerformanceWarning: DataFrame is highly fragmented.  This is usually the result of calling `frame.insert` many times, which has poor performance.  Consider joining all columns at once using pd.concat(axis=1) instead. To get a de-fragmented frame, use `newframe = frame.copy()`\n",
      "  df[ohe.get_feature_names_out()] = ohe_transformed\n",
      "C:\\Users\\Professional\\AppData\\Local\\Temp\\ipykernel_7676\\2220107148.py:2: PerformanceWarning: DataFrame is highly fragmented.  This is usually the result of calling `frame.insert` many times, which has poor performance.  Consider joining all columns at once using pd.concat(axis=1) instead. To get a de-fragmented frame, use `newframe = frame.copy()`\n",
      "  df[ohe.get_feature_names_out()] = ohe_transformed\n",
      "C:\\Users\\Professional\\AppData\\Local\\Temp\\ipykernel_7676\\2220107148.py:2: PerformanceWarning: DataFrame is highly fragmented.  This is usually the result of calling `frame.insert` many times, which has poor performance.  Consider joining all columns at once using pd.concat(axis=1) instead. To get a de-fragmented frame, use `newframe = frame.copy()`\n",
      "  df[ohe.get_feature_names_out()] = ohe_transformed\n",
      "C:\\Users\\Professional\\AppData\\Local\\Temp\\ipykernel_7676\\2220107148.py:2: PerformanceWarning: DataFrame is highly fragmented.  This is usually the result of calling `frame.insert` many times, which has poor performance.  Consider joining all columns at once using pd.concat(axis=1) instead. To get a de-fragmented frame, use `newframe = frame.copy()`\n",
      "  df[ohe.get_feature_names_out()] = ohe_transformed\n",
      "C:\\Users\\Professional\\AppData\\Local\\Temp\\ipykernel_7676\\2220107148.py:2: PerformanceWarning: DataFrame is highly fragmented.  This is usually the result of calling `frame.insert` many times, which has poor performance.  Consider joining all columns at once using pd.concat(axis=1) instead. To get a de-fragmented frame, use `newframe = frame.copy()`\n",
      "  df[ohe.get_feature_names_out()] = ohe_transformed\n",
      "C:\\Users\\Professional\\AppData\\Local\\Temp\\ipykernel_7676\\2220107148.py:2: PerformanceWarning: DataFrame is highly fragmented.  This is usually the result of calling `frame.insert` many times, which has poor performance.  Consider joining all columns at once using pd.concat(axis=1) instead. To get a de-fragmented frame, use `newframe = frame.copy()`\n",
      "  df[ohe.get_feature_names_out()] = ohe_transformed\n",
      "C:\\Users\\Professional\\AppData\\Local\\Temp\\ipykernel_7676\\2220107148.py:2: PerformanceWarning: DataFrame is highly fragmented.  This is usually the result of calling `frame.insert` many times, which has poor performance.  Consider joining all columns at once using pd.concat(axis=1) instead. To get a de-fragmented frame, use `newframe = frame.copy()`\n",
      "  df[ohe.get_feature_names_out()] = ohe_transformed\n",
      "C:\\Users\\Professional\\AppData\\Local\\Temp\\ipykernel_7676\\2220107148.py:2: PerformanceWarning: DataFrame is highly fragmented.  This is usually the result of calling `frame.insert` many times, which has poor performance.  Consider joining all columns at once using pd.concat(axis=1) instead. To get a de-fragmented frame, use `newframe = frame.copy()`\n",
      "  df[ohe.get_feature_names_out()] = ohe_transformed\n",
      "C:\\Users\\Professional\\AppData\\Local\\Temp\\ipykernel_7676\\2220107148.py:2: PerformanceWarning: DataFrame is highly fragmented.  This is usually the result of calling `frame.insert` many times, which has poor performance.  Consider joining all columns at once using pd.concat(axis=1) instead. To get a de-fragmented frame, use `newframe = frame.copy()`\n",
      "  df[ohe.get_feature_names_out()] = ohe_transformed\n",
      "C:\\Users\\Professional\\AppData\\Local\\Temp\\ipykernel_7676\\2220107148.py:2: PerformanceWarning: DataFrame is highly fragmented.  This is usually the result of calling `frame.insert` many times, which has poor performance.  Consider joining all columns at once using pd.concat(axis=1) instead. To get a de-fragmented frame, use `newframe = frame.copy()`\n",
      "  df[ohe.get_feature_names_out()] = ohe_transformed\n",
      "C:\\Users\\Professional\\AppData\\Local\\Temp\\ipykernel_7676\\2220107148.py:2: PerformanceWarning: DataFrame is highly fragmented.  This is usually the result of calling `frame.insert` many times, which has poor performance.  Consider joining all columns at once using pd.concat(axis=1) instead. To get a de-fragmented frame, use `newframe = frame.copy()`\n",
      "  df[ohe.get_feature_names_out()] = ohe_transformed\n",
      "C:\\Users\\Professional\\AppData\\Local\\Temp\\ipykernel_7676\\2220107148.py:2: PerformanceWarning: DataFrame is highly fragmented.  This is usually the result of calling `frame.insert` many times, which has poor performance.  Consider joining all columns at once using pd.concat(axis=1) instead. To get a de-fragmented frame, use `newframe = frame.copy()`\n",
      "  df[ohe.get_feature_names_out()] = ohe_transformed\n",
      "C:\\Users\\Professional\\AppData\\Local\\Temp\\ipykernel_7676\\2220107148.py:2: PerformanceWarning: DataFrame is highly fragmented.  This is usually the result of calling `frame.insert` many times, which has poor performance.  Consider joining all columns at once using pd.concat(axis=1) instead. To get a de-fragmented frame, use `newframe = frame.copy()`\n",
      "  df[ohe.get_feature_names_out()] = ohe_transformed\n",
      "C:\\Users\\Professional\\AppData\\Local\\Temp\\ipykernel_7676\\2220107148.py:2: PerformanceWarning: DataFrame is highly fragmented.  This is usually the result of calling `frame.insert` many times, which has poor performance.  Consider joining all columns at once using pd.concat(axis=1) instead. To get a de-fragmented frame, use `newframe = frame.copy()`\n",
      "  df[ohe.get_feature_names_out()] = ohe_transformed\n",
      "C:\\Users\\Professional\\AppData\\Local\\Temp\\ipykernel_7676\\2220107148.py:2: PerformanceWarning: DataFrame is highly fragmented.  This is usually the result of calling `frame.insert` many times, which has poor performance.  Consider joining all columns at once using pd.concat(axis=1) instead. To get a de-fragmented frame, use `newframe = frame.copy()`\n",
      "  df[ohe.get_feature_names_out()] = ohe_transformed\n",
      "C:\\Users\\Professional\\AppData\\Local\\Temp\\ipykernel_7676\\2220107148.py:2: PerformanceWarning: DataFrame is highly fragmented.  This is usually the result of calling `frame.insert` many times, which has poor performance.  Consider joining all columns at once using pd.concat(axis=1) instead. To get a de-fragmented frame, use `newframe = frame.copy()`\n",
      "  df[ohe.get_feature_names_out()] = ohe_transformed\n",
      "C:\\Users\\Professional\\AppData\\Local\\Temp\\ipykernel_7676\\2220107148.py:2: PerformanceWarning: DataFrame is highly fragmented.  This is usually the result of calling `frame.insert` many times, which has poor performance.  Consider joining all columns at once using pd.concat(axis=1) instead. To get a de-fragmented frame, use `newframe = frame.copy()`\n",
      "  df[ohe.get_feature_names_out()] = ohe_transformed\n",
      "C:\\Users\\Professional\\AppData\\Local\\Temp\\ipykernel_7676\\2220107148.py:2: PerformanceWarning: DataFrame is highly fragmented.  This is usually the result of calling `frame.insert` many times, which has poor performance.  Consider joining all columns at once using pd.concat(axis=1) instead. To get a de-fragmented frame, use `newframe = frame.copy()`\n",
      "  df[ohe.get_feature_names_out()] = ohe_transformed\n",
      "C:\\Users\\Professional\\AppData\\Local\\Temp\\ipykernel_7676\\2220107148.py:2: PerformanceWarning: DataFrame is highly fragmented.  This is usually the result of calling `frame.insert` many times, which has poor performance.  Consider joining all columns at once using pd.concat(axis=1) instead. To get a de-fragmented frame, use `newframe = frame.copy()`\n",
      "  df[ohe.get_feature_names_out()] = ohe_transformed\n",
      "C:\\Users\\Professional\\AppData\\Local\\Temp\\ipykernel_7676\\2220107148.py:2: PerformanceWarning: DataFrame is highly fragmented.  This is usually the result of calling `frame.insert` many times, which has poor performance.  Consider joining all columns at once using pd.concat(axis=1) instead. To get a de-fragmented frame, use `newframe = frame.copy()`\n",
      "  df[ohe.get_feature_names_out()] = ohe_transformed\n",
      "C:\\Users\\Professional\\AppData\\Local\\Temp\\ipykernel_7676\\2220107148.py:2: PerformanceWarning: DataFrame is highly fragmented.  This is usually the result of calling `frame.insert` many times, which has poor performance.  Consider joining all columns at once using pd.concat(axis=1) instead. To get a de-fragmented frame, use `newframe = frame.copy()`\n",
      "  df[ohe.get_feature_names_out()] = ohe_transformed\n",
      "C:\\Users\\Professional\\AppData\\Local\\Temp\\ipykernel_7676\\2220107148.py:2: PerformanceWarning: DataFrame is highly fragmented.  This is usually the result of calling `frame.insert` many times, which has poor performance.  Consider joining all columns at once using pd.concat(axis=1) instead. To get a de-fragmented frame, use `newframe = frame.copy()`\n",
      "  df[ohe.get_feature_names_out()] = ohe_transformed\n",
      "C:\\Users\\Professional\\AppData\\Local\\Temp\\ipykernel_7676\\2220107148.py:2: PerformanceWarning: DataFrame is highly fragmented.  This is usually the result of calling `frame.insert` many times, which has poor performance.  Consider joining all columns at once using pd.concat(axis=1) instead. To get a de-fragmented frame, use `newframe = frame.copy()`\n",
      "  df[ohe.get_feature_names_out()] = ohe_transformed\n",
      "C:\\Users\\Professional\\AppData\\Local\\Temp\\ipykernel_7676\\2220107148.py:2: PerformanceWarning: DataFrame is highly fragmented.  This is usually the result of calling `frame.insert` many times, which has poor performance.  Consider joining all columns at once using pd.concat(axis=1) instead. To get a de-fragmented frame, use `newframe = frame.copy()`\n",
      "  df[ohe.get_feature_names_out()] = ohe_transformed\n",
      "C:\\Users\\Professional\\AppData\\Local\\Temp\\ipykernel_7676\\2220107148.py:2: PerformanceWarning: DataFrame is highly fragmented.  This is usually the result of calling `frame.insert` many times, which has poor performance.  Consider joining all columns at once using pd.concat(axis=1) instead. To get a de-fragmented frame, use `newframe = frame.copy()`\n",
      "  df[ohe.get_feature_names_out()] = ohe_transformed\n",
      "C:\\Users\\Professional\\AppData\\Local\\Temp\\ipykernel_7676\\2220107148.py:2: PerformanceWarning: DataFrame is highly fragmented.  This is usually the result of calling `frame.insert` many times, which has poor performance.  Consider joining all columns at once using pd.concat(axis=1) instead. To get a de-fragmented frame, use `newframe = frame.copy()`\n",
      "  df[ohe.get_feature_names_out()] = ohe_transformed\n",
      "C:\\Users\\Professional\\AppData\\Local\\Temp\\ipykernel_7676\\2220107148.py:2: PerformanceWarning: DataFrame is highly fragmented.  This is usually the result of calling `frame.insert` many times, which has poor performance.  Consider joining all columns at once using pd.concat(axis=1) instead. To get a de-fragmented frame, use `newframe = frame.copy()`\n",
      "  df[ohe.get_feature_names_out()] = ohe_transformed\n",
      "C:\\Users\\Professional\\AppData\\Local\\Temp\\ipykernel_7676\\2220107148.py:2: PerformanceWarning: DataFrame is highly fragmented.  This is usually the result of calling `frame.insert` many times, which has poor performance.  Consider joining all columns at once using pd.concat(axis=1) instead. To get a de-fragmented frame, use `newframe = frame.copy()`\n",
      "  df[ohe.get_feature_names_out()] = ohe_transformed\n",
      "C:\\Users\\Professional\\AppData\\Local\\Temp\\ipykernel_7676\\2220107148.py:2: PerformanceWarning: DataFrame is highly fragmented.  This is usually the result of calling `frame.insert` many times, which has poor performance.  Consider joining all columns at once using pd.concat(axis=1) instead. To get a de-fragmented frame, use `newframe = frame.copy()`\n",
      "  df[ohe.get_feature_names_out()] = ohe_transformed\n",
      "C:\\Users\\Professional\\AppData\\Local\\Temp\\ipykernel_7676\\2220107148.py:2: PerformanceWarning: DataFrame is highly fragmented.  This is usually the result of calling `frame.insert` many times, which has poor performance.  Consider joining all columns at once using pd.concat(axis=1) instead. To get a de-fragmented frame, use `newframe = frame.copy()`\n",
      "  df[ohe.get_feature_names_out()] = ohe_transformed\n",
      "C:\\Users\\Professional\\AppData\\Local\\Temp\\ipykernel_7676\\2220107148.py:2: PerformanceWarning: DataFrame is highly fragmented.  This is usually the result of calling `frame.insert` many times, which has poor performance.  Consider joining all columns at once using pd.concat(axis=1) instead. To get a de-fragmented frame, use `newframe = frame.copy()`\n",
      "  df[ohe.get_feature_names_out()] = ohe_transformed\n",
      "C:\\Users\\Professional\\AppData\\Local\\Temp\\ipykernel_7676\\2220107148.py:2: PerformanceWarning: DataFrame is highly fragmented.  This is usually the result of calling `frame.insert` many times, which has poor performance.  Consider joining all columns at once using pd.concat(axis=1) instead. To get a de-fragmented frame, use `newframe = frame.copy()`\n",
      "  df[ohe.get_feature_names_out()] = ohe_transformed\n",
      "C:\\Users\\Professional\\AppData\\Local\\Temp\\ipykernel_7676\\2220107148.py:2: PerformanceWarning: DataFrame is highly fragmented.  This is usually the result of calling `frame.insert` many times, which has poor performance.  Consider joining all columns at once using pd.concat(axis=1) instead. To get a de-fragmented frame, use `newframe = frame.copy()`\n",
      "  df[ohe.get_feature_names_out()] = ohe_transformed\n",
      "C:\\Users\\Professional\\AppData\\Local\\Temp\\ipykernel_7676\\2220107148.py:2: PerformanceWarning: DataFrame is highly fragmented.  This is usually the result of calling `frame.insert` many times, which has poor performance.  Consider joining all columns at once using pd.concat(axis=1) instead. To get a de-fragmented frame, use `newframe = frame.copy()`\n",
      "  df[ohe.get_feature_names_out()] = ohe_transformed\n",
      "C:\\Users\\Professional\\AppData\\Local\\Temp\\ipykernel_7676\\2220107148.py:2: PerformanceWarning: DataFrame is highly fragmented.  This is usually the result of calling `frame.insert` many times, which has poor performance.  Consider joining all columns at once using pd.concat(axis=1) instead. To get a de-fragmented frame, use `newframe = frame.copy()`\n",
      "  df[ohe.get_feature_names_out()] = ohe_transformed\n",
      "C:\\Users\\Professional\\AppData\\Local\\Temp\\ipykernel_7676\\2220107148.py:2: PerformanceWarning: DataFrame is highly fragmented.  This is usually the result of calling `frame.insert` many times, which has poor performance.  Consider joining all columns at once using pd.concat(axis=1) instead. To get a de-fragmented frame, use `newframe = frame.copy()`\n",
      "  df[ohe.get_feature_names_out()] = ohe_transformed\n",
      "C:\\Users\\Professional\\AppData\\Local\\Temp\\ipykernel_7676\\2220107148.py:2: PerformanceWarning: DataFrame is highly fragmented.  This is usually the result of calling `frame.insert` many times, which has poor performance.  Consider joining all columns at once using pd.concat(axis=1) instead. To get a de-fragmented frame, use `newframe = frame.copy()`\n",
      "  df[ohe.get_feature_names_out()] = ohe_transformed\n",
      "C:\\Users\\Professional\\AppData\\Local\\Temp\\ipykernel_7676\\2220107148.py:2: PerformanceWarning: DataFrame is highly fragmented.  This is usually the result of calling `frame.insert` many times, which has poor performance.  Consider joining all columns at once using pd.concat(axis=1) instead. To get a de-fragmented frame, use `newframe = frame.copy()`\n",
      "  df[ohe.get_feature_names_out()] = ohe_transformed\n",
      "C:\\Users\\Professional\\AppData\\Local\\Temp\\ipykernel_7676\\2220107148.py:2: PerformanceWarning: DataFrame is highly fragmented.  This is usually the result of calling `frame.insert` many times, which has poor performance.  Consider joining all columns at once using pd.concat(axis=1) instead. To get a de-fragmented frame, use `newframe = frame.copy()`\n",
      "  df[ohe.get_feature_names_out()] = ohe_transformed\n",
      "C:\\Users\\Professional\\AppData\\Local\\Temp\\ipykernel_7676\\2220107148.py:2: PerformanceWarning: DataFrame is highly fragmented.  This is usually the result of calling `frame.insert` many times, which has poor performance.  Consider joining all columns at once using pd.concat(axis=1) instead. To get a de-fragmented frame, use `newframe = frame.copy()`\n",
      "  df[ohe.get_feature_names_out()] = ohe_transformed\n",
      "C:\\Users\\Professional\\AppData\\Local\\Temp\\ipykernel_7676\\2220107148.py:2: PerformanceWarning: DataFrame is highly fragmented.  This is usually the result of calling `frame.insert` many times, which has poor performance.  Consider joining all columns at once using pd.concat(axis=1) instead. To get a de-fragmented frame, use `newframe = frame.copy()`\n",
      "  df[ohe.get_feature_names_out()] = ohe_transformed\n",
      "C:\\Users\\Professional\\AppData\\Local\\Temp\\ipykernel_7676\\2220107148.py:2: PerformanceWarning: DataFrame is highly fragmented.  This is usually the result of calling `frame.insert` many times, which has poor performance.  Consider joining all columns at once using pd.concat(axis=1) instead. To get a de-fragmented frame, use `newframe = frame.copy()`\n",
      "  df[ohe.get_feature_names_out()] = ohe_transformed\n",
      "C:\\Users\\Professional\\AppData\\Local\\Temp\\ipykernel_7676\\2220107148.py:2: PerformanceWarning: DataFrame is highly fragmented.  This is usually the result of calling `frame.insert` many times, which has poor performance.  Consider joining all columns at once using pd.concat(axis=1) instead. To get a de-fragmented frame, use `newframe = frame.copy()`\n",
      "  df[ohe.get_feature_names_out()] = ohe_transformed\n",
      "C:\\Users\\Professional\\AppData\\Local\\Temp\\ipykernel_7676\\2220107148.py:2: PerformanceWarning: DataFrame is highly fragmented.  This is usually the result of calling `frame.insert` many times, which has poor performance.  Consider joining all columns at once using pd.concat(axis=1) instead. To get a de-fragmented frame, use `newframe = frame.copy()`\n",
      "  df[ohe.get_feature_names_out()] = ohe_transformed\n",
      "C:\\Users\\Professional\\AppData\\Local\\Temp\\ipykernel_7676\\2220107148.py:2: PerformanceWarning: DataFrame is highly fragmented.  This is usually the result of calling `frame.insert` many times, which has poor performance.  Consider joining all columns at once using pd.concat(axis=1) instead. To get a de-fragmented frame, use `newframe = frame.copy()`\n",
      "  df[ohe.get_feature_names_out()] = ohe_transformed\n",
      "C:\\Users\\Professional\\AppData\\Local\\Temp\\ipykernel_7676\\2220107148.py:2: PerformanceWarning: DataFrame is highly fragmented.  This is usually the result of calling `frame.insert` many times, which has poor performance.  Consider joining all columns at once using pd.concat(axis=1) instead. To get a de-fragmented frame, use `newframe = frame.copy()`\n",
      "  df[ohe.get_feature_names_out()] = ohe_transformed\n",
      "C:\\Users\\Professional\\AppData\\Local\\Temp\\ipykernel_7676\\2220107148.py:2: PerformanceWarning: DataFrame is highly fragmented.  This is usually the result of calling `frame.insert` many times, which has poor performance.  Consider joining all columns at once using pd.concat(axis=1) instead. To get a de-fragmented frame, use `newframe = frame.copy()`\n",
      "  df[ohe.get_feature_names_out()] = ohe_transformed\n",
      "C:\\Users\\Professional\\AppData\\Local\\Temp\\ipykernel_7676\\2220107148.py:2: PerformanceWarning: DataFrame is highly fragmented.  This is usually the result of calling `frame.insert` many times, which has poor performance.  Consider joining all columns at once using pd.concat(axis=1) instead. To get a de-fragmented frame, use `newframe = frame.copy()`\n",
      "  df[ohe.get_feature_names_out()] = ohe_transformed\n",
      "C:\\Users\\Professional\\AppData\\Local\\Temp\\ipykernel_7676\\2220107148.py:2: PerformanceWarning: DataFrame is highly fragmented.  This is usually the result of calling `frame.insert` many times, which has poor performance.  Consider joining all columns at once using pd.concat(axis=1) instead. To get a de-fragmented frame, use `newframe = frame.copy()`\n",
      "  df[ohe.get_feature_names_out()] = ohe_transformed\n",
      "C:\\Users\\Professional\\AppData\\Local\\Temp\\ipykernel_7676\\2220107148.py:2: PerformanceWarning: DataFrame is highly fragmented.  This is usually the result of calling `frame.insert` many times, which has poor performance.  Consider joining all columns at once using pd.concat(axis=1) instead. To get a de-fragmented frame, use `newframe = frame.copy()`\n",
      "  df[ohe.get_feature_names_out()] = ohe_transformed\n",
      "C:\\Users\\Professional\\AppData\\Local\\Temp\\ipykernel_7676\\2220107148.py:2: PerformanceWarning: DataFrame is highly fragmented.  This is usually the result of calling `frame.insert` many times, which has poor performance.  Consider joining all columns at once using pd.concat(axis=1) instead. To get a de-fragmented frame, use `newframe = frame.copy()`\n",
      "  df[ohe.get_feature_names_out()] = ohe_transformed\n",
      "C:\\Users\\Professional\\AppData\\Local\\Temp\\ipykernel_7676\\2220107148.py:2: PerformanceWarning: DataFrame is highly fragmented.  This is usually the result of calling `frame.insert` many times, which has poor performance.  Consider joining all columns at once using pd.concat(axis=1) instead. To get a de-fragmented frame, use `newframe = frame.copy()`\n",
      "  df[ohe.get_feature_names_out()] = ohe_transformed\n",
      "C:\\Users\\Professional\\AppData\\Local\\Temp\\ipykernel_7676\\2220107148.py:2: PerformanceWarning: DataFrame is highly fragmented.  This is usually the result of calling `frame.insert` many times, which has poor performance.  Consider joining all columns at once using pd.concat(axis=1) instead. To get a de-fragmented frame, use `newframe = frame.copy()`\n",
      "  df[ohe.get_feature_names_out()] = ohe_transformed\n",
      "C:\\Users\\Professional\\AppData\\Local\\Temp\\ipykernel_7676\\2220107148.py:2: PerformanceWarning: DataFrame is highly fragmented.  This is usually the result of calling `frame.insert` many times, which has poor performance.  Consider joining all columns at once using pd.concat(axis=1) instead. To get a de-fragmented frame, use `newframe = frame.copy()`\n",
      "  df[ohe.get_feature_names_out()] = ohe_transformed\n",
      "C:\\Users\\Professional\\AppData\\Local\\Temp\\ipykernel_7676\\2220107148.py:2: PerformanceWarning: DataFrame is highly fragmented.  This is usually the result of calling `frame.insert` many times, which has poor performance.  Consider joining all columns at once using pd.concat(axis=1) instead. To get a de-fragmented frame, use `newframe = frame.copy()`\n",
      "  df[ohe.get_feature_names_out()] = ohe_transformed\n",
      "C:\\Users\\Professional\\AppData\\Local\\Temp\\ipykernel_7676\\2220107148.py:2: PerformanceWarning: DataFrame is highly fragmented.  This is usually the result of calling `frame.insert` many times, which has poor performance.  Consider joining all columns at once using pd.concat(axis=1) instead. To get a de-fragmented frame, use `newframe = frame.copy()`\n",
      "  df[ohe.get_feature_names_out()] = ohe_transformed\n",
      "C:\\Users\\Professional\\AppData\\Local\\Temp\\ipykernel_7676\\2220107148.py:2: PerformanceWarning: DataFrame is highly fragmented.  This is usually the result of calling `frame.insert` many times, which has poor performance.  Consider joining all columns at once using pd.concat(axis=1) instead. To get a de-fragmented frame, use `newframe = frame.copy()`\n",
      "  df[ohe.get_feature_names_out()] = ohe_transformed\n",
      "C:\\Users\\Professional\\AppData\\Local\\Temp\\ipykernel_7676\\2220107148.py:2: PerformanceWarning: DataFrame is highly fragmented.  This is usually the result of calling `frame.insert` many times, which has poor performance.  Consider joining all columns at once using pd.concat(axis=1) instead. To get a de-fragmented frame, use `newframe = frame.copy()`\n",
      "  df[ohe.get_feature_names_out()] = ohe_transformed\n",
      "C:\\Users\\Professional\\AppData\\Local\\Temp\\ipykernel_7676\\2220107148.py:2: PerformanceWarning: DataFrame is highly fragmented.  This is usually the result of calling `frame.insert` many times, which has poor performance.  Consider joining all columns at once using pd.concat(axis=1) instead. To get a de-fragmented frame, use `newframe = frame.copy()`\n",
      "  df[ohe.get_feature_names_out()] = ohe_transformed\n",
      "C:\\Users\\Professional\\AppData\\Local\\Temp\\ipykernel_7676\\2220107148.py:2: PerformanceWarning: DataFrame is highly fragmented.  This is usually the result of calling `frame.insert` many times, which has poor performance.  Consider joining all columns at once using pd.concat(axis=1) instead. To get a de-fragmented frame, use `newframe = frame.copy()`\n",
      "  df[ohe.get_feature_names_out()] = ohe_transformed\n",
      "C:\\Users\\Professional\\AppData\\Local\\Temp\\ipykernel_7676\\2220107148.py:2: PerformanceWarning: DataFrame is highly fragmented.  This is usually the result of calling `frame.insert` many times, which has poor performance.  Consider joining all columns at once using pd.concat(axis=1) instead. To get a de-fragmented frame, use `newframe = frame.copy()`\n",
      "  df[ohe.get_feature_names_out()] = ohe_transformed\n",
      "C:\\Users\\Professional\\AppData\\Local\\Temp\\ipykernel_7676\\2220107148.py:2: PerformanceWarning: DataFrame is highly fragmented.  This is usually the result of calling `frame.insert` many times, which has poor performance.  Consider joining all columns at once using pd.concat(axis=1) instead. To get a de-fragmented frame, use `newframe = frame.copy()`\n",
      "  df[ohe.get_feature_names_out()] = ohe_transformed\n",
      "C:\\Users\\Professional\\AppData\\Local\\Temp\\ipykernel_7676\\2220107148.py:2: PerformanceWarning: DataFrame is highly fragmented.  This is usually the result of calling `frame.insert` many times, which has poor performance.  Consider joining all columns at once using pd.concat(axis=1) instead. To get a de-fragmented frame, use `newframe = frame.copy()`\n",
      "  df[ohe.get_feature_names_out()] = ohe_transformed\n",
      "C:\\Users\\Professional\\AppData\\Local\\Temp\\ipykernel_7676\\2220107148.py:2: PerformanceWarning: DataFrame is highly fragmented.  This is usually the result of calling `frame.insert` many times, which has poor performance.  Consider joining all columns at once using pd.concat(axis=1) instead. To get a de-fragmented frame, use `newframe = frame.copy()`\n",
      "  df[ohe.get_feature_names_out()] = ohe_transformed\n",
      "C:\\Users\\Professional\\AppData\\Local\\Temp\\ipykernel_7676\\2220107148.py:2: PerformanceWarning: DataFrame is highly fragmented.  This is usually the result of calling `frame.insert` many times, which has poor performance.  Consider joining all columns at once using pd.concat(axis=1) instead. To get a de-fragmented frame, use `newframe = frame.copy()`\n",
      "  df[ohe.get_feature_names_out()] = ohe_transformed\n",
      "C:\\Users\\Professional\\AppData\\Local\\Temp\\ipykernel_7676\\2220107148.py:2: PerformanceWarning: DataFrame is highly fragmented.  This is usually the result of calling `frame.insert` many times, which has poor performance.  Consider joining all columns at once using pd.concat(axis=1) instead. To get a de-fragmented frame, use `newframe = frame.copy()`\n",
      "  df[ohe.get_feature_names_out()] = ohe_transformed\n",
      "C:\\Users\\Professional\\AppData\\Local\\Temp\\ipykernel_7676\\2220107148.py:2: PerformanceWarning: DataFrame is highly fragmented.  This is usually the result of calling `frame.insert` many times, which has poor performance.  Consider joining all columns at once using pd.concat(axis=1) instead. To get a de-fragmented frame, use `newframe = frame.copy()`\n",
      "  df[ohe.get_feature_names_out()] = ohe_transformed\n",
      "C:\\Users\\Professional\\AppData\\Local\\Temp\\ipykernel_7676\\2220107148.py:2: PerformanceWarning: DataFrame is highly fragmented.  This is usually the result of calling `frame.insert` many times, which has poor performance.  Consider joining all columns at once using pd.concat(axis=1) instead. To get a de-fragmented frame, use `newframe = frame.copy()`\n",
      "  df[ohe.get_feature_names_out()] = ohe_transformed\n",
      "C:\\Users\\Professional\\AppData\\Local\\Temp\\ipykernel_7676\\2220107148.py:2: PerformanceWarning: DataFrame is highly fragmented.  This is usually the result of calling `frame.insert` many times, which has poor performance.  Consider joining all columns at once using pd.concat(axis=1) instead. To get a de-fragmented frame, use `newframe = frame.copy()`\n",
      "  df[ohe.get_feature_names_out()] = ohe_transformed\n",
      "C:\\Users\\Professional\\AppData\\Local\\Temp\\ipykernel_7676\\2220107148.py:2: PerformanceWarning: DataFrame is highly fragmented.  This is usually the result of calling `frame.insert` many times, which has poor performance.  Consider joining all columns at once using pd.concat(axis=1) instead. To get a de-fragmented frame, use `newframe = frame.copy()`\n",
      "  df[ohe.get_feature_names_out()] = ohe_transformed\n",
      "C:\\Users\\Professional\\AppData\\Local\\Temp\\ipykernel_7676\\2220107148.py:2: PerformanceWarning: DataFrame is highly fragmented.  This is usually the result of calling `frame.insert` many times, which has poor performance.  Consider joining all columns at once using pd.concat(axis=1) instead. To get a de-fragmented frame, use `newframe = frame.copy()`\n",
      "  df[ohe.get_feature_names_out()] = ohe_transformed\n",
      "C:\\Users\\Professional\\AppData\\Local\\Temp\\ipykernel_7676\\2220107148.py:2: PerformanceWarning: DataFrame is highly fragmented.  This is usually the result of calling `frame.insert` many times, which has poor performance.  Consider joining all columns at once using pd.concat(axis=1) instead. To get a de-fragmented frame, use `newframe = frame.copy()`\n",
      "  df[ohe.get_feature_names_out()] = ohe_transformed\n",
      "C:\\Users\\Professional\\AppData\\Local\\Temp\\ipykernel_7676\\2220107148.py:2: PerformanceWarning: DataFrame is highly fragmented.  This is usually the result of calling `frame.insert` many times, which has poor performance.  Consider joining all columns at once using pd.concat(axis=1) instead. To get a de-fragmented frame, use `newframe = frame.copy()`\n",
      "  df[ohe.get_feature_names_out()] = ohe_transformed\n",
      "C:\\Users\\Professional\\AppData\\Local\\Temp\\ipykernel_7676\\2220107148.py:2: PerformanceWarning: DataFrame is highly fragmented.  This is usually the result of calling `frame.insert` many times, which has poor performance.  Consider joining all columns at once using pd.concat(axis=1) instead. To get a de-fragmented frame, use `newframe = frame.copy()`\n",
      "  df[ohe.get_feature_names_out()] = ohe_transformed\n",
      "C:\\Users\\Professional\\AppData\\Local\\Temp\\ipykernel_7676\\2220107148.py:2: PerformanceWarning: DataFrame is highly fragmented.  This is usually the result of calling `frame.insert` many times, which has poor performance.  Consider joining all columns at once using pd.concat(axis=1) instead. To get a de-fragmented frame, use `newframe = frame.copy()`\n",
      "  df[ohe.get_feature_names_out()] = ohe_transformed\n",
      "C:\\Users\\Professional\\AppData\\Local\\Temp\\ipykernel_7676\\2220107148.py:2: PerformanceWarning: DataFrame is highly fragmented.  This is usually the result of calling `frame.insert` many times, which has poor performance.  Consider joining all columns at once using pd.concat(axis=1) instead. To get a de-fragmented frame, use `newframe = frame.copy()`\n",
      "  df[ohe.get_feature_names_out()] = ohe_transformed\n",
      "C:\\Users\\Professional\\AppData\\Local\\Temp\\ipykernel_7676\\2220107148.py:2: PerformanceWarning: DataFrame is highly fragmented.  This is usually the result of calling `frame.insert` many times, which has poor performance.  Consider joining all columns at once using pd.concat(axis=1) instead. To get a de-fragmented frame, use `newframe = frame.copy()`\n",
      "  df[ohe.get_feature_names_out()] = ohe_transformed\n",
      "C:\\Users\\Professional\\AppData\\Local\\Temp\\ipykernel_7676\\2220107148.py:2: PerformanceWarning: DataFrame is highly fragmented.  This is usually the result of calling `frame.insert` many times, which has poor performance.  Consider joining all columns at once using pd.concat(axis=1) instead. To get a de-fragmented frame, use `newframe = frame.copy()`\n",
      "  df[ohe.get_feature_names_out()] = ohe_transformed\n",
      "C:\\Users\\Professional\\AppData\\Local\\Temp\\ipykernel_7676\\2220107148.py:2: PerformanceWarning: DataFrame is highly fragmented.  This is usually the result of calling `frame.insert` many times, which has poor performance.  Consider joining all columns at once using pd.concat(axis=1) instead. To get a de-fragmented frame, use `newframe = frame.copy()`\n",
      "  df[ohe.get_feature_names_out()] = ohe_transformed\n",
      "C:\\Users\\Professional\\AppData\\Local\\Temp\\ipykernel_7676\\2220107148.py:2: PerformanceWarning: DataFrame is highly fragmented.  This is usually the result of calling `frame.insert` many times, which has poor performance.  Consider joining all columns at once using pd.concat(axis=1) instead. To get a de-fragmented frame, use `newframe = frame.copy()`\n",
      "  df[ohe.get_feature_names_out()] = ohe_transformed\n",
      "C:\\Users\\Professional\\AppData\\Local\\Temp\\ipykernel_7676\\2220107148.py:2: PerformanceWarning: DataFrame is highly fragmented.  This is usually the result of calling `frame.insert` many times, which has poor performance.  Consider joining all columns at once using pd.concat(axis=1) instead. To get a de-fragmented frame, use `newframe = frame.copy()`\n",
      "  df[ohe.get_feature_names_out()] = ohe_transformed\n",
      "C:\\Users\\Professional\\AppData\\Local\\Temp\\ipykernel_7676\\2220107148.py:2: PerformanceWarning: DataFrame is highly fragmented.  This is usually the result of calling `frame.insert` many times, which has poor performance.  Consider joining all columns at once using pd.concat(axis=1) instead. To get a de-fragmented frame, use `newframe = frame.copy()`\n",
      "  df[ohe.get_feature_names_out()] = ohe_transformed\n",
      "C:\\Users\\Professional\\AppData\\Local\\Temp\\ipykernel_7676\\2220107148.py:2: PerformanceWarning: DataFrame is highly fragmented.  This is usually the result of calling `frame.insert` many times, which has poor performance.  Consider joining all columns at once using pd.concat(axis=1) instead. To get a de-fragmented frame, use `newframe = frame.copy()`\n",
      "  df[ohe.get_feature_names_out()] = ohe_transformed\n",
      "C:\\Users\\Professional\\AppData\\Local\\Temp\\ipykernel_7676\\2220107148.py:2: PerformanceWarning: DataFrame is highly fragmented.  This is usually the result of calling `frame.insert` many times, which has poor performance.  Consider joining all columns at once using pd.concat(axis=1) instead. To get a de-fragmented frame, use `newframe = frame.copy()`\n",
      "  df[ohe.get_feature_names_out()] = ohe_transformed\n",
      "C:\\Users\\Professional\\AppData\\Local\\Temp\\ipykernel_7676\\2220107148.py:2: PerformanceWarning: DataFrame is highly fragmented.  This is usually the result of calling `frame.insert` many times, which has poor performance.  Consider joining all columns at once using pd.concat(axis=1) instead. To get a de-fragmented frame, use `newframe = frame.copy()`\n",
      "  df[ohe.get_feature_names_out()] = ohe_transformed\n",
      "C:\\Users\\Professional\\AppData\\Local\\Temp\\ipykernel_7676\\2220107148.py:2: PerformanceWarning: DataFrame is highly fragmented.  This is usually the result of calling `frame.insert` many times, which has poor performance.  Consider joining all columns at once using pd.concat(axis=1) instead. To get a de-fragmented frame, use `newframe = frame.copy()`\n",
      "  df[ohe.get_feature_names_out()] = ohe_transformed\n",
      "C:\\Users\\Professional\\AppData\\Local\\Temp\\ipykernel_7676\\2220107148.py:2: PerformanceWarning: DataFrame is highly fragmented.  This is usually the result of calling `frame.insert` many times, which has poor performance.  Consider joining all columns at once using pd.concat(axis=1) instead. To get a de-fragmented frame, use `newframe = frame.copy()`\n",
      "  df[ohe.get_feature_names_out()] = ohe_transformed\n",
      "C:\\Users\\Professional\\AppData\\Local\\Temp\\ipykernel_7676\\2220107148.py:2: PerformanceWarning: DataFrame is highly fragmented.  This is usually the result of calling `frame.insert` many times, which has poor performance.  Consider joining all columns at once using pd.concat(axis=1) instead. To get a de-fragmented frame, use `newframe = frame.copy()`\n",
      "  df[ohe.get_feature_names_out()] = ohe_transformed\n",
      "C:\\Users\\Professional\\AppData\\Local\\Temp\\ipykernel_7676\\2220107148.py:2: PerformanceWarning: DataFrame is highly fragmented.  This is usually the result of calling `frame.insert` many times, which has poor performance.  Consider joining all columns at once using pd.concat(axis=1) instead. To get a de-fragmented frame, use `newframe = frame.copy()`\n",
      "  df[ohe.get_feature_names_out()] = ohe_transformed\n",
      "C:\\Users\\Professional\\AppData\\Local\\Temp\\ipykernel_7676\\2220107148.py:2: PerformanceWarning: DataFrame is highly fragmented.  This is usually the result of calling `frame.insert` many times, which has poor performance.  Consider joining all columns at once using pd.concat(axis=1) instead. To get a de-fragmented frame, use `newframe = frame.copy()`\n",
      "  df[ohe.get_feature_names_out()] = ohe_transformed\n",
      "C:\\Users\\Professional\\AppData\\Local\\Temp\\ipykernel_7676\\2220107148.py:2: PerformanceWarning: DataFrame is highly fragmented.  This is usually the result of calling `frame.insert` many times, which has poor performance.  Consider joining all columns at once using pd.concat(axis=1) instead. To get a de-fragmented frame, use `newframe = frame.copy()`\n",
      "  df[ohe.get_feature_names_out()] = ohe_transformed\n",
      "C:\\Users\\Professional\\AppData\\Local\\Temp\\ipykernel_7676\\2220107148.py:2: PerformanceWarning: DataFrame is highly fragmented.  This is usually the result of calling `frame.insert` many times, which has poor performance.  Consider joining all columns at once using pd.concat(axis=1) instead. To get a de-fragmented frame, use `newframe = frame.copy()`\n",
      "  df[ohe.get_feature_names_out()] = ohe_transformed\n",
      "C:\\Users\\Professional\\AppData\\Local\\Temp\\ipykernel_7676\\2220107148.py:2: PerformanceWarning: DataFrame is highly fragmented.  This is usually the result of calling `frame.insert` many times, which has poor performance.  Consider joining all columns at once using pd.concat(axis=1) instead. To get a de-fragmented frame, use `newframe = frame.copy()`\n",
      "  df[ohe.get_feature_names_out()] = ohe_transformed\n",
      "C:\\Users\\Professional\\AppData\\Local\\Temp\\ipykernel_7676\\2220107148.py:2: PerformanceWarning: DataFrame is highly fragmented.  This is usually the result of calling `frame.insert` many times, which has poor performance.  Consider joining all columns at once using pd.concat(axis=1) instead. To get a de-fragmented frame, use `newframe = frame.copy()`\n",
      "  df[ohe.get_feature_names_out()] = ohe_transformed\n",
      "C:\\Users\\Professional\\AppData\\Local\\Temp\\ipykernel_7676\\2220107148.py:2: PerformanceWarning: DataFrame is highly fragmented.  This is usually the result of calling `frame.insert` many times, which has poor performance.  Consider joining all columns at once using pd.concat(axis=1) instead. To get a de-fragmented frame, use `newframe = frame.copy()`\n",
      "  df[ohe.get_feature_names_out()] = ohe_transformed\n",
      "C:\\Users\\Professional\\AppData\\Local\\Temp\\ipykernel_7676\\2220107148.py:2: PerformanceWarning: DataFrame is highly fragmented.  This is usually the result of calling `frame.insert` many times, which has poor performance.  Consider joining all columns at once using pd.concat(axis=1) instead. To get a de-fragmented frame, use `newframe = frame.copy()`\n",
      "  df[ohe.get_feature_names_out()] = ohe_transformed\n",
      "C:\\Users\\Professional\\AppData\\Local\\Temp\\ipykernel_7676\\2220107148.py:2: PerformanceWarning: DataFrame is highly fragmented.  This is usually the result of calling `frame.insert` many times, which has poor performance.  Consider joining all columns at once using pd.concat(axis=1) instead. To get a de-fragmented frame, use `newframe = frame.copy()`\n",
      "  df[ohe.get_feature_names_out()] = ohe_transformed\n",
      "C:\\Users\\Professional\\AppData\\Local\\Temp\\ipykernel_7676\\2220107148.py:2: PerformanceWarning: DataFrame is highly fragmented.  This is usually the result of calling `frame.insert` many times, which has poor performance.  Consider joining all columns at once using pd.concat(axis=1) instead. To get a de-fragmented frame, use `newframe = frame.copy()`\n",
      "  df[ohe.get_feature_names_out()] = ohe_transformed\n",
      "C:\\Users\\Professional\\AppData\\Local\\Temp\\ipykernel_7676\\2220107148.py:2: PerformanceWarning: DataFrame is highly fragmented.  This is usually the result of calling `frame.insert` many times, which has poor performance.  Consider joining all columns at once using pd.concat(axis=1) instead. To get a de-fragmented frame, use `newframe = frame.copy()`\n",
      "  df[ohe.get_feature_names_out()] = ohe_transformed\n",
      "C:\\Users\\Professional\\AppData\\Local\\Temp\\ipykernel_7676\\2220107148.py:2: PerformanceWarning: DataFrame is highly fragmented.  This is usually the result of calling `frame.insert` many times, which has poor performance.  Consider joining all columns at once using pd.concat(axis=1) instead. To get a de-fragmented frame, use `newframe = frame.copy()`\n",
      "  df[ohe.get_feature_names_out()] = ohe_transformed\n",
      "C:\\Users\\Professional\\AppData\\Local\\Temp\\ipykernel_7676\\2220107148.py:2: PerformanceWarning: DataFrame is highly fragmented.  This is usually the result of calling `frame.insert` many times, which has poor performance.  Consider joining all columns at once using pd.concat(axis=1) instead. To get a de-fragmented frame, use `newframe = frame.copy()`\n",
      "  df[ohe.get_feature_names_out()] = ohe_transformed\n",
      "C:\\Users\\Professional\\AppData\\Local\\Temp\\ipykernel_7676\\2220107148.py:2: PerformanceWarning: DataFrame is highly fragmented.  This is usually the result of calling `frame.insert` many times, which has poor performance.  Consider joining all columns at once using pd.concat(axis=1) instead. To get a de-fragmented frame, use `newframe = frame.copy()`\n",
      "  df[ohe.get_feature_names_out()] = ohe_transformed\n",
      "C:\\Users\\Professional\\AppData\\Local\\Temp\\ipykernel_7676\\2220107148.py:2: PerformanceWarning: DataFrame is highly fragmented.  This is usually the result of calling `frame.insert` many times, which has poor performance.  Consider joining all columns at once using pd.concat(axis=1) instead. To get a de-fragmented frame, use `newframe = frame.copy()`\n",
      "  df[ohe.get_feature_names_out()] = ohe_transformed\n",
      "C:\\Users\\Professional\\AppData\\Local\\Temp\\ipykernel_7676\\2220107148.py:2: PerformanceWarning: DataFrame is highly fragmented.  This is usually the result of calling `frame.insert` many times, which has poor performance.  Consider joining all columns at once using pd.concat(axis=1) instead. To get a de-fragmented frame, use `newframe = frame.copy()`\n",
      "  df[ohe.get_feature_names_out()] = ohe_transformed\n",
      "C:\\Users\\Professional\\AppData\\Local\\Temp\\ipykernel_7676\\2220107148.py:2: PerformanceWarning: DataFrame is highly fragmented.  This is usually the result of calling `frame.insert` many times, which has poor performance.  Consider joining all columns at once using pd.concat(axis=1) instead. To get a de-fragmented frame, use `newframe = frame.copy()`\n",
      "  df[ohe.get_feature_names_out()] = ohe_transformed\n",
      "C:\\Users\\Professional\\AppData\\Local\\Temp\\ipykernel_7676\\2220107148.py:2: PerformanceWarning: DataFrame is highly fragmented.  This is usually the result of calling `frame.insert` many times, which has poor performance.  Consider joining all columns at once using pd.concat(axis=1) instead. To get a de-fragmented frame, use `newframe = frame.copy()`\n",
      "  df[ohe.get_feature_names_out()] = ohe_transformed\n",
      "C:\\Users\\Professional\\AppData\\Local\\Temp\\ipykernel_7676\\2220107148.py:2: PerformanceWarning: DataFrame is highly fragmented.  This is usually the result of calling `frame.insert` many times, which has poor performance.  Consider joining all columns at once using pd.concat(axis=1) instead. To get a de-fragmented frame, use `newframe = frame.copy()`\n",
      "  df[ohe.get_feature_names_out()] = ohe_transformed\n",
      "C:\\Users\\Professional\\AppData\\Local\\Temp\\ipykernel_7676\\2220107148.py:2: PerformanceWarning: DataFrame is highly fragmented.  This is usually the result of calling `frame.insert` many times, which has poor performance.  Consider joining all columns at once using pd.concat(axis=1) instead. To get a de-fragmented frame, use `newframe = frame.copy()`\n",
      "  df[ohe.get_feature_names_out()] = ohe_transformed\n",
      "C:\\Users\\Professional\\AppData\\Local\\Temp\\ipykernel_7676\\2220107148.py:2: PerformanceWarning: DataFrame is highly fragmented.  This is usually the result of calling `frame.insert` many times, which has poor performance.  Consider joining all columns at once using pd.concat(axis=1) instead. To get a de-fragmented frame, use `newframe = frame.copy()`\n",
      "  df[ohe.get_feature_names_out()] = ohe_transformed\n",
      "C:\\Users\\Professional\\AppData\\Local\\Temp\\ipykernel_7676\\2220107148.py:2: PerformanceWarning: DataFrame is highly fragmented.  This is usually the result of calling `frame.insert` many times, which has poor performance.  Consider joining all columns at once using pd.concat(axis=1) instead. To get a de-fragmented frame, use `newframe = frame.copy()`\n",
      "  df[ohe.get_feature_names_out()] = ohe_transformed\n",
      "C:\\Users\\Professional\\AppData\\Local\\Temp\\ipykernel_7676\\2220107148.py:2: PerformanceWarning: DataFrame is highly fragmented.  This is usually the result of calling `frame.insert` many times, which has poor performance.  Consider joining all columns at once using pd.concat(axis=1) instead. To get a de-fragmented frame, use `newframe = frame.copy()`\n",
      "  df[ohe.get_feature_names_out()] = ohe_transformed\n",
      "C:\\Users\\Professional\\AppData\\Local\\Temp\\ipykernel_7676\\2220107148.py:2: PerformanceWarning: DataFrame is highly fragmented.  This is usually the result of calling `frame.insert` many times, which has poor performance.  Consider joining all columns at once using pd.concat(axis=1) instead. To get a de-fragmented frame, use `newframe = frame.copy()`\n",
      "  df[ohe.get_feature_names_out()] = ohe_transformed\n",
      "C:\\Users\\Professional\\AppData\\Local\\Temp\\ipykernel_7676\\2220107148.py:2: PerformanceWarning: DataFrame is highly fragmented.  This is usually the result of calling `frame.insert` many times, which has poor performance.  Consider joining all columns at once using pd.concat(axis=1) instead. To get a de-fragmented frame, use `newframe = frame.copy()`\n",
      "  df[ohe.get_feature_names_out()] = ohe_transformed\n",
      "C:\\Users\\Professional\\AppData\\Local\\Temp\\ipykernel_7676\\2220107148.py:2: PerformanceWarning: DataFrame is highly fragmented.  This is usually the result of calling `frame.insert` many times, which has poor performance.  Consider joining all columns at once using pd.concat(axis=1) instead. To get a de-fragmented frame, use `newframe = frame.copy()`\n",
      "  df[ohe.get_feature_names_out()] = ohe_transformed\n",
      "C:\\Users\\Professional\\AppData\\Local\\Temp\\ipykernel_7676\\2220107148.py:2: PerformanceWarning: DataFrame is highly fragmented.  This is usually the result of calling `frame.insert` many times, which has poor performance.  Consider joining all columns at once using pd.concat(axis=1) instead. To get a de-fragmented frame, use `newframe = frame.copy()`\n",
      "  df[ohe.get_feature_names_out()] = ohe_transformed\n",
      "C:\\Users\\Professional\\AppData\\Local\\Temp\\ipykernel_7676\\2220107148.py:2: PerformanceWarning: DataFrame is highly fragmented.  This is usually the result of calling `frame.insert` many times, which has poor performance.  Consider joining all columns at once using pd.concat(axis=1) instead. To get a de-fragmented frame, use `newframe = frame.copy()`\n",
      "  df[ohe.get_feature_names_out()] = ohe_transformed\n",
      "C:\\Users\\Professional\\AppData\\Local\\Temp\\ipykernel_7676\\2220107148.py:2: PerformanceWarning: DataFrame is highly fragmented.  This is usually the result of calling `frame.insert` many times, which has poor performance.  Consider joining all columns at once using pd.concat(axis=1) instead. To get a de-fragmented frame, use `newframe = frame.copy()`\n",
      "  df[ohe.get_feature_names_out()] = ohe_transformed\n",
      "C:\\Users\\Professional\\AppData\\Local\\Temp\\ipykernel_7676\\2220107148.py:2: PerformanceWarning: DataFrame is highly fragmented.  This is usually the result of calling `frame.insert` many times, which has poor performance.  Consider joining all columns at once using pd.concat(axis=1) instead. To get a de-fragmented frame, use `newframe = frame.copy()`\n",
      "  df[ohe.get_feature_names_out()] = ohe_transformed\n",
      "C:\\Users\\Professional\\AppData\\Local\\Temp\\ipykernel_7676\\2220107148.py:2: PerformanceWarning: DataFrame is highly fragmented.  This is usually the result of calling `frame.insert` many times, which has poor performance.  Consider joining all columns at once using pd.concat(axis=1) instead. To get a de-fragmented frame, use `newframe = frame.copy()`\n",
      "  df[ohe.get_feature_names_out()] = ohe_transformed\n",
      "C:\\Users\\Professional\\AppData\\Local\\Temp\\ipykernel_7676\\2220107148.py:2: PerformanceWarning: DataFrame is highly fragmented.  This is usually the result of calling `frame.insert` many times, which has poor performance.  Consider joining all columns at once using pd.concat(axis=1) instead. To get a de-fragmented frame, use `newframe = frame.copy()`\n",
      "  df[ohe.get_feature_names_out()] = ohe_transformed\n",
      "C:\\Users\\Professional\\AppData\\Local\\Temp\\ipykernel_7676\\2220107148.py:2: PerformanceWarning: DataFrame is highly fragmented.  This is usually the result of calling `frame.insert` many times, which has poor performance.  Consider joining all columns at once using pd.concat(axis=1) instead. To get a de-fragmented frame, use `newframe = frame.copy()`\n",
      "  df[ohe.get_feature_names_out()] = ohe_transformed\n",
      "C:\\Users\\Professional\\AppData\\Local\\Temp\\ipykernel_7676\\2220107148.py:2: PerformanceWarning: DataFrame is highly fragmented.  This is usually the result of calling `frame.insert` many times, which has poor performance.  Consider joining all columns at once using pd.concat(axis=1) instead. To get a de-fragmented frame, use `newframe = frame.copy()`\n",
      "  df[ohe.get_feature_names_out()] = ohe_transformed\n",
      "C:\\Users\\Professional\\AppData\\Local\\Temp\\ipykernel_7676\\2220107148.py:2: PerformanceWarning: DataFrame is highly fragmented.  This is usually the result of calling `frame.insert` many times, which has poor performance.  Consider joining all columns at once using pd.concat(axis=1) instead. To get a de-fragmented frame, use `newframe = frame.copy()`\n",
      "  df[ohe.get_feature_names_out()] = ohe_transformed\n",
      "C:\\Users\\Professional\\AppData\\Local\\Temp\\ipykernel_7676\\2220107148.py:2: PerformanceWarning: DataFrame is highly fragmented.  This is usually the result of calling `frame.insert` many times, which has poor performance.  Consider joining all columns at once using pd.concat(axis=1) instead. To get a de-fragmented frame, use `newframe = frame.copy()`\n",
      "  df[ohe.get_feature_names_out()] = ohe_transformed\n",
      "C:\\Users\\Professional\\AppData\\Local\\Temp\\ipykernel_7676\\2220107148.py:2: PerformanceWarning: DataFrame is highly fragmented.  This is usually the result of calling `frame.insert` many times, which has poor performance.  Consider joining all columns at once using pd.concat(axis=1) instead. To get a de-fragmented frame, use `newframe = frame.copy()`\n",
      "  df[ohe.get_feature_names_out()] = ohe_transformed\n",
      "C:\\Users\\Professional\\AppData\\Local\\Temp\\ipykernel_7676\\2220107148.py:2: PerformanceWarning: DataFrame is highly fragmented.  This is usually the result of calling `frame.insert` many times, which has poor performance.  Consider joining all columns at once using pd.concat(axis=1) instead. To get a de-fragmented frame, use `newframe = frame.copy()`\n",
      "  df[ohe.get_feature_names_out()] = ohe_transformed\n",
      "C:\\Users\\Professional\\AppData\\Local\\Temp\\ipykernel_7676\\2220107148.py:2: PerformanceWarning: DataFrame is highly fragmented.  This is usually the result of calling `frame.insert` many times, which has poor performance.  Consider joining all columns at once using pd.concat(axis=1) instead. To get a de-fragmented frame, use `newframe = frame.copy()`\n",
      "  df[ohe.get_feature_names_out()] = ohe_transformed\n",
      "C:\\Users\\Professional\\AppData\\Local\\Temp\\ipykernel_7676\\2220107148.py:2: PerformanceWarning: DataFrame is highly fragmented.  This is usually the result of calling `frame.insert` many times, which has poor performance.  Consider joining all columns at once using pd.concat(axis=1) instead. To get a de-fragmented frame, use `newframe = frame.copy()`\n",
      "  df[ohe.get_feature_names_out()] = ohe_transformed\n",
      "C:\\Users\\Professional\\AppData\\Local\\Temp\\ipykernel_7676\\2220107148.py:2: PerformanceWarning: DataFrame is highly fragmented.  This is usually the result of calling `frame.insert` many times, which has poor performance.  Consider joining all columns at once using pd.concat(axis=1) instead. To get a de-fragmented frame, use `newframe = frame.copy()`\n",
      "  df[ohe.get_feature_names_out()] = ohe_transformed\n",
      "C:\\Users\\Professional\\AppData\\Local\\Temp\\ipykernel_7676\\2220107148.py:2: PerformanceWarning: DataFrame is highly fragmented.  This is usually the result of calling `frame.insert` many times, which has poor performance.  Consider joining all columns at once using pd.concat(axis=1) instead. To get a de-fragmented frame, use `newframe = frame.copy()`\n",
      "  df[ohe.get_feature_names_out()] = ohe_transformed\n",
      "C:\\Users\\Professional\\AppData\\Local\\Temp\\ipykernel_7676\\2220107148.py:2: PerformanceWarning: DataFrame is highly fragmented.  This is usually the result of calling `frame.insert` many times, which has poor performance.  Consider joining all columns at once using pd.concat(axis=1) instead. To get a de-fragmented frame, use `newframe = frame.copy()`\n",
      "  df[ohe.get_feature_names_out()] = ohe_transformed\n",
      "C:\\Users\\Professional\\AppData\\Local\\Temp\\ipykernel_7676\\2220107148.py:2: PerformanceWarning: DataFrame is highly fragmented.  This is usually the result of calling `frame.insert` many times, which has poor performance.  Consider joining all columns at once using pd.concat(axis=1) instead. To get a de-fragmented frame, use `newframe = frame.copy()`\n",
      "  df[ohe.get_feature_names_out()] = ohe_transformed\n",
      "C:\\Users\\Professional\\AppData\\Local\\Temp\\ipykernel_7676\\2220107148.py:2: PerformanceWarning: DataFrame is highly fragmented.  This is usually the result of calling `frame.insert` many times, which has poor performance.  Consider joining all columns at once using pd.concat(axis=1) instead. To get a de-fragmented frame, use `newframe = frame.copy()`\n",
      "  df[ohe.get_feature_names_out()] = ohe_transformed\n",
      "C:\\Users\\Professional\\AppData\\Local\\Temp\\ipykernel_7676\\2220107148.py:2: PerformanceWarning: DataFrame is highly fragmented.  This is usually the result of calling `frame.insert` many times, which has poor performance.  Consider joining all columns at once using pd.concat(axis=1) instead. To get a de-fragmented frame, use `newframe = frame.copy()`\n",
      "  df[ohe.get_feature_names_out()] = ohe_transformed\n",
      "C:\\Users\\Professional\\AppData\\Local\\Temp\\ipykernel_7676\\2220107148.py:2: PerformanceWarning: DataFrame is highly fragmented.  This is usually the result of calling `frame.insert` many times, which has poor performance.  Consider joining all columns at once using pd.concat(axis=1) instead. To get a de-fragmented frame, use `newframe = frame.copy()`\n",
      "  df[ohe.get_feature_names_out()] = ohe_transformed\n",
      "C:\\Users\\Professional\\AppData\\Local\\Temp\\ipykernel_7676\\2220107148.py:2: PerformanceWarning: DataFrame is highly fragmented.  This is usually the result of calling `frame.insert` many times, which has poor performance.  Consider joining all columns at once using pd.concat(axis=1) instead. To get a de-fragmented frame, use `newframe = frame.copy()`\n",
      "  df[ohe.get_feature_names_out()] = ohe_transformed\n",
      "C:\\Users\\Professional\\AppData\\Local\\Temp\\ipykernel_7676\\2220107148.py:2: PerformanceWarning: DataFrame is highly fragmented.  This is usually the result of calling `frame.insert` many times, which has poor performance.  Consider joining all columns at once using pd.concat(axis=1) instead. To get a de-fragmented frame, use `newframe = frame.copy()`\n",
      "  df[ohe.get_feature_names_out()] = ohe_transformed\n",
      "C:\\Users\\Professional\\AppData\\Local\\Temp\\ipykernel_7676\\2220107148.py:2: PerformanceWarning: DataFrame is highly fragmented.  This is usually the result of calling `frame.insert` many times, which has poor performance.  Consider joining all columns at once using pd.concat(axis=1) instead. To get a de-fragmented frame, use `newframe = frame.copy()`\n",
      "  df[ohe.get_feature_names_out()] = ohe_transformed\n",
      "C:\\Users\\Professional\\AppData\\Local\\Temp\\ipykernel_7676\\2220107148.py:2: PerformanceWarning: DataFrame is highly fragmented.  This is usually the result of calling `frame.insert` many times, which has poor performance.  Consider joining all columns at once using pd.concat(axis=1) instead. To get a de-fragmented frame, use `newframe = frame.copy()`\n",
      "  df[ohe.get_feature_names_out()] = ohe_transformed\n",
      "C:\\Users\\Professional\\AppData\\Local\\Temp\\ipykernel_7676\\2220107148.py:2: PerformanceWarning: DataFrame is highly fragmented.  This is usually the result of calling `frame.insert` many times, which has poor performance.  Consider joining all columns at once using pd.concat(axis=1) instead. To get a de-fragmented frame, use `newframe = frame.copy()`\n",
      "  df[ohe.get_feature_names_out()] = ohe_transformed\n",
      "C:\\Users\\Professional\\AppData\\Local\\Temp\\ipykernel_7676\\2220107148.py:2: PerformanceWarning: DataFrame is highly fragmented.  This is usually the result of calling `frame.insert` many times, which has poor performance.  Consider joining all columns at once using pd.concat(axis=1) instead. To get a de-fragmented frame, use `newframe = frame.copy()`\n",
      "  df[ohe.get_feature_names_out()] = ohe_transformed\n",
      "C:\\Users\\Professional\\AppData\\Local\\Temp\\ipykernel_7676\\2220107148.py:2: PerformanceWarning: DataFrame is highly fragmented.  This is usually the result of calling `frame.insert` many times, which has poor performance.  Consider joining all columns at once using pd.concat(axis=1) instead. To get a de-fragmented frame, use `newframe = frame.copy()`\n",
      "  df[ohe.get_feature_names_out()] = ohe_transformed\n",
      "C:\\Users\\Professional\\AppData\\Local\\Temp\\ipykernel_7676\\2220107148.py:2: PerformanceWarning: DataFrame is highly fragmented.  This is usually the result of calling `frame.insert` many times, which has poor performance.  Consider joining all columns at once using pd.concat(axis=1) instead. To get a de-fragmented frame, use `newframe = frame.copy()`\n",
      "  df[ohe.get_feature_names_out()] = ohe_transformed\n",
      "C:\\Users\\Professional\\AppData\\Local\\Temp\\ipykernel_7676\\2220107148.py:2: PerformanceWarning: DataFrame is highly fragmented.  This is usually the result of calling `frame.insert` many times, which has poor performance.  Consider joining all columns at once using pd.concat(axis=1) instead. To get a de-fragmented frame, use `newframe = frame.copy()`\n",
      "  df[ohe.get_feature_names_out()] = ohe_transformed\n",
      "C:\\Users\\Professional\\AppData\\Local\\Temp\\ipykernel_7676\\2220107148.py:2: PerformanceWarning: DataFrame is highly fragmented.  This is usually the result of calling `frame.insert` many times, which has poor performance.  Consider joining all columns at once using pd.concat(axis=1) instead. To get a de-fragmented frame, use `newframe = frame.copy()`\n",
      "  df[ohe.get_feature_names_out()] = ohe_transformed\n",
      "C:\\Users\\Professional\\AppData\\Local\\Temp\\ipykernel_7676\\2220107148.py:2: PerformanceWarning: DataFrame is highly fragmented.  This is usually the result of calling `frame.insert` many times, which has poor performance.  Consider joining all columns at once using pd.concat(axis=1) instead. To get a de-fragmented frame, use `newframe = frame.copy()`\n",
      "  df[ohe.get_feature_names_out()] = ohe_transformed\n",
      "C:\\Users\\Professional\\AppData\\Local\\Temp\\ipykernel_7676\\2220107148.py:2: PerformanceWarning: DataFrame is highly fragmented.  This is usually the result of calling `frame.insert` many times, which has poor performance.  Consider joining all columns at once using pd.concat(axis=1) instead. To get a de-fragmented frame, use `newframe = frame.copy()`\n",
      "  df[ohe.get_feature_names_out()] = ohe_transformed\n",
      "C:\\Users\\Professional\\AppData\\Local\\Temp\\ipykernel_7676\\2220107148.py:2: PerformanceWarning: DataFrame is highly fragmented.  This is usually the result of calling `frame.insert` many times, which has poor performance.  Consider joining all columns at once using pd.concat(axis=1) instead. To get a de-fragmented frame, use `newframe = frame.copy()`\n",
      "  df[ohe.get_feature_names_out()] = ohe_transformed\n",
      "C:\\Users\\Professional\\AppData\\Local\\Temp\\ipykernel_7676\\2220107148.py:2: PerformanceWarning: DataFrame is highly fragmented.  This is usually the result of calling `frame.insert` many times, which has poor performance.  Consider joining all columns at once using pd.concat(axis=1) instead. To get a de-fragmented frame, use `newframe = frame.copy()`\n",
      "  df[ohe.get_feature_names_out()] = ohe_transformed\n",
      "C:\\Users\\Professional\\AppData\\Local\\Temp\\ipykernel_7676\\2220107148.py:2: PerformanceWarning: DataFrame is highly fragmented.  This is usually the result of calling `frame.insert` many times, which has poor performance.  Consider joining all columns at once using pd.concat(axis=1) instead. To get a de-fragmented frame, use `newframe = frame.copy()`\n",
      "  df[ohe.get_feature_names_out()] = ohe_transformed\n",
      "C:\\Users\\Professional\\AppData\\Local\\Temp\\ipykernel_7676\\2220107148.py:2: PerformanceWarning: DataFrame is highly fragmented.  This is usually the result of calling `frame.insert` many times, which has poor performance.  Consider joining all columns at once using pd.concat(axis=1) instead. To get a de-fragmented frame, use `newframe = frame.copy()`\n",
      "  df[ohe.get_feature_names_out()] = ohe_transformed\n",
      "C:\\Users\\Professional\\AppData\\Local\\Temp\\ipykernel_7676\\2220107148.py:2: PerformanceWarning: DataFrame is highly fragmented.  This is usually the result of calling `frame.insert` many times, which has poor performance.  Consider joining all columns at once using pd.concat(axis=1) instead. To get a de-fragmented frame, use `newframe = frame.copy()`\n",
      "  df[ohe.get_feature_names_out()] = ohe_transformed\n",
      "C:\\Users\\Professional\\AppData\\Local\\Temp\\ipykernel_7676\\2220107148.py:2: PerformanceWarning: DataFrame is highly fragmented.  This is usually the result of calling `frame.insert` many times, which has poor performance.  Consider joining all columns at once using pd.concat(axis=1) instead. To get a de-fragmented frame, use `newframe = frame.copy()`\n",
      "  df[ohe.get_feature_names_out()] = ohe_transformed\n",
      "C:\\Users\\Professional\\AppData\\Local\\Temp\\ipykernel_7676\\2220107148.py:2: PerformanceWarning: DataFrame is highly fragmented.  This is usually the result of calling `frame.insert` many times, which has poor performance.  Consider joining all columns at once using pd.concat(axis=1) instead. To get a de-fragmented frame, use `newframe = frame.copy()`\n",
      "  df[ohe.get_feature_names_out()] = ohe_transformed\n",
      "C:\\Users\\Professional\\AppData\\Local\\Temp\\ipykernel_7676\\2220107148.py:2: PerformanceWarning: DataFrame is highly fragmented.  This is usually the result of calling `frame.insert` many times, which has poor performance.  Consider joining all columns at once using pd.concat(axis=1) instead. To get a de-fragmented frame, use `newframe = frame.copy()`\n",
      "  df[ohe.get_feature_names_out()] = ohe_transformed\n",
      "C:\\Users\\Professional\\AppData\\Local\\Temp\\ipykernel_7676\\2220107148.py:2: PerformanceWarning: DataFrame is highly fragmented.  This is usually the result of calling `frame.insert` many times, which has poor performance.  Consider joining all columns at once using pd.concat(axis=1) instead. To get a de-fragmented frame, use `newframe = frame.copy()`\n",
      "  df[ohe.get_feature_names_out()] = ohe_transformed\n",
      "C:\\Users\\Professional\\AppData\\Local\\Temp\\ipykernel_7676\\2220107148.py:2: PerformanceWarning: DataFrame is highly fragmented.  This is usually the result of calling `frame.insert` many times, which has poor performance.  Consider joining all columns at once using pd.concat(axis=1) instead. To get a de-fragmented frame, use `newframe = frame.copy()`\n",
      "  df[ohe.get_feature_names_out()] = ohe_transformed\n",
      "C:\\Users\\Professional\\AppData\\Local\\Temp\\ipykernel_7676\\2220107148.py:2: PerformanceWarning: DataFrame is highly fragmented.  This is usually the result of calling `frame.insert` many times, which has poor performance.  Consider joining all columns at once using pd.concat(axis=1) instead. To get a de-fragmented frame, use `newframe = frame.copy()`\n",
      "  df[ohe.get_feature_names_out()] = ohe_transformed\n",
      "C:\\Users\\Professional\\AppData\\Local\\Temp\\ipykernel_7676\\2220107148.py:2: PerformanceWarning: DataFrame is highly fragmented.  This is usually the result of calling `frame.insert` many times, which has poor performance.  Consider joining all columns at once using pd.concat(axis=1) instead. To get a de-fragmented frame, use `newframe = frame.copy()`\n",
      "  df[ohe.get_feature_names_out()] = ohe_transformed\n",
      "C:\\Users\\Professional\\AppData\\Local\\Temp\\ipykernel_7676\\2220107148.py:2: PerformanceWarning: DataFrame is highly fragmented.  This is usually the result of calling `frame.insert` many times, which has poor performance.  Consider joining all columns at once using pd.concat(axis=1) instead. To get a de-fragmented frame, use `newframe = frame.copy()`\n",
      "  df[ohe.get_feature_names_out()] = ohe_transformed\n",
      "C:\\Users\\Professional\\AppData\\Local\\Temp\\ipykernel_7676\\2220107148.py:2: PerformanceWarning: DataFrame is highly fragmented.  This is usually the result of calling `frame.insert` many times, which has poor performance.  Consider joining all columns at once using pd.concat(axis=1) instead. To get a de-fragmented frame, use `newframe = frame.copy()`\n",
      "  df[ohe.get_feature_names_out()] = ohe_transformed\n",
      "C:\\Users\\Professional\\AppData\\Local\\Temp\\ipykernel_7676\\2220107148.py:2: PerformanceWarning: DataFrame is highly fragmented.  This is usually the result of calling `frame.insert` many times, which has poor performance.  Consider joining all columns at once using pd.concat(axis=1) instead. To get a de-fragmented frame, use `newframe = frame.copy()`\n",
      "  df[ohe.get_feature_names_out()] = ohe_transformed\n",
      "C:\\Users\\Professional\\AppData\\Local\\Temp\\ipykernel_7676\\2220107148.py:2: PerformanceWarning: DataFrame is highly fragmented.  This is usually the result of calling `frame.insert` many times, which has poor performance.  Consider joining all columns at once using pd.concat(axis=1) instead. To get a de-fragmented frame, use `newframe = frame.copy()`\n",
      "  df[ohe.get_feature_names_out()] = ohe_transformed\n",
      "C:\\Users\\Professional\\AppData\\Local\\Temp\\ipykernel_7676\\2220107148.py:2: PerformanceWarning: DataFrame is highly fragmented.  This is usually the result of calling `frame.insert` many times, which has poor performance.  Consider joining all columns at once using pd.concat(axis=1) instead. To get a de-fragmented frame, use `newframe = frame.copy()`\n",
      "  df[ohe.get_feature_names_out()] = ohe_transformed\n",
      "C:\\Users\\Professional\\AppData\\Local\\Temp\\ipykernel_7676\\2220107148.py:2: PerformanceWarning: DataFrame is highly fragmented.  This is usually the result of calling `frame.insert` many times, which has poor performance.  Consider joining all columns at once using pd.concat(axis=1) instead. To get a de-fragmented frame, use `newframe = frame.copy()`\n",
      "  df[ohe.get_feature_names_out()] = ohe_transformed\n",
      "C:\\Users\\Professional\\AppData\\Local\\Temp\\ipykernel_7676\\2220107148.py:2: PerformanceWarning: DataFrame is highly fragmented.  This is usually the result of calling `frame.insert` many times, which has poor performance.  Consider joining all columns at once using pd.concat(axis=1) instead. To get a de-fragmented frame, use `newframe = frame.copy()`\n",
      "  df[ohe.get_feature_names_out()] = ohe_transformed\n",
      "C:\\Users\\Professional\\AppData\\Local\\Temp\\ipykernel_7676\\2220107148.py:2: PerformanceWarning: DataFrame is highly fragmented.  This is usually the result of calling `frame.insert` many times, which has poor performance.  Consider joining all columns at once using pd.concat(axis=1) instead. To get a de-fragmented frame, use `newframe = frame.copy()`\n",
      "  df[ohe.get_feature_names_out()] = ohe_transformed\n",
      "C:\\Users\\Professional\\AppData\\Local\\Temp\\ipykernel_7676\\2220107148.py:2: PerformanceWarning: DataFrame is highly fragmented.  This is usually the result of calling `frame.insert` many times, which has poor performance.  Consider joining all columns at once using pd.concat(axis=1) instead. To get a de-fragmented frame, use `newframe = frame.copy()`\n",
      "  df[ohe.get_feature_names_out()] = ohe_transformed\n",
      "C:\\Users\\Professional\\AppData\\Local\\Temp\\ipykernel_7676\\2220107148.py:2: PerformanceWarning: DataFrame is highly fragmented.  This is usually the result of calling `frame.insert` many times, which has poor performance.  Consider joining all columns at once using pd.concat(axis=1) instead. To get a de-fragmented frame, use `newframe = frame.copy()`\n",
      "  df[ohe.get_feature_names_out()] = ohe_transformed\n",
      "C:\\Users\\Professional\\AppData\\Local\\Temp\\ipykernel_7676\\2220107148.py:2: PerformanceWarning: DataFrame is highly fragmented.  This is usually the result of calling `frame.insert` many times, which has poor performance.  Consider joining all columns at once using pd.concat(axis=1) instead. To get a de-fragmented frame, use `newframe = frame.copy()`\n",
      "  df[ohe.get_feature_names_out()] = ohe_transformed\n",
      "C:\\Users\\Professional\\AppData\\Local\\Temp\\ipykernel_7676\\2220107148.py:2: PerformanceWarning: DataFrame is highly fragmented.  This is usually the result of calling `frame.insert` many times, which has poor performance.  Consider joining all columns at once using pd.concat(axis=1) instead. To get a de-fragmented frame, use `newframe = frame.copy()`\n",
      "  df[ohe.get_feature_names_out()] = ohe_transformed\n",
      "C:\\Users\\Professional\\AppData\\Local\\Temp\\ipykernel_7676\\2220107148.py:2: PerformanceWarning: DataFrame is highly fragmented.  This is usually the result of calling `frame.insert` many times, which has poor performance.  Consider joining all columns at once using pd.concat(axis=1) instead. To get a de-fragmented frame, use `newframe = frame.copy()`\n",
      "  df[ohe.get_feature_names_out()] = ohe_transformed\n",
      "C:\\Users\\Professional\\AppData\\Local\\Temp\\ipykernel_7676\\2220107148.py:2: PerformanceWarning: DataFrame is highly fragmented.  This is usually the result of calling `frame.insert` many times, which has poor performance.  Consider joining all columns at once using pd.concat(axis=1) instead. To get a de-fragmented frame, use `newframe = frame.copy()`\n",
      "  df[ohe.get_feature_names_out()] = ohe_transformed\n",
      "C:\\Users\\Professional\\AppData\\Local\\Temp\\ipykernel_7676\\2220107148.py:2: PerformanceWarning: DataFrame is highly fragmented.  This is usually the result of calling `frame.insert` many times, which has poor performance.  Consider joining all columns at once using pd.concat(axis=1) instead. To get a de-fragmented frame, use `newframe = frame.copy()`\n",
      "  df[ohe.get_feature_names_out()] = ohe_transformed\n",
      "C:\\Users\\Professional\\AppData\\Local\\Temp\\ipykernel_7676\\2220107148.py:2: PerformanceWarning: DataFrame is highly fragmented.  This is usually the result of calling `frame.insert` many times, which has poor performance.  Consider joining all columns at once using pd.concat(axis=1) instead. To get a de-fragmented frame, use `newframe = frame.copy()`\n",
      "  df[ohe.get_feature_names_out()] = ohe_transformed\n",
      "C:\\Users\\Professional\\AppData\\Local\\Temp\\ipykernel_7676\\2220107148.py:2: PerformanceWarning: DataFrame is highly fragmented.  This is usually the result of calling `frame.insert` many times, which has poor performance.  Consider joining all columns at once using pd.concat(axis=1) instead. To get a de-fragmented frame, use `newframe = frame.copy()`\n",
      "  df[ohe.get_feature_names_out()] = ohe_transformed\n",
      "C:\\Users\\Professional\\AppData\\Local\\Temp\\ipykernel_7676\\2220107148.py:2: PerformanceWarning: DataFrame is highly fragmented.  This is usually the result of calling `frame.insert` many times, which has poor performance.  Consider joining all columns at once using pd.concat(axis=1) instead. To get a de-fragmented frame, use `newframe = frame.copy()`\n",
      "  df[ohe.get_feature_names_out()] = ohe_transformed\n",
      "C:\\Users\\Professional\\AppData\\Local\\Temp\\ipykernel_7676\\2220107148.py:2: PerformanceWarning: DataFrame is highly fragmented.  This is usually the result of calling `frame.insert` many times, which has poor performance.  Consider joining all columns at once using pd.concat(axis=1) instead. To get a de-fragmented frame, use `newframe = frame.copy()`\n",
      "  df[ohe.get_feature_names_out()] = ohe_transformed\n",
      "C:\\Users\\Professional\\AppData\\Local\\Temp\\ipykernel_7676\\2220107148.py:2: PerformanceWarning: DataFrame is highly fragmented.  This is usually the result of calling `frame.insert` many times, which has poor performance.  Consider joining all columns at once using pd.concat(axis=1) instead. To get a de-fragmented frame, use `newframe = frame.copy()`\n",
      "  df[ohe.get_feature_names_out()] = ohe_transformed\n",
      "C:\\Users\\Professional\\AppData\\Local\\Temp\\ipykernel_7676\\2220107148.py:2: PerformanceWarning: DataFrame is highly fragmented.  This is usually the result of calling `frame.insert` many times, which has poor performance.  Consider joining all columns at once using pd.concat(axis=1) instead. To get a de-fragmented frame, use `newframe = frame.copy()`\n",
      "  df[ohe.get_feature_names_out()] = ohe_transformed\n",
      "C:\\Users\\Professional\\AppData\\Local\\Temp\\ipykernel_7676\\2220107148.py:2: PerformanceWarning: DataFrame is highly fragmented.  This is usually the result of calling `frame.insert` many times, which has poor performance.  Consider joining all columns at once using pd.concat(axis=1) instead. To get a de-fragmented frame, use `newframe = frame.copy()`\n",
      "  df[ohe.get_feature_names_out()] = ohe_transformed\n",
      "C:\\Users\\Professional\\AppData\\Local\\Temp\\ipykernel_7676\\2220107148.py:2: PerformanceWarning: DataFrame is highly fragmented.  This is usually the result of calling `frame.insert` many times, which has poor performance.  Consider joining all columns at once using pd.concat(axis=1) instead. To get a de-fragmented frame, use `newframe = frame.copy()`\n",
      "  df[ohe.get_feature_names_out()] = ohe_transformed\n",
      "C:\\Users\\Professional\\AppData\\Local\\Temp\\ipykernel_7676\\2220107148.py:2: PerformanceWarning: DataFrame is highly fragmented.  This is usually the result of calling `frame.insert` many times, which has poor performance.  Consider joining all columns at once using pd.concat(axis=1) instead. To get a de-fragmented frame, use `newframe = frame.copy()`\n",
      "  df[ohe.get_feature_names_out()] = ohe_transformed\n",
      "C:\\Users\\Professional\\AppData\\Local\\Temp\\ipykernel_7676\\2220107148.py:2: PerformanceWarning: DataFrame is highly fragmented.  This is usually the result of calling `frame.insert` many times, which has poor performance.  Consider joining all columns at once using pd.concat(axis=1) instead. To get a de-fragmented frame, use `newframe = frame.copy()`\n",
      "  df[ohe.get_feature_names_out()] = ohe_transformed\n",
      "C:\\Users\\Professional\\AppData\\Local\\Temp\\ipykernel_7676\\2220107148.py:2: PerformanceWarning: DataFrame is highly fragmented.  This is usually the result of calling `frame.insert` many times, which has poor performance.  Consider joining all columns at once using pd.concat(axis=1) instead. To get a de-fragmented frame, use `newframe = frame.copy()`\n",
      "  df[ohe.get_feature_names_out()] = ohe_transformed\n",
      "C:\\Users\\Professional\\AppData\\Local\\Temp\\ipykernel_7676\\2220107148.py:2: PerformanceWarning: DataFrame is highly fragmented.  This is usually the result of calling `frame.insert` many times, which has poor performance.  Consider joining all columns at once using pd.concat(axis=1) instead. To get a de-fragmented frame, use `newframe = frame.copy()`\n",
      "  df[ohe.get_feature_names_out()] = ohe_transformed\n",
      "C:\\Users\\Professional\\AppData\\Local\\Temp\\ipykernel_7676\\2220107148.py:2: PerformanceWarning: DataFrame is highly fragmented.  This is usually the result of calling `frame.insert` many times, which has poor performance.  Consider joining all columns at once using pd.concat(axis=1) instead. To get a de-fragmented frame, use `newframe = frame.copy()`\n",
      "  df[ohe.get_feature_names_out()] = ohe_transformed\n",
      "C:\\Users\\Professional\\AppData\\Local\\Temp\\ipykernel_7676\\2220107148.py:2: PerformanceWarning: DataFrame is highly fragmented.  This is usually the result of calling `frame.insert` many times, which has poor performance.  Consider joining all columns at once using pd.concat(axis=1) instead. To get a de-fragmented frame, use `newframe = frame.copy()`\n",
      "  df[ohe.get_feature_names_out()] = ohe_transformed\n",
      "C:\\Users\\Professional\\AppData\\Local\\Temp\\ipykernel_7676\\2220107148.py:2: PerformanceWarning: DataFrame is highly fragmented.  This is usually the result of calling `frame.insert` many times, which has poor performance.  Consider joining all columns at once using pd.concat(axis=1) instead. To get a de-fragmented frame, use `newframe = frame.copy()`\n",
      "  df[ohe.get_feature_names_out()] = ohe_transformed\n",
      "C:\\Users\\Professional\\AppData\\Local\\Temp\\ipykernel_7676\\2220107148.py:2: PerformanceWarning: DataFrame is highly fragmented.  This is usually the result of calling `frame.insert` many times, which has poor performance.  Consider joining all columns at once using pd.concat(axis=1) instead. To get a de-fragmented frame, use `newframe = frame.copy()`\n",
      "  df[ohe.get_feature_names_out()] = ohe_transformed\n",
      "C:\\Users\\Professional\\AppData\\Local\\Temp\\ipykernel_7676\\2220107148.py:2: PerformanceWarning: DataFrame is highly fragmented.  This is usually the result of calling `frame.insert` many times, which has poor performance.  Consider joining all columns at once using pd.concat(axis=1) instead. To get a de-fragmented frame, use `newframe = frame.copy()`\n",
      "  df[ohe.get_feature_names_out()] = ohe_transformed\n",
      "C:\\Users\\Professional\\AppData\\Local\\Temp\\ipykernel_7676\\2220107148.py:2: PerformanceWarning: DataFrame is highly fragmented.  This is usually the result of calling `frame.insert` many times, which has poor performance.  Consider joining all columns at once using pd.concat(axis=1) instead. To get a de-fragmented frame, use `newframe = frame.copy()`\n",
      "  df[ohe.get_feature_names_out()] = ohe_transformed\n",
      "C:\\Users\\Professional\\AppData\\Local\\Temp\\ipykernel_7676\\2220107148.py:2: PerformanceWarning: DataFrame is highly fragmented.  This is usually the result of calling `frame.insert` many times, which has poor performance.  Consider joining all columns at once using pd.concat(axis=1) instead. To get a de-fragmented frame, use `newframe = frame.copy()`\n",
      "  df[ohe.get_feature_names_out()] = ohe_transformed\n",
      "C:\\Users\\Professional\\AppData\\Local\\Temp\\ipykernel_7676\\2220107148.py:2: PerformanceWarning: DataFrame is highly fragmented.  This is usually the result of calling `frame.insert` many times, which has poor performance.  Consider joining all columns at once using pd.concat(axis=1) instead. To get a de-fragmented frame, use `newframe = frame.copy()`\n",
      "  df[ohe.get_feature_names_out()] = ohe_transformed\n",
      "C:\\Users\\Professional\\AppData\\Local\\Temp\\ipykernel_7676\\2220107148.py:2: PerformanceWarning: DataFrame is highly fragmented.  This is usually the result of calling `frame.insert` many times, which has poor performance.  Consider joining all columns at once using pd.concat(axis=1) instead. To get a de-fragmented frame, use `newframe = frame.copy()`\n",
      "  df[ohe.get_feature_names_out()] = ohe_transformed\n",
      "C:\\Users\\Professional\\AppData\\Local\\Temp\\ipykernel_7676\\2220107148.py:2: PerformanceWarning: DataFrame is highly fragmented.  This is usually the result of calling `frame.insert` many times, which has poor performance.  Consider joining all columns at once using pd.concat(axis=1) instead. To get a de-fragmented frame, use `newframe = frame.copy()`\n",
      "  df[ohe.get_feature_names_out()] = ohe_transformed\n",
      "C:\\Users\\Professional\\AppData\\Local\\Temp\\ipykernel_7676\\2220107148.py:2: PerformanceWarning: DataFrame is highly fragmented.  This is usually the result of calling `frame.insert` many times, which has poor performance.  Consider joining all columns at once using pd.concat(axis=1) instead. To get a de-fragmented frame, use `newframe = frame.copy()`\n",
      "  df[ohe.get_feature_names_out()] = ohe_transformed\n",
      "C:\\Users\\Professional\\AppData\\Local\\Temp\\ipykernel_7676\\2220107148.py:2: PerformanceWarning: DataFrame is highly fragmented.  This is usually the result of calling `frame.insert` many times, which has poor performance.  Consider joining all columns at once using pd.concat(axis=1) instead. To get a de-fragmented frame, use `newframe = frame.copy()`\n",
      "  df[ohe.get_feature_names_out()] = ohe_transformed\n",
      "C:\\Users\\Professional\\AppData\\Local\\Temp\\ipykernel_7676\\2220107148.py:2: PerformanceWarning: DataFrame is highly fragmented.  This is usually the result of calling `frame.insert` many times, which has poor performance.  Consider joining all columns at once using pd.concat(axis=1) instead. To get a de-fragmented frame, use `newframe = frame.copy()`\n",
      "  df[ohe.get_feature_names_out()] = ohe_transformed\n",
      "C:\\Users\\Professional\\AppData\\Local\\Temp\\ipykernel_7676\\2220107148.py:2: PerformanceWarning: DataFrame is highly fragmented.  This is usually the result of calling `frame.insert` many times, which has poor performance.  Consider joining all columns at once using pd.concat(axis=1) instead. To get a de-fragmented frame, use `newframe = frame.copy()`\n",
      "  df[ohe.get_feature_names_out()] = ohe_transformed\n",
      "C:\\Users\\Professional\\AppData\\Local\\Temp\\ipykernel_7676\\2220107148.py:2: PerformanceWarning: DataFrame is highly fragmented.  This is usually the result of calling `frame.insert` many times, which has poor performance.  Consider joining all columns at once using pd.concat(axis=1) instead. To get a de-fragmented frame, use `newframe = frame.copy()`\n",
      "  df[ohe.get_feature_names_out()] = ohe_transformed\n",
      "C:\\Users\\Professional\\AppData\\Local\\Temp\\ipykernel_7676\\2220107148.py:2: PerformanceWarning: DataFrame is highly fragmented.  This is usually the result of calling `frame.insert` many times, which has poor performance.  Consider joining all columns at once using pd.concat(axis=1) instead. To get a de-fragmented frame, use `newframe = frame.copy()`\n",
      "  df[ohe.get_feature_names_out()] = ohe_transformed\n",
      "C:\\Users\\Professional\\AppData\\Local\\Temp\\ipykernel_7676\\2220107148.py:2: PerformanceWarning: DataFrame is highly fragmented.  This is usually the result of calling `frame.insert` many times, which has poor performance.  Consider joining all columns at once using pd.concat(axis=1) instead. To get a de-fragmented frame, use `newframe = frame.copy()`\n",
      "  df[ohe.get_feature_names_out()] = ohe_transformed\n",
      "C:\\Users\\Professional\\AppData\\Local\\Temp\\ipykernel_7676\\2220107148.py:2: PerformanceWarning: DataFrame is highly fragmented.  This is usually the result of calling `frame.insert` many times, which has poor performance.  Consider joining all columns at once using pd.concat(axis=1) instead. To get a de-fragmented frame, use `newframe = frame.copy()`\n",
      "  df[ohe.get_feature_names_out()] = ohe_transformed\n",
      "C:\\Users\\Professional\\AppData\\Local\\Temp\\ipykernel_7676\\2220107148.py:2: PerformanceWarning: DataFrame is highly fragmented.  This is usually the result of calling `frame.insert` many times, which has poor performance.  Consider joining all columns at once using pd.concat(axis=1) instead. To get a de-fragmented frame, use `newframe = frame.copy()`\n",
      "  df[ohe.get_feature_names_out()] = ohe_transformed\n",
      "C:\\Users\\Professional\\AppData\\Local\\Temp\\ipykernel_7676\\2220107148.py:2: PerformanceWarning: DataFrame is highly fragmented.  This is usually the result of calling `frame.insert` many times, which has poor performance.  Consider joining all columns at once using pd.concat(axis=1) instead. To get a de-fragmented frame, use `newframe = frame.copy()`\n",
      "  df[ohe.get_feature_names_out()] = ohe_transformed\n",
      "C:\\Users\\Professional\\AppData\\Local\\Temp\\ipykernel_7676\\2220107148.py:2: PerformanceWarning: DataFrame is highly fragmented.  This is usually the result of calling `frame.insert` many times, which has poor performance.  Consider joining all columns at once using pd.concat(axis=1) instead. To get a de-fragmented frame, use `newframe = frame.copy()`\n",
      "  df[ohe.get_feature_names_out()] = ohe_transformed\n",
      "C:\\Users\\Professional\\AppData\\Local\\Temp\\ipykernel_7676\\2220107148.py:2: PerformanceWarning: DataFrame is highly fragmented.  This is usually the result of calling `frame.insert` many times, which has poor performance.  Consider joining all columns at once using pd.concat(axis=1) instead. To get a de-fragmented frame, use `newframe = frame.copy()`\n",
      "  df[ohe.get_feature_names_out()] = ohe_transformed\n",
      "C:\\Users\\Professional\\AppData\\Local\\Temp\\ipykernel_7676\\2220107148.py:2: PerformanceWarning: DataFrame is highly fragmented.  This is usually the result of calling `frame.insert` many times, which has poor performance.  Consider joining all columns at once using pd.concat(axis=1) instead. To get a de-fragmented frame, use `newframe = frame.copy()`\n",
      "  df[ohe.get_feature_names_out()] = ohe_transformed\n",
      "C:\\Users\\Professional\\AppData\\Local\\Temp\\ipykernel_7676\\2220107148.py:2: PerformanceWarning: DataFrame is highly fragmented.  This is usually the result of calling `frame.insert` many times, which has poor performance.  Consider joining all columns at once using pd.concat(axis=1) instead. To get a de-fragmented frame, use `newframe = frame.copy()`\n",
      "  df[ohe.get_feature_names_out()] = ohe_transformed\n",
      "C:\\Users\\Professional\\AppData\\Local\\Temp\\ipykernel_7676\\2220107148.py:2: PerformanceWarning: DataFrame is highly fragmented.  This is usually the result of calling `frame.insert` many times, which has poor performance.  Consider joining all columns at once using pd.concat(axis=1) instead. To get a de-fragmented frame, use `newframe = frame.copy()`\n",
      "  df[ohe.get_feature_names_out()] = ohe_transformed\n",
      "C:\\Users\\Professional\\AppData\\Local\\Temp\\ipykernel_7676\\2220107148.py:2: PerformanceWarning: DataFrame is highly fragmented.  This is usually the result of calling `frame.insert` many times, which has poor performance.  Consider joining all columns at once using pd.concat(axis=1) instead. To get a de-fragmented frame, use `newframe = frame.copy()`\n",
      "  df[ohe.get_feature_names_out()] = ohe_transformed\n",
      "C:\\Users\\Professional\\AppData\\Local\\Temp\\ipykernel_7676\\2220107148.py:2: PerformanceWarning: DataFrame is highly fragmented.  This is usually the result of calling `frame.insert` many times, which has poor performance.  Consider joining all columns at once using pd.concat(axis=1) instead. To get a de-fragmented frame, use `newframe = frame.copy()`\n",
      "  df[ohe.get_feature_names_out()] = ohe_transformed\n",
      "C:\\Users\\Professional\\AppData\\Local\\Temp\\ipykernel_7676\\2220107148.py:2: PerformanceWarning: DataFrame is highly fragmented.  This is usually the result of calling `frame.insert` many times, which has poor performance.  Consider joining all columns at once using pd.concat(axis=1) instead. To get a de-fragmented frame, use `newframe = frame.copy()`\n",
      "  df[ohe.get_feature_names_out()] = ohe_transformed\n",
      "C:\\Users\\Professional\\AppData\\Local\\Temp\\ipykernel_7676\\2220107148.py:2: PerformanceWarning: DataFrame is highly fragmented.  This is usually the result of calling `frame.insert` many times, which has poor performance.  Consider joining all columns at once using pd.concat(axis=1) instead. To get a de-fragmented frame, use `newframe = frame.copy()`\n",
      "  df[ohe.get_feature_names_out()] = ohe_transformed\n",
      "C:\\Users\\Professional\\AppData\\Local\\Temp\\ipykernel_7676\\2220107148.py:2: PerformanceWarning: DataFrame is highly fragmented.  This is usually the result of calling `frame.insert` many times, which has poor performance.  Consider joining all columns at once using pd.concat(axis=1) instead. To get a de-fragmented frame, use `newframe = frame.copy()`\n",
      "  df[ohe.get_feature_names_out()] = ohe_transformed\n",
      "C:\\Users\\Professional\\AppData\\Local\\Temp\\ipykernel_7676\\2220107148.py:2: PerformanceWarning: DataFrame is highly fragmented.  This is usually the result of calling `frame.insert` many times, which has poor performance.  Consider joining all columns at once using pd.concat(axis=1) instead. To get a de-fragmented frame, use `newframe = frame.copy()`\n",
      "  df[ohe.get_feature_names_out()] = ohe_transformed\n",
      "C:\\Users\\Professional\\AppData\\Local\\Temp\\ipykernel_7676\\2220107148.py:2: PerformanceWarning: DataFrame is highly fragmented.  This is usually the result of calling `frame.insert` many times, which has poor performance.  Consider joining all columns at once using pd.concat(axis=1) instead. To get a de-fragmented frame, use `newframe = frame.copy()`\n",
      "  df[ohe.get_feature_names_out()] = ohe_transformed\n",
      "C:\\Users\\Professional\\AppData\\Local\\Temp\\ipykernel_7676\\2220107148.py:2: PerformanceWarning: DataFrame is highly fragmented.  This is usually the result of calling `frame.insert` many times, which has poor performance.  Consider joining all columns at once using pd.concat(axis=1) instead. To get a de-fragmented frame, use `newframe = frame.copy()`\n",
      "  df[ohe.get_feature_names_out()] = ohe_transformed\n",
      "C:\\Users\\Professional\\AppData\\Local\\Temp\\ipykernel_7676\\2220107148.py:2: PerformanceWarning: DataFrame is highly fragmented.  This is usually the result of calling `frame.insert` many times, which has poor performance.  Consider joining all columns at once using pd.concat(axis=1) instead. To get a de-fragmented frame, use `newframe = frame.copy()`\n",
      "  df[ohe.get_feature_names_out()] = ohe_transformed\n",
      "C:\\Users\\Professional\\AppData\\Local\\Temp\\ipykernel_7676\\2220107148.py:2: PerformanceWarning: DataFrame is highly fragmented.  This is usually the result of calling `frame.insert` many times, which has poor performance.  Consider joining all columns at once using pd.concat(axis=1) instead. To get a de-fragmented frame, use `newframe = frame.copy()`\n",
      "  df[ohe.get_feature_names_out()] = ohe_transformed\n",
      "C:\\Users\\Professional\\AppData\\Local\\Temp\\ipykernel_7676\\2220107148.py:2: PerformanceWarning: DataFrame is highly fragmented.  This is usually the result of calling `frame.insert` many times, which has poor performance.  Consider joining all columns at once using pd.concat(axis=1) instead. To get a de-fragmented frame, use `newframe = frame.copy()`\n",
      "  df[ohe.get_feature_names_out()] = ohe_transformed\n",
      "C:\\Users\\Professional\\AppData\\Local\\Temp\\ipykernel_7676\\2220107148.py:2: PerformanceWarning: DataFrame is highly fragmented.  This is usually the result of calling `frame.insert` many times, which has poor performance.  Consider joining all columns at once using pd.concat(axis=1) instead. To get a de-fragmented frame, use `newframe = frame.copy()`\n",
      "  df[ohe.get_feature_names_out()] = ohe_transformed\n",
      "C:\\Users\\Professional\\AppData\\Local\\Temp\\ipykernel_7676\\2220107148.py:2: PerformanceWarning: DataFrame is highly fragmented.  This is usually the result of calling `frame.insert` many times, which has poor performance.  Consider joining all columns at once using pd.concat(axis=1) instead. To get a de-fragmented frame, use `newframe = frame.copy()`\n",
      "  df[ohe.get_feature_names_out()] = ohe_transformed\n",
      "C:\\Users\\Professional\\AppData\\Local\\Temp\\ipykernel_7676\\2220107148.py:2: PerformanceWarning: DataFrame is highly fragmented.  This is usually the result of calling `frame.insert` many times, which has poor performance.  Consider joining all columns at once using pd.concat(axis=1) instead. To get a de-fragmented frame, use `newframe = frame.copy()`\n",
      "  df[ohe.get_feature_names_out()] = ohe_transformed\n",
      "C:\\Users\\Professional\\AppData\\Local\\Temp\\ipykernel_7676\\2220107148.py:2: PerformanceWarning: DataFrame is highly fragmented.  This is usually the result of calling `frame.insert` many times, which has poor performance.  Consider joining all columns at once using pd.concat(axis=1) instead. To get a de-fragmented frame, use `newframe = frame.copy()`\n",
      "  df[ohe.get_feature_names_out()] = ohe_transformed\n",
      "C:\\Users\\Professional\\AppData\\Local\\Temp\\ipykernel_7676\\2220107148.py:2: PerformanceWarning: DataFrame is highly fragmented.  This is usually the result of calling `frame.insert` many times, which has poor performance.  Consider joining all columns at once using pd.concat(axis=1) instead. To get a de-fragmented frame, use `newframe = frame.copy()`\n",
      "  df[ohe.get_feature_names_out()] = ohe_transformed\n",
      "C:\\Users\\Professional\\AppData\\Local\\Temp\\ipykernel_7676\\2220107148.py:2: PerformanceWarning: DataFrame is highly fragmented.  This is usually the result of calling `frame.insert` many times, which has poor performance.  Consider joining all columns at once using pd.concat(axis=1) instead. To get a de-fragmented frame, use `newframe = frame.copy()`\n",
      "  df[ohe.get_feature_names_out()] = ohe_transformed\n",
      "C:\\Users\\Professional\\AppData\\Local\\Temp\\ipykernel_7676\\2220107148.py:2: PerformanceWarning: DataFrame is highly fragmented.  This is usually the result of calling `frame.insert` many times, which has poor performance.  Consider joining all columns at once using pd.concat(axis=1) instead. To get a de-fragmented frame, use `newframe = frame.copy()`\n",
      "  df[ohe.get_feature_names_out()] = ohe_transformed\n",
      "C:\\Users\\Professional\\AppData\\Local\\Temp\\ipykernel_7676\\2220107148.py:2: PerformanceWarning: DataFrame is highly fragmented.  This is usually the result of calling `frame.insert` many times, which has poor performance.  Consider joining all columns at once using pd.concat(axis=1) instead. To get a de-fragmented frame, use `newframe = frame.copy()`\n",
      "  df[ohe.get_feature_names_out()] = ohe_transformed\n",
      "C:\\Users\\Professional\\AppData\\Local\\Temp\\ipykernel_7676\\2220107148.py:2: PerformanceWarning: DataFrame is highly fragmented.  This is usually the result of calling `frame.insert` many times, which has poor performance.  Consider joining all columns at once using pd.concat(axis=1) instead. To get a de-fragmented frame, use `newframe = frame.copy()`\n",
      "  df[ohe.get_feature_names_out()] = ohe_transformed\n",
      "C:\\Users\\Professional\\AppData\\Local\\Temp\\ipykernel_7676\\2220107148.py:2: PerformanceWarning: DataFrame is highly fragmented.  This is usually the result of calling `frame.insert` many times, which has poor performance.  Consider joining all columns at once using pd.concat(axis=1) instead. To get a de-fragmented frame, use `newframe = frame.copy()`\n",
      "  df[ohe.get_feature_names_out()] = ohe_transformed\n",
      "C:\\Users\\Professional\\AppData\\Local\\Temp\\ipykernel_7676\\2220107148.py:2: PerformanceWarning: DataFrame is highly fragmented.  This is usually the result of calling `frame.insert` many times, which has poor performance.  Consider joining all columns at once using pd.concat(axis=1) instead. To get a de-fragmented frame, use `newframe = frame.copy()`\n",
      "  df[ohe.get_feature_names_out()] = ohe_transformed\n",
      "C:\\Users\\Professional\\AppData\\Local\\Temp\\ipykernel_7676\\2220107148.py:2: PerformanceWarning: DataFrame is highly fragmented.  This is usually the result of calling `frame.insert` many times, which has poor performance.  Consider joining all columns at once using pd.concat(axis=1) instead. To get a de-fragmented frame, use `newframe = frame.copy()`\n",
      "  df[ohe.get_feature_names_out()] = ohe_transformed\n",
      "C:\\Users\\Professional\\AppData\\Local\\Temp\\ipykernel_7676\\2220107148.py:2: PerformanceWarning: DataFrame is highly fragmented.  This is usually the result of calling `frame.insert` many times, which has poor performance.  Consider joining all columns at once using pd.concat(axis=1) instead. To get a de-fragmented frame, use `newframe = frame.copy()`\n",
      "  df[ohe.get_feature_names_out()] = ohe_transformed\n",
      "C:\\Users\\Professional\\AppData\\Local\\Temp\\ipykernel_7676\\2220107148.py:2: PerformanceWarning: DataFrame is highly fragmented.  This is usually the result of calling `frame.insert` many times, which has poor performance.  Consider joining all columns at once using pd.concat(axis=1) instead. To get a de-fragmented frame, use `newframe = frame.copy()`\n",
      "  df[ohe.get_feature_names_out()] = ohe_transformed\n",
      "C:\\Users\\Professional\\AppData\\Local\\Temp\\ipykernel_7676\\2220107148.py:2: PerformanceWarning: DataFrame is highly fragmented.  This is usually the result of calling `frame.insert` many times, which has poor performance.  Consider joining all columns at once using pd.concat(axis=1) instead. To get a de-fragmented frame, use `newframe = frame.copy()`\n",
      "  df[ohe.get_feature_names_out()] = ohe_transformed\n",
      "C:\\Users\\Professional\\AppData\\Local\\Temp\\ipykernel_7676\\2220107148.py:2: PerformanceWarning: DataFrame is highly fragmented.  This is usually the result of calling `frame.insert` many times, which has poor performance.  Consider joining all columns at once using pd.concat(axis=1) instead. To get a de-fragmented frame, use `newframe = frame.copy()`\n",
      "  df[ohe.get_feature_names_out()] = ohe_transformed\n",
      "C:\\Users\\Professional\\AppData\\Local\\Temp\\ipykernel_7676\\2220107148.py:2: PerformanceWarning: DataFrame is highly fragmented.  This is usually the result of calling `frame.insert` many times, which has poor performance.  Consider joining all columns at once using pd.concat(axis=1) instead. To get a de-fragmented frame, use `newframe = frame.copy()`\n",
      "  df[ohe.get_feature_names_out()] = ohe_transformed\n",
      "C:\\Users\\Professional\\AppData\\Local\\Temp\\ipykernel_7676\\2220107148.py:2: PerformanceWarning: DataFrame is highly fragmented.  This is usually the result of calling `frame.insert` many times, which has poor performance.  Consider joining all columns at once using pd.concat(axis=1) instead. To get a de-fragmented frame, use `newframe = frame.copy()`\n",
      "  df[ohe.get_feature_names_out()] = ohe_transformed\n",
      "C:\\Users\\Professional\\AppData\\Local\\Temp\\ipykernel_7676\\2220107148.py:2: PerformanceWarning: DataFrame is highly fragmented.  This is usually the result of calling `frame.insert` many times, which has poor performance.  Consider joining all columns at once using pd.concat(axis=1) instead. To get a de-fragmented frame, use `newframe = frame.copy()`\n",
      "  df[ohe.get_feature_names_out()] = ohe_transformed\n",
      "C:\\Users\\Professional\\AppData\\Local\\Temp\\ipykernel_7676\\2220107148.py:2: PerformanceWarning: DataFrame is highly fragmented.  This is usually the result of calling `frame.insert` many times, which has poor performance.  Consider joining all columns at once using pd.concat(axis=1) instead. To get a de-fragmented frame, use `newframe = frame.copy()`\n",
      "  df[ohe.get_feature_names_out()] = ohe_transformed\n",
      "C:\\Users\\Professional\\AppData\\Local\\Temp\\ipykernel_7676\\2220107148.py:2: PerformanceWarning: DataFrame is highly fragmented.  This is usually the result of calling `frame.insert` many times, which has poor performance.  Consider joining all columns at once using pd.concat(axis=1) instead. To get a de-fragmented frame, use `newframe = frame.copy()`\n",
      "  df[ohe.get_feature_names_out()] = ohe_transformed\n",
      "C:\\Users\\Professional\\AppData\\Local\\Temp\\ipykernel_7676\\2220107148.py:2: PerformanceWarning: DataFrame is highly fragmented.  This is usually the result of calling `frame.insert` many times, which has poor performance.  Consider joining all columns at once using pd.concat(axis=1) instead. To get a de-fragmented frame, use `newframe = frame.copy()`\n",
      "  df[ohe.get_feature_names_out()] = ohe_transformed\n",
      "C:\\Users\\Professional\\AppData\\Local\\Temp\\ipykernel_7676\\2220107148.py:2: PerformanceWarning: DataFrame is highly fragmented.  This is usually the result of calling `frame.insert` many times, which has poor performance.  Consider joining all columns at once using pd.concat(axis=1) instead. To get a de-fragmented frame, use `newframe = frame.copy()`\n",
      "  df[ohe.get_feature_names_out()] = ohe_transformed\n",
      "C:\\Users\\Professional\\AppData\\Local\\Temp\\ipykernel_7676\\2220107148.py:2: PerformanceWarning: DataFrame is highly fragmented.  This is usually the result of calling `frame.insert` many times, which has poor performance.  Consider joining all columns at once using pd.concat(axis=1) instead. To get a de-fragmented frame, use `newframe = frame.copy()`\n",
      "  df[ohe.get_feature_names_out()] = ohe_transformed\n",
      "C:\\Users\\Professional\\AppData\\Local\\Temp\\ipykernel_7676\\2220107148.py:2: PerformanceWarning: DataFrame is highly fragmented.  This is usually the result of calling `frame.insert` many times, which has poor performance.  Consider joining all columns at once using pd.concat(axis=1) instead. To get a de-fragmented frame, use `newframe = frame.copy()`\n",
      "  df[ohe.get_feature_names_out()] = ohe_transformed\n",
      "C:\\Users\\Professional\\AppData\\Local\\Temp\\ipykernel_7676\\2220107148.py:2: PerformanceWarning: DataFrame is highly fragmented.  This is usually the result of calling `frame.insert` many times, which has poor performance.  Consider joining all columns at once using pd.concat(axis=1) instead. To get a de-fragmented frame, use `newframe = frame.copy()`\n",
      "  df[ohe.get_feature_names_out()] = ohe_transformed\n",
      "C:\\Users\\Professional\\AppData\\Local\\Temp\\ipykernel_7676\\2220107148.py:2: PerformanceWarning: DataFrame is highly fragmented.  This is usually the result of calling `frame.insert` many times, which has poor performance.  Consider joining all columns at once using pd.concat(axis=1) instead. To get a de-fragmented frame, use `newframe = frame.copy()`\n",
      "  df[ohe.get_feature_names_out()] = ohe_transformed\n",
      "C:\\Users\\Professional\\AppData\\Local\\Temp\\ipykernel_7676\\2220107148.py:2: PerformanceWarning: DataFrame is highly fragmented.  This is usually the result of calling `frame.insert` many times, which has poor performance.  Consider joining all columns at once using pd.concat(axis=1) instead. To get a de-fragmented frame, use `newframe = frame.copy()`\n",
      "  df[ohe.get_feature_names_out()] = ohe_transformed\n",
      "C:\\Users\\Professional\\AppData\\Local\\Temp\\ipykernel_7676\\2220107148.py:2: PerformanceWarning: DataFrame is highly fragmented.  This is usually the result of calling `frame.insert` many times, which has poor performance.  Consider joining all columns at once using pd.concat(axis=1) instead. To get a de-fragmented frame, use `newframe = frame.copy()`\n",
      "  df[ohe.get_feature_names_out()] = ohe_transformed\n",
      "C:\\Users\\Professional\\AppData\\Local\\Temp\\ipykernel_7676\\2220107148.py:2: PerformanceWarning: DataFrame is highly fragmented.  This is usually the result of calling `frame.insert` many times, which has poor performance.  Consider joining all columns at once using pd.concat(axis=1) instead. To get a de-fragmented frame, use `newframe = frame.copy()`\n",
      "  df[ohe.get_feature_names_out()] = ohe_transformed\n",
      "C:\\Users\\Professional\\AppData\\Local\\Temp\\ipykernel_7676\\2220107148.py:2: PerformanceWarning: DataFrame is highly fragmented.  This is usually the result of calling `frame.insert` many times, which has poor performance.  Consider joining all columns at once using pd.concat(axis=1) instead. To get a de-fragmented frame, use `newframe = frame.copy()`\n",
      "  df[ohe.get_feature_names_out()] = ohe_transformed\n",
      "C:\\Users\\Professional\\AppData\\Local\\Temp\\ipykernel_7676\\2220107148.py:2: PerformanceWarning: DataFrame is highly fragmented.  This is usually the result of calling `frame.insert` many times, which has poor performance.  Consider joining all columns at once using pd.concat(axis=1) instead. To get a de-fragmented frame, use `newframe = frame.copy()`\n",
      "  df[ohe.get_feature_names_out()] = ohe_transformed\n",
      "C:\\Users\\Professional\\AppData\\Local\\Temp\\ipykernel_7676\\2220107148.py:2: PerformanceWarning: DataFrame is highly fragmented.  This is usually the result of calling `frame.insert` many times, which has poor performance.  Consider joining all columns at once using pd.concat(axis=1) instead. To get a de-fragmented frame, use `newframe = frame.copy()`\n",
      "  df[ohe.get_feature_names_out()] = ohe_transformed\n",
      "C:\\Users\\Professional\\AppData\\Local\\Temp\\ipykernel_7676\\2220107148.py:2: PerformanceWarning: DataFrame is highly fragmented.  This is usually the result of calling `frame.insert` many times, which has poor performance.  Consider joining all columns at once using pd.concat(axis=1) instead. To get a de-fragmented frame, use `newframe = frame.copy()`\n",
      "  df[ohe.get_feature_names_out()] = ohe_transformed\n",
      "C:\\Users\\Professional\\AppData\\Local\\Temp\\ipykernel_7676\\2220107148.py:2: PerformanceWarning: DataFrame is highly fragmented.  This is usually the result of calling `frame.insert` many times, which has poor performance.  Consider joining all columns at once using pd.concat(axis=1) instead. To get a de-fragmented frame, use `newframe = frame.copy()`\n",
      "  df[ohe.get_feature_names_out()] = ohe_transformed\n",
      "C:\\Users\\Professional\\AppData\\Local\\Temp\\ipykernel_7676\\2220107148.py:2: PerformanceWarning: DataFrame is highly fragmented.  This is usually the result of calling `frame.insert` many times, which has poor performance.  Consider joining all columns at once using pd.concat(axis=1) instead. To get a de-fragmented frame, use `newframe = frame.copy()`\n",
      "  df[ohe.get_feature_names_out()] = ohe_transformed\n",
      "C:\\Users\\Professional\\AppData\\Local\\Temp\\ipykernel_7676\\2220107148.py:2: PerformanceWarning: DataFrame is highly fragmented.  This is usually the result of calling `frame.insert` many times, which has poor performance.  Consider joining all columns at once using pd.concat(axis=1) instead. To get a de-fragmented frame, use `newframe = frame.copy()`\n",
      "  df[ohe.get_feature_names_out()] = ohe_transformed\n",
      "C:\\Users\\Professional\\AppData\\Local\\Temp\\ipykernel_7676\\2220107148.py:2: PerformanceWarning: DataFrame is highly fragmented.  This is usually the result of calling `frame.insert` many times, which has poor performance.  Consider joining all columns at once using pd.concat(axis=1) instead. To get a de-fragmented frame, use `newframe = frame.copy()`\n",
      "  df[ohe.get_feature_names_out()] = ohe_transformed\n",
      "C:\\Users\\Professional\\AppData\\Local\\Temp\\ipykernel_7676\\2220107148.py:2: PerformanceWarning: DataFrame is highly fragmented.  This is usually the result of calling `frame.insert` many times, which has poor performance.  Consider joining all columns at once using pd.concat(axis=1) instead. To get a de-fragmented frame, use `newframe = frame.copy()`\n",
      "  df[ohe.get_feature_names_out()] = ohe_transformed\n",
      "C:\\Users\\Professional\\AppData\\Local\\Temp\\ipykernel_7676\\2220107148.py:2: PerformanceWarning: DataFrame is highly fragmented.  This is usually the result of calling `frame.insert` many times, which has poor performance.  Consider joining all columns at once using pd.concat(axis=1) instead. To get a de-fragmented frame, use `newframe = frame.copy()`\n",
      "  df[ohe.get_feature_names_out()] = ohe_transformed\n",
      "C:\\Users\\Professional\\AppData\\Local\\Temp\\ipykernel_7676\\2220107148.py:2: PerformanceWarning: DataFrame is highly fragmented.  This is usually the result of calling `frame.insert` many times, which has poor performance.  Consider joining all columns at once using pd.concat(axis=1) instead. To get a de-fragmented frame, use `newframe = frame.copy()`\n",
      "  df[ohe.get_feature_names_out()] = ohe_transformed\n",
      "C:\\Users\\Professional\\AppData\\Local\\Temp\\ipykernel_7676\\2220107148.py:2: PerformanceWarning: DataFrame is highly fragmented.  This is usually the result of calling `frame.insert` many times, which has poor performance.  Consider joining all columns at once using pd.concat(axis=1) instead. To get a de-fragmented frame, use `newframe = frame.copy()`\n",
      "  df[ohe.get_feature_names_out()] = ohe_transformed\n",
      "C:\\Users\\Professional\\AppData\\Local\\Temp\\ipykernel_7676\\2220107148.py:2: PerformanceWarning: DataFrame is highly fragmented.  This is usually the result of calling `frame.insert` many times, which has poor performance.  Consider joining all columns at once using pd.concat(axis=1) instead. To get a de-fragmented frame, use `newframe = frame.copy()`\n",
      "  df[ohe.get_feature_names_out()] = ohe_transformed\n",
      "C:\\Users\\Professional\\AppData\\Local\\Temp\\ipykernel_7676\\2220107148.py:2: PerformanceWarning: DataFrame is highly fragmented.  This is usually the result of calling `frame.insert` many times, which has poor performance.  Consider joining all columns at once using pd.concat(axis=1) instead. To get a de-fragmented frame, use `newframe = frame.copy()`\n",
      "  df[ohe.get_feature_names_out()] = ohe_transformed\n",
      "C:\\Users\\Professional\\AppData\\Local\\Temp\\ipykernel_7676\\2220107148.py:2: PerformanceWarning: DataFrame is highly fragmented.  This is usually the result of calling `frame.insert` many times, which has poor performance.  Consider joining all columns at once using pd.concat(axis=1) instead. To get a de-fragmented frame, use `newframe = frame.copy()`\n",
      "  df[ohe.get_feature_names_out()] = ohe_transformed\n",
      "C:\\Users\\Professional\\AppData\\Local\\Temp\\ipykernel_7676\\2220107148.py:2: PerformanceWarning: DataFrame is highly fragmented.  This is usually the result of calling `frame.insert` many times, which has poor performance.  Consider joining all columns at once using pd.concat(axis=1) instead. To get a de-fragmented frame, use `newframe = frame.copy()`\n",
      "  df[ohe.get_feature_names_out()] = ohe_transformed\n",
      "C:\\Users\\Professional\\AppData\\Local\\Temp\\ipykernel_7676\\2220107148.py:2: PerformanceWarning: DataFrame is highly fragmented.  This is usually the result of calling `frame.insert` many times, which has poor performance.  Consider joining all columns at once using pd.concat(axis=1) instead. To get a de-fragmented frame, use `newframe = frame.copy()`\n",
      "  df[ohe.get_feature_names_out()] = ohe_transformed\n",
      "C:\\Users\\Professional\\AppData\\Local\\Temp\\ipykernel_7676\\2220107148.py:2: PerformanceWarning: DataFrame is highly fragmented.  This is usually the result of calling `frame.insert` many times, which has poor performance.  Consider joining all columns at once using pd.concat(axis=1) instead. To get a de-fragmented frame, use `newframe = frame.copy()`\n",
      "  df[ohe.get_feature_names_out()] = ohe_transformed\n",
      "C:\\Users\\Professional\\AppData\\Local\\Temp\\ipykernel_7676\\2220107148.py:2: PerformanceWarning: DataFrame is highly fragmented.  This is usually the result of calling `frame.insert` many times, which has poor performance.  Consider joining all columns at once using pd.concat(axis=1) instead. To get a de-fragmented frame, use `newframe = frame.copy()`\n",
      "  df[ohe.get_feature_names_out()] = ohe_transformed\n",
      "C:\\Users\\Professional\\AppData\\Local\\Temp\\ipykernel_7676\\2220107148.py:2: PerformanceWarning: DataFrame is highly fragmented.  This is usually the result of calling `frame.insert` many times, which has poor performance.  Consider joining all columns at once using pd.concat(axis=1) instead. To get a de-fragmented frame, use `newframe = frame.copy()`\n",
      "  df[ohe.get_feature_names_out()] = ohe_transformed\n",
      "C:\\Users\\Professional\\AppData\\Local\\Temp\\ipykernel_7676\\2220107148.py:2: PerformanceWarning: DataFrame is highly fragmented.  This is usually the result of calling `frame.insert` many times, which has poor performance.  Consider joining all columns at once using pd.concat(axis=1) instead. To get a de-fragmented frame, use `newframe = frame.copy()`\n",
      "  df[ohe.get_feature_names_out()] = ohe_transformed\n",
      "C:\\Users\\Professional\\AppData\\Local\\Temp\\ipykernel_7676\\2220107148.py:2: PerformanceWarning: DataFrame is highly fragmented.  This is usually the result of calling `frame.insert` many times, which has poor performance.  Consider joining all columns at once using pd.concat(axis=1) instead. To get a de-fragmented frame, use `newframe = frame.copy()`\n",
      "  df[ohe.get_feature_names_out()] = ohe_transformed\n",
      "C:\\Users\\Professional\\AppData\\Local\\Temp\\ipykernel_7676\\2220107148.py:2: PerformanceWarning: DataFrame is highly fragmented.  This is usually the result of calling `frame.insert` many times, which has poor performance.  Consider joining all columns at once using pd.concat(axis=1) instead. To get a de-fragmented frame, use `newframe = frame.copy()`\n",
      "  df[ohe.get_feature_names_out()] = ohe_transformed\n",
      "C:\\Users\\Professional\\AppData\\Local\\Temp\\ipykernel_7676\\2220107148.py:2: PerformanceWarning: DataFrame is highly fragmented.  This is usually the result of calling `frame.insert` many times, which has poor performance.  Consider joining all columns at once using pd.concat(axis=1) instead. To get a de-fragmented frame, use `newframe = frame.copy()`\n",
      "  df[ohe.get_feature_names_out()] = ohe_transformed\n",
      "C:\\Users\\Professional\\AppData\\Local\\Temp\\ipykernel_7676\\2220107148.py:2: PerformanceWarning: DataFrame is highly fragmented.  This is usually the result of calling `frame.insert` many times, which has poor performance.  Consider joining all columns at once using pd.concat(axis=1) instead. To get a de-fragmented frame, use `newframe = frame.copy()`\n",
      "  df[ohe.get_feature_names_out()] = ohe_transformed\n",
      "C:\\Users\\Professional\\AppData\\Local\\Temp\\ipykernel_7676\\2220107148.py:2: PerformanceWarning: DataFrame is highly fragmented.  This is usually the result of calling `frame.insert` many times, which has poor performance.  Consider joining all columns at once using pd.concat(axis=1) instead. To get a de-fragmented frame, use `newframe = frame.copy()`\n",
      "  df[ohe.get_feature_names_out()] = ohe_transformed\n",
      "C:\\Users\\Professional\\AppData\\Local\\Temp\\ipykernel_7676\\2220107148.py:2: PerformanceWarning: DataFrame is highly fragmented.  This is usually the result of calling `frame.insert` many times, which has poor performance.  Consider joining all columns at once using pd.concat(axis=1) instead. To get a de-fragmented frame, use `newframe = frame.copy()`\n",
      "  df[ohe.get_feature_names_out()] = ohe_transformed\n",
      "C:\\Users\\Professional\\AppData\\Local\\Temp\\ipykernel_7676\\2220107148.py:2: PerformanceWarning: DataFrame is highly fragmented.  This is usually the result of calling `frame.insert` many times, which has poor performance.  Consider joining all columns at once using pd.concat(axis=1) instead. To get a de-fragmented frame, use `newframe = frame.copy()`\n",
      "  df[ohe.get_feature_names_out()] = ohe_transformed\n",
      "C:\\Users\\Professional\\AppData\\Local\\Temp\\ipykernel_7676\\2220107148.py:2: PerformanceWarning: DataFrame is highly fragmented.  This is usually the result of calling `frame.insert` many times, which has poor performance.  Consider joining all columns at once using pd.concat(axis=1) instead. To get a de-fragmented frame, use `newframe = frame.copy()`\n",
      "  df[ohe.get_feature_names_out()] = ohe_transformed\n",
      "C:\\Users\\Professional\\AppData\\Local\\Temp\\ipykernel_7676\\2220107148.py:2: PerformanceWarning: DataFrame is highly fragmented.  This is usually the result of calling `frame.insert` many times, which has poor performance.  Consider joining all columns at once using pd.concat(axis=1) instead. To get a de-fragmented frame, use `newframe = frame.copy()`\n",
      "  df[ohe.get_feature_names_out()] = ohe_transformed\n",
      "C:\\Users\\Professional\\AppData\\Local\\Temp\\ipykernel_7676\\2220107148.py:2: PerformanceWarning: DataFrame is highly fragmented.  This is usually the result of calling `frame.insert` many times, which has poor performance.  Consider joining all columns at once using pd.concat(axis=1) instead. To get a de-fragmented frame, use `newframe = frame.copy()`\n",
      "  df[ohe.get_feature_names_out()] = ohe_transformed\n",
      "C:\\Users\\Professional\\AppData\\Local\\Temp\\ipykernel_7676\\2220107148.py:2: PerformanceWarning: DataFrame is highly fragmented.  This is usually the result of calling `frame.insert` many times, which has poor performance.  Consider joining all columns at once using pd.concat(axis=1) instead. To get a de-fragmented frame, use `newframe = frame.copy()`\n",
      "  df[ohe.get_feature_names_out()] = ohe_transformed\n",
      "C:\\Users\\Professional\\AppData\\Local\\Temp\\ipykernel_7676\\2220107148.py:2: PerformanceWarning: DataFrame is highly fragmented.  This is usually the result of calling `frame.insert` many times, which has poor performance.  Consider joining all columns at once using pd.concat(axis=1) instead. To get a de-fragmented frame, use `newframe = frame.copy()`\n",
      "  df[ohe.get_feature_names_out()] = ohe_transformed\n",
      "C:\\Users\\Professional\\AppData\\Local\\Temp\\ipykernel_7676\\2220107148.py:2: PerformanceWarning: DataFrame is highly fragmented.  This is usually the result of calling `frame.insert` many times, which has poor performance.  Consider joining all columns at once using pd.concat(axis=1) instead. To get a de-fragmented frame, use `newframe = frame.copy()`\n",
      "  df[ohe.get_feature_names_out()] = ohe_transformed\n",
      "C:\\Users\\Professional\\AppData\\Local\\Temp\\ipykernel_7676\\2220107148.py:2: PerformanceWarning: DataFrame is highly fragmented.  This is usually the result of calling `frame.insert` many times, which has poor performance.  Consider joining all columns at once using pd.concat(axis=1) instead. To get a de-fragmented frame, use `newframe = frame.copy()`\n",
      "  df[ohe.get_feature_names_out()] = ohe_transformed\n",
      "C:\\Users\\Professional\\AppData\\Local\\Temp\\ipykernel_7676\\2220107148.py:2: PerformanceWarning: DataFrame is highly fragmented.  This is usually the result of calling `frame.insert` many times, which has poor performance.  Consider joining all columns at once using pd.concat(axis=1) instead. To get a de-fragmented frame, use `newframe = frame.copy()`\n",
      "  df[ohe.get_feature_names_out()] = ohe_transformed\n",
      "C:\\Users\\Professional\\AppData\\Local\\Temp\\ipykernel_7676\\2220107148.py:2: PerformanceWarning: DataFrame is highly fragmented.  This is usually the result of calling `frame.insert` many times, which has poor performance.  Consider joining all columns at once using pd.concat(axis=1) instead. To get a de-fragmented frame, use `newframe = frame.copy()`\n",
      "  df[ohe.get_feature_names_out()] = ohe_transformed\n",
      "C:\\Users\\Professional\\AppData\\Local\\Temp\\ipykernel_7676\\2220107148.py:2: PerformanceWarning: DataFrame is highly fragmented.  This is usually the result of calling `frame.insert` many times, which has poor performance.  Consider joining all columns at once using pd.concat(axis=1) instead. To get a de-fragmented frame, use `newframe = frame.copy()`\n",
      "  df[ohe.get_feature_names_out()] = ohe_transformed\n",
      "C:\\Users\\Professional\\AppData\\Local\\Temp\\ipykernel_7676\\2220107148.py:2: PerformanceWarning: DataFrame is highly fragmented.  This is usually the result of calling `frame.insert` many times, which has poor performance.  Consider joining all columns at once using pd.concat(axis=1) instead. To get a de-fragmented frame, use `newframe = frame.copy()`\n",
      "  df[ohe.get_feature_names_out()] = ohe_transformed\n",
      "C:\\Users\\Professional\\AppData\\Local\\Temp\\ipykernel_7676\\2220107148.py:2: PerformanceWarning: DataFrame is highly fragmented.  This is usually the result of calling `frame.insert` many times, which has poor performance.  Consider joining all columns at once using pd.concat(axis=1) instead. To get a de-fragmented frame, use `newframe = frame.copy()`\n",
      "  df[ohe.get_feature_names_out()] = ohe_transformed\n",
      "C:\\Users\\Professional\\AppData\\Local\\Temp\\ipykernel_7676\\2220107148.py:2: PerformanceWarning: DataFrame is highly fragmented.  This is usually the result of calling `frame.insert` many times, which has poor performance.  Consider joining all columns at once using pd.concat(axis=1) instead. To get a de-fragmented frame, use `newframe = frame.copy()`\n",
      "  df[ohe.get_feature_names_out()] = ohe_transformed\n",
      "C:\\Users\\Professional\\AppData\\Local\\Temp\\ipykernel_7676\\2220107148.py:2: PerformanceWarning: DataFrame is highly fragmented.  This is usually the result of calling `frame.insert` many times, which has poor performance.  Consider joining all columns at once using pd.concat(axis=1) instead. To get a de-fragmented frame, use `newframe = frame.copy()`\n",
      "  df[ohe.get_feature_names_out()] = ohe_transformed\n",
      "C:\\Users\\Professional\\AppData\\Local\\Temp\\ipykernel_7676\\2220107148.py:2: PerformanceWarning: DataFrame is highly fragmented.  This is usually the result of calling `frame.insert` many times, which has poor performance.  Consider joining all columns at once using pd.concat(axis=1) instead. To get a de-fragmented frame, use `newframe = frame.copy()`\n",
      "  df[ohe.get_feature_names_out()] = ohe_transformed\n",
      "C:\\Users\\Professional\\AppData\\Local\\Temp\\ipykernel_7676\\2220107148.py:2: PerformanceWarning: DataFrame is highly fragmented.  This is usually the result of calling `frame.insert` many times, which has poor performance.  Consider joining all columns at once using pd.concat(axis=1) instead. To get a de-fragmented frame, use `newframe = frame.copy()`\n",
      "  df[ohe.get_feature_names_out()] = ohe_transformed\n",
      "C:\\Users\\Professional\\AppData\\Local\\Temp\\ipykernel_7676\\2220107148.py:2: PerformanceWarning: DataFrame is highly fragmented.  This is usually the result of calling `frame.insert` many times, which has poor performance.  Consider joining all columns at once using pd.concat(axis=1) instead. To get a de-fragmented frame, use `newframe = frame.copy()`\n",
      "  df[ohe.get_feature_names_out()] = ohe_transformed\n",
      "C:\\Users\\Professional\\AppData\\Local\\Temp\\ipykernel_7676\\2220107148.py:2: PerformanceWarning: DataFrame is highly fragmented.  This is usually the result of calling `frame.insert` many times, which has poor performance.  Consider joining all columns at once using pd.concat(axis=1) instead. To get a de-fragmented frame, use `newframe = frame.copy()`\n",
      "  df[ohe.get_feature_names_out()] = ohe_transformed\n",
      "C:\\Users\\Professional\\AppData\\Local\\Temp\\ipykernel_7676\\2220107148.py:2: PerformanceWarning: DataFrame is highly fragmented.  This is usually the result of calling `frame.insert` many times, which has poor performance.  Consider joining all columns at once using pd.concat(axis=1) instead. To get a de-fragmented frame, use `newframe = frame.copy()`\n",
      "  df[ohe.get_feature_names_out()] = ohe_transformed\n",
      "C:\\Users\\Professional\\AppData\\Local\\Temp\\ipykernel_7676\\2220107148.py:2: PerformanceWarning: DataFrame is highly fragmented.  This is usually the result of calling `frame.insert` many times, which has poor performance.  Consider joining all columns at once using pd.concat(axis=1) instead. To get a de-fragmented frame, use `newframe = frame.copy()`\n",
      "  df[ohe.get_feature_names_out()] = ohe_transformed\n",
      "C:\\Users\\Professional\\AppData\\Local\\Temp\\ipykernel_7676\\2220107148.py:2: PerformanceWarning: DataFrame is highly fragmented.  This is usually the result of calling `frame.insert` many times, which has poor performance.  Consider joining all columns at once using pd.concat(axis=1) instead. To get a de-fragmented frame, use `newframe = frame.copy()`\n",
      "  df[ohe.get_feature_names_out()] = ohe_transformed\n",
      "C:\\Users\\Professional\\AppData\\Local\\Temp\\ipykernel_7676\\2220107148.py:2: PerformanceWarning: DataFrame is highly fragmented.  This is usually the result of calling `frame.insert` many times, which has poor performance.  Consider joining all columns at once using pd.concat(axis=1) instead. To get a de-fragmented frame, use `newframe = frame.copy()`\n",
      "  df[ohe.get_feature_names_out()] = ohe_transformed\n",
      "C:\\Users\\Professional\\AppData\\Local\\Temp\\ipykernel_7676\\2220107148.py:2: PerformanceWarning: DataFrame is highly fragmented.  This is usually the result of calling `frame.insert` many times, which has poor performance.  Consider joining all columns at once using pd.concat(axis=1) instead. To get a de-fragmented frame, use `newframe = frame.copy()`\n",
      "  df[ohe.get_feature_names_out()] = ohe_transformed\n",
      "C:\\Users\\Professional\\AppData\\Local\\Temp\\ipykernel_7676\\2220107148.py:2: PerformanceWarning: DataFrame is highly fragmented.  This is usually the result of calling `frame.insert` many times, which has poor performance.  Consider joining all columns at once using pd.concat(axis=1) instead. To get a de-fragmented frame, use `newframe = frame.copy()`\n",
      "  df[ohe.get_feature_names_out()] = ohe_transformed\n",
      "C:\\Users\\Professional\\AppData\\Local\\Temp\\ipykernel_7676\\2220107148.py:2: PerformanceWarning: DataFrame is highly fragmented.  This is usually the result of calling `frame.insert` many times, which has poor performance.  Consider joining all columns at once using pd.concat(axis=1) instead. To get a de-fragmented frame, use `newframe = frame.copy()`\n",
      "  df[ohe.get_feature_names_out()] = ohe_transformed\n",
      "C:\\Users\\Professional\\AppData\\Local\\Temp\\ipykernel_7676\\2220107148.py:2: PerformanceWarning: DataFrame is highly fragmented.  This is usually the result of calling `frame.insert` many times, which has poor performance.  Consider joining all columns at once using pd.concat(axis=1) instead. To get a de-fragmented frame, use `newframe = frame.copy()`\n",
      "  df[ohe.get_feature_names_out()] = ohe_transformed\n",
      "C:\\Users\\Professional\\AppData\\Local\\Temp\\ipykernel_7676\\2220107148.py:2: PerformanceWarning: DataFrame is highly fragmented.  This is usually the result of calling `frame.insert` many times, which has poor performance.  Consider joining all columns at once using pd.concat(axis=1) instead. To get a de-fragmented frame, use `newframe = frame.copy()`\n",
      "  df[ohe.get_feature_names_out()] = ohe_transformed\n",
      "C:\\Users\\Professional\\AppData\\Local\\Temp\\ipykernel_7676\\2220107148.py:2: PerformanceWarning: DataFrame is highly fragmented.  This is usually the result of calling `frame.insert` many times, which has poor performance.  Consider joining all columns at once using pd.concat(axis=1) instead. To get a de-fragmented frame, use `newframe = frame.copy()`\n",
      "  df[ohe.get_feature_names_out()] = ohe_transformed\n",
      "C:\\Users\\Professional\\AppData\\Local\\Temp\\ipykernel_7676\\2220107148.py:2: PerformanceWarning: DataFrame is highly fragmented.  This is usually the result of calling `frame.insert` many times, which has poor performance.  Consider joining all columns at once using pd.concat(axis=1) instead. To get a de-fragmented frame, use `newframe = frame.copy()`\n",
      "  df[ohe.get_feature_names_out()] = ohe_transformed\n",
      "C:\\Users\\Professional\\AppData\\Local\\Temp\\ipykernel_7676\\2220107148.py:2: PerformanceWarning: DataFrame is highly fragmented.  This is usually the result of calling `frame.insert` many times, which has poor performance.  Consider joining all columns at once using pd.concat(axis=1) instead. To get a de-fragmented frame, use `newframe = frame.copy()`\n",
      "  df[ohe.get_feature_names_out()] = ohe_transformed\n",
      "C:\\Users\\Professional\\AppData\\Local\\Temp\\ipykernel_7676\\2220107148.py:2: PerformanceWarning: DataFrame is highly fragmented.  This is usually the result of calling `frame.insert` many times, which has poor performance.  Consider joining all columns at once using pd.concat(axis=1) instead. To get a de-fragmented frame, use `newframe = frame.copy()`\n",
      "  df[ohe.get_feature_names_out()] = ohe_transformed\n",
      "C:\\Users\\Professional\\AppData\\Local\\Temp\\ipykernel_7676\\2220107148.py:2: PerformanceWarning: DataFrame is highly fragmented.  This is usually the result of calling `frame.insert` many times, which has poor performance.  Consider joining all columns at once using pd.concat(axis=1) instead. To get a de-fragmented frame, use `newframe = frame.copy()`\n",
      "  df[ohe.get_feature_names_out()] = ohe_transformed\n",
      "C:\\Users\\Professional\\AppData\\Local\\Temp\\ipykernel_7676\\2220107148.py:2: PerformanceWarning: DataFrame is highly fragmented.  This is usually the result of calling `frame.insert` many times, which has poor performance.  Consider joining all columns at once using pd.concat(axis=1) instead. To get a de-fragmented frame, use `newframe = frame.copy()`\n",
      "  df[ohe.get_feature_names_out()] = ohe_transformed\n",
      "C:\\Users\\Professional\\AppData\\Local\\Temp\\ipykernel_7676\\2220107148.py:2: PerformanceWarning: DataFrame is highly fragmented.  This is usually the result of calling `frame.insert` many times, which has poor performance.  Consider joining all columns at once using pd.concat(axis=1) instead. To get a de-fragmented frame, use `newframe = frame.copy()`\n",
      "  df[ohe.get_feature_names_out()] = ohe_transformed\n",
      "C:\\Users\\Professional\\AppData\\Local\\Temp\\ipykernel_7676\\2220107148.py:2: PerformanceWarning: DataFrame is highly fragmented.  This is usually the result of calling `frame.insert` many times, which has poor performance.  Consider joining all columns at once using pd.concat(axis=1) instead. To get a de-fragmented frame, use `newframe = frame.copy()`\n",
      "  df[ohe.get_feature_names_out()] = ohe_transformed\n",
      "C:\\Users\\Professional\\AppData\\Local\\Temp\\ipykernel_7676\\2220107148.py:2: PerformanceWarning: DataFrame is highly fragmented.  This is usually the result of calling `frame.insert` many times, which has poor performance.  Consider joining all columns at once using pd.concat(axis=1) instead. To get a de-fragmented frame, use `newframe = frame.copy()`\n",
      "  df[ohe.get_feature_names_out()] = ohe_transformed\n",
      "C:\\Users\\Professional\\AppData\\Local\\Temp\\ipykernel_7676\\2220107148.py:2: PerformanceWarning: DataFrame is highly fragmented.  This is usually the result of calling `frame.insert` many times, which has poor performance.  Consider joining all columns at once using pd.concat(axis=1) instead. To get a de-fragmented frame, use `newframe = frame.copy()`\n",
      "  df[ohe.get_feature_names_out()] = ohe_transformed\n",
      "C:\\Users\\Professional\\AppData\\Local\\Temp\\ipykernel_7676\\2220107148.py:2: PerformanceWarning: DataFrame is highly fragmented.  This is usually the result of calling `frame.insert` many times, which has poor performance.  Consider joining all columns at once using pd.concat(axis=1) instead. To get a de-fragmented frame, use `newframe = frame.copy()`\n",
      "  df[ohe.get_feature_names_out()] = ohe_transformed\n",
      "C:\\Users\\Professional\\AppData\\Local\\Temp\\ipykernel_7676\\2220107148.py:2: PerformanceWarning: DataFrame is highly fragmented.  This is usually the result of calling `frame.insert` many times, which has poor performance.  Consider joining all columns at once using pd.concat(axis=1) instead. To get a de-fragmented frame, use `newframe = frame.copy()`\n",
      "  df[ohe.get_feature_names_out()] = ohe_transformed\n",
      "C:\\Users\\Professional\\AppData\\Local\\Temp\\ipykernel_7676\\2220107148.py:2: PerformanceWarning: DataFrame is highly fragmented.  This is usually the result of calling `frame.insert` many times, which has poor performance.  Consider joining all columns at once using pd.concat(axis=1) instead. To get a de-fragmented frame, use `newframe = frame.copy()`\n",
      "  df[ohe.get_feature_names_out()] = ohe_transformed\n",
      "C:\\Users\\Professional\\AppData\\Local\\Temp\\ipykernel_7676\\2220107148.py:2: PerformanceWarning: DataFrame is highly fragmented.  This is usually the result of calling `frame.insert` many times, which has poor performance.  Consider joining all columns at once using pd.concat(axis=1) instead. To get a de-fragmented frame, use `newframe = frame.copy()`\n",
      "  df[ohe.get_feature_names_out()] = ohe_transformed\n",
      "C:\\Users\\Professional\\AppData\\Local\\Temp\\ipykernel_7676\\2220107148.py:2: PerformanceWarning: DataFrame is highly fragmented.  This is usually the result of calling `frame.insert` many times, which has poor performance.  Consider joining all columns at once using pd.concat(axis=1) instead. To get a de-fragmented frame, use `newframe = frame.copy()`\n",
      "  df[ohe.get_feature_names_out()] = ohe_transformed\n",
      "C:\\Users\\Professional\\AppData\\Local\\Temp\\ipykernel_7676\\2220107148.py:2: PerformanceWarning: DataFrame is highly fragmented.  This is usually the result of calling `frame.insert` many times, which has poor performance.  Consider joining all columns at once using pd.concat(axis=1) instead. To get a de-fragmented frame, use `newframe = frame.copy()`\n",
      "  df[ohe.get_feature_names_out()] = ohe_transformed\n",
      "C:\\Users\\Professional\\AppData\\Local\\Temp\\ipykernel_7676\\2220107148.py:2: PerformanceWarning: DataFrame is highly fragmented.  This is usually the result of calling `frame.insert` many times, which has poor performance.  Consider joining all columns at once using pd.concat(axis=1) instead. To get a de-fragmented frame, use `newframe = frame.copy()`\n",
      "  df[ohe.get_feature_names_out()] = ohe_transformed\n",
      "C:\\Users\\Professional\\AppData\\Local\\Temp\\ipykernel_7676\\2220107148.py:2: PerformanceWarning: DataFrame is highly fragmented.  This is usually the result of calling `frame.insert` many times, which has poor performance.  Consider joining all columns at once using pd.concat(axis=1) instead. To get a de-fragmented frame, use `newframe = frame.copy()`\n",
      "  df[ohe.get_feature_names_out()] = ohe_transformed\n",
      "C:\\Users\\Professional\\AppData\\Local\\Temp\\ipykernel_7676\\2220107148.py:2: PerformanceWarning: DataFrame is highly fragmented.  This is usually the result of calling `frame.insert` many times, which has poor performance.  Consider joining all columns at once using pd.concat(axis=1) instead. To get a de-fragmented frame, use `newframe = frame.copy()`\n",
      "  df[ohe.get_feature_names_out()] = ohe_transformed\n",
      "C:\\Users\\Professional\\AppData\\Local\\Temp\\ipykernel_7676\\2220107148.py:2: PerformanceWarning: DataFrame is highly fragmented.  This is usually the result of calling `frame.insert` many times, which has poor performance.  Consider joining all columns at once using pd.concat(axis=1) instead. To get a de-fragmented frame, use `newframe = frame.copy()`\n",
      "  df[ohe.get_feature_names_out()] = ohe_transformed\n",
      "C:\\Users\\Professional\\AppData\\Local\\Temp\\ipykernel_7676\\2220107148.py:2: PerformanceWarning: DataFrame is highly fragmented.  This is usually the result of calling `frame.insert` many times, which has poor performance.  Consider joining all columns at once using pd.concat(axis=1) instead. To get a de-fragmented frame, use `newframe = frame.copy()`\n",
      "  df[ohe.get_feature_names_out()] = ohe_transformed\n",
      "C:\\Users\\Professional\\AppData\\Local\\Temp\\ipykernel_7676\\2220107148.py:2: PerformanceWarning: DataFrame is highly fragmented.  This is usually the result of calling `frame.insert` many times, which has poor performance.  Consider joining all columns at once using pd.concat(axis=1) instead. To get a de-fragmented frame, use `newframe = frame.copy()`\n",
      "  df[ohe.get_feature_names_out()] = ohe_transformed\n",
      "C:\\Users\\Professional\\AppData\\Local\\Temp\\ipykernel_7676\\2220107148.py:2: PerformanceWarning: DataFrame is highly fragmented.  This is usually the result of calling `frame.insert` many times, which has poor performance.  Consider joining all columns at once using pd.concat(axis=1) instead. To get a de-fragmented frame, use `newframe = frame.copy()`\n",
      "  df[ohe.get_feature_names_out()] = ohe_transformed\n",
      "C:\\Users\\Professional\\AppData\\Local\\Temp\\ipykernel_7676\\2220107148.py:2: PerformanceWarning: DataFrame is highly fragmented.  This is usually the result of calling `frame.insert` many times, which has poor performance.  Consider joining all columns at once using pd.concat(axis=1) instead. To get a de-fragmented frame, use `newframe = frame.copy()`\n",
      "  df[ohe.get_feature_names_out()] = ohe_transformed\n",
      "C:\\Users\\Professional\\AppData\\Local\\Temp\\ipykernel_7676\\2220107148.py:2: PerformanceWarning: DataFrame is highly fragmented.  This is usually the result of calling `frame.insert` many times, which has poor performance.  Consider joining all columns at once using pd.concat(axis=1) instead. To get a de-fragmented frame, use `newframe = frame.copy()`\n",
      "  df[ohe.get_feature_names_out()] = ohe_transformed\n",
      "C:\\Users\\Professional\\AppData\\Local\\Temp\\ipykernel_7676\\2220107148.py:2: PerformanceWarning: DataFrame is highly fragmented.  This is usually the result of calling `frame.insert` many times, which has poor performance.  Consider joining all columns at once using pd.concat(axis=1) instead. To get a de-fragmented frame, use `newframe = frame.copy()`\n",
      "  df[ohe.get_feature_names_out()] = ohe_transformed\n",
      "C:\\Users\\Professional\\AppData\\Local\\Temp\\ipykernel_7676\\2220107148.py:2: PerformanceWarning: DataFrame is highly fragmented.  This is usually the result of calling `frame.insert` many times, which has poor performance.  Consider joining all columns at once using pd.concat(axis=1) instead. To get a de-fragmented frame, use `newframe = frame.copy()`\n",
      "  df[ohe.get_feature_names_out()] = ohe_transformed\n",
      "C:\\Users\\Professional\\AppData\\Local\\Temp\\ipykernel_7676\\2220107148.py:2: PerformanceWarning: DataFrame is highly fragmented.  This is usually the result of calling `frame.insert` many times, which has poor performance.  Consider joining all columns at once using pd.concat(axis=1) instead. To get a de-fragmented frame, use `newframe = frame.copy()`\n",
      "  df[ohe.get_feature_names_out()] = ohe_transformed\n",
      "C:\\Users\\Professional\\AppData\\Local\\Temp\\ipykernel_7676\\2220107148.py:2: PerformanceWarning: DataFrame is highly fragmented.  This is usually the result of calling `frame.insert` many times, which has poor performance.  Consider joining all columns at once using pd.concat(axis=1) instead. To get a de-fragmented frame, use `newframe = frame.copy()`\n",
      "  df[ohe.get_feature_names_out()] = ohe_transformed\n",
      "C:\\Users\\Professional\\AppData\\Local\\Temp\\ipykernel_7676\\2220107148.py:2: PerformanceWarning: DataFrame is highly fragmented.  This is usually the result of calling `frame.insert` many times, which has poor performance.  Consider joining all columns at once using pd.concat(axis=1) instead. To get a de-fragmented frame, use `newframe = frame.copy()`\n",
      "  df[ohe.get_feature_names_out()] = ohe_transformed\n",
      "C:\\Users\\Professional\\AppData\\Local\\Temp\\ipykernel_7676\\2220107148.py:2: PerformanceWarning: DataFrame is highly fragmented.  This is usually the result of calling `frame.insert` many times, which has poor performance.  Consider joining all columns at once using pd.concat(axis=1) instead. To get a de-fragmented frame, use `newframe = frame.copy()`\n",
      "  df[ohe.get_feature_names_out()] = ohe_transformed\n",
      "C:\\Users\\Professional\\AppData\\Local\\Temp\\ipykernel_7676\\2220107148.py:2: PerformanceWarning: DataFrame is highly fragmented.  This is usually the result of calling `frame.insert` many times, which has poor performance.  Consider joining all columns at once using pd.concat(axis=1) instead. To get a de-fragmented frame, use `newframe = frame.copy()`\n",
      "  df[ohe.get_feature_names_out()] = ohe_transformed\n",
      "C:\\Users\\Professional\\AppData\\Local\\Temp\\ipykernel_7676\\2220107148.py:2: PerformanceWarning: DataFrame is highly fragmented.  This is usually the result of calling `frame.insert` many times, which has poor performance.  Consider joining all columns at once using pd.concat(axis=1) instead. To get a de-fragmented frame, use `newframe = frame.copy()`\n",
      "  df[ohe.get_feature_names_out()] = ohe_transformed\n",
      "C:\\Users\\Professional\\AppData\\Local\\Temp\\ipykernel_7676\\2220107148.py:2: PerformanceWarning: DataFrame is highly fragmented.  This is usually the result of calling `frame.insert` many times, which has poor performance.  Consider joining all columns at once using pd.concat(axis=1) instead. To get a de-fragmented frame, use `newframe = frame.copy()`\n",
      "  df[ohe.get_feature_names_out()] = ohe_transformed\n",
      "C:\\Users\\Professional\\AppData\\Local\\Temp\\ipykernel_7676\\2220107148.py:2: PerformanceWarning: DataFrame is highly fragmented.  This is usually the result of calling `frame.insert` many times, which has poor performance.  Consider joining all columns at once using pd.concat(axis=1) instead. To get a de-fragmented frame, use `newframe = frame.copy()`\n",
      "  df[ohe.get_feature_names_out()] = ohe_transformed\n",
      "C:\\Users\\Professional\\AppData\\Local\\Temp\\ipykernel_7676\\2220107148.py:2: PerformanceWarning: DataFrame is highly fragmented.  This is usually the result of calling `frame.insert` many times, which has poor performance.  Consider joining all columns at once using pd.concat(axis=1) instead. To get a de-fragmented frame, use `newframe = frame.copy()`\n",
      "  df[ohe.get_feature_names_out()] = ohe_transformed\n",
      "C:\\Users\\Professional\\AppData\\Local\\Temp\\ipykernel_7676\\2220107148.py:2: PerformanceWarning: DataFrame is highly fragmented.  This is usually the result of calling `frame.insert` many times, which has poor performance.  Consider joining all columns at once using pd.concat(axis=1) instead. To get a de-fragmented frame, use `newframe = frame.copy()`\n",
      "  df[ohe.get_feature_names_out()] = ohe_transformed\n",
      "C:\\Users\\Professional\\AppData\\Local\\Temp\\ipykernel_7676\\2220107148.py:2: PerformanceWarning: DataFrame is highly fragmented.  This is usually the result of calling `frame.insert` many times, which has poor performance.  Consider joining all columns at once using pd.concat(axis=1) instead. To get a de-fragmented frame, use `newframe = frame.copy()`\n",
      "  df[ohe.get_feature_names_out()] = ohe_transformed\n",
      "C:\\Users\\Professional\\AppData\\Local\\Temp\\ipykernel_7676\\2220107148.py:2: PerformanceWarning: DataFrame is highly fragmented.  This is usually the result of calling `frame.insert` many times, which has poor performance.  Consider joining all columns at once using pd.concat(axis=1) instead. To get a de-fragmented frame, use `newframe = frame.copy()`\n",
      "  df[ohe.get_feature_names_out()] = ohe_transformed\n",
      "C:\\Users\\Professional\\AppData\\Local\\Temp\\ipykernel_7676\\2220107148.py:2: PerformanceWarning: DataFrame is highly fragmented.  This is usually the result of calling `frame.insert` many times, which has poor performance.  Consider joining all columns at once using pd.concat(axis=1) instead. To get a de-fragmented frame, use `newframe = frame.copy()`\n",
      "  df[ohe.get_feature_names_out()] = ohe_transformed\n",
      "C:\\Users\\Professional\\AppData\\Local\\Temp\\ipykernel_7676\\2220107148.py:2: PerformanceWarning: DataFrame is highly fragmented.  This is usually the result of calling `frame.insert` many times, which has poor performance.  Consider joining all columns at once using pd.concat(axis=1) instead. To get a de-fragmented frame, use `newframe = frame.copy()`\n",
      "  df[ohe.get_feature_names_out()] = ohe_transformed\n",
      "C:\\Users\\Professional\\AppData\\Local\\Temp\\ipykernel_7676\\2220107148.py:2: PerformanceWarning: DataFrame is highly fragmented.  This is usually the result of calling `frame.insert` many times, which has poor performance.  Consider joining all columns at once using pd.concat(axis=1) instead. To get a de-fragmented frame, use `newframe = frame.copy()`\n",
      "  df[ohe.get_feature_names_out()] = ohe_transformed\n",
      "C:\\Users\\Professional\\AppData\\Local\\Temp\\ipykernel_7676\\2220107148.py:2: PerformanceWarning: DataFrame is highly fragmented.  This is usually the result of calling `frame.insert` many times, which has poor performance.  Consider joining all columns at once using pd.concat(axis=1) instead. To get a de-fragmented frame, use `newframe = frame.copy()`\n",
      "  df[ohe.get_feature_names_out()] = ohe_transformed\n",
      "C:\\Users\\Professional\\AppData\\Local\\Temp\\ipykernel_7676\\2220107148.py:2: PerformanceWarning: DataFrame is highly fragmented.  This is usually the result of calling `frame.insert` many times, which has poor performance.  Consider joining all columns at once using pd.concat(axis=1) instead. To get a de-fragmented frame, use `newframe = frame.copy()`\n",
      "  df[ohe.get_feature_names_out()] = ohe_transformed\n",
      "C:\\Users\\Professional\\AppData\\Local\\Temp\\ipykernel_7676\\2220107148.py:2: PerformanceWarning: DataFrame is highly fragmented.  This is usually the result of calling `frame.insert` many times, which has poor performance.  Consider joining all columns at once using pd.concat(axis=1) instead. To get a de-fragmented frame, use `newframe = frame.copy()`\n",
      "  df[ohe.get_feature_names_out()] = ohe_transformed\n",
      "C:\\Users\\Professional\\AppData\\Local\\Temp\\ipykernel_7676\\2220107148.py:2: PerformanceWarning: DataFrame is highly fragmented.  This is usually the result of calling `frame.insert` many times, which has poor performance.  Consider joining all columns at once using pd.concat(axis=1) instead. To get a de-fragmented frame, use `newframe = frame.copy()`\n",
      "  df[ohe.get_feature_names_out()] = ohe_transformed\n",
      "C:\\Users\\Professional\\AppData\\Local\\Temp\\ipykernel_7676\\2220107148.py:2: PerformanceWarning: DataFrame is highly fragmented.  This is usually the result of calling `frame.insert` many times, which has poor performance.  Consider joining all columns at once using pd.concat(axis=1) instead. To get a de-fragmented frame, use `newframe = frame.copy()`\n",
      "  df[ohe.get_feature_names_out()] = ohe_transformed\n",
      "C:\\Users\\Professional\\AppData\\Local\\Temp\\ipykernel_7676\\2220107148.py:2: PerformanceWarning: DataFrame is highly fragmented.  This is usually the result of calling `frame.insert` many times, which has poor performance.  Consider joining all columns at once using pd.concat(axis=1) instead. To get a de-fragmented frame, use `newframe = frame.copy()`\n",
      "  df[ohe.get_feature_names_out()] = ohe_transformed\n",
      "C:\\Users\\Professional\\AppData\\Local\\Temp\\ipykernel_7676\\2220107148.py:2: PerformanceWarning: DataFrame is highly fragmented.  This is usually the result of calling `frame.insert` many times, which has poor performance.  Consider joining all columns at once using pd.concat(axis=1) instead. To get a de-fragmented frame, use `newframe = frame.copy()`\n",
      "  df[ohe.get_feature_names_out()] = ohe_transformed\n",
      "C:\\Users\\Professional\\AppData\\Local\\Temp\\ipykernel_7676\\2220107148.py:2: PerformanceWarning: DataFrame is highly fragmented.  This is usually the result of calling `frame.insert` many times, which has poor performance.  Consider joining all columns at once using pd.concat(axis=1) instead. To get a de-fragmented frame, use `newframe = frame.copy()`\n",
      "  df[ohe.get_feature_names_out()] = ohe_transformed\n",
      "C:\\Users\\Professional\\AppData\\Local\\Temp\\ipykernel_7676\\2220107148.py:2: PerformanceWarning: DataFrame is highly fragmented.  This is usually the result of calling `frame.insert` many times, which has poor performance.  Consider joining all columns at once using pd.concat(axis=1) instead. To get a de-fragmented frame, use `newframe = frame.copy()`\n",
      "  df[ohe.get_feature_names_out()] = ohe_transformed\n",
      "C:\\Users\\Professional\\AppData\\Local\\Temp\\ipykernel_7676\\2220107148.py:2: PerformanceWarning: DataFrame is highly fragmented.  This is usually the result of calling `frame.insert` many times, which has poor performance.  Consider joining all columns at once using pd.concat(axis=1) instead. To get a de-fragmented frame, use `newframe = frame.copy()`\n",
      "  df[ohe.get_feature_names_out()] = ohe_transformed\n",
      "C:\\Users\\Professional\\AppData\\Local\\Temp\\ipykernel_7676\\2220107148.py:2: PerformanceWarning: DataFrame is highly fragmented.  This is usually the result of calling `frame.insert` many times, which has poor performance.  Consider joining all columns at once using pd.concat(axis=1) instead. To get a de-fragmented frame, use `newframe = frame.copy()`\n",
      "  df[ohe.get_feature_names_out()] = ohe_transformed\n",
      "C:\\Users\\Professional\\AppData\\Local\\Temp\\ipykernel_7676\\2220107148.py:2: PerformanceWarning: DataFrame is highly fragmented.  This is usually the result of calling `frame.insert` many times, which has poor performance.  Consider joining all columns at once using pd.concat(axis=1) instead. To get a de-fragmented frame, use `newframe = frame.copy()`\n",
      "  df[ohe.get_feature_names_out()] = ohe_transformed\n",
      "C:\\Users\\Professional\\AppData\\Local\\Temp\\ipykernel_7676\\2220107148.py:2: PerformanceWarning: DataFrame is highly fragmented.  This is usually the result of calling `frame.insert` many times, which has poor performance.  Consider joining all columns at once using pd.concat(axis=1) instead. To get a de-fragmented frame, use `newframe = frame.copy()`\n",
      "  df[ohe.get_feature_names_out()] = ohe_transformed\n",
      "C:\\Users\\Professional\\AppData\\Local\\Temp\\ipykernel_7676\\2220107148.py:2: PerformanceWarning: DataFrame is highly fragmented.  This is usually the result of calling `frame.insert` many times, which has poor performance.  Consider joining all columns at once using pd.concat(axis=1) instead. To get a de-fragmented frame, use `newframe = frame.copy()`\n",
      "  df[ohe.get_feature_names_out()] = ohe_transformed\n",
      "C:\\Users\\Professional\\AppData\\Local\\Temp\\ipykernel_7676\\2220107148.py:2: PerformanceWarning: DataFrame is highly fragmented.  This is usually the result of calling `frame.insert` many times, which has poor performance.  Consider joining all columns at once using pd.concat(axis=1) instead. To get a de-fragmented frame, use `newframe = frame.copy()`\n",
      "  df[ohe.get_feature_names_out()] = ohe_transformed\n",
      "C:\\Users\\Professional\\AppData\\Local\\Temp\\ipykernel_7676\\2220107148.py:2: PerformanceWarning: DataFrame is highly fragmented.  This is usually the result of calling `frame.insert` many times, which has poor performance.  Consider joining all columns at once using pd.concat(axis=1) instead. To get a de-fragmented frame, use `newframe = frame.copy()`\n",
      "  df[ohe.get_feature_names_out()] = ohe_transformed\n",
      "C:\\Users\\Professional\\AppData\\Local\\Temp\\ipykernel_7676\\2220107148.py:2: PerformanceWarning: DataFrame is highly fragmented.  This is usually the result of calling `frame.insert` many times, which has poor performance.  Consider joining all columns at once using pd.concat(axis=1) instead. To get a de-fragmented frame, use `newframe = frame.copy()`\n",
      "  df[ohe.get_feature_names_out()] = ohe_transformed\n",
      "C:\\Users\\Professional\\AppData\\Local\\Temp\\ipykernel_7676\\2220107148.py:2: PerformanceWarning: DataFrame is highly fragmented.  This is usually the result of calling `frame.insert` many times, which has poor performance.  Consider joining all columns at once using pd.concat(axis=1) instead. To get a de-fragmented frame, use `newframe = frame.copy()`\n",
      "  df[ohe.get_feature_names_out()] = ohe_transformed\n",
      "C:\\Users\\Professional\\AppData\\Local\\Temp\\ipykernel_7676\\2220107148.py:2: PerformanceWarning: DataFrame is highly fragmented.  This is usually the result of calling `frame.insert` many times, which has poor performance.  Consider joining all columns at once using pd.concat(axis=1) instead. To get a de-fragmented frame, use `newframe = frame.copy()`\n",
      "  df[ohe.get_feature_names_out()] = ohe_transformed\n",
      "C:\\Users\\Professional\\AppData\\Local\\Temp\\ipykernel_7676\\2220107148.py:2: PerformanceWarning: DataFrame is highly fragmented.  This is usually the result of calling `frame.insert` many times, which has poor performance.  Consider joining all columns at once using pd.concat(axis=1) instead. To get a de-fragmented frame, use `newframe = frame.copy()`\n",
      "  df[ohe.get_feature_names_out()] = ohe_transformed\n",
      "C:\\Users\\Professional\\AppData\\Local\\Temp\\ipykernel_7676\\2220107148.py:2: PerformanceWarning: DataFrame is highly fragmented.  This is usually the result of calling `frame.insert` many times, which has poor performance.  Consider joining all columns at once using pd.concat(axis=1) instead. To get a de-fragmented frame, use `newframe = frame.copy()`\n",
      "  df[ohe.get_feature_names_out()] = ohe_transformed\n",
      "C:\\Users\\Professional\\AppData\\Local\\Temp\\ipykernel_7676\\2220107148.py:2: PerformanceWarning: DataFrame is highly fragmented.  This is usually the result of calling `frame.insert` many times, which has poor performance.  Consider joining all columns at once using pd.concat(axis=1) instead. To get a de-fragmented frame, use `newframe = frame.copy()`\n",
      "  df[ohe.get_feature_names_out()] = ohe_transformed\n",
      "C:\\Users\\Professional\\AppData\\Local\\Temp\\ipykernel_7676\\2220107148.py:2: PerformanceWarning: DataFrame is highly fragmented.  This is usually the result of calling `frame.insert` many times, which has poor performance.  Consider joining all columns at once using pd.concat(axis=1) instead. To get a de-fragmented frame, use `newframe = frame.copy()`\n",
      "  df[ohe.get_feature_names_out()] = ohe_transformed\n",
      "C:\\Users\\Professional\\AppData\\Local\\Temp\\ipykernel_7676\\2220107148.py:2: PerformanceWarning: DataFrame is highly fragmented.  This is usually the result of calling `frame.insert` many times, which has poor performance.  Consider joining all columns at once using pd.concat(axis=1) instead. To get a de-fragmented frame, use `newframe = frame.copy()`\n",
      "  df[ohe.get_feature_names_out()] = ohe_transformed\n",
      "C:\\Users\\Professional\\AppData\\Local\\Temp\\ipykernel_7676\\2220107148.py:2: PerformanceWarning: DataFrame is highly fragmented.  This is usually the result of calling `frame.insert` many times, which has poor performance.  Consider joining all columns at once using pd.concat(axis=1) instead. To get a de-fragmented frame, use `newframe = frame.copy()`\n",
      "  df[ohe.get_feature_names_out()] = ohe_transformed\n",
      "C:\\Users\\Professional\\AppData\\Local\\Temp\\ipykernel_7676\\2220107148.py:2: PerformanceWarning: DataFrame is highly fragmented.  This is usually the result of calling `frame.insert` many times, which has poor performance.  Consider joining all columns at once using pd.concat(axis=1) instead. To get a de-fragmented frame, use `newframe = frame.copy()`\n",
      "  df[ohe.get_feature_names_out()] = ohe_transformed\n",
      "C:\\Users\\Professional\\AppData\\Local\\Temp\\ipykernel_7676\\2220107148.py:2: PerformanceWarning: DataFrame is highly fragmented.  This is usually the result of calling `frame.insert` many times, which has poor performance.  Consider joining all columns at once using pd.concat(axis=1) instead. To get a de-fragmented frame, use `newframe = frame.copy()`\n",
      "  df[ohe.get_feature_names_out()] = ohe_transformed\n",
      "C:\\Users\\Professional\\AppData\\Local\\Temp\\ipykernel_7676\\2220107148.py:2: PerformanceWarning: DataFrame is highly fragmented.  This is usually the result of calling `frame.insert` many times, which has poor performance.  Consider joining all columns at once using pd.concat(axis=1) instead. To get a de-fragmented frame, use `newframe = frame.copy()`\n",
      "  df[ohe.get_feature_names_out()] = ohe_transformed\n",
      "C:\\Users\\Professional\\AppData\\Local\\Temp\\ipykernel_7676\\2220107148.py:2: PerformanceWarning: DataFrame is highly fragmented.  This is usually the result of calling `frame.insert` many times, which has poor performance.  Consider joining all columns at once using pd.concat(axis=1) instead. To get a de-fragmented frame, use `newframe = frame.copy()`\n",
      "  df[ohe.get_feature_names_out()] = ohe_transformed\n",
      "C:\\Users\\Professional\\AppData\\Local\\Temp\\ipykernel_7676\\2220107148.py:2: PerformanceWarning: DataFrame is highly fragmented.  This is usually the result of calling `frame.insert` many times, which has poor performance.  Consider joining all columns at once using pd.concat(axis=1) instead. To get a de-fragmented frame, use `newframe = frame.copy()`\n",
      "  df[ohe.get_feature_names_out()] = ohe_transformed\n",
      "C:\\Users\\Professional\\AppData\\Local\\Temp\\ipykernel_7676\\2220107148.py:2: PerformanceWarning: DataFrame is highly fragmented.  This is usually the result of calling `frame.insert` many times, which has poor performance.  Consider joining all columns at once using pd.concat(axis=1) instead. To get a de-fragmented frame, use `newframe = frame.copy()`\n",
      "  df[ohe.get_feature_names_out()] = ohe_transformed\n",
      "C:\\Users\\Professional\\AppData\\Local\\Temp\\ipykernel_7676\\2220107148.py:2: PerformanceWarning: DataFrame is highly fragmented.  This is usually the result of calling `frame.insert` many times, which has poor performance.  Consider joining all columns at once using pd.concat(axis=1) instead. To get a de-fragmented frame, use `newframe = frame.copy()`\n",
      "  df[ohe.get_feature_names_out()] = ohe_transformed\n",
      "C:\\Users\\Professional\\AppData\\Local\\Temp\\ipykernel_7676\\2220107148.py:2: PerformanceWarning: DataFrame is highly fragmented.  This is usually the result of calling `frame.insert` many times, which has poor performance.  Consider joining all columns at once using pd.concat(axis=1) instead. To get a de-fragmented frame, use `newframe = frame.copy()`\n",
      "  df[ohe.get_feature_names_out()] = ohe_transformed\n",
      "C:\\Users\\Professional\\AppData\\Local\\Temp\\ipykernel_7676\\2220107148.py:2: PerformanceWarning: DataFrame is highly fragmented.  This is usually the result of calling `frame.insert` many times, which has poor performance.  Consider joining all columns at once using pd.concat(axis=1) instead. To get a de-fragmented frame, use `newframe = frame.copy()`\n",
      "  df[ohe.get_feature_names_out()] = ohe_transformed\n",
      "C:\\Users\\Professional\\AppData\\Local\\Temp\\ipykernel_7676\\2220107148.py:2: PerformanceWarning: DataFrame is highly fragmented.  This is usually the result of calling `frame.insert` many times, which has poor performance.  Consider joining all columns at once using pd.concat(axis=1) instead. To get a de-fragmented frame, use `newframe = frame.copy()`\n",
      "  df[ohe.get_feature_names_out()] = ohe_transformed\n",
      "C:\\Users\\Professional\\AppData\\Local\\Temp\\ipykernel_7676\\2220107148.py:2: PerformanceWarning: DataFrame is highly fragmented.  This is usually the result of calling `frame.insert` many times, which has poor performance.  Consider joining all columns at once using pd.concat(axis=1) instead. To get a de-fragmented frame, use `newframe = frame.copy()`\n",
      "  df[ohe.get_feature_names_out()] = ohe_transformed\n",
      "C:\\Users\\Professional\\AppData\\Local\\Temp\\ipykernel_7676\\2220107148.py:2: PerformanceWarning: DataFrame is highly fragmented.  This is usually the result of calling `frame.insert` many times, which has poor performance.  Consider joining all columns at once using pd.concat(axis=1) instead. To get a de-fragmented frame, use `newframe = frame.copy()`\n",
      "  df[ohe.get_feature_names_out()] = ohe_transformed\n",
      "C:\\Users\\Professional\\AppData\\Local\\Temp\\ipykernel_7676\\2220107148.py:2: PerformanceWarning: DataFrame is highly fragmented.  This is usually the result of calling `frame.insert` many times, which has poor performance.  Consider joining all columns at once using pd.concat(axis=1) instead. To get a de-fragmented frame, use `newframe = frame.copy()`\n",
      "  df[ohe.get_feature_names_out()] = ohe_transformed\n",
      "C:\\Users\\Professional\\AppData\\Local\\Temp\\ipykernel_7676\\2220107148.py:2: PerformanceWarning: DataFrame is highly fragmented.  This is usually the result of calling `frame.insert` many times, which has poor performance.  Consider joining all columns at once using pd.concat(axis=1) instead. To get a de-fragmented frame, use `newframe = frame.copy()`\n",
      "  df[ohe.get_feature_names_out()] = ohe_transformed\n",
      "C:\\Users\\Professional\\AppData\\Local\\Temp\\ipykernel_7676\\2220107148.py:2: PerformanceWarning: DataFrame is highly fragmented.  This is usually the result of calling `frame.insert` many times, which has poor performance.  Consider joining all columns at once using pd.concat(axis=1) instead. To get a de-fragmented frame, use `newframe = frame.copy()`\n",
      "  df[ohe.get_feature_names_out()] = ohe_transformed\n",
      "C:\\Users\\Professional\\AppData\\Local\\Temp\\ipykernel_7676\\2220107148.py:2: PerformanceWarning: DataFrame is highly fragmented.  This is usually the result of calling `frame.insert` many times, which has poor performance.  Consider joining all columns at once using pd.concat(axis=1) instead. To get a de-fragmented frame, use `newframe = frame.copy()`\n",
      "  df[ohe.get_feature_names_out()] = ohe_transformed\n",
      "C:\\Users\\Professional\\AppData\\Local\\Temp\\ipykernel_7676\\2220107148.py:2: PerformanceWarning: DataFrame is highly fragmented.  This is usually the result of calling `frame.insert` many times, which has poor performance.  Consider joining all columns at once using pd.concat(axis=1) instead. To get a de-fragmented frame, use `newframe = frame.copy()`\n",
      "  df[ohe.get_feature_names_out()] = ohe_transformed\n",
      "C:\\Users\\Professional\\AppData\\Local\\Temp\\ipykernel_7676\\2220107148.py:2: PerformanceWarning: DataFrame is highly fragmented.  This is usually the result of calling `frame.insert` many times, which has poor performance.  Consider joining all columns at once using pd.concat(axis=1) instead. To get a de-fragmented frame, use `newframe = frame.copy()`\n",
      "  df[ohe.get_feature_names_out()] = ohe_transformed\n",
      "C:\\Users\\Professional\\AppData\\Local\\Temp\\ipykernel_7676\\2220107148.py:2: PerformanceWarning: DataFrame is highly fragmented.  This is usually the result of calling `frame.insert` many times, which has poor performance.  Consider joining all columns at once using pd.concat(axis=1) instead. To get a de-fragmented frame, use `newframe = frame.copy()`\n",
      "  df[ohe.get_feature_names_out()] = ohe_transformed\n",
      "C:\\Users\\Professional\\AppData\\Local\\Temp\\ipykernel_7676\\2220107148.py:2: PerformanceWarning: DataFrame is highly fragmented.  This is usually the result of calling `frame.insert` many times, which has poor performance.  Consider joining all columns at once using pd.concat(axis=1) instead. To get a de-fragmented frame, use `newframe = frame.copy()`\n",
      "  df[ohe.get_feature_names_out()] = ohe_transformed\n",
      "C:\\Users\\Professional\\AppData\\Local\\Temp\\ipykernel_7676\\2220107148.py:2: PerformanceWarning: DataFrame is highly fragmented.  This is usually the result of calling `frame.insert` many times, which has poor performance.  Consider joining all columns at once using pd.concat(axis=1) instead. To get a de-fragmented frame, use `newframe = frame.copy()`\n",
      "  df[ohe.get_feature_names_out()] = ohe_transformed\n",
      "C:\\Users\\Professional\\AppData\\Local\\Temp\\ipykernel_7676\\2220107148.py:2: PerformanceWarning: DataFrame is highly fragmented.  This is usually the result of calling `frame.insert` many times, which has poor performance.  Consider joining all columns at once using pd.concat(axis=1) instead. To get a de-fragmented frame, use `newframe = frame.copy()`\n",
      "  df[ohe.get_feature_names_out()] = ohe_transformed\n",
      "C:\\Users\\Professional\\AppData\\Local\\Temp\\ipykernel_7676\\2220107148.py:2: PerformanceWarning: DataFrame is highly fragmented.  This is usually the result of calling `frame.insert` many times, which has poor performance.  Consider joining all columns at once using pd.concat(axis=1) instead. To get a de-fragmented frame, use `newframe = frame.copy()`\n",
      "  df[ohe.get_feature_names_out()] = ohe_transformed\n",
      "C:\\Users\\Professional\\AppData\\Local\\Temp\\ipykernel_7676\\2220107148.py:2: PerformanceWarning: DataFrame is highly fragmented.  This is usually the result of calling `frame.insert` many times, which has poor performance.  Consider joining all columns at once using pd.concat(axis=1) instead. To get a de-fragmented frame, use `newframe = frame.copy()`\n",
      "  df[ohe.get_feature_names_out()] = ohe_transformed\n",
      "C:\\Users\\Professional\\AppData\\Local\\Temp\\ipykernel_7676\\2220107148.py:2: PerformanceWarning: DataFrame is highly fragmented.  This is usually the result of calling `frame.insert` many times, which has poor performance.  Consider joining all columns at once using pd.concat(axis=1) instead. To get a de-fragmented frame, use `newframe = frame.copy()`\n",
      "  df[ohe.get_feature_names_out()] = ohe_transformed\n",
      "C:\\Users\\Professional\\AppData\\Local\\Temp\\ipykernel_7676\\2220107148.py:2: PerformanceWarning: DataFrame is highly fragmented.  This is usually the result of calling `frame.insert` many times, which has poor performance.  Consider joining all columns at once using pd.concat(axis=1) instead. To get a de-fragmented frame, use `newframe = frame.copy()`\n",
      "  df[ohe.get_feature_names_out()] = ohe_transformed\n",
      "C:\\Users\\Professional\\AppData\\Local\\Temp\\ipykernel_7676\\2220107148.py:2: PerformanceWarning: DataFrame is highly fragmented.  This is usually the result of calling `frame.insert` many times, which has poor performance.  Consider joining all columns at once using pd.concat(axis=1) instead. To get a de-fragmented frame, use `newframe = frame.copy()`\n",
      "  df[ohe.get_feature_names_out()] = ohe_transformed\n",
      "C:\\Users\\Professional\\AppData\\Local\\Temp\\ipykernel_7676\\2220107148.py:2: PerformanceWarning: DataFrame is highly fragmented.  This is usually the result of calling `frame.insert` many times, which has poor performance.  Consider joining all columns at once using pd.concat(axis=1) instead. To get a de-fragmented frame, use `newframe = frame.copy()`\n",
      "  df[ohe.get_feature_names_out()] = ohe_transformed\n",
      "C:\\Users\\Professional\\AppData\\Local\\Temp\\ipykernel_7676\\2220107148.py:2: PerformanceWarning: DataFrame is highly fragmented.  This is usually the result of calling `frame.insert` many times, which has poor performance.  Consider joining all columns at once using pd.concat(axis=1) instead. To get a de-fragmented frame, use `newframe = frame.copy()`\n",
      "  df[ohe.get_feature_names_out()] = ohe_transformed\n",
      "C:\\Users\\Professional\\AppData\\Local\\Temp\\ipykernel_7676\\2220107148.py:2: PerformanceWarning: DataFrame is highly fragmented.  This is usually the result of calling `frame.insert` many times, which has poor performance.  Consider joining all columns at once using pd.concat(axis=1) instead. To get a de-fragmented frame, use `newframe = frame.copy()`\n",
      "  df[ohe.get_feature_names_out()] = ohe_transformed\n",
      "C:\\Users\\Professional\\AppData\\Local\\Temp\\ipykernel_7676\\2220107148.py:2: PerformanceWarning: DataFrame is highly fragmented.  This is usually the result of calling `frame.insert` many times, which has poor performance.  Consider joining all columns at once using pd.concat(axis=1) instead. To get a de-fragmented frame, use `newframe = frame.copy()`\n",
      "  df[ohe.get_feature_names_out()] = ohe_transformed\n",
      "C:\\Users\\Professional\\AppData\\Local\\Temp\\ipykernel_7676\\2220107148.py:2: PerformanceWarning: DataFrame is highly fragmented.  This is usually the result of calling `frame.insert` many times, which has poor performance.  Consider joining all columns at once using pd.concat(axis=1) instead. To get a de-fragmented frame, use `newframe = frame.copy()`\n",
      "  df[ohe.get_feature_names_out()] = ohe_transformed\n",
      "C:\\Users\\Professional\\AppData\\Local\\Temp\\ipykernel_7676\\2220107148.py:2: PerformanceWarning: DataFrame is highly fragmented.  This is usually the result of calling `frame.insert` many times, which has poor performance.  Consider joining all columns at once using pd.concat(axis=1) instead. To get a de-fragmented frame, use `newframe = frame.copy()`\n",
      "  df[ohe.get_feature_names_out()] = ohe_transformed\n",
      "C:\\Users\\Professional\\AppData\\Local\\Temp\\ipykernel_7676\\2220107148.py:2: PerformanceWarning: DataFrame is highly fragmented.  This is usually the result of calling `frame.insert` many times, which has poor performance.  Consider joining all columns at once using pd.concat(axis=1) instead. To get a de-fragmented frame, use `newframe = frame.copy()`\n",
      "  df[ohe.get_feature_names_out()] = ohe_transformed\n",
      "C:\\Users\\Professional\\AppData\\Local\\Temp\\ipykernel_7676\\2220107148.py:2: PerformanceWarning: DataFrame is highly fragmented.  This is usually the result of calling `frame.insert` many times, which has poor performance.  Consider joining all columns at once using pd.concat(axis=1) instead. To get a de-fragmented frame, use `newframe = frame.copy()`\n",
      "  df[ohe.get_feature_names_out()] = ohe_transformed\n",
      "C:\\Users\\Professional\\AppData\\Local\\Temp\\ipykernel_7676\\2220107148.py:2: PerformanceWarning: DataFrame is highly fragmented.  This is usually the result of calling `frame.insert` many times, which has poor performance.  Consider joining all columns at once using pd.concat(axis=1) instead. To get a de-fragmented frame, use `newframe = frame.copy()`\n",
      "  df[ohe.get_feature_names_out()] = ohe_transformed\n",
      "C:\\Users\\Professional\\AppData\\Local\\Temp\\ipykernel_7676\\2220107148.py:2: PerformanceWarning: DataFrame is highly fragmented.  This is usually the result of calling `frame.insert` many times, which has poor performance.  Consider joining all columns at once using pd.concat(axis=1) instead. To get a de-fragmented frame, use `newframe = frame.copy()`\n",
      "  df[ohe.get_feature_names_out()] = ohe_transformed\n",
      "C:\\Users\\Professional\\AppData\\Local\\Temp\\ipykernel_7676\\2220107148.py:2: PerformanceWarning: DataFrame is highly fragmented.  This is usually the result of calling `frame.insert` many times, which has poor performance.  Consider joining all columns at once using pd.concat(axis=1) instead. To get a de-fragmented frame, use `newframe = frame.copy()`\n",
      "  df[ohe.get_feature_names_out()] = ohe_transformed\n",
      "C:\\Users\\Professional\\AppData\\Local\\Temp\\ipykernel_7676\\2220107148.py:2: PerformanceWarning: DataFrame is highly fragmented.  This is usually the result of calling `frame.insert` many times, which has poor performance.  Consider joining all columns at once using pd.concat(axis=1) instead. To get a de-fragmented frame, use `newframe = frame.copy()`\n",
      "  df[ohe.get_feature_names_out()] = ohe_transformed\n",
      "C:\\Users\\Professional\\AppData\\Local\\Temp\\ipykernel_7676\\2220107148.py:2: PerformanceWarning: DataFrame is highly fragmented.  This is usually the result of calling `frame.insert` many times, which has poor performance.  Consider joining all columns at once using pd.concat(axis=1) instead. To get a de-fragmented frame, use `newframe = frame.copy()`\n",
      "  df[ohe.get_feature_names_out()] = ohe_transformed\n",
      "C:\\Users\\Professional\\AppData\\Local\\Temp\\ipykernel_7676\\2220107148.py:2: PerformanceWarning: DataFrame is highly fragmented.  This is usually the result of calling `frame.insert` many times, which has poor performance.  Consider joining all columns at once using pd.concat(axis=1) instead. To get a de-fragmented frame, use `newframe = frame.copy()`\n",
      "  df[ohe.get_feature_names_out()] = ohe_transformed\n",
      "C:\\Users\\Professional\\AppData\\Local\\Temp\\ipykernel_7676\\2220107148.py:2: PerformanceWarning: DataFrame is highly fragmented.  This is usually the result of calling `frame.insert` many times, which has poor performance.  Consider joining all columns at once using pd.concat(axis=1) instead. To get a de-fragmented frame, use `newframe = frame.copy()`\n",
      "  df[ohe.get_feature_names_out()] = ohe_transformed\n",
      "C:\\Users\\Professional\\AppData\\Local\\Temp\\ipykernel_7676\\2220107148.py:2: PerformanceWarning: DataFrame is highly fragmented.  This is usually the result of calling `frame.insert` many times, which has poor performance.  Consider joining all columns at once using pd.concat(axis=1) instead. To get a de-fragmented frame, use `newframe = frame.copy()`\n",
      "  df[ohe.get_feature_names_out()] = ohe_transformed\n",
      "C:\\Users\\Professional\\AppData\\Local\\Temp\\ipykernel_7676\\2220107148.py:2: PerformanceWarning: DataFrame is highly fragmented.  This is usually the result of calling `frame.insert` many times, which has poor performance.  Consider joining all columns at once using pd.concat(axis=1) instead. To get a de-fragmented frame, use `newframe = frame.copy()`\n",
      "  df[ohe.get_feature_names_out()] = ohe_transformed\n",
      "C:\\Users\\Professional\\AppData\\Local\\Temp\\ipykernel_7676\\2220107148.py:2: PerformanceWarning: DataFrame is highly fragmented.  This is usually the result of calling `frame.insert` many times, which has poor performance.  Consider joining all columns at once using pd.concat(axis=1) instead. To get a de-fragmented frame, use `newframe = frame.copy()`\n",
      "  df[ohe.get_feature_names_out()] = ohe_transformed\n",
      "C:\\Users\\Professional\\AppData\\Local\\Temp\\ipykernel_7676\\2220107148.py:2: PerformanceWarning: DataFrame is highly fragmented.  This is usually the result of calling `frame.insert` many times, which has poor performance.  Consider joining all columns at once using pd.concat(axis=1) instead. To get a de-fragmented frame, use `newframe = frame.copy()`\n",
      "  df[ohe.get_feature_names_out()] = ohe_transformed\n",
      "C:\\Users\\Professional\\AppData\\Local\\Temp\\ipykernel_7676\\2220107148.py:2: PerformanceWarning: DataFrame is highly fragmented.  This is usually the result of calling `frame.insert` many times, which has poor performance.  Consider joining all columns at once using pd.concat(axis=1) instead. To get a de-fragmented frame, use `newframe = frame.copy()`\n",
      "  df[ohe.get_feature_names_out()] = ohe_transformed\n",
      "C:\\Users\\Professional\\AppData\\Local\\Temp\\ipykernel_7676\\2220107148.py:2: PerformanceWarning: DataFrame is highly fragmented.  This is usually the result of calling `frame.insert` many times, which has poor performance.  Consider joining all columns at once using pd.concat(axis=1) instead. To get a de-fragmented frame, use `newframe = frame.copy()`\n",
      "  df[ohe.get_feature_names_out()] = ohe_transformed\n",
      "C:\\Users\\Professional\\AppData\\Local\\Temp\\ipykernel_7676\\2220107148.py:2: PerformanceWarning: DataFrame is highly fragmented.  This is usually the result of calling `frame.insert` many times, which has poor performance.  Consider joining all columns at once using pd.concat(axis=1) instead. To get a de-fragmented frame, use `newframe = frame.copy()`\n",
      "  df[ohe.get_feature_names_out()] = ohe_transformed\n",
      "C:\\Users\\Professional\\AppData\\Local\\Temp\\ipykernel_7676\\2220107148.py:2: PerformanceWarning: DataFrame is highly fragmented.  This is usually the result of calling `frame.insert` many times, which has poor performance.  Consider joining all columns at once using pd.concat(axis=1) instead. To get a de-fragmented frame, use `newframe = frame.copy()`\n",
      "  df[ohe.get_feature_names_out()] = ohe_transformed\n",
      "C:\\Users\\Professional\\AppData\\Local\\Temp\\ipykernel_7676\\2220107148.py:2: PerformanceWarning: DataFrame is highly fragmented.  This is usually the result of calling `frame.insert` many times, which has poor performance.  Consider joining all columns at once using pd.concat(axis=1) instead. To get a de-fragmented frame, use `newframe = frame.copy()`\n",
      "  df[ohe.get_feature_names_out()] = ohe_transformed\n",
      "C:\\Users\\Professional\\AppData\\Local\\Temp\\ipykernel_7676\\2220107148.py:2: PerformanceWarning: DataFrame is highly fragmented.  This is usually the result of calling `frame.insert` many times, which has poor performance.  Consider joining all columns at once using pd.concat(axis=1) instead. To get a de-fragmented frame, use `newframe = frame.copy()`\n",
      "  df[ohe.get_feature_names_out()] = ohe_transformed\n",
      "C:\\Users\\Professional\\AppData\\Local\\Temp\\ipykernel_7676\\2220107148.py:2: PerformanceWarning: DataFrame is highly fragmented.  This is usually the result of calling `frame.insert` many times, which has poor performance.  Consider joining all columns at once using pd.concat(axis=1) instead. To get a de-fragmented frame, use `newframe = frame.copy()`\n",
      "  df[ohe.get_feature_names_out()] = ohe_transformed\n",
      "C:\\Users\\Professional\\AppData\\Local\\Temp\\ipykernel_7676\\2220107148.py:2: PerformanceWarning: DataFrame is highly fragmented.  This is usually the result of calling `frame.insert` many times, which has poor performance.  Consider joining all columns at once using pd.concat(axis=1) instead. To get a de-fragmented frame, use `newframe = frame.copy()`\n",
      "  df[ohe.get_feature_names_out()] = ohe_transformed\n",
      "C:\\Users\\Professional\\AppData\\Local\\Temp\\ipykernel_7676\\2220107148.py:2: PerformanceWarning: DataFrame is highly fragmented.  This is usually the result of calling `frame.insert` many times, which has poor performance.  Consider joining all columns at once using pd.concat(axis=1) instead. To get a de-fragmented frame, use `newframe = frame.copy()`\n",
      "  df[ohe.get_feature_names_out()] = ohe_transformed\n",
      "C:\\Users\\Professional\\AppData\\Local\\Temp\\ipykernel_7676\\2220107148.py:2: PerformanceWarning: DataFrame is highly fragmented.  This is usually the result of calling `frame.insert` many times, which has poor performance.  Consider joining all columns at once using pd.concat(axis=1) instead. To get a de-fragmented frame, use `newframe = frame.copy()`\n",
      "  df[ohe.get_feature_names_out()] = ohe_transformed\n",
      "C:\\Users\\Professional\\AppData\\Local\\Temp\\ipykernel_7676\\2220107148.py:2: PerformanceWarning: DataFrame is highly fragmented.  This is usually the result of calling `frame.insert` many times, which has poor performance.  Consider joining all columns at once using pd.concat(axis=1) instead. To get a de-fragmented frame, use `newframe = frame.copy()`\n",
      "  df[ohe.get_feature_names_out()] = ohe_transformed\n",
      "C:\\Users\\Professional\\AppData\\Local\\Temp\\ipykernel_7676\\2220107148.py:2: PerformanceWarning: DataFrame is highly fragmented.  This is usually the result of calling `frame.insert` many times, which has poor performance.  Consider joining all columns at once using pd.concat(axis=1) instead. To get a de-fragmented frame, use `newframe = frame.copy()`\n",
      "  df[ohe.get_feature_names_out()] = ohe_transformed\n",
      "C:\\Users\\Professional\\AppData\\Local\\Temp\\ipykernel_7676\\2220107148.py:2: PerformanceWarning: DataFrame is highly fragmented.  This is usually the result of calling `frame.insert` many times, which has poor performance.  Consider joining all columns at once using pd.concat(axis=1) instead. To get a de-fragmented frame, use `newframe = frame.copy()`\n",
      "  df[ohe.get_feature_names_out()] = ohe_transformed\n",
      "C:\\Users\\Professional\\AppData\\Local\\Temp\\ipykernel_7676\\2220107148.py:2: PerformanceWarning: DataFrame is highly fragmented.  This is usually the result of calling `frame.insert` many times, which has poor performance.  Consider joining all columns at once using pd.concat(axis=1) instead. To get a de-fragmented frame, use `newframe = frame.copy()`\n",
      "  df[ohe.get_feature_names_out()] = ohe_transformed\n",
      "C:\\Users\\Professional\\AppData\\Local\\Temp\\ipykernel_7676\\2220107148.py:2: PerformanceWarning: DataFrame is highly fragmented.  This is usually the result of calling `frame.insert` many times, which has poor performance.  Consider joining all columns at once using pd.concat(axis=1) instead. To get a de-fragmented frame, use `newframe = frame.copy()`\n",
      "  df[ohe.get_feature_names_out()] = ohe_transformed\n",
      "C:\\Users\\Professional\\AppData\\Local\\Temp\\ipykernel_7676\\2220107148.py:2: PerformanceWarning: DataFrame is highly fragmented.  This is usually the result of calling `frame.insert` many times, which has poor performance.  Consider joining all columns at once using pd.concat(axis=1) instead. To get a de-fragmented frame, use `newframe = frame.copy()`\n",
      "  df[ohe.get_feature_names_out()] = ohe_transformed\n",
      "C:\\Users\\Professional\\AppData\\Local\\Temp\\ipykernel_7676\\2220107148.py:2: PerformanceWarning: DataFrame is highly fragmented.  This is usually the result of calling `frame.insert` many times, which has poor performance.  Consider joining all columns at once using pd.concat(axis=1) instead. To get a de-fragmented frame, use `newframe = frame.copy()`\n",
      "  df[ohe.get_feature_names_out()] = ohe_transformed\n",
      "C:\\Users\\Professional\\AppData\\Local\\Temp\\ipykernel_7676\\2220107148.py:2: PerformanceWarning: DataFrame is highly fragmented.  This is usually the result of calling `frame.insert` many times, which has poor performance.  Consider joining all columns at once using pd.concat(axis=1) instead. To get a de-fragmented frame, use `newframe = frame.copy()`\n",
      "  df[ohe.get_feature_names_out()] = ohe_transformed\n",
      "C:\\Users\\Professional\\AppData\\Local\\Temp\\ipykernel_7676\\2220107148.py:2: PerformanceWarning: DataFrame is highly fragmented.  This is usually the result of calling `frame.insert` many times, which has poor performance.  Consider joining all columns at once using pd.concat(axis=1) instead. To get a de-fragmented frame, use `newframe = frame.copy()`\n",
      "  df[ohe.get_feature_names_out()] = ohe_transformed\n",
      "C:\\Users\\Professional\\AppData\\Local\\Temp\\ipykernel_7676\\2220107148.py:2: PerformanceWarning: DataFrame is highly fragmented.  This is usually the result of calling `frame.insert` many times, which has poor performance.  Consider joining all columns at once using pd.concat(axis=1) instead. To get a de-fragmented frame, use `newframe = frame.copy()`\n",
      "  df[ohe.get_feature_names_out()] = ohe_transformed\n",
      "C:\\Users\\Professional\\AppData\\Local\\Temp\\ipykernel_7676\\2220107148.py:2: PerformanceWarning: DataFrame is highly fragmented.  This is usually the result of calling `frame.insert` many times, which has poor performance.  Consider joining all columns at once using pd.concat(axis=1) instead. To get a de-fragmented frame, use `newframe = frame.copy()`\n",
      "  df[ohe.get_feature_names_out()] = ohe_transformed\n",
      "C:\\Users\\Professional\\AppData\\Local\\Temp\\ipykernel_7676\\2220107148.py:2: PerformanceWarning: DataFrame is highly fragmented.  This is usually the result of calling `frame.insert` many times, which has poor performance.  Consider joining all columns at once using pd.concat(axis=1) instead. To get a de-fragmented frame, use `newframe = frame.copy()`\n",
      "  df[ohe.get_feature_names_out()] = ohe_transformed\n",
      "C:\\Users\\Professional\\AppData\\Local\\Temp\\ipykernel_7676\\2220107148.py:2: PerformanceWarning: DataFrame is highly fragmented.  This is usually the result of calling `frame.insert` many times, which has poor performance.  Consider joining all columns at once using pd.concat(axis=1) instead. To get a de-fragmented frame, use `newframe = frame.copy()`\n",
      "  df[ohe.get_feature_names_out()] = ohe_transformed\n",
      "C:\\Users\\Professional\\AppData\\Local\\Temp\\ipykernel_7676\\2220107148.py:2: PerformanceWarning: DataFrame is highly fragmented.  This is usually the result of calling `frame.insert` many times, which has poor performance.  Consider joining all columns at once using pd.concat(axis=1) instead. To get a de-fragmented frame, use `newframe = frame.copy()`\n",
      "  df[ohe.get_feature_names_out()] = ohe_transformed\n",
      "C:\\Users\\Professional\\AppData\\Local\\Temp\\ipykernel_7676\\2220107148.py:2: PerformanceWarning: DataFrame is highly fragmented.  This is usually the result of calling `frame.insert` many times, which has poor performance.  Consider joining all columns at once using pd.concat(axis=1) instead. To get a de-fragmented frame, use `newframe = frame.copy()`\n",
      "  df[ohe.get_feature_names_out()] = ohe_transformed\n",
      "C:\\Users\\Professional\\AppData\\Local\\Temp\\ipykernel_7676\\2220107148.py:2: PerformanceWarning: DataFrame is highly fragmented.  This is usually the result of calling `frame.insert` many times, which has poor performance.  Consider joining all columns at once using pd.concat(axis=1) instead. To get a de-fragmented frame, use `newframe = frame.copy()`\n",
      "  df[ohe.get_feature_names_out()] = ohe_transformed\n",
      "C:\\Users\\Professional\\AppData\\Local\\Temp\\ipykernel_7676\\2220107148.py:2: PerformanceWarning: DataFrame is highly fragmented.  This is usually the result of calling `frame.insert` many times, which has poor performance.  Consider joining all columns at once using pd.concat(axis=1) instead. To get a de-fragmented frame, use `newframe = frame.copy()`\n",
      "  df[ohe.get_feature_names_out()] = ohe_transformed\n",
      "C:\\Users\\Professional\\AppData\\Local\\Temp\\ipykernel_7676\\2220107148.py:2: PerformanceWarning: DataFrame is highly fragmented.  This is usually the result of calling `frame.insert` many times, which has poor performance.  Consider joining all columns at once using pd.concat(axis=1) instead. To get a de-fragmented frame, use `newframe = frame.copy()`\n",
      "  df[ohe.get_feature_names_out()] = ohe_transformed\n",
      "C:\\Users\\Professional\\AppData\\Local\\Temp\\ipykernel_7676\\2220107148.py:2: PerformanceWarning: DataFrame is highly fragmented.  This is usually the result of calling `frame.insert` many times, which has poor performance.  Consider joining all columns at once using pd.concat(axis=1) instead. To get a de-fragmented frame, use `newframe = frame.copy()`\n",
      "  df[ohe.get_feature_names_out()] = ohe_transformed\n",
      "C:\\Users\\Professional\\AppData\\Local\\Temp\\ipykernel_7676\\2220107148.py:2: PerformanceWarning: DataFrame is highly fragmented.  This is usually the result of calling `frame.insert` many times, which has poor performance.  Consider joining all columns at once using pd.concat(axis=1) instead. To get a de-fragmented frame, use `newframe = frame.copy()`\n",
      "  df[ohe.get_feature_names_out()] = ohe_transformed\n",
      "C:\\Users\\Professional\\AppData\\Local\\Temp\\ipykernel_7676\\2220107148.py:2: PerformanceWarning: DataFrame is highly fragmented.  This is usually the result of calling `frame.insert` many times, which has poor performance.  Consider joining all columns at once using pd.concat(axis=1) instead. To get a de-fragmented frame, use `newframe = frame.copy()`\n",
      "  df[ohe.get_feature_names_out()] = ohe_transformed\n",
      "C:\\Users\\Professional\\AppData\\Local\\Temp\\ipykernel_7676\\2220107148.py:2: PerformanceWarning: DataFrame is highly fragmented.  This is usually the result of calling `frame.insert` many times, which has poor performance.  Consider joining all columns at once using pd.concat(axis=1) instead. To get a de-fragmented frame, use `newframe = frame.copy()`\n",
      "  df[ohe.get_feature_names_out()] = ohe_transformed\n",
      "C:\\Users\\Professional\\AppData\\Local\\Temp\\ipykernel_7676\\2220107148.py:2: PerformanceWarning: DataFrame is highly fragmented.  This is usually the result of calling `frame.insert` many times, which has poor performance.  Consider joining all columns at once using pd.concat(axis=1) instead. To get a de-fragmented frame, use `newframe = frame.copy()`\n",
      "  df[ohe.get_feature_names_out()] = ohe_transformed\n",
      "C:\\Users\\Professional\\AppData\\Local\\Temp\\ipykernel_7676\\2220107148.py:2: PerformanceWarning: DataFrame is highly fragmented.  This is usually the result of calling `frame.insert` many times, which has poor performance.  Consider joining all columns at once using pd.concat(axis=1) instead. To get a de-fragmented frame, use `newframe = frame.copy()`\n",
      "  df[ohe.get_feature_names_out()] = ohe_transformed\n",
      "C:\\Users\\Professional\\AppData\\Local\\Temp\\ipykernel_7676\\2220107148.py:2: PerformanceWarning: DataFrame is highly fragmented.  This is usually the result of calling `frame.insert` many times, which has poor performance.  Consider joining all columns at once using pd.concat(axis=1) instead. To get a de-fragmented frame, use `newframe = frame.copy()`\n",
      "  df[ohe.get_feature_names_out()] = ohe_transformed\n",
      "C:\\Users\\Professional\\AppData\\Local\\Temp\\ipykernel_7676\\2220107148.py:2: PerformanceWarning: DataFrame is highly fragmented.  This is usually the result of calling `frame.insert` many times, which has poor performance.  Consider joining all columns at once using pd.concat(axis=1) instead. To get a de-fragmented frame, use `newframe = frame.copy()`\n",
      "  df[ohe.get_feature_names_out()] = ohe_transformed\n",
      "C:\\Users\\Professional\\AppData\\Local\\Temp\\ipykernel_7676\\2220107148.py:2: PerformanceWarning: DataFrame is highly fragmented.  This is usually the result of calling `frame.insert` many times, which has poor performance.  Consider joining all columns at once using pd.concat(axis=1) instead. To get a de-fragmented frame, use `newframe = frame.copy()`\n",
      "  df[ohe.get_feature_names_out()] = ohe_transformed\n",
      "C:\\Users\\Professional\\AppData\\Local\\Temp\\ipykernel_7676\\2220107148.py:2: PerformanceWarning: DataFrame is highly fragmented.  This is usually the result of calling `frame.insert` many times, which has poor performance.  Consider joining all columns at once using pd.concat(axis=1) instead. To get a de-fragmented frame, use `newframe = frame.copy()`\n",
      "  df[ohe.get_feature_names_out()] = ohe_transformed\n",
      "C:\\Users\\Professional\\AppData\\Local\\Temp\\ipykernel_7676\\2220107148.py:2: PerformanceWarning: DataFrame is highly fragmented.  This is usually the result of calling `frame.insert` many times, which has poor performance.  Consider joining all columns at once using pd.concat(axis=1) instead. To get a de-fragmented frame, use `newframe = frame.copy()`\n",
      "  df[ohe.get_feature_names_out()] = ohe_transformed\n",
      "C:\\Users\\Professional\\AppData\\Local\\Temp\\ipykernel_7676\\2220107148.py:2: PerformanceWarning: DataFrame is highly fragmented.  This is usually the result of calling `frame.insert` many times, which has poor performance.  Consider joining all columns at once using pd.concat(axis=1) instead. To get a de-fragmented frame, use `newframe = frame.copy()`\n",
      "  df[ohe.get_feature_names_out()] = ohe_transformed\n",
      "C:\\Users\\Professional\\AppData\\Local\\Temp\\ipykernel_7676\\2220107148.py:2: PerformanceWarning: DataFrame is highly fragmented.  This is usually the result of calling `frame.insert` many times, which has poor performance.  Consider joining all columns at once using pd.concat(axis=1) instead. To get a de-fragmented frame, use `newframe = frame.copy()`\n",
      "  df[ohe.get_feature_names_out()] = ohe_transformed\n",
      "C:\\Users\\Professional\\AppData\\Local\\Temp\\ipykernel_7676\\2220107148.py:2: PerformanceWarning: DataFrame is highly fragmented.  This is usually the result of calling `frame.insert` many times, which has poor performance.  Consider joining all columns at once using pd.concat(axis=1) instead. To get a de-fragmented frame, use `newframe = frame.copy()`\n",
      "  df[ohe.get_feature_names_out()] = ohe_transformed\n",
      "C:\\Users\\Professional\\AppData\\Local\\Temp\\ipykernel_7676\\2220107148.py:2: PerformanceWarning: DataFrame is highly fragmented.  This is usually the result of calling `frame.insert` many times, which has poor performance.  Consider joining all columns at once using pd.concat(axis=1) instead. To get a de-fragmented frame, use `newframe = frame.copy()`\n",
      "  df[ohe.get_feature_names_out()] = ohe_transformed\n",
      "C:\\Users\\Professional\\AppData\\Local\\Temp\\ipykernel_7676\\2220107148.py:2: PerformanceWarning: DataFrame is highly fragmented.  This is usually the result of calling `frame.insert` many times, which has poor performance.  Consider joining all columns at once using pd.concat(axis=1) instead. To get a de-fragmented frame, use `newframe = frame.copy()`\n",
      "  df[ohe.get_feature_names_out()] = ohe_transformed\n",
      "C:\\Users\\Professional\\AppData\\Local\\Temp\\ipykernel_7676\\2220107148.py:2: PerformanceWarning: DataFrame is highly fragmented.  This is usually the result of calling `frame.insert` many times, which has poor performance.  Consider joining all columns at once using pd.concat(axis=1) instead. To get a de-fragmented frame, use `newframe = frame.copy()`\n",
      "  df[ohe.get_feature_names_out()] = ohe_transformed\n",
      "C:\\Users\\Professional\\AppData\\Local\\Temp\\ipykernel_7676\\2220107148.py:2: PerformanceWarning: DataFrame is highly fragmented.  This is usually the result of calling `frame.insert` many times, which has poor performance.  Consider joining all columns at once using pd.concat(axis=1) instead. To get a de-fragmented frame, use `newframe = frame.copy()`\n",
      "  df[ohe.get_feature_names_out()] = ohe_transformed\n",
      "C:\\Users\\Professional\\AppData\\Local\\Temp\\ipykernel_7676\\2220107148.py:2: PerformanceWarning: DataFrame is highly fragmented.  This is usually the result of calling `frame.insert` many times, which has poor performance.  Consider joining all columns at once using pd.concat(axis=1) instead. To get a de-fragmented frame, use `newframe = frame.copy()`\n",
      "  df[ohe.get_feature_names_out()] = ohe_transformed\n",
      "C:\\Users\\Professional\\AppData\\Local\\Temp\\ipykernel_7676\\2220107148.py:2: PerformanceWarning: DataFrame is highly fragmented.  This is usually the result of calling `frame.insert` many times, which has poor performance.  Consider joining all columns at once using pd.concat(axis=1) instead. To get a de-fragmented frame, use `newframe = frame.copy()`\n",
      "  df[ohe.get_feature_names_out()] = ohe_transformed\n",
      "C:\\Users\\Professional\\AppData\\Local\\Temp\\ipykernel_7676\\2220107148.py:2: PerformanceWarning: DataFrame is highly fragmented.  This is usually the result of calling `frame.insert` many times, which has poor performance.  Consider joining all columns at once using pd.concat(axis=1) instead. To get a de-fragmented frame, use `newframe = frame.copy()`\n",
      "  df[ohe.get_feature_names_out()] = ohe_transformed\n",
      "C:\\Users\\Professional\\AppData\\Local\\Temp\\ipykernel_7676\\2220107148.py:2: PerformanceWarning: DataFrame is highly fragmented.  This is usually the result of calling `frame.insert` many times, which has poor performance.  Consider joining all columns at once using pd.concat(axis=1) instead. To get a de-fragmented frame, use `newframe = frame.copy()`\n",
      "  df[ohe.get_feature_names_out()] = ohe_transformed\n",
      "C:\\Users\\Professional\\AppData\\Local\\Temp\\ipykernel_7676\\2220107148.py:2: PerformanceWarning: DataFrame is highly fragmented.  This is usually the result of calling `frame.insert` many times, which has poor performance.  Consider joining all columns at once using pd.concat(axis=1) instead. To get a de-fragmented frame, use `newframe = frame.copy()`\n",
      "  df[ohe.get_feature_names_out()] = ohe_transformed\n",
      "C:\\Users\\Professional\\AppData\\Local\\Temp\\ipykernel_7676\\2220107148.py:2: PerformanceWarning: DataFrame is highly fragmented.  This is usually the result of calling `frame.insert` many times, which has poor performance.  Consider joining all columns at once using pd.concat(axis=1) instead. To get a de-fragmented frame, use `newframe = frame.copy()`\n",
      "  df[ohe.get_feature_names_out()] = ohe_transformed\n",
      "C:\\Users\\Professional\\AppData\\Local\\Temp\\ipykernel_7676\\2220107148.py:2: PerformanceWarning: DataFrame is highly fragmented.  This is usually the result of calling `frame.insert` many times, which has poor performance.  Consider joining all columns at once using pd.concat(axis=1) instead. To get a de-fragmented frame, use `newframe = frame.copy()`\n",
      "  df[ohe.get_feature_names_out()] = ohe_transformed\n",
      "C:\\Users\\Professional\\AppData\\Local\\Temp\\ipykernel_7676\\2220107148.py:2: PerformanceWarning: DataFrame is highly fragmented.  This is usually the result of calling `frame.insert` many times, which has poor performance.  Consider joining all columns at once using pd.concat(axis=1) instead. To get a de-fragmented frame, use `newframe = frame.copy()`\n",
      "  df[ohe.get_feature_names_out()] = ohe_transformed\n",
      "C:\\Users\\Professional\\AppData\\Local\\Temp\\ipykernel_7676\\2220107148.py:2: PerformanceWarning: DataFrame is highly fragmented.  This is usually the result of calling `frame.insert` many times, which has poor performance.  Consider joining all columns at once using pd.concat(axis=1) instead. To get a de-fragmented frame, use `newframe = frame.copy()`\n",
      "  df[ohe.get_feature_names_out()] = ohe_transformed\n",
      "C:\\Users\\Professional\\AppData\\Local\\Temp\\ipykernel_7676\\2220107148.py:2: PerformanceWarning: DataFrame is highly fragmented.  This is usually the result of calling `frame.insert` many times, which has poor performance.  Consider joining all columns at once using pd.concat(axis=1) instead. To get a de-fragmented frame, use `newframe = frame.copy()`\n",
      "  df[ohe.get_feature_names_out()] = ohe_transformed\n",
      "C:\\Users\\Professional\\AppData\\Local\\Temp\\ipykernel_7676\\2220107148.py:2: PerformanceWarning: DataFrame is highly fragmented.  This is usually the result of calling `frame.insert` many times, which has poor performance.  Consider joining all columns at once using pd.concat(axis=1) instead. To get a de-fragmented frame, use `newframe = frame.copy()`\n",
      "  df[ohe.get_feature_names_out()] = ohe_transformed\n",
      "C:\\Users\\Professional\\AppData\\Local\\Temp\\ipykernel_7676\\2220107148.py:2: PerformanceWarning: DataFrame is highly fragmented.  This is usually the result of calling `frame.insert` many times, which has poor performance.  Consider joining all columns at once using pd.concat(axis=1) instead. To get a de-fragmented frame, use `newframe = frame.copy()`\n",
      "  df[ohe.get_feature_names_out()] = ohe_transformed\n",
      "C:\\Users\\Professional\\AppData\\Local\\Temp\\ipykernel_7676\\2220107148.py:2: PerformanceWarning: DataFrame is highly fragmented.  This is usually the result of calling `frame.insert` many times, which has poor performance.  Consider joining all columns at once using pd.concat(axis=1) instead. To get a de-fragmented frame, use `newframe = frame.copy()`\n",
      "  df[ohe.get_feature_names_out()] = ohe_transformed\n",
      "C:\\Users\\Professional\\AppData\\Local\\Temp\\ipykernel_7676\\2220107148.py:2: PerformanceWarning: DataFrame is highly fragmented.  This is usually the result of calling `frame.insert` many times, which has poor performance.  Consider joining all columns at once using pd.concat(axis=1) instead. To get a de-fragmented frame, use `newframe = frame.copy()`\n",
      "  df[ohe.get_feature_names_out()] = ohe_transformed\n",
      "C:\\Users\\Professional\\AppData\\Local\\Temp\\ipykernel_7676\\2220107148.py:2: PerformanceWarning: DataFrame is highly fragmented.  This is usually the result of calling `frame.insert` many times, which has poor performance.  Consider joining all columns at once using pd.concat(axis=1) instead. To get a de-fragmented frame, use `newframe = frame.copy()`\n",
      "  df[ohe.get_feature_names_out()] = ohe_transformed\n",
      "C:\\Users\\Professional\\AppData\\Local\\Temp\\ipykernel_7676\\2220107148.py:2: PerformanceWarning: DataFrame is highly fragmented.  This is usually the result of calling `frame.insert` many times, which has poor performance.  Consider joining all columns at once using pd.concat(axis=1) instead. To get a de-fragmented frame, use `newframe = frame.copy()`\n",
      "  df[ohe.get_feature_names_out()] = ohe_transformed\n",
      "C:\\Users\\Professional\\AppData\\Local\\Temp\\ipykernel_7676\\2220107148.py:2: PerformanceWarning: DataFrame is highly fragmented.  This is usually the result of calling `frame.insert` many times, which has poor performance.  Consider joining all columns at once using pd.concat(axis=1) instead. To get a de-fragmented frame, use `newframe = frame.copy()`\n",
      "  df[ohe.get_feature_names_out()] = ohe_transformed\n",
      "C:\\Users\\Professional\\AppData\\Local\\Temp\\ipykernel_7676\\2220107148.py:2: PerformanceWarning: DataFrame is highly fragmented.  This is usually the result of calling `frame.insert` many times, which has poor performance.  Consider joining all columns at once using pd.concat(axis=1) instead. To get a de-fragmented frame, use `newframe = frame.copy()`\n",
      "  df[ohe.get_feature_names_out()] = ohe_transformed\n",
      "C:\\Users\\Professional\\AppData\\Local\\Temp\\ipykernel_7676\\2220107148.py:2: PerformanceWarning: DataFrame is highly fragmented.  This is usually the result of calling `frame.insert` many times, which has poor performance.  Consider joining all columns at once using pd.concat(axis=1) instead. To get a de-fragmented frame, use `newframe = frame.copy()`\n",
      "  df[ohe.get_feature_names_out()] = ohe_transformed\n",
      "C:\\Users\\Professional\\AppData\\Local\\Temp\\ipykernel_7676\\2220107148.py:2: PerformanceWarning: DataFrame is highly fragmented.  This is usually the result of calling `frame.insert` many times, which has poor performance.  Consider joining all columns at once using pd.concat(axis=1) instead. To get a de-fragmented frame, use `newframe = frame.copy()`\n",
      "  df[ohe.get_feature_names_out()] = ohe_transformed\n",
      "C:\\Users\\Professional\\AppData\\Local\\Temp\\ipykernel_7676\\2220107148.py:2: PerformanceWarning: DataFrame is highly fragmented.  This is usually the result of calling `frame.insert` many times, which has poor performance.  Consider joining all columns at once using pd.concat(axis=1) instead. To get a de-fragmented frame, use `newframe = frame.copy()`\n",
      "  df[ohe.get_feature_names_out()] = ohe_transformed\n",
      "C:\\Users\\Professional\\AppData\\Local\\Temp\\ipykernel_7676\\2220107148.py:2: PerformanceWarning: DataFrame is highly fragmented.  This is usually the result of calling `frame.insert` many times, which has poor performance.  Consider joining all columns at once using pd.concat(axis=1) instead. To get a de-fragmented frame, use `newframe = frame.copy()`\n",
      "  df[ohe.get_feature_names_out()] = ohe_transformed\n",
      "C:\\Users\\Professional\\AppData\\Local\\Temp\\ipykernel_7676\\2220107148.py:2: PerformanceWarning: DataFrame is highly fragmented.  This is usually the result of calling `frame.insert` many times, which has poor performance.  Consider joining all columns at once using pd.concat(axis=1) instead. To get a de-fragmented frame, use `newframe = frame.copy()`\n",
      "  df[ohe.get_feature_names_out()] = ohe_transformed\n",
      "C:\\Users\\Professional\\AppData\\Local\\Temp\\ipykernel_7676\\2220107148.py:2: PerformanceWarning: DataFrame is highly fragmented.  This is usually the result of calling `frame.insert` many times, which has poor performance.  Consider joining all columns at once using pd.concat(axis=1) instead. To get a de-fragmented frame, use `newframe = frame.copy()`\n",
      "  df[ohe.get_feature_names_out()] = ohe_transformed\n",
      "C:\\Users\\Professional\\AppData\\Local\\Temp\\ipykernel_7676\\2220107148.py:2: PerformanceWarning: DataFrame is highly fragmented.  This is usually the result of calling `frame.insert` many times, which has poor performance.  Consider joining all columns at once using pd.concat(axis=1) instead. To get a de-fragmented frame, use `newframe = frame.copy()`\n",
      "  df[ohe.get_feature_names_out()] = ohe_transformed\n",
      "C:\\Users\\Professional\\AppData\\Local\\Temp\\ipykernel_7676\\2220107148.py:2: PerformanceWarning: DataFrame is highly fragmented.  This is usually the result of calling `frame.insert` many times, which has poor performance.  Consider joining all columns at once using pd.concat(axis=1) instead. To get a de-fragmented frame, use `newframe = frame.copy()`\n",
      "  df[ohe.get_feature_names_out()] = ohe_transformed\n",
      "C:\\Users\\Professional\\AppData\\Local\\Temp\\ipykernel_7676\\2220107148.py:2: PerformanceWarning: DataFrame is highly fragmented.  This is usually the result of calling `frame.insert` many times, which has poor performance.  Consider joining all columns at once using pd.concat(axis=1) instead. To get a de-fragmented frame, use `newframe = frame.copy()`\n",
      "  df[ohe.get_feature_names_out()] = ohe_transformed\n",
      "C:\\Users\\Professional\\AppData\\Local\\Temp\\ipykernel_7676\\2220107148.py:2: PerformanceWarning: DataFrame is highly fragmented.  This is usually the result of calling `frame.insert` many times, which has poor performance.  Consider joining all columns at once using pd.concat(axis=1) instead. To get a de-fragmented frame, use `newframe = frame.copy()`\n",
      "  df[ohe.get_feature_names_out()] = ohe_transformed\n",
      "C:\\Users\\Professional\\AppData\\Local\\Temp\\ipykernel_7676\\2220107148.py:2: PerformanceWarning: DataFrame is highly fragmented.  This is usually the result of calling `frame.insert` many times, which has poor performance.  Consider joining all columns at once using pd.concat(axis=1) instead. To get a de-fragmented frame, use `newframe = frame.copy()`\n",
      "  df[ohe.get_feature_names_out()] = ohe_transformed\n",
      "C:\\Users\\Professional\\AppData\\Local\\Temp\\ipykernel_7676\\2220107148.py:2: PerformanceWarning: DataFrame is highly fragmented.  This is usually the result of calling `frame.insert` many times, which has poor performance.  Consider joining all columns at once using pd.concat(axis=1) instead. To get a de-fragmented frame, use `newframe = frame.copy()`\n",
      "  df[ohe.get_feature_names_out()] = ohe_transformed\n",
      "C:\\Users\\Professional\\AppData\\Local\\Temp\\ipykernel_7676\\2220107148.py:2: PerformanceWarning: DataFrame is highly fragmented.  This is usually the result of calling `frame.insert` many times, which has poor performance.  Consider joining all columns at once using pd.concat(axis=1) instead. To get a de-fragmented frame, use `newframe = frame.copy()`\n",
      "  df[ohe.get_feature_names_out()] = ohe_transformed\n",
      "C:\\Users\\Professional\\AppData\\Local\\Temp\\ipykernel_7676\\2220107148.py:2: PerformanceWarning: DataFrame is highly fragmented.  This is usually the result of calling `frame.insert` many times, which has poor performance.  Consider joining all columns at once using pd.concat(axis=1) instead. To get a de-fragmented frame, use `newframe = frame.copy()`\n",
      "  df[ohe.get_feature_names_out()] = ohe_transformed\n",
      "C:\\Users\\Professional\\AppData\\Local\\Temp\\ipykernel_7676\\2220107148.py:2: PerformanceWarning: DataFrame is highly fragmented.  This is usually the result of calling `frame.insert` many times, which has poor performance.  Consider joining all columns at once using pd.concat(axis=1) instead. To get a de-fragmented frame, use `newframe = frame.copy()`\n",
      "  df[ohe.get_feature_names_out()] = ohe_transformed\n",
      "C:\\Users\\Professional\\AppData\\Local\\Temp\\ipykernel_7676\\2220107148.py:2: PerformanceWarning: DataFrame is highly fragmented.  This is usually the result of calling `frame.insert` many times, which has poor performance.  Consider joining all columns at once using pd.concat(axis=1) instead. To get a de-fragmented frame, use `newframe = frame.copy()`\n",
      "  df[ohe.get_feature_names_out()] = ohe_transformed\n",
      "C:\\Users\\Professional\\AppData\\Local\\Temp\\ipykernel_7676\\2220107148.py:2: PerformanceWarning: DataFrame is highly fragmented.  This is usually the result of calling `frame.insert` many times, which has poor performance.  Consider joining all columns at once using pd.concat(axis=1) instead. To get a de-fragmented frame, use `newframe = frame.copy()`\n",
      "  df[ohe.get_feature_names_out()] = ohe_transformed\n",
      "C:\\Users\\Professional\\AppData\\Local\\Temp\\ipykernel_7676\\2220107148.py:2: PerformanceWarning: DataFrame is highly fragmented.  This is usually the result of calling `frame.insert` many times, which has poor performance.  Consider joining all columns at once using pd.concat(axis=1) instead. To get a de-fragmented frame, use `newframe = frame.copy()`\n",
      "  df[ohe.get_feature_names_out()] = ohe_transformed\n",
      "C:\\Users\\Professional\\AppData\\Local\\Temp\\ipykernel_7676\\2220107148.py:2: PerformanceWarning: DataFrame is highly fragmented.  This is usually the result of calling `frame.insert` many times, which has poor performance.  Consider joining all columns at once using pd.concat(axis=1) instead. To get a de-fragmented frame, use `newframe = frame.copy()`\n",
      "  df[ohe.get_feature_names_out()] = ohe_transformed\n",
      "C:\\Users\\Professional\\AppData\\Local\\Temp\\ipykernel_7676\\2220107148.py:2: PerformanceWarning: DataFrame is highly fragmented.  This is usually the result of calling `frame.insert` many times, which has poor performance.  Consider joining all columns at once using pd.concat(axis=1) instead. To get a de-fragmented frame, use `newframe = frame.copy()`\n",
      "  df[ohe.get_feature_names_out()] = ohe_transformed\n",
      "C:\\Users\\Professional\\AppData\\Local\\Temp\\ipykernel_7676\\2220107148.py:2: PerformanceWarning: DataFrame is highly fragmented.  This is usually the result of calling `frame.insert` many times, which has poor performance.  Consider joining all columns at once using pd.concat(axis=1) instead. To get a de-fragmented frame, use `newframe = frame.copy()`\n",
      "  df[ohe.get_feature_names_out()] = ohe_transformed\n",
      "C:\\Users\\Professional\\AppData\\Local\\Temp\\ipykernel_7676\\2220107148.py:2: PerformanceWarning: DataFrame is highly fragmented.  This is usually the result of calling `frame.insert` many times, which has poor performance.  Consider joining all columns at once using pd.concat(axis=1) instead. To get a de-fragmented frame, use `newframe = frame.copy()`\n",
      "  df[ohe.get_feature_names_out()] = ohe_transformed\n",
      "C:\\Users\\Professional\\AppData\\Local\\Temp\\ipykernel_7676\\2220107148.py:2: PerformanceWarning: DataFrame is highly fragmented.  This is usually the result of calling `frame.insert` many times, which has poor performance.  Consider joining all columns at once using pd.concat(axis=1) instead. To get a de-fragmented frame, use `newframe = frame.copy()`\n",
      "  df[ohe.get_feature_names_out()] = ohe_transformed\n",
      "C:\\Users\\Professional\\AppData\\Local\\Temp\\ipykernel_7676\\2220107148.py:2: PerformanceWarning: DataFrame is highly fragmented.  This is usually the result of calling `frame.insert` many times, which has poor performance.  Consider joining all columns at once using pd.concat(axis=1) instead. To get a de-fragmented frame, use `newframe = frame.copy()`\n",
      "  df[ohe.get_feature_names_out()] = ohe_transformed\n",
      "C:\\Users\\Professional\\AppData\\Local\\Temp\\ipykernel_7676\\2220107148.py:2: PerformanceWarning: DataFrame is highly fragmented.  This is usually the result of calling `frame.insert` many times, which has poor performance.  Consider joining all columns at once using pd.concat(axis=1) instead. To get a de-fragmented frame, use `newframe = frame.copy()`\n",
      "  df[ohe.get_feature_names_out()] = ohe_transformed\n",
      "C:\\Users\\Professional\\AppData\\Local\\Temp\\ipykernel_7676\\2220107148.py:2: PerformanceWarning: DataFrame is highly fragmented.  This is usually the result of calling `frame.insert` many times, which has poor performance.  Consider joining all columns at once using pd.concat(axis=1) instead. To get a de-fragmented frame, use `newframe = frame.copy()`\n",
      "  df[ohe.get_feature_names_out()] = ohe_transformed\n",
      "C:\\Users\\Professional\\AppData\\Local\\Temp\\ipykernel_7676\\2220107148.py:2: PerformanceWarning: DataFrame is highly fragmented.  This is usually the result of calling `frame.insert` many times, which has poor performance.  Consider joining all columns at once using pd.concat(axis=1) instead. To get a de-fragmented frame, use `newframe = frame.copy()`\n",
      "  df[ohe.get_feature_names_out()] = ohe_transformed\n",
      "C:\\Users\\Professional\\AppData\\Local\\Temp\\ipykernel_7676\\2220107148.py:2: PerformanceWarning: DataFrame is highly fragmented.  This is usually the result of calling `frame.insert` many times, which has poor performance.  Consider joining all columns at once using pd.concat(axis=1) instead. To get a de-fragmented frame, use `newframe = frame.copy()`\n",
      "  df[ohe.get_feature_names_out()] = ohe_transformed\n",
      "C:\\Users\\Professional\\AppData\\Local\\Temp\\ipykernel_7676\\2220107148.py:2: PerformanceWarning: DataFrame is highly fragmented.  This is usually the result of calling `frame.insert` many times, which has poor performance.  Consider joining all columns at once using pd.concat(axis=1) instead. To get a de-fragmented frame, use `newframe = frame.copy()`\n",
      "  df[ohe.get_feature_names_out()] = ohe_transformed\n",
      "C:\\Users\\Professional\\AppData\\Local\\Temp\\ipykernel_7676\\2220107148.py:2: PerformanceWarning: DataFrame is highly fragmented.  This is usually the result of calling `frame.insert` many times, which has poor performance.  Consider joining all columns at once using pd.concat(axis=1) instead. To get a de-fragmented frame, use `newframe = frame.copy()`\n",
      "  df[ohe.get_feature_names_out()] = ohe_transformed\n",
      "C:\\Users\\Professional\\AppData\\Local\\Temp\\ipykernel_7676\\2220107148.py:2: PerformanceWarning: DataFrame is highly fragmented.  This is usually the result of calling `frame.insert` many times, which has poor performance.  Consider joining all columns at once using pd.concat(axis=1) instead. To get a de-fragmented frame, use `newframe = frame.copy()`\n",
      "  df[ohe.get_feature_names_out()] = ohe_transformed\n",
      "C:\\Users\\Professional\\AppData\\Local\\Temp\\ipykernel_7676\\2220107148.py:2: PerformanceWarning: DataFrame is highly fragmented.  This is usually the result of calling `frame.insert` many times, which has poor performance.  Consider joining all columns at once using pd.concat(axis=1) instead. To get a de-fragmented frame, use `newframe = frame.copy()`\n",
      "  df[ohe.get_feature_names_out()] = ohe_transformed\n",
      "C:\\Users\\Professional\\AppData\\Local\\Temp\\ipykernel_7676\\2220107148.py:2: PerformanceWarning: DataFrame is highly fragmented.  This is usually the result of calling `frame.insert` many times, which has poor performance.  Consider joining all columns at once using pd.concat(axis=1) instead. To get a de-fragmented frame, use `newframe = frame.copy()`\n",
      "  df[ohe.get_feature_names_out()] = ohe_transformed\n",
      "C:\\Users\\Professional\\AppData\\Local\\Temp\\ipykernel_7676\\2220107148.py:2: PerformanceWarning: DataFrame is highly fragmented.  This is usually the result of calling `frame.insert` many times, which has poor performance.  Consider joining all columns at once using pd.concat(axis=1) instead. To get a de-fragmented frame, use `newframe = frame.copy()`\n",
      "  df[ohe.get_feature_names_out()] = ohe_transformed\n",
      "C:\\Users\\Professional\\AppData\\Local\\Temp\\ipykernel_7676\\2220107148.py:2: PerformanceWarning: DataFrame is highly fragmented.  This is usually the result of calling `frame.insert` many times, which has poor performance.  Consider joining all columns at once using pd.concat(axis=1) instead. To get a de-fragmented frame, use `newframe = frame.copy()`\n",
      "  df[ohe.get_feature_names_out()] = ohe_transformed\n",
      "C:\\Users\\Professional\\AppData\\Local\\Temp\\ipykernel_7676\\2220107148.py:2: PerformanceWarning: DataFrame is highly fragmented.  This is usually the result of calling `frame.insert` many times, which has poor performance.  Consider joining all columns at once using pd.concat(axis=1) instead. To get a de-fragmented frame, use `newframe = frame.copy()`\n",
      "  df[ohe.get_feature_names_out()] = ohe_transformed\n",
      "C:\\Users\\Professional\\AppData\\Local\\Temp\\ipykernel_7676\\2220107148.py:2: PerformanceWarning: DataFrame is highly fragmented.  This is usually the result of calling `frame.insert` many times, which has poor performance.  Consider joining all columns at once using pd.concat(axis=1) instead. To get a de-fragmented frame, use `newframe = frame.copy()`\n",
      "  df[ohe.get_feature_names_out()] = ohe_transformed\n",
      "C:\\Users\\Professional\\AppData\\Local\\Temp\\ipykernel_7676\\2220107148.py:2: PerformanceWarning: DataFrame is highly fragmented.  This is usually the result of calling `frame.insert` many times, which has poor performance.  Consider joining all columns at once using pd.concat(axis=1) instead. To get a de-fragmented frame, use `newframe = frame.copy()`\n",
      "  df[ohe.get_feature_names_out()] = ohe_transformed\n",
      "C:\\Users\\Professional\\AppData\\Local\\Temp\\ipykernel_7676\\2220107148.py:2: PerformanceWarning: DataFrame is highly fragmented.  This is usually the result of calling `frame.insert` many times, which has poor performance.  Consider joining all columns at once using pd.concat(axis=1) instead. To get a de-fragmented frame, use `newframe = frame.copy()`\n",
      "  df[ohe.get_feature_names_out()] = ohe_transformed\n",
      "C:\\Users\\Professional\\AppData\\Local\\Temp\\ipykernel_7676\\2220107148.py:2: PerformanceWarning: DataFrame is highly fragmented.  This is usually the result of calling `frame.insert` many times, which has poor performance.  Consider joining all columns at once using pd.concat(axis=1) instead. To get a de-fragmented frame, use `newframe = frame.copy()`\n",
      "  df[ohe.get_feature_names_out()] = ohe_transformed\n",
      "C:\\Users\\Professional\\AppData\\Local\\Temp\\ipykernel_7676\\2220107148.py:2: PerformanceWarning: DataFrame is highly fragmented.  This is usually the result of calling `frame.insert` many times, which has poor performance.  Consider joining all columns at once using pd.concat(axis=1) instead. To get a de-fragmented frame, use `newframe = frame.copy()`\n",
      "  df[ohe.get_feature_names_out()] = ohe_transformed\n",
      "C:\\Users\\Professional\\AppData\\Local\\Temp\\ipykernel_7676\\2220107148.py:2: PerformanceWarning: DataFrame is highly fragmented.  This is usually the result of calling `frame.insert` many times, which has poor performance.  Consider joining all columns at once using pd.concat(axis=1) instead. To get a de-fragmented frame, use `newframe = frame.copy()`\n",
      "  df[ohe.get_feature_names_out()] = ohe_transformed\n",
      "C:\\Users\\Professional\\AppData\\Local\\Temp\\ipykernel_7676\\2220107148.py:2: PerformanceWarning: DataFrame is highly fragmented.  This is usually the result of calling `frame.insert` many times, which has poor performance.  Consider joining all columns at once using pd.concat(axis=1) instead. To get a de-fragmented frame, use `newframe = frame.copy()`\n",
      "  df[ohe.get_feature_names_out()] = ohe_transformed\n",
      "C:\\Users\\Professional\\AppData\\Local\\Temp\\ipykernel_7676\\2220107148.py:2: PerformanceWarning: DataFrame is highly fragmented.  This is usually the result of calling `frame.insert` many times, which has poor performance.  Consider joining all columns at once using pd.concat(axis=1) instead. To get a de-fragmented frame, use `newframe = frame.copy()`\n",
      "  df[ohe.get_feature_names_out()] = ohe_transformed\n",
      "C:\\Users\\Professional\\AppData\\Local\\Temp\\ipykernel_7676\\2220107148.py:2: PerformanceWarning: DataFrame is highly fragmented.  This is usually the result of calling `frame.insert` many times, which has poor performance.  Consider joining all columns at once using pd.concat(axis=1) instead. To get a de-fragmented frame, use `newframe = frame.copy()`\n",
      "  df[ohe.get_feature_names_out()] = ohe_transformed\n",
      "C:\\Users\\Professional\\AppData\\Local\\Temp\\ipykernel_7676\\2220107148.py:2: PerformanceWarning: DataFrame is highly fragmented.  This is usually the result of calling `frame.insert` many times, which has poor performance.  Consider joining all columns at once using pd.concat(axis=1) instead. To get a de-fragmented frame, use `newframe = frame.copy()`\n",
      "  df[ohe.get_feature_names_out()] = ohe_transformed\n",
      "C:\\Users\\Professional\\AppData\\Local\\Temp\\ipykernel_7676\\2220107148.py:2: PerformanceWarning: DataFrame is highly fragmented.  This is usually the result of calling `frame.insert` many times, which has poor performance.  Consider joining all columns at once using pd.concat(axis=1) instead. To get a de-fragmented frame, use `newframe = frame.copy()`\n",
      "  df[ohe.get_feature_names_out()] = ohe_transformed\n",
      "C:\\Users\\Professional\\AppData\\Local\\Temp\\ipykernel_7676\\2220107148.py:2: PerformanceWarning: DataFrame is highly fragmented.  This is usually the result of calling `frame.insert` many times, which has poor performance.  Consider joining all columns at once using pd.concat(axis=1) instead. To get a de-fragmented frame, use `newframe = frame.copy()`\n",
      "  df[ohe.get_feature_names_out()] = ohe_transformed\n",
      "C:\\Users\\Professional\\AppData\\Local\\Temp\\ipykernel_7676\\2220107148.py:2: PerformanceWarning: DataFrame is highly fragmented.  This is usually the result of calling `frame.insert` many times, which has poor performance.  Consider joining all columns at once using pd.concat(axis=1) instead. To get a de-fragmented frame, use `newframe = frame.copy()`\n",
      "  df[ohe.get_feature_names_out()] = ohe_transformed\n",
      "C:\\Users\\Professional\\AppData\\Local\\Temp\\ipykernel_7676\\2220107148.py:2: PerformanceWarning: DataFrame is highly fragmented.  This is usually the result of calling `frame.insert` many times, which has poor performance.  Consider joining all columns at once using pd.concat(axis=1) instead. To get a de-fragmented frame, use `newframe = frame.copy()`\n",
      "  df[ohe.get_feature_names_out()] = ohe_transformed\n",
      "C:\\Users\\Professional\\AppData\\Local\\Temp\\ipykernel_7676\\2220107148.py:2: PerformanceWarning: DataFrame is highly fragmented.  This is usually the result of calling `frame.insert` many times, which has poor performance.  Consider joining all columns at once using pd.concat(axis=1) instead. To get a de-fragmented frame, use `newframe = frame.copy()`\n",
      "  df[ohe.get_feature_names_out()] = ohe_transformed\n",
      "C:\\Users\\Professional\\AppData\\Local\\Temp\\ipykernel_7676\\2220107148.py:2: PerformanceWarning: DataFrame is highly fragmented.  This is usually the result of calling `frame.insert` many times, which has poor performance.  Consider joining all columns at once using pd.concat(axis=1) instead. To get a de-fragmented frame, use `newframe = frame.copy()`\n",
      "  df[ohe.get_feature_names_out()] = ohe_transformed\n",
      "C:\\Users\\Professional\\AppData\\Local\\Temp\\ipykernel_7676\\2220107148.py:2: PerformanceWarning: DataFrame is highly fragmented.  This is usually the result of calling `frame.insert` many times, which has poor performance.  Consider joining all columns at once using pd.concat(axis=1) instead. To get a de-fragmented frame, use `newframe = frame.copy()`\n",
      "  df[ohe.get_feature_names_out()] = ohe_transformed\n",
      "C:\\Users\\Professional\\AppData\\Local\\Temp\\ipykernel_7676\\2220107148.py:2: PerformanceWarning: DataFrame is highly fragmented.  This is usually the result of calling `frame.insert` many times, which has poor performance.  Consider joining all columns at once using pd.concat(axis=1) instead. To get a de-fragmented frame, use `newframe = frame.copy()`\n",
      "  df[ohe.get_feature_names_out()] = ohe_transformed\n",
      "C:\\Users\\Professional\\AppData\\Local\\Temp\\ipykernel_7676\\2220107148.py:2: PerformanceWarning: DataFrame is highly fragmented.  This is usually the result of calling `frame.insert` many times, which has poor performance.  Consider joining all columns at once using pd.concat(axis=1) instead. To get a de-fragmented frame, use `newframe = frame.copy()`\n",
      "  df[ohe.get_feature_names_out()] = ohe_transformed\n",
      "C:\\Users\\Professional\\AppData\\Local\\Temp\\ipykernel_7676\\2220107148.py:2: PerformanceWarning: DataFrame is highly fragmented.  This is usually the result of calling `frame.insert` many times, which has poor performance.  Consider joining all columns at once using pd.concat(axis=1) instead. To get a de-fragmented frame, use `newframe = frame.copy()`\n",
      "  df[ohe.get_feature_names_out()] = ohe_transformed\n",
      "C:\\Users\\Professional\\AppData\\Local\\Temp\\ipykernel_7676\\2220107148.py:2: PerformanceWarning: DataFrame is highly fragmented.  This is usually the result of calling `frame.insert` many times, which has poor performance.  Consider joining all columns at once using pd.concat(axis=1) instead. To get a de-fragmented frame, use `newframe = frame.copy()`\n",
      "  df[ohe.get_feature_names_out()] = ohe_transformed\n",
      "C:\\Users\\Professional\\AppData\\Local\\Temp\\ipykernel_7676\\2220107148.py:2: PerformanceWarning: DataFrame is highly fragmented.  This is usually the result of calling `frame.insert` many times, which has poor performance.  Consider joining all columns at once using pd.concat(axis=1) instead. To get a de-fragmented frame, use `newframe = frame.copy()`\n",
      "  df[ohe.get_feature_names_out()] = ohe_transformed\n",
      "C:\\Users\\Professional\\AppData\\Local\\Temp\\ipykernel_7676\\2220107148.py:2: PerformanceWarning: DataFrame is highly fragmented.  This is usually the result of calling `frame.insert` many times, which has poor performance.  Consider joining all columns at once using pd.concat(axis=1) instead. To get a de-fragmented frame, use `newframe = frame.copy()`\n",
      "  df[ohe.get_feature_names_out()] = ohe_transformed\n",
      "C:\\Users\\Professional\\AppData\\Local\\Temp\\ipykernel_7676\\2220107148.py:2: PerformanceWarning: DataFrame is highly fragmented.  This is usually the result of calling `frame.insert` many times, which has poor performance.  Consider joining all columns at once using pd.concat(axis=1) instead. To get a de-fragmented frame, use `newframe = frame.copy()`\n",
      "  df[ohe.get_feature_names_out()] = ohe_transformed\n",
      "C:\\Users\\Professional\\AppData\\Local\\Temp\\ipykernel_7676\\2220107148.py:2: PerformanceWarning: DataFrame is highly fragmented.  This is usually the result of calling `frame.insert` many times, which has poor performance.  Consider joining all columns at once using pd.concat(axis=1) instead. To get a de-fragmented frame, use `newframe = frame.copy()`\n",
      "  df[ohe.get_feature_names_out()] = ohe_transformed\n",
      "C:\\Users\\Professional\\AppData\\Local\\Temp\\ipykernel_7676\\2220107148.py:2: PerformanceWarning: DataFrame is highly fragmented.  This is usually the result of calling `frame.insert` many times, which has poor performance.  Consider joining all columns at once using pd.concat(axis=1) instead. To get a de-fragmented frame, use `newframe = frame.copy()`\n",
      "  df[ohe.get_feature_names_out()] = ohe_transformed\n",
      "C:\\Users\\Professional\\AppData\\Local\\Temp\\ipykernel_7676\\2220107148.py:2: PerformanceWarning: DataFrame is highly fragmented.  This is usually the result of calling `frame.insert` many times, which has poor performance.  Consider joining all columns at once using pd.concat(axis=1) instead. To get a de-fragmented frame, use `newframe = frame.copy()`\n",
      "  df[ohe.get_feature_names_out()] = ohe_transformed\n",
      "C:\\Users\\Professional\\AppData\\Local\\Temp\\ipykernel_7676\\2220107148.py:2: PerformanceWarning: DataFrame is highly fragmented.  This is usually the result of calling `frame.insert` many times, which has poor performance.  Consider joining all columns at once using pd.concat(axis=1) instead. To get a de-fragmented frame, use `newframe = frame.copy()`\n",
      "  df[ohe.get_feature_names_out()] = ohe_transformed\n",
      "C:\\Users\\Professional\\AppData\\Local\\Temp\\ipykernel_7676\\2220107148.py:2: PerformanceWarning: DataFrame is highly fragmented.  This is usually the result of calling `frame.insert` many times, which has poor performance.  Consider joining all columns at once using pd.concat(axis=1) instead. To get a de-fragmented frame, use `newframe = frame.copy()`\n",
      "  df[ohe.get_feature_names_out()] = ohe_transformed\n",
      "C:\\Users\\Professional\\AppData\\Local\\Temp\\ipykernel_7676\\2220107148.py:2: PerformanceWarning: DataFrame is highly fragmented.  This is usually the result of calling `frame.insert` many times, which has poor performance.  Consider joining all columns at once using pd.concat(axis=1) instead. To get a de-fragmented frame, use `newframe = frame.copy()`\n",
      "  df[ohe.get_feature_names_out()] = ohe_transformed\n",
      "C:\\Users\\Professional\\AppData\\Local\\Temp\\ipykernel_7676\\2220107148.py:2: PerformanceWarning: DataFrame is highly fragmented.  This is usually the result of calling `frame.insert` many times, which has poor performance.  Consider joining all columns at once using pd.concat(axis=1) instead. To get a de-fragmented frame, use `newframe = frame.copy()`\n",
      "  df[ohe.get_feature_names_out()] = ohe_transformed\n",
      "C:\\Users\\Professional\\AppData\\Local\\Temp\\ipykernel_7676\\2220107148.py:2: PerformanceWarning: DataFrame is highly fragmented.  This is usually the result of calling `frame.insert` many times, which has poor performance.  Consider joining all columns at once using pd.concat(axis=1) instead. To get a de-fragmented frame, use `newframe = frame.copy()`\n",
      "  df[ohe.get_feature_names_out()] = ohe_transformed\n",
      "C:\\Users\\Professional\\AppData\\Local\\Temp\\ipykernel_7676\\2220107148.py:2: PerformanceWarning: DataFrame is highly fragmented.  This is usually the result of calling `frame.insert` many times, which has poor performance.  Consider joining all columns at once using pd.concat(axis=1) instead. To get a de-fragmented frame, use `newframe = frame.copy()`\n",
      "  df[ohe.get_feature_names_out()] = ohe_transformed\n",
      "C:\\Users\\Professional\\AppData\\Local\\Temp\\ipykernel_7676\\2220107148.py:2: PerformanceWarning: DataFrame is highly fragmented.  This is usually the result of calling `frame.insert` many times, which has poor performance.  Consider joining all columns at once using pd.concat(axis=1) instead. To get a de-fragmented frame, use `newframe = frame.copy()`\n",
      "  df[ohe.get_feature_names_out()] = ohe_transformed\n",
      "C:\\Users\\Professional\\AppData\\Local\\Temp\\ipykernel_7676\\2220107148.py:2: PerformanceWarning: DataFrame is highly fragmented.  This is usually the result of calling `frame.insert` many times, which has poor performance.  Consider joining all columns at once using pd.concat(axis=1) instead. To get a de-fragmented frame, use `newframe = frame.copy()`\n",
      "  df[ohe.get_feature_names_out()] = ohe_transformed\n",
      "C:\\Users\\Professional\\AppData\\Local\\Temp\\ipykernel_7676\\2220107148.py:2: PerformanceWarning: DataFrame is highly fragmented.  This is usually the result of calling `frame.insert` many times, which has poor performance.  Consider joining all columns at once using pd.concat(axis=1) instead. To get a de-fragmented frame, use `newframe = frame.copy()`\n",
      "  df[ohe.get_feature_names_out()] = ohe_transformed\n",
      "C:\\Users\\Professional\\AppData\\Local\\Temp\\ipykernel_7676\\2220107148.py:2: PerformanceWarning: DataFrame is highly fragmented.  This is usually the result of calling `frame.insert` many times, which has poor performance.  Consider joining all columns at once using pd.concat(axis=1) instead. To get a de-fragmented frame, use `newframe = frame.copy()`\n",
      "  df[ohe.get_feature_names_out()] = ohe_transformed\n",
      "C:\\Users\\Professional\\AppData\\Local\\Temp\\ipykernel_7676\\2220107148.py:2: PerformanceWarning: DataFrame is highly fragmented.  This is usually the result of calling `frame.insert` many times, which has poor performance.  Consider joining all columns at once using pd.concat(axis=1) instead. To get a de-fragmented frame, use `newframe = frame.copy()`\n",
      "  df[ohe.get_feature_names_out()] = ohe_transformed\n",
      "C:\\Users\\Professional\\AppData\\Local\\Temp\\ipykernel_7676\\2220107148.py:2: PerformanceWarning: DataFrame is highly fragmented.  This is usually the result of calling `frame.insert` many times, which has poor performance.  Consider joining all columns at once using pd.concat(axis=1) instead. To get a de-fragmented frame, use `newframe = frame.copy()`\n",
      "  df[ohe.get_feature_names_out()] = ohe_transformed\n",
      "C:\\Users\\Professional\\AppData\\Local\\Temp\\ipykernel_7676\\2220107148.py:2: PerformanceWarning: DataFrame is highly fragmented.  This is usually the result of calling `frame.insert` many times, which has poor performance.  Consider joining all columns at once using pd.concat(axis=1) instead. To get a de-fragmented frame, use `newframe = frame.copy()`\n",
      "  df[ohe.get_feature_names_out()] = ohe_transformed\n",
      "C:\\Users\\Professional\\AppData\\Local\\Temp\\ipykernel_7676\\2220107148.py:2: PerformanceWarning: DataFrame is highly fragmented.  This is usually the result of calling `frame.insert` many times, which has poor performance.  Consider joining all columns at once using pd.concat(axis=1) instead. To get a de-fragmented frame, use `newframe = frame.copy()`\n",
      "  df[ohe.get_feature_names_out()] = ohe_transformed\n",
      "C:\\Users\\Professional\\AppData\\Local\\Temp\\ipykernel_7676\\2220107148.py:2: PerformanceWarning: DataFrame is highly fragmented.  This is usually the result of calling `frame.insert` many times, which has poor performance.  Consider joining all columns at once using pd.concat(axis=1) instead. To get a de-fragmented frame, use `newframe = frame.copy()`\n",
      "  df[ohe.get_feature_names_out()] = ohe_transformed\n",
      "C:\\Users\\Professional\\AppData\\Local\\Temp\\ipykernel_7676\\2220107148.py:2: PerformanceWarning: DataFrame is highly fragmented.  This is usually the result of calling `frame.insert` many times, which has poor performance.  Consider joining all columns at once using pd.concat(axis=1) instead. To get a de-fragmented frame, use `newframe = frame.copy()`\n",
      "  df[ohe.get_feature_names_out()] = ohe_transformed\n",
      "C:\\Users\\Professional\\AppData\\Local\\Temp\\ipykernel_7676\\2220107148.py:2: PerformanceWarning: DataFrame is highly fragmented.  This is usually the result of calling `frame.insert` many times, which has poor performance.  Consider joining all columns at once using pd.concat(axis=1) instead. To get a de-fragmented frame, use `newframe = frame.copy()`\n",
      "  df[ohe.get_feature_names_out()] = ohe_transformed\n",
      "C:\\Users\\Professional\\AppData\\Local\\Temp\\ipykernel_7676\\2220107148.py:2: PerformanceWarning: DataFrame is highly fragmented.  This is usually the result of calling `frame.insert` many times, which has poor performance.  Consider joining all columns at once using pd.concat(axis=1) instead. To get a de-fragmented frame, use `newframe = frame.copy()`\n",
      "  df[ohe.get_feature_names_out()] = ohe_transformed\n",
      "C:\\Users\\Professional\\AppData\\Local\\Temp\\ipykernel_7676\\2220107148.py:2: PerformanceWarning: DataFrame is highly fragmented.  This is usually the result of calling `frame.insert` many times, which has poor performance.  Consider joining all columns at once using pd.concat(axis=1) instead. To get a de-fragmented frame, use `newframe = frame.copy()`\n",
      "  df[ohe.get_feature_names_out()] = ohe_transformed\n",
      "C:\\Users\\Professional\\AppData\\Local\\Temp\\ipykernel_7676\\2220107148.py:2: PerformanceWarning: DataFrame is highly fragmented.  This is usually the result of calling `frame.insert` many times, which has poor performance.  Consider joining all columns at once using pd.concat(axis=1) instead. To get a de-fragmented frame, use `newframe = frame.copy()`\n",
      "  df[ohe.get_feature_names_out()] = ohe_transformed\n",
      "C:\\Users\\Professional\\AppData\\Local\\Temp\\ipykernel_7676\\2220107148.py:2: PerformanceWarning: DataFrame is highly fragmented.  This is usually the result of calling `frame.insert` many times, which has poor performance.  Consider joining all columns at once using pd.concat(axis=1) instead. To get a de-fragmented frame, use `newframe = frame.copy()`\n",
      "  df[ohe.get_feature_names_out()] = ohe_transformed\n",
      "C:\\Users\\Professional\\AppData\\Local\\Temp\\ipykernel_7676\\2220107148.py:2: PerformanceWarning: DataFrame is highly fragmented.  This is usually the result of calling `frame.insert` many times, which has poor performance.  Consider joining all columns at once using pd.concat(axis=1) instead. To get a de-fragmented frame, use `newframe = frame.copy()`\n",
      "  df[ohe.get_feature_names_out()] = ohe_transformed\n",
      "C:\\Users\\Professional\\AppData\\Local\\Temp\\ipykernel_7676\\2220107148.py:2: PerformanceWarning: DataFrame is highly fragmented.  This is usually the result of calling `frame.insert` many times, which has poor performance.  Consider joining all columns at once using pd.concat(axis=1) instead. To get a de-fragmented frame, use `newframe = frame.copy()`\n",
      "  df[ohe.get_feature_names_out()] = ohe_transformed\n",
      "C:\\Users\\Professional\\AppData\\Local\\Temp\\ipykernel_7676\\2220107148.py:2: PerformanceWarning: DataFrame is highly fragmented.  This is usually the result of calling `frame.insert` many times, which has poor performance.  Consider joining all columns at once using pd.concat(axis=1) instead. To get a de-fragmented frame, use `newframe = frame.copy()`\n",
      "  df[ohe.get_feature_names_out()] = ohe_transformed\n",
      "C:\\Users\\Professional\\AppData\\Local\\Temp\\ipykernel_7676\\2220107148.py:2: PerformanceWarning: DataFrame is highly fragmented.  This is usually the result of calling `frame.insert` many times, which has poor performance.  Consider joining all columns at once using pd.concat(axis=1) instead. To get a de-fragmented frame, use `newframe = frame.copy()`\n",
      "  df[ohe.get_feature_names_out()] = ohe_transformed\n",
      "C:\\Users\\Professional\\AppData\\Local\\Temp\\ipykernel_7676\\2220107148.py:2: PerformanceWarning: DataFrame is highly fragmented.  This is usually the result of calling `frame.insert` many times, which has poor performance.  Consider joining all columns at once using pd.concat(axis=1) instead. To get a de-fragmented frame, use `newframe = frame.copy()`\n",
      "  df[ohe.get_feature_names_out()] = ohe_transformed\n",
      "C:\\Users\\Professional\\AppData\\Local\\Temp\\ipykernel_7676\\2220107148.py:2: PerformanceWarning: DataFrame is highly fragmented.  This is usually the result of calling `frame.insert` many times, which has poor performance.  Consider joining all columns at once using pd.concat(axis=1) instead. To get a de-fragmented frame, use `newframe = frame.copy()`\n",
      "  df[ohe.get_feature_names_out()] = ohe_transformed\n",
      "C:\\Users\\Professional\\AppData\\Local\\Temp\\ipykernel_7676\\2220107148.py:2: PerformanceWarning: DataFrame is highly fragmented.  This is usually the result of calling `frame.insert` many times, which has poor performance.  Consider joining all columns at once using pd.concat(axis=1) instead. To get a de-fragmented frame, use `newframe = frame.copy()`\n",
      "  df[ohe.get_feature_names_out()] = ohe_transformed\n",
      "C:\\Users\\Professional\\AppData\\Local\\Temp\\ipykernel_7676\\2220107148.py:2: PerformanceWarning: DataFrame is highly fragmented.  This is usually the result of calling `frame.insert` many times, which has poor performance.  Consider joining all columns at once using pd.concat(axis=1) instead. To get a de-fragmented frame, use `newframe = frame.copy()`\n",
      "  df[ohe.get_feature_names_out()] = ohe_transformed\n",
      "C:\\Users\\Professional\\AppData\\Local\\Temp\\ipykernel_7676\\2220107148.py:2: PerformanceWarning: DataFrame is highly fragmented.  This is usually the result of calling `frame.insert` many times, which has poor performance.  Consider joining all columns at once using pd.concat(axis=1) instead. To get a de-fragmented frame, use `newframe = frame.copy()`\n",
      "  df[ohe.get_feature_names_out()] = ohe_transformed\n",
      "C:\\Users\\Professional\\AppData\\Local\\Temp\\ipykernel_7676\\2220107148.py:2: PerformanceWarning: DataFrame is highly fragmented.  This is usually the result of calling `frame.insert` many times, which has poor performance.  Consider joining all columns at once using pd.concat(axis=1) instead. To get a de-fragmented frame, use `newframe = frame.copy()`\n",
      "  df[ohe.get_feature_names_out()] = ohe_transformed\n",
      "C:\\Users\\Professional\\AppData\\Local\\Temp\\ipykernel_7676\\2220107148.py:2: PerformanceWarning: DataFrame is highly fragmented.  This is usually the result of calling `frame.insert` many times, which has poor performance.  Consider joining all columns at once using pd.concat(axis=1) instead. To get a de-fragmented frame, use `newframe = frame.copy()`\n",
      "  df[ohe.get_feature_names_out()] = ohe_transformed\n",
      "C:\\Users\\Professional\\AppData\\Local\\Temp\\ipykernel_7676\\2220107148.py:2: PerformanceWarning: DataFrame is highly fragmented.  This is usually the result of calling `frame.insert` many times, which has poor performance.  Consider joining all columns at once using pd.concat(axis=1) instead. To get a de-fragmented frame, use `newframe = frame.copy()`\n",
      "  df[ohe.get_feature_names_out()] = ohe_transformed\n",
      "C:\\Users\\Professional\\AppData\\Local\\Temp\\ipykernel_7676\\2220107148.py:2: PerformanceWarning: DataFrame is highly fragmented.  This is usually the result of calling `frame.insert` many times, which has poor performance.  Consider joining all columns at once using pd.concat(axis=1) instead. To get a de-fragmented frame, use `newframe = frame.copy()`\n",
      "  df[ohe.get_feature_names_out()] = ohe_transformed\n",
      "C:\\Users\\Professional\\AppData\\Local\\Temp\\ipykernel_7676\\2220107148.py:2: PerformanceWarning: DataFrame is highly fragmented.  This is usually the result of calling `frame.insert` many times, which has poor performance.  Consider joining all columns at once using pd.concat(axis=1) instead. To get a de-fragmented frame, use `newframe = frame.copy()`\n",
      "  df[ohe.get_feature_names_out()] = ohe_transformed\n",
      "C:\\Users\\Professional\\AppData\\Local\\Temp\\ipykernel_7676\\2220107148.py:2: PerformanceWarning: DataFrame is highly fragmented.  This is usually the result of calling `frame.insert` many times, which has poor performance.  Consider joining all columns at once using pd.concat(axis=1) instead. To get a de-fragmented frame, use `newframe = frame.copy()`\n",
      "  df[ohe.get_feature_names_out()] = ohe_transformed\n",
      "C:\\Users\\Professional\\AppData\\Local\\Temp\\ipykernel_7676\\2220107148.py:2: PerformanceWarning: DataFrame is highly fragmented.  This is usually the result of calling `frame.insert` many times, which has poor performance.  Consider joining all columns at once using pd.concat(axis=1) instead. To get a de-fragmented frame, use `newframe = frame.copy()`\n",
      "  df[ohe.get_feature_names_out()] = ohe_transformed\n",
      "C:\\Users\\Professional\\AppData\\Local\\Temp\\ipykernel_7676\\2220107148.py:2: PerformanceWarning: DataFrame is highly fragmented.  This is usually the result of calling `frame.insert` many times, which has poor performance.  Consider joining all columns at once using pd.concat(axis=1) instead. To get a de-fragmented frame, use `newframe = frame.copy()`\n",
      "  df[ohe.get_feature_names_out()] = ohe_transformed\n",
      "C:\\Users\\Professional\\AppData\\Local\\Temp\\ipykernel_7676\\2220107148.py:2: PerformanceWarning: DataFrame is highly fragmented.  This is usually the result of calling `frame.insert` many times, which has poor performance.  Consider joining all columns at once using pd.concat(axis=1) instead. To get a de-fragmented frame, use `newframe = frame.copy()`\n",
      "  df[ohe.get_feature_names_out()] = ohe_transformed\n",
      "C:\\Users\\Professional\\AppData\\Local\\Temp\\ipykernel_7676\\2220107148.py:2: PerformanceWarning: DataFrame is highly fragmented.  This is usually the result of calling `frame.insert` many times, which has poor performance.  Consider joining all columns at once using pd.concat(axis=1) instead. To get a de-fragmented frame, use `newframe = frame.copy()`\n",
      "  df[ohe.get_feature_names_out()] = ohe_transformed\n",
      "C:\\Users\\Professional\\AppData\\Local\\Temp\\ipykernel_7676\\2220107148.py:2: PerformanceWarning: DataFrame is highly fragmented.  This is usually the result of calling `frame.insert` many times, which has poor performance.  Consider joining all columns at once using pd.concat(axis=1) instead. To get a de-fragmented frame, use `newframe = frame.copy()`\n",
      "  df[ohe.get_feature_names_out()] = ohe_transformed\n",
      "C:\\Users\\Professional\\AppData\\Local\\Temp\\ipykernel_7676\\2220107148.py:2: PerformanceWarning: DataFrame is highly fragmented.  This is usually the result of calling `frame.insert` many times, which has poor performance.  Consider joining all columns at once using pd.concat(axis=1) instead. To get a de-fragmented frame, use `newframe = frame.copy()`\n",
      "  df[ohe.get_feature_names_out()] = ohe_transformed\n",
      "C:\\Users\\Professional\\AppData\\Local\\Temp\\ipykernel_7676\\2220107148.py:2: PerformanceWarning: DataFrame is highly fragmented.  This is usually the result of calling `frame.insert` many times, which has poor performance.  Consider joining all columns at once using pd.concat(axis=1) instead. To get a de-fragmented frame, use `newframe = frame.copy()`\n",
      "  df[ohe.get_feature_names_out()] = ohe_transformed\n",
      "C:\\Users\\Professional\\AppData\\Local\\Temp\\ipykernel_7676\\2220107148.py:2: PerformanceWarning: DataFrame is highly fragmented.  This is usually the result of calling `frame.insert` many times, which has poor performance.  Consider joining all columns at once using pd.concat(axis=1) instead. To get a de-fragmented frame, use `newframe = frame.copy()`\n",
      "  df[ohe.get_feature_names_out()] = ohe_transformed\n",
      "C:\\Users\\Professional\\AppData\\Local\\Temp\\ipykernel_7676\\2220107148.py:2: PerformanceWarning: DataFrame is highly fragmented.  This is usually the result of calling `frame.insert` many times, which has poor performance.  Consider joining all columns at once using pd.concat(axis=1) instead. To get a de-fragmented frame, use `newframe = frame.copy()`\n",
      "  df[ohe.get_feature_names_out()] = ohe_transformed\n",
      "C:\\Users\\Professional\\AppData\\Local\\Temp\\ipykernel_7676\\2220107148.py:2: PerformanceWarning: DataFrame is highly fragmented.  This is usually the result of calling `frame.insert` many times, which has poor performance.  Consider joining all columns at once using pd.concat(axis=1) instead. To get a de-fragmented frame, use `newframe = frame.copy()`\n",
      "  df[ohe.get_feature_names_out()] = ohe_transformed\n",
      "C:\\Users\\Professional\\AppData\\Local\\Temp\\ipykernel_7676\\2220107148.py:2: PerformanceWarning: DataFrame is highly fragmented.  This is usually the result of calling `frame.insert` many times, which has poor performance.  Consider joining all columns at once using pd.concat(axis=1) instead. To get a de-fragmented frame, use `newframe = frame.copy()`\n",
      "  df[ohe.get_feature_names_out()] = ohe_transformed\n",
      "C:\\Users\\Professional\\AppData\\Local\\Temp\\ipykernel_7676\\2220107148.py:2: PerformanceWarning: DataFrame is highly fragmented.  This is usually the result of calling `frame.insert` many times, which has poor performance.  Consider joining all columns at once using pd.concat(axis=1) instead. To get a de-fragmented frame, use `newframe = frame.copy()`\n",
      "  df[ohe.get_feature_names_out()] = ohe_transformed\n",
      "C:\\Users\\Professional\\AppData\\Local\\Temp\\ipykernel_7676\\2220107148.py:2: PerformanceWarning: DataFrame is highly fragmented.  This is usually the result of calling `frame.insert` many times, which has poor performance.  Consider joining all columns at once using pd.concat(axis=1) instead. To get a de-fragmented frame, use `newframe = frame.copy()`\n",
      "  df[ohe.get_feature_names_out()] = ohe_transformed\n",
      "C:\\Users\\Professional\\AppData\\Local\\Temp\\ipykernel_7676\\2220107148.py:2: PerformanceWarning: DataFrame is highly fragmented.  This is usually the result of calling `frame.insert` many times, which has poor performance.  Consider joining all columns at once using pd.concat(axis=1) instead. To get a de-fragmented frame, use `newframe = frame.copy()`\n",
      "  df[ohe.get_feature_names_out()] = ohe_transformed\n",
      "C:\\Users\\Professional\\AppData\\Local\\Temp\\ipykernel_7676\\2220107148.py:2: PerformanceWarning: DataFrame is highly fragmented.  This is usually the result of calling `frame.insert` many times, which has poor performance.  Consider joining all columns at once using pd.concat(axis=1) instead. To get a de-fragmented frame, use `newframe = frame.copy()`\n",
      "  df[ohe.get_feature_names_out()] = ohe_transformed\n",
      "C:\\Users\\Professional\\AppData\\Local\\Temp\\ipykernel_7676\\2220107148.py:2: PerformanceWarning: DataFrame is highly fragmented.  This is usually the result of calling `frame.insert` many times, which has poor performance.  Consider joining all columns at once using pd.concat(axis=1) instead. To get a de-fragmented frame, use `newframe = frame.copy()`\n",
      "  df[ohe.get_feature_names_out()] = ohe_transformed\n",
      "C:\\Users\\Professional\\AppData\\Local\\Temp\\ipykernel_7676\\2220107148.py:2: PerformanceWarning: DataFrame is highly fragmented.  This is usually the result of calling `frame.insert` many times, which has poor performance.  Consider joining all columns at once using pd.concat(axis=1) instead. To get a de-fragmented frame, use `newframe = frame.copy()`\n",
      "  df[ohe.get_feature_names_out()] = ohe_transformed\n",
      "C:\\Users\\Professional\\AppData\\Local\\Temp\\ipykernel_7676\\2220107148.py:2: PerformanceWarning: DataFrame is highly fragmented.  This is usually the result of calling `frame.insert` many times, which has poor performance.  Consider joining all columns at once using pd.concat(axis=1) instead. To get a de-fragmented frame, use `newframe = frame.copy()`\n",
      "  df[ohe.get_feature_names_out()] = ohe_transformed\n",
      "C:\\Users\\Professional\\AppData\\Local\\Temp\\ipykernel_7676\\2220107148.py:2: PerformanceWarning: DataFrame is highly fragmented.  This is usually the result of calling `frame.insert` many times, which has poor performance.  Consider joining all columns at once using pd.concat(axis=1) instead. To get a de-fragmented frame, use `newframe = frame.copy()`\n",
      "  df[ohe.get_feature_names_out()] = ohe_transformed\n",
      "C:\\Users\\Professional\\AppData\\Local\\Temp\\ipykernel_7676\\2220107148.py:2: PerformanceWarning: DataFrame is highly fragmented.  This is usually the result of calling `frame.insert` many times, which has poor performance.  Consider joining all columns at once using pd.concat(axis=1) instead. To get a de-fragmented frame, use `newframe = frame.copy()`\n",
      "  df[ohe.get_feature_names_out()] = ohe_transformed\n",
      "C:\\Users\\Professional\\AppData\\Local\\Temp\\ipykernel_7676\\2220107148.py:2: PerformanceWarning: DataFrame is highly fragmented.  This is usually the result of calling `frame.insert` many times, which has poor performance.  Consider joining all columns at once using pd.concat(axis=1) instead. To get a de-fragmented frame, use `newframe = frame.copy()`\n",
      "  df[ohe.get_feature_names_out()] = ohe_transformed\n",
      "C:\\Users\\Professional\\AppData\\Local\\Temp\\ipykernel_7676\\2220107148.py:2: PerformanceWarning: DataFrame is highly fragmented.  This is usually the result of calling `frame.insert` many times, which has poor performance.  Consider joining all columns at once using pd.concat(axis=1) instead. To get a de-fragmented frame, use `newframe = frame.copy()`\n",
      "  df[ohe.get_feature_names_out()] = ohe_transformed\n",
      "C:\\Users\\Professional\\AppData\\Local\\Temp\\ipykernel_7676\\2220107148.py:2: PerformanceWarning: DataFrame is highly fragmented.  This is usually the result of calling `frame.insert` many times, which has poor performance.  Consider joining all columns at once using pd.concat(axis=1) instead. To get a de-fragmented frame, use `newframe = frame.copy()`\n",
      "  df[ohe.get_feature_names_out()] = ohe_transformed\n",
      "C:\\Users\\Professional\\AppData\\Local\\Temp\\ipykernel_7676\\2220107148.py:2: PerformanceWarning: DataFrame is highly fragmented.  This is usually the result of calling `frame.insert` many times, which has poor performance.  Consider joining all columns at once using pd.concat(axis=1) instead. To get a de-fragmented frame, use `newframe = frame.copy()`\n",
      "  df[ohe.get_feature_names_out()] = ohe_transformed\n",
      "C:\\Users\\Professional\\AppData\\Local\\Temp\\ipykernel_7676\\2220107148.py:2: PerformanceWarning: DataFrame is highly fragmented.  This is usually the result of calling `frame.insert` many times, which has poor performance.  Consider joining all columns at once using pd.concat(axis=1) instead. To get a de-fragmented frame, use `newframe = frame.copy()`\n",
      "  df[ohe.get_feature_names_out()] = ohe_transformed\n",
      "C:\\Users\\Professional\\AppData\\Local\\Temp\\ipykernel_7676\\2220107148.py:2: PerformanceWarning: DataFrame is highly fragmented.  This is usually the result of calling `frame.insert` many times, which has poor performance.  Consider joining all columns at once using pd.concat(axis=1) instead. To get a de-fragmented frame, use `newframe = frame.copy()`\n",
      "  df[ohe.get_feature_names_out()] = ohe_transformed\n",
      "C:\\Users\\Professional\\AppData\\Local\\Temp\\ipykernel_7676\\2220107148.py:2: PerformanceWarning: DataFrame is highly fragmented.  This is usually the result of calling `frame.insert` many times, which has poor performance.  Consider joining all columns at once using pd.concat(axis=1) instead. To get a de-fragmented frame, use `newframe = frame.copy()`\n",
      "  df[ohe.get_feature_names_out()] = ohe_transformed\n",
      "C:\\Users\\Professional\\AppData\\Local\\Temp\\ipykernel_7676\\2220107148.py:2: PerformanceWarning: DataFrame is highly fragmented.  This is usually the result of calling `frame.insert` many times, which has poor performance.  Consider joining all columns at once using pd.concat(axis=1) instead. To get a de-fragmented frame, use `newframe = frame.copy()`\n",
      "  df[ohe.get_feature_names_out()] = ohe_transformed\n",
      "C:\\Users\\Professional\\AppData\\Local\\Temp\\ipykernel_7676\\2220107148.py:2: PerformanceWarning: DataFrame is highly fragmented.  This is usually the result of calling `frame.insert` many times, which has poor performance.  Consider joining all columns at once using pd.concat(axis=1) instead. To get a de-fragmented frame, use `newframe = frame.copy()`\n",
      "  df[ohe.get_feature_names_out()] = ohe_transformed\n",
      "C:\\Users\\Professional\\AppData\\Local\\Temp\\ipykernel_7676\\2220107148.py:2: PerformanceWarning: DataFrame is highly fragmented.  This is usually the result of calling `frame.insert` many times, which has poor performance.  Consider joining all columns at once using pd.concat(axis=1) instead. To get a de-fragmented frame, use `newframe = frame.copy()`\n",
      "  df[ohe.get_feature_names_out()] = ohe_transformed\n",
      "C:\\Users\\Professional\\AppData\\Local\\Temp\\ipykernel_7676\\2220107148.py:2: PerformanceWarning: DataFrame is highly fragmented.  This is usually the result of calling `frame.insert` many times, which has poor performance.  Consider joining all columns at once using pd.concat(axis=1) instead. To get a de-fragmented frame, use `newframe = frame.copy()`\n",
      "  df[ohe.get_feature_names_out()] = ohe_transformed\n",
      "C:\\Users\\Professional\\AppData\\Local\\Temp\\ipykernel_7676\\2220107148.py:2: PerformanceWarning: DataFrame is highly fragmented.  This is usually the result of calling `frame.insert` many times, which has poor performance.  Consider joining all columns at once using pd.concat(axis=1) instead. To get a de-fragmented frame, use `newframe = frame.copy()`\n",
      "  df[ohe.get_feature_names_out()] = ohe_transformed\n",
      "C:\\Users\\Professional\\AppData\\Local\\Temp\\ipykernel_7676\\2220107148.py:2: PerformanceWarning: DataFrame is highly fragmented.  This is usually the result of calling `frame.insert` many times, which has poor performance.  Consider joining all columns at once using pd.concat(axis=1) instead. To get a de-fragmented frame, use `newframe = frame.copy()`\n",
      "  df[ohe.get_feature_names_out()] = ohe_transformed\n",
      "C:\\Users\\Professional\\AppData\\Local\\Temp\\ipykernel_7676\\2220107148.py:2: PerformanceWarning: DataFrame is highly fragmented.  This is usually the result of calling `frame.insert` many times, which has poor performance.  Consider joining all columns at once using pd.concat(axis=1) instead. To get a de-fragmented frame, use `newframe = frame.copy()`\n",
      "  df[ohe.get_feature_names_out()] = ohe_transformed\n",
      "C:\\Users\\Professional\\AppData\\Local\\Temp\\ipykernel_7676\\2220107148.py:2: PerformanceWarning: DataFrame is highly fragmented.  This is usually the result of calling `frame.insert` many times, which has poor performance.  Consider joining all columns at once using pd.concat(axis=1) instead. To get a de-fragmented frame, use `newframe = frame.copy()`\n",
      "  df[ohe.get_feature_names_out()] = ohe_transformed\n",
      "C:\\Users\\Professional\\AppData\\Local\\Temp\\ipykernel_7676\\2220107148.py:2: PerformanceWarning: DataFrame is highly fragmented.  This is usually the result of calling `frame.insert` many times, which has poor performance.  Consider joining all columns at once using pd.concat(axis=1) instead. To get a de-fragmented frame, use `newframe = frame.copy()`\n",
      "  df[ohe.get_feature_names_out()] = ohe_transformed\n",
      "C:\\Users\\Professional\\AppData\\Local\\Temp\\ipykernel_7676\\2220107148.py:2: PerformanceWarning: DataFrame is highly fragmented.  This is usually the result of calling `frame.insert` many times, which has poor performance.  Consider joining all columns at once using pd.concat(axis=1) instead. To get a de-fragmented frame, use `newframe = frame.copy()`\n",
      "  df[ohe.get_feature_names_out()] = ohe_transformed\n",
      "C:\\Users\\Professional\\AppData\\Local\\Temp\\ipykernel_7676\\2220107148.py:2: PerformanceWarning: DataFrame is highly fragmented.  This is usually the result of calling `frame.insert` many times, which has poor performance.  Consider joining all columns at once using pd.concat(axis=1) instead. To get a de-fragmented frame, use `newframe = frame.copy()`\n",
      "  df[ohe.get_feature_names_out()] = ohe_transformed\n",
      "C:\\Users\\Professional\\AppData\\Local\\Temp\\ipykernel_7676\\2220107148.py:2: PerformanceWarning: DataFrame is highly fragmented.  This is usually the result of calling `frame.insert` many times, which has poor performance.  Consider joining all columns at once using pd.concat(axis=1) instead. To get a de-fragmented frame, use `newframe = frame.copy()`\n",
      "  df[ohe.get_feature_names_out()] = ohe_transformed\n",
      "C:\\Users\\Professional\\AppData\\Local\\Temp\\ipykernel_7676\\2220107148.py:2: PerformanceWarning: DataFrame is highly fragmented.  This is usually the result of calling `frame.insert` many times, which has poor performance.  Consider joining all columns at once using pd.concat(axis=1) instead. To get a de-fragmented frame, use `newframe = frame.copy()`\n",
      "  df[ohe.get_feature_names_out()] = ohe_transformed\n",
      "C:\\Users\\Professional\\AppData\\Local\\Temp\\ipykernel_7676\\2220107148.py:2: PerformanceWarning: DataFrame is highly fragmented.  This is usually the result of calling `frame.insert` many times, which has poor performance.  Consider joining all columns at once using pd.concat(axis=1) instead. To get a de-fragmented frame, use `newframe = frame.copy()`\n",
      "  df[ohe.get_feature_names_out()] = ohe_transformed\n",
      "C:\\Users\\Professional\\AppData\\Local\\Temp\\ipykernel_7676\\2220107148.py:2: PerformanceWarning: DataFrame is highly fragmented.  This is usually the result of calling `frame.insert` many times, which has poor performance.  Consider joining all columns at once using pd.concat(axis=1) instead. To get a de-fragmented frame, use `newframe = frame.copy()`\n",
      "  df[ohe.get_feature_names_out()] = ohe_transformed\n",
      "C:\\Users\\Professional\\AppData\\Local\\Temp\\ipykernel_7676\\2220107148.py:2: PerformanceWarning: DataFrame is highly fragmented.  This is usually the result of calling `frame.insert` many times, which has poor performance.  Consider joining all columns at once using pd.concat(axis=1) instead. To get a de-fragmented frame, use `newframe = frame.copy()`\n",
      "  df[ohe.get_feature_names_out()] = ohe_transformed\n",
      "C:\\Users\\Professional\\AppData\\Local\\Temp\\ipykernel_7676\\2220107148.py:2: PerformanceWarning: DataFrame is highly fragmented.  This is usually the result of calling `frame.insert` many times, which has poor performance.  Consider joining all columns at once using pd.concat(axis=1) instead. To get a de-fragmented frame, use `newframe = frame.copy()`\n",
      "  df[ohe.get_feature_names_out()] = ohe_transformed\n",
      "C:\\Users\\Professional\\AppData\\Local\\Temp\\ipykernel_7676\\2220107148.py:2: PerformanceWarning: DataFrame is highly fragmented.  This is usually the result of calling `frame.insert` many times, which has poor performance.  Consider joining all columns at once using pd.concat(axis=1) instead. To get a de-fragmented frame, use `newframe = frame.copy()`\n",
      "  df[ohe.get_feature_names_out()] = ohe_transformed\n",
      "C:\\Users\\Professional\\AppData\\Local\\Temp\\ipykernel_7676\\2220107148.py:2: PerformanceWarning: DataFrame is highly fragmented.  This is usually the result of calling `frame.insert` many times, which has poor performance.  Consider joining all columns at once using pd.concat(axis=1) instead. To get a de-fragmented frame, use `newframe = frame.copy()`\n",
      "  df[ohe.get_feature_names_out()] = ohe_transformed\n",
      "C:\\Users\\Professional\\AppData\\Local\\Temp\\ipykernel_7676\\2220107148.py:2: PerformanceWarning: DataFrame is highly fragmented.  This is usually the result of calling `frame.insert` many times, which has poor performance.  Consider joining all columns at once using pd.concat(axis=1) instead. To get a de-fragmented frame, use `newframe = frame.copy()`\n",
      "  df[ohe.get_feature_names_out()] = ohe_transformed\n",
      "C:\\Users\\Professional\\AppData\\Local\\Temp\\ipykernel_7676\\2220107148.py:2: PerformanceWarning: DataFrame is highly fragmented.  This is usually the result of calling `frame.insert` many times, which has poor performance.  Consider joining all columns at once using pd.concat(axis=1) instead. To get a de-fragmented frame, use `newframe = frame.copy()`\n",
      "  df[ohe.get_feature_names_out()] = ohe_transformed\n",
      "C:\\Users\\Professional\\AppData\\Local\\Temp\\ipykernel_7676\\2220107148.py:2: PerformanceWarning: DataFrame is highly fragmented.  This is usually the result of calling `frame.insert` many times, which has poor performance.  Consider joining all columns at once using pd.concat(axis=1) instead. To get a de-fragmented frame, use `newframe = frame.copy()`\n",
      "  df[ohe.get_feature_names_out()] = ohe_transformed\n",
      "C:\\Users\\Professional\\AppData\\Local\\Temp\\ipykernel_7676\\2220107148.py:2: PerformanceWarning: DataFrame is highly fragmented.  This is usually the result of calling `frame.insert` many times, which has poor performance.  Consider joining all columns at once using pd.concat(axis=1) instead. To get a de-fragmented frame, use `newframe = frame.copy()`\n",
      "  df[ohe.get_feature_names_out()] = ohe_transformed\n",
      "C:\\Users\\Professional\\AppData\\Local\\Temp\\ipykernel_7676\\2220107148.py:2: PerformanceWarning: DataFrame is highly fragmented.  This is usually the result of calling `frame.insert` many times, which has poor performance.  Consider joining all columns at once using pd.concat(axis=1) instead. To get a de-fragmented frame, use `newframe = frame.copy()`\n",
      "  df[ohe.get_feature_names_out()] = ohe_transformed\n",
      "C:\\Users\\Professional\\AppData\\Local\\Temp\\ipykernel_7676\\2220107148.py:2: PerformanceWarning: DataFrame is highly fragmented.  This is usually the result of calling `frame.insert` many times, which has poor performance.  Consider joining all columns at once using pd.concat(axis=1) instead. To get a de-fragmented frame, use `newframe = frame.copy()`\n",
      "  df[ohe.get_feature_names_out()] = ohe_transformed\n",
      "C:\\Users\\Professional\\AppData\\Local\\Temp\\ipykernel_7676\\2220107148.py:2: PerformanceWarning: DataFrame is highly fragmented.  This is usually the result of calling `frame.insert` many times, which has poor performance.  Consider joining all columns at once using pd.concat(axis=1) instead. To get a de-fragmented frame, use `newframe = frame.copy()`\n",
      "  df[ohe.get_feature_names_out()] = ohe_transformed\n",
      "C:\\Users\\Professional\\AppData\\Local\\Temp\\ipykernel_7676\\2220107148.py:2: PerformanceWarning: DataFrame is highly fragmented.  This is usually the result of calling `frame.insert` many times, which has poor performance.  Consider joining all columns at once using pd.concat(axis=1) instead. To get a de-fragmented frame, use `newframe = frame.copy()`\n",
      "  df[ohe.get_feature_names_out()] = ohe_transformed\n",
      "C:\\Users\\Professional\\AppData\\Local\\Temp\\ipykernel_7676\\2220107148.py:2: PerformanceWarning: DataFrame is highly fragmented.  This is usually the result of calling `frame.insert` many times, which has poor performance.  Consider joining all columns at once using pd.concat(axis=1) instead. To get a de-fragmented frame, use `newframe = frame.copy()`\n",
      "  df[ohe.get_feature_names_out()] = ohe_transformed\n",
      "C:\\Users\\Professional\\AppData\\Local\\Temp\\ipykernel_7676\\2220107148.py:2: PerformanceWarning: DataFrame is highly fragmented.  This is usually the result of calling `frame.insert` many times, which has poor performance.  Consider joining all columns at once using pd.concat(axis=1) instead. To get a de-fragmented frame, use `newframe = frame.copy()`\n",
      "  df[ohe.get_feature_names_out()] = ohe_transformed\n",
      "C:\\Users\\Professional\\AppData\\Local\\Temp\\ipykernel_7676\\2220107148.py:2: PerformanceWarning: DataFrame is highly fragmented.  This is usually the result of calling `frame.insert` many times, which has poor performance.  Consider joining all columns at once using pd.concat(axis=1) instead. To get a de-fragmented frame, use `newframe = frame.copy()`\n",
      "  df[ohe.get_feature_names_out()] = ohe_transformed\n",
      "C:\\Users\\Professional\\AppData\\Local\\Temp\\ipykernel_7676\\2220107148.py:2: PerformanceWarning: DataFrame is highly fragmented.  This is usually the result of calling `frame.insert` many times, which has poor performance.  Consider joining all columns at once using pd.concat(axis=1) instead. To get a de-fragmented frame, use `newframe = frame.copy()`\n",
      "  df[ohe.get_feature_names_out()] = ohe_transformed\n",
      "C:\\Users\\Professional\\AppData\\Local\\Temp\\ipykernel_7676\\2220107148.py:2: PerformanceWarning: DataFrame is highly fragmented.  This is usually the result of calling `frame.insert` many times, which has poor performance.  Consider joining all columns at once using pd.concat(axis=1) instead. To get a de-fragmented frame, use `newframe = frame.copy()`\n",
      "  df[ohe.get_feature_names_out()] = ohe_transformed\n",
      "C:\\Users\\Professional\\AppData\\Local\\Temp\\ipykernel_7676\\2220107148.py:2: PerformanceWarning: DataFrame is highly fragmented.  This is usually the result of calling `frame.insert` many times, which has poor performance.  Consider joining all columns at once using pd.concat(axis=1) instead. To get a de-fragmented frame, use `newframe = frame.copy()`\n",
      "  df[ohe.get_feature_names_out()] = ohe_transformed\n",
      "C:\\Users\\Professional\\AppData\\Local\\Temp\\ipykernel_7676\\2220107148.py:2: PerformanceWarning: DataFrame is highly fragmented.  This is usually the result of calling `frame.insert` many times, which has poor performance.  Consider joining all columns at once using pd.concat(axis=1) instead. To get a de-fragmented frame, use `newframe = frame.copy()`\n",
      "  df[ohe.get_feature_names_out()] = ohe_transformed\n",
      "C:\\Users\\Professional\\AppData\\Local\\Temp\\ipykernel_7676\\2220107148.py:2: PerformanceWarning: DataFrame is highly fragmented.  This is usually the result of calling `frame.insert` many times, which has poor performance.  Consider joining all columns at once using pd.concat(axis=1) instead. To get a de-fragmented frame, use `newframe = frame.copy()`\n",
      "  df[ohe.get_feature_names_out()] = ohe_transformed\n",
      "C:\\Users\\Professional\\AppData\\Local\\Temp\\ipykernel_7676\\2220107148.py:2: PerformanceWarning: DataFrame is highly fragmented.  This is usually the result of calling `frame.insert` many times, which has poor performance.  Consider joining all columns at once using pd.concat(axis=1) instead. To get a de-fragmented frame, use `newframe = frame.copy()`\n",
      "  df[ohe.get_feature_names_out()] = ohe_transformed\n",
      "C:\\Users\\Professional\\AppData\\Local\\Temp\\ipykernel_7676\\2220107148.py:2: PerformanceWarning: DataFrame is highly fragmented.  This is usually the result of calling `frame.insert` many times, which has poor performance.  Consider joining all columns at once using pd.concat(axis=1) instead. To get a de-fragmented frame, use `newframe = frame.copy()`\n",
      "  df[ohe.get_feature_names_out()] = ohe_transformed\n",
      "C:\\Users\\Professional\\AppData\\Local\\Temp\\ipykernel_7676\\2220107148.py:2: PerformanceWarning: DataFrame is highly fragmented.  This is usually the result of calling `frame.insert` many times, which has poor performance.  Consider joining all columns at once using pd.concat(axis=1) instead. To get a de-fragmented frame, use `newframe = frame.copy()`\n",
      "  df[ohe.get_feature_names_out()] = ohe_transformed\n",
      "C:\\Users\\Professional\\AppData\\Local\\Temp\\ipykernel_7676\\2220107148.py:2: PerformanceWarning: DataFrame is highly fragmented.  This is usually the result of calling `frame.insert` many times, which has poor performance.  Consider joining all columns at once using pd.concat(axis=1) instead. To get a de-fragmented frame, use `newframe = frame.copy()`\n",
      "  df[ohe.get_feature_names_out()] = ohe_transformed\n",
      "C:\\Users\\Professional\\AppData\\Local\\Temp\\ipykernel_7676\\2220107148.py:2: PerformanceWarning: DataFrame is highly fragmented.  This is usually the result of calling `frame.insert` many times, which has poor performance.  Consider joining all columns at once using pd.concat(axis=1) instead. To get a de-fragmented frame, use `newframe = frame.copy()`\n",
      "  df[ohe.get_feature_names_out()] = ohe_transformed\n",
      "C:\\Users\\Professional\\AppData\\Local\\Temp\\ipykernel_7676\\2220107148.py:2: PerformanceWarning: DataFrame is highly fragmented.  This is usually the result of calling `frame.insert` many times, which has poor performance.  Consider joining all columns at once using pd.concat(axis=1) instead. To get a de-fragmented frame, use `newframe = frame.copy()`\n",
      "  df[ohe.get_feature_names_out()] = ohe_transformed\n",
      "C:\\Users\\Professional\\AppData\\Local\\Temp\\ipykernel_7676\\2220107148.py:2: PerformanceWarning: DataFrame is highly fragmented.  This is usually the result of calling `frame.insert` many times, which has poor performance.  Consider joining all columns at once using pd.concat(axis=1) instead. To get a de-fragmented frame, use `newframe = frame.copy()`\n",
      "  df[ohe.get_feature_names_out()] = ohe_transformed\n",
      "C:\\Users\\Professional\\AppData\\Local\\Temp\\ipykernel_7676\\2220107148.py:2: PerformanceWarning: DataFrame is highly fragmented.  This is usually the result of calling `frame.insert` many times, which has poor performance.  Consider joining all columns at once using pd.concat(axis=1) instead. To get a de-fragmented frame, use `newframe = frame.copy()`\n",
      "  df[ohe.get_feature_names_out()] = ohe_transformed\n",
      "C:\\Users\\Professional\\AppData\\Local\\Temp\\ipykernel_7676\\2220107148.py:2: PerformanceWarning: DataFrame is highly fragmented.  This is usually the result of calling `frame.insert` many times, which has poor performance.  Consider joining all columns at once using pd.concat(axis=1) instead. To get a de-fragmented frame, use `newframe = frame.copy()`\n",
      "  df[ohe.get_feature_names_out()] = ohe_transformed\n",
      "C:\\Users\\Professional\\AppData\\Local\\Temp\\ipykernel_7676\\2220107148.py:2: PerformanceWarning: DataFrame is highly fragmented.  This is usually the result of calling `frame.insert` many times, which has poor performance.  Consider joining all columns at once using pd.concat(axis=1) instead. To get a de-fragmented frame, use `newframe = frame.copy()`\n",
      "  df[ohe.get_feature_names_out()] = ohe_transformed\n",
      "C:\\Users\\Professional\\AppData\\Local\\Temp\\ipykernel_7676\\2220107148.py:2: PerformanceWarning: DataFrame is highly fragmented.  This is usually the result of calling `frame.insert` many times, which has poor performance.  Consider joining all columns at once using pd.concat(axis=1) instead. To get a de-fragmented frame, use `newframe = frame.copy()`\n",
      "  df[ohe.get_feature_names_out()] = ohe_transformed\n",
      "C:\\Users\\Professional\\AppData\\Local\\Temp\\ipykernel_7676\\2220107148.py:2: PerformanceWarning: DataFrame is highly fragmented.  This is usually the result of calling `frame.insert` many times, which has poor performance.  Consider joining all columns at once using pd.concat(axis=1) instead. To get a de-fragmented frame, use `newframe = frame.copy()`\n",
      "  df[ohe.get_feature_names_out()] = ohe_transformed\n",
      "C:\\Users\\Professional\\AppData\\Local\\Temp\\ipykernel_7676\\2220107148.py:2: PerformanceWarning: DataFrame is highly fragmented.  This is usually the result of calling `frame.insert` many times, which has poor performance.  Consider joining all columns at once using pd.concat(axis=1) instead. To get a de-fragmented frame, use `newframe = frame.copy()`\n",
      "  df[ohe.get_feature_names_out()] = ohe_transformed\n",
      "C:\\Users\\Professional\\AppData\\Local\\Temp\\ipykernel_7676\\2220107148.py:2: PerformanceWarning: DataFrame is highly fragmented.  This is usually the result of calling `frame.insert` many times, which has poor performance.  Consider joining all columns at once using pd.concat(axis=1) instead. To get a de-fragmented frame, use `newframe = frame.copy()`\n",
      "  df[ohe.get_feature_names_out()] = ohe_transformed\n",
      "C:\\Users\\Professional\\AppData\\Local\\Temp\\ipykernel_7676\\2220107148.py:2: PerformanceWarning: DataFrame is highly fragmented.  This is usually the result of calling `frame.insert` many times, which has poor performance.  Consider joining all columns at once using pd.concat(axis=1) instead. To get a de-fragmented frame, use `newframe = frame.copy()`\n",
      "  df[ohe.get_feature_names_out()] = ohe_transformed\n",
      "C:\\Users\\Professional\\AppData\\Local\\Temp\\ipykernel_7676\\2220107148.py:2: PerformanceWarning: DataFrame is highly fragmented.  This is usually the result of calling `frame.insert` many times, which has poor performance.  Consider joining all columns at once using pd.concat(axis=1) instead. To get a de-fragmented frame, use `newframe = frame.copy()`\n",
      "  df[ohe.get_feature_names_out()] = ohe_transformed\n",
      "C:\\Users\\Professional\\AppData\\Local\\Temp\\ipykernel_7676\\2220107148.py:2: PerformanceWarning: DataFrame is highly fragmented.  This is usually the result of calling `frame.insert` many times, which has poor performance.  Consider joining all columns at once using pd.concat(axis=1) instead. To get a de-fragmented frame, use `newframe = frame.copy()`\n",
      "  df[ohe.get_feature_names_out()] = ohe_transformed\n",
      "C:\\Users\\Professional\\AppData\\Local\\Temp\\ipykernel_7676\\2220107148.py:2: PerformanceWarning: DataFrame is highly fragmented.  This is usually the result of calling `frame.insert` many times, which has poor performance.  Consider joining all columns at once using pd.concat(axis=1) instead. To get a de-fragmented frame, use `newframe = frame.copy()`\n",
      "  df[ohe.get_feature_names_out()] = ohe_transformed\n",
      "C:\\Users\\Professional\\AppData\\Local\\Temp\\ipykernel_7676\\2220107148.py:2: PerformanceWarning: DataFrame is highly fragmented.  This is usually the result of calling `frame.insert` many times, which has poor performance.  Consider joining all columns at once using pd.concat(axis=1) instead. To get a de-fragmented frame, use `newframe = frame.copy()`\n",
      "  df[ohe.get_feature_names_out()] = ohe_transformed\n",
      "C:\\Users\\Professional\\AppData\\Local\\Temp\\ipykernel_7676\\2220107148.py:2: PerformanceWarning: DataFrame is highly fragmented.  This is usually the result of calling `frame.insert` many times, which has poor performance.  Consider joining all columns at once using pd.concat(axis=1) instead. To get a de-fragmented frame, use `newframe = frame.copy()`\n",
      "  df[ohe.get_feature_names_out()] = ohe_transformed\n",
      "C:\\Users\\Professional\\AppData\\Local\\Temp\\ipykernel_7676\\2220107148.py:2: PerformanceWarning: DataFrame is highly fragmented.  This is usually the result of calling `frame.insert` many times, which has poor performance.  Consider joining all columns at once using pd.concat(axis=1) instead. To get a de-fragmented frame, use `newframe = frame.copy()`\n",
      "  df[ohe.get_feature_names_out()] = ohe_transformed\n",
      "C:\\Users\\Professional\\AppData\\Local\\Temp\\ipykernel_7676\\2220107148.py:2: PerformanceWarning: DataFrame is highly fragmented.  This is usually the result of calling `frame.insert` many times, which has poor performance.  Consider joining all columns at once using pd.concat(axis=1) instead. To get a de-fragmented frame, use `newframe = frame.copy()`\n",
      "  df[ohe.get_feature_names_out()] = ohe_transformed\n",
      "C:\\Users\\Professional\\AppData\\Local\\Temp\\ipykernel_7676\\2220107148.py:2: PerformanceWarning: DataFrame is highly fragmented.  This is usually the result of calling `frame.insert` many times, which has poor performance.  Consider joining all columns at once using pd.concat(axis=1) instead. To get a de-fragmented frame, use `newframe = frame.copy()`\n",
      "  df[ohe.get_feature_names_out()] = ohe_transformed\n",
      "C:\\Users\\Professional\\AppData\\Local\\Temp\\ipykernel_7676\\2220107148.py:2: PerformanceWarning: DataFrame is highly fragmented.  This is usually the result of calling `frame.insert` many times, which has poor performance.  Consider joining all columns at once using pd.concat(axis=1) instead. To get a de-fragmented frame, use `newframe = frame.copy()`\n",
      "  df[ohe.get_feature_names_out()] = ohe_transformed\n",
      "C:\\Users\\Professional\\AppData\\Local\\Temp\\ipykernel_7676\\2220107148.py:2: PerformanceWarning: DataFrame is highly fragmented.  This is usually the result of calling `frame.insert` many times, which has poor performance.  Consider joining all columns at once using pd.concat(axis=1) instead. To get a de-fragmented frame, use `newframe = frame.copy()`\n",
      "  df[ohe.get_feature_names_out()] = ohe_transformed\n",
      "C:\\Users\\Professional\\AppData\\Local\\Temp\\ipykernel_7676\\2220107148.py:2: PerformanceWarning: DataFrame is highly fragmented.  This is usually the result of calling `frame.insert` many times, which has poor performance.  Consider joining all columns at once using pd.concat(axis=1) instead. To get a de-fragmented frame, use `newframe = frame.copy()`\n",
      "  df[ohe.get_feature_names_out()] = ohe_transformed\n",
      "C:\\Users\\Professional\\AppData\\Local\\Temp\\ipykernel_7676\\2220107148.py:2: PerformanceWarning: DataFrame is highly fragmented.  This is usually the result of calling `frame.insert` many times, which has poor performance.  Consider joining all columns at once using pd.concat(axis=1) instead. To get a de-fragmented frame, use `newframe = frame.copy()`\n",
      "  df[ohe.get_feature_names_out()] = ohe_transformed\n",
      "C:\\Users\\Professional\\AppData\\Local\\Temp\\ipykernel_7676\\2220107148.py:2: PerformanceWarning: DataFrame is highly fragmented.  This is usually the result of calling `frame.insert` many times, which has poor performance.  Consider joining all columns at once using pd.concat(axis=1) instead. To get a de-fragmented frame, use `newframe = frame.copy()`\n",
      "  df[ohe.get_feature_names_out()] = ohe_transformed\n",
      "C:\\Users\\Professional\\AppData\\Local\\Temp\\ipykernel_7676\\2220107148.py:2: PerformanceWarning: DataFrame is highly fragmented.  This is usually the result of calling `frame.insert` many times, which has poor performance.  Consider joining all columns at once using pd.concat(axis=1) instead. To get a de-fragmented frame, use `newframe = frame.copy()`\n",
      "  df[ohe.get_feature_names_out()] = ohe_transformed\n",
      "C:\\Users\\Professional\\AppData\\Local\\Temp\\ipykernel_7676\\2220107148.py:2: PerformanceWarning: DataFrame is highly fragmented.  This is usually the result of calling `frame.insert` many times, which has poor performance.  Consider joining all columns at once using pd.concat(axis=1) instead. To get a de-fragmented frame, use `newframe = frame.copy()`\n",
      "  df[ohe.get_feature_names_out()] = ohe_transformed\n",
      "C:\\Users\\Professional\\AppData\\Local\\Temp\\ipykernel_7676\\2220107148.py:2: PerformanceWarning: DataFrame is highly fragmented.  This is usually the result of calling `frame.insert` many times, which has poor performance.  Consider joining all columns at once using pd.concat(axis=1) instead. To get a de-fragmented frame, use `newframe = frame.copy()`\n",
      "  df[ohe.get_feature_names_out()] = ohe_transformed\n",
      "C:\\Users\\Professional\\AppData\\Local\\Temp\\ipykernel_7676\\2220107148.py:2: PerformanceWarning: DataFrame is highly fragmented.  This is usually the result of calling `frame.insert` many times, which has poor performance.  Consider joining all columns at once using pd.concat(axis=1) instead. To get a de-fragmented frame, use `newframe = frame.copy()`\n",
      "  df[ohe.get_feature_names_out()] = ohe_transformed\n",
      "C:\\Users\\Professional\\AppData\\Local\\Temp\\ipykernel_7676\\2220107148.py:2: PerformanceWarning: DataFrame is highly fragmented.  This is usually the result of calling `frame.insert` many times, which has poor performance.  Consider joining all columns at once using pd.concat(axis=1) instead. To get a de-fragmented frame, use `newframe = frame.copy()`\n",
      "  df[ohe.get_feature_names_out()] = ohe_transformed\n",
      "C:\\Users\\Professional\\AppData\\Local\\Temp\\ipykernel_7676\\2220107148.py:2: PerformanceWarning: DataFrame is highly fragmented.  This is usually the result of calling `frame.insert` many times, which has poor performance.  Consider joining all columns at once using pd.concat(axis=1) instead. To get a de-fragmented frame, use `newframe = frame.copy()`\n",
      "  df[ohe.get_feature_names_out()] = ohe_transformed\n",
      "C:\\Users\\Professional\\AppData\\Local\\Temp\\ipykernel_7676\\2220107148.py:2: PerformanceWarning: DataFrame is highly fragmented.  This is usually the result of calling `frame.insert` many times, which has poor performance.  Consider joining all columns at once using pd.concat(axis=1) instead. To get a de-fragmented frame, use `newframe = frame.copy()`\n",
      "  df[ohe.get_feature_names_out()] = ohe_transformed\n",
      "C:\\Users\\Professional\\AppData\\Local\\Temp\\ipykernel_7676\\2220107148.py:2: PerformanceWarning: DataFrame is highly fragmented.  This is usually the result of calling `frame.insert` many times, which has poor performance.  Consider joining all columns at once using pd.concat(axis=1) instead. To get a de-fragmented frame, use `newframe = frame.copy()`\n",
      "  df[ohe.get_feature_names_out()] = ohe_transformed\n",
      "C:\\Users\\Professional\\AppData\\Local\\Temp\\ipykernel_7676\\2220107148.py:2: PerformanceWarning: DataFrame is highly fragmented.  This is usually the result of calling `frame.insert` many times, which has poor performance.  Consider joining all columns at once using pd.concat(axis=1) instead. To get a de-fragmented frame, use `newframe = frame.copy()`\n",
      "  df[ohe.get_feature_names_out()] = ohe_transformed\n",
      "C:\\Users\\Professional\\AppData\\Local\\Temp\\ipykernel_7676\\2220107148.py:2: PerformanceWarning: DataFrame is highly fragmented.  This is usually the result of calling `frame.insert` many times, which has poor performance.  Consider joining all columns at once using pd.concat(axis=1) instead. To get a de-fragmented frame, use `newframe = frame.copy()`\n",
      "  df[ohe.get_feature_names_out()] = ohe_transformed\n",
      "C:\\Users\\Professional\\AppData\\Local\\Temp\\ipykernel_7676\\2220107148.py:2: PerformanceWarning: DataFrame is highly fragmented.  This is usually the result of calling `frame.insert` many times, which has poor performance.  Consider joining all columns at once using pd.concat(axis=1) instead. To get a de-fragmented frame, use `newframe = frame.copy()`\n",
      "  df[ohe.get_feature_names_out()] = ohe_transformed\n",
      "C:\\Users\\Professional\\AppData\\Local\\Temp\\ipykernel_7676\\2220107148.py:2: PerformanceWarning: DataFrame is highly fragmented.  This is usually the result of calling `frame.insert` many times, which has poor performance.  Consider joining all columns at once using pd.concat(axis=1) instead. To get a de-fragmented frame, use `newframe = frame.copy()`\n",
      "  df[ohe.get_feature_names_out()] = ohe_transformed\n",
      "C:\\Users\\Professional\\AppData\\Local\\Temp\\ipykernel_7676\\2220107148.py:2: PerformanceWarning: DataFrame is highly fragmented.  This is usually the result of calling `frame.insert` many times, which has poor performance.  Consider joining all columns at once using pd.concat(axis=1) instead. To get a de-fragmented frame, use `newframe = frame.copy()`\n",
      "  df[ohe.get_feature_names_out()] = ohe_transformed\n",
      "C:\\Users\\Professional\\AppData\\Local\\Temp\\ipykernel_7676\\2220107148.py:2: PerformanceWarning: DataFrame is highly fragmented.  This is usually the result of calling `frame.insert` many times, which has poor performance.  Consider joining all columns at once using pd.concat(axis=1) instead. To get a de-fragmented frame, use `newframe = frame.copy()`\n",
      "  df[ohe.get_feature_names_out()] = ohe_transformed\n",
      "C:\\Users\\Professional\\AppData\\Local\\Temp\\ipykernel_7676\\2220107148.py:2: PerformanceWarning: DataFrame is highly fragmented.  This is usually the result of calling `frame.insert` many times, which has poor performance.  Consider joining all columns at once using pd.concat(axis=1) instead. To get a de-fragmented frame, use `newframe = frame.copy()`\n",
      "  df[ohe.get_feature_names_out()] = ohe_transformed\n",
      "C:\\Users\\Professional\\AppData\\Local\\Temp\\ipykernel_7676\\2220107148.py:2: PerformanceWarning: DataFrame is highly fragmented.  This is usually the result of calling `frame.insert` many times, which has poor performance.  Consider joining all columns at once using pd.concat(axis=1) instead. To get a de-fragmented frame, use `newframe = frame.copy()`\n",
      "  df[ohe.get_feature_names_out()] = ohe_transformed\n",
      "C:\\Users\\Professional\\AppData\\Local\\Temp\\ipykernel_7676\\2220107148.py:2: PerformanceWarning: DataFrame is highly fragmented.  This is usually the result of calling `frame.insert` many times, which has poor performance.  Consider joining all columns at once using pd.concat(axis=1) instead. To get a de-fragmented frame, use `newframe = frame.copy()`\n",
      "  df[ohe.get_feature_names_out()] = ohe_transformed\n",
      "C:\\Users\\Professional\\AppData\\Local\\Temp\\ipykernel_7676\\2220107148.py:2: PerformanceWarning: DataFrame is highly fragmented.  This is usually the result of calling `frame.insert` many times, which has poor performance.  Consider joining all columns at once using pd.concat(axis=1) instead. To get a de-fragmented frame, use `newframe = frame.copy()`\n",
      "  df[ohe.get_feature_names_out()] = ohe_transformed\n",
      "C:\\Users\\Professional\\AppData\\Local\\Temp\\ipykernel_7676\\2220107148.py:2: PerformanceWarning: DataFrame is highly fragmented.  This is usually the result of calling `frame.insert` many times, which has poor performance.  Consider joining all columns at once using pd.concat(axis=1) instead. To get a de-fragmented frame, use `newframe = frame.copy()`\n",
      "  df[ohe.get_feature_names_out()] = ohe_transformed\n",
      "C:\\Users\\Professional\\AppData\\Local\\Temp\\ipykernel_7676\\2220107148.py:2: PerformanceWarning: DataFrame is highly fragmented.  This is usually the result of calling `frame.insert` many times, which has poor performance.  Consider joining all columns at once using pd.concat(axis=1) instead. To get a de-fragmented frame, use `newframe = frame.copy()`\n",
      "  df[ohe.get_feature_names_out()] = ohe_transformed\n",
      "C:\\Users\\Professional\\AppData\\Local\\Temp\\ipykernel_7676\\2220107148.py:2: PerformanceWarning: DataFrame is highly fragmented.  This is usually the result of calling `frame.insert` many times, which has poor performance.  Consider joining all columns at once using pd.concat(axis=1) instead. To get a de-fragmented frame, use `newframe = frame.copy()`\n",
      "  df[ohe.get_feature_names_out()] = ohe_transformed\n",
      "C:\\Users\\Professional\\AppData\\Local\\Temp\\ipykernel_7676\\2220107148.py:2: PerformanceWarning: DataFrame is highly fragmented.  This is usually the result of calling `frame.insert` many times, which has poor performance.  Consider joining all columns at once using pd.concat(axis=1) instead. To get a de-fragmented frame, use `newframe = frame.copy()`\n",
      "  df[ohe.get_feature_names_out()] = ohe_transformed\n",
      "C:\\Users\\Professional\\AppData\\Local\\Temp\\ipykernel_7676\\2220107148.py:2: PerformanceWarning: DataFrame is highly fragmented.  This is usually the result of calling `frame.insert` many times, which has poor performance.  Consider joining all columns at once using pd.concat(axis=1) instead. To get a de-fragmented frame, use `newframe = frame.copy()`\n",
      "  df[ohe.get_feature_names_out()] = ohe_transformed\n",
      "C:\\Users\\Professional\\AppData\\Local\\Temp\\ipykernel_7676\\2220107148.py:2: PerformanceWarning: DataFrame is highly fragmented.  This is usually the result of calling `frame.insert` many times, which has poor performance.  Consider joining all columns at once using pd.concat(axis=1) instead. To get a de-fragmented frame, use `newframe = frame.copy()`\n",
      "  df[ohe.get_feature_names_out()] = ohe_transformed\n",
      "C:\\Users\\Professional\\AppData\\Local\\Temp\\ipykernel_7676\\2220107148.py:2: PerformanceWarning: DataFrame is highly fragmented.  This is usually the result of calling `frame.insert` many times, which has poor performance.  Consider joining all columns at once using pd.concat(axis=1) instead. To get a de-fragmented frame, use `newframe = frame.copy()`\n",
      "  df[ohe.get_feature_names_out()] = ohe_transformed\n",
      "C:\\Users\\Professional\\AppData\\Local\\Temp\\ipykernel_7676\\2220107148.py:2: PerformanceWarning: DataFrame is highly fragmented.  This is usually the result of calling `frame.insert` many times, which has poor performance.  Consider joining all columns at once using pd.concat(axis=1) instead. To get a de-fragmented frame, use `newframe = frame.copy()`\n",
      "  df[ohe.get_feature_names_out()] = ohe_transformed\n",
      "C:\\Users\\Professional\\AppData\\Local\\Temp\\ipykernel_7676\\2220107148.py:2: PerformanceWarning: DataFrame is highly fragmented.  This is usually the result of calling `frame.insert` many times, which has poor performance.  Consider joining all columns at once using pd.concat(axis=1) instead. To get a de-fragmented frame, use `newframe = frame.copy()`\n",
      "  df[ohe.get_feature_names_out()] = ohe_transformed\n",
      "C:\\Users\\Professional\\AppData\\Local\\Temp\\ipykernel_7676\\2220107148.py:2: PerformanceWarning: DataFrame is highly fragmented.  This is usually the result of calling `frame.insert` many times, which has poor performance.  Consider joining all columns at once using pd.concat(axis=1) instead. To get a de-fragmented frame, use `newframe = frame.copy()`\n",
      "  df[ohe.get_feature_names_out()] = ohe_transformed\n",
      "C:\\Users\\Professional\\AppData\\Local\\Temp\\ipykernel_7676\\2220107148.py:2: PerformanceWarning: DataFrame is highly fragmented.  This is usually the result of calling `frame.insert` many times, which has poor performance.  Consider joining all columns at once using pd.concat(axis=1) instead. To get a de-fragmented frame, use `newframe = frame.copy()`\n",
      "  df[ohe.get_feature_names_out()] = ohe_transformed\n",
      "C:\\Users\\Professional\\AppData\\Local\\Temp\\ipykernel_7676\\2220107148.py:2: PerformanceWarning: DataFrame is highly fragmented.  This is usually the result of calling `frame.insert` many times, which has poor performance.  Consider joining all columns at once using pd.concat(axis=1) instead. To get a de-fragmented frame, use `newframe = frame.copy()`\n",
      "  df[ohe.get_feature_names_out()] = ohe_transformed\n",
      "C:\\Users\\Professional\\AppData\\Local\\Temp\\ipykernel_7676\\2220107148.py:2: PerformanceWarning: DataFrame is highly fragmented.  This is usually the result of calling `frame.insert` many times, which has poor performance.  Consider joining all columns at once using pd.concat(axis=1) instead. To get a de-fragmented frame, use `newframe = frame.copy()`\n",
      "  df[ohe.get_feature_names_out()] = ohe_transformed\n",
      "C:\\Users\\Professional\\AppData\\Local\\Temp\\ipykernel_7676\\2220107148.py:2: PerformanceWarning: DataFrame is highly fragmented.  This is usually the result of calling `frame.insert` many times, which has poor performance.  Consider joining all columns at once using pd.concat(axis=1) instead. To get a de-fragmented frame, use `newframe = frame.copy()`\n",
      "  df[ohe.get_feature_names_out()] = ohe_transformed\n",
      "C:\\Users\\Professional\\AppData\\Local\\Temp\\ipykernel_7676\\2220107148.py:2: PerformanceWarning: DataFrame is highly fragmented.  This is usually the result of calling `frame.insert` many times, which has poor performance.  Consider joining all columns at once using pd.concat(axis=1) instead. To get a de-fragmented frame, use `newframe = frame.copy()`\n",
      "  df[ohe.get_feature_names_out()] = ohe_transformed\n",
      "C:\\Users\\Professional\\AppData\\Local\\Temp\\ipykernel_7676\\2220107148.py:2: PerformanceWarning: DataFrame is highly fragmented.  This is usually the result of calling `frame.insert` many times, which has poor performance.  Consider joining all columns at once using pd.concat(axis=1) instead. To get a de-fragmented frame, use `newframe = frame.copy()`\n",
      "  df[ohe.get_feature_names_out()] = ohe_transformed\n",
      "C:\\Users\\Professional\\AppData\\Local\\Temp\\ipykernel_7676\\2220107148.py:2: PerformanceWarning: DataFrame is highly fragmented.  This is usually the result of calling `frame.insert` many times, which has poor performance.  Consider joining all columns at once using pd.concat(axis=1) instead. To get a de-fragmented frame, use `newframe = frame.copy()`\n",
      "  df[ohe.get_feature_names_out()] = ohe_transformed\n",
      "C:\\Users\\Professional\\AppData\\Local\\Temp\\ipykernel_7676\\2220107148.py:2: PerformanceWarning: DataFrame is highly fragmented.  This is usually the result of calling `frame.insert` many times, which has poor performance.  Consider joining all columns at once using pd.concat(axis=1) instead. To get a de-fragmented frame, use `newframe = frame.copy()`\n",
      "  df[ohe.get_feature_names_out()] = ohe_transformed\n",
      "C:\\Users\\Professional\\AppData\\Local\\Temp\\ipykernel_7676\\2220107148.py:2: PerformanceWarning: DataFrame is highly fragmented.  This is usually the result of calling `frame.insert` many times, which has poor performance.  Consider joining all columns at once using pd.concat(axis=1) instead. To get a de-fragmented frame, use `newframe = frame.copy()`\n",
      "  df[ohe.get_feature_names_out()] = ohe_transformed\n",
      "C:\\Users\\Professional\\AppData\\Local\\Temp\\ipykernel_7676\\2220107148.py:2: PerformanceWarning: DataFrame is highly fragmented.  This is usually the result of calling `frame.insert` many times, which has poor performance.  Consider joining all columns at once using pd.concat(axis=1) instead. To get a de-fragmented frame, use `newframe = frame.copy()`\n",
      "  df[ohe.get_feature_names_out()] = ohe_transformed\n",
      "C:\\Users\\Professional\\AppData\\Local\\Temp\\ipykernel_7676\\2220107148.py:2: PerformanceWarning: DataFrame is highly fragmented.  This is usually the result of calling `frame.insert` many times, which has poor performance.  Consider joining all columns at once using pd.concat(axis=1) instead. To get a de-fragmented frame, use `newframe = frame.copy()`\n",
      "  df[ohe.get_feature_names_out()] = ohe_transformed\n",
      "C:\\Users\\Professional\\AppData\\Local\\Temp\\ipykernel_7676\\2220107148.py:2: PerformanceWarning: DataFrame is highly fragmented.  This is usually the result of calling `frame.insert` many times, which has poor performance.  Consider joining all columns at once using pd.concat(axis=1) instead. To get a de-fragmented frame, use `newframe = frame.copy()`\n",
      "  df[ohe.get_feature_names_out()] = ohe_transformed\n",
      "C:\\Users\\Professional\\AppData\\Local\\Temp\\ipykernel_7676\\2220107148.py:2: PerformanceWarning: DataFrame is highly fragmented.  This is usually the result of calling `frame.insert` many times, which has poor performance.  Consider joining all columns at once using pd.concat(axis=1) instead. To get a de-fragmented frame, use `newframe = frame.copy()`\n",
      "  df[ohe.get_feature_names_out()] = ohe_transformed\n",
      "C:\\Users\\Professional\\AppData\\Local\\Temp\\ipykernel_7676\\2220107148.py:2: PerformanceWarning: DataFrame is highly fragmented.  This is usually the result of calling `frame.insert` many times, which has poor performance.  Consider joining all columns at once using pd.concat(axis=1) instead. To get a de-fragmented frame, use `newframe = frame.copy()`\n",
      "  df[ohe.get_feature_names_out()] = ohe_transformed\n",
      "C:\\Users\\Professional\\AppData\\Local\\Temp\\ipykernel_7676\\2220107148.py:2: PerformanceWarning: DataFrame is highly fragmented.  This is usually the result of calling `frame.insert` many times, which has poor performance.  Consider joining all columns at once using pd.concat(axis=1) instead. To get a de-fragmented frame, use `newframe = frame.copy()`\n",
      "  df[ohe.get_feature_names_out()] = ohe_transformed\n",
      "C:\\Users\\Professional\\AppData\\Local\\Temp\\ipykernel_7676\\2220107148.py:2: PerformanceWarning: DataFrame is highly fragmented.  This is usually the result of calling `frame.insert` many times, which has poor performance.  Consider joining all columns at once using pd.concat(axis=1) instead. To get a de-fragmented frame, use `newframe = frame.copy()`\n",
      "  df[ohe.get_feature_names_out()] = ohe_transformed\n",
      "C:\\Users\\Professional\\AppData\\Local\\Temp\\ipykernel_7676\\2220107148.py:2: PerformanceWarning: DataFrame is highly fragmented.  This is usually the result of calling `frame.insert` many times, which has poor performance.  Consider joining all columns at once using pd.concat(axis=1) instead. To get a de-fragmented frame, use `newframe = frame.copy()`\n",
      "  df[ohe.get_feature_names_out()] = ohe_transformed\n",
      "C:\\Users\\Professional\\AppData\\Local\\Temp\\ipykernel_7676\\2220107148.py:2: PerformanceWarning: DataFrame is highly fragmented.  This is usually the result of calling `frame.insert` many times, which has poor performance.  Consider joining all columns at once using pd.concat(axis=1) instead. To get a de-fragmented frame, use `newframe = frame.copy()`\n",
      "  df[ohe.get_feature_names_out()] = ohe_transformed\n",
      "C:\\Users\\Professional\\AppData\\Local\\Temp\\ipykernel_7676\\2220107148.py:2: PerformanceWarning: DataFrame is highly fragmented.  This is usually the result of calling `frame.insert` many times, which has poor performance.  Consider joining all columns at once using pd.concat(axis=1) instead. To get a de-fragmented frame, use `newframe = frame.copy()`\n",
      "  df[ohe.get_feature_names_out()] = ohe_transformed\n",
      "C:\\Users\\Professional\\AppData\\Local\\Temp\\ipykernel_7676\\2220107148.py:2: PerformanceWarning: DataFrame is highly fragmented.  This is usually the result of calling `frame.insert` many times, which has poor performance.  Consider joining all columns at once using pd.concat(axis=1) instead. To get a de-fragmented frame, use `newframe = frame.copy()`\n",
      "  df[ohe.get_feature_names_out()] = ohe_transformed\n",
      "C:\\Users\\Professional\\AppData\\Local\\Temp\\ipykernel_7676\\2220107148.py:2: PerformanceWarning: DataFrame is highly fragmented.  This is usually the result of calling `frame.insert` many times, which has poor performance.  Consider joining all columns at once using pd.concat(axis=1) instead. To get a de-fragmented frame, use `newframe = frame.copy()`\n",
      "  df[ohe.get_feature_names_out()] = ohe_transformed\n",
      "C:\\Users\\Professional\\AppData\\Local\\Temp\\ipykernel_7676\\2220107148.py:2: PerformanceWarning: DataFrame is highly fragmented.  This is usually the result of calling `frame.insert` many times, which has poor performance.  Consider joining all columns at once using pd.concat(axis=1) instead. To get a de-fragmented frame, use `newframe = frame.copy()`\n",
      "  df[ohe.get_feature_names_out()] = ohe_transformed\n",
      "C:\\Users\\Professional\\AppData\\Local\\Temp\\ipykernel_7676\\2220107148.py:2: PerformanceWarning: DataFrame is highly fragmented.  This is usually the result of calling `frame.insert` many times, which has poor performance.  Consider joining all columns at once using pd.concat(axis=1) instead. To get a de-fragmented frame, use `newframe = frame.copy()`\n",
      "  df[ohe.get_feature_names_out()] = ohe_transformed\n",
      "C:\\Users\\Professional\\AppData\\Local\\Temp\\ipykernel_7676\\2220107148.py:2: PerformanceWarning: DataFrame is highly fragmented.  This is usually the result of calling `frame.insert` many times, which has poor performance.  Consider joining all columns at once using pd.concat(axis=1) instead. To get a de-fragmented frame, use `newframe = frame.copy()`\n",
      "  df[ohe.get_feature_names_out()] = ohe_transformed\n",
      "C:\\Users\\Professional\\AppData\\Local\\Temp\\ipykernel_7676\\2220107148.py:2: PerformanceWarning: DataFrame is highly fragmented.  This is usually the result of calling `frame.insert` many times, which has poor performance.  Consider joining all columns at once using pd.concat(axis=1) instead. To get a de-fragmented frame, use `newframe = frame.copy()`\n",
      "  df[ohe.get_feature_names_out()] = ohe_transformed\n",
      "C:\\Users\\Professional\\AppData\\Local\\Temp\\ipykernel_7676\\2220107148.py:2: PerformanceWarning: DataFrame is highly fragmented.  This is usually the result of calling `frame.insert` many times, which has poor performance.  Consider joining all columns at once using pd.concat(axis=1) instead. To get a de-fragmented frame, use `newframe = frame.copy()`\n",
      "  df[ohe.get_feature_names_out()] = ohe_transformed\n",
      "C:\\Users\\Professional\\AppData\\Local\\Temp\\ipykernel_7676\\2220107148.py:2: PerformanceWarning: DataFrame is highly fragmented.  This is usually the result of calling `frame.insert` many times, which has poor performance.  Consider joining all columns at once using pd.concat(axis=1) instead. To get a de-fragmented frame, use `newframe = frame.copy()`\n",
      "  df[ohe.get_feature_names_out()] = ohe_transformed\n",
      "C:\\Users\\Professional\\AppData\\Local\\Temp\\ipykernel_7676\\2220107148.py:2: PerformanceWarning: DataFrame is highly fragmented.  This is usually the result of calling `frame.insert` many times, which has poor performance.  Consider joining all columns at once using pd.concat(axis=1) instead. To get a de-fragmented frame, use `newframe = frame.copy()`\n",
      "  df[ohe.get_feature_names_out()] = ohe_transformed\n",
      "C:\\Users\\Professional\\AppData\\Local\\Temp\\ipykernel_7676\\2220107148.py:2: PerformanceWarning: DataFrame is highly fragmented.  This is usually the result of calling `frame.insert` many times, which has poor performance.  Consider joining all columns at once using pd.concat(axis=1) instead. To get a de-fragmented frame, use `newframe = frame.copy()`\n",
      "  df[ohe.get_feature_names_out()] = ohe_transformed\n",
      "C:\\Users\\Professional\\AppData\\Local\\Temp\\ipykernel_7676\\2220107148.py:2: PerformanceWarning: DataFrame is highly fragmented.  This is usually the result of calling `frame.insert` many times, which has poor performance.  Consider joining all columns at once using pd.concat(axis=1) instead. To get a de-fragmented frame, use `newframe = frame.copy()`\n",
      "  df[ohe.get_feature_names_out()] = ohe_transformed\n",
      "C:\\Users\\Professional\\AppData\\Local\\Temp\\ipykernel_7676\\2220107148.py:2: PerformanceWarning: DataFrame is highly fragmented.  This is usually the result of calling `frame.insert` many times, which has poor performance.  Consider joining all columns at once using pd.concat(axis=1) instead. To get a de-fragmented frame, use `newframe = frame.copy()`\n",
      "  df[ohe.get_feature_names_out()] = ohe_transformed\n",
      "C:\\Users\\Professional\\AppData\\Local\\Temp\\ipykernel_7676\\2220107148.py:2: PerformanceWarning: DataFrame is highly fragmented.  This is usually the result of calling `frame.insert` many times, which has poor performance.  Consider joining all columns at once using pd.concat(axis=1) instead. To get a de-fragmented frame, use `newframe = frame.copy()`\n",
      "  df[ohe.get_feature_names_out()] = ohe_transformed\n",
      "C:\\Users\\Professional\\AppData\\Local\\Temp\\ipykernel_7676\\2220107148.py:2: PerformanceWarning: DataFrame is highly fragmented.  This is usually the result of calling `frame.insert` many times, which has poor performance.  Consider joining all columns at once using pd.concat(axis=1) instead. To get a de-fragmented frame, use `newframe = frame.copy()`\n",
      "  df[ohe.get_feature_names_out()] = ohe_transformed\n",
      "C:\\Users\\Professional\\AppData\\Local\\Temp\\ipykernel_7676\\2220107148.py:2: PerformanceWarning: DataFrame is highly fragmented.  This is usually the result of calling `frame.insert` many times, which has poor performance.  Consider joining all columns at once using pd.concat(axis=1) instead. To get a de-fragmented frame, use `newframe = frame.copy()`\n",
      "  df[ohe.get_feature_names_out()] = ohe_transformed\n",
      "C:\\Users\\Professional\\AppData\\Local\\Temp\\ipykernel_7676\\2220107148.py:2: PerformanceWarning: DataFrame is highly fragmented.  This is usually the result of calling `frame.insert` many times, which has poor performance.  Consider joining all columns at once using pd.concat(axis=1) instead. To get a de-fragmented frame, use `newframe = frame.copy()`\n",
      "  df[ohe.get_feature_names_out()] = ohe_transformed\n",
      "C:\\Users\\Professional\\AppData\\Local\\Temp\\ipykernel_7676\\2220107148.py:2: PerformanceWarning: DataFrame is highly fragmented.  This is usually the result of calling `frame.insert` many times, which has poor performance.  Consider joining all columns at once using pd.concat(axis=1) instead. To get a de-fragmented frame, use `newframe = frame.copy()`\n",
      "  df[ohe.get_feature_names_out()] = ohe_transformed\n",
      "C:\\Users\\Professional\\AppData\\Local\\Temp\\ipykernel_7676\\2220107148.py:2: PerformanceWarning: DataFrame is highly fragmented.  This is usually the result of calling `frame.insert` many times, which has poor performance.  Consider joining all columns at once using pd.concat(axis=1) instead. To get a de-fragmented frame, use `newframe = frame.copy()`\n",
      "  df[ohe.get_feature_names_out()] = ohe_transformed\n",
      "C:\\Users\\Professional\\AppData\\Local\\Temp\\ipykernel_7676\\2220107148.py:2: PerformanceWarning: DataFrame is highly fragmented.  This is usually the result of calling `frame.insert` many times, which has poor performance.  Consider joining all columns at once using pd.concat(axis=1) instead. To get a de-fragmented frame, use `newframe = frame.copy()`\n",
      "  df[ohe.get_feature_names_out()] = ohe_transformed\n",
      "C:\\Users\\Professional\\AppData\\Local\\Temp\\ipykernel_7676\\2220107148.py:2: PerformanceWarning: DataFrame is highly fragmented.  This is usually the result of calling `frame.insert` many times, which has poor performance.  Consider joining all columns at once using pd.concat(axis=1) instead. To get a de-fragmented frame, use `newframe = frame.copy()`\n",
      "  df[ohe.get_feature_names_out()] = ohe_transformed\n",
      "C:\\Users\\Professional\\AppData\\Local\\Temp\\ipykernel_7676\\2220107148.py:2: PerformanceWarning: DataFrame is highly fragmented.  This is usually the result of calling `frame.insert` many times, which has poor performance.  Consider joining all columns at once using pd.concat(axis=1) instead. To get a de-fragmented frame, use `newframe = frame.copy()`\n",
      "  df[ohe.get_feature_names_out()] = ohe_transformed\n",
      "C:\\Users\\Professional\\AppData\\Local\\Temp\\ipykernel_7676\\2220107148.py:2: PerformanceWarning: DataFrame is highly fragmented.  This is usually the result of calling `frame.insert` many times, which has poor performance.  Consider joining all columns at once using pd.concat(axis=1) instead. To get a de-fragmented frame, use `newframe = frame.copy()`\n",
      "  df[ohe.get_feature_names_out()] = ohe_transformed\n",
      "C:\\Users\\Professional\\AppData\\Local\\Temp\\ipykernel_7676\\2220107148.py:2: PerformanceWarning: DataFrame is highly fragmented.  This is usually the result of calling `frame.insert` many times, which has poor performance.  Consider joining all columns at once using pd.concat(axis=1) instead. To get a de-fragmented frame, use `newframe = frame.copy()`\n",
      "  df[ohe.get_feature_names_out()] = ohe_transformed\n",
      "C:\\Users\\Professional\\AppData\\Local\\Temp\\ipykernel_7676\\2220107148.py:2: PerformanceWarning: DataFrame is highly fragmented.  This is usually the result of calling `frame.insert` many times, which has poor performance.  Consider joining all columns at once using pd.concat(axis=1) instead. To get a de-fragmented frame, use `newframe = frame.copy()`\n",
      "  df[ohe.get_feature_names_out()] = ohe_transformed\n",
      "C:\\Users\\Professional\\AppData\\Local\\Temp\\ipykernel_7676\\2220107148.py:2: PerformanceWarning: DataFrame is highly fragmented.  This is usually the result of calling `frame.insert` many times, which has poor performance.  Consider joining all columns at once using pd.concat(axis=1) instead. To get a de-fragmented frame, use `newframe = frame.copy()`\n",
      "  df[ohe.get_feature_names_out()] = ohe_transformed\n",
      "C:\\Users\\Professional\\AppData\\Local\\Temp\\ipykernel_7676\\2220107148.py:2: PerformanceWarning: DataFrame is highly fragmented.  This is usually the result of calling `frame.insert` many times, which has poor performance.  Consider joining all columns at once using pd.concat(axis=1) instead. To get a de-fragmented frame, use `newframe = frame.copy()`\n",
      "  df[ohe.get_feature_names_out()] = ohe_transformed\n",
      "C:\\Users\\Professional\\AppData\\Local\\Temp\\ipykernel_7676\\2220107148.py:2: PerformanceWarning: DataFrame is highly fragmented.  This is usually the result of calling `frame.insert` many times, which has poor performance.  Consider joining all columns at once using pd.concat(axis=1) instead. To get a de-fragmented frame, use `newframe = frame.copy()`\n",
      "  df[ohe.get_feature_names_out()] = ohe_transformed\n",
      "C:\\Users\\Professional\\AppData\\Local\\Temp\\ipykernel_7676\\2220107148.py:2: PerformanceWarning: DataFrame is highly fragmented.  This is usually the result of calling `frame.insert` many times, which has poor performance.  Consider joining all columns at once using pd.concat(axis=1) instead. To get a de-fragmented frame, use `newframe = frame.copy()`\n",
      "  df[ohe.get_feature_names_out()] = ohe_transformed\n",
      "C:\\Users\\Professional\\AppData\\Local\\Temp\\ipykernel_7676\\2220107148.py:2: PerformanceWarning: DataFrame is highly fragmented.  This is usually the result of calling `frame.insert` many times, which has poor performance.  Consider joining all columns at once using pd.concat(axis=1) instead. To get a de-fragmented frame, use `newframe = frame.copy()`\n",
      "  df[ohe.get_feature_names_out()] = ohe_transformed\n",
      "C:\\Users\\Professional\\AppData\\Local\\Temp\\ipykernel_7676\\2220107148.py:2: PerformanceWarning: DataFrame is highly fragmented.  This is usually the result of calling `frame.insert` many times, which has poor performance.  Consider joining all columns at once using pd.concat(axis=1) instead. To get a de-fragmented frame, use `newframe = frame.copy()`\n",
      "  df[ohe.get_feature_names_out()] = ohe_transformed\n",
      "C:\\Users\\Professional\\AppData\\Local\\Temp\\ipykernel_7676\\2220107148.py:2: PerformanceWarning: DataFrame is highly fragmented.  This is usually the result of calling `frame.insert` many times, which has poor performance.  Consider joining all columns at once using pd.concat(axis=1) instead. To get a de-fragmented frame, use `newframe = frame.copy()`\n",
      "  df[ohe.get_feature_names_out()] = ohe_transformed\n",
      "C:\\Users\\Professional\\AppData\\Local\\Temp\\ipykernel_7676\\2220107148.py:2: PerformanceWarning: DataFrame is highly fragmented.  This is usually the result of calling `frame.insert` many times, which has poor performance.  Consider joining all columns at once using pd.concat(axis=1) instead. To get a de-fragmented frame, use `newframe = frame.copy()`\n",
      "  df[ohe.get_feature_names_out()] = ohe_transformed\n",
      "C:\\Users\\Professional\\AppData\\Local\\Temp\\ipykernel_7676\\2220107148.py:2: PerformanceWarning: DataFrame is highly fragmented.  This is usually the result of calling `frame.insert` many times, which has poor performance.  Consider joining all columns at once using pd.concat(axis=1) instead. To get a de-fragmented frame, use `newframe = frame.copy()`\n",
      "  df[ohe.get_feature_names_out()] = ohe_transformed\n",
      "C:\\Users\\Professional\\AppData\\Local\\Temp\\ipykernel_7676\\2220107148.py:2: PerformanceWarning: DataFrame is highly fragmented.  This is usually the result of calling `frame.insert` many times, which has poor performance.  Consider joining all columns at once using pd.concat(axis=1) instead. To get a de-fragmented frame, use `newframe = frame.copy()`\n",
      "  df[ohe.get_feature_names_out()] = ohe_transformed\n",
      "C:\\Users\\Professional\\AppData\\Local\\Temp\\ipykernel_7676\\2220107148.py:2: PerformanceWarning: DataFrame is highly fragmented.  This is usually the result of calling `frame.insert` many times, which has poor performance.  Consider joining all columns at once using pd.concat(axis=1) instead. To get a de-fragmented frame, use `newframe = frame.copy()`\n",
      "  df[ohe.get_feature_names_out()] = ohe_transformed\n",
      "C:\\Users\\Professional\\AppData\\Local\\Temp\\ipykernel_7676\\2220107148.py:2: PerformanceWarning: DataFrame is highly fragmented.  This is usually the result of calling `frame.insert` many times, which has poor performance.  Consider joining all columns at once using pd.concat(axis=1) instead. To get a de-fragmented frame, use `newframe = frame.copy()`\n",
      "  df[ohe.get_feature_names_out()] = ohe_transformed\n",
      "C:\\Users\\Professional\\AppData\\Local\\Temp\\ipykernel_7676\\2220107148.py:2: PerformanceWarning: DataFrame is highly fragmented.  This is usually the result of calling `frame.insert` many times, which has poor performance.  Consider joining all columns at once using pd.concat(axis=1) instead. To get a de-fragmented frame, use `newframe = frame.copy()`\n",
      "  df[ohe.get_feature_names_out()] = ohe_transformed\n",
      "C:\\Users\\Professional\\AppData\\Local\\Temp\\ipykernel_7676\\2220107148.py:2: PerformanceWarning: DataFrame is highly fragmented.  This is usually the result of calling `frame.insert` many times, which has poor performance.  Consider joining all columns at once using pd.concat(axis=1) instead. To get a de-fragmented frame, use `newframe = frame.copy()`\n",
      "  df[ohe.get_feature_names_out()] = ohe_transformed\n",
      "C:\\Users\\Professional\\AppData\\Local\\Temp\\ipykernel_7676\\2220107148.py:2: PerformanceWarning: DataFrame is highly fragmented.  This is usually the result of calling `frame.insert` many times, which has poor performance.  Consider joining all columns at once using pd.concat(axis=1) instead. To get a de-fragmented frame, use `newframe = frame.copy()`\n",
      "  df[ohe.get_feature_names_out()] = ohe_transformed\n",
      "C:\\Users\\Professional\\AppData\\Local\\Temp\\ipykernel_7676\\2220107148.py:2: PerformanceWarning: DataFrame is highly fragmented.  This is usually the result of calling `frame.insert` many times, which has poor performance.  Consider joining all columns at once using pd.concat(axis=1) instead. To get a de-fragmented frame, use `newframe = frame.copy()`\n",
      "  df[ohe.get_feature_names_out()] = ohe_transformed\n",
      "C:\\Users\\Professional\\AppData\\Local\\Temp\\ipykernel_7676\\2220107148.py:2: PerformanceWarning: DataFrame is highly fragmented.  This is usually the result of calling `frame.insert` many times, which has poor performance.  Consider joining all columns at once using pd.concat(axis=1) instead. To get a de-fragmented frame, use `newframe = frame.copy()`\n",
      "  df[ohe.get_feature_names_out()] = ohe_transformed\n",
      "C:\\Users\\Professional\\AppData\\Local\\Temp\\ipykernel_7676\\2220107148.py:2: PerformanceWarning: DataFrame is highly fragmented.  This is usually the result of calling `frame.insert` many times, which has poor performance.  Consider joining all columns at once using pd.concat(axis=1) instead. To get a de-fragmented frame, use `newframe = frame.copy()`\n",
      "  df[ohe.get_feature_names_out()] = ohe_transformed\n",
      "C:\\Users\\Professional\\AppData\\Local\\Temp\\ipykernel_7676\\2220107148.py:2: PerformanceWarning: DataFrame is highly fragmented.  This is usually the result of calling `frame.insert` many times, which has poor performance.  Consider joining all columns at once using pd.concat(axis=1) instead. To get a de-fragmented frame, use `newframe = frame.copy()`\n",
      "  df[ohe.get_feature_names_out()] = ohe_transformed\n",
      "C:\\Users\\Professional\\AppData\\Local\\Temp\\ipykernel_7676\\2220107148.py:2: PerformanceWarning: DataFrame is highly fragmented.  This is usually the result of calling `frame.insert` many times, which has poor performance.  Consider joining all columns at once using pd.concat(axis=1) instead. To get a de-fragmented frame, use `newframe = frame.copy()`\n",
      "  df[ohe.get_feature_names_out()] = ohe_transformed\n",
      "C:\\Users\\Professional\\AppData\\Local\\Temp\\ipykernel_7676\\2220107148.py:2: PerformanceWarning: DataFrame is highly fragmented.  This is usually the result of calling `frame.insert` many times, which has poor performance.  Consider joining all columns at once using pd.concat(axis=1) instead. To get a de-fragmented frame, use `newframe = frame.copy()`\n",
      "  df[ohe.get_feature_names_out()] = ohe_transformed\n",
      "C:\\Users\\Professional\\AppData\\Local\\Temp\\ipykernel_7676\\2220107148.py:2: PerformanceWarning: DataFrame is highly fragmented.  This is usually the result of calling `frame.insert` many times, which has poor performance.  Consider joining all columns at once using pd.concat(axis=1) instead. To get a de-fragmented frame, use `newframe = frame.copy()`\n",
      "  df[ohe.get_feature_names_out()] = ohe_transformed\n",
      "C:\\Users\\Professional\\AppData\\Local\\Temp\\ipykernel_7676\\2220107148.py:2: PerformanceWarning: DataFrame is highly fragmented.  This is usually the result of calling `frame.insert` many times, which has poor performance.  Consider joining all columns at once using pd.concat(axis=1) instead. To get a de-fragmented frame, use `newframe = frame.copy()`\n",
      "  df[ohe.get_feature_names_out()] = ohe_transformed\n",
      "C:\\Users\\Professional\\AppData\\Local\\Temp\\ipykernel_7676\\2220107148.py:2: PerformanceWarning: DataFrame is highly fragmented.  This is usually the result of calling `frame.insert` many times, which has poor performance.  Consider joining all columns at once using pd.concat(axis=1) instead. To get a de-fragmented frame, use `newframe = frame.copy()`\n",
      "  df[ohe.get_feature_names_out()] = ohe_transformed\n",
      "C:\\Users\\Professional\\AppData\\Local\\Temp\\ipykernel_7676\\2220107148.py:2: PerformanceWarning: DataFrame is highly fragmented.  This is usually the result of calling `frame.insert` many times, which has poor performance.  Consider joining all columns at once using pd.concat(axis=1) instead. To get a de-fragmented frame, use `newframe = frame.copy()`\n",
      "  df[ohe.get_feature_names_out()] = ohe_transformed\n",
      "C:\\Users\\Professional\\AppData\\Local\\Temp\\ipykernel_7676\\2220107148.py:2: PerformanceWarning: DataFrame is highly fragmented.  This is usually the result of calling `frame.insert` many times, which has poor performance.  Consider joining all columns at once using pd.concat(axis=1) instead. To get a de-fragmented frame, use `newframe = frame.copy()`\n",
      "  df[ohe.get_feature_names_out()] = ohe_transformed\n",
      "C:\\Users\\Professional\\AppData\\Local\\Temp\\ipykernel_7676\\2220107148.py:2: PerformanceWarning: DataFrame is highly fragmented.  This is usually the result of calling `frame.insert` many times, which has poor performance.  Consider joining all columns at once using pd.concat(axis=1) instead. To get a de-fragmented frame, use `newframe = frame.copy()`\n",
      "  df[ohe.get_feature_names_out()] = ohe_transformed\n",
      "C:\\Users\\Professional\\AppData\\Local\\Temp\\ipykernel_7676\\2220107148.py:2: PerformanceWarning: DataFrame is highly fragmented.  This is usually the result of calling `frame.insert` many times, which has poor performance.  Consider joining all columns at once using pd.concat(axis=1) instead. To get a de-fragmented frame, use `newframe = frame.copy()`\n",
      "  df[ohe.get_feature_names_out()] = ohe_transformed\n",
      "C:\\Users\\Professional\\AppData\\Local\\Temp\\ipykernel_7676\\2220107148.py:2: PerformanceWarning: DataFrame is highly fragmented.  This is usually the result of calling `frame.insert` many times, which has poor performance.  Consider joining all columns at once using pd.concat(axis=1) instead. To get a de-fragmented frame, use `newframe = frame.copy()`\n",
      "  df[ohe.get_feature_names_out()] = ohe_transformed\n",
      "C:\\Users\\Professional\\AppData\\Local\\Temp\\ipykernel_7676\\2220107148.py:2: PerformanceWarning: DataFrame is highly fragmented.  This is usually the result of calling `frame.insert` many times, which has poor performance.  Consider joining all columns at once using pd.concat(axis=1) instead. To get a de-fragmented frame, use `newframe = frame.copy()`\n",
      "  df[ohe.get_feature_names_out()] = ohe_transformed\n",
      "C:\\Users\\Professional\\AppData\\Local\\Temp\\ipykernel_7676\\2220107148.py:2: PerformanceWarning: DataFrame is highly fragmented.  This is usually the result of calling `frame.insert` many times, which has poor performance.  Consider joining all columns at once using pd.concat(axis=1) instead. To get a de-fragmented frame, use `newframe = frame.copy()`\n",
      "  df[ohe.get_feature_names_out()] = ohe_transformed\n",
      "C:\\Users\\Professional\\AppData\\Local\\Temp\\ipykernel_7676\\2220107148.py:2: PerformanceWarning: DataFrame is highly fragmented.  This is usually the result of calling `frame.insert` many times, which has poor performance.  Consider joining all columns at once using pd.concat(axis=1) instead. To get a de-fragmented frame, use `newframe = frame.copy()`\n",
      "  df[ohe.get_feature_names_out()] = ohe_transformed\n",
      "C:\\Users\\Professional\\AppData\\Local\\Temp\\ipykernel_7676\\2220107148.py:2: PerformanceWarning: DataFrame is highly fragmented.  This is usually the result of calling `frame.insert` many times, which has poor performance.  Consider joining all columns at once using pd.concat(axis=1) instead. To get a de-fragmented frame, use `newframe = frame.copy()`\n",
      "  df[ohe.get_feature_names_out()] = ohe_transformed\n",
      "C:\\Users\\Professional\\AppData\\Local\\Temp\\ipykernel_7676\\2220107148.py:2: PerformanceWarning: DataFrame is highly fragmented.  This is usually the result of calling `frame.insert` many times, which has poor performance.  Consider joining all columns at once using pd.concat(axis=1) instead. To get a de-fragmented frame, use `newframe = frame.copy()`\n",
      "  df[ohe.get_feature_names_out()] = ohe_transformed\n",
      "C:\\Users\\Professional\\AppData\\Local\\Temp\\ipykernel_7676\\2220107148.py:2: PerformanceWarning: DataFrame is highly fragmented.  This is usually the result of calling `frame.insert` many times, which has poor performance.  Consider joining all columns at once using pd.concat(axis=1) instead. To get a de-fragmented frame, use `newframe = frame.copy()`\n",
      "  df[ohe.get_feature_names_out()] = ohe_transformed\n",
      "C:\\Users\\Professional\\AppData\\Local\\Temp\\ipykernel_7676\\2220107148.py:2: PerformanceWarning: DataFrame is highly fragmented.  This is usually the result of calling `frame.insert` many times, which has poor performance.  Consider joining all columns at once using pd.concat(axis=1) instead. To get a de-fragmented frame, use `newframe = frame.copy()`\n",
      "  df[ohe.get_feature_names_out()] = ohe_transformed\n",
      "C:\\Users\\Professional\\AppData\\Local\\Temp\\ipykernel_7676\\2220107148.py:2: PerformanceWarning: DataFrame is highly fragmented.  This is usually the result of calling `frame.insert` many times, which has poor performance.  Consider joining all columns at once using pd.concat(axis=1) instead. To get a de-fragmented frame, use `newframe = frame.copy()`\n",
      "  df[ohe.get_feature_names_out()] = ohe_transformed\n",
      "C:\\Users\\Professional\\AppData\\Local\\Temp\\ipykernel_7676\\2220107148.py:2: PerformanceWarning: DataFrame is highly fragmented.  This is usually the result of calling `frame.insert` many times, which has poor performance.  Consider joining all columns at once using pd.concat(axis=1) instead. To get a de-fragmented frame, use `newframe = frame.copy()`\n",
      "  df[ohe.get_feature_names_out()] = ohe_transformed\n",
      "C:\\Users\\Professional\\AppData\\Local\\Temp\\ipykernel_7676\\2220107148.py:2: PerformanceWarning: DataFrame is highly fragmented.  This is usually the result of calling `frame.insert` many times, which has poor performance.  Consider joining all columns at once using pd.concat(axis=1) instead. To get a de-fragmented frame, use `newframe = frame.copy()`\n",
      "  df[ohe.get_feature_names_out()] = ohe_transformed\n",
      "C:\\Users\\Professional\\AppData\\Local\\Temp\\ipykernel_7676\\2220107148.py:2: PerformanceWarning: DataFrame is highly fragmented.  This is usually the result of calling `frame.insert` many times, which has poor performance.  Consider joining all columns at once using pd.concat(axis=1) instead. To get a de-fragmented frame, use `newframe = frame.copy()`\n",
      "  df[ohe.get_feature_names_out()] = ohe_transformed\n",
      "C:\\Users\\Professional\\AppData\\Local\\Temp\\ipykernel_7676\\2220107148.py:2: PerformanceWarning: DataFrame is highly fragmented.  This is usually the result of calling `frame.insert` many times, which has poor performance.  Consider joining all columns at once using pd.concat(axis=1) instead. To get a de-fragmented frame, use `newframe = frame.copy()`\n",
      "  df[ohe.get_feature_names_out()] = ohe_transformed\n",
      "C:\\Users\\Professional\\AppData\\Local\\Temp\\ipykernel_7676\\2220107148.py:2: PerformanceWarning: DataFrame is highly fragmented.  This is usually the result of calling `frame.insert` many times, which has poor performance.  Consider joining all columns at once using pd.concat(axis=1) instead. To get a de-fragmented frame, use `newframe = frame.copy()`\n",
      "  df[ohe.get_feature_names_out()] = ohe_transformed\n",
      "C:\\Users\\Professional\\AppData\\Local\\Temp\\ipykernel_7676\\2220107148.py:2: PerformanceWarning: DataFrame is highly fragmented.  This is usually the result of calling `frame.insert` many times, which has poor performance.  Consider joining all columns at once using pd.concat(axis=1) instead. To get a de-fragmented frame, use `newframe = frame.copy()`\n",
      "  df[ohe.get_feature_names_out()] = ohe_transformed\n",
      "C:\\Users\\Professional\\AppData\\Local\\Temp\\ipykernel_7676\\2220107148.py:2: PerformanceWarning: DataFrame is highly fragmented.  This is usually the result of calling `frame.insert` many times, which has poor performance.  Consider joining all columns at once using pd.concat(axis=1) instead. To get a de-fragmented frame, use `newframe = frame.copy()`\n",
      "  df[ohe.get_feature_names_out()] = ohe_transformed\n",
      "C:\\Users\\Professional\\AppData\\Local\\Temp\\ipykernel_7676\\2220107148.py:2: PerformanceWarning: DataFrame is highly fragmented.  This is usually the result of calling `frame.insert` many times, which has poor performance.  Consider joining all columns at once using pd.concat(axis=1) instead. To get a de-fragmented frame, use `newframe = frame.copy()`\n",
      "  df[ohe.get_feature_names_out()] = ohe_transformed\n",
      "C:\\Users\\Professional\\AppData\\Local\\Temp\\ipykernel_7676\\2220107148.py:2: PerformanceWarning: DataFrame is highly fragmented.  This is usually the result of calling `frame.insert` many times, which has poor performance.  Consider joining all columns at once using pd.concat(axis=1) instead. To get a de-fragmented frame, use `newframe = frame.copy()`\n",
      "  df[ohe.get_feature_names_out()] = ohe_transformed\n",
      "C:\\Users\\Professional\\AppData\\Local\\Temp\\ipykernel_7676\\2220107148.py:2: PerformanceWarning: DataFrame is highly fragmented.  This is usually the result of calling `frame.insert` many times, which has poor performance.  Consider joining all columns at once using pd.concat(axis=1) instead. To get a de-fragmented frame, use `newframe = frame.copy()`\n",
      "  df[ohe.get_feature_names_out()] = ohe_transformed\n",
      "C:\\Users\\Professional\\AppData\\Local\\Temp\\ipykernel_7676\\2220107148.py:2: PerformanceWarning: DataFrame is highly fragmented.  This is usually the result of calling `frame.insert` many times, which has poor performance.  Consider joining all columns at once using pd.concat(axis=1) instead. To get a de-fragmented frame, use `newframe = frame.copy()`\n",
      "  df[ohe.get_feature_names_out()] = ohe_transformed\n",
      "C:\\Users\\Professional\\AppData\\Local\\Temp\\ipykernel_7676\\2220107148.py:2: PerformanceWarning: DataFrame is highly fragmented.  This is usually the result of calling `frame.insert` many times, which has poor performance.  Consider joining all columns at once using pd.concat(axis=1) instead. To get a de-fragmented frame, use `newframe = frame.copy()`\n",
      "  df[ohe.get_feature_names_out()] = ohe_transformed\n",
      "C:\\Users\\Professional\\AppData\\Local\\Temp\\ipykernel_7676\\2220107148.py:2: PerformanceWarning: DataFrame is highly fragmented.  This is usually the result of calling `frame.insert` many times, which has poor performance.  Consider joining all columns at once using pd.concat(axis=1) instead. To get a de-fragmented frame, use `newframe = frame.copy()`\n",
      "  df[ohe.get_feature_names_out()] = ohe_transformed\n",
      "C:\\Users\\Professional\\AppData\\Local\\Temp\\ipykernel_7676\\2220107148.py:2: PerformanceWarning: DataFrame is highly fragmented.  This is usually the result of calling `frame.insert` many times, which has poor performance.  Consider joining all columns at once using pd.concat(axis=1) instead. To get a de-fragmented frame, use `newframe = frame.copy()`\n",
      "  df[ohe.get_feature_names_out()] = ohe_transformed\n",
      "C:\\Users\\Professional\\AppData\\Local\\Temp\\ipykernel_7676\\2220107148.py:2: PerformanceWarning: DataFrame is highly fragmented.  This is usually the result of calling `frame.insert` many times, which has poor performance.  Consider joining all columns at once using pd.concat(axis=1) instead. To get a de-fragmented frame, use `newframe = frame.copy()`\n",
      "  df[ohe.get_feature_names_out()] = ohe_transformed\n",
      "C:\\Users\\Professional\\AppData\\Local\\Temp\\ipykernel_7676\\2220107148.py:2: PerformanceWarning: DataFrame is highly fragmented.  This is usually the result of calling `frame.insert` many times, which has poor performance.  Consider joining all columns at once using pd.concat(axis=1) instead. To get a de-fragmented frame, use `newframe = frame.copy()`\n",
      "  df[ohe.get_feature_names_out()] = ohe_transformed\n",
      "C:\\Users\\Professional\\AppData\\Local\\Temp\\ipykernel_7676\\2220107148.py:2: PerformanceWarning: DataFrame is highly fragmented.  This is usually the result of calling `frame.insert` many times, which has poor performance.  Consider joining all columns at once using pd.concat(axis=1) instead. To get a de-fragmented frame, use `newframe = frame.copy()`\n",
      "  df[ohe.get_feature_names_out()] = ohe_transformed\n",
      "C:\\Users\\Professional\\AppData\\Local\\Temp\\ipykernel_7676\\2220107148.py:2: PerformanceWarning: DataFrame is highly fragmented.  This is usually the result of calling `frame.insert` many times, which has poor performance.  Consider joining all columns at once using pd.concat(axis=1) instead. To get a de-fragmented frame, use `newframe = frame.copy()`\n",
      "  df[ohe.get_feature_names_out()] = ohe_transformed\n",
      "C:\\Users\\Professional\\AppData\\Local\\Temp\\ipykernel_7676\\2220107148.py:2: PerformanceWarning: DataFrame is highly fragmented.  This is usually the result of calling `frame.insert` many times, which has poor performance.  Consider joining all columns at once using pd.concat(axis=1) instead. To get a de-fragmented frame, use `newframe = frame.copy()`\n",
      "  df[ohe.get_feature_names_out()] = ohe_transformed\n",
      "C:\\Users\\Professional\\AppData\\Local\\Temp\\ipykernel_7676\\2220107148.py:2: PerformanceWarning: DataFrame is highly fragmented.  This is usually the result of calling `frame.insert` many times, which has poor performance.  Consider joining all columns at once using pd.concat(axis=1) instead. To get a de-fragmented frame, use `newframe = frame.copy()`\n",
      "  df[ohe.get_feature_names_out()] = ohe_transformed\n",
      "C:\\Users\\Professional\\AppData\\Local\\Temp\\ipykernel_7676\\2220107148.py:2: PerformanceWarning: DataFrame is highly fragmented.  This is usually the result of calling `frame.insert` many times, which has poor performance.  Consider joining all columns at once using pd.concat(axis=1) instead. To get a de-fragmented frame, use `newframe = frame.copy()`\n",
      "  df[ohe.get_feature_names_out()] = ohe_transformed\n",
      "C:\\Users\\Professional\\AppData\\Local\\Temp\\ipykernel_7676\\2220107148.py:2: PerformanceWarning: DataFrame is highly fragmented.  This is usually the result of calling `frame.insert` many times, which has poor performance.  Consider joining all columns at once using pd.concat(axis=1) instead. To get a de-fragmented frame, use `newframe = frame.copy()`\n",
      "  df[ohe.get_feature_names_out()] = ohe_transformed\n",
      "C:\\Users\\Professional\\AppData\\Local\\Temp\\ipykernel_7676\\2220107148.py:2: PerformanceWarning: DataFrame is highly fragmented.  This is usually the result of calling `frame.insert` many times, which has poor performance.  Consider joining all columns at once using pd.concat(axis=1) instead. To get a de-fragmented frame, use `newframe = frame.copy()`\n",
      "  df[ohe.get_feature_names_out()] = ohe_transformed\n",
      "C:\\Users\\Professional\\AppData\\Local\\Temp\\ipykernel_7676\\2220107148.py:2: PerformanceWarning: DataFrame is highly fragmented.  This is usually the result of calling `frame.insert` many times, which has poor performance.  Consider joining all columns at once using pd.concat(axis=1) instead. To get a de-fragmented frame, use `newframe = frame.copy()`\n",
      "  df[ohe.get_feature_names_out()] = ohe_transformed\n",
      "C:\\Users\\Professional\\AppData\\Local\\Temp\\ipykernel_7676\\2220107148.py:2: PerformanceWarning: DataFrame is highly fragmented.  This is usually the result of calling `frame.insert` many times, which has poor performance.  Consider joining all columns at once using pd.concat(axis=1) instead. To get a de-fragmented frame, use `newframe = frame.copy()`\n",
      "  df[ohe.get_feature_names_out()] = ohe_transformed\n",
      "C:\\Users\\Professional\\AppData\\Local\\Temp\\ipykernel_7676\\2220107148.py:2: PerformanceWarning: DataFrame is highly fragmented.  This is usually the result of calling `frame.insert` many times, which has poor performance.  Consider joining all columns at once using pd.concat(axis=1) instead. To get a de-fragmented frame, use `newframe = frame.copy()`\n",
      "  df[ohe.get_feature_names_out()] = ohe_transformed\n",
      "C:\\Users\\Professional\\AppData\\Local\\Temp\\ipykernel_7676\\2220107148.py:2: PerformanceWarning: DataFrame is highly fragmented.  This is usually the result of calling `frame.insert` many times, which has poor performance.  Consider joining all columns at once using pd.concat(axis=1) instead. To get a de-fragmented frame, use `newframe = frame.copy()`\n",
      "  df[ohe.get_feature_names_out()] = ohe_transformed\n",
      "C:\\Users\\Professional\\AppData\\Local\\Temp\\ipykernel_7676\\2220107148.py:2: PerformanceWarning: DataFrame is highly fragmented.  This is usually the result of calling `frame.insert` many times, which has poor performance.  Consider joining all columns at once using pd.concat(axis=1) instead. To get a de-fragmented frame, use `newframe = frame.copy()`\n",
      "  df[ohe.get_feature_names_out()] = ohe_transformed\n",
      "C:\\Users\\Professional\\AppData\\Local\\Temp\\ipykernel_7676\\2220107148.py:2: PerformanceWarning: DataFrame is highly fragmented.  This is usually the result of calling `frame.insert` many times, which has poor performance.  Consider joining all columns at once using pd.concat(axis=1) instead. To get a de-fragmented frame, use `newframe = frame.copy()`\n",
      "  df[ohe.get_feature_names_out()] = ohe_transformed\n",
      "C:\\Users\\Professional\\AppData\\Local\\Temp\\ipykernel_7676\\2220107148.py:2: PerformanceWarning: DataFrame is highly fragmented.  This is usually the result of calling `frame.insert` many times, which has poor performance.  Consider joining all columns at once using pd.concat(axis=1) instead. To get a de-fragmented frame, use `newframe = frame.copy()`\n",
      "  df[ohe.get_feature_names_out()] = ohe_transformed\n",
      "C:\\Users\\Professional\\AppData\\Local\\Temp\\ipykernel_7676\\2220107148.py:2: PerformanceWarning: DataFrame is highly fragmented.  This is usually the result of calling `frame.insert` many times, which has poor performance.  Consider joining all columns at once using pd.concat(axis=1) instead. To get a de-fragmented frame, use `newframe = frame.copy()`\n",
      "  df[ohe.get_feature_names_out()] = ohe_transformed\n",
      "C:\\Users\\Professional\\AppData\\Local\\Temp\\ipykernel_7676\\2220107148.py:2: PerformanceWarning: DataFrame is highly fragmented.  This is usually the result of calling `frame.insert` many times, which has poor performance.  Consider joining all columns at once using pd.concat(axis=1) instead. To get a de-fragmented frame, use `newframe = frame.copy()`\n",
      "  df[ohe.get_feature_names_out()] = ohe_transformed\n",
      "C:\\Users\\Professional\\AppData\\Local\\Temp\\ipykernel_7676\\2220107148.py:2: PerformanceWarning: DataFrame is highly fragmented.  This is usually the result of calling `frame.insert` many times, which has poor performance.  Consider joining all columns at once using pd.concat(axis=1) instead. To get a de-fragmented frame, use `newframe = frame.copy()`\n",
      "  df[ohe.get_feature_names_out()] = ohe_transformed\n",
      "C:\\Users\\Professional\\AppData\\Local\\Temp\\ipykernel_7676\\2220107148.py:2: PerformanceWarning: DataFrame is highly fragmented.  This is usually the result of calling `frame.insert` many times, which has poor performance.  Consider joining all columns at once using pd.concat(axis=1) instead. To get a de-fragmented frame, use `newframe = frame.copy()`\n",
      "  df[ohe.get_feature_names_out()] = ohe_transformed\n",
      "C:\\Users\\Professional\\AppData\\Local\\Temp\\ipykernel_7676\\2220107148.py:2: PerformanceWarning: DataFrame is highly fragmented.  This is usually the result of calling `frame.insert` many times, which has poor performance.  Consider joining all columns at once using pd.concat(axis=1) instead. To get a de-fragmented frame, use `newframe = frame.copy()`\n",
      "  df[ohe.get_feature_names_out()] = ohe_transformed\n",
      "C:\\Users\\Professional\\AppData\\Local\\Temp\\ipykernel_7676\\2220107148.py:2: PerformanceWarning: DataFrame is highly fragmented.  This is usually the result of calling `frame.insert` many times, which has poor performance.  Consider joining all columns at once using pd.concat(axis=1) instead. To get a de-fragmented frame, use `newframe = frame.copy()`\n",
      "  df[ohe.get_feature_names_out()] = ohe_transformed\n",
      "C:\\Users\\Professional\\AppData\\Local\\Temp\\ipykernel_7676\\2220107148.py:2: PerformanceWarning: DataFrame is highly fragmented.  This is usually the result of calling `frame.insert` many times, which has poor performance.  Consider joining all columns at once using pd.concat(axis=1) instead. To get a de-fragmented frame, use `newframe = frame.copy()`\n",
      "  df[ohe.get_feature_names_out()] = ohe_transformed\n",
      "C:\\Users\\Professional\\AppData\\Local\\Temp\\ipykernel_7676\\2220107148.py:2: PerformanceWarning: DataFrame is highly fragmented.  This is usually the result of calling `frame.insert` many times, which has poor performance.  Consider joining all columns at once using pd.concat(axis=1) instead. To get a de-fragmented frame, use `newframe = frame.copy()`\n",
      "  df[ohe.get_feature_names_out()] = ohe_transformed\n",
      "C:\\Users\\Professional\\AppData\\Local\\Temp\\ipykernel_7676\\2220107148.py:2: PerformanceWarning: DataFrame is highly fragmented.  This is usually the result of calling `frame.insert` many times, which has poor performance.  Consider joining all columns at once using pd.concat(axis=1) instead. To get a de-fragmented frame, use `newframe = frame.copy()`\n",
      "  df[ohe.get_feature_names_out()] = ohe_transformed\n",
      "C:\\Users\\Professional\\AppData\\Local\\Temp\\ipykernel_7676\\2220107148.py:2: PerformanceWarning: DataFrame is highly fragmented.  This is usually the result of calling `frame.insert` many times, which has poor performance.  Consider joining all columns at once using pd.concat(axis=1) instead. To get a de-fragmented frame, use `newframe = frame.copy()`\n",
      "  df[ohe.get_feature_names_out()] = ohe_transformed\n",
      "C:\\Users\\Professional\\AppData\\Local\\Temp\\ipykernel_7676\\2220107148.py:2: PerformanceWarning: DataFrame is highly fragmented.  This is usually the result of calling `frame.insert` many times, which has poor performance.  Consider joining all columns at once using pd.concat(axis=1) instead. To get a de-fragmented frame, use `newframe = frame.copy()`\n",
      "  df[ohe.get_feature_names_out()] = ohe_transformed\n",
      "C:\\Users\\Professional\\AppData\\Local\\Temp\\ipykernel_7676\\2220107148.py:2: PerformanceWarning: DataFrame is highly fragmented.  This is usually the result of calling `frame.insert` many times, which has poor performance.  Consider joining all columns at once using pd.concat(axis=1) instead. To get a de-fragmented frame, use `newframe = frame.copy()`\n",
      "  df[ohe.get_feature_names_out()] = ohe_transformed\n",
      "C:\\Users\\Professional\\AppData\\Local\\Temp\\ipykernel_7676\\2220107148.py:2: PerformanceWarning: DataFrame is highly fragmented.  This is usually the result of calling `frame.insert` many times, which has poor performance.  Consider joining all columns at once using pd.concat(axis=1) instead. To get a de-fragmented frame, use `newframe = frame.copy()`\n",
      "  df[ohe.get_feature_names_out()] = ohe_transformed\n",
      "C:\\Users\\Professional\\AppData\\Local\\Temp\\ipykernel_7676\\2220107148.py:2: PerformanceWarning: DataFrame is highly fragmented.  This is usually the result of calling `frame.insert` many times, which has poor performance.  Consider joining all columns at once using pd.concat(axis=1) instead. To get a de-fragmented frame, use `newframe = frame.copy()`\n",
      "  df[ohe.get_feature_names_out()] = ohe_transformed\n",
      "C:\\Users\\Professional\\AppData\\Local\\Temp\\ipykernel_7676\\2220107148.py:2: PerformanceWarning: DataFrame is highly fragmented.  This is usually the result of calling `frame.insert` many times, which has poor performance.  Consider joining all columns at once using pd.concat(axis=1) instead. To get a de-fragmented frame, use `newframe = frame.copy()`\n",
      "  df[ohe.get_feature_names_out()] = ohe_transformed\n",
      "C:\\Users\\Professional\\AppData\\Local\\Temp\\ipykernel_7676\\2220107148.py:2: PerformanceWarning: DataFrame is highly fragmented.  This is usually the result of calling `frame.insert` many times, which has poor performance.  Consider joining all columns at once using pd.concat(axis=1) instead. To get a de-fragmented frame, use `newframe = frame.copy()`\n",
      "  df[ohe.get_feature_names_out()] = ohe_transformed\n",
      "C:\\Users\\Professional\\AppData\\Local\\Temp\\ipykernel_7676\\2220107148.py:2: PerformanceWarning: DataFrame is highly fragmented.  This is usually the result of calling `frame.insert` many times, which has poor performance.  Consider joining all columns at once using pd.concat(axis=1) instead. To get a de-fragmented frame, use `newframe = frame.copy()`\n",
      "  df[ohe.get_feature_names_out()] = ohe_transformed\n",
      "C:\\Users\\Professional\\AppData\\Local\\Temp\\ipykernel_7676\\2220107148.py:2: PerformanceWarning: DataFrame is highly fragmented.  This is usually the result of calling `frame.insert` many times, which has poor performance.  Consider joining all columns at once using pd.concat(axis=1) instead. To get a de-fragmented frame, use `newframe = frame.copy()`\n",
      "  df[ohe.get_feature_names_out()] = ohe_transformed\n",
      "C:\\Users\\Professional\\AppData\\Local\\Temp\\ipykernel_7676\\2220107148.py:2: PerformanceWarning: DataFrame is highly fragmented.  This is usually the result of calling `frame.insert` many times, which has poor performance.  Consider joining all columns at once using pd.concat(axis=1) instead. To get a de-fragmented frame, use `newframe = frame.copy()`\n",
      "  df[ohe.get_feature_names_out()] = ohe_transformed\n",
      "C:\\Users\\Professional\\AppData\\Local\\Temp\\ipykernel_7676\\2220107148.py:2: PerformanceWarning: DataFrame is highly fragmented.  This is usually the result of calling `frame.insert` many times, which has poor performance.  Consider joining all columns at once using pd.concat(axis=1) instead. To get a de-fragmented frame, use `newframe = frame.copy()`\n",
      "  df[ohe.get_feature_names_out()] = ohe_transformed\n",
      "C:\\Users\\Professional\\AppData\\Local\\Temp\\ipykernel_7676\\2220107148.py:2: PerformanceWarning: DataFrame is highly fragmented.  This is usually the result of calling `frame.insert` many times, which has poor performance.  Consider joining all columns at once using pd.concat(axis=1) instead. To get a de-fragmented frame, use `newframe = frame.copy()`\n",
      "  df[ohe.get_feature_names_out()] = ohe_transformed\n",
      "C:\\Users\\Professional\\AppData\\Local\\Temp\\ipykernel_7676\\2220107148.py:2: PerformanceWarning: DataFrame is highly fragmented.  This is usually the result of calling `frame.insert` many times, which has poor performance.  Consider joining all columns at once using pd.concat(axis=1) instead. To get a de-fragmented frame, use `newframe = frame.copy()`\n",
      "  df[ohe.get_feature_names_out()] = ohe_transformed\n",
      "C:\\Users\\Professional\\AppData\\Local\\Temp\\ipykernel_7676\\2220107148.py:2: PerformanceWarning: DataFrame is highly fragmented.  This is usually the result of calling `frame.insert` many times, which has poor performance.  Consider joining all columns at once using pd.concat(axis=1) instead. To get a de-fragmented frame, use `newframe = frame.copy()`\n",
      "  df[ohe.get_feature_names_out()] = ohe_transformed\n",
      "C:\\Users\\Professional\\AppData\\Local\\Temp\\ipykernel_7676\\2220107148.py:2: PerformanceWarning: DataFrame is highly fragmented.  This is usually the result of calling `frame.insert` many times, which has poor performance.  Consider joining all columns at once using pd.concat(axis=1) instead. To get a de-fragmented frame, use `newframe = frame.copy()`\n",
      "  df[ohe.get_feature_names_out()] = ohe_transformed\n",
      "C:\\Users\\Professional\\AppData\\Local\\Temp\\ipykernel_7676\\2220107148.py:2: PerformanceWarning: DataFrame is highly fragmented.  This is usually the result of calling `frame.insert` many times, which has poor performance.  Consider joining all columns at once using pd.concat(axis=1) instead. To get a de-fragmented frame, use `newframe = frame.copy()`\n",
      "  df[ohe.get_feature_names_out()] = ohe_transformed\n"
     ]
    },
    {
     "data": {
      "text/plain": "           id                                                url  \\\n0  7308295377  https://chattanooga.craigslist.org/ctd/d/chatt...   \n1  7316380095  https://newjersey.craigslist.org/ctd/d/carlsta...   \n2  7313733749  https://reno.craigslist.org/ctd/d/atlanta-2017...   \n3  7308210929  https://fayetteville.craigslist.org/ctd/d/rale...   \n4  7303797340  https://knoxville.craigslist.org/ctd/d/knoxvil...   \n\n         region                           region_url  price  year  \\\n0   chattanooga   https://chattanooga.craigslist.org  54990  2020   \n1  north jersey     https://newjersey.craigslist.org  16942  2016   \n2  reno / tahoe          https://reno.craigslist.org  35590  2017   \n3  fayetteville  https://fayetteville.craigslist.org  14500  2013   \n4     knoxville     https://knoxville.craigslist.org  14590  2012   \n\n  manufacturer                   model    fuel  odometer  ... state_wy  \\\n0          ram  2500 crew cab big horn  diesel     27442  ...      0.0   \n1         ford    explorer 4wd 4dr xlt   other     60023  ...      0.0   \n2   volkswagen        golf r hatchback     gas     14048  ...      0.0   \n3       toyota                    rav4     gas    117291  ...      0.0   \n4          bmw  1 series 128i coupe 2d   other     80465  ...      0.0   \n\n  title_status_clean title_status_lien title_status_missing  \\\n0                1.0               0.0                  0.0   \n1                1.0               0.0                  0.0   \n2                1.0               0.0                  0.0   \n3                1.0               0.0                  0.0   \n4                1.0               0.0                  0.0   \n\n  title_status_parts only  title_status_rebuilt  title_status_salvage  \\\n0                     0.0                   0.0                   0.0   \n1                     0.0                   0.0                   0.0   \n2                     0.0                   0.0                   0.0   \n3                     0.0                   0.0                   0.0   \n4                     0.0                   0.0                   0.0   \n\n  age_category_average age_category_new age_category_old  \n0                  0.0              1.0              0.0  \n1                  0.0              1.0              0.0  \n2                  0.0              1.0              0.0  \n3                  1.0              0.0              0.0  \n4                  1.0              0.0              0.0  \n\n[5 rows x 1485 columns]",
      "text/html": "<div>\n<style scoped>\n    .dataframe tbody tr th:only-of-type {\n        vertical-align: middle;\n    }\n\n    .dataframe tbody tr th {\n        vertical-align: top;\n    }\n\n    .dataframe thead th {\n        text-align: right;\n    }\n</style>\n<table border=\"1\" class=\"dataframe\">\n  <thead>\n    <tr style=\"text-align: right;\">\n      <th></th>\n      <th>id</th>\n      <th>url</th>\n      <th>region</th>\n      <th>region_url</th>\n      <th>price</th>\n      <th>year</th>\n      <th>manufacturer</th>\n      <th>model</th>\n      <th>fuel</th>\n      <th>odometer</th>\n      <th>...</th>\n      <th>state_wy</th>\n      <th>title_status_clean</th>\n      <th>title_status_lien</th>\n      <th>title_status_missing</th>\n      <th>title_status_parts only</th>\n      <th>title_status_rebuilt</th>\n      <th>title_status_salvage</th>\n      <th>age_category_average</th>\n      <th>age_category_new</th>\n      <th>age_category_old</th>\n    </tr>\n  </thead>\n  <tbody>\n    <tr>\n      <th>0</th>\n      <td>7308295377</td>\n      <td>https://chattanooga.craigslist.org/ctd/d/chatt...</td>\n      <td>chattanooga</td>\n      <td>https://chattanooga.craigslist.org</td>\n      <td>54990</td>\n      <td>2020</td>\n      <td>ram</td>\n      <td>2500 crew cab big horn</td>\n      <td>diesel</td>\n      <td>27442</td>\n      <td>...</td>\n      <td>0.0</td>\n      <td>1.0</td>\n      <td>0.0</td>\n      <td>0.0</td>\n      <td>0.0</td>\n      <td>0.0</td>\n      <td>0.0</td>\n      <td>0.0</td>\n      <td>1.0</td>\n      <td>0.0</td>\n    </tr>\n    <tr>\n      <th>1</th>\n      <td>7316380095</td>\n      <td>https://newjersey.craigslist.org/ctd/d/carlsta...</td>\n      <td>north jersey</td>\n      <td>https://newjersey.craigslist.org</td>\n      <td>16942</td>\n      <td>2016</td>\n      <td>ford</td>\n      <td>explorer 4wd 4dr xlt</td>\n      <td>other</td>\n      <td>60023</td>\n      <td>...</td>\n      <td>0.0</td>\n      <td>1.0</td>\n      <td>0.0</td>\n      <td>0.0</td>\n      <td>0.0</td>\n      <td>0.0</td>\n      <td>0.0</td>\n      <td>0.0</td>\n      <td>1.0</td>\n      <td>0.0</td>\n    </tr>\n    <tr>\n      <th>2</th>\n      <td>7313733749</td>\n      <td>https://reno.craigslist.org/ctd/d/atlanta-2017...</td>\n      <td>reno / tahoe</td>\n      <td>https://reno.craigslist.org</td>\n      <td>35590</td>\n      <td>2017</td>\n      <td>volkswagen</td>\n      <td>golf r hatchback</td>\n      <td>gas</td>\n      <td>14048</td>\n      <td>...</td>\n      <td>0.0</td>\n      <td>1.0</td>\n      <td>0.0</td>\n      <td>0.0</td>\n      <td>0.0</td>\n      <td>0.0</td>\n      <td>0.0</td>\n      <td>0.0</td>\n      <td>1.0</td>\n      <td>0.0</td>\n    </tr>\n    <tr>\n      <th>3</th>\n      <td>7308210929</td>\n      <td>https://fayetteville.craigslist.org/ctd/d/rale...</td>\n      <td>fayetteville</td>\n      <td>https://fayetteville.craigslist.org</td>\n      <td>14500</td>\n      <td>2013</td>\n      <td>toyota</td>\n      <td>rav4</td>\n      <td>gas</td>\n      <td>117291</td>\n      <td>...</td>\n      <td>0.0</td>\n      <td>1.0</td>\n      <td>0.0</td>\n      <td>0.0</td>\n      <td>0.0</td>\n      <td>0.0</td>\n      <td>0.0</td>\n      <td>1.0</td>\n      <td>0.0</td>\n      <td>0.0</td>\n    </tr>\n    <tr>\n      <th>4</th>\n      <td>7303797340</td>\n      <td>https://knoxville.craigslist.org/ctd/d/knoxvil...</td>\n      <td>knoxville</td>\n      <td>https://knoxville.craigslist.org</td>\n      <td>14590</td>\n      <td>2012</td>\n      <td>bmw</td>\n      <td>1 series 128i coupe 2d</td>\n      <td>other</td>\n      <td>80465</td>\n      <td>...</td>\n      <td>0.0</td>\n      <td>1.0</td>\n      <td>0.0</td>\n      <td>0.0</td>\n      <td>0.0</td>\n      <td>0.0</td>\n      <td>0.0</td>\n      <td>1.0</td>\n      <td>0.0</td>\n      <td>0.0</td>\n    </tr>\n  </tbody>\n</table>\n<p>5 rows × 1485 columns</p>\n</div>"
     },
     "execution_count": 153,
     "metadata": {},
     "output_type": "execute_result"
    }
   ],
   "source": [
    "# Ваш код здесь\n",
    "df[ohe.get_feature_names_out()] = ohe_transformed\n",
    "df.head(5)"
   ]
  },
  {
   "cell_type": "code",
   "execution_count": 154,
   "id": "211b5583",
   "metadata": {
    "pycharm": {
     "name": "#%%\n"
    }
   },
   "outputs": [
    {
     "data": {
      "text/plain": "['id',\n 'url',\n 'region',\n 'region_url',\n 'price',\n 'year',\n 'manufacturer',\n 'model',\n 'fuel',\n 'odometer',\n 'title_status',\n 'transmission',\n 'image_url',\n 'description',\n 'state',\n 'lat',\n 'long',\n 'posting_date',\n 'price_category',\n 'date',\n 'odometer_km',\n 'odometer/price',\n 'region_new',\n 'region_corrected',\n 'manufacturer_model',\n 'desc_len',\n 'model_in_desc',\n 'price_k$',\n 'age_category',\n 'model_len',\n 'model_word_count',\n 'is_audi',\n 'is_ford',\n 'is_chevrolet',\n 'is_toyota',\n 'is_jeep',\n 'is_honda',\n 'is_nissan',\n 'x0_diesel',\n 'x0_electric',\n 'x0_gas',\n 'x0_hybrid',\n 'x0_other',\n 'std_scaled_odometer',\n 'std_scaled_price',\n 'short_model',\n 'short_model_-benz',\n 'short_model_1',\n 'short_model_124',\n 'short_model_128i',\n 'short_model_135i',\n 'short_model_1500',\n 'short_model_163869',\n 'short_model_1928',\n 'short_model_1951',\n 'short_model_1954',\n 'short_model_1960s',\n 'short_model_1966',\n 'short_model_1968',\n 'short_model_1972',\n 'short_model_1977',\n 'short_model_1978',\n 'short_model_198.5',\n 'short_model_1988',\n 'short_model_1994',\n 'short_model_1999',\n 'short_model_2',\n 'short_model_200',\n 'short_model_2000',\n 'short_model_2002',\n 'short_model_2006',\n 'short_model_2007',\n 'short_model_2008',\n 'short_model_2009',\n 'short_model_2012',\n 'short_model_2015',\n 'short_model_2016',\n 'short_model_2017',\n 'short_model_2018',\n 'short_model_210',\n 'short_model_240',\n 'short_model_2500',\n 'short_model_2500hd',\n 'short_model_280zx',\n 'short_model_3',\n 'short_model_3-series',\n 'short_model_3-window',\n 'short_model_3.2',\n 'short_model_300',\n 'short_model_300-series',\n 'short_model_300c',\n 'short_model_300s',\n 'short_model_300zx',\n 'short_model_3100',\n 'short_model_318i',\n 'short_model_320i',\n 'short_model_323i',\n 'short_model_325ci',\n 'short_model_325i',\n 'short_model_325is',\n 'short_model_325xi',\n 'short_model_328',\n 'short_model_328ci',\n 'short_model_328d',\n 'short_model_328i',\n 'short_model_328xi',\n 'short_model_330i',\n 'short_model_330xi',\n 'short_model_335i',\n 'short_model_335xi',\n 'short_model_350',\n 'short_model_3500',\n 'short_model_3500hd',\n 'short_model_350z',\n 'short_model_370z',\n 'short_model_380sl',\n 'short_model_3i',\n 'short_model_4',\n 'short_model_4-runner',\n 'short_model_428',\n 'short_model_430i',\n 'short_model_435i',\n 'short_model_440xi',\n 'short_model_4500',\n 'short_model_4runner',\n 'short_model_4x4',\n 'short_model_5',\n 'short_model_5-series',\n 'short_model_50',\n 'short_model_500',\n 'short_model_500c',\n 'short_model_500l',\n 'short_model_500x',\n 'short_model_525i',\n 'short_model_528i',\n 'short_model_528xi',\n 'short_model_530',\n 'short_model_530i',\n 'short_model_535i',\n 'short_model_535xi',\n 'short_model_540i',\n 'short_model_545i',\n 'short_model_5500',\n 'short_model_5500hd',\n 'short_model_550i',\n 'short_model_5th',\n 'short_model_6',\n 'short_model_640',\n 'short_model_645ci',\n 'short_model_650i',\n 'short_model_650xi',\n 'short_model_7',\n 'short_model_750',\n 'short_model_750i',\n 'short_model_750xi',\n 'short_model_86',\n 'short_model_911',\n 'short_model_914',\n 'short_model_928',\n 'short_model_944',\n 'short_model_ACURA*',\n 'short_model_ALL',\n 'short_model_AM',\n 'short_model_AMC',\n 'short_model_ASC',\n 'short_model_Acuarea',\n 'short_model_American',\n 'short_model_BUY',\n 'short_model_Bentley',\n 'short_model_Blue',\n 'short_model_Buicks',\n 'short_model_C',\n 'short_model_CHEVORLET',\n 'short_model_CLICK',\n 'short_model_Champion',\n 'short_model_Chevey',\n 'short_model_Chevorlet',\n 'short_model_Comanche',\n 'short_model_Comet',\n 'short_model_D7FH173552',\n 'short_model_DODGE1500',\n 'short_model_Diahatsu',\n 'short_model_E46',\n 'short_model_EASY',\n 'short_model_Eagle',\n 'short_model_Emergency',\n 'short_model_F-250',\n 'short_model_F250',\n 'short_model_FORD*',\n 'short_model_FORD/RANGER',\n 'short_model_FREIGHTLINER',\n 'short_model_FRRV',\n 'short_model_Flexible',\n 'short_model_FordE350',\n 'short_model_Freightliner',\n 'short_model_Frtlner',\n 'short_model_GCM',\n 'short_model_GEHL',\n 'short_model_GMC,',\n 'short_model_GMX',\n 'short_model_GRAND',\n 'short_model_GULF',\n 'short_model_Genesis',\n 'short_model_Gx',\n 'short_model_HINO',\n 'short_model_HUMMER',\n 'short_model_Hino',\n 'short_model_Hobda',\n 'short_model_Hot',\n 'short_model_Hummer',\n 'short_model_IC',\n 'short_model_INTERNATIONAL',\n 'short_model_International',\n 'short_model_Isizu',\n 'short_model_Isuzu',\n 'short_model_JM1BK32F871604924',\n 'short_model_Janesville',\n 'short_model_Jauguar',\n 'short_model_Jayco',\n 'short_model_Kaiser',\n 'short_model_Lotus',\n 'short_model_MASERATI',\n 'short_model_MERCUTY',\n 'short_model_MERDECES',\n 'short_model_MGB',\n 'short_model_MITUSBISHI',\n 'short_model_MV-1',\n 'short_model_Maserati',\n 'short_model_Minin',\n 'short_model_Nascar',\n 'short_model_OLDSMOBILE',\n 'short_model_PLYMOUTH',\n 'short_model_PROGRAMS',\n 'short_model_Peterbilt',\n 'short_model_Pierce',\n 'short_model_Plymouth',\n 'short_model_QX',\n 'short_model_S60',\n 'short_model_SCION',\n 'short_model_SL',\n 'short_model_Saab',\n 'short_model_Scion',\n 'short_model_Sea',\n 'short_model_Sterling',\n 'short_model_Studebaker',\n 'short_model_Suzuki',\n 'short_model_THOMAS',\n 'short_model_Thomas',\n 'short_model_Town',\n 'short_model_Triumph',\n 'short_model_Voltswagon',\n 'short_model_Xx',\n 'short_model_a-class',\n 'short_model_a3',\n 'short_model_a3,',\n 'short_model_a4',\n 'short_model_a5',\n 'short_model_a6',\n 'short_model_a7',\n 'short_model_a8',\n 'short_model_acadia',\n 'short_model_accent',\n 'short_model_accord',\n 'short_model_all',\n 'short_model_allante',\n 'short_model_allroad',\n 'short_model_altima',\n 'short_model_am',\n 'short_model_amc',\n 'short_model_arcadia',\n 'short_model_armada',\n 'short_model_arteon',\n 'short_model_ascent',\n 'short_model_aspen',\n 'short_model_astra',\n 'short_model_astro',\n 'short_model_atlas',\n 'short_model_ats',\n 'short_model_aura',\n 'short_model_autobiography',\n 'short_model_avalanche',\n 'short_model_avalon',\n 'short_model_avanger',\n 'short_model_avenger',\n 'short_model_aveo',\n 'short_model_aviator',\n 'short_model_azera',\n 'short_model_aztek',\n 'short_model_b-class',\n 'short_model_b-series',\n 'short_model_b2200',\n 'short_model_b2300',\n 'short_model_b2600i',\n 'short_model_baja',\n 'short_model_beetle',\n 'short_model_bel',\n 'short_model_belair',\n 'short_model_benz',\n 'short_model_blackwood',\n 'short_model_blazer',\n 'short_model_blue',\n 'short_model_bolt',\n 'short_model_bonanza',\n 'short_model_bonneville',\n 'short_model_boxster',\n 'short_model_bronco',\n 'short_model_brz',\n 'short_model_bug',\n 'short_model_bus',\n 'short_model_c',\n 'short_model_c-10',\n 'short_model_c-7500',\n 'short_model_c-class',\n 'short_model_c-hr',\n 'short_model_c-max',\n 'short_model_c/k',\n 'short_model_c10',\n 'short_model_c250',\n 'short_model_c280',\n 'short_model_c30',\n 'short_model_c300',\n 'short_model_c4500',\n 'short_model_c5500',\n 'short_model_c60',\n 'short_model_c6500',\n 'short_model_c70',\n 'short_model_c8500',\n 'short_model_cabellero',\n 'short_model_cabrio',\n 'short_model_caddilac',\n 'short_model_cadenza',\n 'short_model_caliber',\n 'short_model_camaro',\n 'short_model_camary',\n 'short_model_camero',\n 'short_model_camry',\n 'short_model_canyon',\n 'short_model_capri',\n 'short_model_caprice',\n 'short_model_captiva',\n 'short_model_caravan',\n 'short_model_caravan/grand',\n 'short_model_cargo',\n 'short_model_cascada',\n 'short_model_cavalier',\n 'short_model_cayenne',\n 'short_model_cayman',\n 'short_model_cc',\n 'short_model_cc300',\n 'short_model_cc4500',\n 'short_model_century',\n 'short_model_certified',\n 'short_model_challenger',\n 'short_model_charger',\n 'short_model_cherokee',\n 'short_model_chevelle',\n 'short_model_chevorlet',\n 'short_model_chryler',\n 'short_model_chysler',\n 'short_model_city',\n 'short_model_civic',\n 'short_model_cj-5',\n 'short_model_cj2a',\n 'short_model_cj5',\n 'short_model_cj7',\n 'short_model_cj8',\n 'short_model_cl-class',\n 'short_model_cla',\n 'short_model_cla-class',\n 'short_model_clarity',\n 'short_model_classic',\n 'short_model_classuc',\n 'short_model_clk',\n 'short_model_clk-class',\n 'short_model_clk350',\n 'short_model_cls-class',\n 'short_model_cls550',\n 'short_model_clubman',\n 'short_model_cmax',\n 'short_model_cobalt',\n 'short_model_colbalt',\n 'short_model_colorado',\n 'short_model_comet',\n 'short_model_commander',\n 'short_model_compass',\n 'short_model_concorde',\n 'short_model_conquest',\n 'short_model_continental',\n 'short_model_convertible',\n 'short_model_cooper',\n 'short_model_corolla',\n 'short_model_corsair',\n 'short_model_corvette',\n 'short_model_cougar',\n 'short_model_country',\n 'short_model_countryman',\n 'short_model_coupe',\n 'short_model_cr-v',\n 'short_model_crew',\n 'short_model_crossfire',\n 'short_model_crosstour',\n 'short_model_crosstrek',\n 'short_model_crown',\n 'short_model_cruze',\n 'short_model_crv',\n 'short_model_crz',\n 'short_model_ct',\n 'short_model_ct4',\n 'short_model_ct5',\n 'short_model_ct6',\n 'short_model_cts',\n 'short_model_cts-v',\n 'short_model_cts4',\n 'short_model_cube',\n 'short_model_cvr',\n 'short_model_cx-3',\n 'short_model_cx-5',\n 'short_model_cx-7',\n 'short_model_cx-9',\n 'short_model_cx7',\n 'short_model_cx9',\n 'short_model_d50',\n 'short_model_dakota',\n 'short_model_dart',\n 'short_model_davidson',\n 'short_model_dealer*',\n 'short_model_defender',\n 'short_model_deisel',\n 'short_model_deluxe',\n 'short_model_denali',\n 'short_model_deville',\n 'short_model_diesel',\n 'short_model_discovery',\n 'short_model_dts',\n 'short_model_dump',\n 'short_model_duramax',\n 'short_model_durango',\n 'short_model_durangon',\n 'short_model_e',\n 'short_model_e-150',\n 'short_model_e-250',\n 'short_model_e-350',\n 'short_model_e-450',\n 'short_model_e-class',\n 'short_model_e-golf',\n 'short_model_e-pace',\n 'short_model_e-series',\n 'short_model_e150',\n 'short_model_e250',\n 'short_model_e320',\n 'short_model_e350',\n 'short_model_e450',\n 'short_model_e46',\n 'short_model_e500',\n 'short_model_echo',\n 'short_model_eclipse',\n 'short_model_econoline',\n 'short_model_ecosport',\n 'short_model_edge',\n 'short_model_el',\n 'short_model_elantra',\n 'short_model_elcamino',\n 'short_model_eldorado',\n 'short_model_element',\n 'short_model_enclave',\n 'short_model_encore',\n 'short_model_endeavor',\n 'short_model_envision',\n 'short_model_envoy',\n 'short_model_eos',\n 'short_model_eqinox',\n 'short_model_equinox',\n 'short_model_es',\n 'short_model_es300',\n 'short_model_es330',\n 'short_model_es350',\n 'short_model_escalade',\n 'short_model_escape',\n 'short_model_escape-se,',\n 'short_model_escort',\n 'short_model_eurovan',\n 'short_model_evoque',\n 'short_model_excursion',\n 'short_model_expedition',\n 'short_model_explorer',\n 'short_model_express',\n 'short_model_f',\n 'short_model_f-100',\n 'short_model_f-150',\n 'short_model_f-250',\n 'short_model_f-250sd',\n 'short_model_f-350',\n 'short_model_f-350sd',\n 'short_model_f-450',\n 'short_model_f-450sd',\n 'short_model_f-550',\n 'short_model_f-650',\n 'short_model_f-750',\n 'short_model_f-pace',\n 'short_model_f-type',\n 'short_model_f1',\n 'short_model_f100',\n 'short_model_f150',\n 'short_model_f250',\n 'short_model_f350',\n 'short_model_f450',\n 'short_model_f450sd',\n 'short_model_f50',\n 'short_model_f550',\n 'short_model_f600',\n 'short_model_f650',\n 'short_model_f700',\n 'short_model_f750',\n 'short_model_falcon',\n 'short_model_fe',\n 'short_model_fiero',\n 'short_model_fiesta',\n 'short_model_firebird',\n 'short_model_fit',\n 'short_model_five',\n 'short_model_fj',\n 'short_model_fj40',\n 'short_model_fleetmaster',\n 'short_model_fleetwood',\n 'short_model_flex',\n 'short_model_focus',\n 'short_model_fords',\n 'short_model_forester',\n 'short_model_forte',\n 'short_model_forte5',\n 'short_model_foxbody',\n 'short_model_freestar',\n 'short_model_freestyle',\n 'short_model_freightliner',\n 'short_model_frontier',\n 'short_model_fusion',\n 'short_model_fuso',\n 'short_model_fx35',\n 'short_model_fx45',\n 'short_model_g',\n 'short_model_g-class',\n 'short_model_g.',\n 'short_model_g20',\n 'short_model_g30',\n 'short_model_g35',\n 'short_model_g35x',\n 'short_model_g37',\n 'short_model_g37s',\n 'short_model_g37x',\n 'short_model_g4500',\n 'short_model_g5',\n 'short_model_g6',\n 'short_model_g8',\n 'short_model_galant',\n 'short_model_genesis',\n 'short_model_ghia',\n 'short_model_gl',\n 'short_model_gl-class',\n 'short_model_gl450',\n 'short_model_gla',\n 'short_model_gla-class',\n 'short_model_gladiator',\n 'short_model_glc',\n 'short_model_glc-class',\n 'short_model_gle',\n 'short_model_gle-class',\n 'short_model_glk',\n 'short_model_glk-class',\n 'short_model_glk350',\n 'short_model_gls',\n 'short_model_gmc/chev',\n 'short_model_gmce',\n 'short_model_gmt-400',\n 'short_model_golf',\n 'short_model_gr',\n 'short_model_grand',\n 'short_model_grandville',\n 'short_model_grumman',\n 'short_model_gs',\n 'short_model_gs350',\n 'short_model_gs430',\n 'short_model_gt',\n 'short_model_gt-r',\n 'short_model_gti',\n 'short_model_gto',\n 'short_model_gx',\n 'short_model_gx460',\n 'short_model_gx470',\n 'short_model_hardbody',\n 'short_model_hardtop',\n 'short_model_hearse',\n 'short_model_hhr',\n 'short_model_hiace',\n 'short_model_high',\n 'short_model_highlander',\n 'short_model_hr-v',\n 'short_model_hse',\n 'short_model_hummer',\n 'short_model_hyndai',\n 'short_model_i-miev',\n 'short_model_i3',\n 'short_model_i30',\n 'short_model_i35',\n 'short_model_ilx',\n 'short_model_impala',\n 'short_model_impreza',\n 'short_model_insight',\n 'short_model_international',\n 'short_model_ion',\n 'short_model_ioniq',\n 'short_model_is',\n 'short_model_is250',\n 'short_model_is300',\n 'short_model_isf',\n 'short_model_isuzu',\n 'short_model_jeepster',\n 'short_model_jetta',\n 'short_model_jimmy',\n 'short_model_jouney',\n 'short_model_journey',\n 'short_model_juke',\n 'short_model_jx35',\n 'short_model_k10',\n 'short_model_k20',\n 'short_model_k30',\n 'short_model_k5',\n 'short_model_k900',\n 'short_model_kicks',\n 'short_model_kodiak',\n 'short_model_l',\n 'short_model_l300',\n 'short_model_lacrosse',\n 'short_model_lancer',\n 'short_model_land',\n 'short_model_landcruiser',\n 'short_model_leaf',\n 'short_model_legacy',\n 'short_model_legend',\n 'short_model_lemans',\n 'short_model_lesabre',\n 'short_model_liberty',\n 'short_model_lifted',\n 'short_model_lightning',\n 'short_model_limousine',\n 'short_model_long',\n 'short_model_lr2',\n 'short_model_lr3',\n 'short_model_lr4',\n 'short_model_ls',\n 'short_model_ltd',\n 'short_model_lucerne',\n 'short_model_lx',\n 'short_model_lx450',\n 'short_model_m',\n 'short_model_m-class',\n 'short_model_m3',\n 'short_model_m35',\n 'short_model_m35s',\n 'short_model_m5',\n 'short_model_macan',\n 'short_model_magnum',\n 'short_model_malibu',\n 'short_model_mallinia',\n 'short_model_marineer,premier',\n 'short_model_mariner',\n 'short_model_mark',\n 'short_model_maserati',\n 'short_model_matrix',\n 'short_model_maxima',\n 'short_model_maximum',\n 'short_model_mazda2',\n 'short_model_mazda3',\n 'short_model_mazda5',\n 'short_model_mazda6',\n 'short_model_mazda6i',\n 'short_model_md-x',\n 'short_model_mdx',\n 'short_model_mercades',\n 'short_model_mercedes-amg',\n 'short_model_metris',\n 'short_model_mg',\n 'short_model_miata',\n 'short_model_milan',\n 'short_model_mirage',\n 'short_model_mkc',\n 'short_model_mks',\n 'short_model_mkt',\n 'short_model_mkx',\n 'short_model_mkz',\n 'short_model_ml',\n 'short_model_ml350',\n 'short_model_ml500',\n 'short_model_model',\n 'short_model_monte',\n 'short_model_montero',\n 'short_model_mountaineer',\n 'short_model_mpv',\n 'short_model_mr2',\n 'short_model_murano',\n 'short_model_mustang',\n 'short_model_mx-5',\n 'short_model_nautilus',\n 'short_model_navigator',\n 'short_model_neon',\n 'short_model_new',\n 'short_model_newport',\n 'short_model_niro',\n 'short_model_nitro',\n 'short_model_nova',\n 'short_model_nv',\n 'short_model_nv1500',\n 'short_model_nv200',\n 'short_model_nv2500',\n 'short_model_nv2500hd',\n 'short_model_nx',\n 'short_model_nx300',\n 'short_model_oddyssey',\n 'short_model_odyssey',\n 'short_model_oldsmobile',\n 'short_model_optima',\n 'short_model_optimia',\n 'short_model_other',\n 'short_model_outback',\n 'short_model_outlander',\n 'short_model_outlook',\n 'short_model_paceman',\n 'short_model_pacifica',\n 'short_model_panamera',\n 'short_model_panel',\n 'short_model_park',\n 'short_model_passat',\n 'short_model_passport',\n 'short_model_pathfinder',\n 'short_model_patriot',\n 'short_model_phaeton',\n 'short_model_pick',\n 'short_model_pickup',\n 'short_model_pilot',\n 'short_model_plymouth',\n 'short_model_pontaic',\n 'short_model_prelude',\n 'short_model_prius',\n 'short_model_prizm',\n 'short_model_promaster',\n 'short_model_protege',\n 'short_model_pt',\n 'short_model_putback',\n 'short_model_q3',\n 'short_model_q5',\n 'short_model_q50',\n 'short_model_q60',\n 'short_model_q7',\n 'short_model_q70',\n 'short_model_quattro',\n 'short_model_quest',\n 'short_model_qx50',\n 'short_model_qx56',\n 'short_model_qx60',\n 'short_model_qx70',\n 'short_model_qx80',\n 'short_model_r-class',\n 'short_model_r32',\n 'short_model_rabbit',\n 'short_model_rainier',\n 'short_model_ram1500',\n 'short_model_ram2500',\n 'short_model_ramcharger',\n 'short_model_range',\n 'short_model_ranger',\n 'short_model_rat',\n 'short_model_rav',\n 'short_model_rav4',\n 'short_model_rc',\n 'short_model_rdx',\n 'short_model_reatta',\n 'short_model_rebel',\n 'short_model_regal',\n 'short_model_rendezvous',\n 'short_model_renegade',\n 'short_model_replica',\n 'short_model_ridgeline',\n 'short_model_rio',\n 'short_model_rivera',\n 'short_model_riviera',\n 'short_model_rl',\n 'short_model_rlx',\n 'short_model_roadmaster',\n 'short_model_roadster',\n 'short_model_rogue',\n 'short_model_romeo',\n 'short_model_rondo',\n 'short_model_rouge',\n 'short_model_routan',\n 'short_model_rs',\n 'short_model_rsx',\n 'short_model_rx',\n 'short_model_rx-8',\n 'short_model_rx300',\n 'short_model_rx330',\n 'short_model_rx350',\n 'short_model_rx400h',\n 'short_model_rx7',\n 'short_model_rx8',\n 'short_model_s',\n 'short_model_s-10',\n 'short_model_s-class',\n 'short_model_s/w',\n 'short_model_s10',\n 'short_model_s2000',\n 'short_model_s3',\n 'short_model_s320',\n 'short_model_s4',\n 'short_model_s40',\n 'short_model_s430',\n 'short_model_s5',\n 'short_model_s500',\n 'short_model_s6',\n 'short_model_s60',\n 'short_model_s7',\n 'short_model_s70',\n 'short_model_s8',\n 'short_model_s90',\n 'short_model_saab',\n 'short_model_sable',\n 'short_model_santa',\n 'short_model_sante',\n 'short_model_savana',\n 'short_model_sc',\n 'short_model_sc2',\n 'short_model_sc300',\n 'short_model_school',\n 'short_model_scion',\n 'short_model_sebring',\n 'short_model_sedan',\n 'short_model_sedona',\n 'short_model_seirra',\n 'short_model_sentra',\n 'short_model_sequioa',\n 'short_model_sequoia',\n 'short_model_seville',\n 'short_model_shelby',\n 'short_model_sienna',\n 'short_model_sierra',\n 'short_model_sierra1500',\n 'short_model_silverado',\n 'short_model_sky',\n 'short_model_skylark',\n 'short_model_sl-class',\n 'short_model_sl2',\n 'short_model_sl500',\n 'short_model_sl55',\n 'short_model_sl550',\n 'short_model_slc',\n 'short_model_sle',\n 'short_model_slk',\n 'short_model_slk-class',\n 'short_model_slt',\n 'short_model_smart',\n 'short_model_solara',\n 'short_model_solstice',\n 'short_model_sonata',\n 'short_model_sonic',\n 'short_model_sonoma',\n 'short_model_sorento',\n 'short_model_sorrento',\n 'short_model_soul',\n 'short_model_soul+',\n 'short_model_spark',\n 'short_model_spectra',\n 'short_model_sport',\n 'short_model_sportage',\n 'short_model_sprinter',\n 'short_model_srx',\n 'short_model_srx-v6',\n 'short_model_srx4',\n 'short_model_srx~awesome',\n 'short_model_ss',\n 'short_model_ssr',\n 'short_model_starcraft',\n 'short_model_step-van',\n 'short_model_stinger',\n 'short_model_stratus',\n 'short_model_sts',\n 'short_model_studebaker',\n 'short_model_suburban',\n 'short_model_super',\n 'short_model_supra',\n 'short_model_suv',\n 'short_model_suzuki',\n 'short_model_svx',\n 'short_model_t',\n 'short_model_t-350',\n 'short_model_t-bucket',\n 'short_model_tacoma',\n 'short_model_tahoe',\n 'short_model_tarsus',\n 'short_model_taurus',\n 'short_model_tc5500',\n 'short_model_telluride',\n 'short_model_tercel',\n 'short_model_terrain',\n 'short_model_thing',\n 'short_model_thomas',\n 'short_model_thrift',\n 'short_model_thunderbird',\n 'short_model_tiguan',\n 'short_model_titan',\n 'short_model_tl',\n 'short_model_tlx',\n 'short_model_torrent',\n 'short_model_touareg',\n 'short_model_town',\n 'short_model_tracker',\n 'short_model_tractor',\n 'short_model_trailblazer',\n 'short_model_trans',\n 'short_model_transit',\n 'short_model_traverse',\n 'short_model_trax',\n 'short_model_tribeca',\n 'short_model_tribute',\n 'short_model_triumph',\n 'short_model_truck',\n 'short_model_tsx',\n 'short_model_tt',\n 'short_model_tucson',\n 'short_model_tudor',\n 'short_model_tundra',\n 'short_model_uplander',\n 'short_model_utility',\n 'short_model_ux',\n 'short_model_v50',\n 'short_model_v6',\n 'short_model_v60',\n 'short_model_v90',\n 'short_model_van',\n 'short_model_vanagon',\n 'short_model_vandura',\n 'short_model_velar',\n 'short_model_veloster',\n 'short_model_venture',\n 'short_model_venza',\n 'short_model_veracruz',\n 'short_model_verano',\n 'short_model_versa',\n 'short_model_vibe',\n 'short_model_villager',\n 'short_model_vnl',\n 'short_model_volt',\n 'short_model_voyager',\n 'short_model_vtx1300c',\n 'short_model_vue',\n 'short_model_w350',\n 'short_model_willys',\n 'short_model_windstar',\n 'short_model_wrangler',\n 'short_model_wrx',\n 'short_model_x-3',\n 'short_model_x-type',\n 'short_model_x1',\n 'short_model_x2',\n 'short_model_x3',\n 'short_model_x4',\n 'short_model_x5',\n 'short_model_x6',\n 'short_model_xc',\n 'short_model_xc40',\n 'short_model_xc60',\n 'short_model_xc70',\n 'short_model_xc90',\n 'short_model_xe',\n 'short_model_xf',\n 'short_model_xj',\n 'short_model_xj-series',\n 'short_model_xj8',\n 'short_model_xk8',\n 'short_model_xt4',\n 'short_model_xt5',\n 'short_model_xt6',\n 'short_model_xterra',\n 'short_model_xts',\n 'short_model_xv',\n 'short_model_yaris',\n 'short_model_yukon',\n 'short_model_z',\n 'short_model_z3',\n 'short_model_z4',\n 'short_model_zephyr',\n 'short_model_zx2',\n 'transmission_automatic',\n 'transmission_manual',\n 'transmission_other',\n 'region_SF bay area',\n 'region_abilene',\n 'region_akron / canton',\n 'region_albany',\n 'region_albuquerque',\n 'region_altoona-johnstown',\n 'region_amarillo',\n 'region_ames',\n ...]"
     },
     "execution_count": 154,
     "metadata": {},
     "output_type": "execute_result"
    }
   ],
   "source": [
    "df.columns.tolist()"
   ]
  },
  {
   "cell_type": "markdown",
   "id": "4eddeddb",
   "metadata": {
    "id": "4eddeddb",
    "pycharm": {
     "name": "#%% md\n"
    }
   },
   "source": [
    "8. Посмотрите на результат обратного преобразования получившейся матрицы в исходные признаки, используйте `inverse_transform`."
   ]
  },
  {
   "cell_type": "code",
   "execution_count": 155,
   "id": "0f2613e6",
   "metadata": {
    "ExecuteTime": {
     "end_time": "2022-03-15T22:40:45.647004Z",
     "start_time": "2022-03-15T22:40:45.641686Z"
    },
    "id": "0f2613e6",
    "pycharm": {
     "name": "#%%\n"
    }
   },
   "outputs": [
    {
     "data": {
      "text/plain": "array([['2500', 'other', 'chattanooga', ..., 'tn', 'clean', 'new'],\n       ['explorer', 'automatic', 'north jersey', ..., 'nj', 'clean',\n        'new'],\n       ['golf', 'other', 'reno / tahoe', ..., 'ca', 'clean', 'new'],\n       ...,\n       ['a3', 'automatic', 'salem', ..., 'or', 'clean', 'average'],\n       ['cayenne', 'automatic', 'madison', ..., 'wi', 'clean', 'new'],\n       ['1500', 'other', 'norfolk / hampton roads', ..., 'va', 'clean',\n        'new']], dtype=object)"
     },
     "execution_count": 155,
     "metadata": {},
     "output_type": "execute_result"
    }
   ],
   "source": [
    "# Ваш код здесь\n",
    "ohe.inverse_transform(ohe_transformed)"
   ]
  },
  {
   "cell_type": "markdown",
   "id": "29bad2c6",
   "metadata": {
    "id": "29bad2c6",
    "pycharm": {
     "name": "#%% md\n"
    }
   },
   "source": [
    "### Задача 3. Стандартизация данных\n",
    "\n",
    "1. Создайте переменную под количественные переменные `lat`, `long`, `year`, `odometer/price`, `desc_len`, `model_in_desc`, `model_len`, `model_word_count` и создайте датафрейм `data`, содержащий только выбранные количественные переменные.\n"
   ]
  },
  {
   "cell_type": "code",
   "execution_count": 156,
   "id": "ad704812",
   "metadata": {
    "ExecuteTime": {
     "end_time": "2022-03-15T22:40:45.881773Z",
     "start_time": "2022-03-15T22:40:45.875957Z"
    },
    "id": "ad704812",
    "pycharm": {
     "name": "#%%\n"
    }
   },
   "outputs": [
    {
     "data": {
      "text/plain": "            lat        long  year  odometer/price  desc_len  model_in_desc  \\\n0     35.060000  -85.250000  2020        0.499036      4482              0   \n1     40.821805  -74.061962  2016        3.542852       968              0   \n2     33.779214  -84.411811  2017        0.394718      4286              0   \n3     35.715954  -78.655304  2013        8.089034      3241              0   \n4     35.970000  -83.940000  2012        5.515079      4851              0   \n...         ...         ...   ...             ...       ...            ...   \n9614  42.123900  -79.189500  2002       33.370412      1710              0   \n9615  43.216990  -77.755610  2008        7.835323       948              0   \n9616  44.925908 -122.982753  2011       16.696387       909              0   \n9617  43.029559  -89.397796  2015        1.941787      3644              0   \n9618  36.670000  -76.300000  2017        1.122882      4483              0   \n\n      model_len  model_word_count  \n0            22                 5  \n1            20                 4  \n2            16                 3  \n3             4                 1  \n4            22                 5  \n...         ...               ...  \n9614          4                 1  \n9615          8                 1  \n9616         25                 5  \n9617          7                 1  \n9618         22                 5  \n\n[9619 rows x 8 columns]",
      "text/html": "<div>\n<style scoped>\n    .dataframe tbody tr th:only-of-type {\n        vertical-align: middle;\n    }\n\n    .dataframe tbody tr th {\n        vertical-align: top;\n    }\n\n    .dataframe thead th {\n        text-align: right;\n    }\n</style>\n<table border=\"1\" class=\"dataframe\">\n  <thead>\n    <tr style=\"text-align: right;\">\n      <th></th>\n      <th>lat</th>\n      <th>long</th>\n      <th>year</th>\n      <th>odometer/price</th>\n      <th>desc_len</th>\n      <th>model_in_desc</th>\n      <th>model_len</th>\n      <th>model_word_count</th>\n    </tr>\n  </thead>\n  <tbody>\n    <tr>\n      <th>0</th>\n      <td>35.060000</td>\n      <td>-85.250000</td>\n      <td>2020</td>\n      <td>0.499036</td>\n      <td>4482</td>\n      <td>0</td>\n      <td>22</td>\n      <td>5</td>\n    </tr>\n    <tr>\n      <th>1</th>\n      <td>40.821805</td>\n      <td>-74.061962</td>\n      <td>2016</td>\n      <td>3.542852</td>\n      <td>968</td>\n      <td>0</td>\n      <td>20</td>\n      <td>4</td>\n    </tr>\n    <tr>\n      <th>2</th>\n      <td>33.779214</td>\n      <td>-84.411811</td>\n      <td>2017</td>\n      <td>0.394718</td>\n      <td>4286</td>\n      <td>0</td>\n      <td>16</td>\n      <td>3</td>\n    </tr>\n    <tr>\n      <th>3</th>\n      <td>35.715954</td>\n      <td>-78.655304</td>\n      <td>2013</td>\n      <td>8.089034</td>\n      <td>3241</td>\n      <td>0</td>\n      <td>4</td>\n      <td>1</td>\n    </tr>\n    <tr>\n      <th>4</th>\n      <td>35.970000</td>\n      <td>-83.940000</td>\n      <td>2012</td>\n      <td>5.515079</td>\n      <td>4851</td>\n      <td>0</td>\n      <td>22</td>\n      <td>5</td>\n    </tr>\n    <tr>\n      <th>...</th>\n      <td>...</td>\n      <td>...</td>\n      <td>...</td>\n      <td>...</td>\n      <td>...</td>\n      <td>...</td>\n      <td>...</td>\n      <td>...</td>\n    </tr>\n    <tr>\n      <th>9614</th>\n      <td>42.123900</td>\n      <td>-79.189500</td>\n      <td>2002</td>\n      <td>33.370412</td>\n      <td>1710</td>\n      <td>0</td>\n      <td>4</td>\n      <td>1</td>\n    </tr>\n    <tr>\n      <th>9615</th>\n      <td>43.216990</td>\n      <td>-77.755610</td>\n      <td>2008</td>\n      <td>7.835323</td>\n      <td>948</td>\n      <td>0</td>\n      <td>8</td>\n      <td>1</td>\n    </tr>\n    <tr>\n      <th>9616</th>\n      <td>44.925908</td>\n      <td>-122.982753</td>\n      <td>2011</td>\n      <td>16.696387</td>\n      <td>909</td>\n      <td>0</td>\n      <td>25</td>\n      <td>5</td>\n    </tr>\n    <tr>\n      <th>9617</th>\n      <td>43.029559</td>\n      <td>-89.397796</td>\n      <td>2015</td>\n      <td>1.941787</td>\n      <td>3644</td>\n      <td>0</td>\n      <td>7</td>\n      <td>1</td>\n    </tr>\n    <tr>\n      <th>9618</th>\n      <td>36.670000</td>\n      <td>-76.300000</td>\n      <td>2017</td>\n      <td>1.122882</td>\n      <td>4483</td>\n      <td>0</td>\n      <td>22</td>\n      <td>5</td>\n    </tr>\n  </tbody>\n</table>\n<p>9619 rows × 8 columns</p>\n</div>"
     },
     "execution_count": 156,
     "metadata": {},
     "output_type": "execute_result"
    }
   ],
   "source": [
    "# Ваш код здесь\n",
    "quantitative_col = ['lat', 'long', 'year', 'odometer/price', 'desc_len', 'model_in_desc', 'model_len', 'model_word_count']\n",
    "\n",
    "data = df[quantitative_col].copy()\n",
    "data"
   ]
  },
  {
   "cell_type": "markdown",
   "id": "3e3704a7",
   "metadata": {
    "id": "3e3704a7",
    "pycharm": {
     "name": "#%% md\n"
    }
   },
   "source": [
    "2. Создайте объект `std_scaler` класса StandardScaler с параметрами по умолчанию, который будет отвечать за стандартизацию."
   ]
  },
  {
   "cell_type": "code",
   "execution_count": 157,
   "id": "7b8ab72c",
   "metadata": {
    "ExecuteTime": {
     "end_time": "2022-03-15T22:40:46.294618Z",
     "start_time": "2022-03-15T22:40:46.288462Z"
    },
    "id": "7b8ab72c",
    "pycharm": {
     "name": "#%%\n"
    }
   },
   "outputs": [
    {
     "data": {
      "text/plain": "StandardScaler()",
      "text/html": "<style>#sk-container-id-11 {\n  /* Definition of color scheme common for light and dark mode */\n  --sklearn-color-text: black;\n  --sklearn-color-line: gray;\n  /* Definition of color scheme for unfitted estimators */\n  --sklearn-color-unfitted-level-0: #fff5e6;\n  --sklearn-color-unfitted-level-1: #f6e4d2;\n  --sklearn-color-unfitted-level-2: #ffe0b3;\n  --sklearn-color-unfitted-level-3: chocolate;\n  /* Definition of color scheme for fitted estimators */\n  --sklearn-color-fitted-level-0: #f0f8ff;\n  --sklearn-color-fitted-level-1: #d4ebff;\n  --sklearn-color-fitted-level-2: #b3dbfd;\n  --sklearn-color-fitted-level-3: cornflowerblue;\n\n  /* Specific color for light theme */\n  --sklearn-color-text-on-default-background: var(--sg-text-color, var(--theme-code-foreground, var(--jp-content-font-color1, black)));\n  --sklearn-color-background: var(--sg-background-color, var(--theme-background, var(--jp-layout-color0, white)));\n  --sklearn-color-border-box: var(--sg-text-color, var(--theme-code-foreground, var(--jp-content-font-color1, black)));\n  --sklearn-color-icon: #696969;\n\n  @media (prefers-color-scheme: dark) {\n    /* Redefinition of color scheme for dark theme */\n    --sklearn-color-text-on-default-background: var(--sg-text-color, var(--theme-code-foreground, var(--jp-content-font-color1, white)));\n    --sklearn-color-background: var(--sg-background-color, var(--theme-background, var(--jp-layout-color0, #111)));\n    --sklearn-color-border-box: var(--sg-text-color, var(--theme-code-foreground, var(--jp-content-font-color1, white)));\n    --sklearn-color-icon: #878787;\n  }\n}\n\n#sk-container-id-11 {\n  color: var(--sklearn-color-text);\n}\n\n#sk-container-id-11 pre {\n  padding: 0;\n}\n\n#sk-container-id-11 input.sk-hidden--visually {\n  border: 0;\n  clip: rect(1px 1px 1px 1px);\n  clip: rect(1px, 1px, 1px, 1px);\n  height: 1px;\n  margin: -1px;\n  overflow: hidden;\n  padding: 0;\n  position: absolute;\n  width: 1px;\n}\n\n#sk-container-id-11 div.sk-dashed-wrapped {\n  border: 1px dashed var(--sklearn-color-line);\n  margin: 0 0.4em 0.5em 0.4em;\n  box-sizing: border-box;\n  padding-bottom: 0.4em;\n  background-color: var(--sklearn-color-background);\n}\n\n#sk-container-id-11 div.sk-container {\n  /* jupyter's `normalize.less` sets `[hidden] { display: none; }`\n     but bootstrap.min.css set `[hidden] { display: none !important; }`\n     so we also need the `!important` here to be able to override the\n     default hidden behavior on the sphinx rendered scikit-learn.org.\n     See: https://github.com/scikit-learn/scikit-learn/issues/21755 */\n  display: inline-block !important;\n  position: relative;\n}\n\n#sk-container-id-11 div.sk-text-repr-fallback {\n  display: none;\n}\n\ndiv.sk-parallel-item,\ndiv.sk-serial,\ndiv.sk-item {\n  /* draw centered vertical line to link estimators */\n  background-image: linear-gradient(var(--sklearn-color-text-on-default-background), var(--sklearn-color-text-on-default-background));\n  background-size: 2px 100%;\n  background-repeat: no-repeat;\n  background-position: center center;\n}\n\n/* Parallel-specific style estimator block */\n\n#sk-container-id-11 div.sk-parallel-item::after {\n  content: \"\";\n  width: 100%;\n  border-bottom: 2px solid var(--sklearn-color-text-on-default-background);\n  flex-grow: 1;\n}\n\n#sk-container-id-11 div.sk-parallel {\n  display: flex;\n  align-items: stretch;\n  justify-content: center;\n  background-color: var(--sklearn-color-background);\n  position: relative;\n}\n\n#sk-container-id-11 div.sk-parallel-item {\n  display: flex;\n  flex-direction: column;\n}\n\n#sk-container-id-11 div.sk-parallel-item:first-child::after {\n  align-self: flex-end;\n  width: 50%;\n}\n\n#sk-container-id-11 div.sk-parallel-item:last-child::after {\n  align-self: flex-start;\n  width: 50%;\n}\n\n#sk-container-id-11 div.sk-parallel-item:only-child::after {\n  width: 0;\n}\n\n/* Serial-specific style estimator block */\n\n#sk-container-id-11 div.sk-serial {\n  display: flex;\n  flex-direction: column;\n  align-items: center;\n  background-color: var(--sklearn-color-background);\n  padding-right: 1em;\n  padding-left: 1em;\n}\n\n\n/* Toggleable style: style used for estimator/Pipeline/ColumnTransformer box that is\nclickable and can be expanded/collapsed.\n- Pipeline and ColumnTransformer use this feature and define the default style\n- Estimators will overwrite some part of the style using the `sk-estimator` class\n*/\n\n/* Pipeline and ColumnTransformer style (default) */\n\n#sk-container-id-11 div.sk-toggleable {\n  /* Default theme specific background. It is overwritten whether we have a\n  specific estimator or a Pipeline/ColumnTransformer */\n  background-color: var(--sklearn-color-background);\n}\n\n/* Toggleable label */\n#sk-container-id-11 label.sk-toggleable__label {\n  cursor: pointer;\n  display: block;\n  width: 100%;\n  margin-bottom: 0;\n  padding: 0.5em;\n  box-sizing: border-box;\n  text-align: center;\n}\n\n#sk-container-id-11 label.sk-toggleable__label-arrow:before {\n  /* Arrow on the left of the label */\n  content: \"▸\";\n  float: left;\n  margin-right: 0.25em;\n  color: var(--sklearn-color-icon);\n}\n\n#sk-container-id-11 label.sk-toggleable__label-arrow:hover:before {\n  color: var(--sklearn-color-text);\n}\n\n/* Toggleable content - dropdown */\n\n#sk-container-id-11 div.sk-toggleable__content {\n  max-height: 0;\n  max-width: 0;\n  overflow: hidden;\n  text-align: left;\n  /* unfitted */\n  background-color: var(--sklearn-color-unfitted-level-0);\n}\n\n#sk-container-id-11 div.sk-toggleable__content.fitted {\n  /* fitted */\n  background-color: var(--sklearn-color-fitted-level-0);\n}\n\n#sk-container-id-11 div.sk-toggleable__content pre {\n  margin: 0.2em;\n  border-radius: 0.25em;\n  color: var(--sklearn-color-text);\n  /* unfitted */\n  background-color: var(--sklearn-color-unfitted-level-0);\n}\n\n#sk-container-id-11 div.sk-toggleable__content.fitted pre {\n  /* unfitted */\n  background-color: var(--sklearn-color-fitted-level-0);\n}\n\n#sk-container-id-11 input.sk-toggleable__control:checked~div.sk-toggleable__content {\n  /* Expand drop-down */\n  max-height: 200px;\n  max-width: 100%;\n  overflow: auto;\n}\n\n#sk-container-id-11 input.sk-toggleable__control:checked~label.sk-toggleable__label-arrow:before {\n  content: \"▾\";\n}\n\n/* Pipeline/ColumnTransformer-specific style */\n\n#sk-container-id-11 div.sk-label input.sk-toggleable__control:checked~label.sk-toggleable__label {\n  color: var(--sklearn-color-text);\n  background-color: var(--sklearn-color-unfitted-level-2);\n}\n\n#sk-container-id-11 div.sk-label.fitted input.sk-toggleable__control:checked~label.sk-toggleable__label {\n  background-color: var(--sklearn-color-fitted-level-2);\n}\n\n/* Estimator-specific style */\n\n/* Colorize estimator box */\n#sk-container-id-11 div.sk-estimator input.sk-toggleable__control:checked~label.sk-toggleable__label {\n  /* unfitted */\n  background-color: var(--sklearn-color-unfitted-level-2);\n}\n\n#sk-container-id-11 div.sk-estimator.fitted input.sk-toggleable__control:checked~label.sk-toggleable__label {\n  /* fitted */\n  background-color: var(--sklearn-color-fitted-level-2);\n}\n\n#sk-container-id-11 div.sk-label label.sk-toggleable__label,\n#sk-container-id-11 div.sk-label label {\n  /* The background is the default theme color */\n  color: var(--sklearn-color-text-on-default-background);\n}\n\n/* On hover, darken the color of the background */\n#sk-container-id-11 div.sk-label:hover label.sk-toggleable__label {\n  color: var(--sklearn-color-text);\n  background-color: var(--sklearn-color-unfitted-level-2);\n}\n\n/* Label box, darken color on hover, fitted */\n#sk-container-id-11 div.sk-label.fitted:hover label.sk-toggleable__label.fitted {\n  color: var(--sklearn-color-text);\n  background-color: var(--sklearn-color-fitted-level-2);\n}\n\n/* Estimator label */\n\n#sk-container-id-11 div.sk-label label {\n  font-family: monospace;\n  font-weight: bold;\n  display: inline-block;\n  line-height: 1.2em;\n}\n\n#sk-container-id-11 div.sk-label-container {\n  text-align: center;\n}\n\n/* Estimator-specific */\n#sk-container-id-11 div.sk-estimator {\n  font-family: monospace;\n  border: 1px dotted var(--sklearn-color-border-box);\n  border-radius: 0.25em;\n  box-sizing: border-box;\n  margin-bottom: 0.5em;\n  /* unfitted */\n  background-color: var(--sklearn-color-unfitted-level-0);\n}\n\n#sk-container-id-11 div.sk-estimator.fitted {\n  /* fitted */\n  background-color: var(--sklearn-color-fitted-level-0);\n}\n\n/* on hover */\n#sk-container-id-11 div.sk-estimator:hover {\n  /* unfitted */\n  background-color: var(--sklearn-color-unfitted-level-2);\n}\n\n#sk-container-id-11 div.sk-estimator.fitted:hover {\n  /* fitted */\n  background-color: var(--sklearn-color-fitted-level-2);\n}\n\n/* Specification for estimator info (e.g. \"i\" and \"?\") */\n\n/* Common style for \"i\" and \"?\" */\n\n.sk-estimator-doc-link,\na:link.sk-estimator-doc-link,\na:visited.sk-estimator-doc-link {\n  float: right;\n  font-size: smaller;\n  line-height: 1em;\n  font-family: monospace;\n  background-color: var(--sklearn-color-background);\n  border-radius: 1em;\n  height: 1em;\n  width: 1em;\n  text-decoration: none !important;\n  margin-left: 1ex;\n  /* unfitted */\n  border: var(--sklearn-color-unfitted-level-1) 1pt solid;\n  color: var(--sklearn-color-unfitted-level-1);\n}\n\n.sk-estimator-doc-link.fitted,\na:link.sk-estimator-doc-link.fitted,\na:visited.sk-estimator-doc-link.fitted {\n  /* fitted */\n  border: var(--sklearn-color-fitted-level-1) 1pt solid;\n  color: var(--sklearn-color-fitted-level-1);\n}\n\n/* On hover */\ndiv.sk-estimator:hover .sk-estimator-doc-link:hover,\n.sk-estimator-doc-link:hover,\ndiv.sk-label-container:hover .sk-estimator-doc-link:hover,\n.sk-estimator-doc-link:hover {\n  /* unfitted */\n  background-color: var(--sklearn-color-unfitted-level-3);\n  color: var(--sklearn-color-background);\n  text-decoration: none;\n}\n\ndiv.sk-estimator.fitted:hover .sk-estimator-doc-link.fitted:hover,\n.sk-estimator-doc-link.fitted:hover,\ndiv.sk-label-container:hover .sk-estimator-doc-link.fitted:hover,\n.sk-estimator-doc-link.fitted:hover {\n  /* fitted */\n  background-color: var(--sklearn-color-fitted-level-3);\n  color: var(--sklearn-color-background);\n  text-decoration: none;\n}\n\n/* Span, style for the box shown on hovering the info icon */\n.sk-estimator-doc-link span {\n  display: none;\n  z-index: 9999;\n  position: relative;\n  font-weight: normal;\n  right: .2ex;\n  padding: .5ex;\n  margin: .5ex;\n  width: min-content;\n  min-width: 20ex;\n  max-width: 50ex;\n  color: var(--sklearn-color-text);\n  box-shadow: 2pt 2pt 4pt #999;\n  /* unfitted */\n  background: var(--sklearn-color-unfitted-level-0);\n  border: .5pt solid var(--sklearn-color-unfitted-level-3);\n}\n\n.sk-estimator-doc-link.fitted span {\n  /* fitted */\n  background: var(--sklearn-color-fitted-level-0);\n  border: var(--sklearn-color-fitted-level-3);\n}\n\n.sk-estimator-doc-link:hover span {\n  display: block;\n}\n\n/* \"?\"-specific style due to the `<a>` HTML tag */\n\n#sk-container-id-11 a.estimator_doc_link {\n  float: right;\n  font-size: 1rem;\n  line-height: 1em;\n  font-family: monospace;\n  background-color: var(--sklearn-color-background);\n  border-radius: 1rem;\n  height: 1rem;\n  width: 1rem;\n  text-decoration: none;\n  /* unfitted */\n  color: var(--sklearn-color-unfitted-level-1);\n  border: var(--sklearn-color-unfitted-level-1) 1pt solid;\n}\n\n#sk-container-id-11 a.estimator_doc_link.fitted {\n  /* fitted */\n  border: var(--sklearn-color-fitted-level-1) 1pt solid;\n  color: var(--sklearn-color-fitted-level-1);\n}\n\n/* On hover */\n#sk-container-id-11 a.estimator_doc_link:hover {\n  /* unfitted */\n  background-color: var(--sklearn-color-unfitted-level-3);\n  color: var(--sklearn-color-background);\n  text-decoration: none;\n}\n\n#sk-container-id-11 a.estimator_doc_link.fitted:hover {\n  /* fitted */\n  background-color: var(--sklearn-color-fitted-level-3);\n}\n</style><div id=\"sk-container-id-11\" class=\"sk-top-container\"><div class=\"sk-text-repr-fallback\"><pre>StandardScaler()</pre><b>In a Jupyter environment, please rerun this cell to show the HTML representation or trust the notebook. <br />On GitHub, the HTML representation is unable to render, please try loading this page with nbviewer.org.</b></div><div class=\"sk-container\" hidden><div class=\"sk-item\"><div class=\"sk-estimator  sk-toggleable\"><input class=\"sk-toggleable__control sk-hidden--visually\" id=\"sk-estimator-id-11\" type=\"checkbox\" checked><label for=\"sk-estimator-id-11\" class=\"sk-toggleable__label  sk-toggleable__label-arrow \">&nbsp;&nbsp;StandardScaler<a class=\"sk-estimator-doc-link \" rel=\"noreferrer\" target=\"_blank\" href=\"https://scikit-learn.org/1.5/modules/generated/sklearn.preprocessing.StandardScaler.html\">?<span>Documentation for StandardScaler</span></a><span class=\"sk-estimator-doc-link \">i<span>Not fitted</span></span></label><div class=\"sk-toggleable__content \"><pre>StandardScaler()</pre></div> </div></div></div></div>"
     },
     "execution_count": 157,
     "metadata": {},
     "output_type": "execute_result"
    }
   ],
   "source": [
    "# Ваш код здесь\n",
    "std_scaler = StandardScaler()\n",
    "std_scaler"
   ]
  },
  {
   "cell_type": "markdown",
   "id": "1630cfa2",
   "metadata": {
    "id": "1630cfa2",
    "pycharm": {
     "name": "#%% md\n"
    }
   },
   "source": [
    "3. Идентифицируйте параметры преобразования на датафрейме с количественными переменными."
   ]
  },
  {
   "cell_type": "code",
   "execution_count": 158,
   "id": "0cc2c08b",
   "metadata": {
    "ExecuteTime": {
     "end_time": "2022-03-15T22:40:46.338630Z",
     "start_time": "2022-03-15T22:40:46.333793Z"
    },
    "id": "0cc2c08b",
    "pycharm": {
     "name": "#%%\n"
    }
   },
   "outputs": [
    {
     "data": {
      "text/plain": "StandardScaler()",
      "text/html": "<style>#sk-container-id-12 {\n  /* Definition of color scheme common for light and dark mode */\n  --sklearn-color-text: black;\n  --sklearn-color-line: gray;\n  /* Definition of color scheme for unfitted estimators */\n  --sklearn-color-unfitted-level-0: #fff5e6;\n  --sklearn-color-unfitted-level-1: #f6e4d2;\n  --sklearn-color-unfitted-level-2: #ffe0b3;\n  --sklearn-color-unfitted-level-3: chocolate;\n  /* Definition of color scheme for fitted estimators */\n  --sklearn-color-fitted-level-0: #f0f8ff;\n  --sklearn-color-fitted-level-1: #d4ebff;\n  --sklearn-color-fitted-level-2: #b3dbfd;\n  --sklearn-color-fitted-level-3: cornflowerblue;\n\n  /* Specific color for light theme */\n  --sklearn-color-text-on-default-background: var(--sg-text-color, var(--theme-code-foreground, var(--jp-content-font-color1, black)));\n  --sklearn-color-background: var(--sg-background-color, var(--theme-background, var(--jp-layout-color0, white)));\n  --sklearn-color-border-box: var(--sg-text-color, var(--theme-code-foreground, var(--jp-content-font-color1, black)));\n  --sklearn-color-icon: #696969;\n\n  @media (prefers-color-scheme: dark) {\n    /* Redefinition of color scheme for dark theme */\n    --sklearn-color-text-on-default-background: var(--sg-text-color, var(--theme-code-foreground, var(--jp-content-font-color1, white)));\n    --sklearn-color-background: var(--sg-background-color, var(--theme-background, var(--jp-layout-color0, #111)));\n    --sklearn-color-border-box: var(--sg-text-color, var(--theme-code-foreground, var(--jp-content-font-color1, white)));\n    --sklearn-color-icon: #878787;\n  }\n}\n\n#sk-container-id-12 {\n  color: var(--sklearn-color-text);\n}\n\n#sk-container-id-12 pre {\n  padding: 0;\n}\n\n#sk-container-id-12 input.sk-hidden--visually {\n  border: 0;\n  clip: rect(1px 1px 1px 1px);\n  clip: rect(1px, 1px, 1px, 1px);\n  height: 1px;\n  margin: -1px;\n  overflow: hidden;\n  padding: 0;\n  position: absolute;\n  width: 1px;\n}\n\n#sk-container-id-12 div.sk-dashed-wrapped {\n  border: 1px dashed var(--sklearn-color-line);\n  margin: 0 0.4em 0.5em 0.4em;\n  box-sizing: border-box;\n  padding-bottom: 0.4em;\n  background-color: var(--sklearn-color-background);\n}\n\n#sk-container-id-12 div.sk-container {\n  /* jupyter's `normalize.less` sets `[hidden] { display: none; }`\n     but bootstrap.min.css set `[hidden] { display: none !important; }`\n     so we also need the `!important` here to be able to override the\n     default hidden behavior on the sphinx rendered scikit-learn.org.\n     See: https://github.com/scikit-learn/scikit-learn/issues/21755 */\n  display: inline-block !important;\n  position: relative;\n}\n\n#sk-container-id-12 div.sk-text-repr-fallback {\n  display: none;\n}\n\ndiv.sk-parallel-item,\ndiv.sk-serial,\ndiv.sk-item {\n  /* draw centered vertical line to link estimators */\n  background-image: linear-gradient(var(--sklearn-color-text-on-default-background), var(--sklearn-color-text-on-default-background));\n  background-size: 2px 100%;\n  background-repeat: no-repeat;\n  background-position: center center;\n}\n\n/* Parallel-specific style estimator block */\n\n#sk-container-id-12 div.sk-parallel-item::after {\n  content: \"\";\n  width: 100%;\n  border-bottom: 2px solid var(--sklearn-color-text-on-default-background);\n  flex-grow: 1;\n}\n\n#sk-container-id-12 div.sk-parallel {\n  display: flex;\n  align-items: stretch;\n  justify-content: center;\n  background-color: var(--sklearn-color-background);\n  position: relative;\n}\n\n#sk-container-id-12 div.sk-parallel-item {\n  display: flex;\n  flex-direction: column;\n}\n\n#sk-container-id-12 div.sk-parallel-item:first-child::after {\n  align-self: flex-end;\n  width: 50%;\n}\n\n#sk-container-id-12 div.sk-parallel-item:last-child::after {\n  align-self: flex-start;\n  width: 50%;\n}\n\n#sk-container-id-12 div.sk-parallel-item:only-child::after {\n  width: 0;\n}\n\n/* Serial-specific style estimator block */\n\n#sk-container-id-12 div.sk-serial {\n  display: flex;\n  flex-direction: column;\n  align-items: center;\n  background-color: var(--sklearn-color-background);\n  padding-right: 1em;\n  padding-left: 1em;\n}\n\n\n/* Toggleable style: style used for estimator/Pipeline/ColumnTransformer box that is\nclickable and can be expanded/collapsed.\n- Pipeline and ColumnTransformer use this feature and define the default style\n- Estimators will overwrite some part of the style using the `sk-estimator` class\n*/\n\n/* Pipeline and ColumnTransformer style (default) */\n\n#sk-container-id-12 div.sk-toggleable {\n  /* Default theme specific background. It is overwritten whether we have a\n  specific estimator or a Pipeline/ColumnTransformer */\n  background-color: var(--sklearn-color-background);\n}\n\n/* Toggleable label */\n#sk-container-id-12 label.sk-toggleable__label {\n  cursor: pointer;\n  display: block;\n  width: 100%;\n  margin-bottom: 0;\n  padding: 0.5em;\n  box-sizing: border-box;\n  text-align: center;\n}\n\n#sk-container-id-12 label.sk-toggleable__label-arrow:before {\n  /* Arrow on the left of the label */\n  content: \"▸\";\n  float: left;\n  margin-right: 0.25em;\n  color: var(--sklearn-color-icon);\n}\n\n#sk-container-id-12 label.sk-toggleable__label-arrow:hover:before {\n  color: var(--sklearn-color-text);\n}\n\n/* Toggleable content - dropdown */\n\n#sk-container-id-12 div.sk-toggleable__content {\n  max-height: 0;\n  max-width: 0;\n  overflow: hidden;\n  text-align: left;\n  /* unfitted */\n  background-color: var(--sklearn-color-unfitted-level-0);\n}\n\n#sk-container-id-12 div.sk-toggleable__content.fitted {\n  /* fitted */\n  background-color: var(--sklearn-color-fitted-level-0);\n}\n\n#sk-container-id-12 div.sk-toggleable__content pre {\n  margin: 0.2em;\n  border-radius: 0.25em;\n  color: var(--sklearn-color-text);\n  /* unfitted */\n  background-color: var(--sklearn-color-unfitted-level-0);\n}\n\n#sk-container-id-12 div.sk-toggleable__content.fitted pre {\n  /* unfitted */\n  background-color: var(--sklearn-color-fitted-level-0);\n}\n\n#sk-container-id-12 input.sk-toggleable__control:checked~div.sk-toggleable__content {\n  /* Expand drop-down */\n  max-height: 200px;\n  max-width: 100%;\n  overflow: auto;\n}\n\n#sk-container-id-12 input.sk-toggleable__control:checked~label.sk-toggleable__label-arrow:before {\n  content: \"▾\";\n}\n\n/* Pipeline/ColumnTransformer-specific style */\n\n#sk-container-id-12 div.sk-label input.sk-toggleable__control:checked~label.sk-toggleable__label {\n  color: var(--sklearn-color-text);\n  background-color: var(--sklearn-color-unfitted-level-2);\n}\n\n#sk-container-id-12 div.sk-label.fitted input.sk-toggleable__control:checked~label.sk-toggleable__label {\n  background-color: var(--sklearn-color-fitted-level-2);\n}\n\n/* Estimator-specific style */\n\n/* Colorize estimator box */\n#sk-container-id-12 div.sk-estimator input.sk-toggleable__control:checked~label.sk-toggleable__label {\n  /* unfitted */\n  background-color: var(--sklearn-color-unfitted-level-2);\n}\n\n#sk-container-id-12 div.sk-estimator.fitted input.sk-toggleable__control:checked~label.sk-toggleable__label {\n  /* fitted */\n  background-color: var(--sklearn-color-fitted-level-2);\n}\n\n#sk-container-id-12 div.sk-label label.sk-toggleable__label,\n#sk-container-id-12 div.sk-label label {\n  /* The background is the default theme color */\n  color: var(--sklearn-color-text-on-default-background);\n}\n\n/* On hover, darken the color of the background */\n#sk-container-id-12 div.sk-label:hover label.sk-toggleable__label {\n  color: var(--sklearn-color-text);\n  background-color: var(--sklearn-color-unfitted-level-2);\n}\n\n/* Label box, darken color on hover, fitted */\n#sk-container-id-12 div.sk-label.fitted:hover label.sk-toggleable__label.fitted {\n  color: var(--sklearn-color-text);\n  background-color: var(--sklearn-color-fitted-level-2);\n}\n\n/* Estimator label */\n\n#sk-container-id-12 div.sk-label label {\n  font-family: monospace;\n  font-weight: bold;\n  display: inline-block;\n  line-height: 1.2em;\n}\n\n#sk-container-id-12 div.sk-label-container {\n  text-align: center;\n}\n\n/* Estimator-specific */\n#sk-container-id-12 div.sk-estimator {\n  font-family: monospace;\n  border: 1px dotted var(--sklearn-color-border-box);\n  border-radius: 0.25em;\n  box-sizing: border-box;\n  margin-bottom: 0.5em;\n  /* unfitted */\n  background-color: var(--sklearn-color-unfitted-level-0);\n}\n\n#sk-container-id-12 div.sk-estimator.fitted {\n  /* fitted */\n  background-color: var(--sklearn-color-fitted-level-0);\n}\n\n/* on hover */\n#sk-container-id-12 div.sk-estimator:hover {\n  /* unfitted */\n  background-color: var(--sklearn-color-unfitted-level-2);\n}\n\n#sk-container-id-12 div.sk-estimator.fitted:hover {\n  /* fitted */\n  background-color: var(--sklearn-color-fitted-level-2);\n}\n\n/* Specification for estimator info (e.g. \"i\" and \"?\") */\n\n/* Common style for \"i\" and \"?\" */\n\n.sk-estimator-doc-link,\na:link.sk-estimator-doc-link,\na:visited.sk-estimator-doc-link {\n  float: right;\n  font-size: smaller;\n  line-height: 1em;\n  font-family: monospace;\n  background-color: var(--sklearn-color-background);\n  border-radius: 1em;\n  height: 1em;\n  width: 1em;\n  text-decoration: none !important;\n  margin-left: 1ex;\n  /* unfitted */\n  border: var(--sklearn-color-unfitted-level-1) 1pt solid;\n  color: var(--sklearn-color-unfitted-level-1);\n}\n\n.sk-estimator-doc-link.fitted,\na:link.sk-estimator-doc-link.fitted,\na:visited.sk-estimator-doc-link.fitted {\n  /* fitted */\n  border: var(--sklearn-color-fitted-level-1) 1pt solid;\n  color: var(--sklearn-color-fitted-level-1);\n}\n\n/* On hover */\ndiv.sk-estimator:hover .sk-estimator-doc-link:hover,\n.sk-estimator-doc-link:hover,\ndiv.sk-label-container:hover .sk-estimator-doc-link:hover,\n.sk-estimator-doc-link:hover {\n  /* unfitted */\n  background-color: var(--sklearn-color-unfitted-level-3);\n  color: var(--sklearn-color-background);\n  text-decoration: none;\n}\n\ndiv.sk-estimator.fitted:hover .sk-estimator-doc-link.fitted:hover,\n.sk-estimator-doc-link.fitted:hover,\ndiv.sk-label-container:hover .sk-estimator-doc-link.fitted:hover,\n.sk-estimator-doc-link.fitted:hover {\n  /* fitted */\n  background-color: var(--sklearn-color-fitted-level-3);\n  color: var(--sklearn-color-background);\n  text-decoration: none;\n}\n\n/* Span, style for the box shown on hovering the info icon */\n.sk-estimator-doc-link span {\n  display: none;\n  z-index: 9999;\n  position: relative;\n  font-weight: normal;\n  right: .2ex;\n  padding: .5ex;\n  margin: .5ex;\n  width: min-content;\n  min-width: 20ex;\n  max-width: 50ex;\n  color: var(--sklearn-color-text);\n  box-shadow: 2pt 2pt 4pt #999;\n  /* unfitted */\n  background: var(--sklearn-color-unfitted-level-0);\n  border: .5pt solid var(--sklearn-color-unfitted-level-3);\n}\n\n.sk-estimator-doc-link.fitted span {\n  /* fitted */\n  background: var(--sklearn-color-fitted-level-0);\n  border: var(--sklearn-color-fitted-level-3);\n}\n\n.sk-estimator-doc-link:hover span {\n  display: block;\n}\n\n/* \"?\"-specific style due to the `<a>` HTML tag */\n\n#sk-container-id-12 a.estimator_doc_link {\n  float: right;\n  font-size: 1rem;\n  line-height: 1em;\n  font-family: monospace;\n  background-color: var(--sklearn-color-background);\n  border-radius: 1rem;\n  height: 1rem;\n  width: 1rem;\n  text-decoration: none;\n  /* unfitted */\n  color: var(--sklearn-color-unfitted-level-1);\n  border: var(--sklearn-color-unfitted-level-1) 1pt solid;\n}\n\n#sk-container-id-12 a.estimator_doc_link.fitted {\n  /* fitted */\n  border: var(--sklearn-color-fitted-level-1) 1pt solid;\n  color: var(--sklearn-color-fitted-level-1);\n}\n\n/* On hover */\n#sk-container-id-12 a.estimator_doc_link:hover {\n  /* unfitted */\n  background-color: var(--sklearn-color-unfitted-level-3);\n  color: var(--sklearn-color-background);\n  text-decoration: none;\n}\n\n#sk-container-id-12 a.estimator_doc_link.fitted:hover {\n  /* fitted */\n  background-color: var(--sklearn-color-fitted-level-3);\n}\n</style><div id=\"sk-container-id-12\" class=\"sk-top-container\"><div class=\"sk-text-repr-fallback\"><pre>StandardScaler()</pre><b>In a Jupyter environment, please rerun this cell to show the HTML representation or trust the notebook. <br />On GitHub, the HTML representation is unable to render, please try loading this page with nbviewer.org.</b></div><div class=\"sk-container\" hidden><div class=\"sk-item\"><div class=\"sk-estimator fitted sk-toggleable\"><input class=\"sk-toggleable__control sk-hidden--visually\" id=\"sk-estimator-id-12\" type=\"checkbox\" checked><label for=\"sk-estimator-id-12\" class=\"sk-toggleable__label fitted sk-toggleable__label-arrow fitted\">&nbsp;&nbsp;StandardScaler<a class=\"sk-estimator-doc-link fitted\" rel=\"noreferrer\" target=\"_blank\" href=\"https://scikit-learn.org/1.5/modules/generated/sklearn.preprocessing.StandardScaler.html\">?<span>Documentation for StandardScaler</span></a><span class=\"sk-estimator-doc-link fitted\">i<span>Fitted</span></span></label><div class=\"sk-toggleable__content fitted\"><pre>StandardScaler()</pre></div> </div></div></div></div>"
     },
     "execution_count": 158,
     "metadata": {},
     "output_type": "execute_result"
    }
   ],
   "source": [
    "# Ваш код здесь\n",
    "std_scaler.fit(data)"
   ]
  },
  {
   "cell_type": "markdown",
   "id": "9ef7ff55",
   "metadata": {
    "id": "9ef7ff55",
    "pycharm": {
     "name": "#%% md\n"
    }
   },
   "source": [
    "4. Примените преобразование для датафрейма с количественными переменными и сохраните в новую переменную, распечатайте получившуюся матрицу и её размерность."
   ]
  },
  {
   "cell_type": "code",
   "execution_count": 159,
   "id": "cd141505",
   "metadata": {
    "ExecuteTime": {
     "end_time": "2022-03-15T22:40:46.389565Z",
     "start_time": "2022-03-15T22:40:46.380037Z"
    },
    "id": "cd141505",
    "pycharm": {
     "name": "#%%\n"
    }
   },
   "outputs": [
    {
     "data": {
      "text/plain": "array([[-0.61917248,  0.48424452,  1.32239376, ..., -0.15578836,\n         1.16303238,  1.91066901],\n       [ 0.38801429,  1.11079989,  0.69597272, ..., -0.15578836,\n         0.93208734,  1.23579936],\n       [-0.84305905,  0.531185  ,  0.85257798, ..., -0.15578836,\n         0.47019727,  0.56092971],\n       ...,\n       [ 1.10542805, -1.62887477, -0.08705357, ..., -0.15578836,\n         1.50944993,  1.91066901],\n       [ 0.7739386 ,  0.25195859,  0.53936746, ..., -0.15578836,\n        -0.56905538, -0.78880959],\n       [-0.33773799,  0.98546471,  0.85257798, ..., -0.15578836,\n         1.16303238,  1.91066901]])"
     },
     "execution_count": 159,
     "metadata": {},
     "output_type": "execute_result"
    }
   ],
   "source": [
    "# Ваш код здесь\n",
    "std_scaled = std_scaler.transform(data)\n",
    "std_scaled"
   ]
  },
  {
   "cell_type": "code",
   "execution_count": 160,
   "id": "eff288f4",
   "metadata": {
    "pycharm": {
     "name": "#%%\n"
    }
   },
   "outputs": [
    {
     "data": {
      "text/plain": "(9619, 8)"
     },
     "execution_count": 160,
     "metadata": {},
     "output_type": "execute_result"
    }
   ],
   "source": [
    "std_scaled.shape"
   ]
  },
  {
   "cell_type": "markdown",
   "id": "68d44f88",
   "metadata": {
    "ExecuteTime": {
     "end_time": "2022-03-13T11:12:57.421096Z",
     "start_time": "2022-03-13T11:12:57.414865Z"
    },
    "id": "68d44f88",
    "pycharm": {
     "name": "#%% md\n"
    }
   },
   "source": [
    "5. Создайте наименования новых признаков по шаблону: `lat_std` для `lat` и так далее."
   ]
  },
  {
   "cell_type": "code",
   "execution_count": 161,
   "id": "013e66f2",
   "metadata": {
    "ExecuteTime": {
     "end_time": "2022-03-15T22:40:46.483299Z",
     "start_time": "2022-03-15T22:40:46.475050Z"
    },
    "id": "013e66f2",
    "pycharm": {
     "name": "#%%\n"
    }
   },
   "outputs": [
    {
     "data": {
      "text/plain": "       lat_std  long_std  year_std  odometer/price_std  desc_len_std  \\\n0    -0.619172  0.484245  1.322394           -0.510784      0.632075   \n1     0.388014  1.110800  0.695973           -0.402947     -0.646781   \n2    -0.843059  0.531185  0.852578           -0.514480      0.560744   \n3    -0.504509  0.853562  0.226157           -0.241883      0.180435   \n4    -0.460101  0.557607  0.069552           -0.333074      0.766366   \n...        ...       ...       ...                 ...           ...   \n9614  0.615626  0.823646 -1.496501            0.653795     -0.376744   \n9615  0.806702  0.903947 -0.556869           -0.250872     -0.654060   \n9616  1.105428 -1.628875 -0.087054            0.063061     -0.668253   \n9617  0.773939  0.251959  0.539367           -0.459670      0.327100   \n9618 -0.337738  0.985465  0.852578           -0.488682      0.632439   \n\n      model_in_desc_std  model_len_std  model_word_count_std  \n0             -0.155788       1.163032              1.910669  \n1             -0.155788       0.932087              1.235799  \n2             -0.155788       0.470197              0.560930  \n3             -0.155788      -0.915473             -0.788810  \n4             -0.155788       1.163032              1.910669  \n...                 ...            ...                   ...  \n9614          -0.155788      -0.915473             -0.788810  \n9615          -0.155788      -0.453583             -0.788810  \n9616          -0.155788       1.509450              1.910669  \n9617          -0.155788      -0.569055             -0.788810  \n9618          -0.155788       1.163032              1.910669  \n\n[9619 rows x 8 columns]",
      "text/html": "<div>\n<style scoped>\n    .dataframe tbody tr th:only-of-type {\n        vertical-align: middle;\n    }\n\n    .dataframe tbody tr th {\n        vertical-align: top;\n    }\n\n    .dataframe thead th {\n        text-align: right;\n    }\n</style>\n<table border=\"1\" class=\"dataframe\">\n  <thead>\n    <tr style=\"text-align: right;\">\n      <th></th>\n      <th>lat_std</th>\n      <th>long_std</th>\n      <th>year_std</th>\n      <th>odometer/price_std</th>\n      <th>desc_len_std</th>\n      <th>model_in_desc_std</th>\n      <th>model_len_std</th>\n      <th>model_word_count_std</th>\n    </tr>\n  </thead>\n  <tbody>\n    <tr>\n      <th>0</th>\n      <td>-0.619172</td>\n      <td>0.484245</td>\n      <td>1.322394</td>\n      <td>-0.510784</td>\n      <td>0.632075</td>\n      <td>-0.155788</td>\n      <td>1.163032</td>\n      <td>1.910669</td>\n    </tr>\n    <tr>\n      <th>1</th>\n      <td>0.388014</td>\n      <td>1.110800</td>\n      <td>0.695973</td>\n      <td>-0.402947</td>\n      <td>-0.646781</td>\n      <td>-0.155788</td>\n      <td>0.932087</td>\n      <td>1.235799</td>\n    </tr>\n    <tr>\n      <th>2</th>\n      <td>-0.843059</td>\n      <td>0.531185</td>\n      <td>0.852578</td>\n      <td>-0.514480</td>\n      <td>0.560744</td>\n      <td>-0.155788</td>\n      <td>0.470197</td>\n      <td>0.560930</td>\n    </tr>\n    <tr>\n      <th>3</th>\n      <td>-0.504509</td>\n      <td>0.853562</td>\n      <td>0.226157</td>\n      <td>-0.241883</td>\n      <td>0.180435</td>\n      <td>-0.155788</td>\n      <td>-0.915473</td>\n      <td>-0.788810</td>\n    </tr>\n    <tr>\n      <th>4</th>\n      <td>-0.460101</td>\n      <td>0.557607</td>\n      <td>0.069552</td>\n      <td>-0.333074</td>\n      <td>0.766366</td>\n      <td>-0.155788</td>\n      <td>1.163032</td>\n      <td>1.910669</td>\n    </tr>\n    <tr>\n      <th>...</th>\n      <td>...</td>\n      <td>...</td>\n      <td>...</td>\n      <td>...</td>\n      <td>...</td>\n      <td>...</td>\n      <td>...</td>\n      <td>...</td>\n    </tr>\n    <tr>\n      <th>9614</th>\n      <td>0.615626</td>\n      <td>0.823646</td>\n      <td>-1.496501</td>\n      <td>0.653795</td>\n      <td>-0.376744</td>\n      <td>-0.155788</td>\n      <td>-0.915473</td>\n      <td>-0.788810</td>\n    </tr>\n    <tr>\n      <th>9615</th>\n      <td>0.806702</td>\n      <td>0.903947</td>\n      <td>-0.556869</td>\n      <td>-0.250872</td>\n      <td>-0.654060</td>\n      <td>-0.155788</td>\n      <td>-0.453583</td>\n      <td>-0.788810</td>\n    </tr>\n    <tr>\n      <th>9616</th>\n      <td>1.105428</td>\n      <td>-1.628875</td>\n      <td>-0.087054</td>\n      <td>0.063061</td>\n      <td>-0.668253</td>\n      <td>-0.155788</td>\n      <td>1.509450</td>\n      <td>1.910669</td>\n    </tr>\n    <tr>\n      <th>9617</th>\n      <td>0.773939</td>\n      <td>0.251959</td>\n      <td>0.539367</td>\n      <td>-0.459670</td>\n      <td>0.327100</td>\n      <td>-0.155788</td>\n      <td>-0.569055</td>\n      <td>-0.788810</td>\n    </tr>\n    <tr>\n      <th>9618</th>\n      <td>-0.337738</td>\n      <td>0.985465</td>\n      <td>0.852578</td>\n      <td>-0.488682</td>\n      <td>0.632439</td>\n      <td>-0.155788</td>\n      <td>1.163032</td>\n      <td>1.910669</td>\n    </tr>\n  </tbody>\n</table>\n<p>9619 rows × 8 columns</p>\n</div>"
     },
     "execution_count": 161,
     "metadata": {},
     "output_type": "execute_result"
    }
   ],
   "source": [
    "# Ваш код здесь\n",
    "std_data = pd.DataFrame(std_scaled, columns=[col + '_std' for col in quantitative_col])\n",
    "std_data"
   ]
  },
  {
   "cell_type": "markdown",
   "id": "490925bb",
   "metadata": {
    "ExecuteTime": {
     "end_time": "2022-03-13T11:13:15.167251Z",
     "start_time": "2022-03-13T11:13:15.161293Z"
    },
    "id": "490925bb",
    "pycharm": {
     "name": "#%% md\n"
    }
   },
   "source": [
    "6. Добавьте в исходный датафрейм получившиеся новые признаки, выведите первые пять записей датафрейма и список колонок."
   ]
  },
  {
   "cell_type": "code",
   "execution_count": 162,
   "id": "6eb7c0dd",
   "metadata": {
    "ExecuteTime": {
     "end_time": "2022-03-15T22:40:46.528674Z",
     "start_time": "2022-03-15T22:40:46.520688Z"
    },
    "id": "6eb7c0dd",
    "pycharm": {
     "name": "#%%\n"
    }
   },
   "outputs": [
    {
     "data": {
      "text/plain": "           id                                                url  \\\n0  7308295377  https://chattanooga.craigslist.org/ctd/d/chatt...   \n1  7316380095  https://newjersey.craigslist.org/ctd/d/carlsta...   \n2  7313733749  https://reno.craigslist.org/ctd/d/atlanta-2017...   \n3  7308210929  https://fayetteville.craigslist.org/ctd/d/rale...   \n4  7303797340  https://knoxville.craigslist.org/ctd/d/knoxvil...   \n\n         region                           region_url  price  year  \\\n0   chattanooga   https://chattanooga.craigslist.org  54990  2020   \n1  north jersey     https://newjersey.craigslist.org  16942  2016   \n2  reno / tahoe          https://reno.craigslist.org  35590  2017   \n3  fayetteville  https://fayetteville.craigslist.org  14500  2013   \n4     knoxville     https://knoxville.craigslist.org  14590  2012   \n\n  manufacturer                   model    fuel  odometer  ...  \\\n0          ram  2500 crew cab big horn  diesel     27442  ...   \n1         ford    explorer 4wd 4dr xlt   other     60023  ...   \n2   volkswagen        golf r hatchback     gas     14048  ...   \n3       toyota                    rav4     gas    117291  ...   \n4          bmw  1 series 128i coupe 2d   other     80465  ...   \n\n  age_category_new age_category_old   lat_std  long_std  year_std  \\\n0              1.0              0.0 -0.619172  0.484245  1.322394   \n1              1.0              0.0  0.388014  1.110800  0.695973   \n2              1.0              0.0 -0.843059  0.531185  0.852578   \n3              0.0              0.0 -0.504509  0.853562  0.226157   \n4              0.0              0.0 -0.460101  0.557607  0.069552   \n\n   odometer/price_std  desc_len_std model_in_desc_std model_len_std  \\\n0           -0.510784      0.632075         -0.155788      1.163032   \n1           -0.402947     -0.646781         -0.155788      0.932087   \n2           -0.514480      0.560744         -0.155788      0.470197   \n3           -0.241883      0.180435         -0.155788     -0.915473   \n4           -0.333074      0.766366         -0.155788      1.163032   \n\n  model_word_count_std  \n0             1.910669  \n1             1.235799  \n2             0.560930  \n3            -0.788810  \n4             1.910669  \n\n[5 rows x 1493 columns]",
      "text/html": "<div>\n<style scoped>\n    .dataframe tbody tr th:only-of-type {\n        vertical-align: middle;\n    }\n\n    .dataframe tbody tr th {\n        vertical-align: top;\n    }\n\n    .dataframe thead th {\n        text-align: right;\n    }\n</style>\n<table border=\"1\" class=\"dataframe\">\n  <thead>\n    <tr style=\"text-align: right;\">\n      <th></th>\n      <th>id</th>\n      <th>url</th>\n      <th>region</th>\n      <th>region_url</th>\n      <th>price</th>\n      <th>year</th>\n      <th>manufacturer</th>\n      <th>model</th>\n      <th>fuel</th>\n      <th>odometer</th>\n      <th>...</th>\n      <th>age_category_new</th>\n      <th>age_category_old</th>\n      <th>lat_std</th>\n      <th>long_std</th>\n      <th>year_std</th>\n      <th>odometer/price_std</th>\n      <th>desc_len_std</th>\n      <th>model_in_desc_std</th>\n      <th>model_len_std</th>\n      <th>model_word_count_std</th>\n    </tr>\n  </thead>\n  <tbody>\n    <tr>\n      <th>0</th>\n      <td>7308295377</td>\n      <td>https://chattanooga.craigslist.org/ctd/d/chatt...</td>\n      <td>chattanooga</td>\n      <td>https://chattanooga.craigslist.org</td>\n      <td>54990</td>\n      <td>2020</td>\n      <td>ram</td>\n      <td>2500 crew cab big horn</td>\n      <td>diesel</td>\n      <td>27442</td>\n      <td>...</td>\n      <td>1.0</td>\n      <td>0.0</td>\n      <td>-0.619172</td>\n      <td>0.484245</td>\n      <td>1.322394</td>\n      <td>-0.510784</td>\n      <td>0.632075</td>\n      <td>-0.155788</td>\n      <td>1.163032</td>\n      <td>1.910669</td>\n    </tr>\n    <tr>\n      <th>1</th>\n      <td>7316380095</td>\n      <td>https://newjersey.craigslist.org/ctd/d/carlsta...</td>\n      <td>north jersey</td>\n      <td>https://newjersey.craigslist.org</td>\n      <td>16942</td>\n      <td>2016</td>\n      <td>ford</td>\n      <td>explorer 4wd 4dr xlt</td>\n      <td>other</td>\n      <td>60023</td>\n      <td>...</td>\n      <td>1.0</td>\n      <td>0.0</td>\n      <td>0.388014</td>\n      <td>1.110800</td>\n      <td>0.695973</td>\n      <td>-0.402947</td>\n      <td>-0.646781</td>\n      <td>-0.155788</td>\n      <td>0.932087</td>\n      <td>1.235799</td>\n    </tr>\n    <tr>\n      <th>2</th>\n      <td>7313733749</td>\n      <td>https://reno.craigslist.org/ctd/d/atlanta-2017...</td>\n      <td>reno / tahoe</td>\n      <td>https://reno.craigslist.org</td>\n      <td>35590</td>\n      <td>2017</td>\n      <td>volkswagen</td>\n      <td>golf r hatchback</td>\n      <td>gas</td>\n      <td>14048</td>\n      <td>...</td>\n      <td>1.0</td>\n      <td>0.0</td>\n      <td>-0.843059</td>\n      <td>0.531185</td>\n      <td>0.852578</td>\n      <td>-0.514480</td>\n      <td>0.560744</td>\n      <td>-0.155788</td>\n      <td>0.470197</td>\n      <td>0.560930</td>\n    </tr>\n    <tr>\n      <th>3</th>\n      <td>7308210929</td>\n      <td>https://fayetteville.craigslist.org/ctd/d/rale...</td>\n      <td>fayetteville</td>\n      <td>https://fayetteville.craigslist.org</td>\n      <td>14500</td>\n      <td>2013</td>\n      <td>toyota</td>\n      <td>rav4</td>\n      <td>gas</td>\n      <td>117291</td>\n      <td>...</td>\n      <td>0.0</td>\n      <td>0.0</td>\n      <td>-0.504509</td>\n      <td>0.853562</td>\n      <td>0.226157</td>\n      <td>-0.241883</td>\n      <td>0.180435</td>\n      <td>-0.155788</td>\n      <td>-0.915473</td>\n      <td>-0.788810</td>\n    </tr>\n    <tr>\n      <th>4</th>\n      <td>7303797340</td>\n      <td>https://knoxville.craigslist.org/ctd/d/knoxvil...</td>\n      <td>knoxville</td>\n      <td>https://knoxville.craigslist.org</td>\n      <td>14590</td>\n      <td>2012</td>\n      <td>bmw</td>\n      <td>1 series 128i coupe 2d</td>\n      <td>other</td>\n      <td>80465</td>\n      <td>...</td>\n      <td>0.0</td>\n      <td>0.0</td>\n      <td>-0.460101</td>\n      <td>0.557607</td>\n      <td>0.069552</td>\n      <td>-0.333074</td>\n      <td>0.766366</td>\n      <td>-0.155788</td>\n      <td>1.163032</td>\n      <td>1.910669</td>\n    </tr>\n  </tbody>\n</table>\n<p>5 rows × 1493 columns</p>\n</div>"
     },
     "execution_count": 162,
     "metadata": {},
     "output_type": "execute_result"
    }
   ],
   "source": [
    "# Ваш код здесь\n",
    "df = df.join(std_data)\n",
    "df.head(5)"
   ]
  },
  {
   "cell_type": "code",
   "execution_count": 163,
   "outputs": [
    {
     "data": {
      "text/plain": "['id',\n 'url',\n 'region',\n 'region_url',\n 'price',\n 'year',\n 'manufacturer',\n 'model',\n 'fuel',\n 'odometer',\n 'title_status',\n 'transmission',\n 'image_url',\n 'description',\n 'state',\n 'lat',\n 'long',\n 'posting_date',\n 'price_category',\n 'date',\n 'odometer_km',\n 'odometer/price',\n 'region_new',\n 'region_corrected',\n 'manufacturer_model',\n 'desc_len',\n 'model_in_desc',\n 'price_k$',\n 'age_category',\n 'model_len',\n 'model_word_count',\n 'is_audi',\n 'is_ford',\n 'is_chevrolet',\n 'is_toyota',\n 'is_jeep',\n 'is_honda',\n 'is_nissan',\n 'x0_diesel',\n 'x0_electric',\n 'x0_gas',\n 'x0_hybrid',\n 'x0_other',\n 'std_scaled_odometer',\n 'std_scaled_price',\n 'short_model',\n 'short_model_-benz',\n 'short_model_1',\n 'short_model_124',\n 'short_model_128i',\n 'short_model_135i',\n 'short_model_1500',\n 'short_model_163869',\n 'short_model_1928',\n 'short_model_1951',\n 'short_model_1954',\n 'short_model_1960s',\n 'short_model_1966',\n 'short_model_1968',\n 'short_model_1972',\n 'short_model_1977',\n 'short_model_1978',\n 'short_model_198.5',\n 'short_model_1988',\n 'short_model_1994',\n 'short_model_1999',\n 'short_model_2',\n 'short_model_200',\n 'short_model_2000',\n 'short_model_2002',\n 'short_model_2006',\n 'short_model_2007',\n 'short_model_2008',\n 'short_model_2009',\n 'short_model_2012',\n 'short_model_2015',\n 'short_model_2016',\n 'short_model_2017',\n 'short_model_2018',\n 'short_model_210',\n 'short_model_240',\n 'short_model_2500',\n 'short_model_2500hd',\n 'short_model_280zx',\n 'short_model_3',\n 'short_model_3-series',\n 'short_model_3-window',\n 'short_model_3.2',\n 'short_model_300',\n 'short_model_300-series',\n 'short_model_300c',\n 'short_model_300s',\n 'short_model_300zx',\n 'short_model_3100',\n 'short_model_318i',\n 'short_model_320i',\n 'short_model_323i',\n 'short_model_325ci',\n 'short_model_325i',\n 'short_model_325is',\n 'short_model_325xi',\n 'short_model_328',\n 'short_model_328ci',\n 'short_model_328d',\n 'short_model_328i',\n 'short_model_328xi',\n 'short_model_330i',\n 'short_model_330xi',\n 'short_model_335i',\n 'short_model_335xi',\n 'short_model_350',\n 'short_model_3500',\n 'short_model_3500hd',\n 'short_model_350z',\n 'short_model_370z',\n 'short_model_380sl',\n 'short_model_3i',\n 'short_model_4',\n 'short_model_4-runner',\n 'short_model_428',\n 'short_model_430i',\n 'short_model_435i',\n 'short_model_440xi',\n 'short_model_4500',\n 'short_model_4runner',\n 'short_model_4x4',\n 'short_model_5',\n 'short_model_5-series',\n 'short_model_50',\n 'short_model_500',\n 'short_model_500c',\n 'short_model_500l',\n 'short_model_500x',\n 'short_model_525i',\n 'short_model_528i',\n 'short_model_528xi',\n 'short_model_530',\n 'short_model_530i',\n 'short_model_535i',\n 'short_model_535xi',\n 'short_model_540i',\n 'short_model_545i',\n 'short_model_5500',\n 'short_model_5500hd',\n 'short_model_550i',\n 'short_model_5th',\n 'short_model_6',\n 'short_model_640',\n 'short_model_645ci',\n 'short_model_650i',\n 'short_model_650xi',\n 'short_model_7',\n 'short_model_750',\n 'short_model_750i',\n 'short_model_750xi',\n 'short_model_86',\n 'short_model_911',\n 'short_model_914',\n 'short_model_928',\n 'short_model_944',\n 'short_model_ACURA*',\n 'short_model_ALL',\n 'short_model_AM',\n 'short_model_AMC',\n 'short_model_ASC',\n 'short_model_Acuarea',\n 'short_model_American',\n 'short_model_BUY',\n 'short_model_Bentley',\n 'short_model_Blue',\n 'short_model_Buicks',\n 'short_model_C',\n 'short_model_CHEVORLET',\n 'short_model_CLICK',\n 'short_model_Champion',\n 'short_model_Chevey',\n 'short_model_Chevorlet',\n 'short_model_Comanche',\n 'short_model_Comet',\n 'short_model_D7FH173552',\n 'short_model_DODGE1500',\n 'short_model_Diahatsu',\n 'short_model_E46',\n 'short_model_EASY',\n 'short_model_Eagle',\n 'short_model_Emergency',\n 'short_model_F-250',\n 'short_model_F250',\n 'short_model_FORD*',\n 'short_model_FORD/RANGER',\n 'short_model_FREIGHTLINER',\n 'short_model_FRRV',\n 'short_model_Flexible',\n 'short_model_FordE350',\n 'short_model_Freightliner',\n 'short_model_Frtlner',\n 'short_model_GCM',\n 'short_model_GEHL',\n 'short_model_GMC,',\n 'short_model_GMX',\n 'short_model_GRAND',\n 'short_model_GULF',\n 'short_model_Genesis',\n 'short_model_Gx',\n 'short_model_HINO',\n 'short_model_HUMMER',\n 'short_model_Hino',\n 'short_model_Hobda',\n 'short_model_Hot',\n 'short_model_Hummer',\n 'short_model_IC',\n 'short_model_INTERNATIONAL',\n 'short_model_International',\n 'short_model_Isizu',\n 'short_model_Isuzu',\n 'short_model_JM1BK32F871604924',\n 'short_model_Janesville',\n 'short_model_Jauguar',\n 'short_model_Jayco',\n 'short_model_Kaiser',\n 'short_model_Lotus',\n 'short_model_MASERATI',\n 'short_model_MERCUTY',\n 'short_model_MERDECES',\n 'short_model_MGB',\n 'short_model_MITUSBISHI',\n 'short_model_MV-1',\n 'short_model_Maserati',\n 'short_model_Minin',\n 'short_model_Nascar',\n 'short_model_OLDSMOBILE',\n 'short_model_PLYMOUTH',\n 'short_model_PROGRAMS',\n 'short_model_Peterbilt',\n 'short_model_Pierce',\n 'short_model_Plymouth',\n 'short_model_QX',\n 'short_model_S60',\n 'short_model_SCION',\n 'short_model_SL',\n 'short_model_Saab',\n 'short_model_Scion',\n 'short_model_Sea',\n 'short_model_Sterling',\n 'short_model_Studebaker',\n 'short_model_Suzuki',\n 'short_model_THOMAS',\n 'short_model_Thomas',\n 'short_model_Town',\n 'short_model_Triumph',\n 'short_model_Voltswagon',\n 'short_model_Xx',\n 'short_model_a-class',\n 'short_model_a3',\n 'short_model_a3,',\n 'short_model_a4',\n 'short_model_a5',\n 'short_model_a6',\n 'short_model_a7',\n 'short_model_a8',\n 'short_model_acadia',\n 'short_model_accent',\n 'short_model_accord',\n 'short_model_all',\n 'short_model_allante',\n 'short_model_allroad',\n 'short_model_altima',\n 'short_model_am',\n 'short_model_amc',\n 'short_model_arcadia',\n 'short_model_armada',\n 'short_model_arteon',\n 'short_model_ascent',\n 'short_model_aspen',\n 'short_model_astra',\n 'short_model_astro',\n 'short_model_atlas',\n 'short_model_ats',\n 'short_model_aura',\n 'short_model_autobiography',\n 'short_model_avalanche',\n 'short_model_avalon',\n 'short_model_avanger',\n 'short_model_avenger',\n 'short_model_aveo',\n 'short_model_aviator',\n 'short_model_azera',\n 'short_model_aztek',\n 'short_model_b-class',\n 'short_model_b-series',\n 'short_model_b2200',\n 'short_model_b2300',\n 'short_model_b2600i',\n 'short_model_baja',\n 'short_model_beetle',\n 'short_model_bel',\n 'short_model_belair',\n 'short_model_benz',\n 'short_model_blackwood',\n 'short_model_blazer',\n 'short_model_blue',\n 'short_model_bolt',\n 'short_model_bonanza',\n 'short_model_bonneville',\n 'short_model_boxster',\n 'short_model_bronco',\n 'short_model_brz',\n 'short_model_bug',\n 'short_model_bus',\n 'short_model_c',\n 'short_model_c-10',\n 'short_model_c-7500',\n 'short_model_c-class',\n 'short_model_c-hr',\n 'short_model_c-max',\n 'short_model_c/k',\n 'short_model_c10',\n 'short_model_c250',\n 'short_model_c280',\n 'short_model_c30',\n 'short_model_c300',\n 'short_model_c4500',\n 'short_model_c5500',\n 'short_model_c60',\n 'short_model_c6500',\n 'short_model_c70',\n 'short_model_c8500',\n 'short_model_cabellero',\n 'short_model_cabrio',\n 'short_model_caddilac',\n 'short_model_cadenza',\n 'short_model_caliber',\n 'short_model_camaro',\n 'short_model_camary',\n 'short_model_camero',\n 'short_model_camry',\n 'short_model_canyon',\n 'short_model_capri',\n 'short_model_caprice',\n 'short_model_captiva',\n 'short_model_caravan',\n 'short_model_caravan/grand',\n 'short_model_cargo',\n 'short_model_cascada',\n 'short_model_cavalier',\n 'short_model_cayenne',\n 'short_model_cayman',\n 'short_model_cc',\n 'short_model_cc300',\n 'short_model_cc4500',\n 'short_model_century',\n 'short_model_certified',\n 'short_model_challenger',\n 'short_model_charger',\n 'short_model_cherokee',\n 'short_model_chevelle',\n 'short_model_chevorlet',\n 'short_model_chryler',\n 'short_model_chysler',\n 'short_model_city',\n 'short_model_civic',\n 'short_model_cj-5',\n 'short_model_cj2a',\n 'short_model_cj5',\n 'short_model_cj7',\n 'short_model_cj8',\n 'short_model_cl-class',\n 'short_model_cla',\n 'short_model_cla-class',\n 'short_model_clarity',\n 'short_model_classic',\n 'short_model_classuc',\n 'short_model_clk',\n 'short_model_clk-class',\n 'short_model_clk350',\n 'short_model_cls-class',\n 'short_model_cls550',\n 'short_model_clubman',\n 'short_model_cmax',\n 'short_model_cobalt',\n 'short_model_colbalt',\n 'short_model_colorado',\n 'short_model_comet',\n 'short_model_commander',\n 'short_model_compass',\n 'short_model_concorde',\n 'short_model_conquest',\n 'short_model_continental',\n 'short_model_convertible',\n 'short_model_cooper',\n 'short_model_corolla',\n 'short_model_corsair',\n 'short_model_corvette',\n 'short_model_cougar',\n 'short_model_country',\n 'short_model_countryman',\n 'short_model_coupe',\n 'short_model_cr-v',\n 'short_model_crew',\n 'short_model_crossfire',\n 'short_model_crosstour',\n 'short_model_crosstrek',\n 'short_model_crown',\n 'short_model_cruze',\n 'short_model_crv',\n 'short_model_crz',\n 'short_model_ct',\n 'short_model_ct4',\n 'short_model_ct5',\n 'short_model_ct6',\n 'short_model_cts',\n 'short_model_cts-v',\n 'short_model_cts4',\n 'short_model_cube',\n 'short_model_cvr',\n 'short_model_cx-3',\n 'short_model_cx-5',\n 'short_model_cx-7',\n 'short_model_cx-9',\n 'short_model_cx7',\n 'short_model_cx9',\n 'short_model_d50',\n 'short_model_dakota',\n 'short_model_dart',\n 'short_model_davidson',\n 'short_model_dealer*',\n 'short_model_defender',\n 'short_model_deisel',\n 'short_model_deluxe',\n 'short_model_denali',\n 'short_model_deville',\n 'short_model_diesel',\n 'short_model_discovery',\n 'short_model_dts',\n 'short_model_dump',\n 'short_model_duramax',\n 'short_model_durango',\n 'short_model_durangon',\n 'short_model_e',\n 'short_model_e-150',\n 'short_model_e-250',\n 'short_model_e-350',\n 'short_model_e-450',\n 'short_model_e-class',\n 'short_model_e-golf',\n 'short_model_e-pace',\n 'short_model_e-series',\n 'short_model_e150',\n 'short_model_e250',\n 'short_model_e320',\n 'short_model_e350',\n 'short_model_e450',\n 'short_model_e46',\n 'short_model_e500',\n 'short_model_echo',\n 'short_model_eclipse',\n 'short_model_econoline',\n 'short_model_ecosport',\n 'short_model_edge',\n 'short_model_el',\n 'short_model_elantra',\n 'short_model_elcamino',\n 'short_model_eldorado',\n 'short_model_element',\n 'short_model_enclave',\n 'short_model_encore',\n 'short_model_endeavor',\n 'short_model_envision',\n 'short_model_envoy',\n 'short_model_eos',\n 'short_model_eqinox',\n 'short_model_equinox',\n 'short_model_es',\n 'short_model_es300',\n 'short_model_es330',\n 'short_model_es350',\n 'short_model_escalade',\n 'short_model_escape',\n 'short_model_escape-se,',\n 'short_model_escort',\n 'short_model_eurovan',\n 'short_model_evoque',\n 'short_model_excursion',\n 'short_model_expedition',\n 'short_model_explorer',\n 'short_model_express',\n 'short_model_f',\n 'short_model_f-100',\n 'short_model_f-150',\n 'short_model_f-250',\n 'short_model_f-250sd',\n 'short_model_f-350',\n 'short_model_f-350sd',\n 'short_model_f-450',\n 'short_model_f-450sd',\n 'short_model_f-550',\n 'short_model_f-650',\n 'short_model_f-750',\n 'short_model_f-pace',\n 'short_model_f-type',\n 'short_model_f1',\n 'short_model_f100',\n 'short_model_f150',\n 'short_model_f250',\n 'short_model_f350',\n 'short_model_f450',\n 'short_model_f450sd',\n 'short_model_f50',\n 'short_model_f550',\n 'short_model_f600',\n 'short_model_f650',\n 'short_model_f700',\n 'short_model_f750',\n 'short_model_falcon',\n 'short_model_fe',\n 'short_model_fiero',\n 'short_model_fiesta',\n 'short_model_firebird',\n 'short_model_fit',\n 'short_model_five',\n 'short_model_fj',\n 'short_model_fj40',\n 'short_model_fleetmaster',\n 'short_model_fleetwood',\n 'short_model_flex',\n 'short_model_focus',\n 'short_model_fords',\n 'short_model_forester',\n 'short_model_forte',\n 'short_model_forte5',\n 'short_model_foxbody',\n 'short_model_freestar',\n 'short_model_freestyle',\n 'short_model_freightliner',\n 'short_model_frontier',\n 'short_model_fusion',\n 'short_model_fuso',\n 'short_model_fx35',\n 'short_model_fx45',\n 'short_model_g',\n 'short_model_g-class',\n 'short_model_g.',\n 'short_model_g20',\n 'short_model_g30',\n 'short_model_g35',\n 'short_model_g35x',\n 'short_model_g37',\n 'short_model_g37s',\n 'short_model_g37x',\n 'short_model_g4500',\n 'short_model_g5',\n 'short_model_g6',\n 'short_model_g8',\n 'short_model_galant',\n 'short_model_genesis',\n 'short_model_ghia',\n 'short_model_gl',\n 'short_model_gl-class',\n 'short_model_gl450',\n 'short_model_gla',\n 'short_model_gla-class',\n 'short_model_gladiator',\n 'short_model_glc',\n 'short_model_glc-class',\n 'short_model_gle',\n 'short_model_gle-class',\n 'short_model_glk',\n 'short_model_glk-class',\n 'short_model_glk350',\n 'short_model_gls',\n 'short_model_gmc/chev',\n 'short_model_gmce',\n 'short_model_gmt-400',\n 'short_model_golf',\n 'short_model_gr',\n 'short_model_grand',\n 'short_model_grandville',\n 'short_model_grumman',\n 'short_model_gs',\n 'short_model_gs350',\n 'short_model_gs430',\n 'short_model_gt',\n 'short_model_gt-r',\n 'short_model_gti',\n 'short_model_gto',\n 'short_model_gx',\n 'short_model_gx460',\n 'short_model_gx470',\n 'short_model_hardbody',\n 'short_model_hardtop',\n 'short_model_hearse',\n 'short_model_hhr',\n 'short_model_hiace',\n 'short_model_high',\n 'short_model_highlander',\n 'short_model_hr-v',\n 'short_model_hse',\n 'short_model_hummer',\n 'short_model_hyndai',\n 'short_model_i-miev',\n 'short_model_i3',\n 'short_model_i30',\n 'short_model_i35',\n 'short_model_ilx',\n 'short_model_impala',\n 'short_model_impreza',\n 'short_model_insight',\n 'short_model_international',\n 'short_model_ion',\n 'short_model_ioniq',\n 'short_model_is',\n 'short_model_is250',\n 'short_model_is300',\n 'short_model_isf',\n 'short_model_isuzu',\n 'short_model_jeepster',\n 'short_model_jetta',\n 'short_model_jimmy',\n 'short_model_jouney',\n 'short_model_journey',\n 'short_model_juke',\n 'short_model_jx35',\n 'short_model_k10',\n 'short_model_k20',\n 'short_model_k30',\n 'short_model_k5',\n 'short_model_k900',\n 'short_model_kicks',\n 'short_model_kodiak',\n 'short_model_l',\n 'short_model_l300',\n 'short_model_lacrosse',\n 'short_model_lancer',\n 'short_model_land',\n 'short_model_landcruiser',\n 'short_model_leaf',\n 'short_model_legacy',\n 'short_model_legend',\n 'short_model_lemans',\n 'short_model_lesabre',\n 'short_model_liberty',\n 'short_model_lifted',\n 'short_model_lightning',\n 'short_model_limousine',\n 'short_model_long',\n 'short_model_lr2',\n 'short_model_lr3',\n 'short_model_lr4',\n 'short_model_ls',\n 'short_model_ltd',\n 'short_model_lucerne',\n 'short_model_lx',\n 'short_model_lx450',\n 'short_model_m',\n 'short_model_m-class',\n 'short_model_m3',\n 'short_model_m35',\n 'short_model_m35s',\n 'short_model_m5',\n 'short_model_macan',\n 'short_model_magnum',\n 'short_model_malibu',\n 'short_model_mallinia',\n 'short_model_marineer,premier',\n 'short_model_mariner',\n 'short_model_mark',\n 'short_model_maserati',\n 'short_model_matrix',\n 'short_model_maxima',\n 'short_model_maximum',\n 'short_model_mazda2',\n 'short_model_mazda3',\n 'short_model_mazda5',\n 'short_model_mazda6',\n 'short_model_mazda6i',\n 'short_model_md-x',\n 'short_model_mdx',\n 'short_model_mercades',\n 'short_model_mercedes-amg',\n 'short_model_metris',\n 'short_model_mg',\n 'short_model_miata',\n 'short_model_milan',\n 'short_model_mirage',\n 'short_model_mkc',\n 'short_model_mks',\n 'short_model_mkt',\n 'short_model_mkx',\n 'short_model_mkz',\n 'short_model_ml',\n 'short_model_ml350',\n 'short_model_ml500',\n 'short_model_model',\n 'short_model_monte',\n 'short_model_montero',\n 'short_model_mountaineer',\n 'short_model_mpv',\n 'short_model_mr2',\n 'short_model_murano',\n 'short_model_mustang',\n 'short_model_mx-5',\n 'short_model_nautilus',\n 'short_model_navigator',\n 'short_model_neon',\n 'short_model_new',\n 'short_model_newport',\n 'short_model_niro',\n 'short_model_nitro',\n 'short_model_nova',\n 'short_model_nv',\n 'short_model_nv1500',\n 'short_model_nv200',\n 'short_model_nv2500',\n 'short_model_nv2500hd',\n 'short_model_nx',\n 'short_model_nx300',\n 'short_model_oddyssey',\n 'short_model_odyssey',\n 'short_model_oldsmobile',\n 'short_model_optima',\n 'short_model_optimia',\n 'short_model_other',\n 'short_model_outback',\n 'short_model_outlander',\n 'short_model_outlook',\n 'short_model_paceman',\n 'short_model_pacifica',\n 'short_model_panamera',\n 'short_model_panel',\n 'short_model_park',\n 'short_model_passat',\n 'short_model_passport',\n 'short_model_pathfinder',\n 'short_model_patriot',\n 'short_model_phaeton',\n 'short_model_pick',\n 'short_model_pickup',\n 'short_model_pilot',\n 'short_model_plymouth',\n 'short_model_pontaic',\n 'short_model_prelude',\n 'short_model_prius',\n 'short_model_prizm',\n 'short_model_promaster',\n 'short_model_protege',\n 'short_model_pt',\n 'short_model_putback',\n 'short_model_q3',\n 'short_model_q5',\n 'short_model_q50',\n 'short_model_q60',\n 'short_model_q7',\n 'short_model_q70',\n 'short_model_quattro',\n 'short_model_quest',\n 'short_model_qx50',\n 'short_model_qx56',\n 'short_model_qx60',\n 'short_model_qx70',\n 'short_model_qx80',\n 'short_model_r-class',\n 'short_model_r32',\n 'short_model_rabbit',\n 'short_model_rainier',\n 'short_model_ram1500',\n 'short_model_ram2500',\n 'short_model_ramcharger',\n 'short_model_range',\n 'short_model_ranger',\n 'short_model_rat',\n 'short_model_rav',\n 'short_model_rav4',\n 'short_model_rc',\n 'short_model_rdx',\n 'short_model_reatta',\n 'short_model_rebel',\n 'short_model_regal',\n 'short_model_rendezvous',\n 'short_model_renegade',\n 'short_model_replica',\n 'short_model_ridgeline',\n 'short_model_rio',\n 'short_model_rivera',\n 'short_model_riviera',\n 'short_model_rl',\n 'short_model_rlx',\n 'short_model_roadmaster',\n 'short_model_roadster',\n 'short_model_rogue',\n 'short_model_romeo',\n 'short_model_rondo',\n 'short_model_rouge',\n 'short_model_routan',\n 'short_model_rs',\n 'short_model_rsx',\n 'short_model_rx',\n 'short_model_rx-8',\n 'short_model_rx300',\n 'short_model_rx330',\n 'short_model_rx350',\n 'short_model_rx400h',\n 'short_model_rx7',\n 'short_model_rx8',\n 'short_model_s',\n 'short_model_s-10',\n 'short_model_s-class',\n 'short_model_s/w',\n 'short_model_s10',\n 'short_model_s2000',\n 'short_model_s3',\n 'short_model_s320',\n 'short_model_s4',\n 'short_model_s40',\n 'short_model_s430',\n 'short_model_s5',\n 'short_model_s500',\n 'short_model_s6',\n 'short_model_s60',\n 'short_model_s7',\n 'short_model_s70',\n 'short_model_s8',\n 'short_model_s90',\n 'short_model_saab',\n 'short_model_sable',\n 'short_model_santa',\n 'short_model_sante',\n 'short_model_savana',\n 'short_model_sc',\n 'short_model_sc2',\n 'short_model_sc300',\n 'short_model_school',\n 'short_model_scion',\n 'short_model_sebring',\n 'short_model_sedan',\n 'short_model_sedona',\n 'short_model_seirra',\n 'short_model_sentra',\n 'short_model_sequioa',\n 'short_model_sequoia',\n 'short_model_seville',\n 'short_model_shelby',\n 'short_model_sienna',\n 'short_model_sierra',\n 'short_model_sierra1500',\n 'short_model_silverado',\n 'short_model_sky',\n 'short_model_skylark',\n 'short_model_sl-class',\n 'short_model_sl2',\n 'short_model_sl500',\n 'short_model_sl55',\n 'short_model_sl550',\n 'short_model_slc',\n 'short_model_sle',\n 'short_model_slk',\n 'short_model_slk-class',\n 'short_model_slt',\n 'short_model_smart',\n 'short_model_solara',\n 'short_model_solstice',\n 'short_model_sonata',\n 'short_model_sonic',\n 'short_model_sonoma',\n 'short_model_sorento',\n 'short_model_sorrento',\n 'short_model_soul',\n 'short_model_soul+',\n 'short_model_spark',\n 'short_model_spectra',\n 'short_model_sport',\n 'short_model_sportage',\n 'short_model_sprinter',\n 'short_model_srx',\n 'short_model_srx-v6',\n 'short_model_srx4',\n 'short_model_srx~awesome',\n 'short_model_ss',\n 'short_model_ssr',\n 'short_model_starcraft',\n 'short_model_step-van',\n 'short_model_stinger',\n 'short_model_stratus',\n 'short_model_sts',\n 'short_model_studebaker',\n 'short_model_suburban',\n 'short_model_super',\n 'short_model_supra',\n 'short_model_suv',\n 'short_model_suzuki',\n 'short_model_svx',\n 'short_model_t',\n 'short_model_t-350',\n 'short_model_t-bucket',\n 'short_model_tacoma',\n 'short_model_tahoe',\n 'short_model_tarsus',\n 'short_model_taurus',\n 'short_model_tc5500',\n 'short_model_telluride',\n 'short_model_tercel',\n 'short_model_terrain',\n 'short_model_thing',\n 'short_model_thomas',\n 'short_model_thrift',\n 'short_model_thunderbird',\n 'short_model_tiguan',\n 'short_model_titan',\n 'short_model_tl',\n 'short_model_tlx',\n 'short_model_torrent',\n 'short_model_touareg',\n 'short_model_town',\n 'short_model_tracker',\n 'short_model_tractor',\n 'short_model_trailblazer',\n 'short_model_trans',\n 'short_model_transit',\n 'short_model_traverse',\n 'short_model_trax',\n 'short_model_tribeca',\n 'short_model_tribute',\n 'short_model_triumph',\n 'short_model_truck',\n 'short_model_tsx',\n 'short_model_tt',\n 'short_model_tucson',\n 'short_model_tudor',\n 'short_model_tundra',\n 'short_model_uplander',\n 'short_model_utility',\n 'short_model_ux',\n 'short_model_v50',\n 'short_model_v6',\n 'short_model_v60',\n 'short_model_v90',\n 'short_model_van',\n 'short_model_vanagon',\n 'short_model_vandura',\n 'short_model_velar',\n 'short_model_veloster',\n 'short_model_venture',\n 'short_model_venza',\n 'short_model_veracruz',\n 'short_model_verano',\n 'short_model_versa',\n 'short_model_vibe',\n 'short_model_villager',\n 'short_model_vnl',\n 'short_model_volt',\n 'short_model_voyager',\n 'short_model_vtx1300c',\n 'short_model_vue',\n 'short_model_w350',\n 'short_model_willys',\n 'short_model_windstar',\n 'short_model_wrangler',\n 'short_model_wrx',\n 'short_model_x-3',\n 'short_model_x-type',\n 'short_model_x1',\n 'short_model_x2',\n 'short_model_x3',\n 'short_model_x4',\n 'short_model_x5',\n 'short_model_x6',\n 'short_model_xc',\n 'short_model_xc40',\n 'short_model_xc60',\n 'short_model_xc70',\n 'short_model_xc90',\n 'short_model_xe',\n 'short_model_xf',\n 'short_model_xj',\n 'short_model_xj-series',\n 'short_model_xj8',\n 'short_model_xk8',\n 'short_model_xt4',\n 'short_model_xt5',\n 'short_model_xt6',\n 'short_model_xterra',\n 'short_model_xts',\n 'short_model_xv',\n 'short_model_yaris',\n 'short_model_yukon',\n 'short_model_z',\n 'short_model_z3',\n 'short_model_z4',\n 'short_model_zephyr',\n 'short_model_zx2',\n 'transmission_automatic',\n 'transmission_manual',\n 'transmission_other',\n 'region_SF bay area',\n 'region_abilene',\n 'region_akron / canton',\n 'region_albany',\n 'region_albuquerque',\n 'region_altoona-johnstown',\n 'region_amarillo',\n 'region_ames',\n ...]"
     },
     "execution_count": 163,
     "metadata": {},
     "output_type": "execute_result"
    }
   ],
   "source": [
    "df.columns.tolist()"
   ],
   "metadata": {
    "collapsed": false,
    "pycharm": {
     "name": "#%%\n"
    }
   }
  },
  {
   "cell_type": "markdown",
   "id": "0a3146dd",
   "metadata": {
    "ExecuteTime": {
     "end_time": "2022-03-13T11:16:52.292837Z",
     "start_time": "2022-03-13T11:16:52.286868Z"
    },
    "id": "0a3146dd",
    "pycharm": {
     "name": "#%% md\n"
    }
   },
   "source": [
    "### Задача 4. MinMax-нормализация данных\n",
    "\n",
    "1. Импортируйте MinMaxScaler из `sklearn.preprocessing`."
   ]
  },
  {
   "cell_type": "code",
   "execution_count": 164,
   "id": "3db8afba",
   "metadata": {
    "ExecuteTime": {
     "end_time": "2022-03-15T22:40:46.701361Z",
     "start_time": "2022-03-15T22:40:46.695192Z"
    },
    "id": "3db8afba",
    "pycharm": {
     "name": "#%%\n"
    }
   },
   "outputs": [],
   "source": [
    "# Ваш код здесь\n",
    "from sklearn.preprocessing import MinMaxScaler"
   ]
  },
  {
   "cell_type": "markdown",
   "id": "d471557f",
   "metadata": {
    "id": "d471557f",
    "pycharm": {
     "name": "#%% md\n"
    }
   },
   "source": [
    "2. Создайте датафрейм, содержащий переменные `lat` и `long`."
   ]
  },
  {
   "cell_type": "code",
   "execution_count": 165,
   "id": "13859501",
   "metadata": {
    "ExecuteTime": {
     "end_time": "2022-03-15T22:40:46.732137Z",
     "start_time": "2022-03-15T22:40:46.725228Z"
    },
    "id": "13859501",
    "pycharm": {
     "name": "#%%\n"
    }
   },
   "outputs": [
    {
     "data": {
      "text/plain": "            lat        long\n0     35.060000  -85.250000\n1     40.821805  -74.061962\n2     33.779214  -84.411811\n3     35.715954  -78.655304\n4     35.970000  -83.940000\n...         ...         ...\n9614  42.123900  -79.189500\n9615  43.216990  -77.755610\n9616  44.925908 -122.982753\n9617  43.029559  -89.397796\n9618  36.670000  -76.300000\n\n[9619 rows x 2 columns]",
      "text/html": "<div>\n<style scoped>\n    .dataframe tbody tr th:only-of-type {\n        vertical-align: middle;\n    }\n\n    .dataframe tbody tr th {\n        vertical-align: top;\n    }\n\n    .dataframe thead th {\n        text-align: right;\n    }\n</style>\n<table border=\"1\" class=\"dataframe\">\n  <thead>\n    <tr style=\"text-align: right;\">\n      <th></th>\n      <th>lat</th>\n      <th>long</th>\n    </tr>\n  </thead>\n  <tbody>\n    <tr>\n      <th>0</th>\n      <td>35.060000</td>\n      <td>-85.250000</td>\n    </tr>\n    <tr>\n      <th>1</th>\n      <td>40.821805</td>\n      <td>-74.061962</td>\n    </tr>\n    <tr>\n      <th>2</th>\n      <td>33.779214</td>\n      <td>-84.411811</td>\n    </tr>\n    <tr>\n      <th>3</th>\n      <td>35.715954</td>\n      <td>-78.655304</td>\n    </tr>\n    <tr>\n      <th>4</th>\n      <td>35.970000</td>\n      <td>-83.940000</td>\n    </tr>\n    <tr>\n      <th>...</th>\n      <td>...</td>\n      <td>...</td>\n    </tr>\n    <tr>\n      <th>9614</th>\n      <td>42.123900</td>\n      <td>-79.189500</td>\n    </tr>\n    <tr>\n      <th>9615</th>\n      <td>43.216990</td>\n      <td>-77.755610</td>\n    </tr>\n    <tr>\n      <th>9616</th>\n      <td>44.925908</td>\n      <td>-122.982753</td>\n    </tr>\n    <tr>\n      <th>9617</th>\n      <td>43.029559</td>\n      <td>-89.397796</td>\n    </tr>\n    <tr>\n      <th>9618</th>\n      <td>36.670000</td>\n      <td>-76.300000</td>\n    </tr>\n  </tbody>\n</table>\n<p>9619 rows × 2 columns</p>\n</div>"
     },
     "execution_count": 165,
     "metadata": {},
     "output_type": "execute_result"
    }
   ],
   "source": [
    "# Ваш код здесь\n",
    "data = df[['lat', 'long']]\n",
    "data"
   ]
  },
  {
   "cell_type": "markdown",
   "id": "0599fc35",
   "metadata": {
    "id": "0599fc35",
    "pycharm": {
     "name": "#%% md\n"
    }
   },
   "source": [
    "3. Повторите действия пунктов 2–6 из задачи 3 для добавления в исходный датафрейм признаков `lat_mm` и `long_mm`. Выведите получившийся датафрейм."
   ]
  },
  {
   "cell_type": "code",
   "execution_count": 166,
   "id": "26f2c546",
   "metadata": {
    "ExecuteTime": {
     "end_time": "2022-03-15T22:40:47.159782Z",
     "start_time": "2022-03-15T22:40:47.148971Z"
    },
    "id": "26f2c546",
    "pycharm": {
     "name": "#%%\n"
    }
   },
   "outputs": [
    {
     "data": {
      "text/plain": "MinMaxScaler()",
      "text/html": "<style>#sk-container-id-13 {\n  /* Definition of color scheme common for light and dark mode */\n  --sklearn-color-text: black;\n  --sklearn-color-line: gray;\n  /* Definition of color scheme for unfitted estimators */\n  --sklearn-color-unfitted-level-0: #fff5e6;\n  --sklearn-color-unfitted-level-1: #f6e4d2;\n  --sklearn-color-unfitted-level-2: #ffe0b3;\n  --sklearn-color-unfitted-level-3: chocolate;\n  /* Definition of color scheme for fitted estimators */\n  --sklearn-color-fitted-level-0: #f0f8ff;\n  --sklearn-color-fitted-level-1: #d4ebff;\n  --sklearn-color-fitted-level-2: #b3dbfd;\n  --sklearn-color-fitted-level-3: cornflowerblue;\n\n  /* Specific color for light theme */\n  --sklearn-color-text-on-default-background: var(--sg-text-color, var(--theme-code-foreground, var(--jp-content-font-color1, black)));\n  --sklearn-color-background: var(--sg-background-color, var(--theme-background, var(--jp-layout-color0, white)));\n  --sklearn-color-border-box: var(--sg-text-color, var(--theme-code-foreground, var(--jp-content-font-color1, black)));\n  --sklearn-color-icon: #696969;\n\n  @media (prefers-color-scheme: dark) {\n    /* Redefinition of color scheme for dark theme */\n    --sklearn-color-text-on-default-background: var(--sg-text-color, var(--theme-code-foreground, var(--jp-content-font-color1, white)));\n    --sklearn-color-background: var(--sg-background-color, var(--theme-background, var(--jp-layout-color0, #111)));\n    --sklearn-color-border-box: var(--sg-text-color, var(--theme-code-foreground, var(--jp-content-font-color1, white)));\n    --sklearn-color-icon: #878787;\n  }\n}\n\n#sk-container-id-13 {\n  color: var(--sklearn-color-text);\n}\n\n#sk-container-id-13 pre {\n  padding: 0;\n}\n\n#sk-container-id-13 input.sk-hidden--visually {\n  border: 0;\n  clip: rect(1px 1px 1px 1px);\n  clip: rect(1px, 1px, 1px, 1px);\n  height: 1px;\n  margin: -1px;\n  overflow: hidden;\n  padding: 0;\n  position: absolute;\n  width: 1px;\n}\n\n#sk-container-id-13 div.sk-dashed-wrapped {\n  border: 1px dashed var(--sklearn-color-line);\n  margin: 0 0.4em 0.5em 0.4em;\n  box-sizing: border-box;\n  padding-bottom: 0.4em;\n  background-color: var(--sklearn-color-background);\n}\n\n#sk-container-id-13 div.sk-container {\n  /* jupyter's `normalize.less` sets `[hidden] { display: none; }`\n     but bootstrap.min.css set `[hidden] { display: none !important; }`\n     so we also need the `!important` here to be able to override the\n     default hidden behavior on the sphinx rendered scikit-learn.org.\n     See: https://github.com/scikit-learn/scikit-learn/issues/21755 */\n  display: inline-block !important;\n  position: relative;\n}\n\n#sk-container-id-13 div.sk-text-repr-fallback {\n  display: none;\n}\n\ndiv.sk-parallel-item,\ndiv.sk-serial,\ndiv.sk-item {\n  /* draw centered vertical line to link estimators */\n  background-image: linear-gradient(var(--sklearn-color-text-on-default-background), var(--sklearn-color-text-on-default-background));\n  background-size: 2px 100%;\n  background-repeat: no-repeat;\n  background-position: center center;\n}\n\n/* Parallel-specific style estimator block */\n\n#sk-container-id-13 div.sk-parallel-item::after {\n  content: \"\";\n  width: 100%;\n  border-bottom: 2px solid var(--sklearn-color-text-on-default-background);\n  flex-grow: 1;\n}\n\n#sk-container-id-13 div.sk-parallel {\n  display: flex;\n  align-items: stretch;\n  justify-content: center;\n  background-color: var(--sklearn-color-background);\n  position: relative;\n}\n\n#sk-container-id-13 div.sk-parallel-item {\n  display: flex;\n  flex-direction: column;\n}\n\n#sk-container-id-13 div.sk-parallel-item:first-child::after {\n  align-self: flex-end;\n  width: 50%;\n}\n\n#sk-container-id-13 div.sk-parallel-item:last-child::after {\n  align-self: flex-start;\n  width: 50%;\n}\n\n#sk-container-id-13 div.sk-parallel-item:only-child::after {\n  width: 0;\n}\n\n/* Serial-specific style estimator block */\n\n#sk-container-id-13 div.sk-serial {\n  display: flex;\n  flex-direction: column;\n  align-items: center;\n  background-color: var(--sklearn-color-background);\n  padding-right: 1em;\n  padding-left: 1em;\n}\n\n\n/* Toggleable style: style used for estimator/Pipeline/ColumnTransformer box that is\nclickable and can be expanded/collapsed.\n- Pipeline and ColumnTransformer use this feature and define the default style\n- Estimators will overwrite some part of the style using the `sk-estimator` class\n*/\n\n/* Pipeline and ColumnTransformer style (default) */\n\n#sk-container-id-13 div.sk-toggleable {\n  /* Default theme specific background. It is overwritten whether we have a\n  specific estimator or a Pipeline/ColumnTransformer */\n  background-color: var(--sklearn-color-background);\n}\n\n/* Toggleable label */\n#sk-container-id-13 label.sk-toggleable__label {\n  cursor: pointer;\n  display: block;\n  width: 100%;\n  margin-bottom: 0;\n  padding: 0.5em;\n  box-sizing: border-box;\n  text-align: center;\n}\n\n#sk-container-id-13 label.sk-toggleable__label-arrow:before {\n  /* Arrow on the left of the label */\n  content: \"▸\";\n  float: left;\n  margin-right: 0.25em;\n  color: var(--sklearn-color-icon);\n}\n\n#sk-container-id-13 label.sk-toggleable__label-arrow:hover:before {\n  color: var(--sklearn-color-text);\n}\n\n/* Toggleable content - dropdown */\n\n#sk-container-id-13 div.sk-toggleable__content {\n  max-height: 0;\n  max-width: 0;\n  overflow: hidden;\n  text-align: left;\n  /* unfitted */\n  background-color: var(--sklearn-color-unfitted-level-0);\n}\n\n#sk-container-id-13 div.sk-toggleable__content.fitted {\n  /* fitted */\n  background-color: var(--sklearn-color-fitted-level-0);\n}\n\n#sk-container-id-13 div.sk-toggleable__content pre {\n  margin: 0.2em;\n  border-radius: 0.25em;\n  color: var(--sklearn-color-text);\n  /* unfitted */\n  background-color: var(--sklearn-color-unfitted-level-0);\n}\n\n#sk-container-id-13 div.sk-toggleable__content.fitted pre {\n  /* unfitted */\n  background-color: var(--sklearn-color-fitted-level-0);\n}\n\n#sk-container-id-13 input.sk-toggleable__control:checked~div.sk-toggleable__content {\n  /* Expand drop-down */\n  max-height: 200px;\n  max-width: 100%;\n  overflow: auto;\n}\n\n#sk-container-id-13 input.sk-toggleable__control:checked~label.sk-toggleable__label-arrow:before {\n  content: \"▾\";\n}\n\n/* Pipeline/ColumnTransformer-specific style */\n\n#sk-container-id-13 div.sk-label input.sk-toggleable__control:checked~label.sk-toggleable__label {\n  color: var(--sklearn-color-text);\n  background-color: var(--sklearn-color-unfitted-level-2);\n}\n\n#sk-container-id-13 div.sk-label.fitted input.sk-toggleable__control:checked~label.sk-toggleable__label {\n  background-color: var(--sklearn-color-fitted-level-2);\n}\n\n/* Estimator-specific style */\n\n/* Colorize estimator box */\n#sk-container-id-13 div.sk-estimator input.sk-toggleable__control:checked~label.sk-toggleable__label {\n  /* unfitted */\n  background-color: var(--sklearn-color-unfitted-level-2);\n}\n\n#sk-container-id-13 div.sk-estimator.fitted input.sk-toggleable__control:checked~label.sk-toggleable__label {\n  /* fitted */\n  background-color: var(--sklearn-color-fitted-level-2);\n}\n\n#sk-container-id-13 div.sk-label label.sk-toggleable__label,\n#sk-container-id-13 div.sk-label label {\n  /* The background is the default theme color */\n  color: var(--sklearn-color-text-on-default-background);\n}\n\n/* On hover, darken the color of the background */\n#sk-container-id-13 div.sk-label:hover label.sk-toggleable__label {\n  color: var(--sklearn-color-text);\n  background-color: var(--sklearn-color-unfitted-level-2);\n}\n\n/* Label box, darken color on hover, fitted */\n#sk-container-id-13 div.sk-label.fitted:hover label.sk-toggleable__label.fitted {\n  color: var(--sklearn-color-text);\n  background-color: var(--sklearn-color-fitted-level-2);\n}\n\n/* Estimator label */\n\n#sk-container-id-13 div.sk-label label {\n  font-family: monospace;\n  font-weight: bold;\n  display: inline-block;\n  line-height: 1.2em;\n}\n\n#sk-container-id-13 div.sk-label-container {\n  text-align: center;\n}\n\n/* Estimator-specific */\n#sk-container-id-13 div.sk-estimator {\n  font-family: monospace;\n  border: 1px dotted var(--sklearn-color-border-box);\n  border-radius: 0.25em;\n  box-sizing: border-box;\n  margin-bottom: 0.5em;\n  /* unfitted */\n  background-color: var(--sklearn-color-unfitted-level-0);\n}\n\n#sk-container-id-13 div.sk-estimator.fitted {\n  /* fitted */\n  background-color: var(--sklearn-color-fitted-level-0);\n}\n\n/* on hover */\n#sk-container-id-13 div.sk-estimator:hover {\n  /* unfitted */\n  background-color: var(--sklearn-color-unfitted-level-2);\n}\n\n#sk-container-id-13 div.sk-estimator.fitted:hover {\n  /* fitted */\n  background-color: var(--sklearn-color-fitted-level-2);\n}\n\n/* Specification for estimator info (e.g. \"i\" and \"?\") */\n\n/* Common style for \"i\" and \"?\" */\n\n.sk-estimator-doc-link,\na:link.sk-estimator-doc-link,\na:visited.sk-estimator-doc-link {\n  float: right;\n  font-size: smaller;\n  line-height: 1em;\n  font-family: monospace;\n  background-color: var(--sklearn-color-background);\n  border-radius: 1em;\n  height: 1em;\n  width: 1em;\n  text-decoration: none !important;\n  margin-left: 1ex;\n  /* unfitted */\n  border: var(--sklearn-color-unfitted-level-1) 1pt solid;\n  color: var(--sklearn-color-unfitted-level-1);\n}\n\n.sk-estimator-doc-link.fitted,\na:link.sk-estimator-doc-link.fitted,\na:visited.sk-estimator-doc-link.fitted {\n  /* fitted */\n  border: var(--sklearn-color-fitted-level-1) 1pt solid;\n  color: var(--sklearn-color-fitted-level-1);\n}\n\n/* On hover */\ndiv.sk-estimator:hover .sk-estimator-doc-link:hover,\n.sk-estimator-doc-link:hover,\ndiv.sk-label-container:hover .sk-estimator-doc-link:hover,\n.sk-estimator-doc-link:hover {\n  /* unfitted */\n  background-color: var(--sklearn-color-unfitted-level-3);\n  color: var(--sklearn-color-background);\n  text-decoration: none;\n}\n\ndiv.sk-estimator.fitted:hover .sk-estimator-doc-link.fitted:hover,\n.sk-estimator-doc-link.fitted:hover,\ndiv.sk-label-container:hover .sk-estimator-doc-link.fitted:hover,\n.sk-estimator-doc-link.fitted:hover {\n  /* fitted */\n  background-color: var(--sklearn-color-fitted-level-3);\n  color: var(--sklearn-color-background);\n  text-decoration: none;\n}\n\n/* Span, style for the box shown on hovering the info icon */\n.sk-estimator-doc-link span {\n  display: none;\n  z-index: 9999;\n  position: relative;\n  font-weight: normal;\n  right: .2ex;\n  padding: .5ex;\n  margin: .5ex;\n  width: min-content;\n  min-width: 20ex;\n  max-width: 50ex;\n  color: var(--sklearn-color-text);\n  box-shadow: 2pt 2pt 4pt #999;\n  /* unfitted */\n  background: var(--sklearn-color-unfitted-level-0);\n  border: .5pt solid var(--sklearn-color-unfitted-level-3);\n}\n\n.sk-estimator-doc-link.fitted span {\n  /* fitted */\n  background: var(--sklearn-color-fitted-level-0);\n  border: var(--sklearn-color-fitted-level-3);\n}\n\n.sk-estimator-doc-link:hover span {\n  display: block;\n}\n\n/* \"?\"-specific style due to the `<a>` HTML tag */\n\n#sk-container-id-13 a.estimator_doc_link {\n  float: right;\n  font-size: 1rem;\n  line-height: 1em;\n  font-family: monospace;\n  background-color: var(--sklearn-color-background);\n  border-radius: 1rem;\n  height: 1rem;\n  width: 1rem;\n  text-decoration: none;\n  /* unfitted */\n  color: var(--sklearn-color-unfitted-level-1);\n  border: var(--sklearn-color-unfitted-level-1) 1pt solid;\n}\n\n#sk-container-id-13 a.estimator_doc_link.fitted {\n  /* fitted */\n  border: var(--sklearn-color-fitted-level-1) 1pt solid;\n  color: var(--sklearn-color-fitted-level-1);\n}\n\n/* On hover */\n#sk-container-id-13 a.estimator_doc_link:hover {\n  /* unfitted */\n  background-color: var(--sklearn-color-unfitted-level-3);\n  color: var(--sklearn-color-background);\n  text-decoration: none;\n}\n\n#sk-container-id-13 a.estimator_doc_link.fitted:hover {\n  /* fitted */\n  background-color: var(--sklearn-color-fitted-level-3);\n}\n</style><div id=\"sk-container-id-13\" class=\"sk-top-container\"><div class=\"sk-text-repr-fallback\"><pre>MinMaxScaler()</pre><b>In a Jupyter environment, please rerun this cell to show the HTML representation or trust the notebook. <br />On GitHub, the HTML representation is unable to render, please try loading this page with nbviewer.org.</b></div><div class=\"sk-container\" hidden><div class=\"sk-item\"><div class=\"sk-estimator  sk-toggleable\"><input class=\"sk-toggleable__control sk-hidden--visually\" id=\"sk-estimator-id-13\" type=\"checkbox\" checked><label for=\"sk-estimator-id-13\" class=\"sk-toggleable__label  sk-toggleable__label-arrow \">&nbsp;&nbsp;MinMaxScaler<a class=\"sk-estimator-doc-link \" rel=\"noreferrer\" target=\"_blank\" href=\"https://scikit-learn.org/1.5/modules/generated/sklearn.preprocessing.MinMaxScaler.html\">?<span>Documentation for MinMaxScaler</span></a><span class=\"sk-estimator-doc-link \">i<span>Not fitted</span></span></label><div class=\"sk-toggleable__content \"><pre>MinMaxScaler()</pre></div> </div></div></div></div>"
     },
     "execution_count": 166,
     "metadata": {},
     "output_type": "execute_result"
    }
   ],
   "source": [
    "# Ваш код здесь\n",
    "min_max_scaler = MinMaxScaler()\n",
    "min_max_scaler"
   ]
  },
  {
   "cell_type": "code",
   "execution_count": 167,
   "outputs": [
    {
     "data": {
      "text/plain": "MinMaxScaler()",
      "text/html": "<style>#sk-container-id-14 {\n  /* Definition of color scheme common for light and dark mode */\n  --sklearn-color-text: black;\n  --sklearn-color-line: gray;\n  /* Definition of color scheme for unfitted estimators */\n  --sklearn-color-unfitted-level-0: #fff5e6;\n  --sklearn-color-unfitted-level-1: #f6e4d2;\n  --sklearn-color-unfitted-level-2: #ffe0b3;\n  --sklearn-color-unfitted-level-3: chocolate;\n  /* Definition of color scheme for fitted estimators */\n  --sklearn-color-fitted-level-0: #f0f8ff;\n  --sklearn-color-fitted-level-1: #d4ebff;\n  --sklearn-color-fitted-level-2: #b3dbfd;\n  --sklearn-color-fitted-level-3: cornflowerblue;\n\n  /* Specific color for light theme */\n  --sklearn-color-text-on-default-background: var(--sg-text-color, var(--theme-code-foreground, var(--jp-content-font-color1, black)));\n  --sklearn-color-background: var(--sg-background-color, var(--theme-background, var(--jp-layout-color0, white)));\n  --sklearn-color-border-box: var(--sg-text-color, var(--theme-code-foreground, var(--jp-content-font-color1, black)));\n  --sklearn-color-icon: #696969;\n\n  @media (prefers-color-scheme: dark) {\n    /* Redefinition of color scheme for dark theme */\n    --sklearn-color-text-on-default-background: var(--sg-text-color, var(--theme-code-foreground, var(--jp-content-font-color1, white)));\n    --sklearn-color-background: var(--sg-background-color, var(--theme-background, var(--jp-layout-color0, #111)));\n    --sklearn-color-border-box: var(--sg-text-color, var(--theme-code-foreground, var(--jp-content-font-color1, white)));\n    --sklearn-color-icon: #878787;\n  }\n}\n\n#sk-container-id-14 {\n  color: var(--sklearn-color-text);\n}\n\n#sk-container-id-14 pre {\n  padding: 0;\n}\n\n#sk-container-id-14 input.sk-hidden--visually {\n  border: 0;\n  clip: rect(1px 1px 1px 1px);\n  clip: rect(1px, 1px, 1px, 1px);\n  height: 1px;\n  margin: -1px;\n  overflow: hidden;\n  padding: 0;\n  position: absolute;\n  width: 1px;\n}\n\n#sk-container-id-14 div.sk-dashed-wrapped {\n  border: 1px dashed var(--sklearn-color-line);\n  margin: 0 0.4em 0.5em 0.4em;\n  box-sizing: border-box;\n  padding-bottom: 0.4em;\n  background-color: var(--sklearn-color-background);\n}\n\n#sk-container-id-14 div.sk-container {\n  /* jupyter's `normalize.less` sets `[hidden] { display: none; }`\n     but bootstrap.min.css set `[hidden] { display: none !important; }`\n     so we also need the `!important` here to be able to override the\n     default hidden behavior on the sphinx rendered scikit-learn.org.\n     See: https://github.com/scikit-learn/scikit-learn/issues/21755 */\n  display: inline-block !important;\n  position: relative;\n}\n\n#sk-container-id-14 div.sk-text-repr-fallback {\n  display: none;\n}\n\ndiv.sk-parallel-item,\ndiv.sk-serial,\ndiv.sk-item {\n  /* draw centered vertical line to link estimators */\n  background-image: linear-gradient(var(--sklearn-color-text-on-default-background), var(--sklearn-color-text-on-default-background));\n  background-size: 2px 100%;\n  background-repeat: no-repeat;\n  background-position: center center;\n}\n\n/* Parallel-specific style estimator block */\n\n#sk-container-id-14 div.sk-parallel-item::after {\n  content: \"\";\n  width: 100%;\n  border-bottom: 2px solid var(--sklearn-color-text-on-default-background);\n  flex-grow: 1;\n}\n\n#sk-container-id-14 div.sk-parallel {\n  display: flex;\n  align-items: stretch;\n  justify-content: center;\n  background-color: var(--sklearn-color-background);\n  position: relative;\n}\n\n#sk-container-id-14 div.sk-parallel-item {\n  display: flex;\n  flex-direction: column;\n}\n\n#sk-container-id-14 div.sk-parallel-item:first-child::after {\n  align-self: flex-end;\n  width: 50%;\n}\n\n#sk-container-id-14 div.sk-parallel-item:last-child::after {\n  align-self: flex-start;\n  width: 50%;\n}\n\n#sk-container-id-14 div.sk-parallel-item:only-child::after {\n  width: 0;\n}\n\n/* Serial-specific style estimator block */\n\n#sk-container-id-14 div.sk-serial {\n  display: flex;\n  flex-direction: column;\n  align-items: center;\n  background-color: var(--sklearn-color-background);\n  padding-right: 1em;\n  padding-left: 1em;\n}\n\n\n/* Toggleable style: style used for estimator/Pipeline/ColumnTransformer box that is\nclickable and can be expanded/collapsed.\n- Pipeline and ColumnTransformer use this feature and define the default style\n- Estimators will overwrite some part of the style using the `sk-estimator` class\n*/\n\n/* Pipeline and ColumnTransformer style (default) */\n\n#sk-container-id-14 div.sk-toggleable {\n  /* Default theme specific background. It is overwritten whether we have a\n  specific estimator or a Pipeline/ColumnTransformer */\n  background-color: var(--sklearn-color-background);\n}\n\n/* Toggleable label */\n#sk-container-id-14 label.sk-toggleable__label {\n  cursor: pointer;\n  display: block;\n  width: 100%;\n  margin-bottom: 0;\n  padding: 0.5em;\n  box-sizing: border-box;\n  text-align: center;\n}\n\n#sk-container-id-14 label.sk-toggleable__label-arrow:before {\n  /* Arrow on the left of the label */\n  content: \"▸\";\n  float: left;\n  margin-right: 0.25em;\n  color: var(--sklearn-color-icon);\n}\n\n#sk-container-id-14 label.sk-toggleable__label-arrow:hover:before {\n  color: var(--sklearn-color-text);\n}\n\n/* Toggleable content - dropdown */\n\n#sk-container-id-14 div.sk-toggleable__content {\n  max-height: 0;\n  max-width: 0;\n  overflow: hidden;\n  text-align: left;\n  /* unfitted */\n  background-color: var(--sklearn-color-unfitted-level-0);\n}\n\n#sk-container-id-14 div.sk-toggleable__content.fitted {\n  /* fitted */\n  background-color: var(--sklearn-color-fitted-level-0);\n}\n\n#sk-container-id-14 div.sk-toggleable__content pre {\n  margin: 0.2em;\n  border-radius: 0.25em;\n  color: var(--sklearn-color-text);\n  /* unfitted */\n  background-color: var(--sklearn-color-unfitted-level-0);\n}\n\n#sk-container-id-14 div.sk-toggleable__content.fitted pre {\n  /* unfitted */\n  background-color: var(--sklearn-color-fitted-level-0);\n}\n\n#sk-container-id-14 input.sk-toggleable__control:checked~div.sk-toggleable__content {\n  /* Expand drop-down */\n  max-height: 200px;\n  max-width: 100%;\n  overflow: auto;\n}\n\n#sk-container-id-14 input.sk-toggleable__control:checked~label.sk-toggleable__label-arrow:before {\n  content: \"▾\";\n}\n\n/* Pipeline/ColumnTransformer-specific style */\n\n#sk-container-id-14 div.sk-label input.sk-toggleable__control:checked~label.sk-toggleable__label {\n  color: var(--sklearn-color-text);\n  background-color: var(--sklearn-color-unfitted-level-2);\n}\n\n#sk-container-id-14 div.sk-label.fitted input.sk-toggleable__control:checked~label.sk-toggleable__label {\n  background-color: var(--sklearn-color-fitted-level-2);\n}\n\n/* Estimator-specific style */\n\n/* Colorize estimator box */\n#sk-container-id-14 div.sk-estimator input.sk-toggleable__control:checked~label.sk-toggleable__label {\n  /* unfitted */\n  background-color: var(--sklearn-color-unfitted-level-2);\n}\n\n#sk-container-id-14 div.sk-estimator.fitted input.sk-toggleable__control:checked~label.sk-toggleable__label {\n  /* fitted */\n  background-color: var(--sklearn-color-fitted-level-2);\n}\n\n#sk-container-id-14 div.sk-label label.sk-toggleable__label,\n#sk-container-id-14 div.sk-label label {\n  /* The background is the default theme color */\n  color: var(--sklearn-color-text-on-default-background);\n}\n\n/* On hover, darken the color of the background */\n#sk-container-id-14 div.sk-label:hover label.sk-toggleable__label {\n  color: var(--sklearn-color-text);\n  background-color: var(--sklearn-color-unfitted-level-2);\n}\n\n/* Label box, darken color on hover, fitted */\n#sk-container-id-14 div.sk-label.fitted:hover label.sk-toggleable__label.fitted {\n  color: var(--sklearn-color-text);\n  background-color: var(--sklearn-color-fitted-level-2);\n}\n\n/* Estimator label */\n\n#sk-container-id-14 div.sk-label label {\n  font-family: monospace;\n  font-weight: bold;\n  display: inline-block;\n  line-height: 1.2em;\n}\n\n#sk-container-id-14 div.sk-label-container {\n  text-align: center;\n}\n\n/* Estimator-specific */\n#sk-container-id-14 div.sk-estimator {\n  font-family: monospace;\n  border: 1px dotted var(--sklearn-color-border-box);\n  border-radius: 0.25em;\n  box-sizing: border-box;\n  margin-bottom: 0.5em;\n  /* unfitted */\n  background-color: var(--sklearn-color-unfitted-level-0);\n}\n\n#sk-container-id-14 div.sk-estimator.fitted {\n  /* fitted */\n  background-color: var(--sklearn-color-fitted-level-0);\n}\n\n/* on hover */\n#sk-container-id-14 div.sk-estimator:hover {\n  /* unfitted */\n  background-color: var(--sklearn-color-unfitted-level-2);\n}\n\n#sk-container-id-14 div.sk-estimator.fitted:hover {\n  /* fitted */\n  background-color: var(--sklearn-color-fitted-level-2);\n}\n\n/* Specification for estimator info (e.g. \"i\" and \"?\") */\n\n/* Common style for \"i\" and \"?\" */\n\n.sk-estimator-doc-link,\na:link.sk-estimator-doc-link,\na:visited.sk-estimator-doc-link {\n  float: right;\n  font-size: smaller;\n  line-height: 1em;\n  font-family: monospace;\n  background-color: var(--sklearn-color-background);\n  border-radius: 1em;\n  height: 1em;\n  width: 1em;\n  text-decoration: none !important;\n  margin-left: 1ex;\n  /* unfitted */\n  border: var(--sklearn-color-unfitted-level-1) 1pt solid;\n  color: var(--sklearn-color-unfitted-level-1);\n}\n\n.sk-estimator-doc-link.fitted,\na:link.sk-estimator-doc-link.fitted,\na:visited.sk-estimator-doc-link.fitted {\n  /* fitted */\n  border: var(--sklearn-color-fitted-level-1) 1pt solid;\n  color: var(--sklearn-color-fitted-level-1);\n}\n\n/* On hover */\ndiv.sk-estimator:hover .sk-estimator-doc-link:hover,\n.sk-estimator-doc-link:hover,\ndiv.sk-label-container:hover .sk-estimator-doc-link:hover,\n.sk-estimator-doc-link:hover {\n  /* unfitted */\n  background-color: var(--sklearn-color-unfitted-level-3);\n  color: var(--sklearn-color-background);\n  text-decoration: none;\n}\n\ndiv.sk-estimator.fitted:hover .sk-estimator-doc-link.fitted:hover,\n.sk-estimator-doc-link.fitted:hover,\ndiv.sk-label-container:hover .sk-estimator-doc-link.fitted:hover,\n.sk-estimator-doc-link.fitted:hover {\n  /* fitted */\n  background-color: var(--sklearn-color-fitted-level-3);\n  color: var(--sklearn-color-background);\n  text-decoration: none;\n}\n\n/* Span, style for the box shown on hovering the info icon */\n.sk-estimator-doc-link span {\n  display: none;\n  z-index: 9999;\n  position: relative;\n  font-weight: normal;\n  right: .2ex;\n  padding: .5ex;\n  margin: .5ex;\n  width: min-content;\n  min-width: 20ex;\n  max-width: 50ex;\n  color: var(--sklearn-color-text);\n  box-shadow: 2pt 2pt 4pt #999;\n  /* unfitted */\n  background: var(--sklearn-color-unfitted-level-0);\n  border: .5pt solid var(--sklearn-color-unfitted-level-3);\n}\n\n.sk-estimator-doc-link.fitted span {\n  /* fitted */\n  background: var(--sklearn-color-fitted-level-0);\n  border: var(--sklearn-color-fitted-level-3);\n}\n\n.sk-estimator-doc-link:hover span {\n  display: block;\n}\n\n/* \"?\"-specific style due to the `<a>` HTML tag */\n\n#sk-container-id-14 a.estimator_doc_link {\n  float: right;\n  font-size: 1rem;\n  line-height: 1em;\n  font-family: monospace;\n  background-color: var(--sklearn-color-background);\n  border-radius: 1rem;\n  height: 1rem;\n  width: 1rem;\n  text-decoration: none;\n  /* unfitted */\n  color: var(--sklearn-color-unfitted-level-1);\n  border: var(--sklearn-color-unfitted-level-1) 1pt solid;\n}\n\n#sk-container-id-14 a.estimator_doc_link.fitted {\n  /* fitted */\n  border: var(--sklearn-color-fitted-level-1) 1pt solid;\n  color: var(--sklearn-color-fitted-level-1);\n}\n\n/* On hover */\n#sk-container-id-14 a.estimator_doc_link:hover {\n  /* unfitted */\n  background-color: var(--sklearn-color-unfitted-level-3);\n  color: var(--sklearn-color-background);\n  text-decoration: none;\n}\n\n#sk-container-id-14 a.estimator_doc_link.fitted:hover {\n  /* fitted */\n  background-color: var(--sklearn-color-fitted-level-3);\n}\n</style><div id=\"sk-container-id-14\" class=\"sk-top-container\"><div class=\"sk-text-repr-fallback\"><pre>MinMaxScaler()</pre><b>In a Jupyter environment, please rerun this cell to show the HTML representation or trust the notebook. <br />On GitHub, the HTML representation is unable to render, please try loading this page with nbviewer.org.</b></div><div class=\"sk-container\" hidden><div class=\"sk-item\"><div class=\"sk-estimator fitted sk-toggleable\"><input class=\"sk-toggleable__control sk-hidden--visually\" id=\"sk-estimator-id-14\" type=\"checkbox\" checked><label for=\"sk-estimator-id-14\" class=\"sk-toggleable__label fitted sk-toggleable__label-arrow fitted\">&nbsp;&nbsp;MinMaxScaler<a class=\"sk-estimator-doc-link fitted\" rel=\"noreferrer\" target=\"_blank\" href=\"https://scikit-learn.org/1.5/modules/generated/sklearn.preprocessing.MinMaxScaler.html\">?<span>Documentation for MinMaxScaler</span></a><span class=\"sk-estimator-doc-link fitted\">i<span>Fitted</span></span></label><div class=\"sk-toggleable__content fitted\"><pre>MinMaxScaler()</pre></div> </div></div></div></div>"
     },
     "execution_count": 167,
     "metadata": {},
     "output_type": "execute_result"
    }
   ],
   "source": [
    "min_max_scaler.fit(data)"
   ],
   "metadata": {
    "collapsed": false,
    "pycharm": {
     "name": "#%%\n"
    }
   }
  },
  {
   "cell_type": "code",
   "execution_count": 168,
   "outputs": [
    {
     "data": {
      "text/plain": "array([[0.34176874, 0.28869912],\n       [0.4686646 , 0.33305517],\n       [0.31356118, 0.2920222 ],\n       ...,\n       [0.55905185, 0.13910399],\n       [0.51728736, 0.27225478],\n       [0.37722678, 0.32418225]])"
     },
     "execution_count": 168,
     "metadata": {},
     "output_type": "execute_result"
    }
   ],
   "source": [
    "mina_max_scaled = min_max_scaler.transform(data)\n",
    "mina_max_scaled"
   ],
   "metadata": {
    "collapsed": false,
    "pycharm": {
     "name": "#%%\n"
    }
   }
  },
  {
   "cell_type": "code",
   "execution_count": 169,
   "outputs": [
    {
     "data": {
      "text/plain": "      lat_min_max  long_min_max\n0        0.341769      0.288699\n1        0.468665      0.333055\n2        0.313561      0.292022\n3        0.356215      0.314844\n4        0.361810      0.293893\n...           ...           ...\n9614     0.497341      0.312727\n9615     0.521415      0.318411\n9616     0.559052      0.139104\n9617     0.517287      0.272255\n9618     0.377227      0.324182\n\n[9619 rows x 2 columns]",
      "text/html": "<div>\n<style scoped>\n    .dataframe tbody tr th:only-of-type {\n        vertical-align: middle;\n    }\n\n    .dataframe tbody tr th {\n        vertical-align: top;\n    }\n\n    .dataframe thead th {\n        text-align: right;\n    }\n</style>\n<table border=\"1\" class=\"dataframe\">\n  <thead>\n    <tr style=\"text-align: right;\">\n      <th></th>\n      <th>lat_min_max</th>\n      <th>long_min_max</th>\n    </tr>\n  </thead>\n  <tbody>\n    <tr>\n      <th>0</th>\n      <td>0.341769</td>\n      <td>0.288699</td>\n    </tr>\n    <tr>\n      <th>1</th>\n      <td>0.468665</td>\n      <td>0.333055</td>\n    </tr>\n    <tr>\n      <th>2</th>\n      <td>0.313561</td>\n      <td>0.292022</td>\n    </tr>\n    <tr>\n      <th>3</th>\n      <td>0.356215</td>\n      <td>0.314844</td>\n    </tr>\n    <tr>\n      <th>4</th>\n      <td>0.361810</td>\n      <td>0.293893</td>\n    </tr>\n    <tr>\n      <th>...</th>\n      <td>...</td>\n      <td>...</td>\n    </tr>\n    <tr>\n      <th>9614</th>\n      <td>0.497341</td>\n      <td>0.312727</td>\n    </tr>\n    <tr>\n      <th>9615</th>\n      <td>0.521415</td>\n      <td>0.318411</td>\n    </tr>\n    <tr>\n      <th>9616</th>\n      <td>0.559052</td>\n      <td>0.139104</td>\n    </tr>\n    <tr>\n      <th>9617</th>\n      <td>0.517287</td>\n      <td>0.272255</td>\n    </tr>\n    <tr>\n      <th>9618</th>\n      <td>0.377227</td>\n      <td>0.324182</td>\n    </tr>\n  </tbody>\n</table>\n<p>9619 rows × 2 columns</p>\n</div>"
     },
     "execution_count": 169,
     "metadata": {},
     "output_type": "execute_result"
    }
   ],
   "source": [
    "min_max_data = pd.DataFrame(mina_max_scaled, columns=['lat_min_max', 'long_min_max'])\n",
    "min_max_data"
   ],
   "metadata": {
    "collapsed": false,
    "pycharm": {
     "name": "#%%\n"
    }
   }
  },
  {
   "cell_type": "code",
   "execution_count": 170,
   "outputs": [
    {
     "data": {
      "text/plain": "           id                                                url  \\\n0  7308295377  https://chattanooga.craigslist.org/ctd/d/chatt...   \n1  7316380095  https://newjersey.craigslist.org/ctd/d/carlsta...   \n2  7313733749  https://reno.craigslist.org/ctd/d/atlanta-2017...   \n3  7308210929  https://fayetteville.craigslist.org/ctd/d/rale...   \n4  7303797340  https://knoxville.craigslist.org/ctd/d/knoxvil...   \n\n         region                           region_url  price  year  \\\n0   chattanooga   https://chattanooga.craigslist.org  54990  2020   \n1  north jersey     https://newjersey.craigslist.org  16942  2016   \n2  reno / tahoe          https://reno.craigslist.org  35590  2017   \n3  fayetteville  https://fayetteville.craigslist.org  14500  2013   \n4     knoxville     https://knoxville.craigslist.org  14590  2012   \n\n  manufacturer                   model    fuel  odometer  ...   lat_std  \\\n0          ram  2500 crew cab big horn  diesel     27442  ... -0.619172   \n1         ford    explorer 4wd 4dr xlt   other     60023  ...  0.388014   \n2   volkswagen        golf r hatchback     gas     14048  ... -0.843059   \n3       toyota                    rav4     gas    117291  ... -0.504509   \n4          bmw  1 series 128i coupe 2d   other     80465  ... -0.460101   \n\n   long_std  year_std odometer/price_std desc_len_std  model_in_desc_std  \\\n0  0.484245  1.322394          -0.510784     0.632075          -0.155788   \n1  1.110800  0.695973          -0.402947    -0.646781          -0.155788   \n2  0.531185  0.852578          -0.514480     0.560744          -0.155788   \n3  0.853562  0.226157          -0.241883     0.180435          -0.155788   \n4  0.557607  0.069552          -0.333074     0.766366          -0.155788   \n\n   model_len_std model_word_count_std lat_min_max long_min_max  \n0       1.163032             1.910669    0.341769     0.288699  \n1       0.932087             1.235799    0.468665     0.333055  \n2       0.470197             0.560930    0.313561     0.292022  \n3      -0.915473            -0.788810    0.356215     0.314844  \n4       1.163032             1.910669    0.361810     0.293893  \n\n[5 rows x 1495 columns]",
      "text/html": "<div>\n<style scoped>\n    .dataframe tbody tr th:only-of-type {\n        vertical-align: middle;\n    }\n\n    .dataframe tbody tr th {\n        vertical-align: top;\n    }\n\n    .dataframe thead th {\n        text-align: right;\n    }\n</style>\n<table border=\"1\" class=\"dataframe\">\n  <thead>\n    <tr style=\"text-align: right;\">\n      <th></th>\n      <th>id</th>\n      <th>url</th>\n      <th>region</th>\n      <th>region_url</th>\n      <th>price</th>\n      <th>year</th>\n      <th>manufacturer</th>\n      <th>model</th>\n      <th>fuel</th>\n      <th>odometer</th>\n      <th>...</th>\n      <th>lat_std</th>\n      <th>long_std</th>\n      <th>year_std</th>\n      <th>odometer/price_std</th>\n      <th>desc_len_std</th>\n      <th>model_in_desc_std</th>\n      <th>model_len_std</th>\n      <th>model_word_count_std</th>\n      <th>lat_min_max</th>\n      <th>long_min_max</th>\n    </tr>\n  </thead>\n  <tbody>\n    <tr>\n      <th>0</th>\n      <td>7308295377</td>\n      <td>https://chattanooga.craigslist.org/ctd/d/chatt...</td>\n      <td>chattanooga</td>\n      <td>https://chattanooga.craigslist.org</td>\n      <td>54990</td>\n      <td>2020</td>\n      <td>ram</td>\n      <td>2500 crew cab big horn</td>\n      <td>diesel</td>\n      <td>27442</td>\n      <td>...</td>\n      <td>-0.619172</td>\n      <td>0.484245</td>\n      <td>1.322394</td>\n      <td>-0.510784</td>\n      <td>0.632075</td>\n      <td>-0.155788</td>\n      <td>1.163032</td>\n      <td>1.910669</td>\n      <td>0.341769</td>\n      <td>0.288699</td>\n    </tr>\n    <tr>\n      <th>1</th>\n      <td>7316380095</td>\n      <td>https://newjersey.craigslist.org/ctd/d/carlsta...</td>\n      <td>north jersey</td>\n      <td>https://newjersey.craigslist.org</td>\n      <td>16942</td>\n      <td>2016</td>\n      <td>ford</td>\n      <td>explorer 4wd 4dr xlt</td>\n      <td>other</td>\n      <td>60023</td>\n      <td>...</td>\n      <td>0.388014</td>\n      <td>1.110800</td>\n      <td>0.695973</td>\n      <td>-0.402947</td>\n      <td>-0.646781</td>\n      <td>-0.155788</td>\n      <td>0.932087</td>\n      <td>1.235799</td>\n      <td>0.468665</td>\n      <td>0.333055</td>\n    </tr>\n    <tr>\n      <th>2</th>\n      <td>7313733749</td>\n      <td>https://reno.craigslist.org/ctd/d/atlanta-2017...</td>\n      <td>reno / tahoe</td>\n      <td>https://reno.craigslist.org</td>\n      <td>35590</td>\n      <td>2017</td>\n      <td>volkswagen</td>\n      <td>golf r hatchback</td>\n      <td>gas</td>\n      <td>14048</td>\n      <td>...</td>\n      <td>-0.843059</td>\n      <td>0.531185</td>\n      <td>0.852578</td>\n      <td>-0.514480</td>\n      <td>0.560744</td>\n      <td>-0.155788</td>\n      <td>0.470197</td>\n      <td>0.560930</td>\n      <td>0.313561</td>\n      <td>0.292022</td>\n    </tr>\n    <tr>\n      <th>3</th>\n      <td>7308210929</td>\n      <td>https://fayetteville.craigslist.org/ctd/d/rale...</td>\n      <td>fayetteville</td>\n      <td>https://fayetteville.craigslist.org</td>\n      <td>14500</td>\n      <td>2013</td>\n      <td>toyota</td>\n      <td>rav4</td>\n      <td>gas</td>\n      <td>117291</td>\n      <td>...</td>\n      <td>-0.504509</td>\n      <td>0.853562</td>\n      <td>0.226157</td>\n      <td>-0.241883</td>\n      <td>0.180435</td>\n      <td>-0.155788</td>\n      <td>-0.915473</td>\n      <td>-0.788810</td>\n      <td>0.356215</td>\n      <td>0.314844</td>\n    </tr>\n    <tr>\n      <th>4</th>\n      <td>7303797340</td>\n      <td>https://knoxville.craigslist.org/ctd/d/knoxvil...</td>\n      <td>knoxville</td>\n      <td>https://knoxville.craigslist.org</td>\n      <td>14590</td>\n      <td>2012</td>\n      <td>bmw</td>\n      <td>1 series 128i coupe 2d</td>\n      <td>other</td>\n      <td>80465</td>\n      <td>...</td>\n      <td>-0.460101</td>\n      <td>0.557607</td>\n      <td>0.069552</td>\n      <td>-0.333074</td>\n      <td>0.766366</td>\n      <td>-0.155788</td>\n      <td>1.163032</td>\n      <td>1.910669</td>\n      <td>0.361810</td>\n      <td>0.293893</td>\n    </tr>\n  </tbody>\n</table>\n<p>5 rows × 1495 columns</p>\n</div>"
     },
     "execution_count": 170,
     "metadata": {},
     "output_type": "execute_result"
    }
   ],
   "source": [
    "df = df.join(min_max_data)\n",
    "df.head(5)"
   ],
   "metadata": {
    "collapsed": false,
    "pycharm": {
     "name": "#%%\n"
    }
   }
  },
  {
   "cell_type": "markdown",
   "id": "71044c34",
   "metadata": {
    "id": "71044c34",
    "pycharm": {
     "name": "#%% md\n"
    }
   },
   "source": [
    "4. Создайте переменную под географические признаки `lat`, `lat_std`, `lat_mm`, `long`, `long_std`, `long_mm` и выведите их. Посмотрите на различия в значениях для исходных признаков и нормализованных с помощью стандартизации и MinMax-преобразования. "
   ]
  },
  {
   "cell_type": "code",
   "execution_count": 171,
   "id": "27642284",
   "metadata": {
    "ExecuteTime": {
     "end_time": "2022-03-15T22:40:47.408669Z",
     "start_time": "2022-03-15T22:40:47.402057Z"
    },
    "id": "27642284",
    "pycharm": {
     "name": "#%%\n"
    }
   },
   "outputs": [
    {
     "data": {
      "text/plain": "            lat   lat_std  lat_min_max        long  long_std  long_min_max\n0     35.060000 -0.619172     0.341769  -85.250000  0.484245      0.288699\n1     40.821805  0.388014     0.468665  -74.061962  1.110800      0.333055\n2     33.779214 -0.843059     0.313561  -84.411811  0.531185      0.292022\n3     35.715954 -0.504509     0.356215  -78.655304  0.853562      0.314844\n4     35.970000 -0.460101     0.361810  -83.940000  0.557607      0.293893\n...         ...       ...          ...         ...       ...           ...\n9614  42.123900  0.615626     0.497341  -79.189500  0.823646      0.312727\n9615  43.216990  0.806702     0.521415  -77.755610  0.903947      0.318411\n9616  44.925908  1.105428     0.559052 -122.982753 -1.628875      0.139104\n9617  43.029559  0.773939     0.517287  -89.397796  0.251959      0.272255\n9618  36.670000 -0.337738     0.377227  -76.300000  0.985465      0.324182\n\n[9619 rows x 6 columns]",
      "text/html": "<div>\n<style scoped>\n    .dataframe tbody tr th:only-of-type {\n        vertical-align: middle;\n    }\n\n    .dataframe tbody tr th {\n        vertical-align: top;\n    }\n\n    .dataframe thead th {\n        text-align: right;\n    }\n</style>\n<table border=\"1\" class=\"dataframe\">\n  <thead>\n    <tr style=\"text-align: right;\">\n      <th></th>\n      <th>lat</th>\n      <th>lat_std</th>\n      <th>lat_min_max</th>\n      <th>long</th>\n      <th>long_std</th>\n      <th>long_min_max</th>\n    </tr>\n  </thead>\n  <tbody>\n    <tr>\n      <th>0</th>\n      <td>35.060000</td>\n      <td>-0.619172</td>\n      <td>0.341769</td>\n      <td>-85.250000</td>\n      <td>0.484245</td>\n      <td>0.288699</td>\n    </tr>\n    <tr>\n      <th>1</th>\n      <td>40.821805</td>\n      <td>0.388014</td>\n      <td>0.468665</td>\n      <td>-74.061962</td>\n      <td>1.110800</td>\n      <td>0.333055</td>\n    </tr>\n    <tr>\n      <th>2</th>\n      <td>33.779214</td>\n      <td>-0.843059</td>\n      <td>0.313561</td>\n      <td>-84.411811</td>\n      <td>0.531185</td>\n      <td>0.292022</td>\n    </tr>\n    <tr>\n      <th>3</th>\n      <td>35.715954</td>\n      <td>-0.504509</td>\n      <td>0.356215</td>\n      <td>-78.655304</td>\n      <td>0.853562</td>\n      <td>0.314844</td>\n    </tr>\n    <tr>\n      <th>4</th>\n      <td>35.970000</td>\n      <td>-0.460101</td>\n      <td>0.361810</td>\n      <td>-83.940000</td>\n      <td>0.557607</td>\n      <td>0.293893</td>\n    </tr>\n    <tr>\n      <th>...</th>\n      <td>...</td>\n      <td>...</td>\n      <td>...</td>\n      <td>...</td>\n      <td>...</td>\n      <td>...</td>\n    </tr>\n    <tr>\n      <th>9614</th>\n      <td>42.123900</td>\n      <td>0.615626</td>\n      <td>0.497341</td>\n      <td>-79.189500</td>\n      <td>0.823646</td>\n      <td>0.312727</td>\n    </tr>\n    <tr>\n      <th>9615</th>\n      <td>43.216990</td>\n      <td>0.806702</td>\n      <td>0.521415</td>\n      <td>-77.755610</td>\n      <td>0.903947</td>\n      <td>0.318411</td>\n    </tr>\n    <tr>\n      <th>9616</th>\n      <td>44.925908</td>\n      <td>1.105428</td>\n      <td>0.559052</td>\n      <td>-122.982753</td>\n      <td>-1.628875</td>\n      <td>0.139104</td>\n    </tr>\n    <tr>\n      <th>9617</th>\n      <td>43.029559</td>\n      <td>0.773939</td>\n      <td>0.517287</td>\n      <td>-89.397796</td>\n      <td>0.251959</td>\n      <td>0.272255</td>\n    </tr>\n    <tr>\n      <th>9618</th>\n      <td>36.670000</td>\n      <td>-0.337738</td>\n      <td>0.377227</td>\n      <td>-76.300000</td>\n      <td>0.985465</td>\n      <td>0.324182</td>\n    </tr>\n  </tbody>\n</table>\n<p>9619 rows × 6 columns</p>\n</div>"
     },
     "execution_count": 171,
     "metadata": {},
     "output_type": "execute_result"
    }
   ],
   "source": [
    "# Ваш код здесь\n",
    "geo_cols = ['lat', 'lat_std', 'lat_min_max', 'long', 'long_std', 'long_min_max']\n",
    "df[geo_cols]"
   ]
  },
  {
   "cell_type": "markdown",
   "id": "ef219d5f",
   "metadata": {
    "id": "ef219d5f",
    "pycharm": {
     "name": "#%% md\n"
    }
   },
   "source": [
    "5. Выведите описательные статистики для всех географических признаков. Посмотрите на различия в статистиках для исходных признаков и нормализованных с помощью стандартизации и MinMax-преобразования."
   ]
  },
  {
   "cell_type": "code",
   "execution_count": 172,
   "id": "453b92ff",
   "metadata": {
    "ExecuteTime": {
     "end_time": "2022-03-15T22:40:47.738681Z",
     "start_time": "2022-03-15T22:40:47.730698Z"
    },
    "id": "453b92ff",
    "pycharm": {
     "name": "#%%\n"
    }
   },
   "outputs": [
    {
     "data": {
      "text/plain": "               lat       lat_std  lat_min_max         long      long_std  \\\ncount  9619.000000  9.619000e+03  9619.000000  9619.000000  9.619000e+03   \nmean     38.602095  2.105257e-16     0.419779   -93.896875 -4.498602e-16   \nstd       5.720989  1.000052e+00     0.125997    17.857352  1.000052e+00   \nmin      19.541726 -3.331829e+00     0.000000  -158.069300 -3.593801e+00   \n25%      34.920000 -6.436450e-01     0.338685  -106.944340 -7.306875e-01   \n50%      39.300000  1.219966e-01     0.435149   -87.845800  3.388739e-01   \n75%      42.382100  6.607601e-01     0.503028   -80.678711  7.402470e-01   \nmax      64.947500  4.605283e+00     1.000000    94.163200  1.053179e+01   \n\n       long_min_max  \ncount   9619.000000  \nmean       0.254418  \nstd        0.070797  \nmin        0.000000  \n25%        0.202690  \n50%        0.278408  \n75%        0.306822  \nmax        1.000000  ",
      "text/html": "<div>\n<style scoped>\n    .dataframe tbody tr th:only-of-type {\n        vertical-align: middle;\n    }\n\n    .dataframe tbody tr th {\n        vertical-align: top;\n    }\n\n    .dataframe thead th {\n        text-align: right;\n    }\n</style>\n<table border=\"1\" class=\"dataframe\">\n  <thead>\n    <tr style=\"text-align: right;\">\n      <th></th>\n      <th>lat</th>\n      <th>lat_std</th>\n      <th>lat_min_max</th>\n      <th>long</th>\n      <th>long_std</th>\n      <th>long_min_max</th>\n    </tr>\n  </thead>\n  <tbody>\n    <tr>\n      <th>count</th>\n      <td>9619.000000</td>\n      <td>9.619000e+03</td>\n      <td>9619.000000</td>\n      <td>9619.000000</td>\n      <td>9.619000e+03</td>\n      <td>9619.000000</td>\n    </tr>\n    <tr>\n      <th>mean</th>\n      <td>38.602095</td>\n      <td>2.105257e-16</td>\n      <td>0.419779</td>\n      <td>-93.896875</td>\n      <td>-4.498602e-16</td>\n      <td>0.254418</td>\n    </tr>\n    <tr>\n      <th>std</th>\n      <td>5.720989</td>\n      <td>1.000052e+00</td>\n      <td>0.125997</td>\n      <td>17.857352</td>\n      <td>1.000052e+00</td>\n      <td>0.070797</td>\n    </tr>\n    <tr>\n      <th>min</th>\n      <td>19.541726</td>\n      <td>-3.331829e+00</td>\n      <td>0.000000</td>\n      <td>-158.069300</td>\n      <td>-3.593801e+00</td>\n      <td>0.000000</td>\n    </tr>\n    <tr>\n      <th>25%</th>\n      <td>34.920000</td>\n      <td>-6.436450e-01</td>\n      <td>0.338685</td>\n      <td>-106.944340</td>\n      <td>-7.306875e-01</td>\n      <td>0.202690</td>\n    </tr>\n    <tr>\n      <th>50%</th>\n      <td>39.300000</td>\n      <td>1.219966e-01</td>\n      <td>0.435149</td>\n      <td>-87.845800</td>\n      <td>3.388739e-01</td>\n      <td>0.278408</td>\n    </tr>\n    <tr>\n      <th>75%</th>\n      <td>42.382100</td>\n      <td>6.607601e-01</td>\n      <td>0.503028</td>\n      <td>-80.678711</td>\n      <td>7.402470e-01</td>\n      <td>0.306822</td>\n    </tr>\n    <tr>\n      <th>max</th>\n      <td>64.947500</td>\n      <td>4.605283e+00</td>\n      <td>1.000000</td>\n      <td>94.163200</td>\n      <td>1.053179e+01</td>\n      <td>1.000000</td>\n    </tr>\n  </tbody>\n</table>\n</div>"
     },
     "execution_count": 172,
     "metadata": {},
     "output_type": "execute_result"
    }
   ],
   "source": [
    "# Ваш код здесь\n",
    "df[geo_cols].describe()"
   ]
  },
  {
   "cell_type": "markdown",
   "id": "efac5751",
   "metadata": {
    "id": "efac5751",
    "pycharm": {
     "name": "#%% md\n"
    }
   },
   "source": [
    "6. Выведите матрицу корреляций для всех географических признаков, чтобы убедиться, что нормализация признаков сохранила свойства исходных признаков."
   ]
  },
  {
   "cell_type": "code",
   "execution_count": 173,
   "id": "10bcd5c8",
   "metadata": {
    "ExecuteTime": {
     "end_time": "2022-03-15T22:40:47.841822Z",
     "start_time": "2022-03-15T22:40:47.835737Z"
    },
    "id": "10bcd5c8",
    "pycharm": {
     "name": "#%%\n"
    }
   },
   "outputs": [
    {
     "data": {
      "text/plain": "                   lat   lat_std  lat_min_max      long  long_std  \\\nlat           1.000000  1.000000     1.000000 -0.134596 -0.134596   \nlat_std       1.000000  1.000000     1.000000 -0.134596 -0.134596   \nlat_min_max   1.000000  1.000000     1.000000 -0.134596 -0.134596   \nlong         -0.134596 -0.134596    -0.134596  1.000000  1.000000   \nlong_std     -0.134596 -0.134596    -0.134596  1.000000  1.000000   \nlong_min_max -0.134596 -0.134596    -0.134596  1.000000  1.000000   \n\n              long_min_max  \nlat              -0.134596  \nlat_std          -0.134596  \nlat_min_max      -0.134596  \nlong              1.000000  \nlong_std          1.000000  \nlong_min_max      1.000000  ",
      "text/html": "<div>\n<style scoped>\n    .dataframe tbody tr th:only-of-type {\n        vertical-align: middle;\n    }\n\n    .dataframe tbody tr th {\n        vertical-align: top;\n    }\n\n    .dataframe thead th {\n        text-align: right;\n    }\n</style>\n<table border=\"1\" class=\"dataframe\">\n  <thead>\n    <tr style=\"text-align: right;\">\n      <th></th>\n      <th>lat</th>\n      <th>lat_std</th>\n      <th>lat_min_max</th>\n      <th>long</th>\n      <th>long_std</th>\n      <th>long_min_max</th>\n    </tr>\n  </thead>\n  <tbody>\n    <tr>\n      <th>lat</th>\n      <td>1.000000</td>\n      <td>1.000000</td>\n      <td>1.000000</td>\n      <td>-0.134596</td>\n      <td>-0.134596</td>\n      <td>-0.134596</td>\n    </tr>\n    <tr>\n      <th>lat_std</th>\n      <td>1.000000</td>\n      <td>1.000000</td>\n      <td>1.000000</td>\n      <td>-0.134596</td>\n      <td>-0.134596</td>\n      <td>-0.134596</td>\n    </tr>\n    <tr>\n      <th>lat_min_max</th>\n      <td>1.000000</td>\n      <td>1.000000</td>\n      <td>1.000000</td>\n      <td>-0.134596</td>\n      <td>-0.134596</td>\n      <td>-0.134596</td>\n    </tr>\n    <tr>\n      <th>long</th>\n      <td>-0.134596</td>\n      <td>-0.134596</td>\n      <td>-0.134596</td>\n      <td>1.000000</td>\n      <td>1.000000</td>\n      <td>1.000000</td>\n    </tr>\n    <tr>\n      <th>long_std</th>\n      <td>-0.134596</td>\n      <td>-0.134596</td>\n      <td>-0.134596</td>\n      <td>1.000000</td>\n      <td>1.000000</td>\n      <td>1.000000</td>\n    </tr>\n    <tr>\n      <th>long_min_max</th>\n      <td>-0.134596</td>\n      <td>-0.134596</td>\n      <td>-0.134596</td>\n      <td>1.000000</td>\n      <td>1.000000</td>\n      <td>1.000000</td>\n    </tr>\n  </tbody>\n</table>\n</div>"
     },
     "execution_count": 173,
     "metadata": {},
     "output_type": "execute_result"
    }
   ],
   "source": [
    "# Ваш код здесь\n",
    "df[geo_cols].corr()"
   ]
  },
  {
   "cell_type": "markdown",
   "id": "f87792e8",
   "metadata": {
    "ExecuteTime": {
     "end_time": "2022-03-13T12:00:09.641795Z",
     "start_time": "2022-03-13T12:00:09.636474Z"
    },
    "id": "f87792e8",
    "pycharm": {
     "name": "#%% md\n"
    }
   },
   "source": [
    "### Задача 5. Признаки на основе дат\n",
    "\n",
    "1. Выведите по отдельности колонки `posting_date` и `date`. "
   ]
  },
  {
   "cell_type": "code",
   "execution_count": 174,
   "id": "1cf0cc30",
   "metadata": {
    "ExecuteTime": {
     "end_time": "2022-03-15T22:40:48.879395Z",
     "start_time": "2022-03-15T22:40:48.875098Z"
    },
    "id": "1cf0cc30",
    "pycharm": {
     "name": "#%%\n"
    }
   },
   "outputs": [
    {
     "data": {
      "text/plain": "0       2021-04-17T12:30:50-0400\n1       2021-05-03T15:40:21-0400\n2       2021-04-28T03:52:20-0700\n3       2021-04-17T10:08:57-0400\n4       2021-04-08T15:10:56-0400\n                  ...           \n9614    2021-04-10T16:33:57-0400\n9615    2021-05-03T09:36:30-0400\n9616    2021-04-22T12:14:01-0700\n9617    2021-04-14T09:14:42-0500\n9618    2021-04-24T13:50:49-0400\nName: posting_date, Length: 9619, dtype: object"
     },
     "execution_count": 174,
     "metadata": {},
     "output_type": "execute_result"
    }
   ],
   "source": [
    "# Ваш код здесь\n",
    "df['posting_date']"
   ]
  },
  {
   "cell_type": "code",
   "execution_count": 175,
   "id": "c90c11e1",
   "metadata": {
    "pycharm": {
     "name": "#%%\n"
    }
   },
   "outputs": [
    {
     "data": {
      "text/plain": "0       2021-04-17 16:30:50+00:00\n1       2021-05-03 19:40:21+00:00\n2       2021-04-28 10:52:20+00:00\n3       2021-04-17 14:08:57+00:00\n4       2021-04-08 19:10:56+00:00\n                  ...            \n9614    2021-04-10 20:33:57+00:00\n9615    2021-05-03 13:36:30+00:00\n9616    2021-04-22 19:14:01+00:00\n9617    2021-04-14 14:14:42+00:00\n9618    2021-04-24 17:50:49+00:00\nName: date, Length: 9619, dtype: object"
     },
     "execution_count": 175,
     "metadata": {},
     "output_type": "execute_result"
    }
   ],
   "source": [
    "df['date']"
   ]
  },
  {
   "cell_type": "markdown",
   "id": "a154545f",
   "metadata": {
    "id": "a154545f",
    "pycharm": {
     "name": "#%% md\n"
    }
   },
   "source": [
    "2. Ранее преобразованная колонка `date` после сохранения в файл и загрузки из него содержит данные в строковом формате, поэтому измените её тип c помощью `pd.to_datetime`."
   ]
  },
  {
   "cell_type": "code",
   "execution_count": 176,
   "id": "a196635b",
   "metadata": {
    "ExecuteTime": {
     "end_time": "2022-03-15T22:49:02.356258Z",
     "start_time": "2022-03-15T22:49:02.315893Z"
    },
    "id": "a196635b",
    "pycharm": {
     "name": "#%%\n"
    }
   },
   "outputs": [
    {
     "data": {
      "text/plain": "datetime64[ns, UTC]"
     },
     "execution_count": 176,
     "metadata": {},
     "output_type": "execute_result"
    }
   ],
   "source": [
    "# Ваш код здесь\n",
    "df['date'] = pd.to_datetime(df['date'])\n",
    "df['date'].dtype"
   ]
  },
  {
   "cell_type": "markdown",
   "id": "c9b3e6f1",
   "metadata": {
    "id": "c9b3e6f1",
    "pycharm": {
     "name": "#%% md\n"
    }
   },
   "source": [
    "3. Несколькими способами извлеките номер месяца продажи автомобиля.\n",
    "\n",
    "3.1. Из переменной `posting_date` с помощью lambda-функции и операций над строками."
   ]
  },
  {
   "cell_type": "code",
   "execution_count": 177,
   "id": "7fb35f85",
   "metadata": {
    "ExecuteTime": {
     "end_time": "2022-03-15T22:40:51.380851Z",
     "start_time": "2022-03-15T22:40:51.369103Z"
    },
    "id": "7fb35f85",
    "pycharm": {
     "name": "#%%\n"
    }
   },
   "outputs": [
    {
     "data": {
      "text/plain": "0       04\n1       05\n2       04\n3       04\n4       04\n        ..\n9614    04\n9615    05\n9616    04\n9617    04\n9618    04\nName: posting_date, Length: 9619, dtype: object"
     },
     "execution_count": 177,
     "metadata": {},
     "output_type": "execute_result"
    }
   ],
   "source": [
    "# Ваш код здесь\n",
    "df.posting_date.str.split('-').str[1]"
   ]
  },
  {
   "cell_type": "markdown",
   "id": "3218fd7e",
   "metadata": {
    "id": "3218fd7e",
    "pycharm": {
     "name": "#%% md\n"
    }
   },
   "source": [
    "3.2. Из переменной `date` с помощью lambda-функции и метода `month`."
   ]
  },
  {
   "cell_type": "code",
   "execution_count": 178,
   "id": "4fd839cb",
   "metadata": {
    "ExecuteTime": {
     "end_time": "2022-03-15T22:40:54.064285Z",
     "start_time": "2022-03-15T22:40:54.057551Z"
    },
    "id": "4fd839cb",
    "pycharm": {
     "name": "#%%\n"
    }
   },
   "outputs": [
    {
     "data": {
      "text/plain": "0       4\n1       5\n2       4\n3       4\n4       4\n       ..\n9614    4\n9615    5\n9616    4\n9617    4\n9618    4\nName: date, Length: 9619, dtype: int64"
     },
     "execution_count": 178,
     "metadata": {},
     "output_type": "execute_result"
    }
   ],
   "source": [
    "# Ваш код здесь\n",
    "df.date.apply(lambda x: x.month)"
   ]
  },
  {
   "cell_type": "markdown",
   "id": "4000edd6",
   "metadata": {
    "ExecuteTime": {
     "end_time": "2022-03-13T12:25:21.228094Z",
     "start_time": "2022-03-13T12:25:21.223060Z"
    },
    "id": "4000edd6",
    "pycharm": {
     "name": "#%% md\n"
    }
   },
   "source": [
    "3.3. Из переменной `date` с помощью `dt` и метода `month`."
   ]
  },
  {
   "cell_type": "code",
   "execution_count": 179,
   "id": "b4112009",
   "metadata": {
    "ExecuteTime": {
     "end_time": "2022-03-15T22:40:55.768506Z",
     "start_time": "2022-03-15T22:40:55.764567Z"
    },
    "id": "b4112009",
    "pycharm": {
     "name": "#%%\n"
    }
   },
   "outputs": [
    {
     "data": {
      "text/plain": "0       4\n1       5\n2       4\n3       4\n4       4\n       ..\n9614    4\n9615    5\n9616    4\n9617    4\n9618    4\nName: date, Length: 9619, dtype: int32"
     },
     "execution_count": 179,
     "metadata": {},
     "output_type": "execute_result"
    }
   ],
   "source": [
    "# Ваш код здесь\n",
    "df.date.dt.month"
   ]
  },
  {
   "cell_type": "markdown",
   "id": "4c79c093",
   "metadata": {
    "id": "4c79c093",
    "pycharm": {
     "name": "#%% md\n"
    }
   },
   "source": [
    "4. Создайте любым из способов (3.2 или 3.3) признак `month`, обозначающий номер месяца размещения объявления о продаже автомобиля, и распечатайте его."
   ]
  },
  {
   "cell_type": "code",
   "execution_count": 180,
   "id": "a6f217a1",
   "metadata": {
    "ExecuteTime": {
     "end_time": "2022-03-15T22:40:55.808808Z",
     "start_time": "2022-03-15T22:40:55.801804Z"
    },
    "id": "a6f217a1",
    "pycharm": {
     "name": "#%%\n"
    }
   },
   "outputs": [
    {
     "data": {
      "text/plain": "0       4\n1       5\n2       4\n3       4\n4       4\n       ..\n9614    4\n9615    5\n9616    4\n9617    4\n9618    4\nName: month, Length: 9619, dtype: int32"
     },
     "execution_count": 180,
     "metadata": {},
     "output_type": "execute_result"
    }
   ],
   "source": [
    "# Ваш код здесь\n",
    "df['month'] = df.date.dt.month\n",
    "df['month']"
   ]
  },
  {
   "cell_type": "markdown",
   "id": "c855e481",
   "metadata": {
    "id": "c855e481",
    "pycharm": {
     "name": "#%% md\n"
    }
   },
   "source": [
    "5. Создайте признак `dayofweek`, обозначающий день недели размещения объявления о продаже автомобиля, и распечатайте его."
   ]
  },
  {
   "cell_type": "code",
   "execution_count": 181,
   "id": "ceda59b0",
   "metadata": {
    "ExecuteTime": {
     "end_time": "2022-03-15T22:40:55.838752Z",
     "start_time": "2022-03-15T22:40:55.833582Z"
    },
    "id": "ceda59b0",
    "pycharm": {
     "name": "#%%\n"
    }
   },
   "outputs": [
    {
     "data": {
      "text/plain": "0       5\n1       0\n2       2\n3       5\n4       3\n       ..\n9614    5\n9615    0\n9616    3\n9617    2\n9618    5\nName: dayofweek, Length: 9619, dtype: int32"
     },
     "execution_count": 181,
     "metadata": {},
     "output_type": "execute_result"
    }
   ],
   "source": [
    "# Ваш код здесь\n",
    "df['dayofweek'] = df.date.dt.dayofweek\n",
    "df['dayofweek']"
   ]
  },
  {
   "cell_type": "markdown",
   "id": "53253b00",
   "metadata": {
    "id": "53253b00",
    "pycharm": {
     "name": "#%% md\n"
    }
   },
   "source": [
    "6. Создайте признак `diff_years`, обозначающий количество лет между годом производства автомобиля и годом размещения объявления о продаже автомобиля, и распечатайте его. Дополнительные корректировки не применяйте."
   ]
  },
  {
   "cell_type": "code",
   "execution_count": 182,
   "id": "c5b0ec88",
   "metadata": {
    "ExecuteTime": {
     "end_time": "2022-03-15T22:40:56.791095Z",
     "start_time": "2022-03-15T22:40:56.787550Z"
    },
    "id": "c5b0ec88",
    "pycharm": {
     "name": "#%%\n"
    }
   },
   "outputs": [
    {
     "data": {
      "text/plain": "0        1\n1        5\n2        4\n3        8\n4        9\n        ..\n9614    19\n9615    13\n9616    10\n9617     6\n9618     4\nName: diff_years, Length: 9619, dtype: int64"
     },
     "execution_count": 182,
     "metadata": {},
     "output_type": "execute_result"
    }
   ],
   "source": [
    "# Ваш код здесь\n",
    "df['diff_years'] = df.posting_date.str.split('-').str[0].astype(int) - df.year\n",
    "df['diff_years']"
   ]
  },
  {
   "cell_type": "markdown",
   "id": "d3a54316",
   "metadata": {
    "id": "d3a54316",
    "pycharm": {
     "name": "#%% md\n"
    }
   },
   "source": [
    "7. Примените стандартизацию к новым признаками и сохраните результат в новые признаки вида `month_std`."
   ]
  },
  {
   "cell_type": "code",
   "execution_count": 183,
   "id": "8b2c2e19",
   "metadata": {
    "ExecuteTime": {
     "end_time": "2022-03-15T22:40:57.928930Z",
     "start_time": "2022-03-15T22:40:57.925925Z"
    },
    "id": "8b2c2e19",
    "pycharm": {
     "name": "#%%\n"
    }
   },
   "outputs": [
    {
     "data": {
      "text/plain": "              id                                                url  \\\n0     7308295377  https://chattanooga.craigslist.org/ctd/d/chatt...   \n1     7316380095  https://newjersey.craigslist.org/ctd/d/carlsta...   \n2     7313733749  https://reno.craigslist.org/ctd/d/atlanta-2017...   \n3     7308210929  https://fayetteville.craigslist.org/ctd/d/rale...   \n4     7303797340  https://knoxville.craigslist.org/ctd/d/knoxvil...   \n...          ...                                                ...   \n9614  7304876387  https://chautauqua.craigslist.org/ctd/d/falcon...   \n9615  7316152972  https://binghamton.craigslist.org/ctd/d/roches...   \n9616  7310993818  https://salem.craigslist.org/ctd/d/salem-2011-...   \n9617  7306637427  https://madison.craigslist.org/ctd/d/madison-2...   \n9618  7311960763  https://norfolk.craigslist.org/ctd/d/chesapeak...   \n\n                       region                           region_url  price  \\\n0                 chattanooga   https://chattanooga.craigslist.org  54990   \n1                north jersey     https://newjersey.craigslist.org  16942   \n2                reno / tahoe          https://reno.craigslist.org  35590   \n3                fayetteville  https://fayetteville.craigslist.org  14500   \n4                   knoxville     https://knoxville.craigslist.org  14590   \n...                       ...                                  ...    ...   \n9614               chautauqua    https://chautauqua.craigslist.org   4495   \n9615               binghamton    https://binghamton.craigslist.org  14495   \n9616                    salem         https://salem.craigslist.org   8995   \n9617                  madison       https://madison.craigslist.org  31900   \n9618  norfolk / hampton roads       https://norfolk.craigslist.org  31990   \n\n      year manufacturer                      model    fuel  odometer  ...  \\\n0     2020          ram     2500 crew cab big horn  diesel     27442  ...   \n1     2016         ford       explorer 4wd 4dr xlt   other     60023  ...   \n2     2017   volkswagen           golf r hatchback     gas     14048  ...   \n3     2013       toyota                       rav4     gas    117291  ...   \n4     2012          bmw     1 series 128i coupe 2d   other     80465  ...   \n...    ...          ...                        ...     ...       ...  ...   \n9614  2002       toyota                       rav4     gas    150000  ...   \n9615  2008         jeep                   wrangler     gas    113573  ...   \n9616  2011         audi  a3 2.0t premium plus pzev     gas    150184  ...   \n9617  2015      porsche                    cayenne  hybrid     61943  ...   \n9618  2017          ram     1500 crew cab big horn     gas     35921  ...   \n\n     model_len_std model_word_count_std lat_min_max long_min_max month  \\\n0         1.163032             1.910669    0.341769     0.288699     4   \n1         0.932087             1.235799    0.468665     0.333055     5   \n2         0.470197             0.560930    0.313561     0.292022     4   \n3        -0.915473            -0.788810    0.356215     0.314844     4   \n4         1.163032             1.910669    0.361810     0.293893     4   \n...            ...                  ...         ...          ...   ...   \n9614     -0.915473            -0.788810    0.497341     0.312727     4   \n9615     -0.453583            -0.788810    0.521415     0.318411     5   \n9616      1.509450             1.910669    0.559052     0.139104     4   \n9617     -0.569055            -0.788810    0.517287     0.272255     4   \n9618      1.163032             1.910669    0.377227     0.324182     4   \n\n      dayofweek  diff_years month_std dayofweek_std diff_years_std  \n0             5           1 -0.615846      1.120284      -1.322394  \n1             0           5  1.623784     -1.374972      -0.695973  \n2             2           4 -0.615846     -0.376870      -0.852578  \n3             5           8 -0.615846      1.120284      -0.226157  \n4             3           9 -0.615846      0.122182      -0.069552  \n...         ...         ...       ...           ...            ...  \n9614          5          19 -0.615846      1.120284       1.496501  \n9615          0          13  1.623784     -1.374972       0.556869  \n9616          3          10 -0.615846      0.122182       0.087054  \n9617          2           6 -0.615846     -0.376870      -0.539367  \n9618          5           4 -0.615846      1.120284      -0.852578  \n\n[9619 rows x 1501 columns]",
      "text/html": "<div>\n<style scoped>\n    .dataframe tbody tr th:only-of-type {\n        vertical-align: middle;\n    }\n\n    .dataframe tbody tr th {\n        vertical-align: top;\n    }\n\n    .dataframe thead th {\n        text-align: right;\n    }\n</style>\n<table border=\"1\" class=\"dataframe\">\n  <thead>\n    <tr style=\"text-align: right;\">\n      <th></th>\n      <th>id</th>\n      <th>url</th>\n      <th>region</th>\n      <th>region_url</th>\n      <th>price</th>\n      <th>year</th>\n      <th>manufacturer</th>\n      <th>model</th>\n      <th>fuel</th>\n      <th>odometer</th>\n      <th>...</th>\n      <th>model_len_std</th>\n      <th>model_word_count_std</th>\n      <th>lat_min_max</th>\n      <th>long_min_max</th>\n      <th>month</th>\n      <th>dayofweek</th>\n      <th>diff_years</th>\n      <th>month_std</th>\n      <th>dayofweek_std</th>\n      <th>diff_years_std</th>\n    </tr>\n  </thead>\n  <tbody>\n    <tr>\n      <th>0</th>\n      <td>7308295377</td>\n      <td>https://chattanooga.craigslist.org/ctd/d/chatt...</td>\n      <td>chattanooga</td>\n      <td>https://chattanooga.craigslist.org</td>\n      <td>54990</td>\n      <td>2020</td>\n      <td>ram</td>\n      <td>2500 crew cab big horn</td>\n      <td>diesel</td>\n      <td>27442</td>\n      <td>...</td>\n      <td>1.163032</td>\n      <td>1.910669</td>\n      <td>0.341769</td>\n      <td>0.288699</td>\n      <td>4</td>\n      <td>5</td>\n      <td>1</td>\n      <td>-0.615846</td>\n      <td>1.120284</td>\n      <td>-1.322394</td>\n    </tr>\n    <tr>\n      <th>1</th>\n      <td>7316380095</td>\n      <td>https://newjersey.craigslist.org/ctd/d/carlsta...</td>\n      <td>north jersey</td>\n      <td>https://newjersey.craigslist.org</td>\n      <td>16942</td>\n      <td>2016</td>\n      <td>ford</td>\n      <td>explorer 4wd 4dr xlt</td>\n      <td>other</td>\n      <td>60023</td>\n      <td>...</td>\n      <td>0.932087</td>\n      <td>1.235799</td>\n      <td>0.468665</td>\n      <td>0.333055</td>\n      <td>5</td>\n      <td>0</td>\n      <td>5</td>\n      <td>1.623784</td>\n      <td>-1.374972</td>\n      <td>-0.695973</td>\n    </tr>\n    <tr>\n      <th>2</th>\n      <td>7313733749</td>\n      <td>https://reno.craigslist.org/ctd/d/atlanta-2017...</td>\n      <td>reno / tahoe</td>\n      <td>https://reno.craigslist.org</td>\n      <td>35590</td>\n      <td>2017</td>\n      <td>volkswagen</td>\n      <td>golf r hatchback</td>\n      <td>gas</td>\n      <td>14048</td>\n      <td>...</td>\n      <td>0.470197</td>\n      <td>0.560930</td>\n      <td>0.313561</td>\n      <td>0.292022</td>\n      <td>4</td>\n      <td>2</td>\n      <td>4</td>\n      <td>-0.615846</td>\n      <td>-0.376870</td>\n      <td>-0.852578</td>\n    </tr>\n    <tr>\n      <th>3</th>\n      <td>7308210929</td>\n      <td>https://fayetteville.craigslist.org/ctd/d/rale...</td>\n      <td>fayetteville</td>\n      <td>https://fayetteville.craigslist.org</td>\n      <td>14500</td>\n      <td>2013</td>\n      <td>toyota</td>\n      <td>rav4</td>\n      <td>gas</td>\n      <td>117291</td>\n      <td>...</td>\n      <td>-0.915473</td>\n      <td>-0.788810</td>\n      <td>0.356215</td>\n      <td>0.314844</td>\n      <td>4</td>\n      <td>5</td>\n      <td>8</td>\n      <td>-0.615846</td>\n      <td>1.120284</td>\n      <td>-0.226157</td>\n    </tr>\n    <tr>\n      <th>4</th>\n      <td>7303797340</td>\n      <td>https://knoxville.craigslist.org/ctd/d/knoxvil...</td>\n      <td>knoxville</td>\n      <td>https://knoxville.craigslist.org</td>\n      <td>14590</td>\n      <td>2012</td>\n      <td>bmw</td>\n      <td>1 series 128i coupe 2d</td>\n      <td>other</td>\n      <td>80465</td>\n      <td>...</td>\n      <td>1.163032</td>\n      <td>1.910669</td>\n      <td>0.361810</td>\n      <td>0.293893</td>\n      <td>4</td>\n      <td>3</td>\n      <td>9</td>\n      <td>-0.615846</td>\n      <td>0.122182</td>\n      <td>-0.069552</td>\n    </tr>\n    <tr>\n      <th>...</th>\n      <td>...</td>\n      <td>...</td>\n      <td>...</td>\n      <td>...</td>\n      <td>...</td>\n      <td>...</td>\n      <td>...</td>\n      <td>...</td>\n      <td>...</td>\n      <td>...</td>\n      <td>...</td>\n      <td>...</td>\n      <td>...</td>\n      <td>...</td>\n      <td>...</td>\n      <td>...</td>\n      <td>...</td>\n      <td>...</td>\n      <td>...</td>\n      <td>...</td>\n      <td>...</td>\n    </tr>\n    <tr>\n      <th>9614</th>\n      <td>7304876387</td>\n      <td>https://chautauqua.craigslist.org/ctd/d/falcon...</td>\n      <td>chautauqua</td>\n      <td>https://chautauqua.craigslist.org</td>\n      <td>4495</td>\n      <td>2002</td>\n      <td>toyota</td>\n      <td>rav4</td>\n      <td>gas</td>\n      <td>150000</td>\n      <td>...</td>\n      <td>-0.915473</td>\n      <td>-0.788810</td>\n      <td>0.497341</td>\n      <td>0.312727</td>\n      <td>4</td>\n      <td>5</td>\n      <td>19</td>\n      <td>-0.615846</td>\n      <td>1.120284</td>\n      <td>1.496501</td>\n    </tr>\n    <tr>\n      <th>9615</th>\n      <td>7316152972</td>\n      <td>https://binghamton.craigslist.org/ctd/d/roches...</td>\n      <td>binghamton</td>\n      <td>https://binghamton.craigslist.org</td>\n      <td>14495</td>\n      <td>2008</td>\n      <td>jeep</td>\n      <td>wrangler</td>\n      <td>gas</td>\n      <td>113573</td>\n      <td>...</td>\n      <td>-0.453583</td>\n      <td>-0.788810</td>\n      <td>0.521415</td>\n      <td>0.318411</td>\n      <td>5</td>\n      <td>0</td>\n      <td>13</td>\n      <td>1.623784</td>\n      <td>-1.374972</td>\n      <td>0.556869</td>\n    </tr>\n    <tr>\n      <th>9616</th>\n      <td>7310993818</td>\n      <td>https://salem.craigslist.org/ctd/d/salem-2011-...</td>\n      <td>salem</td>\n      <td>https://salem.craigslist.org</td>\n      <td>8995</td>\n      <td>2011</td>\n      <td>audi</td>\n      <td>a3 2.0t premium plus pzev</td>\n      <td>gas</td>\n      <td>150184</td>\n      <td>...</td>\n      <td>1.509450</td>\n      <td>1.910669</td>\n      <td>0.559052</td>\n      <td>0.139104</td>\n      <td>4</td>\n      <td>3</td>\n      <td>10</td>\n      <td>-0.615846</td>\n      <td>0.122182</td>\n      <td>0.087054</td>\n    </tr>\n    <tr>\n      <th>9617</th>\n      <td>7306637427</td>\n      <td>https://madison.craigslist.org/ctd/d/madison-2...</td>\n      <td>madison</td>\n      <td>https://madison.craigslist.org</td>\n      <td>31900</td>\n      <td>2015</td>\n      <td>porsche</td>\n      <td>cayenne</td>\n      <td>hybrid</td>\n      <td>61943</td>\n      <td>...</td>\n      <td>-0.569055</td>\n      <td>-0.788810</td>\n      <td>0.517287</td>\n      <td>0.272255</td>\n      <td>4</td>\n      <td>2</td>\n      <td>6</td>\n      <td>-0.615846</td>\n      <td>-0.376870</td>\n      <td>-0.539367</td>\n    </tr>\n    <tr>\n      <th>9618</th>\n      <td>7311960763</td>\n      <td>https://norfolk.craigslist.org/ctd/d/chesapeak...</td>\n      <td>norfolk / hampton roads</td>\n      <td>https://norfolk.craigslist.org</td>\n      <td>31990</td>\n      <td>2017</td>\n      <td>ram</td>\n      <td>1500 crew cab big horn</td>\n      <td>gas</td>\n      <td>35921</td>\n      <td>...</td>\n      <td>1.163032</td>\n      <td>1.910669</td>\n      <td>0.377227</td>\n      <td>0.324182</td>\n      <td>4</td>\n      <td>5</td>\n      <td>4</td>\n      <td>-0.615846</td>\n      <td>1.120284</td>\n      <td>-0.852578</td>\n    </tr>\n  </tbody>\n</table>\n<p>9619 rows × 1501 columns</p>\n</div>"
     },
     "execution_count": 183,
     "metadata": {},
     "output_type": "execute_result"
    }
   ],
   "source": [
    "# Ваш код здесь\n",
    "new_columns = ['month', 'dayofweek', 'diff_years']\n",
    "new_columns_std = [col + '_std' for col in new_columns]\n",
    "\n",
    "std_scaler = StandardScaler()\n",
    "\n",
    "df[new_columns_std] = std_scaler.fit_transform(df[new_columns])\n",
    "df"
   ]
  },
  {
   "cell_type": "code",
   "execution_count": 185,
   "id": "8b1bf0c8",
   "metadata": {
    "pycharm": {
     "name": "#%%\n"
    }
   },
   "outputs": [
    {
     "data": {
      "text/plain": "Index(['id', 'url', 'region', 'region_url', 'price', 'year', 'manufacturer',\n       'model', 'fuel', 'odometer',\n       ...\n       'model_len_std', 'model_word_count_std', 'lat_min_max', 'long_min_max',\n       'month', 'dayofweek', 'diff_years', 'month_std', 'dayofweek_std',\n       'diff_years_std'],\n      dtype='object', length=1501)"
     },
     "execution_count": 185,
     "metadata": {},
     "output_type": "execute_result"
    }
   ],
   "source": [
    "df.columns"
   ]
  },
  {
   "cell_type": "markdown",
   "id": "aba80393",
   "metadata": {
    "ExecuteTime": {
     "end_time": "2022-03-13T12:36:22.108423Z",
     "start_time": "2022-03-13T12:36:22.103687Z"
    },
    "id": "aba80393",
    "pycharm": {
     "name": "#%% md\n"
    }
   },
   "source": [
    "### Задача 6. Сохранение датафрейма для этапа моделирования\n",
    "\n",
    "1. Удалите колонки, которые были исходными для формирования признаков, а также новые признаки, которые были добавлены с целью обучения.  Сохраните новый датафрейм в переменную `df_prepared`."
   ]
  },
  {
   "cell_type": "code",
   "execution_count": 186,
   "id": "58ab4836",
   "metadata": {
    "ExecuteTime": {
     "end_time": "2022-03-15T22:41:00.072365Z",
     "start_time": "2022-03-15T22:41:00.064841Z"
    },
    "id": "58ab4836",
    "pycharm": {
     "name": "#%%\n"
    }
   },
   "outputs": [],
   "source": [
    "# Допишите код\n",
    "columns_for_drop = ['year', 'url', 'region', 'region_url', 'manufacturer',\n",
    "                    'model', 'fuel', 'odometer', 'title_status', 'transmission',\n",
    "                    'image_url', 'description', 'state', 'lat', 'long', 'posting_date',\n",
    "                    'odometer_km', 'odometer/price', 'region_new', 'region_corrected', 'manufacturer_model',\n",
    "                    'desc_len', 'model_in_desc', 'price_k$', 'age_category', 'model_len', 'model_word_count',\n",
    "                    'short_model', 'lat_min_max', 'long_min_max', 'date', 'std_scaled_price',\n",
    "                    'month', 'dayofweek', 'diff_years',\n",
    "                    'odometer/price_std']"
   ]
  },
  {
   "cell_type": "code",
   "execution_count": 187,
   "id": "bba60c7e",
   "metadata": {
    "pycharm": {
     "name": "#%%\n"
    }
   },
   "outputs": [],
   "source": [
    "df_prepared = df.drop(columns=columns_for_drop)"
   ]
  },
  {
   "cell_type": "markdown",
   "id": "f120eaaa",
   "metadata": {
    "id": "f120eaaa",
    "pycharm": {
     "name": "#%% md\n"
    }
   },
   "source": [
    "2. Распечатайте оставшийся список колонок и размерность финального датафрейма."
   ]
  },
  {
   "cell_type": "code",
   "execution_count": 188,
   "id": "13fb36c3",
   "metadata": {
    "ExecuteTime": {
     "end_time": "2022-03-15T22:41:03.176389Z",
     "start_time": "2022-03-15T22:41:03.172474Z"
    },
    "id": "13fb36c3",
    "pycharm": {
     "name": "#%%\n"
    }
   },
   "outputs": [
    {
     "data": {
      "text/plain": "['id',\n 'price',\n 'price_category',\n 'is_audi',\n 'is_ford',\n 'is_chevrolet',\n 'is_toyota',\n 'is_jeep',\n 'is_honda',\n 'is_nissan',\n 'x0_diesel',\n 'x0_electric',\n 'x0_gas',\n 'x0_hybrid',\n 'x0_other',\n 'std_scaled_odometer',\n 'short_model_-benz',\n 'short_model_1',\n 'short_model_124',\n 'short_model_128i',\n 'short_model_135i',\n 'short_model_1500',\n 'short_model_163869',\n 'short_model_1928',\n 'short_model_1951',\n 'short_model_1954',\n 'short_model_1960s',\n 'short_model_1966',\n 'short_model_1968',\n 'short_model_1972',\n 'short_model_1977',\n 'short_model_1978',\n 'short_model_198.5',\n 'short_model_1988',\n 'short_model_1994',\n 'short_model_1999',\n 'short_model_2',\n 'short_model_200',\n 'short_model_2000',\n 'short_model_2002',\n 'short_model_2006',\n 'short_model_2007',\n 'short_model_2008',\n 'short_model_2009',\n 'short_model_2012',\n 'short_model_2015',\n 'short_model_2016',\n 'short_model_2017',\n 'short_model_2018',\n 'short_model_210',\n 'short_model_240',\n 'short_model_2500',\n 'short_model_2500hd',\n 'short_model_280zx',\n 'short_model_3',\n 'short_model_3-series',\n 'short_model_3-window',\n 'short_model_3.2',\n 'short_model_300',\n 'short_model_300-series',\n 'short_model_300c',\n 'short_model_300s',\n 'short_model_300zx',\n 'short_model_3100',\n 'short_model_318i',\n 'short_model_320i',\n 'short_model_323i',\n 'short_model_325ci',\n 'short_model_325i',\n 'short_model_325is',\n 'short_model_325xi',\n 'short_model_328',\n 'short_model_328ci',\n 'short_model_328d',\n 'short_model_328i',\n 'short_model_328xi',\n 'short_model_330i',\n 'short_model_330xi',\n 'short_model_335i',\n 'short_model_335xi',\n 'short_model_350',\n 'short_model_3500',\n 'short_model_3500hd',\n 'short_model_350z',\n 'short_model_370z',\n 'short_model_380sl',\n 'short_model_3i',\n 'short_model_4',\n 'short_model_4-runner',\n 'short_model_428',\n 'short_model_430i',\n 'short_model_435i',\n 'short_model_440xi',\n 'short_model_4500',\n 'short_model_4runner',\n 'short_model_4x4',\n 'short_model_5',\n 'short_model_5-series',\n 'short_model_50',\n 'short_model_500',\n 'short_model_500c',\n 'short_model_500l',\n 'short_model_500x',\n 'short_model_525i',\n 'short_model_528i',\n 'short_model_528xi',\n 'short_model_530',\n 'short_model_530i',\n 'short_model_535i',\n 'short_model_535xi',\n 'short_model_540i',\n 'short_model_545i',\n 'short_model_5500',\n 'short_model_5500hd',\n 'short_model_550i',\n 'short_model_5th',\n 'short_model_6',\n 'short_model_640',\n 'short_model_645ci',\n 'short_model_650i',\n 'short_model_650xi',\n 'short_model_7',\n 'short_model_750',\n 'short_model_750i',\n 'short_model_750xi',\n 'short_model_86',\n 'short_model_911',\n 'short_model_914',\n 'short_model_928',\n 'short_model_944',\n 'short_model_ACURA*',\n 'short_model_ALL',\n 'short_model_AM',\n 'short_model_AMC',\n 'short_model_ASC',\n 'short_model_Acuarea',\n 'short_model_American',\n 'short_model_BUY',\n 'short_model_Bentley',\n 'short_model_Blue',\n 'short_model_Buicks',\n 'short_model_C',\n 'short_model_CHEVORLET',\n 'short_model_CLICK',\n 'short_model_Champion',\n 'short_model_Chevey',\n 'short_model_Chevorlet',\n 'short_model_Comanche',\n 'short_model_Comet',\n 'short_model_D7FH173552',\n 'short_model_DODGE1500',\n 'short_model_Diahatsu',\n 'short_model_E46',\n 'short_model_EASY',\n 'short_model_Eagle',\n 'short_model_Emergency',\n 'short_model_F-250',\n 'short_model_F250',\n 'short_model_FORD*',\n 'short_model_FORD/RANGER',\n 'short_model_FREIGHTLINER',\n 'short_model_FRRV',\n 'short_model_Flexible',\n 'short_model_FordE350',\n 'short_model_Freightliner',\n 'short_model_Frtlner',\n 'short_model_GCM',\n 'short_model_GEHL',\n 'short_model_GMC,',\n 'short_model_GMX',\n 'short_model_GRAND',\n 'short_model_GULF',\n 'short_model_Genesis',\n 'short_model_Gx',\n 'short_model_HINO',\n 'short_model_HUMMER',\n 'short_model_Hino',\n 'short_model_Hobda',\n 'short_model_Hot',\n 'short_model_Hummer',\n 'short_model_IC',\n 'short_model_INTERNATIONAL',\n 'short_model_International',\n 'short_model_Isizu',\n 'short_model_Isuzu',\n 'short_model_JM1BK32F871604924',\n 'short_model_Janesville',\n 'short_model_Jauguar',\n 'short_model_Jayco',\n 'short_model_Kaiser',\n 'short_model_Lotus',\n 'short_model_MASERATI',\n 'short_model_MERCUTY',\n 'short_model_MERDECES',\n 'short_model_MGB',\n 'short_model_MITUSBISHI',\n 'short_model_MV-1',\n 'short_model_Maserati',\n 'short_model_Minin',\n 'short_model_Nascar',\n 'short_model_OLDSMOBILE',\n 'short_model_PLYMOUTH',\n 'short_model_PROGRAMS',\n 'short_model_Peterbilt',\n 'short_model_Pierce',\n 'short_model_Plymouth',\n 'short_model_QX',\n 'short_model_S60',\n 'short_model_SCION',\n 'short_model_SL',\n 'short_model_Saab',\n 'short_model_Scion',\n 'short_model_Sea',\n 'short_model_Sterling',\n 'short_model_Studebaker',\n 'short_model_Suzuki',\n 'short_model_THOMAS',\n 'short_model_Thomas',\n 'short_model_Town',\n 'short_model_Triumph',\n 'short_model_Voltswagon',\n 'short_model_Xx',\n 'short_model_a-class',\n 'short_model_a3',\n 'short_model_a3,',\n 'short_model_a4',\n 'short_model_a5',\n 'short_model_a6',\n 'short_model_a7',\n 'short_model_a8',\n 'short_model_acadia',\n 'short_model_accent',\n 'short_model_accord',\n 'short_model_all',\n 'short_model_allante',\n 'short_model_allroad',\n 'short_model_altima',\n 'short_model_am',\n 'short_model_amc',\n 'short_model_arcadia',\n 'short_model_armada',\n 'short_model_arteon',\n 'short_model_ascent',\n 'short_model_aspen',\n 'short_model_astra',\n 'short_model_astro',\n 'short_model_atlas',\n 'short_model_ats',\n 'short_model_aura',\n 'short_model_autobiography',\n 'short_model_avalanche',\n 'short_model_avalon',\n 'short_model_avanger',\n 'short_model_avenger',\n 'short_model_aveo',\n 'short_model_aviator',\n 'short_model_azera',\n 'short_model_aztek',\n 'short_model_b-class',\n 'short_model_b-series',\n 'short_model_b2200',\n 'short_model_b2300',\n 'short_model_b2600i',\n 'short_model_baja',\n 'short_model_beetle',\n 'short_model_bel',\n 'short_model_belair',\n 'short_model_benz',\n 'short_model_blackwood',\n 'short_model_blazer',\n 'short_model_blue',\n 'short_model_bolt',\n 'short_model_bonanza',\n 'short_model_bonneville',\n 'short_model_boxster',\n 'short_model_bronco',\n 'short_model_brz',\n 'short_model_bug',\n 'short_model_bus',\n 'short_model_c',\n 'short_model_c-10',\n 'short_model_c-7500',\n 'short_model_c-class',\n 'short_model_c-hr',\n 'short_model_c-max',\n 'short_model_c/k',\n 'short_model_c10',\n 'short_model_c250',\n 'short_model_c280',\n 'short_model_c30',\n 'short_model_c300',\n 'short_model_c4500',\n 'short_model_c5500',\n 'short_model_c60',\n 'short_model_c6500',\n 'short_model_c70',\n 'short_model_c8500',\n 'short_model_cabellero',\n 'short_model_cabrio',\n 'short_model_caddilac',\n 'short_model_cadenza',\n 'short_model_caliber',\n 'short_model_camaro',\n 'short_model_camary',\n 'short_model_camero',\n 'short_model_camry',\n 'short_model_canyon',\n 'short_model_capri',\n 'short_model_caprice',\n 'short_model_captiva',\n 'short_model_caravan',\n 'short_model_caravan/grand',\n 'short_model_cargo',\n 'short_model_cascada',\n 'short_model_cavalier',\n 'short_model_cayenne',\n 'short_model_cayman',\n 'short_model_cc',\n 'short_model_cc300',\n 'short_model_cc4500',\n 'short_model_century',\n 'short_model_certified',\n 'short_model_challenger',\n 'short_model_charger',\n 'short_model_cherokee',\n 'short_model_chevelle',\n 'short_model_chevorlet',\n 'short_model_chryler',\n 'short_model_chysler',\n 'short_model_city',\n 'short_model_civic',\n 'short_model_cj-5',\n 'short_model_cj2a',\n 'short_model_cj5',\n 'short_model_cj7',\n 'short_model_cj8',\n 'short_model_cl-class',\n 'short_model_cla',\n 'short_model_cla-class',\n 'short_model_clarity',\n 'short_model_classic',\n 'short_model_classuc',\n 'short_model_clk',\n 'short_model_clk-class',\n 'short_model_clk350',\n 'short_model_cls-class',\n 'short_model_cls550',\n 'short_model_clubman',\n 'short_model_cmax',\n 'short_model_cobalt',\n 'short_model_colbalt',\n 'short_model_colorado',\n 'short_model_comet',\n 'short_model_commander',\n 'short_model_compass',\n 'short_model_concorde',\n 'short_model_conquest',\n 'short_model_continental',\n 'short_model_convertible',\n 'short_model_cooper',\n 'short_model_corolla',\n 'short_model_corsair',\n 'short_model_corvette',\n 'short_model_cougar',\n 'short_model_country',\n 'short_model_countryman',\n 'short_model_coupe',\n 'short_model_cr-v',\n 'short_model_crew',\n 'short_model_crossfire',\n 'short_model_crosstour',\n 'short_model_crosstrek',\n 'short_model_crown',\n 'short_model_cruze',\n 'short_model_crv',\n 'short_model_crz',\n 'short_model_ct',\n 'short_model_ct4',\n 'short_model_ct5',\n 'short_model_ct6',\n 'short_model_cts',\n 'short_model_cts-v',\n 'short_model_cts4',\n 'short_model_cube',\n 'short_model_cvr',\n 'short_model_cx-3',\n 'short_model_cx-5',\n 'short_model_cx-7',\n 'short_model_cx-9',\n 'short_model_cx7',\n 'short_model_cx9',\n 'short_model_d50',\n 'short_model_dakota',\n 'short_model_dart',\n 'short_model_davidson',\n 'short_model_dealer*',\n 'short_model_defender',\n 'short_model_deisel',\n 'short_model_deluxe',\n 'short_model_denali',\n 'short_model_deville',\n 'short_model_diesel',\n 'short_model_discovery',\n 'short_model_dts',\n 'short_model_dump',\n 'short_model_duramax',\n 'short_model_durango',\n 'short_model_durangon',\n 'short_model_e',\n 'short_model_e-150',\n 'short_model_e-250',\n 'short_model_e-350',\n 'short_model_e-450',\n 'short_model_e-class',\n 'short_model_e-golf',\n 'short_model_e-pace',\n 'short_model_e-series',\n 'short_model_e150',\n 'short_model_e250',\n 'short_model_e320',\n 'short_model_e350',\n 'short_model_e450',\n 'short_model_e46',\n 'short_model_e500',\n 'short_model_echo',\n 'short_model_eclipse',\n 'short_model_econoline',\n 'short_model_ecosport',\n 'short_model_edge',\n 'short_model_el',\n 'short_model_elantra',\n 'short_model_elcamino',\n 'short_model_eldorado',\n 'short_model_element',\n 'short_model_enclave',\n 'short_model_encore',\n 'short_model_endeavor',\n 'short_model_envision',\n 'short_model_envoy',\n 'short_model_eos',\n 'short_model_eqinox',\n 'short_model_equinox',\n 'short_model_es',\n 'short_model_es300',\n 'short_model_es330',\n 'short_model_es350',\n 'short_model_escalade',\n 'short_model_escape',\n 'short_model_escape-se,',\n 'short_model_escort',\n 'short_model_eurovan',\n 'short_model_evoque',\n 'short_model_excursion',\n 'short_model_expedition',\n 'short_model_explorer',\n 'short_model_express',\n 'short_model_f',\n 'short_model_f-100',\n 'short_model_f-150',\n 'short_model_f-250',\n 'short_model_f-250sd',\n 'short_model_f-350',\n 'short_model_f-350sd',\n 'short_model_f-450',\n 'short_model_f-450sd',\n 'short_model_f-550',\n 'short_model_f-650',\n 'short_model_f-750',\n 'short_model_f-pace',\n 'short_model_f-type',\n 'short_model_f1',\n 'short_model_f100',\n 'short_model_f150',\n 'short_model_f250',\n 'short_model_f350',\n 'short_model_f450',\n 'short_model_f450sd',\n 'short_model_f50',\n 'short_model_f550',\n 'short_model_f600',\n 'short_model_f650',\n 'short_model_f700',\n 'short_model_f750',\n 'short_model_falcon',\n 'short_model_fe',\n 'short_model_fiero',\n 'short_model_fiesta',\n 'short_model_firebird',\n 'short_model_fit',\n 'short_model_five',\n 'short_model_fj',\n 'short_model_fj40',\n 'short_model_fleetmaster',\n 'short_model_fleetwood',\n 'short_model_flex',\n 'short_model_focus',\n 'short_model_fords',\n 'short_model_forester',\n 'short_model_forte',\n 'short_model_forte5',\n 'short_model_foxbody',\n 'short_model_freestar',\n 'short_model_freestyle',\n 'short_model_freightliner',\n 'short_model_frontier',\n 'short_model_fusion',\n 'short_model_fuso',\n 'short_model_fx35',\n 'short_model_fx45',\n 'short_model_g',\n 'short_model_g-class',\n 'short_model_g.',\n 'short_model_g20',\n 'short_model_g30',\n 'short_model_g35',\n 'short_model_g35x',\n 'short_model_g37',\n 'short_model_g37s',\n 'short_model_g37x',\n 'short_model_g4500',\n 'short_model_g5',\n 'short_model_g6',\n 'short_model_g8',\n 'short_model_galant',\n 'short_model_genesis',\n 'short_model_ghia',\n 'short_model_gl',\n 'short_model_gl-class',\n 'short_model_gl450',\n 'short_model_gla',\n 'short_model_gla-class',\n 'short_model_gladiator',\n 'short_model_glc',\n 'short_model_glc-class',\n 'short_model_gle',\n 'short_model_gle-class',\n 'short_model_glk',\n 'short_model_glk-class',\n 'short_model_glk350',\n 'short_model_gls',\n 'short_model_gmc/chev',\n 'short_model_gmce',\n 'short_model_gmt-400',\n 'short_model_golf',\n 'short_model_gr',\n 'short_model_grand',\n 'short_model_grandville',\n 'short_model_grumman',\n 'short_model_gs',\n 'short_model_gs350',\n 'short_model_gs430',\n 'short_model_gt',\n 'short_model_gt-r',\n 'short_model_gti',\n 'short_model_gto',\n 'short_model_gx',\n 'short_model_gx460',\n 'short_model_gx470',\n 'short_model_hardbody',\n 'short_model_hardtop',\n 'short_model_hearse',\n 'short_model_hhr',\n 'short_model_hiace',\n 'short_model_high',\n 'short_model_highlander',\n 'short_model_hr-v',\n 'short_model_hse',\n 'short_model_hummer',\n 'short_model_hyndai',\n 'short_model_i-miev',\n 'short_model_i3',\n 'short_model_i30',\n 'short_model_i35',\n 'short_model_ilx',\n 'short_model_impala',\n 'short_model_impreza',\n 'short_model_insight',\n 'short_model_international',\n 'short_model_ion',\n 'short_model_ioniq',\n 'short_model_is',\n 'short_model_is250',\n 'short_model_is300',\n 'short_model_isf',\n 'short_model_isuzu',\n 'short_model_jeepster',\n 'short_model_jetta',\n 'short_model_jimmy',\n 'short_model_jouney',\n 'short_model_journey',\n 'short_model_juke',\n 'short_model_jx35',\n 'short_model_k10',\n 'short_model_k20',\n 'short_model_k30',\n 'short_model_k5',\n 'short_model_k900',\n 'short_model_kicks',\n 'short_model_kodiak',\n 'short_model_l',\n 'short_model_l300',\n 'short_model_lacrosse',\n 'short_model_lancer',\n 'short_model_land',\n 'short_model_landcruiser',\n 'short_model_leaf',\n 'short_model_legacy',\n 'short_model_legend',\n 'short_model_lemans',\n 'short_model_lesabre',\n 'short_model_liberty',\n 'short_model_lifted',\n 'short_model_lightning',\n 'short_model_limousine',\n 'short_model_long',\n 'short_model_lr2',\n 'short_model_lr3',\n 'short_model_lr4',\n 'short_model_ls',\n 'short_model_ltd',\n 'short_model_lucerne',\n 'short_model_lx',\n 'short_model_lx450',\n 'short_model_m',\n 'short_model_m-class',\n 'short_model_m3',\n 'short_model_m35',\n 'short_model_m35s',\n 'short_model_m5',\n 'short_model_macan',\n 'short_model_magnum',\n 'short_model_malibu',\n 'short_model_mallinia',\n 'short_model_marineer,premier',\n 'short_model_mariner',\n 'short_model_mark',\n 'short_model_maserati',\n 'short_model_matrix',\n 'short_model_maxima',\n 'short_model_maximum',\n 'short_model_mazda2',\n 'short_model_mazda3',\n 'short_model_mazda5',\n 'short_model_mazda6',\n 'short_model_mazda6i',\n 'short_model_md-x',\n 'short_model_mdx',\n 'short_model_mercades',\n 'short_model_mercedes-amg',\n 'short_model_metris',\n 'short_model_mg',\n 'short_model_miata',\n 'short_model_milan',\n 'short_model_mirage',\n 'short_model_mkc',\n 'short_model_mks',\n 'short_model_mkt',\n 'short_model_mkx',\n 'short_model_mkz',\n 'short_model_ml',\n 'short_model_ml350',\n 'short_model_ml500',\n 'short_model_model',\n 'short_model_monte',\n 'short_model_montero',\n 'short_model_mountaineer',\n 'short_model_mpv',\n 'short_model_mr2',\n 'short_model_murano',\n 'short_model_mustang',\n 'short_model_mx-5',\n 'short_model_nautilus',\n 'short_model_navigator',\n 'short_model_neon',\n 'short_model_new',\n 'short_model_newport',\n 'short_model_niro',\n 'short_model_nitro',\n 'short_model_nova',\n 'short_model_nv',\n 'short_model_nv1500',\n 'short_model_nv200',\n 'short_model_nv2500',\n 'short_model_nv2500hd',\n 'short_model_nx',\n 'short_model_nx300',\n 'short_model_oddyssey',\n 'short_model_odyssey',\n 'short_model_oldsmobile',\n 'short_model_optima',\n 'short_model_optimia',\n 'short_model_other',\n 'short_model_outback',\n 'short_model_outlander',\n 'short_model_outlook',\n 'short_model_paceman',\n 'short_model_pacifica',\n 'short_model_panamera',\n 'short_model_panel',\n 'short_model_park',\n 'short_model_passat',\n 'short_model_passport',\n 'short_model_pathfinder',\n 'short_model_patriot',\n 'short_model_phaeton',\n 'short_model_pick',\n 'short_model_pickup',\n 'short_model_pilot',\n 'short_model_plymouth',\n 'short_model_pontaic',\n 'short_model_prelude',\n 'short_model_prius',\n 'short_model_prizm',\n 'short_model_promaster',\n 'short_model_protege',\n 'short_model_pt',\n 'short_model_putback',\n 'short_model_q3',\n 'short_model_q5',\n 'short_model_q50',\n 'short_model_q60',\n 'short_model_q7',\n 'short_model_q70',\n 'short_model_quattro',\n 'short_model_quest',\n 'short_model_qx50',\n 'short_model_qx56',\n 'short_model_qx60',\n 'short_model_qx70',\n 'short_model_qx80',\n 'short_model_r-class',\n 'short_model_r32',\n 'short_model_rabbit',\n 'short_model_rainier',\n 'short_model_ram1500',\n 'short_model_ram2500',\n 'short_model_ramcharger',\n 'short_model_range',\n 'short_model_ranger',\n 'short_model_rat',\n 'short_model_rav',\n 'short_model_rav4',\n 'short_model_rc',\n 'short_model_rdx',\n 'short_model_reatta',\n 'short_model_rebel',\n 'short_model_regal',\n 'short_model_rendezvous',\n 'short_model_renegade',\n 'short_model_replica',\n 'short_model_ridgeline',\n 'short_model_rio',\n 'short_model_rivera',\n 'short_model_riviera',\n 'short_model_rl',\n 'short_model_rlx',\n 'short_model_roadmaster',\n 'short_model_roadster',\n 'short_model_rogue',\n 'short_model_romeo',\n 'short_model_rondo',\n 'short_model_rouge',\n 'short_model_routan',\n 'short_model_rs',\n 'short_model_rsx',\n 'short_model_rx',\n 'short_model_rx-8',\n 'short_model_rx300',\n 'short_model_rx330',\n 'short_model_rx350',\n 'short_model_rx400h',\n 'short_model_rx7',\n 'short_model_rx8',\n 'short_model_s',\n 'short_model_s-10',\n 'short_model_s-class',\n 'short_model_s/w',\n 'short_model_s10',\n 'short_model_s2000',\n 'short_model_s3',\n 'short_model_s320',\n 'short_model_s4',\n 'short_model_s40',\n 'short_model_s430',\n 'short_model_s5',\n 'short_model_s500',\n 'short_model_s6',\n 'short_model_s60',\n 'short_model_s7',\n 'short_model_s70',\n 'short_model_s8',\n 'short_model_s90',\n 'short_model_saab',\n 'short_model_sable',\n 'short_model_santa',\n 'short_model_sante',\n 'short_model_savana',\n 'short_model_sc',\n 'short_model_sc2',\n 'short_model_sc300',\n 'short_model_school',\n 'short_model_scion',\n 'short_model_sebring',\n 'short_model_sedan',\n 'short_model_sedona',\n 'short_model_seirra',\n 'short_model_sentra',\n 'short_model_sequioa',\n 'short_model_sequoia',\n 'short_model_seville',\n 'short_model_shelby',\n 'short_model_sienna',\n 'short_model_sierra',\n 'short_model_sierra1500',\n 'short_model_silverado',\n 'short_model_sky',\n 'short_model_skylark',\n 'short_model_sl-class',\n 'short_model_sl2',\n 'short_model_sl500',\n 'short_model_sl55',\n 'short_model_sl550',\n 'short_model_slc',\n 'short_model_sle',\n 'short_model_slk',\n 'short_model_slk-class',\n 'short_model_slt',\n 'short_model_smart',\n 'short_model_solara',\n 'short_model_solstice',\n 'short_model_sonata',\n 'short_model_sonic',\n 'short_model_sonoma',\n 'short_model_sorento',\n 'short_model_sorrento',\n 'short_model_soul',\n 'short_model_soul+',\n 'short_model_spark',\n 'short_model_spectra',\n 'short_model_sport',\n 'short_model_sportage',\n 'short_model_sprinter',\n 'short_model_srx',\n 'short_model_srx-v6',\n 'short_model_srx4',\n 'short_model_srx~awesome',\n 'short_model_ss',\n 'short_model_ssr',\n 'short_model_starcraft',\n 'short_model_step-van',\n 'short_model_stinger',\n 'short_model_stratus',\n 'short_model_sts',\n 'short_model_studebaker',\n 'short_model_suburban',\n 'short_model_super',\n 'short_model_supra',\n 'short_model_suv',\n 'short_model_suzuki',\n 'short_model_svx',\n 'short_model_t',\n 'short_model_t-350',\n 'short_model_t-bucket',\n 'short_model_tacoma',\n 'short_model_tahoe',\n 'short_model_tarsus',\n 'short_model_taurus',\n 'short_model_tc5500',\n 'short_model_telluride',\n 'short_model_tercel',\n 'short_model_terrain',\n 'short_model_thing',\n 'short_model_thomas',\n 'short_model_thrift',\n 'short_model_thunderbird',\n 'short_model_tiguan',\n 'short_model_titan',\n 'short_model_tl',\n 'short_model_tlx',\n 'short_model_torrent',\n 'short_model_touareg',\n 'short_model_town',\n 'short_model_tracker',\n 'short_model_tractor',\n 'short_model_trailblazer',\n 'short_model_trans',\n 'short_model_transit',\n 'short_model_traverse',\n 'short_model_trax',\n 'short_model_tribeca',\n 'short_model_tribute',\n 'short_model_triumph',\n 'short_model_truck',\n 'short_model_tsx',\n 'short_model_tt',\n 'short_model_tucson',\n 'short_model_tudor',\n 'short_model_tundra',\n 'short_model_uplander',\n 'short_model_utility',\n 'short_model_ux',\n 'short_model_v50',\n 'short_model_v6',\n 'short_model_v60',\n 'short_model_v90',\n 'short_model_van',\n 'short_model_vanagon',\n 'short_model_vandura',\n 'short_model_velar',\n 'short_model_veloster',\n 'short_model_venture',\n 'short_model_venza',\n 'short_model_veracruz',\n 'short_model_verano',\n 'short_model_versa',\n 'short_model_vibe',\n 'short_model_villager',\n 'short_model_vnl',\n 'short_model_volt',\n 'short_model_voyager',\n 'short_model_vtx1300c',\n 'short_model_vue',\n 'short_model_w350',\n 'short_model_willys',\n 'short_model_windstar',\n 'short_model_wrangler',\n 'short_model_wrx',\n 'short_model_x-3',\n 'short_model_x-type',\n 'short_model_x1',\n 'short_model_x2',\n 'short_model_x3',\n 'short_model_x4',\n 'short_model_x5',\n 'short_model_x6',\n 'short_model_xc',\n 'short_model_xc40',\n 'short_model_xc60',\n 'short_model_xc70',\n 'short_model_xc90',\n 'short_model_xe',\n 'short_model_xf',\n 'short_model_xj',\n 'short_model_xj-series',\n 'short_model_xj8',\n 'short_model_xk8',\n 'short_model_xt4',\n 'short_model_xt5',\n 'short_model_xt6',\n 'short_model_xterra',\n 'short_model_xts',\n 'short_model_xv',\n 'short_model_yaris',\n 'short_model_yukon',\n 'short_model_z',\n 'short_model_z3',\n 'short_model_z4',\n 'short_model_zephyr',\n 'short_model_zx2',\n 'transmission_automatic',\n 'transmission_manual',\n 'transmission_other',\n 'region_SF bay area',\n 'region_abilene',\n 'region_akron / canton',\n 'region_albany',\n 'region_albuquerque',\n 'region_altoona-johnstown',\n 'region_amarillo',\n 'region_ames',\n 'region_anchorage / mat-su',\n 'region_ann arbor',\n 'region_annapolis',\n 'region_appleton-oshkosh-FDL',\n 'region_asheville',\n 'region_ashtabula',\n 'region_athens',\n 'region_atlanta',\n 'region_auburn',\n 'region_augusta',\n 'region_austin',\n 'region_bakersfield',\n 'region_baltimore',\n 'region_baton rouge',\n 'region_battle creek',\n 'region_beaumont / port arthur',\n 'region_bellingham',\n 'region_bemidji',\n 'region_bend',\n 'region_billings',\n 'region_binghamton',\n 'region_birmingham',\n 'region_bismarck',\n 'region_bloomington',\n 'region_bloomington-normal',\n 'region_boise',\n 'region_boone',\n 'region_boston',\n 'region_boulder',\n 'region_bowling green',\n ...]"
     },
     "execution_count": 188,
     "metadata": {},
     "output_type": "execute_result"
    }
   ],
   "source": [
    "# Ваш код здесь\n",
    "df_prepared.columns.tolist()"
   ]
  },
  {
   "cell_type": "code",
   "execution_count": 189,
   "id": "7ea3d87c",
   "metadata": {
    "pycharm": {
     "name": "#%%\n"
    }
   },
   "outputs": [
    {
     "data": {
      "text/plain": "(9619, 1465)"
     },
     "execution_count": 189,
     "metadata": {},
     "output_type": "execute_result"
    }
   ],
   "source": [
    "df_prepared.shape"
   ]
  },
  {
   "cell_type": "markdown",
   "id": "b62690ff",
   "metadata": {
    "id": "b62690ff",
    "pycharm": {
     "name": "#%% md\n"
    }
   },
   "source": [
    "3. Запишите преобразованный датафрейм в файл `data/vehicles_dataset_prepared.csv`, индекс не сохраняйте."
   ]
  },
  {
   "cell_type": "code",
   "execution_count": null,
   "id": "955e76dd",
   "metadata": {
    "ExecuteTime": {
     "end_time": "2022-03-15T22:41:08.021538Z",
     "start_time": "2022-03-15T22:41:08.016555Z"
    },
    "id": "955e76dd",
    "pycharm": {
     "name": "#%%\n"
    }
   },
   "outputs": [],
   "source": [
    "# Ваш код здесь\n",
    "df_prepared.to_csv('data_vehicles_dataset_prepared.csv', index=False)"
   ]
  },
  {
   "cell_type": "markdown",
   "id": "6e4960b4",
   "metadata": {
    "id": "6e4960b4",
    "pycharm": {
     "name": "#%% md\n"
    }
   },
   "source": [
    "## Описание преобразованного датасета:\n",
    "- `id`— идентификатор записи;\n",
    "- `is_manufacturer_name`— признак производителя автомобиля;\n",
    "\n",
    "- `region_*`— регион;\n",
    "- `x0_*`— тип топлива;\n",
    "- `manufacturer_*`— производитель;\n",
    "- `short_model_*`— сокращённая модель автомобиля;\n",
    "- `title_status_*`— статус;\n",
    "- `transmission_*`— коробка передач;\n",
    "- `state_*`— штат;\n",
    "- `age_category_*`— возрастная категория автомобиля;\n",
    "\n",
    "- `std_scaled_odometer`— количество пройденных миль (после стандартизации);\n",
    "- `year_std`— год выпуска (после стандартизации);\n",
    "- `lat_std`— широта (после стандартизации);\n",
    "- `long_std`— долгота (после стандартизации);\n",
    "- `odometer/price_std`— отношение стоимости к пробегу автомобиля (после стандартизации);\n",
    "- `desc_len_std`— количество символов в тексте объявления о продаже (после стандартизации);\n",
    "- `model_in_desc_std`— количество наименований модели автомобиля в тексте объявления о продаже (после стандартизации);\n",
    "- `model_len_std`— длина наименования автомобиля (после стандартизации);\n",
    "- `model_word_count_std`— количество слов в наименовании автомобиля (после стандартизации);\n",
    "- `month_std`— номер месяца размещения объявления о продаже автомобиля (после стандартизации);\n",
    "- `dayofweek_std`— день недели размещения объявления о продаже автомобиля (после стандартизации);\n",
    "- `diff_years_std`— количество лет между годом производства автомобиля и годом размещения объявления о продаже автомобиля (после стандартизации);\n",
    "\n",
    "- `price`— стоимость;\n",
    "- `price_category`– категория цены."
   ]
  }
 ],
 "metadata": {
  "colab": {
   "collapsed_sections": [],
   "provenance": []
  },
  "kernelspec": {
   "display_name": "Python 3 (ipykernel)",
   "language": "python",
   "name": "python3"
  },
  "language_info": {
   "codemirror_mode": {
    "name": "ipython",
    "version": 3
   },
   "file_extension": ".py",
   "mimetype": "text/x-python",
   "name": "python",
   "nbconvert_exporter": "python",
   "pygments_lexer": "ipython3",
   "version": "3.10.9"
  },
  "toc": {
   "base_numbering": 1,
   "nav_menu": {},
   "number_sections": true,
   "sideBar": true,
   "skip_h1_title": false,
   "title_cell": "Table of Contents",
   "title_sidebar": "Contents",
   "toc_cell": false,
   "toc_position": {},
   "toc_section_display": true,
   "toc_window_display": false
  }
 },
 "nbformat": 4,
 "nbformat_minor": 5
}