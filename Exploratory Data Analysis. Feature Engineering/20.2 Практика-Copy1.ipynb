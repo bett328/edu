{
 "cells": [
  {
   "cell_type": "markdown",
   "id": "20d02d60",
   "metadata": {
    "id": "20d02d60"
   },
   "source": [
    "# Генерация дополнительных строковых фичей. Практика"
   ]
  },
  {
   "cell_type": "markdown",
   "id": "df9d0fa3",
   "metadata": {
    "id": "df9d0fa3"
   },
   "source": [
    "## Цели практической работы\n",
    "1. Потренироваться генерировать дополнительные признаки с помощью lambda-функций.\n",
    "2. Потренироваться генерировать дополнительные строковые признаки.\n",
    "3. Подготовить датасет к этапу моделирования. "
   ]
  },
  {
   "cell_type": "markdown",
   "id": "c4a1bdf2",
   "metadata": {
    "id": "c4a1bdf2"
   },
   "source": [
    "## Что входит в практическую работу\n",
    "1. Загрузить датасет и ознакомиться с ним.\n",
    "2. Сгенерировать дополнительные признаки для этапа моделирования, используя lambda-функции и функции над строками."
   ]
  },
  {
   "cell_type": "markdown",
   "id": "3092d4ea",
   "metadata": {
    "id": "3092d4ea"
   },
   "source": [
    "## Задача\n",
    "\n",
    "Мы продолжим исследовать и готовить данные для этапа моделирования.\n",
    "\n",
    "Вам предстоит работать с небольшой выборкой из коллекции подержанных автомобилей, выставленных на продажу в Соединённых Штатах, представленной в файле `data/vehicles_dataset_upd.csv`. На этих данных вы построите первую модель классификации, определяющую категорию цены подержанного автомобиля в зависимости от характеристик транспортного средства.\n",
    "\n",
    "В этой практической работе вы начнете генерировать дополнительные признаки.\n",
    "\n",
    "\n",
    "## Описание датасета:\n",
    "- `id`: идентификатор записи;\n",
    "- `url`: URL-записи о продаже;\n",
    "- `region`: регион;\n",
    "- `region_url`: URL региона;\n",
    "- `price`: стоимость;\n",
    "- `year`: год выпуска;\n",
    "- `manufacturer`: производитель;\n",
    "- `model`: модель;\n",
    "- `condition`: состояние;\n",
    "- `cylinders`: количество цилиндров;\n",
    "- `fuel`: тип топлива;\n",
    "- `odometer`: количество пройденных миль;\n",
    "- `title_status`: статус;\n",
    "- `transmission`: коробка передач;\n",
    "- `VIN`: идентификационный номер;\n",
    "- `drive`: тип привода;\n",
    "- `size`: размер;\n",
    "- `type`: кузов;\n",
    "- `paint_color`: цвет;\n",
    "- `image_url`: URL изображения;\n",
    "- `description`: указанное описание;\n",
    "- `county`: страна;\n",
    "- `state`: штат;\n",
    "- `lat`: широта;\n",
    "- `long`: долгота;\n",
    "- `posting_date`: дата размещения объявления о продаже;\n",
    "- `price_category`: категория цены.\n"
   ]
  },
  {
   "cell_type": "code",
   "execution_count": 1,
   "id": "859c4d2b",
   "metadata": {
    "ExecuteTime": {
     "end_time": "2022-02-23T19:39:15.915860Z",
     "start_time": "2022-02-23T19:39:15.902436Z"
    },
    "id": "859c4d2b"
   },
   "outputs": [],
   "source": [
    "# Импортируйте необходимые библиотеки\n",
    "import pandas as pd\n",
    "import matplotlib.pyplot as plt"
   ]
  },
  {
   "cell_type": "markdown",
   "id": "f8266e27",
   "metadata": {
    "ExecuteTime": {
     "end_time": "2022-01-28T23:12:51.463454Z",
     "start_time": "2022-01-28T23:12:51.458075Z"
    },
    "id": "f8266e27"
   },
   "source": [
    "### Задача 1. Изменение шкалы признака\n",
    "\n",
    "1. Загрузите датасет из `data/vehicles_dataset_upd4.csv`, выведите первые пять записей и список колонок.\n"
   ]
  },
  {
   "cell_type": "code",
   "execution_count": 3,
   "id": "d536ad11",
   "metadata": {
    "ExecuteTime": {
     "end_time": "2022-02-23T19:39:16.357302Z",
     "start_time": "2022-02-23T19:39:16.354246Z"
    },
    "id": "d536ad11"
   },
   "outputs": [
    {
     "data": {
      "text/html": [
       "<div>\n",
       "<style scoped>\n",
       "    .dataframe tbody tr th:only-of-type {\n",
       "        vertical-align: middle;\n",
       "    }\n",
       "\n",
       "    .dataframe tbody tr th {\n",
       "        vertical-align: top;\n",
       "    }\n",
       "\n",
       "    .dataframe thead th {\n",
       "        text-align: right;\n",
       "    }\n",
       "</style>\n",
       "<table border=\"1\" class=\"dataframe\">\n",
       "  <thead>\n",
       "    <tr style=\"text-align: right;\">\n",
       "      <th></th>\n",
       "      <th>id</th>\n",
       "      <th>url</th>\n",
       "      <th>region</th>\n",
       "      <th>region_url</th>\n",
       "      <th>price</th>\n",
       "      <th>year</th>\n",
       "      <th>manufacturer</th>\n",
       "      <th>model</th>\n",
       "      <th>fuel</th>\n",
       "      <th>odometer</th>\n",
       "      <th>...</th>\n",
       "      <th>image_url</th>\n",
       "      <th>description</th>\n",
       "      <th>state</th>\n",
       "      <th>lat</th>\n",
       "      <th>long</th>\n",
       "      <th>posting_date</th>\n",
       "      <th>price_category</th>\n",
       "      <th>date</th>\n",
       "      <th>odometer_km</th>\n",
       "      <th>odometer/price</th>\n",
       "    </tr>\n",
       "  </thead>\n",
       "  <tbody>\n",
       "    <tr>\n",
       "      <th>0</th>\n",
       "      <td>7308295377</td>\n",
       "      <td>https://chattanooga.craigslist.org/ctd/d/chatt...</td>\n",
       "      <td>chattanooga</td>\n",
       "      <td>https://chattanooga.craigslist.org</td>\n",
       "      <td>54990</td>\n",
       "      <td>2020</td>\n",
       "      <td>ram</td>\n",
       "      <td>2500 crew cab big horn</td>\n",
       "      <td>diesel</td>\n",
       "      <td>27442</td>\n",
       "      <td>...</td>\n",
       "      <td>https://images.craigslist.org/00N0N_1xMPvfxRAI...</td>\n",
       "      <td>Carvana is the safer way to buy a car During t...</td>\n",
       "      <td>tn</td>\n",
       "      <td>35.060000</td>\n",
       "      <td>-85.250000</td>\n",
       "      <td>2021-04-17T12:30:50-0400</td>\n",
       "      <td>high</td>\n",
       "      <td>2021-04-17 16:30:50+00:00</td>\n",
       "      <td>44163.618048</td>\n",
       "      <td>0.499036</td>\n",
       "    </tr>\n",
       "    <tr>\n",
       "      <th>1</th>\n",
       "      <td>7316380095</td>\n",
       "      <td>https://newjersey.craigslist.org/ctd/d/carlsta...</td>\n",
       "      <td>north jersey</td>\n",
       "      <td>https://newjersey.craigslist.org</td>\n",
       "      <td>16942</td>\n",
       "      <td>2016</td>\n",
       "      <td>ford</td>\n",
       "      <td>explorer 4wd 4dr xlt</td>\n",
       "      <td>other</td>\n",
       "      <td>60023</td>\n",
       "      <td>...</td>\n",
       "      <td>https://images.craigslist.org/00x0x_26jl9F0cnL...</td>\n",
       "      <td>***Call Us for more information at: 201-635-14...</td>\n",
       "      <td>nj</td>\n",
       "      <td>40.821805</td>\n",
       "      <td>-74.061962</td>\n",
       "      <td>2021-05-03T15:40:21-0400</td>\n",
       "      <td>medium</td>\n",
       "      <td>2021-05-03 19:40:21+00:00</td>\n",
       "      <td>96597.654912</td>\n",
       "      <td>3.542852</td>\n",
       "    </tr>\n",
       "    <tr>\n",
       "      <th>2</th>\n",
       "      <td>7313733749</td>\n",
       "      <td>https://reno.craigslist.org/ctd/d/atlanta-2017...</td>\n",
       "      <td>reno / tahoe</td>\n",
       "      <td>https://reno.craigslist.org</td>\n",
       "      <td>35590</td>\n",
       "      <td>2017</td>\n",
       "      <td>volkswagen</td>\n",
       "      <td>golf r hatchback</td>\n",
       "      <td>gas</td>\n",
       "      <td>14048</td>\n",
       "      <td>...</td>\n",
       "      <td>https://images.craigslist.org/00y0y_eeZjWeiSfb...</td>\n",
       "      <td>Carvana is the safer way to buy a car During t...</td>\n",
       "      <td>ca</td>\n",
       "      <td>33.779214</td>\n",
       "      <td>-84.411811</td>\n",
       "      <td>2021-04-28T03:52:20-0700</td>\n",
       "      <td>high</td>\n",
       "      <td>2021-04-28 10:52:20+00:00</td>\n",
       "      <td>22608.064512</td>\n",
       "      <td>0.394718</td>\n",
       "    </tr>\n",
       "    <tr>\n",
       "      <th>3</th>\n",
       "      <td>7308210929</td>\n",
       "      <td>https://fayetteville.craigslist.org/ctd/d/rale...</td>\n",
       "      <td>fayetteville</td>\n",
       "      <td>https://fayetteville.craigslist.org</td>\n",
       "      <td>14500</td>\n",
       "      <td>2013</td>\n",
       "      <td>toyota</td>\n",
       "      <td>rav4</td>\n",
       "      <td>gas</td>\n",
       "      <td>117291</td>\n",
       "      <td>...</td>\n",
       "      <td>https://images.craigslist.org/00606_iGe5iXidib...</td>\n",
       "      <td>2013 Toyota RAV4 XLE 4dr SUV     Offered by: R...</td>\n",
       "      <td>nc</td>\n",
       "      <td>35.715954</td>\n",
       "      <td>-78.655304</td>\n",
       "      <td>2021-04-17T10:08:57-0400</td>\n",
       "      <td>medium</td>\n",
       "      <td>2021-04-17 14:08:57+00:00</td>\n",
       "      <td>188761.567104</td>\n",
       "      <td>8.089034</td>\n",
       "    </tr>\n",
       "    <tr>\n",
       "      <th>4</th>\n",
       "      <td>7303797340</td>\n",
       "      <td>https://knoxville.craigslist.org/ctd/d/knoxvil...</td>\n",
       "      <td>knoxville</td>\n",
       "      <td>https://knoxville.craigslist.org</td>\n",
       "      <td>14590</td>\n",
       "      <td>2012</td>\n",
       "      <td>bmw</td>\n",
       "      <td>1 series 128i coupe 2d</td>\n",
       "      <td>other</td>\n",
       "      <td>80465</td>\n",
       "      <td>...</td>\n",
       "      <td>https://images.craigslist.org/00F0F_5UAXmOzC18...</td>\n",
       "      <td>Carvana is the safer way to buy a car During t...</td>\n",
       "      <td>tn</td>\n",
       "      <td>35.970000</td>\n",
       "      <td>-83.940000</td>\n",
       "      <td>2021-04-08T15:10:56-0400</td>\n",
       "      <td>medium</td>\n",
       "      <td>2021-04-08 19:10:56+00:00</td>\n",
       "      <td>129495.864960</td>\n",
       "      <td>5.515079</td>\n",
       "    </tr>\n",
       "  </tbody>\n",
       "</table>\n",
       "<p>5 rows × 22 columns</p>\n",
       "</div>"
      ],
      "text/plain": [
       "           id                                                url  \\\n",
       "0  7308295377  https://chattanooga.craigslist.org/ctd/d/chatt...   \n",
       "1  7316380095  https://newjersey.craigslist.org/ctd/d/carlsta...   \n",
       "2  7313733749  https://reno.craigslist.org/ctd/d/atlanta-2017...   \n",
       "3  7308210929  https://fayetteville.craigslist.org/ctd/d/rale...   \n",
       "4  7303797340  https://knoxville.craigslist.org/ctd/d/knoxvil...   \n",
       "\n",
       "         region                           region_url  price  year  \\\n",
       "0   chattanooga   https://chattanooga.craigslist.org  54990  2020   \n",
       "1  north jersey     https://newjersey.craigslist.org  16942  2016   \n",
       "2  reno / tahoe          https://reno.craigslist.org  35590  2017   \n",
       "3  fayetteville  https://fayetteville.craigslist.org  14500  2013   \n",
       "4     knoxville     https://knoxville.craigslist.org  14590  2012   \n",
       "\n",
       "  manufacturer                   model    fuel  odometer  ...  \\\n",
       "0          ram  2500 crew cab big horn  diesel     27442  ...   \n",
       "1         ford    explorer 4wd 4dr xlt   other     60023  ...   \n",
       "2   volkswagen        golf r hatchback     gas     14048  ...   \n",
       "3       toyota                    rav4     gas    117291  ...   \n",
       "4          bmw  1 series 128i coupe 2d   other     80465  ...   \n",
       "\n",
       "                                           image_url  \\\n",
       "0  https://images.craigslist.org/00N0N_1xMPvfxRAI...   \n",
       "1  https://images.craigslist.org/00x0x_26jl9F0cnL...   \n",
       "2  https://images.craigslist.org/00y0y_eeZjWeiSfb...   \n",
       "3  https://images.craigslist.org/00606_iGe5iXidib...   \n",
       "4  https://images.craigslist.org/00F0F_5UAXmOzC18...   \n",
       "\n",
       "                                         description state        lat  \\\n",
       "0  Carvana is the safer way to buy a car During t...    tn  35.060000   \n",
       "1  ***Call Us for more information at: 201-635-14...    nj  40.821805   \n",
       "2  Carvana is the safer way to buy a car During t...    ca  33.779214   \n",
       "3  2013 Toyota RAV4 XLE 4dr SUV     Offered by: R...    nc  35.715954   \n",
       "4  Carvana is the safer way to buy a car During t...    tn  35.970000   \n",
       "\n",
       "        long              posting_date  price_category  \\\n",
       "0 -85.250000  2021-04-17T12:30:50-0400            high   \n",
       "1 -74.061962  2021-05-03T15:40:21-0400          medium   \n",
       "2 -84.411811  2021-04-28T03:52:20-0700            high   \n",
       "3 -78.655304  2021-04-17T10:08:57-0400          medium   \n",
       "4 -83.940000  2021-04-08T15:10:56-0400          medium   \n",
       "\n",
       "                        date    odometer_km odometer/price  \n",
       "0  2021-04-17 16:30:50+00:00   44163.618048       0.499036  \n",
       "1  2021-05-03 19:40:21+00:00   96597.654912       3.542852  \n",
       "2  2021-04-28 10:52:20+00:00   22608.064512       0.394718  \n",
       "3  2021-04-17 14:08:57+00:00  188761.567104       8.089034  \n",
       "4  2021-04-08 19:10:56+00:00  129495.864960       5.515079  \n",
       "\n",
       "[5 rows x 22 columns]"
      ]
     },
     "execution_count": 3,
     "metadata": {},
     "output_type": "execute_result"
    }
   ],
   "source": [
    "# Ваш код здесь\n",
    "df = pd.read_csv('data/vehicles_dataset_upd3.csv')\n",
    "df.head(5)"
   ]
  },
  {
   "cell_type": "markdown",
   "id": "b53740bc",
   "metadata": {
    "id": "b53740bc"
   },
   "source": [
    "2. С помощью lambda-функции или без неё создайте признак `price_k$`, обозначающий стоимость автомобиля в тысячах долларов. Округлите и выведите получившиеся значения."
   ]
  },
  {
   "cell_type": "code",
   "execution_count": 30,
   "id": "d0259357",
   "metadata": {
    "id": "d0259357"
   },
   "outputs": [
    {
     "data": {
      "text/plain": [
       "0       55\n",
       "1       17\n",
       "2       36\n",
       "3       14\n",
       "4       15\n",
       "        ..\n",
       "9614     4\n",
       "9615    14\n",
       "9616     9\n",
       "9617    32\n",
       "9618    32\n",
       "Name: price_k$, Length: 9619, dtype: int64"
      ]
     },
     "execution_count": 30,
     "metadata": {},
     "output_type": "execute_result"
    }
   ],
   "source": [
    "# Ваш код здесь\n",
    "df['price_k$'] = df.apply(lambda x: round(x.price / 1000), axis=1)\n",
    "df['price_k$']"
   ]
  },
  {
   "cell_type": "markdown",
   "id": "c0e0f6de",
   "metadata": {
    "id": "c0e0f6de"
   },
   "source": [
    "3. Посчитайте коэффициент корреляции Пирсона для стоимости автомобиля в долларах и в округлённых тысячах долларов и подумайте, почему получилось такое значение."
   ]
  },
  {
   "cell_type": "code",
   "execution_count": 10,
   "id": "a1349322",
   "metadata": {
    "id": "a1349322"
   },
   "outputs": [
    {
     "data": {
      "text/plain": [
       "0.9997987024374054"
      ]
     },
     "execution_count": 10,
     "metadata": {},
     "output_type": "execute_result"
    }
   ],
   "source": [
    "# Ваш код здесь\n",
    "df['price'].corr(df['price_k$'])"
   ]
  },
  {
   "cell_type": "markdown",
   "id": "29bad2c6",
   "metadata": {
    "id": "29bad2c6"
   },
   "source": [
    "### Задача 2. Построение категориального признака на основе количественного\n",
    "\n",
    "1. Выведите описательные статистики для переменной `year`."
   ]
  },
  {
   "cell_type": "code",
   "execution_count": 11,
   "id": "ba31752e",
   "metadata": {
    "ExecuteTime": {
     "end_time": "2022-02-23T19:39:17.014992Z",
     "start_time": "2022-02-23T19:39:17.011993Z"
    },
    "id": "ba31752e"
   },
   "outputs": [
    {
     "data": {
      "text/plain": [
       "count    9619.000000\n",
       "mean     2011.555879\n",
       "std         6.385814\n",
       "min      1995.000000\n",
       "25%      2008.000000\n",
       "50%      2013.000000\n",
       "75%      2017.000000\n",
       "max      2020.000000\n",
       "Name: year, dtype: float64"
      ]
     },
     "execution_count": 11,
     "metadata": {},
     "output_type": "execute_result"
    }
   ],
   "source": [
    "# Ваш код здесь\n",
    "df.year.describe()"
   ]
  },
  {
   "cell_type": "markdown",
   "id": "0d28f243",
   "metadata": {
    "id": "0d28f243"
   },
   "source": [
    "2. Создайте с помощью lambda-функции новый признак `age_category`, обозначающий возрастную категорию автомобиля, выведите его.\n",
    "\n",
    "Будет три категории:\n",
    "- `new` — автомобиль младше 2013 года выпуска;\n",
    "- `average`— автомобиль, выпущенный между 2006 и 2013 годом;\n",
    "- `old` — автомобиль до 2006 года выпуска."
   ]
  },
  {
   "cell_type": "code",
   "execution_count": 13,
   "id": "dc86a576",
   "metadata": {
    "ExecuteTime": {
     "end_time": "2022-02-23T19:39:17.644766Z",
     "start_time": "2022-02-23T19:39:17.639793Z"
    },
    "id": "dc86a576"
   },
   "outputs": [
    {
     "data": {
      "text/plain": [
       "0           new\n",
       "1           new\n",
       "2           new\n",
       "3       average\n",
       "4       average\n",
       "         ...   \n",
       "9614        old\n",
       "9615    average\n",
       "9616    average\n",
       "9617        new\n",
       "9618        new\n",
       "Name: age_category, Length: 9619, dtype: object"
      ]
     },
     "execution_count": 13,
     "metadata": {},
     "output_type": "execute_result"
    }
   ],
   "source": [
    "# Ваш код здесь\n",
    "df['age_category'] = df.apply(lambda x: 'new' if x.year > 2013 else ('old' if x.year < 2006 else 'average'), axis=1)\n",
    "df['age_category']"
   ]
  },
  {
   "cell_type": "markdown",
   "id": "3ebcd7f2",
   "metadata": {
    "id": "3ebcd7f2"
   },
   "source": [
    "3. Выведите значения года выпуска автомобиля и получившуюся возрастную категорию автомобиля, чтобы убедиться в правильности распределения категорий."
   ]
  },
  {
   "cell_type": "code",
   "execution_count": 21,
   "id": "2995ed0f",
   "metadata": {
    "ExecuteTime": {
     "end_time": "2022-02-23T19:39:18.358901Z",
     "start_time": "2022-02-23T19:39:18.355242Z"
    },
    "id": "2995ed0f"
   },
   "outputs": [
    {
     "data": {
      "text/html": [
       "<div>\n",
       "<style scoped>\n",
       "    .dataframe tbody tr th:only-of-type {\n",
       "        vertical-align: middle;\n",
       "    }\n",
       "\n",
       "    .dataframe tbody tr th {\n",
       "        vertical-align: top;\n",
       "    }\n",
       "\n",
       "    .dataframe thead th {\n",
       "        text-align: right;\n",
       "    }\n",
       "</style>\n",
       "<table border=\"1\" class=\"dataframe\">\n",
       "  <thead>\n",
       "    <tr style=\"text-align: right;\">\n",
       "      <th></th>\n",
       "      <th>year</th>\n",
       "      <th>age_category</th>\n",
       "    </tr>\n",
       "  </thead>\n",
       "  <tbody>\n",
       "    <tr>\n",
       "      <th>0</th>\n",
       "      <td>2020</td>\n",
       "      <td>new</td>\n",
       "    </tr>\n",
       "    <tr>\n",
       "      <th>1</th>\n",
       "      <td>2016</td>\n",
       "      <td>new</td>\n",
       "    </tr>\n",
       "    <tr>\n",
       "      <th>2</th>\n",
       "      <td>2017</td>\n",
       "      <td>new</td>\n",
       "    </tr>\n",
       "    <tr>\n",
       "      <th>3</th>\n",
       "      <td>2013</td>\n",
       "      <td>average</td>\n",
       "    </tr>\n",
       "    <tr>\n",
       "      <th>4</th>\n",
       "      <td>2012</td>\n",
       "      <td>average</td>\n",
       "    </tr>\n",
       "    <tr>\n",
       "      <th>...</th>\n",
       "      <td>...</td>\n",
       "      <td>...</td>\n",
       "    </tr>\n",
       "    <tr>\n",
       "      <th>9614</th>\n",
       "      <td>2002</td>\n",
       "      <td>old</td>\n",
       "    </tr>\n",
       "    <tr>\n",
       "      <th>9615</th>\n",
       "      <td>2008</td>\n",
       "      <td>average</td>\n",
       "    </tr>\n",
       "    <tr>\n",
       "      <th>9616</th>\n",
       "      <td>2011</td>\n",
       "      <td>average</td>\n",
       "    </tr>\n",
       "    <tr>\n",
       "      <th>9617</th>\n",
       "      <td>2015</td>\n",
       "      <td>new</td>\n",
       "    </tr>\n",
       "    <tr>\n",
       "      <th>9618</th>\n",
       "      <td>2017</td>\n",
       "      <td>new</td>\n",
       "    </tr>\n",
       "  </tbody>\n",
       "</table>\n",
       "<p>9619 rows × 2 columns</p>\n",
       "</div>"
      ],
      "text/plain": [
       "      year age_category\n",
       "0     2020          new\n",
       "1     2016          new\n",
       "2     2017          new\n",
       "3     2013      average\n",
       "4     2012      average\n",
       "...    ...          ...\n",
       "9614  2002          old\n",
       "9615  2008      average\n",
       "9616  2011      average\n",
       "9617  2015          new\n",
       "9618  2017          new\n",
       "\n",
       "[9619 rows x 2 columns]"
      ]
     },
     "execution_count": 21,
     "metadata": {},
     "output_type": "execute_result"
    }
   ],
   "source": [
    "# Ваш код здесь\n",
    "df[['year', 'age_category']]"
   ]
  },
  {
   "cell_type": "markdown",
   "id": "4cfd9e8b",
   "metadata": {
    "id": "4cfd9e8b"
   },
   "source": [
    "1. На одном полотне постройте графики распределения года производства автомобиля для каждой из возрастной категории автомобиля. Настройти общий размер фигуры — 12x8, цвета в зависимости от возрастной категории: зелёный, оранжевый и красный для новых, средних и старых автомобилей соответственно. Не забудьте подписать название графика и оси, а также вывести легенду для возрастной категории. \n"
   ]
  },
  {
   "cell_type": "code",
   "execution_count": 25,
   "id": "8c6e193b",
   "metadata": {
    "ExecuteTime": {
     "end_time": "2022-02-23T19:39:18.850028Z",
     "start_time": "2022-02-23T19:39:18.847367Z"
    },
    "id": "8c6e193b"
   },
   "outputs": [
    {
     "data": {
      "image/png": "[encoded data removed]",
      "text/plain": [
       "<Figure size 1200x800 with 1 Axes>"
      ]
     },
     "metadata": {},
     "output_type": "display_data"
    }
   ],
   "source": [
    "# Ваш код здесь\n",
    "colors = {'new':'green','average': 'orange', 'old': 'red'}\n",
    "fig, ax = plt.subplots(figsize=(12, 8))\n",
    "\n",
    "for age_category in colors:\n",
    "    color = colors[age_category]\n",
    "    data = df[df['age_category'] == age_category]\n",
    "    ax.hist(data['year'], bins=20, color=color, alpha=0.7)\n",
    "    \n",
    "plt.ylabel('Количество')\n",
    "plt.xlabel('Год выпуска')\n",
    "plt.title('Возрастная категория автомобиля в зависимости от года выпуска автомобиля');\n",
    "plt.legend(colors, title='Возрастная категория');"
   ]
  },
  {
   "cell_type": "markdown",
   "id": "37a63805",
   "metadata": {
    "id": "37a63805"
   },
   "source": [
    "### Задача 3. Построение признаков из строк \n",
    "\n",
    "1. Создайте новый признак `model_len`, обозначающий количество символов (длину строки) в модели автомобиля, выведите его."
   ]
  },
  {
   "cell_type": "code",
   "execution_count": 27,
   "id": "3aea1988",
   "metadata": {
    "ExecuteTime": {
     "end_time": "2022-03-12T21:01:00.353719Z",
     "start_time": "2022-03-12T21:01:00.337170Z"
    },
    "id": "3aea1988"
   },
   "outputs": [
    {
     "data": {
      "text/plain": [
       "0       22\n",
       "1       20\n",
       "2       16\n",
       "3        4\n",
       "4       22\n",
       "        ..\n",
       "9614     4\n",
       "9615     8\n",
       "9616    25\n",
       "9617     7\n",
       "9618    22\n",
       "Name: model_len, Length: 9619, dtype: int64"
      ]
     },
     "execution_count": 27,
     "metadata": {},
     "output_type": "execute_result"
    }
   ],
   "source": [
    "# Ваш код здесь\n",
    "df['model_len'] = df.apply(lambda x: len(x.model), axis=1)\n",
    "df['model_len']"
   ]
  },
  {
   "cell_type": "markdown",
   "id": "8578666f",
   "metadata": {
    "id": "8578666f"
   },
   "source": [
    "2. С помощью `value_counts` посмотрите на самое популярное количество символов в модели автомобиля."
   ]
  },
  {
   "cell_type": "code",
   "execution_count": 28,
   "id": "4807a598",
   "metadata": {
    "ExecuteTime": {
     "end_time": "2022-03-12T21:02:49.861659Z",
     "start_time": "2022-03-12T21:02:49.858390Z"
    },
    "id": "4807a598"
   },
   "outputs": [
    {
     "data": {
      "text/plain": [
       "6      1004\n",
       "5       900\n",
       "7       724\n",
       "8       681\n",
       "4       647\n",
       "       ... \n",
       "187       1\n",
       "168       1\n",
       "58        1\n",
       "76        1\n",
       "186       1\n",
       "Name: model_len, Length: 65, dtype: int64"
      ]
     },
     "execution_count": 28,
     "metadata": {},
     "output_type": "execute_result"
    }
   ],
   "source": [
    "# Ваш код здесь\n",
    "df['model_len'].value_counts()"
   ]
  },
  {
   "cell_type": "markdown",
   "id": "c9f22612",
   "metadata": {
    "ExecuteTime": {
     "end_time": "2022-03-12T21:06:31.996490Z",
     "start_time": "2022-03-12T21:06:31.988317Z"
    },
    "id": "c9f22612"
   },
   "source": [
    "\n",
    "3. Создайте новый признак `model_word_count`, обозначающий количество слов в модели автомобиля, выведите его."
   ]
  },
  {
   "cell_type": "code",
   "execution_count": 31,
   "id": "e31995cf",
   "metadata": {
    "id": "e31995cf"
   },
   "outputs": [
    {
     "data": {
      "text/plain": [
       "0       5\n",
       "1       4\n",
       "2       3\n",
       "3       1\n",
       "4       5\n",
       "       ..\n",
       "9614    1\n",
       "9615    1\n",
       "9616    5\n",
       "9617    1\n",
       "9618    5\n",
       "Name: model_word_count, Length: 9619, dtype: int64"
      ]
     },
     "execution_count": 31,
     "metadata": {},
     "output_type": "execute_result"
    }
   ],
   "source": [
    "# Ваш код здесь\n",
    "df['model_word_count'] = df.apply(lambda x: len(x.model.split(' ')), axis=1)\n",
    "df['model_word_count']"
   ]
  },
  {
   "cell_type": "markdown",
   "id": "599fdfc1",
   "metadata": {
    "id": "599fdfc1"
   },
   "source": [
    "4. С помощью `value_counts` посмотрите на самое популярное количество слов в модели автомобиля."
   ]
  },
  {
   "cell_type": "code",
   "execution_count": 32,
   "id": "a5a733f3",
   "metadata": {
    "id": "a5a733f3"
   },
   "outputs": [
    {
     "data": {
      "text/plain": [
       "1     4289\n",
       "2     2184\n",
       "3     1355\n",
       "4     1182\n",
       "5      498\n",
       "6       68\n",
       "10       8\n",
       "8        7\n",
       "11       5\n",
       "9        5\n",
       "7        4\n",
       "13       3\n",
       "15       3\n",
       "27       1\n",
       "21       1\n",
       "14       1\n",
       "17       1\n",
       "24       1\n",
       "12       1\n",
       "29       1\n",
       "22       1\n",
       "Name: model_word_count, dtype: int64"
      ]
     },
     "execution_count": 32,
     "metadata": {},
     "output_type": "execute_result"
    }
   ],
   "source": [
    "# Ваш код здесь\n",
    "df['model_word_count'].value_counts()"
   ]
  },
  {
   "cell_type": "markdown",
   "id": "f504bed3",
   "metadata": {
    "id": "f504bed3"
   },
   "source": [
    "### Задача 4. Создание нескольких признаков из категориальной переменной\n",
    "\n",
    "1. Для каждого выбранного производителя автомобиля создайте отдельный признак, содержащий 1, если данный автомобиль произведён именно этим производителем, и 0, если нет. Назовите признаки согласно шаблону: для `audi` это будет `is_audi` и так далее."
   ]
  },
  {
   "cell_type": "code",
   "execution_count": 33,
   "id": "4f786e60",
   "metadata": {
    "id": "4f786e60"
   },
   "outputs": [],
   "source": [
    "# Допишите код\n",
    "\n",
    "manufacturer_names = ['audi', 'ford', 'chevrolet', 'toyota', 'jeep', 'honda', 'nissan']\n",
    "\n",
    "for manufacturer in manufacturer_names:\n",
    "    # Ваш код здесь\n",
    "    col_name = 'is_' + manufacturer\n",
    "\n",
    "    df[col_name] = df.apply(lambda x: 1 if x.manufacturer == manufacturer else 0, axis=1)"
   ]
  },
  {
   "cell_type": "markdown",
   "id": "cf5757b8",
   "metadata": {
    "id": "cf5757b8"
   },
   "source": [
    "2. Выведите 7 последних колонок, чтобы убедиться в правильности вывода."
   ]
  },
  {
   "cell_type": "code",
   "execution_count": 35,
   "id": "e5b77636",
   "metadata": {
    "id": "e5b77636"
   },
   "outputs": [
    {
     "data": {
      "text/html": [
       "<div>\n",
       "<style scoped>\n",
       "    .dataframe tbody tr th:only-of-type {\n",
       "        vertical-align: middle;\n",
       "    }\n",
       "\n",
       "    .dataframe tbody tr th {\n",
       "        vertical-align: top;\n",
       "    }\n",
       "\n",
       "    .dataframe thead th {\n",
       "        text-align: right;\n",
       "    }\n",
       "</style>\n",
       "<table border=\"1\" class=\"dataframe\">\n",
       "  <thead>\n",
       "    <tr style=\"text-align: right;\">\n",
       "      <th></th>\n",
       "      <th>is_audi</th>\n",
       "      <th>is_ford</th>\n",
       "      <th>is_chevrolet</th>\n",
       "      <th>is_toyota</th>\n",
       "      <th>is_jeep</th>\n",
       "      <th>is_honda</th>\n",
       "      <th>is_nissan</th>\n",
       "    </tr>\n",
       "  </thead>\n",
       "  <tbody>\n",
       "    <tr>\n",
       "      <th>0</th>\n",
       "      <td>0</td>\n",
       "      <td>0</td>\n",
       "      <td>0</td>\n",
       "      <td>0</td>\n",
       "      <td>0</td>\n",
       "      <td>0</td>\n",
       "      <td>0</td>\n",
       "    </tr>\n",
       "    <tr>\n",
       "      <th>1</th>\n",
       "      <td>0</td>\n",
       "      <td>1</td>\n",
       "      <td>0</td>\n",
       "      <td>0</td>\n",
       "      <td>0</td>\n",
       "      <td>0</td>\n",
       "      <td>0</td>\n",
       "    </tr>\n",
       "    <tr>\n",
       "      <th>2</th>\n",
       "      <td>0</td>\n",
       "      <td>0</td>\n",
       "      <td>0</td>\n",
       "      <td>0</td>\n",
       "      <td>0</td>\n",
       "      <td>0</td>\n",
       "      <td>0</td>\n",
       "    </tr>\n",
       "    <tr>\n",
       "      <th>3</th>\n",
       "      <td>0</td>\n",
       "      <td>0</td>\n",
       "      <td>0</td>\n",
       "      <td>1</td>\n",
       "      <td>0</td>\n",
       "      <td>0</td>\n",
       "      <td>0</td>\n",
       "    </tr>\n",
       "    <tr>\n",
       "      <th>4</th>\n",
       "      <td>0</td>\n",
       "      <td>0</td>\n",
       "      <td>0</td>\n",
       "      <td>0</td>\n",
       "      <td>0</td>\n",
       "      <td>0</td>\n",
       "      <td>0</td>\n",
       "    </tr>\n",
       "    <tr>\n",
       "      <th>...</th>\n",
       "      <td>...</td>\n",
       "      <td>...</td>\n",
       "      <td>...</td>\n",
       "      <td>...</td>\n",
       "      <td>...</td>\n",
       "      <td>...</td>\n",
       "      <td>...</td>\n",
       "    </tr>\n",
       "    <tr>\n",
       "      <th>9614</th>\n",
       "      <td>0</td>\n",
       "      <td>0</td>\n",
       "      <td>0</td>\n",
       "      <td>1</td>\n",
       "      <td>0</td>\n",
       "      <td>0</td>\n",
       "      <td>0</td>\n",
       "    </tr>\n",
       "    <tr>\n",
       "      <th>9615</th>\n",
       "      <td>0</td>\n",
       "      <td>0</td>\n",
       "      <td>0</td>\n",
       "      <td>0</td>\n",
       "      <td>1</td>\n",
       "      <td>0</td>\n",
       "      <td>0</td>\n",
       "    </tr>\n",
       "    <tr>\n",
       "      <th>9616</th>\n",
       "      <td>1</td>\n",
       "      <td>0</td>\n",
       "      <td>0</td>\n",
       "      <td>0</td>\n",
       "      <td>0</td>\n",
       "      <td>0</td>\n",
       "      <td>0</td>\n",
       "    </tr>\n",
       "    <tr>\n",
       "      <th>9617</th>\n",
       "      <td>0</td>\n",
       "      <td>0</td>\n",
       "      <td>0</td>\n",
       "      <td>0</td>\n",
       "      <td>0</td>\n",
       "      <td>0</td>\n",
       "      <td>0</td>\n",
       "    </tr>\n",
       "    <tr>\n",
       "      <th>9618</th>\n",
       "      <td>0</td>\n",
       "      <td>0</td>\n",
       "      <td>0</td>\n",
       "      <td>0</td>\n",
       "      <td>0</td>\n",
       "      <td>0</td>\n",
       "      <td>0</td>\n",
       "    </tr>\n",
       "  </tbody>\n",
       "</table>\n",
       "<p>9619 rows × 7 columns</p>\n",
       "</div>"
      ],
      "text/plain": [
       "      is_audi  is_ford  is_chevrolet  is_toyota  is_jeep  is_honda  is_nissan\n",
       "0           0        0             0          0        0         0          0\n",
       "1           0        1             0          0        0         0          0\n",
       "2           0        0             0          0        0         0          0\n",
       "3           0        0             0          1        0         0          0\n",
       "4           0        0             0          0        0         0          0\n",
       "...       ...      ...           ...        ...      ...       ...        ...\n",
       "9614        0        0             0          1        0         0          0\n",
       "9615        0        0             0          0        1         0          0\n",
       "9616        1        0             0          0        0         0          0\n",
       "9617        0        0             0          0        0         0          0\n",
       "9618        0        0             0          0        0         0          0\n",
       "\n",
       "[9619 rows x 7 columns]"
      ]
     },
     "execution_count": 35,
     "metadata": {},
     "output_type": "execute_result"
    }
   ],
   "source": [
    "# Ваш код здесь\n",
    "df.iloc[:, -7:]"
   ]
  },
  {
   "cell_type": "markdown",
   "id": "e462d0e0",
   "metadata": {
    "id": "e462d0e0"
   },
   "source": [
    "3. Выведите только те автомобили, которые произведены audi. Сделайте это на основе нового признака `is_audi`."
   ]
  },
  {
   "cell_type": "code",
   "execution_count": 36,
   "id": "d911c046",
   "metadata": {
    "id": "d911c046"
   },
   "outputs": [
    {
     "data": {
      "text/html": [
       "<div>\n",
       "<style scoped>\n",
       "    .dataframe tbody tr th:only-of-type {\n",
       "        vertical-align: middle;\n",
       "    }\n",
       "\n",
       "    .dataframe tbody tr th {\n",
       "        vertical-align: top;\n",
       "    }\n",
       "\n",
       "    .dataframe thead th {\n",
       "        text-align: right;\n",
       "    }\n",
       "</style>\n",
       "<table border=\"1\" class=\"dataframe\">\n",
       "  <thead>\n",
       "    <tr style=\"text-align: right;\">\n",
       "      <th></th>\n",
       "      <th>id</th>\n",
       "      <th>url</th>\n",
       "      <th>region</th>\n",
       "      <th>region_url</th>\n",
       "      <th>price</th>\n",
       "      <th>year</th>\n",
       "      <th>manufacturer</th>\n",
       "      <th>model</th>\n",
       "      <th>fuel</th>\n",
       "      <th>odometer</th>\n",
       "      <th>...</th>\n",
       "      <th>age_category</th>\n",
       "      <th>model_len</th>\n",
       "      <th>model_word_count</th>\n",
       "      <th>is_audi</th>\n",
       "      <th>is_ford</th>\n",
       "      <th>is_chevrolet</th>\n",
       "      <th>is_toyota</th>\n",
       "      <th>is_jeep</th>\n",
       "      <th>is_honda</th>\n",
       "      <th>is_nissan</th>\n",
       "    </tr>\n",
       "  </thead>\n",
       "  <tbody>\n",
       "    <tr>\n",
       "      <th>58</th>\n",
       "      <td>7308399412</td>\n",
       "      <td>https://slo.craigslist.org/ctd/d/grover-beach-...</td>\n",
       "      <td>san luis obispo</td>\n",
       "      <td>https://slo.craigslist.org</td>\n",
       "      <td>9995</td>\n",
       "      <td>2010</td>\n",
       "      <td>audi</td>\n",
       "      <td>q5</td>\n",
       "      <td>gas</td>\n",
       "      <td>165714</td>\n",
       "      <td>...</td>\n",
       "      <td>average</td>\n",
       "      <td>2</td>\n",
       "      <td>1</td>\n",
       "      <td>1</td>\n",
       "      <td>0</td>\n",
       "      <td>0</td>\n",
       "      <td>0</td>\n",
       "      <td>0</td>\n",
       "      <td>0</td>\n",
       "      <td>0</td>\n",
       "    </tr>\n",
       "    <tr>\n",
       "      <th>104</th>\n",
       "      <td>7311352618</td>\n",
       "      <td>https://baltimore.craigslist.org/ctd/d/cockeys...</td>\n",
       "      <td>baltimore</td>\n",
       "      <td>https://baltimore.craigslist.org</td>\n",
       "      <td>33499</td>\n",
       "      <td>2018</td>\n",
       "      <td>audi</td>\n",
       "      <td>q7</td>\n",
       "      <td>gas</td>\n",
       "      <td>46529</td>\n",
       "      <td>...</td>\n",
       "      <td>new</td>\n",
       "      <td>2</td>\n",
       "      <td>1</td>\n",
       "      <td>1</td>\n",
       "      <td>0</td>\n",
       "      <td>0</td>\n",
       "      <td>0</td>\n",
       "      <td>0</td>\n",
       "      <td>0</td>\n",
       "      <td>0</td>\n",
       "    </tr>\n",
       "    <tr>\n",
       "      <th>125</th>\n",
       "      <td>7306308183</td>\n",
       "      <td>https://montgomery.craigslist.org/ctd/d/montgo...</td>\n",
       "      <td>montgomery</td>\n",
       "      <td>https://montgomery.craigslist.org</td>\n",
       "      <td>29590</td>\n",
       "      <td>2018</td>\n",
       "      <td>audi</td>\n",
       "      <td>q5 premium sport utility 4d</td>\n",
       "      <td>gas</td>\n",
       "      <td>34476</td>\n",
       "      <td>...</td>\n",
       "      <td>new</td>\n",
       "      <td>27</td>\n",
       "      <td>5</td>\n",
       "      <td>1</td>\n",
       "      <td>0</td>\n",
       "      <td>0</td>\n",
       "      <td>0</td>\n",
       "      <td>0</td>\n",
       "      <td>0</td>\n",
       "      <td>0</td>\n",
       "    </tr>\n",
       "    <tr>\n",
       "      <th>195</th>\n",
       "      <td>7315205542</td>\n",
       "      <td>https://denver.craigslist.org/ctd/d/littleton-...</td>\n",
       "      <td>denver</td>\n",
       "      <td>https://denver.craigslist.org</td>\n",
       "      <td>15598</td>\n",
       "      <td>2013</td>\n",
       "      <td>audi</td>\n",
       "      <td>a6</td>\n",
       "      <td>gas</td>\n",
       "      <td>81640</td>\n",
       "      <td>...</td>\n",
       "      <td>average</td>\n",
       "      <td>2</td>\n",
       "      <td>1</td>\n",
       "      <td>1</td>\n",
       "      <td>0</td>\n",
       "      <td>0</td>\n",
       "      <td>0</td>\n",
       "      <td>0</td>\n",
       "      <td>0</td>\n",
       "      <td>0</td>\n",
       "    </tr>\n",
       "    <tr>\n",
       "      <th>251</th>\n",
       "      <td>7302069239</td>\n",
       "      <td>https://indianapolis.craigslist.org/ctd/d/indi...</td>\n",
       "      <td>indianapolis</td>\n",
       "      <td>https://indianapolis.craigslist.org</td>\n",
       "      <td>38990</td>\n",
       "      <td>2018</td>\n",
       "      <td>audi</td>\n",
       "      <td>s5 premium plus sedan 4d</td>\n",
       "      <td>gas</td>\n",
       "      <td>40118</td>\n",
       "      <td>...</td>\n",
       "      <td>new</td>\n",
       "      <td>24</td>\n",
       "      <td>5</td>\n",
       "      <td>1</td>\n",
       "      <td>0</td>\n",
       "      <td>0</td>\n",
       "      <td>0</td>\n",
       "      <td>0</td>\n",
       "      <td>0</td>\n",
       "      <td>0</td>\n",
       "    </tr>\n",
       "    <tr>\n",
       "      <th>...</th>\n",
       "      <td>...</td>\n",
       "      <td>...</td>\n",
       "      <td>...</td>\n",
       "      <td>...</td>\n",
       "      <td>...</td>\n",
       "      <td>...</td>\n",
       "      <td>...</td>\n",
       "      <td>...</td>\n",
       "      <td>...</td>\n",
       "      <td>...</td>\n",
       "      <td>...</td>\n",
       "      <td>...</td>\n",
       "      <td>...</td>\n",
       "      <td>...</td>\n",
       "      <td>...</td>\n",
       "      <td>...</td>\n",
       "      <td>...</td>\n",
       "      <td>...</td>\n",
       "      <td>...</td>\n",
       "      <td>...</td>\n",
       "      <td>...</td>\n",
       "    </tr>\n",
       "    <tr>\n",
       "      <th>9508</th>\n",
       "      <td>7313590324</td>\n",
       "      <td>https://reno.craigslist.org/cto/d/incline-vill...</td>\n",
       "      <td>reno / tahoe</td>\n",
       "      <td>https://reno.craigslist.org</td>\n",
       "      <td>28000</td>\n",
       "      <td>2014</td>\n",
       "      <td>audi</td>\n",
       "      <td>s6</td>\n",
       "      <td>gas</td>\n",
       "      <td>69000</td>\n",
       "      <td>...</td>\n",
       "      <td>new</td>\n",
       "      <td>2</td>\n",
       "      <td>1</td>\n",
       "      <td>1</td>\n",
       "      <td>0</td>\n",
       "      <td>0</td>\n",
       "      <td>0</td>\n",
       "      <td>0</td>\n",
       "      <td>0</td>\n",
       "      <td>0</td>\n",
       "    </tr>\n",
       "    <tr>\n",
       "      <th>9551</th>\n",
       "      <td>7316331812</td>\n",
       "      <td>https://indianapolis.craigslist.org/ctd/d/indi...</td>\n",
       "      <td>indianapolis</td>\n",
       "      <td>https://indianapolis.craigslist.org</td>\n",
       "      <td>10995</td>\n",
       "      <td>2011</td>\n",
       "      <td>audi</td>\n",
       "      <td>q7 premium plus</td>\n",
       "      <td>gas</td>\n",
       "      <td>140014</td>\n",
       "      <td>...</td>\n",
       "      <td>average</td>\n",
       "      <td>15</td>\n",
       "      <td>3</td>\n",
       "      <td>1</td>\n",
       "      <td>0</td>\n",
       "      <td>0</td>\n",
       "      <td>0</td>\n",
       "      <td>0</td>\n",
       "      <td>0</td>\n",
       "      <td>0</td>\n",
       "    </tr>\n",
       "    <tr>\n",
       "      <th>9559</th>\n",
       "      <td>7314775851</td>\n",
       "      <td>https://indianapolis.craigslist.org/cto/d/indi...</td>\n",
       "      <td>indianapolis</td>\n",
       "      <td>https://indianapolis.craigslist.org</td>\n",
       "      <td>13500</td>\n",
       "      <td>2012</td>\n",
       "      <td>audi</td>\n",
       "      <td>q5</td>\n",
       "      <td>gas</td>\n",
       "      <td>78000</td>\n",
       "      <td>...</td>\n",
       "      <td>average</td>\n",
       "      <td>2</td>\n",
       "      <td>1</td>\n",
       "      <td>1</td>\n",
       "      <td>0</td>\n",
       "      <td>0</td>\n",
       "      <td>0</td>\n",
       "      <td>0</td>\n",
       "      <td>0</td>\n",
       "      <td>0</td>\n",
       "    </tr>\n",
       "    <tr>\n",
       "      <th>9570</th>\n",
       "      <td>7316569161</td>\n",
       "      <td>https://chicago.craigslist.org/chc/cto/d/chica...</td>\n",
       "      <td>chicago</td>\n",
       "      <td>https://chicago.craigslist.org</td>\n",
       "      <td>8500</td>\n",
       "      <td>2009</td>\n",
       "      <td>audi</td>\n",
       "      <td>q7 3.6 premium quattro</td>\n",
       "      <td>gas</td>\n",
       "      <td>152000</td>\n",
       "      <td>...</td>\n",
       "      <td>average</td>\n",
       "      <td>22</td>\n",
       "      <td>4</td>\n",
       "      <td>1</td>\n",
       "      <td>0</td>\n",
       "      <td>0</td>\n",
       "      <td>0</td>\n",
       "      <td>0</td>\n",
       "      <td>0</td>\n",
       "      <td>0</td>\n",
       "    </tr>\n",
       "    <tr>\n",
       "      <th>9616</th>\n",
       "      <td>7310993818</td>\n",
       "      <td>https://salem.craigslist.org/ctd/d/salem-2011-...</td>\n",
       "      <td>salem</td>\n",
       "      <td>https://salem.craigslist.org</td>\n",
       "      <td>8995</td>\n",
       "      <td>2011</td>\n",
       "      <td>audi</td>\n",
       "      <td>a3 2.0t premium plus pzev</td>\n",
       "      <td>gas</td>\n",
       "      <td>150184</td>\n",
       "      <td>...</td>\n",
       "      <td>average</td>\n",
       "      <td>25</td>\n",
       "      <td>5</td>\n",
       "      <td>1</td>\n",
       "      <td>0</td>\n",
       "      <td>0</td>\n",
       "      <td>0</td>\n",
       "      <td>0</td>\n",
       "      <td>0</td>\n",
       "      <td>0</td>\n",
       "    </tr>\n",
       "  </tbody>\n",
       "</table>\n",
       "<p>193 rows × 33 columns</p>\n",
       "</div>"
      ],
      "text/plain": [
       "              id                                                url  \\\n",
       "58    7308399412  https://slo.craigslist.org/ctd/d/grover-beach-...   \n",
       "104   7311352618  https://baltimore.craigslist.org/ctd/d/cockeys...   \n",
       "125   7306308183  https://montgomery.craigslist.org/ctd/d/montgo...   \n",
       "195   7315205542  https://denver.craigslist.org/ctd/d/littleton-...   \n",
       "251   7302069239  https://indianapolis.craigslist.org/ctd/d/indi...   \n",
       "...          ...                                                ...   \n",
       "9508  7313590324  https://reno.craigslist.org/cto/d/incline-vill...   \n",
       "9551  7316331812  https://indianapolis.craigslist.org/ctd/d/indi...   \n",
       "9559  7314775851  https://indianapolis.craigslist.org/cto/d/indi...   \n",
       "9570  7316569161  https://chicago.craigslist.org/chc/cto/d/chica...   \n",
       "9616  7310993818  https://salem.craigslist.org/ctd/d/salem-2011-...   \n",
       "\n",
       "               region                           region_url  price  year  \\\n",
       "58    san luis obispo           https://slo.craigslist.org   9995  2010   \n",
       "104         baltimore     https://baltimore.craigslist.org  33499  2018   \n",
       "125        montgomery    https://montgomery.craigslist.org  29590  2018   \n",
       "195            denver        https://denver.craigslist.org  15598  2013   \n",
       "251      indianapolis  https://indianapolis.craigslist.org  38990  2018   \n",
       "...               ...                                  ...    ...   ...   \n",
       "9508     reno / tahoe          https://reno.craigslist.org  28000  2014   \n",
       "9551     indianapolis  https://indianapolis.craigslist.org  10995  2011   \n",
       "9559     indianapolis  https://indianapolis.craigslist.org  13500  2012   \n",
       "9570          chicago       https://chicago.craigslist.org   8500  2009   \n",
       "9616            salem         https://salem.craigslist.org   8995  2011   \n",
       "\n",
       "     manufacturer                        model fuel  odometer  ...  \\\n",
       "58           audi                           q5  gas    165714  ...   \n",
       "104          audi                           q7  gas     46529  ...   \n",
       "125          audi  q5 premium sport utility 4d  gas     34476  ...   \n",
       "195          audi                           a6  gas     81640  ...   \n",
       "251          audi     s5 premium plus sedan 4d  gas     40118  ...   \n",
       "...           ...                          ...  ...       ...  ...   \n",
       "9508         audi                           s6  gas     69000  ...   \n",
       "9551         audi              q7 premium plus  gas    140014  ...   \n",
       "9559         audi                           q5  gas     78000  ...   \n",
       "9570         audi       q7 3.6 premium quattro  gas    152000  ...   \n",
       "9616         audi    a3 2.0t premium plus pzev  gas    150184  ...   \n",
       "\n",
       "     age_category model_len model_word_count is_audi is_ford  is_chevrolet  \\\n",
       "58        average         2                1       1       0             0   \n",
       "104           new         2                1       1       0             0   \n",
       "125           new        27                5       1       0             0   \n",
       "195       average         2                1       1       0             0   \n",
       "251           new        24                5       1       0             0   \n",
       "...           ...       ...              ...     ...     ...           ...   \n",
       "9508          new         2                1       1       0             0   \n",
       "9551      average        15                3       1       0             0   \n",
       "9559      average         2                1       1       0             0   \n",
       "9570      average        22                4       1       0             0   \n",
       "9616      average        25                5       1       0             0   \n",
       "\n",
       "      is_toyota is_jeep is_honda is_nissan  \n",
       "58            0       0        0         0  \n",
       "104           0       0        0         0  \n",
       "125           0       0        0         0  \n",
       "195           0       0        0         0  \n",
       "251           0       0        0         0  \n",
       "...         ...     ...      ...       ...  \n",
       "9508          0       0        0         0  \n",
       "9551          0       0        0         0  \n",
       "9559          0       0        0         0  \n",
       "9570          0       0        0         0  \n",
       "9616          0       0        0         0  \n",
       "\n",
       "[193 rows x 33 columns]"
      ]
     },
     "execution_count": 36,
     "metadata": {},
     "output_type": "execute_result"
    }
   ],
   "source": [
    "# Ваш код здесь\n",
    "df[df['is_audi'] == 1]"
   ]
  },
  {
   "cell_type": "markdown",
   "id": "9cd77178",
   "metadata": {
    "id": "9cd77178"
   },
   "source": [
    "|"
   ]
  },
  {
   "cell_type": "markdown",
   "id": "983ed2f8",
   "metadata": {
    "id": "983ed2f8"
   },
   "source": [
    "|"
   ]
  },
  {
   "cell_type": "markdown",
   "id": "bbe9f84b",
   "metadata": {
    "id": "bbe9f84b"
   },
   "source": [
    "|"
   ]
  },
  {
   "cell_type": "markdown",
   "id": "8ca0cf79",
   "metadata": {
    "id": "8ca0cf79"
   },
   "source": [
    "|"
   ]
  },
  {
   "cell_type": "markdown",
   "id": "616f14cf",
   "metadata": {
    "id": "616f14cf"
   },
   "source": [
    "|"
   ]
  },
  {
   "cell_type": "markdown",
   "id": "220e0b95",
   "metadata": {
    "id": "220e0b95"
   },
   "source": [
    "|"
   ]
  },
  {
   "cell_type": "markdown",
   "id": "4d6b8897",
   "metadata": {
    "id": "4d6b8897"
   },
   "source": [
    "|"
   ]
  },
  {
   "cell_type": "markdown",
   "id": "ee5a77af",
   "metadata": {
    "id": "ee5a77af"
   },
   "source": [
    "|"
   ]
  },
  {
   "cell_type": "markdown",
   "id": "cd0edd01",
   "metadata": {
    "id": "cd0edd01"
   },
   "source": [
    "|"
   ]
  },
  {
   "cell_type": "markdown",
   "id": "38cd2f5a",
   "metadata": {
    "id": "38cd2f5a"
   },
   "source": [
    "|"
   ]
  },
  {
   "cell_type": "markdown",
   "id": "47601a70",
   "metadata": {
    "id": "47601a70"
   },
   "source": [
    "|"
   ]
  },
  {
   "cell_type": "markdown",
   "id": "d2a11c1b",
   "metadata": {
    "id": "d2a11c1b"
   },
   "source": [
    "|"
   ]
  },
  {
   "cell_type": "markdown",
   "id": "d913e43d",
   "metadata": {
    "id": "d913e43d"
   },
   "source": [
    "|"
   ]
  },
  {
   "cell_type": "markdown",
   "id": "76715b2d",
   "metadata": {
    "id": "76715b2d"
   },
   "source": [
    "|"
   ]
  },
  {
   "cell_type": "markdown",
   "id": "c4f59b32",
   "metadata": {
    "ExecuteTime": {
     "end_time": "2022-02-23T19:40:19.015651Z",
     "start_time": "2022-02-23T19:40:19.010638Z"
    },
    "id": "c4f59b32"
   },
   "source": [
    "|"
   ]
  },
  {
   "cell_type": "markdown",
   "id": "e511a30f",
   "metadata": {
    "id": "e511a30f"
   },
   "source": [
    "|"
   ]
  },
  {
   "cell_type": "markdown",
   "id": "be2a5486",
   "metadata": {
    "id": "be2a5486"
   },
   "source": [
    "|"
   ]
  },
  {
   "cell_type": "markdown",
   "id": "7f0e6594",
   "metadata": {
    "id": "7f0e6594"
   },
   "source": [
    "|"
   ]
  },
  {
   "cell_type": "markdown",
   "id": "307b0cf0",
   "metadata": {
    "id": "307b0cf0"
   },
   "source": [
    "|"
   ]
  },
  {
   "cell_type": "markdown",
   "id": "ecfa7142",
   "metadata": {
    "id": "ecfa7142"
   },
   "source": [
    "|"
   ]
  },
  {
   "cell_type": "markdown",
   "id": "18d01811",
   "metadata": {
    "id": "18d01811"
   },
   "source": [
    "|"
   ]
  },
  {
   "cell_type": "markdown",
   "id": "cd5d28b9",
   "metadata": {
    "id": "cd5d28b9"
   },
   "source": [
    "|"
   ]
  },
  {
   "cell_type": "markdown",
   "id": "9b3469f4",
   "metadata": {
    "id": "9b3469f4"
   },
   "source": [
    "**Ответы для самостоятельной проверки**"
   ]
  },
  {
   "cell_type": "markdown",
   "id": "c65cff5f",
   "metadata": {
    "id": "c65cff5f"
   },
   "source": [
    "### Задача 1."
   ]
  },
  {
   "cell_type": "code",
   "execution_count": null,
   "id": "f9eae17f",
   "metadata": {
    "ExecuteTime": {
     "end_time": "2022-03-13T21:11:53.899839Z",
     "start_time": "2022-03-13T21:11:53.869000Z"
    },
    "id": "f9eae17f"
   },
   "outputs": [],
   "source": [
    "import pandas as pd\n",
    "import matplotlib.pyplot as plt"
   ]
  },
  {
   "cell_type": "code",
   "execution_count": null,
   "id": "19e8ad3e",
   "metadata": {
    "ExecuteTime": {
     "end_time": "2022-03-13T21:11:55.169570Z",
     "start_time": "2022-03-13T21:11:54.609210Z"
    },
    "colab": {
     "base_uri": "https://localhost:8080/",
     "height": 473
    },
    "id": "19e8ad3e",
    "outputId": "d47b2406-f694-4a5b-a0bf-99810fdec187"
   },
   "outputs": [
    {
     "data": {
      "text/html": [
       "\n",
       "  <div id=\"df-b998d9de-868c-4544-9b64-3c2d857c3d03\">\n",
       "    <div class=\"colab-df-container\">\n",
       "      <div>\n",
       "<style scoped>\n",
       "    .dataframe tbody tr th:only-of-type {\n",
       "        vertical-align: middle;\n",
       "    }\n",
       "\n",
       "    .dataframe tbody tr th {\n",
       "        vertical-align: top;\n",
       "    }\n",
       "\n",
       "    .dataframe thead th {\n",
       "        text-align: right;\n",
       "    }\n",
       "</style>\n",
       "<table border=\"1\" class=\"dataframe\">\n",
       "  <thead>\n",
       "    <tr style=\"text-align: right;\">\n",
       "      <th></th>\n",
       "      <th>id</th>\n",
       "      <th>url</th>\n",
       "      <th>region</th>\n",
       "      <th>region_url</th>\n",
       "      <th>price</th>\n",
       "      <th>year</th>\n",
       "      <th>manufacturer</th>\n",
       "      <th>model</th>\n",
       "      <th>fuel</th>\n",
       "      <th>odometer</th>\n",
       "      <th>...</th>\n",
       "      <th>posting_date</th>\n",
       "      <th>price_category</th>\n",
       "      <th>date</th>\n",
       "      <th>odometer_km</th>\n",
       "      <th>odometer/price</th>\n",
       "      <th>region_new</th>\n",
       "      <th>region_corrected</th>\n",
       "      <th>manufacturer_model</th>\n",
       "      <th>desc_len</th>\n",
       "      <th>model_in_desc</th>\n",
       "    </tr>\n",
       "  </thead>\n",
       "  <tbody>\n",
       "    <tr>\n",
       "      <th>0</th>\n",
       "      <td>7308295377</td>\n",
       "      <td>https://chattanooga.craigslist.org/ctd/d/chatt...</td>\n",
       "      <td>chattanooga</td>\n",
       "      <td>https://chattanooga.craigslist.org</td>\n",
       "      <td>54990</td>\n",
       "      <td>2020</td>\n",
       "      <td>ram</td>\n",
       "      <td>2500 crew cab big horn</td>\n",
       "      <td>diesel</td>\n",
       "      <td>27442</td>\n",
       "      <td>...</td>\n",
       "      <td>2021-04-17T12:30:50-0400</td>\n",
       "      <td>high</td>\n",
       "      <td>2021-04-17 16:30:50+00:00</td>\n",
       "      <td>44163.618048</td>\n",
       "      <td>0.499036</td>\n",
       "      <td>chattanooga</td>\n",
       "      <td>chattanooga</td>\n",
       "      <td>ram: 2500 crew cab big horn</td>\n",
       "      <td>4482</td>\n",
       "      <td>0</td>\n",
       "    </tr>\n",
       "    <tr>\n",
       "      <th>1</th>\n",
       "      <td>7316380095</td>\n",
       "      <td>https://newjersey.craigslist.org/ctd/d/carlsta...</td>\n",
       "      <td>north jersey</td>\n",
       "      <td>https://newjersey.craigslist.org</td>\n",
       "      <td>16942</td>\n",
       "      <td>2016</td>\n",
       "      <td>ford</td>\n",
       "      <td>explorer 4wd 4dr xlt</td>\n",
       "      <td>other</td>\n",
       "      <td>60023</td>\n",
       "      <td>...</td>\n",
       "      <td>2021-05-03T15:40:21-0400</td>\n",
       "      <td>medium</td>\n",
       "      <td>2021-05-03 19:40:21+00:00</td>\n",
       "      <td>96597.654912</td>\n",
       "      <td>3.542852</td>\n",
       "      <td>newjersey</td>\n",
       "      <td>northjersey</td>\n",
       "      <td>ford: explorer 4wd 4dr xlt</td>\n",
       "      <td>968</td>\n",
       "      <td>0</td>\n",
       "    </tr>\n",
       "    <tr>\n",
       "      <th>2</th>\n",
       "      <td>7313733749</td>\n",
       "      <td>https://reno.craigslist.org/ctd/d/atlanta-2017...</td>\n",
       "      <td>reno / tahoe</td>\n",
       "      <td>https://reno.craigslist.org</td>\n",
       "      <td>35590</td>\n",
       "      <td>2017</td>\n",
       "      <td>volkswagen</td>\n",
       "      <td>golf r hatchback</td>\n",
       "      <td>gas</td>\n",
       "      <td>14048</td>\n",
       "      <td>...</td>\n",
       "      <td>2021-04-28T03:52:20-0700</td>\n",
       "      <td>high</td>\n",
       "      <td>2021-04-28 10:52:20+00:00</td>\n",
       "      <td>22608.064512</td>\n",
       "      <td>0.394718</td>\n",
       "      <td>reno</td>\n",
       "      <td>reno</td>\n",
       "      <td>volkswagen: golf r hatchback</td>\n",
       "      <td>4286</td>\n",
       "      <td>0</td>\n",
       "    </tr>\n",
       "    <tr>\n",
       "      <th>3</th>\n",
       "      <td>7308210929</td>\n",
       "      <td>https://fayetteville.craigslist.org/ctd/d/rale...</td>\n",
       "      <td>fayetteville</td>\n",
       "      <td>https://fayetteville.craigslist.org</td>\n",
       "      <td>14500</td>\n",
       "      <td>2013</td>\n",
       "      <td>toyota</td>\n",
       "      <td>rav4</td>\n",
       "      <td>gas</td>\n",
       "      <td>117291</td>\n",
       "      <td>...</td>\n",
       "      <td>2021-04-17T10:08:57-0400</td>\n",
       "      <td>medium</td>\n",
       "      <td>2021-04-17 14:08:57+00:00</td>\n",
       "      <td>188761.567104</td>\n",
       "      <td>8.089034</td>\n",
       "      <td>fayetteville</td>\n",
       "      <td>fayetteville</td>\n",
       "      <td>toyota: rav4</td>\n",
       "      <td>3241</td>\n",
       "      <td>0</td>\n",
       "    </tr>\n",
       "    <tr>\n",
       "      <th>4</th>\n",
       "      <td>7303797340</td>\n",
       "      <td>https://knoxville.craigslist.org/ctd/d/knoxvil...</td>\n",
       "      <td>knoxville</td>\n",
       "      <td>https://knoxville.craigslist.org</td>\n",
       "      <td>14590</td>\n",
       "      <td>2012</td>\n",
       "      <td>bmw</td>\n",
       "      <td>1 series 128i coupe 2d</td>\n",
       "      <td>other</td>\n",
       "      <td>80465</td>\n",
       "      <td>...</td>\n",
       "      <td>2021-04-08T15:10:56-0400</td>\n",
       "      <td>medium</td>\n",
       "      <td>2021-04-08 19:10:56+00:00</td>\n",
       "      <td>129495.864960</td>\n",
       "      <td>5.515079</td>\n",
       "      <td>knoxville</td>\n",
       "      <td>knoxville</td>\n",
       "      <td>bmw: 1 series 128i coupe 2d</td>\n",
       "      <td>4851</td>\n",
       "      <td>0</td>\n",
       "    </tr>\n",
       "  </tbody>\n",
       "</table>\n",
       "<p>5 rows × 27 columns</p>\n",
       "</div>\n",
       "      <button class=\"colab-df-convert\" onclick=\"convertToInteractive('df-b998d9de-868c-4544-9b64-3c2d857c3d03')\"\n",
       "              title=\"Convert this dataframe to an interactive table.\"\n",
       "              style=\"display:none;\">\n",
       "        \n",
       "  <svg xmlns=\"http://www.w3.org/2000/svg\" height=\"24px\"viewBox=\"0 0 24 24\"\n",
       "       width=\"24px\">\n",
       "    <path d=\"M0 0h24v24H0V0z\" fill=\"none\"/>\n",
       "    <path d=\"M18.56 5.44l.94 2.06.94-2.06 2.06-.94-2.06-.94-.94-2.06-.94 2.06-2.06.94zm-11 1L8.5 8.5l.94-2.06 2.06-.94-2.06-.94L8.5 2.5l-.94 2.06-2.06.94zm10 10l.94 2.06.94-2.06 2.06-.94-2.06-.94-.94-2.06-.94 2.06-2.06.94z\"/><path d=\"M17.41 7.96l-1.37-1.37c-.4-.4-.92-.59-1.43-.59-.52 0-1.04.2-1.43.59L10.3 9.45l-7.72 7.72c-.78.78-.78 2.05 0 2.83L4 21.41c.39.39.9.59 1.41.59.51 0 1.02-.2 1.41-.59l7.78-7.78 2.81-2.81c.8-.78.8-2.07 0-2.86zM5.41 20L4 18.59l7.72-7.72 1.47 1.35L5.41 20z\"/>\n",
       "  </svg>\n",
       "      </button>\n",
       "      \n",
       "  <style>\n",
       "    .colab-df-container {\n",
       "      display:flex;\n",
       "      flex-wrap:wrap;\n",
       "      gap: 12px;\n",
       "    }\n",
       "\n",
       "    .colab-df-convert {\n",
       "      background-color: #E8F0FE;\n",
       "      border: none;\n",
       "      border-radius: 50%;\n",
       "      cursor: pointer;\n",
       "      display: none;\n",
       "      fill: #1967D2;\n",
       "      height: 32px;\n",
       "      padding: 0 0 0 0;\n",
       "      width: 32px;\n",
       "    }\n",
       "\n",
       "    .colab-df-convert:hover {\n",
       "      background-color: #E2EBFA;\n",
       "      box-shadow: 0px 1px 2px rgba(60, 64, 67, 0.3), 0px 1px 3px 1px rgba(60, 64, 67, 0.15);\n",
       "      fill: #174EA6;\n",
       "    }\n",
       "\n",
       "    [theme=dark] .colab-df-convert {\n",
       "      background-color: #3B4455;\n",
       "      fill: #D2E3FC;\n",
       "    }\n",
       "\n",
       "    [theme=dark] .colab-df-convert:hover {\n",
       "      background-color: #434B5C;\n",
       "      box-shadow: 0px 1px 3px 1px rgba(0, 0, 0, 0.15);\n",
       "      filter: drop-shadow(0px 1px 2px rgba(0, 0, 0, 0.3));\n",
       "      fill: #FFFFFF;\n",
       "    }\n",
       "  </style>\n",
       "\n",
       "      <script>\n",
       "        const buttonEl =\n",
       "          document.querySelector('#df-b998d9de-868c-4544-9b64-3c2d857c3d03 button.colab-df-convert');\n",
       "        buttonEl.style.display =\n",
       "          google.colab.kernel.accessAllowed ? 'block' : 'none';\n",
       "\n",
       "        async function convertToInteractive(key) {\n",
       "          const element = document.querySelector('#df-b998d9de-868c-4544-9b64-3c2d857c3d03');\n",
       "          const dataTable =\n",
       "            await google.colab.kernel.invokeFunction('convertToInteractive',\n",
       "                                                     [key], {});\n",
       "          if (!dataTable) return;\n",
       "\n",
       "          const docLinkHtml = 'Like what you see? Visit the ' +\n",
       "            '<a target=\"_blank\" href=https://colab.research.google.com/notebooks/data_table.ipynb>data table notebook</a>'\n",
       "            + ' to learn more about interactive tables.';\n",
       "          element.innerHTML = '';\n",
       "          dataTable['output_type'] = 'display_data';\n",
       "          await google.colab.output.renderOutput(dataTable, element);\n",
       "          const docLink = document.createElement('div');\n",
       "          docLink.innerHTML = docLinkHtml;\n",
       "          element.appendChild(docLink);\n",
       "        }\n",
       "      </script>\n",
       "    </div>\n",
       "  </div>\n",
       "  "
      ],
      "text/plain": [
       "           id                                                url  \\\n",
       "0  7308295377  https://chattanooga.craigslist.org/ctd/d/chatt...   \n",
       "1  7316380095  https://newjersey.craigslist.org/ctd/d/carlsta...   \n",
       "2  7313733749  https://reno.craigslist.org/ctd/d/atlanta-2017...   \n",
       "3  7308210929  https://fayetteville.craigslist.org/ctd/d/rale...   \n",
       "4  7303797340  https://knoxville.craigslist.org/ctd/d/knoxvil...   \n",
       "\n",
       "         region                           region_url  price  year  \\\n",
       "0   chattanooga   https://chattanooga.craigslist.org  54990  2020   \n",
       "1  north jersey     https://newjersey.craigslist.org  16942  2016   \n",
       "2  reno / tahoe          https://reno.craigslist.org  35590  2017   \n",
       "3  fayetteville  https://fayetteville.craigslist.org  14500  2013   \n",
       "4     knoxville     https://knoxville.craigslist.org  14590  2012   \n",
       "\n",
       "  manufacturer                   model    fuel  odometer  ...  \\\n",
       "0          ram  2500 crew cab big horn  diesel     27442  ...   \n",
       "1         ford    explorer 4wd 4dr xlt   other     60023  ...   \n",
       "2   volkswagen        golf r hatchback     gas     14048  ...   \n",
       "3       toyota                    rav4     gas    117291  ...   \n",
       "4          bmw  1 series 128i coupe 2d   other     80465  ...   \n",
       "\n",
       "               posting_date price_category                       date  \\\n",
       "0  2021-04-17T12:30:50-0400           high  2021-04-17 16:30:50+00:00   \n",
       "1  2021-05-03T15:40:21-0400         medium  2021-05-03 19:40:21+00:00   \n",
       "2  2021-04-28T03:52:20-0700           high  2021-04-28 10:52:20+00:00   \n",
       "3  2021-04-17T10:08:57-0400         medium  2021-04-17 14:08:57+00:00   \n",
       "4  2021-04-08T15:10:56-0400         medium  2021-04-08 19:10:56+00:00   \n",
       "\n",
       "     odometer_km odometer/price    region_new  region_corrected  \\\n",
       "0   44163.618048       0.499036   chattanooga       chattanooga   \n",
       "1   96597.654912       3.542852     newjersey       northjersey   \n",
       "2   22608.064512       0.394718          reno              reno   \n",
       "3  188761.567104       8.089034  fayetteville      fayetteville   \n",
       "4  129495.864960       5.515079     knoxville         knoxville   \n",
       "\n",
       "             manufacturer_model desc_len model_in_desc  \n",
       "0   ram: 2500 crew cab big horn     4482             0  \n",
       "1    ford: explorer 4wd 4dr xlt      968             0  \n",
       "2  volkswagen: golf r hatchback     4286             0  \n",
       "3                  toyota: rav4     3241             0  \n",
       "4   bmw: 1 series 128i coupe 2d     4851             0  \n",
       "\n",
       "[5 rows x 27 columns]"
      ]
     },
     "execution_count": 33,
     "metadata": {},
     "output_type": "execute_result"
    }
   ],
   "source": [
    "# 1\n",
    "\n",
    "df = pd.read_csv('data/vehicles_dataset_upd4.csv')\n",
    "df.head()\n"
   ]
  },
  {
   "cell_type": "code",
   "execution_count": null,
   "id": "80830d86",
   "metadata": {
    "ExecuteTime": {
     "end_time": "2022-03-13T21:11:55.552917Z",
     "start_time": "2022-03-13T21:11:55.546765Z"
    },
    "colab": {
     "base_uri": "https://localhost:8080/"
    },
    "id": "80830d86",
    "outputId": "f82f9d40-7243-44ec-970f-fd639dad98a3"
   },
   "outputs": [
    {
     "data": {
      "text/plain": [
       "Index(['id', 'url', 'region', 'region_url', 'price', 'year', 'manufacturer',\n",
       "       'model', 'fuel', 'odometer', 'title_status', 'transmission',\n",
       "       'image_url', 'description', 'state', 'lat', 'long', 'posting_date',\n",
       "       'price_category', 'date', 'odometer_km', 'odometer/price', 'region_new',\n",
       "       'region_corrected', 'manufacturer_model', 'desc_len', 'model_in_desc'],\n",
       "      dtype='object')"
      ]
     },
     "execution_count": 34,
     "metadata": {},
     "output_type": "execute_result"
    }
   ],
   "source": [
    "# 1\n",
    "\n",
    "df.columns"
   ]
  },
  {
   "cell_type": "code",
   "execution_count": null,
   "id": "5a70c4cb",
   "metadata": {
    "ExecuteTime": {
     "end_time": "2022-03-13T21:11:56.129176Z",
     "start_time": "2022-03-13T21:11:56.112416Z"
    },
    "colab": {
     "base_uri": "https://localhost:8080/"
    },
    "id": "5a70c4cb",
    "outputId": "c952c954-9ef0-428e-c6a0-0bfb7cd41324"
   },
   "outputs": [
    {
     "data": {
      "text/plain": [
       "0       55.0\n",
       "1       17.0\n",
       "2       36.0\n",
       "3       14.0\n",
       "4       15.0\n",
       "        ... \n",
       "9614     4.0\n",
       "9615    14.0\n",
       "9616     9.0\n",
       "9617    32.0\n",
       "9618    32.0\n",
       "Name: price_k$, Length: 9619, dtype: float64"
      ]
     },
     "execution_count": 35,
     "metadata": {},
     "output_type": "execute_result"
    }
   ],
   "source": [
    "# 2 v1\n",
    "\n",
    "df['price_k$'] = round(df.price / 1000)\n",
    "df['price_k$']"
   ]
  },
  {
   "cell_type": "code",
   "execution_count": null,
   "id": "e7d1c5ec",
   "metadata": {
    "ExecuteTime": {
     "end_time": "2022-03-13T21:11:56.709533Z",
     "start_time": "2022-03-13T21:11:56.573420Z"
    },
    "colab": {
     "base_uri": "https://localhost:8080/"
    },
    "id": "e7d1c5ec",
    "outputId": "d6a3c91a-485a-45b6-cd50-d563bfb77b63"
   },
   "outputs": [
    {
     "data": {
      "text/plain": [
       "0       55\n",
       "1       17\n",
       "2       36\n",
       "3       14\n",
       "4       15\n",
       "        ..\n",
       "9614     4\n",
       "9615    14\n",
       "9616     9\n",
       "9617    32\n",
       "9618    32\n",
       "Name: price_k$, Length: 9619, dtype: int64"
      ]
     },
     "execution_count": 36,
     "metadata": {},
     "output_type": "execute_result"
    }
   ],
   "source": [
    "# 2 v2\n",
    "\n",
    "df['price_k$'] = df.apply(lambda x: round(x.price / 1000) , axis=1)\n",
    "df['price_k$']"
   ]
  },
  {
   "cell_type": "code",
   "execution_count": null,
   "id": "3713cc36",
   "metadata": {
    "ExecuteTime": {
     "end_time": "2022-03-13T21:11:57.091376Z",
     "start_time": "2022-03-13T21:11:57.067926Z"
    },
    "colab": {
     "base_uri": "https://localhost:8080/"
    },
    "id": "3713cc36",
    "outputId": "58b5a781-0aae-4434-fe1d-6e40fe87c505"
   },
   "outputs": [
    {
     "data": {
      "text/plain": [
       "0.9997987024374051"
      ]
     },
     "execution_count": 37,
     "metadata": {},
     "output_type": "execute_result"
    }
   ],
   "source": [
    "# 3\n",
    "\n",
    "df['price'].corr(df['price_k$'])"
   ]
  },
  {
   "cell_type": "markdown",
   "id": "ca642feb",
   "metadata": {
    "id": "ca642feb"
   },
   "source": [
    "### Задача 2."
   ]
  },
  {
   "cell_type": "code",
   "execution_count": null,
   "id": "a14d89b5",
   "metadata": {
    "ExecuteTime": {
     "end_time": "2022-03-13T21:11:57.874820Z",
     "start_time": "2022-03-13T21:11:57.857971Z"
    },
    "colab": {
     "base_uri": "https://localhost:8080/"
    },
    "id": "a14d89b5",
    "outputId": "7da7c9b7-f97e-4b90-f7f3-a666848dc98c"
   },
   "outputs": [
    {
     "data": {
      "text/plain": [
       "count    9619.000000\n",
       "mean     2011.555879\n",
       "std         6.385814\n",
       "min      1995.000000\n",
       "25%      2008.000000\n",
       "50%      2013.000000\n",
       "75%      2017.000000\n",
       "max      2020.000000\n",
       "Name: year, dtype: float64"
      ]
     },
     "execution_count": 38,
     "metadata": {},
     "output_type": "execute_result"
    }
   ],
   "source": [
    "# 1\n",
    "\n",
    "df['year'].describe()"
   ]
  },
  {
   "cell_type": "code",
   "execution_count": null,
   "id": "0b9da451",
   "metadata": {
    "ExecuteTime": {
     "end_time": "2022-03-13T21:11:58.345659Z",
     "start_time": "2022-03-13T21:11:58.190052Z"
    },
    "colab": {
     "base_uri": "https://localhost:8080/"
    },
    "id": "0b9da451",
    "outputId": "2ef03b39-6fe4-4402-d5f6-19779a61e243"
   },
   "outputs": [
    {
     "data": {
      "text/plain": [
       "0           new\n",
       "1           new\n",
       "2           new\n",
       "3       average\n",
       "4       average\n",
       "         ...   \n",
       "9614        old\n",
       "9615    average\n",
       "9616    average\n",
       "9617        new\n",
       "9618        new\n",
       "Name: age_category, Length: 9619, dtype: object"
      ]
     },
     "execution_count": 39,
     "metadata": {},
     "output_type": "execute_result"
    }
   ],
   "source": [
    "# 2\n",
    "\n",
    "df['age_category'] =  df.apply(lambda x: \"new\" if x.year > 2013 else (\"old\" if x.year < 2006 else \"average\"), axis=1)\n",
    "df['age_category']"
   ]
  },
  {
   "cell_type": "code",
   "execution_count": null,
   "id": "3788abe8",
   "metadata": {
    "ExecuteTime": {
     "end_time": "2022-03-13T21:11:58.560284Z",
     "start_time": "2022-03-13T21:11:58.544694Z"
    },
    "colab": {
     "base_uri": "https://localhost:8080/",
     "height": 423
    },
    "id": "3788abe8",
    "outputId": "0da40155-3e64-42e5-9ad2-583cfa237558"
   },
   "outputs": [
    {
     "data": {
      "text/html": [
       "\n",
       "  <div id=\"df-84a0961f-c3d5-404d-bbd7-834a7604fa4f\">\n",
       "    <div class=\"colab-df-container\">\n",
       "      <div>\n",
       "<style scoped>\n",
       "    .dataframe tbody tr th:only-of-type {\n",
       "        vertical-align: middle;\n",
       "    }\n",
       "\n",
       "    .dataframe tbody tr th {\n",
       "        vertical-align: top;\n",
       "    }\n",
       "\n",
       "    .dataframe thead th {\n",
       "        text-align: right;\n",
       "    }\n",
       "</style>\n",
       "<table border=\"1\" class=\"dataframe\">\n",
       "  <thead>\n",
       "    <tr style=\"text-align: right;\">\n",
       "      <th></th>\n",
       "      <th>year</th>\n",
       "      <th>age_category</th>\n",
       "    </tr>\n",
       "  </thead>\n",
       "  <tbody>\n",
       "    <tr>\n",
       "      <th>0</th>\n",
       "      <td>2020</td>\n",
       "      <td>new</td>\n",
       "    </tr>\n",
       "    <tr>\n",
       "      <th>1</th>\n",
       "      <td>2016</td>\n",
       "      <td>new</td>\n",
       "    </tr>\n",
       "    <tr>\n",
       "      <th>2</th>\n",
       "      <td>2017</td>\n",
       "      <td>new</td>\n",
       "    </tr>\n",
       "    <tr>\n",
       "      <th>3</th>\n",
       "      <td>2013</td>\n",
       "      <td>average</td>\n",
       "    </tr>\n",
       "    <tr>\n",
       "      <th>4</th>\n",
       "      <td>2012</td>\n",
       "      <td>average</td>\n",
       "    </tr>\n",
       "    <tr>\n",
       "      <th>...</th>\n",
       "      <td>...</td>\n",
       "      <td>...</td>\n",
       "    </tr>\n",
       "    <tr>\n",
       "      <th>9614</th>\n",
       "      <td>2002</td>\n",
       "      <td>old</td>\n",
       "    </tr>\n",
       "    <tr>\n",
       "      <th>9615</th>\n",
       "      <td>2008</td>\n",
       "      <td>average</td>\n",
       "    </tr>\n",
       "    <tr>\n",
       "      <th>9616</th>\n",
       "      <td>2011</td>\n",
       "      <td>average</td>\n",
       "    </tr>\n",
       "    <tr>\n",
       "      <th>9617</th>\n",
       "      <td>2015</td>\n",
       "      <td>new</td>\n",
       "    </tr>\n",
       "    <tr>\n",
       "      <th>9618</th>\n",
       "      <td>2017</td>\n",
       "      <td>new</td>\n",
       "    </tr>\n",
       "  </tbody>\n",
       "</table>\n",
       "<p>9619 rows × 2 columns</p>\n",
       "</div>\n",
       "      <button class=\"colab-df-convert\" onclick=\"convertToInteractive('df-84a0961f-c3d5-404d-bbd7-834a7604fa4f')\"\n",
       "              title=\"Convert this dataframe to an interactive table.\"\n",
       "              style=\"display:none;\">\n",
       "        \n",
       "  <svg xmlns=\"http://www.w3.org/2000/svg\" height=\"24px\"viewBox=\"0 0 24 24\"\n",
       "       width=\"24px\">\n",
       "    <path d=\"M0 0h24v24H0V0z\" fill=\"none\"/>\n",
       "    <path d=\"M18.56 5.44l.94 2.06.94-2.06 2.06-.94-2.06-.94-.94-2.06-.94 2.06-2.06.94zm-11 1L8.5 8.5l.94-2.06 2.06-.94-2.06-.94L8.5 2.5l-.94 2.06-2.06.94zm10 10l.94 2.06.94-2.06 2.06-.94-2.06-.94-.94-2.06-.94 2.06-2.06.94z\"/><path d=\"M17.41 7.96l-1.37-1.37c-.4-.4-.92-.59-1.43-.59-.52 0-1.04.2-1.43.59L10.3 9.45l-7.72 7.72c-.78.78-.78 2.05 0 2.83L4 21.41c.39.39.9.59 1.41.59.51 0 1.02-.2 1.41-.59l7.78-7.78 2.81-2.81c.8-.78.8-2.07 0-2.86zM5.41 20L4 18.59l7.72-7.72 1.47 1.35L5.41 20z\"/>\n",
       "  </svg>\n",
       "      </button>\n",
       "      \n",
       "  <style>\n",
       "    .colab-df-container {\n",
       "      display:flex;\n",
       "      flex-wrap:wrap;\n",
       "      gap: 12px;\n",
       "    }\n",
       "\n",
       "    .colab-df-convert {\n",
       "      background-color: #E8F0FE;\n",
       "      border: none;\n",
       "      border-radius: 50%;\n",
       "      cursor: pointer;\n",
       "      display: none;\n",
       "      fill: #1967D2;\n",
       "      height: 32px;\n",
       "      padding: 0 0 0 0;\n",
       "      width: 32px;\n",
       "    }\n",
       "\n",
       "    .colab-df-convert:hover {\n",
       "      background-color: #E2EBFA;\n",
       "      box-shadow: 0px 1px 2px rgba(60, 64, 67, 0.3), 0px 1px 3px 1px rgba(60, 64, 67, 0.15);\n",
       "      fill: #174EA6;\n",
       "    }\n",
       "\n",
       "    [theme=dark] .colab-df-convert {\n",
       "      background-color: #3B4455;\n",
       "      fill: #D2E3FC;\n",
       "    }\n",
       "\n",
       "    [theme=dark] .colab-df-convert:hover {\n",
       "      background-color: #434B5C;\n",
       "      box-shadow: 0px 1px 3px 1px rgba(0, 0, 0, 0.15);\n",
       "      filter: drop-shadow(0px 1px 2px rgba(0, 0, 0, 0.3));\n",
       "      fill: #FFFFFF;\n",
       "    }\n",
       "  </style>\n",
       "\n",
       "      <script>\n",
       "        const buttonEl =\n",
       "          document.querySelector('#df-84a0961f-c3d5-404d-bbd7-834a7604fa4f button.colab-df-convert');\n",
       "        buttonEl.style.display =\n",
       "          google.colab.kernel.accessAllowed ? 'block' : 'none';\n",
       "\n",
       "        async function convertToInteractive(key) {\n",
       "          const element = document.querySelector('#df-84a0961f-c3d5-404d-bbd7-834a7604fa4f');\n",
       "          const dataTable =\n",
       "            await google.colab.kernel.invokeFunction('convertToInteractive',\n",
       "                                                     [key], {});\n",
       "          if (!dataTable) return;\n",
       "\n",
       "          const docLinkHtml = 'Like what you see? Visit the ' +\n",
       "            '<a target=\"_blank\" href=https://colab.research.google.com/notebooks/data_table.ipynb>data table notebook</a>'\n",
       "            + ' to learn more about interactive tables.';\n",
       "          element.innerHTML = '';\n",
       "          dataTable['output_type'] = 'display_data';\n",
       "          await google.colab.output.renderOutput(dataTable, element);\n",
       "          const docLink = document.createElement('div');\n",
       "          docLink.innerHTML = docLinkHtml;\n",
       "          element.appendChild(docLink);\n",
       "        }\n",
       "      </script>\n",
       "    </div>\n",
       "  </div>\n",
       "  "
      ],
      "text/plain": [
       "      year age_category\n",
       "0     2020          new\n",
       "1     2016          new\n",
       "2     2017          new\n",
       "3     2013      average\n",
       "4     2012      average\n",
       "...    ...          ...\n",
       "9614  2002          old\n",
       "9615  2008      average\n",
       "9616  2011      average\n",
       "9617  2015          new\n",
       "9618  2017          new\n",
       "\n",
       "[9619 rows x 2 columns]"
      ]
     },
     "execution_count": 40,
     "metadata": {},
     "output_type": "execute_result"
    }
   ],
   "source": [
    "# 3\n",
    "\n",
    "df[['year', 'age_category']]"
   ]
  },
  {
   "cell_type": "code",
   "execution_count": null,
   "id": "fc2fef2e",
   "metadata": {
    "ExecuteTime": {
     "end_time": "2022-03-13T21:11:59.394995Z",
     "start_time": "2022-03-13T21:11:58.882339Z"
    },
    "colab": {
     "base_uri": "https://localhost:8080/",
     "height": 513
    },
    "id": "fc2fef2e",
    "outputId": "b1ffa19e-2d52-484b-bd0a-8452b8337d6c"
   },
   "outputs": [
    {
     "data": {
      "image/png": "[encoded data removed]",
      "text/plain": [
       "<Figure size 864x576 with 1 Axes>"
      ]
     },
     "metadata": {
      "needs_background": "light"
     },
     "output_type": "display_data"
    }
   ],
   "source": [
    "# 4\n",
    "\n",
    "colors = {'average': 'orange', 'old': 'red', 'new': 'green'}\n",
    "\n",
    "fig, ax = plt.subplots(figsize=(12, 8))\n",
    "for age_category in colors:\n",
    "    color = colors[age_category]\n",
    "    data = df[df['age_category'] == age_category]\n",
    "\n",
    "    ax.hist(data['year'], color=color)\n",
    "    \n",
    "plt.ylabel('Количество')\n",
    "plt.xlabel('Год выпуска автомобиля')\n",
    "plt.title('Возрастная категория автомобиля в зависимости от года выпуска автомобиля')\n",
    "plt.legend(colors, title=\"Возрастная категория\");"
   ]
  },
  {
   "cell_type": "markdown",
   "id": "44df195e",
   "metadata": {
    "id": "44df195e"
   },
   "source": [
    "### Задача 3."
   ]
  },
  {
   "cell_type": "code",
   "execution_count": null,
   "id": "2255381f",
   "metadata": {
    "ExecuteTime": {
     "end_time": "2022-03-13T21:11:59.850646Z",
     "start_time": "2022-03-13T21:11:59.719159Z"
    },
    "colab": {
     "base_uri": "https://localhost:8080/"
    },
    "id": "2255381f",
    "outputId": "0fc06309-a6d6-4e08-f856-3e7e9f489b2d"
   },
   "outputs": [
    {
     "data": {
      "text/plain": [
       "0       22\n",
       "1       20\n",
       "2       16\n",
       "3        4\n",
       "4       22\n",
       "        ..\n",
       "9614     4\n",
       "9615     8\n",
       "9616    25\n",
       "9617     7\n",
       "9618    22\n",
       "Name: model_len, Length: 9619, dtype: int64"
      ]
     },
     "execution_count": 42,
     "metadata": {},
     "output_type": "execute_result"
    }
   ],
   "source": [
    "# 1\n",
    "\n",
    "df['model_len'] = df.apply(lambda x: len(x.model) , axis=1)\n",
    "df['model_len']"
   ]
  },
  {
   "cell_type": "code",
   "execution_count": null,
   "id": "ff2cb897",
   "metadata": {
    "ExecuteTime": {
     "end_time": "2022-03-13T21:12:00.232137Z",
     "start_time": "2022-03-13T21:12:00.222488Z"
    },
    "colab": {
     "base_uri": "https://localhost:8080/"
    },
    "id": "ff2cb897",
    "outputId": "a5d34d3b-d238-43d0-84fe-53600f5938fb"
   },
   "outputs": [
    {
     "data": {
      "text/plain": [
       "6      1004\n",
       "5       900\n",
       "7       724\n",
       "8       681\n",
       "4       647\n",
       "       ... \n",
       "187       1\n",
       "168       1\n",
       "58        1\n",
       "76        1\n",
       "186       1\n",
       "Name: model_len, Length: 65, dtype: int64"
      ]
     },
     "execution_count": 43,
     "metadata": {},
     "output_type": "execute_result"
    }
   ],
   "source": [
    "# 2\n",
    "\n",
    "df['model_len'].value_counts()"
   ]
  },
  {
   "cell_type": "code",
   "execution_count": null,
   "id": "1b295c2a",
   "metadata": {
    "ExecuteTime": {
     "end_time": "2022-03-13T21:12:00.702067Z",
     "start_time": "2022-03-13T21:12:00.567801Z"
    },
    "colab": {
     "base_uri": "https://localhost:8080/"
    },
    "id": "1b295c2a",
    "outputId": "e355af0c-0d52-48b0-d46b-b2f75c1a8c71"
   },
   "outputs": [
    {
     "data": {
      "text/plain": [
       "0       5\n",
       "1       4\n",
       "2       3\n",
       "3       1\n",
       "4       5\n",
       "       ..\n",
       "9614    1\n",
       "9615    1\n",
       "9616    5\n",
       "9617    1\n",
       "9618    5\n",
       "Name: model_word_count, Length: 9619, dtype: int64"
      ]
     },
     "execution_count": 44,
     "metadata": {},
     "output_type": "execute_result"
    }
   ],
   "source": [
    "# 3\n",
    "\n",
    "df['model_word_count'] = df.apply(lambda x: len(x.model.split(' ')), axis=1)\n",
    "df['model_word_count']"
   ]
  },
  {
   "cell_type": "code",
   "execution_count": null,
   "id": "6116053d",
   "metadata": {
    "ExecuteTime": {
     "end_time": "2022-03-13T21:12:00.988810Z",
     "start_time": "2022-03-13T21:12:00.981180Z"
    },
    "colab": {
     "base_uri": "https://localhost:8080/"
    },
    "id": "6116053d",
    "outputId": "5d6ee199-93a2-4066-a454-c8e584da62bb"
   },
   "outputs": [
    {
     "data": {
      "text/plain": [
       "1     4289\n",
       "2     2184\n",
       "3     1355\n",
       "4     1182\n",
       "5      498\n",
       "6       68\n",
       "10       8\n",
       "8        7\n",
       "11       5\n",
       "9        5\n",
       "7        4\n",
       "13       3\n",
       "15       3\n",
       "27       1\n",
       "21       1\n",
       "14       1\n",
       "17       1\n",
       "24       1\n",
       "12       1\n",
       "29       1\n",
       "22       1\n",
       "Name: model_word_count, dtype: int64"
      ]
     },
     "execution_count": 45,
     "metadata": {},
     "output_type": "execute_result"
    }
   ],
   "source": [
    "# 4\n",
    "\n",
    "df['model_word_count'].value_counts()"
   ]
  },
  {
   "cell_type": "markdown",
   "id": "ac3ac4a1",
   "metadata": {
    "ExecuteTime": {
     "end_time": "2022-03-12T21:14:45.502208Z",
     "start_time": "2022-03-12T21:14:45.498412Z"
    },
    "id": "ac3ac4a1"
   },
   "source": [
    "### Задача 4."
   ]
  },
  {
   "cell_type": "code",
   "execution_count": null,
   "id": "4b488f3f",
   "metadata": {
    "ExecuteTime": {
     "end_time": "2022-03-13T21:12:02.582758Z",
     "start_time": "2022-03-13T21:12:01.927938Z"
    },
    "id": "4b488f3f"
   },
   "outputs": [],
   "source": [
    "# 1\n",
    "\n",
    "manufacturer_names = ['audi', 'ford', 'chevrolet', 'toyota', 'jeep', 'honda', 'nissan']\n",
    "\n",
    "for manufacturer in manufacturer_names:\n",
    "    col_name = 'is_' + manufacturer\n",
    "\n",
    "    df[col_name] = df.apply(lambda x: 1 if x.manufacturer == manufacturer else 0, axis=1)"
   ]
  },
  {
   "cell_type": "code",
   "execution_count": null,
   "id": "45a660cc",
   "metadata": {
    "ExecuteTime": {
     "end_time": "2022-03-13T21:12:02.597908Z",
     "start_time": "2022-03-13T21:12:02.584502Z"
    },
    "colab": {
     "base_uri": "https://localhost:8080/",
     "height": 423
    },
    "id": "45a660cc",
    "outputId": "845b9f1d-47b6-497f-8c6b-a9b6dfed4892"
   },
   "outputs": [
    {
     "data": {
      "text/html": [
       "\n",
       "  <div id=\"df-1c370d9e-cb37-4c10-ac70-138b600335a1\">\n",
       "    <div class=\"colab-df-container\">\n",
       "      <div>\n",
       "<style scoped>\n",
       "    .dataframe tbody tr th:only-of-type {\n",
       "        vertical-align: middle;\n",
       "    }\n",
       "\n",
       "    .dataframe tbody tr th {\n",
       "        vertical-align: top;\n",
       "    }\n",
       "\n",
       "    .dataframe thead th {\n",
       "        text-align: right;\n",
       "    }\n",
       "</style>\n",
       "<table border=\"1\" class=\"dataframe\">\n",
       "  <thead>\n",
       "    <tr style=\"text-align: right;\">\n",
       "      <th></th>\n",
       "      <th>is_audi</th>\n",
       "      <th>is_ford</th>\n",
       "      <th>is_chevrolet</th>\n",
       "      <th>is_toyota</th>\n",
       "      <th>is_jeep</th>\n",
       "      <th>is_honda</th>\n",
       "      <th>is_nissan</th>\n",
       "    </tr>\n",
       "  </thead>\n",
       "  <tbody>\n",
       "    <tr>\n",
       "      <th>0</th>\n",
       "      <td>0</td>\n",
       "      <td>0</td>\n",
       "      <td>0</td>\n",
       "      <td>0</td>\n",
       "      <td>0</td>\n",
       "      <td>0</td>\n",
       "      <td>0</td>\n",
       "    </tr>\n",
       "    <tr>\n",
       "      <th>1</th>\n",
       "      <td>0</td>\n",
       "      <td>1</td>\n",
       "      <td>0</td>\n",
       "      <td>0</td>\n",
       "      <td>0</td>\n",
       "      <td>0</td>\n",
       "      <td>0</td>\n",
       "    </tr>\n",
       "    <tr>\n",
       "      <th>2</th>\n",
       "      <td>0</td>\n",
       "      <td>0</td>\n",
       "      <td>0</td>\n",
       "      <td>0</td>\n",
       "      <td>0</td>\n",
       "      <td>0</td>\n",
       "      <td>0</td>\n",
       "    </tr>\n",
       "    <tr>\n",
       "      <th>3</th>\n",
       "      <td>0</td>\n",
       "      <td>0</td>\n",
       "      <td>0</td>\n",
       "      <td>1</td>\n",
       "      <td>0</td>\n",
       "      <td>0</td>\n",
       "      <td>0</td>\n",
       "    </tr>\n",
       "    <tr>\n",
       "      <th>4</th>\n",
       "      <td>0</td>\n",
       "      <td>0</td>\n",
       "      <td>0</td>\n",
       "      <td>0</td>\n",
       "      <td>0</td>\n",
       "      <td>0</td>\n",
       "      <td>0</td>\n",
       "    </tr>\n",
       "    <tr>\n",
       "      <th>...</th>\n",
       "      <td>...</td>\n",
       "      <td>...</td>\n",
       "      <td>...</td>\n",
       "      <td>...</td>\n",
       "      <td>...</td>\n",
       "      <td>...</td>\n",
       "      <td>...</td>\n",
       "    </tr>\n",
       "    <tr>\n",
       "      <th>9614</th>\n",
       "      <td>0</td>\n",
       "      <td>0</td>\n",
       "      <td>0</td>\n",
       "      <td>1</td>\n",
       "      <td>0</td>\n",
       "      <td>0</td>\n",
       "      <td>0</td>\n",
       "    </tr>\n",
       "    <tr>\n",
       "      <th>9615</th>\n",
       "      <td>0</td>\n",
       "      <td>0</td>\n",
       "      <td>0</td>\n",
       "      <td>0</td>\n",
       "      <td>1</td>\n",
       "      <td>0</td>\n",
       "      <td>0</td>\n",
       "    </tr>\n",
       "    <tr>\n",
       "      <th>9616</th>\n",
       "      <td>1</td>\n",
       "      <td>0</td>\n",
       "      <td>0</td>\n",
       "      <td>0</td>\n",
       "      <td>0</td>\n",
       "      <td>0</td>\n",
       "      <td>0</td>\n",
       "    </tr>\n",
       "    <tr>\n",
       "      <th>9617</th>\n",
       "      <td>0</td>\n",
       "      <td>0</td>\n",
       "      <td>0</td>\n",
       "      <td>0</td>\n",
       "      <td>0</td>\n",
       "      <td>0</td>\n",
       "      <td>0</td>\n",
       "    </tr>\n",
       "    <tr>\n",
       "      <th>9618</th>\n",
       "      <td>0</td>\n",
       "      <td>0</td>\n",
       "      <td>0</td>\n",
       "      <td>0</td>\n",
       "      <td>0</td>\n",
       "      <td>0</td>\n",
       "      <td>0</td>\n",
       "    </tr>\n",
       "  </tbody>\n",
       "</table>\n",
       "<p>9619 rows × 7 columns</p>\n",
       "</div>\n",
       "      <button class=\"colab-df-convert\" onclick=\"convertToInteractive('df-1c370d9e-cb37-4c10-ac70-138b600335a1')\"\n",
       "              title=\"Convert this dataframe to an interactive table.\"\n",
       "              style=\"display:none;\">\n",
       "        \n",
       "  <svg xmlns=\"http://www.w3.org/2000/svg\" height=\"24px\"viewBox=\"0 0 24 24\"\n",
       "       width=\"24px\">\n",
       "    <path d=\"M0 0h24v24H0V0z\" fill=\"none\"/>\n",
       "    <path d=\"M18.56 5.44l.94 2.06.94-2.06 2.06-.94-2.06-.94-.94-2.06-.94 2.06-2.06.94zm-11 1L8.5 8.5l.94-2.06 2.06-.94-2.06-.94L8.5 2.5l-.94 2.06-2.06.94zm10 10l.94 2.06.94-2.06 2.06-.94-2.06-.94-.94-2.06-.94 2.06-2.06.94z\"/><path d=\"M17.41 7.96l-1.37-1.37c-.4-.4-.92-.59-1.43-.59-.52 0-1.04.2-1.43.59L10.3 9.45l-7.72 7.72c-.78.78-.78 2.05 0 2.83L4 21.41c.39.39.9.59 1.41.59.51 0 1.02-.2 1.41-.59l7.78-7.78 2.81-2.81c.8-.78.8-2.07 0-2.86zM5.41 20L4 18.59l7.72-7.72 1.47 1.35L5.41 20z\"/>\n",
       "  </svg>\n",
       "      </button>\n",
       "      \n",
       "  <style>\n",
       "    .colab-df-container {\n",
       "      display:flex;\n",
       "      flex-wrap:wrap;\n",
       "      gap: 12px;\n",
       "    }\n",
       "\n",
       "    .colab-df-convert {\n",
       "      background-color: #E8F0FE;\n",
       "      border: none;\n",
       "      border-radius: 50%;\n",
       "      cursor: pointer;\n",
       "      display: none;\n",
       "      fill: #1967D2;\n",
       "      height: 32px;\n",
       "      padding: 0 0 0 0;\n",
       "      width: 32px;\n",
       "    }\n",
       "\n",
       "    .colab-df-convert:hover {\n",
       "      background-color: #E2EBFA;\n",
       "      box-shadow: 0px 1px 2px rgba(60, 64, 67, 0.3), 0px 1px 3px 1px rgba(60, 64, 67, 0.15);\n",
       "      fill: #174EA6;\n",
       "    }\n",
       "\n",
       "    [theme=dark] .colab-df-convert {\n",
       "      background-color: #3B4455;\n",
       "      fill: #D2E3FC;\n",
       "    }\n",
       "\n",
       "    [theme=dark] .colab-df-convert:hover {\n",
       "      background-color: #434B5C;\n",
       "      box-shadow: 0px 1px 3px 1px rgba(0, 0, 0, 0.15);\n",
       "      filter: drop-shadow(0px 1px 2px rgba(0, 0, 0, 0.3));\n",
       "      fill: #FFFFFF;\n",
       "    }\n",
       "  </style>\n",
       "\n",
       "      <script>\n",
       "        const buttonEl =\n",
       "          document.querySelector('#df-1c370d9e-cb37-4c10-ac70-138b600335a1 button.colab-df-convert');\n",
       "        buttonEl.style.display =\n",
       "          google.colab.kernel.accessAllowed ? 'block' : 'none';\n",
       "\n",
       "        async function convertToInteractive(key) {\n",
       "          const element = document.querySelector('#df-1c370d9e-cb37-4c10-ac70-138b600335a1');\n",
       "          const dataTable =\n",
       "            await google.colab.kernel.invokeFunction('convertToInteractive',\n",
       "                                                     [key], {});\n",
       "          if (!dataTable) return;\n",
       "\n",
       "          const docLinkHtml = 'Like what you see? Visit the ' +\n",
       "            '<a target=\"_blank\" href=https://colab.research.google.com/notebooks/data_table.ipynb>data table notebook</a>'\n",
       "            + ' to learn more about interactive tables.';\n",
       "          element.innerHTML = '';\n",
       "          dataTable['output_type'] = 'display_data';\n",
       "          await google.colab.output.renderOutput(dataTable, element);\n",
       "          const docLink = document.createElement('div');\n",
       "          docLink.innerHTML = docLinkHtml;\n",
       "          element.appendChild(docLink);\n",
       "        }\n",
       "      </script>\n",
       "    </div>\n",
       "  </div>\n",
       "  "
      ],
      "text/plain": [
       "      is_audi  is_ford  is_chevrolet  is_toyota  is_jeep  is_honda  is_nissan\n",
       "0           0        0             0          0        0         0          0\n",
       "1           0        1             0          0        0         0          0\n",
       "2           0        0             0          0        0         0          0\n",
       "3           0        0             0          1        0         0          0\n",
       "4           0        0             0          0        0         0          0\n",
       "...       ...      ...           ...        ...      ...       ...        ...\n",
       "9614        0        0             0          1        0         0          0\n",
       "9615        0        0             0          0        1         0          0\n",
       "9616        1        0             0          0        0         0          0\n",
       "9617        0        0             0          0        0         0          0\n",
       "9618        0        0             0          0        0         0          0\n",
       "\n",
       "[9619 rows x 7 columns]"
      ]
     },
     "execution_count": 47,
     "metadata": {},
     "output_type": "execute_result"
    }
   ],
   "source": [
    "# 2\n",
    "\n",
    "df.iloc[:, -7:]"
   ]
  },
  {
   "cell_type": "code",
   "execution_count": null,
   "id": "187a3944",
   "metadata": {
    "ExecuteTime": {
     "end_time": "2022-03-13T21:12:03.082804Z",
     "start_time": "2022-03-13T21:12:03.039825Z"
    },
    "colab": {
     "base_uri": "https://localhost:8080/",
     "height": 748
    },
    "id": "187a3944",
    "outputId": "2b754d2a-030b-4c69-83fa-9ae1b06f3ebd"
   },
   "outputs": [
    {
     "data": {
      "text/html": [
       "\n",
       "  <div id=\"df-efe10d80-64bf-4a80-83c9-eab79815a588\">\n",
       "    <div class=\"colab-df-container\">\n",
       "      <div>\n",
       "<style scoped>\n",
       "    .dataframe tbody tr th:only-of-type {\n",
       "        vertical-align: middle;\n",
       "    }\n",
       "\n",
       "    .dataframe tbody tr th {\n",
       "        vertical-align: top;\n",
       "    }\n",
       "\n",
       "    .dataframe thead th {\n",
       "        text-align: right;\n",
       "    }\n",
       "</style>\n",
       "<table border=\"1\" class=\"dataframe\">\n",
       "  <thead>\n",
       "    <tr style=\"text-align: right;\">\n",
       "      <th></th>\n",
       "      <th>id</th>\n",
       "      <th>url</th>\n",
       "      <th>region</th>\n",
       "      <th>region_url</th>\n",
       "      <th>price</th>\n",
       "      <th>year</th>\n",
       "      <th>manufacturer</th>\n",
       "      <th>model</th>\n",
       "      <th>fuel</th>\n",
       "      <th>odometer</th>\n",
       "      <th>...</th>\n",
       "      <th>age_category</th>\n",
       "      <th>model_len</th>\n",
       "      <th>model_word_count</th>\n",
       "      <th>is_audi</th>\n",
       "      <th>is_ford</th>\n",
       "      <th>is_chevrolet</th>\n",
       "      <th>is_toyota</th>\n",
       "      <th>is_jeep</th>\n",
       "      <th>is_honda</th>\n",
       "      <th>is_nissan</th>\n",
       "    </tr>\n",
       "  </thead>\n",
       "  <tbody>\n",
       "    <tr>\n",
       "      <th>58</th>\n",
       "      <td>7308399412</td>\n",
       "      <td>https://slo.craigslist.org/ctd/d/grover-beach-...</td>\n",
       "      <td>san luis obispo</td>\n",
       "      <td>https://slo.craigslist.org</td>\n",
       "      <td>9995</td>\n",
       "      <td>2010</td>\n",
       "      <td>audi</td>\n",
       "      <td>q5</td>\n",
       "      <td>gas</td>\n",
       "      <td>165714</td>\n",
       "      <td>...</td>\n",
       "      <td>average</td>\n",
       "      <td>2</td>\n",
       "      <td>1</td>\n",
       "      <td>1</td>\n",
       "      <td>0</td>\n",
       "      <td>0</td>\n",
       "      <td>0</td>\n",
       "      <td>0</td>\n",
       "      <td>0</td>\n",
       "      <td>0</td>\n",
       "    </tr>\n",
       "    <tr>\n",
       "      <th>104</th>\n",
       "      <td>7311352618</td>\n",
       "      <td>https://baltimore.craigslist.org/ctd/d/cockeys...</td>\n",
       "      <td>baltimore</td>\n",
       "      <td>https://baltimore.craigslist.org</td>\n",
       "      <td>33499</td>\n",
       "      <td>2018</td>\n",
       "      <td>audi</td>\n",
       "      <td>q7</td>\n",
       "      <td>gas</td>\n",
       "      <td>46529</td>\n",
       "      <td>...</td>\n",
       "      <td>new</td>\n",
       "      <td>2</td>\n",
       "      <td>1</td>\n",
       "      <td>1</td>\n",
       "      <td>0</td>\n",
       "      <td>0</td>\n",
       "      <td>0</td>\n",
       "      <td>0</td>\n",
       "      <td>0</td>\n",
       "      <td>0</td>\n",
       "    </tr>\n",
       "    <tr>\n",
       "      <th>125</th>\n",
       "      <td>7306308183</td>\n",
       "      <td>https://montgomery.craigslist.org/ctd/d/montgo...</td>\n",
       "      <td>montgomery</td>\n",
       "      <td>https://montgomery.craigslist.org</td>\n",
       "      <td>29590</td>\n",
       "      <td>2018</td>\n",
       "      <td>audi</td>\n",
       "      <td>q5 premium sport utility 4d</td>\n",
       "      <td>gas</td>\n",
       "      <td>34476</td>\n",
       "      <td>...</td>\n",
       "      <td>new</td>\n",
       "      <td>27</td>\n",
       "      <td>5</td>\n",
       "      <td>1</td>\n",
       "      <td>0</td>\n",
       "      <td>0</td>\n",
       "      <td>0</td>\n",
       "      <td>0</td>\n",
       "      <td>0</td>\n",
       "      <td>0</td>\n",
       "    </tr>\n",
       "    <tr>\n",
       "      <th>195</th>\n",
       "      <td>7315205542</td>\n",
       "      <td>https://denver.craigslist.org/ctd/d/littleton-...</td>\n",
       "      <td>denver</td>\n",
       "      <td>https://denver.craigslist.org</td>\n",
       "      <td>15598</td>\n",
       "      <td>2013</td>\n",
       "      <td>audi</td>\n",
       "      <td>a6</td>\n",
       "      <td>gas</td>\n",
       "      <td>81640</td>\n",
       "      <td>...</td>\n",
       "      <td>average</td>\n",
       "      <td>2</td>\n",
       "      <td>1</td>\n",
       "      <td>1</td>\n",
       "      <td>0</td>\n",
       "      <td>0</td>\n",
       "      <td>0</td>\n",
       "      <td>0</td>\n",
       "      <td>0</td>\n",
       "      <td>0</td>\n",
       "    </tr>\n",
       "    <tr>\n",
       "      <th>251</th>\n",
       "      <td>7302069239</td>\n",
       "      <td>https://indianapolis.craigslist.org/ctd/d/indi...</td>\n",
       "      <td>indianapolis</td>\n",
       "      <td>https://indianapolis.craigslist.org</td>\n",
       "      <td>38990</td>\n",
       "      <td>2018</td>\n",
       "      <td>audi</td>\n",
       "      <td>s5 premium plus sedan 4d</td>\n",
       "      <td>gas</td>\n",
       "      <td>40118</td>\n",
       "      <td>...</td>\n",
       "      <td>new</td>\n",
       "      <td>24</td>\n",
       "      <td>5</td>\n",
       "      <td>1</td>\n",
       "      <td>0</td>\n",
       "      <td>0</td>\n",
       "      <td>0</td>\n",
       "      <td>0</td>\n",
       "      <td>0</td>\n",
       "      <td>0</td>\n",
       "    </tr>\n",
       "    <tr>\n",
       "      <th>...</th>\n",
       "      <td>...</td>\n",
       "      <td>...</td>\n",
       "      <td>...</td>\n",
       "      <td>...</td>\n",
       "      <td>...</td>\n",
       "      <td>...</td>\n",
       "      <td>...</td>\n",
       "      <td>...</td>\n",
       "      <td>...</td>\n",
       "      <td>...</td>\n",
       "      <td>...</td>\n",
       "      <td>...</td>\n",
       "      <td>...</td>\n",
       "      <td>...</td>\n",
       "      <td>...</td>\n",
       "      <td>...</td>\n",
       "      <td>...</td>\n",
       "      <td>...</td>\n",
       "      <td>...</td>\n",
       "      <td>...</td>\n",
       "      <td>...</td>\n",
       "    </tr>\n",
       "    <tr>\n",
       "      <th>9508</th>\n",
       "      <td>7313590324</td>\n",
       "      <td>https://reno.craigslist.org/cto/d/incline-vill...</td>\n",
       "      <td>reno / tahoe</td>\n",
       "      <td>https://reno.craigslist.org</td>\n",
       "      <td>28000</td>\n",
       "      <td>2014</td>\n",
       "      <td>audi</td>\n",
       "      <td>s6</td>\n",
       "      <td>gas</td>\n",
       "      <td>69000</td>\n",
       "      <td>...</td>\n",
       "      <td>new</td>\n",
       "      <td>2</td>\n",
       "      <td>1</td>\n",
       "      <td>1</td>\n",
       "      <td>0</td>\n",
       "      <td>0</td>\n",
       "      <td>0</td>\n",
       "      <td>0</td>\n",
       "      <td>0</td>\n",
       "      <td>0</td>\n",
       "    </tr>\n",
       "    <tr>\n",
       "      <th>9551</th>\n",
       "      <td>7316331812</td>\n",
       "      <td>https://indianapolis.craigslist.org/ctd/d/indi...</td>\n",
       "      <td>indianapolis</td>\n",
       "      <td>https://indianapolis.craigslist.org</td>\n",
       "      <td>10995</td>\n",
       "      <td>2011</td>\n",
       "      <td>audi</td>\n",
       "      <td>q7 premium plus</td>\n",
       "      <td>gas</td>\n",
       "      <td>140014</td>\n",
       "      <td>...</td>\n",
       "      <td>average</td>\n",
       "      <td>15</td>\n",
       "      <td>3</td>\n",
       "      <td>1</td>\n",
       "      <td>0</td>\n",
       "      <td>0</td>\n",
       "      <td>0</td>\n",
       "      <td>0</td>\n",
       "      <td>0</td>\n",
       "      <td>0</td>\n",
       "    </tr>\n",
       "    <tr>\n",
       "      <th>9559</th>\n",
       "      <td>7314775851</td>\n",
       "      <td>https://indianapolis.craigslist.org/cto/d/indi...</td>\n",
       "      <td>indianapolis</td>\n",
       "      <td>https://indianapolis.craigslist.org</td>\n",
       "      <td>13500</td>\n",
       "      <td>2012</td>\n",
       "      <td>audi</td>\n",
       "      <td>q5</td>\n",
       "      <td>gas</td>\n",
       "      <td>78000</td>\n",
       "      <td>...</td>\n",
       "      <td>average</td>\n",
       "      <td>2</td>\n",
       "      <td>1</td>\n",
       "      <td>1</td>\n",
       "      <td>0</td>\n",
       "      <td>0</td>\n",
       "      <td>0</td>\n",
       "      <td>0</td>\n",
       "      <td>0</td>\n",
       "      <td>0</td>\n",
       "    </tr>\n",
       "    <tr>\n",
       "      <th>9570</th>\n",
       "      <td>7316569161</td>\n",
       "      <td>https://chicago.craigslist.org/chc/cto/d/chica...</td>\n",
       "      <td>chicago</td>\n",
       "      <td>https://chicago.craigslist.org</td>\n",
       "      <td>8500</td>\n",
       "      <td>2009</td>\n",
       "      <td>audi</td>\n",
       "      <td>q7 3.6 premium quattro</td>\n",
       "      <td>gas</td>\n",
       "      <td>152000</td>\n",
       "      <td>...</td>\n",
       "      <td>average</td>\n",
       "      <td>22</td>\n",
       "      <td>4</td>\n",
       "      <td>1</td>\n",
       "      <td>0</td>\n",
       "      <td>0</td>\n",
       "      <td>0</td>\n",
       "      <td>0</td>\n",
       "      <td>0</td>\n",
       "      <td>0</td>\n",
       "    </tr>\n",
       "    <tr>\n",
       "      <th>9616</th>\n",
       "      <td>7310993818</td>\n",
       "      <td>https://salem.craigslist.org/ctd/d/salem-2011-...</td>\n",
       "      <td>salem</td>\n",
       "      <td>https://salem.craigslist.org</td>\n",
       "      <td>8995</td>\n",
       "      <td>2011</td>\n",
       "      <td>audi</td>\n",
       "      <td>a3 2.0t premium plus pzev</td>\n",
       "      <td>gas</td>\n",
       "      <td>150184</td>\n",
       "      <td>...</td>\n",
       "      <td>average</td>\n",
       "      <td>25</td>\n",
       "      <td>5</td>\n",
       "      <td>1</td>\n",
       "      <td>0</td>\n",
       "      <td>0</td>\n",
       "      <td>0</td>\n",
       "      <td>0</td>\n",
       "      <td>0</td>\n",
       "      <td>0</td>\n",
       "    </tr>\n",
       "  </tbody>\n",
       "</table>\n",
       "<p>193 rows × 38 columns</p>\n",
       "</div>\n",
       "      <button class=\"colab-df-convert\" onclick=\"convertToInteractive('df-efe10d80-64bf-4a80-83c9-eab79815a588')\"\n",
       "              title=\"Convert this dataframe to an interactive table.\"\n",
       "              style=\"display:none;\">\n",
       "        \n",
       "  <svg xmlns=\"http://www.w3.org/2000/svg\" height=\"24px\"viewBox=\"0 0 24 24\"\n",
       "       width=\"24px\">\n",
       "    <path d=\"M0 0h24v24H0V0z\" fill=\"none\"/>\n",
       "    <path d=\"M18.56 5.44l.94 2.06.94-2.06 2.06-.94-2.06-.94-.94-2.06-.94 2.06-2.06.94zm-11 1L8.5 8.5l.94-2.06 2.06-.94-2.06-.94L8.5 2.5l-.94 2.06-2.06.94zm10 10l.94 2.06.94-2.06 2.06-.94-2.06-.94-.94-2.06-.94 2.06-2.06.94z\"/><path d=\"M17.41 7.96l-1.37-1.37c-.4-.4-.92-.59-1.43-.59-.52 0-1.04.2-1.43.59L10.3 9.45l-7.72 7.72c-.78.78-.78 2.05 0 2.83L4 21.41c.39.39.9.59 1.41.59.51 0 1.02-.2 1.41-.59l7.78-7.78 2.81-2.81c.8-.78.8-2.07 0-2.86zM5.41 20L4 18.59l7.72-7.72 1.47 1.35L5.41 20z\"/>\n",
       "  </svg>\n",
       "      </button>\n",
       "      \n",
       "  <style>\n",
       "    .colab-df-container {\n",
       "      display:flex;\n",
       "      flex-wrap:wrap;\n",
       "      gap: 12px;\n",
       "    }\n",
       "\n",
       "    .colab-df-convert {\n",
       "      background-color: #E8F0FE;\n",
       "      border: none;\n",
       "      border-radius: 50%;\n",
       "      cursor: pointer;\n",
       "      display: none;\n",
       "      fill: #1967D2;\n",
       "      height: 32px;\n",
       "      padding: 0 0 0 0;\n",
       "      width: 32px;\n",
       "    }\n",
       "\n",
       "    .colab-df-convert:hover {\n",
       "      background-color: #E2EBFA;\n",
       "      box-shadow: 0px 1px 2px rgba(60, 64, 67, 0.3), 0px 1px 3px 1px rgba(60, 64, 67, 0.15);\n",
       "      fill: #174EA6;\n",
       "    }\n",
       "\n",
       "    [theme=dark] .colab-df-convert {\n",
       "      background-color: #3B4455;\n",
       "      fill: #D2E3FC;\n",
       "    }\n",
       "\n",
       "    [theme=dark] .colab-df-convert:hover {\n",
       "      background-color: #434B5C;\n",
       "      box-shadow: 0px 1px 3px 1px rgba(0, 0, 0, 0.15);\n",
       "      filter: drop-shadow(0px 1px 2px rgba(0, 0, 0, 0.3));\n",
       "      fill: #FFFFFF;\n",
       "    }\n",
       "  </style>\n",
       "\n",
       "      <script>\n",
       "        const buttonEl =\n",
       "          document.querySelector('#df-efe10d80-64bf-4a80-83c9-eab79815a588 button.colab-df-convert');\n",
       "        buttonEl.style.display =\n",
       "          google.colab.kernel.accessAllowed ? 'block' : 'none';\n",
       "\n",
       "        async function convertToInteractive(key) {\n",
       "          const element = document.querySelector('#df-efe10d80-64bf-4a80-83c9-eab79815a588');\n",
       "          const dataTable =\n",
       "            await google.colab.kernel.invokeFunction('convertToInteractive',\n",
       "                                                     [key], {});\n",
       "          if (!dataTable) return;\n",
       "\n",
       "          const docLinkHtml = 'Like what you see? Visit the ' +\n",
       "            '<a target=\"_blank\" href=https://colab.research.google.com/notebooks/data_table.ipynb>data table notebook</a>'\n",
       "            + ' to learn more about interactive tables.';\n",
       "          element.innerHTML = '';\n",
       "          dataTable['output_type'] = 'display_data';\n",
       "          await google.colab.output.renderOutput(dataTable, element);\n",
       "          const docLink = document.createElement('div');\n",
       "          docLink.innerHTML = docLinkHtml;\n",
       "          element.appendChild(docLink);\n",
       "        }\n",
       "      </script>\n",
       "    </div>\n",
       "  </div>\n",
       "  "
      ],
      "text/plain": [
       "              id                                                url  \\\n",
       "58    7308399412  https://slo.craigslist.org/ctd/d/grover-beach-...   \n",
       "104   7311352618  https://baltimore.craigslist.org/ctd/d/cockeys...   \n",
       "125   7306308183  https://montgomery.craigslist.org/ctd/d/montgo...   \n",
       "195   7315205542  https://denver.craigslist.org/ctd/d/littleton-...   \n",
       "251   7302069239  https://indianapolis.craigslist.org/ctd/d/indi...   \n",
       "...          ...                                                ...   \n",
       "9508  7313590324  https://reno.craigslist.org/cto/d/incline-vill...   \n",
       "9551  7316331812  https://indianapolis.craigslist.org/ctd/d/indi...   \n",
       "9559  7314775851  https://indianapolis.craigslist.org/cto/d/indi...   \n",
       "9570  7316569161  https://chicago.craigslist.org/chc/cto/d/chica...   \n",
       "9616  7310993818  https://salem.craigslist.org/ctd/d/salem-2011-...   \n",
       "\n",
       "               region                           region_url  price  year  \\\n",
       "58    san luis obispo           https://slo.craigslist.org   9995  2010   \n",
       "104         baltimore     https://baltimore.craigslist.org  33499  2018   \n",
       "125        montgomery    https://montgomery.craigslist.org  29590  2018   \n",
       "195            denver        https://denver.craigslist.org  15598  2013   \n",
       "251      indianapolis  https://indianapolis.craigslist.org  38990  2018   \n",
       "...               ...                                  ...    ...   ...   \n",
       "9508     reno / tahoe          https://reno.craigslist.org  28000  2014   \n",
       "9551     indianapolis  https://indianapolis.craigslist.org  10995  2011   \n",
       "9559     indianapolis  https://indianapolis.craigslist.org  13500  2012   \n",
       "9570          chicago       https://chicago.craigslist.org   8500  2009   \n",
       "9616            salem         https://salem.craigslist.org   8995  2011   \n",
       "\n",
       "     manufacturer                        model fuel  odometer  ...  \\\n",
       "58           audi                           q5  gas    165714  ...   \n",
       "104          audi                           q7  gas     46529  ...   \n",
       "125          audi  q5 premium sport utility 4d  gas     34476  ...   \n",
       "195          audi                           a6  gas     81640  ...   \n",
       "251          audi     s5 premium plus sedan 4d  gas     40118  ...   \n",
       "...           ...                          ...  ...       ...  ...   \n",
       "9508         audi                           s6  gas     69000  ...   \n",
       "9551         audi              q7 premium plus  gas    140014  ...   \n",
       "9559         audi                           q5  gas     78000  ...   \n",
       "9570         audi       q7 3.6 premium quattro  gas    152000  ...   \n",
       "9616         audi    a3 2.0t premium plus pzev  gas    150184  ...   \n",
       "\n",
       "     age_category model_len model_word_count is_audi is_ford  is_chevrolet  \\\n",
       "58        average         2                1       1       0             0   \n",
       "104           new         2                1       1       0             0   \n",
       "125           new        27                5       1       0             0   \n",
       "195       average         2                1       1       0             0   \n",
       "251           new        24                5       1       0             0   \n",
       "...           ...       ...              ...     ...     ...           ...   \n",
       "9508          new         2                1       1       0             0   \n",
       "9551      average        15                3       1       0             0   \n",
       "9559      average         2                1       1       0             0   \n",
       "9570      average        22                4       1       0             0   \n",
       "9616      average        25                5       1       0             0   \n",
       "\n",
       "      is_toyota is_jeep is_honda is_nissan  \n",
       "58            0       0        0         0  \n",
       "104           0       0        0         0  \n",
       "125           0       0        0         0  \n",
       "195           0       0        0         0  \n",
       "251           0       0        0         0  \n",
       "...         ...     ...      ...       ...  \n",
       "9508          0       0        0         0  \n",
       "9551          0       0        0         0  \n",
       "9559          0       0        0         0  \n",
       "9570          0       0        0         0  \n",
       "9616          0       0        0         0  \n",
       "\n",
       "[193 rows x 38 columns]"
      ]
     },
     "execution_count": 48,
     "metadata": {},
     "output_type": "execute_result"
    }
   ],
   "source": [
    "# 3\n",
    "\n",
    "df[df['is_audi'] == 1]"
   ]
  }
 ],
 "metadata": {
  "colab": {
   "collapsed_sections": [],
   "name": "20_2_Практика.ipynb",
   "provenance": []
  },
  "kernelspec": {
   "display_name": "Python 3 (ipykernel)",
   "language": "python",
   "name": "python3"
  },
  "language_info": {
   "codemirror_mode": {
    "name": "ipython",
    "version": 3
   },
   "file_extension": ".py",
   "mimetype": "text/x-python",
   "name": "python",
   "nbconvert_exporter": "python",
   "pygments_lexer": "ipython3",
   "version": "3.10.9"
  },
  "toc": {
   "base_numbering": 1,
   "nav_menu": {},
   "number_sections": true,
   "sideBar": true,
   "skip_h1_title": false,
   "title_cell": "Table of Contents",
   "title_sidebar": "Contents",
   "toc_cell": false,
   "toc_position": {},
   "toc_section_display": true,
   "toc_window_display": false
  }
 },
 "nbformat": 4,
 "nbformat_minor": 5
}
