{
 "cells": [
  {
   "cell_type": "code",
   "execution_count": 4,
   "id": "a75448bd",
   "metadata": {
    "pycharm": {
     "name": "#%%\n"
    }
   },
   "outputs": [],
   "source": [
    "import pandas as pd\n",
    "import matplotlib.pyplot as plt"
   ]
  },
  {
   "cell_type": "code",
   "execution_count": 5,
   "id": "804ad43a",
   "metadata": {
    "pycharm": {
     "name": "#%%\n"
    }
   },
   "outputs": [
    {
     "data": {
      "text/plain": "              id                                                url  \\\n0     7308295377  https://chattanooga.craigslist.org/ctd/d/chatt...   \n1     7316380095  https://newjersey.craigslist.org/ctd/d/carlsta...   \n2     7313733749  https://reno.craigslist.org/ctd/d/atlanta-2017...   \n3     7308210929  https://fayetteville.craigslist.org/ctd/d/rale...   \n4     7303797340  https://knoxville.craigslist.org/ctd/d/knoxvil...   \n...          ...                                                ...   \n9614  7304876387  https://chautauqua.craigslist.org/ctd/d/falcon...   \n9615  7316152972  https://binghamton.craigslist.org/ctd/d/roches...   \n9616  7310993818  https://salem.craigslist.org/ctd/d/salem-2011-...   \n9617  7306637427  https://madison.craigslist.org/ctd/d/madison-2...   \n9618  7311960763  https://norfolk.craigslist.org/ctd/d/chesapeak...   \n\n                       region                           region_url  price  \\\n0                 chattanooga   https://chattanooga.craigslist.org  54990   \n1                north jersey     https://newjersey.craigslist.org  16942   \n2                reno / tahoe          https://reno.craigslist.org  35590   \n3                fayetteville  https://fayetteville.craigslist.org  14500   \n4                   knoxville     https://knoxville.craigslist.org  14590   \n...                       ...                                  ...    ...   \n9614               chautauqua    https://chautauqua.craigslist.org   4495   \n9615               binghamton    https://binghamton.craigslist.org  14495   \n9616                    salem         https://salem.craigslist.org   8995   \n9617                  madison       https://madison.craigslist.org  31900   \n9618  norfolk / hampton roads       https://norfolk.craigslist.org  31990   \n\n      year manufacturer                      model    fuel  odometer  \\\n0     2020          ram     2500 crew cab big horn  diesel     27442   \n1     2016         ford       explorer 4wd 4dr xlt   other     60023   \n2     2017   volkswagen           golf r hatchback     gas     14048   \n3     2013       toyota                       rav4     gas    117291   \n4     2012          bmw     1 series 128i coupe 2d   other     80465   \n...    ...          ...                        ...     ...       ...   \n9614  2002       toyota                       rav4     gas    150000   \n9615  2008         jeep                   wrangler     gas    113573   \n9616  2011         audi  a3 2.0t premium plus pzev     gas    150184   \n9617  2015      porsche                    cayenne  hybrid     61943   \n9618  2017          ram     1500 crew cab big horn     gas     35921   \n\n     title_status transmission  \\\n0           clean        other   \n1           clean    automatic   \n2           clean        other   \n3           clean    automatic   \n4           clean        other   \n...           ...          ...   \n9614        clean    automatic   \n9615        clean        other   \n9616        clean    automatic   \n9617        clean    automatic   \n9618        clean        other   \n\n                                              image_url  \\\n0     https://images.craigslist.org/00N0N_1xMPvfxRAI...   \n1     https://images.craigslist.org/00x0x_26jl9F0cnL...   \n2     https://images.craigslist.org/00y0y_eeZjWeiSfb...   \n3     https://images.craigslist.org/00606_iGe5iXidib...   \n4     https://images.craigslist.org/00F0F_5UAXmOzC18...   \n...                                                 ...   \n9614  https://images.craigslist.org/00n0n_aaEBqmzz5Z...   \n9615  https://images.craigslist.org/00000_9ZNVdXaiei...   \n9616  https://images.craigslist.org/00X0X_k5JiZDDyqM...   \n9617  https://images.craigslist.org/00O0O_gBihGEQxYT...   \n9618  https://images.craigslist.org/00c0c_4rTlvLXy36...   \n\n                                            description state        lat  \\\n0     Carvana is the safer way to buy a car During t...    tn  35.060000   \n1     ***Call Us for more information at: 201-635-14...    nj  40.821805   \n2     Carvana is the safer way to buy a car During t...    ca  33.779214   \n3     2013 Toyota RAV4 XLE 4dr SUV     Offered by: R...    nc  35.715954   \n4     Carvana is the safer way to buy a car During t...    tn  35.970000   \n...                                                 ...   ...        ...   \n9614  Transmission:Automatic Exterior Color:WHITE In...    ny  42.123900   \n9615  2008 Jeep Wrangler X  Offered by: R&L Auto -- ...    ny  43.216990   \n9616  2011 Audi A3 2.0T Premium Plus PZEV Wagon2011 ...    or  44.925908   \n9617  2015 Porsche Cayenne AWD 4dr S E-Hybrid - $31,...    wi  43.029559   \n9618  Carvana is the safer way to buy a car During t...    va  36.670000   \n\n            long              posting_date price_category  \\\n0     -85.250000  2021-04-17T12:30:50-0400           high   \n1     -74.061962  2021-05-03T15:40:21-0400         medium   \n2     -84.411811  2021-04-28T03:52:20-0700           high   \n3     -78.655304  2021-04-17T10:08:57-0400         medium   \n4     -83.940000  2021-04-08T15:10:56-0400         medium   \n...          ...                       ...            ...   \n9614  -79.189500  2021-04-10T16:33:57-0400            low   \n9615  -77.755610  2021-05-03T09:36:30-0400         medium   \n9616 -122.982753  2021-04-22T12:14:01-0700            low   \n9617  -89.397796  2021-04-14T09:14:42-0500           high   \n9618  -76.300000  2021-04-24T13:50:49-0400           high   \n\n                           date  \n0     2021-04-17 16:30:50+00:00  \n1     2021-05-03 19:40:21+00:00  \n2     2021-04-28 10:52:20+00:00  \n3     2021-04-17 14:08:57+00:00  \n4     2021-04-08 19:10:56+00:00  \n...                         ...  \n9614  2021-04-10 20:33:57+00:00  \n9615  2021-05-03 13:36:30+00:00  \n9616  2021-04-22 19:14:01+00:00  \n9617  2021-04-14 14:14:42+00:00  \n9618  2021-04-24 17:50:49+00:00  \n\n[9619 rows x 20 columns]",
      "text/html": "<div>\n<style scoped>\n    .dataframe tbody tr th:only-of-type {\n        vertical-align: middle;\n    }\n\n    .dataframe tbody tr th {\n        vertical-align: top;\n    }\n\n    .dataframe thead th {\n        text-align: right;\n    }\n</style>\n<table border=\"1\" class=\"dataframe\">\n  <thead>\n    <tr style=\"text-align: right;\">\n      <th></th>\n      <th>id</th>\n      <th>url</th>\n      <th>region</th>\n      <th>region_url</th>\n      <th>price</th>\n      <th>year</th>\n      <th>manufacturer</th>\n      <th>model</th>\n      <th>fuel</th>\n      <th>odometer</th>\n      <th>title_status</th>\n      <th>transmission</th>\n      <th>image_url</th>\n      <th>description</th>\n      <th>state</th>\n      <th>lat</th>\n      <th>long</th>\n      <th>posting_date</th>\n      <th>price_category</th>\n      <th>date</th>\n    </tr>\n  </thead>\n  <tbody>\n    <tr>\n      <th>0</th>\n      <td>7308295377</td>\n      <td>https://chattanooga.craigslist.org/ctd/d/chatt...</td>\n      <td>chattanooga</td>\n      <td>https://chattanooga.craigslist.org</td>\n      <td>54990</td>\n      <td>2020</td>\n      <td>ram</td>\n      <td>2500 crew cab big horn</td>\n      <td>diesel</td>\n      <td>27442</td>\n      <td>clean</td>\n      <td>other</td>\n      <td>https://images.craigslist.org/00N0N_1xMPvfxRAI...</td>\n      <td>Carvana is the safer way to buy a car During t...</td>\n      <td>tn</td>\n      <td>35.060000</td>\n      <td>-85.250000</td>\n      <td>2021-04-17T12:30:50-0400</td>\n      <td>high</td>\n      <td>2021-04-17 16:30:50+00:00</td>\n    </tr>\n    <tr>\n      <th>1</th>\n      <td>7316380095</td>\n      <td>https://newjersey.craigslist.org/ctd/d/carlsta...</td>\n      <td>north jersey</td>\n      <td>https://newjersey.craigslist.org</td>\n      <td>16942</td>\n      <td>2016</td>\n      <td>ford</td>\n      <td>explorer 4wd 4dr xlt</td>\n      <td>other</td>\n      <td>60023</td>\n      <td>clean</td>\n      <td>automatic</td>\n      <td>https://images.craigslist.org/00x0x_26jl9F0cnL...</td>\n      <td>***Call Us for more information at: 201-635-14...</td>\n      <td>nj</td>\n      <td>40.821805</td>\n      <td>-74.061962</td>\n      <td>2021-05-03T15:40:21-0400</td>\n      <td>medium</td>\n      <td>2021-05-03 19:40:21+00:00</td>\n    </tr>\n    <tr>\n      <th>2</th>\n      <td>7313733749</td>\n      <td>https://reno.craigslist.org/ctd/d/atlanta-2017...</td>\n      <td>reno / tahoe</td>\n      <td>https://reno.craigslist.org</td>\n      <td>35590</td>\n      <td>2017</td>\n      <td>volkswagen</td>\n      <td>golf r hatchback</td>\n      <td>gas</td>\n      <td>14048</td>\n      <td>clean</td>\n      <td>other</td>\n      <td>https://images.craigslist.org/00y0y_eeZjWeiSfb...</td>\n      <td>Carvana is the safer way to buy a car During t...</td>\n      <td>ca</td>\n      <td>33.779214</td>\n      <td>-84.411811</td>\n      <td>2021-04-28T03:52:20-0700</td>\n      <td>high</td>\n      <td>2021-04-28 10:52:20+00:00</td>\n    </tr>\n    <tr>\n      <th>3</th>\n      <td>7308210929</td>\n      <td>https://fayetteville.craigslist.org/ctd/d/rale...</td>\n      <td>fayetteville</td>\n      <td>https://fayetteville.craigslist.org</td>\n      <td>14500</td>\n      <td>2013</td>\n      <td>toyota</td>\n      <td>rav4</td>\n      <td>gas</td>\n      <td>117291</td>\n      <td>clean</td>\n      <td>automatic</td>\n      <td>https://images.craigslist.org/00606_iGe5iXidib...</td>\n      <td>2013 Toyota RAV4 XLE 4dr SUV     Offered by: R...</td>\n      <td>nc</td>\n      <td>35.715954</td>\n      <td>-78.655304</td>\n      <td>2021-04-17T10:08:57-0400</td>\n      <td>medium</td>\n      <td>2021-04-17 14:08:57+00:00</td>\n    </tr>\n    <tr>\n      <th>4</th>\n      <td>7303797340</td>\n      <td>https://knoxville.craigslist.org/ctd/d/knoxvil...</td>\n      <td>knoxville</td>\n      <td>https://knoxville.craigslist.org</td>\n      <td>14590</td>\n      <td>2012</td>\n      <td>bmw</td>\n      <td>1 series 128i coupe 2d</td>\n      <td>other</td>\n      <td>80465</td>\n      <td>clean</td>\n      <td>other</td>\n      <td>https://images.craigslist.org/00F0F_5UAXmOzC18...</td>\n      <td>Carvana is the safer way to buy a car During t...</td>\n      <td>tn</td>\n      <td>35.970000</td>\n      <td>-83.940000</td>\n      <td>2021-04-08T15:10:56-0400</td>\n      <td>medium</td>\n      <td>2021-04-08 19:10:56+00:00</td>\n    </tr>\n    <tr>\n      <th>...</th>\n      <td>...</td>\n      <td>...</td>\n      <td>...</td>\n      <td>...</td>\n      <td>...</td>\n      <td>...</td>\n      <td>...</td>\n      <td>...</td>\n      <td>...</td>\n      <td>...</td>\n      <td>...</td>\n      <td>...</td>\n      <td>...</td>\n      <td>...</td>\n      <td>...</td>\n      <td>...</td>\n      <td>...</td>\n      <td>...</td>\n      <td>...</td>\n      <td>...</td>\n    </tr>\n    <tr>\n      <th>9614</th>\n      <td>7304876387</td>\n      <td>https://chautauqua.craigslist.org/ctd/d/falcon...</td>\n      <td>chautauqua</td>\n      <td>https://chautauqua.craigslist.org</td>\n      <td>4495</td>\n      <td>2002</td>\n      <td>toyota</td>\n      <td>rav4</td>\n      <td>gas</td>\n      <td>150000</td>\n      <td>clean</td>\n      <td>automatic</td>\n      <td>https://images.craigslist.org/00n0n_aaEBqmzz5Z...</td>\n      <td>Transmission:Automatic Exterior Color:WHITE In...</td>\n      <td>ny</td>\n      <td>42.123900</td>\n      <td>-79.189500</td>\n      <td>2021-04-10T16:33:57-0400</td>\n      <td>low</td>\n      <td>2021-04-10 20:33:57+00:00</td>\n    </tr>\n    <tr>\n      <th>9615</th>\n      <td>7316152972</td>\n      <td>https://binghamton.craigslist.org/ctd/d/roches...</td>\n      <td>binghamton</td>\n      <td>https://binghamton.craigslist.org</td>\n      <td>14495</td>\n      <td>2008</td>\n      <td>jeep</td>\n      <td>wrangler</td>\n      <td>gas</td>\n      <td>113573</td>\n      <td>clean</td>\n      <td>other</td>\n      <td>https://images.craigslist.org/00000_9ZNVdXaiei...</td>\n      <td>2008 Jeep Wrangler X  Offered by: R&amp;L Auto -- ...</td>\n      <td>ny</td>\n      <td>43.216990</td>\n      <td>-77.755610</td>\n      <td>2021-05-03T09:36:30-0400</td>\n      <td>medium</td>\n      <td>2021-05-03 13:36:30+00:00</td>\n    </tr>\n    <tr>\n      <th>9616</th>\n      <td>7310993818</td>\n      <td>https://salem.craigslist.org/ctd/d/salem-2011-...</td>\n      <td>salem</td>\n      <td>https://salem.craigslist.org</td>\n      <td>8995</td>\n      <td>2011</td>\n      <td>audi</td>\n      <td>a3 2.0t premium plus pzev</td>\n      <td>gas</td>\n      <td>150184</td>\n      <td>clean</td>\n      <td>automatic</td>\n      <td>https://images.craigslist.org/00X0X_k5JiZDDyqM...</td>\n      <td>2011 Audi A3 2.0T Premium Plus PZEV Wagon2011 ...</td>\n      <td>or</td>\n      <td>44.925908</td>\n      <td>-122.982753</td>\n      <td>2021-04-22T12:14:01-0700</td>\n      <td>low</td>\n      <td>2021-04-22 19:14:01+00:00</td>\n    </tr>\n    <tr>\n      <th>9617</th>\n      <td>7306637427</td>\n      <td>https://madison.craigslist.org/ctd/d/madison-2...</td>\n      <td>madison</td>\n      <td>https://madison.craigslist.org</td>\n      <td>31900</td>\n      <td>2015</td>\n      <td>porsche</td>\n      <td>cayenne</td>\n      <td>hybrid</td>\n      <td>61943</td>\n      <td>clean</td>\n      <td>automatic</td>\n      <td>https://images.craigslist.org/00O0O_gBihGEQxYT...</td>\n      <td>2015 Porsche Cayenne AWD 4dr S E-Hybrid - $31,...</td>\n      <td>wi</td>\n      <td>43.029559</td>\n      <td>-89.397796</td>\n      <td>2021-04-14T09:14:42-0500</td>\n      <td>high</td>\n      <td>2021-04-14 14:14:42+00:00</td>\n    </tr>\n    <tr>\n      <th>9618</th>\n      <td>7311960763</td>\n      <td>https://norfolk.craigslist.org/ctd/d/chesapeak...</td>\n      <td>norfolk / hampton roads</td>\n      <td>https://norfolk.craigslist.org</td>\n      <td>31990</td>\n      <td>2017</td>\n      <td>ram</td>\n      <td>1500 crew cab big horn</td>\n      <td>gas</td>\n      <td>35921</td>\n      <td>clean</td>\n      <td>other</td>\n      <td>https://images.craigslist.org/00c0c_4rTlvLXy36...</td>\n      <td>Carvana is the safer way to buy a car During t...</td>\n      <td>va</td>\n      <td>36.670000</td>\n      <td>-76.300000</td>\n      <td>2021-04-24T13:50:49-0400</td>\n      <td>high</td>\n      <td>2021-04-24 17:50:49+00:00</td>\n    </tr>\n  </tbody>\n</table>\n<p>9619 rows × 20 columns</p>\n</div>"
     },
     "execution_count": 5,
     "metadata": {},
     "output_type": "execute_result"
    }
   ],
   "source": [
    "df = pd.read_csv('data/vehicles_dataset_upd2 (2).csv')\n",
    "df"
   ]
  },
  {
   "cell_type": "code",
   "execution_count": 6,
   "id": "91e6d0d7",
   "metadata": {
    "pycharm": {
     "name": "#%%\n"
    }
   },
   "outputs": [
    {
     "data": {
      "text/plain": "count      9619.000000\nmean      95166.428943\nstd       62746.525381\nmin           0.000000\n25%       40784.000000\n50%       91000.000000\n75%      138594.500000\nmax      283995.000000\nName: odometer, dtype: float64"
     },
     "execution_count": 6,
     "metadata": {},
     "output_type": "execute_result"
    }
   ],
   "source": [
    "df.odometer.describe()"
   ]
  },
  {
   "cell_type": "code",
   "execution_count": 8,
   "id": "3d747d65",
   "metadata": {
    "pycharm": {
     "name": "#%%\n"
    }
   },
   "outputs": [
    {
     "data": {
      "text/plain": "count      9619.00\nmean      95166.43\nstd       62746.53\nmin           0.00\n25%       40784.00\n50%       91000.00\n75%      138594.50\nmax      283995.00\nName: odometer, dtype: object"
     },
     "execution_count": 8,
     "metadata": {},
     "output_type": "execute_result"
    }
   ],
   "source": [
    "df.odometer.describe().apply(lambda x: f\"{x:0.2f}\")"
   ]
  },
  {
   "cell_type": "code",
   "execution_count": 9,
   "id": "b96927bc",
   "metadata": {
    "pycharm": {
     "name": "#%%\n"
    }
   },
   "outputs": [
    {
     "data": {
      "text/plain": "0         753063364\n1        3602760529\n2         197346304\n3       13757178681\n4        6474616225\n           ...     \n9614    22500000000\n9615    12898826329\n9616    22555233856\n9617     3836935249\n9618     1290318241\nLength: 9619, dtype: int64"
     },
     "execution_count": 9,
     "metadata": {},
     "output_type": "execute_result"
    }
   ],
   "source": [
    "df.apply(lambda x: x.odometer **2, axis=1)"
   ]
  },
  {
   "cell_type": "code",
   "execution_count": 10,
   "id": "4a7c1584",
   "metadata": {
    "pycharm": {
     "name": "#%%\n"
    }
   },
   "outputs": [
    {
     "data": {
      "text/plain": "0         753063364\n1                 0\n2         197346304\n3                 0\n4                 0\n           ...     \n9614    22500000000\n9615              0\n9616    22555233856\n9617              0\n9618              0\nLength: 9619, dtype: int64"
     },
     "execution_count": 10,
     "metadata": {},
     "output_type": "execute_result"
    }
   ],
   "source": [
    "df.apply(lambda x: x.odometer **2 if x.odometer % 2 == 0 else 0, axis=1)"
   ]
  },
  {
   "cell_type": "code",
   "execution_count": 11,
   "id": "4881aeab",
   "metadata": {
    "pycharm": {
     "name": "#%%\n"
    }
   },
   "outputs": [],
   "source": [
    "df['odometer_km'] = df.apply(lambda x: x.odometer * 1.609344, axis=1)"
   ]
  },
  {
   "cell_type": "code",
   "execution_count": 12,
   "id": "3a908aaf",
   "metadata": {
    "pycharm": {
     "name": "#%%\n"
    }
   },
   "outputs": [
    {
     "data": {
      "text/plain": "0        44163.618048\n1        96597.654912\n2        22608.064512\n3       188761.567104\n4       129495.864960\n            ...      \n9614    241401.600000\n9615    182778.026112\n9616    241697.719296\n9617     99687.595392\n9618     57809.245824\nName: odometer_km, Length: 9619, dtype: float64"
     },
     "execution_count": 12,
     "metadata": {},
     "output_type": "execute_result"
    }
   ],
   "source": [
    "df['odometer_km']"
   ]
  },
  {
   "cell_type": "code",
   "execution_count": 14,
   "id": "3b01612d",
   "metadata": {
    "pycharm": {
     "name": "#%%\n"
    }
   },
   "outputs": [
    {
     "name": "stdout",
     "output_type": "stream",
     "text": [
      "1.0\n"
     ]
    }
   ],
   "source": [
    "print(df['odometer_km'].corr(df['odometer']))"
   ]
  },
  {
   "cell_type": "code",
   "execution_count": 15,
   "id": "3c1037ef",
   "metadata": {
    "pycharm": {
     "name": "#%%\n"
    }
   },
   "outputs": [],
   "source": [
    "df['odometer/price'] = df.apply(lambda x: x.odometer / x.price, axis=1)"
   ]
  },
  {
   "cell_type": "code",
   "execution_count": 16,
   "id": "fe3d7f60",
   "metadata": {
    "pycharm": {
     "name": "#%%\n"
    }
   },
   "outputs": [
    {
     "data": {
      "text/plain": "0        0.499036\n1        3.542852\n2        0.394718\n3        8.089034\n4        5.515079\n          ...    \n9614    33.370412\n9615     7.835323\n9616    16.696387\n9617     1.941787\n9618     1.122882\nName: odometer/price, Length: 9619, dtype: float64"
     },
     "execution_count": 16,
     "metadata": {},
     "output_type": "execute_result"
    }
   ],
   "source": [
    "df['odometer/price']"
   ]
  },
  {
   "cell_type": "code",
   "execution_count": 17,
   "id": "9a144161",
   "metadata": {
    "pycharm": {
     "name": "#%%\n"
    }
   },
   "outputs": [
    {
     "name": "stdout",
     "output_type": "stream",
     "text": [
      "0.5183457884864098\n"
     ]
    }
   ],
   "source": [
    "print(df['odometer/price'].corr(df['odometer']))"
   ]
  },
  {
   "cell_type": "code",
   "execution_count": 18,
   "id": "769881cc",
   "metadata": {
    "pycharm": {
     "name": "#%%\n"
    }
   },
   "outputs": [
    {
     "name": "stdout",
     "output_type": "stream",
     "text": [
      "-0.49196087424528706\n"
     ]
    }
   ],
   "source": [
    "print(df['odometer/price'].corr(df['price']))"
   ]
  },
  {
   "cell_type": "code",
   "execution_count": 19,
   "id": "e78223ec",
   "metadata": {
    "pycharm": {
     "name": "#%%\n"
    }
   },
   "outputs": [],
   "source": [
    "df.to_csv('data/vehicles_dataset_upd3.csv', index=False)"
   ]
  },
  {
   "cell_type": "code",
   "execution_count": null,
   "id": "d11bd9f3",
   "metadata": {
    "pycharm": {
     "name": "#%%\n"
    }
   },
   "outputs": [],
   "source": []
  }
 ],
 "metadata": {
  "kernelspec": {
   "display_name": "Python 3 (ipykernel)",
   "language": "python",
   "name": "python3"
  },
  "language_info": {
   "codemirror_mode": {
    "name": "ipython",
    "version": 3
   },
   "file_extension": ".py",
   "mimetype": "text/x-python",
   "name": "python",
   "nbconvert_exporter": "python",
   "pygments_lexer": "ipython3",
   "version": "3.10.9"
  }
 },
 "nbformat": 4,
 "nbformat_minor": 5
}