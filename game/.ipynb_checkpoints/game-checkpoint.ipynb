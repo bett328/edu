{
 "cells": [
  {
   "cell_type": "code",
   "execution_count": 1,
   "id": "46583fb7",
   "metadata": {},
   "outputs": [
    {
     "name": "stdout",
     "output_type": "stream",
     "text": [
      "pygame 2.5.1 (SDL 2.28.2, Python 3.10.9)\n",
      "Hello from the pygame community. https://www.pygame.org/contribute.html\n"
     ]
    }
   ],
   "source": [
    "import pygame\n",
    "import random"
   ]
  },
  {
   "cell_type": "code",
   "execution_count": 2,
   "id": "f6ec323a",
   "metadata": {},
   "outputs": [
    {
     "name": "stdout",
     "output_type": "stream",
     "text": [
      "Персонаж Приведение выбран\n",
      "Персонаж Приведение выбран\n",
      "Персонаж Приведение выбран\n",
      "Персонаж Приведение выбран\n"
     ]
    },
    {
     "ename": "error",
     "evalue": "display Surface quit",
     "output_type": "error",
     "traceback": [
      "\u001b[1;31m---------------------------------------------------------------------------\u001b[0m",
      "\u001b[1;31merror\u001b[0m                                     Traceback (most recent call last)",
      "Cell \u001b[1;32mIn[2], line 61\u001b[0m\n\u001b[0;32m     58\u001b[0m         \u001b[38;5;28;01mif\u001b[39;00m \u001b[38;5;241m315\u001b[39m \u001b[38;5;241m<\u001b[39m\u001b[38;5;241m=\u001b[39m x \u001b[38;5;241m<\u001b[39m\u001b[38;5;241m=\u001b[39m \u001b[38;5;241m415\u001b[39m \u001b[38;5;129;01mand\u001b[39;00m \u001b[38;5;241m680\u001b[39m \u001b[38;5;241m<\u001b[39m\u001b[38;5;241m=\u001b[39m y \u001b[38;5;241m<\u001b[39m\u001b[38;5;241m=\u001b[39m \u001b[38;5;241m700\u001b[39m:  \u001b[38;5;66;03m# Кнопка \"Выбрать\"\u001b[39;00m\n\u001b[0;32m     59\u001b[0m             \u001b[38;5;28mprint\u001b[39m(\u001b[38;5;124mf\u001b[39m\u001b[38;5;124m\"\u001b[39m\u001b[38;5;124mПерсонаж \u001b[39m\u001b[38;5;132;01m{\u001b[39;00mcurrent_char\u001b[38;5;132;01m}\u001b[39;00m\u001b[38;5;124m выбран\u001b[39m\u001b[38;5;124m\"\u001b[39m)\n\u001b[1;32m---> 61\u001b[0m \u001b[43mscreen\u001b[49m\u001b[38;5;241;43m.\u001b[39;49m\u001b[43mfill\u001b[49m\u001b[43m(\u001b[49m\u001b[43m(\u001b[49m\u001b[38;5;241;43m0\u001b[39;49m\u001b[43m,\u001b[49m\u001b[43m \u001b[49m\u001b[38;5;241;43m0\u001b[39;49m\u001b[43m,\u001b[49m\u001b[43m \u001b[49m\u001b[38;5;241;43m0\u001b[39;49m\u001b[43m)\u001b[49m\u001b[43m)\u001b[49m\n\u001b[0;32m     63\u001b[0m current_char \u001b[38;5;241m=\u001b[39m char_names[current_char_index]\n\u001b[0;32m     64\u001b[0m screen\u001b[38;5;241m.\u001b[39mblit(characters[current_char][\u001b[38;5;124m'\u001b[39m\u001b[38;5;124mimage\u001b[39m\u001b[38;5;124m'\u001b[39m], (\u001b[38;5;241m250\u001b[39m, \u001b[38;5;241m200\u001b[39m))\n",
      "\u001b[1;31merror\u001b[0m: display Surface quit"
     ]
    }
   ],
   "source": [
    "# Инициализация\n",
    "pygame.init()\n",
    "clock = pygame.time.Clock()\n",
    "\n",
    "# Параметры экрана\n",
    "width, height = 1200, 1000\n",
    "screen = pygame.display.set_mode((width, height))\n",
    "pygame.display.set_caption(\"Выбери своего героя\")\n",
    "\n",
    "image_size = (285, 460)\n",
    "\n",
    "# Загрузка и масштабирование картинок\n",
    "vampire_img = pygame.image.load(\"vampire.png\")\n",
    "vampire_img = pygame.transform.scale(vampire_img, image_size)\n",
    "\n",
    "zombie_img = pygame.image.load(\"zombie.png\")\n",
    "zombie_img = pygame.transform.scale(zombie_img, image_size)\n",
    "\n",
    "ghost_img = pygame.image.load(\"ghost.png\")\n",
    "ghost_img = pygame.transform.scale(ghost_img, image_size)\n",
    "\n",
    "witch_img = pygame.image.load(\"witch.png\")\n",
    "witch_img = pygame.transform.scale(witch_img, image_size)\n",
    "\n",
    "# Словарь с персонажами\n",
    "characters = {\n",
    "    \"Вампир\": {\"health\": 100, \"attacks\": [\"Укус\", \"Когти\", \"Телепатия\"], \"description\": \"Любит соки. Особенно кровавые.\", \"image\": vampire_img},\n",
    "    \"Зомби\": {\"health\": 80, \"attacks\": [\"Удар\", \"Кусь\", \"Бросок\"], \"description\": \"Не очень хорош в загадках. Зато неплохо жуёт.\", \"image\": zombie_img},\n",
    "    \"Приведение\": {\"health\": 60, \"attacks\": [\"Страх\", \"Проникновение\", \"Вопль\"], \"description\": \"Вечный интроверт. Предпочитает прозрачные отношения.\", \"image\": ghost_img},\n",
    "    \"Ведьма\": {\"health\": 100, \"attacks\": [\"Заклинание\", \"Метательные звезды\", \"Щит\"], \"description\": \"Любит черную магию и черный кофе.\", \"image\": witch_img}\n",
    "}\n",
    "\n",
    "# Загрузка картинок (замените на реальные файлы)\n",
    "\n",
    "font = pygame.font.Font(None, 36)\n",
    "\n",
    "player = None\n",
    "\n",
    "selected_char = list(characters.keys())[0]  # Первый персонаж по умолчанию\n",
    "\n",
    "char_names = list(characters.keys())\n",
    "current_char_index = 0\n",
    "\n",
    "# Новый шрифт для описания, курсив и меньший размер\n",
    "desc_font = pygame.font.Font(None, 24)\n",
    "desc_font.set_italic(True)\n",
    "# Экран выбора персонажа\n",
    "while True:\n",
    "    for event in pygame.event.get():\n",
    "        if event.type == pygame.QUIT:\n",
    "            pygame.quit()\n",
    "            exit(0)\n",
    "\n",
    "        if event.type == pygame.MOUSEBUTTONDOWN:\n",
    "            x, y = event.pos\n",
    "            if 515 <= x <= 615 and 680 <= y <= 700:  # Кнопка \"Дальше\"\n",
    "                current_char_index = (current_char_index + 1) % len(char_names)\n",
    "            if 315 <= x <= 415 and 680 <= y <= 700:  # Кнопка \"Выбрать\"\n",
    "                print(f\"Персонаж {current_char} выбран\")\n",
    "\n",
    "    screen.fill((0, 0, 0))\n",
    "\n",
    "    current_char = char_names[current_char_index]\n",
    "    screen.blit(characters[current_char]['image'], (250, 200))\n",
    "\n",
    "    # Информация о персонаже\n",
    "    char_info = characters[current_char]\n",
    "    info_text = [\n",
    "        f\"Имя: {current_char}\",\n",
    "        f\"Здоровье: {char_info['health']}\",\n",
    "        \"Атаки:\"\n",
    "    ] + char_info['attacks']\n",
    "\n",
    "    y = 150\n",
    "    for line in info_text:\n",
    "        text_surface = font.render(line, True, (255, 255, 255))\n",
    "        screen.blit(text_surface, (600, y))\n",
    "        y += 30\n",
    "    char_desc = {\n",
    "        \"Вампир\": \"Не всё так однозначно...\\nИскусный химик\",\n",
    "        \"Зомби\": \"Не выглядеть умным...\\nИнстинкты сражения\",\n",
    "        \"Приведение\": \"Мастер психологической войны...\\nДействует быстро\",\n",
    "        \"Ведьма\": \"Мастер на все руки...\\nАдаптируется к ситуации\"\n",
    "    }\n",
    "    desc_surface = desc_font.render(char_desc[current_char], True, (255, 255, 255))\n",
    "    screen.blit(desc_surface, (600, y + 10))\n",
    "\n",
    "    # Кнопка \"Дальше\"\n",
    "    text_surface = font.render(\"Дальше\", True, (255, 0, 0))\n",
    "    screen.blit(text_surface, (515, 680))\n",
    "\n",
    "    # Кнопка \"Выбрать\"\n",
    "    select_text_surface = font.render(\"Выбрать\", True, (0, 255, 0))\n",
    "    screen.blit(select_text_surface, (315, 680))\n",
    "\n",
    "    pygame.display.update()\n",
    "    clock.tick(30)"
   ]
  }
 ],
 "metadata": {
  "kernelspec": {
   "display_name": "Python 3 (ipykernel)",
   "language": "python",
   "name": "python3"
  },
  "language_info": {
   "codemirror_mode": {
    "name": "ipython",
    "version": 3
   },
   "file_extension": ".py",
   "mimetype": "text/x-python",
   "name": "python",
   "nbconvert_exporter": "python",
   "pygments_lexer": "ipython3",
   "version": "3.10.9"
  }
 },
 "nbformat": 4,
 "nbformat_minor": 5
}
