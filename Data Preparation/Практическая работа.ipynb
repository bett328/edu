{
 "cells": [
  {
   "cell_type": "markdown",
   "id": "d155b010",
   "metadata": {
    "id": "d155b010",
    "pycharm": {
     "name": "#%% md\n"
    }
   },
   "source": [
    "# Data Preparation. Практическая работа"
   ]
  },
  {
   "cell_type": "markdown",
   "id": "d30db0d4",
   "metadata": {
    "id": "d30db0d4",
    "pycharm": {
     "name": "#%% md\n"
    }
   },
   "source": [
    "## Цели практической работы\n",
    "1. Потренироваться определять типы переменных в датасете, целевую переменную из постановки задачи, распределение переменных.\n",
    "2. Познакомиться с задачей, предстоящей на этапе моделирования.\n",
    "3. Начать исследовать данные для этапа моделирования.\n",
    "\n"
   ]
  },
  {
   "cell_type": "markdown",
   "id": "306ac2de",
   "metadata": {
    "id": "306ac2de",
    "pycharm": {
     "name": "#%% md\n"
    }
   },
   "source": [
    "## Что входит в практическую работу\n",
    "1. Загрузить датасет и ознакомиться с ним.\n",
    "2. Исследовать переменные датасета.\n",
    "3. Определить типы переменных в датасете.\n",
    "4. Определить целевую переменную в данных и распределение переменных.\n",
    "\n",
    "\n"
   ]
  },
  {
   "cell_type": "markdown",
   "id": "9994d02b",
   "metadata": {
    "id": "9994d02b",
    "pycharm": {
     "name": "#%% md\n"
    }
   },
   "source": [
    "## Что оценивается\n",
    "- Программа выдаёт верный ответ на заданном наборе данных.\n",
    "- Описаны причины выбранного решения, если требуется.\n",
    "- Код читабелен: переменным даны осмысленные названия, отступы и правила расстановки пробелов соблюдены.\n",
    "- Репозиторий проекта содержит осмысленные коммиты, содержащие конкретные реализованные фичи, ветки названы согласно назначению, лишние файлы не хранятся в репозитории.\n",
    "- В репозитории проекта соблюдена иерархия директорий согласно списку модулей и содержащихся в них уроках.\n",
    "- Репозиторий проекта содержит файлы с данными, полученными в результате выполнения практической работы.\n"
   ]
  },
  {
   "cell_type": "markdown",
   "id": "1aec0d81",
   "metadata": {
    "id": "1aec0d81",
    "pycharm": {
     "name": "#%% md\n"
    }
   },
   "source": [
    "## Как отправить работу на проверку\n",
    "Сдайте практическую работу этого модуля через систему контроля версий Git сервиса Skillbox GitLab. После загрузки работы на проверку напишите об этом в личном кабинете своему проверяющему преподавателю.\n"
   ]
  },
  {
   "cell_type": "markdown",
   "id": "7bf82afb",
   "metadata": {
    "ExecuteTime": {
     "end_time": "2022-01-11T22:44:08.573461Z",
     "start_time": "2022-01-11T22:44:08.527557Z"
    },
    "id": "7bf82afb",
    "pycharm": {
     "name": "#%% md\n"
    }
   },
   "source": [
    "## Задача\n",
    "\n",
    "Начиная с этого урока вы начнёте исследовать и готовить данные для этапа моделирования.\n",
    "\n",
    "Вам предстоит работать с небольшой выборкой из коллекции подержанных автомобилей, выставленных на продажу в Соединённых Штатах, представленной в файле `data/vehicles_dataset.csv`. На этих данных вы построите первую модель классификации, определяющую категорию цены подержанного автомобиля в зависимости от характеристик транспортного средства.\n",
    "В этой практической работе вы загрузите датасет и начнёте его исследование.\n",
    "\n",
    "\n",
    "## Описание датасета:\n",
    "- `id`: идентификатор записи;\n",
    "- `url`: URL записи о продаже;\n",
    "- `region`: регион;\n",
    "- `region_url`: URL региона;\n",
    "- `price`: стоимость;\n",
    "- `year`: год выпуска;\n",
    "- `manufacturer`: производитель;\n",
    "- `model`: модель;\n",
    "- `condition`: состояние;\n",
    "- `cylinders`: количество цилиндров;\n",
    "- `fuel`: тип топлива;\n",
    "- `odometer`: количество пройденных миль;\n",
    "- `title_status`: статус;\n",
    "- `transmission`: коробка передач;\n",
    "- `VIN`: идентификационный номер;\n",
    "- `drive`: тип привода;\n",
    "- `size`: размер;\n",
    "- `type`: кузов;\n",
    "- `paint_color`: цвет;\n",
    "- `image_url`: URL изображения;\n",
    "- `description`: указанное описание;\n",
    "- `county`: страна;\n",
    "- `state`: штат;\n",
    "- `lat`: широта;\n",
    "- `long`: долгота;\n",
    "- `posting_date`: дата размещения объявления о продаже;\n",
    "- `price_category`: категория цены.\n"
   ]
  },
  {
   "cell_type": "code",
   "execution_count": 4,
   "id": "66f36a2e",
   "metadata": {
    "id": "66f36a2e",
    "pycharm": {
     "name": "#%%\n"
    }
   },
   "outputs": [],
   "source": [
    "# Импортируйте необходимые библиотеки\n",
    "import pandas as pd"
   ]
  },
  {
   "cell_type": "markdown",
   "id": "abd6f091",
   "metadata": {
    "id": "abd6f091",
    "pycharm": {
     "name": "#%% md\n"
    }
   },
   "source": [
    "### Задача 1. Загрузка датасета и ознакомление с ним\n",
    "**Что нужно сделать**\n",
    "\n",
    "Для начала требуется загрузить датасет и ознакомиться с его характеристиками.\n",
    "\n",
    "1. Загрузите датасет из `data/vehicles_dataset.csv` и выведите его.\n"
   ]
  },
  {
   "cell_type": "code",
   "execution_count": 6,
   "id": "65aafba1",
   "metadata": {
    "id": "65aafba1",
    "pycharm": {
     "name": "#%%\n"
    }
   },
   "outputs": [
    {
     "data": {
      "text/plain": "               id                                                url  \\\n0      7308295377  https://chattanooga.craigslist.org/ctd/d/chatt...   \n1      7316380095  https://newjersey.craigslist.org/ctd/d/carlsta...   \n2      7313733749  https://reno.craigslist.org/ctd/d/atlanta-2017...   \n3      7308210929  https://fayetteville.craigslist.org/ctd/d/rale...   \n4      7316474668  https://newyork.craigslist.org/lgi/cto/d/baldw...   \n...           ...                                                ...   \n10045  7304876387  https://chautauqua.craigslist.org/ctd/d/falcon...   \n10046  7316152972  https://binghamton.craigslist.org/ctd/d/roches...   \n10047  7310993818  https://salem.craigslist.org/ctd/d/salem-2011-...   \n10048  7306637427  https://madison.craigslist.org/ctd/d/madison-2...   \n10049  7311960763  https://norfolk.craigslist.org/ctd/d/chesapeak...   \n\n                        region                           region_url  price  \\\n0                  chattanooga   https://chattanooga.craigslist.org  54990   \n1                 north jersey     https://newjersey.craigslist.org  16942   \n2                 reno / tahoe          https://reno.craigslist.org  35590   \n3                 fayetteville  https://fayetteville.craigslist.org  14500   \n4                new york city       https://newyork.craigslist.org  21800   \n...                        ...                                  ...    ...   \n10045               chautauqua    https://chautauqua.craigslist.org   4495   \n10046               binghamton    https://binghamton.craigslist.org  14495   \n10047                    salem         https://salem.craigslist.org   8995   \n10048                  madison       https://madison.craigslist.org  31900   \n10049  norfolk / hampton roads       https://norfolk.craigslist.org  31990   \n\n         year manufacturer                      model condition    cylinders  \\\n0      2020.0          ram     2500 crew cab big horn      good          NaN   \n1      2016.0         ford       explorer 4wd 4dr xlt       NaN  6 cylinders   \n2      2017.0   volkswagen           golf r hatchback      good          NaN   \n3      2013.0       toyota                       rav4       NaN          NaN   \n4      2021.0       nissan                     altima       new  4 cylinders   \n...       ...          ...                        ...       ...          ...   \n10045  2002.0       toyota                       rav4      good  4 cylinders   \n10046  2008.0         jeep                   wrangler      good  6 cylinders   \n10047  2011.0         audi  a3 2.0t premium plus pzev       NaN  4 cylinders   \n10048  2015.0      porsche                    cayenne      good  6 cylinders   \n10049  2017.0          ram     1500 crew cab big horn      good  8 cylinders   \n\n       ...    type  paint_color  \\\n0      ...  pickup       silver   \n1      ...     SUV        black   \n2      ...   sedan          NaN   \n3      ...   wagon        white   \n4      ...     NaN          NaN   \n...    ...     ...          ...   \n10045  ...     SUV        white   \n10046  ...     SUV         grey   \n10047  ...   wagon        black   \n10048  ...   wagon        brown   \n10049  ...  pickup        white   \n\n                                               image_url  \\\n0      https://images.craigslist.org/00N0N_1xMPvfxRAI...   \n1      https://images.craigslist.org/00x0x_26jl9F0cnL...   \n2      https://images.craigslist.org/00y0y_eeZjWeiSfb...   \n3      https://images.craigslist.org/00606_iGe5iXidib...   \n4      https://images.craigslist.org/00V0V_3pSOiPZ3Sd...   \n...                                                  ...   \n10045  https://images.craigslist.org/00n0n_aaEBqmzz5Z...   \n10046  https://images.craigslist.org/00000_9ZNVdXaiei...   \n10047  https://images.craigslist.org/00X0X_k5JiZDDyqM...   \n10048  https://images.craigslist.org/00O0O_gBihGEQxYT...   \n10049  https://images.craigslist.org/00c0c_4rTlvLXy36...   \n\n                                             description county state  \\\n0      Carvana is the safer way to buy a car During t...    NaN    tn   \n1      ***Call Us for more information at: 201-635-14...    NaN    nj   \n2      Carvana is the safer way to buy a car During t...    NaN    ca   \n3      2013 Toyota RAV4 XLE 4dr SUV     Offered by: R...    NaN    nc   \n4      2021 Nissan Altima Sv with Only 8 K Miles Titl...    NaN    ny   \n...                                                  ...    ...   ...   \n10045  Transmission:Automatic Exterior Color:WHITE In...    NaN    ny   \n10046  2008 Jeep Wrangler X  Offered by: R&L Auto -- ...    NaN    ny   \n10047  2011 Audi A3 2.0T Premium Plus PZEV Wagon2011 ...    NaN    or   \n10048  2015 Porsche Cayenne AWD 4dr S E-Hybrid - $31,...    NaN    wi   \n10049  Carvana is the safer way to buy a car During t...    NaN    va   \n\n             lat        long              posting_date price_category  \n0      35.060000  -85.250000  2021-04-17T12:30:50-0400           high  \n1      40.821805  -74.061962  2021-05-03T15:40:21-0400         medium  \n2      33.779214  -84.411811  2021-04-28T03:52:20-0700           high  \n3      35.715954  -78.655304  2021-04-17T10:08:57-0400         medium  \n4      40.654800  -73.609700  2021-05-03T18:32:06-0400         medium  \n...          ...         ...                       ...            ...  \n10045  42.123900  -79.189500  2021-04-10T16:33:57-0400            low  \n10046  43.216990  -77.755610  2021-05-03T09:36:30-0400         medium  \n10047  44.925908 -122.982753  2021-04-22T12:14:01-0700            low  \n10048  43.029559  -89.397796  2021-04-14T09:14:42-0500           high  \n10049  36.670000  -76.300000  2021-04-24T13:50:49-0400           high  \n\n[10050 rows x 27 columns]",
      "text/html": "<div>\n<style scoped>\n    .dataframe tbody tr th:only-of-type {\n        vertical-align: middle;\n    }\n\n    .dataframe tbody tr th {\n        vertical-align: top;\n    }\n\n    .dataframe thead th {\n        text-align: right;\n    }\n</style>\n<table border=\"1\" class=\"dataframe\">\n  <thead>\n    <tr style=\"text-align: right;\">\n      <th></th>\n      <th>id</th>\n      <th>url</th>\n      <th>region</th>\n      <th>region_url</th>\n      <th>price</th>\n      <th>year</th>\n      <th>manufacturer</th>\n      <th>model</th>\n      <th>condition</th>\n      <th>cylinders</th>\n      <th>...</th>\n      <th>type</th>\n      <th>paint_color</th>\n      <th>image_url</th>\n      <th>description</th>\n      <th>county</th>\n      <th>state</th>\n      <th>lat</th>\n      <th>long</th>\n      <th>posting_date</th>\n      <th>price_category</th>\n    </tr>\n  </thead>\n  <tbody>\n    <tr>\n      <th>0</th>\n      <td>7308295377</td>\n      <td>https://chattanooga.craigslist.org/ctd/d/chatt...</td>\n      <td>chattanooga</td>\n      <td>https://chattanooga.craigslist.org</td>\n      <td>54990</td>\n      <td>2020.0</td>\n      <td>ram</td>\n      <td>2500 crew cab big horn</td>\n      <td>good</td>\n      <td>NaN</td>\n      <td>...</td>\n      <td>pickup</td>\n      <td>silver</td>\n      <td>https://images.craigslist.org/00N0N_1xMPvfxRAI...</td>\n      <td>Carvana is the safer way to buy a car During t...</td>\n      <td>NaN</td>\n      <td>tn</td>\n      <td>35.060000</td>\n      <td>-85.250000</td>\n      <td>2021-04-17T12:30:50-0400</td>\n      <td>high</td>\n    </tr>\n    <tr>\n      <th>1</th>\n      <td>7316380095</td>\n      <td>https://newjersey.craigslist.org/ctd/d/carlsta...</td>\n      <td>north jersey</td>\n      <td>https://newjersey.craigslist.org</td>\n      <td>16942</td>\n      <td>2016.0</td>\n      <td>ford</td>\n      <td>explorer 4wd 4dr xlt</td>\n      <td>NaN</td>\n      <td>6 cylinders</td>\n      <td>...</td>\n      <td>SUV</td>\n      <td>black</td>\n      <td>https://images.craigslist.org/00x0x_26jl9F0cnL...</td>\n      <td>***Call Us for more information at: 201-635-14...</td>\n      <td>NaN</td>\n      <td>nj</td>\n      <td>40.821805</td>\n      <td>-74.061962</td>\n      <td>2021-05-03T15:40:21-0400</td>\n      <td>medium</td>\n    </tr>\n    <tr>\n      <th>2</th>\n      <td>7313733749</td>\n      <td>https://reno.craigslist.org/ctd/d/atlanta-2017...</td>\n      <td>reno / tahoe</td>\n      <td>https://reno.craigslist.org</td>\n      <td>35590</td>\n      <td>2017.0</td>\n      <td>volkswagen</td>\n      <td>golf r hatchback</td>\n      <td>good</td>\n      <td>NaN</td>\n      <td>...</td>\n      <td>sedan</td>\n      <td>NaN</td>\n      <td>https://images.craigslist.org/00y0y_eeZjWeiSfb...</td>\n      <td>Carvana is the safer way to buy a car During t...</td>\n      <td>NaN</td>\n      <td>ca</td>\n      <td>33.779214</td>\n      <td>-84.411811</td>\n      <td>2021-04-28T03:52:20-0700</td>\n      <td>high</td>\n    </tr>\n    <tr>\n      <th>3</th>\n      <td>7308210929</td>\n      <td>https://fayetteville.craigslist.org/ctd/d/rale...</td>\n      <td>fayetteville</td>\n      <td>https://fayetteville.craigslist.org</td>\n      <td>14500</td>\n      <td>2013.0</td>\n      <td>toyota</td>\n      <td>rav4</td>\n      <td>NaN</td>\n      <td>NaN</td>\n      <td>...</td>\n      <td>wagon</td>\n      <td>white</td>\n      <td>https://images.craigslist.org/00606_iGe5iXidib...</td>\n      <td>2013 Toyota RAV4 XLE 4dr SUV     Offered by: R...</td>\n      <td>NaN</td>\n      <td>nc</td>\n      <td>35.715954</td>\n      <td>-78.655304</td>\n      <td>2021-04-17T10:08:57-0400</td>\n      <td>medium</td>\n    </tr>\n    <tr>\n      <th>4</th>\n      <td>7316474668</td>\n      <td>https://newyork.craigslist.org/lgi/cto/d/baldw...</td>\n      <td>new york city</td>\n      <td>https://newyork.craigslist.org</td>\n      <td>21800</td>\n      <td>2021.0</td>\n      <td>nissan</td>\n      <td>altima</td>\n      <td>new</td>\n      <td>4 cylinders</td>\n      <td>...</td>\n      <td>NaN</td>\n      <td>NaN</td>\n      <td>https://images.craigslist.org/00V0V_3pSOiPZ3Sd...</td>\n      <td>2021 Nissan Altima Sv with Only 8 K Miles Titl...</td>\n      <td>NaN</td>\n      <td>ny</td>\n      <td>40.654800</td>\n      <td>-73.609700</td>\n      <td>2021-05-03T18:32:06-0400</td>\n      <td>medium</td>\n    </tr>\n    <tr>\n      <th>...</th>\n      <td>...</td>\n      <td>...</td>\n      <td>...</td>\n      <td>...</td>\n      <td>...</td>\n      <td>...</td>\n      <td>...</td>\n      <td>...</td>\n      <td>...</td>\n      <td>...</td>\n      <td>...</td>\n      <td>...</td>\n      <td>...</td>\n      <td>...</td>\n      <td>...</td>\n      <td>...</td>\n      <td>...</td>\n      <td>...</td>\n      <td>...</td>\n      <td>...</td>\n      <td>...</td>\n    </tr>\n    <tr>\n      <th>10045</th>\n      <td>7304876387</td>\n      <td>https://chautauqua.craigslist.org/ctd/d/falcon...</td>\n      <td>chautauqua</td>\n      <td>https://chautauqua.craigslist.org</td>\n      <td>4495</td>\n      <td>2002.0</td>\n      <td>toyota</td>\n      <td>rav4</td>\n      <td>good</td>\n      <td>4 cylinders</td>\n      <td>...</td>\n      <td>SUV</td>\n      <td>white</td>\n      <td>https://images.craigslist.org/00n0n_aaEBqmzz5Z...</td>\n      <td>Transmission:Automatic Exterior Color:WHITE In...</td>\n      <td>NaN</td>\n      <td>ny</td>\n      <td>42.123900</td>\n      <td>-79.189500</td>\n      <td>2021-04-10T16:33:57-0400</td>\n      <td>low</td>\n    </tr>\n    <tr>\n      <th>10046</th>\n      <td>7316152972</td>\n      <td>https://binghamton.craigslist.org/ctd/d/roches...</td>\n      <td>binghamton</td>\n      <td>https://binghamton.craigslist.org</td>\n      <td>14495</td>\n      <td>2008.0</td>\n      <td>jeep</td>\n      <td>wrangler</td>\n      <td>good</td>\n      <td>6 cylinders</td>\n      <td>...</td>\n      <td>SUV</td>\n      <td>grey</td>\n      <td>https://images.craigslist.org/00000_9ZNVdXaiei...</td>\n      <td>2008 Jeep Wrangler X  Offered by: R&amp;L Auto -- ...</td>\n      <td>NaN</td>\n      <td>ny</td>\n      <td>43.216990</td>\n      <td>-77.755610</td>\n      <td>2021-05-03T09:36:30-0400</td>\n      <td>medium</td>\n    </tr>\n    <tr>\n      <th>10047</th>\n      <td>7310993818</td>\n      <td>https://salem.craigslist.org/ctd/d/salem-2011-...</td>\n      <td>salem</td>\n      <td>https://salem.craigslist.org</td>\n      <td>8995</td>\n      <td>2011.0</td>\n      <td>audi</td>\n      <td>a3 2.0t premium plus pzev</td>\n      <td>NaN</td>\n      <td>4 cylinders</td>\n      <td>...</td>\n      <td>wagon</td>\n      <td>black</td>\n      <td>https://images.craigslist.org/00X0X_k5JiZDDyqM...</td>\n      <td>2011 Audi A3 2.0T Premium Plus PZEV Wagon2011 ...</td>\n      <td>NaN</td>\n      <td>or</td>\n      <td>44.925908</td>\n      <td>-122.982753</td>\n      <td>2021-04-22T12:14:01-0700</td>\n      <td>low</td>\n    </tr>\n    <tr>\n      <th>10048</th>\n      <td>7306637427</td>\n      <td>https://madison.craigslist.org/ctd/d/madison-2...</td>\n      <td>madison</td>\n      <td>https://madison.craigslist.org</td>\n      <td>31900</td>\n      <td>2015.0</td>\n      <td>porsche</td>\n      <td>cayenne</td>\n      <td>good</td>\n      <td>6 cylinders</td>\n      <td>...</td>\n      <td>wagon</td>\n      <td>brown</td>\n      <td>https://images.craigslist.org/00O0O_gBihGEQxYT...</td>\n      <td>2015 Porsche Cayenne AWD 4dr S E-Hybrid - $31,...</td>\n      <td>NaN</td>\n      <td>wi</td>\n      <td>43.029559</td>\n      <td>-89.397796</td>\n      <td>2021-04-14T09:14:42-0500</td>\n      <td>high</td>\n    </tr>\n    <tr>\n      <th>10049</th>\n      <td>7311960763</td>\n      <td>https://norfolk.craigslist.org/ctd/d/chesapeak...</td>\n      <td>norfolk / hampton roads</td>\n      <td>https://norfolk.craigslist.org</td>\n      <td>31990</td>\n      <td>2017.0</td>\n      <td>ram</td>\n      <td>1500 crew cab big horn</td>\n      <td>good</td>\n      <td>8 cylinders</td>\n      <td>...</td>\n      <td>pickup</td>\n      <td>white</td>\n      <td>https://images.craigslist.org/00c0c_4rTlvLXy36...</td>\n      <td>Carvana is the safer way to buy a car During t...</td>\n      <td>NaN</td>\n      <td>va</td>\n      <td>36.670000</td>\n      <td>-76.300000</td>\n      <td>2021-04-24T13:50:49-0400</td>\n      <td>high</td>\n    </tr>\n  </tbody>\n</table>\n<p>10050 rows × 27 columns</p>\n</div>"
     },
     "execution_count": 6,
     "metadata": {},
     "output_type": "execute_result"
    }
   ],
   "source": [
    "# Ваш код здесь\n",
    "df = pd.read_csv('vehicles_dataset.csv', sep=',')\n",
    "df"
   ]
  },
  {
   "cell_type": "markdown",
   "id": "35446af7",
   "metadata": {
    "id": "35446af7",
    "pycharm": {
     "name": "#%% md\n"
    }
   },
   "source": [
    "2. Выведите размер датасета.\n"
   ]
  },
  {
   "cell_type": "code",
   "execution_count": 7,
   "id": "67b4bf56",
   "metadata": {
    "id": "67b4bf56",
    "pycharm": {
     "name": "#%%\n"
    }
   },
   "outputs": [
    {
     "data": {
      "text/plain": "(10050, 27)"
     },
     "execution_count": 7,
     "metadata": {},
     "output_type": "execute_result"
    }
   ],
   "source": [
    "# Ваш код здесь\n",
    "df.shape"
   ]
  },
  {
   "cell_type": "markdown",
   "id": "35e95da9",
   "metadata": {
    "id": "35e95da9",
    "pycharm": {
     "name": "#%% md\n"
    }
   },
   "source": [
    "3. Выведите список колонок датасета."
   ]
  },
  {
   "cell_type": "code",
   "execution_count": 10,
   "id": "b0f7042e",
   "metadata": {
    "ExecuteTime": {
     "end_time": "2022-01-13T22:35:42.388526Z",
     "start_time": "2022-01-13T22:35:42.330940Z"
    },
    "id": "b0f7042e",
    "pycharm": {
     "name": "#%%\n"
    }
   },
   "outputs": [
    {
     "data": {
      "text/plain": "['id',\n 'url',\n 'region',\n 'region_url',\n 'price',\n 'year',\n 'manufacturer',\n 'model',\n 'condition',\n 'cylinders',\n 'fuel',\n 'odometer',\n 'title_status',\n 'transmission',\n 'VIN',\n 'drive',\n 'size',\n 'type',\n 'paint_color',\n 'image_url',\n 'description',\n 'county',\n 'state',\n 'lat',\n 'long',\n 'posting_date',\n 'price_category']"
     },
     "execution_count": 10,
     "metadata": {},
     "output_type": "execute_result"
    }
   ],
   "source": [
    "# Ваш код здесь\n",
    "df.columns.tolist()"
   ]
  },
  {
   "cell_type": "markdown",
   "id": "ad304fe2",
   "metadata": {
    "id": "ad304fe2",
    "pycharm": {
     "name": "#%% md\n"
    }
   },
   "source": [
    "4. Выведите описательные статистики для всего датасета (обязательно укажите верный параметр для этого)."
   ]
  },
  {
   "cell_type": "code",
   "execution_count": 11,
   "id": "277c5a24",
   "metadata": {
    "id": "277c5a24",
    "pycharm": {
     "name": "#%%\n"
    }
   },
   "outputs": [
    {
     "data": {
      "text/plain": "                  id                                                url  \\\ncount   1.005000e+04                                              10050   \nunique           NaN                                              10000   \ntop              NaN  https://fortmyers.craigslist.org/chl/ctd/d/200...   \nfreq             NaN                                                  2   \nmean    7.311544e+09                                                NaN   \nstd     4.475414e+06                                                NaN   \nmin     7.208550e+09                                                NaN   \n25%     7.308193e+09                                                NaN   \n50%     7.312756e+09                                                NaN   \n75%     7.315275e+09                                                NaN   \nmax     7.317090e+09                                                NaN   \n\n                 region                         region_url         price  \\\ncount             10050                              10050  1.005000e+04   \nunique              393                                405           NaN   \ntop     kansas city, MO  https://kansascity.craigslist.org           NaN   \nfreq                 86                                 86           NaN   \nmean                NaN                                NaN  2.068429e+04   \nstd                 NaN                                NaN  1.243216e+05   \nmin                 NaN                                NaN  5.000000e+02   \n25%                 NaN                                NaN  7.900000e+03   \n50%                 NaN                                NaN  1.574950e+04   \n75%                 NaN                                NaN  2.799000e+04   \nmax                 NaN                                NaN  1.234568e+07   \n\n                year manufacturer  model condition    cylinders  ...   type  \\\ncount   10014.000000         9665   9921      6268         5953  ...   7845   \nunique           NaN           39   3466         6            8  ...     13   \ntop              NaN         ford  f-150      good  6 cylinders  ...  sedan   \nfreq             NaN         1647    151      3134         2288  ...   1981   \nmean     2010.917815          NaN    NaN       NaN          NaN  ...    NaN   \nstd         9.697849          NaN    NaN       NaN          NaN  ...    NaN   \nmin      1915.000000          NaN    NaN       NaN          NaN  ...    NaN   \n25%      2008.000000          NaN    NaN       NaN          NaN  ...    NaN   \n50%      2013.000000          NaN    NaN       NaN          NaN  ...    NaN   \n75%      2017.000000          NaN    NaN       NaN          NaN  ...    NaN   \nmax      2022.000000          NaN    NaN       NaN          NaN  ...    NaN   \n\n        paint_color                                          image_url  \\\ncount          7087                                              10048   \nunique           12                                               9081   \ntop           white  https://images.craigslist.org/00N0N_1xMPvfxRAI...   \nfreq           1916                                                191   \nmean            NaN                                                NaN   \nstd             NaN                                                NaN   \nmin             NaN                                                NaN   \n25%             NaN                                                NaN   \n50%             NaN                                                NaN   \n75%             NaN                                                NaN   \nmax             NaN                                                NaN   \n\n                                              description county  state  \\\ncount                                               10048    0.0  10050   \nunique                                               9845    NaN     51   \ntop     PLEASE VIEW THE FREE CARFAX HISTORY REPORT AT ...    NaN     ca   \nfreq                                                    7    NaN   1113   \nmean                                                  NaN    NaN    NaN   \nstd                                                   NaN    NaN    NaN   \nmin                                                   NaN    NaN    NaN   \n25%                                                   NaN    NaN    NaN   \n50%                                                   NaN    NaN    NaN   \n75%                                                   NaN    NaN    NaN   \nmax                                                   NaN    NaN    NaN   \n\n                lat         long              posting_date price_category  \ncount   9951.000000  9951.000000                     10048          10050  \nunique          NaN          NaN                      9957              3  \ntop             NaN          NaN  2021-04-13T09:11:02-0500           high  \nfreq            NaN          NaN                         3           3514  \nmean      38.590164   -94.161564                       NaN            NaN  \nstd        5.844756    18.123096                       NaN            NaN  \nmin      -67.144243  -158.069300                       NaN            NaN  \n25%       34.830000  -110.447150                       NaN            NaN  \n50%       39.285100   -87.999100                       NaN            NaN  \n75%       42.427590   -80.830000                       NaN            NaN  \nmax       64.947500   173.885502                       NaN            NaN  \n\n[11 rows x 27 columns]",
      "text/html": "<div>\n<style scoped>\n    .dataframe tbody tr th:only-of-type {\n        vertical-align: middle;\n    }\n\n    .dataframe tbody tr th {\n        vertical-align: top;\n    }\n\n    .dataframe thead th {\n        text-align: right;\n    }\n</style>\n<table border=\"1\" class=\"dataframe\">\n  <thead>\n    <tr style=\"text-align: right;\">\n      <th></th>\n      <th>id</th>\n      <th>url</th>\n      <th>region</th>\n      <th>region_url</th>\n      <th>price</th>\n      <th>year</th>\n      <th>manufacturer</th>\n      <th>model</th>\n      <th>condition</th>\n      <th>cylinders</th>\n      <th>...</th>\n      <th>type</th>\n      <th>paint_color</th>\n      <th>image_url</th>\n      <th>description</th>\n      <th>county</th>\n      <th>state</th>\n      <th>lat</th>\n      <th>long</th>\n      <th>posting_date</th>\n      <th>price_category</th>\n    </tr>\n  </thead>\n  <tbody>\n    <tr>\n      <th>count</th>\n      <td>1.005000e+04</td>\n      <td>10050</td>\n      <td>10050</td>\n      <td>10050</td>\n      <td>1.005000e+04</td>\n      <td>10014.000000</td>\n      <td>9665</td>\n      <td>9921</td>\n      <td>6268</td>\n      <td>5953</td>\n      <td>...</td>\n      <td>7845</td>\n      <td>7087</td>\n      <td>10048</td>\n      <td>10048</td>\n      <td>0.0</td>\n      <td>10050</td>\n      <td>9951.000000</td>\n      <td>9951.000000</td>\n      <td>10048</td>\n      <td>10050</td>\n    </tr>\n    <tr>\n      <th>unique</th>\n      <td>NaN</td>\n      <td>10000</td>\n      <td>393</td>\n      <td>405</td>\n      <td>NaN</td>\n      <td>NaN</td>\n      <td>39</td>\n      <td>3466</td>\n      <td>6</td>\n      <td>8</td>\n      <td>...</td>\n      <td>13</td>\n      <td>12</td>\n      <td>9081</td>\n      <td>9845</td>\n      <td>NaN</td>\n      <td>51</td>\n      <td>NaN</td>\n      <td>NaN</td>\n      <td>9957</td>\n      <td>3</td>\n    </tr>\n    <tr>\n      <th>top</th>\n      <td>NaN</td>\n      <td>https://fortmyers.craigslist.org/chl/ctd/d/200...</td>\n      <td>kansas city, MO</td>\n      <td>https://kansascity.craigslist.org</td>\n      <td>NaN</td>\n      <td>NaN</td>\n      <td>ford</td>\n      <td>f-150</td>\n      <td>good</td>\n      <td>6 cylinders</td>\n      <td>...</td>\n      <td>sedan</td>\n      <td>white</td>\n      <td>https://images.craigslist.org/00N0N_1xMPvfxRAI...</td>\n      <td>PLEASE VIEW THE FREE CARFAX HISTORY REPORT AT ...</td>\n      <td>NaN</td>\n      <td>ca</td>\n      <td>NaN</td>\n      <td>NaN</td>\n      <td>2021-04-13T09:11:02-0500</td>\n      <td>high</td>\n    </tr>\n    <tr>\n      <th>freq</th>\n      <td>NaN</td>\n      <td>2</td>\n      <td>86</td>\n      <td>86</td>\n      <td>NaN</td>\n      <td>NaN</td>\n      <td>1647</td>\n      <td>151</td>\n      <td>3134</td>\n      <td>2288</td>\n      <td>...</td>\n      <td>1981</td>\n      <td>1916</td>\n      <td>191</td>\n      <td>7</td>\n      <td>NaN</td>\n      <td>1113</td>\n      <td>NaN</td>\n      <td>NaN</td>\n      <td>3</td>\n      <td>3514</td>\n    </tr>\n    <tr>\n      <th>mean</th>\n      <td>7.311544e+09</td>\n      <td>NaN</td>\n      <td>NaN</td>\n      <td>NaN</td>\n      <td>2.068429e+04</td>\n      <td>2010.917815</td>\n      <td>NaN</td>\n      <td>NaN</td>\n      <td>NaN</td>\n      <td>NaN</td>\n      <td>...</td>\n      <td>NaN</td>\n      <td>NaN</td>\n      <td>NaN</td>\n      <td>NaN</td>\n      <td>NaN</td>\n      <td>NaN</td>\n      <td>38.590164</td>\n      <td>-94.161564</td>\n      <td>NaN</td>\n      <td>NaN</td>\n    </tr>\n    <tr>\n      <th>std</th>\n      <td>4.475414e+06</td>\n      <td>NaN</td>\n      <td>NaN</td>\n      <td>NaN</td>\n      <td>1.243216e+05</td>\n      <td>9.697849</td>\n      <td>NaN</td>\n      <td>NaN</td>\n      <td>NaN</td>\n      <td>NaN</td>\n      <td>...</td>\n      <td>NaN</td>\n      <td>NaN</td>\n      <td>NaN</td>\n      <td>NaN</td>\n      <td>NaN</td>\n      <td>NaN</td>\n      <td>5.844756</td>\n      <td>18.123096</td>\n      <td>NaN</td>\n      <td>NaN</td>\n    </tr>\n    <tr>\n      <th>min</th>\n      <td>7.208550e+09</td>\n      <td>NaN</td>\n      <td>NaN</td>\n      <td>NaN</td>\n      <td>5.000000e+02</td>\n      <td>1915.000000</td>\n      <td>NaN</td>\n      <td>NaN</td>\n      <td>NaN</td>\n      <td>NaN</td>\n      <td>...</td>\n      <td>NaN</td>\n      <td>NaN</td>\n      <td>NaN</td>\n      <td>NaN</td>\n      <td>NaN</td>\n      <td>NaN</td>\n      <td>-67.144243</td>\n      <td>-158.069300</td>\n      <td>NaN</td>\n      <td>NaN</td>\n    </tr>\n    <tr>\n      <th>25%</th>\n      <td>7.308193e+09</td>\n      <td>NaN</td>\n      <td>NaN</td>\n      <td>NaN</td>\n      <td>7.900000e+03</td>\n      <td>2008.000000</td>\n      <td>NaN</td>\n      <td>NaN</td>\n      <td>NaN</td>\n      <td>NaN</td>\n      <td>...</td>\n      <td>NaN</td>\n      <td>NaN</td>\n      <td>NaN</td>\n      <td>NaN</td>\n      <td>NaN</td>\n      <td>NaN</td>\n      <td>34.830000</td>\n      <td>-110.447150</td>\n      <td>NaN</td>\n      <td>NaN</td>\n    </tr>\n    <tr>\n      <th>50%</th>\n      <td>7.312756e+09</td>\n      <td>NaN</td>\n      <td>NaN</td>\n      <td>NaN</td>\n      <td>1.574950e+04</td>\n      <td>2013.000000</td>\n      <td>NaN</td>\n      <td>NaN</td>\n      <td>NaN</td>\n      <td>NaN</td>\n      <td>...</td>\n      <td>NaN</td>\n      <td>NaN</td>\n      <td>NaN</td>\n      <td>NaN</td>\n      <td>NaN</td>\n      <td>NaN</td>\n      <td>39.285100</td>\n      <td>-87.999100</td>\n      <td>NaN</td>\n      <td>NaN</td>\n    </tr>\n    <tr>\n      <th>75%</th>\n      <td>7.315275e+09</td>\n      <td>NaN</td>\n      <td>NaN</td>\n      <td>NaN</td>\n      <td>2.799000e+04</td>\n      <td>2017.000000</td>\n      <td>NaN</td>\n      <td>NaN</td>\n      <td>NaN</td>\n      <td>NaN</td>\n      <td>...</td>\n      <td>NaN</td>\n      <td>NaN</td>\n      <td>NaN</td>\n      <td>NaN</td>\n      <td>NaN</td>\n      <td>NaN</td>\n      <td>42.427590</td>\n      <td>-80.830000</td>\n      <td>NaN</td>\n      <td>NaN</td>\n    </tr>\n    <tr>\n      <th>max</th>\n      <td>7.317090e+09</td>\n      <td>NaN</td>\n      <td>NaN</td>\n      <td>NaN</td>\n      <td>1.234568e+07</td>\n      <td>2022.000000</td>\n      <td>NaN</td>\n      <td>NaN</td>\n      <td>NaN</td>\n      <td>NaN</td>\n      <td>...</td>\n      <td>NaN</td>\n      <td>NaN</td>\n      <td>NaN</td>\n      <td>NaN</td>\n      <td>NaN</td>\n      <td>NaN</td>\n      <td>64.947500</td>\n      <td>173.885502</td>\n      <td>NaN</td>\n      <td>NaN</td>\n    </tr>\n  </tbody>\n</table>\n<p>11 rows × 27 columns</p>\n</div>"
     },
     "execution_count": 11,
     "metadata": {},
     "output_type": "execute_result"
    }
   ],
   "source": [
    "# Ваш код здесь\n",
    "df.describe(include='all')"
   ]
  },
  {
   "cell_type": "markdown",
   "id": "7836f033",
   "metadata": {
    "ExecuteTime": {
     "end_time": "2022-01-13T23:04:16.245970Z",
     "start_time": "2022-01-13T23:04:16.239711Z"
    },
    "id": "7836f033",
    "pycharm": {
     "name": "#%% md\n"
    }
   },
   "source": [
    "### Задача 2. Исследование переменных датасета\n",
    "**Что нужно сделать**\n",
    "\n",
    "После ознакомления с датасетом посмотрите, какие значения принимают переменные с характеристиками.\n",
    "\n",
    "Распечатайте в цикле по каждой колонке название колонки, количество уникальных значений, а затем список возможных значений вместе с их количеством появления в датасете.\n",
    "\n",
    "При выводе информации по каждой характеристике придерживайтесь шаблона.\n",
    "\n",
    "```\n",
    "Характеристика: id\n",
    "Количество уникальных значений: 10000\n",
    "Список значений:\n",
    "7303629857    2\n",
    "7315995136    2\n",
    "7316719393    2\n",
    "7309842734    2\n",
    "7307971804    2\n",
    "             ..\n",
    "7303843163    1\n",
    "7315223900    1\n",
    "7309940769    1\n",
    "7309251820    1\n",
    "7316428067    1\n",
    "Name: id, Length: 10000, dtype: int64\n",
    "```"
   ]
  },
  {
   "cell_type": "code",
   "execution_count": 13,
   "id": "b5024f7a",
   "metadata": {
    "id": "b5024f7a",
    "pycharm": {
     "name": "#%%\n"
    }
   },
   "outputs": [
    {
     "name": "stdout",
     "output_type": "stream",
     "text": [
      "Характеристика: id\n",
      "Количество уникальных значений: 10000\n",
      "Список значений:\n",
      "id\n",
      "7314997172    2\n",
      "7316719393    2\n",
      "7303360871    2\n",
      "7316466470    2\n",
      "7310693445    2\n",
      "             ..\n",
      "7310555127    1\n",
      "7316426864    1\n",
      "7315557731    1\n",
      "7302654939    1\n",
      "7316509996    1\n",
      "Name: count, Length: 10000, dtype: int64\n",
      "\n",
      "Характеристика: url\n",
      "Количество уникальных значений: 10000\n",
      "Список значений:\n",
      "url\n",
      "https://fortmyers.craigslist.org/chl/ctd/d/2005-lexus-lx-470-kings-chariot/7314997172.html          2\n",
      "https://miami.craigslist.org/mdc/ctd/d/miami-2018-vw-volkswagen-golf-gti/7316719393.html            2\n",
      "https://cosprings.craigslist.org/cto/d/colorado-springs-2007-mini-cooper/7303360871.html            2\n",
      "https://sandiego.craigslist.org/csd/cto/d/san-diego-1997-lexus-es-mission-valley/7316466470.html    2\n",
      "https://pueblo.craigslist.org/ctd/d/tempe-2017-ford-450-f450-450-drw-lariat/7310693445.html         2\n",
      "                                                                                                   ..\n",
      "https://zanesville.craigslist.org/ctd/d/carroll-2016-nissan-altima-25-4dr-sedan/7310555127.html     1\n",
      "https://fresno.craigslist.org/ctd/d/orange-store-for-bad-credit-best-deals/7316426864.html          1\n",
      "https://minneapolis.craigslist.org/csw/ctd/d/dassel-2008-ford-f750-750-750-super/7315557731.html    1\n",
      "https://fortcollins.craigslist.org/ctd/d/fort-collins-2020-buick-encore-gx/7302654939.html          1\n",
      "https://baltimore.craigslist.org/cto/d/glen-burnie-mustang-50-convertible-2013/7316509996.html      1\n",
      "Name: count, Length: 10000, dtype: int64\n",
      "\n",
      "Характеристика: region\n",
      "Количество уникальных значений: 393\n",
      "Список значений:\n",
      "region\n",
      "kansas city, MO          86\n",
      "minneapolis / st paul    83\n",
      "sarasota-bradenton       82\n",
      "grand rapids             82\n",
      "colorado springs         81\n",
      "                         ..\n",
      "gulfport / biloxi         1\n",
      "kirksville                1\n",
      "northeast SD              1\n",
      "st augustine              1\n",
      "auburn                    1\n",
      "Name: count, Length: 393, dtype: int64\n",
      "\n",
      "Характеристика: region_url\n",
      "Количество уникальных значений: 405\n",
      "Список значений:\n",
      "region_url\n",
      "https://kansascity.craigslist.org     86\n",
      "https://minneapolis.craigslist.org    83\n",
      "https://sarasota.craigslist.org       82\n",
      "https://grandrapids.craigslist.org    82\n",
      "https://cosprings.craigslist.org      81\n",
      "                                      ..\n",
      "https://gulfport.craigslist.org        1\n",
      "https://montana.craigslist.org         1\n",
      "https://nesd.craigslist.org            1\n",
      "https://staugustine.craigslist.org     1\n",
      "https://auburn.craigslist.org          1\n",
      "Name: count, Length: 405, dtype: int64\n",
      "\n",
      "Характеристика: price\n",
      "Количество уникальных значений: 2227\n",
      "Список значений:\n",
      "price\n",
      "6995     112\n",
      "29990     91\n",
      "7995      81\n",
      "8995      76\n",
      "9995      73\n",
      "        ... \n",
      "31726      1\n",
      "6996       1\n",
      "61022      1\n",
      "10470      1\n",
      "86977      1\n",
      "Name: count, Length: 2227, dtype: int64\n",
      "\n",
      "Характеристика: year\n",
      "Количество уникальных значений: 89\n",
      "Список значений:\n",
      "year\n",
      "2017.0    814\n",
      "2018.0    814\n",
      "2016.0    748\n",
      "2013.0    704\n",
      "2015.0    670\n",
      "         ... \n",
      "1940.0      1\n",
      "1950.0      1\n",
      "1960.0      1\n",
      "1923.0      1\n",
      "1938.0      1\n",
      "Name: count, Length: 89, dtype: int64\n",
      "\n",
      "Характеристика: manufacturer\n",
      "Количество уникальных значений: 39\n",
      "Список значений:\n",
      "manufacturer\n",
      "ford               1647\n",
      "chevrolet          1298\n",
      "toyota              784\n",
      "jeep                491\n",
      "honda               467\n",
      "nissan              456\n",
      "ram                 415\n",
      "gmc                 361\n",
      "bmw                 332\n",
      "dodge               325\n",
      "volkswagen          254\n",
      "mercedes-benz       240\n",
      "hyundai             225\n",
      "subaru              211\n",
      "audi                203\n",
      "kia                 200\n",
      "lexus               186\n",
      "cadillac            184\n",
      "chrysler            161\n",
      "acura               150\n",
      "buick               145\n",
      "mazda               142\n",
      "infiniti            118\n",
      "lincoln             113\n",
      "mitsubishi           82\n",
      "mini                 73\n",
      "volvo                67\n",
      "pontiac              62\n",
      "rover                59\n",
      "jaguar               45\n",
      "porsche              37\n",
      "mercury              33\n",
      "tesla                27\n",
      "saturn               25\n",
      "fiat                 23\n",
      "alfa-romeo           14\n",
      "ferrari               4\n",
      "harley-davidson       4\n",
      "datsun                2\n",
      "Name: count, dtype: int64\n",
      "\n",
      "Характеристика: model\n",
      "Количество уникальных значений: 3466\n",
      "Список значений:\n",
      "model\n",
      "f-150                      151\n",
      "silverado 1500             110\n",
      "1500                       101\n",
      "camry                       77\n",
      "wrangler                    74\n",
      "                          ... \n",
      "navigator reserve            1\n",
      "1988 Nisan                   1\n",
      "gle 350 4matic               1\n",
      "prius four hatchback 4d      1\n",
      "rendezvous                   1\n",
      "Name: count, Length: 3466, dtype: int64\n",
      "\n",
      "Характеристика: condition\n",
      "Количество уникальных значений: 6\n",
      "Список значений:\n",
      "condition\n",
      "good         3134\n",
      "excellent    2429\n",
      "like new      482\n",
      "fair          179\n",
      "new            31\n",
      "salvage        13\n",
      "Name: count, dtype: int64\n",
      "\n",
      "Характеристика: cylinders\n",
      "Количество уникальных значений: 8\n",
      "Список значений:\n",
      "cylinders\n",
      "6 cylinders     2288\n",
      "4 cylinders     1825\n",
      "8 cylinders     1726\n",
      "5 cylinders       46\n",
      "10 cylinders      29\n",
      "other             25\n",
      "3 cylinders       13\n",
      "12 cylinders       1\n",
      "Name: count, dtype: int64\n",
      "\n",
      "Характеристика: fuel\n",
      "Количество уникальных значений: 5\n",
      "Список значений:\n",
      "fuel\n",
      "gas         8447\n",
      "other        733\n",
      "diesel       655\n",
      "hybrid       108\n",
      "electric      44\n",
      "Name: count, dtype: int64\n",
      "\n",
      "Характеристика: odometer\n",
      "Количество уникальных значений: 7006\n",
      "Список значений:\n",
      "odometer\n",
      "100000.0    51\n",
      "1.0         42\n",
      "140000.0    37\n",
      "180000.0    37\n",
      "200000.0    37\n",
      "            ..\n",
      "114730.0     1\n",
      "151942.0     1\n",
      "113573.0     1\n",
      "150184.0     1\n",
      "86496.0      1\n",
      "Name: count, Length: 7006, dtype: int64\n",
      "\n",
      "Характеристика: title_status\n",
      "Количество уникальных значений: 6\n",
      "Список значений:\n",
      "title_status\n",
      "clean         9568\n",
      "rebuilt        171\n",
      "salvage         92\n",
      "lien            35\n",
      "missing         16\n",
      "parts only       2\n",
      "Name: count, dtype: int64\n",
      "\n",
      "Характеристика: transmission\n",
      "Количество уникальных значений: 3\n",
      "Список значений:\n",
      "transmission\n",
      "automatic    7737\n",
      "other        1633\n",
      "manual        635\n",
      "Name: count, dtype: int64\n",
      "\n",
      "Характеристика: VIN\n",
      "Количество уникальных значений: 5429\n",
      "Список значений:\n",
      "VIN\n",
      "1FMJU1JT1HEA52352    10\n",
      "JN1AZ4EH8KM420880     8\n",
      "1C6RRFFGXKN695394     7\n",
      "5TFEM5F15KX140773     7\n",
      "1GCNCNEH7HZ118773     7\n",
      "                     ..\n",
      "1LNHM87A5YY601997     1\n",
      "2C4RDGBG6DR766552     1\n",
      "1J4FA24198L514729     1\n",
      "WAUKEAFM8BA041237     1\n",
      "1G1YH2D70H5119107     1\n",
      "Name: count, Length: 5429, dtype: int64\n",
      "\n",
      "Характеристика: drive\n",
      "Количество уникальных значений: 3\n",
      "Список значений:\n",
      "drive\n",
      "4wd    3054\n",
      "fwd    2563\n",
      "rwd    1409\n",
      "Name: count, dtype: int64\n",
      "\n",
      "Характеристика: size\n",
      "Количество уникальных значений: 4\n",
      "Список значений:\n",
      "size\n",
      "full-size      1476\n",
      "mid-size        824\n",
      "compact         458\n",
      "sub-compact      67\n",
      "Name: count, dtype: int64\n",
      "\n",
      "Характеристика: type\n",
      "Количество уникальных значений: 13\n",
      "Список значений:\n",
      "type\n",
      "sedan          1981\n",
      "SUV            1805\n",
      "pickup         1071\n",
      "truck           770\n",
      "other           519\n",
      "coupe           443\n",
      "hatchback       414\n",
      "wagon           255\n",
      "van             227\n",
      "convertible     204\n",
      "mini-van        113\n",
      "bus              22\n",
      "offroad          21\n",
      "Name: count, dtype: int64\n",
      "\n",
      "Характеристика: paint_color\n",
      "Количество уникальных значений: 12\n",
      "Список значений:\n",
      "paint_color\n",
      "white     1916\n",
      "black     1473\n",
      "silver    1041\n",
      "red        741\n",
      "blue       730\n",
      "grey       601\n",
      "green      173\n",
      "custom     154\n",
      "brown      144\n",
      "yellow      53\n",
      "orange      51\n",
      "purple      10\n",
      "Name: count, dtype: int64\n",
      "\n",
      "Характеристика: image_url\n",
      "Количество уникальных значений: 9081\n",
      "Список значений:\n",
      "image_url\n",
      "https://images.craigslist.org/00N0N_1xMPvfxRAIdz_0gw0co_600x450.jpg    191\n",
      "https://images.craigslist.org/00R0R_lwWjXSEWNa7z_0x20oM_600x450.jpg     47\n",
      "https://images.craigslist.org/00v0v_ihZKB5WEx8Rz_0gw0co_600x450.jpg      8\n",
      "https://images.craigslist.org/00D0D_aqVh7XGmJcQz_0gw0co_600x450.jpg      8\n",
      "https://images.craigslist.org/01515_iDoR0Hy6JSnz_0gw0co_600x450.jpg      7\n",
      "                                                                      ... \n",
      "https://images.craigslist.org/00H0H_5P0NdUIgHitz_0cU09G_600x450.jpg      1\n",
      "https://images.craigslist.org/01010_kWcxSNRynzVz_0ak07K_600x450.jpg      1\n",
      "https://images.craigslist.org/00C0C_brGwy1sldn8z_0gw0co_600x450.jpg      1\n",
      "https://images.craigslist.org/00T0T_dxg2Ciatq6Lz_0gw0co_600x450.jpg      1\n",
      "https://images.craigslist.org/00606_i5ldsyWM84Gz_0kE0fu_600x450.jpg      1\n",
      "Name: count, Length: 9081, dtype: int64\n",
      "\n",
      "Характеристика: description\n",
      "Количество уникальных значений: 9845\n",
      "Список значений:\n",
      "description\n",
      "PLEASE VIEW THE FREE CARFAX HISTORY REPORT AT OUR WEBSITE CARTERSCARSVT.COM OR CALL 802-891-6345 CHECK OUT OUR INVENTORY ON FACEBOOK!!!                                                                                                                                                                                                                                                                                                                                                                                                                                                                                                                                                                                                                                                                                                                                                                                                                                                                                                                                                                                                                                                                                                                                                                                                                                                                                                                                                                                                                                                                                                                                                                                                                                                                                                                                                                                                                                                                                                                                                                                                                                                                                                                                                                                                                                                                                                                                                                                                                                                                                                                                                                                                                                                                                                                                                                                                                                                                                                                                                                                                                                                                                                                                                                                                                                                                                                                                                                                                                                                                                                                                                                                                                                                                                                                                                                                                                                                                                                                                                                                                                                                                                                                                                                                                                                                                                                                                                                                                                                                                                                                                                                                                                                                                                                                                                                                                                                                                                                                                                                                                                                                                                                                                                                                                                                                                                                                                                                                                                                                                                                                                       7\n",
      "CREDIT CARS- $700.00 DOWN- RIGHT ON THE CORNER, RIGHT ON THE CREDIT!!  CALL US TODAY @ 352-204-2923 OR 352-204-2137. $700 DOWN!!!!!  CREDIT CHALLENGES??- NO PROBLEM- COME SEE US TODAY!  WE USE YOUR JOB AS YOUR CREDIT! ALL YOU NEED IS INCOME, PROOF OF INSURANCE, DRIVERS LICENSE, AND $700.00!!!  COME SEE US TODAY AT 320 NE 23RD AVENUE GAINESVILLE, FL 32609  WE ARE OPEN MONDAY- FRIDAY 9:00AM TO 7:00PM AND SATURDAY 9:00AM- 5:00PM  352-204-2137 OR 352-204-2137 CALL US TODAY TO SCHEDULE APPT!!  ⭐ Great Financing Options Available ⭐  ✅ Bad Credit? ✅ No Credit? ✅ First Time Buyer? ✅ We Work With Dozens Of Dealers To Get You Approved Fast Regardless Of Your Credit Situation.  🚘 Ready To Get Behind The Wheel Of Your New Car 🚘  100% APPROVAL! We use your job as your credit!  We Guarantee It! No matter your financial situation, you will drive off the lot in a new car, today.  ✅ Bad Credit ✅ No Credit ✅ Repossession ✅ Foreclosure ✅ SSI ✅ Disability ✅ Government Assistance  YOU'RE APPROVED!  🚘 🚘  ✅ Huge Selection Of Quality Pre-Owned Cars ✅ Leave With Confidence ✅ Trade-In Your Car Today For A Great Discount   📍 Stop By Today                                                                                                                                                                                                                                                                                                                                                                                                                                                                                                                                                                                                                                                                                                                                                                                                                                                                                                                                                                                                                                                                                                                                                                                                                                                                                                                                                                                                                                                                                                                                                                                                                                                                                                                                                                                                                                                                                                                                                                                                                                                                                                                                                                                                                                                                                                                                                                                                                                                                                                                                                                                                                                                                                                                                                                                                                                                                                                                                                                                                                                                                                                                                                                                                                                                                                                                                                                                                                                                                                                                                                                                                                                                                                                                                                                                                                                                                                                                                                                                                                                                                                                                                                                                                                                                                                                                                                                                                                                                                                                     5\n",
      "Call or text today to find out more. (602) 620-6525 Calls only landline (406) 245-1785  Available at Standard Auto Sales 1503 Broadwater Ave. Billings, MT 59102 standardautosales.net   Need help with financing? We have options for most credit situations. We never charge a doc fee! Extended service contracts available. We buy cars and take consignments! Call or text Mike today to find out more. (602) 620-6525  Welcome to Standard Auto Sales, located in Billings, MT, where quality service and customer satisfaction come first. We are here to help you find a vehicle that fits your lifestyle from our wide selection of used cars, trucks, and SUVs. We pride ourselves on a hassle-free car buying experience where your needs come first. Swing by to let us exceed your expectations while finding the perfect vehicle! Do you need financing for your next used vehicle purchase? Do you have a good credit, bad credit or no credit history situation? We work with a variety of financial institutions and we will work hard to get you approved quickly and easily, at the best rate possible! Apply now or call us at (406) 245-1785 or text (602) 620-6525 to schedule a test drive today!                                                                                                                                                                                                                                                                                                                                                                                                                                                                                                                                                                                                                                                                                                                                                                                                                                                                                                                                                                                                                                                                                                                                                                                                                                                                                                                                                                                                                                                                                                                                                                                                                                                                                                                                                                                                                                                                                                                                                                                                                                                                                                                                                                                                                                                                                                                                                                                                                                                                                                                                                                                                                                                                                                                                                                                                                                                                                                                                                                                                                                                                                                                                                                                                                                                                                                                                                                                                                                                                                                                                                                                                                                                                                                                                                                                                                                                                                                                                                                                                                                                                                                                                                                                                                                                                                                                                                                                                                                                      5\n",
      "35 VEHICLES PRICED UNDER $3000!!!  BIG TIME! TAX TIME! SALE TIME!  CALL US NOW!!! 321-242-0328  30TH YEAR IN BUSINESS!!!!  OUR ADDRESS:  1900 AURORA RD. MELBOURNE, FL 32935  321-242-0328  Call us or visit us now we have a huge selection of honda accord and civic and pilot in stock at all times! we specialize in Toyota Camry and Corolla and Sienna and 3RD Row Suv. We also stock Domestics like Ford Fusion Explorer and Escape and the really nice Edge. if you care looking for Chevy Traverse or Chevrolet Malibu or Impala and Cruze for gas saving we have those as well, including Buick Enclave we always have em! Lacrosse and Regal are here too! Encore is available just call first. We stock Luxury Brands like Acura Lexus and German brands BMW Mercedes Benz and Audi. Dont get us started on Jeep! We love to sell Grand Cherokee and Patriot and Compass! Want a Really Nice Minivan!?! We got Chrysler Town and Country Dodge Grand Caravan and Honda Odyssey Always Here!! Sporty? Charger Challanger Mustang and Camro can be located for you! Are you Hip? Kia Soul and Optima are your bag, we got em!!!! Mazda is here too!! 3 and 6 and CX9. Our Number one seller for 3RD Row is the Dodge Journey and Durango, we always have a bunch in stock, back up camera and push button start bluetooth panoramic sunroof. Cadillac SRX for the luxury driver is here too! Ever driven a Nissan Altima or Sentra or Pathfinder or Rogue, come drive one today and feel the sporty drive!                                                                                                                                                                                                                                                                                                                                                                                                                                                                                                                                                                                                                                                                                                                                                                                                                                                                                                                                                                                                                                                                                                                                                                                                                                                                                                                                                                                                                                                                                                                                                                                                                                                                                                                                                                                                                                                                                                                                                                                                                                                                                                                                                                                                                                                                                                                                                                                                                                                                                                                                                                                                                                                                                                                                                                                                                                                                                                                                                                                                                                                                                                                                                                                                                                                                                                                                                                                                                                                                                                                                                                                                                                                                                                                                                                                                                                                                                                                                                                                                                                                                                                                                                          4\n",
      "This truck has sold, but we buy trucks like this. If you know of one of these trucks for sale, we pay a finders fee.  Call Bobby! (636) 587 - 0660    7.3 7.3l 6.6 6.6l 5.9 5.9 6.7 6.7l powerstroke power stroke duramax cummins diesel lly lbz dmax pstroke big block small block big block smallblock sbf sbc bbf bbc efi 302 460 351 6.0 6.0L 5.0L 5.0 5.8L 5.8 7.5L 7.5 496 454 stroker 8.1 8.1L 12v 24v 4x4 four wheel drive 4wd laramie SLT Lariat lt lt1 lt2 lt3 ls club quad single crew cab clubcab quadcab singlecab crewcab cclb long bed longbed short shortbed  ccsb sclb scsb rustfree rust free clean 4door 2-door 2door 4-door ford dodge chevrolet chevy gmc sierra silverado f-250 f-350 f250 f350 ram 2500 3500 1st gen first gen firstgen 2nd gen 2ndgen second gen secondgen 3rd gen 3rdgen third gen thirdgen OBS superduty excursion supercrew supercab super duty 5-speed 6-speed stick shift stickshift manual transmission clutch intercooled inter cooled turbocharged turbo charged lonestar bighorn lone star big horn longhorn long horn low mile lowmile puller camper camp haul hauling hauler tow towing rig gooseneck goose neck 5th wheel fifth wheel 5thwheel fifthwheel hitch                                                                                                                                                                                                                                                                                                                                                                                                                                                                                                                                                                                                                                                                                                                                                                                                                                                                                                                                                                                                                                                                                                                                                                                                                                                                                                                                                                                                                                                                                                                                                                                                                                                                                                                                                                                                                                                                                                                                                                                                                                                                                                                                                                                                                                                                                                                                                                                                                                                                                                                                                                                                                                                                                                                                                                                                                                                                                                                                                                                                                                                                                                                                                                                                                                                                                                                                                                                                                                                                                                                                                                                                                                                                                                                                                                                                                                                                                                                                                                                                                                                                                                                                                                                                                                                                                                                                                                                                                                                           4\n",
      "                                                                                                                                                                                                                                                                                                                                                                                                                                                                                                                                                                                                                                                                                                                                                                                                                                                                                                                                                                                                                                                                                                                                                                                                                                                                                                                                                                                                                                                                                                                                                                                                                                                                                                                                                                                                                                                                                                                                                                                                                                                                                                                                                                                                                                                                                                                                                                                                                                                                                                                                                                                                                                                                                                                                                                                                                                                                                                                                                                                                                                                                                                                                                                                                                                                                                                                                                                                                                                                                                                                                                                                                                                                                                                                                                                                                                                                                                                                                                                                                                                                                                                                                                                                                                                                                                                                                                                                                                                                                                                                                                                                                                                                                                                                                                                                                                                                                                                                                                                                                                                                                                                                                                                                                                                                                                                                                                                                                                                                                                                                                                                                                                                                                             ..\n",
      "2016 Nissan Altima 2.5 4dr Sedan     Offered by: Ricks R and R Wholesale - APPLY TODAY - DRIVE TODAY! — (740) 217-4891 — $8,950     2016 NISSAN ALTIMA  GREAT ON GAS  POWERD BY THE 2.5 ENGINE   PLEANTY OF ROOM  IN THE BACK SEAT AND TRUNK  FOR ROAD TRIPS    PLEASE FEEL FREE TO TEXT US CALL US AT 740-215-9999   RANDRWHOLESALE.NET   Ricks R and R Wholesale - APPLY TODAY - DRIVE TODAY!    Year: 2016 Make: Nissan Model: Altima Series: 2.5 4dr Sedan VIN: 1N4AL3APXGC215540 Stock #: R5540 Condition: Used Mileage: 95,177 MPG: 27 city / 39 highway Exterior: White Interior: Charcoal Body: Sedan Transmission: CVT Engine: 2.5L I4 Drivetrain: fwd     ⭐️ RICKS R AND R WHOLESALE - APPLY TODAY - DRIVE TODAY! ⭐️  ↪ https://www.randrwholesale.net/finance  🔹🔹📲 ☎️️ CALL OR TEXT US (740) 217-4891 📲 ☎️️🔹🔹  ✅ ELITE FINANCING! LOWEST RATES & APR - EVEN ZERO-DOWN! *OAC*  ✅ 2ND CHANCE FINANCING - DON'T LET CREDIT HISTORY HOLD YOU BACK!  ✅ PAST REPOS, BANKRUPTCY, FORECLOSURES, CHARGE-OFFS?? - WE CAN HELP!   🔥🔥🔥 GET APPROVED TODAY!! COPY-PASTE IN BROWSER TO APPLY! 🔥🔥🔥  ↪ https://www.randrwholesale.net/finance   ✅ FIRST TIME BUYER? SELF-EMPLOYED? - YOU WANT A CAR? WE'LL FIND A WAY! ✅ TOP DOLLAR FOR YOUR TRADE-IN! EXTENDED SERVICE CONTRACTS AVAILABLE! ✅ ALL VEHICLES CAREFULLY SELECTED FOR QUALITY - INSPECTED AND SERVICED PRIOR TO SALE!  🦊 FREE CARFAX REPORTS WITH EVERY VEHICLE ON OUR WEBSITE!  ↪ https://www.randrwholesale.net/cars-for-sale  ⭐️⭐️ 📲 ☎️️ CALL OR TEXT (740) 217-4891 📲 ☎️️ ⭐️⭐️        Address: 3150 Old Columbus Rd NW Lancaster, OH 43130   Phone: (740) 217-4891     Website: www.randrwholesale.net      📲 ☎️ Call or text (740) 217-4891 for quick answers to your questions about this Nissan Altima Your message will always be answered by a real human — never an automated system.     Disclaimer: Ricks R and R Wholesale - APPLY TODAY - DRIVE TODAY! will never sell, share, or spam your mobile number. Standard text messaging rates may apply. Also near: Frankfort Bainbridge Laurelville Circleville Williamsport Ray Waverly Piketon Wellston Jackson Greenfield Mt Orab Seaman Zaleski McArthur South Webster Pomeroy Hillsboro Leesburg Georgetown Augusta Rome West Union Peebles Athens Nelsonville Logan Point Pleasant Gallipolis Jeffersonville Octa Lancaster Agusta Maysville Ravenswood Stockport Knockemstiff Denver Buchanan Idaho Jasper Kingston Clarksburg Roxabell Good Hope Lyndon South Salem Rainsboro Tarlton Gibsonville New Plymouth Creola Hamden Coalton Cynthiana Buena Vista New Vienna Rockbridge Logan Elm Village New Holland North Fork Village Bourneville Andersonville Byer Richland Londonderry Zanesville Portsmouth Ashland Huntingon Portsmouth Piketon\\r Update Disclaimer      2016 Nissan Altima 2.5 4dr Sedan   b8ca87ac559540d28dfe6ea7ce047ab5                                                                                                                                                                                                                                                                                                                                                                                                                                                                                                                                                                                                                                                                                                                                                                                                                                                                                                                                                                                                                                                                                                                                                                                                                                                                                                                                                                                                                                                                                                                                                                                                                                                                                                                                                                                                                                                                                                                                                                                                                                                                                                                                                                                                                                                                                                                                                                                                                                                                                                                                                                                                                                                                                                                                                                                                       1\n",
      "😍 **** #1 YELP REVIEWS FOR GOOD CREDIT* BAD CREDIT* NO CREDIT ****    We offer HIGHLY AGGRESSIVE financing for those with both good or bad credit.  Please visit our webpage where you can fill out a credit application and view our entire inventory online.      CALL - BRIAN in FINANCE at _562-582-1783_   FOR FAST APPROVALS APPLY ONLINE at www.GoDriveSmart.com 💥Credit Problems? We have The Best Yelp Reviews on Craigslist! We are the Customers #1 Choice for 7 Straight Years!  💥Best Quality Cars! - No Trash Auction Cars! 💥Best Financing! - We Own The Bank! Easiest Approvals 💥Best Customer Service - Just Read Any of Our Reviews Anywhere! Thank You! 🚘\"CHECK OUT OUR #1 YELP REVIEWS!!\" 🚘  😍 www.GoDriveSmart.com 😍   😷 FROM OUR FAMILY to YOURS- STAY HEALTHY!!     DRIVESMARTMOTORS.COM ALSO SPECIALIZES IN - toyota prius, toyota camry, RAV4, Toyota Tundra,  toyota sienna, honda cr v, Honda Pilot, honda odyssey, ford focus, Kia, rav, Honda Civic , Rio , BMW X6, Impreza, legacy, Subaru, Scion, Matrix, Honda, Kia, Mercedes , Elantra, Accord, Camrry, Hyundai,  Expedition, 4runner,Toyota Prius, *BMW* toyota camry, toyota rav4, hybrid, toyota tercel, toyota tundra,  toyota tacoma, toyota sienna, toyota corolla, honda civic, honda accord, honda cr v, honda pilot,  honda passport, honda prelude, honda odyssey, ford focus, Chevy, Hyundai, Kia, rav 4, Honda Civic, Rio , Impreza, legacy, Subaru, Scion, Matrix, Honda, Kia, Mercedes, Ford Focus , Elantra, Accord,  Camrry, Hyundai, geo metro, vw jetta, outback, GMC Yukon XL, 2500, Ford Excursion, INFINITI G35,  Chevrolet Suburban, 3500, 450, 250, tundra, toyota sienna, honda cr v, *Honda Pilot* *honda odyssey*  ford focus, Kia, rav, Honda Civic , Rio , Impreza, legacy, Subaru, Scion, Matrix, Honda, Kia, Mercedes ,  Elantra, Accord,Camrry, Hyundai, Expedition, 4runner, 2010, 10, 2011, 11, 2012, 12, LEXUS IS250, LEXUS,  2013, 13, 2014, 14, 2015, 15, 2016, 16, 2017, 17, 2018, 18 0 00 *GMC* *Yukon XL* FJ CRUISER, $500 DOWN,                                                                                                                                                                                                                                                                                                                                                                                                                                                                                                                                                                                                                                                                                                                                                                                                                                                                                                                                                                                                                                                                                                                                                                                                                                                                                                                                                                                                                                                                                                                                                                                                                                                                                                                                                                                                                                                                                                                                                                                                                                                                                                                                                                                                                                                                                                                                                                                                                                                                                                                                                                                                                                                                                                                                                                                                                                                                                                                                                                                                                                                                                                                                                                                                                                                                                                                                                                                                                                                                                                                                                                                                                      1\n",
      "2008 Ford F750 F 750 F-750 Super Duty 55ft 55 ft 55-ft Bucket Truck RWD CAT C7 C 7 C-7 7.2L 7.2 L 7.2-L I6 I 6 I-6 F750 Super Duty   55ft Bucket Truck   RWD CAT C7 7.2L I6 F750 Super Duty - 55ft Bucket Truck - RWD CAT C7 7.2L I6  PRICED TO SELL!81,214 mi. - Automatic - 2D SUV - 6 Cyl - RWD: Rear Wheel Drive - VIN# 3FRXF75T88V065726 - STK# 065726KA Commercial Trucks         Call (320) 275-2150www.katrucks.com         Address: 71062 Us Hwy 12, Dassel, MN 55325Hard to find with only 81,214 miles and  the automatic transmission provides for a smooth yet reliable ride. This smooth 6 Cylinder engine is ideal for performance and fuel economy plus thanks to the rear wheel drive, you can expect better acceleration. 🚚 KA Commercial Trucks We are proud to carry a large selection of trucks, flatbeds, dump trucks, and service trucks in inventory! Call Only:📱 320-275-2150  📄 Financing Available 📝 There's no reason to wait! To get a quote, apply now. Our staff will contact you about our available financing options: https://www.katrucks.com/credit-financing-cargo-trailers-heavy-trucks-truck-beds-dealership--financing  🚘 Vehicle Information:  STOCK: 065726 YEAR: 2008 MAKE: Ford MODEL: F750 Super Duty - 55ft Bucket Truck - RWD CAT C7 7.2L I6 TRIM:  MILES: 81,214   👍 TRADE-INS WELCOME! 👍 NO PRESSURE SALES We pride ourselves on providing our customers with the information they need to make the best-educated decision for them. 👉 There are other similar years of vehicles to choose from such as 2014 2013 2012 2011 2010 2009 2008  2007 2006 2005 2004 2003 2002 14 13 12 11 10 09 8  07 06 05 04 03 02 Ford F750 Super Duty - 55ft Bucket Truck - RWD CAT C7 7.2L I6  - Contact us today for more information. 💻 Copy and Paste the Below Link For More Inventory: https://www.katrucks.com/default.asp?page=xAllInventory  🕗 Hours:  Monday: 8:00AM - 5:00PM Tuesday: 8:00AM - 5:00PM Wednesday: 8:00AM - 5:00PM Thursday:8:00AM - 5:00PM Friday: 8:00AM - 5:00PM Saturday: By Appointment Sunday: Closed   We are located in Dassel, MN in Central Minnesota. About an hour west of Minneapolis, 1 hour east of Willmar on Hwy 12, 1/2 hr south of St Cloud on MN Hwy 15, and about 20 minutes north of Hutchinson. We are just west of the Hwy 12 and Hwy 15 intersection.  Advertised pricing excludes applicable taxes title and licensing, dealer set up, destination, reconditioning and are subject to change without notice. Pricing may exclude any added parts, accessories or installation unless otherwise noted. Sale prices include all applicable offers. Not all options listed available on pre-owned models. Contact dealer for details. This turbocharged engine delivers more power and fuel efficiency, in addition to  the cruise control can prevent driver fatigue on long journeys. Thanks to the installed power outlet, you can plug in devices when on the move.Aggressively priced at just $38,943, this 2008 Ford F750 Super Duty - 55ft Bucket Truck - RWD CAT C7 7.2L I6 SUV won't last long. Take advantage of our hassle free approachKA Commercial Trucks         Call (320) 275-2150www.katrucks.com         Address: 71062 Us Hwy 12, Dassel, MN 553252008* Ford* F750 Super Duty - 55ft Bucket Truck - RWD CAT C7 7.2L I6* 2008_Ford_F750 Super Duty - 55ft Bucket Truck - RWD CAT C7 7.2L I6_ 2008_ Ford_ F750 Super Duty - 55ft Bucket Truck - RWD CAT C7 7.2L I6_ *Ford F750 Super Duty - 55ft Bucket Truck - RWD CAT C7 7.2L I6* *Ford F750 Super Duty - 55ft Bucket Truck - RWD CAT C7 7.2L I6 * *Ford* *F750 Super Duty - 55ft Bucket Truck - RWD CAT C7 7.2L I6* ** *2008 Ford F750 Super Duty - 55ft Bucket Truck - RWD CAT C7 7.2L I6* *2008 Ford F750 Super Duty - 55ft Bucket Truck - RWD CAT C7 7.2L I6 * *F750 Super Duty - 55ft Bucket Truck - RWD CAT C7 7.2L I6 2008* *Ford F750 Super Duty - 55ft Bucket Truck - RWD CAT C7 7.2L I6 2008* *F750 Super Duty - 55ft Bucket Truck - RWD CAT C7 7.2L I6 2008* *Ford F750 Super Duty - 55ft Bucket Truck - RWD CAT C7 7.2L I6 2008* *Ford F750 Super Duty - 55ft Bucket Truck - RWD CAT C7 7.2L I6 2008 * *Ford F750 Super Duty - 55ft Bucket Truck - RWD CAT C7 7.2L I6 Automatic* *Ford F750 Super Duty - 55ft Bucket Truck - RWD CAT C7 7.2L I6 Automatic * *Automatic Ford F750 Super Duty - 55ft Bucket Truck - RWD CAT C7 7.2L I6* *Ford Automatic F750 Super Duty - 55ft Bucket Truck - RWD CAT C7 7.2L I6* *Automatic* *CAT C7 7.2L I6 S 2dr* *Ford* *F750 Super Duty - 55ft Bucket Truck - RWD CAT C7 7.2L I6 2008* *Ford F750 Super Duty - 55ft Bucket Truck - RWD CAT C7 7.2L I6 * * Ford F750 Super Duty - 55ft Bucket Truck - RWD CAT C7 7.2L I6* ** *CAT C7 7.2L I6 SV 2dr* *Ford F750 Super Duty - 55ft Bucket Truck - RWD CAT C7 7.2L I6 2008* *CAT C7 7.2L I6 SL 2dr* *Ford* *F750 Super Duty - 55ft Bucket Truck - RWD CAT C7 7.2L I6 2008* *CAT C7 7.2L I6 + 2dr* *Ford F750 Super Duty - 55ft Bucket Truck - RWD CAT C7 7.2L I6 2008* *CAT C7 7.2L I6 S SUV* *Ford* *F750 Super Duty - 55ft Bucket Truck - RWD CAT C7 7.2L I6 2008* *CAT C7 7.2L I6 SUV* *Ford F750 Super Duty - 55ft Bucket Truck - RWD CAT C7 7.2L I6 2008* *CAT C7 7.2L I6 SUV F750 Super Duty - 55ft Bucket Truck - RWD CAT C7 7.2L I6* *Ford* *F750 Super Duty - 55ft Bucket Truck - RWD CAT C7 7.2L I6 2008* *CAT C7 7.2L I6 SUV F750 F 750 F-750 Super Duty 55ft 55 ft 55-ft Bucket Truck RWD CAT C7 C 7 C-7 7.2L 7.2 L 7.2-L I6 I 6 I-6 F750 Super Duty   55ft Bucket Truck   RWD CAT C7 7.2L I6 F750 Super Duty - 55ft Bucket Truck - RWD CAT C7 7.2L I6 Powered by WizPoster.com — #1 Craigslist Posting Tool.    1\n",
      "Carvana is the safer way to buy a car During these uncertain times, Carvana is dedicated to ensuring safety for all of our customers. In addition to our 100% online shopping and selling experience that allows all customers to buy and trade their cars without ever leaving the safety of their house, we’re providing touchless delivery that make all aspects of our process even safer. Now, you can get the car you want, and trade in your old one, while avoiding person-to-person contact with our friendly advocates. There are some things that can’t be put off. And if buying a car is one of them, know that we’re doing everything we can to keep you keep moving while continuing to put your health safety, and happiness first. Vehicle Stock# 2000900644📱 Want to instantly check this car’s availability? Call us at  970-329-2136Just text that stock number to 855-976-4304 or head to  and plug it into the search bar!Get PRE-QUALIFIED for your auto loan in 2 minutes - no hit to your credit:http://finance.carvanaauto.com/6811933-74576Looking for more cars like this one? We have 13 Buick Encore GX in stock for as low as $22590!Why buy with Carvana? We have one standard: the highest. Take a look at just some of the qualifications all of our cars must meet before we list them.150-POINT INSPECTION: We put each vehicle through a 150-point inspection so that you can be 100% confident in its quality and safety. See everything that goes into our inspections at:NO REPORTED ACCIDENTS: We do not sell cars that have been in a reported accident or have a frame or structural damage.7 DAY TEST OWN MONEY BACK GUARANTEE: Every Carvana car comes with a 7-day money-back guarantee. Why? It takes more than 15-minutes to make a decision on your next car. Learn more about test owning at http://about.carvanaauto.comFLEXIBLE FINANCING, TRADE INS WELCOME: We’re all about real-time financing without the middle man. Need financing? Pick a combination of down and monthly payments that work for you. Have a trade-in? We’ll give you a value in 2 minutes. Check out everything about our financing at:http://finance.carvanaauto.com/6811933-74576COST SAVINGS: Carvana's business model has fewer expenses and no bloated fees compared to your local dealership. See how much we can save you at http://about.carvanaauto.comPREMIUM DETAIL: We go the extra mile so that your car is looking as good as new. There are a lot of specifics that we won’t list here (we wash, clean, buff, paint, polish, wax, seal), but trust us that when your car arrives, it’s going to look sweet.Vehicle Info for Stock# 2000900644Trim: Select Sport Utility 4D suvMileage: 1k milesExterior Color: RedInterior Color: BeigeEngine: ECOTEC 1.3L Turbo I3 150hp 174ft. lbs.Drive: fwdTransmission: CVTVIN: KL4MMDSL6LB104869Dealer Disclosure: Price excludes tax, title, and registration (which we handle for you).Disclaimer: You agree that by providing your phone number, Carvana, or Carvana’s authorized representatives*, may call and/or send text messages (including by using equipment to automatically dial telephone numbers) about your interest in a purchase, for marketing/sales purposes, or for any other servicing or informational purpose related to your account. You do not have to consent to receiving calls or texts to purchase from Carvana. While every reasonable effort is made to ensure the accuracy of the information for this Buick Encore GX, we are not responsible for any errors or omissions contained in this ad. Please verify any information in question with Carvana at 970-329-2136*Including, but not limited to, Bridgecrest Credit Company, GO Financial and SilverRock Automotive.*Buick* *Encore* *GX* *Base* *Buick* *Encore* *GX* *Convenience* *Buick* *Encore* *GX* *Leather* *Buick* *Encore* *GX* *Premium* *Front* *wheel* *Buick* *Encore* *GX* *All* *wheel* *Drive* *Sports* *Utility* 2022  2021  2020  2019  2018  2017  2016  2015  2014  2013  2012  2011  2010  2009  2008  2007  2006  2005  2004  2003  2002  2001  2000   22  21    19  18  17  16  15  14  13  12  11  10  09  08  07  06  05  04  03  02  01  00                                                                                                                                                                                                                                                                                                                                                                                                                                                                                                                                                                                                                                                                                                                                                                                                                                                                                                                                                                                                                                                                                                                                                                                                                                                                                                                                                                                                                              1\n",
      "Price is negotiable. This is the one with Honda Motor and Honda Transmission.  Selling to get a more fuel efficient vehicle since I work far.   Approximately 108,000 miles. Transmission fluid, tires, battery, and tune up about 1 year old.   Oil changed every 5,000 miles.   Drives me safely to and from work daily issue free.   No check engine light codes and smog is clean and easy.  No leaks.   Original owner is my grandma who purchased this vehicle from Saturn of Loma Linda in 2005.                                                                                                                                                                                                                                                                                                                                                                                                                                                                                                                                                                                                                                                                                                                                                                                                                                                                                                                                                                                                                                                                                                                                                                                                                                                                                                                                                                                                                                                                                                                                                                                                                                                                                                                                                                                                                                                                                                                                                                                                                                                                                                                                                                                                                                                                                                                                                                                                                                                                                                                                                                                                                                                                                                                                                                                                                                                                                                                                                                                                                                                                                                                                                                                                                                                                                                                                                                                                                                                                                                                                                                                                                                                                                                                                                                                                                                                                                                                                                                                                                                                                                                                                                                                                                                                                                                                                                                                                                                                                                                                                                                                                                                                                                                                                                                                                                                                                                                                                                                                                                                                                                                                                                                       1\n",
      "Name: count, Length: 9845, dtype: int64\n",
      "\n",
      "Характеристика: county\n",
      "Количество уникальных значений: 0\n",
      "Список значений:\n",
      "Series([], Name: count, dtype: int64)\n",
      "\n",
      "Характеристика: state\n",
      "Количество уникальных значений: 51\n",
      "Список значений:\n",
      "state\n",
      "ca    1113\n",
      "fl     690\n",
      "tx     535\n",
      "mi     462\n",
      "ny     453\n",
      "oh     414\n",
      "pa     354\n",
      "nc     352\n",
      "or     333\n",
      "wa     318\n",
      "co     303\n",
      "wi     290\n",
      "il     251\n",
      "nj     241\n",
      "tn     239\n",
      "va     237\n",
      "az     212\n",
      "ia     206\n",
      "mn     201\n",
      "id     199\n",
      "ga     179\n",
      "ma     172\n",
      "ks     170\n",
      "ok     166\n",
      "mt     153\n",
      "sc     139\n",
      "in     135\n",
      "ct     124\n",
      "md     120\n",
      "al     102\n",
      "ky      98\n",
      "mo      97\n",
      "ak      89\n",
      "nm      88\n",
      "nv      78\n",
      "la      78\n",
      "ar      77\n",
      "dc      72\n",
      "ri      71\n",
      "nh      69\n",
      "me      68\n",
      "vt      63\n",
      "hi      56\n",
      "sd      37\n",
      "ut      31\n",
      "ms      29\n",
      "ne      26\n",
      "wv      21\n",
      "de      18\n",
      "wy      13\n",
      "nd       8\n",
      "Name: count, dtype: int64\n",
      "\n",
      "Характеристика: lat\n",
      "Количество уникальных значений: 5049\n",
      "Список значений:\n",
      "lat\n",
      "43.182400    88\n",
      "33.779214    79\n",
      "40.468785    73\n",
      "33.786500    54\n",
      "46.234838    50\n",
      "             ..\n",
      "38.352426     1\n",
      "28.098181     1\n",
      "28.038100     1\n",
      "34.553667     1\n",
      "41.086731     1\n",
      "Name: count, Length: 5049, dtype: int64\n",
      "\n",
      "Характеристика: long\n",
      "Количество уникальных значений: 5082\n",
      "Список значений:\n",
      "long\n",
      "-84.112200     88\n",
      "-84.411811     79\n",
      "-74.281707     73\n",
      "-84.445400     54\n",
      "-119.128015    50\n",
      "               ..\n",
      "-88.557959      1\n",
      "-76.034768      1\n",
      "-121.019000     1\n",
      "-81.621875      1\n",
      "-122.393067     1\n",
      "Name: count, Length: 5082, dtype: int64\n",
      "\n",
      "Характеристика: posting_date\n",
      "Количество уникальных значений: 9957\n",
      "Список значений:\n",
      "posting_date\n",
      "2021-04-13T09:11:02-0500    3\n",
      "2021-04-28T06:06:44-0400    2\n",
      "2021-05-02T15:50:49-0400    2\n",
      "2021-05-03T16:42:17-0400    2\n",
      "2021-04-29T17:27:27-0400    2\n",
      "                           ..\n",
      "2021-04-21T17:11:17-0400    1\n",
      "2021-05-03T13:59:09-0700    1\n",
      "2021-05-01T18:03:06-0500    1\n",
      "2021-04-06T10:41:03-0600    1\n",
      "2021-05-01T15:46:41-0700    1\n",
      "Name: count, Length: 9957, dtype: int64\n",
      "\n",
      "Характеристика: price_category\n",
      "Количество уникальных значений: 3\n",
      "Список значений:\n",
      "price_category\n",
      "high      3514\n",
      "medium    3294\n",
      "low       3242\n",
      "Name: count, dtype: int64\n",
      "\n"
     ]
    }
   ],
   "source": [
    "for column in df.columns:\n",
    "    print('Характеристика:', column)\n",
    "    print('Количество уникальных значений:', df[column].nunique())\n",
    "    print('Список значений:')\n",
    "    print(df[column].value_counts())\n",
    "    print()"
   ]
  },
  {
   "cell_type": "markdown",
   "id": "6bd31b3f",
   "metadata": {
    "id": "6bd31b3f",
    "pycharm": {
     "name": "#%% md\n"
    }
   },
   "source": [
    "### Задача 3. Определение типов переменных в датасете\n",
    "**Что нужно сделать**\n",
    "\n",
    "После ознакомления с характеристиками заполните в таблице, к какому типу относятся некоторые переменные. Для этого на пересечении названия переменной и типа переменной проставьте «X».\n",
    "\n",
    "\n",
    "|  Переменная    | Дискретная | Непрерывная | Качественная |\n",
    "|----------------|------------|-------------|-------------|\n",
    "| id             | X          |             |             |\n",
    "| region         |            |             | X           |\n",
    "| year           | X          |             |             |\n",
    "| manufacturer   |            |             | X           |\n",
    "| condition      |            |             | X           |\n",
    "| fuel           |            |             | X           |\n",
    "| odometer       |            | X           |             |\n",
    "| title_status   |            |             | X           |\n",
    "| transmission   |            |             | X           |\n",
    "| VIN            |            |             | X           |\n",
    "| drive          |            |             | X           |\n",
    "| paint_color    |            |             | X           |\n",
    "| state          |            |             | X           |\n",
    "| price_category |            |             | X           |\n"
   ]
  },
  {
   "cell_type": "markdown",
   "source": [
    "### Задача 4. Определение целевой переменной в данных и распределения переменных\n",
    "**Что нужно сделать**\n",
    "\n",
    "1. Исходя из поставленной задачи определите, в какой колонке находится целевая переменная.\n",
    "\n",
    "\n",
    "\n",
    "**Ответ:** price_category"
   ],
   "metadata": {
    "id": "ZZSmo9bwiNeP",
    "pycharm": {
     "name": "#%% md\n"
    }
   },
   "id": "ZZSmo9bwiNeP"
  },
  {
   "cell_type": "markdown",
   "source": [
    "2. Выведите для каждого значения целевой переменной его долю вхождения в выборку.\n"
   ],
   "metadata": {
    "id": "usHGGkBpkzUi",
    "pycharm": {
     "name": "#%% md\n"
    }
   },
   "id": "usHGGkBpkzUi"
  },
  {
   "cell_type": "code",
   "source": [
    "# Ваш код здесь\n",
    "price_category_counts = df['price_category'].value_counts(normalize=True)\n",
    "price_category_counts"
   ],
   "metadata": {
    "id": "q7hPwXQllXkY",
    "pycharm": {
     "name": "#%%\n"
    }
   },
   "id": "q7hPwXQllXkY",
   "execution_count": 14,
   "outputs": [
    {
     "data": {
      "text/plain": "price_category\nhigh      0.349652\nmedium    0.327761\nlow       0.322587\nName: proportion, dtype: float64"
     },
     "execution_count": 14,
     "metadata": {},
     "output_type": "execute_result"
    }
   ]
  },
  {
   "cell_type": "markdown",
   "source": [
    "3. Ещё раз посмотрите на долю или количество вхождений каждого значения целевой переменной в выборку и напишите, какое это распределение. Определить, как распределены значения целевой переменной, в данном случае можно и без графика. \n",
    "\n",
    "**Ответ:** Равномерное распределение"
   ],
   "metadata": {
    "id": "TLPoUkHBmw__",
    "pycharm": {
     "name": "#%% md\n"
    }
   },
   "id": "TLPoUkHBmw__"
  },
  {
   "cell_type": "code",
   "source": [],
   "metadata": {
    "id": "U4macJgemxnw",
    "pycharm": {
     "name": "#%%\n"
    }
   },
   "id": "U4macJgemxnw",
   "execution_count": null,
   "outputs": []
  }
 ],
 "metadata": {
  "kernelspec": {
   "display_name": "Python 3",
   "language": "python",
   "name": "python3"
  },
  "language_info": {
   "codemirror_mode": {
    "name": "ipython",
    "version": 3
   },
   "file_extension": ".py",
   "mimetype": "text/x-python",
   "name": "python",
   "nbconvert_exporter": "python",
   "pygments_lexer": "ipython3",
   "version": "3.8.8"
  },
  "toc": {
   "base_numbering": 1,
   "nav_menu": {},
   "number_sections": true,
   "sideBar": true,
   "skip_h1_title": false,
   "title_cell": "Table of Contents",
   "title_sidebar": "Contents",
   "toc_cell": false,
   "toc_position": {},
   "toc_section_display": true,
   "toc_window_display": false
  },
  "colab": {
   "name": "17.8_Практическая работа.ipynb",
   "provenance": [],
   "collapsed_sections": []
  }
 },
 "nbformat": 4,
 "nbformat_minor": 5
}