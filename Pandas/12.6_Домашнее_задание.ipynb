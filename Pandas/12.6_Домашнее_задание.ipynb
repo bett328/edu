{
 "cells": [
  {
   "cell_type": "markdown",
   "metadata": {
    "id": "zUqy3u0mOqRA"
   },
   "source": [
    "# Pandas. Домашнее задание\n",
    "\n",
    "В домашнем задании есть обязательные и дополнительные задачи.\n",
    "\n",
    "*Обязательные задачи* нужно сделать, чтобы проверить, что вы действительно усвоили материал модуля. Они обязательны к загрузке на проверку преподавателю.\n",
    "\n",
    "*Дополнительные задачи* для тех, кто чувствует, что нужно ещё немного потренироваться и порешать задачки по работе с Pandas. Вы также можете загрузить их на проверку преподавателю и получить по ним обратную связь.\n",
    "\n",
    "Удачи!"
   ]
  },
  {
   "cell_type": "markdown",
   "metadata": {
    "id": "5b2c9q-uRFgE"
   },
   "source": [
    "\n",
    "\n",
    "---\n",
    "\n",
    "\n",
    "\n",
    "---\n",
    "\n"
   ]
  },
  {
   "cell_type": "markdown",
   "metadata": {
    "id": "9YruChoFPlTH"
   },
   "source": [
    "**Цели домашнего задания:**\n",
    "1. Научиться работать с описательными статистиками набора данных.\n",
    "2. Научиться выбирать данные по условиям.\n",
    "3. Научиться объединять несколько датафреймов в один.\n"
   ]
  },
  {
   "cell_type": "markdown",
   "metadata": {
    "id": "s0ln3tQ_QZK4"
   },
   "source": [
    "**Что входит в домашнее задание:**\n",
    "1. *Обязательные задачи*:\n",
    "\n",
    "17 задач с использованием:\n",
    "- набора рекламных данных, показывающих, щелкнул ли конкретный пользователь интернета рекламу на веб-сайте компании или нет,\n",
    "- дополнительного набора данных, описывающего пользователей, посещающих веб-сайт компании.\n",
    "2. *Дополнительные задачи*:\n",
    "\n",
    "3 задачи для отработки исследования данных.\n"
   ]
  },
  {
   "cell_type": "markdown",
   "metadata": {
    "id": "QLCrcUsFLTVr"
   },
   "source": [
    "**Критерии оценки:**\n",
    "- программа выдаёт верный ответ на заданном наборе данных;\n",
    "- код читабелен: переменным даны осмысленные названия, отступы и правила расстановки пробелов соблюдены."
   ]
  },
  {
   "cell_type": "markdown",
   "metadata": {
    "id": "UKH0UuMA7pyF"
   },
   "source": [
    "**Как отправить задание на проверку**\n",
    "\n",
    "Выполните задачи, сохраните изменения при помощи опции Save and Checkpoint из вкладки меню File или кнопки Save and Checkpoint на панели инструментов. Отправьте через форму на платформе итоговый файл Jupyter Notebook (в формате .ipynb) или ссылку на него."
   ]
  },
  {
   "cell_type": "markdown",
   "metadata": {
    "id": "hYa6ZRVRRHbE"
   },
   "source": [
    "\n",
    "\n",
    "---\n",
    "\n",
    "\n",
    "---\n",
    "\n"
   ]
  },
  {
   "cell_type": "markdown",
   "metadata": {
    "id": "UgcrtNvYQ_01"
   },
   "source": [
    "**Обязательные задачи**"
   ]
  },
  {
   "cell_type": "markdown",
   "metadata": {
    "id": "p0t9GY6BOjpL"
   },
   "source": [
    "В течение всего домашнего задания вы будете работать с несколькими наборами данных:\n",
    "1. Набор рекламных данных, показывающих, щёлкнул ли конкретный пользователь рекламу на сайте компании или нет. Состоит из трёх разных файлов: `advertising_1.csv`, `advertising_2.csv`, `advertising_3.csv`.\n",
    "\n",
    "Описание столбцов датасета:\n",
    "- **Number**: Номер пользователя в системе.\n",
    "- **Daily Time Spent on Site**: Среднее ежедневное время нахождения пользователя на сайте в минутах.\n",
    "- **Daily Internet Usage**: Среднее ежедневное время нахождения пользователя в интернете в минутах.\n",
    "- **Ad Topic Line**: Заголовок рекламного объявления.\n",
    "- **Clicked on Ad**: Кликнул пользователь на рекламу или нет.\n",
    "\n",
    "Дополнительный к рекламным данным датасет, который описывает пользователей, посещающих сайт компании. Состоит из одного файла: users.csv.\n",
    "\n",
    "Описание столбцов датасета:\n",
    "- **Number**: Номер пользователя в системе.\n",
    "- **Age**: Возраст пользователя.\n",
    "- **Male**: Является ли пользователь мужчиной.\n",
    "- **City**: Город пользователя.\n",
    "- **Country**: Страна пользователя.\n",
    "- **Area Income**: Средний доход в месте жительства пользователя.\n"
   ]
  },
  {
   "cell_type": "markdown",
   "metadata": {
    "id": "kr8Q_RUzOjpM"
   },
   "source": [
    "***Задача 1***\n",
    "\n",
    "Загрузите таблицу из файла `advertising_1.csv` и сохраните её в датафрейм `adv1_df`. Укажите в качестве индекса столбец `Number`. Выведите на экран первые десять строк.\n"
   ]
  },
  {
   "cell_type": "code",
   "execution_count": 55,
   "metadata": {
    "ExecuteTime": {
     "end_time": "2021-10-24T10:55:47.101496Z",
     "start_time": "2021-10-24T10:55:47.098939Z"
    },
    "id": "hLC8F1acOjpN"
   },
   "outputs": [
    {
     "data": {
      "text/html": [
       "<div>\n",
       "<style scoped>\n",
       "    .dataframe tbody tr th:only-of-type {\n",
       "        vertical-align: middle;\n",
       "    }\n",
       "\n",
       "    .dataframe tbody tr th {\n",
       "        vertical-align: top;\n",
       "    }\n",
       "\n",
       "    .dataframe thead th {\n",
       "        text-align: right;\n",
       "    }\n",
       "</style>\n",
       "<table border=\"1\" class=\"dataframe\">\n",
       "  <thead>\n",
       "    <tr style=\"text-align: right;\">\n",
       "      <th></th>\n",
       "      <th>Daily Time Spent on Site</th>\n",
       "      <th>Daily Internet Usage</th>\n",
       "      <th>Ad Topic Line</th>\n",
       "      <th>Clicked on Ad</th>\n",
       "    </tr>\n",
       "    <tr>\n",
       "      <th>Number</th>\n",
       "      <th></th>\n",
       "      <th></th>\n",
       "      <th></th>\n",
       "      <th></th>\n",
       "    </tr>\n",
       "  </thead>\n",
       "  <tbody>\n",
       "    <tr>\n",
       "      <th>5</th>\n",
       "      <td>68.95</td>\n",
       "      <td>256.09</td>\n",
       "      <td>Cloned 5thgeneration orchestration</td>\n",
       "      <td>0</td>\n",
       "    </tr>\n",
       "    <tr>\n",
       "      <th>6</th>\n",
       "      <td>80.23</td>\n",
       "      <td>193.77</td>\n",
       "      <td>Monitored national standardization</td>\n",
       "      <td>0</td>\n",
       "    </tr>\n",
       "    <tr>\n",
       "      <th>8</th>\n",
       "      <td>74.15</td>\n",
       "      <td>245.89</td>\n",
       "      <td>Triple-buffered reciprocal time-frame</td>\n",
       "      <td>0</td>\n",
       "    </tr>\n",
       "    <tr>\n",
       "      <th>9</th>\n",
       "      <td>NaN</td>\n",
       "      <td>225.58</td>\n",
       "      <td>Robust logistical utilization</td>\n",
       "      <td>0</td>\n",
       "    </tr>\n",
       "    <tr>\n",
       "      <th>10</th>\n",
       "      <td>59.99</td>\n",
       "      <td>226.74</td>\n",
       "      <td>Sharable client-driven software</td>\n",
       "      <td>0</td>\n",
       "    </tr>\n",
       "    <tr>\n",
       "      <th>11</th>\n",
       "      <td>88.91</td>\n",
       "      <td>208.36</td>\n",
       "      <td>Enhanced dedicated support</td>\n",
       "      <td>0</td>\n",
       "    </tr>\n",
       "    <tr>\n",
       "      <th>12</th>\n",
       "      <td>NaN</td>\n",
       "      <td>131.76</td>\n",
       "      <td>Reactive local challenge</td>\n",
       "      <td>1</td>\n",
       "    </tr>\n",
       "    <tr>\n",
       "      <th>13</th>\n",
       "      <td>74.53</td>\n",
       "      <td>NaN</td>\n",
       "      <td>Configurable coherent function</td>\n",
       "      <td>0</td>\n",
       "    </tr>\n",
       "    <tr>\n",
       "      <th>14</th>\n",
       "      <td>69.88</td>\n",
       "      <td>183.82</td>\n",
       "      <td>Mandatory homogeneous architecture</td>\n",
       "      <td>0</td>\n",
       "    </tr>\n",
       "    <tr>\n",
       "      <th>15</th>\n",
       "      <td>47.64</td>\n",
       "      <td>122.02</td>\n",
       "      <td>Centralized neutral neural-net</td>\n",
       "      <td>1</td>\n",
       "    </tr>\n",
       "  </tbody>\n",
       "</table>\n",
       "</div>"
      ],
      "text/plain": [
       "        Daily Time Spent on Site  Daily Internet Usage  \\\n",
       "Number                                                   \n",
       "5                          68.95                256.09   \n",
       "6                          80.23                193.77   \n",
       "8                          74.15                245.89   \n",
       "9                            NaN                225.58   \n",
       "10                         59.99                226.74   \n",
       "11                         88.91                208.36   \n",
       "12                           NaN                131.76   \n",
       "13                         74.53                   NaN   \n",
       "14                         69.88                183.82   \n",
       "15                         47.64                122.02   \n",
       "\n",
       "                                Ad Topic Line  Clicked on Ad  \n",
       "Number                                                        \n",
       "5          Cloned 5thgeneration orchestration              0  \n",
       "6          Monitored national standardization              0  \n",
       "8       Triple-buffered reciprocal time-frame              0  \n",
       "9               Robust logistical utilization              0  \n",
       "10            Sharable client-driven software              0  \n",
       "11                 Enhanced dedicated support              0  \n",
       "12                   Reactive local challenge              1  \n",
       "13             Configurable coherent function              0  \n",
       "14         Mandatory homogeneous architecture              0  \n",
       "15             Centralized neutral neural-net              1  "
      ]
     },
     "execution_count": 55,
     "metadata": {},
     "output_type": "execute_result"
    }
   ],
   "source": [
    "# Ваш код здесь\n",
    "import pandas as pd\n",
    "adv1_df = pd.read_csv('./12.6 Данные для домашнего задания/12.6 Данные для домашнего задания/advertising_1.csv')\n",
    "adv1_df = adv1_df.set_index('Number')\n",
    "adv1_df.head(10)"
   ]
  },
  {
   "cell_type": "markdown",
   "metadata": {
    "id": "cViBXi62OjpP"
   },
   "source": [
    "***Задача 2***\n",
    "\n",
    "Выведите размер датафрейма `adv1_df`."
   ]
  },
  {
   "cell_type": "code",
   "execution_count": 5,
   "metadata": {
    "ExecuteTime": {
     "end_time": "2021-10-24T10:41:11.069411Z",
     "start_time": "2021-10-24T10:41:11.066371Z"
    },
    "id": "Tx2VYklzOjpQ"
   },
   "outputs": [
    {
     "data": {
      "text/plain": [
       "(500, 4)"
      ]
     },
     "execution_count": 5,
     "metadata": {},
     "output_type": "execute_result"
    }
   ],
   "source": [
    "# Ваш код здесь\n",
    "adv1_df.shape"
   ]
  },
  {
   "cell_type": "markdown",
   "metadata": {
    "ExecuteTime": {
     "end_time": "2021-10-24T10:44:08.227238Z",
     "start_time": "2021-10-24T10:44:08.222208Z"
    },
    "id": "g6aonGrwOjpR"
   },
   "source": [
    "***Задача 3***\n",
    "\n",
    "Выведите cреднее ежедневное время нахождения в интернете пользователя под номером 8."
   ]
  },
  {
   "cell_type": "code",
   "execution_count": 6,
   "metadata": {
    "id": "VMD2ymWQOjpR"
   },
   "outputs": [
    {
     "data": {
      "text/plain": [
       "245.89"
      ]
     },
     "execution_count": 6,
     "metadata": {},
     "output_type": "execute_result"
    }
   ],
   "source": [
    "# Ваш код здесь\n",
    "adv1_df.loc[8, 'Daily Internet Usage']"
   ]
  },
  {
   "cell_type": "markdown",
   "metadata": {
    "id": "BiUTqgnWOjpS"
   },
   "source": [
    "***Задача 4***\n",
    "\n",
    "Загрузите таблицу из файла `advertising_2.csv` и сохраните её в датафрейм `adv2_df`. Укажите в качестве индекса стоблец `Number`. Выведите на экран строки для пользователей с номерами с 533-го по 536-й."
   ]
  },
  {
   "cell_type": "code",
   "execution_count": 32,
   "metadata": {
    "id": "163Nee-yOjpS"
   },
   "outputs": [
    {
     "data": {
      "text/html": [
       "<div>\n",
       "<style scoped>\n",
       "    .dataframe tbody tr th:only-of-type {\n",
       "        vertical-align: middle;\n",
       "    }\n",
       "\n",
       "    .dataframe tbody tr th {\n",
       "        vertical-align: top;\n",
       "    }\n",
       "\n",
       "    .dataframe thead th {\n",
       "        text-align: right;\n",
       "    }\n",
       "</style>\n",
       "<table border=\"1\" class=\"dataframe\">\n",
       "  <thead>\n",
       "    <tr style=\"text-align: right;\">\n",
       "      <th></th>\n",
       "      <th>Daily Time Spent on Site</th>\n",
       "      <th>Daily Internet Usage</th>\n",
       "      <th>Ad Topic Line</th>\n",
       "      <th>Clicked on Ad</th>\n",
       "    </tr>\n",
       "    <tr>\n",
       "      <th>Number</th>\n",
       "      <th></th>\n",
       "      <th></th>\n",
       "      <th></th>\n",
       "      <th></th>\n",
       "    </tr>\n",
       "  </thead>\n",
       "  <tbody>\n",
       "    <tr>\n",
       "      <th>533</th>\n",
       "      <td>46.61</td>\n",
       "      <td>NaN</td>\n",
       "      <td>Ergonomic methodical encoding</td>\n",
       "      <td>1</td>\n",
       "    </tr>\n",
       "    <tr>\n",
       "      <th>534</th>\n",
       "      <td>NaN</td>\n",
       "      <td>162.03</td>\n",
       "      <td>Compatible dedicated productivity</td>\n",
       "      <td>0</td>\n",
       "    </tr>\n",
       "    <tr>\n",
       "      <th>535</th>\n",
       "      <td>65.10</td>\n",
       "      <td>118.10</td>\n",
       "      <td>Up-sized real-time methodology</td>\n",
       "      <td>1</td>\n",
       "    </tr>\n",
       "    <tr>\n",
       "      <th>536</th>\n",
       "      <td>53.44</td>\n",
       "      <td>NaN</td>\n",
       "      <td>Up-sized next generation architecture</td>\n",
       "      <td>1</td>\n",
       "    </tr>\n",
       "  </tbody>\n",
       "</table>\n",
       "</div>"
      ],
      "text/plain": [
       "        Daily Time Spent on Site  Daily Internet Usage  \\\n",
       "Number                                                   \n",
       "533                        46.61                   NaN   \n",
       "534                          NaN                162.03   \n",
       "535                        65.10                118.10   \n",
       "536                        53.44                   NaN   \n",
       "\n",
       "                                Ad Topic Line  Clicked on Ad  \n",
       "Number                                                        \n",
       "533             Ergonomic methodical encoding              1  \n",
       "534         Compatible dedicated productivity              0  \n",
       "535            Up-sized real-time methodology              1  \n",
       "536     Up-sized next generation architecture              1  "
      ]
     },
     "execution_count": 32,
     "metadata": {},
     "output_type": "execute_result"
    }
   ],
   "source": [
    "# Ваш код здесь\n",
    "adv2_df = pd.read_csv('./12.6 Данные для домашнего задания/12.6 Данные для домашнего задания/advertising_2.csv')\n",
    "adv2_df = adv2_df.set_index('Number')\n",
    "adv2_df.loc[533:536, :]"
   ]
  },
  {
   "cell_type": "markdown",
   "metadata": {
    "id": "Z-GqzM_oOjpT"
   },
   "source": [
    "***Задача 5***\n",
    "\n",
    "Выведите сводную таблицу описательных статистик для датафрейма `adv2_df`, вызвав необходимый метод на всём датафрейме. \n",
    "\n",
    "Глядя на вывод, напишите, столбец с каким названием не содержит незаполненных значений.\n",
    "\n",
    "*Подсказка:*  В сводной таблице не содержится информации о количестве строк всего датафрейма, поэтому для сначала распечатайте общее количество строк датафрейма.\n",
    "\n",
    "*Рекомендация:* Кроме изученного метода `describe` для описания датафрейма и получения информации о пропущенных значениях полезен метод [`info`](https://pandas.pydata.org/docs/reference/api/pandas.DataFrame.info.html)."
   ]
  },
  {
   "cell_type": "code",
   "execution_count": 33,
   "metadata": {
    "id": "YdCXCVRFOjpT"
   },
   "outputs": [
    {
     "data": {
      "text/plain": [
       "(200, 4)"
      ]
     },
     "execution_count": 33,
     "metadata": {},
     "output_type": "execute_result"
    }
   ],
   "source": [
    "# Ваш код здесь\n",
    "adv2_df.shape"
   ]
  },
  {
   "cell_type": "code",
   "execution_count": 34,
   "metadata": {},
   "outputs": [
    {
     "data": {
      "text/html": [
       "<div>\n",
       "<style scoped>\n",
       "    .dataframe tbody tr th:only-of-type {\n",
       "        vertical-align: middle;\n",
       "    }\n",
       "\n",
       "    .dataframe tbody tr th {\n",
       "        vertical-align: top;\n",
       "    }\n",
       "\n",
       "    .dataframe thead th {\n",
       "        text-align: right;\n",
       "    }\n",
       "</style>\n",
       "<table border=\"1\" class=\"dataframe\">\n",
       "  <thead>\n",
       "    <tr style=\"text-align: right;\">\n",
       "      <th></th>\n",
       "      <th>Daily Time Spent on Site</th>\n",
       "      <th>Daily Internet Usage</th>\n",
       "      <th>Clicked on Ad</th>\n",
       "    </tr>\n",
       "  </thead>\n",
       "  <tbody>\n",
       "    <tr>\n",
       "      <th>count</th>\n",
       "      <td>184.000000</td>\n",
       "      <td>184.000000</td>\n",
       "      <td>200.000000</td>\n",
       "    </tr>\n",
       "    <tr>\n",
       "      <th>mean</th>\n",
       "      <td>66.494728</td>\n",
       "      <td>186.809674</td>\n",
       "      <td>0.420000</td>\n",
       "    </tr>\n",
       "    <tr>\n",
       "      <th>std</th>\n",
       "      <td>15.414725</td>\n",
       "      <td>43.844580</td>\n",
       "      <td>0.494797</td>\n",
       "    </tr>\n",
       "    <tr>\n",
       "      <th>min</th>\n",
       "      <td>32.910000</td>\n",
       "      <td>108.030000</td>\n",
       "      <td>0.000000</td>\n",
       "    </tr>\n",
       "    <tr>\n",
       "      <th>25%</th>\n",
       "      <td>52.805000</td>\n",
       "      <td>148.955000</td>\n",
       "      <td>0.000000</td>\n",
       "    </tr>\n",
       "    <tr>\n",
       "      <th>50%</th>\n",
       "      <td>71.150000</td>\n",
       "      <td>194.170000</td>\n",
       "      <td>0.000000</td>\n",
       "    </tr>\n",
       "    <tr>\n",
       "      <th>75%</th>\n",
       "      <td>78.352500</td>\n",
       "      <td>225.372500</td>\n",
       "      <td>1.000000</td>\n",
       "    </tr>\n",
       "    <tr>\n",
       "      <th>max</th>\n",
       "      <td>91.430000</td>\n",
       "      <td>259.760000</td>\n",
       "      <td>1.000000</td>\n",
       "    </tr>\n",
       "  </tbody>\n",
       "</table>\n",
       "</div>"
      ],
      "text/plain": [
       "       Daily Time Spent on Site  Daily Internet Usage  Clicked on Ad\n",
       "count                184.000000            184.000000     200.000000\n",
       "mean                  66.494728            186.809674       0.420000\n",
       "std                   15.414725             43.844580       0.494797\n",
       "min                   32.910000            108.030000       0.000000\n",
       "25%                   52.805000            148.955000       0.000000\n",
       "50%                   71.150000            194.170000       0.000000\n",
       "75%                   78.352500            225.372500       1.000000\n",
       "max                   91.430000            259.760000       1.000000"
      ]
     },
     "execution_count": 34,
     "metadata": {},
     "output_type": "execute_result"
    }
   ],
   "source": [
    "adv2_df.describe()"
   ]
  },
  {
   "cell_type": "code",
   "execution_count": 35,
   "metadata": {},
   "outputs": [
    {
     "name": "stdout",
     "output_type": "stream",
     "text": [
      "<class 'pandas.core.frame.DataFrame'>\n",
      "Int64Index: 200 entries, 530 to 739\n",
      "Data columns (total 4 columns):\n",
      " #   Column                    Non-Null Count  Dtype  \n",
      "---  ------                    --------------  -----  \n",
      " 0   Daily Time Spent on Site  184 non-null    float64\n",
      " 1   Daily Internet Usage      184 non-null    float64\n",
      " 2   Ad Topic Line             200 non-null    object \n",
      " 3   Clicked on Ad             200 non-null    int64  \n",
      "dtypes: float64(2), int64(1), object(1)\n",
      "memory usage: 15.9+ KB\n"
     ]
    }
   ],
   "source": [
    "adv2_df.info()"
   ]
  },
  {
   "cell_type": "code",
   "execution_count": 50,
   "metadata": {},
   "outputs": [],
   "source": [
    "# Получаем количество строк датафрейма\n",
    "num_rows = adv2_df.shape[0]\n",
    "\n",
    "# Проверяем каждый столбец на наличие незаполненных значений\n",
    "non_null_columns = []\n",
    "for column in adv2_df.columns:\n",
    "    if adv2_df[column].count() == num_rows:\n",
    "        non_null_columns.append(column)"
   ]
  },
  {
   "cell_type": "code",
   "execution_count": 52,
   "metadata": {
    "id": "ffzR3QR4OjpU"
   },
   "outputs": [
    {
     "name": "stdout",
     "output_type": "stream",
     "text": [
      "Столбцы без незаполненных значений:\n",
      "Ad Topic Line\n",
      "Clicked on Ad\n"
     ]
    }
   ],
   "source": [
    "# Ваш код здесь\n",
    "print(\"Столбцы без незаполненных значений:\")\n",
    "for column in non_null_columns:\n",
    "    print(column)"
   ]
  },
  {
   "cell_type": "markdown",
   "metadata": {
    "id": "jZRi7W6hOjpV"
   },
   "source": [
    "***Задача 6***\n",
    "\n",
    "Добавьте к датафрейму `adv1_df` в конец датафрейм `adv2_df` с помощью метода `append`. \n",
    "\n",
    "Сохраните объединенный датафрейм в новой переменной `adv12_df` и распечатайте его."
   ]
  },
  {
   "cell_type": "code",
   "execution_count": 53,
   "metadata": {
    "id": "Pdzid3aeOjpV"
   },
   "outputs": [
    {
     "name": "stderr",
     "output_type": "stream",
     "text": [
      "C:\\Users\\e.kuzmina\\AppData\\Local\\Temp\\ipykernel_3356\\980379186.py:2: FutureWarning: The frame.append method is deprecated and will be removed from pandas in a future version. Use pandas.concat instead.\n",
      "  adv12_df = adv1_df.append(adv2_df)\n"
     ]
    },
    {
     "data": {
      "text/html": [
       "<div>\n",
       "<style scoped>\n",
       "    .dataframe tbody tr th:only-of-type {\n",
       "        vertical-align: middle;\n",
       "    }\n",
       "\n",
       "    .dataframe tbody tr th {\n",
       "        vertical-align: top;\n",
       "    }\n",
       "\n",
       "    .dataframe thead th {\n",
       "        text-align: right;\n",
       "    }\n",
       "</style>\n",
       "<table border=\"1\" class=\"dataframe\">\n",
       "  <thead>\n",
       "    <tr style=\"text-align: right;\">\n",
       "      <th></th>\n",
       "      <th>Daily Time Spent on Site</th>\n",
       "      <th>Daily Internet Usage</th>\n",
       "      <th>Ad Topic Line</th>\n",
       "      <th>Clicked on Ad</th>\n",
       "    </tr>\n",
       "    <tr>\n",
       "      <th>Number</th>\n",
       "      <th></th>\n",
       "      <th></th>\n",
       "      <th></th>\n",
       "      <th></th>\n",
       "    </tr>\n",
       "  </thead>\n",
       "  <tbody>\n",
       "    <tr>\n",
       "      <th>5</th>\n",
       "      <td>68.95</td>\n",
       "      <td>256.09</td>\n",
       "      <td>Cloned 5thgeneration orchestration</td>\n",
       "      <td>0</td>\n",
       "    </tr>\n",
       "    <tr>\n",
       "      <th>6</th>\n",
       "      <td>80.23</td>\n",
       "      <td>193.77</td>\n",
       "      <td>Monitored national standardization</td>\n",
       "      <td>0</td>\n",
       "    </tr>\n",
       "    <tr>\n",
       "      <th>8</th>\n",
       "      <td>74.15</td>\n",
       "      <td>245.89</td>\n",
       "      <td>Triple-buffered reciprocal time-frame</td>\n",
       "      <td>0</td>\n",
       "    </tr>\n",
       "    <tr>\n",
       "      <th>9</th>\n",
       "      <td>NaN</td>\n",
       "      <td>225.58</td>\n",
       "      <td>Robust logistical utilization</td>\n",
       "      <td>0</td>\n",
       "    </tr>\n",
       "    <tr>\n",
       "      <th>10</th>\n",
       "      <td>59.99</td>\n",
       "      <td>226.74</td>\n",
       "      <td>Sharable client-driven software</td>\n",
       "      <td>0</td>\n",
       "    </tr>\n",
       "    <tr>\n",
       "      <th>...</th>\n",
       "      <td>...</td>\n",
       "      <td>...</td>\n",
       "      <td>...</td>\n",
       "      <td>...</td>\n",
       "    </tr>\n",
       "    <tr>\n",
       "      <th>735</th>\n",
       "      <td>65.53</td>\n",
       "      <td>190.17</td>\n",
       "      <td>Pre-emptive client-server installation</td>\n",
       "      <td>0</td>\n",
       "    </tr>\n",
       "    <tr>\n",
       "      <th>736</th>\n",
       "      <td>61.87</td>\n",
       "      <td>NaN</td>\n",
       "      <td>Multi-channeled attitude-oriented toolset</td>\n",
       "      <td>0</td>\n",
       "    </tr>\n",
       "    <tr>\n",
       "      <th>737</th>\n",
       "      <td>83.16</td>\n",
       "      <td>NaN</td>\n",
       "      <td>Decentralized 24hour approach</td>\n",
       "      <td>0</td>\n",
       "    </tr>\n",
       "    <tr>\n",
       "      <th>738</th>\n",
       "      <td>44.11</td>\n",
       "      <td>121.24</td>\n",
       "      <td>Organic next generation matrix</td>\n",
       "      <td>1</td>\n",
       "    </tr>\n",
       "    <tr>\n",
       "      <th>739</th>\n",
       "      <td>56.57</td>\n",
       "      <td>131.98</td>\n",
       "      <td>Multi-channeled non-volatile website</td>\n",
       "      <td>1</td>\n",
       "    </tr>\n",
       "  </tbody>\n",
       "</table>\n",
       "<p>700 rows × 4 columns</p>\n",
       "</div>"
      ],
      "text/plain": [
       "        Daily Time Spent on Site  Daily Internet Usage  \\\n",
       "Number                                                   \n",
       "5                          68.95                256.09   \n",
       "6                          80.23                193.77   \n",
       "8                          74.15                245.89   \n",
       "9                            NaN                225.58   \n",
       "10                         59.99                226.74   \n",
       "...                          ...                   ...   \n",
       "735                        65.53                190.17   \n",
       "736                        61.87                   NaN   \n",
       "737                        83.16                   NaN   \n",
       "738                        44.11                121.24   \n",
       "739                        56.57                131.98   \n",
       "\n",
       "                                    Ad Topic Line  Clicked on Ad  \n",
       "Number                                                            \n",
       "5              Cloned 5thgeneration orchestration              0  \n",
       "6              Monitored national standardization              0  \n",
       "8           Triple-buffered reciprocal time-frame              0  \n",
       "9                   Robust logistical utilization              0  \n",
       "10                Sharable client-driven software              0  \n",
       "...                                           ...            ...  \n",
       "735        Pre-emptive client-server installation              0  \n",
       "736     Multi-channeled attitude-oriented toolset              0  \n",
       "737                 Decentralized 24hour approach              0  \n",
       "738                Organic next generation matrix              1  \n",
       "739          Multi-channeled non-volatile website              1  \n",
       "\n",
       "[700 rows x 4 columns]"
      ]
     },
     "execution_count": 53,
     "metadata": {},
     "output_type": "execute_result"
    }
   ],
   "source": [
    "# Ваш код здесь\n",
    "adv12_df = adv1_df.append(adv2_df)\n",
    "adv12_df"
   ]
  },
  {
   "cell_type": "markdown",
   "metadata": {
    "id": "1Z8KPJzgOjpV"
   },
   "source": [
    "***Задача 7***\n",
    "\n",
    "Для объединённого датафрейма `adv12_df` распечатайте среднее время, проводимое пользователем на сайте компании."
   ]
  },
  {
   "cell_type": "code",
   "execution_count": 58,
   "metadata": {
    "id": "-eKw3Vs5OjpV"
   },
   "outputs": [
    {
     "data": {
      "text/plain": [
       "65.57268138801263"
      ]
     },
     "execution_count": 58,
     "metadata": {},
     "output_type": "execute_result"
    }
   ],
   "source": [
    "# Ваш код здесь\n",
    "adv12_df['Daily Time Spent on Site'].mean()"
   ]
  },
  {
   "cell_type": "markdown",
   "metadata": {
    "id": "45BOoBbNOjpW"
   },
   "source": [
    "***Задача 8***\n",
    "\n",
    "Из объединённого датафрейма `adv12_df` выберите и распечатайте строки только с теми пользователями, для которых неизвестно среднее ежедневное время, проводимое пользователем на сайте компании."
   ]
  },
  {
   "cell_type": "code",
   "execution_count": 59,
   "metadata": {
    "id": "gNVYkRPXOjpW"
   },
   "outputs": [
    {
     "data": {
      "text/html": [
       "<div>\n",
       "<style scoped>\n",
       "    .dataframe tbody tr th:only-of-type {\n",
       "        vertical-align: middle;\n",
       "    }\n",
       "\n",
       "    .dataframe tbody tr th {\n",
       "        vertical-align: top;\n",
       "    }\n",
       "\n",
       "    .dataframe thead th {\n",
       "        text-align: right;\n",
       "    }\n",
       "</style>\n",
       "<table border=\"1\" class=\"dataframe\">\n",
       "  <thead>\n",
       "    <tr style=\"text-align: right;\">\n",
       "      <th></th>\n",
       "      <th>Daily Time Spent on Site</th>\n",
       "      <th>Daily Internet Usage</th>\n",
       "      <th>Ad Topic Line</th>\n",
       "      <th>Clicked on Ad</th>\n",
       "    </tr>\n",
       "    <tr>\n",
       "      <th>Number</th>\n",
       "      <th></th>\n",
       "      <th></th>\n",
       "      <th></th>\n",
       "      <th></th>\n",
       "    </tr>\n",
       "  </thead>\n",
       "  <tbody>\n",
       "    <tr>\n",
       "      <th>9</th>\n",
       "      <td>NaN</td>\n",
       "      <td>225.58</td>\n",
       "      <td>Robust logistical utilization</td>\n",
       "      <td>0</td>\n",
       "    </tr>\n",
       "    <tr>\n",
       "      <th>12</th>\n",
       "      <td>NaN</td>\n",
       "      <td>131.76</td>\n",
       "      <td>Reactive local challenge</td>\n",
       "      <td>1</td>\n",
       "    </tr>\n",
       "    <tr>\n",
       "      <th>19</th>\n",
       "      <td>NaN</td>\n",
       "      <td>143.56</td>\n",
       "      <td>Grass-roots coherent extranet</td>\n",
       "      <td>1</td>\n",
       "    </tr>\n",
       "    <tr>\n",
       "      <th>27</th>\n",
       "      <td>NaN</td>\n",
       "      <td>164.83</td>\n",
       "      <td>Mandatory disintermediate utilization</td>\n",
       "      <td>1</td>\n",
       "    </tr>\n",
       "    <tr>\n",
       "      <th>34</th>\n",
       "      <td>NaN</td>\n",
       "      <td>209.82</td>\n",
       "      <td>Business-focused value-added definition</td>\n",
       "      <td>0</td>\n",
       "    </tr>\n",
       "    <tr>\n",
       "      <th>...</th>\n",
       "      <td>...</td>\n",
       "      <td>...</td>\n",
       "      <td>...</td>\n",
       "      <td>...</td>\n",
       "    </tr>\n",
       "    <tr>\n",
       "      <th>672</th>\n",
       "      <td>NaN</td>\n",
       "      <td>235.97</td>\n",
       "      <td>Customizable value-added project</td>\n",
       "      <td>0</td>\n",
       "    </tr>\n",
       "    <tr>\n",
       "      <th>674</th>\n",
       "      <td>NaN</td>\n",
       "      <td>126.44</td>\n",
       "      <td>Reactive impactful challenge</td>\n",
       "      <td>1</td>\n",
       "    </tr>\n",
       "    <tr>\n",
       "      <th>685</th>\n",
       "      <td>NaN</td>\n",
       "      <td>200.71</td>\n",
       "      <td>Focused multi-state workforce</td>\n",
       "      <td>0</td>\n",
       "    </tr>\n",
       "    <tr>\n",
       "      <th>690</th>\n",
       "      <td>NaN</td>\n",
       "      <td>226.69</td>\n",
       "      <td>Total coherent superstructure</td>\n",
       "      <td>0</td>\n",
       "    </tr>\n",
       "    <tr>\n",
       "      <th>731</th>\n",
       "      <td>NaN</td>\n",
       "      <td>225.05</td>\n",
       "      <td>Multi-tiered heuristic strategy</td>\n",
       "      <td>0</td>\n",
       "    </tr>\n",
       "  </tbody>\n",
       "</table>\n",
       "<p>66 rows × 4 columns</p>\n",
       "</div>"
      ],
      "text/plain": [
       "        Daily Time Spent on Site  Daily Internet Usage  \\\n",
       "Number                                                   \n",
       "9                            NaN                225.58   \n",
       "12                           NaN                131.76   \n",
       "19                           NaN                143.56   \n",
       "27                           NaN                164.83   \n",
       "34                           NaN                209.82   \n",
       "...                          ...                   ...   \n",
       "672                          NaN                235.97   \n",
       "674                          NaN                126.44   \n",
       "685                          NaN                200.71   \n",
       "690                          NaN                226.69   \n",
       "731                          NaN                225.05   \n",
       "\n",
       "                                  Ad Topic Line  Clicked on Ad  \n",
       "Number                                                          \n",
       "9                 Robust logistical utilization              0  \n",
       "12                     Reactive local challenge              1  \n",
       "19                Grass-roots coherent extranet              1  \n",
       "27        Mandatory disintermediate utilization              1  \n",
       "34      Business-focused value-added definition              0  \n",
       "...                                         ...            ...  \n",
       "672            Customizable value-added project              0  \n",
       "674                Reactive impactful challenge              1  \n",
       "685               Focused multi-state workforce              0  \n",
       "690               Total coherent superstructure              0  \n",
       "731             Multi-tiered heuristic strategy              0  \n",
       "\n",
       "[66 rows x 4 columns]"
      ]
     },
     "execution_count": 59,
     "metadata": {},
     "output_type": "execute_result"
    }
   ],
   "source": [
    "# Ваш код здесь\n",
    "adv12_df[adv12_df['Daily Time Spent on Site'].isna()]"
   ]
  },
  {
   "cell_type": "markdown",
   "metadata": {
    "id": "bi0CQTuIOjpX"
   },
   "source": [
    "***Задача 9***\n",
    "\n",
    "Загрузите таблицу из файла `advertising_3.csv` и сохраните её в датафрейм `adv3_df`. Укажите в качестве индекса стоблец `Number`. Выведите на экран столбцы `Ad Topic Line` и `Clicked on Ad`."
   ]
  },
  {
   "cell_type": "code",
   "execution_count": 60,
   "metadata": {
    "id": "5QhJpljHOjpX"
   },
   "outputs": [
    {
     "data": {
      "text/html": [
       "<div>\n",
       "<style scoped>\n",
       "    .dataframe tbody tr th:only-of-type {\n",
       "        vertical-align: middle;\n",
       "    }\n",
       "\n",
       "    .dataframe tbody tr th {\n",
       "        vertical-align: top;\n",
       "    }\n",
       "\n",
       "    .dataframe thead th {\n",
       "        text-align: right;\n",
       "    }\n",
       "</style>\n",
       "<table border=\"1\" class=\"dataframe\">\n",
       "  <thead>\n",
       "    <tr style=\"text-align: right;\">\n",
       "      <th></th>\n",
       "      <th>Ad Topic Line</th>\n",
       "      <th>Clicked on Ad</th>\n",
       "    </tr>\n",
       "    <tr>\n",
       "      <th>Number</th>\n",
       "      <th></th>\n",
       "      <th></th>\n",
       "    </tr>\n",
       "  </thead>\n",
       "  <tbody>\n",
       "    <tr>\n",
       "      <th>740</th>\n",
       "      <td>Distributed bifurcated challenge</td>\n",
       "      <td>0</td>\n",
       "    </tr>\n",
       "    <tr>\n",
       "      <th>741</th>\n",
       "      <td>Customizable zero-defect Internet solution</td>\n",
       "      <td>0</td>\n",
       "    </tr>\n",
       "    <tr>\n",
       "      <th>742</th>\n",
       "      <td>Self-enabling zero administration neural-net</td>\n",
       "      <td>1</td>\n",
       "    </tr>\n",
       "    <tr>\n",
       "      <th>744</th>\n",
       "      <td>Open-architected system-worthy ability</td>\n",
       "      <td>0</td>\n",
       "    </tr>\n",
       "    <tr>\n",
       "      <th>745</th>\n",
       "      <td>Quality-focused maximized extranet</td>\n",
       "      <td>1</td>\n",
       "    </tr>\n",
       "    <tr>\n",
       "      <th>...</th>\n",
       "      <td>...</td>\n",
       "      <td>...</td>\n",
       "    </tr>\n",
       "    <tr>\n",
       "      <th>999</th>\n",
       "      <td>Front-line bifurcated ability</td>\n",
       "      <td>1</td>\n",
       "    </tr>\n",
       "    <tr>\n",
       "      <th>1000</th>\n",
       "      <td>Fundamental modular algorithm</td>\n",
       "      <td>1</td>\n",
       "    </tr>\n",
       "    <tr>\n",
       "      <th>1001</th>\n",
       "      <td>Grass-roots cohesive monitoring</td>\n",
       "      <td>1</td>\n",
       "    </tr>\n",
       "    <tr>\n",
       "      <th>1002</th>\n",
       "      <td>Expanded intangible solution</td>\n",
       "      <td>1</td>\n",
       "    </tr>\n",
       "    <tr>\n",
       "      <th>1003</th>\n",
       "      <td>Proactive bandwidth-monitored policy</td>\n",
       "      <td>0</td>\n",
       "    </tr>\n",
       "  </tbody>\n",
       "</table>\n",
       "<p>251 rows × 2 columns</p>\n",
       "</div>"
      ],
      "text/plain": [
       "                                       Ad Topic Line  Clicked on Ad\n",
       "Number                                                             \n",
       "740                 Distributed bifurcated challenge              0\n",
       "741       Customizable zero-defect Internet solution              0\n",
       "742     Self-enabling zero administration neural-net              1\n",
       "744           Open-architected system-worthy ability              0\n",
       "745               Quality-focused maximized extranet              1\n",
       "...                                              ...            ...\n",
       "999                    Front-line bifurcated ability              1\n",
       "1000                   Fundamental modular algorithm              1\n",
       "1001                 Grass-roots cohesive monitoring              1\n",
       "1002                    Expanded intangible solution              1\n",
       "1003            Proactive bandwidth-monitored policy              0\n",
       "\n",
       "[251 rows x 2 columns]"
      ]
     },
     "execution_count": 60,
     "metadata": {},
     "output_type": "execute_result"
    }
   ],
   "source": [
    "# Ваш код здесь\n",
    "adv3_df = pd.read_csv('./12.6 Данные для домашнего задания/12.6 Данные для домашнего задания/advertising_3.csv')\n",
    "adv3_df = adv3_df.set_index('Number')\n",
    "adv3_df.loc[:, ['Ad Topic Line', 'Clicked on Ad']]"
   ]
  },
  {
   "cell_type": "markdown",
   "metadata": {
    "ExecuteTime": {
     "end_time": "2021-10-24T12:58:20.476305Z",
     "start_time": "2021-10-24T12:58:20.469693Z"
    },
    "id": "ni-452GIOjpX"
   },
   "source": [
    "***Задача 10***\n",
    "\n",
    "Добавьте к датафрейму `adv12_df` в конец датафрейм `adv3_df` с помощью метода `concat`. Явно пропишите значение параметра `axis`.\n",
    "\n",
    "Сохраните объединённый датафрейм в новой переменной `adv123_df` и распечатайте его."
   ]
  },
  {
   "cell_type": "code",
   "execution_count": 61,
   "metadata": {
    "ExecuteTime": {
     "end_time": "2021-10-24T12:58:33.992975Z",
     "start_time": "2021-10-24T12:58:33.990598Z"
    },
    "id": "FGRZ6HkDOjpY"
   },
   "outputs": [
    {
     "data": {
      "text/html": [
       "<div>\n",
       "<style scoped>\n",
       "    .dataframe tbody tr th:only-of-type {\n",
       "        vertical-align: middle;\n",
       "    }\n",
       "\n",
       "    .dataframe tbody tr th {\n",
       "        vertical-align: top;\n",
       "    }\n",
       "\n",
       "    .dataframe thead th {\n",
       "        text-align: right;\n",
       "    }\n",
       "</style>\n",
       "<table border=\"1\" class=\"dataframe\">\n",
       "  <thead>\n",
       "    <tr style=\"text-align: right;\">\n",
       "      <th></th>\n",
       "      <th>Daily Time Spent on Site</th>\n",
       "      <th>Daily Internet Usage</th>\n",
       "      <th>Ad Topic Line</th>\n",
       "      <th>Clicked on Ad</th>\n",
       "    </tr>\n",
       "    <tr>\n",
       "      <th>Number</th>\n",
       "      <th></th>\n",
       "      <th></th>\n",
       "      <th></th>\n",
       "      <th></th>\n",
       "    </tr>\n",
       "  </thead>\n",
       "  <tbody>\n",
       "    <tr>\n",
       "      <th>5</th>\n",
       "      <td>68.95</td>\n",
       "      <td>256.09</td>\n",
       "      <td>Cloned 5thgeneration orchestration</td>\n",
       "      <td>0</td>\n",
       "    </tr>\n",
       "    <tr>\n",
       "      <th>6</th>\n",
       "      <td>80.23</td>\n",
       "      <td>193.77</td>\n",
       "      <td>Monitored national standardization</td>\n",
       "      <td>0</td>\n",
       "    </tr>\n",
       "    <tr>\n",
       "      <th>8</th>\n",
       "      <td>74.15</td>\n",
       "      <td>245.89</td>\n",
       "      <td>Triple-buffered reciprocal time-frame</td>\n",
       "      <td>0</td>\n",
       "    </tr>\n",
       "    <tr>\n",
       "      <th>9</th>\n",
       "      <td>NaN</td>\n",
       "      <td>225.58</td>\n",
       "      <td>Robust logistical utilization</td>\n",
       "      <td>0</td>\n",
       "    </tr>\n",
       "    <tr>\n",
       "      <th>10</th>\n",
       "      <td>59.99</td>\n",
       "      <td>226.74</td>\n",
       "      <td>Sharable client-driven software</td>\n",
       "      <td>0</td>\n",
       "    </tr>\n",
       "    <tr>\n",
       "      <th>...</th>\n",
       "      <td>...</td>\n",
       "      <td>...</td>\n",
       "      <td>...</td>\n",
       "      <td>...</td>\n",
       "    </tr>\n",
       "    <tr>\n",
       "      <th>999</th>\n",
       "      <td>43.70</td>\n",
       "      <td>173.01</td>\n",
       "      <td>Front-line bifurcated ability</td>\n",
       "      <td>1</td>\n",
       "    </tr>\n",
       "    <tr>\n",
       "      <th>1000</th>\n",
       "      <td>72.97</td>\n",
       "      <td>208.58</td>\n",
       "      <td>Fundamental modular algorithm</td>\n",
       "      <td>1</td>\n",
       "    </tr>\n",
       "    <tr>\n",
       "      <th>1001</th>\n",
       "      <td>51.30</td>\n",
       "      <td>NaN</td>\n",
       "      <td>Grass-roots cohesive monitoring</td>\n",
       "      <td>1</td>\n",
       "    </tr>\n",
       "    <tr>\n",
       "      <th>1002</th>\n",
       "      <td>51.63</td>\n",
       "      <td>120.37</td>\n",
       "      <td>Expanded intangible solution</td>\n",
       "      <td>1</td>\n",
       "    </tr>\n",
       "    <tr>\n",
       "      <th>1003</th>\n",
       "      <td>55.55</td>\n",
       "      <td>187.95</td>\n",
       "      <td>Proactive bandwidth-monitored policy</td>\n",
       "      <td>0</td>\n",
       "    </tr>\n",
       "  </tbody>\n",
       "</table>\n",
       "<p>951 rows × 4 columns</p>\n",
       "</div>"
      ],
      "text/plain": [
       "        Daily Time Spent on Site  Daily Internet Usage  \\\n",
       "Number                                                   \n",
       "5                          68.95                256.09   \n",
       "6                          80.23                193.77   \n",
       "8                          74.15                245.89   \n",
       "9                            NaN                225.58   \n",
       "10                         59.99                226.74   \n",
       "...                          ...                   ...   \n",
       "999                        43.70                173.01   \n",
       "1000                       72.97                208.58   \n",
       "1001                       51.30                   NaN   \n",
       "1002                       51.63                120.37   \n",
       "1003                       55.55                187.95   \n",
       "\n",
       "                                Ad Topic Line  Clicked on Ad  \n",
       "Number                                                        \n",
       "5          Cloned 5thgeneration orchestration              0  \n",
       "6          Monitored national standardization              0  \n",
       "8       Triple-buffered reciprocal time-frame              0  \n",
       "9               Robust logistical utilization              0  \n",
       "10            Sharable client-driven software              0  \n",
       "...                                       ...            ...  \n",
       "999             Front-line bifurcated ability              1  \n",
       "1000            Fundamental modular algorithm              1  \n",
       "1001          Grass-roots cohesive monitoring              1  \n",
       "1002             Expanded intangible solution              1  \n",
       "1003     Proactive bandwidth-monitored policy              0  \n",
       "\n",
       "[951 rows x 4 columns]"
      ]
     },
     "execution_count": 61,
     "metadata": {},
     "output_type": "execute_result"
    }
   ],
   "source": [
    "# Ваш код здесь\n",
    "adv123_df = pd.concat([adv12_df, adv3_df], axis=0)\n",
    "adv123_df"
   ]
  },
  {
   "cell_type": "markdown",
   "metadata": {
    "id": "_oRCVzahOjpY"
   },
   "source": [
    "***Задача 11***\n",
    "\n",
    "Для объединённого датафрейма `adv123_df` выберите только те строки, в которых пользователи кликнули на рекламное сообщение. Сохраните полученный результат в датафрейм `success_adv_df`, распечатайте размер нового датафрейма."
   ]
  },
  {
   "cell_type": "code",
   "execution_count": 132,
   "metadata": {
    "id": "bLXL13nROjpY"
   },
   "outputs": [
    {
     "data": {
      "text/plain": [
       "(475, 4)"
      ]
     },
     "execution_count": 132,
     "metadata": {},
     "output_type": "execute_result"
    }
   ],
   "source": [
    "# Ваш код здесь\n",
    "success_adv_df = adv123_df[adv123_df['Clicked on Ad'] != 0]\n",
    "success_adv_df.shape"
   ]
  },
  {
   "cell_type": "markdown",
   "metadata": {
    "id": "xuFXaMy6OjpZ"
   },
   "source": [
    "***Задача 12***\n",
    "\n",
    "Загрузите таблицу с данными пользователей из файла `users.csv` и сохраните её в датафрейм `users_df`. Индекс не указывайте.\n",
    "\n",
    "Распечатайте сам датафрейм и сводную таблицу со статистиками для него."
   ]
  },
  {
   "cell_type": "code",
   "execution_count": 67,
   "metadata": {
    "id": "mrmK3IxLOjpZ"
   },
   "outputs": [
    {
     "data": {
      "text/html": [
       "<div>\n",
       "<style scoped>\n",
       "    .dataframe tbody tr th:only-of-type {\n",
       "        vertical-align: middle;\n",
       "    }\n",
       "\n",
       "    .dataframe tbody tr th {\n",
       "        vertical-align: top;\n",
       "    }\n",
       "\n",
       "    .dataframe thead th {\n",
       "        text-align: right;\n",
       "    }\n",
       "</style>\n",
       "<table border=\"1\" class=\"dataframe\">\n",
       "  <thead>\n",
       "    <tr style=\"text-align: right;\">\n",
       "      <th></th>\n",
       "      <th>Number</th>\n",
       "      <th>Age</th>\n",
       "      <th>Male</th>\n",
       "      <th>City</th>\n",
       "      <th>Country</th>\n",
       "      <th>Area Income</th>\n",
       "    </tr>\n",
       "  </thead>\n",
       "  <tbody>\n",
       "    <tr>\n",
       "      <th>0</th>\n",
       "      <td>5</td>\n",
       "      <td>NaN</td>\n",
       "      <td>0.0</td>\n",
       "      <td>Wrightburgh</td>\n",
       "      <td>Tunisia</td>\n",
       "      <td>61833.90</td>\n",
       "    </tr>\n",
       "    <tr>\n",
       "      <th>1</th>\n",
       "      <td>6</td>\n",
       "      <td>31.0</td>\n",
       "      <td>NaN</td>\n",
       "      <td>West Jodi</td>\n",
       "      <td>Nauru</td>\n",
       "      <td>68441.85</td>\n",
       "    </tr>\n",
       "    <tr>\n",
       "      <th>2</th>\n",
       "      <td>7</td>\n",
       "      <td>26.0</td>\n",
       "      <td>0.0</td>\n",
       "      <td>Davidton</td>\n",
       "      <td>San Marino</td>\n",
       "      <td>59785.94</td>\n",
       "    </tr>\n",
       "    <tr>\n",
       "      <th>3</th>\n",
       "      <td>8</td>\n",
       "      <td>29.0</td>\n",
       "      <td>1.0</td>\n",
       "      <td>West Terrifurt</td>\n",
       "      <td>Italy</td>\n",
       "      <td>54806.18</td>\n",
       "    </tr>\n",
       "    <tr>\n",
       "      <th>4</th>\n",
       "      <td>9</td>\n",
       "      <td>NaN</td>\n",
       "      <td>0.0</td>\n",
       "      <td>South Manuel</td>\n",
       "      <td>Iceland</td>\n",
       "      <td>73889.99</td>\n",
       "    </tr>\n",
       "    <tr>\n",
       "      <th>...</th>\n",
       "      <td>...</td>\n",
       "      <td>...</td>\n",
       "      <td>...</td>\n",
       "      <td>...</td>\n",
       "      <td>...</td>\n",
       "      <td>...</td>\n",
       "    </tr>\n",
       "    <tr>\n",
       "      <th>975</th>\n",
       "      <td>1000</td>\n",
       "      <td>30.0</td>\n",
       "      <td>NaN</td>\n",
       "      <td>Duffystad</td>\n",
       "      <td>Lebanon</td>\n",
       "      <td>71384.57</td>\n",
       "    </tr>\n",
       "    <tr>\n",
       "      <th>976</th>\n",
       "      <td>1001</td>\n",
       "      <td>45.0</td>\n",
       "      <td>1.0</td>\n",
       "      <td>New Darlene</td>\n",
       "      <td>Bosnia and Herzegovina</td>\n",
       "      <td>67782.17</td>\n",
       "    </tr>\n",
       "    <tr>\n",
       "      <th>977</th>\n",
       "      <td>1002</td>\n",
       "      <td>51.0</td>\n",
       "      <td>NaN</td>\n",
       "      <td>South Jessica</td>\n",
       "      <td>Mongolia</td>\n",
       "      <td>42415.72</td>\n",
       "    </tr>\n",
       "    <tr>\n",
       "      <th>978</th>\n",
       "      <td>1003</td>\n",
       "      <td>19.0</td>\n",
       "      <td>0.0</td>\n",
       "      <td>West Steven</td>\n",
       "      <td>Guatemala</td>\n",
       "      <td>41920.79</td>\n",
       "    </tr>\n",
       "    <tr>\n",
       "      <th>979</th>\n",
       "      <td>1004</td>\n",
       "      <td>26.0</td>\n",
       "      <td>0.0</td>\n",
       "      <td>Ronniemouth</td>\n",
       "      <td>Brazil</td>\n",
       "      <td>29875.80</td>\n",
       "    </tr>\n",
       "  </tbody>\n",
       "</table>\n",
       "<p>980 rows × 6 columns</p>\n",
       "</div>"
      ],
      "text/plain": [
       "     Number   Age  Male            City                 Country  Area Income\n",
       "0         5   NaN   0.0     Wrightburgh                 Tunisia     61833.90\n",
       "1         6  31.0   NaN       West Jodi                   Nauru     68441.85\n",
       "2         7  26.0   0.0        Davidton              San Marino     59785.94\n",
       "3         8  29.0   1.0  West Terrifurt                   Italy     54806.18\n",
       "4         9   NaN   0.0    South Manuel                 Iceland     73889.99\n",
       "..      ...   ...   ...             ...                     ...          ...\n",
       "975    1000  30.0   NaN       Duffystad                 Lebanon     71384.57\n",
       "976    1001  45.0   1.0     New Darlene  Bosnia and Herzegovina     67782.17\n",
       "977    1002  51.0   NaN   South Jessica                Mongolia     42415.72\n",
       "978    1003  19.0   0.0     West Steven               Guatemala     41920.79\n",
       "979    1004  26.0   0.0     Ronniemouth                  Brazil     29875.80\n",
       "\n",
       "[980 rows x 6 columns]"
      ]
     },
     "execution_count": 67,
     "metadata": {},
     "output_type": "execute_result"
    }
   ],
   "source": [
    "# Ваш код здесь\n",
    "users_df = pd.read_csv('./12.6 Данные для домашнего задания/12.6 Данные для домашнего задания/users.csv')\n",
    "users_df"
   ]
  },
  {
   "cell_type": "code",
   "execution_count": 74,
   "metadata": {},
   "outputs": [
    {
     "data": {
      "text/plain": [
       "Index(['Number', 'Age', 'Male', 'City', 'Country', 'Area Income'], dtype='object')"
      ]
     },
     "execution_count": 74,
     "metadata": {},
     "output_type": "execute_result"
    }
   ],
   "source": [
    "users_df.columns"
   ]
  },
  {
   "cell_type": "code",
   "execution_count": 87,
   "metadata": {},
   "outputs": [
    {
     "data": {
      "text/plain": [
       "(980, 6)"
      ]
     },
     "execution_count": 87,
     "metadata": {},
     "output_type": "execute_result"
    }
   ],
   "source": [
    "users_df.shape"
   ]
  },
  {
   "cell_type": "code",
   "execution_count": 85,
   "metadata": {},
   "outputs": [
    {
     "data": {
      "text/html": [
       "<div>\n",
       "<style scoped>\n",
       "    .dataframe tbody tr th:only-of-type {\n",
       "        vertical-align: middle;\n",
       "    }\n",
       "\n",
       "    .dataframe tbody tr th {\n",
       "        vertical-align: top;\n",
       "    }\n",
       "\n",
       "    .dataframe thead th {\n",
       "        text-align: right;\n",
       "    }\n",
       "</style>\n",
       "<table border=\"1\" class=\"dataframe\">\n",
       "  <thead>\n",
       "    <tr style=\"text-align: right;\">\n",
       "      <th></th>\n",
       "      <th>Number</th>\n",
       "      <th>Age</th>\n",
       "      <th>Male</th>\n",
       "      <th>Area Income</th>\n",
       "    </tr>\n",
       "  </thead>\n",
       "  <tbody>\n",
       "    <tr>\n",
       "      <th>count</th>\n",
       "      <td>980.000000</td>\n",
       "      <td>860.000000</td>\n",
       "      <td>868.000000</td>\n",
       "      <td>903.000000</td>\n",
       "    </tr>\n",
       "    <tr>\n",
       "      <th>mean</th>\n",
       "      <td>504.485714</td>\n",
       "      <td>36.073256</td>\n",
       "      <td>0.500000</td>\n",
       "      <td>55010.631938</td>\n",
       "    </tr>\n",
       "    <tr>\n",
       "      <th>std</th>\n",
       "      <td>287.956480</td>\n",
       "      <td>8.795992</td>\n",
       "      <td>0.500288</td>\n",
       "      <td>13423.710892</td>\n",
       "    </tr>\n",
       "    <tr>\n",
       "      <th>min</th>\n",
       "      <td>5.000000</td>\n",
       "      <td>19.000000</td>\n",
       "      <td>0.000000</td>\n",
       "      <td>13996.500000</td>\n",
       "    </tr>\n",
       "    <tr>\n",
       "      <th>25%</th>\n",
       "      <td>255.750000</td>\n",
       "      <td>29.000000</td>\n",
       "      <td>0.000000</td>\n",
       "      <td>46947.570000</td>\n",
       "    </tr>\n",
       "    <tr>\n",
       "      <th>50%</th>\n",
       "      <td>503.500000</td>\n",
       "      <td>35.000000</td>\n",
       "      <td>0.500000</td>\n",
       "      <td>57032.360000</td>\n",
       "    </tr>\n",
       "    <tr>\n",
       "      <th>75%</th>\n",
       "      <td>753.250000</td>\n",
       "      <td>42.000000</td>\n",
       "      <td>1.000000</td>\n",
       "      <td>65537.990000</td>\n",
       "    </tr>\n",
       "    <tr>\n",
       "      <th>max</th>\n",
       "      <td>1004.000000</td>\n",
       "      <td>61.000000</td>\n",
       "      <td>1.000000</td>\n",
       "      <td>79484.800000</td>\n",
       "    </tr>\n",
       "  </tbody>\n",
       "</table>\n",
       "</div>"
      ],
      "text/plain": [
       "            Number         Age        Male   Area Income\n",
       "count   980.000000  860.000000  868.000000    903.000000\n",
       "mean    504.485714   36.073256    0.500000  55010.631938\n",
       "std     287.956480    8.795992    0.500288  13423.710892\n",
       "min       5.000000   19.000000    0.000000  13996.500000\n",
       "25%     255.750000   29.000000    0.000000  46947.570000\n",
       "50%     503.500000   35.000000    0.500000  57032.360000\n",
       "75%     753.250000   42.000000    1.000000  65537.990000\n",
       "max    1004.000000   61.000000    1.000000  79484.800000"
      ]
     },
     "execution_count": 85,
     "metadata": {},
     "output_type": "execute_result"
    }
   ],
   "source": [
    "users_df.describe()"
   ]
  },
  {
   "cell_type": "code",
   "execution_count": 84,
   "metadata": {},
   "outputs": [
    {
     "data": {
      "text/html": [
       "<div>\n",
       "<style scoped>\n",
       "    .dataframe tbody tr th:only-of-type {\n",
       "        vertical-align: middle;\n",
       "    }\n",
       "\n",
       "    .dataframe tbody tr th {\n",
       "        vertical-align: top;\n",
       "    }\n",
       "\n",
       "    .dataframe thead th {\n",
       "        text-align: right;\n",
       "    }\n",
       "</style>\n",
       "<table border=\"1\" class=\"dataframe\">\n",
       "  <thead>\n",
       "    <tr style=\"text-align: right;\">\n",
       "      <th></th>\n",
       "      <th>City</th>\n",
       "      <th>Country</th>\n",
       "    </tr>\n",
       "  </thead>\n",
       "  <tbody>\n",
       "    <tr>\n",
       "      <th>count</th>\n",
       "      <td>887</td>\n",
       "      <td>888</td>\n",
       "    </tr>\n",
       "    <tr>\n",
       "      <th>unique</th>\n",
       "      <td>860</td>\n",
       "      <td>235</td>\n",
       "    </tr>\n",
       "    <tr>\n",
       "      <th>top</th>\n",
       "      <td>Lisamouth</td>\n",
       "      <td>France</td>\n",
       "    </tr>\n",
       "    <tr>\n",
       "      <th>freq</th>\n",
       "      <td>3</td>\n",
       "      <td>9</td>\n",
       "    </tr>\n",
       "  </tbody>\n",
       "</table>\n",
       "</div>"
      ],
      "text/plain": [
       "             City Country\n",
       "count         887     888\n",
       "unique        860     235\n",
       "top     Lisamouth  France\n",
       "freq            3       9"
      ]
     },
     "execution_count": 84,
     "metadata": {},
     "output_type": "execute_result"
    }
   ],
   "source": [
    "users_df[['City', 'Country']].describe()"
   ]
  },
  {
   "cell_type": "markdown",
   "metadata": {
    "ExecuteTime": {
     "end_time": "2021-10-24T13:57:38.550026Z",
     "start_time": "2021-10-24T13:57:38.545212Z"
    },
    "id": "WJ00AZrXOjpZ"
   },
   "source": [
    "***Задача 13***\n",
    "\n",
    "Глядя на статистики `users_df`, укажите значения, удовлетворяющие следующим условиям:\n",
    "1. Возраст самого молодого пользователя сайта: *ваш_ответ*\n",
    "2. Максимальный средний доход в месте жительства пользователя сайта: *ваш_ответ*\n",
    "3. Средний возраст пользователя сайта: *ваш_ответ*\n",
    "4. Количество заполненных значений для колонки, содержащей информацию о том, является пользователь мужчиной или нет: *ваш_ответ*\n",
    "5. Минимальный номер пользователя: *ваш_ответ*\n",
    "\n",
    "В этом задании не требуется выбирать по условиям и распечатывать значения, достаточно внимательно посмотреть на статистики и скопировать нужные значения согласно вопросам."
   ]
  },
  {
   "cell_type": "code",
   "execution_count": 98,
   "metadata": {},
   "outputs": [
    {
     "ename": "SyntaxError",
     "evalue": "invalid syntax (638229962.py, line 1)",
     "output_type": "error",
     "traceback": [
      "\u001B[1;36m  Cell \u001B[1;32mIn[98], line 1\u001B[1;36m\u001B[0m\n\u001B[1;33m    1. 19\u001B[0m\n\u001B[1;37m       ^\u001B[0m\n\u001B[1;31mSyntaxError\u001B[0m\u001B[1;31m:\u001B[0m invalid syntax\n"
     ]
    }
   ],
   "source": [
    "1. 19\n",
    "2. 79484.8\n",
    "3. 36\n",
    "4. 868\n",
    "5. 5"
   ]
  },
  {
   "cell_type": "code",
   "execution_count": null,
   "metadata": {},
   "outputs": [],
   "source": []
  },
  {
   "cell_type": "markdown",
   "metadata": {
    "id": "AcTd7M2gOjpa"
   },
   "source": [
    "***Задача 14***\n",
    "\n",
    "К полученному датафрейму с успешными рекламными сообщениями `success_adv_df` добавьте справа информацию из датафрейма с пользователями `users_df` и сохраните в датафрейм `success_full_df`. В полученном датафрейме должны остаться только те пользователи, номера которых есть в обоих датафреймах. Для этого воспользуйтесь методом `merge` и пропишите явно верные параметры.\n",
    "\n",
    "Затем распечатайте датафрейм."
   ]
  },
  {
   "cell_type": "markdown",
   "metadata": {
    "id": "dqlixtI0Ojpa"
   },
   "source": [
    "*Важно:*\n",
    "\n",
    "Объединять датафреймы с помощью `merge` можно и по индексам, и по столбцам с разными названиями. \n",
    "Так как общие значения содержатся в столбце `Number`, но в датафрейме `users_df` данный столбец является обычным столбцом, а в `success_adv_df` является индексом, перед тем как объединять, переведите столбец `Number` в `success_adv_df` в обычный столбец.\n",
    "\n",
    "Для этого перед объединением пропишите:\n",
    "```\n",
    "success_adv_df = success_adv_df.reset_index()\n",
    "```\n",
    "\n",
    "[Подробнее о reset_index](https://pandas.pydata.org/docs/reference/api/pandas.DataFrame.reset_index.html)"
   ]
  },
  {
   "cell_type": "code",
   "execution_count": 135,
   "metadata": {},
   "outputs": [
    {
     "data": {
      "text/html": [
       "<div>\n",
       "<style scoped>\n",
       "    .dataframe tbody tr th:only-of-type {\n",
       "        vertical-align: middle;\n",
       "    }\n",
       "\n",
       "    .dataframe tbody tr th {\n",
       "        vertical-align: top;\n",
       "    }\n",
       "\n",
       "    .dataframe thead th {\n",
       "        text-align: right;\n",
       "    }\n",
       "</style>\n",
       "<table border=\"1\" class=\"dataframe\">\n",
       "  <thead>\n",
       "    <tr style=\"text-align: right;\">\n",
       "      <th></th>\n",
       "      <th>Number</th>\n",
       "      <th>Daily Time Spent on Site</th>\n",
       "      <th>Daily Internet Usage</th>\n",
       "      <th>Ad Topic Line</th>\n",
       "      <th>Clicked on Ad</th>\n",
       "    </tr>\n",
       "  </thead>\n",
       "  <tbody>\n",
       "    <tr>\n",
       "      <th>0</th>\n",
       "      <td>12</td>\n",
       "      <td>NaN</td>\n",
       "      <td>131.76</td>\n",
       "      <td>Reactive local challenge</td>\n",
       "      <td>1</td>\n",
       "    </tr>\n",
       "    <tr>\n",
       "      <th>1</th>\n",
       "      <td>15</td>\n",
       "      <td>47.64</td>\n",
       "      <td>122.02</td>\n",
       "      <td>Centralized neutral neural-net</td>\n",
       "      <td>1</td>\n",
       "    </tr>\n",
       "    <tr>\n",
       "      <th>2</th>\n",
       "      <td>17</td>\n",
       "      <td>69.57</td>\n",
       "      <td>113.12</td>\n",
       "      <td>Centralized content-based focus group</td>\n",
       "      <td>1</td>\n",
       "    </tr>\n",
       "    <tr>\n",
       "      <th>3</th>\n",
       "      <td>19</td>\n",
       "      <td>NaN</td>\n",
       "      <td>143.56</td>\n",
       "      <td>Grass-roots coherent extranet</td>\n",
       "      <td>1</td>\n",
       "    </tr>\n",
       "    <tr>\n",
       "      <th>4</th>\n",
       "      <td>20</td>\n",
       "      <td>63.45</td>\n",
       "      <td>140.64</td>\n",
       "      <td>Persistent demand-driven interface</td>\n",
       "      <td>1</td>\n",
       "    </tr>\n",
       "    <tr>\n",
       "      <th>...</th>\n",
       "      <td>...</td>\n",
       "      <td>...</td>\n",
       "      <td>...</td>\n",
       "      <td>...</td>\n",
       "      <td>...</td>\n",
       "    </tr>\n",
       "    <tr>\n",
       "      <th>470</th>\n",
       "      <td>997</td>\n",
       "      <td>69.17</td>\n",
       "      <td>123.62</td>\n",
       "      <td>Extended leadingedge solution</td>\n",
       "      <td>1</td>\n",
       "    </tr>\n",
       "    <tr>\n",
       "      <th>471</th>\n",
       "      <td>999</td>\n",
       "      <td>43.70</td>\n",
       "      <td>173.01</td>\n",
       "      <td>Front-line bifurcated ability</td>\n",
       "      <td>1</td>\n",
       "    </tr>\n",
       "    <tr>\n",
       "      <th>472</th>\n",
       "      <td>1000</td>\n",
       "      <td>72.97</td>\n",
       "      <td>208.58</td>\n",
       "      <td>Fundamental modular algorithm</td>\n",
       "      <td>1</td>\n",
       "    </tr>\n",
       "    <tr>\n",
       "      <th>473</th>\n",
       "      <td>1001</td>\n",
       "      <td>51.30</td>\n",
       "      <td>NaN</td>\n",
       "      <td>Grass-roots cohesive monitoring</td>\n",
       "      <td>1</td>\n",
       "    </tr>\n",
       "    <tr>\n",
       "      <th>474</th>\n",
       "      <td>1002</td>\n",
       "      <td>51.63</td>\n",
       "      <td>120.37</td>\n",
       "      <td>Expanded intangible solution</td>\n",
       "      <td>1</td>\n",
       "    </tr>\n",
       "  </tbody>\n",
       "</table>\n",
       "<p>475 rows × 5 columns</p>\n",
       "</div>"
      ],
      "text/plain": [
       "     Number  Daily Time Spent on Site  Daily Internet Usage  \\\n",
       "0        12                       NaN                131.76   \n",
       "1        15                     47.64                122.02   \n",
       "2        17                     69.57                113.12   \n",
       "3        19                       NaN                143.56   \n",
       "4        20                     63.45                140.64   \n",
       "..      ...                       ...                   ...   \n",
       "470     997                     69.17                123.62   \n",
       "471     999                     43.70                173.01   \n",
       "472    1000                     72.97                208.58   \n",
       "473    1001                     51.30                   NaN   \n",
       "474    1002                     51.63                120.37   \n",
       "\n",
       "                             Ad Topic Line  Clicked on Ad  \n",
       "0                 Reactive local challenge              1  \n",
       "1           Centralized neutral neural-net              1  \n",
       "2    Centralized content-based focus group              1  \n",
       "3            Grass-roots coherent extranet              1  \n",
       "4       Persistent demand-driven interface              1  \n",
       "..                                     ...            ...  \n",
       "470          Extended leadingedge solution              1  \n",
       "471          Front-line bifurcated ability              1  \n",
       "472          Fundamental modular algorithm              1  \n",
       "473        Grass-roots cohesive monitoring              1  \n",
       "474           Expanded intangible solution              1  \n",
       "\n",
       "[475 rows x 5 columns]"
      ]
     },
     "execution_count": 135,
     "metadata": {},
     "output_type": "execute_result"
    }
   ],
   "source": [
    "success_adv_df = success_adv_df.reset_index()\n",
    "success_adv_df"
   ]
  },
  {
   "cell_type": "code",
   "execution_count": 138,
   "metadata": {
    "id": "aBgNVejCOjpa"
   },
   "outputs": [
    {
     "data": {
      "text/html": [
       "<div>\n",
       "<style scoped>\n",
       "    .dataframe tbody tr th:only-of-type {\n",
       "        vertical-align: middle;\n",
       "    }\n",
       "\n",
       "    .dataframe tbody tr th {\n",
       "        vertical-align: top;\n",
       "    }\n",
       "\n",
       "    .dataframe thead th {\n",
       "        text-align: right;\n",
       "    }\n",
       "</style>\n",
       "<table border=\"1\" class=\"dataframe\">\n",
       "  <thead>\n",
       "    <tr style=\"text-align: right;\">\n",
       "      <th></th>\n",
       "      <th>Number</th>\n",
       "      <th>Daily Time Spent on Site</th>\n",
       "      <th>Daily Internet Usage</th>\n",
       "      <th>Ad Topic Line</th>\n",
       "      <th>Clicked on Ad</th>\n",
       "      <th>Age</th>\n",
       "      <th>Male</th>\n",
       "      <th>City</th>\n",
       "      <th>Country</th>\n",
       "      <th>Area Income</th>\n",
       "    </tr>\n",
       "  </thead>\n",
       "  <tbody>\n",
       "    <tr>\n",
       "      <th>0</th>\n",
       "      <td>12</td>\n",
       "      <td>NaN</td>\n",
       "      <td>131.76</td>\n",
       "      <td>Reactive local challenge</td>\n",
       "      <td>1.0</td>\n",
       "      <td>48.0</td>\n",
       "      <td>1.0</td>\n",
       "      <td>Port Jefferybury</td>\n",
       "      <td>Australia</td>\n",
       "      <td>24593.33</td>\n",
       "    </tr>\n",
       "    <tr>\n",
       "      <th>1</th>\n",
       "      <td>15</td>\n",
       "      <td>47.64</td>\n",
       "      <td>122.02</td>\n",
       "      <td>Centralized neutral neural-net</td>\n",
       "      <td>1.0</td>\n",
       "      <td>49.0</td>\n",
       "      <td>NaN</td>\n",
       "      <td>West Brandonton</td>\n",
       "      <td>Qatar</td>\n",
       "      <td>45632.51</td>\n",
       "    </tr>\n",
       "    <tr>\n",
       "      <th>2</th>\n",
       "      <td>17</td>\n",
       "      <td>69.57</td>\n",
       "      <td>113.12</td>\n",
       "      <td>Centralized content-based focus group</td>\n",
       "      <td>1.0</td>\n",
       "      <td>48.0</td>\n",
       "      <td>1.0</td>\n",
       "      <td>West Katiefurt</td>\n",
       "      <td>Egypt</td>\n",
       "      <td>51636.92</td>\n",
       "    </tr>\n",
       "    <tr>\n",
       "      <th>3</th>\n",
       "      <td>19</td>\n",
       "      <td>NaN</td>\n",
       "      <td>143.56</td>\n",
       "      <td>Grass-roots coherent extranet</td>\n",
       "      <td>1.0</td>\n",
       "      <td>33.0</td>\n",
       "      <td>0.0</td>\n",
       "      <td>NaN</td>\n",
       "      <td>Barbados</td>\n",
       "      <td>30976.00</td>\n",
       "    </tr>\n",
       "    <tr>\n",
       "      <th>4</th>\n",
       "      <td>20</td>\n",
       "      <td>63.45</td>\n",
       "      <td>140.64</td>\n",
       "      <td>Persistent demand-driven interface</td>\n",
       "      <td>1.0</td>\n",
       "      <td>23.0</td>\n",
       "      <td>NaN</td>\n",
       "      <td>NaN</td>\n",
       "      <td>Spain</td>\n",
       "      <td>52182.23</td>\n",
       "    </tr>\n",
       "    <tr>\n",
       "      <th>...</th>\n",
       "      <td>...</td>\n",
       "      <td>...</td>\n",
       "      <td>...</td>\n",
       "      <td>...</td>\n",
       "      <td>...</td>\n",
       "      <td>...</td>\n",
       "      <td>...</td>\n",
       "      <td>...</td>\n",
       "      <td>...</td>\n",
       "      <td>...</td>\n",
       "    </tr>\n",
       "    <tr>\n",
       "      <th>986</th>\n",
       "      <td>993</td>\n",
       "      <td>NaN</td>\n",
       "      <td>NaN</td>\n",
       "      <td>NaN</td>\n",
       "      <td>NaN</td>\n",
       "      <td>48.0</td>\n",
       "      <td>1.0</td>\n",
       "      <td>Sarafurt</td>\n",
       "      <td>Bahrain</td>\n",
       "      <td>51501.38</td>\n",
       "    </tr>\n",
       "    <tr>\n",
       "      <th>987</th>\n",
       "      <td>994</td>\n",
       "      <td>NaN</td>\n",
       "      <td>NaN</td>\n",
       "      <td>NaN</td>\n",
       "      <td>NaN</td>\n",
       "      <td>NaN</td>\n",
       "      <td>0.0</td>\n",
       "      <td>South Denise</td>\n",
       "      <td>Saint Pierre and Miquelon</td>\n",
       "      <td>55187.85</td>\n",
       "    </tr>\n",
       "    <tr>\n",
       "      <th>988</th>\n",
       "      <td>998</td>\n",
       "      <td>NaN</td>\n",
       "      <td>NaN</td>\n",
       "      <td>NaN</td>\n",
       "      <td>NaN</td>\n",
       "      <td>27.0</td>\n",
       "      <td>1.0</td>\n",
       "      <td>Edwardsmouth</td>\n",
       "      <td>Isle of Man</td>\n",
       "      <td>66200.96</td>\n",
       "    </tr>\n",
       "    <tr>\n",
       "      <th>989</th>\n",
       "      <td>1003</td>\n",
       "      <td>NaN</td>\n",
       "      <td>NaN</td>\n",
       "      <td>NaN</td>\n",
       "      <td>NaN</td>\n",
       "      <td>19.0</td>\n",
       "      <td>0.0</td>\n",
       "      <td>West Steven</td>\n",
       "      <td>Guatemala</td>\n",
       "      <td>41920.79</td>\n",
       "    </tr>\n",
       "    <tr>\n",
       "      <th>990</th>\n",
       "      <td>1004</td>\n",
       "      <td>NaN</td>\n",
       "      <td>NaN</td>\n",
       "      <td>NaN</td>\n",
       "      <td>NaN</td>\n",
       "      <td>26.0</td>\n",
       "      <td>0.0</td>\n",
       "      <td>Ronniemouth</td>\n",
       "      <td>Brazil</td>\n",
       "      <td>29875.80</td>\n",
       "    </tr>\n",
       "  </tbody>\n",
       "</table>\n",
       "<p>991 rows × 10 columns</p>\n",
       "</div>"
      ],
      "text/plain": [
       "     Number  Daily Time Spent on Site  Daily Internet Usage  \\\n",
       "0        12                       NaN                131.76   \n",
       "1        15                     47.64                122.02   \n",
       "2        17                     69.57                113.12   \n",
       "3        19                       NaN                143.56   \n",
       "4        20                     63.45                140.64   \n",
       "..      ...                       ...                   ...   \n",
       "986     993                       NaN                   NaN   \n",
       "987     994                       NaN                   NaN   \n",
       "988     998                       NaN                   NaN   \n",
       "989    1003                       NaN                   NaN   \n",
       "990    1004                       NaN                   NaN   \n",
       "\n",
       "                             Ad Topic Line  Clicked on Ad   Age  Male  \\\n",
       "0                 Reactive local challenge            1.0  48.0   1.0   \n",
       "1           Centralized neutral neural-net            1.0  49.0   NaN   \n",
       "2    Centralized content-based focus group            1.0  48.0   1.0   \n",
       "3            Grass-roots coherent extranet            1.0  33.0   0.0   \n",
       "4       Persistent demand-driven interface            1.0  23.0   NaN   \n",
       "..                                     ...            ...   ...   ...   \n",
       "986                                    NaN            NaN  48.0   1.0   \n",
       "987                                    NaN            NaN   NaN   0.0   \n",
       "988                                    NaN            NaN  27.0   1.0   \n",
       "989                                    NaN            NaN  19.0   0.0   \n",
       "990                                    NaN            NaN  26.0   0.0   \n",
       "\n",
       "                 City                    Country  Area Income  \n",
       "0    Port Jefferybury                  Australia     24593.33  \n",
       "1     West Brandonton                      Qatar     45632.51  \n",
       "2      West Katiefurt                      Egypt     51636.92  \n",
       "3                 NaN                   Barbados     30976.00  \n",
       "4                 NaN                      Spain     52182.23  \n",
       "..                ...                        ...          ...  \n",
       "986          Sarafurt                    Bahrain     51501.38  \n",
       "987      South Denise  Saint Pierre and Miquelon     55187.85  \n",
       "988      Edwardsmouth                Isle of Man     66200.96  \n",
       "989       West Steven                  Guatemala     41920.79  \n",
       "990       Ronniemouth                     Brazil     29875.80  \n",
       "\n",
       "[991 rows x 10 columns]"
      ]
     },
     "execution_count": 138,
     "metadata": {},
     "output_type": "execute_result"
    }
   ],
   "source": [
    "# Ваш код здесь\n",
    "success_full_df = pd.merge(left=success_adv_df, right=users_df, on='Number', how='inner')\n",
    "success_full_df"
   ]
  },
  {
   "cell_type": "markdown",
   "metadata": {
    "id": "3ELhJzr7Ojpb"
   },
   "source": [
    "***Задача 15***\n",
    "\n",
    "Для объединённого датафрейма с пользователями, которые кликнули на рекламное сообщение `success_full_df`, отобразите сводную таблицу со статистиками для строковых колонок (`Ad Topic Line`, `City`, `Country`).\n"
   ]
  },
  {
   "cell_type": "code",
   "execution_count": 182,
   "metadata": {
    "id": "gKa6zjEyOjpb"
   },
   "outputs": [
    {
     "data": {
      "text/html": [
       "<div>\n",
       "<style scoped>\n",
       "    .dataframe tbody tr th:only-of-type {\n",
       "        vertical-align: middle;\n",
       "    }\n",
       "\n",
       "    .dataframe tbody tr th {\n",
       "        vertical-align: top;\n",
       "    }\n",
       "\n",
       "    .dataframe thead th {\n",
       "        text-align: right;\n",
       "    }\n",
       "</style>\n",
       "<table border=\"1\" class=\"dataframe\">\n",
       "  <thead>\n",
       "    <tr style=\"text-align: right;\">\n",
       "      <th></th>\n",
       "      <th>Ad Topic Line</th>\n",
       "      <th>City</th>\n",
       "      <th>Country</th>\n",
       "    </tr>\n",
       "  </thead>\n",
       "  <tbody>\n",
       "    <tr>\n",
       "      <th>count</th>\n",
       "      <td>475</td>\n",
       "      <td>887</td>\n",
       "      <td>888</td>\n",
       "    </tr>\n",
       "    <tr>\n",
       "      <th>unique</th>\n",
       "      <td>475</td>\n",
       "      <td>860</td>\n",
       "      <td>235</td>\n",
       "    </tr>\n",
       "    <tr>\n",
       "      <th>top</th>\n",
       "      <td>Reactive local challenge</td>\n",
       "      <td>Williamsport</td>\n",
       "      <td>France</td>\n",
       "    </tr>\n",
       "    <tr>\n",
       "      <th>freq</th>\n",
       "      <td>1</td>\n",
       "      <td>3</td>\n",
       "      <td>9</td>\n",
       "    </tr>\n",
       "  </tbody>\n",
       "</table>\n",
       "</div>"
      ],
      "text/plain": [
       "                   Ad Topic Line          City Country\n",
       "count                        475           887     888\n",
       "unique                       475           860     235\n",
       "top     Reactive local challenge  Williamsport  France\n",
       "freq                           1             3       9"
      ]
     },
     "execution_count": 182,
     "metadata": {},
     "output_type": "execute_result"
    }
   ],
   "source": [
    "# Ваш код здесь\n",
    "success_full_df[['Ad Topic Line', 'City', 'Country']].describe()"
   ]
  },
  {
   "cell_type": "markdown",
   "metadata": {
    "id": "uk1V6_IDOjpb"
   },
   "source": [
    "***Задача 16***\n",
    "\n",
    "Для объединённого датафрейма с пользователями, которые кликнули на рекламное сообщение `success_full_df`, выведите страну и количество вхождений этой страны в датафрейм.\n"
   ]
  },
  {
   "cell_type": "code",
   "execution_count": 181,
   "metadata": {
    "id": "jRf8i7z0Ojpb"
   },
   "outputs": [
    {
     "data": {
      "text/plain": [
       "France                   9\n",
       "Czech Republic           9\n",
       "Liberia                  8\n",
       "Senegal                  8\n",
       "Turkey                   8\n",
       "                        ..\n",
       "Romania                  1\n",
       "Djibouti                 1\n",
       "Germany                  1\n",
       "Saint Kitts and Nevis    1\n",
       "Lesotho                  1\n",
       "Name: Country, Length: 235, dtype: int64"
      ]
     },
     "execution_count": 181,
     "metadata": {},
     "output_type": "execute_result"
    }
   ],
   "source": [
    "# Ваш код здесь\n",
    "success_full_df['Country'].value_counts()"
   ]
  },
  {
   "cell_type": "markdown",
   "metadata": {
    "id": "k14sXVXSOjpc"
   },
   "source": [
    "***Задача 17***\n",
    "\n",
    "Для объединённого датафрейма с пользователями, которые кликнули на рекламное сообщение `success_full_df`, выведите строки с данными пользователей из страны, название которой встречается чаще остальных.\n"
   ]
  },
  {
   "cell_type": "code",
   "execution_count": 193,
   "metadata": {
    "id": "RsWmGl0COjpc"
   },
   "outputs": [
    {
     "data": {
      "text/html": [
       "<div>\n",
       "<style scoped>\n",
       "    .dataframe tbody tr th:only-of-type {\n",
       "        vertical-align: middle;\n",
       "    }\n",
       "\n",
       "    .dataframe tbody tr th {\n",
       "        vertical-align: top;\n",
       "    }\n",
       "\n",
       "    .dataframe thead th {\n",
       "        text-align: right;\n",
       "    }\n",
       "</style>\n",
       "<table border=\"1\" class=\"dataframe\">\n",
       "  <thead>\n",
       "    <tr style=\"text-align: right;\">\n",
       "      <th></th>\n",
       "      <th>Number</th>\n",
       "      <th>Daily Time Spent on Site</th>\n",
       "      <th>Daily Internet Usage</th>\n",
       "      <th>Ad Topic Line</th>\n",
       "      <th>Clicked on Ad</th>\n",
       "      <th>Age</th>\n",
       "      <th>Male</th>\n",
       "      <th>City</th>\n",
       "      <th>Country</th>\n",
       "      <th>Area Income</th>\n",
       "    </tr>\n",
       "  </thead>\n",
       "  <tbody>\n",
       "    <tr>\n",
       "      <th>127</th>\n",
       "      <td>259</td>\n",
       "      <td>56.70</td>\n",
       "      <td>123.13</td>\n",
       "      <td>Progressive non-volatile neural-net</td>\n",
       "      <td>1.0</td>\n",
       "      <td>48.0</td>\n",
       "      <td>0.0</td>\n",
       "      <td>Port Crystal</td>\n",
       "      <td>France</td>\n",
       "      <td>62784.85</td>\n",
       "    </tr>\n",
       "    <tr>\n",
       "      <th>154</th>\n",
       "      <td>320</td>\n",
       "      <td>73.89</td>\n",
       "      <td>110.68</td>\n",
       "      <td>Horizontal national architecture</td>\n",
       "      <td>1.0</td>\n",
       "      <td>39.0</td>\n",
       "      <td>0.0</td>\n",
       "      <td>North April</td>\n",
       "      <td>France</td>\n",
       "      <td>47160.53</td>\n",
       "    </tr>\n",
       "    <tr>\n",
       "      <th>410</th>\n",
       "      <td>891</td>\n",
       "      <td>NaN</td>\n",
       "      <td>140.95</td>\n",
       "      <td>Phased zero-defect portal</td>\n",
       "      <td>1.0</td>\n",
       "      <td>NaN</td>\n",
       "      <td>1.0</td>\n",
       "      <td>Mariahview</td>\n",
       "      <td>France</td>\n",
       "      <td>43073.78</td>\n",
       "    </tr>\n",
       "    <tr>\n",
       "      <th>463</th>\n",
       "      <td>982</td>\n",
       "      <td>54.97</td>\n",
       "      <td>116.38</td>\n",
       "      <td>Virtual bifurcated portal</td>\n",
       "      <td>1.0</td>\n",
       "      <td>NaN</td>\n",
       "      <td>1.0</td>\n",
       "      <td>Robinsontown</td>\n",
       "      <td>France</td>\n",
       "      <td>51900.03</td>\n",
       "    </tr>\n",
       "    <tr>\n",
       "      <th>719</th>\n",
       "      <td>480</td>\n",
       "      <td>NaN</td>\n",
       "      <td>NaN</td>\n",
       "      <td>NaN</td>\n",
       "      <td>NaN</td>\n",
       "      <td>33.0</td>\n",
       "      <td>1.0</td>\n",
       "      <td>Smithtown</td>\n",
       "      <td>France</td>\n",
       "      <td>71296.67</td>\n",
       "    </tr>\n",
       "    <tr>\n",
       "      <th>797</th>\n",
       "      <td>628</td>\n",
       "      <td>NaN</td>\n",
       "      <td>NaN</td>\n",
       "      <td>NaN</td>\n",
       "      <td>NaN</td>\n",
       "      <td>35.0</td>\n",
       "      <td>NaN</td>\n",
       "      <td>Port Brianfort</td>\n",
       "      <td>France</td>\n",
       "      <td>48918.55</td>\n",
       "    </tr>\n",
       "    <tr>\n",
       "      <th>804</th>\n",
       "      <td>638</td>\n",
       "      <td>NaN</td>\n",
       "      <td>NaN</td>\n",
       "      <td>NaN</td>\n",
       "      <td>NaN</td>\n",
       "      <td>37.0</td>\n",
       "      <td>0.0</td>\n",
       "      <td>Adamsbury</td>\n",
       "      <td>France</td>\n",
       "      <td>55358.88</td>\n",
       "    </tr>\n",
       "    <tr>\n",
       "      <th>881</th>\n",
       "      <td>775</td>\n",
       "      <td>NaN</td>\n",
       "      <td>NaN</td>\n",
       "      <td>NaN</td>\n",
       "      <td>NaN</td>\n",
       "      <td>30.0</td>\n",
       "      <td>0.0</td>\n",
       "      <td>Newmanberg</td>\n",
       "      <td>France</td>\n",
       "      <td>69758.31</td>\n",
       "    </tr>\n",
       "    <tr>\n",
       "      <th>984</th>\n",
       "      <td>989</td>\n",
       "      <td>NaN</td>\n",
       "      <td>NaN</td>\n",
       "      <td>NaN</td>\n",
       "      <td>NaN</td>\n",
       "      <td>31.0</td>\n",
       "      <td>1.0</td>\n",
       "      <td>Lindsaymouth</td>\n",
       "      <td>France</td>\n",
       "      <td>58037.66</td>\n",
       "    </tr>\n",
       "  </tbody>\n",
       "</table>\n",
       "</div>"
      ],
      "text/plain": [
       "     Number  Daily Time Spent on Site  Daily Internet Usage  \\\n",
       "127     259                     56.70                123.13   \n",
       "154     320                     73.89                110.68   \n",
       "410     891                       NaN                140.95   \n",
       "463     982                     54.97                116.38   \n",
       "719     480                       NaN                   NaN   \n",
       "797     628                       NaN                   NaN   \n",
       "804     638                       NaN                   NaN   \n",
       "881     775                       NaN                   NaN   \n",
       "984     989                       NaN                   NaN   \n",
       "\n",
       "                           Ad Topic Line  Clicked on Ad   Age  Male  \\\n",
       "127  Progressive non-volatile neural-net            1.0  48.0   0.0   \n",
       "154     Horizontal national architecture            1.0  39.0   0.0   \n",
       "410            Phased zero-defect portal            1.0   NaN   1.0   \n",
       "463            Virtual bifurcated portal            1.0   NaN   1.0   \n",
       "719                                  NaN            NaN  33.0   1.0   \n",
       "797                                  NaN            NaN  35.0   NaN   \n",
       "804                                  NaN            NaN  37.0   0.0   \n",
       "881                                  NaN            NaN  30.0   0.0   \n",
       "984                                  NaN            NaN  31.0   1.0   \n",
       "\n",
       "               City Country  Area Income  \n",
       "127    Port Crystal  France     62784.85  \n",
       "154     North April  France     47160.53  \n",
       "410      Mariahview  France     43073.78  \n",
       "463    Robinsontown  France     51900.03  \n",
       "719       Smithtown  France     71296.67  \n",
       "797  Port Brianfort  France     48918.55  \n",
       "804       Adamsbury  France     55358.88  \n",
       "881      Newmanberg  France     69758.31  \n",
       "984    Lindsaymouth  France     58037.66  "
      ]
     },
     "execution_count": 193,
     "metadata": {},
     "output_type": "execute_result"
    }
   ],
   "source": [
    "# Ваш код здесь\n",
    "success_full_df[success_full_df['Country'] == success_full_df['Country'].value_counts().index[0]]"
   ]
  },
  {
   "cell_type": "markdown",
   "metadata": {
    "id": "cG08bAqrOjpc"
   },
   "source": [
    "***Задача 18***\n",
    "\n",
    "Для объединённого датафрейма с пользователями, которые кликнули на рекламное сообщение `success_full_df`, выведите строки с данными пользователей из страны, название которой встречается чаще остальных, они проводят в интернете в среднем больше 120 минут и их возраст меньше 30 лет. \n",
    "Cохраните получившиеся строки в новый датафрейм `filtered_df`.\n"
   ]
  },
  {
   "cell_type": "code",
   "execution_count": null,
   "metadata": {},
   "outputs": [],
   "source": [
    "# Тут ошибка в условии или результатом должна быть пустая таблица?"
   ]
  },
  {
   "cell_type": "code",
   "execution_count": 192,
   "metadata": {
    "id": "p-meXdGOOjpc"
   },
   "outputs": [
    {
     "data": {
      "text/html": [
       "<div>\n",
       "<style scoped>\n",
       "    .dataframe tbody tr th:only-of-type {\n",
       "        vertical-align: middle;\n",
       "    }\n",
       "\n",
       "    .dataframe tbody tr th {\n",
       "        vertical-align: top;\n",
       "    }\n",
       "\n",
       "    .dataframe thead th {\n",
       "        text-align: right;\n",
       "    }\n",
       "</style>\n",
       "<table border=\"1\" class=\"dataframe\">\n",
       "  <thead>\n",
       "    <tr style=\"text-align: right;\">\n",
       "      <th></th>\n",
       "      <th>Number</th>\n",
       "      <th>Daily Time Spent on Site</th>\n",
       "      <th>Daily Internet Usage</th>\n",
       "      <th>Ad Topic Line</th>\n",
       "      <th>Clicked on Ad</th>\n",
       "      <th>Age</th>\n",
       "      <th>Male</th>\n",
       "      <th>City</th>\n",
       "      <th>Country</th>\n",
       "      <th>Area Income</th>\n",
       "    </tr>\n",
       "  </thead>\n",
       "  <tbody>\n",
       "  </tbody>\n",
       "</table>\n",
       "</div>"
      ],
      "text/plain": [
       "Empty DataFrame\n",
       "Columns: [Number, Daily Time Spent on Site, Daily Internet Usage, Ad Topic Line, Clicked on Ad, Age, Male, City, Country, Area Income]\n",
       "Index: []"
      ]
     },
     "execution_count": 192,
     "metadata": {},
     "output_type": "execute_result"
    }
   ],
   "source": [
    "# Ваш код здесь\n",
    "filtered_df = success_full_df[(success_full_df['Country'] == success_full_df['Country'].value_counts().index[0]) & \n",
    "                (success_full_df['Daily Internet Usage'] > 120) &\n",
    "                (success_full_df['Age'] < 30)]\n",
    "filtered_df"
   ]
  },
  {
   "cell_type": "markdown",
   "metadata": {
    "id": "HHczs4f6Ojpc"
   },
   "source": [
    "***Задача 19***\n",
    "\n",
    "Для получившегося датафрейма `filtered_df` выведите строки с данными пользователей, для которых либо не указано среднее время, проведённое на сайте, либо указанное время больше 55 минут. Cохраните получившиеся строки в новый датафрейм `filtered_df2`.\n"
   ]
  },
  {
   "cell_type": "code",
   "execution_count": 166,
   "metadata": {
    "id": "jeWcOmrXOjpd"
   },
   "outputs": [
    {
     "data": {
      "text/html": [
       "<div>\n",
       "<style scoped>\n",
       "    .dataframe tbody tr th:only-of-type {\n",
       "        vertical-align: middle;\n",
       "    }\n",
       "\n",
       "    .dataframe tbody tr th {\n",
       "        vertical-align: top;\n",
       "    }\n",
       "\n",
       "    .dataframe thead th {\n",
       "        text-align: right;\n",
       "    }\n",
       "</style>\n",
       "<table border=\"1\" class=\"dataframe\">\n",
       "  <thead>\n",
       "    <tr style=\"text-align: right;\">\n",
       "      <th></th>\n",
       "      <th>Number</th>\n",
       "      <th>Daily Time Spent on Site</th>\n",
       "      <th>Daily Internet Usage</th>\n",
       "      <th>Ad Topic Line</th>\n",
       "      <th>Clicked on Ad</th>\n",
       "      <th>Age</th>\n",
       "      <th>Male</th>\n",
       "      <th>City</th>\n",
       "      <th>Country</th>\n",
       "      <th>Area Income</th>\n",
       "    </tr>\n",
       "  </thead>\n",
       "  <tbody>\n",
       "  </tbody>\n",
       "</table>\n",
       "</div>"
      ],
      "text/plain": [
       "Empty DataFrame\n",
       "Columns: [Number, Daily Time Spent on Site, Daily Internet Usage, Ad Topic Line, Clicked on Ad, Age, Male, City, Country, Area Income]\n",
       "Index: []"
      ]
     },
     "execution_count": 166,
     "metadata": {},
     "output_type": "execute_result"
    }
   ],
   "source": [
    "# Ваш код здесь\n",
    "filtered_df2 = filtered_df[(filtered_df['Daily Time Spent on Site'].isna()) |\n",
    "                           (filtered_df['Daily Time Spent on Site'] > 55)]\n",
    "filtered_df2"
   ]
  },
  {
   "cell_type": "markdown",
   "metadata": {
    "id": "UZ63-YrPOjpd"
   },
   "source": [
    "**Дополнительные задачи**"
   ]
  },
  {
   "cell_type": "markdown",
   "metadata": {
    "id": "MIAm3M_SOjpd"
   },
   "source": [
    "***Задача 20***\n",
    "\n",
    "Для датафрейма `adv123_df` выведите строки с данными, заголовок рекламного сообщения в которых включает слово `model`.\n",
    "\n",
    "Для этого вам понадобится метод [`contains`](https://pandas.pydata.org/docs/reference/api/pandas.Series.str.contains.html).\n",
    "\n",
    "Cохраните получившиеся строки в новый датафрейм `model_df`.\n"
   ]
  },
  {
   "cell_type": "code",
   "execution_count": 167,
   "metadata": {
    "id": "Bdzh725COjpd"
   },
   "outputs": [
    {
     "data": {
      "text/html": [
       "<div>\n",
       "<style scoped>\n",
       "    .dataframe tbody tr th:only-of-type {\n",
       "        vertical-align: middle;\n",
       "    }\n",
       "\n",
       "    .dataframe tbody tr th {\n",
       "        vertical-align: top;\n",
       "    }\n",
       "\n",
       "    .dataframe thead th {\n",
       "        text-align: right;\n",
       "    }\n",
       "</style>\n",
       "<table border=\"1\" class=\"dataframe\">\n",
       "  <thead>\n",
       "    <tr style=\"text-align: right;\">\n",
       "      <th></th>\n",
       "      <th>Daily Time Spent on Site</th>\n",
       "      <th>Daily Internet Usage</th>\n",
       "      <th>Ad Topic Line</th>\n",
       "      <th>Clicked on Ad</th>\n",
       "    </tr>\n",
       "    <tr>\n",
       "      <th>Number</th>\n",
       "      <th></th>\n",
       "      <th></th>\n",
       "      <th></th>\n",
       "      <th></th>\n",
       "    </tr>\n",
       "  </thead>\n",
       "  <tbody>\n",
       "    <tr>\n",
       "      <th>62</th>\n",
       "      <td>44.98</td>\n",
       "      <td>129.31</td>\n",
       "      <td>Organized global model</td>\n",
       "      <td>1</td>\n",
       "    </tr>\n",
       "    <tr>\n",
       "      <th>119</th>\n",
       "      <td>69.00</td>\n",
       "      <td>NaN</td>\n",
       "      <td>Virtual composite model</td>\n",
       "      <td>0</td>\n",
       "    </tr>\n",
       "    <tr>\n",
       "      <th>202</th>\n",
       "      <td>78.57</td>\n",
       "      <td>NaN</td>\n",
       "      <td>Exclusive client-driven model</td>\n",
       "      <td>0</td>\n",
       "    </tr>\n",
       "    <tr>\n",
       "      <th>211</th>\n",
       "      <td>76.90</td>\n",
       "      <td>212.67</td>\n",
       "      <td>Synchronized multimedia model</td>\n",
       "      <td>0</td>\n",
       "    </tr>\n",
       "    <tr>\n",
       "      <th>314</th>\n",
       "      <td>NaN</td>\n",
       "      <td>161.16</td>\n",
       "      <td>Extended interactive model</td>\n",
       "      <td>1</td>\n",
       "    </tr>\n",
       "    <tr>\n",
       "      <th>350</th>\n",
       "      <td>65.77</td>\n",
       "      <td>NaN</td>\n",
       "      <td>Function-based fault-tolerant model</td>\n",
       "      <td>0</td>\n",
       "    </tr>\n",
       "    <tr>\n",
       "      <th>501</th>\n",
       "      <td>81.10</td>\n",
       "      <td>216.49</td>\n",
       "      <td>Front-line dynamic model</td>\n",
       "      <td>0</td>\n",
       "    </tr>\n",
       "    <tr>\n",
       "      <th>538</th>\n",
       "      <td>91.43</td>\n",
       "      <td>209.91</td>\n",
       "      <td>Organic motivating model</td>\n",
       "      <td>0</td>\n",
       "    </tr>\n",
       "    <tr>\n",
       "      <th>629</th>\n",
       "      <td>78.17</td>\n",
       "      <td>192.27</td>\n",
       "      <td>Automated mobile model</td>\n",
       "      <td>0</td>\n",
       "    </tr>\n",
       "    <tr>\n",
       "      <th>712</th>\n",
       "      <td>81.90</td>\n",
       "      <td>225.47</td>\n",
       "      <td>Multi-channeled 3rdgeneration model</td>\n",
       "      <td>0</td>\n",
       "    </tr>\n",
       "    <tr>\n",
       "      <th>823</th>\n",
       "      <td>81.98</td>\n",
       "      <td>212.88</td>\n",
       "      <td>Up-sized maximized model</td>\n",
       "      <td>0</td>\n",
       "    </tr>\n",
       "    <tr>\n",
       "      <th>995</th>\n",
       "      <td>35.79</td>\n",
       "      <td>165.62</td>\n",
       "      <td>Enterprise-wide tangible model</td>\n",
       "      <td>1</td>\n",
       "    </tr>\n",
       "  </tbody>\n",
       "</table>\n",
       "</div>"
      ],
      "text/plain": [
       "        Daily Time Spent on Site  Daily Internet Usage  \\\n",
       "Number                                                   \n",
       "62                         44.98                129.31   \n",
       "119                        69.00                   NaN   \n",
       "202                        78.57                   NaN   \n",
       "211                        76.90                212.67   \n",
       "314                          NaN                161.16   \n",
       "350                        65.77                   NaN   \n",
       "501                        81.10                216.49   \n",
       "538                        91.43                209.91   \n",
       "629                        78.17                192.27   \n",
       "712                        81.90                225.47   \n",
       "823                        81.98                212.88   \n",
       "995                        35.79                165.62   \n",
       "\n",
       "                              Ad Topic Line  Clicked on Ad  \n",
       "Number                                                      \n",
       "62                   Organized global model              1  \n",
       "119                 Virtual composite model              0  \n",
       "202           Exclusive client-driven model              0  \n",
       "211           Synchronized multimedia model              0  \n",
       "314              Extended interactive model              1  \n",
       "350     Function-based fault-tolerant model              0  \n",
       "501                Front-line dynamic model              0  \n",
       "538                Organic motivating model              0  \n",
       "629                  Automated mobile model              0  \n",
       "712     Multi-channeled 3rdgeneration model              0  \n",
       "823                Up-sized maximized model              0  \n",
       "995          Enterprise-wide tangible model              1  "
      ]
     },
     "execution_count": 167,
     "metadata": {},
     "output_type": "execute_result"
    }
   ],
   "source": [
    "# Ваш код здесь\n",
    "model_df = adv123_df[adv123_df['Ad Topic Line'].str.contains('model')]\n",
    "model_df"
   ]
  },
  {
   "cell_type": "markdown",
   "metadata": {
    "id": "u198e6noOjpd"
   },
   "source": [
    "***Задача 21***\n",
    "\n",
    "Для получившегося датафрейма `model_df` выведите строки с данными пользователей, которые проводят на сайте больше среднего времени по всем пользователям в данном датафрейме. Cохраните получившиеся строки в новый датафрейм `model_popular_df`.\n"
   ]
  },
  {
   "cell_type": "code",
   "execution_count": 174,
   "metadata": {
    "id": "POUDDdXqOjpd"
   },
   "outputs": [
    {
     "data": {
      "text/html": [
       "<div>\n",
       "<style scoped>\n",
       "    .dataframe tbody tr th:only-of-type {\n",
       "        vertical-align: middle;\n",
       "    }\n",
       "\n",
       "    .dataframe tbody tr th {\n",
       "        vertical-align: top;\n",
       "    }\n",
       "\n",
       "    .dataframe thead th {\n",
       "        text-align: right;\n",
       "    }\n",
       "</style>\n",
       "<table border=\"1\" class=\"dataframe\">\n",
       "  <thead>\n",
       "    <tr style=\"text-align: right;\">\n",
       "      <th></th>\n",
       "      <th>Daily Time Spent on Site</th>\n",
       "      <th>Daily Internet Usage</th>\n",
       "      <th>Ad Topic Line</th>\n",
       "      <th>Clicked on Ad</th>\n",
       "    </tr>\n",
       "    <tr>\n",
       "      <th>Number</th>\n",
       "      <th></th>\n",
       "      <th></th>\n",
       "      <th></th>\n",
       "      <th></th>\n",
       "    </tr>\n",
       "  </thead>\n",
       "  <tbody>\n",
       "    <tr>\n",
       "      <th>202</th>\n",
       "      <td>78.57</td>\n",
       "      <td>NaN</td>\n",
       "      <td>Exclusive client-driven model</td>\n",
       "      <td>0</td>\n",
       "    </tr>\n",
       "    <tr>\n",
       "      <th>211</th>\n",
       "      <td>76.90</td>\n",
       "      <td>212.67</td>\n",
       "      <td>Synchronized multimedia model</td>\n",
       "      <td>0</td>\n",
       "    </tr>\n",
       "    <tr>\n",
       "      <th>501</th>\n",
       "      <td>81.10</td>\n",
       "      <td>216.49</td>\n",
       "      <td>Front-line dynamic model</td>\n",
       "      <td>0</td>\n",
       "    </tr>\n",
       "    <tr>\n",
       "      <th>538</th>\n",
       "      <td>91.43</td>\n",
       "      <td>209.91</td>\n",
       "      <td>Organic motivating model</td>\n",
       "      <td>0</td>\n",
       "    </tr>\n",
       "    <tr>\n",
       "      <th>629</th>\n",
       "      <td>78.17</td>\n",
       "      <td>192.27</td>\n",
       "      <td>Automated mobile model</td>\n",
       "      <td>0</td>\n",
       "    </tr>\n",
       "    <tr>\n",
       "      <th>712</th>\n",
       "      <td>81.90</td>\n",
       "      <td>225.47</td>\n",
       "      <td>Multi-channeled 3rdgeneration model</td>\n",
       "      <td>0</td>\n",
       "    </tr>\n",
       "    <tr>\n",
       "      <th>823</th>\n",
       "      <td>81.98</td>\n",
       "      <td>212.88</td>\n",
       "      <td>Up-sized maximized model</td>\n",
       "      <td>0</td>\n",
       "    </tr>\n",
       "  </tbody>\n",
       "</table>\n",
       "</div>"
      ],
      "text/plain": [
       "        Daily Time Spent on Site  Daily Internet Usage  \\\n",
       "Number                                                   \n",
       "202                        78.57                   NaN   \n",
       "211                        76.90                212.67   \n",
       "501                        81.10                216.49   \n",
       "538                        91.43                209.91   \n",
       "629                        78.17                192.27   \n",
       "712                        81.90                225.47   \n",
       "823                        81.98                212.88   \n",
       "\n",
       "                              Ad Topic Line  Clicked on Ad  \n",
       "Number                                                      \n",
       "202           Exclusive client-driven model              0  \n",
       "211           Synchronized multimedia model              0  \n",
       "501                Front-line dynamic model              0  \n",
       "538                Organic motivating model              0  \n",
       "629                  Automated mobile model              0  \n",
       "712     Multi-channeled 3rdgeneration model              0  \n",
       "823                Up-sized maximized model              0  "
      ]
     },
     "execution_count": 174,
     "metadata": {},
     "output_type": "execute_result"
    }
   ],
   "source": [
    "# Ваш код здесь\n",
    "model_popular_df = model_df[model_df['Daily Time Spent on Site'] > model_df['Daily Time Spent on Site'].mean()]\n",
    "model_popular_df"
   ]
  },
  {
   "cell_type": "markdown",
   "metadata": {
    "ExecuteTime": {
     "end_time": "2021-10-24T13:24:06.355148Z",
     "start_time": "2021-10-24T13:24:06.350890Z"
    },
    "id": "7wLZJHOzOjpe"
   },
   "source": [
    "***Задача 22***\n",
    "\n",
    "Для объединённого датафрейма `model_popular_df` выведите строки с данными пользователей, номера которых равны 501, 712 и 823. \n",
    "\n",
    "Для этого вам понадобится метод [`isin`](https://pandas.pydata.org/docs/reference/api/pandas.DataFrame.isin.html).\n",
    "\n",
    "*Подсказка:* Не забудьте, что номера пользователей находятся не в обычной колонке, а в колонке, являющейся индексом, поэтому вам необходимо получить значения индекса, а не обычной колонки."
   ]
  },
  {
   "cell_type": "code",
   "execution_count": 177,
   "metadata": {
    "id": "Og4623HzOjpe"
   },
   "outputs": [
    {
     "data": {
      "text/html": [
       "<div>\n",
       "<style scoped>\n",
       "    .dataframe tbody tr th:only-of-type {\n",
       "        vertical-align: middle;\n",
       "    }\n",
       "\n",
       "    .dataframe tbody tr th {\n",
       "        vertical-align: top;\n",
       "    }\n",
       "\n",
       "    .dataframe thead th {\n",
       "        text-align: right;\n",
       "    }\n",
       "</style>\n",
       "<table border=\"1\" class=\"dataframe\">\n",
       "  <thead>\n",
       "    <tr style=\"text-align: right;\">\n",
       "      <th></th>\n",
       "      <th>Daily Time Spent on Site</th>\n",
       "      <th>Daily Internet Usage</th>\n",
       "      <th>Ad Topic Line</th>\n",
       "      <th>Clicked on Ad</th>\n",
       "    </tr>\n",
       "    <tr>\n",
       "      <th>Number</th>\n",
       "      <th></th>\n",
       "      <th></th>\n",
       "      <th></th>\n",
       "      <th></th>\n",
       "    </tr>\n",
       "  </thead>\n",
       "  <tbody>\n",
       "    <tr>\n",
       "      <th>501</th>\n",
       "      <td>81.10</td>\n",
       "      <td>216.49</td>\n",
       "      <td>Front-line dynamic model</td>\n",
       "      <td>0</td>\n",
       "    </tr>\n",
       "    <tr>\n",
       "      <th>712</th>\n",
       "      <td>81.90</td>\n",
       "      <td>225.47</td>\n",
       "      <td>Multi-channeled 3rdgeneration model</td>\n",
       "      <td>0</td>\n",
       "    </tr>\n",
       "    <tr>\n",
       "      <th>823</th>\n",
       "      <td>81.98</td>\n",
       "      <td>212.88</td>\n",
       "      <td>Up-sized maximized model</td>\n",
       "      <td>0</td>\n",
       "    </tr>\n",
       "  </tbody>\n",
       "</table>\n",
       "</div>"
      ],
      "text/plain": [
       "        Daily Time Spent on Site  Daily Internet Usage  \\\n",
       "Number                                                   \n",
       "501                        81.10                216.49   \n",
       "712                        81.90                225.47   \n",
       "823                        81.98                212.88   \n",
       "\n",
       "                              Ad Topic Line  Clicked on Ad  \n",
       "Number                                                      \n",
       "501                Front-line dynamic model              0  \n",
       "712     Multi-channeled 3rdgeneration model              0  \n",
       "823                Up-sized maximized model              0  "
      ]
     },
     "execution_count": 177,
     "metadata": {},
     "output_type": "execute_result"
    }
   ],
   "source": [
    "# Ваш код здесь\n",
    "filtered_df = model_popular_df[model_popular_df.index.isin([501, 712, 823])]\n",
    "filtered_df"
   ]
  }
 ],
 "metadata": {
  "colab": {
   "collapsed_sections": [],
   "name": "12.6_Домашнее_задание.ipynb",
   "provenance": []
  },
  "kernelspec": {
   "display_name": "Python 3 (ipykernel)",
   "language": "python",
   "name": "python3"
  },
  "language_info": {
   "codemirror_mode": {
    "name": "ipython",
    "version": 3
   },
   "file_extension": ".py",
   "mimetype": "text/x-python",
   "name": "python",
   "nbconvert_exporter": "python",
   "pygments_lexer": "ipython3",
   "version": "3.10.9"
  },
  "toc": {
   "base_numbering": 1,
   "nav_menu": {},
   "number_sections": true,
   "sideBar": true,
   "skip_h1_title": false,
   "title_cell": "Table of Contents",
   "title_sidebar": "Contents",
   "toc_cell": false,
   "toc_position": {},
   "toc_section_display": true,
   "toc_window_display": false
  }
 },
 "nbformat": 4,
 "nbformat_minor": 1
}
