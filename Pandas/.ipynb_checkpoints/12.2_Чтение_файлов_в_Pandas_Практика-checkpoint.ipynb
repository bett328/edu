{
 "cells": [
  {
   "cell_type": "markdown",
   "metadata": {
    "id": "RtuBcLcW1Xov"
   },
   "source": [
    "### Чтение файлов в Pandas. Практическое задание\n",
    "\n",
    "В этом практическом задании две обязательные задачи.\n",
    "\n",
    "*Обязательные задачи* нужно сделать, чтобы проверить, что вы действительно усвоили материал урока. Если у вас всё получилось, вы можете переходить к следующему уроку.\n",
    "\n",
    "Удачи!"
   ]
  },
  {
   "cell_type": "markdown",
   "metadata": {
    "id": "fjCXMNU42EIv"
   },
   "source": [
    "Цели практического задания:\n",
    "\n",
    "1. Научиться загружать данные из файлов форматов xlsx и csv.\n",
    "2. Отработать обращение к элементам датафрейма по индексам и названиям строк и столбцов.\n",
    "\n",
    "В конце ноутбука вы можете найти ответы для самостоятельной проверки.\n"
   ]
  },
  {
   "cell_type": "markdown",
   "metadata": {
    "id": "ZMX-FrEE25Z2"
   },
   "source": [
    "\n",
    "\n",
    "---\n"
   ]
  },
  {
   "cell_type": "markdown",
   "metadata": {
    "id": "yFuuATvltkK1"
   },
   "source": [
    "**Обязательные задачи**"
   ]
  },
  {
   "cell_type": "markdown",
   "metadata": {
    "ExecuteTime": {
     "end_time": "2021-10-16T22:03:46.954692Z",
     "start_time": "2021-10-16T22:03:46.945841Z"
    },
    "id": "ugFXDdLgDMgL"
   },
   "source": [
    "Вы будете работать с частью набора рекламных данных, показывающих, щёлкнул ли конкретный пользователь рекламу на сайте компании или нет.\n",
    "\n",
    "Описание датасета:\n",
    "- **Number**: Номер пользователя в системе.\n",
    "- **Daily Time Spent on Site**: Среднее ежедневное время нахождения пользователя на сайте в минутах.\n",
    "- **Daily Internet Usage**: Среднее ежедневное время нахождения пользователя в интернете в минутах.\n",
    "- **Ad Topic Line**: Заголовок рекламного объявления.\n",
    "- **Clicked on Ad**: Кликнул пользователь на рекламу или нет.\n",
    "\n",
    "Даны файлы двух разных форматов с некоторыми данными для датасета выше:\n",
    "\n",
    "- df4.xlsx.\n",
    "- df5.csv.\n",
    "\n",
    "Загрузите в отдельный датафрейм каждый из них, передав верные параметры там, где требуется:"
   ]
  },
  {
   "cell_type": "markdown",
   "metadata": {
    "id": "asuEUp3uDMgL"
   },
   "source": [
    "**Задача 1**\n",
    "\n",
    "1. Загрузите в df4 данные из xlsx-файла и выведите на экран первые пять строк. Не забудьте указать верный параметр header для отображения корректных заголовков.\n"
   ]
  },
  {
   "cell_type": "code",
   "execution_count": 13,
   "metadata": {
    "ExecuteTime": {
     "end_time": "2021-10-22T19:21:33.389579Z",
     "start_time": "2021-10-22T19:21:33.384543Z"
    },
    "id": "ez1CHdkDDMgM"
   },
   "outputs": [],
   "source": [
    "# Допишите код\n",
    "import pandas as pd\n",
    "df4 = pd.read_excel('./12.2 Данные для урока и практики/12.2 Данные для урока и практики/df4.xlsx', \n",
    "                    header=1)\n"
   ]
  },
  {
   "cell_type": "code",
   "execution_count": 14,
   "metadata": {
    "id": "MafH2A07DMgN"
   },
   "outputs": [
    {
     "data": {
      "text/html": [
       "<div>\n",
       "<style scoped>\n",
       "    .dataframe tbody tr th:only-of-type {\n",
       "        vertical-align: middle;\n",
       "    }\n",
       "\n",
       "    .dataframe tbody tr th {\n",
       "        vertical-align: top;\n",
       "    }\n",
       "\n",
       "    .dataframe thead th {\n",
       "        text-align: right;\n",
       "    }\n",
       "</style>\n",
       "<table border=\"1\" class=\"dataframe\">\n",
       "  <thead>\n",
       "    <tr style=\"text-align: right;\">\n",
       "      <th></th>\n",
       "      <th>Number</th>\n",
       "      <th>Daily Time Spent on Site</th>\n",
       "      <th>Daily Internet Usage</th>\n",
       "      <th>Ad Topic Line</th>\n",
       "      <th>Clicked on Ad</th>\n",
       "    </tr>\n",
       "  </thead>\n",
       "  <tbody>\n",
       "    <tr>\n",
       "      <th>0</th>\n",
       "      <td>5</td>\n",
       "      <td>68.95</td>\n",
       "      <td>256.09</td>\n",
       "      <td>Cloned 5thgeneration orchestration</td>\n",
       "      <td>0</td>\n",
       "    </tr>\n",
       "    <tr>\n",
       "      <th>1</th>\n",
       "      <td>6</td>\n",
       "      <td>80.23</td>\n",
       "      <td>193.77</td>\n",
       "      <td>Monitored national standardization</td>\n",
       "      <td>0</td>\n",
       "    </tr>\n",
       "    <tr>\n",
       "      <th>2</th>\n",
       "      <td>7</td>\n",
       "      <td>69.47</td>\n",
       "      <td>236.50</td>\n",
       "      <td>Organic bottom-line service-desk</td>\n",
       "      <td>0</td>\n",
       "    </tr>\n",
       "    <tr>\n",
       "      <th>3</th>\n",
       "      <td>8</td>\n",
       "      <td>74.15</td>\n",
       "      <td>245.89</td>\n",
       "      <td>Triple-buffered reciprocal time-frame</td>\n",
       "      <td>0</td>\n",
       "    </tr>\n",
       "    <tr>\n",
       "      <th>4</th>\n",
       "      <td>9</td>\n",
       "      <td>NaN</td>\n",
       "      <td>225.58</td>\n",
       "      <td>Robust logistical utilization</td>\n",
       "      <td>0</td>\n",
       "    </tr>\n",
       "  </tbody>\n",
       "</table>\n",
       "</div>"
      ],
      "text/plain": [
       "   Number  Daily Time Spent on Site  Daily Internet Usage  \\\n",
       "0       5                     68.95                256.09   \n",
       "1       6                     80.23                193.77   \n",
       "2       7                     69.47                236.50   \n",
       "3       8                     74.15                245.89   \n",
       "4       9                       NaN                225.58   \n",
       "\n",
       "                           Ad Topic Line  Clicked on Ad  \n",
       "0     Cloned 5thgeneration orchestration              0  \n",
       "1     Monitored national standardization              0  \n",
       "2       Organic bottom-line service-desk              0  \n",
       "3  Triple-buffered reciprocal time-frame              0  \n",
       "4          Robust logistical utilization              0  "
      ]
     },
     "execution_count": 14,
     "metadata": {},
     "output_type": "execute_result"
    }
   ],
   "source": [
    "# Ваш код здесь\n",
    "df4.head()"
   ]
  },
  {
   "cell_type": "markdown",
   "metadata": {
    "id": "YZ5fbzYADMgN"
   },
   "source": [
    "2. Найдите в датафрейме df4 значение 193.77 и выведите его на экран, используя выбор элементов по индексу."
   ]
  },
  {
   "cell_type": "code",
   "execution_count": 12,
   "metadata": {
    "id": "q9lfMTv4DMgN"
   },
   "outputs": [
    {
     "data": {
      "text/plain": [
       "193.77"
      ]
     },
     "execution_count": 12,
     "metadata": {},
     "output_type": "execute_result"
    }
   ],
   "source": [
    "# Ваш код c iloc здесь\n",
    "df4.iloc[1, 2]"
   ]
  },
  {
   "cell_type": "markdown",
   "metadata": {
    "id": "10EXOYZJDMgO"
   },
   "source": [
    "**Задача 2**\n",
    "\n",
    "1. Загрузите в df5 данные из csv-файла и выведите на экран последние десять строк. Не забудьте указать верный разделитель.\n"
   ]
  },
  {
   "cell_type": "code",
   "execution_count": 18,
   "metadata": {
    "id": "ioGIg3PyDMgO"
   },
   "outputs": [],
   "source": [
    "# Допишите код\n",
    "df5 = pd.read_csv('./12.2 Данные для урока и практики/12.2 Данные для урока и практики/df5.csv', sep='|')"
   ]
  },
  {
   "cell_type": "code",
   "execution_count": 20,
   "metadata": {
    "id": "21EQbX-6DMgO"
   },
   "outputs": [
    {
     "data": {
      "text/html": [
       "<div>\n",
       "<style scoped>\n",
       "    .dataframe tbody tr th:only-of-type {\n",
       "        vertical-align: middle;\n",
       "    }\n",
       "\n",
       "    .dataframe tbody tr th {\n",
       "        vertical-align: top;\n",
       "    }\n",
       "\n",
       "    .dataframe thead th {\n",
       "        text-align: right;\n",
       "    }\n",
       "</style>\n",
       "<table border=\"1\" class=\"dataframe\">\n",
       "  <thead>\n",
       "    <tr style=\"text-align: right;\">\n",
       "      <th></th>\n",
       "      <th>Number</th>\n",
       "      <th>Daily Time Spent on Site</th>\n",
       "      <th>Daily Internet Usage</th>\n",
       "      <th>Ad Topic Line</th>\n",
       "      <th>Clicked on Ad</th>\n",
       "    </tr>\n",
       "  </thead>\n",
       "  <tbody>\n",
       "    <tr>\n",
       "      <th>75</th>\n",
       "      <td>105</td>\n",
       "      <td>41.49</td>\n",
       "      <td>169.18</td>\n",
       "      <td>Persevering reciprocal firmware</td>\n",
       "      <td>1</td>\n",
       "    </tr>\n",
       "    <tr>\n",
       "      <th>76</th>\n",
       "      <td>106</td>\n",
       "      <td>63.60</td>\n",
       "      <td>235.28</td>\n",
       "      <td>Centralized logistical secured line</td>\n",
       "      <td>0</td>\n",
       "    </tr>\n",
       "    <tr>\n",
       "      <th>77</th>\n",
       "      <td>107</td>\n",
       "      <td>89.91</td>\n",
       "      <td>194.23</td>\n",
       "      <td>Innovative background conglomeration</td>\n",
       "      <td>0</td>\n",
       "    </tr>\n",
       "    <tr>\n",
       "      <th>78</th>\n",
       "      <td>108</td>\n",
       "      <td>68.18</td>\n",
       "      <td>218.17</td>\n",
       "      <td>Switchable 3rdgeneration hub</td>\n",
       "      <td>0</td>\n",
       "    </tr>\n",
       "    <tr>\n",
       "      <th>79</th>\n",
       "      <td>109</td>\n",
       "      <td>NaN</td>\n",
       "      <td>202.16</td>\n",
       "      <td>Polarized 6thgeneration info-mediaries</td>\n",
       "      <td>0</td>\n",
       "    </tr>\n",
       "    <tr>\n",
       "      <th>80</th>\n",
       "      <td>110</td>\n",
       "      <td>80.49</td>\n",
       "      <td>229.12</td>\n",
       "      <td>Balanced heuristic approach</td>\n",
       "      <td>0</td>\n",
       "    </tr>\n",
       "    <tr>\n",
       "      <th>81</th>\n",
       "      <td>111</td>\n",
       "      <td>72.23</td>\n",
       "      <td>241.03</td>\n",
       "      <td>Focused 24hour implementation</td>\n",
       "      <td>0</td>\n",
       "    </tr>\n",
       "    <tr>\n",
       "      <th>82</th>\n",
       "      <td>112</td>\n",
       "      <td>42.39</td>\n",
       "      <td>150.99</td>\n",
       "      <td>De-engineered mobile infrastructure</td>\n",
       "      <td>1</td>\n",
       "    </tr>\n",
       "    <tr>\n",
       "      <th>83</th>\n",
       "      <td>113</td>\n",
       "      <td>NaN</td>\n",
       "      <td>135.18</td>\n",
       "      <td>Customer-focused upward-trending contingency</td>\n",
       "      <td>1</td>\n",
       "    </tr>\n",
       "    <tr>\n",
       "      <th>84</th>\n",
       "      <td>114</td>\n",
       "      <td>74.02</td>\n",
       "      <td>210.54</td>\n",
       "      <td>Operative system-worthy protocol</td>\n",
       "      <td>0</td>\n",
       "    </tr>\n",
       "  </tbody>\n",
       "</table>\n",
       "</div>"
      ],
      "text/plain": [
       "    Number  Daily Time Spent on Site  Daily Internet Usage  \\\n",
       "75     105                     41.49                169.18   \n",
       "76     106                     63.60                235.28   \n",
       "77     107                     89.91                194.23   \n",
       "78     108                     68.18                218.17   \n",
       "79     109                       NaN                202.16   \n",
       "80     110                     80.49                229.12   \n",
       "81     111                     72.23                241.03   \n",
       "82     112                     42.39                150.99   \n",
       "83     113                       NaN                135.18   \n",
       "84     114                     74.02                210.54   \n",
       "\n",
       "                                   Ad Topic Line  Clicked on Ad  \n",
       "75               Persevering reciprocal firmware              1  \n",
       "76           Centralized logistical secured line              0  \n",
       "77          Innovative background conglomeration              0  \n",
       "78                  Switchable 3rdgeneration hub              0  \n",
       "79        Polarized 6thgeneration info-mediaries              0  \n",
       "80                   Balanced heuristic approach              0  \n",
       "81                 Focused 24hour implementation              0  \n",
       "82           De-engineered mobile infrastructure              1  \n",
       "83  Customer-focused upward-trending contingency              1  \n",
       "84              Operative system-worthy protocol              0  "
      ]
     },
     "execution_count": 20,
     "metadata": {},
     "output_type": "execute_result"
    }
   ],
   "source": [
    "# Ваш код здесь\n",
    "df5.tail(10)"
   ]
  },
  {
   "cell_type": "markdown",
   "metadata": {
    "id": "C6ABOxODDMgP"
   },
   "source": [
    "2. Найдите в датафрейме df5 значение `Polarized 6thgeneration info-mediaries` и выведите его на экран, используя выбор элементов по названию.\n"
   ]
  },
  {
   "cell_type": "code",
   "execution_count": 22,
   "metadata": {
    "ExecuteTime": {
     "end_time": "2021-10-22T22:28:58.973185Z",
     "start_time": "2021-10-22T22:28:58.970140Z"
    },
    "id": "-JEwz9knDMgP"
   },
   "outputs": [
    {
     "data": {
      "text/plain": [
       "'Polarized 6thgeneration info-mediaries'"
      ]
     },
     "execution_count": 22,
     "metadata": {},
     "output_type": "execute_result"
    }
   ],
   "source": [
    "# Ваш код c loc здесь\n",
    "df5.loc[79, 'Ad Topic Line']"
   ]
  },
  {
   "cell_type": "code",
   "execution_count": null,
   "metadata": {
    "id": "m_M7nd28DMgS"
   },
   "outputs": [],
   "source": []
  },
  {
   "cell_type": "markdown",
   "metadata": {
    "id": "U84lxPX3DMgS"
   },
   "source": [
    "\n",
    "\n",
    "|\n",
    "\n",
    "|\n",
    "\n",
    "|\n",
    "\n",
    "|\n",
    "\n",
    "|\n",
    "\n",
    "|\n",
    "\n",
    "|\n",
    "\n",
    "|\n",
    "\n",
    "|\n",
    "\n",
    "|\n",
    "\n",
    "|\n",
    "\n",
    "|\n",
    "\n",
    "|\n",
    "\n",
    "|\n",
    "\n",
    "|\n",
    "\n",
    "|\n",
    "\n",
    "|\n",
    "\n",
    "|"
   ]
  },
  {
   "cell_type": "markdown",
   "metadata": {
    "id": "A2udRLH4DMgS"
   },
   "source": [
    "**Ответы для самостоятельной проверки**"
   ]
  },
  {
   "cell_type": "markdown",
   "metadata": {
    "ExecuteTime": {
     "end_time": "2021-10-23T10:35:57.400095Z",
     "start_time": "2021-10-23T10:35:57.393438Z"
    },
    "id": "OhbQm0f5DMgV"
   },
   "source": [
    "**Задача 1**"
   ]
  },
  {
   "cell_type": "code",
   "execution_count": null,
   "metadata": {
    "ExecuteTime": {
     "end_time": "2021-10-23T10:37:34.699484Z",
     "start_time": "2021-10-23T10:37:34.157462Z"
    },
    "id": "kpGk0D0bDMgW",
    "outputId": "e6dc5ec3-0497-40d4-dd39-b26e8b4d467e"
   },
   "outputs": [
    {
     "data": {
      "text/html": [
       "<div>\n",
       "<style scoped>\n",
       "    .dataframe tbody tr th:only-of-type {\n",
       "        vertical-align: middle;\n",
       "    }\n",
       "\n",
       "    .dataframe tbody tr th {\n",
       "        vertical-align: top;\n",
       "    }\n",
       "\n",
       "    .dataframe thead th {\n",
       "        text-align: right;\n",
       "    }\n",
       "</style>\n",
       "<table border=\"1\" class=\"dataframe\">\n",
       "  <thead>\n",
       "    <tr style=\"text-align: right;\">\n",
       "      <th></th>\n",
       "      <th>Number</th>\n",
       "      <th>Daily Time Spent on Site</th>\n",
       "      <th>Daily Internet Usage</th>\n",
       "      <th>Ad Topic Line</th>\n",
       "      <th>Clicked on Ad</th>\n",
       "    </tr>\n",
       "  </thead>\n",
       "  <tbody>\n",
       "    <tr>\n",
       "      <th>0</th>\n",
       "      <td>5</td>\n",
       "      <td>68.95</td>\n",
       "      <td>256.09</td>\n",
       "      <td>Cloned 5thgeneration orchestration</td>\n",
       "      <td>0</td>\n",
       "    </tr>\n",
       "    <tr>\n",
       "      <th>1</th>\n",
       "      <td>6</td>\n",
       "      <td>80.23</td>\n",
       "      <td>193.77</td>\n",
       "      <td>Monitored national standardization</td>\n",
       "      <td>0</td>\n",
       "    </tr>\n",
       "    <tr>\n",
       "      <th>2</th>\n",
       "      <td>7</td>\n",
       "      <td>69.47</td>\n",
       "      <td>236.50</td>\n",
       "      <td>Organic bottom-line service-desk</td>\n",
       "      <td>0</td>\n",
       "    </tr>\n",
       "    <tr>\n",
       "      <th>3</th>\n",
       "      <td>8</td>\n",
       "      <td>74.15</td>\n",
       "      <td>245.89</td>\n",
       "      <td>Triple-buffered reciprocal time-frame</td>\n",
       "      <td>0</td>\n",
       "    </tr>\n",
       "    <tr>\n",
       "      <th>4</th>\n",
       "      <td>9</td>\n",
       "      <td>NaN</td>\n",
       "      <td>225.58</td>\n",
       "      <td>Robust logistical utilization</td>\n",
       "      <td>0</td>\n",
       "    </tr>\n",
       "  </tbody>\n",
       "</table>\n",
       "</div>"
      ],
      "text/plain": [
       "   Number  Daily Time Spent on Site  Daily Internet Usage  \\\n",
       "0       5                     68.95                256.09   \n",
       "1       6                     80.23                193.77   \n",
       "2       7                     69.47                236.50   \n",
       "3       8                     74.15                245.89   \n",
       "4       9                       NaN                225.58   \n",
       "\n",
       "                           Ad Topic Line  Clicked on Ad  \n",
       "0     Cloned 5thgeneration orchestration              0  \n",
       "1     Monitored national standardization              0  \n",
       "2       Organic bottom-line service-desk              0  \n",
       "3  Triple-buffered reciprocal time-frame              0  \n",
       "4          Robust logistical utilization              0  "
      ]
     },
     "execution_count": 10,
     "metadata": {},
     "output_type": "execute_result"
    }
   ],
   "source": [
    "# 1.\n",
    "\n",
    "df4 = pd.read_excel('df4.xlsx', header=1)\n",
    "df4.head()"
   ]
  },
  {
   "cell_type": "code",
   "execution_count": null,
   "metadata": {
    "ExecuteTime": {
     "end_time": "2021-10-23T10:38:20.030908Z",
     "start_time": "2021-10-23T10:38:20.023198Z"
    },
    "id": "ILbhQDabDMgW",
    "outputId": "daf438e0-a19d-499e-fd8e-97e4204b269a"
   },
   "outputs": [
    {
     "data": {
      "text/plain": [
       "193.77"
      ]
     },
     "execution_count": 11,
     "metadata": {},
     "output_type": "execute_result"
    }
   ],
   "source": [
    "# 2.\n",
    "\n",
    "df4.iloc[1, 2]"
   ]
  },
  {
   "cell_type": "markdown",
   "metadata": {
    "id": "Z9TR3L0cp97m"
   },
   "source": [
    "**Задача 2**"
   ]
  },
  {
   "cell_type": "code",
   "execution_count": null,
   "metadata": {
    "ExecuteTime": {
     "end_time": "2021-10-23T10:39:13.177231Z",
     "start_time": "2021-10-23T10:39:13.156996Z"
    },
    "id": "gNea4ADGDMgX",
    "outputId": "07362d13-40c6-4404-a353-381a3e03f6d9"
   },
   "outputs": [
    {
     "data": {
      "text/html": [
       "<div>\n",
       "<style scoped>\n",
       "    .dataframe tbody tr th:only-of-type {\n",
       "        vertical-align: middle;\n",
       "    }\n",
       "\n",
       "    .dataframe tbody tr th {\n",
       "        vertical-align: top;\n",
       "    }\n",
       "\n",
       "    .dataframe thead th {\n",
       "        text-align: right;\n",
       "    }\n",
       "</style>\n",
       "<table border=\"1\" class=\"dataframe\">\n",
       "  <thead>\n",
       "    <tr style=\"text-align: right;\">\n",
       "      <th></th>\n",
       "      <th>Number</th>\n",
       "      <th>Daily Time Spent on Site</th>\n",
       "      <th>Daily Internet Usage</th>\n",
       "      <th>Ad Topic Line</th>\n",
       "      <th>Clicked on Ad</th>\n",
       "    </tr>\n",
       "  </thead>\n",
       "  <tbody>\n",
       "    <tr>\n",
       "      <th>75</th>\n",
       "      <td>105</td>\n",
       "      <td>41.49</td>\n",
       "      <td>169.18</td>\n",
       "      <td>Persevering reciprocal firmware</td>\n",
       "      <td>1</td>\n",
       "    </tr>\n",
       "    <tr>\n",
       "      <th>76</th>\n",
       "      <td>106</td>\n",
       "      <td>63.60</td>\n",
       "      <td>235.28</td>\n",
       "      <td>Centralized logistical secured line</td>\n",
       "      <td>0</td>\n",
       "    </tr>\n",
       "    <tr>\n",
       "      <th>77</th>\n",
       "      <td>107</td>\n",
       "      <td>89.91</td>\n",
       "      <td>194.23</td>\n",
       "      <td>Innovative background conglomeration</td>\n",
       "      <td>0</td>\n",
       "    </tr>\n",
       "    <tr>\n",
       "      <th>78</th>\n",
       "      <td>108</td>\n",
       "      <td>68.18</td>\n",
       "      <td>218.17</td>\n",
       "      <td>Switchable 3rdgeneration hub</td>\n",
       "      <td>0</td>\n",
       "    </tr>\n",
       "    <tr>\n",
       "      <th>79</th>\n",
       "      <td>109</td>\n",
       "      <td>NaN</td>\n",
       "      <td>202.16</td>\n",
       "      <td>Polarized 6thgeneration info-mediaries</td>\n",
       "      <td>0</td>\n",
       "    </tr>\n",
       "    <tr>\n",
       "      <th>80</th>\n",
       "      <td>110</td>\n",
       "      <td>80.49</td>\n",
       "      <td>229.12</td>\n",
       "      <td>Balanced heuristic approach</td>\n",
       "      <td>0</td>\n",
       "    </tr>\n",
       "    <tr>\n",
       "      <th>81</th>\n",
       "      <td>111</td>\n",
       "      <td>72.23</td>\n",
       "      <td>241.03</td>\n",
       "      <td>Focused 24hour implementation</td>\n",
       "      <td>0</td>\n",
       "    </tr>\n",
       "    <tr>\n",
       "      <th>82</th>\n",
       "      <td>112</td>\n",
       "      <td>42.39</td>\n",
       "      <td>150.99</td>\n",
       "      <td>De-engineered mobile infrastructure</td>\n",
       "      <td>1</td>\n",
       "    </tr>\n",
       "    <tr>\n",
       "      <th>83</th>\n",
       "      <td>113</td>\n",
       "      <td>NaN</td>\n",
       "      <td>135.18</td>\n",
       "      <td>Customer-focused upward-trending contingency</td>\n",
       "      <td>1</td>\n",
       "    </tr>\n",
       "    <tr>\n",
       "      <th>84</th>\n",
       "      <td>114</td>\n",
       "      <td>74.02</td>\n",
       "      <td>210.54</td>\n",
       "      <td>Operative system-worthy protocol</td>\n",
       "      <td>0</td>\n",
       "    </tr>\n",
       "  </tbody>\n",
       "</table>\n",
       "</div>"
      ],
      "text/plain": [
       "    Number  Daily Time Spent on Site  Daily Internet Usage  \\\n",
       "75     105                     41.49                169.18   \n",
       "76     106                     63.60                235.28   \n",
       "77     107                     89.91                194.23   \n",
       "78     108                     68.18                218.17   \n",
       "79     109                       NaN                202.16   \n",
       "80     110                     80.49                229.12   \n",
       "81     111                     72.23                241.03   \n",
       "82     112                     42.39                150.99   \n",
       "83     113                       NaN                135.18   \n",
       "84     114                     74.02                210.54   \n",
       "\n",
       "                                   Ad Topic Line  Clicked on Ad  \n",
       "75               Persevering reciprocal firmware              1  \n",
       "76           Centralized logistical secured line              0  \n",
       "77          Innovative background conglomeration              0  \n",
       "78                  Switchable 3rdgeneration hub              0  \n",
       "79        Polarized 6thgeneration info-mediaries              0  \n",
       "80                   Balanced heuristic approach              0  \n",
       "81                 Focused 24hour implementation              0  \n",
       "82           De-engineered mobile infrastructure              1  \n",
       "83  Customer-focused upward-trending contingency              1  \n",
       "84              Operative system-worthy protocol              0  "
      ]
     },
     "execution_count": 12,
     "metadata": {},
     "output_type": "execute_result"
    }
   ],
   "source": [
    "# 1.\n",
    "\n",
    "df5 = pd.read_csv('df5.csv', sep='|')\n",
    "df5.tail(10)"
   ]
  },
  {
   "cell_type": "code",
   "execution_count": null,
   "metadata": {
    "ExecuteTime": {
     "end_time": "2021-10-23T10:40:17.050074Z",
     "start_time": "2021-10-23T10:40:17.043700Z"
    },
    "id": "X43uTX6vDMgX",
    "outputId": "a1ec4941-cafa-4113-8214-503e1d0aab3f"
   },
   "outputs": [
    {
     "data": {
      "text/plain": [
       "'Polarized 6thgeneration info-mediaries'"
      ]
     },
     "execution_count": 13,
     "metadata": {},
     "output_type": "execute_result"
    }
   ],
   "source": [
    "# 2.\n",
    "\n",
    "df5.loc[79, 'Ad Topic Line']"
   ]
  }
 ],
 "metadata": {
  "colab": {
   "collapsed_sections": [],
   "name": "12.2_Чтение_файлов_в_Pandas_Практика.ipynb",
   "provenance": [
    {
     "file_id": "19ZvO1rOueqhKMZ2KM95mah1onbpXtbQF",
     "timestamp": 1636057448138
    }
   ]
  },
  "kernelspec": {
   "display_name": "Python 3 (ipykernel)",
   "language": "python",
   "name": "python3"
  },
  "language_info": {
   "codemirror_mode": {
    "name": "ipython",
    "version": 3
   },
   "file_extension": ".py",
   "mimetype": "text/x-python",
   "name": "python",
   "nbconvert_exporter": "python",
   "pygments_lexer": "ipython3",
   "version": "3.10.9"
  },
  "toc": {
   "base_numbering": 1,
   "nav_menu": {},
   "number_sections": true,
   "sideBar": true,
   "skip_h1_title": false,
   "title_cell": "Table of Contents",
   "title_sidebar": "Contents",
   "toc_cell": false,
   "toc_position": {},
   "toc_section_display": true,
   "toc_window_display": false
  }
 },
 "nbformat": 4,
 "nbformat_minor": 1
}
