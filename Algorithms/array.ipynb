{
 "cells": [
  {
   "cell_type": "code",
   "execution_count": null,
   "id": "8f1ea21a-7b71-441e-8c90-d344721c5354",
   "metadata": {
    "pycharm": {
     "name": "#%%\n"
    }
   },
   "outputs": [],
   "source": [
    "# Обращeние массива\n",
    "def reverse_array(A:list, N:int):\n",
    "    '''\n",
    "    Обращение массива в рамках индекса от 0 до N -1\n",
    "    '''\n",
    "    for k in range(N//2):\n",
    "        A[k], A[N - 1 - k] = A[N - 1 - k], A[k]\n",
    "    \n",
    "\n",
    "def reverse_array_test():\n",
    "    B1 = [1, 2, 3, 4, 5]\n",
    "    print(B1)\n",
    "    reverse_array(B1, 5)\n",
    "    print(B1)\n",
    "    if B1 == [5, 4, 3, 2, 1]:\n",
    "        print(\"Test3 passed\")\n",
    "    else:\n",
    "        print(\"Test3 failed\")\n",
    "\n",
    "    B2 = [0, 0, 0, 0, 10]\n",
    "    reverse_array(B2, 5)\n",
    "    if B2 == [10, 0, 0, 0, 0]:\n",
    "        print(\"Test4 passed\")\n",
    "    else:\n",
    "        print(\"Test4 failed\")\n",
    "        \n",
    "reverse_array_test()"
   ]
  },
  {
   "cell_type": "code",
   "execution_count": null,
   "id": "d26d76b8-c479-4dc3-bd4b-0fcc27ee0cb4",
   "metadata": {
    "pycharm": {
     "name": "#%%\n"
    }
   },
   "outputs": [],
   "source": [
    "# Циклический сдвиг влево\n",
    "def cycle_shift_array_left(A:list, N:int):\n",
    "    '''\n",
    "    Алгоритм циклического сдвига списка влево;\n",
    "    А - список, N - размер списка,\n",
    "    Возвращает список со сдвигом на 1 влево\n",
    "    '''\n",
    "    tmp = A[0]\n",
    "    for k in  range(N-1):\n",
    "        A[k] = A[k+1]\n",
    "    A[N-1] = tmp\n",
    "    return A"
   ]
  },
  {
   "cell_type": "code",
   "execution_count": null,
   "id": "7eb4610b-8aa7-4880-92d7-7fc5f7cf5fbb",
   "metadata": {
    "pycharm": {
     "name": "#%%\n"
    }
   },
   "outputs": [],
   "source": [
    "# Циклический сдвиг вправо\n",
    "def cycle_shift_array_right(A:list, N:int):\n",
    "    '''\n",
    "    Алгоритм циклического сдвига списка вправо;\n",
    "    А - список, N - размер списка,\n",
    "    Возвращает список со сдвигом на 1 вправо\n",
    "    '''\n",
    "    tmp = A[N-1]\n",
    "    for k in range(N-2, -1, -1):\n",
    "        A[k+1] = A[k]\n",
    "    A[0] = tmp\n",
    "    return A"
   ]
  },
  {
   "cell_type": "code",
   "execution_count": null,
   "id": "070725f4-1048-4cd1-b90e-ff8e75019a66",
   "metadata": {
    "pycharm": {
     "name": "#%%\n"
    }
   },
   "outputs": [],
   "source": [
    "list1 = [1, 2, 4, 2, 5, 6, 4, 3, 2, 1]\n",
    "\n",
    "# Считает количество вхождений числа в список\n",
    "def count_numbers(A):\n",
    "    '''Подсчет количества вхождений числа в список'''\n",
    "   \n",
    "    #решение1 с методом count\n",
    "    result = []\n",
    "    for i in range(10):\n",
    "        result.append(list1.count(i))\n",
    "        print(i, ':', result[i])\n",
    "\n",
    "    #решение2 с циклом for\n",
    "    result = []\n",
    "    for i in range(10):\n",
    "        count = 0\n",
    "        result.append(count)\n",
    "        for j in list1:\n",
    "            if j != i:\n",
    "                continue\n",
    "            else:\n",
    "                count += 1\n",
    "                result[i] = count\n",
    "        print(i, ':', count)\n",
    "\n"
   ]
  }
 ],
 "metadata": {
  "kernelspec": {
   "display_name": "Python 3 (ipykernel)",
   "language": "python",
   "name": "python3"
  },
  "language_info": {
   "codemirror_mode": {
    "name": "ipython",
    "version": 3
   },
   "file_extension": ".py",
   "mimetype": "text/x-python",
   "name": "python",
   "nbconvert_exporter": "python",
   "pygments_lexer": "ipython3",
   "version": "3.10.9"
  }
 },
 "nbformat": 4,
 "nbformat_minor": 5
}