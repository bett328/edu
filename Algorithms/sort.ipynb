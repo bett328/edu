{
 "cells": [
  {
   "cell_type": "code",
   "execution_count": 1,
   "id": "3fd019fe-b755-4b43-9a47-fde79e16be65",
   "metadata": {},
   "outputs": [
    {
     "name": "stdout",
     "output_type": "stream",
     "text": [
      "Исходный массив: [3, 6, 8, 10, 1, 2, 1]\n",
      "Отсортированный массив: [1, 1, 2, 3, 6, 8, 10]\n"
     ]
    }
   ],
   "source": [
    "# Проверка отсортированности\n",
    "def check_sorted(arr, ascending=True):\n",
    "    '''Проверка отсортированности за О(len(A))\n",
    "    '''\n",
    "    flag = True\n",
    "    s = 2 * int(ascending) - 1\n",
    "    for i in range(N-1):\n",
    "        if s * arr[i] > s * arr[i+1]:\n",
    "            flag = False\n",
    "            break\n",
    "    return flag\n",
    "    \n",
    "\n",
    "# Быстрая сортировка Тони Хоара\n",
    "def quick_sort(arr):\n",
    "    ''' Выбирается опорный элемент из массива.\n",
    "        Массив разделяется на две подгруппы: одна содержит элементы, меньшие или равные опорному элементу, \n",
    "        а другая - элементы, большие опорного.\n",
    "        Рекурсивно для каждого подмассива применяется сортировка Хоара к обеим подгруппам,\n",
    "        пока размер подмассивов не станет равным 1 или 0.\n",
    "    '''\n",
    "    if len(arr) <= 1:\n",
    "        return arr\n",
    "    else:\n",
    "        pivot = arr[len(arr) // 2]  # Выбор опорного элемента\n",
    "        left = [x for x in arr if x < pivot]\n",
    "        middle = [x for x in arr if x == pivot]\n",
    "        right = [x for x in arr if x > pivot]\n",
    "        return quick_sort(left) + middle + quick_sort(right)\n",
    "\n",
    "# Пример использования\n",
    "arr = [3, 6, 8, 10, 1, 2, 1]\n",
    "print(\"Исходный массив:\", arr)\n",
    "sorted_arr = quick_sort(arr)\n",
    "print(\"Отсортированный массив:\", sorted_arr)\n"
   ]
  },
  {
   "cell_type": "code",
   "execution_count": null,
   "id": "432eeac1-2864-46f8-b3a7-dc4e57986ce4",
   "metadata": {},
   "outputs": [],
   "source": [
    "# Квадратичные сортировки\n",
    "\n",
    "# Insert sort - Сортировка вставками\n",
    "def insert_sort(A):\n",
    "    '''сортировка методом вставки'''\n",
    "    N = len(A)\n",
    "    for top in range(1, N):\n",
    "        k = top\n",
    "        while k > 0 and A[k-1] > A[k]:\n",
    "            A[k], A[k-1] = A[k-1], A[k]\n",
    "            k -= 1\n",
    "            "
   ]
  },
  {
   "cell_type": "code",
   "execution_count": null,
   "id": "e874a1b0-72e6-47c1-b984-f8b0621d8794",
   "metadata": {},
   "outputs": [],
   "source": [
    "# Choice sort - Сортировка методом выбора\n",
    "def choice_sort(A):\n",
    "    '''сортировка методом выбора'''\n",
    "    N = len(A)\n",
    "    for pos in range(0, N-1):\n",
    "        for k in range(pos+1, N):\n",
    "            if A[k] < A[pos]:\n",
    "                A[k], A[pos] = A[pos], A[k]\n"
   ]
  },
  {
   "cell_type": "code",
   "execution_count": 2,
   "id": "21d3f7c2-fe13-43b1-8987-a59e04d6bc40",
   "metadata": {},
   "outputs": [],
   "source": [
    "# Bubble sort - Пузырьковая сортировка\n",
    "def bubble_sort(A):\n",
    "    '''сортировка пузырьковым методом'''\n",
    "    N = len(A)\n",
    "    for bypass in range(1, N):\n",
    "        for k in range(0, N-bypass):\n",
    "            if A[k] > A[k+1]:\n",
    "                A[k], A[k+1] = A[k+1], A[k]\n"
   ]
  },
  {
   "cell_type": "code",
   "execution_count": null,
   "id": "49549938-41ae-4e92-93f0-c69972601785",
   "metadata": {},
   "outputs": [],
   "source": [
    "# Counting sort - Сортировка подсчетом - однопроходный алгоритм\n",
    "def counting_sort(A):\n",
    "    '''Сортировка подсчетом'''\n",
    "    max_val = max(A) if A else 0\n",
    "    count = [0] * (max_val + 1)\n",
    "    \n",
    "    # Считаем количество вхождений каждого элемента\n",
    "    for num in A:\n",
    "        count[num] += 1\n",
    "    \n",
    "    # Распределяем элементы по их позициям\n",
    "    i = 0\n",
    "    for num in range(max_val + 1):\n",
    "        for _ in range(count[num]):\n",
    "            A[i] = num\n",
    "            i += 1\n"
   ]
  },
  {
   "cell_type": "code",
   "execution_count": null,
   "id": "add60caa-5986-4ae4-a12f-29b791e023e2",
   "metadata": {},
   "outputs": [],
   "source": [
    "def test_sort(sort_algorithm):\n",
    "    print(\"Тестируем:\", sort_algorithm.__doc__)\n",
    "    print(\"testcase#1:\", end=\"\")\n",
    "    A = [4, 2, 5, 1, 3]\n",
    "    A_sorted = [1, 2, 3, 4, 5]\n",
    "    sort_algorithm(A)\n",
    "    print(\"ok\" if A == A_sorted else \"fail\", A)\n",
    "    \n",
    "    print(\"Тестируем:\", sort_algorithm.__doc__)\n",
    "    print(\"testcase#2:\", end=\"\")\n",
    "    A = list(range(10, 20)) + list(range(0, 10))\n",
    "    A_sorted = list(range(20))\n",
    "    sort_algorithm(A)\n",
    "    print(\"ok\" if A == A_sorted else \"fail\", A)\n",
    "    \n",
    "    print(\"Тестируем:\", sort_algorithm.__doc__)\n",
    "    print(\"testcase#3:\", end=\"\")\n",
    "    A = [4, 2, 4, 2, 1]\n",
    "    A_sorted = [1, 2, 2, 4, 4]\n",
    "    sort_algorithm(A)\n",
    "    print(\"ok\" if A == A_sorted else \"fail\", A)\n",
    "         \n",
    "                    \n",
    "if __name__ == \"__main__\":\n",
    "    test_sort(insert_sort)\n",
    "    test_sort(choice_sort)\n",
    "    test_sort(bubble_sort)\n",
    "    test_sort(counting_sort)"
   ]
  }
 ],
 "metadata": {
  "kernelspec": {
   "display_name": "Python 3 (ipykernel)",
   "language": "python",
   "name": "python3"
  },
  "language_info": {
   "codemirror_mode": {
    "name": "ipython",
    "version": 3
   },
   "file_extension": ".py",
   "mimetype": "text/x-python",
   "name": "python",
   "nbconvert_exporter": "python",
   "pygments_lexer": "ipython3",
   "version": "3.10.9"
  }
 },
 "nbformat": 4,
 "nbformat_minor": 5
}
