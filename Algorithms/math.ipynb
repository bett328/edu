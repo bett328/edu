{
 "cells": [
  {
   "cell_type": "code",
   "execution_count": 13,
   "id": "a67f38ae-610e-417a-a1a5-7789fc2610ca",
   "metadata": {},
   "outputs": [
    {
     "name": "stdout",
     "output_type": "stream",
     "text": [
      "Test1 passed\n",
      "Test2 passed\n",
      "[1, 2, 3, 4, 5]\n",
      "[5, 4, 3, 2, 1]\n",
      "Test3 passed\n",
      "Test4 passed\n",
      "0 - is simple\n",
      "1 - is simple\n",
      "2 - is simple\n",
      "3 - is simple\n",
      "4 - is not simple\n",
      "Тестируем: сортировка методом вставки\n",
      "testcase#1:ok [1, 2, 3, 4, 5]\n",
      "Тестируем: сортировка методом вставки\n",
      "testcase#2:ok [0, 1, 2, 3, 4, 5, 6, 7, 8, 9, 10, 11, 12, 13, 14, 15, 16, 17, 18, 19]\n",
      "Тестируем: сортировка методом вставки\n",
      "testcase#3:ok [1, 2, 2, 4, 4]\n",
      "Тестируем: сортировка методом выбора\n",
      "testcase#1:ok [1, 2, 3, 4, 5]\n",
      "Тестируем: сортировка методом выбора\n",
      "testcase#2:ok [0, 1, 2, 3, 4, 5, 6, 7, 8, 9, 10, 11, 12, 13, 14, 15, 16, 17, 18, 19]\n",
      "Тестируем: сортировка методом выбора\n",
      "testcase#3:ok [1, 2, 2, 4, 4]\n",
      "Тестируем: сортировка пузырьковым методом\n",
      "testcase#1:ok [1, 2, 3, 4, 5]\n",
      "Тестируем: сортировка пузырьковым методом\n",
      "testcase#2:ok [0, 1, 2, 3, 4, 5, 6, 7, 8, 9, 10, 11, 12, 13, 14, 15, 16, 17, 18, 19]\n",
      "Тестируем: сортировка пузырьковым методом\n",
      "testcase#3:ok [1, 2, 2, 4, 4]\n",
      "Тестируем: Сортировка подсчетом\n",
      "testcase#1:ok [1, 2, 3, 4, 5]\n",
      "Тестируем: Сортировка подсчетом\n",
      "testcase#2:ok [0, 1, 2, 3, 4, 5, 6, 7, 8, 9, 10, 11, 12, 13, 14, 15, 16, 17, 18, 19]\n",
      "Тестируем: Сортировка подсчетом\n",
      "testcase#3:ok [1, 2, 2, 4, 4]\n"
     ]
    }
   ],
   "source": [
    "# Simple number\n",
    "def is_simple_number():\n",
    "    ''' \n",
    "    Определяет, простое число или нет    \n",
    "    ''' \n",
    "    x = int(input(\"Введите число: \", ))\n",
    "    div = 2 # divisor\n",
    "    while div < x:\n",
    "        if x%div == 0:\n",
    "            return False\n",
    "        div += 1\n",
    "    return True\n",
    "        "
   ]
  },
  {
   "cell_type": "code",
   "execution_count": null,
   "id": "6fa54ead-33bd-4651-b090-1dc1aacee084",
   "metadata": {},
   "outputs": [],
   "source": [
    "# Factorize number. Разложение на множители\n",
    "def factorize_number():\n",
    "    ''' \n",
    "    Раскладывает число на множители \n",
    "    '''\n",
    "    x = int(input(\"Введите число: \", ))\n",
    "    div = 2\n",
    "    while x > 1:\n",
    "        if x%div == 0:\n",
    "            print(div)\n",
    "            x //= div\n",
    "        else:\n",
    "            div += 1\n"
   ]
  },
  {
   "cell_type": "code",
   "execution_count": 14,
   "id": "48ef03f5-0a3e-4f23-a230-636ba8ffa6ad",
   "metadata": {},
   "outputs": [
    {
     "name": "stdout",
     "output_type": "stream",
     "text": [
      "Верх матрешки n =  5\n",
      "Верх матрешки n =  4\n",
      "Верх матрешки n =  3\n",
      "Верх матрешки n =  2\n",
      "Матрешечка\n",
      "Низ матрешечки n =  2\n",
      "Низ матрешечки n =  3\n",
      "Низ матрешечки n =  4\n",
      "Низ матрешечки n =  5\n"
     ]
    }
   ],
   "source": [
    "matryoshka(5)"
   ]
  },
  {
   "cell_type": "code",
   "execution_count": 10,
   "id": "2bd9d85f-a152-458d-a5e0-37de610db3ef",
   "metadata": {},
   "outputs": [
    {
     "name": "stdin",
     "output_type": "stream",
     "text": [
      "Введите число:  55\n"
     ]
    },
    {
     "name": "stdout",
     "output_type": "stream",
     "text": [
      "5\n",
      "11\n"
     ]
    }
   ],
   "source": [
    "factorize_number()"
   ]
  },
  {
   "cell_type": "code",
   "execution_count": 13,
   "id": "c68154c2-a943-4a5a-a76d-7d28f9b94cb2",
   "metadata": {},
   "outputs": [
    {
     "name": "stdin",
     "output_type": "stream",
     "text": [
      "Введите число:  19\n"
     ]
    },
    {
     "data": {
      "text/plain": [
       "True"
      ]
     },
     "execution_count": 13,
     "metadata": {},
     "output_type": "execute_result"
    }
   ],
   "source": [
    "is_simple_number()"
   ]
  },
  {
   "cell_type": "code",
   "execution_count": 6,
   "id": "f179f9fc-b5ce-4f73-b39a-e7a6fb7fda3f",
   "metadata": {},
   "outputs": [],
   "source": [
    "def factorial(n):\n",
    "    '''Вычисляет факториал числа n'''\n",
    "    assert n >= 0\n",
    "    if n == 0: # Факториал отрицю числа не определен\n",
    "        return 1\n",
    "    return factorial(n-1)*n"
   ]
  },
  {
   "cell_type": "code",
   "execution_count": 9,
   "id": "0d778abe-b428-4050-9e88-b2b06b83562f",
   "metadata": {},
   "outputs": [
    {
     "data": {
      "text/plain": [
       "5040"
      ]
     },
     "execution_count": 9,
     "metadata": {},
     "output_type": "execute_result"
    }
   ],
   "source": [
    "factorial(7)"
   ]
  },
  {
   "cell_type": "code",
   "execution_count": 55,
   "id": "ae544654-3d2a-46e9-9466-c5a82908a931",
   "metadata": {},
   "outputs": [],
   "source": [
    "# Алгоритм Евклида\n",
    "def alg_Euclidean(a, b):\n",
    "    '''Функция определяет наибольший общий делитель'''    \n",
    "    return a if b == 0 else alg_Euclidean(b, a % b)"
   ]
  },
  {
   "cell_type": "code",
   "execution_count": 57,
   "id": "463a1f4c-674e-4759-8a1e-2c548fdc0b34",
   "metadata": {},
   "outputs": [
    {
     "data": {
      "text/plain": [
       "12"
      ]
     },
     "execution_count": 57,
     "metadata": {},
     "output_type": "execute_result"
    }
   ],
   "source": [
    "alg_Euclidean(24, 12)"
   ]
  },
  {
   "cell_type": "code",
   "execution_count": 59,
   "id": "e7269a00-351f-4ebf-840e-5df241827b2d",
   "metadata": {},
   "outputs": [],
   "source": [
    "# Быстрое возведение в степень\n",
    "def power(a, n):\n",
    "    if n == 0:\n",
    "        return 1\n",
    "    elif n % 2 == 0: # n-неч\n",
    "        return power(a**2, (n-1)*a)\n",
    "    else:\n",
    "        return power(a**2, n/2)"
   ]
  },
  {
   "cell_type": "code",
   "execution_count": null,
   "id": "608d4aff-cdc1-4c58-bb80-9023626c3f3c",
   "metadata": {},
   "outputs": [],
   "source": [
    "power(12, 3)"
   ]
  },
  {
   "cell_type": "code",
   "execution_count": 3,
   "id": "ac4719ca-70ab-4856-a1bc-cf4179776d22",
   "metadata": {},
   "outputs": [
    {
     "name": "stdout",
     "output_type": "stream",
     "text": [
      "Переместить диск 1 с A на C\n",
      "Переместить диск 2 с A на B\n",
      "Переместить диск 1 с C на B\n",
      "Переместить диск 3 с A на C\n",
      "Переместить диск 1 с B на A\n",
      "Переместить диск 2 с B на C\n",
      "Переместить диск 1 с A на C\n"
     ]
    }
   ],
   "source": [
    "def hanoi(n, source, target, auxiliary):\n",
    "    if n > 0:\n",
    "        # Переместить (n-1) дисков с исходного стержня на вспомогательный,\n",
    "        # используя целевой стержень как промежуточный\n",
    "        hanoi(n - 1, source, auxiliary, target)\n",
    "        # Переместить оставшийся диск с исходного стержня на целевой\n",
    "        print(\"Переместить диск\", n, \"с\", source, \"на\", target)\n",
    "        # Переместить (n-1) дисков с вспомогательного стержня на целевой,\n",
    "        # используя исходный стержень как промежуточный\n",
    "        hanoi(n - 1, auxiliary, target, source)\n",
    "\n",
    "# Пример использования\n",
    "n = 3  # Количество дисков\n",
    "hanoi(n, 'A', 'C', 'B')  # Вызов функции с тремя стержнями: A, B, C"
   ]
  },
  {
   "cell_type": "code",
   "id": "5946b1c0-1e6d-4bef-a249-36685e05e856",
   "metadata": {
    "ExecuteTime": {
     "end_time": "2024-05-19T18:40:28.830261Z",
     "start_time": "2024-05-19T18:40:28.811641Z"
    }
   },
   "source": [
    "# Число Фиббоначи\n",
    "def fibonacci(n):\n",
    "    '''Очень долгий алгоритм'''\n",
    "    if n <= 1:\n",
    "        return n\n",
    "    return fibonacci(n - 1) + fibonacci(n - 2)\n",
    "\n",
    "def fib_arr(n):\n",
    "    '''Быстрое вычисление ряда Фиббоначи с помощью динамического программирования'''\n",
    "    fib = [0, 1] + [0]*(n-1)\n",
    "    for i in range(2, n+1):\n",
    "        fib[i] = fib[i-1] + fib[i-2]\n",
    "    return fib[n]\n"
   ],
   "outputs": [],
   "execution_count": 1
  },
  {
   "cell_type": "code",
   "id": "12f70447-9a45-4822-8778-7e8016f3ef69",
   "metadata": {
    "ExecuteTime": {
     "end_time": "2024-05-21T17:24:35.444914Z",
     "start_time": "2024-05-21T17:24:35.414995Z"
    }
   },
   "source": [
    "# Количество цифр в числе\n",
    "def count_digits(n):\n",
    "    return len(str(n))\n",
    "\n",
    "def count_digits(n):\n",
    "    count = 0\n",
    "    while n != 0:\n",
    "        n //= 10\n",
    "        count += 1\n",
    "    return count"
   ],
   "outputs": [],
   "execution_count": 1
  },
  {
   "cell_type": "code",
   "id": "6567e682-076e-457f-b9b5-adc94c72b2e9",
   "metadata": {
    "ExecuteTime": {
     "end_time": "2024-05-21T17:25:22.480521Z",
     "start_time": "2024-05-21T17:25:22.463389Z"
    }
   },
   "source": [
    "# Количество отличников и двоечников\n",
    "scores = [\n",
    "          [2, 4, 4, 5, 2, 3, 3, 1, 1],\n",
    "          [3, 4, 2, 3, 3, 1, 5, 2, 4],\n",
    "          [5, 3, 3, 4, 3, 2, 3, 5],\n",
    "          [4, 2, 2, 4, 2],\n",
    "          [4, 3, 3, 3, 3, 3, 3],\n",
    "          [2, 1, 5, 3, 5, 5],\n",
    "          [4, 4, 4, 4, 5, 5],\n",
    "          [4, 1, 3, 4, 1, 1]\n",
    "]\n",
    "\n",
    "def count_students(scores):\n",
    "    '''Количество сдавших и не сдавших экзамен.'''\n",
    "    passed = sum(1 for score in scores if score >= 3)\n",
    "    failed = sum(1 for score in scores if score < 3)\n",
    "    return passed, failed\n",
    "\n",
    "\n",
    "def percent_of_good_scores(scores):\n",
    "    '''Процент отличников (оценки 4 и 5).'''\n",
    "    good_scores = sum(1 for score in scores if score >= 4)\n",
    "    total_students = len(scores)\n",
    "    return (good_scores / total_students) * 100\n",
    "\n",
    "\n",
    "def determine_class_performance(scores, low_threshold=30, high_threshold=95):\n",
    "    '''Результативность класса.'''\n",
    "    good_scores_percentage = percent_of_good_scores(scores)\n",
    "    \n",
    "    if good_scores_percentage > high_threshold:\n",
    "        return \"Отлично\"\n",
    "    elif good_scores_percentage < low_threshold:\n",
    "        return \"Плохо\"\n",
    "    else:\n",
    "        return \"Удовлетворительно\"\n",
    "\n",
    "\n",
    "def get_info(scores_list, low_threshold=30, high_threshold=95):\n",
    "    '''Главная функция, обрабатывающая список классов и выводящая информацию о каждом классе.''' \n",
    "    for index, class_scores in enumerate(scores_list):\n",
    "        passed, failed = count_students(class_scores)\n",
    "        performance = determine_class_performance(class_scores, low_threshold, high_threshold)\n",
    "        \n",
    "        print(f\"Количество сдавших: {passed}, Количество проваливших: {failed}, Итог по классу: {performance}\")"
   ],
   "outputs": [],
   "execution_count": 2
  },
  {
   "metadata": {},
   "cell_type": "code",
   "outputs": [],
   "execution_count": null,
   "source": [
    "# Калькулятор. Только для операций сложения и умножения.\n",
    "def multiply_expression(expression):\n",
    "    ''' Функция для вычисления выражений с умножением. '''\n",
    "    values = expression.split('*')\n",
    "    result = 1\n",
    "    for value in values:\n",
    "        result *= int(value)\n",
    "    return result\n",
    "\n",
    "def extract_expression(expression):\n",
    "    ''' Основная функция для вычисления выражения с сложением и умножением. ''' \n",
    "    addition_parts = expression.split('+')\n",
    "    result = 0\n",
    "    for part in addition_parts:\n",
    "        result += multiply_expression(part)\n",
    "    return result"
   ],
   "id": "caa89306b05a1a05"
  },
  {
   "metadata": {},
   "cell_type": "code",
   "outputs": [],
   "execution_count": null,
   "source": [
    "# Задача кузнейчика\n",
    "def count_trajectores(A, allowed:list):\n",
    "    '''\n",
    "    Сколько возможно траекторий при добирании кузнейчиком от пункта А в пункт B, если:\n",
    "    1. Возможны скачки только на 1, 2 или 3 клетки.\n",
    "    2. Клетки 3, 4, 7 закрыты для посещения.\n",
    "    Передаем в функцию длину траектории. \n",
    "    Передаем список ячеек, которые запрещены\n",
    "    '''\n",
    "    K = [0, 1, int(allowed[2])] + [0]*(N-3)\n",
    "    for i in range(3, N+1):\n",
    "        if allowed[i]:\n",
    "            K[i] = K[i-1] + K[i-2] + K[i-3]\n",
    "    return K[A]        \n",
    "            \n",
    "# Усложение предыдущей задачи. Минимальная стоимость price[i] за посещение i.\n",
    "def count_min_cost(N, price:list):\n",
    "    ''' С[i] - cost, минимально возможная стоимость достижения клетки i.'''\n",
    "    "
   ],
   "id": "c63d4ec2ff59acc7"
  }
 ],
 "metadata": {
  "kernelspec": {
   "display_name": "Python 3 (ipykernel)",
   "language": "python",
   "name": "python3"
  },
  "language_info": {
   "codemirror_mode": {
    "name": "ipython",
    "version": 3
   },
   "file_extension": ".py",
   "mimetype": "text/x-python",
   "name": "python",
   "nbconvert_exporter": "python",
   "pygments_lexer": "ipython3",
   "version": "3.10.9"
  }
 },
 "nbformat": 4,
 "nbformat_minor": 5
}
