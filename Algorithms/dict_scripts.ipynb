{
 "cells": [
  {
   "cell_type": "code",
   "id": "initial_id",
   "metadata": {
    "collapsed": true,
    "ExecuteTime": {
     "end_time": "2024-05-25T15:10:43.727705Z",
     "start_time": "2024-05-25T15:10:35.551906Z"
    }
   },
   "source": [
    "# Закупки и скидки\n",
    "''' Результатом должен стать словарь с парами ключ — id покупателя;\n",
    "    значение — словарь вида: {'discount': 5, 'total_sum': 12000}, \n",
    "    где discount — размер скидки, total_sum — общая сумма покупок\n",
    "    \n",
    "    если сумма покупок от 10 тыс руб — скидка 5%;\n",
    "    если сумма покупок от 15 тыс руб — скидка 10%;\n",
    "    если сумма покупок от 20 тыс руб — скидка 15%;\n",
    "    если сумма покупок менее 10 тыс руб — скидка 0%.\n",
    "    \n",
    "'''\n",
    "\n",
    "orders = [\n",
    "          (111, 3, 1200), (118, 9, 8000),\n",
    "          (111, 10, 1000000), (119, 9, 13300),\n",
    "          (156, 10, 11000), (123, 9, 11200),\n",
    "          (178, 20, 3200), (178, 5, 8900),\n",
    "          (156, 9, 8000), (123, 4, 3500),\n",
    "          (101, 9, 8000), (101, 8, 1000),\n",
    "]\n",
    "\n",
    "def update_discount(customer):\n",
    "    if customer['total_sum'] >= 20000:\n",
    "        customer['discount'] = 15\n",
    "    elif customer['total_sum'] >= 15000: \n",
    "        customer['discount'] = 10\n",
    "    elif customer['total_sum'] >= 10000:\n",
    "        customer['discount'] = 5\n",
    "\n",
    "    return customer['discount']\n",
    "\n",
    "def count_discount_system(orders):\n",
    "    discount_system = {}\n",
    "    for o in orders:\n",
    "        if o[0] not in discount_system: # o[0] - id покупателя, взятый из заказа\n",
    "            discount_system[o[0]] = {'discount': 0, 'total_sum': 0}\n",
    "        discount_system[o[0]]['total_sum'] += o[2] # o[2] - сумма покупки в заказе\n",
    "        discount_system[o[0]]['discount'] = update_discount(discount_system[o[0]])\n",
    "\n",
    "    return discount_system\n",
    "\n",
    "discount_system = count_discount_system(orders)\n",
    "\n",
    "def get_discount(discount_system, id):\n",
    "    if id in discount_system:\n",
    "        return discount_system[id]['discount']\n",
    "    else:\n",
    "        return 0\n",
    "\n",
    "def add_order(discount_system, id, order):\n",
    "    if id not in discount_system:\n",
    "        discount_system[id] = {'discount': 0, 'total_sum': 0} # Для новых пользователей\n",
    "    discount_system[id]['total_sum'] += order\n",
    "    discount_system[id]['discount'] = update_discount(discount_system[id])\n",
    "\n",
    "    return discount_system\n",
    "\n",
    "id = int(input('ID? '))\n",
    "order = float(input('Стоимость покупки? '))\n",
    "\n",
    "discount = get_discount(discount_system, id)\n",
    "new_price = order*(1-discount/100)\n",
    "print(f'Стоимость покупки со скидкой {discount} = {new_price}')\n",
    "\n",
    "discount_system = add_order(discount_system, id, new_price)\n",
    "\n",
    "if discount_system[id]['discount'] != discount:\n",
    "    print('Ваша программа лояльности обновилась, новая скидка:', discount_system[id]['discount'])"
   ],
   "outputs": [
    {
     "name": "stdout",
     "output_type": "stream",
     "text": [
      "Стоимость покупки со скидкой 0 = 234234242.0\n",
      "Ваша программа лояльности обновилась, новая скидка: 15\n"
     ]
    }
   ],
   "execution_count": 1
  },
  {
   "metadata": {},
   "cell_type": "code",
   "outputs": [],
   "execution_count": null,
   "source": [
    "# Турнирная таблица\n",
    "\n",
    "''' Даны финальные баллы спортсменов по результатам соревнований, \n",
    "    которые хранятся в словаре final_scores.\n",
    "    Функция должна находить имена трёх победителей и их результаты\n",
    "'''\n",
    "\n",
    "final_scores = {'Евгений Потапенко': 120, \n",
    "                'Иван Иванович': 200, \n",
    "                'Кузьма Иванов': 190, \n",
    "                'Иннокентий Соловьев': 150,  \n",
    "                'Герасим Маркелов': 180, \n",
    "                'Олег Корнеев': 220\n",
    "                }\n",
    "\n",
    "# Функция для сортировки по количеству баллов\n",
    "def sort_by_score(item):\n",
    "    return item[1]\n",
    "\n",
    "# Функция, которая находит имена трёх победителей соревнования и их результаты\n",
    "def find_winners(final_scores):\n",
    "    # Сортировка словаря по баллам, получаем список кортежей (имя, баллы)\n",
    "    sorted_scores = sorted(final_scores.items(), key=sort_by_score, reverse=True)\n",
    "    \n",
    "    # Из отсортированного списка выбираем первые три элемента, т.е. трёх победителей\n",
    "    winners = sorted_scores[:3]\n",
    "    \n",
    "    # Выводим имена победителей и их результаты на экран\n",
    "    for i, winner in enumerate(winners, start=1):\n",
    "        print(f'{i} место - {winner[0]}: {winner[1]}')\n",
    "\n",
    "find_winners(final_scores)"
   ],
   "id": "6b69f61e36bd2a7b"
  },
  {
   "metadata": {
    "ExecuteTime": {
     "end_time": "2024-05-25T15:18:03.537860Z",
     "start_time": "2024-05-25T15:17:59.708793Z"
    }
   },
   "cell_type": "code",
   "source": [
    "# Словарь констант\n",
    "\n",
    "''' Дан список кортежей constants. \n",
    "    В каждом кортеже на первом месте лежит обозначение математической или физической константы, \n",
    "    а на втором месте — её значение, например: ('g', '9.823773828293883939291').\n",
    "    Функция из списка кортежей преобразует данные в словарь, \n",
    "    в котором обозначение константы — это ключ, а соответствующее число — значение.\n",
    "    Программа, которая считывает с экрана буквенное обозначение константы и выдаёт её значение по данным из словаря. \n",
    "    Если такого обозначения нет — пишет, что значение не найдено.\n",
    "'''\n",
    "\n",
    "constants = [('g', '9.823773828293883939291'), ('pi', '3.14159265358979323846264338327950288'), \\\n",
    "             ('L', '0.5'), ('e', '2.71828182845904523536028747135266249'), \\\n",
    "             ('B2', '1.902160583104'), ('C2', '0.64341054629')]\n",
    "\n",
    "def dict_const(constants):\n",
    "    const_dict = dict(constants)\n",
    "    \n",
    "    user_input = input(\"Введите имя константы:\\n\")\n",
    "    num_digits = input(\"Сколько знаков после запятой вывести?\\n\")\n",
    "\n",
    "    constant_value = const_dict.get(user_input)\n",
    "\n",
    "    if constant_value is None:\n",
    "        print(\"Значение не найдено.\")\n",
    "    else:\n",
    "        if num_digits:\n",
    "            num_digits = int(num_digits)\n",
    "            constant_value = round(float(constant_value), num_digits)\n",
    "        else:\n",
    "            constant_value = float(constant_value)\n",
    "        print(f\"{user_input} = {constant_value}\")\n",
    "\n",
    "dict_const(constants)"
   ],
   "id": "c1d6d9d081b883cc",
   "outputs": [
    {
     "name": "stdout",
     "output_type": "stream",
     "text": [
      "pi = 3.1416\n"
     ]
    }
   ],
   "execution_count": 3
  },
  {
   "metadata": {
    "ExecuteTime": {
     "end_time": "2024-05-25T15:19:48.840215Z",
     "start_time": "2024-05-25T15:19:48.785824Z"
    }
   },
   "cell_type": "code",
   "source": [
    "# Аналитика пользователей\n",
    "\n",
    "''' Выведите имена и id всех пользователей, удовлетворяющих следующему условию: \n",
    "    возраст больше 35 лет, в браке и без детей.\n",
    "'''\n",
    "\n",
    "users_info = [\n",
    "              {'id': 111, 'name': 'Ирина', 'age': 40, 'has_children': False, 'is_married': True}, \n",
    "              {'id': 121, 'name': 'Надежда', 'age': 20, 'has_children': False, 'is_married': False},\n",
    "              {'id': 131, 'name': 'Степан', 'age': 21, 'has_children': False, 'is_married': False},\n",
    "              {'id': 141, 'name': 'Константин', 'age': 65, 'has_children': True, 'is_married': False},\n",
    "              {'id': 151, 'name': 'Мария', 'age': 52, 'has_children': True, 'is_married': True},\n",
    "              {'id': 161, 'name': 'Валерия', 'age': 38, 'has_children': False, 'is_married': False},\n",
    "              {'id': 171, 'name': 'Александр', 'age': 29, 'has_children': True, 'is_married': True},\n",
    "]\n",
    "\n",
    "for user in users_info:\n",
    "    if user['age'] > 35 and not user['has_children'] and user['is_married']:\n",
    "        print(f\"{user['name']} (id: {user['id']})\")"
   ],
   "id": "ea4496f5961a5f07",
   "outputs": [
    {
     "name": "stdout",
     "output_type": "stream",
     "text": [
      "Ирина (id: 111)\n"
     ]
    }
   ],
   "execution_count": 4
  },
  {
   "metadata": {},
   "cell_type": "code",
   "outputs": [],
   "execution_count": null,
   "source": "",
   "id": "d632747083ee6e0"
  }
 ],
 "metadata": {
  "kernelspec": {
   "display_name": "Python 3",
   "language": "python",
   "name": "python3"
  },
  "language_info": {
   "codemirror_mode": {
    "name": "ipython",
    "version": 2
   },
   "file_extension": ".py",
   "mimetype": "text/x-python",
   "name": "python",
   "nbconvert_exporter": "python",
   "pygments_lexer": "ipython2",
   "version": "2.7.6"
  }
 },
 "nbformat": 4,
 "nbformat_minor": 5
}
