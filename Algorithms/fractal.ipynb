{
 "cells": [
  {
   "cell_type": "code",
   "execution_count": null,
   "id": "cb907962-9ea6-4576-a80f-57919e2c845f",
   "metadata": {},
   "outputs": [],
   "source": [
    "%pip install graphics.py\n",
    "import graphics as gr\n",
    "  \n",
    "window = gr.GraphWin(\"Russian Game\", 600, 600)\n",
    "# Фрактальный прямоугольник\n",
    "def fractal_rectangle(A, B, C, D, deep=10):\n",
    "    '''Рисует подобные прямоугольники, вписанные друг в друга'''\n",
    "    alpha = 0.1\n",
    "    if deep == 1:\n",
    "        return\n",
    "    for M, N in (A, B), (B, C), (C, D), (D, A):\n",
    "        gr.Line(gr.Point(*M), gr.Point(*N)).draw(window)\n",
    "        \n",
    "    A1 = (A[0]*(1 - alpha) + B[0]*alpha, A[1]*(1 - alpha) + B[1]*alpha)\n",
    "    B1 = (B[0]*(1 - alpha) + C[0]*alpha, B[1]*(1 - alpha) + C[1]*alpha)\n",
    "    C1 = (C[0]*(1 - alpha) + D[0]*alpha, C[1]*(1 - alpha) + D[1]*alpha)\n",
    "    D1 = (D[0]*(1 - alpha) + A[0]*alpha, D[1]*(1 - alpha) + A[1]*alpha)\n",
    "    fractal_rectangle(A1, B1, C1, D1, deep-1)\n",
    "            "
   ]
  }
 ],
 "metadata": {
  "kernelspec": {
   "display_name": "Python 3 (ipykernel)",
   "language": "python",
   "name": "python3"
  },
  "language_info": {
   "codemirror_mode": {
    "name": "ipython",
    "version": 3
   },
   "file_extension": ".py",
   "mimetype": "text/x-python",
   "name": "python",
   "nbconvert_exporter": "python",
   "pygments_lexer": "ipython3",
   "version": "3.10.9"
  }
 },
 "nbformat": 4,
 "nbformat_minor": 5
}
