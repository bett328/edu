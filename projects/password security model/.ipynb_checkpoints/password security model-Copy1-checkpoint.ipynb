{
 "cells": [
  {
   "cell_type": "code",
   "execution_count": 3,
   "id": "b8682926",
   "metadata": {},
   "outputs": [],
   "source": [
    "import numpy as np\n",
    "import pandas as pd\n",
    "import matplotlib.pyplot as plt\n",
    "import xgboost as xgb\n",
    "\n",
    "from sklearn.model_selection import train_test_split, GridSearchCV, RandomizedSearchCV, cross_val_score\n",
    "from sklearn.feature_extraction.text import TfidfVectorizer\n",
    "from sklearn.metrics import accuracy_score, f1_score, confusion_matrix, classification_report, log_loss\n",
    "from sklearn.preprocessing import LabelEncoder\n",
    "from sklearn.linear_model import LogisticRegression\n",
    "from sklearn.ensemble import RandomForestClassifier\n",
    "from sklearn.neural_network import MLPClassifier\n",
    "from sklearn.svm import SVC\n",
    "from sklearn.neighbors import KNeighborsClassifier\n",
    "\n",
    "from catboost import CatBoostClassifier\n"
   ]
  },
  {
   "cell_type": "code",
   "execution_count": 2,
   "id": "d04c5395",
   "metadata": {},
   "outputs": [
    {
     "name": "stdout",
     "output_type": "stream",
     "text": [
      "Collecting lightgbm\n",
      "  Downloading lightgbm-4.1.0-py3-none-win_amd64.whl (1.3 MB)\n",
      "     ---------------------------------------- 1.3/1.3 MB 2.6 MB/s eta 0:00:00\n",
      "Requirement already satisfied: numpy in c:\\users\\e.kuzmina\\appdata\\local\\anaconda3\\lib\\site-packages (from lightgbm) (1.23.5)\n",
      "Requirement already satisfied: scipy in c:\\users\\e.kuzmina\\appdata\\local\\anaconda3\\lib\\site-packages (from lightgbm) (1.10.0)\n",
      "Installing collected packages: lightgbm\n",
      "Successfully installed lightgbm-4.1.0\n",
      "Note: you may need to restart the kernel to use updated packages.\n"
     ]
    }
   ],
   "source": [
    "%pip install lightgbm\n",
    "import lightgbm as lgb"
   ]
  },
  {
   "cell_type": "code",
   "execution_count": 4,
   "id": "b4139227",
   "metadata": {},
   "outputs": [
    {
     "data": {
      "text/html": [
       "<div>\n",
       "<style scoped>\n",
       "    .dataframe tbody tr th:only-of-type {\n",
       "        vertical-align: middle;\n",
       "    }\n",
       "\n",
       "    .dataframe tbody tr th {\n",
       "        vertical-align: top;\n",
       "    }\n",
       "\n",
       "    .dataframe thead th {\n",
       "        text-align: right;\n",
       "    }\n",
       "</style>\n",
       "<table border=\"1\" class=\"dataframe\">\n",
       "  <thead>\n",
       "    <tr style=\"text-align: right;\">\n",
       "      <th></th>\n",
       "      <th>password</th>\n",
       "      <th>strength</th>\n",
       "    </tr>\n",
       "  </thead>\n",
       "  <tbody>\n",
       "    <tr>\n",
       "      <th>0</th>\n",
       "      <td>yrtzuab476</td>\n",
       "      <td>1</td>\n",
       "    </tr>\n",
       "    <tr>\n",
       "      <th>1</th>\n",
       "      <td>yEdnN9jc1NgzkkBP</td>\n",
       "      <td>2</td>\n",
       "    </tr>\n",
       "    <tr>\n",
       "      <th>2</th>\n",
       "      <td>sarita99</td>\n",
       "      <td>1</td>\n",
       "    </tr>\n",
       "    <tr>\n",
       "      <th>3</th>\n",
       "      <td>Suramerica2015</td>\n",
       "      <td>2</td>\n",
       "    </tr>\n",
       "    <tr>\n",
       "      <th>4</th>\n",
       "      <td>PPRbMvDIxMQ19TMo</td>\n",
       "      <td>2</td>\n",
       "    </tr>\n",
       "    <tr>\n",
       "      <th>...</th>\n",
       "      <td>...</td>\n",
       "      <td>...</td>\n",
       "    </tr>\n",
       "    <tr>\n",
       "      <th>99995</th>\n",
       "      <td>aulona044</td>\n",
       "      <td>1</td>\n",
       "    </tr>\n",
       "    <tr>\n",
       "      <th>99996</th>\n",
       "      <td>5201314ding</td>\n",
       "      <td>1</td>\n",
       "    </tr>\n",
       "    <tr>\n",
       "      <th>99997</th>\n",
       "      <td>isaac19725</td>\n",
       "      <td>1</td>\n",
       "    </tr>\n",
       "    <tr>\n",
       "      <th>99998</th>\n",
       "      <td>toji25</td>\n",
       "      <td>0</td>\n",
       "    </tr>\n",
       "    <tr>\n",
       "      <th>99999</th>\n",
       "      <td>midnight000</td>\n",
       "      <td>1</td>\n",
       "    </tr>\n",
       "  </tbody>\n",
       "</table>\n",
       "<p>100000 rows × 2 columns</p>\n",
       "</div>"
      ],
      "text/plain": [
       "               password  strength\n",
       "0            yrtzuab476         1\n",
       "1      yEdnN9jc1NgzkkBP         2\n",
       "2              sarita99         1\n",
       "3        Suramerica2015         2\n",
       "4      PPRbMvDIxMQ19TMo         2\n",
       "...                 ...       ...\n",
       "99995         aulona044         1\n",
       "99996       5201314ding         1\n",
       "99997        isaac19725         1\n",
       "99998            toji25         0\n",
       "99999       midnight000         1\n",
       "\n",
       "[100000 rows x 2 columns]"
      ]
     },
     "execution_count": 4,
     "metadata": {},
     "output_type": "execute_result"
    }
   ],
   "source": [
    "df = pd.read_csv('data/passwords.csv')\n",
    "df"
   ]
  },
  {
   "cell_type": "code",
   "execution_count": 5,
   "id": "0413851e",
   "metadata": {},
   "outputs": [
    {
     "name": "stdout",
     "output_type": "stream",
     "text": [
      "           password  strength\n",
      "0        yrtzuab476         1\n",
      "1  yEdnN9jc1NgzkkBP         2\n",
      "2          sarita99         1\n",
      "3    Suramerica2015         2\n",
      "4  PPRbMvDIxMQ19TMo         2\n",
      "1    74278\n",
      "0    13428\n",
      "2    12294\n",
      "Name: strength, dtype: int64\n"
     ]
    },
    {
     "data": {
      "image/png": "[encoded data removed]",
      "text/plain": [
       "<Figure size 1000x600 with 1 Axes>"
      ]
     },
     "metadata": {},
     "output_type": "display_data"
    }
   ],
   "source": [
    "print(df.head())\n",
    "print(df['strength'].value_counts())\n",
    "\n",
    "# Visualization of password strength distribution\n",
    "plt.figure(figsize=(10, 6))\n",
    "df['strength'].value_counts().plot(kind='bar')\n",
    "plt.title('Password Strength Distribution')\n",
    "plt.xlabel('Strength')\n",
    "plt.ylabel('Count')\n",
    "plt.show()"
   ]
  },
  {
   "cell_type": "code",
   "execution_count": 4,
   "id": "9f01bd32",
   "metadata": {},
   "outputs": [],
   "source": [
    "# Splitting the data\n",
    "X = df['password']\n",
    "y = df['strength']\n",
    "\n",
    "X_train, X_test, y_train, y_test = train_test_split(X, y, test_size=0.2, random_state=42, stratify=y)\n",
    "\n",
    "# Converting passwords into numeric representation using TF-IDF\n",
    "vectorizer = TfidfVectorizer(analyzer='char', ngram_range=(1,3))\n",
    "X_train_tfidf = vectorizer.fit_transform(X_train)\n",
    "X_test_tfidf = vectorizer.transform(X_test)"
   ]
  },
  {
   "cell_type": "code",
   "execution_count": 5,
   "id": "2a87c733",
   "metadata": {},
   "outputs": [
    {
     "name": "stdout",
     "output_type": "stream",
     "text": [
      "Accuracy: 0.8578\n",
      "F1 Score:\n",
      "               precision    recall  f1-score   support\n",
      "\n",
      "           0       0.78      0.29      0.43      2686\n",
      "           1       0.85      0.98      0.91     14855\n",
      "           2       0.96      0.73      0.83      2459\n",
      "\n",
      "    accuracy                           0.86     20000\n",
      "   macro avg       0.86      0.67      0.72     20000\n",
      "weighted avg       0.85      0.86      0.84     20000\n",
      "\n",
      "Confusion Matrix:\n",
      " [[  785  1887    14]\n",
      " [  217 14567    71]\n",
      " [    2   653  1804]]\n"
     ]
    }
   ],
   "source": [
    "# Training the logistic regression model\n",
    "logreg = LogisticRegression(max_iter=1000, random_state=42)\n",
    "logreg.fit(X_train_tfidf, y_train)\n",
    "\n",
    "# Predicting on test data\n",
    "y_pred = logreg.predict(X_test_tfidf)\n",
    "\n",
    "# Model evaluation\n",
    "print(\"Accuracy:\", accuracy_score(y_test, y_pred))\n",
    "print(\"F1 Score:\\n\", classification_report(y_test, y_pred))\n",
    "print(\"Confusion Matrix:\\n\", confusion_matrix(y_test, y_pred))"
   ]
  },
  {
   "cell_type": "code",
   "execution_count": 5,
   "id": "9ce36f65",
   "metadata": {},
   "outputs": [
    {
     "name": "stdout",
     "output_type": "stream",
     "text": [
      "Accuracy: 0.90225\n",
      "F1 Score:\n",
      "               precision    recall  f1-score   support\n",
      "\n",
      "           0       0.89      0.55      0.68      2686\n",
      "           1       0.89      0.99      0.94     14855\n",
      "           2       0.99      0.78      0.87      2459\n",
      "\n",
      "    accuracy                           0.90     20000\n",
      "   macro avg       0.92      0.77      0.83     20000\n",
      "weighted avg       0.90      0.90      0.89     20000\n",
      "\n",
      "Confusion Matrix:\n",
      " [[ 1479  1206     1]\n",
      " [  180 14653    22]\n",
      " [    1   545  1913]]\n"
     ]
    }
   ],
   "source": [
    "# Training the random forest model\n",
    "rf = RandomForestClassifier(random_state=42)\n",
    "rf.fit(X_train_tfidf, y_train)\n",
    "\n",
    "# Predicting on test data\n",
    "y_pred_rf = rf.predict(X_test_tfidf)\n",
    "\n",
    "# Model evaluation\n",
    "print(\"Accuracy:\", accuracy_score(y_test, y_pred_rf))\n",
    "print(\"F1 Score:\\n\", classification_report(y_test, y_pred_rf))\n",
    "print(\"Confusion Matrix:\\n\", confusion_matrix(y_test, y_pred_rf))"
   ]
  },
  {
   "cell_type": "code",
   "execution_count": 6,
   "id": "e6d0140e",
   "metadata": {},
   "outputs": [
    {
     "name": "stdout",
     "output_type": "stream",
     "text": [
      "Accuracy: 0.9589\n",
      "F1 Score:\n",
      "               precision    recall  f1-score   support\n",
      "\n",
      "           0       0.92      0.85      0.89      2686\n",
      "           1       0.96      0.98      0.97     14855\n",
      "           2       0.97      0.93      0.95      2459\n",
      "\n",
      "    accuracy                           0.96     20000\n",
      "   macro avg       0.95      0.92      0.94     20000\n",
      "weighted avg       0.96      0.96      0.96     20000\n",
      "\n",
      "Confusion Matrix:\n",
      " [[ 2286   400     0]\n",
      " [  187 14607    61]\n",
      " [    0   174  2285]]\n"
     ]
    }
   ],
   "source": [
    "# Training the XGBoost model\n",
    "xgb_clf = xgb.XGBClassifier(random_state=42)\n",
    "xgb_clf.fit(X_train_tfidf, y_train)\n",
    "\n",
    "# Predicting on test data\n",
    "y_pred_xgb = xgb_clf.predict(X_test_tfidf)\n",
    "\n",
    "# Model evaluation\n",
    "print(\"Accuracy:\", accuracy_score(y_test, y_pred_xgb))\n",
    "print(\"F1 Score:\\n\", classification_report(y_test, y_pred_xgb))\n",
    "print(\"Confusion Matrix:\\n\", confusion_matrix(y_test, y_pred_xgb))"
   ]
  },
  {
   "cell_type": "code",
   "execution_count": 10,
   "id": "bf8e722d",
   "metadata": {},
   "outputs": [
    {
     "name": "stdout",
     "output_type": "stream",
     "text": [
      "Accuracy: 0.90135\n",
      "F1 Score:\n",
      "               precision    recall  f1-score   support\n",
      "\n",
      "           0       0.73      0.67      0.70      2686\n",
      "           1       0.92      0.95      0.93     14855\n",
      "           2       0.94      0.89      0.91      2459\n",
      "\n",
      "    accuracy                           0.90     20000\n",
      "   macro avg       0.86      0.83      0.85     20000\n",
      "weighted avg       0.90      0.90      0.90     20000\n",
      "\n",
      "Confusion Matrix:\n",
      " [[ 1798   882     6]\n",
      " [  667 14047   141]\n",
      " [    0   277  2182]]\n"
     ]
    }
   ],
   "source": [
    "# Training the multilayer perceptron model\n",
    "mlp = MLPClassifier(hidden_layer_sizes=(100, 50), max_iter=1000, random_state=42)\n",
    "mlp.fit(X_train_tfidf, y_train)\n",
    "\n",
    "# Predicting on test data\n",
    "y_pred_mlp = mlp.predict(X_test_tfidf)\n",
    "\n",
    "# Model evaluation\n",
    "print(\"Accuracy:\", accuracy_score(y_test, y_pred_mlp))\n",
    "print(\"F1 Score:\\n\", classification_report(y_test, y_pred_mlp))\n",
    "print(\"Confusion Matrix:\\n\", confusion_matrix(y_test, y_pred_mlp))"
   ]
  },
  {
   "cell_type": "code",
   "execution_count": 11,
   "id": "945cfd40",
   "metadata": {},
   "outputs": [
    {
     "name": "stdout",
     "output_type": "stream",
     "text": [
      "Accuracy: 0.9027\n",
      "F1 Score:\n",
      "               precision    recall  f1-score   support\n",
      "\n",
      "           0       0.81      0.54      0.65      2686\n",
      "           1       0.90      0.97      0.94     14855\n",
      "           2       0.97      0.87      0.92      2459\n",
      "\n",
      "    accuracy                           0.90     20000\n",
      "   macro avg       0.90      0.79      0.83     20000\n",
      "weighted avg       0.90      0.90      0.90     20000\n",
      "\n",
      "Confusion Matrix:\n",
      " [[ 1439  1241     6]\n",
      " [  330 14464    61]\n",
      " [    1   307  2151]]\n"
     ]
    }
   ],
   "source": [
    "# Training the support vector machine model\n",
    "svm = SVC(kernel='linear', random_state=42)\n",
    "svm.fit(X_train_tfidf, y_train)\n",
    "\n",
    "# Predicting on test data\n",
    "y_pred_svm = svm.predict(X_test_tfidf)\n",
    "\n",
    "# Model evaluation\n",
    "print(\"Accuracy:\", accuracy_score(y_test, y_pred_svm))\n",
    "print(\"F1 Score:\\n\", classification_report(y_test, y_pred_svm))\n",
    "print(\"Confusion Matrix:\\n\", confusion_matrix(y_test, y_pred_svm))"
   ]
  },
  {
   "cell_type": "code",
   "execution_count": 6,
   "id": "d9c02381",
   "metadata": {},
   "outputs": [
    {
     "name": "stdout",
     "output_type": "stream",
     "text": [
      "Accuracy: 0.6941\n",
      "F1 Score:\n",
      "               precision    recall  f1-score   support\n",
      "\n",
      "           0       0.22      0.30      0.26      2686\n",
      "           1       0.79      0.84      0.82     14855\n",
      "           2       0.95      0.22      0.36      2459\n",
      "\n",
      "    accuracy                           0.69     20000\n",
      "   macro avg       0.66      0.45      0.48     20000\n",
      "weighted avg       0.73      0.69      0.69     20000\n",
      "\n",
      "Confusion Matrix:\n",
      " [[  801  1880     5]\n",
      " [ 2296 12536    23]\n",
      " [  495  1419   545]]\n"
     ]
    }
   ],
   "source": [
    "# Training the K-nearest neighbors model\n",
    "knn = KNeighborsClassifier(n_neighbors=5)\n",
    "knn.fit(X_train_tfidf, y_train)\n",
    "\n",
    "# Predicting on test data\n",
    "y_pred_knn = knn.predict(X_test_tfidf)\n",
    "\n",
    "# Model evaluation\n",
    "print(\"Accuracy:\", accuracy_score(y_test, y_pred_knn))\n",
    "print(\"F1 Score:\\n\", classification_report(y_test, y_pred_knn))\n",
    "print(\"Confusion Matrix:\\n\", confusion_matrix(y_test, y_pred_knn))"
   ]
  },
  {
   "cell_type": "code",
   "execution_count": null,
   "id": "59e90d4b",
   "metadata": {},
   "outputs": [
    {
     "name": "stdout",
     "output_type": "stream",
     "text": [
      "0:\tlearn: 1.0069813\ttotal: 1.91s\tremaining: 31m 48s\n",
      "500:\tlearn: 0.1881336\ttotal: 13m 51s\tremaining: 13m 47s\n"
     ]
    }
   ],
   "source": [
    "# Training the CatBoost model\n",
    "cat_clf = CatBoostClassifier(iterations=1000, learning_rate=0.1, depth=6, verbose=500)\n",
    "cat_clf.fit(X_train_tfidf, y_train)\n",
    "\n",
    "# Predicting on test data\n",
    "y_pred_cat = cat_clf.predict(X_test_tfidf)\n",
    "\n",
    "# Model evaluation\n",
    "print(\"Accuracy:\", accuracy_score(y_test, y_pred_cat))\n",
    "print(\"F1 Score:\\n\", classification_report(y_test, y_pred_cat))\n",
    "print(\"Confusion Matrix:\\n\", confusion_matrix(y_test, y_pred_cat))"
   ]
  },
  {
   "cell_type": "code",
   "execution_count": null,
   "id": "7065f62f",
   "metadata": {},
   "outputs": [],
   "source": [
    "# Обучение модели LightGBM\n",
    "lgb_clf = lgb.LGBMClassifier(boosting_type='gbdt', objective='multiclass', num_class=3, metric='multi_logloss', learning_rate=0.1, n_estimators=1000)\n",
    "lgb_clf.fit(X_train_tfidf, y_train, eval_set=[(X_test_tfidf, y_test)], early_stopping_rounds=10, verbose=100)\n",
    "\n",
    "# Предсказание на тестовых данных\n",
    "y_pred_lgb = lgb_clf.predict(X_test_tfidf)\n",
    "\n",
    "# Оценка модели\n",
    "print(\"Accuracy:\", accuracy_score(y_test, y_pred_lgb))\n",
    "print(\"F1 Score:\\n\", classification_report(y_test, y_pred_lgb))\n",
    "print(\"Confusion Matrix:\\n\", confusion_matrix(y_test, y_pred_lgb))"
   ]
  },
  {
   "cell_type": "markdown",
   "id": "6edcc6e3",
   "metadata": {},
   "source": [
    "<h1>Обоснование преобразования данных:</h1><br>\n",
    "<b>TF-IDF Векторизация:</b><br>\n",
    "<ul>\n",
    "    <li>Используется для преобразования текстовых данных (паролей) в числовое представление.</li>\n",
    "    <li>TfidfVectorizer с параметрами analyzer='char' и ngram_range=(1,3) означает, что мы рассматриваем символы в качестве основных единиц (а не слова), и мы учитываем отдельные символы, биграммы и триграммы. Это помогает улавливать паттерны и зависимости между символами в паролях.</li>\n",
    "</ul>\n",
    "\n",
    "<h1>Выбор метода:</h1><br>\n",
    "<b>XGBoost:</b><br>\n",
    "<ul>\n",
    "    <li>XGBoost - это алгоритм градиентного бустинга, который известен своей высокой производительностью и способностью эффективно обрабатывать различные типы данных.</li>\n",
    "    <li>Подходит для работы с разреженными данными, такими как TF-IDF.</li>\n",
    "    <li>Он дает высокую точность и уменьшает риск переобучения благодаря регуляризации.</li>\n",
    "</ul>\n",
    "\n",
    "<h1>Метрики для оценивания результата предсказания модели:</h1>\n",
    "<ul>\n",
    "    <li><b>Accuracy:</b> Это простая метрика, которая показывает долю правильно классифицированных примеров относительно общего числа примеров. Хорошо подходит для начальной оценки, но не всегда является лучшим показателем для несбалансированных классов.</li>\n",
    "    <li><b>Precision:</b> Показывает, какая доля из предсказанных позитивных примеров действительно является позитивными.</li>\n",
    "    <li><b>Recall (чувствительность):</b> Показывает, какая доля из реальных позитивных примеров была предсказана как позитивная.</li>\n",
    "    <li><b>F1-score:</b> Гармоническое среднее между Precision и Recall, которое предоставляет компромисс между этими двумя метриками. F1-score особенно полезен, когда распределение классов несбалансировано.</li>\n",
    "    <li><b>Confusion Matrix:</b> Предоставляет матрицу ошибок, показывающую, какие классы были правильно или неправильно классифицированы.Это может помочь в дальнейших итерациях улучшить производительность модели.</li>\n",
    "</ul>"
   ]
  },
  {
   "cell_type": "markdown",
   "id": "4f8f3816",
   "metadata": {},
   "source": [
    "На основе данных, которые дала модель XGBoost\n",
    "\n",
    "<b>Accuracy:</b> 0.9589 или 95.89%\n",
    "\n",
    "<b>Precision:</b><br>\n",
    "Для класса 0 (слабый): 0.92 или 92%<br>\n",
    "Для класса 1 (средний): 0.96 или 96%<br>\n",
    "Для класса 2 (сильный): 0.97 или 97%<br>\n",
    "\n",
    "<b>Recall:</b><br>\n",
    "Для класса 0 (слабый): 0.85 или 85%<br>\n",
    "Для класса 1 (средний): 0.98 или 98%<br>\n",
    "Для класса 2 (сильный): 0.93 или 93%<br>\n",
    "\n",
    "<b>F1-score:</b><br>\n",
    "Для класса 0 (слабый): 0.89 или 89%<br>\n",
    "Для класса 1 (средний): 0.97 или 97%<br>\n",
    "Для класса 2 (сильный): 0.95 или 95%<br>\n",
    "\n",
    "<b>Confusion Matrix:</b><br>\n",
    "Класс 0 (слабый): 2286 правильно классифицированных, 400 неправильно классифицированы как средние, 0 неправильно классифицированы как сильные.<br>\n",
    "Класс 1 (средний): 14607 правильно классифицированных, 187 неправильно классифицированы как слабые, 61 неправильно классифицированы как сильные.<br>\n",
    "Класс 2 (сильный): 2285 правильно классифицированных, 0 неправильно классифицированы как слабые, 174 неправильно классифицированы как средние.<br>\n",
    "<br>\n",
    "Эти показатели говорят о том, что модель действительно хорошо справляется с классификацией паролей на этом датасете, особенно для средних и сильных паролей. Наименьшая чувствительность (recall) у слабых паролей, что означает, что некоторые из них ошибочно классифицированы как средние.\n",
    "\n",
    "В заключение, выбор TF-IDF векторизации и модели XGBoost обоснован природой данных и высоким качеством классификации. Многоклассовые метрики классификации, такие как accuracy, precision, recall и F1-score, дали нам подробное представление о производительности модели."
   ]
  },
  {
   "cell_type": "markdown",
   "id": "2c09e722",
   "metadata": {},
   "source": [
    "# Тюнинг модели"
   ]
  },
  {
   "cell_type": "code",
   "execution_count": null,
   "id": "b8095162",
   "metadata": {},
   "outputs": [
    {
     "name": "stdout",
     "output_type": "stream",
     "text": [
      "Fitting 5 folds for each of 100 candidates, totalling 500 fits\n"
     ]
    }
   ],
   "source": [
    "# Задаем параметры, которые хотим проверить\n",
    "param_dist = {\n",
    "    'learning_rate': [0.01, 0.05, 0.1, 0.2, 0.3],\n",
    "    'n_estimators': np.arange(50, 501, 50),\n",
    "    'max_depth': np.arange(3, 11, 1),\n",
    "    'subsample': np.linspace(0.5, 1, 6),\n",
    "    'colsample_bytree': np.linspace(0.5, 1, 6),\n",
    "    'gamma': np.linspace(0, 0.5, 11),\n",
    "    'min_child_weight': np.arange(1, 12, 1)\n",
    "}\n",
    "\n",
    "# Настраиваем RandomizedSearchCV\n",
    "random_search = RandomizedSearchCV(\n",
    "    xgb_clf,  # Наша модель\n",
    "    param_distributions=param_dist,\n",
    "    n_iter=100,  # Количество итераций\n",
    "    scoring='accuracy',  # Метрика оценки\n",
    "    cv=5,  # 5-кратная кроссвалидация\n",
    "    verbose=3,  # Вывод информации о ходе обучения\n",
    "    n_jobs=-1  # Используем все доступные ядра\n",
    ")\n",
    "\n",
    "# Запускаем оптимизацию\n",
    "random_search.fit(X_train_tfidf, y_train)\n",
    "\n",
    "# Выводим наилучшие параметры\n",
    "best_params = random_search.best_params_\n",
    "print(best_params)\n",
    "\n",
    "# Обучаем модель с наилучшими параметрами\n",
    "best_xgb_clf = xgb.XGBClassifier(**best_params)\n",
    "best_xgb_clf.fit(X_train_tfidf, y_train)\n",
    "\n",
    "# Предсказание на тестовых данных с оптимизированной моделью\n",
    "y_pred_best_xgb = best_xgb_clf.predict(X_test_tfidf)\n",
    "\n",
    "# Оценка оптимизированной модели\n",
    "print(\"Accuracy (Optimized):\", accuracy_score(y_test, y_pred_best_xgb))\n",
    "print(\"F1 Score (Optimized):\\n\", classification_report(y_test, y_pred_best_xgb))\n",
    "print(\"Confusion Matrix (Optimized):\\n\", confusion_matrix(y_test, y_pred_best_xgb))"
   ]
  },
  {
   "cell_type": "code",
   "execution_count": 15,
   "id": "b68d5da4",
   "metadata": {},
   "outputs": [
    {
     "ename": "KeyboardInterrupt",
     "evalue": "Interrupted by user",
     "output_type": "error",
     "traceback": [
      "\u001b[1;31m---------------------------------------------------------------------------\u001b[0m",
      "\u001b[1;31mKeyboardInterrupt\u001b[0m                         Traceback (most recent call last)",
      "Cell \u001b[1;32mIn[15], line 15\u001b[0m\n\u001b[0;32m     12\u001b[0m     \u001b[38;5;28;01mreturn\u001b[39;00m strength_mapping[strength]\n\u001b[0;32m     14\u001b[0m \u001b[38;5;66;03m# Пример использования:\u001b[39;00m\n\u001b[1;32m---> 15\u001b[0m \u001b[38;5;28mprint\u001b[39m(\u001b[43mpredict_password_strength\u001b[49m\u001b[43m(\u001b[49m\u001b[43m)\u001b[49m)\n",
      "Cell \u001b[1;32mIn[15], line 3\u001b[0m, in \u001b[0;36mpredict_password_strength\u001b[1;34m()\u001b[0m\n\u001b[0;32m      1\u001b[0m \u001b[38;5;28;01mdef\u001b[39;00m \u001b[38;5;21mpredict_password_strength\u001b[39m():\n\u001b[1;32m----> 3\u001b[0m     password \u001b[38;5;241m=\u001b[39m \u001b[38;5;28;43minput\u001b[39;49m\u001b[43m(\u001b[49m\u001b[38;5;124;43m\"\u001b[39;49m\u001b[38;5;124;43mВведите пароль для проверки: \u001b[39;49m\u001b[38;5;124;43m\"\u001b[39;49m\u001b[43m)\u001b[49m\n\u001b[0;32m      5\u001b[0m     \u001b[38;5;66;03m# Преобразование пароля с помощью ранее обученного TF-IDF векторизатора\u001b[39;00m\n\u001b[0;32m      6\u001b[0m     password_tfidf \u001b[38;5;241m=\u001b[39m vectorizer\u001b[38;5;241m.\u001b[39mtransform([password])\n",
      "File \u001b[1;32m~\\AppData\\Local\\anaconda3\\lib\\site-packages\\ipykernel\\kernelbase.py:1175\u001b[0m, in \u001b[0;36mKernel.raw_input\u001b[1;34m(self, prompt)\u001b[0m\n\u001b[0;32m   1171\u001b[0m \u001b[38;5;28;01mif\u001b[39;00m \u001b[38;5;129;01mnot\u001b[39;00m \u001b[38;5;28mself\u001b[39m\u001b[38;5;241m.\u001b[39m_allow_stdin:\n\u001b[0;32m   1172\u001b[0m     \u001b[38;5;28;01mraise\u001b[39;00m StdinNotImplementedError(\n\u001b[0;32m   1173\u001b[0m         \u001b[38;5;124m\"\u001b[39m\u001b[38;5;124mraw_input was called, but this frontend does not support input requests.\u001b[39m\u001b[38;5;124m\"\u001b[39m\n\u001b[0;32m   1174\u001b[0m     )\n\u001b[1;32m-> 1175\u001b[0m \u001b[38;5;28;01mreturn\u001b[39;00m \u001b[38;5;28;43mself\u001b[39;49m\u001b[38;5;241;43m.\u001b[39;49m\u001b[43m_input_request\u001b[49m\u001b[43m(\u001b[49m\n\u001b[0;32m   1176\u001b[0m \u001b[43m    \u001b[49m\u001b[38;5;28;43mstr\u001b[39;49m\u001b[43m(\u001b[49m\u001b[43mprompt\u001b[49m\u001b[43m)\u001b[49m\u001b[43m,\u001b[49m\n\u001b[0;32m   1177\u001b[0m \u001b[43m    \u001b[49m\u001b[38;5;28;43mself\u001b[39;49m\u001b[38;5;241;43m.\u001b[39;49m\u001b[43m_parent_ident\u001b[49m\u001b[43m[\u001b[49m\u001b[38;5;124;43m\"\u001b[39;49m\u001b[38;5;124;43mshell\u001b[39;49m\u001b[38;5;124;43m\"\u001b[39;49m\u001b[43m]\u001b[49m\u001b[43m,\u001b[49m\n\u001b[0;32m   1178\u001b[0m \u001b[43m    \u001b[49m\u001b[38;5;28;43mself\u001b[39;49m\u001b[38;5;241;43m.\u001b[39;49m\u001b[43mget_parent\u001b[49m\u001b[43m(\u001b[49m\u001b[38;5;124;43m\"\u001b[39;49m\u001b[38;5;124;43mshell\u001b[39;49m\u001b[38;5;124;43m\"\u001b[39;49m\u001b[43m)\u001b[49m\u001b[43m,\u001b[49m\n\u001b[0;32m   1179\u001b[0m \u001b[43m    \u001b[49m\u001b[43mpassword\u001b[49m\u001b[38;5;241;43m=\u001b[39;49m\u001b[38;5;28;43;01mFalse\u001b[39;49;00m\u001b[43m,\u001b[49m\n\u001b[0;32m   1180\u001b[0m \u001b[43m\u001b[49m\u001b[43m)\u001b[49m\n",
      "File \u001b[1;32m~\\AppData\\Local\\anaconda3\\lib\\site-packages\\ipykernel\\kernelbase.py:1217\u001b[0m, in \u001b[0;36mKernel._input_request\u001b[1;34m(self, prompt, ident, parent, password)\u001b[0m\n\u001b[0;32m   1214\u001b[0m             \u001b[38;5;28;01mbreak\u001b[39;00m\n\u001b[0;32m   1215\u001b[0m \u001b[38;5;28;01mexcept\u001b[39;00m \u001b[38;5;167;01mKeyboardInterrupt\u001b[39;00m:\n\u001b[0;32m   1216\u001b[0m     \u001b[38;5;66;03m# re-raise KeyboardInterrupt, to truncate traceback\u001b[39;00m\n\u001b[1;32m-> 1217\u001b[0m     \u001b[38;5;28;01mraise\u001b[39;00m \u001b[38;5;167;01mKeyboardInterrupt\u001b[39;00m(\u001b[38;5;124m\"\u001b[39m\u001b[38;5;124mInterrupted by user\u001b[39m\u001b[38;5;124m\"\u001b[39m) \u001b[38;5;28;01mfrom\u001b[39;00m \u001b[38;5;28mNone\u001b[39m\n\u001b[0;32m   1218\u001b[0m \u001b[38;5;28;01mexcept\u001b[39;00m \u001b[38;5;167;01mException\u001b[39;00m:\n\u001b[0;32m   1219\u001b[0m     \u001b[38;5;28mself\u001b[39m\u001b[38;5;241m.\u001b[39mlog\u001b[38;5;241m.\u001b[39mwarning(\u001b[38;5;124m\"\u001b[39m\u001b[38;5;124mInvalid Message:\u001b[39m\u001b[38;5;124m\"\u001b[39m, exc_info\u001b[38;5;241m=\u001b[39m\u001b[38;5;28;01mTrue\u001b[39;00m)\n",
      "\u001b[1;31mKeyboardInterrupt\u001b[0m: Interrupted by user"
     ]
    }
   ],
   "source": [
    "def predict_password_strength():\n",
    "    \n",
    "    password = input(\"Введите пароль для проверки: \")\n",
    "    \n",
    "    # Преобразование пароля с помощью ранее обученного TF-IDF векторизатора\n",
    "    password_tfidf = vectorizer.transform([password])\n",
    "    \n",
    "    # Предсказание с помощью модели\n",
    "    strength = xgb_clf.predict(password_tfidf)[0]\n",
    "    \n",
    "    strength_mapping = {0: 'слабый', 1: 'средний', 2: 'сильный'}\n",
    "    return strength_mapping[strength]\n",
    "\n",
    "# Пример использования:\n",
    "print(predict_password_strength())"
   ]
  },
  {
   "cell_type": "markdown",
   "id": "4606b075",
   "metadata": {},
   "source": [
    "Предобработка и инжиниринг признаков:\n",
    "\n",
    "Расширение признаков: Из пароля можно извлечь дополнительные признаки, такие как количество цифр, количество символов верхнего и нижнего регистра, наличие специальных символов и т. д.\n",
    "\n",
    "Взаимодействие признаков: Некоторые комбинации признаков могут быть полезными. Например, отношение числа цифр к общему числу символов.\n",
    "\n",
    "Ансамблирование моделей:\n",
    "\n",
    "Бэггинг: Обучение нескольких экземпляров XGBClassifier на различных подмножествах данных и голосование для финального предсказания.\n",
    "Стекинг: Обучение других моделей вместе с XGBClassifier и использование их предсказаний как входных данных для \"мета-классификатора\".\n",
    "Дополнительные данные: Если возможно, попробуйте собрать или сгенерировать больше данных. Чем больше обучающих данных, тем лучше модель сможет обобщать.\n",
    "\n",
    "Использование других моделей: Попробуйте другие алгоритмы, такие как CatBoost или LightGBM. Они могут быть эффективными в определенных условиях.\n",
    "\n",
    "Регуляризация и отбор признаков:\n",
    "\n",
    "Убедитесь, что вы используете правильные параметры регуляризации для избегания переобучения.\n",
    "Отберите наиболее важные признаки.\n",
    "\n",
    "Сбалансированность классов: Если ваши классы несбалансированы, рассмотрите возможность применения техник балансировки классов, таких как перевыборка, андерсэмплинг или использование синтетических данных (SMOTE).\n",
    "\n",
    "Проверка ошибок: Проанализируйте ошибки модели на тестовом наборе данных. Это может помочь выявить проблемы в предобработке или выделении признаков.\n",
    "\n",
    "Тем не менее, стоит помнить, что добиваться 99% точности может быть довольно сложной задачей, особенно если пространство признаков или качество данных не позволяют. Но применяя вышеупомянутые стратегии, вы увеличите свои шансы на улучшение производительности модели."
   ]
  }
 ],
 "metadata": {
  "kernelspec": {
   "display_name": "Python 3 (ipykernel)",
   "language": "python",
   "name": "python3"
  },
  "language_info": {
   "codemirror_mode": {
    "name": "ipython",
    "version": 3
   },
   "file_extension": ".py",
   "mimetype": "text/x-python",
   "name": "python",
   "nbconvert_exporter": "python",
   "pygments_lexer": "ipython3",
   "version": "3.10.9"
  }
 },
 "nbformat": 4,
 "nbformat_minor": 5
}
