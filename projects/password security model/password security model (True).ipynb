{
 "cells": [
  {
   "cell_type": "code",
   "execution_count": 1,
   "id": "b8682926",
   "metadata": {},
   "outputs": [],
   "source": [
    "import numpy as np\n",
    "import pandas as pd\n",
    "import matplotlib.pyplot as plt\n",
    "import xgboost as xgb\n",
    "\n",
    "from sklearn.model_selection import train_test_split, GridSearchCV, RandomizedSearchCV, cross_val_score\n",
    "from sklearn.feature_extraction.text import TfidfVectorizer\n",
    "from sklearn.metrics import accuracy_score, f1_score, confusion_matrix, classification_report, log_loss\n",
    "from sklearn.preprocessing import LabelEncoder\n",
    "from sklearn.linear_model import LogisticRegression\n",
    "from sklearn.ensemble import RandomForestClassifier\n",
    "from sklearn.neural_network import MLPClassifier\n",
    "from sklearn.svm import SVC\n",
    "from sklearn.neighbors import KNeighborsClassifier\n",
    "\n",
    "from catboost import CatBoostClassifier\n",
    "import lightgbm as lgb"
   ]
  },
  {
   "cell_type": "code",
   "execution_count": 2,
   "id": "b4139227",
   "metadata": {},
   "outputs": [
    {
     "data": {
      "text/html": [
       "<div>\n",
       "<style scoped>\n",
       "    .dataframe tbody tr th:only-of-type {\n",
       "        vertical-align: middle;\n",
       "    }\n",
       "\n",
       "    .dataframe tbody tr th {\n",
       "        vertical-align: top;\n",
       "    }\n",
       "\n",
       "    .dataframe thead th {\n",
       "        text-align: right;\n",
       "    }\n",
       "</style>\n",
       "<table border=\"1\" class=\"dataframe\">\n",
       "  <thead>\n",
       "    <tr style=\"text-align: right;\">\n",
       "      <th></th>\n",
       "      <th>password</th>\n",
       "      <th>strength</th>\n",
       "    </tr>\n",
       "  </thead>\n",
       "  <tbody>\n",
       "    <tr>\n",
       "      <th>0</th>\n",
       "      <td>yrtzuab476</td>\n",
       "      <td>1</td>\n",
       "    </tr>\n",
       "    <tr>\n",
       "      <th>1</th>\n",
       "      <td>yEdnN9jc1NgzkkBP</td>\n",
       "      <td>2</td>\n",
       "    </tr>\n",
       "    <tr>\n",
       "      <th>2</th>\n",
       "      <td>sarita99</td>\n",
       "      <td>1</td>\n",
       "    </tr>\n",
       "    <tr>\n",
       "      <th>3</th>\n",
       "      <td>Suramerica2015</td>\n",
       "      <td>2</td>\n",
       "    </tr>\n",
       "    <tr>\n",
       "      <th>4</th>\n",
       "      <td>PPRbMvDIxMQ19TMo</td>\n",
       "      <td>2</td>\n",
       "    </tr>\n",
       "    <tr>\n",
       "      <th>...</th>\n",
       "      <td>...</td>\n",
       "      <td>...</td>\n",
       "    </tr>\n",
       "    <tr>\n",
       "      <th>99995</th>\n",
       "      <td>aulona044</td>\n",
       "      <td>1</td>\n",
       "    </tr>\n",
       "    <tr>\n",
       "      <th>99996</th>\n",
       "      <td>5201314ding</td>\n",
       "      <td>1</td>\n",
       "    </tr>\n",
       "    <tr>\n",
       "      <th>99997</th>\n",
       "      <td>isaac19725</td>\n",
       "      <td>1</td>\n",
       "    </tr>\n",
       "    <tr>\n",
       "      <th>99998</th>\n",
       "      <td>toji25</td>\n",
       "      <td>0</td>\n",
       "    </tr>\n",
       "    <tr>\n",
       "      <th>99999</th>\n",
       "      <td>midnight000</td>\n",
       "      <td>1</td>\n",
       "    </tr>\n",
       "  </tbody>\n",
       "</table>\n",
       "<p>100000 rows × 2 columns</p>\n",
       "</div>"
      ],
      "text/plain": [
       "               password  strength\n",
       "0            yrtzuab476         1\n",
       "1      yEdnN9jc1NgzkkBP         2\n",
       "2              sarita99         1\n",
       "3        Suramerica2015         2\n",
       "4      PPRbMvDIxMQ19TMo         2\n",
       "...                 ...       ...\n",
       "99995         aulona044         1\n",
       "99996       5201314ding         1\n",
       "99997        isaac19725         1\n",
       "99998            toji25         0\n",
       "99999       midnight000         1\n",
       "\n",
       "[100000 rows x 2 columns]"
      ]
     },
     "execution_count": 2,
     "metadata": {},
     "output_type": "execute_result"
    }
   ],
   "source": [
    "df = pd.read_csv('data/passwords.csv')\n",
    "df"
   ]
  },
  {
   "cell_type": "code",
   "execution_count": 3,
   "id": "0413851e",
   "metadata": {},
   "outputs": [
    {
     "name": "stdout",
     "output_type": "stream",
     "text": [
      "           password  strength\n",
      "0        yrtzuab476         1\n",
      "1  yEdnN9jc1NgzkkBP         2\n",
      "2          sarita99         1\n",
      "3    Suramerica2015         2\n",
      "4  PPRbMvDIxMQ19TMo         2\n",
      "1    74278\n",
      "0    13428\n",
      "2    12294\n",
      "Name: strength, dtype: int64\n"
     ]
    },
    {
     "data": {
      "image/png": "[encoded data removed]",
      "text/plain": [
       "<Figure size 1000x600 with 1 Axes>"
      ]
     },
     "metadata": {},
     "output_type": "display_data"
    }
   ],
   "source": [
    "print(df.head())\n",
    "print(df['strength'].value_counts())\n",
    "\n",
    "\n",
    "# Визуализация распределения качества паролей\n",
    "plt.figure(figsize=(10, 6))\n",
    "df['strength'].value_counts().plot(kind='bar')\n",
    "plt.title('Распределение качества паролей')\n",
    "plt.xlabel('Качество')\n",
    "plt.ylabel('Количество')\n",
    "plt.show()"
   ]
  },
  {
   "cell_type": "code",
   "execution_count": 4,
   "id": "9f01bd32",
   "metadata": {},
   "outputs": [],
   "source": [
    "# Разделение данных\n",
    "X = df['password']\n",
    "y = df['strength']\n",
    "\n",
    "X_train, X_test, y_train, y_test = train_test_split(X, y, test_size=0.2, random_state=42, stratify=y)\n",
    "\n",
    "# Преобразование паролей в числовое представление с использованием TF-IDF\n",
    "vectorizer = TfidfVectorizer(analyzer='char', ngram_range=(1,3))\n",
    "X_train_tfidf = vectorizer.fit_transform(X_train)\n",
    "X_test_tfidf = vectorizer.transform(X_test)"
   ]
  },
  {
   "cell_type": "code",
   "execution_count": 5,
   "id": "2a87c733",
   "metadata": {},
   "outputs": [
    {
     "name": "stdout",
     "output_type": "stream",
     "text": [
      "Accuracy: 0.8578\n",
      "F1 Score:\n",
      "               precision    recall  f1-score   support\n",
      "\n",
      "           0       0.78      0.29      0.43      2686\n",
      "           1       0.85      0.98      0.91     14855\n",
      "           2       0.96      0.73      0.83      2459\n",
      "\n",
      "    accuracy                           0.86     20000\n",
      "   macro avg       0.86      0.67      0.72     20000\n",
      "weighted avg       0.85      0.86      0.84     20000\n",
      "\n",
      "Confusion Matrix:\n",
      " [[  785  1887    14]\n",
      " [  217 14567    71]\n",
      " [    2   653  1804]]\n"
     ]
    }
   ],
   "source": [
    "# Обучение модели логистической регрессии\n",
    "logreg = LogisticRegression(max_iter=1000, random_state=42)\n",
    "logreg.fit(X_train_tfidf, y_train)\n",
    "\n",
    "# Предсказание на тестовых данных\n",
    "y_pred = logreg.predict(X_test_tfidf)\n",
    "\n",
    "# Оценка модели\n",
    "print(\"Accuracy:\", accuracy_score(y_test, y_pred))\n",
    "print(\"F1 Score:\\n\", classification_report(y_test, y_pred))\n",
    "print(\"Confusion Matrix:\\n\", confusion_matrix(y_test, y_pred))"
   ]
  },
  {
   "cell_type": "code",
   "execution_count": 5,
   "id": "9ce36f65",
   "metadata": {},
   "outputs": [
    {
     "name": "stdout",
     "output_type": "stream",
     "text": [
      "Accuracy: 0.90225\n",
      "F1 Score:\n",
      "               precision    recall  f1-score   support\n",
      "\n",
      "           0       0.89      0.55      0.68      2686\n",
      "           1       0.89      0.99      0.94     14855\n",
      "           2       0.99      0.78      0.87      2459\n",
      "\n",
      "    accuracy                           0.90     20000\n",
      "   macro avg       0.92      0.77      0.83     20000\n",
      "weighted avg       0.90      0.90      0.89     20000\n",
      "\n",
      "Confusion Matrix:\n",
      " [[ 1479  1206     1]\n",
      " [  180 14653    22]\n",
      " [    1   545  1913]]\n"
     ]
    }
   ],
   "source": [
    "# Обучение модели случайного леса\n",
    "rf = RandomForestClassifier(random_state=42)\n",
    "rf.fit(X_train_tfidf, y_train)\n",
    "\n",
    "# Предсказание на тестовых данных\n",
    "y_pred_rf = rf.predict(X_test_tfidf)\n",
    "\n",
    "# Оценка модели\n",
    "print(\"Accuracy:\", accuracy_score(y_test, y_pred_rf))\n",
    "print(\"F1 Score:\\n\", classification_report(y_test, y_pred_rf))\n",
    "print(\"Confusion Matrix:\\n\", confusion_matrix(y_test, y_pred_rf))"
   ]
  },
  {
   "cell_type": "code",
   "execution_count": 6,
   "id": "e6d0140e",
   "metadata": {},
   "outputs": [
    {
     "name": "stdout",
     "output_type": "stream",
     "text": [
      "Accuracy: 0.9589\n",
      "F1 Score:\n",
      "               precision    recall  f1-score   support\n",
      "\n",
      "           0       0.92      0.85      0.89      2686\n",
      "           1       0.96      0.98      0.97     14855\n",
      "           2       0.97      0.93      0.95      2459\n",
      "\n",
      "    accuracy                           0.96     20000\n",
      "   macro avg       0.95      0.92      0.94     20000\n",
      "weighted avg       0.96      0.96      0.96     20000\n",
      "\n",
      "Confusion Matrix:\n",
      " [[ 2286   400     0]\n",
      " [  187 14607    61]\n",
      " [    0   174  2285]]\n"
     ]
    }
   ],
   "source": [
    "# Обучение модели XGBoost\n",
    "xgb_clf = xgb.XGBClassifier(random_state=42)\n",
    "xgb_clf.fit(X_train_tfidf, y_train)\n",
    "\n",
    "# Предсказание на тестовых данных\n",
    "y_pred_xgb = xgb_clf.predict(X_test_tfidf)\n",
    "\n",
    "# Оценка модели\n",
    "print(\"Accuracy:\", accuracy_score(y_test, y_pred_xgb))\n",
    "print(\"F1 Score:\\n\", classification_report(y_test, y_pred_xgb))\n",
    "print(\"Confusion Matrix:\\n\", confusion_matrix(y_test, y_pred_xgb))"
   ]
  },
  {
   "cell_type": "code",
   "execution_count": 10,
   "id": "bf8e722d",
   "metadata": {},
   "outputs": [
    {
     "name": "stdout",
     "output_type": "stream",
     "text": [
      "Accuracy: 0.90135\n",
      "F1 Score:\n",
      "               precision    recall  f1-score   support\n",
      "\n",
      "           0       0.73      0.67      0.70      2686\n",
      "           1       0.92      0.95      0.93     14855\n",
      "           2       0.94      0.89      0.91      2459\n",
      "\n",
      "    accuracy                           0.90     20000\n",
      "   macro avg       0.86      0.83      0.85     20000\n",
      "weighted avg       0.90      0.90      0.90     20000\n",
      "\n",
      "Confusion Matrix:\n",
      " [[ 1798   882     6]\n",
      " [  667 14047   141]\n",
      " [    0   277  2182]]\n"
     ]
    }
   ],
   "source": [
    "# Обучение модели многослойного перцептрона\n",
    "mlp = MLPClassifier(hidden_layer_sizes=(100, 50), max_iter=1000, random_state=42)\n",
    "mlp.fit(X_train_tfidf, y_train)\n",
    "\n",
    "# Предсказание на тестовых данных\n",
    "y_pred_mlp = mlp.predict(X_test_tfidf)\n",
    "\n",
    "# Оценка модели\n",
    "print(\"Accuracy:\", accuracy_score(y_test, y_pred_mlp))\n",
    "print(\"F1 Score:\\n\", classification_report(y_test, y_pred_mlp))\n",
    "print(\"Confusion Matrix:\\n\", confusion_matrix(y_test, y_pred_mlp))"
   ]
  },
  {
   "cell_type": "code",
   "execution_count": 11,
   "id": "945cfd40",
   "metadata": {},
   "outputs": [
    {
     "name": "stdout",
     "output_type": "stream",
     "text": [
      "Accuracy: 0.9027\n",
      "F1 Score:\n",
      "               precision    recall  f1-score   support\n",
      "\n",
      "           0       0.81      0.54      0.65      2686\n",
      "           1       0.90      0.97      0.94     14855\n",
      "           2       0.97      0.87      0.92      2459\n",
      "\n",
      "    accuracy                           0.90     20000\n",
      "   macro avg       0.90      0.79      0.83     20000\n",
      "weighted avg       0.90      0.90      0.90     20000\n",
      "\n",
      "Confusion Matrix:\n",
      " [[ 1439  1241     6]\n",
      " [  330 14464    61]\n",
      " [    1   307  2151]]\n"
     ]
    }
   ],
   "source": [
    "# Обучение модели методом опорных векторов\n",
    "svm = SVC(kernel='linear', random_state=42)\n",
    "svm.fit(X_train_tfidf, y_train)\n",
    "\n",
    "# Предсказание на тестовых данных\n",
    "y_pred_svm = svm.predict(X_test_tfidf)\n",
    "\n",
    "# Оценка модели\n",
    "print(\"Accuracy:\", accuracy_score(y_test, y_pred_svm))\n",
    "print(\"F1 Score:\\n\", classification_report(y_test, y_pred_svm))\n",
    "print(\"Confusion Matrix:\\n\", confusion_matrix(y_test, y_pred_svm))"
   ]
  },
  {
   "cell_type": "code",
   "execution_count": 6,
   "id": "d9c02381",
   "metadata": {},
   "outputs": [
    {
     "name": "stdout",
     "output_type": "stream",
     "text": [
      "Accuracy: 0.6941\n",
      "F1 Score:\n",
      "               precision    recall  f1-score   support\n",
      "\n",
      "           0       0.22      0.30      0.26      2686\n",
      "           1       0.79      0.84      0.82     14855\n",
      "           2       0.95      0.22      0.36      2459\n",
      "\n",
      "    accuracy                           0.69     20000\n",
      "   macro avg       0.66      0.45      0.48     20000\n",
      "weighted avg       0.73      0.69      0.69     20000\n",
      "\n",
      "Confusion Matrix:\n",
      " [[  801  1880     5]\n",
      " [ 2296 12536    23]\n",
      " [  495  1419   545]]\n"
     ]
    }
   ],
   "source": [
    "# Обучение модели методом К-ближайших соседей\n",
    "knn = KNeighborsClassifier(n_neighbors=5)\n",
    "knn.fit(X_train_tfidf, y_train)\n",
    "\n",
    "# Предсказание на тестовых данных\n",
    "y_pred_knn = knn.predict(X_test_tfidf)\n",
    "\n",
    "# Оценка модели\n",
    "print(\"Accuracy:\", accuracy_score(y_test, y_pred_knn))\n",
    "print(\"F1 Score:\\n\", classification_report(y_test, y_pred_knn))\n",
    "print(\"Confusion Matrix:\\n\", confusion_matrix(y_test, y_pred_knn))"
   ]
  },
  {
   "cell_type": "code",
   "execution_count": 5,
   "id": "632b04e4",
   "metadata": {},
   "outputs": [
    {
     "name": "stdout",
     "output_type": "stream",
     "text": [
      "0:\tlearn: 1.0069813\ttotal: 1.91s\tremaining: 31m 48s\n",
      "500:\tlearn: 0.1881336\ttotal: 13m 51s\tremaining: 13m 47s\n",
      "999:\tlearn: 0.1658109\ttotal: 28m 3s\tremaining: 0us\n",
      "Accuracy: 0.93285\n",
      "F1 Score:\n",
      "               precision    recall  f1-score   support\n",
      "\n",
      "           0       0.89      0.71      0.79      2686\n",
      "           1       0.93      0.98      0.96     14855\n",
      "           2       0.96      0.90      0.93      2459\n",
      "\n",
      "    accuracy                           0.93     20000\n",
      "   macro avg       0.93      0.86      0.89     20000\n",
      "weighted avg       0.93      0.93      0.93     20000\n",
      "\n",
      "Confusion Matrix:\n",
      " [[ 1908   778     0]\n",
      " [  214 14546    95]\n",
      " [   13   243  2203]]\n"
     ]
    }
   ],
   "source": [
    "# Обучение модели CatBoost\n",
    "cat_clf = CatBoostClassifier(iterations=1000, learning_rate=0.1, depth=6, verbose=500)\n",
    "cat_clf.fit(X_train_tfidf, y_train)\n",
    "\n",
    "# Предсказание на тестовых данных\n",
    "y_pred_cat = cat_clf.predict(X_test_tfidf)\n",
    "\n",
    "# Оценка модели\n",
    "print(\"Accuracy:\", accuracy_score(y_test, y_pred_cat))\n",
    "print(\"F1 Score:\\n\", classification_report(y_test, y_pred_cat))\n",
    "print(\"Confusion Matrix:\\n\", confusion_matrix(y_test, y_pred_cat))"
   ]
  },
  {
   "cell_type": "code",
   "execution_count": 5,
   "id": "e7df473f",
   "metadata": {},
   "outputs": [
    {
     "name": "stdout",
     "output_type": "stream",
     "text": [
      "[LightGBM] [Info] Total Bins 319311\n",
      "[LightGBM] [Info] Number of data points in the train set: 80000, number of used features: 8057\n",
      "[LightGBM] [Info] Start training from score -2.007865\n",
      "[LightGBM] [Info] Start training from score -0.297345\n",
      "[LightGBM] [Info] Start training from score -2.096079\n",
      "Accuracy: 0.97605\n",
      "F1 Score:\n",
      "               precision    recall  f1-score   support\n",
      "\n",
      "           0       0.95      0.94      0.94      2686\n",
      "           1       0.98      0.99      0.98     14855\n",
      "           2       0.99      0.94      0.96      2459\n",
      "\n",
      "    accuracy                           0.98     20000\n",
      "   macro avg       0.97      0.96      0.96     20000\n",
      "weighted avg       0.98      0.98      0.98     20000\n",
      "\n",
      "Confusion Matrix:\n",
      " [[ 2514   172     0]\n",
      " [  136 14689    30]\n",
      " [    1   140  2318]]\n"
     ]
    }
   ],
   "source": [
    "# Обучение модели LightGBM\n",
    "lgb_clf = lgb.LGBMClassifier(boosting_type='gbdt', objective='multiclass', num_class=3, metric='multi_logloss', learning_rate=0.1, n_estimators=1000, force_col_wise=True, )\n",
    "lgb_clf.fit(X_train_tfidf, y_train)\n",
    "\n",
    "# Предсказание на тестовых данных\n",
    "y_pred_lgb = lgb_clf.predict(X_test_tfidf)\n",
    "\n",
    "# Оценка модели\n",
    "print(\"Accuracy:\", accuracy_score(y_test, y_pred_lgb))\n",
    "print(\"F1 Score:\\n\", classification_report(y_test, y_pred_lgb))\n",
    "print(\"Confusion Matrix:\\n\", confusion_matrix(y_test, y_pred_lgb))"
   ]
  },
  {
   "cell_type": "markdown",
   "id": "69dd91c6",
   "metadata": {},
   "source": [
    "<h1>Обоснование преобразования данных:</h1><br>\n",
    "<b>TF-IDF Векторизация:</b><br>\n",
    "<ul>\n",
    "    <li>Используется для преобразования текстовых данных (паролей) в числовое представление.</li>\n",
    "    <li>TfidfVectorizer с параметрами analyzer='char' и ngram_range=(1,3) означает, что мы рассматриваем символы в качестве основных единиц (а не слова), и мы учитываем отдельные символы, биграммы и триграммы. Это помогает улавливать паттерны и зависимости между символами в паролях.</li>\n",
    "</ul>\n",
    "\n",
    "\n",
    "<h1>Выбор метода:</h1><br>\n",
    "<b>LightGBM</b><br>\n",
    "<ul>\n",
    "    <li>LightGBM является алгоритмом градиентного бустинга, разработанным Microsoft, который оптимизирован для больших наборов данных и высокой производительности.</li>\n",
    "    <li>В отличие от традиционных алгоритмов градиентного бустинга, LightGBM использует стратегию обучения на основе листьев (Leaf-wise) вместо стратегии уровня (Level-wise). Это позволяет модели лучше адаптироваться к данным, что, как правило, приводит к лучшей производительности.</li>\n",
    "    <li>LightGBM эффективно работает с разреженными данными, такими как TF-IDF, и может обрабатывать категориальные признаки напрямую, без необходимости в предварительной кодировке.</li>\n",
    "    <li>Поддерживает многоклассовую классификацию и обладает встроенными механизмами для обработки несбалансированных данных.</li>\n",
    "    <li>Быстрее многих других алгоритмов градиентного бустинга, таких как XGBoost, благодаря оптимизациям и параллелизации.</li>\n",
    "    <li>Имеет множество параметров для тонкой настройки, что предоставляет большую гибкость исследователям и позволяет уменьшить риск переобучения.</li>\n",
    "</ul>\n",
    "\n",
    "<h1>Метрики для оценки результата предсказания модели:</h1>\n",
    "<ul>\n",
    "    <li><b>Accuracy:</b> Это простая метрика, которая показывает долю правильно классифицированных примеров относительно общего числа примеров. Хорошо подходит для начальной оценки, но не всегда является лучшим показателем для несбалансированных классов.</li>\n",
    "    <li><b>Precision:</b> Показывает, какая доля из предсказанных позитивных примеров действительно является позитивными.</li>\n",
    "    <li><b>Recall (чувствительность):</b> Показывает, какая доля из реальных позитивных примеров была предсказана как позитивная.</li>\n",
    "    <li><b>F1-score:</b> Гармоническое среднее между Precision и Recall, которое предоставляет компромисс между этими двумя метриками. F1-score особенно полезен, когда распределение классов несбалансировано.</li>\n",
    "    <li><b>Confusion Matrix:</b> Предоставляет матрицу ошибок, показывающую, какие классы были правильно или неправильно классифицированы.Это может помочь в дальнейших итерациях улучшить производительность модели.</li>\n",
    "</ul>"
   ]
  },
  {
   "cell_type": "markdown",
   "id": "f1775b13",
   "metadata": {},
   "source": [
    "На основе данных, которые дала модель LightGBM\n",
    "\n",
    "<b>Accuracy:</b> 0.97605 или 97.605%\n",
    "\n",
    "<b>Precision (Точность):</b><br>\n",
    "Для класса 0 (слабый): 0.95 или 95%<br>\n",
    "Для класса 1 (средний): 0.98 или 98%<br>\n",
    "Для класса 2 (сильный): 0.99 или 99%<br>\n",
    "\n",
    "<b>Recall (Чувствительность):</b><br>\n",
    "Для класса 0 (слабый): 0.94 или 94%<br>\n",
    "Для класса 1 (средний): 0.99 или 99%<br>\n",
    "Для класса 2 (сильный): 0.94 или 94%<br>\n",
    "\n",
    "<b>F1-score:</b><br>\n",
    "Для класса 0 (слабый): 0.94 или 94%<br>\n",
    "Для класса 1 (средний): 0.98 или 98%<br>\n",
    "Для класса 2 (сильный): 0.96 или 96%<br>\n",
    "\n",
    "<b>Confusion Matrix (Матрица ошибок):</b><br>\n",
    "Класс 0 (слабый): 2514 правильно классифицированных, 172 неправильно классифицированы как средние, 0 неправильно классифицированы как сильные.<br>\n",
    "Класс 1 (средний): 14689 правильно классифицированных, 136 неправильно классифицированы как слабые, 30 неправильно классифицированы как сильные.<br>\n",
    "Класс 2 (сильный): 2318 правильно классифицированных, 1 неправильно классифицированы как слабые, 140 неправильно классифицированы как средние.<br>\n",
    "<br>\n",
    "Эти показатели подтверждают, что модель LightGBM очень эффективно справляется с классификацией паролей на предоставленном датасете, особенно для средних и сильных паролей. Слабый класс паролей также демонстрирует высокую степень точности, но имеется небольшая доля ошибок при классификации их как средних.\n",
    "\n",
    "В заключение, учитывая такую высокую степень точности и другие ключевые метрики классификации, можно утверждать, что использованный подход и модель являются оптимальными для решения данной задачи."
   ]
  },
  {
   "cell_type": "code",
   "execution_count": null,
   "id": "b68d5da4",
   "metadata": {},
   "outputs": [],
   "source": [
    "def predict_password_strength():\n",
    "    \n",
    "    password = input(\"Введите пароль для проверки: \")\n",
    "    \n",
    "    # Преобразование пароля с помощью ранее обученного TF-IDF векторизатора\n",
    "    password_tfidf = vectorizer.transform([password])\n",
    "    \n",
    "    # Предсказание с помощью модели\n",
    "    strength = lgb_clf.predict(password_tfidf)[0]\n",
    "    \n",
    "    strength_mapping = {0: 'слабый', 1: 'средний', 2: 'сильный'}\n",
    "    return strength_mapping[strength]\n",
    "\n",
    "# Пример использования:\n",
    "print(predict_password_strength())"
   ]
  }
 ],
 "metadata": {
  "kernelspec": {
   "display_name": "Python 3 (ipykernel)",
   "language": "python",
   "name": "python3"
  },
  "language_info": {
   "codemirror_mode": {
    "name": "ipython",
    "version": 3
   },
   "file_extension": ".py",
   "mimetype": "text/x-python",
   "name": "python",
   "nbconvert_exporter": "python",
   "pygments_lexer": "ipython3",
   "version": "3.10.9"
  }
 },
 "nbformat": 4,
 "nbformat_minor": 5
}
